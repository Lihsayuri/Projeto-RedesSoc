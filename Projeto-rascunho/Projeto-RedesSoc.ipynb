{
 "cells": [
  {
   "cell_type": "markdown",
   "id": "e8eb148b",
   "metadata": {},
   "source": [
    "# Projeto de Redes Sociais\n",
    "\n",
    "Alunos: \n",
    "\n",
    "- Lívia Makuta;\n",
    "- Henrique Frezzatti;\n",
    "- Rodrigo Guimarães.\n",
    "\n"
   ]
  },
  {
   "cell_type": "code",
   "execution_count": 1,
   "id": "687bb168",
   "metadata": {},
   "outputs": [],
   "source": [
    "import pandas as pd"
   ]
  },
  {
   "cell_type": "code",
   "execution_count": 2,
   "id": "df65f66c",
   "metadata": {},
   "outputs": [
    {
     "name": "stderr",
     "output_type": "stream",
     "text": [
      "/tmp/ipykernel_141/2308096154.py:3: DtypeWarning: Columns (4,5,6,7,8,9,10,11,12,13) have mixed types. Specify dtype option on import or set low_memory=False.\n",
      "  df = pd.read_csv('./asylum_seekers.csv')\n"
     ]
    }
   ],
   "source": [
    "##\n",
    "file = open('./asylum_seekers.csv', 'r')\n",
    "df = pd.read_csv('./asylum_seekers.csv')\n",
    "\n",
    "linhas = file.readlines()"
   ]
  },
  {
   "cell_type": "code",
   "execution_count": 3,
   "id": "c6f70aed",
   "metadata": {},
   "outputs": [
    {
     "data": {
      "text/html": [
       "<div>\n",
       "<style scoped>\n",
       "    .dataframe tbody tr th:only-of-type {\n",
       "        vertical-align: middle;\n",
       "    }\n",
       "\n",
       "    .dataframe tbody tr th {\n",
       "        vertical-align: top;\n",
       "    }\n",
       "\n",
       "    .dataframe thead th {\n",
       "        text-align: right;\n",
       "    }\n",
       "</style>\n",
       "<table border=\"1\" class=\"dataframe\">\n",
       "  <thead>\n",
       "    <tr style=\"text-align: right;\">\n",
       "      <th></th>\n",
       "      <th>Year</th>\n",
       "      <th>Country / territory of asylum/residence</th>\n",
       "      <th>Origin</th>\n",
       "      <th>RSD procedure type / level</th>\n",
       "      <th>Tota pending start-year</th>\n",
       "      <th>of which UNHCR-assisted(start-year)</th>\n",
       "      <th>Applied during year</th>\n",
       "      <th>decisions_recognized</th>\n",
       "      <th>decisions_other</th>\n",
       "      <th>Rejected</th>\n",
       "      <th>Otherwise closed</th>\n",
       "      <th>Total decisions</th>\n",
       "      <th>Total pending end-year</th>\n",
       "      <th>of which UNHCR-assisted(end-year)</th>\n",
       "    </tr>\n",
       "  </thead>\n",
       "  <tbody>\n",
       "    <tr>\n",
       "      <th>0</th>\n",
       "      <td>2000</td>\n",
       "      <td>Zimbabwe</td>\n",
       "      <td>Afghanistan</td>\n",
       "      <td>G / FI</td>\n",
       "      <td>0</td>\n",
       "      <td>0</td>\n",
       "      <td>5</td>\n",
       "      <td>5</td>\n",
       "      <td>0</td>\n",
       "      <td>0</td>\n",
       "      <td>0</td>\n",
       "      <td>5.0</td>\n",
       "      <td>0</td>\n",
       "      <td>0</td>\n",
       "    </tr>\n",
       "    <tr>\n",
       "      <th>1</th>\n",
       "      <td>2000</td>\n",
       "      <td>South Africa</td>\n",
       "      <td>Afghanistan</td>\n",
       "      <td>G / FI</td>\n",
       "      <td>8</td>\n",
       "      <td>1</td>\n",
       "      <td>0</td>\n",
       "      <td>0</td>\n",
       "      <td>0</td>\n",
       "      <td>0</td>\n",
       "      <td>0</td>\n",
       "      <td>NaN</td>\n",
       "      <td>8</td>\n",
       "      <td>0</td>\n",
       "    </tr>\n",
       "    <tr>\n",
       "      <th>2</th>\n",
       "      <td>2000</td>\n",
       "      <td>Uzbekistan</td>\n",
       "      <td>Afghanistan</td>\n",
       "      <td>U / FI</td>\n",
       "      <td>265</td>\n",
       "      <td>265</td>\n",
       "      <td>2156</td>\n",
       "      <td>747</td>\n",
       "      <td>0</td>\n",
       "      <td>112</td>\n",
       "      <td>327</td>\n",
       "      <td>1186.0</td>\n",
       "      <td>1235</td>\n",
       "      <td>1235</td>\n",
       "    </tr>\n",
       "    <tr>\n",
       "      <th>3</th>\n",
       "      <td>2000</td>\n",
       "      <td>United States of America</td>\n",
       "      <td>Afghanistan</td>\n",
       "      <td>G / EO</td>\n",
       "      <td>196</td>\n",
       "      <td>0</td>\n",
       "      <td>225</td>\n",
       "      <td>151</td>\n",
       "      <td>0</td>\n",
       "      <td>31</td>\n",
       "      <td>68</td>\n",
       "      <td>250.0</td>\n",
       "      <td>171</td>\n",
       "      <td>0</td>\n",
       "    </tr>\n",
       "    <tr>\n",
       "      <th>4</th>\n",
       "      <td>2000</td>\n",
       "      <td>United States of America</td>\n",
       "      <td>Afghanistan</td>\n",
       "      <td>G / IN</td>\n",
       "      <td>193</td>\n",
       "      <td>0</td>\n",
       "      <td>218</td>\n",
       "      <td>182</td>\n",
       "      <td>0</td>\n",
       "      <td>51</td>\n",
       "      <td>40</td>\n",
       "      <td>273.0</td>\n",
       "      <td>150</td>\n",
       "      <td>0</td>\n",
       "    </tr>\n",
       "    <tr>\n",
       "      <th>...</th>\n",
       "      <td>...</td>\n",
       "      <td>...</td>\n",
       "      <td>...</td>\n",
       "      <td>...</td>\n",
       "      <td>...</td>\n",
       "      <td>...</td>\n",
       "      <td>...</td>\n",
       "      <td>...</td>\n",
       "      <td>...</td>\n",
       "      <td>...</td>\n",
       "      <td>...</td>\n",
       "      <td>...</td>\n",
       "      <td>...</td>\n",
       "      <td>...</td>\n",
       "    </tr>\n",
       "    <tr>\n",
       "      <th>129715</th>\n",
       "      <td>2016</td>\n",
       "      <td>United States of America</td>\n",
       "      <td>Zimbabwe</td>\n",
       "      <td>G / IN</td>\n",
       "      <td>232</td>\n",
       "      <td>NaN</td>\n",
       "      <td>229</td>\n",
       "      <td>16</td>\n",
       "      <td>NaN</td>\n",
       "      <td>*</td>\n",
       "      <td>10</td>\n",
       "      <td>28</td>\n",
       "      <td>435</td>\n",
       "      <td>NaN</td>\n",
       "    </tr>\n",
       "    <tr>\n",
       "      <th>129716</th>\n",
       "      <td>2016</td>\n",
       "      <td>United States of America</td>\n",
       "      <td>Zimbabwe</td>\n",
       "      <td>G / EO</td>\n",
       "      <td>142</td>\n",
       "      <td>NaN</td>\n",
       "      <td>12</td>\n",
       "      <td>*</td>\n",
       "      <td>NaN</td>\n",
       "      <td>*</td>\n",
       "      <td>23</td>\n",
       "      <td>31</td>\n",
       "      <td>138</td>\n",
       "      <td>NaN</td>\n",
       "    </tr>\n",
       "    <tr>\n",
       "      <th>129717</th>\n",
       "      <td>2016</td>\n",
       "      <td>South Africa</td>\n",
       "      <td>Zimbabwe</td>\n",
       "      <td>G / AR</td>\n",
       "      <td>94</td>\n",
       "      <td>9</td>\n",
       "      <td>NaN</td>\n",
       "      <td>NaN</td>\n",
       "      <td>NaN</td>\n",
       "      <td>NaN</td>\n",
       "      <td>94</td>\n",
       "      <td>94</td>\n",
       "      <td>0</td>\n",
       "      <td>NaN</td>\n",
       "    </tr>\n",
       "    <tr>\n",
       "      <th>129718</th>\n",
       "      <td>2016</td>\n",
       "      <td>South Africa</td>\n",
       "      <td>Zimbabwe</td>\n",
       "      <td>G / FI</td>\n",
       "      <td>41238</td>\n",
       "      <td>4124</td>\n",
       "      <td>7964</td>\n",
       "      <td>73</td>\n",
       "      <td>NaN</td>\n",
       "      <td>7869</td>\n",
       "      <td>NaN</td>\n",
       "      <td>7942</td>\n",
       "      <td>41260</td>\n",
       "      <td>NaN</td>\n",
       "    </tr>\n",
       "    <tr>\n",
       "      <th>129719</th>\n",
       "      <td>2016</td>\n",
       "      <td>Zambia</td>\n",
       "      <td>Zimbabwe</td>\n",
       "      <td>G / FI</td>\n",
       "      <td>*</td>\n",
       "      <td>*</td>\n",
       "      <td>*</td>\n",
       "      <td>0</td>\n",
       "      <td>NaN</td>\n",
       "      <td>*</td>\n",
       "      <td>*</td>\n",
       "      <td>*</td>\n",
       "      <td>*</td>\n",
       "      <td>*</td>\n",
       "    </tr>\n",
       "  </tbody>\n",
       "</table>\n",
       "<p>129720 rows × 14 columns</p>\n",
       "</div>"
      ],
      "text/plain": [
       "        Year Country / territory of asylum/residence       Origin  \\\n",
       "0       2000                                Zimbabwe  Afghanistan   \n",
       "1       2000                            South Africa  Afghanistan   \n",
       "2       2000                              Uzbekistan  Afghanistan   \n",
       "3       2000                United States of America  Afghanistan   \n",
       "4       2000                United States of America  Afghanistan   \n",
       "...      ...                                     ...          ...   \n",
       "129715  2016                United States of America     Zimbabwe   \n",
       "129716  2016                United States of America     Zimbabwe   \n",
       "129717  2016                            South Africa     Zimbabwe   \n",
       "129718  2016                            South Africa     Zimbabwe   \n",
       "129719  2016                                  Zambia     Zimbabwe   \n",
       "\n",
       "       RSD procedure type / level Tota pending start-year  \\\n",
       "0                          G / FI                       0   \n",
       "1                          G / FI                       8   \n",
       "2                          U / FI                     265   \n",
       "3                          G / EO                     196   \n",
       "4                          G / IN                     193   \n",
       "...                           ...                     ...   \n",
       "129715                     G / IN                     232   \n",
       "129716                     G / EO                     142   \n",
       "129717                     G / AR                      94   \n",
       "129718                     G / FI                   41238   \n",
       "129719                     G / FI                       *   \n",
       "\n",
       "       of which UNHCR-assisted(start-year) Applied during year  \\\n",
       "0                                        0                   5   \n",
       "1                                        1                   0   \n",
       "2                                      265                2156   \n",
       "3                                        0                 225   \n",
       "4                                        0                 218   \n",
       "...                                    ...                 ...   \n",
       "129715                                 NaN                 229   \n",
       "129716                                 NaN                  12   \n",
       "129717                                   9                 NaN   \n",
       "129718                                4124                7964   \n",
       "129719                                   *                   *   \n",
       "\n",
       "       decisions_recognized decisions_other Rejected Otherwise closed  \\\n",
       "0                         5               0        0                0   \n",
       "1                         0               0        0                0   \n",
       "2                       747               0      112              327   \n",
       "3                       151               0       31               68   \n",
       "4                       182               0       51               40   \n",
       "...                     ...             ...      ...              ...   \n",
       "129715                   16             NaN        *               10   \n",
       "129716                    *             NaN        *               23   \n",
       "129717                  NaN             NaN      NaN               94   \n",
       "129718                   73             NaN     7869              NaN   \n",
       "129719                    0             NaN        *                *   \n",
       "\n",
       "       Total decisions Total pending end-year  \\\n",
       "0                  5.0                      0   \n",
       "1                  NaN                      8   \n",
       "2               1186.0                   1235   \n",
       "3                250.0                    171   \n",
       "4                273.0                    150   \n",
       "...                ...                    ...   \n",
       "129715              28                    435   \n",
       "129716              31                    138   \n",
       "129717              94                      0   \n",
       "129718            7942                  41260   \n",
       "129719               *                      *   \n",
       "\n",
       "       of which UNHCR-assisted(end-year)  \n",
       "0                                      0  \n",
       "1                                      0  \n",
       "2                                   1235  \n",
       "3                                      0  \n",
       "4                                      0  \n",
       "...                                  ...  \n",
       "129715                               NaN  \n",
       "129716                               NaN  \n",
       "129717                               NaN  \n",
       "129718                               NaN  \n",
       "129719                                 *  \n",
       "\n",
       "[129720 rows x 14 columns]"
      ]
     },
     "execution_count": 3,
     "metadata": {},
     "output_type": "execute_result"
    }
   ],
   "source": [
    "df"
   ]
  },
  {
   "cell_type": "code",
   "execution_count": 4,
   "id": "601595ce",
   "metadata": {},
   "outputs": [
    {
     "name": "stdout",
     "output_type": "stream",
     "text": [
      "A linha inicial possui apenas os títulos das colunas: ['Year', 'Country / territory of asylum/residence', 'Origin', 'RSD procedure type / level', 'Tota pending start-year', 'of which UNHCR-assisted(start-year)', 'Applied during year', 'decisions_recognized', 'decisions_other', 'Rejected', 'Otherwise closed', 'Total decisions', 'Total pending end-year', 'of which UNHCR-assisted(end-year)']\n"
     ]
    }
   ],
   "source": [
    "listaVertices = []\n",
    "\n",
    "contador = 0\n",
    "for linha in linhas:\n",
    "    vertice = linha.strip().split(',')\n",
    "    if contador == 0:\n",
    "        print(f'A linha inicial possui apenas os títulos das colunas: {vertice}')\n",
    "    else:\n",
    "        #print(\"Id do vértice: \", vertice[1], vertice[2]) # [print de debug]\n",
    "        if vertice[1] not in listaVertices:\n",
    "            listaVertices.append(vertice[1])\n",
    "        if vertice[2] not in listaVertices:\n",
    "            listaVertices.append(vertice[2])\n",
    "        #g.add_vertex(vertice[len(vertice)-1])\n",
    "    contador +=1 "
   ]
  },
  {
   "cell_type": "code",
   "execution_count": 5,
   "id": "179038c9",
   "metadata": {},
   "outputs": [
    {
     "data": {
      "text/plain": [
       "['Zimbabwe',\n",
       " 'Afghanistan',\n",
       " 'South Africa',\n",
       " 'Uzbekistan',\n",
       " 'United States of America',\n",
       " 'Ukraine',\n",
       " 'Turkey',\n",
       " 'Turkmenistan',\n",
       " 'Tajikistan',\n",
       " 'Thailand',\n",
       " 'Syrian Arab Rep.',\n",
       " 'Sweden',\n",
       " 'Slovenia',\n",
       " 'Slovakia',\n",
       " 'Serbia and Kosovo (S/RES/1244 (1999))',\n",
       " 'Russian Federation',\n",
       " 'Romania',\n",
       " 'Portugal',\n",
       " 'Poland',\n",
       " 'Nepal',\n",
       " 'Norway',\n",
       " 'Netherlands',\n",
       " 'Malaysia',\n",
       " 'Mozambique',\n",
       " 'The former Yugoslav Republic of Macedonia',\n",
       " 'Mexico',\n",
       " 'Rep. of Moldova',\n",
       " 'Luxembourg',\n",
       " 'Lithuania',\n",
       " 'Sri Lanka',\n",
       " 'Lebanon',\n",
       " 'Kuwait',\n",
       " 'Cambodia',\n",
       " 'Kyrgyzstan',\n",
       " 'Kenya',\n",
       " 'Kazakhstan',\n",
       " 'Japan',\n",
       " 'Jordan',\n",
       " 'Italy',\n",
       " 'Iceland',\n",
       " 'Iran (Islamic Rep. of)',\n",
       " 'Ireland',\n",
       " 'India',\n",
       " 'Indonesia',\n",
       " 'Hungary',\n",
       " 'Croatia',\n",
       " '\"China',\n",
       " ' Hong Kong SAR\"',\n",
       " 'Greece',\n",
       " 'United Kingdom',\n",
       " 'France',\n",
       " 'Finland',\n",
       " 'Ethiopia',\n",
       " 'Estonia',\n",
       " 'Spain',\n",
       " 'Egypt',\n",
       " 'Denmark',\n",
       " 'Germany',\n",
       " 'Czech Rep.',\n",
       " 'Cyprus',\n",
       " 'Cuba',\n",
       " 'China',\n",
       " 'Switzerland',\n",
       " 'Canada',\n",
       " 'Belarus',\n",
       " 'Bosnia and Herzegovina',\n",
       " 'Bulgaria',\n",
       " 'Bangladesh',\n",
       " 'Belgium',\n",
       " 'Azerbaijan',\n",
       " 'Austria',\n",
       " 'Australia',\n",
       " 'Argentina',\n",
       " 'United Arab Emirates',\n",
       " 'Albania',\n",
       " 'Angola',\n",
       " 'Zambia',\n",
       " 'Somalia',\n",
       " 'Senegal',\n",
       " 'Rwanda',\n",
       " 'Panama',\n",
       " 'Nigeria',\n",
       " 'Malta',\n",
       " 'Ghana',\n",
       " 'Gabon',\n",
       " 'Congo',\n",
       " 'Dem. Rep. of the Congo',\n",
       " 'Chile',\n",
       " 'Central African Rep.',\n",
       " 'Botswana',\n",
       " 'Brazil',\n",
       " 'Benin',\n",
       " 'Andorra',\n",
       " 'Bolivia (Plurinational State of)',\n",
       " 'Armenia',\n",
       " 'Israel',\n",
       " 'Antigua and Barbuda',\n",
       " 'Pakistan',\n",
       " 'Burundi',\n",
       " 'Yemen',\n",
       " 'Uganda',\n",
       " 'Togo',\n",
       " 'Niger',\n",
       " 'Namibia',\n",
       " 'Malawi',\n",
       " 'Mali',\n",
       " 'Guinea',\n",
       " 'Algeria',\n",
       " 'Cameroon',\n",
       " \"Côte d'Ivoire\",\n",
       " 'Burkina Faso',\n",
       " 'Libya',\n",
       " 'Bahrain',\n",
       " 'Bahamas',\n",
       " 'Peru',\n",
       " 'Latvia',\n",
       " 'Belize',\n",
       " 'Barbados',\n",
       " 'Brunei Darussalam',\n",
       " 'Bhutan',\n",
       " 'El Salvador',\n",
       " 'Singapore',\n",
       " 'Morocco',\n",
       " 'Rep. of Korea',\n",
       " 'Ecuador',\n",
       " 'Tunisia',\n",
       " 'Chad',\n",
       " 'Mauritania',\n",
       " 'Liberia',\n",
       " 'Djibouti',\n",
       " 'Jamaica',\n",
       " 'Gambia',\n",
       " 'Venezuela (Bolivarian Republic of)',\n",
       " 'Colombia',\n",
       " 'Uruguay',\n",
       " 'Paraguay',\n",
       " 'Nicaragua',\n",
       " 'Honduras',\n",
       " 'Guatemala',\n",
       " 'Costa Rica',\n",
       " 'Comoros',\n",
       " 'Cabo Verde',\n",
       " 'Dominican Rep.',\n",
       " 'Dominica',\n",
       " 'Eritrea',\n",
       " 'Sudan',\n",
       " 'Western Sahara',\n",
       " 'United Rep. of Tanzania',\n",
       " 'Saudi Arabia',\n",
       " 'Philippines',\n",
       " 'Fiji',\n",
       " 'Georgia',\n",
       " 'Gibraltar',\n",
       " 'Guinea-Bissau',\n",
       " 'Equatorial Guinea',\n",
       " 'Sierra Leone',\n",
       " 'Grenada',\n",
       " 'Guyana',\n",
       " 'Haiti',\n",
       " 'Timor-Leste',\n",
       " 'Iraq',\n",
       " 'Qatar',\n",
       " 'Oman',\n",
       " 'Kiribati',\n",
       " 'Saint Kitts and Nevis',\n",
       " \"Lao People's Dem. Rep.\",\n",
       " 'Saint Lucia',\n",
       " 'Lesotho',\n",
       " 'Madagascar',\n",
       " 'Maldives',\n",
       " 'Myanmar',\n",
       " 'Mongolia',\n",
       " 'Mauritius',\n",
       " 'New Zealand',\n",
       " 'Palau',\n",
       " 'Papua New Guinea',\n",
       " \"Dem. People's Rep. of Korea\",\n",
       " 'Palestinian',\n",
       " 'Solomon Islands',\n",
       " 'San Marino',\n",
       " 'Liechtenstein',\n",
       " 'Sao Tome and Principe',\n",
       " 'Suriname',\n",
       " 'Swaziland',\n",
       " 'Seychelles',\n",
       " 'Tonga',\n",
       " 'Trinidad and Tobago',\n",
       " 'Tuvalu',\n",
       " 'Saint Vincent and the Grenadines',\n",
       " 'Viet Nam',\n",
       " 'Vanuatu',\n",
       " 'Samoa',\n",
       " 'Stateless',\n",
       " 'Various/Unknown',\n",
       " 'Nauru',\n",
       " 'Tibetan',\n",
       " 'Bermuda',\n",
       " 'Cayman Islands',\n",
       " 'Micronesia (Federated States of)',\n",
       " 'Monaco',\n",
       " 'Marshall Islands',\n",
       " 'Niue',\n",
       " 'Turks and Caicos Islands',\n",
       " 'Puerto Rico',\n",
       " 'French Polynesia',\n",
       " 'New Caledonia',\n",
       " 'Holy See (the)',\n",
       " 'Montenegro',\n",
       " 'French Guiana',\n",
       " ' Macao SAR\"',\n",
       " 'Cook Islands',\n",
       " 'British Virgin Islands',\n",
       " 'Aruba',\n",
       " 'Curaçao',\n",
       " 'Bonaire',\n",
       " 'Sint Maarten (Dutch part)',\n",
       " 'Montserrat',\n",
       " 'South Sudan',\n",
       " 'Guadeloupe',\n",
       " 'Saint-Pierre-et-Miquelon',\n",
       " 'Wallis and Futuna Islands ',\n",
       " 'Martinique',\n",
       " 'Svalbard and Jan Mayen',\n",
       " 'Anguilla',\n",
       " 'American Samoa',\n",
       " 'Norfolk Island']"
      ]
     },
     "execution_count": 5,
     "metadata": {},
     "output_type": "execute_result"
    }
   ],
   "source": [
    "listaVertices"
   ]
  },
  {
   "cell_type": "code",
   "execution_count": 36,
   "id": "45815e19",
   "metadata": {},
   "outputs": [
    {
     "data": {
      "text/plain": [
       "226"
      ]
     },
     "execution_count": 36,
     "metadata": {},
     "output_type": "execute_result"
    }
   ],
   "source": [
    "len(listaVertices)"
   ]
  },
  {
   "cell_type": "code",
   "execution_count": 6,
   "id": "89975707",
   "metadata": {},
   "outputs": [
    {
     "data": {
      "text/html": [
       "\n",
       "    <script src=\"/files/netpixi.min.js\"></script>\n"
      ],
      "text/plain": [
       "<IPython.core.display.HTML object>"
      ]
     },
     "metadata": {},
     "output_type": "display_data"
    }
   ],
   "source": [
    "# Importando a biblioteca netpixi\n",
    "from netpixi.integration.gt import Graph\n",
    "\n",
    "# Criando um grafo não-dirigido\n",
    "g = Graph(directed=True) \n",
    "g.add_vp('nome')\n",
    "g.add_ep('aceitos')"
   ]
  },
  {
   "cell_type": "code",
   "execution_count": 7,
   "id": "fa66aafd",
   "metadata": {},
   "outputs": [],
   "source": [
    "for vertice in listaVertices:\n",
    "    g.add_vertex(vertice)\n",
    "    \n",
    "    "
   ]
  },
  {
   "cell_type": "code",
   "execution_count": 8,
   "id": "9c0d2275",
   "metadata": {},
   "outputs": [],
   "source": [
    "for v in g.all_vertices():\n",
    "    v['nome'] = str(v)\n",
    "    \n",
    "#for vertice in listaVertices:\n",
    "#    nome = g.get_vertex(vertice)\n",
    "#    vertice['nome'] = nome"
   ]
  },
  {
   "cell_type": "code",
   "execution_count": 9,
   "id": "f834702e",
   "metadata": {},
   "outputs": [
    {
     "name": "stdout",
     "output_type": "stream",
     "text": [
      "O número de vértices do grafo é : 226\n"
     ]
    }
   ],
   "source": [
    "n = g.num_vertices()\n",
    "print('O número de vértices do grafo é :', n)"
   ]
  },
  {
   "cell_type": "code",
   "execution_count": 10,
   "id": "dc98a081",
   "metadata": {},
   "outputs": [
    {
     "name": "stdout",
     "output_type": "stream",
     "text": [
      "A linha inicial possui apenas os títulos das colunas: ['Year', 'Country / territory of asylum/residence', 'Origin', 'RSD procedure type / level', 'Tota pending start-year', 'of which UNHCR-assisted(start-year)', 'Applied during year', 'decisions_recognized', 'decisions_other', 'Rejected', 'Otherwise closed', 'Total decisions', 'Total pending end-year', 'of which UNHCR-assisted(end-year)']\n"
     ]
    }
   ],
   "source": [
    "listaArestas = []\n",
    "lista_decisions_recognised = []\n",
    "contador = 0\n",
    "for linha in linhas:\n",
    "    vertice = linha.strip().split(',')\n",
    "    aceitos = vertice[7]\n",
    "    if aceitos  == '' or aceitos == '*':\n",
    "        aceitos = 0\n",
    "    if contador == 0:\n",
    "        print(f'A linha inicial possui apenas os títulos das colunas: {vertice}')\n",
    "    else:\n",
    "\n",
    "        #print(\"Id do vértice: \", vertice[1], vertice[2]) # [print de debug]\n",
    "        if (vertice[2], vertice[1]) not in listaArestas and (vertice[2] != vertice[1]):\n",
    "            listaArestas.append((vertice[2], vertice[1]))\n",
    "            lista_decisions_recognised.append(int(aceitos))\n",
    "        elif (vertice[2], vertice[1]) in listaArestas:\n",
    "            index = listaArestas.index((vertice[2], vertice[1]))\n",
    "            lista_decisions_recognised[index] += int(aceitos)\n",
    "    contador +=1 "
   ]
  },
  {
   "cell_type": "code",
   "execution_count": 11,
   "id": "66e0191d",
   "metadata": {},
   "outputs": [],
   "source": [
    "#for linha in linhas:\n",
    "#    vertice = linha.strip().split(',')\n",
    "#    if (vertice[1], vertice[2]) in listaArestas and (vertice[2], vertice[1]) in listaArestas:\n",
    "#        index1 = listaArestas.index((vertice[2], vertice[1]))\n",
    "#        index2 = listaArestas.index((vertice[1], vertice[2]))\n",
    "#        valor1 = lista_decisions_recognised[index1]\n",
    "#        valor2 = lista_decisions_recognised[index2]\n",
    "#        if valor1 > valor2 and index2 > index1:\n",
    "#            listaArestas[index1] = (vertice[1], vertice[2])\n",
    "#            listaArestas[index2] = (vertice[2], vertice[1])\n",
    "#            lista_decisions_recognised[index1] = valor2\n",
    "#            lista_decisions_recognised[index2] = valor1\n",
    "#        else:\n",
    "#            listaArestas[index1] = (vertice[2], vertice[1])\n",
    "#            listaArestas[index2] = (vertice[1], vertice[2])\n",
    "#            lista_decisions_recognised[index1] = valor1\n",
    "#            lista_decisions_recognised[index2] = valor2\n",
    "            \n"
   ]
  },
  {
   "cell_type": "code",
   "execution_count": 12,
   "id": "c1c5dabd",
   "metadata": {},
   "outputs": [],
   "source": [
    "for linha in linhas:\n",
    "    vertice = linha.strip().split(',')\n",
    "    if (vertice[1], vertice[2]) in listaArestas and (vertice[2], vertice[1]) in listaArestas:\n",
    "        index1 = listaArestas.index((vertice[2], vertice[1]))\n",
    "        index2 = listaArestas.index((vertice[1], vertice[2]))\n",
    "        valor1 = lista_decisions_recognised[index1]\n",
    "        valor2 = lista_decisions_recognised[index2]\n",
    "        if valor2 > valor1:\n",
    "            diferenca = valor2 - valor1\n",
    "            listaArestas.pop(index1)\n",
    "            lista_decisions_recognised.pop(index1)\n",
    "            lista_decisions_recognised[index2] = diferenca\n",
    "        else:\n",
    "            diferenca = valor1 - valor2\n",
    "            listaArestas.pop(index2)\n",
    "            lista_decisions_recognised.pop(index2)\n",
    "            lista_decisions_recognised[index1] = diferenca\n",
    "            \n",
    "\n",
    "\n",
    "            \n",
    "        \n"
   ]
  },
  {
   "cell_type": "code",
   "execution_count": 13,
   "id": "9cc0c781",
   "metadata": {},
   "outputs": [],
   "source": [
    "#listaArestas"
   ]
  },
  {
   "cell_type": "code",
   "execution_count": 14,
   "id": "eda280a3",
   "metadata": {},
   "outputs": [
    {
     "name": "stdout",
     "output_type": "stream",
     "text": [
      "Done\n"
     ]
    }
   ],
   "source": [
    "with open(r'./listaArestas', 'w') as fp:\n",
    "    for item in listaArestas:\n",
    "        # write each item on a new line\n",
    "        fp.write(str(item) + \"\\n\")\n",
    "    print('Done')"
   ]
  },
  {
   "cell_type": "code",
   "execution_count": 15,
   "id": "136f822e",
   "metadata": {},
   "outputs": [],
   "source": [
    "#lista_decisions_recognised"
   ]
  },
  {
   "cell_type": "code",
   "execution_count": 16,
   "id": "31d450ce",
   "metadata": {},
   "outputs": [
    {
     "name": "stdout",
     "output_type": "stream",
     "text": [
      "Done\n"
     ]
    }
   ],
   "source": [
    "with open(r'./listaDecisionsRecognised', 'w') as fp:\n",
    "    for item in lista_decisions_recognised:\n",
    "        # write each item on a new line\n",
    "        fp.write(str(item) + \"\\n\")\n",
    "    print('Done')"
   ]
  },
  {
   "cell_type": "code",
   "execution_count": 17,
   "id": "60d2727f",
   "metadata": {},
   "outputs": [
    {
     "data": {
      "text/plain": [
       "9380"
      ]
     },
     "execution_count": 17,
     "metadata": {},
     "output_type": "execute_result"
    }
   ],
   "source": [
    "len(lista_decisions_recognised)"
   ]
  },
  {
   "cell_type": "code",
   "execution_count": 18,
   "id": "45e539c4",
   "metadata": {},
   "outputs": [
    {
     "data": {
      "text/plain": [
       "9380"
      ]
     },
     "execution_count": 18,
     "metadata": {},
     "output_type": "execute_result"
    }
   ],
   "source": [
    "len(listaArestas)"
   ]
  },
  {
   "cell_type": "code",
   "execution_count": 19,
   "id": "cf9b89c7",
   "metadata": {},
   "outputs": [],
   "source": [
    "contador = 0\n",
    "for aresta in listaArestas:\n",
    "    g.add_edge(aresta[0], aresta[1])\n",
    "    #if aresta[0] == 'Syrian Arab Rep.' and aresta[1] == 'Germany':\n",
    "    #    print (\"TEM Q SER MAIOR: \", listaArestas.index(('Syrian Arab Rep.', 'Germany')))\n",
    "    #elif aresta[0] == 'Germany' and aresta[1] == 'Syrian Arab Rep.':\n",
    "    #    print(listaArestas.index(('Germany', 'Syrian Arab Rep.')))\n"
   ]
  },
  {
   "cell_type": "code",
   "execution_count": 20,
   "id": "a7970183",
   "metadata": {},
   "outputs": [],
   "source": [
    "for i in range(len(listaArestas)):\n",
    "    g.get_edge(listaArestas[i][0], listaArestas[i][1])['aceitos'] = lista_decisions_recognised[i]"
   ]
  },
  {
   "cell_type": "code",
   "execution_count": 21,
   "id": "b4c4f7ab",
   "metadata": {},
   "outputs": [],
   "source": [
    "from netpixi.integration.gt import *"
   ]
  },
  {
   "cell_type": "code",
   "execution_count": 22,
   "id": "52d1cf02",
   "metadata": {},
   "outputs": [],
   "source": [
    "gt_save(g, '../../datasets/grafo.net.gz')"
   ]
  },
  {
   "cell_type": "code",
   "execution_count": 23,
   "id": "ec1e6dde",
   "metadata": {},
   "outputs": [],
   "source": [
    "g = gt_load('../../datasets/grafo.net.gz')"
   ]
  },
  {
   "cell_type": "code",
   "execution_count": 24,
   "id": "7963799b",
   "metadata": {},
   "outputs": [],
   "source": [
    "import netpixi\n",
    "#r = netpixi.render('../../datasets/exemplo.net.gz', infinite=True)"
   ]
  },
  {
   "cell_type": "code",
   "execution_count": 25,
   "id": "630cd82e",
   "metadata": {},
   "outputs": [],
   "source": [
    "g = gt_load('../../datasets/grafo.net.gz')\n",
    "m = gt_draw.sfdp_layout(g)\n",
    "gt_move(g, m)\n",
    "gt_save(g, 'grafo.net.gz')\n",
    "#r = netpixi.render('exemplo.net.gz', infinite=True);"
   ]
  },
  {
   "cell_type": "code",
   "execution_count": 26,
   "id": "f080800a",
   "metadata": {},
   "outputs": [
    {
     "data": {
      "text/html": [
       "\n",
       "        <div id=\"VtsXkGkVbUcdJe46kQpuBL\"></div>\n",
       "        <script>netpixi.render('VtsXkGkVbUcdJe46kQpuBL', 'grafo.net.gz', 1.7777777777777777, true, true, false);</script>\n",
       "    "
      ],
      "text/plain": [
       "<IPython.core.display.HTML object>"
      ]
     },
     "metadata": {},
     "output_type": "display_data"
    }
   ],
   "source": [
    "r = netpixi.render('grafo.net.gz', infinite=True);"
   ]
  },
  {
   "cell_type": "code",
   "execution_count": 33,
   "id": "bef7ceed",
   "metadata": {},
   "outputs": [
    {
     "data": {
      "text/html": [
       "\n",
       "        <div id=\"Z9GnR5FrtNzrmqfgfFbkpm\"></div>\n",
       "        <script>netpixi.call('Z9GnR5FrtNzrmqfgfFbkpm', 'VtsXkGkVbUcdJe46kQpuBL', 'setGraph', 'eyJ0eXBlIjogInZlcnRleCIsICJwcm9wcyI6IHsic3JjIjogIm5vbWUiLCAiZHN0IjogIl9rZXkifX0K');</script>\n",
       "    "
      ],
      "text/plain": [
       "<IPython.core.display.HTML object>"
      ]
     },
     "metadata": {},
     "output_type": "display_data"
    },
    {
     "data": {
      "text/html": [
       "\n",
       "        <div id=\"LVCCVdjzZRJz82tPQoSTkB\"></div>\n",
       "        <script>netpixi.call('LVCCVdjzZRJz82tPQoSTkB', 'VtsXkGkVbUcdJe46kQpuBL', 'changeGraph', 'eyJ0eXBlIjogInNldHRpbmdzIiwgInByb3BzIjogeyJ2ZXJ0ZXgiOiB7ImNvbG9yIjogMTY3NzcyMTV9fX0K');</script>\n",
       "    "
      ],
      "text/plain": [
       "<IPython.core.display.HTML object>"
      ]
     },
     "metadata": {},
     "output_type": "display_data"
    },
    {
     "data": {
      "text/html": [
       "\n",
       "        <div id=\"bHyuyzenwRUYf7pLAsS8yx\"></div>\n",
       "        <script>netpixi.call('bHyuyzenwRUYf7pLAsS8yx', 'VtsXkGkVbUcdJe46kQpuBL', 'changeGraph', 'eyJ0eXBlIjogInNldHRpbmdzIiwgInByb3BzIjogeyJlZGdlIjogeyJjb2xvciI6IDIxNDI4OTB9fX0K');</script>\n",
       "    "
      ],
      "text/plain": [
       "<IPython.core.display.HTML object>"
      ]
     },
     "metadata": {},
     "output_type": "display_data"
    }
   ],
   "source": [
    "r.vertex_set_key('nome')\n",
    "\n",
    "r.vertex_default(color=0xffffff)\n",
    "\n",
    "# mudar a cor, a espessura e a curvatura das arestas\n",
    "r.edge_default(color=0x20B2AA)"
   ]
  },
  {
   "cell_type": "code",
   "execution_count": 34,
   "id": "100fa667",
   "metadata": {},
   "outputs": [
    {
     "data": {
      "text/html": [
       "\n",
       "        <div id=\"c5QRcuQCqXhftDQ8QyGWBw\"></div>\n",
       "        <script>netpixi.call('c5QRcuQCqXhftDQ8QyGWBw', 'VtsXkGkVbUcdJe46kQpuBL', 'normalizeGraph', 'eyJ0eXBlIjogImVkZ2UiLCAicHJvcHMiOiB7InNyYyI6ICJhY2VpdG9zIiwgIm1pbiI6IDEsICJtYXgiOiAxMH19Cg==');</script>\n",
       "    "
      ],
      "text/plain": [
       "<IPython.core.display.HTML object>"
      ]
     },
     "metadata": {},
     "output_type": "display_data"
    }
   ],
   "source": [
    "r.edge_scale('aceitos', 1, 10)"
   ]
  },
  {
   "cell_type": "code",
   "execution_count": 35,
   "id": "56e7dca9",
   "metadata": {},
   "outputs": [
    {
     "data": {
      "text/html": [
       "\n",
       "        <div id=\"6H688Yg7oE629hX9hGfmTK\"></div>\n",
       "        <script>netpixi.call('6H688Yg7oE629hX9hGfmTK', 'VtsXkGkVbUcdJe46kQpuBL', 'changeGraph', 'eyJpZCI6ICJHZXJtYW55IiwgInR5cGUiOiAidmVydGV4IiwgInByb3BzIjogeyJjb2xvciI6IDE2NzExNjgwLCAic2l6ZSI6IDIwfX0K');</script>\n",
       "    "
      ],
      "text/plain": [
       "<IPython.core.display.HTML object>"
      ]
     },
     "metadata": {},
     "output_type": "display_data"
    },
    {
     "data": {
      "text/html": [
       "\n",
       "        <div id=\"kP5sD8SMQBWPemRVgS5U9X\"></div>\n",
       "        <script>netpixi.call('kP5sD8SMQBWPemRVgS5U9X', 'VtsXkGkVbUcdJe46kQpuBL', 'changeGraph', 'eyJpZCI6ICJTeXJpYW4gQXJhYiBSZXAuIiwgInR5cGUiOiAidmVydGV4IiwgInByb3BzIjogeyJjb2xvciI6IDE2NzExNjgwLCAic2l6ZSI6IDIwfX0K');</script>\n",
       "    "
      ],
      "text/plain": [
       "<IPython.core.display.HTML object>"
      ]
     },
     "metadata": {},
     "output_type": "display_data"
    },
    {
     "data": {
      "text/html": [
       "\n",
       "        <div id=\"AAGzs3N4npyB5DdcZMyU9F\"></div>\n",
       "        <script>netpixi.call('AAGzs3N4npyB5DdcZMyU9F', 'VtsXkGkVbUcdJe46kQpuBL', 'changeGraph', 'eyJpZCI6ICJVbml0ZWQgU3RhdGVzIG9mIEFtZXJpY2EiLCAidHlwZSI6ICJ2ZXJ0ZXgiLCAicHJvcHMiOiB7ImNvbG9yIjogMTY3MTE2ODAsICJzaXplIjogMjB9fQo=');</script>\n",
       "    "
      ],
      "text/plain": [
       "<IPython.core.display.HTML object>"
      ]
     },
     "metadata": {},
     "output_type": "display_data"
    },
    {
     "data": {
      "text/html": [
       "\n",
       "        <div id=\"HT2h8dggJiwJMJ8hHcj6gH\"></div>\n",
       "        <script>netpixi.call('HT2h8dggJiwJMJ8hHcj6gH', 'VtsXkGkVbUcdJe46kQpuBL', 'changeGraph', 'eyJpZCI6ICJDaGluYSIsICJ0eXBlIjogInZlcnRleCIsICJwcm9wcyI6IHsiY29sb3IiOiAxNjcxMTY4MCwgInNpemUiOiAyMH19Cg==');</script>\n",
       "    "
      ],
      "text/plain": [
       "<IPython.core.display.HTML object>"
      ]
     },
     "metadata": {},
     "output_type": "display_data"
    },
    {
     "data": {
      "text/html": [
       "\n",
       "        <div id=\"7ogkxegkzP4Vy2eKXxABJK\"></div>\n",
       "        <script>netpixi.call('7ogkxegkzP4Vy2eKXxABJK', 'VtsXkGkVbUcdJe46kQpuBL', 'changeGraph', 'eyJpZCI6ICJDb2xvbWJpYSIsICJ0eXBlIjogInZlcnRleCIsICJwcm9wcyI6IHsiY29sb3IiOiAxNjcxMTY4MCwgInNpemUiOiAyMH19Cg==');</script>\n",
       "    "
      ],
      "text/plain": [
       "<IPython.core.display.HTML object>"
      ]
     },
     "metadata": {},
     "output_type": "display_data"
    },
    {
     "data": {
      "text/html": [
       "\n",
       "        <div id=\"4xZhC9T2crAdHB6sRanopy\"></div>\n",
       "        <script>netpixi.call('4xZhC9T2crAdHB6sRanopy', 'VtsXkGkVbUcdJe46kQpuBL', 'changeGraph', 'eyJpZCI6ICJFY3VhZG9yIiwgInR5cGUiOiAidmVydGV4IiwgInByb3BzIjogeyJjb2xvciI6IDE2NzExNjgwLCAic2l6ZSI6IDIwfX0K');</script>\n",
       "    "
      ],
      "text/plain": [
       "<IPython.core.display.HTML object>"
      ]
     },
     "metadata": {},
     "output_type": "display_data"
    },
    {
     "data": {
      "text/html": [
       "\n",
       "        <div id=\"8EQTEt3HGe29tKdKX78i7X\"></div>\n",
       "        <script>netpixi.call('8EQTEt3HGe29tKdKX78i7X', 'VtsXkGkVbUcdJe46kQpuBL', 'changeGraph', 'eyJpZCI6ICJJcmFxIiwgInR5cGUiOiAidmVydGV4IiwgInByb3BzIjogeyJjb2xvciI6IDE2NzExNjgwLCAic2l6ZSI6IDIwfX0K');</script>\n",
       "    "
      ],
      "text/plain": [
       "<IPython.core.display.HTML object>"
      ]
     },
     "metadata": {},
     "output_type": "display_data"
    },
    {
     "data": {
      "text/html": [
       "\n",
       "        <div id=\"kEwtJRdbLRF6zFcTGoALuo\"></div>\n",
       "        <script>netpixi.call('kEwtJRdbLRF6zFcTGoALuo', 'VtsXkGkVbUcdJe46kQpuBL', 'changeGraph', 'eyJpZCI6ICJUdXJrZXkiLCAidHlwZSI6ICJ2ZXJ0ZXgiLCAicHJvcHMiOiB7ImNvbG9yIjogMTY3MTE2ODAsICJzaXplIjogMjB9fQo=');</script>\n",
       "    "
      ],
      "text/plain": [
       "<IPython.core.display.HTML object>"
      ]
     },
     "metadata": {},
     "output_type": "display_data"
    },
    {
     "data": {
      "text/html": [
       "\n",
       "        <div id=\"Wfu4m7wrAzD2Utnw3QBEuU\"></div>\n",
       "        <script>netpixi.call('Wfu4m7wrAzD2Utnw3QBEuU', 'VtsXkGkVbUcdJe46kQpuBL', 'changeGraph', 'eyJpZCI6ICJNeWFubWFyIiwgInR5cGUiOiAidmVydGV4IiwgInByb3BzIjogeyJjb2xvciI6IDE2NzExNjgwLCAic2l6ZSI6IDIwfX0K');</script>\n",
       "    "
      ],
      "text/plain": [
       "<IPython.core.display.HTML object>"
      ]
     },
     "metadata": {},
     "output_type": "display_data"
    },
    {
     "data": {
      "text/html": [
       "\n",
       "        <div id=\"AMxeYe7VvgVPAX2ZmG6MgY\"></div>\n",
       "        <script>netpixi.call('AMxeYe7VvgVPAX2ZmG6MgY', 'VtsXkGkVbUcdJe46kQpuBL', 'changeGraph', 'eyJpZCI6ICJNYWxheXNpYSIsICJ0eXBlIjogInZlcnRleCIsICJwcm9wcyI6IHsiY29sb3IiOiAxNjcxMTY4MCwgInNpemUiOiAyMH19Cg==');</script>\n",
       "    "
      ],
      "text/plain": [
       "<IPython.core.display.HTML object>"
      ]
     },
     "metadata": {},
     "output_type": "display_data"
    }
   ],
   "source": [
    "r.vertex('Germany', color=0xff0000, size=20)\n",
    "r.vertex('Syrian Arab Rep.', color=0xff0000, size=20)\n",
    "r.vertex('United States of America', color=0xff0000, size=20)\n",
    "r.vertex('China', color=0xff0000, size=20)\n",
    "r.vertex('Colombia', color=0xff0000, size=20)\n",
    "r.vertex('Ecuador', color=0xff0000, size=20)\n",
    "r.vertex('Iraq', color=0xff0000, size=20)\n",
    "r.vertex('Turkey', color=0xff0000, size=20)\n",
    "r.vertex('Myanmar', color=0xff0000, size=20)\n",
    "r.vertex('Malaysia', color=0xff0000, size=20)\n"
   ]
  },
  {
   "cell_type": "code",
   "execution_count": 30,
   "id": "cd8915b2",
   "metadata": {},
   "outputs": [
    {
     "data": {
      "text/plain": [
       "301405"
      ]
     },
     "execution_count": 30,
     "metadata": {},
     "output_type": "execute_result"
    }
   ],
   "source": [
    "maximo_valor = max(lista_decisions_recognised)\n",
    "maximo_valor"
   ]
  },
  {
   "cell_type": "code",
   "execution_count": 31,
   "id": "cbf6155e",
   "metadata": {},
   "outputs": [
    {
     "name": "stdout",
     "output_type": "stream",
     "text": [
      "('Afghanistan', 'Bosnia and Herzegovina')\n"
     ]
    }
   ],
   "source": [
    "print(listaArestas[63])"
   ]
  },
  {
   "cell_type": "code",
   "execution_count": 32,
   "id": "07ad565a",
   "metadata": {},
   "outputs": [
    {
     "name": "stdout",
     "output_type": "stream",
     "text": [
      "('Lesotho', 'Ireland')\n"
     ]
    }
   ],
   "source": [
    "print(listaArestas[4260])"
   ]
  }
 ],
 "metadata": {
  "kernelspec": {
   "display_name": "Python 3 (ipykernel)",
   "language": "python",
   "name": "python3"
  },
  "language_info": {
   "codemirror_mode": {
    "name": "ipython",
    "version": 3
   },
   "file_extension": ".py",
   "mimetype": "text/x-python",
   "name": "python",
   "nbconvert_exporter": "python",
   "pygments_lexer": "ipython3",
   "version": "3.10.6"
  }
 },
 "nbformat": 4,
 "nbformat_minor": 5
}
