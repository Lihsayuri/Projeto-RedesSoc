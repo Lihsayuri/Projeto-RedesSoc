{
 "cells": [
  {
   "cell_type": "markdown",
   "id": "756af320",
   "metadata": {},
   "source": [
    "# Projeto de Redes Sociais\n",
    "\n",
    "Alunos: \n",
    "\n",
    "- Lívia Makuta;\n",
    "- Henrique Frezzatti;\n",
    "- Rodrigo Guimarães.\n",
    "\n"
   ]
  },
  {
   "cell_type": "code",
   "execution_count": 1,
   "id": "f84294e2",
   "metadata": {},
   "outputs": [],
   "source": [
    "import pandas as pd"
   ]
  },
  {
   "cell_type": "code",
   "execution_count": 2,
   "id": "08ccab45",
   "metadata": {},
   "outputs": [
    {
     "name": "stderr",
     "output_type": "stream",
     "text": [
      "/tmp/ipykernel_129/2101300075.py:1: DtypeWarning: Columns (4,5,6,7,8,9,10,11,12,13) have mixed types. Specify dtype option on import or set low_memory=False.\n",
      "  df = pd.read_csv('./asylum_seekers.csv')\n"
     ]
    }
   ],
   "source": [
    "df = pd.read_csv('./asylum_seekers.csv')"
   ]
  },
  {
   "cell_type": "code",
   "execution_count": 3,
   "id": "0dce090c",
   "metadata": {},
   "outputs": [
    {
     "data": {
      "text/html": [
       "<div>\n",
       "<style scoped>\n",
       "    .dataframe tbody tr th:only-of-type {\n",
       "        vertical-align: middle;\n",
       "    }\n",
       "\n",
       "    .dataframe tbody tr th {\n",
       "        vertical-align: top;\n",
       "    }\n",
       "\n",
       "    .dataframe thead th {\n",
       "        text-align: right;\n",
       "    }\n",
       "</style>\n",
       "<table border=\"1\" class=\"dataframe\">\n",
       "  <thead>\n",
       "    <tr style=\"text-align: right;\">\n",
       "      <th></th>\n",
       "      <th>Year</th>\n",
       "      <th>Country / territory of asylum/residence</th>\n",
       "      <th>Origin</th>\n",
       "      <th>RSD procedure type / level</th>\n",
       "      <th>Tota pending start-year</th>\n",
       "      <th>of which UNHCR-assisted(start-year)</th>\n",
       "      <th>Applied during year</th>\n",
       "      <th>decisions_recognized</th>\n",
       "      <th>decisions_other</th>\n",
       "      <th>Rejected</th>\n",
       "      <th>Otherwise closed</th>\n",
       "      <th>Total decisions</th>\n",
       "      <th>Total pending end-year</th>\n",
       "      <th>of which UNHCR-assisted(end-year)</th>\n",
       "    </tr>\n",
       "  </thead>\n",
       "  <tbody>\n",
       "    <tr>\n",
       "      <th>0</th>\n",
       "      <td>2000</td>\n",
       "      <td>Zimbabwe</td>\n",
       "      <td>Afghanistan</td>\n",
       "      <td>G / FI</td>\n",
       "      <td>0</td>\n",
       "      <td>0</td>\n",
       "      <td>5</td>\n",
       "      <td>5</td>\n",
       "      <td>0</td>\n",
       "      <td>0</td>\n",
       "      <td>0</td>\n",
       "      <td>5.0</td>\n",
       "      <td>0</td>\n",
       "      <td>0</td>\n",
       "    </tr>\n",
       "    <tr>\n",
       "      <th>1</th>\n",
       "      <td>2000</td>\n",
       "      <td>South Africa</td>\n",
       "      <td>Afghanistan</td>\n",
       "      <td>G / FI</td>\n",
       "      <td>8</td>\n",
       "      <td>1</td>\n",
       "      <td>0</td>\n",
       "      <td>0</td>\n",
       "      <td>0</td>\n",
       "      <td>0</td>\n",
       "      <td>0</td>\n",
       "      <td>NaN</td>\n",
       "      <td>8</td>\n",
       "      <td>0</td>\n",
       "    </tr>\n",
       "    <tr>\n",
       "      <th>2</th>\n",
       "      <td>2000</td>\n",
       "      <td>Uzbekistan</td>\n",
       "      <td>Afghanistan</td>\n",
       "      <td>U / FI</td>\n",
       "      <td>265</td>\n",
       "      <td>265</td>\n",
       "      <td>2156</td>\n",
       "      <td>747</td>\n",
       "      <td>0</td>\n",
       "      <td>112</td>\n",
       "      <td>327</td>\n",
       "      <td>1186.0</td>\n",
       "      <td>1235</td>\n",
       "      <td>1235</td>\n",
       "    </tr>\n",
       "    <tr>\n",
       "      <th>3</th>\n",
       "      <td>2000</td>\n",
       "      <td>United States of America</td>\n",
       "      <td>Afghanistan</td>\n",
       "      <td>G / EO</td>\n",
       "      <td>196</td>\n",
       "      <td>0</td>\n",
       "      <td>225</td>\n",
       "      <td>151</td>\n",
       "      <td>0</td>\n",
       "      <td>31</td>\n",
       "      <td>68</td>\n",
       "      <td>250.0</td>\n",
       "      <td>171</td>\n",
       "      <td>0</td>\n",
       "    </tr>\n",
       "    <tr>\n",
       "      <th>4</th>\n",
       "      <td>2000</td>\n",
       "      <td>United States of America</td>\n",
       "      <td>Afghanistan</td>\n",
       "      <td>G / IN</td>\n",
       "      <td>193</td>\n",
       "      <td>0</td>\n",
       "      <td>218</td>\n",
       "      <td>182</td>\n",
       "      <td>0</td>\n",
       "      <td>51</td>\n",
       "      <td>40</td>\n",
       "      <td>273.0</td>\n",
       "      <td>150</td>\n",
       "      <td>0</td>\n",
       "    </tr>\n",
       "    <tr>\n",
       "      <th>...</th>\n",
       "      <td>...</td>\n",
       "      <td>...</td>\n",
       "      <td>...</td>\n",
       "      <td>...</td>\n",
       "      <td>...</td>\n",
       "      <td>...</td>\n",
       "      <td>...</td>\n",
       "      <td>...</td>\n",
       "      <td>...</td>\n",
       "      <td>...</td>\n",
       "      <td>...</td>\n",
       "      <td>...</td>\n",
       "      <td>...</td>\n",
       "      <td>...</td>\n",
       "    </tr>\n",
       "    <tr>\n",
       "      <th>129715</th>\n",
       "      <td>2016</td>\n",
       "      <td>United States of America</td>\n",
       "      <td>Zimbabwe</td>\n",
       "      <td>G / IN</td>\n",
       "      <td>232</td>\n",
       "      <td>NaN</td>\n",
       "      <td>229</td>\n",
       "      <td>16</td>\n",
       "      <td>NaN</td>\n",
       "      <td>*</td>\n",
       "      <td>10</td>\n",
       "      <td>28</td>\n",
       "      <td>435</td>\n",
       "      <td>NaN</td>\n",
       "    </tr>\n",
       "    <tr>\n",
       "      <th>129716</th>\n",
       "      <td>2016</td>\n",
       "      <td>United States of America</td>\n",
       "      <td>Zimbabwe</td>\n",
       "      <td>G / EO</td>\n",
       "      <td>142</td>\n",
       "      <td>NaN</td>\n",
       "      <td>12</td>\n",
       "      <td>*</td>\n",
       "      <td>NaN</td>\n",
       "      <td>*</td>\n",
       "      <td>23</td>\n",
       "      <td>31</td>\n",
       "      <td>138</td>\n",
       "      <td>NaN</td>\n",
       "    </tr>\n",
       "    <tr>\n",
       "      <th>129717</th>\n",
       "      <td>2016</td>\n",
       "      <td>South Africa</td>\n",
       "      <td>Zimbabwe</td>\n",
       "      <td>G / AR</td>\n",
       "      <td>94</td>\n",
       "      <td>9</td>\n",
       "      <td>NaN</td>\n",
       "      <td>NaN</td>\n",
       "      <td>NaN</td>\n",
       "      <td>NaN</td>\n",
       "      <td>94</td>\n",
       "      <td>94</td>\n",
       "      <td>0</td>\n",
       "      <td>NaN</td>\n",
       "    </tr>\n",
       "    <tr>\n",
       "      <th>129718</th>\n",
       "      <td>2016</td>\n",
       "      <td>South Africa</td>\n",
       "      <td>Zimbabwe</td>\n",
       "      <td>G / FI</td>\n",
       "      <td>41238</td>\n",
       "      <td>4124</td>\n",
       "      <td>7964</td>\n",
       "      <td>73</td>\n",
       "      <td>NaN</td>\n",
       "      <td>7869</td>\n",
       "      <td>NaN</td>\n",
       "      <td>7942</td>\n",
       "      <td>41260</td>\n",
       "      <td>NaN</td>\n",
       "    </tr>\n",
       "    <tr>\n",
       "      <th>129719</th>\n",
       "      <td>2016</td>\n",
       "      <td>Zambia</td>\n",
       "      <td>Zimbabwe</td>\n",
       "      <td>G / FI</td>\n",
       "      <td>*</td>\n",
       "      <td>*</td>\n",
       "      <td>*</td>\n",
       "      <td>0</td>\n",
       "      <td>NaN</td>\n",
       "      <td>*</td>\n",
       "      <td>*</td>\n",
       "      <td>*</td>\n",
       "      <td>*</td>\n",
       "      <td>*</td>\n",
       "    </tr>\n",
       "  </tbody>\n",
       "</table>\n",
       "<p>129720 rows × 14 columns</p>\n",
       "</div>"
      ],
      "text/plain": [
       "        Year Country / territory of asylum/residence       Origin  \\\n",
       "0       2000                                Zimbabwe  Afghanistan   \n",
       "1       2000                            South Africa  Afghanistan   \n",
       "2       2000                              Uzbekistan  Afghanistan   \n",
       "3       2000                United States of America  Afghanistan   \n",
       "4       2000                United States of America  Afghanistan   \n",
       "...      ...                                     ...          ...   \n",
       "129715  2016                United States of America     Zimbabwe   \n",
       "129716  2016                United States of America     Zimbabwe   \n",
       "129717  2016                            South Africa     Zimbabwe   \n",
       "129718  2016                            South Africa     Zimbabwe   \n",
       "129719  2016                                  Zambia     Zimbabwe   \n",
       "\n",
       "       RSD procedure type / level Tota pending start-year  \\\n",
       "0                          G / FI                       0   \n",
       "1                          G / FI                       8   \n",
       "2                          U / FI                     265   \n",
       "3                          G / EO                     196   \n",
       "4                          G / IN                     193   \n",
       "...                           ...                     ...   \n",
       "129715                     G / IN                     232   \n",
       "129716                     G / EO                     142   \n",
       "129717                     G / AR                      94   \n",
       "129718                     G / FI                   41238   \n",
       "129719                     G / FI                       *   \n",
       "\n",
       "       of which UNHCR-assisted(start-year) Applied during year  \\\n",
       "0                                        0                   5   \n",
       "1                                        1                   0   \n",
       "2                                      265                2156   \n",
       "3                                        0                 225   \n",
       "4                                        0                 218   \n",
       "...                                    ...                 ...   \n",
       "129715                                 NaN                 229   \n",
       "129716                                 NaN                  12   \n",
       "129717                                   9                 NaN   \n",
       "129718                                4124                7964   \n",
       "129719                                   *                   *   \n",
       "\n",
       "       decisions_recognized decisions_other Rejected Otherwise closed  \\\n",
       "0                         5               0        0                0   \n",
       "1                         0               0        0                0   \n",
       "2                       747               0      112              327   \n",
       "3                       151               0       31               68   \n",
       "4                       182               0       51               40   \n",
       "...                     ...             ...      ...              ...   \n",
       "129715                   16             NaN        *               10   \n",
       "129716                    *             NaN        *               23   \n",
       "129717                  NaN             NaN      NaN               94   \n",
       "129718                   73             NaN     7869              NaN   \n",
       "129719                    0             NaN        *                *   \n",
       "\n",
       "       Total decisions Total pending end-year  \\\n",
       "0                  5.0                      0   \n",
       "1                  NaN                      8   \n",
       "2               1186.0                   1235   \n",
       "3                250.0                    171   \n",
       "4                273.0                    150   \n",
       "...                ...                    ...   \n",
       "129715              28                    435   \n",
       "129716              31                    138   \n",
       "129717              94                      0   \n",
       "129718            7942                  41260   \n",
       "129719               *                      *   \n",
       "\n",
       "       of which UNHCR-assisted(end-year)  \n",
       "0                                      0  \n",
       "1                                      0  \n",
       "2                                   1235  \n",
       "3                                      0  \n",
       "4                                      0  \n",
       "...                                  ...  \n",
       "129715                               NaN  \n",
       "129716                               NaN  \n",
       "129717                               NaN  \n",
       "129718                               NaN  \n",
       "129719                                 *  \n",
       "\n",
       "[129720 rows x 14 columns]"
      ]
     },
     "execution_count": 3,
     "metadata": {},
     "output_type": "execute_result"
    }
   ],
   "source": [
    "df"
   ]
  },
  {
   "cell_type": "code",
   "execution_count": 4,
   "id": "e5f1ab13",
   "metadata": {},
   "outputs": [
    {
     "name": "stdout",
     "output_type": "stream",
     "text": [
      "225\n"
     ]
    }
   ],
   "source": [
    "listaVertices = []\n",
    "\n",
    "listaVertices = set(df['Country / territory of asylum/residence'].unique().tolist() + df['Origin'].unique().tolist())\n",
    "\n",
    "print(len(listaVertices))\n",
    "\n",
    "\n"
   ]
  },
  {
   "cell_type": "code",
   "execution_count": 5,
   "id": "5c5deb65",
   "metadata": {},
   "outputs": [
    {
     "data": {
      "text/plain": [
       "{'Afghanistan',\n",
       " 'Albania',\n",
       " 'Algeria',\n",
       " 'American Samoa',\n",
       " 'Andorra',\n",
       " 'Angola',\n",
       " 'Anguilla',\n",
       " 'Antigua and Barbuda',\n",
       " 'Argentina',\n",
       " 'Armenia',\n",
       " 'Aruba',\n",
       " 'Australia',\n",
       " 'Austria',\n",
       " 'Azerbaijan',\n",
       " 'Bahamas',\n",
       " 'Bahrain',\n",
       " 'Bangladesh',\n",
       " 'Barbados',\n",
       " 'Belarus',\n",
       " 'Belgium',\n",
       " 'Belize',\n",
       " 'Benin',\n",
       " 'Bermuda',\n",
       " 'Bhutan',\n",
       " 'Bolivia (Plurinational State of)',\n",
       " 'Bonaire',\n",
       " 'Bosnia and Herzegovina',\n",
       " 'Botswana',\n",
       " 'Brazil',\n",
       " 'British Virgin Islands',\n",
       " 'Brunei Darussalam',\n",
       " 'Bulgaria',\n",
       " 'Burkina Faso',\n",
       " 'Burundi',\n",
       " 'Cabo Verde',\n",
       " 'Cambodia',\n",
       " 'Cameroon',\n",
       " 'Canada',\n",
       " 'Cayman Islands',\n",
       " 'Central African Rep.',\n",
       " 'Chad',\n",
       " 'Chile',\n",
       " 'China',\n",
       " 'China, Hong Kong SAR',\n",
       " 'China, Macao SAR',\n",
       " 'Colombia',\n",
       " 'Comoros',\n",
       " 'Congo',\n",
       " 'Cook Islands',\n",
       " 'Costa Rica',\n",
       " 'Croatia',\n",
       " 'Cuba',\n",
       " 'Curaçao',\n",
       " 'Cyprus',\n",
       " 'Czech Rep.',\n",
       " \"Côte d'Ivoire\",\n",
       " \"Dem. People's Rep. of Korea\",\n",
       " 'Dem. Rep. of the Congo',\n",
       " 'Denmark',\n",
       " 'Djibouti',\n",
       " 'Dominica',\n",
       " 'Dominican Rep.',\n",
       " 'Ecuador',\n",
       " 'Egypt',\n",
       " 'El Salvador',\n",
       " 'Equatorial Guinea',\n",
       " 'Eritrea',\n",
       " 'Estonia',\n",
       " 'Ethiopia',\n",
       " 'Fiji',\n",
       " 'Finland',\n",
       " 'France',\n",
       " 'French Guiana',\n",
       " 'French Polynesia',\n",
       " 'Gabon',\n",
       " 'Gambia',\n",
       " 'Georgia',\n",
       " 'Germany',\n",
       " 'Ghana',\n",
       " 'Gibraltar',\n",
       " 'Greece',\n",
       " 'Grenada',\n",
       " 'Guadeloupe',\n",
       " 'Guatemala',\n",
       " 'Guinea',\n",
       " 'Guinea-Bissau',\n",
       " 'Guyana',\n",
       " 'Haiti',\n",
       " 'Holy See (the)',\n",
       " 'Honduras',\n",
       " 'Hungary',\n",
       " 'Iceland',\n",
       " 'India',\n",
       " 'Indonesia',\n",
       " 'Iran (Islamic Rep. of)',\n",
       " 'Iraq',\n",
       " 'Ireland',\n",
       " 'Israel',\n",
       " 'Italy',\n",
       " 'Jamaica',\n",
       " 'Japan',\n",
       " 'Jordan',\n",
       " 'Kazakhstan',\n",
       " 'Kenya',\n",
       " 'Kiribati',\n",
       " 'Kuwait',\n",
       " 'Kyrgyzstan',\n",
       " \"Lao People's Dem. Rep.\",\n",
       " 'Latvia',\n",
       " 'Lebanon',\n",
       " 'Lesotho',\n",
       " 'Liberia',\n",
       " 'Libya',\n",
       " 'Liechtenstein',\n",
       " 'Lithuania',\n",
       " 'Luxembourg',\n",
       " 'Madagascar',\n",
       " 'Malawi',\n",
       " 'Malaysia',\n",
       " 'Maldives',\n",
       " 'Mali',\n",
       " 'Malta',\n",
       " 'Marshall Islands',\n",
       " 'Martinique',\n",
       " 'Mauritania',\n",
       " 'Mauritius',\n",
       " 'Mexico',\n",
       " 'Micronesia (Federated States of)',\n",
       " 'Monaco',\n",
       " 'Mongolia',\n",
       " 'Montenegro',\n",
       " 'Montserrat',\n",
       " 'Morocco',\n",
       " 'Mozambique',\n",
       " 'Myanmar',\n",
       " 'Namibia',\n",
       " 'Nauru',\n",
       " 'Nepal',\n",
       " 'Netherlands',\n",
       " 'New Caledonia',\n",
       " 'New Zealand',\n",
       " 'Nicaragua',\n",
       " 'Niger',\n",
       " 'Nigeria',\n",
       " 'Niue',\n",
       " 'Norfolk Island',\n",
       " 'Norway',\n",
       " 'Oman',\n",
       " 'Pakistan',\n",
       " 'Palau',\n",
       " 'Palestinian',\n",
       " 'Panama',\n",
       " 'Papua New Guinea',\n",
       " 'Paraguay',\n",
       " 'Peru',\n",
       " 'Philippines',\n",
       " 'Poland',\n",
       " 'Portugal',\n",
       " 'Puerto Rico',\n",
       " 'Qatar',\n",
       " 'Rep. of Korea',\n",
       " 'Rep. of Moldova',\n",
       " 'Romania',\n",
       " 'Russian Federation',\n",
       " 'Rwanda',\n",
       " 'Saint Kitts and Nevis',\n",
       " 'Saint Lucia',\n",
       " 'Saint Vincent and the Grenadines',\n",
       " 'Saint-Pierre-et-Miquelon',\n",
       " 'Samoa',\n",
       " 'San Marino',\n",
       " 'Sao Tome and Principe',\n",
       " 'Saudi Arabia',\n",
       " 'Senegal',\n",
       " 'Serbia and Kosovo (S/RES/1244 (1999))',\n",
       " 'Seychelles',\n",
       " 'Sierra Leone',\n",
       " 'Singapore',\n",
       " 'Sint Maarten (Dutch part)',\n",
       " 'Slovakia',\n",
       " 'Slovenia',\n",
       " 'Solomon Islands',\n",
       " 'Somalia',\n",
       " 'South Africa',\n",
       " 'South Sudan',\n",
       " 'Spain',\n",
       " 'Sri Lanka',\n",
       " 'Stateless',\n",
       " 'Sudan',\n",
       " 'Suriname',\n",
       " 'Svalbard and Jan Mayen',\n",
       " 'Swaziland',\n",
       " 'Sweden',\n",
       " 'Switzerland',\n",
       " 'Syrian Arab Rep.',\n",
       " 'Tajikistan',\n",
       " 'Thailand',\n",
       " 'The former Yugoslav Republic of Macedonia',\n",
       " 'Tibetan',\n",
       " 'Timor-Leste',\n",
       " 'Togo',\n",
       " 'Tonga',\n",
       " 'Trinidad and Tobago',\n",
       " 'Tunisia',\n",
       " 'Turkey',\n",
       " 'Turkmenistan',\n",
       " 'Turks and Caicos Islands',\n",
       " 'Tuvalu',\n",
       " 'Uganda',\n",
       " 'Ukraine',\n",
       " 'United Arab Emirates',\n",
       " 'United Kingdom',\n",
       " 'United Rep. of Tanzania',\n",
       " 'United States of America',\n",
       " 'Uruguay',\n",
       " 'Uzbekistan',\n",
       " 'Vanuatu',\n",
       " 'Various/Unknown',\n",
       " 'Venezuela (Bolivarian Republic of)',\n",
       " 'Viet Nam',\n",
       " 'Wallis and Futuna Islands ',\n",
       " 'Western Sahara',\n",
       " 'Yemen',\n",
       " 'Zambia',\n",
       " 'Zimbabwe'}"
      ]
     },
     "execution_count": 5,
     "metadata": {},
     "output_type": "execute_result"
    }
   ],
   "source": [
    "listaVertices"
   ]
  },
  {
   "cell_type": "code",
   "execution_count": 6,
   "id": "4fed9dff",
   "metadata": {},
   "outputs": [
    {
     "data": {
      "text/html": [
       "\n",
       "    <script src=\"/files/netpixi.min.js\"></script>\n"
      ],
      "text/plain": [
       "<IPython.core.display.HTML object>"
      ]
     },
     "metadata": {},
     "output_type": "display_data"
    }
   ],
   "source": [
    "# Importando a biblioteca netpixi\n",
    "from netpixi.integration.gt import Graph\n",
    "\n",
    "# Criando um grafo não-dirigido\n",
    "g = Graph(directed=True) \n",
    "g.add_vp('nome')\n",
    "g.add_ep('aceitos')"
   ]
  },
  {
   "cell_type": "code",
   "execution_count": 7,
   "id": "669a7cb4",
   "metadata": {},
   "outputs": [],
   "source": [
    "for vertice in listaVertices:\n",
    "    g.add_vertex(vertice)"
   ]
  },
  {
   "cell_type": "code",
   "execution_count": 8,
   "id": "e5ee68e5",
   "metadata": {},
   "outputs": [],
   "source": [
    "for v in g.all_vertices():\n",
    "    v['nome'] = str(v)"
   ]
  },
  {
   "cell_type": "code",
   "execution_count": 9,
   "id": "95f2b7a4",
   "metadata": {},
   "outputs": [
    {
     "name": "stdout",
     "output_type": "stream",
     "text": [
      "O número de vértices do grafo é : 225\n"
     ]
    }
   ],
   "source": [
    "n = g.num_vertices()\n",
    "print('O número de vértices do grafo é :', n)"
   ]
  },
  {
   "cell_type": "code",
   "execution_count": null,
   "id": "d1e4a1ec",
   "metadata": {},
   "outputs": [],
   "source": []
  },
  {
   "cell_type": "code",
   "execution_count": 10,
   "id": "4bb670ff",
   "metadata": {},
   "outputs": [
    {
     "data": {
      "text/html": [
       "<div>\n",
       "<style scoped>\n",
       "    .dataframe tbody tr th:only-of-type {\n",
       "        vertical-align: middle;\n",
       "    }\n",
       "\n",
       "    .dataframe tbody tr th {\n",
       "        vertical-align: top;\n",
       "    }\n",
       "\n",
       "    .dataframe thead th {\n",
       "        text-align: right;\n",
       "    }\n",
       "</style>\n",
       "<table border=\"1\" class=\"dataframe\">\n",
       "  <thead>\n",
       "    <tr style=\"text-align: right;\">\n",
       "      <th></th>\n",
       "      <th>destiny</th>\n",
       "      <th>origin</th>\n",
       "      <th>value</th>\n",
       "    </tr>\n",
       "  </thead>\n",
       "  <tbody>\n",
       "    <tr>\n",
       "      <th>0</th>\n",
       "      <td>Zimbabwe</td>\n",
       "      <td>Afghanistan</td>\n",
       "      <td>5</td>\n",
       "    </tr>\n",
       "    <tr>\n",
       "      <th>1</th>\n",
       "      <td>South Africa</td>\n",
       "      <td>Afghanistan</td>\n",
       "      <td>0</td>\n",
       "    </tr>\n",
       "    <tr>\n",
       "      <th>2</th>\n",
       "      <td>Uzbekistan</td>\n",
       "      <td>Afghanistan</td>\n",
       "      <td>747</td>\n",
       "    </tr>\n",
       "    <tr>\n",
       "      <th>3</th>\n",
       "      <td>United States of America</td>\n",
       "      <td>Afghanistan</td>\n",
       "      <td>151</td>\n",
       "    </tr>\n",
       "    <tr>\n",
       "      <th>4</th>\n",
       "      <td>United States of America</td>\n",
       "      <td>Afghanistan</td>\n",
       "      <td>182</td>\n",
       "    </tr>\n",
       "    <tr>\n",
       "      <th>...</th>\n",
       "      <td>...</td>\n",
       "      <td>...</td>\n",
       "      <td>...</td>\n",
       "    </tr>\n",
       "    <tr>\n",
       "      <th>129715</th>\n",
       "      <td>United States of America</td>\n",
       "      <td>Zimbabwe</td>\n",
       "      <td>16</td>\n",
       "    </tr>\n",
       "    <tr>\n",
       "      <th>129716</th>\n",
       "      <td>United States of America</td>\n",
       "      <td>Zimbabwe</td>\n",
       "      <td>*</td>\n",
       "    </tr>\n",
       "    <tr>\n",
       "      <th>129717</th>\n",
       "      <td>South Africa</td>\n",
       "      <td>Zimbabwe</td>\n",
       "      <td>NaN</td>\n",
       "    </tr>\n",
       "    <tr>\n",
       "      <th>129718</th>\n",
       "      <td>South Africa</td>\n",
       "      <td>Zimbabwe</td>\n",
       "      <td>73</td>\n",
       "    </tr>\n",
       "    <tr>\n",
       "      <th>129719</th>\n",
       "      <td>Zambia</td>\n",
       "      <td>Zimbabwe</td>\n",
       "      <td>0</td>\n",
       "    </tr>\n",
       "  </tbody>\n",
       "</table>\n",
       "<p>129720 rows × 3 columns</p>\n",
       "</div>"
      ],
      "text/plain": [
       "                         destiny       origin value\n",
       "0                       Zimbabwe  Afghanistan     5\n",
       "1                   South Africa  Afghanistan     0\n",
       "2                     Uzbekistan  Afghanistan   747\n",
       "3       United States of America  Afghanistan   151\n",
       "4       United States of America  Afghanistan   182\n",
       "...                          ...          ...   ...\n",
       "129715  United States of America     Zimbabwe    16\n",
       "129716  United States of America     Zimbabwe     *\n",
       "129717              South Africa     Zimbabwe   NaN\n",
       "129718              South Africa     Zimbabwe    73\n",
       "129719                    Zambia     Zimbabwe     0\n",
       "\n",
       "[129720 rows x 3 columns]"
      ]
     },
     "execution_count": 10,
     "metadata": {},
     "output_type": "execute_result"
    }
   ],
   "source": [
    "df_aresta = df.loc[:, ['Country / territory of asylum/residence', 'Origin', 'decisions_recognized']]\n",
    "df_aresta = df_aresta.rename(columns={'Origin': 'origin', 'Country / territory of asylum/residence': 'destiny', 'decisions_recognized': 'value'})\n",
    "df_aresta"
   ]
  },
  {
   "cell_type": "code",
   "execution_count": 11,
   "id": "cac201fb",
   "metadata": {},
   "outputs": [
    {
     "data": {
      "text/html": [
       "<div>\n",
       "<style scoped>\n",
       "    .dataframe tbody tr th:only-of-type {\n",
       "        vertical-align: middle;\n",
       "    }\n",
       "\n",
       "    .dataframe tbody tr th {\n",
       "        vertical-align: top;\n",
       "    }\n",
       "\n",
       "    .dataframe thead th {\n",
       "        text-align: right;\n",
       "    }\n",
       "</style>\n",
       "<table border=\"1\" class=\"dataframe\">\n",
       "  <thead>\n",
       "    <tr style=\"text-align: right;\">\n",
       "      <th></th>\n",
       "      <th>destiny</th>\n",
       "      <th>origin</th>\n",
       "      <th>value</th>\n",
       "    </tr>\n",
       "  </thead>\n",
       "  <tbody>\n",
       "    <tr>\n",
       "      <th>0</th>\n",
       "      <td>Zimbabwe</td>\n",
       "      <td>Afghanistan</td>\n",
       "      <td>5.0</td>\n",
       "    </tr>\n",
       "    <tr>\n",
       "      <th>1</th>\n",
       "      <td>South Africa</td>\n",
       "      <td>Afghanistan</td>\n",
       "      <td>0.0</td>\n",
       "    </tr>\n",
       "    <tr>\n",
       "      <th>2</th>\n",
       "      <td>Uzbekistan</td>\n",
       "      <td>Afghanistan</td>\n",
       "      <td>747.0</td>\n",
       "    </tr>\n",
       "    <tr>\n",
       "      <th>3</th>\n",
       "      <td>United States of America</td>\n",
       "      <td>Afghanistan</td>\n",
       "      <td>151.0</td>\n",
       "    </tr>\n",
       "    <tr>\n",
       "      <th>4</th>\n",
       "      <td>United States of America</td>\n",
       "      <td>Afghanistan</td>\n",
       "      <td>182.0</td>\n",
       "    </tr>\n",
       "    <tr>\n",
       "      <th>...</th>\n",
       "      <td>...</td>\n",
       "      <td>...</td>\n",
       "      <td>...</td>\n",
       "    </tr>\n",
       "    <tr>\n",
       "      <th>129715</th>\n",
       "      <td>United States of America</td>\n",
       "      <td>Zimbabwe</td>\n",
       "      <td>16.0</td>\n",
       "    </tr>\n",
       "    <tr>\n",
       "      <th>129716</th>\n",
       "      <td>United States of America</td>\n",
       "      <td>Zimbabwe</td>\n",
       "      <td>0.0</td>\n",
       "    </tr>\n",
       "    <tr>\n",
       "      <th>129717</th>\n",
       "      <td>South Africa</td>\n",
       "      <td>Zimbabwe</td>\n",
       "      <td>0.0</td>\n",
       "    </tr>\n",
       "    <tr>\n",
       "      <th>129718</th>\n",
       "      <td>South Africa</td>\n",
       "      <td>Zimbabwe</td>\n",
       "      <td>73.0</td>\n",
       "    </tr>\n",
       "    <tr>\n",
       "      <th>129719</th>\n",
       "      <td>Zambia</td>\n",
       "      <td>Zimbabwe</td>\n",
       "      <td>0.0</td>\n",
       "    </tr>\n",
       "  </tbody>\n",
       "</table>\n",
       "<p>129720 rows × 3 columns</p>\n",
       "</div>"
      ],
      "text/plain": [
       "                         destiny       origin  value\n",
       "0                       Zimbabwe  Afghanistan    5.0\n",
       "1                   South Africa  Afghanistan    0.0\n",
       "2                     Uzbekistan  Afghanistan  747.0\n",
       "3       United States of America  Afghanistan  151.0\n",
       "4       United States of America  Afghanistan  182.0\n",
       "...                          ...          ...    ...\n",
       "129715  United States of America     Zimbabwe   16.0\n",
       "129716  United States of America     Zimbabwe    0.0\n",
       "129717              South Africa     Zimbabwe    0.0\n",
       "129718              South Africa     Zimbabwe   73.0\n",
       "129719                    Zambia     Zimbabwe    0.0\n",
       "\n",
       "[129720 rows x 3 columns]"
      ]
     },
     "execution_count": 11,
     "metadata": {},
     "output_type": "execute_result"
    }
   ],
   "source": [
    "df_aresta.value = pd.to_numeric(df_aresta['value'], errors = 'coerce').fillna(0)\n",
    "df_aresta"
   ]
  },
  {
   "cell_type": "code",
   "execution_count": 12,
   "id": "867a99d8",
   "metadata": {},
   "outputs": [
    {
     "data": {
      "text/html": [
       "<div>\n",
       "<style scoped>\n",
       "    .dataframe tbody tr th:only-of-type {\n",
       "        vertical-align: middle;\n",
       "    }\n",
       "\n",
       "    .dataframe tbody tr th {\n",
       "        vertical-align: top;\n",
       "    }\n",
       "\n",
       "    .dataframe thead th {\n",
       "        text-align: right;\n",
       "    }\n",
       "</style>\n",
       "<table border=\"1\" class=\"dataframe\">\n",
       "  <thead>\n",
       "    <tr style=\"text-align: right;\">\n",
       "      <th></th>\n",
       "      <th>origin</th>\n",
       "      <th>destiny</th>\n",
       "      <th>value</th>\n",
       "    </tr>\n",
       "  </thead>\n",
       "  <tbody>\n",
       "    <tr>\n",
       "      <th>0</th>\n",
       "      <td>Afghanistan</td>\n",
       "      <td>Albania</td>\n",
       "      <td>3.0</td>\n",
       "    </tr>\n",
       "    <tr>\n",
       "      <th>1</th>\n",
       "      <td>Afghanistan</td>\n",
       "      <td>Algeria</td>\n",
       "      <td>2.0</td>\n",
       "    </tr>\n",
       "    <tr>\n",
       "      <th>2</th>\n",
       "      <td>Afghanistan</td>\n",
       "      <td>Angola</td>\n",
       "      <td>0.0</td>\n",
       "    </tr>\n",
       "    <tr>\n",
       "      <th>3</th>\n",
       "      <td>Afghanistan</td>\n",
       "      <td>Argentina</td>\n",
       "      <td>5.0</td>\n",
       "    </tr>\n",
       "    <tr>\n",
       "      <th>4</th>\n",
       "      <td>Afghanistan</td>\n",
       "      <td>Armenia</td>\n",
       "      <td>0.0</td>\n",
       "    </tr>\n",
       "    <tr>\n",
       "      <th>...</th>\n",
       "      <td>...</td>\n",
       "      <td>...</td>\n",
       "      <td>...</td>\n",
       "    </tr>\n",
       "    <tr>\n",
       "      <th>11082</th>\n",
       "      <td>Zimbabwe</td>\n",
       "      <td>United Kingdom</td>\n",
       "      <td>15429.0</td>\n",
       "    </tr>\n",
       "    <tr>\n",
       "      <th>11083</th>\n",
       "      <td>Zimbabwe</td>\n",
       "      <td>United Rep. of Tanzania</td>\n",
       "      <td>1.0</td>\n",
       "    </tr>\n",
       "    <tr>\n",
       "      <th>11084</th>\n",
       "      <td>Zimbabwe</td>\n",
       "      <td>United States of America</td>\n",
       "      <td>1722.0</td>\n",
       "    </tr>\n",
       "    <tr>\n",
       "      <th>11085</th>\n",
       "      <td>Zimbabwe</td>\n",
       "      <td>Uruguay</td>\n",
       "      <td>1.0</td>\n",
       "    </tr>\n",
       "    <tr>\n",
       "      <th>11086</th>\n",
       "      <td>Zimbabwe</td>\n",
       "      <td>Zambia</td>\n",
       "      <td>9.0</td>\n",
       "    </tr>\n",
       "  </tbody>\n",
       "</table>\n",
       "<p>11087 rows × 3 columns</p>\n",
       "</div>"
      ],
      "text/plain": [
       "            origin                   destiny    value\n",
       "0      Afghanistan                   Albania      3.0\n",
       "1      Afghanistan                   Algeria      2.0\n",
       "2      Afghanistan                    Angola      0.0\n",
       "3      Afghanistan                 Argentina      5.0\n",
       "4      Afghanistan                   Armenia      0.0\n",
       "...            ...                       ...      ...\n",
       "11082     Zimbabwe            United Kingdom  15429.0\n",
       "11083     Zimbabwe   United Rep. of Tanzania      1.0\n",
       "11084     Zimbabwe  United States of America   1722.0\n",
       "11085     Zimbabwe                   Uruguay      1.0\n",
       "11086     Zimbabwe                    Zambia      9.0\n",
       "\n",
       "[11087 rows x 3 columns]"
      ]
     },
     "execution_count": 12,
     "metadata": {},
     "output_type": "execute_result"
    }
   ],
   "source": [
    "df_aresta = df_aresta.groupby(['origin', 'destiny']).sum().reset_index()\n",
    "df_aresta\n"
   ]
  },
  {
   "cell_type": "code",
   "execution_count": 13,
   "id": "59ad4ef5",
   "metadata": {},
   "outputs": [
    {
     "data": {
      "text/html": [
       "<div>\n",
       "<style scoped>\n",
       "    .dataframe tbody tr th:only-of-type {\n",
       "        vertical-align: middle;\n",
       "    }\n",
       "\n",
       "    .dataframe tbody tr th {\n",
       "        vertical-align: top;\n",
       "    }\n",
       "\n",
       "    .dataframe thead th {\n",
       "        text-align: right;\n",
       "    }\n",
       "</style>\n",
       "<table border=\"1\" class=\"dataframe\">\n",
       "  <thead>\n",
       "    <tr style=\"text-align: right;\">\n",
       "      <th></th>\n",
       "      <th>origin</th>\n",
       "      <th>destiny</th>\n",
       "      <th>value</th>\n",
       "    </tr>\n",
       "  </thead>\n",
       "  <tbody>\n",
       "    <tr>\n",
       "      <th>0</th>\n",
       "      <td>Afghanistan</td>\n",
       "      <td>Albania</td>\n",
       "      <td>3.0</td>\n",
       "    </tr>\n",
       "    <tr>\n",
       "      <th>1</th>\n",
       "      <td>Afghanistan</td>\n",
       "      <td>Algeria</td>\n",
       "      <td>2.0</td>\n",
       "    </tr>\n",
       "    <tr>\n",
       "      <th>2</th>\n",
       "      <td>Afghanistan</td>\n",
       "      <td>Angola</td>\n",
       "      <td>0.0</td>\n",
       "    </tr>\n",
       "    <tr>\n",
       "      <th>3</th>\n",
       "      <td>Afghanistan</td>\n",
       "      <td>Argentina</td>\n",
       "      <td>5.0</td>\n",
       "    </tr>\n",
       "    <tr>\n",
       "      <th>4</th>\n",
       "      <td>Afghanistan</td>\n",
       "      <td>Armenia</td>\n",
       "      <td>0.0</td>\n",
       "    </tr>\n",
       "    <tr>\n",
       "      <th>...</th>\n",
       "      <td>...</td>\n",
       "      <td>...</td>\n",
       "      <td>...</td>\n",
       "    </tr>\n",
       "    <tr>\n",
       "      <th>11082</th>\n",
       "      <td>Zimbabwe</td>\n",
       "      <td>United Kingdom</td>\n",
       "      <td>15429.0</td>\n",
       "    </tr>\n",
       "    <tr>\n",
       "      <th>11083</th>\n",
       "      <td>Zimbabwe</td>\n",
       "      <td>United Rep. of Tanzania</td>\n",
       "      <td>1.0</td>\n",
       "    </tr>\n",
       "    <tr>\n",
       "      <th>11084</th>\n",
       "      <td>Zimbabwe</td>\n",
       "      <td>United States of America</td>\n",
       "      <td>1722.0</td>\n",
       "    </tr>\n",
       "    <tr>\n",
       "      <th>11085</th>\n",
       "      <td>Zimbabwe</td>\n",
       "      <td>Uruguay</td>\n",
       "      <td>1.0</td>\n",
       "    </tr>\n",
       "    <tr>\n",
       "      <th>11086</th>\n",
       "      <td>Zimbabwe</td>\n",
       "      <td>Zambia</td>\n",
       "      <td>9.0</td>\n",
       "    </tr>\n",
       "  </tbody>\n",
       "</table>\n",
       "<p>11063 rows × 3 columns</p>\n",
       "</div>"
      ],
      "text/plain": [
       "            origin                   destiny    value\n",
       "0      Afghanistan                   Albania      3.0\n",
       "1      Afghanistan                   Algeria      2.0\n",
       "2      Afghanistan                    Angola      0.0\n",
       "3      Afghanistan                 Argentina      5.0\n",
       "4      Afghanistan                   Armenia      0.0\n",
       "...            ...                       ...      ...\n",
       "11082     Zimbabwe            United Kingdom  15429.0\n",
       "11083     Zimbabwe   United Rep. of Tanzania      1.0\n",
       "11084     Zimbabwe  United States of America   1722.0\n",
       "11085     Zimbabwe                   Uruguay      1.0\n",
       "11086     Zimbabwe                    Zambia      9.0\n",
       "\n",
       "[11063 rows x 3 columns]"
      ]
     },
     "execution_count": 13,
     "metadata": {},
     "output_type": "execute_result"
    }
   ],
   "source": [
    "df_aresta = df_aresta[df_aresta['origin'] != df_aresta['destiny']]\n",
    "df_aresta"
   ]
  },
  {
   "cell_type": "code",
   "execution_count": 14,
   "id": "f49d19ab",
   "metadata": {},
   "outputs": [],
   "source": [
    "for index, row in df_aresta.iterrows():\n",
    "    g.add_edge(row.origin, row.destiny)\n",
    "    g.get_edge(row.origin, row.destiny)['aceitos'] = row.value"
   ]
  },
  {
   "cell_type": "code",
   "execution_count": 15,
   "id": "78583b18",
   "metadata": {},
   "outputs": [],
   "source": [
    "from netpixi.integration.gt import *"
   ]
  },
  {
   "cell_type": "code",
   "execution_count": 16,
   "id": "bddfb45b",
   "metadata": {},
   "outputs": [],
   "source": [
    "gt_save(g, '/grafo_atualizado.net.gz')"
   ]
  },
  {
   "cell_type": "code",
   "execution_count": 17,
   "id": "fc2a303f",
   "metadata": {},
   "outputs": [],
   "source": [
    "g = gt_load('/grafo_atualizado.net.gz')"
   ]
  },
  {
   "cell_type": "code",
   "execution_count": 18,
   "id": "dbe110c5",
   "metadata": {},
   "outputs": [],
   "source": [
    "import netpixi\n",
    "g = gt_load('/grafo_atualizado.net.gz')\n",
    "m = gt_draw.sfdp_layout(g)\n",
    "gt_move(g, m)\n",
    "gt_save(g, 'grafo_atualizado.net.gz')\n"
   ]
  },
  {
   "cell_type": "code",
   "execution_count": 19,
   "id": "24005f70",
   "metadata": {},
   "outputs": [],
   "source": [
    "#r = netpixi.render('grafo_atualizado.net.gz', infinite=True);"
   ]
  },
  {
   "cell_type": "code",
   "execution_count": 20,
   "id": "2baa7810",
   "metadata": {},
   "outputs": [
    {
     "name": "stderr",
     "output_type": "stream",
     "text": [
      "<frozen importlib._bootstrap>:914: ImportWarning: VendorImporter.find_spec() not found; falling back to find_module()\n"
     ]
    },
    {
     "ename": "NameError",
     "evalue": "name 'r' is not defined",
     "output_type": "error",
     "traceback": [
      "\u001b[0;31m---------------------------------------------------------------------------\u001b[0m",
      "\u001b[0;31mNameError\u001b[0m                                 Traceback (most recent call last)",
      "Cell \u001b[0;32mIn [20], line 1\u001b[0m\n\u001b[0;32m----> 1\u001b[0m \u001b[43mr\u001b[49m\u001b[38;5;241m.\u001b[39mvertex_set_key(\u001b[38;5;124m'\u001b[39m\u001b[38;5;124mnome\u001b[39m\u001b[38;5;124m'\u001b[39m)\n\u001b[1;32m      3\u001b[0m r\u001b[38;5;241m.\u001b[39mvertex_default(color\u001b[38;5;241m=\u001b[39m\u001b[38;5;241m0xffffff\u001b[39m)\n\u001b[1;32m      5\u001b[0m \u001b[38;5;66;03m# mudar a cor, a espessura e a curvatura das arestas\u001b[39;00m\n",
      "\u001b[0;31mNameError\u001b[0m: name 'r' is not defined"
     ]
    }
   ],
   "source": [
    "r.vertex_set_key('nome')\n",
    "\n",
    "r.vertex_default(color=0xffffff)\n",
    "\n",
    "# mudar a cor, a espessura e a curvatura das arestas\n",
    "r.edge_default(color=0x20B2AA)"
   ]
  },
  {
   "cell_type": "code",
   "execution_count": null,
   "id": "cca9e5dd",
   "metadata": {},
   "outputs": [],
   "source": [
    "r.edge_scale('aceitos', 1, 10)"
   ]
  },
  {
   "cell_type": "code",
   "execution_count": null,
   "id": "1d216f34",
   "metadata": {},
   "outputs": [],
   "source": [
    "r.vertex('Germany', color=0xff0000, size=20)\n",
    "r.vertex('Syrian Arab Rep.', color=0xff0000, size=20)\n",
    "r.vertex('United States of America', color=0xff0000, size=20)\n",
    "r.vertex('China', color=0xff0000, size=20)\n",
    "r.vertex('Colombia', color=0xff0000, size=20)\n",
    "r.vertex('Ecuador', color=0xff0000, size=20)\n",
    "r.vertex('Iraq', color=0xff0000, size=20)\n",
    "r.vertex('Turkey', color=0xff0000, size=20)\n",
    "r.vertex('Myanmar', color=0xff0000, size=20)\n",
    "r.vertex('Malaysia', color=0xff0000, size=20)"
   ]
  },
  {
   "cell_type": "markdown",
   "id": "a0e1dc3c",
   "metadata": {},
   "source": [
    "## Betweenness"
   ]
  },
  {
   "cell_type": "code",
   "execution_count": 26,
   "id": "bab73271",
   "metadata": {},
   "outputs": [
    {
     "name": "stderr",
     "output_type": "stream",
     "text": [
      "/usr/local/lib/python3.10/site-packages/seaborn/rcmod.py:82: DeprecationWarning: distutils Version classes are deprecated. Use packaging.version instead.\n",
      "  if LooseVersion(mpl.__version__) >= \"3.0\":\n",
      "/usr/local/lib/python3.10/site-packages/setuptools/_distutils/version.py:346: DeprecationWarning: distutils Version classes are deprecated. Use packaging.version instead.\n",
      "  other = LooseVersion(other)\n",
      "<frozen importlib._bootstrap>:914: ImportWarning: VendorImporter.find_spec() not found; falling back to find_module()\n",
      "/usr/local/lib/python3.10/site-packages/seaborn/cm.py:1582: PendingDeprecationWarning: The register_cmap function will be deprecated in a future version. Use ``matplotlib.colormaps.register(name)`` instead.\n",
      "  mpl_cm.register_cmap(_name, _cmap)\n",
      "/usr/local/lib/python3.10/site-packages/seaborn/cm.py:1583: PendingDeprecationWarning: The register_cmap function will be deprecated in a future version. Use ``matplotlib.colormaps.register(name)`` instead.\n",
      "  mpl_cm.register_cmap(_name + \"_r\", _cmap_r)\n",
      "<frozen importlib._bootstrap>:914: ImportWarning: VendorImporter.find_spec() not found; falling back to find_module()\n",
      "/usr/local/lib/python3.10/site-packages/seaborn/rcmod.py:400: DeprecationWarning: distutils Version classes are deprecated. Use packaging.version instead.\n",
      "  if LooseVersion(mpl.__version__) >= \"3.0\":\n",
      "/usr/local/lib/python3.10/site-packages/setuptools/_distutils/version.py:346: DeprecationWarning: distutils Version classes are deprecated. Use packaging.version instead.\n",
      "  other = LooseVersion(other)\n"
     ]
    }
   ],
   "source": [
    "from graph_tool import centrality\n",
    "import netpixi\n",
    "\n",
    "from netpixi.integration.gt import *\n",
    "from regression.integration.gt import *\n",
    "\n",
    "bc_completo, _ = centrality.betweenness(g)"
   ]
  },
  {
   "cell_type": "code",
   "execution_count": 27,
   "id": "4cb5e1ba",
   "metadata": {},
   "outputs": [],
   "source": [
    "g.add_vp('betweenness', bc_completo)"
   ]
  },
  {
   "cell_type": "code",
   "execution_count": 28,
   "id": "ac143ce2",
   "metadata": {},
   "outputs": [
    {
     "data": {
      "text/html": [
       "<div>\n",
       "<style scoped>\n",
       "    .dataframe tbody tr th:only-of-type {\n",
       "        vertical-align: middle;\n",
       "    }\n",
       "\n",
       "    .dataframe tbody tr th {\n",
       "        vertical-align: top;\n",
       "    }\n",
       "\n",
       "    .dataframe thead th {\n",
       "        text-align: right;\n",
       "    }\n",
       "</style>\n",
       "<table border=\"1\" class=\"dataframe\">\n",
       "  <thead>\n",
       "    <tr style=\"text-align: right;\">\n",
       "      <th></th>\n",
       "      <th>nome</th>\n",
       "      <th>betweenness</th>\n",
       "    </tr>\n",
       "    <tr>\n",
       "      <th>id</th>\n",
       "      <th></th>\n",
       "      <th></th>\n",
       "    </tr>\n",
       "  </thead>\n",
       "  <tbody>\n",
       "    <tr>\n",
       "      <th>United States of America</th>\n",
       "      <td>United States of America</td>\n",
       "      <td>0.088410</td>\n",
       "    </tr>\n",
       "    <tr>\n",
       "      <th>Syrian Arab Rep.</th>\n",
       "      <td>Syrian Arab Rep.</td>\n",
       "      <td>0.066462</td>\n",
       "    </tr>\n",
       "    <tr>\n",
       "      <th>United Kingdom</th>\n",
       "      <td>United Kingdom</td>\n",
       "      <td>0.038188</td>\n",
       "    </tr>\n",
       "    <tr>\n",
       "      <th>South Africa</th>\n",
       "      <td>South Africa</td>\n",
       "      <td>0.032442</td>\n",
       "    </tr>\n",
       "    <tr>\n",
       "      <th>Russian Federation</th>\n",
       "      <td>Russian Federation</td>\n",
       "      <td>0.025242</td>\n",
       "    </tr>\n",
       "    <tr>\n",
       "      <th>...</th>\n",
       "      <td>...</td>\n",
       "      <td>...</td>\n",
       "    </tr>\n",
       "    <tr>\n",
       "      <th>Montserrat</th>\n",
       "      <td>Montserrat</td>\n",
       "      <td>0.000000</td>\n",
       "    </tr>\n",
       "    <tr>\n",
       "      <th>Kiribati</th>\n",
       "      <td>Kiribati</td>\n",
       "      <td>0.000000</td>\n",
       "    </tr>\n",
       "    <tr>\n",
       "      <th>British Virgin Islands</th>\n",
       "      <td>British Virgin Islands</td>\n",
       "      <td>0.000000</td>\n",
       "    </tr>\n",
       "    <tr>\n",
       "      <th>American Samoa</th>\n",
       "      <td>American Samoa</td>\n",
       "      <td>0.000000</td>\n",
       "    </tr>\n",
       "    <tr>\n",
       "      <th>Puerto Rico</th>\n",
       "      <td>Puerto Rico</td>\n",
       "      <td>0.000000</td>\n",
       "    </tr>\n",
       "  </tbody>\n",
       "</table>\n",
       "<p>225 rows × 2 columns</p>\n",
       "</div>"
      ],
      "text/plain": [
       "                                              nome  betweenness\n",
       "id                                                             \n",
       "United States of America  United States of America     0.088410\n",
       "Syrian Arab Rep.                  Syrian Arab Rep.     0.066462\n",
       "United Kingdom                      United Kingdom     0.038188\n",
       "South Africa                          South Africa     0.032442\n",
       "Russian Federation              Russian Federation     0.025242\n",
       "...                                            ...          ...\n",
       "Montserrat                              Montserrat     0.000000\n",
       "Kiribati                                  Kiribati     0.000000\n",
       "British Virgin Islands      British Virgin Islands     0.000000\n",
       "American Samoa                      American Samoa     0.000000\n",
       "Puerto Rico                            Puerto Rico     0.000000\n",
       "\n",
       "[225 rows x 2 columns]"
      ]
     },
     "execution_count": 28,
     "metadata": {},
     "output_type": "execute_result"
    }
   ],
   "source": [
    "df_betweenness = gt_data(g).sort_values(\"betweenness\", ascending = False)\n",
    "df_betweenness"
   ]
  },
  {
   "cell_type": "code",
   "execution_count": 29,
   "id": "b65a4766",
   "metadata": {},
   "outputs": [
    {
     "name": "stderr",
     "output_type": "stream",
     "text": [
      "<frozen importlib._bootstrap>:914: ImportWarning: VendorImporter.find_spec() not found; falling back to find_module()\n"
     ]
    }
   ],
   "source": [
    "import openpyxl\n",
    "\n",
    "df_betweenness.to_excel('./betweenness.xlsx')"
   ]
  },
  {
   "cell_type": "code",
   "execution_count": 30,
   "id": "5b83fb11",
   "metadata": {},
   "outputs": [],
   "source": [
    "m = gt_draw.sfdp_layout(g)\n",
    "gt_move(g, m)\n",
    "gt_save(g, 'centralidadeBetweenness.net.gz')\n",
    "#r = netpixi.render('centralidadeBetweenness.net.gz')"
   ]
  },
  {
   "cell_type": "code",
   "execution_count": null,
   "id": "75cf01af",
   "metadata": {},
   "outputs": [],
   "source": [
    "# mudar a cor e o tamanho dos vértices\n",
    "r.vertex_default(color=0xffffff)\n",
    "\n",
    "# mudar a cor, a espessura e a curvatura das arestas\n",
    "r.edge_default(color=0x20B2AA)\n",
    "\n",
    "r.edge_scale('aceitos', 1, 10)\n",
    "\n",
    "r.vertex_set_key('nome')\n",
    "\n",
    "r.vertex_scale('betweenness', 5, 25)"
   ]
  },
  {
   "cell_type": "markdown",
   "id": "471393ea",
   "metadata": {},
   "source": [
    "# Coreness"
   ]
  },
  {
   "cell_type": "code",
   "execution_count": 36,
   "id": "c9a16f23",
   "metadata": {},
   "outputs": [],
   "source": [
    "import netpixi\n",
    "import cpnet\n",
    "\n",
    "from graph_tool import spectral\n",
    "from netpixi.integration.gt import *"
   ]
  },
  {
   "cell_type": "code",
   "execution_count": 37,
   "id": "772c6612",
   "metadata": {},
   "outputs": [],
   "source": [
    "g =  gt_load('/grafo_atualizado.net.gz')\n"
   ]
  },
  {
   "cell_type": "code",
   "execution_count": 38,
   "id": "988c2e16",
   "metadata": {},
   "outputs": [],
   "source": [
    "m = gt_draw.sfdp_layout(g)\n",
    "gt_move(g, m)\n",
    "gt_save(g, 'centralidadeCoreness.net.gz')\n"
   ]
  },
  {
   "cell_type": "code",
   "execution_count": 50,
   "id": "1f81aaa2",
   "metadata": {},
   "outputs": [],
   "source": [
    "#r = netpixi.render('centralidadeCoreness.net.gz')"
   ]
  },
  {
   "cell_type": "code",
   "execution_count": 43,
   "id": "2326656e",
   "metadata": {},
   "outputs": [
    {
     "data": {
      "text/plain": [
       "<function regression.integration.gt.gt_data(g)>"
      ]
     },
     "execution_count": 43,
     "metadata": {},
     "output_type": "execute_result"
    }
   ],
   "source": [
    "gt_data"
   ]
  },
  {
   "cell_type": "code",
   "execution_count": 51,
   "id": "c3ee79db",
   "metadata": {},
   "outputs": [
    {
     "data": {
      "text/html": [
       "<div>\n",
       "<style scoped>\n",
       "    .dataframe tbody tr th:only-of-type {\n",
       "        vertical-align: middle;\n",
       "    }\n",
       "\n",
       "    .dataframe tbody tr th {\n",
       "        vertical-align: top;\n",
       "    }\n",
       "\n",
       "    .dataframe thead th {\n",
       "        text-align: right;\n",
       "    }\n",
       "</style>\n",
       "<table border=\"1\" class=\"dataframe\">\n",
       "  <thead>\n",
       "    <tr style=\"text-align: right;\">\n",
       "      <th></th>\n",
       "      <th>nome</th>\n",
       "      <th>coreness</th>\n",
       "    </tr>\n",
       "    <tr>\n",
       "      <th>id</th>\n",
       "      <th></th>\n",
       "      <th></th>\n",
       "    </tr>\n",
       "  </thead>\n",
       "  <tbody>\n",
       "    <tr>\n",
       "      <th>Netherlands</th>\n",
       "      <td>Netherlands</td>\n",
       "      <td>0.994444</td>\n",
       "    </tr>\n",
       "    <tr>\n",
       "      <th>Latvia</th>\n",
       "      <td>Latvia</td>\n",
       "      <td>0.988889</td>\n",
       "    </tr>\n",
       "    <tr>\n",
       "      <th>United States of America</th>\n",
       "      <td>United States of America</td>\n",
       "      <td>0.983333</td>\n",
       "    </tr>\n",
       "    <tr>\n",
       "      <th>Australia</th>\n",
       "      <td>Australia</td>\n",
       "      <td>0.977778</td>\n",
       "    </tr>\n",
       "    <tr>\n",
       "      <th>United Kingdom</th>\n",
       "      <td>United Kingdom</td>\n",
       "      <td>0.972222</td>\n",
       "    </tr>\n",
       "    <tr>\n",
       "      <th>...</th>\n",
       "      <td>...</td>\n",
       "      <td>...</td>\n",
       "    </tr>\n",
       "    <tr>\n",
       "      <th>Svalbard and Jan Mayen</th>\n",
       "      <td>Svalbard and Jan Mayen</td>\n",
       "      <td>0.005556</td>\n",
       "    </tr>\n",
       "    <tr>\n",
       "      <th>Palestinian</th>\n",
       "      <td>Palestinian</td>\n",
       "      <td>0.004167</td>\n",
       "    </tr>\n",
       "    <tr>\n",
       "      <th>Cabo Verde</th>\n",
       "      <td>Cabo Verde</td>\n",
       "      <td>0.002778</td>\n",
       "    </tr>\n",
       "    <tr>\n",
       "      <th>New Caledonia</th>\n",
       "      <td>New Caledonia</td>\n",
       "      <td>0.001389</td>\n",
       "    </tr>\n",
       "    <tr>\n",
       "      <th>Gibraltar</th>\n",
       "      <td>Gibraltar</td>\n",
       "      <td>0.000000</td>\n",
       "    </tr>\n",
       "  </tbody>\n",
       "</table>\n",
       "<p>225 rows × 2 columns</p>\n",
       "</div>"
      ],
      "text/plain": [
       "                                              nome  coreness\n",
       "id                                                          \n",
       "Netherlands                            Netherlands  0.994444\n",
       "Latvia                                      Latvia  0.988889\n",
       "United States of America  United States of America  0.983333\n",
       "Australia                                Australia  0.977778\n",
       "United Kingdom                      United Kingdom  0.972222\n",
       "...                                            ...       ...\n",
       "Svalbard and Jan Mayen      Svalbard and Jan Mayen  0.005556\n",
       "Palestinian                            Palestinian  0.004167\n",
       "Cabo Verde                              Cabo Verde  0.002778\n",
       "New Caledonia                        New Caledonia  0.001389\n",
       "Gibraltar                                Gibraltar  0.000000\n",
       "\n",
       "[225 rows x 2 columns]"
      ]
     },
     "execution_count": 51,
     "metadata": {},
     "output_type": "execute_result"
    }
   ],
   "source": [
    "df_coreness = gt_data(g).sort_values(\"coreness\", ascending = False)\n",
    "df_coreness"
   ]
  },
  {
   "cell_type": "code",
   "execution_count": 45,
   "id": "db4addff",
   "metadata": {},
   "outputs": [
    {
     "name": "stderr",
     "output_type": "stream",
     "text": [
      "<frozen importlib._bootstrap>:914: ImportWarning: VendorImporter.find_spec() not found; falling back to find_module()\n"
     ]
    }
   ],
   "source": [
    "import openpyxl\n",
    "\n",
    "df_coreness.to_excel('./coreness.xlsx')"
   ]
  },
  {
   "cell_type": "code",
   "execution_count": 60,
   "id": "15e8a588",
   "metadata": {},
   "outputs": [
    {
     "data": {
      "text/html": [
       "\n",
       "        <div id=\"A8K9DHHsvcowosAm2g8uR9\"></div>\n",
       "        <script>netpixi.call('A8K9DHHsvcowosAm2g8uR9', 'A3YHFPuQNPcfL5KrVLPfLP', 'changeGraph', 'eyJpZCI6ICJDYW1lcm9vbiIsICJ0eXBlIjogInZlcnRleCIsICJwcm9wcyI6IHsiY29sb3IiOiAxNjcxMTY4MH19Cg==');</script>\n",
       "    "
      ],
      "text/plain": [
       "<IPython.core.display.HTML object>"
      ]
     },
     "metadata": {},
     "output_type": "display_data"
    },
    {
     "data": {
      "text/html": [
       "\n",
       "        <div id=\"fMohGCNXgxRaJtF3H74uKs\"></div>\n",
       "        <script>netpixi.call('fMohGCNXgxRaJtF3H74uKs', 'A3YHFPuQNPcfL5KrVLPfLP', 'changeGraph', 'eyJpZCI6ICJOZXcgWmVhbGFuZCIsICJ0eXBlIjogInZlcnRleCIsICJwcm9wcyI6IHsiY29sb3IiOiAxNjcxMTY4MH19Cg==');</script>\n",
       "    "
      ],
      "text/plain": [
       "<IPython.core.display.HTML object>"
      ]
     },
     "metadata": {},
     "output_type": "display_data"
    },
    {
     "data": {
      "text/html": [
       "\n",
       "        <div id=\"GBR4kymbvAX3FUwHz8iQgd\"></div>\n",
       "        <script>netpixi.call('GBR4kymbvAX3FUwHz8iQgd', 'A3YHFPuQNPcfL5KrVLPfLP', 'changeGraph', 'eyJpZCI6ICJTb3V0aCBTdWRhbiIsICJ0eXBlIjogInZlcnRleCIsICJwcm9wcyI6IHsiY29sb3IiOiA2NTI4MH19Cg==');</script>\n",
       "    "
      ],
      "text/plain": [
       "<IPython.core.display.HTML object>"
      ]
     },
     "metadata": {},
     "output_type": "display_data"
    },
    {
     "data": {
      "text/html": [
       "\n",
       "        <div id=\"iZQTx4bYe7yezGtgmHHFAx\"></div>\n",
       "        <script>netpixi.call('iZQTx4bYe7yezGtgmHHFAx', 'A3YHFPuQNPcfL5KrVLPfLP', 'changeGraph', 'eyJpZCI6ICJHaWJyYWx0YXIiLCAidHlwZSI6ICJ2ZXJ0ZXgiLCAicHJvcHMiOiB7ImNvbG9yIjogNjUyODB9fQo=');</script>\n",
       "    "
      ],
      "text/plain": [
       "<IPython.core.display.HTML object>"
      ]
     },
     "metadata": {},
     "output_type": "display_data"
    },
    {
     "data": {
      "text/html": [
       "\n",
       "        <div id=\"AvgBrGrDTaAJ9iD4nvyW4p\"></div>\n",
       "        <script>netpixi.call('AvgBrGrDTaAJ9iD4nvyW4p', 'A3YHFPuQNPcfL5KrVLPfLP', 'changeGraph', 'eyJpZCI6ICJKYXBhbiIsICJ0eXBlIjogInZlcnRleCIsICJwcm9wcyI6IHsiY29sb3IiOiAxNjcxMTY4MH19Cg==');</script>\n",
       "    "
      ],
      "text/plain": [
       "<IPython.core.display.HTML object>"
      ]
     },
     "metadata": {},
     "output_type": "display_data"
    },
    {
     "data": {
      "text/html": [
       "\n",
       "        <div id=\"YuBsnRyPJ2zmEVbieTKZLf\"></div>\n",
       "        <script>netpixi.call('YuBsnRyPJ2zmEVbieTKZLf', 'A3YHFPuQNPcfL5KrVLPfLP', 'changeGraph', 'eyJpZCI6ICJGcmFuY2UiLCAidHlwZSI6ICJ2ZXJ0ZXgiLCAicHJvcHMiOiB7ImNvbG9yIjogMTY3MTE2ODB9fQo=');</script>\n",
       "    "
      ],
      "text/plain": [
       "<IPython.core.display.HTML object>"
      ]
     },
     "metadata": {},
     "output_type": "display_data"
    },
    {
     "data": {
      "text/html": [
       "\n",
       "        <div id=\"EvCSnHVbxoSRXMZRJQWeiD\"></div>\n",
       "        <script>netpixi.call('EvCSnHVbxoSRXMZRJQWeiD', 'A3YHFPuQNPcfL5KrVLPfLP', 'changeGraph', 'eyJpZCI6ICJNZXhpY28iLCAidHlwZSI6ICJ2ZXJ0ZXgiLCAicHJvcHMiOiB7ImNvbG9yIjogMTY3MTE2ODB9fQo=');</script>\n",
       "    "
      ],
      "text/plain": [
       "<IPython.core.display.HTML object>"
      ]
     },
     "metadata": {},
     "output_type": "display_data"
    },
    {
     "data": {
      "text/html": [
       "\n",
       "        <div id=\"CsPWLUYsDfxEBznnDuC9y2\"></div>\n",
       "        <script>netpixi.call('CsPWLUYsDfxEBznnDuC9y2', 'A3YHFPuQNPcfL5KrVLPfLP', 'changeGraph', 'eyJpZCI6ICJVa3JhaW5lIiwgInR5cGUiOiAidmVydGV4IiwgInByb3BzIjogeyJjb2xvciI6IDE2NzExNjgwfX0K');</script>\n",
       "    "
      ],
      "text/plain": [
       "<IPython.core.display.HTML object>"
      ]
     },
     "metadata": {},
     "output_type": "display_data"
    },
    {
     "data": {
      "text/html": [
       "\n",
       "        <div id=\"MZC9222AhYvsVjEsX5r3xc\"></div>\n",
       "        <script>netpixi.call('MZC9222AhYvsVjEsX5r3xc', 'A3YHFPuQNPcfL5KrVLPfLP', 'changeGraph', 'eyJpZCI6ICJMaWJ5YSIsICJ0eXBlIjogInZlcnRleCIsICJwcm9wcyI6IHsiY29sb3IiOiAxNjcxMTY4MH19Cg==');</script>\n",
       "    "
      ],
      "text/plain": [
       "<IPython.core.display.HTML object>"
      ]
     },
     "metadata": {},
     "output_type": "display_data"
    },
    {
     "data": {
      "text/html": [
       "\n",
       "        <div id=\"FVs6vsAtnngiferN8dSaJw\"></div>\n",
       "        <script>netpixi.call('FVs6vsAtnngiferN8dSaJw', 'A3YHFPuQNPcfL5KrVLPfLP', 'changeGraph', 'eyJpZCI6ICJHdWluZWEtQmlzc2F1IiwgInR5cGUiOiAidmVydGV4IiwgInByb3BzIjogeyJjb2xvciI6IDY1MjgwfX0K');</script>\n",
       "    "
      ],
      "text/plain": [
       "<IPython.core.display.HTML object>"
      ]
     },
     "metadata": {},
     "output_type": "display_data"
    },
    {
     "data": {
      "text/html": [
       "\n",
       "        <div id=\"QzJe9PK6B28rhfFfj8futh\"></div>\n",
       "        <script>netpixi.call('QzJe9PK6B28rhfFfj8futh', 'A3YHFPuQNPcfL5KrVLPfLP', 'changeGraph', 'eyJpZCI6ICJGaW5sYW5kIiwgInR5cGUiOiAidmVydGV4IiwgInByb3BzIjogeyJjb2xvciI6IDE2NzExNjgwfX0K');</script>\n",
       "    "
      ],
      "text/plain": [
       "<IPython.core.display.HTML object>"
      ]
     },
     "metadata": {},
     "output_type": "display_data"
    },
    {
     "data": {
      "text/html": [
       "\n",
       "        <div id=\"TfJf4SJNGVtGUV8hQZBfr6\"></div>\n",
       "        <script>netpixi.call('TfJf4SJNGVtGUV8hQZBfr6', 'A3YHFPuQNPcfL5KrVLPfLP', 'changeGraph', 'eyJpZCI6ICJTaW50IE1hYXJ0ZW4gKER1dGNoIHBhcnQpIiwgInR5cGUiOiAidmVydGV4IiwgInByb3BzIjogeyJjb2xvciI6IDY1MjgwfX0K');</script>\n",
       "    "
      ],
      "text/plain": [
       "<IPython.core.display.HTML object>"
      ]
     },
     "metadata": {},
     "output_type": "display_data"
    },
    {
     "data": {
      "text/html": [
       "\n",
       "        <div id=\"ixizpfGjUYBmM3VSF6Ao6B\"></div>\n",
       "        <script>netpixi.call('ixizpfGjUYBmM3VSF6Ao6B', 'A3YHFPuQNPcfL5KrVLPfLP', 'changeGraph', 'eyJpZCI6ICJDb21vcm9zIiwgInR5cGUiOiAidmVydGV4IiwgInByb3BzIjogeyJjb2xvciI6IDY1MjgwfX0K');</script>\n",
       "    "
      ],
      "text/plain": [
       "<IPython.core.display.HTML object>"
      ]
     },
     "metadata": {},
     "output_type": "display_data"
    },
    {
     "data": {
      "text/html": [
       "\n",
       "        <div id=\"eJaf4a3JboNFenPyRXb2p6\"></div>\n",
       "        <script>netpixi.call('eJaf4a3JboNFenPyRXb2p6', 'A3YHFPuQNPcfL5KrVLPfLP', 'changeGraph', 'eyJpZCI6ICJFcXVhdG9yaWFsIEd1aW5lYSIsICJ0eXBlIjogInZlcnRleCIsICJwcm9wcyI6IHsiY29sb3IiOiA2NTI4MH19Cg==');</script>\n",
       "    "
      ],
      "text/plain": [
       "<IPython.core.display.HTML object>"
      ]
     },
     "metadata": {},
     "output_type": "display_data"
    },
    {
     "data": {
      "text/html": [
       "\n",
       "        <div id=\"VbmrJ8sXreTtyMPvdYzDyt\"></div>\n",
       "        <script>netpixi.call('VbmrJ8sXreTtyMPvdYzDyt', 'A3YHFPuQNPcfL5KrVLPfLP', 'changeGraph', 'eyJpZCI6ICJWaWV0IE5hbSIsICJ0eXBlIjogInZlcnRleCIsICJwcm9wcyI6IHsiY29sb3IiOiA2NTI4MH19Cg==');</script>\n",
       "    "
      ],
      "text/plain": [
       "<IPython.core.display.HTML object>"
      ]
     },
     "metadata": {},
     "output_type": "display_data"
    },
    {
     "data": {
      "text/html": [
       "\n",
       "        <div id=\"9GnK7jfGdKCmxzNct3AU52\"></div>\n",
       "        <script>netpixi.call('9GnK7jfGdKCmxzNct3AU52', 'A3YHFPuQNPcfL5KrVLPfLP', 'changeGraph', 'eyJpZCI6ICJTdGF0ZWxlc3MiLCAidHlwZSI6ICJ2ZXJ0ZXgiLCAicHJvcHMiOiB7ImNvbG9yIjogNjUyODB9fQo=');</script>\n",
       "    "
      ],
      "text/plain": [
       "<IPython.core.display.HTML object>"
      ]
     },
     "metadata": {},
     "output_type": "display_data"
    },
    {
     "data": {
      "text/html": [
       "\n",
       "        <div id=\"njH8NMjKzzvtcRh7KCzJG8\"></div>\n",
       "        <script>netpixi.call('njH8NMjKzzvtcRh7KCzJG8', 'A3YHFPuQNPcfL5KrVLPfLP', 'changeGraph', 'eyJpZCI6ICJOZXcgQ2FsZWRvbmlhIiwgInR5cGUiOiAidmVydGV4IiwgInByb3BzIjogeyJjb2xvciI6IDY1MjgwfX0K');</script>\n",
       "    "
      ],
      "text/plain": [
       "<IPython.core.display.HTML object>"
      ]
     },
     "metadata": {},
     "output_type": "display_data"
    },
    {
     "data": {
      "text/html": [
       "\n",
       "        <div id=\"Pb2fzfzxVwk36MVANqE9eZ\"></div>\n",
       "        <script>netpixi.call('Pb2fzfzxVwk36MVANqE9eZ', 'A3YHFPuQNPcfL5KrVLPfLP', 'changeGraph', 'eyJpZCI6ICJKYW1haWNhIiwgInR5cGUiOiAidmVydGV4IiwgInByb3BzIjogeyJjb2xvciI6IDY1MjgwfX0K');</script>\n",
       "    "
      ],
      "text/plain": [
       "<IPython.core.display.HTML object>"
      ]
     },
     "metadata": {},
     "output_type": "display_data"
    },
    {
     "data": {
      "text/html": [
       "\n",
       "        <div id=\"2yfNYAXosJaEvd2Rc7Z2ga\"></div>\n",
       "        <script>netpixi.call('2yfNYAXosJaEvd2Rc7Z2ga', 'A3YHFPuQNPcfL5KrVLPfLP', 'changeGraph', 'eyJpZCI6ICJDXHUwMGY0dGUgZCdJdm9pcmUiLCAidHlwZSI6ICJ2ZXJ0ZXgiLCAicHJvcHMiOiB7ImNvbG9yIjogNjUyODB9fQo=');</script>\n",
       "    "
      ],
      "text/plain": [
       "<IPython.core.display.HTML object>"
      ]
     },
     "metadata": {},
     "output_type": "display_data"
    },
    {
     "data": {
      "text/html": [
       "\n",
       "        <div id=\"9rNeAqSCbzBPjZUh5WhNse\"></div>\n",
       "        <script>netpixi.call('9rNeAqSCbzBPjZUh5WhNse', 'A3YHFPuQNPcfL5KrVLPfLP', 'changeGraph', 'eyJpZCI6ICJIb25kdXJhcyIsICJ0eXBlIjogInZlcnRleCIsICJwcm9wcyI6IHsiY29sb3IiOiA2NTI4MH19Cg==');</script>\n",
       "    "
      ],
      "text/plain": [
       "<IPython.core.display.HTML object>"
      ]
     },
     "metadata": {},
     "output_type": "display_data"
    },
    {
     "data": {
      "text/html": [
       "\n",
       "        <div id=\"cHMmNwQrWCM7PaZoj7c4qn\"></div>\n",
       "        <script>netpixi.call('cHMmNwQrWCM7PaZoj7c4qn', 'A3YHFPuQNPcfL5KrVLPfLP', 'changeGraph', 'eyJpZCI6ICJTd2VkZW4iLCAidHlwZSI6ICJ2ZXJ0ZXgiLCAicHJvcHMiOiB7ImNvbG9yIjogMTY3MTE2ODB9fQo=');</script>\n",
       "    "
      ],
      "text/plain": [
       "<IPython.core.display.HTML object>"
      ]
     },
     "metadata": {},
     "output_type": "display_data"
    },
    {
     "data": {
      "text/html": [
       "\n",
       "        <div id=\"NdVNiXhg6LUjBBDh3UnUJB\"></div>\n",
       "        <script>netpixi.call('NdVNiXhg6LUjBBDh3UnUJB', 'A3YHFPuQNPcfL5KrVLPfLP', 'changeGraph', 'eyJpZCI6ICJNYWRhZ2FzY2FyIiwgInR5cGUiOiAidmVydGV4IiwgInByb3BzIjogeyJjb2xvciI6IDY1MjgwfX0K');</script>\n",
       "    "
      ],
      "text/plain": [
       "<IPython.core.display.HTML object>"
      ]
     },
     "metadata": {},
     "output_type": "display_data"
    },
    {
     "data": {
      "text/html": [
       "\n",
       "        <div id=\"KgdnQjjstorgRLapg8bD6o\"></div>\n",
       "        <script>netpixi.call('KgdnQjjstorgRLapg8bD6o', 'A3YHFPuQNPcfL5KrVLPfLP', 'changeGraph', 'eyJpZCI6ICJJcmFxIiwgInR5cGUiOiAidmVydGV4IiwgInByb3BzIjogeyJjb2xvciI6IDY1MjgwfX0K');</script>\n",
       "    "
      ],
      "text/plain": [
       "<IPython.core.display.HTML object>"
      ]
     },
     "metadata": {},
     "output_type": "display_data"
    },
    {
     "data": {
      "text/html": [
       "\n",
       "        <div id=\"bMAEkEMUpXSowQgU2bDHDF\"></div>\n",
       "        <script>netpixi.call('bMAEkEMUpXSowQgU2bDHDF', 'A3YHFPuQNPcfL5KrVLPfLP', 'changeGraph', 'eyJpZCI6ICJCcml0aXNoIFZpcmdpbiBJc2xhbmRzIiwgInR5cGUiOiAidmVydGV4IiwgInByb3BzIjogeyJjb2xvciI6IDY1MjgwfX0K');</script>\n",
       "    "
      ],
      "text/plain": [
       "<IPython.core.display.HTML object>"
      ]
     },
     "metadata": {},
     "output_type": "display_data"
    },
    {
     "data": {
      "text/html": [
       "\n",
       "        <div id=\"TMLvzbhfk6XXfo4qpcJDjx\"></div>\n",
       "        <script>netpixi.call('TMLvzbhfk6XXfo4qpcJDjx', 'A3YHFPuQNPcfL5KrVLPfLP', 'changeGraph', 'eyJpZCI6ICJWYXJpb3VzL1Vua25vd24iLCAidHlwZSI6ICJ2ZXJ0ZXgiLCAicHJvcHMiOiB7ImNvbG9yIjogNjUyODB9fQo=');</script>\n",
       "    "
      ],
      "text/plain": [
       "<IPython.core.display.HTML object>"
      ]
     },
     "metadata": {},
     "output_type": "display_data"
    },
    {
     "data": {
      "text/html": [
       "\n",
       "        <div id=\"DeLpKtEe4xChZQc5o3ssvV\"></div>\n",
       "        <script>netpixi.call('DeLpKtEe4xChZQc5o3ssvV', 'A3YHFPuQNPcfL5KrVLPfLP', 'changeGraph', 'eyJpZCI6ICJUb2dvIiwgInR5cGUiOiAidmVydGV4IiwgInByb3BzIjogeyJjb2xvciI6IDY1MjgwfX0K');</script>\n",
       "    "
      ],
      "text/plain": [
       "<IPython.core.display.HTML object>"
      ]
     },
     "metadata": {},
     "output_type": "display_data"
    },
    {
     "data": {
      "text/html": [
       "\n",
       "        <div id=\"8kVpn9nu3Kd52gdqJ5Y5HB\"></div>\n",
       "        <script>netpixi.call('8kVpn9nu3Kd52gdqJ5Y5HB', 'A3YHFPuQNPcfL5KrVLPfLP', 'changeGraph', 'eyJpZCI6ICJOb3J3YXkiLCAidHlwZSI6ICJ2ZXJ0ZXgiLCAicHJvcHMiOiB7ImNvbG9yIjogMTY3MTE2ODB9fQo=');</script>\n",
       "    "
      ],
      "text/plain": [
       "<IPython.core.display.HTML object>"
      ]
     },
     "metadata": {},
     "output_type": "display_data"
    },
    {
     "data": {
      "text/html": [
       "\n",
       "        <div id=\"YuqSnfmoXtofYePFB5bKVV\"></div>\n",
       "        <script>netpixi.call('YuqSnfmoXtofYePFB5bKVV', 'A3YHFPuQNPcfL5KrVLPfLP', 'changeGraph', 'eyJpZCI6ICJDYW1ib2RpYSIsICJ0eXBlIjogInZlcnRleCIsICJwcm9wcyI6IHsiY29sb3IiOiA2NTI4MH19Cg==');</script>\n",
       "    "
      ],
      "text/plain": [
       "<IPython.core.display.HTML object>"
      ]
     },
     "metadata": {},
     "output_type": "display_data"
    },
    {
     "data": {
      "text/html": [
       "\n",
       "        <div id=\"juGRc6GgkeQcwbwBknxNng\"></div>\n",
       "        <script>netpixi.call('juGRc6GgkeQcwbwBknxNng', 'A3YHFPuQNPcfL5KrVLPfLP', 'changeGraph', 'eyJpZCI6ICJCcnVuZWkgRGFydXNzYWxhbSIsICJ0eXBlIjogInZlcnRleCIsICJwcm9wcyI6IHsiY29sb3IiOiA2NTI4MH19Cg==');</script>\n",
       "    "
      ],
      "text/plain": [
       "<IPython.core.display.HTML object>"
      ]
     },
     "metadata": {},
     "output_type": "display_data"
    },
    {
     "data": {
      "text/html": [
       "\n",
       "        <div id=\"8vKP6MsTiKgctBkqQ5tzPp\"></div>\n",
       "        <script>netpixi.call('8vKP6MsTiKgctBkqQ5tzPp', 'A3YHFPuQNPcfL5KrVLPfLP', 'changeGraph', 'eyJpZCI6ICJJcmFuIChJc2xhbWljIFJlcC4gb2YpIiwgInR5cGUiOiAidmVydGV4IiwgInByb3BzIjogeyJjb2xvciI6IDY1MjgwfX0K');</script>\n",
       "    "
      ],
      "text/plain": [
       "<IPython.core.display.HTML object>"
      ]
     },
     "metadata": {},
     "output_type": "display_data"
    },
    {
     "data": {
      "text/html": [
       "\n",
       "        <div id=\"SXABJNx7Cve8MFbB3aUXsh\"></div>\n",
       "        <script>netpixi.call('SXABJNx7Cve8MFbB3aUXsh', 'A3YHFPuQNPcfL5KrVLPfLP', 'changeGraph', 'eyJpZCI6ICJTcGFpbiIsICJ0eXBlIjogInZlcnRleCIsICJwcm9wcyI6IHsiY29sb3IiOiAxNjcxMTY4MH19Cg==');</script>\n",
       "    "
      ],
      "text/plain": [
       "<IPython.core.display.HTML object>"
      ]
     },
     "metadata": {},
     "output_type": "display_data"
    },
    {
     "data": {
      "text/html": [
       "\n",
       "        <div id=\"CP9SoJgwbp2wGpdcB93A7D\"></div>\n",
       "        <script>netpixi.call('CP9SoJgwbp2wGpdcB93A7D', 'A3YHFPuQNPcfL5KrVLPfLP', 'changeGraph', 'eyJpZCI6ICJNYWx0YSIsICJ0eXBlIjogInZlcnRleCIsICJwcm9wcyI6IHsiY29sb3IiOiAxNjcxMTY4MH19Cg==');</script>\n",
       "    "
      ],
      "text/plain": [
       "<IPython.core.display.HTML object>"
      ]
     },
     "metadata": {},
     "output_type": "display_data"
    },
    {
     "data": {
      "text/html": [
       "\n",
       "        <div id=\"3ZuX6Bsrrxsx5jicp6eCpp\"></div>\n",
       "        <script>netpixi.call('3ZuX6Bsrrxsx5jicp6eCpp', 'A3YHFPuQNPcfL5KrVLPfLP', 'changeGraph', 'eyJpZCI6ICJCaHV0YW4iLCAidHlwZSI6ICJ2ZXJ0ZXgiLCAicHJvcHMiOiB7ImNvbG9yIjogNjUyODB9fQo=');</script>\n",
       "    "
      ],
      "text/plain": [
       "<IPython.core.display.HTML object>"
      ]
     },
     "metadata": {},
     "output_type": "display_data"
    },
    {
     "data": {
      "text/html": [
       "\n",
       "        <div id=\"SFKVLPs4XAM6LoH5WH4pKa\"></div>\n",
       "        <script>netpixi.call('SFKVLPs4XAM6LoH5WH4pKa', 'A3YHFPuQNPcfL5KrVLPfLP', 'changeGraph', 'eyJpZCI6ICJTYWludCBLaXR0cyBhbmQgTmV2aXMiLCAidHlwZSI6ICJ2ZXJ0ZXgiLCAicHJvcHMiOiB7ImNvbG9yIjogNjUyODB9fQo=');</script>\n",
       "    "
      ],
      "text/plain": [
       "<IPython.core.display.HTML object>"
      ]
     },
     "metadata": {},
     "output_type": "display_data"
    },
    {
     "data": {
      "text/html": [
       "\n",
       "        <div id=\"CGCSRfRjTAHkyhdXk7dmRN\"></div>\n",
       "        <script>netpixi.call('CGCSRfRjTAHkyhdXk7dmRN', 'A3YHFPuQNPcfL5KrVLPfLP', 'changeGraph', 'eyJpZCI6ICJCb3NuaWEgYW5kIEhlcnplZ292aW5hIiwgInR5cGUiOiAidmVydGV4IiwgInByb3BzIjogeyJjb2xvciI6IDY1MjgwfX0K');</script>\n",
       "    "
      ],
      "text/plain": [
       "<IPython.core.display.HTML object>"
      ]
     },
     "metadata": {},
     "output_type": "display_data"
    },
    {
     "data": {
      "text/html": [
       "\n",
       "        <div id=\"AdtxKBiea2Yy5EYRGrTUdA\"></div>\n",
       "        <script>netpixi.call('AdtxKBiea2Yy5EYRGrTUdA', 'A3YHFPuQNPcfL5KrVLPfLP', 'changeGraph', 'eyJpZCI6ICJNYWxheXNpYSIsICJ0eXBlIjogInZlcnRleCIsICJwcm9wcyI6IHsiY29sb3IiOiAxNjcxMTY4MH19Cg==');</script>\n",
       "    "
      ],
      "text/plain": [
       "<IPython.core.display.HTML object>"
      ]
     },
     "metadata": {},
     "output_type": "display_data"
    },
    {
     "data": {
      "text/html": [
       "\n",
       "        <div id=\"Ah5B7RkDFK37pQJdaxPUXV\"></div>\n",
       "        <script>netpixi.call('Ah5B7RkDFK37pQJdaxPUXV', 'A3YHFPuQNPcfL5KrVLPfLP', 'changeGraph', 'eyJpZCI6ICJQZXJ1IiwgInR5cGUiOiAidmVydGV4IiwgInByb3BzIjogeyJjb2xvciI6IDE2NzExNjgwfX0K');</script>\n",
       "    "
      ],
      "text/plain": [
       "<IPython.core.display.HTML object>"
      ]
     },
     "metadata": {},
     "output_type": "display_data"
    },
    {
     "data": {
      "text/html": [
       "\n",
       "        <div id=\"2zf6TJuDyDd7snbqcfZHhV\"></div>\n",
       "        <script>netpixi.call('2zf6TJuDyDd7snbqcfZHhV', 'A3YHFPuQNPcfL5KrVLPfLP', 'changeGraph', 'eyJpZCI6ICJMZXNvdGhvIiwgInR5cGUiOiAidmVydGV4IiwgInByb3BzIjogeyJjb2xvciI6IDY1MjgwfX0K');</script>\n",
       "    "
      ],
      "text/plain": [
       "<IPython.core.display.HTML object>"
      ]
     },
     "metadata": {},
     "output_type": "display_data"
    },
    {
     "data": {
      "text/html": [
       "\n",
       "        <div id=\"AhsXjLxbTzQnQDAPbWvLJf\"></div>\n",
       "        <script>netpixi.call('AhsXjLxbTzQnQDAPbWvLJf', 'A3YHFPuQNPcfL5KrVLPfLP', 'changeGraph', 'eyJpZCI6ICJPbWFuIiwgInR5cGUiOiAidmVydGV4IiwgInByb3BzIjogeyJjb2xvciI6IDY1MjgwfX0K');</script>\n",
       "    "
      ],
      "text/plain": [
       "<IPython.core.display.HTML object>"
      ]
     },
     "metadata": {},
     "output_type": "display_data"
    },
    {
     "data": {
      "text/html": [
       "\n",
       "        <div id=\"TydHX3UsZez2urmoQfiPsD\"></div>\n",
       "        <script>netpixi.call('TydHX3UsZez2urmoQfiPsD', 'A3YHFPuQNPcfL5KrVLPfLP', 'changeGraph', 'eyJpZCI6ICJVcnVndWF5IiwgInR5cGUiOiAidmVydGV4IiwgInByb3BzIjogeyJjb2xvciI6IDE2NzExNjgwfX0K');</script>\n",
       "    "
      ],
      "text/plain": [
       "<IPython.core.display.HTML object>"
      ]
     },
     "metadata": {},
     "output_type": "display_data"
    },
    {
     "data": {
      "text/html": [
       "\n",
       "        <div id=\"9XXtzo4xjhYWmP6KEwLgAr\"></div>\n",
       "        <script>netpixi.call('9XXtzo4xjhYWmP6KEwLgAr', 'A3YHFPuQNPcfL5KrVLPfLP', 'changeGraph', 'eyJpZCI6ICJDZW50cmFsIEFmcmljYW4gUmVwLiIsICJ0eXBlIjogInZlcnRleCIsICJwcm9wcyI6IHsiY29sb3IiOiA2NTI4MH19Cg==');</script>\n",
       "    "
      ],
      "text/plain": [
       "<IPython.core.display.HTML object>"
      ]
     },
     "metadata": {},
     "output_type": "display_data"
    },
    {
     "data": {
      "text/html": [
       "\n",
       "        <div id=\"Y6YMnptqfujqeLvAjXd6t6\"></div>\n",
       "        <script>netpixi.call('Y6YMnptqfujqeLvAjXd6t6', 'A3YHFPuQNPcfL5KrVLPfLP', 'changeGraph', 'eyJpZCI6ICJUdXJrbWVuaXN0YW4iLCAidHlwZSI6ICJ2ZXJ0ZXgiLCAicHJvcHMiOiB7ImNvbG9yIjogNjUyODB9fQo=');</script>\n",
       "    "
      ],
      "text/plain": [
       "<IPython.core.display.HTML object>"
      ]
     },
     "metadata": {},
     "output_type": "display_data"
    },
    {
     "data": {
      "text/html": [
       "\n",
       "        <div id=\"oF5cf8nStmvqyPvBaF8DLY\"></div>\n",
       "        <script>netpixi.call('oF5cf8nStmvqyPvBaF8DLY', 'A3YHFPuQNPcfL5KrVLPfLP', 'changeGraph', 'eyJpZCI6ICJHaGFuYSIsICJ0eXBlIjogInZlcnRleCIsICJwcm9wcyI6IHsiY29sb3IiOiAxNjcxMTY4MH19Cg==');</script>\n",
       "    "
      ],
      "text/plain": [
       "<IPython.core.display.HTML object>"
      ]
     },
     "metadata": {},
     "output_type": "display_data"
    },
    {
     "data": {
      "text/html": [
       "\n",
       "        <div id=\"WRm48V6wpoLTn4dkqKYdas\"></div>\n",
       "        <script>netpixi.call('WRm48V6wpoLTn4dkqKYdas', 'A3YHFPuQNPcfL5KrVLPfLP', 'changeGraph', 'eyJpZCI6ICJNYXJzaGFsbCBJc2xhbmRzIiwgInR5cGUiOiAidmVydGV4IiwgInByb3BzIjogeyJjb2xvciI6IDY1MjgwfX0K');</script>\n",
       "    "
      ],
      "text/plain": [
       "<IPython.core.display.HTML object>"
      ]
     },
     "metadata": {},
     "output_type": "display_data"
    },
    {
     "data": {
      "text/html": [
       "\n",
       "        <div id=\"mMhmw4cW7CEYzW48C9cTQF\"></div>\n",
       "        <script>netpixi.call('mMhmw4cW7CEYzW48C9cTQF', 'A3YHFPuQNPcfL5KrVLPfLP', 'changeGraph', 'eyJpZCI6ICJCb2xpdmlhIChQbHVyaW5hdGlvbmFsIFN0YXRlIG9mKSIsICJ0eXBlIjogInZlcnRleCIsICJwcm9wcyI6IHsiY29sb3IiOiA2NTI4MH19Cg==');</script>\n",
       "    "
      ],
      "text/plain": [
       "<IPython.core.display.HTML object>"
      ]
     },
     "metadata": {},
     "output_type": "display_data"
    },
    {
     "data": {
      "text/html": [
       "\n",
       "        <div id=\"nm6zu36fnWC5uJS9jgPYX7\"></div>\n",
       "        <script>netpixi.call('nm6zu36fnWC5uJS9jgPYX7', 'A3YHFPuQNPcfL5KrVLPfLP', 'changeGraph', 'eyJpZCI6ICJZZW1lbiIsICJ0eXBlIjogInZlcnRleCIsICJwcm9wcyI6IHsiY29sb3IiOiA2NTI4MH19Cg==');</script>\n",
       "    "
      ],
      "text/plain": [
       "<IPython.core.display.HTML object>"
      ]
     },
     "metadata": {},
     "output_type": "display_data"
    },
    {
     "data": {
      "text/html": [
       "\n",
       "        <div id=\"PJL26rX7fGTPdcd5GeD5Qk\"></div>\n",
       "        <script>netpixi.call('PJL26rX7fGTPdcd5GeD5Qk', 'A3YHFPuQNPcfL5KrVLPfLP', 'changeGraph', 'eyJpZCI6ICJEamlib3V0aSIsICJ0eXBlIjogInZlcnRleCIsICJwcm9wcyI6IHsiY29sb3IiOiA2NTI4MH19Cg==');</script>\n",
       "    "
      ],
      "text/plain": [
       "<IPython.core.display.HTML object>"
      ]
     },
     "metadata": {},
     "output_type": "display_data"
    },
    {
     "data": {
      "text/html": [
       "\n",
       "        <div id=\"WvVHYZVykzr6ENViP5mgGc\"></div>\n",
       "        <script>netpixi.call('WvVHYZVykzr6ENViP5mgGc', 'A3YHFPuQNPcfL5KrVLPfLP', 'changeGraph', 'eyJpZCI6ICJDaGluYSIsICJ0eXBlIjogInZlcnRleCIsICJwcm9wcyI6IHsiY29sb3IiOiAxNjcxMTY4MH19Cg==');</script>\n",
       "    "
      ],
      "text/plain": [
       "<IPython.core.display.HTML object>"
      ]
     },
     "metadata": {},
     "output_type": "display_data"
    },
    {
     "data": {
      "text/html": [
       "\n",
       "        <div id=\"ZUf93VFpNzwvgUzVVhyNYN\"></div>\n",
       "        <script>netpixi.call('ZUf93VFpNzwvgUzVVhyNYN', 'A3YHFPuQNPcfL5KrVLPfLP', 'changeGraph', 'eyJpZCI6ICJTYXVkaSBBcmFiaWEiLCAidHlwZSI6ICJ2ZXJ0ZXgiLCAicHJvcHMiOiB7ImNvbG9yIjogNjUyODB9fQo=');</script>\n",
       "    "
      ],
      "text/plain": [
       "<IPython.core.display.HTML object>"
      ]
     },
     "metadata": {},
     "output_type": "display_data"
    },
    {
     "data": {
      "text/html": [
       "\n",
       "        <div id=\"XaSVasCn3iLCAuq7qLWE8u\"></div>\n",
       "        <script>netpixi.call('XaSVasCn3iLCAuq7qLWE8u', 'A3YHFPuQNPcfL5KrVLPfLP', 'changeGraph', 'eyJpZCI6ICJCYWhhbWFzIiwgInR5cGUiOiAidmVydGV4IiwgInByb3BzIjogeyJjb2xvciI6IDY1MjgwfX0K');</script>\n",
       "    "
      ],
      "text/plain": [
       "<IPython.core.display.HTML object>"
      ]
     },
     "metadata": {},
     "output_type": "display_data"
    },
    {
     "data": {
      "text/html": [
       "\n",
       "        <div id=\"4etzo35uFpaatAHFGse4xB\"></div>\n",
       "        <script>netpixi.call('4etzo35uFpaatAHFGse4xB', 'A3YHFPuQNPcfL5KrVLPfLP', 'changeGraph', 'eyJpZCI6ICJNYXJ0aW5pcXVlIiwgInR5cGUiOiAidmVydGV4IiwgInByb3BzIjogeyJjb2xvciI6IDY1MjgwfX0K');</script>\n",
       "    "
      ],
      "text/plain": [
       "<IPython.core.display.HTML object>"
      ]
     },
     "metadata": {},
     "output_type": "display_data"
    },
    {
     "data": {
      "text/html": [
       "\n",
       "        <div id=\"ghbZVwQUTgVZzkGUpU2Zm2\"></div>\n",
       "        <script>netpixi.call('ghbZVwQUTgVZzkGUpU2Zm2', 'A3YHFPuQNPcfL5KrVLPfLP', 'changeGraph', 'eyJpZCI6ICJVbml0ZWQgU3RhdGVzIG9mIEFtZXJpY2EiLCAidHlwZSI6ICJ2ZXJ0ZXgiLCAicHJvcHMiOiB7ImNvbG9yIjogMTY3MTE2ODB9fQo=');</script>\n",
       "    "
      ],
      "text/plain": [
       "<IPython.core.display.HTML object>"
      ]
     },
     "metadata": {},
     "output_type": "display_data"
    },
    {
     "data": {
      "text/html": [
       "\n",
       "        <div id=\"6vBUp9Mx7NcjPAKYwWDvaD\"></div>\n",
       "        <script>netpixi.call('6vBUp9Mx7NcjPAKYwWDvaD', 'A3YHFPuQNPcfL5KrVLPfLP', 'changeGraph', 'eyJpZCI6ICJNYWxpIiwgInR5cGUiOiAidmVydGV4IiwgInByb3BzIjogeyJjb2xvciI6IDY1MjgwfX0K');</script>\n",
       "    "
      ],
      "text/plain": [
       "<IPython.core.display.HTML object>"
      ]
     },
     "metadata": {},
     "output_type": "display_data"
    },
    {
     "data": {
      "text/html": [
       "\n",
       "        <div id=\"kqEPVj9QLuAFYmsQkFwsHE\"></div>\n",
       "        <script>netpixi.call('kqEPVj9QLuAFYmsQkFwsHE', 'A3YHFPuQNPcfL5KrVLPfLP', 'changeGraph', 'eyJpZCI6ICJLZW55YSIsICJ0eXBlIjogInZlcnRleCIsICJwcm9wcyI6IHsiY29sb3IiOiAxNjcxMTY4MH19Cg==');</script>\n",
       "    "
      ],
      "text/plain": [
       "<IPython.core.display.HTML object>"
      ]
     },
     "metadata": {},
     "output_type": "display_data"
    },
    {
     "data": {
      "text/html": [
       "\n",
       "        <div id=\"ZkqVAej2e7HnY2dccZwNzP\"></div>\n",
       "        <script>netpixi.call('ZkqVAej2e7HnY2dccZwNzP', 'A3YHFPuQNPcfL5KrVLPfLP', 'changeGraph', 'eyJpZCI6ICJDYXltYW4gSXNsYW5kcyIsICJ0eXBlIjogInZlcnRleCIsICJwcm9wcyI6IHsiY29sb3IiOiA2NTI4MH19Cg==');</script>\n",
       "    "
      ],
      "text/plain": [
       "<IPython.core.display.HTML object>"
      ]
     },
     "metadata": {},
     "output_type": "display_data"
    },
    {
     "data": {
      "text/html": [
       "\n",
       "        <div id=\"fy4SrKHNn7baRNsKEFHErb\"></div>\n",
       "        <script>netpixi.call('fy4SrKHNn7baRNsKEFHErb', 'A3YHFPuQNPcfL5KrVLPfLP', 'changeGraph', 'eyJpZCI6ICJSd2FuZGEiLCAidHlwZSI6ICJ2ZXJ0ZXgiLCAicHJvcHMiOiB7ImNvbG9yIjogNjUyODB9fQo=');</script>\n",
       "    "
      ],
      "text/plain": [
       "<IPython.core.display.HTML object>"
      ]
     },
     "metadata": {},
     "output_type": "display_data"
    },
    {
     "data": {
      "text/html": [
       "\n",
       "        <div id=\"ReTTUVFzMpkXwWJqAGo28R\"></div>\n",
       "        <script>netpixi.call('ReTTUVFzMpkXwWJqAGo28R', 'A3YHFPuQNPcfL5KrVLPfLP', 'changeGraph', 'eyJpZCI6ICJBbGdlcmlhIiwgInR5cGUiOiAidmVydGV4IiwgInByb3BzIjogeyJjb2xvciI6IDY1MjgwfX0K');</script>\n",
       "    "
      ],
      "text/plain": [
       "<IPython.core.display.HTML object>"
      ]
     },
     "metadata": {},
     "output_type": "display_data"
    },
    {
     "data": {
      "text/html": [
       "\n",
       "        <div id=\"d3yeJwuyZr5s8tm6qeHv29\"></div>\n",
       "        <script>netpixi.call('d3yeJwuyZr5s8tm6qeHv29', 'A3YHFPuQNPcfL5KrVLPfLP', 'changeGraph', 'eyJpZCI6ICJBbmRvcnJhIiwgInR5cGUiOiAidmVydGV4IiwgInByb3BzIjogeyJjb2xvciI6IDY1MjgwfX0K');</script>\n",
       "    "
      ],
      "text/plain": [
       "<IPython.core.display.HTML object>"
      ]
     },
     "metadata": {},
     "output_type": "display_data"
    },
    {
     "data": {
      "text/html": [
       "\n",
       "        <div id=\"8326MVbKjDDu989aZsPLHr\"></div>\n",
       "        <script>netpixi.call('8326MVbKjDDu989aZsPLHr', 'A3YHFPuQNPcfL5KrVLPfLP', 'changeGraph', 'eyJpZCI6ICJTYW8gVG9tZSBhbmQgUHJpbmNpcGUiLCAidHlwZSI6ICJ2ZXJ0ZXgiLCAicHJvcHMiOiB7ImNvbG9yIjogNjUyODB9fQo=');</script>\n",
       "    "
      ],
      "text/plain": [
       "<IPython.core.display.HTML object>"
      ]
     },
     "metadata": {},
     "output_type": "display_data"
    },
    {
     "data": {
      "text/html": [
       "\n",
       "        <div id=\"DvKZUprocYaxVwYNxcNjRt\"></div>\n",
       "        <script>netpixi.call('DvKZUprocYaxVwYNxcNjRt', 'A3YHFPuQNPcfL5KrVLPfLP', 'changeGraph', 'eyJpZCI6ICJOaWdlciIsICJ0eXBlIjogInZlcnRleCIsICJwcm9wcyI6IHsiY29sb3IiOiA2NTI4MH19Cg==');</script>\n",
       "    "
      ],
      "text/plain": [
       "<IPython.core.display.HTML object>"
      ]
     },
     "metadata": {},
     "output_type": "display_data"
    },
    {
     "data": {
      "text/html": [
       "\n",
       "        <div id=\"E7mVTm7DXuB2pF85Rb5uJv\"></div>\n",
       "        <script>netpixi.call('E7mVTm7DXuB2pF85Rb5uJv', 'A3YHFPuQNPcfL5KrVLPfLP', 'changeGraph', 'eyJpZCI6ICJJbmRpYSIsICJ0eXBlIjogInZlcnRleCIsICJwcm9wcyI6IHsiY29sb3IiOiAxNjcxMTY4MH19Cg==');</script>\n",
       "    "
      ],
      "text/plain": [
       "<IPython.core.display.HTML object>"
      ]
     },
     "metadata": {},
     "output_type": "display_data"
    },
    {
     "data": {
      "text/html": [
       "\n",
       "        <div id=\"2Sz6y64iaam3Rr3tWXu9yk\"></div>\n",
       "        <script>netpixi.call('2Sz6y64iaam3Rr3tWXu9yk', 'A3YHFPuQNPcfL5KrVLPfLP', 'changeGraph', 'eyJpZCI6ICJGcmVuY2ggUG9seW5lc2lhIiwgInR5cGUiOiAidmVydGV4IiwgInByb3BzIjogeyJjb2xvciI6IDY1MjgwfX0K');</script>\n",
       "    "
      ],
      "text/plain": [
       "<IPython.core.display.HTML object>"
      ]
     },
     "metadata": {},
     "output_type": "display_data"
    },
    {
     "data": {
      "text/html": [
       "\n",
       "        <div id=\"g64usVn4JBh46tqCKT4TY9\"></div>\n",
       "        <script>netpixi.call('g64usVn4JBh46tqCKT4TY9', 'A3YHFPuQNPcfL5KrVLPfLP', 'changeGraph', 'eyJpZCI6ICJNb3phbWJpcXVlIiwgInR5cGUiOiAidmVydGV4IiwgInByb3BzIjogeyJjb2xvciI6IDE2NzExNjgwfX0K');</script>\n",
       "    "
      ],
      "text/plain": [
       "<IPython.core.display.HTML object>"
      ]
     },
     "metadata": {},
     "output_type": "display_data"
    },
    {
     "data": {
      "text/html": [
       "\n",
       "        <div id=\"3icSNUMEaAGFGqrSTsfPZq\"></div>\n",
       "        <script>netpixi.call('3icSNUMEaAGFGqrSTsfPZq', 'A3YHFPuQNPcfL5KrVLPfLP', 'changeGraph', 'eyJpZCI6ICJSZXAuIG9mIE1vbGRvdmEiLCAidHlwZSI6ICJ2ZXJ0ZXgiLCAicHJvcHMiOiB7ImNvbG9yIjogMTY3MTE2ODB9fQo=');</script>\n",
       "    "
      ],
      "text/plain": [
       "<IPython.core.display.HTML object>"
      ]
     },
     "metadata": {},
     "output_type": "display_data"
    },
    {
     "data": {
      "text/html": [
       "\n",
       "        <div id=\"NEWyFeDBn9cAHPmeBAu2cH\"></div>\n",
       "        <script>netpixi.call('NEWyFeDBn9cAHPmeBAu2cH', 'A3YHFPuQNPcfL5KrVLPfLP', 'changeGraph', 'eyJpZCI6ICJQaGlsaXBwaW5lcyIsICJ0eXBlIjogInZlcnRleCIsICJwcm9wcyI6IHsiY29sb3IiOiAxNjcxMTY4MH19Cg==');</script>\n",
       "    "
      ],
      "text/plain": [
       "<IPython.core.display.HTML object>"
      ]
     },
     "metadata": {},
     "output_type": "display_data"
    },
    {
     "data": {
      "text/html": [
       "\n",
       "        <div id=\"aCXUnPTRjekw5kpjLJgxBp\"></div>\n",
       "        <script>netpixi.call('aCXUnPTRjekw5kpjLJgxBp', 'A3YHFPuQNPcfL5KrVLPfLP', 'changeGraph', 'eyJpZCI6ICJDYWJvIFZlcmRlIiwgInR5cGUiOiAidmVydGV4IiwgInByb3BzIjogeyJjb2xvciI6IDY1MjgwfX0K');</script>\n",
       "    "
      ],
      "text/plain": [
       "<IPython.core.display.HTML object>"
      ]
     },
     "metadata": {},
     "output_type": "display_data"
    },
    {
     "data": {
      "text/html": [
       "\n",
       "        <div id=\"SmfjE7KgyXFLxW3yE9Fx3F\"></div>\n",
       "        <script>netpixi.call('SmfjE7KgyXFLxW3yE9Fx3F', 'A3YHFPuQNPcfL5KrVLPfLP', 'changeGraph', 'eyJpZCI6ICJDeXBydXMiLCAidHlwZSI6ICJ2ZXJ0ZXgiLCAicHJvcHMiOiB7ImNvbG9yIjogMTY3MTE2ODB9fQo=');</script>\n",
       "    "
      ],
      "text/plain": [
       "<IPython.core.display.HTML object>"
      ]
     },
     "metadata": {},
     "output_type": "display_data"
    },
    {
     "data": {
      "text/html": [
       "\n",
       "        <div id=\"XuASxzX7EM2nBhQ2rCcqYq\"></div>\n",
       "        <script>netpixi.call('XuASxzX7EM2nBhQ2rCcqYq', 'A3YHFPuQNPcfL5KrVLPfLP', 'changeGraph', 'eyJpZCI6ICJVbml0ZWQgQXJhYiBFbWlyYXRlcyIsICJ0eXBlIjogInZlcnRleCIsICJwcm9wcyI6IHsiY29sb3IiOiA2NTI4MH19Cg==');</script>\n",
       "    "
      ],
      "text/plain": [
       "<IPython.core.display.HTML object>"
      ]
     },
     "metadata": {},
     "output_type": "display_data"
    },
    {
     "data": {
      "text/html": [
       "\n",
       "        <div id=\"HzBt34AN5KH2TuHf6x9RJS\"></div>\n",
       "        <script>netpixi.call('HzBt34AN5KH2TuHf6x9RJS', 'A3YHFPuQNPcfL5KrVLPfLP', 'changeGraph', 'eyJpZCI6ICJWZW5lenVlbGEgKEJvbGl2YXJpYW4gUmVwdWJsaWMgb2YpIiwgInR5cGUiOiAidmVydGV4IiwgInByb3BzIjogeyJjb2xvciI6IDY1MjgwfX0K');</script>\n",
       "    "
      ],
      "text/plain": [
       "<IPython.core.display.HTML object>"
      ]
     },
     "metadata": {},
     "output_type": "display_data"
    },
    {
     "data": {
      "text/html": [
       "\n",
       "        <div id=\"PBPC9aJcTga42MtHP9MLJB\"></div>\n",
       "        <script>netpixi.call('PBPC9aJcTga42MtHP9MLJB', 'A3YHFPuQNPcfL5KrVLPfLP', 'changeGraph', 'eyJpZCI6ICJDdWJhIiwgInR5cGUiOiAidmVydGV4IiwgInByb3BzIjogeyJjb2xvciI6IDY1MjgwfX0K');</script>\n",
       "    "
      ],
      "text/plain": [
       "<IPython.core.display.HTML object>"
      ]
     },
     "metadata": {},
     "output_type": "display_data"
    },
    {
     "data": {
      "text/html": [
       "\n",
       "        <div id=\"AnDEwgAT2Q4fGntdWD6PFs\"></div>\n",
       "        <script>netpixi.call('AnDEwgAT2Q4fGntdWD6PFs', 'A3YHFPuQNPcfL5KrVLPfLP', 'changeGraph', 'eyJpZCI6ICJCdWxnYXJpYSIsICJ0eXBlIjogInZlcnRleCIsICJwcm9wcyI6IHsiY29sb3IiOiAxNjcxMTY4MH19Cg==');</script>\n",
       "    "
      ],
      "text/plain": [
       "<IPython.core.display.HTML object>"
      ]
     },
     "metadata": {},
     "output_type": "display_data"
    },
    {
     "data": {
      "text/html": [
       "\n",
       "        <div id=\"RZoyu8A7y2DeJsDnWGTfnJ\"></div>\n",
       "        <script>netpixi.call('RZoyu8A7y2DeJsDnWGTfnJ', 'A3YHFPuQNPcfL5KrVLPfLP', 'changeGraph', 'eyJpZCI6ICJMaXRodWFuaWEiLCAidHlwZSI6ICJ2ZXJ0ZXgiLCAicHJvcHMiOiB7ImNvbG9yIjogMTY3MTE2ODB9fQo=');</script>\n",
       "    "
      ],
      "text/plain": [
       "<IPython.core.display.HTML object>"
      ]
     },
     "metadata": {},
     "output_type": "display_data"
    },
    {
     "data": {
      "text/html": [
       "\n",
       "        <div id=\"jrEoTm7LJGpumSqE3ZgKvZ\"></div>\n",
       "        <script>netpixi.call('jrEoTm7LJGpumSqE3ZgKvZ', 'A3YHFPuQNPcfL5KrVLPfLP', 'changeGraph', 'eyJpZCI6ICJHdXlhbmEiLCAidHlwZSI6ICJ2ZXJ0ZXgiLCAicHJvcHMiOiB7ImNvbG9yIjogNjUyODB9fQo=');</script>\n",
       "    "
      ],
      "text/plain": [
       "<IPython.core.display.HTML object>"
      ]
     },
     "metadata": {},
     "output_type": "display_data"
    },
    {
     "data": {
      "text/html": [
       "\n",
       "        <div id=\"2Q2FqqLsEmvggjpF2QDKXA\"></div>\n",
       "        <script>netpixi.call('2Q2FqqLsEmvggjpF2QDKXA', 'A3YHFPuQNPcfL5KrVLPfLP', 'changeGraph', 'eyJpZCI6ICJUaWJldGFuIiwgInR5cGUiOiAidmVydGV4IiwgInByb3BzIjogeyJjb2xvciI6IDY1MjgwfX0K');</script>\n",
       "    "
      ],
      "text/plain": [
       "<IPython.core.display.HTML object>"
      ]
     },
     "metadata": {},
     "output_type": "display_data"
    },
    {
     "data": {
      "text/html": [
       "\n",
       "        <div id=\"4iiP7VVWWsgrCFC9o5JnNp\"></div>\n",
       "        <script>netpixi.call('4iiP7VVWWsgrCFC9o5JnNp', 'A3YHFPuQNPcfL5KrVLPfLP', 'changeGraph', 'eyJpZCI6ICJCZW5pbiIsICJ0eXBlIjogInZlcnRleCIsICJwcm9wcyI6IHsiY29sb3IiOiAxNjcxMTY4MH19Cg==');</script>\n",
       "    "
      ],
      "text/plain": [
       "<IPython.core.display.HTML object>"
      ]
     },
     "metadata": {},
     "output_type": "display_data"
    },
    {
     "data": {
      "text/html": [
       "\n",
       "        <div id=\"EKuGvzWSXKREqVzbg2xBqT\"></div>\n",
       "        <script>netpixi.call('EKuGvzWSXKREqVzbg2xBqT', 'A3YHFPuQNPcfL5KrVLPfLP', 'changeGraph', 'eyJpZCI6ICJNb25nb2xpYSIsICJ0eXBlIjogInZlcnRleCIsICJwcm9wcyI6IHsiY29sb3IiOiA2NTI4MH19Cg==');</script>\n",
       "    "
      ],
      "text/plain": [
       "<IPython.core.display.HTML object>"
      ]
     },
     "metadata": {},
     "output_type": "display_data"
    },
    {
     "data": {
      "text/html": [
       "\n",
       "        <div id=\"87VYXbcx9WEYKahQ5vGmU5\"></div>\n",
       "        <script>netpixi.call('87VYXbcx9WEYKahQ5vGmU5', 'A3YHFPuQNPcfL5KrVLPfLP', 'changeGraph', 'eyJpZCI6ICJBdXN0cmlhIiwgInR5cGUiOiAidmVydGV4IiwgInByb3BzIjogeyJjb2xvciI6IDE2NzExNjgwfX0K');</script>\n",
       "    "
      ],
      "text/plain": [
       "<IPython.core.display.HTML object>"
      ]
     },
     "metadata": {},
     "output_type": "display_data"
    },
    {
     "data": {
      "text/html": [
       "\n",
       "        <div id=\"Z8QqWGFt4Hjnq5XEjeqgoG\"></div>\n",
       "        <script>netpixi.call('Z8QqWGFt4Hjnq5XEjeqgoG', 'A3YHFPuQNPcfL5KrVLPfLP', 'changeGraph', 'eyJpZCI6ICJCYW5nbGFkZXNoIiwgInR5cGUiOiAidmVydGV4IiwgInByb3BzIjogeyJjb2xvciI6IDY1MjgwfX0K');</script>\n",
       "    "
      ],
      "text/plain": [
       "<IPython.core.display.HTML object>"
      ]
     },
     "metadata": {},
     "output_type": "display_data"
    },
    {
     "data": {
      "text/html": [
       "\n",
       "        <div id=\"LGt7mMYJKY2KkjoycUd4fq\"></div>\n",
       "        <script>netpixi.call('LGt7mMYJKY2KkjoycUd4fq', 'A3YHFPuQNPcfL5KrVLPfLP', 'changeGraph', 'eyJpZCI6ICJaaW1iYWJ3ZSIsICJ0eXBlIjogInZlcnRleCIsICJwcm9wcyI6IHsiY29sb3IiOiA2NTI4MH19Cg==');</script>\n",
       "    "
      ],
      "text/plain": [
       "<IPython.core.display.HTML object>"
      ]
     },
     "metadata": {},
     "output_type": "display_data"
    },
    {
     "data": {
      "text/html": [
       "\n",
       "        <div id=\"T64szZb4XWNLFLSmFed6qT\"></div>\n",
       "        <script>netpixi.call('T64szZb4XWNLFLSmFed6qT', 'A3YHFPuQNPcfL5KrVLPfLP', 'changeGraph', 'eyJpZCI6ICJBbGJhbmlhIiwgInR5cGUiOiAidmVydGV4IiwgInByb3BzIjogeyJjb2xvciI6IDY1MjgwfX0K');</script>\n",
       "    "
      ],
      "text/plain": [
       "<IPython.core.display.HTML object>"
      ]
     },
     "metadata": {},
     "output_type": "display_data"
    },
    {
     "data": {
      "text/html": [
       "\n",
       "        <div id=\"QnFzyZanrcEHYPZDSkiR3q\"></div>\n",
       "        <script>netpixi.call('QnFzyZanrcEHYPZDSkiR3q', 'A3YHFPuQNPcfL5KrVLPfLP', 'changeGraph', 'eyJpZCI6ICJEZW0uIFJlcC4gb2YgdGhlIENvbmdvIiwgInR5cGUiOiAidmVydGV4IiwgInByb3BzIjogeyJjb2xvciI6IDE2NzExNjgwfX0K');</script>\n",
       "    "
      ],
      "text/plain": [
       "<IPython.core.display.HTML object>"
      ]
     },
     "metadata": {},
     "output_type": "display_data"
    },
    {
     "data": {
      "text/html": [
       "\n",
       "        <div id=\"3czcUGV8penS6Mtr5pLvw6\"></div>\n",
       "        <script>netpixi.call('3czcUGV8penS6Mtr5pLvw6', 'A3YHFPuQNPcfL5KrVLPfLP', 'changeGraph', 'eyJpZCI6ICJRYXRhciIsICJ0eXBlIjogInZlcnRleCIsICJwcm9wcyI6IHsiY29sb3IiOiA2NTI4MH19Cg==');</script>\n",
       "    "
      ],
      "text/plain": [
       "<IPython.core.display.HTML object>"
      ]
     },
     "metadata": {},
     "output_type": "display_data"
    },
    {
     "data": {
      "text/html": [
       "\n",
       "        <div id=\"V9HdWX5jFcUv2KLTpmFptB\"></div>\n",
       "        <script>netpixi.call('V9HdWX5jFcUv2KLTpmFptB', 'A3YHFPuQNPcfL5KrVLPfLP', 'changeGraph', 'eyJpZCI6ICJBbWVyaWNhbiBTYW1vYSIsICJ0eXBlIjogInZlcnRleCIsICJwcm9wcyI6IHsiY29sb3IiOiA2NTI4MH19Cg==');</script>\n",
       "    "
      ],
      "text/plain": [
       "<IPython.core.display.HTML object>"
      ]
     },
     "metadata": {},
     "output_type": "display_data"
    },
    {
     "data": {
      "text/html": [
       "\n",
       "        <div id=\"m7jZMBeNtX8AzRGK6uAU6o\"></div>\n",
       "        <script>netpixi.call('m7jZMBeNtX8AzRGK6uAU6o', 'A3YHFPuQNPcfL5KrVLPfLP', 'changeGraph', 'eyJpZCI6ICJBcm1lbmlhIiwgInR5cGUiOiAidmVydGV4IiwgInByb3BzIjogeyJjb2xvciI6IDY1MjgwfX0K');</script>\n",
       "    "
      ],
      "text/plain": [
       "<IPython.core.display.HTML object>"
      ]
     },
     "metadata": {},
     "output_type": "display_data"
    },
    {
     "data": {
      "text/html": [
       "\n",
       "        <div id=\"3NEHTxTUPkUmjWPe8Pyui7\"></div>\n",
       "        <script>netpixi.call('3NEHTxTUPkUmjWPe8Pyui7', 'A3YHFPuQNPcfL5KrVLPfLP', 'changeGraph', 'eyJpZCI6ICJOaXVlIiwgInR5cGUiOiAidmVydGV4IiwgInByb3BzIjogeyJjb2xvciI6IDY1MjgwfX0K');</script>\n",
       "    "
      ],
      "text/plain": [
       "<IPython.core.display.HTML object>"
      ]
     },
     "metadata": {},
     "output_type": "display_data"
    },
    {
     "data": {
      "text/html": [
       "\n",
       "        <div id=\"bE9YR9cm3VJgNxBuqB55hj\"></div>\n",
       "        <script>netpixi.call('bE9YR9cm3VJgNxBuqB55hj', 'A3YHFPuQNPcfL5KrVLPfLP', 'changeGraph', 'eyJpZCI6ICJEb21pbmljYW4gUmVwLiIsICJ0eXBlIjogInZlcnRleCIsICJwcm9wcyI6IHsiY29sb3IiOiA2NTI4MH19Cg==');</script>\n",
       "    "
      ],
      "text/plain": [
       "<IPython.core.display.HTML object>"
      ]
     },
     "metadata": {},
     "output_type": "display_data"
    },
    {
     "data": {
      "text/html": [
       "\n",
       "        <div id=\"QKtAGWBCj7dcACYSBDR7Lw\"></div>\n",
       "        <script>netpixi.call('QKtAGWBCj7dcACYSBDR7Lw', 'A3YHFPuQNPcfL5KrVLPfLP', 'changeGraph', 'eyJpZCI6ICJTYW1vYSIsICJ0eXBlIjogInZlcnRleCIsICJwcm9wcyI6IHsiY29sb3IiOiA2NTI4MH19Cg==');</script>\n",
       "    "
      ],
      "text/plain": [
       "<IPython.core.display.HTML object>"
      ]
     },
     "metadata": {},
     "output_type": "display_data"
    },
    {
     "data": {
      "text/html": [
       "\n",
       "        <div id=\"ieXf77xdfPNzgeMKswrh2q\"></div>\n",
       "        <script>netpixi.call('ieXf77xdfPNzgeMKswrh2q', 'A3YHFPuQNPcfL5KrVLPfLP', 'changeGraph', 'eyJpZCI6ICJHdWluZWEiLCAidHlwZSI6ICJ2ZXJ0ZXgiLCAicHJvcHMiOiB7ImNvbG9yIjogNjUyODB9fQo=');</script>\n",
       "    "
      ],
      "text/plain": [
       "<IPython.core.display.HTML object>"
      ]
     },
     "metadata": {},
     "output_type": "display_data"
    },
    {
     "data": {
      "text/html": [
       "\n",
       "        <div id=\"h3i8uQe4XpRxCthLvYDr6Q\"></div>\n",
       "        <script>netpixi.call('h3i8uQe4XpRxCthLvYDr6Q', 'A3YHFPuQNPcfL5KrVLPfLP', 'changeGraph', 'eyJpZCI6ICJBbnRpZ3VhIGFuZCBCYXJidWRhIiwgInR5cGUiOiAidmVydGV4IiwgInByb3BzIjogeyJjb2xvciI6IDY1MjgwfX0K');</script>\n",
       "    "
      ],
      "text/plain": [
       "<IPython.core.display.HTML object>"
      ]
     },
     "metadata": {},
     "output_type": "display_data"
    },
    {
     "data": {
      "text/html": [
       "\n",
       "        <div id=\"SzwvLL8rY5a4cnu3Sj7FcU\"></div>\n",
       "        <script>netpixi.call('SzwvLL8rY5a4cnu3Sj7FcU', 'A3YHFPuQNPcfL5KrVLPfLP', 'changeGraph', 'eyJpZCI6ICJTb2xvbW9uIElzbGFuZHMiLCAidHlwZSI6ICJ2ZXJ0ZXgiLCAicHJvcHMiOiB7ImNvbG9yIjogNjUyODB9fQo=');</script>\n",
       "    "
      ],
      "text/plain": [
       "<IPython.core.display.HTML object>"
      ]
     },
     "metadata": {},
     "output_type": "display_data"
    },
    {
     "data": {
      "text/html": [
       "\n",
       "        <div id=\"gn3HasspgbLddPy7pYGHRp\"></div>\n",
       "        <script>netpixi.call('gn3HasspgbLddPy7pYGHRp', 'A3YHFPuQNPcfL5KrVLPfLP', 'changeGraph', 'eyJpZCI6ICJNb250ZW5lZ3JvIiwgInR5cGUiOiAidmVydGV4IiwgInByb3BzIjogeyJjb2xvciI6IDE2NzExNjgwfX0K');</script>\n",
       "    "
      ],
      "text/plain": [
       "<IPython.core.display.HTML object>"
      ]
     },
     "metadata": {},
     "output_type": "display_data"
    },
    {
     "data": {
      "text/html": [
       "\n",
       "        <div id=\"YTj829THgzy3jx8qwwBJGH\"></div>\n",
       "        <script>netpixi.call('YTj829THgzy3jx8qwwBJGH', 'A3YHFPuQNPcfL5KrVLPfLP', 'changeGraph', 'eyJpZCI6ICJQYWxlc3RpbmlhbiIsICJ0eXBlIjogInZlcnRleCIsICJwcm9wcyI6IHsiY29sb3IiOiA2NTI4MH19Cg==');</script>\n",
       "    "
      ],
      "text/plain": [
       "<IPython.core.display.HTML object>"
      ]
     },
     "metadata": {},
     "output_type": "display_data"
    },
    {
     "data": {
      "text/html": [
       "\n",
       "        <div id=\"5vEidW2arnJVD9d7qCiVhL\"></div>\n",
       "        <script>netpixi.call('5vEidW2arnJVD9d7qCiVhL', 'A3YHFPuQNPcfL5KrVLPfLP', 'changeGraph', 'eyJpZCI6ICJVbml0ZWQgS2luZ2RvbSIsICJ0eXBlIjogInZlcnRleCIsICJwcm9wcyI6IHsiY29sb3IiOiAxNjcxMTY4MH19Cg==');</script>\n",
       "    "
      ],
      "text/plain": [
       "<IPython.core.display.HTML object>"
      ]
     },
     "metadata": {},
     "output_type": "display_data"
    },
    {
     "data": {
      "text/html": [
       "\n",
       "        <div id=\"i6t3pCbzVx9pGnbjbtqawC\"></div>\n",
       "        <script>netpixi.call('i6t3pCbzVx9pGnbjbtqawC', 'A3YHFPuQNPcfL5KrVLPfLP', 'changeGraph', 'eyJpZCI6ICJFZ3lwdCIsICJ0eXBlIjogInZlcnRleCIsICJwcm9wcyI6IHsiY29sb3IiOiAxNjcxMTY4MH19Cg==');</script>\n",
       "    "
      ],
      "text/plain": [
       "<IPython.core.display.HTML object>"
      ]
     },
     "metadata": {},
     "output_type": "display_data"
    },
    {
     "data": {
      "text/html": [
       "\n",
       "        <div id=\"HoacVKX5FgqBkdCaKo8c77\"></div>\n",
       "        <script>netpixi.call('HoacVKX5FgqBkdCaKo8c77', 'A3YHFPuQNPcfL5KrVLPfLP', 'changeGraph', 'eyJpZCI6ICJUaW1vci1MZXN0ZSIsICJ0eXBlIjogInZlcnRleCIsICJwcm9wcyI6IHsiY29sb3IiOiA2NTI4MH19Cg==');</script>\n",
       "    "
      ],
      "text/plain": [
       "<IPython.core.display.HTML object>"
      ]
     },
     "metadata": {},
     "output_type": "display_data"
    },
    {
     "data": {
      "text/html": [
       "\n",
       "        <div id=\"AAuJkhsjz3QEuELJNBSBPR\"></div>\n",
       "        <script>netpixi.call('AAuJkhsjz3QEuELJNBSBPR', 'A3YHFPuQNPcfL5KrVLPfLP', 'changeGraph', 'eyJpZCI6ICJUdXJrcyBhbmQgQ2FpY29zIElzbGFuZHMiLCAidHlwZSI6ICJ2ZXJ0ZXgiLCAicHJvcHMiOiB7ImNvbG9yIjogNjUyODB9fQo=');</script>\n",
       "    "
      ],
      "text/plain": [
       "<IPython.core.display.HTML object>"
      ]
     },
     "metadata": {},
     "output_type": "display_data"
    },
    {
     "data": {
      "text/html": [
       "\n",
       "        <div id=\"WvGycdj5USVodYBgjtrMo8\"></div>\n",
       "        <script>netpixi.call('WvGycdj5USVodYBgjtrMo8', 'A3YHFPuQNPcfL5KrVLPfLP', 'changeGraph', 'eyJpZCI6ICJOYW1pYmlhIiwgInR5cGUiOiAidmVydGV4IiwgInByb3BzIjogeyJjb2xvciI6IDY1MjgwfX0K');</script>\n",
       "    "
      ],
      "text/plain": [
       "<IPython.core.display.HTML object>"
      ]
     },
     "metadata": {},
     "output_type": "display_data"
    },
    {
     "data": {
      "text/html": [
       "\n",
       "        <div id=\"QUCjoxN3C3we8hGSDnJriq\"></div>\n",
       "        <script>netpixi.call('QUCjoxN3C3we8hGSDnJriq', 'A3YHFPuQNPcfL5KrVLPfLP', 'changeGraph', 'eyJpZCI6ICJEZW0uIFBlb3BsZSdzIFJlcC4gb2YgS29yZWEiLCAidHlwZSI6ICJ2ZXJ0ZXgiLCAicHJvcHMiOiB7ImNvbG9yIjogNjUyODB9fQo=');</script>\n",
       "    "
      ],
      "text/plain": [
       "<IPython.core.display.HTML object>"
      ]
     },
     "metadata": {},
     "output_type": "display_data"
    },
    {
     "data": {
      "text/html": [
       "\n",
       "        <div id=\"euU3tkDFFcthy5mCGjEmVT\"></div>\n",
       "        <script>netpixi.call('euU3tkDFFcthy5mCGjEmVT', 'A3YHFPuQNPcfL5KrVLPfLP', 'changeGraph', 'eyJpZCI6ICJBbmdvbGEiLCAidHlwZSI6ICJ2ZXJ0ZXgiLCAicHJvcHMiOiB7ImNvbG9yIjogMTY3MTE2ODB9fQo=');</script>\n",
       "    "
      ],
      "text/plain": [
       "<IPython.core.display.HTML object>"
      ]
     },
     "metadata": {},
     "output_type": "display_data"
    },
    {
     "data": {
      "text/html": [
       "\n",
       "        <div id=\"gKisQZjmtmwTQovkECJtXR\"></div>\n",
       "        <script>netpixi.call('gKisQZjmtmwTQovkECJtXR', 'A3YHFPuQNPcfL5KrVLPfLP', 'changeGraph', 'eyJpZCI6ICJNYXVyaXRhbmlhIiwgInR5cGUiOiAidmVydGV4IiwgInByb3BzIjogeyJjb2xvciI6IDY1MjgwfX0K');</script>\n",
       "    "
      ],
      "text/plain": [
       "<IPython.core.display.HTML object>"
      ]
     },
     "metadata": {},
     "output_type": "display_data"
    },
    {
     "data": {
      "text/html": [
       "\n",
       "        <div id=\"DA5qmA9zF4ZhjSmq3UYVNJ\"></div>\n",
       "        <script>netpixi.call('DA5qmA9zF4ZhjSmq3UYVNJ', 'A3YHFPuQNPcfL5KrVLPfLP', 'changeGraph', 'eyJpZCI6ICJQYXJhZ3VheSIsICJ0eXBlIjogInZlcnRleCIsICJwcm9wcyI6IHsiY29sb3IiOiA2NTI4MH19Cg==');</script>\n",
       "    "
      ],
      "text/plain": [
       "<IPython.core.display.HTML object>"
      ]
     },
     "metadata": {},
     "output_type": "display_data"
    },
    {
     "data": {
      "text/html": [
       "\n",
       "        <div id=\"TrqNuG4HnHxXn2ZmyqBy4M\"></div>\n",
       "        <script>netpixi.call('TrqNuG4HnHxXn2ZmyqBy4M', 'A3YHFPuQNPcfL5KrVLPfLP', 'changeGraph', 'eyJpZCI6ICJNYXVyaXRpdXMiLCAidHlwZSI6ICJ2ZXJ0ZXgiLCAicHJvcHMiOiB7ImNvbG9yIjogNjUyODB9fQo=');</script>\n",
       "    "
      ],
      "text/plain": [
       "<IPython.core.display.HTML object>"
      ]
     },
     "metadata": {},
     "output_type": "display_data"
    },
    {
     "data": {
      "text/html": [
       "\n",
       "        <div id=\"gw7Ymgw54URNdX8bqmverF\"></div>\n",
       "        <script>netpixi.call('gw7Ymgw54URNdX8bqmverF', 'A3YHFPuQNPcfL5KrVLPfLP', 'changeGraph', 'eyJpZCI6ICJJdGFseSIsICJ0eXBlIjogInZlcnRleCIsICJwcm9wcyI6IHsiY29sb3IiOiAxNjcxMTY4MH19Cg==');</script>\n",
       "    "
      ],
      "text/plain": [
       "<IPython.core.display.HTML object>"
      ]
     },
     "metadata": {},
     "output_type": "display_data"
    },
    {
     "data": {
      "text/html": [
       "\n",
       "        <div id=\"Q72RjAPduKpJXw8UEWdvhu\"></div>\n",
       "        <script>netpixi.call('Q72RjAPduKpJXw8UEWdvhu', 'A3YHFPuQNPcfL5KrVLPfLP', 'changeGraph', 'eyJpZCI6ICJDaGFkIiwgInR5cGUiOiAidmVydGV4IiwgInByb3BzIjogeyJjb2xvciI6IDY1MjgwfX0K');</script>\n",
       "    "
      ],
      "text/plain": [
       "<IPython.core.display.HTML object>"
      ]
     },
     "metadata": {},
     "output_type": "display_data"
    },
    {
     "data": {
      "text/html": [
       "\n",
       "        <div id=\"jweHVp3hi6Rx8wTN5MTdPq\"></div>\n",
       "        <script>netpixi.call('jweHVp3hi6Rx8wTN5MTdPq', 'A3YHFPuQNPcfL5KrVLPfLP', 'changeGraph', 'eyJpZCI6ICJJY2VsYW5kIiwgInR5cGUiOiAidmVydGV4IiwgInByb3BzIjogeyJjb2xvciI6IDE2NzExNjgwfX0K');</script>\n",
       "    "
      ],
      "text/plain": [
       "<IPython.core.display.HTML object>"
      ]
     },
     "metadata": {},
     "output_type": "display_data"
    },
    {
     "data": {
      "text/html": [
       "\n",
       "        <div id=\"bjRBTDekLHaFfyPFSJPLd9\"></div>\n",
       "        <script>netpixi.call('bjRBTDekLHaFfyPFSJPLd9', 'A3YHFPuQNPcfL5KrVLPfLP', 'changeGraph', 'eyJpZCI6ICJFdGhpb3BpYSIsICJ0eXBlIjogInZlcnRleCIsICJwcm9wcyI6IHsiY29sb3IiOiA2NTI4MH19Cg==');</script>\n",
       "    "
      ],
      "text/plain": [
       "<IPython.core.display.HTML object>"
      ]
     },
     "metadata": {},
     "output_type": "display_data"
    },
    {
     "data": {
      "text/html": [
       "\n",
       "        <div id=\"7tSuWwuuyxYFAyGfX2NW3r\"></div>\n",
       "        <script>netpixi.call('7tSuWwuuyxYFAyGfX2NW3r', 'A3YHFPuQNPcfL5KrVLPfLP', 'changeGraph', 'eyJpZCI6ICJDYW5hZGEiLCAidHlwZSI6ICJ2ZXJ0ZXgiLCAicHJvcHMiOiB7ImNvbG9yIjogMTY3MTE2ODB9fQo=');</script>\n",
       "    "
      ],
      "text/plain": [
       "<IPython.core.display.HTML object>"
      ]
     },
     "metadata": {},
     "output_type": "display_data"
    },
    {
     "data": {
      "text/html": [
       "\n",
       "        <div id=\"NnffuP3HwN6uoKCinQDVBP\"></div>\n",
       "        <script>netpixi.call('NnffuP3HwN6uoKCinQDVBP', 'A3YHFPuQNPcfL5KrVLPfLP', 'changeGraph', 'eyJpZCI6ICJHZW9yZ2lhIiwgInR5cGUiOiAidmVydGV4IiwgInByb3BzIjogeyJjb2xvciI6IDE2NzExNjgwfX0K');</script>\n",
       "    "
      ],
      "text/plain": [
       "<IPython.core.display.HTML object>"
      ]
     },
     "metadata": {},
     "output_type": "display_data"
    },
    {
     "data": {
      "text/html": [
       "\n",
       "        <div id=\"fAbANaL4c72LqHY96x7r9h\"></div>\n",
       "        <script>netpixi.call('fAbANaL4c72LqHY96x7r9h', 'A3YHFPuQNPcfL5KrVLPfLP', 'changeGraph', 'eyJpZCI6ICJTZXljaGVsbGVzIiwgInR5cGUiOiAidmVydGV4IiwgInByb3BzIjogeyJjb2xvciI6IDY1MjgwfX0K');</script>\n",
       "    "
      ],
      "text/plain": [
       "<IPython.core.display.HTML object>"
      ]
     },
     "metadata": {},
     "output_type": "display_data"
    },
    {
     "data": {
      "text/html": [
       "\n",
       "        <div id=\"UhcMyLhjwYt74GkWewW4QM\"></div>\n",
       "        <script>netpixi.call('UhcMyLhjwYt74GkWewW4QM', 'A3YHFPuQNPcfL5KrVLPfLP', 'changeGraph', 'eyJpZCI6ICJTdXJpbmFtZSIsICJ0eXBlIjogInZlcnRleCIsICJwcm9wcyI6IHsiY29sb3IiOiA2NTI4MH19Cg==');</script>\n",
       "    "
      ],
      "text/plain": [
       "<IPython.core.display.HTML object>"
      ]
     },
     "metadata": {},
     "output_type": "display_data"
    },
    {
     "data": {
      "text/html": [
       "\n",
       "        <div id=\"dfT7JP9rx8bKmJ8eTd5tGc\"></div>\n",
       "        <script>netpixi.call('dfT7JP9rx8bKmJ8eTd5tGc', 'A3YHFPuQNPcfL5KrVLPfLP', 'changeGraph', 'eyJpZCI6ICJTdWRhbiIsICJ0eXBlIjogInZlcnRleCIsICJwcm9wcyI6IHsiY29sb3IiOiAxNjcxMTY4MH19Cg==');</script>\n",
       "    "
      ],
      "text/plain": [
       "<IPython.core.display.HTML object>"
      ]
     },
     "metadata": {},
     "output_type": "display_data"
    },
    {
     "data": {
      "text/html": [
       "\n",
       "        <div id=\"ECQWtWFNSiYWuhMAwTtRtF\"></div>\n",
       "        <script>netpixi.call('ECQWtWFNSiYWuhMAwTtRtF', 'A3YHFPuQNPcfL5KrVLPfLP', 'changeGraph', 'eyJpZCI6ICJTaW5nYXBvcmUiLCAidHlwZSI6ICJ2ZXJ0ZXgiLCAicHJvcHMiOiB7ImNvbG9yIjogNjUyODB9fQo=');</script>\n",
       "    "
      ],
      "text/plain": [
       "<IPython.core.display.HTML object>"
      ]
     },
     "metadata": {},
     "output_type": "display_data"
    },
    {
     "data": {
      "text/html": [
       "\n",
       "        <div id=\"FfsNcEQUSe8WtK3cDgW3w3\"></div>\n",
       "        <script>netpixi.call('FfsNcEQUSe8WtK3cDgW3w3', 'A3YHFPuQNPcfL5KrVLPfLP', 'changeGraph', 'eyJpZCI6ICJUb25nYSIsICJ0eXBlIjogInZlcnRleCIsICJwcm9wcyI6IHsiY29sb3IiOiA2NTI4MH19Cg==');</script>\n",
       "    "
      ],
      "text/plain": [
       "<IPython.core.display.HTML object>"
      ]
     },
     "metadata": {},
     "output_type": "display_data"
    },
    {
     "data": {
      "text/html": [
       "\n",
       "        <div id=\"N7SKWgFWMr3bVJBeFhgD5h\"></div>\n",
       "        <script>netpixi.call('N7SKWgFWMr3bVJBeFhgD5h', 'A3YHFPuQNPcfL5KrVLPfLP', 'changeGraph', 'eyJpZCI6ICJDb2xvbWJpYSIsICJ0eXBlIjogInZlcnRleCIsICJwcm9wcyI6IHsiY29sb3IiOiAxNjcxMTY4MH19Cg==');</script>\n",
       "    "
      ],
      "text/plain": [
       "<IPython.core.display.HTML object>"
      ]
     },
     "metadata": {},
     "output_type": "display_data"
    },
    {
     "data": {
      "text/html": [
       "\n",
       "        <div id=\"czbceogisG5aPgN7a2vVqg\"></div>\n",
       "        <script>netpixi.call('czbceogisG5aPgN7a2vVqg', 'A3YHFPuQNPcfL5KrVLPfLP', 'changeGraph', 'eyJpZCI6ICJTZXJiaWEgYW5kIEtvc292byAoUy9SRVMvMTI0NCAoMTk5OSkpIiwgInR5cGUiOiAidmVydGV4IiwgInByb3BzIjogeyJjb2xvciI6IDE2NzExNjgwfX0K');</script>\n",
       "    "
      ],
      "text/plain": [
       "<IPython.core.display.HTML object>"
      ]
     },
     "metadata": {},
     "output_type": "display_data"
    },
    {
     "data": {
      "text/html": [
       "\n",
       "        <div id=\"H8sLg6rm8vSjYU8di5ySWZ\"></div>\n",
       "        <script>netpixi.call('H8sLg6rm8vSjYU8di5ySWZ', 'A3YHFPuQNPcfL5KrVLPfLP', 'changeGraph', 'eyJpZCI6ICJNaWNyb25lc2lhIChGZWRlcmF0ZWQgU3RhdGVzIG9mKSIsICJ0eXBlIjogInZlcnRleCIsICJwcm9wcyI6IHsiY29sb3IiOiA2NTI4MH19Cg==');</script>\n",
       "    "
      ],
      "text/plain": [
       "<IPython.core.display.HTML object>"
      ]
     },
     "metadata": {},
     "output_type": "display_data"
    },
    {
     "data": {
      "text/html": [
       "\n",
       "        <div id=\"M3dmtfXBNcTdeFrCyV9viy\"></div>\n",
       "        <script>netpixi.call('M3dmtfXBNcTdeFrCyV9viy', 'A3YHFPuQNPcfL5KrVLPfLP', 'changeGraph', 'eyJpZCI6ICJMYXR2aWEiLCAidHlwZSI6ICJ2ZXJ0ZXgiLCAicHJvcHMiOiB7ImNvbG9yIjogMTY3MTE2ODB9fQo=');</script>\n",
       "    "
      ],
      "text/plain": [
       "<IPython.core.display.HTML object>"
      ]
     },
     "metadata": {},
     "output_type": "display_data"
    },
    {
     "data": {
      "text/html": [
       "\n",
       "        <div id=\"4YjWQwt4Gz6vxJ9VqS4DLx\"></div>\n",
       "        <script>netpixi.call('4YjWQwt4Gz6vxJ9VqS4DLx', 'A3YHFPuQNPcfL5KrVLPfLP', 'changeGraph', 'eyJpZCI6ICJTZW5lZ2FsIiwgInR5cGUiOiAidmVydGV4IiwgInByb3BzIjogeyJjb2xvciI6IDE2NzExNjgwfX0K');</script>\n",
       "    "
      ],
      "text/plain": [
       "<IPython.core.display.HTML object>"
      ]
     },
     "metadata": {},
     "output_type": "display_data"
    },
    {
     "data": {
      "text/html": [
       "\n",
       "        <div id=\"c8aVX59pM6BQt28rtCtZ4V\"></div>\n",
       "        <script>netpixi.call('c8aVX59pM6BQt28rtCtZ4V', 'A3YHFPuQNPcfL5KrVLPfLP', 'changeGraph', 'eyJpZCI6ICJHZXJtYW55IiwgInR5cGUiOiAidmVydGV4IiwgInByb3BzIjogeyJjb2xvciI6IDE2NzExNjgwfX0K');</script>\n",
       "    "
      ],
      "text/plain": [
       "<IPython.core.display.HTML object>"
      ]
     },
     "metadata": {},
     "output_type": "display_data"
    },
    {
     "data": {
      "text/html": [
       "\n",
       "        <div id=\"3v8oVTw2t5ye7EhwLmvPBp\"></div>\n",
       "        <script>netpixi.call('3v8oVTw2t5ye7EhwLmvPBp', 'A3YHFPuQNPcfL5KrVLPfLP', 'changeGraph', 'eyJpZCI6ICJXYWxsaXMgYW5kIEZ1dHVuYSBJc2xhbmRzICIsICJ0eXBlIjogInZlcnRleCIsICJwcm9wcyI6IHsiY29sb3IiOiA2NTI4MH19Cg==');</script>\n",
       "    "
      ],
      "text/plain": [
       "<IPython.core.display.HTML object>"
      ]
     },
     "metadata": {},
     "output_type": "display_data"
    },
    {
     "data": {
      "text/html": [
       "\n",
       "        <div id=\"EdXMWDh4AN2dqp4RM7FHSB\"></div>\n",
       "        <script>netpixi.call('EdXMWDh4AN2dqp4RM7FHSB', 'A3YHFPuQNPcfL5KrVLPfLP', 'changeGraph', 'eyJpZCI6ICJQb3J0dWdhbCIsICJ0eXBlIjogInZlcnRleCIsICJwcm9wcyI6IHsiY29sb3IiOiAxNjcxMTY4MH19Cg==');</script>\n",
       "    "
      ],
      "text/plain": [
       "<IPython.core.display.HTML object>"
      ]
     },
     "metadata": {},
     "output_type": "display_data"
    },
    {
     "data": {
      "text/html": [
       "\n",
       "        <div id=\"ELXqyWDvC7TSrcZw2nKY5P\"></div>\n",
       "        <script>netpixi.call('ELXqyWDvC7TSrcZw2nKY5P', 'A3YHFPuQNPcfL5KrVLPfLP', 'changeGraph', 'eyJpZCI6ICJTcmkgTGFua2EiLCAidHlwZSI6ICJ2ZXJ0ZXgiLCAicHJvcHMiOiB7ImNvbG9yIjogNjUyODB9fQo=');</script>\n",
       "    "
      ],
      "text/plain": [
       "<IPython.core.display.HTML object>"
      ]
     },
     "metadata": {},
     "output_type": "display_data"
    },
    {
     "data": {
      "text/html": [
       "\n",
       "        <div id=\"6DikoGL86ZZLyPExatsYL5\"></div>\n",
       "        <script>netpixi.call('6DikoGL86ZZLyPExatsYL5', 'A3YHFPuQNPcfL5KrVLPfLP', 'changeGraph', 'eyJpZCI6ICJCZWxnaXVtIiwgInR5cGUiOiAidmVydGV4IiwgInByb3BzIjogeyJjb2xvciI6IDE2NzExNjgwfX0K');</script>\n",
       "    "
      ],
      "text/plain": [
       "<IPython.core.display.HTML object>"
      ]
     },
     "metadata": {},
     "output_type": "display_data"
    },
    {
     "data": {
      "text/html": [
       "\n",
       "        <div id=\"DsTZFzgZTxHxXWMTRAc5u7\"></div>\n",
       "        <script>netpixi.call('DsTZFzgZTxHxXWMTRAc5u7', 'A3YHFPuQNPcfL5KrVLPfLP', 'changeGraph', 'eyJpZCI6ICJNb3JvY2NvIiwgInR5cGUiOiAidmVydGV4IiwgInByb3BzIjogeyJjb2xvciI6IDE2NzExNjgwfX0K');</script>\n",
       "    "
      ],
      "text/plain": [
       "<IPython.core.display.HTML object>"
      ]
     },
     "metadata": {},
     "output_type": "display_data"
    },
    {
     "data": {
      "text/html": [
       "\n",
       "        <div id=\"Nyfi6N5fqe4cdNqM8qEEpi\"></div>\n",
       "        <script>netpixi.call('Nyfi6N5fqe4cdNqM8qEEpi', 'A3YHFPuQNPcfL5KrVLPfLP', 'changeGraph', 'eyJpZCI6ICJLaXJpYmF0aSIsICJ0eXBlIjogInZlcnRleCIsICJwcm9wcyI6IHsiY29sb3IiOiA2NTI4MH19Cg==');</script>\n",
       "    "
      ],
      "text/plain": [
       "<IPython.core.display.HTML object>"
      ]
     },
     "metadata": {},
     "output_type": "display_data"
    },
    {
     "data": {
      "text/html": [
       "\n",
       "        <div id=\"FBbFDFKoHS5XcojqffnEam\"></div>\n",
       "        <script>netpixi.call('FBbFDFKoHS5XcojqffnEam', 'A3YHFPuQNPcfL5KrVLPfLP', 'changeGraph', 'eyJpZCI6ICJOb3Jmb2xrIElzbGFuZCIsICJ0eXBlIjogInZlcnRleCIsICJwcm9wcyI6IHsiY29sb3IiOiA2NTI4MH19Cg==');</script>\n",
       "    "
      ],
      "text/plain": [
       "<IPython.core.display.HTML object>"
      ]
     },
     "metadata": {},
     "output_type": "display_data"
    },
    {
     "data": {
      "text/html": [
       "\n",
       "        <div id=\"3AHwqNJPFZvAtRqMXgYX5L\"></div>\n",
       "        <script>netpixi.call('3AHwqNJPFZvAtRqMXgYX5L', 'A3YHFPuQNPcfL5KrVLPfLP', 'changeGraph', 'eyJpZCI6ICJHcmVlY2UiLCAidHlwZSI6ICJ2ZXJ0ZXgiLCAicHJvcHMiOiB7ImNvbG9yIjogMTY3MTE2ODB9fQo=');</script>\n",
       "    "
      ],
      "text/plain": [
       "<IPython.core.display.HTML object>"
      ]
     },
     "metadata": {},
     "output_type": "display_data"
    },
    {
     "data": {
      "text/html": [
       "\n",
       "        <div id=\"8thHWjcV75zdpU6aqSh9KV\"></div>\n",
       "        <script>netpixi.call('8thHWjcV75zdpU6aqSh9KV', 'A3YHFPuQNPcfL5KrVLPfLP', 'changeGraph', 'eyJpZCI6ICJHcmVuYWRhIiwgInR5cGUiOiAidmVydGV4IiwgInByb3BzIjogeyJjb2xvciI6IDY1MjgwfX0K');</script>\n",
       "    "
      ],
      "text/plain": [
       "<IPython.core.display.HTML object>"
      ]
     },
     "metadata": {},
     "output_type": "display_data"
    },
    {
     "data": {
      "text/html": [
       "\n",
       "        <div id=\"8tY622bg9vYS7DxZojvihs\"></div>\n",
       "        <script>netpixi.call('8tY622bg9vYS7DxZojvihs', 'A3YHFPuQNPcfL5KrVLPfLP', 'changeGraph', 'eyJpZCI6ICJTYW4gTWFyaW5vIiwgInR5cGUiOiAidmVydGV4IiwgInByb3BzIjogeyJjb2xvciI6IDY1MjgwfX0K');</script>\n",
       "    "
      ],
      "text/plain": [
       "<IPython.core.display.HTML object>"
      ]
     },
     "metadata": {},
     "output_type": "display_data"
    },
    {
     "data": {
      "text/html": [
       "\n",
       "        <div id=\"5CzevTBB7RvjrcP2eUB4vC\"></div>\n",
       "        <script>netpixi.call('5CzevTBB7RvjrcP2eUB4vC', 'A3YHFPuQNPcfL5KrVLPfLP', 'changeGraph', 'eyJpZCI6ICJTbG92ZW5pYSIsICJ0eXBlIjogInZlcnRleCIsICJwcm9wcyI6IHsiY29sb3IiOiAxNjcxMTY4MH19Cg==');</script>\n",
       "    "
      ],
      "text/plain": [
       "<IPython.core.display.HTML object>"
      ]
     },
     "metadata": {},
     "output_type": "display_data"
    },
    {
     "data": {
      "text/html": [
       "\n",
       "        <div id=\"HvX665kcxjo33YsDHTGrNe\"></div>\n",
       "        <script>netpixi.call('HvX665kcxjo33YsDHTGrNe', 'A3YHFPuQNPcfL5KrVLPfLP', 'changeGraph', 'eyJpZCI6ICJOaWdlcmlhIiwgInR5cGUiOiAidmVydGV4IiwgInByb3BzIjogeyJjb2xvciI6IDY1MjgwfX0K');</script>\n",
       "    "
      ],
      "text/plain": [
       "<IPython.core.display.HTML object>"
      ]
     },
     "metadata": {},
     "output_type": "display_data"
    },
    {
     "data": {
      "text/html": [
       "\n",
       "        <div id=\"BcxDpEAwwsWpFvw4X68vX5\"></div>\n",
       "        <script>netpixi.call('BcxDpEAwwsWpFvw4X68vX5', 'A3YHFPuQNPcfL5KrVLPfLP', 'changeGraph', 'eyJpZCI6ICJHYWJvbiIsICJ0eXBlIjogInZlcnRleCIsICJwcm9wcyI6IHsiY29sb3IiOiA2NTI4MH19Cg==');</script>\n",
       "    "
      ],
      "text/plain": [
       "<IPython.core.display.HTML object>"
      ]
     },
     "metadata": {},
     "output_type": "display_data"
    },
    {
     "data": {
      "text/html": [
       "\n",
       "        <div id=\"ibvVM7v3TF6ruJoYRbXiAQ\"></div>\n",
       "        <script>netpixi.call('ibvVM7v3TF6ruJoYRbXiAQ', 'A3YHFPuQNPcfL5KrVLPfLP', 'changeGraph', 'eyJpZCI6ICJCZWxpemUiLCAidHlwZSI6ICJ2ZXJ0ZXgiLCAicHJvcHMiOiB7ImNvbG9yIjogNjUyODB9fQo=');</script>\n",
       "    "
      ],
      "text/plain": [
       "<IPython.core.display.HTML object>"
      ]
     },
     "metadata": {},
     "output_type": "display_data"
    },
    {
     "data": {
      "text/html": [
       "\n",
       "        <div id=\"8C9G8uKYiST2d9oATWub9m\"></div>\n",
       "        <script>netpixi.call('8C9G8uKYiST2d9oATWub9m', 'A3YHFPuQNPcfL5KrVLPfLP', 'changeGraph', 'eyJpZCI6ICJDaGluYSwgTWFjYW8gU0FSIiwgInR5cGUiOiAidmVydGV4IiwgInByb3BzIjogeyJjb2xvciI6IDY1MjgwfX0K');</script>\n",
       "    "
      ],
      "text/plain": [
       "<IPython.core.display.HTML object>"
      ]
     },
     "metadata": {},
     "output_type": "display_data"
    },
    {
     "data": {
      "text/html": [
       "\n",
       "        <div id=\"4jLDqRFUppNNngBBhLhn3q\"></div>\n",
       "        <script>netpixi.call('4jLDqRFUppNNngBBhLhn3q', 'A3YHFPuQNPcfL5KrVLPfLP', 'changeGraph', 'eyJpZCI6ICJCYXJiYWRvcyIsICJ0eXBlIjogInZlcnRleCIsICJwcm9wcyI6IHsiY29sb3IiOiA2NTI4MH19Cg==');</script>\n",
       "    "
      ],
      "text/plain": [
       "<IPython.core.display.HTML object>"
      ]
     },
     "metadata": {},
     "output_type": "display_data"
    },
    {
     "data": {
      "text/html": [
       "\n",
       "        <div id=\"WxUNqsYWkLaPoSzicBdY7i\"></div>\n",
       "        <script>netpixi.call('WxUNqsYWkLaPoSzicBdY7i', 'A3YHFPuQNPcfL5KrVLPfLP', 'changeGraph', 'eyJpZCI6ICJCcmF6aWwiLCAidHlwZSI6ICJ2ZXJ0ZXgiLCAicHJvcHMiOiB7ImNvbG9yIjogMTY3MTE2ODB9fQo=');</script>\n",
       "    "
      ],
      "text/plain": [
       "<IPython.core.display.HTML object>"
      ]
     },
     "metadata": {},
     "output_type": "display_data"
    },
    {
     "data": {
      "text/html": [
       "\n",
       "        <div id=\"NnknysnqNuMyLQjgSP7SJV\"></div>\n",
       "        <script>netpixi.call('NnknysnqNuMyLQjgSP7SJV', 'A3YHFPuQNPcfL5KrVLPfLP', 'changeGraph', 'eyJpZCI6ICJTbG92YWtpYSIsICJ0eXBlIjogInZlcnRleCIsICJwcm9wcyI6IHsiY29sb3IiOiAxNjcxMTY4MH19Cg==');</script>\n",
       "    "
      ],
      "text/plain": [
       "<IPython.core.display.HTML object>"
      ]
     },
     "metadata": {},
     "output_type": "display_data"
    },
    {
     "data": {
      "text/html": [
       "\n",
       "        <div id=\"9j27aeaQxAqyBUJEVjGRrP\"></div>\n",
       "        <script>netpixi.call('9j27aeaQxAqyBUJEVjGRrP', 'A3YHFPuQNPcfL5KrVLPfLP', 'changeGraph', 'eyJpZCI6ICJHdWFkZWxvdXBlIiwgInR5cGUiOiAidmVydGV4IiwgInByb3BzIjogeyJjb2xvciI6IDY1MjgwfX0K');</script>\n",
       "    "
      ],
      "text/plain": [
       "<IPython.core.display.HTML object>"
      ]
     },
     "metadata": {},
     "output_type": "display_data"
    },
    {
     "data": {
      "text/html": [
       "\n",
       "        <div id=\"3GHgqGejT4vhj7CdEWn6aD\"></div>\n",
       "        <script>netpixi.call('3GHgqGejT4vhj7CdEWn6aD', 'A3YHFPuQNPcfL5KrVLPfLP', 'changeGraph', 'eyJpZCI6ICJTd2l0emVybGFuZCIsICJ0eXBlIjogInZlcnRleCIsICJwcm9wcyI6IHsiY29sb3IiOiAxNjcxMTY4MH19Cg==');</script>\n",
       "    "
      ],
      "text/plain": [
       "<IPython.core.display.HTML object>"
      ]
     },
     "metadata": {},
     "output_type": "display_data"
    },
    {
     "data": {
      "text/html": [
       "\n",
       "        <div id=\"c9xXqZik36VfBd7p93DHGB\"></div>\n",
       "        <script>netpixi.call('c9xXqZik36VfBd7p93DHGB', 'A3YHFPuQNPcfL5KrVLPfLP', 'changeGraph', 'eyJpZCI6ICJQYW5hbWEiLCAidHlwZSI6ICJ2ZXJ0ZXgiLCAicHJvcHMiOiB7ImNvbG9yIjogMTY3MTE2ODB9fQo=');</script>\n",
       "    "
      ],
      "text/plain": [
       "<IPython.core.display.HTML object>"
      ]
     },
     "metadata": {},
     "output_type": "display_data"
    },
    {
     "data": {
      "text/html": [
       "\n",
       "        <div id=\"ABs3dWn389Mwn6QQR93YcY\"></div>\n",
       "        <script>netpixi.call('ABs3dWn389Mwn6QQR93YcY', 'A3YHFPuQNPcfL5KrVLPfLP', 'changeGraph', 'eyJpZCI6ICJDdXJhXHUwMGU3YW8iLCAidHlwZSI6ICJ2ZXJ0ZXgiLCAicHJvcHMiOiB7ImNvbG9yIjogNjUyODB9fQo=');</script>\n",
       "    "
      ],
      "text/plain": [
       "<IPython.core.display.HTML object>"
      ]
     },
     "metadata": {},
     "output_type": "display_data"
    },
    {
     "data": {
      "text/html": [
       "\n",
       "        <div id=\"oDgM87qVwy7MrjoWMtnivb\"></div>\n",
       "        <script>netpixi.call('oDgM87qVwy7MrjoWMtnivb', 'A3YHFPuQNPcfL5KrVLPfLP', 'changeGraph', 'eyJpZCI6ICJWYW51YXR1IiwgInR5cGUiOiAidmVydGV4IiwgInByb3BzIjogeyJjb2xvciI6IDY1MjgwfX0K');</script>\n",
       "    "
      ],
      "text/plain": [
       "<IPython.core.display.HTML object>"
      ]
     },
     "metadata": {},
     "output_type": "display_data"
    },
    {
     "data": {
      "text/html": [
       "\n",
       "        <div id=\"QzayAJhEZL7pLGVCk7rnqC\"></div>\n",
       "        <script>netpixi.call('QzayAJhEZL7pLGVCk7rnqC', 'A3YHFPuQNPcfL5KrVLPfLP', 'changeGraph', 'eyJpZCI6ICJCZXJtdWRhIiwgInR5cGUiOiAidmVydGV4IiwgInByb3BzIjogeyJjb2xvciI6IDY1MjgwfX0K');</script>\n",
       "    "
      ],
      "text/plain": [
       "<IPython.core.display.HTML object>"
      ]
     },
     "metadata": {},
     "output_type": "display_data"
    },
    {
     "data": {
      "text/html": [
       "\n",
       "        <div id=\"hU4HeuxW2shxsYMYQtoLtd\"></div>\n",
       "        <script>netpixi.call('hU4HeuxW2shxsYMYQtoLtd', 'A3YHFPuQNPcfL5KrVLPfLP', 'changeGraph', 'eyJpZCI6ICJQYXB1YSBOZXcgR3VpbmVhIiwgInR5cGUiOiAidmVydGV4IiwgInByb3BzIjogeyJjb2xvciI6IDY1MjgwfX0K');</script>\n",
       "    "
      ],
      "text/plain": [
       "<IPython.core.display.HTML object>"
      ]
     },
     "metadata": {},
     "output_type": "display_data"
    },
    {
     "data": {
      "text/html": [
       "\n",
       "        <div id=\"Efqfav4fqKZqkRdtTnEVcn\"></div>\n",
       "        <script>netpixi.call('Efqfav4fqKZqkRdtTnEVcn', 'A3YHFPuQNPcfL5KrVLPfLP', 'changeGraph', 'eyJpZCI6ICJaYW1iaWEiLCAidHlwZSI6ICJ2ZXJ0ZXgiLCAicHJvcHMiOiB7ImNvbG9yIjogNjUyODB9fQo=');</script>\n",
       "    "
      ],
      "text/plain": [
       "<IPython.core.display.HTML object>"
      ]
     },
     "metadata": {},
     "output_type": "display_data"
    },
    {
     "data": {
      "text/html": [
       "\n",
       "        <div id=\"FbtdY3ikn6UvDb7MAvNgVw\"></div>\n",
       "        <script>netpixi.call('FbtdY3ikn6UvDb7MAvNgVw', 'A3YHFPuQNPcfL5KrVLPfLP', 'changeGraph', 'eyJpZCI6ICJOZXRoZXJsYW5kcyIsICJ0eXBlIjogInZlcnRleCIsICJwcm9wcyI6IHsiY29sb3IiOiAxNjcxMTY4MH19Cg==');</script>\n",
       "    "
      ],
      "text/plain": [
       "<IPython.core.display.HTML object>"
      ]
     },
     "metadata": {},
     "output_type": "display_data"
    },
    {
     "data": {
      "text/html": [
       "\n",
       "        <div id=\"9eMH6KetpDuaxyc5R7FF9V\"></div>\n",
       "        <script>netpixi.call('9eMH6KetpDuaxyc5R7FF9V', 'A3YHFPuQNPcfL5KrVLPfLP', 'changeGraph', 'eyJpZCI6ICJTb21hbGlhIiwgInR5cGUiOiAidmVydGV4IiwgInByb3BzIjogeyJjb2xvciI6IDY1MjgwfX0K');</script>\n",
       "    "
      ],
      "text/plain": [
       "<IPython.core.display.HTML object>"
      ]
     },
     "metadata": {},
     "output_type": "display_data"
    },
    {
     "data": {
      "text/html": [
       "\n",
       "        <div id=\"iYeyPUSQfUtMxQpsavwkqu\"></div>\n",
       "        <script>netpixi.call('iYeyPUSQfUtMxQpsavwkqu', 'A3YHFPuQNPcfL5KrVLPfLP', 'changeGraph', 'eyJpZCI6ICJDb3N0YSBSaWNhIiwgInR5cGUiOiAidmVydGV4IiwgInByb3BzIjogeyJjb2xvciI6IDE2NzExNjgwfX0K');</script>\n",
       "    "
      ],
      "text/plain": [
       "<IPython.core.display.HTML object>"
      ]
     },
     "metadata": {},
     "output_type": "display_data"
    },
    {
     "data": {
      "text/html": [
       "\n",
       "        <div id=\"XbdwMgz3PG3jGP22i552Wf\"></div>\n",
       "        <script>netpixi.call('XbdwMgz3PG3jGP22i552Wf', 'A3YHFPuQNPcfL5KrVLPfLP', 'changeGraph', 'eyJpZCI6ICJLeXJneXpzdGFuIiwgInR5cGUiOiAidmVydGV4IiwgInByb3BzIjogeyJjb2xvciI6IDY1MjgwfX0K');</script>\n",
       "    "
      ],
      "text/plain": [
       "<IPython.core.display.HTML object>"
      ]
     },
     "metadata": {},
     "output_type": "display_data"
    },
    {
     "data": {
      "text/html": [
       "\n",
       "        <div id=\"So4SEBrR4bSMyxcuDnhWnZ\"></div>\n",
       "        <script>netpixi.call('So4SEBrR4bSMyxcuDnhWnZ', 'A3YHFPuQNPcfL5KrVLPfLP', 'changeGraph', 'eyJpZCI6ICJNb250c2VycmF0IiwgInR5cGUiOiAidmVydGV4IiwgInByb3BzIjogeyJjb2xvciI6IDY1MjgwfX0K');</script>\n",
       "    "
      ],
      "text/plain": [
       "<IPython.core.display.HTML object>"
      ]
     },
     "metadata": {},
     "output_type": "display_data"
    },
    {
     "data": {
      "text/html": [
       "\n",
       "        <div id=\"Wwn25NwzMX4t5naUq3fS8j\"></div>\n",
       "        <script>netpixi.call('Wwn25NwzMX4t5naUq3fS8j', 'A3YHFPuQNPcfL5KrVLPfLP', 'changeGraph', 'eyJpZCI6ICJMZWJhbm9uIiwgInR5cGUiOiAidmVydGV4IiwgInByb3BzIjogeyJjb2xvciI6IDE2NzExNjgwfX0K');</script>\n",
       "    "
      ],
      "text/plain": [
       "<IPython.core.display.HTML object>"
      ]
     },
     "metadata": {},
     "output_type": "display_data"
    },
    {
     "data": {
      "text/html": [
       "\n",
       "        <div id=\"eHzSvjJpw7D3ZxVJQbgcxb\"></div>\n",
       "        <script>netpixi.call('eHzSvjJpw7D3ZxVJQbgcxb', 'A3YHFPuQNPcfL5KrVLPfLP', 'changeGraph', 'eyJpZCI6ICJFbCBTYWx2YWRvciIsICJ0eXBlIjogInZlcnRleCIsICJwcm9wcyI6IHsiY29sb3IiOiA2NTI4MH19Cg==');</script>\n",
       "    "
      ],
      "text/plain": [
       "<IPython.core.display.HTML object>"
      ]
     },
     "metadata": {},
     "output_type": "display_data"
    },
    {
     "data": {
      "text/html": [
       "\n",
       "        <div id=\"UCPSB2ciq9HEUFLK35D5SA\"></div>\n",
       "        <script>netpixi.call('UCPSB2ciq9HEUFLK35D5SA', 'A3YHFPuQNPcfL5KrVLPfLP', 'changeGraph', 'eyJpZCI6ICJCZWxhcnVzIiwgInR5cGUiOiAidmVydGV4IiwgInByb3BzIjogeyJjb2xvciI6IDE2NzExNjgwfX0K');</script>\n",
       "    "
      ],
      "text/plain": [
       "<IPython.core.display.HTML object>"
      ]
     },
     "metadata": {},
     "output_type": "display_data"
    },
    {
     "data": {
      "text/html": [
       "\n",
       "        <div id=\"8WzWpQ5KocPGftcwN7RVzh\"></div>\n",
       "        <script>netpixi.call('8WzWpQ5KocPGftcwN7RVzh', 'A3YHFPuQNPcfL5KrVLPfLP', 'changeGraph', 'eyJpZCI6ICJUdXJrZXkiLCAidHlwZSI6ICJ2ZXJ0ZXgiLCAicHJvcHMiOiB7ImNvbG9yIjogMTY3MTE2ODB9fQo=');</script>\n",
       "    "
      ],
      "text/plain": [
       "<IPython.core.display.HTML object>"
      ]
     },
     "metadata": {},
     "output_type": "display_data"
    },
    {
     "data": {
      "text/html": [
       "\n",
       "        <div id=\"Bph57FWqmQvqzW6rsusxP4\"></div>\n",
       "        <script>netpixi.call('Bph57FWqmQvqzW6rsusxP4', 'A3YHFPuQNPcfL5KrVLPfLP', 'changeGraph', 'eyJpZCI6ICJNb25hY28iLCAidHlwZSI6ICJ2ZXJ0ZXgiLCAicHJvcHMiOiB7ImNvbG9yIjogNjUyODB9fQo=');</script>\n",
       "    "
      ],
      "text/plain": [
       "<IPython.core.display.HTML object>"
      ]
     },
     "metadata": {},
     "output_type": "display_data"
    },
    {
     "data": {
      "text/html": [
       "\n",
       "        <div id=\"AuB5TwzMrc6fJzHuzYSvrH\"></div>\n",
       "        <script>netpixi.call('AuB5TwzMrc6fJzHuzYSvrH', 'A3YHFPuQNPcfL5KrVLPfLP', 'changeGraph', 'eyJpZCI6ICJLdXdhaXQiLCAidHlwZSI6ICJ2ZXJ0ZXgiLCAicHJvcHMiOiB7ImNvbG9yIjogNjUyODB9fQo=');</script>\n",
       "    "
      ],
      "text/plain": [
       "<IPython.core.display.HTML object>"
      ]
     },
     "metadata": {},
     "output_type": "display_data"
    },
    {
     "data": {
      "text/html": [
       "\n",
       "        <div id=\"RKXnKaZPNbiGGkYjCcNtcK\"></div>\n",
       "        <script>netpixi.call('RKXnKaZPNbiGGkYjCcNtcK', 'A3YHFPuQNPcfL5KrVLPfLP', 'changeGraph', 'eyJpZCI6ICJBcnViYSIsICJ0eXBlIjogInZlcnRleCIsICJwcm9wcyI6IHsiY29sb3IiOiA2NTI4MH19Cg==');</script>\n",
       "    "
      ],
      "text/plain": [
       "<IPython.core.display.HTML object>"
      ]
     },
     "metadata": {},
     "output_type": "display_data"
    },
    {
     "data": {
      "text/html": [
       "\n",
       "        <div id=\"X6aLgMA6tTA5yBkGx5tmVL\"></div>\n",
       "        <script>netpixi.call('X6aLgMA6tTA5yBkGx5tmVL', 'A3YHFPuQNPcfL5KrVLPfLP', 'changeGraph', 'eyJpZCI6ICJUaGFpbGFuZCIsICJ0eXBlIjogInZlcnRleCIsICJwcm9wcyI6IHsiY29sb3IiOiAxNjcxMTY4MH19Cg==');</script>\n",
       "    "
      ],
      "text/plain": [
       "<IPython.core.display.HTML object>"
      ]
     },
     "metadata": {},
     "output_type": "display_data"
    },
    {
     "data": {
      "text/html": [
       "\n",
       "        <div id=\"82xzhRhRb3jLKZtA2BLC3g\"></div>\n",
       "        <script>netpixi.call('82xzhRhRb3jLKZtA2BLC3g', 'A3YHFPuQNPcfL5KrVLPfLP', 'changeGraph', 'eyJpZCI6ICJUdXZhbHUiLCAidHlwZSI6ICJ2ZXJ0ZXgiLCAicHJvcHMiOiB7ImNvbG9yIjogNjUyODB9fQo=');</script>\n",
       "    "
      ],
      "text/plain": [
       "<IPython.core.display.HTML object>"
      ]
     },
     "metadata": {},
     "output_type": "display_data"
    },
    {
     "data": {
      "text/html": [
       "\n",
       "        <div id=\"YeHMBwj66jRKgEMw377cQX\"></div>\n",
       "        <script>netpixi.call('YeHMBwj66jRKgEMw377cQX', 'A3YHFPuQNPcfL5KrVLPfLP', 'changeGraph', 'eyJpZCI6ICJTd2F6aWxhbmQiLCAidHlwZSI6ICJ2ZXJ0ZXgiLCAicHJvcHMiOiB7ImNvbG9yIjogNjUyODB9fQo=');</script>\n",
       "    "
      ],
      "text/plain": [
       "<IPython.core.display.HTML object>"
      ]
     },
     "metadata": {},
     "output_type": "display_data"
    },
    {
     "data": {
      "text/html": [
       "\n",
       "        <div id=\"E8C7MXkM868Ms9daKfuRWo\"></div>\n",
       "        <script>netpixi.call('E8C7MXkM868Ms9daKfuRWo', 'A3YHFPuQNPcfL5KrVLPfLP', 'changeGraph', 'eyJpZCI6ICJTb3V0aCBBZnJpY2EiLCAidHlwZSI6ICJ2ZXJ0ZXgiLCAicHJvcHMiOiB7ImNvbG9yIjogMTY3MTE2ODB9fQo=');</script>\n",
       "    "
      ],
      "text/plain": [
       "<IPython.core.display.HTML object>"
      ]
     },
     "metadata": {},
     "output_type": "display_data"
    },
    {
     "data": {
      "text/html": [
       "\n",
       "        <div id=\"oPfrcuYs8xus3rGNNAqVhM\"></div>\n",
       "        <script>netpixi.call('oPfrcuYs8xus3rGNNAqVhM', 'A3YHFPuQNPcfL5KrVLPfLP', 'changeGraph', 'eyJpZCI6ICJQb2xhbmQiLCAidHlwZSI6ICJ2ZXJ0ZXgiLCAicHJvcHMiOiB7ImNvbG9yIjogMTY3MTE2ODB9fQo=');</script>\n",
       "    "
      ],
      "text/plain": [
       "<IPython.core.display.HTML object>"
      ]
     },
     "metadata": {},
     "output_type": "display_data"
    },
    {
     "data": {
      "text/html": [
       "\n",
       "        <div id=\"QjLWBidBByCVZaAKnLzPoV\"></div>\n",
       "        <script>netpixi.call('QjLWBidBByCVZaAKnLzPoV', 'A3YHFPuQNPcfL5KrVLPfLP', 'changeGraph', 'eyJpZCI6ICJOaWNhcmFndWEiLCAidHlwZSI6ICJ2ZXJ0ZXgiLCAicHJvcHMiOiB7ImNvbG9yIjogNjUyODB9fQo=');</script>\n",
       "    "
      ],
      "text/plain": [
       "<IPython.core.display.HTML object>"
      ]
     },
     "metadata": {},
     "output_type": "display_data"
    },
    {
     "data": {
      "text/html": [
       "\n",
       "        <div id=\"mQLz5LAcExMzqqhGX3fbRS\"></div>\n",
       "        <script>netpixi.call('mQLz5LAcExMzqqhGX3fbRS', 'A3YHFPuQNPcfL5KrVLPfLP', 'changeGraph', 'eyJpZCI6ICJIdW5nYXJ5IiwgInR5cGUiOiAidmVydGV4IiwgInByb3BzIjogeyJjb2xvciI6IDE2NzExNjgwfX0K');</script>\n",
       "    "
      ],
      "text/plain": [
       "<IPython.core.display.HTML object>"
      ]
     },
     "metadata": {},
     "output_type": "display_data"
    },
    {
     "data": {
      "text/html": [
       "\n",
       "        <div id=\"MnMvJANhHKfe4z75aVzmLm\"></div>\n",
       "        <script>netpixi.call('MnMvJANhHKfe4z75aVzmLm', 'A3YHFPuQNPcfL5KrVLPfLP', 'changeGraph', 'eyJpZCI6ICJFc3RvbmlhIiwgInR5cGUiOiAidmVydGV4IiwgInByb3BzIjogeyJjb2xvciI6IDE2NzExNjgwfX0K');</script>\n",
       "    "
      ],
      "text/plain": [
       "<IPython.core.display.HTML object>"
      ]
     },
     "metadata": {},
     "output_type": "display_data"
    },
    {
     "data": {
      "text/html": [
       "\n",
       "        <div id=\"S7f5SQQAG5ywJDKeM8DnEx\"></div>\n",
       "        <script>netpixi.call('S7f5SQQAG5ywJDKeM8DnEx', 'A3YHFPuQNPcfL5KrVLPfLP', 'changeGraph', 'eyJpZCI6ICJSdXNzaWFuIEZlZGVyYXRpb24iLCAidHlwZSI6ICJ2ZXJ0ZXgiLCAicHJvcHMiOiB7ImNvbG9yIjogMTY3MTE2ODB9fQo=');</script>\n",
       "    "
      ],
      "text/plain": [
       "<IPython.core.display.HTML object>"
      ]
     },
     "metadata": {},
     "output_type": "display_data"
    },
    {
     "data": {
      "text/html": [
       "\n",
       "        <div id=\"J4AtdEBeNE49N63iwJwugF\"></div>\n",
       "        <script>netpixi.call('J4AtdEBeNE49N63iwJwugF', 'A3YHFPuQNPcfL5KrVLPfLP', 'changeGraph', 'eyJpZCI6ICJBcmdlbnRpbmEiLCAidHlwZSI6ICJ2ZXJ0ZXgiLCAicHJvcHMiOiB7ImNvbG9yIjogMTY3MTE2ODB9fQo=');</script>\n",
       "    "
      ],
      "text/plain": [
       "<IPython.core.display.HTML object>"
      ]
     },
     "metadata": {},
     "output_type": "display_data"
    },
    {
     "data": {
      "text/html": [
       "\n",
       "        <div id=\"CiFfxGRj6zp6535ZKKxkVR\"></div>\n",
       "        <script>netpixi.call('CiFfxGRj6zp6535ZKKxkVR', 'A3YHFPuQNPcfL5KrVLPfLP', 'changeGraph', 'eyJpZCI6ICJCdXJraW5hIEZhc28iLCAidHlwZSI6ICJ2ZXJ0ZXgiLCAicHJvcHMiOiB7ImNvbG9yIjogNjUyODB9fQo=');</script>\n",
       "    "
      ],
      "text/plain": [
       "<IPython.core.display.HTML object>"
      ]
     },
     "metadata": {},
     "output_type": "display_data"
    },
    {
     "data": {
      "text/html": [
       "\n",
       "        <div id=\"KJe6mjaBxSyBVAnDq29V9c\"></div>\n",
       "        <script>netpixi.call('KJe6mjaBxSyBVAnDq29V9c', 'A3YHFPuQNPcfL5KrVLPfLP', 'changeGraph', 'eyJpZCI6ICJMaWJlcmlhIiwgInR5cGUiOiAidmVydGV4IiwgInByb3BzIjogeyJjb2xvciI6IDY1MjgwfX0K');</script>\n",
       "    "
      ],
      "text/plain": [
       "<IPython.core.display.HTML object>"
      ]
     },
     "metadata": {},
     "output_type": "display_data"
    },
    {
     "data": {
      "text/html": [
       "\n",
       "        <div id=\"SypYmTMrFTEmH9uuakRydA\"></div>\n",
       "        <script>netpixi.call('SypYmTMrFTEmH9uuakRydA', 'A3YHFPuQNPcfL5KrVLPfLP', 'changeGraph', 'eyJpZCI6ICJJcmVsYW5kIiwgInR5cGUiOiAidmVydGV4IiwgInByb3BzIjogeyJjb2xvciI6IDE2NzExNjgwfX0K');</script>\n",
       "    "
      ],
      "text/plain": [
       "<IPython.core.display.HTML object>"
      ]
     },
     "metadata": {},
     "output_type": "display_data"
    },
    {
     "data": {
      "text/html": [
       "\n",
       "        <div id=\"Z865abVEqJ2N5sjYHXc8pp\"></div>\n",
       "        <script>netpixi.call('Z865abVEqJ2N5sjYHXc8pp', 'A3YHFPuQNPcfL5KrVLPfLP', 'changeGraph', 'eyJpZCI6ICJDcm9hdGlhIiwgInR5cGUiOiAidmVydGV4IiwgInByb3BzIjogeyJjb2xvciI6IDE2NzExNjgwfX0K');</script>\n",
       "    "
      ],
      "text/plain": [
       "<IPython.core.display.HTML object>"
      ]
     },
     "metadata": {},
     "output_type": "display_data"
    },
    {
     "data": {
      "text/html": [
       "\n",
       "        <div id=\"fGjKUnEQhvfterHwB6qP36\"></div>\n",
       "        <script>netpixi.call('fGjKUnEQhvfterHwB6qP36', 'A3YHFPuQNPcfL5KrVLPfLP', 'changeGraph', 'eyJpZCI6ICJSZXAuIG9mIEtvcmVhIiwgInR5cGUiOiAidmVydGV4IiwgInByb3BzIjogeyJjb2xvciI6IDE2NzExNjgwfX0K');</script>\n",
       "    "
      ],
      "text/plain": [
       "<IPython.core.display.HTML object>"
      ]
     },
     "metadata": {},
     "output_type": "display_data"
    },
    {
     "data": {
      "text/html": [
       "\n",
       "        <div id=\"VDUMfTa2pduiYQmQmhBtXP\"></div>\n",
       "        <script>netpixi.call('VDUMfTa2pduiYQmQmhBtXP', 'A3YHFPuQNPcfL5KrVLPfLP', 'changeGraph', 'eyJpZCI6ICJTeXJpYW4gQXJhYiBSZXAuIiwgInR5cGUiOiAidmVydGV4IiwgInByb3BzIjogeyJjb2xvciI6IDE2NzExNjgwfX0K');</script>\n",
       "    "
      ],
      "text/plain": [
       "<IPython.core.display.HTML object>"
      ]
     },
     "metadata": {},
     "output_type": "display_data"
    },
    {
     "data": {
      "text/html": [
       "\n",
       "        <div id=\"J3T7Uhcgd6sNy9AhjoGLfG\"></div>\n",
       "        <script>netpixi.call('J3T7Uhcgd6sNy9AhjoGLfG', 'A3YHFPuQNPcfL5KrVLPfLP', 'changeGraph', 'eyJpZCI6ICJVemJla2lzdGFuIiwgInR5cGUiOiAidmVydGV4IiwgInByb3BzIjogeyJjb2xvciI6IDY1MjgwfX0K');</script>\n",
       "    "
      ],
      "text/plain": [
       "<IPython.core.display.HTML object>"
      ]
     },
     "metadata": {},
     "output_type": "display_data"
    },
    {
     "data": {
      "text/html": [
       "\n",
       "        <div id=\"46LDqU9nWzU73PJQWKT5Zh\"></div>\n",
       "        <script>netpixi.call('46LDqU9nWzU73PJQWKT5Zh', 'A3YHFPuQNPcfL5KrVLPfLP', 'changeGraph', 'eyJpZCI6ICJKb3JkYW4iLCAidHlwZSI6ICJ2ZXJ0ZXgiLCAicHJvcHMiOiB7ImNvbG9yIjogMTY3MTE2ODB9fQo=');</script>\n",
       "    "
      ],
      "text/plain": [
       "<IPython.core.display.HTML object>"
      ]
     },
     "metadata": {},
     "output_type": "display_data"
    },
    {
     "data": {
      "text/html": [
       "\n",
       "        <div id=\"DJBzibPFHKuuG2BY7DvVd8\"></div>\n",
       "        <script>netpixi.call('DJBzibPFHKuuG2BY7DvVd8', 'A3YHFPuQNPcfL5KrVLPfLP', 'changeGraph', 'eyJpZCI6ICJOYXVydSIsICJ0eXBlIjogInZlcnRleCIsICJwcm9wcyI6IHsiY29sb3IiOiA2NTI4MH19Cg==');</script>\n",
       "    "
      ],
      "text/plain": [
       "<IPython.core.display.HTML object>"
      ]
     },
     "metadata": {},
     "output_type": "display_data"
    },
    {
     "data": {
      "text/html": [
       "\n",
       "        <div id=\"BiPDLHnTkcbQpcVxUpqyno\"></div>\n",
       "        <script>netpixi.call('BiPDLHnTkcbQpcVxUpqyno', 'A3YHFPuQNPcfL5KrVLPfLP', 'changeGraph', 'eyJpZCI6ICJGcmVuY2ggR3VpYW5hIiwgInR5cGUiOiAidmVydGV4IiwgInByb3BzIjogeyJjb2xvciI6IDY1MjgwfX0K');</script>\n",
       "    "
      ],
      "text/plain": [
       "<IPython.core.display.HTML object>"
      ]
     },
     "metadata": {},
     "output_type": "display_data"
    },
    {
     "data": {
      "text/html": [
       "\n",
       "        <div id=\"eeCDkifF4dL35eTYqeU5Tc\"></div>\n",
       "        <script>netpixi.call('eeCDkifF4dL35eTYqeU5Tc', 'A3YHFPuQNPcfL5KrVLPfLP', 'changeGraph', 'eyJpZCI6ICJTYWludCBWaW5jZW50IGFuZCB0aGUgR3JlbmFkaW5lcyIsICJ0eXBlIjogInZlcnRleCIsICJwcm9wcyI6IHsiY29sb3IiOiA2NTI4MH19Cg==');</script>\n",
       "    "
      ],
      "text/plain": [
       "<IPython.core.display.HTML object>"
      ]
     },
     "metadata": {},
     "output_type": "display_data"
    },
    {
     "data": {
      "text/html": [
       "\n",
       "        <div id=\"8iZyMBzkjH9RaQ9kEVoEkM\"></div>\n",
       "        <script>netpixi.call('8iZyMBzkjH9RaQ9kEVoEkM', 'A3YHFPuQNPcfL5KrVLPfLP', 'changeGraph', 'eyJpZCI6ICJCdXJ1bmRpIiwgInR5cGUiOiAidmVydGV4IiwgInByb3BzIjogeyJjb2xvciI6IDY1MjgwfX0K');</script>\n",
       "    "
      ],
      "text/plain": [
       "<IPython.core.display.HTML object>"
      ]
     },
     "metadata": {},
     "output_type": "display_data"
    },
    {
     "data": {
      "text/html": [
       "\n",
       "        <div id=\"U5frDaHEatpxAvFX3YU2Wy\"></div>\n",
       "        <script>netpixi.call('U5frDaHEatpxAvFX3YU2Wy', 'A3YHFPuQNPcfL5KrVLPfLP', 'changeGraph', 'eyJpZCI6ICJLYXpha2hzdGFuIiwgInR5cGUiOiAidmVydGV4IiwgInByb3BzIjogeyJjb2xvciI6IDY1MjgwfX0K');</script>\n",
       "    "
      ],
      "text/plain": [
       "<IPython.core.display.HTML object>"
      ]
     },
     "metadata": {},
     "output_type": "display_data"
    },
    {
     "data": {
      "text/html": [
       "\n",
       "        <div id=\"A2iY4bxAe5baNs5GTakKAj\"></div>\n",
       "        <script>netpixi.call('A2iY4bxAe5baNs5GTakKAj', 'A3YHFPuQNPcfL5KrVLPfLP', 'changeGraph', 'eyJpZCI6ICJNYWxhd2kiLCAidHlwZSI6ICJ2ZXJ0ZXgiLCAicHJvcHMiOiB7ImNvbG9yIjogNjUyODB9fQo=');</script>\n",
       "    "
      ],
      "text/plain": [
       "<IPython.core.display.HTML object>"
      ]
     },
     "metadata": {},
     "output_type": "display_data"
    },
    {
     "data": {
      "text/html": [
       "\n",
       "        <div id=\"GhmDcBoFsXsRSrh5jJZpwF\"></div>\n",
       "        <script>netpixi.call('GhmDcBoFsXsRSrh5jJZpwF', 'A3YHFPuQNPcfL5KrVLPfLP', 'changeGraph', 'eyJpZCI6ICJDaGluYSwgSG9uZyBLb25nIFNBUiIsICJ0eXBlIjogInZlcnRleCIsICJwcm9wcyI6IHsiY29sb3IiOiAxNjcxMTY4MH19Cg==');</script>\n",
       "    "
      ],
      "text/plain": [
       "<IPython.core.display.HTML object>"
      ]
     },
     "metadata": {},
     "output_type": "display_data"
    },
    {
     "data": {
      "text/html": [
       "\n",
       "        <div id=\"URWX4JodJSzUUi2yZf6VEC\"></div>\n",
       "        <script>netpixi.call('URWX4JodJSzUUi2yZf6VEC', 'A3YHFPuQNPcfL5KrVLPfLP', 'changeGraph', 'eyJpZCI6ICJUdW5pc2lhIiwgInR5cGUiOiAidmVydGV4IiwgInByb3BzIjogeyJjb2xvciI6IDE2NzExNjgwfX0K');</script>\n",
       "    "
      ],
      "text/plain": [
       "<IPython.core.display.HTML object>"
      ]
     },
     "metadata": {},
     "output_type": "display_data"
    },
    {
     "data": {
      "text/html": [
       "\n",
       "        <div id=\"a3L3NUibEGwyNf26GgPasW\"></div>\n",
       "        <script>netpixi.call('a3L3NUibEGwyNf26GgPasW', 'A3YHFPuQNPcfL5KrVLPfLP', 'changeGraph', 'eyJpZCI6ICJHYW1iaWEiLCAidHlwZSI6ICJ2ZXJ0ZXgiLCAicHJvcHMiOiB7ImNvbG9yIjogNjUyODB9fQo=');</script>\n",
       "    "
      ],
      "text/plain": [
       "<IPython.core.display.HTML object>"
      ]
     },
     "metadata": {},
     "output_type": "display_data"
    },
    {
     "data": {
      "text/html": [
       "\n",
       "        <div id=\"P8bP9qSzeMe5i2p2SMrRMP\"></div>\n",
       "        <script>netpixi.call('P8bP9qSzeMe5i2p2SMrRMP', 'A3YHFPuQNPcfL5KrVLPfLP', 'changeGraph', 'eyJpZCI6ICJBZmdoYW5pc3RhbiIsICJ0eXBlIjogInZlcnRleCIsICJwcm9wcyI6IHsiY29sb3IiOiA2NTI4MH19Cg==');</script>\n",
       "    "
      ],
      "text/plain": [
       "<IPython.core.display.HTML object>"
      ]
     },
     "metadata": {},
     "output_type": "display_data"
    },
    {
     "data": {
      "text/html": [
       "\n",
       "        <div id=\"mYW6rJsAUsWLawqCLDW3Di\"></div>\n",
       "        <script>netpixi.call('mYW6rJsAUsWLawqCLDW3Di', 'A3YHFPuQNPcfL5KrVLPfLP', 'changeGraph', 'eyJpZCI6ICJGaWppIiwgInR5cGUiOiAidmVydGV4IiwgInByb3BzIjogeyJjb2xvciI6IDY1MjgwfX0K');</script>\n",
       "    "
      ],
      "text/plain": [
       "<IPython.core.display.HTML object>"
      ]
     },
     "metadata": {},
     "output_type": "display_data"
    },
    {
     "data": {
      "text/html": [
       "\n",
       "        <div id=\"J8XYneadcGHXbvckNJMUXj\"></div>\n",
       "        <script>netpixi.call('J8XYneadcGHXbvckNJMUXj', 'A3YHFPuQNPcfL5KrVLPfLP', 'changeGraph', 'eyJpZCI6ICJDemVjaCBSZXAuIiwgInR5cGUiOiAidmVydGV4IiwgInByb3BzIjogeyJjb2xvciI6IDE2NzExNjgwfX0K');</script>\n",
       "    "
      ],
      "text/plain": [
       "<IPython.core.display.HTML object>"
      ]
     },
     "metadata": {},
     "output_type": "display_data"
    },
    {
     "data": {
      "text/html": [
       "\n",
       "        <div id=\"WLVkjsJotmKNudbd4h4Wp6\"></div>\n",
       "        <script>netpixi.call('WLVkjsJotmKNudbd4h4Wp6', 'A3YHFPuQNPcfL5KrVLPfLP', 'changeGraph', 'eyJpZCI6ICJEZW5tYXJrIiwgInR5cGUiOiAidmVydGV4IiwgInByb3BzIjogeyJjb2xvciI6IDE2NzExNjgwfX0K');</script>\n",
       "    "
      ],
      "text/plain": [
       "<IPython.core.display.HTML object>"
      ]
     },
     "metadata": {},
     "output_type": "display_data"
    },
    {
     "data": {
      "text/html": [
       "\n",
       "        <div id=\"MNtA2sfZdzbUUx9GF9fjvi\"></div>\n",
       "        <script>netpixi.call('MNtA2sfZdzbUUx9GF9fjvi', 'A3YHFPuQNPcfL5KrVLPfLP', 'changeGraph', 'eyJpZCI6ICJBemVyYmFpamFuIiwgInR5cGUiOiAidmVydGV4IiwgInByb3BzIjogeyJjb2xvciI6IDE2NzExNjgwfX0K');</script>\n",
       "    "
      ],
      "text/plain": [
       "<IPython.core.display.HTML object>"
      ]
     },
     "metadata": {},
     "output_type": "display_data"
    },
    {
     "data": {
      "text/html": [
       "\n",
       "        <div id=\"gxHcJ6pun2XnpVqJX3rpAX\"></div>\n",
       "        <script>netpixi.call('gxHcJ6pun2XnpVqJX3rpAX', 'A3YHFPuQNPcfL5KrVLPfLP', 'changeGraph', 'eyJpZCI6ICJTYWludC1QaWVycmUtZXQtTWlxdWVsb24iLCAidHlwZSI6ICJ2ZXJ0ZXgiLCAicHJvcHMiOiB7ImNvbG9yIjogNjUyODB9fQo=');</script>\n",
       "    "
      ],
      "text/plain": [
       "<IPython.core.display.HTML object>"
      ]
     },
     "metadata": {},
     "output_type": "display_data"
    },
    {
     "data": {
      "text/html": [
       "\n",
       "        <div id=\"PGGNz72VWW8UaHQg27b4hv\"></div>\n",
       "        <script>netpixi.call('PGGNz72VWW8UaHQg27b4hv', 'A3YHFPuQNPcfL5KrVLPfLP', 'changeGraph', 'eyJpZCI6ICJEb21pbmljYSIsICJ0eXBlIjogInZlcnRleCIsICJwcm9wcyI6IHsiY29sb3IiOiA2NTI4MH19Cg==');</script>\n",
       "    "
      ],
      "text/plain": [
       "<IPython.core.display.HTML object>"
      ]
     },
     "metadata": {},
     "output_type": "display_data"
    },
    {
     "data": {
      "text/html": [
       "\n",
       "        <div id=\"UEJfBR8eedRVUzbmpxsR3x\"></div>\n",
       "        <script>netpixi.call('UEJfBR8eedRVUzbmpxsR3x', 'A3YHFPuQNPcfL5KrVLPfLP', 'changeGraph', 'eyJpZCI6ICJUcmluaWRhZCBhbmQgVG9iYWdvIiwgInR5cGUiOiAidmVydGV4IiwgInByb3BzIjogeyJjb2xvciI6IDY1MjgwfX0K');</script>\n",
       "    "
      ],
      "text/plain": [
       "<IPython.core.display.HTML object>"
      ]
     },
     "metadata": {},
     "output_type": "display_data"
    },
    {
     "data": {
      "text/html": [
       "\n",
       "        <div id=\"bFkPmBiiYvSoTVX6X8BTJJ\"></div>\n",
       "        <script>netpixi.call('bFkPmBiiYvSoTVX6X8BTJJ', 'A3YHFPuQNPcfL5KrVLPfLP', 'changeGraph', 'eyJpZCI6ICJCb25haXJlIiwgInR5cGUiOiAidmVydGV4IiwgInByb3BzIjogeyJjb2xvciI6IDY1MjgwfX0K');</script>\n",
       "    "
      ],
      "text/plain": [
       "<IPython.core.display.HTML object>"
      ]
     },
     "metadata": {},
     "output_type": "display_data"
    },
    {
     "data": {
      "text/html": [
       "\n",
       "        <div id=\"Vz4vwXKSkRRcmw7Qh8vdKn\"></div>\n",
       "        <script>netpixi.call('Vz4vwXKSkRRcmw7Qh8vdKn', 'A3YHFPuQNPcfL5KrVLPfLP', 'changeGraph', 'eyJpZCI6ICJQdWVydG8gUmljbyIsICJ0eXBlIjogInZlcnRleCIsICJwcm9wcyI6IHsiY29sb3IiOiA2NTI4MH19Cg==');</script>\n",
       "    "
      ],
      "text/plain": [
       "<IPython.core.display.HTML object>"
      ]
     },
     "metadata": {},
     "output_type": "display_data"
    },
    {
     "data": {
      "text/html": [
       "\n",
       "        <div id=\"5kV3pgrefykXnQrgEGCEGp\"></div>\n",
       "        <script>netpixi.call('5kV3pgrefykXnQrgEGCEGp', 'A3YHFPuQNPcfL5KrVLPfLP', 'changeGraph', 'eyJpZCI6ICJSb21hbmlhIiwgInR5cGUiOiAidmVydGV4IiwgInByb3BzIjogeyJjb2xvciI6IDE2NzExNjgwfX0K');</script>\n",
       "    "
      ],
      "text/plain": [
       "<IPython.core.display.HTML object>"
      ]
     },
     "metadata": {},
     "output_type": "display_data"
    },
    {
     "data": {
      "text/html": [
       "\n",
       "        <div id=\"hpfM2AxUEBeFXSGNNLybwc\"></div>\n",
       "        <script>netpixi.call('hpfM2AxUEBeFXSGNNLybwc', 'A3YHFPuQNPcfL5KrVLPfLP', 'changeGraph', 'eyJpZCI6ICJUYWppa2lzdGFuIiwgInR5cGUiOiAidmVydGV4IiwgInByb3BzIjogeyJjb2xvciI6IDY1MjgwfX0K');</script>\n",
       "    "
      ],
      "text/plain": [
       "<IPython.core.display.HTML object>"
      ]
     },
     "metadata": {},
     "output_type": "display_data"
    },
    {
     "data": {
      "text/html": [
       "\n",
       "        <div id=\"bMRAwZX2RxXuiXVPa4464e\"></div>\n",
       "        <script>netpixi.call('bMRAwZX2RxXuiXVPa4464e', 'A3YHFPuQNPcfL5KrVLPfLP', 'changeGraph', 'eyJpZCI6ICJJbmRvbmVzaWEiLCAidHlwZSI6ICJ2ZXJ0ZXgiLCAicHJvcHMiOiB7ImNvbG9yIjogMTY3MTE2ODB9fQo=');</script>\n",
       "    "
      ],
      "text/plain": [
       "<IPython.core.display.HTML object>"
      ]
     },
     "metadata": {},
     "output_type": "display_data"
    },
    {
     "data": {
      "text/html": [
       "\n",
       "        <div id=\"CHhVncffZHmsVstvNwTRXj\"></div>\n",
       "        <script>netpixi.call('CHhVncffZHmsVstvNwTRXj', 'A3YHFPuQNPcfL5KrVLPfLP', 'changeGraph', 'eyJpZCI6ICJJc3JhZWwiLCAidHlwZSI6ICJ2ZXJ0ZXgiLCAicHJvcHMiOiB7ImNvbG9yIjogMTY3MTE2ODB9fQo=');</script>\n",
       "    "
      ],
      "text/plain": [
       "<IPython.core.display.HTML object>"
      ]
     },
     "metadata": {},
     "output_type": "display_data"
    },
    {
     "data": {
      "text/html": [
       "\n",
       "        <div id=\"4FV6iChNrJDMQWpRAeJ6kT\"></div>\n",
       "        <script>netpixi.call('4FV6iChNrJDMQWpRAeJ6kT', 'A3YHFPuQNPcfL5KrVLPfLP', 'changeGraph', 'eyJpZCI6ICJMdXhlbWJvdXJnIiwgInR5cGUiOiAidmVydGV4IiwgInByb3BzIjogeyJjb2xvciI6IDE2NzExNjgwfX0K');</script>\n",
       "    "
      ],
      "text/plain": [
       "<IPython.core.display.HTML object>"
      ]
     },
     "metadata": {},
     "output_type": "display_data"
    },
    {
     "data": {
      "text/html": [
       "\n",
       "        <div id=\"MDrya52bWTnAkQmcTaCH4Q\"></div>\n",
       "        <script>netpixi.call('MDrya52bWTnAkQmcTaCH4Q', 'A3YHFPuQNPcfL5KrVLPfLP', 'changeGraph', 'eyJpZCI6ICJFY3VhZG9yIiwgInR5cGUiOiAidmVydGV4IiwgInByb3BzIjogeyJjb2xvciI6IDE2NzExNjgwfX0K');</script>\n",
       "    "
      ],
      "text/plain": [
       "<IPython.core.display.HTML object>"
      ]
     },
     "metadata": {},
     "output_type": "display_data"
    },
    {
     "data": {
      "text/html": [
       "\n",
       "        <div id=\"eUuw8n78fdzg54qrJMi2Ny\"></div>\n",
       "        <script>netpixi.call('eUuw8n78fdzg54qrJMi2Ny', 'A3YHFPuQNPcfL5KrVLPfLP', 'changeGraph', 'eyJpZCI6ICJVbml0ZWQgUmVwLiBvZiBUYW56YW5pYSIsICJ0eXBlIjogInZlcnRleCIsICJwcm9wcyI6IHsiY29sb3IiOiA2NTI4MH19Cg==');</script>\n",
       "    "
      ],
      "text/plain": [
       "<IPython.core.display.HTML object>"
      ]
     },
     "metadata": {},
     "output_type": "display_data"
    },
    {
     "data": {
      "text/html": [
       "\n",
       "        <div id=\"iZsevUkn8gxb3fzYv5tzzw\"></div>\n",
       "        <script>netpixi.call('iZsevUkn8gxb3fzYv5tzzw', 'A3YHFPuQNPcfL5KrVLPfLP', 'changeGraph', 'eyJpZCI6ICJQYWxhdSIsICJ0eXBlIjogInZlcnRleCIsICJwcm9wcyI6IHsiY29sb3IiOiA2NTI4MH19Cg==');</script>\n",
       "    "
      ],
      "text/plain": [
       "<IPython.core.display.HTML object>"
      ]
     },
     "metadata": {},
     "output_type": "display_data"
    },
    {
     "data": {
      "text/html": [
       "\n",
       "        <div id=\"2GujVjrQUFUfP3zfgDACnQ\"></div>\n",
       "        <script>netpixi.call('2GujVjrQUFUfP3zfgDACnQ', 'A3YHFPuQNPcfL5KrVLPfLP', 'changeGraph', 'eyJpZCI6ICJMYW8gUGVvcGxlJ3MgRGVtLiBSZXAuIiwgInR5cGUiOiAidmVydGV4IiwgInByb3BzIjogeyJjb2xvciI6IDY1MjgwfX0K');</script>\n",
       "    "
      ],
      "text/plain": [
       "<IPython.core.display.HTML object>"
      ]
     },
     "metadata": {},
     "output_type": "display_data"
    },
    {
     "data": {
      "text/html": [
       "\n",
       "        <div id=\"NZa67LDzWmFPvx2gmbokDr\"></div>\n",
       "        <script>netpixi.call('NZa67LDzWmFPvx2gmbokDr', 'A3YHFPuQNPcfL5KrVLPfLP', 'changeGraph', 'eyJpZCI6ICJUaGUgZm9ybWVyIFl1Z29zbGF2IFJlcHVibGljIG9mIE1hY2Vkb25pYSIsICJ0eXBlIjogInZlcnRleCIsICJwcm9wcyI6IHsiY29sb3IiOiAxNjcxMTY4MH19Cg==');</script>\n",
       "    "
      ],
      "text/plain": [
       "<IPython.core.display.HTML object>"
      ]
     },
     "metadata": {},
     "output_type": "display_data"
    },
    {
     "data": {
      "text/html": [
       "\n",
       "        <div id=\"Uo2jdMxyiCU8kUZX5V5s2V\"></div>\n",
       "        <script>netpixi.call('Uo2jdMxyiCU8kUZX5V5s2V', 'A3YHFPuQNPcfL5KrVLPfLP', 'changeGraph', 'eyJpZCI6ICJCb3Rzd2FuYSIsICJ0eXBlIjogInZlcnRleCIsICJwcm9wcyI6IHsiY29sb3IiOiA2NTI4MH19Cg==');</script>\n",
       "    "
      ],
      "text/plain": [
       "<IPython.core.display.HTML object>"
      ]
     },
     "metadata": {},
     "output_type": "display_data"
    },
    {
     "data": {
      "text/html": [
       "\n",
       "        <div id=\"J8S3RowrEtz5bbhYF9hCC7\"></div>\n",
       "        <script>netpixi.call('J8S3RowrEtz5bbhYF9hCC7', 'A3YHFPuQNPcfL5KrVLPfLP', 'changeGraph', 'eyJpZCI6ICJBdXN0cmFsaWEiLCAidHlwZSI6ICJ2ZXJ0ZXgiLCAicHJvcHMiOiB7ImNvbG9yIjogMTY3MTE2ODB9fQo=');</script>\n",
       "    "
      ],
      "text/plain": [
       "<IPython.core.display.HTML object>"
      ]
     },
     "metadata": {},
     "output_type": "display_data"
    },
    {
     "data": {
      "text/html": [
       "\n",
       "        <div id=\"CUa58WkdaikUL9REKAdV2J\"></div>\n",
       "        <script>netpixi.call('CUa58WkdaikUL9REKAdV2J', 'A3YHFPuQNPcfL5KrVLPfLP', 'changeGraph', 'eyJpZCI6ICJTdmFsYmFyZCBhbmQgSmFuIE1heWVuIiwgInR5cGUiOiAidmVydGV4IiwgInByb3BzIjogeyJjb2xvciI6IDY1MjgwfX0K');</script>\n",
       "    "
      ],
      "text/plain": [
       "<IPython.core.display.HTML object>"
      ]
     },
     "metadata": {},
     "output_type": "display_data"
    },
    {
     "data": {
      "text/html": [
       "\n",
       "        <div id=\"Gr7aTgN6MFGPa3hiy3At5Q\"></div>\n",
       "        <script>netpixi.call('Gr7aTgN6MFGPa3hiy3At5Q', 'A3YHFPuQNPcfL5KrVLPfLP', 'changeGraph', 'eyJpZCI6ICJNeWFubWFyIiwgInR5cGUiOiAidmVydGV4IiwgInByb3BzIjogeyJjb2xvciI6IDY1MjgwfX0K');</script>\n",
       "    "
      ],
      "text/plain": [
       "<IPython.core.display.HTML object>"
      ]
     },
     "metadata": {},
     "output_type": "display_data"
    },
    {
     "data": {
      "text/html": [
       "\n",
       "        <div id=\"LUFWyg8TLcBF9RP6CixCi3\"></div>\n",
       "        <script>netpixi.call('LUFWyg8TLcBF9RP6CixCi3', 'A3YHFPuQNPcfL5KrVLPfLP', 'changeGraph', 'eyJpZCI6ICJXZXN0ZXJuIFNhaGFyYSIsICJ0eXBlIjogInZlcnRleCIsICJwcm9wcyI6IHsiY29sb3IiOiA2NTI4MH19Cg==');</script>\n",
       "    "
      ],
      "text/plain": [
       "<IPython.core.display.HTML object>"
      ]
     },
     "metadata": {},
     "output_type": "display_data"
    },
    {
     "data": {
      "text/html": [
       "\n",
       "        <div id=\"Bs3fp5d6WEMkr2roQEHdo3\"></div>\n",
       "        <script>netpixi.call('Bs3fp5d6WEMkr2roQEHdo3', 'A3YHFPuQNPcfL5KrVLPfLP', 'changeGraph', 'eyJpZCI6ICJIYWl0aSIsICJ0eXBlIjogInZlcnRleCIsICJwcm9wcyI6IHsiY29sb3IiOiA2NTI4MH19Cg==');</script>\n",
       "    "
      ],
      "text/plain": [
       "<IPython.core.display.HTML object>"
      ]
     },
     "metadata": {},
     "output_type": "display_data"
    },
    {
     "data": {
      "text/html": [
       "\n",
       "        <div id=\"5KyuTfXAr5qiyEQHjaJtBG\"></div>\n",
       "        <script>netpixi.call('5KyuTfXAr5qiyEQHjaJtBG', 'A3YHFPuQNPcfL5KrVLPfLP', 'changeGraph', 'eyJpZCI6ICJNYWxkaXZlcyIsICJ0eXBlIjogInZlcnRleCIsICJwcm9wcyI6IHsiY29sb3IiOiA2NTI4MH19Cg==');</script>\n",
       "    "
      ],
      "text/plain": [
       "<IPython.core.display.HTML object>"
      ]
     },
     "metadata": {},
     "output_type": "display_data"
    },
    {
     "data": {
      "text/html": [
       "\n",
       "        <div id=\"ZH3jQUPiKd83fzwF8sf3wj\"></div>\n",
       "        <script>netpixi.call('ZH3jQUPiKd83fzwF8sf3wj', 'A3YHFPuQNPcfL5KrVLPfLP', 'changeGraph', 'eyJpZCI6ICJCYWhyYWluIiwgInR5cGUiOiAidmVydGV4IiwgInByb3BzIjogeyJjb2xvciI6IDY1MjgwfX0K');</script>\n",
       "    "
      ],
      "text/plain": [
       "<IPython.core.display.HTML object>"
      ]
     },
     "metadata": {},
     "output_type": "display_data"
    },
    {
     "data": {
      "text/html": [
       "\n",
       "        <div id=\"TAvSit2dNdAihRCRJMxKmz\"></div>\n",
       "        <script>netpixi.call('TAvSit2dNdAihRCRJMxKmz', 'A3YHFPuQNPcfL5KrVLPfLP', 'changeGraph', 'eyJpZCI6ICJDb29rIElzbGFuZHMiLCAidHlwZSI6ICJ2ZXJ0ZXgiLCAicHJvcHMiOiB7ImNvbG9yIjogNjUyODB9fQo=');</script>\n",
       "    "
      ],
      "text/plain": [
       "<IPython.core.display.HTML object>"
      ]
     },
     "metadata": {},
     "output_type": "display_data"
    },
    {
     "data": {
      "text/html": [
       "\n",
       "        <div id=\"EUCchEamd2AQMZ9y9uZb3y\"></div>\n",
       "        <script>netpixi.call('EUCchEamd2AQMZ9y9uZb3y', 'A3YHFPuQNPcfL5KrVLPfLP', 'changeGraph', 'eyJpZCI6ICJQYWtpc3RhbiIsICJ0eXBlIjogInZlcnRleCIsICJwcm9wcyI6IHsiY29sb3IiOiAxNjcxMTY4MH19Cg==');</script>\n",
       "    "
      ],
      "text/plain": [
       "<IPython.core.display.HTML object>"
      ]
     },
     "metadata": {},
     "output_type": "display_data"
    },
    {
     "data": {
      "text/html": [
       "\n",
       "        <div id=\"5VPykzhj2VFnv7PvAY8kVb\"></div>\n",
       "        <script>netpixi.call('5VPykzhj2VFnv7PvAY8kVb', 'A3YHFPuQNPcfL5KrVLPfLP', 'changeGraph', 'eyJpZCI6ICJOZXBhbCIsICJ0eXBlIjogInZlcnRleCIsICJwcm9wcyI6IHsiY29sb3IiOiA2NTI4MH19Cg==');</script>\n",
       "    "
      ],
      "text/plain": [
       "<IPython.core.display.HTML object>"
      ]
     },
     "metadata": {},
     "output_type": "display_data"
    },
    {
     "data": {
      "text/html": [
       "\n",
       "        <div id=\"ZDsNCCY4m7UXjx9URDryVD\"></div>\n",
       "        <script>netpixi.call('ZDsNCCY4m7UXjx9URDryVD', 'A3YHFPuQNPcfL5KrVLPfLP', 'changeGraph', 'eyJpZCI6ICJFcml0cmVhIiwgInR5cGUiOiAidmVydGV4IiwgInByb3BzIjogeyJjb2xvciI6IDY1MjgwfX0K');</script>\n",
       "    "
      ],
      "text/plain": [
       "<IPython.core.display.HTML object>"
      ]
     },
     "metadata": {},
     "output_type": "display_data"
    },
    {
     "data": {
      "text/html": [
       "\n",
       "        <div id=\"4bUs5z5FKoKqhNutuKxq8U\"></div>\n",
       "        <script>netpixi.call('4bUs5z5FKoKqhNutuKxq8U', 'A3YHFPuQNPcfL5KrVLPfLP', 'changeGraph', 'eyJpZCI6ICJDb25nbyIsICJ0eXBlIjogInZlcnRleCIsICJwcm9wcyI6IHsiY29sb3IiOiA2NTI4MH19Cg==');</script>\n",
       "    "
      ],
      "text/plain": [
       "<IPython.core.display.HTML object>"
      ]
     },
     "metadata": {},
     "output_type": "display_data"
    },
    {
     "data": {
      "text/html": [
       "\n",
       "        <div id=\"ZGFedAmUuJnak7MdUJ68ty\"></div>\n",
       "        <script>netpixi.call('ZGFedAmUuJnak7MdUJ68ty', 'A3YHFPuQNPcfL5KrVLPfLP', 'changeGraph', 'eyJpZCI6ICJMaWVjaHRlbnN0ZWluIiwgInR5cGUiOiAidmVydGV4IiwgInByb3BzIjogeyJjb2xvciI6IDE2NzExNjgwfX0K');</script>\n",
       "    "
      ],
      "text/plain": [
       "<IPython.core.display.HTML object>"
      ]
     },
     "metadata": {},
     "output_type": "display_data"
    },
    {
     "data": {
      "text/html": [
       "\n",
       "        <div id=\"QRhYsk4dhmoKExccDRfXup\"></div>\n",
       "        <script>netpixi.call('QRhYsk4dhmoKExccDRfXup', 'A3YHFPuQNPcfL5KrVLPfLP', 'changeGraph', 'eyJpZCI6ICJIb2x5IFNlZSAodGhlKSIsICJ0eXBlIjogInZlcnRleCIsICJwcm9wcyI6IHsiY29sb3IiOiA2NTI4MH19Cg==');</script>\n",
       "    "
      ],
      "text/plain": [
       "<IPython.core.display.HTML object>"
      ]
     },
     "metadata": {},
     "output_type": "display_data"
    },
    {
     "data": {
      "text/html": [
       "\n",
       "        <div id=\"C96Qv2JgzM8hk4dM2pHbRN\"></div>\n",
       "        <script>netpixi.call('C96Qv2JgzM8hk4dM2pHbRN', 'A3YHFPuQNPcfL5KrVLPfLP', 'changeGraph', 'eyJpZCI6ICJBbmd1aWxsYSIsICJ0eXBlIjogInZlcnRleCIsICJwcm9wcyI6IHsiY29sb3IiOiA2NTI4MH19Cg==');</script>\n",
       "    "
      ],
      "text/plain": [
       "<IPython.core.display.HTML object>"
      ]
     },
     "metadata": {},
     "output_type": "display_data"
    },
    {
     "data": {
      "text/html": [
       "\n",
       "        <div id=\"X4LLL9rb2tWtAZL6bkAiAn\"></div>\n",
       "        <script>netpixi.call('X4LLL9rb2tWtAZL6bkAiAn', 'A3YHFPuQNPcfL5KrVLPfLP', 'changeGraph', 'eyJpZCI6ICJTYWludCBMdWNpYSIsICJ0eXBlIjogInZlcnRleCIsICJwcm9wcyI6IHsiY29sb3IiOiA2NTI4MH19Cg==');</script>\n",
       "    "
      ],
      "text/plain": [
       "<IPython.core.display.HTML object>"
      ]
     },
     "metadata": {},
     "output_type": "display_data"
    },
    {
     "data": {
      "text/html": [
       "\n",
       "        <div id=\"k3fw2aLurH9op4NBkbGU8A\"></div>\n",
       "        <script>netpixi.call('k3fw2aLurH9op4NBkbGU8A', 'A3YHFPuQNPcfL5KrVLPfLP', 'changeGraph', 'eyJpZCI6ICJDaGlsZSIsICJ0eXBlIjogInZlcnRleCIsICJwcm9wcyI6IHsiY29sb3IiOiAxNjcxMTY4MH19Cg==');</script>\n",
       "    "
      ],
      "text/plain": [
       "<IPython.core.display.HTML object>"
      ]
     },
     "metadata": {},
     "output_type": "display_data"
    },
    {
     "data": {
      "text/html": [
       "\n",
       "        <div id=\"Z9gbeDpc3hFAzxT62Buur6\"></div>\n",
       "        <script>netpixi.call('Z9gbeDpc3hFAzxT62Buur6', 'A3YHFPuQNPcfL5KrVLPfLP', 'changeGraph', 'eyJpZCI6ICJHdWF0ZW1hbGEiLCAidHlwZSI6ICJ2ZXJ0ZXgiLCAicHJvcHMiOiB7ImNvbG9yIjogNjUyODB9fQo=');</script>\n",
       "    "
      ],
      "text/plain": [
       "<IPython.core.display.HTML object>"
      ]
     },
     "metadata": {},
     "output_type": "display_data"
    },
    {
     "data": {
      "text/html": [
       "\n",
       "        <div id=\"B3fpsunX7k8BgEfufBo9PC\"></div>\n",
       "        <script>netpixi.call('B3fpsunX7k8BgEfufBo9PC', 'A3YHFPuQNPcfL5KrVLPfLP', 'changeGraph', 'eyJpZCI6ICJTaWVycmEgTGVvbmUiLCAidHlwZSI6ICJ2ZXJ0ZXgiLCAicHJvcHMiOiB7ImNvbG9yIjogNjUyODB9fQo=');</script>\n",
       "    "
      ],
      "text/plain": [
       "<IPython.core.display.HTML object>"
      ]
     },
     "metadata": {},
     "output_type": "display_data"
    },
    {
     "data": {
      "text/html": [
       "\n",
       "        <div id=\"BoKDX6aQ5d62MrhVABhz3a\"></div>\n",
       "        <script>netpixi.call('BoKDX6aQ5d62MrhVABhz3a', 'A3YHFPuQNPcfL5KrVLPfLP', 'changeGraph', 'eyJpZCI6ICJVZ2FuZGEiLCAidHlwZSI6ICJ2ZXJ0ZXgiLCAicHJvcHMiOiB7ImNvbG9yIjogMTY3MTE2ODB9fQo=');</script>\n",
       "    "
      ],
      "text/plain": [
       "<IPython.core.display.HTML object>"
      ]
     },
     "metadata": {},
     "output_type": "display_data"
    }
   ],
   "source": [
    "# matrix = spectral.adjacency(g)\n",
    "\n",
    "# # Além de cpnet.Surprise, há outras\n",
    "# # opções de algoritmos discretos:\n",
    "# # cpnet.BE\n",
    "# # cpnet.Lip\n",
    "# # cpnet.LapCore\n",
    "# # cpnet.LapSgnCore\n",
    "# # cpnet.LowRankCore\n",
    "\n",
    "# algorithm = cpnet.BE()\n",
    "# algorithm.detect(matrix)\n",
    "# c = algorithm.get_coreness()\n",
    "\n",
    "# # Depois do código acima, c é um dicionário\n",
    "# # em que as chaves são índices de vértices e\n",
    "# # valores são os atribuídos pelo algoritmo.\n",
    "\n",
    "# g.add_vp('core')\n",
    "# for i, coreness in c.items():\n",
    "#     v = g.get_vertex_by_index(i)\n",
    "#     v['core'] = int(coreness)\n",
    "    \n",
    "# # Vamos pintar de vermelho todos os vértices\n",
    "# # identificados como centro e de verde todos\n",
    "# # os vértices identificados como periferia.\n",
    "    \n",
    "# for v in g.all_vertices():\n",
    "#     if v['core'] == 1:\n",
    "#         r.vertex(v['id'], color=0xff0000)\n",
    "#     else:\n",
    "#         r.vertex(v['id'], color=0x00ff00)\n",
    "\n",
    "# # Quando a execução desta célula terminar,\n",
    "# # veja como ficou a visualização acima."
   ]
  },
  {
   "cell_type": "code",
   "execution_count": 49,
   "id": "ea4847ac",
   "metadata": {},
   "outputs": [
    {
     "data": {
      "text/html": [
       "\n",
       "        <div id=\"TXpUpm8j6sfpzmFQ3GmRmh\"></div>\n",
       "        <script>netpixi.call('TXpUpm8j6sfpzmFQ3GmRmh', 'jnM7EkD23DhSANPPE9ZztS', 'changeGraph', 'eyJpZCI6ICJUdW5pc2lhIiwgInR5cGUiOiAidmVydGV4IiwgInByb3BzIjogeyJzaXplIjogMTguNDQ0NDQ0NDQ0NDQ0NDQzfX0K');</script>\n",
       "    "
      ],
      "text/plain": [
       "<IPython.core.display.HTML object>"
      ]
     },
     "metadata": {},
     "output_type": "display_data"
    },
    {
     "data": {
      "text/html": [
       "\n",
       "        <div id=\"ZAGaSqdCoqNtsboyt5DQro\"></div>\n",
       "        <script>netpixi.call('ZAGaSqdCoqNtsboyt5DQro', 'jnM7EkD23DhSANPPE9ZztS', 'changeGraph', 'eyJpZCI6ICJMaWJ5YSIsICJ0eXBlIjogInZlcnRleCIsICJwcm9wcyI6IHsic2l6ZSI6IDE4LjcyMjIyMjIyMjIyMjIyfX0K');</script>\n",
       "    "
      ],
      "text/plain": [
       "<IPython.core.display.HTML object>"
      ]
     },
     "metadata": {},
     "output_type": "display_data"
    },
    {
     "data": {
      "text/html": [
       "\n",
       "        <div id=\"bcUgfvaaSAKkvmyCnLkUtk\"></div>\n",
       "        <script>netpixi.call('bcUgfvaaSAKkvmyCnLkUtk', 'jnM7EkD23DhSANPPE9ZztS', 'changeGraph', 'eyJpZCI6ICJFY3VhZG9yIiwgInR5cGUiOiAidmVydGV4IiwgInByb3BzIjogeyJzaXplIjogNDYuNDQ0NDQ0NDQ0NDQ0NDR9fQo=');</script>\n",
       "    "
      ],
      "text/plain": [
       "<IPython.core.display.HTML object>"
      ]
     },
     "metadata": {},
     "output_type": "display_data"
    },
    {
     "data": {
      "text/html": [
       "\n",
       "        <div id=\"NLZaGryHs84vZ8Xwc79opg\"></div>\n",
       "        <script>netpixi.call('NLZaGryHs84vZ8Xwc79opg', 'jnM7EkD23DhSANPPE9ZztS', 'changeGraph', 'eyJpZCI6ICJNYXVyaXRpdXMiLCAidHlwZSI6ICJ2ZXJ0ZXgiLCAicHJvcHMiOiB7InNpemUiOiAxMy4zODg4ODg4ODg4ODg4OX19Cg==');</script>\n",
       "    "
      ],
      "text/plain": [
       "<IPython.core.display.HTML object>"
      ]
     },
     "metadata": {},
     "output_type": "display_data"
    },
    {
     "data": {
      "text/html": [
       "\n",
       "        <div id=\"XzregsisuzBiMYpvgvvZ8M\"></div>\n",
       "        <script>netpixi.call('XzregsisuzBiMYpvgvvZ8M', 'jnM7EkD23DhSANPPE9ZztS', 'changeGraph', 'eyJpZCI6ICJOZXcgQ2FsZWRvbmlhIiwgInR5cGUiOiAidmVydGV4IiwgInByb3BzIjogeyJzaXplIjogMTAuMDU1NTU1NTU1NTU1NTU1fX0K');</script>\n",
       "    "
      ],
      "text/plain": [
       "<IPython.core.display.HTML object>"
      ]
     },
     "metadata": {},
     "output_type": "display_data"
    },
    {
     "data": {
      "text/html": [
       "\n",
       "        <div id=\"4oSx8b82pRHEWNomgfuQiQ\"></div>\n",
       "        <script>netpixi.call('4oSx8b82pRHEWNomgfuQiQ', 'jnM7EkD23DhSANPPE9ZztS', 'changeGraph', 'eyJpZCI6ICJVZ2FuZGEiLCAidHlwZSI6ICJ2ZXJ0ZXgiLCAicHJvcHMiOiB7InNpemUiOiAxOS4wfX0K');</script>\n",
       "    "
      ],
      "text/plain": [
       "<IPython.core.display.HTML object>"
      ]
     },
     "metadata": {},
     "output_type": "display_data"
    },
    {
     "data": {
      "text/html": [
       "\n",
       "        <div id=\"UxFyf8DCWeUboUYFiavu7i\"></div>\n",
       "        <script>netpixi.call('UxFyf8DCWeUboUYFiavu7i', 'jnM7EkD23DhSANPPE9ZztS', 'changeGraph', 'eyJpZCI6ICJEZW5tYXJrIiwgInR5cGUiOiAidmVydGV4IiwgInByb3BzIjogeyJzaXplIjogNDYuNjY2NjY2NjY2NjY2NjY0fX0K');</script>\n",
       "    "
      ],
      "text/plain": [
       "<IPython.core.display.HTML object>"
      ]
     },
     "metadata": {},
     "output_type": "display_data"
    },
    {
     "data": {
      "text/html": [
       "\n",
       "        <div id=\"JtfAuDxdZ9L68s4veP84kx\"></div>\n",
       "        <script>netpixi.call('JtfAuDxdZ9L68s4veP84kx', 'jnM7EkD23DhSANPPE9ZztS', 'changeGraph', 'eyJpZCI6ICJCdXJ1bmRpIiwgInR5cGUiOiAidmVydGV4IiwgInByb3BzIjogeyJzaXplIjogMTcuMjc3Nzc3Nzc3Nzc3Nzh9fQo=');</script>\n",
       "    "
      ],
      "text/plain": [
       "<IPython.core.display.HTML object>"
      ]
     },
     "metadata": {},
     "output_type": "display_data"
    },
    {
     "data": {
      "text/html": [
       "\n",
       "        <div id=\"gUm6BxV6qvvKTwJZHT5bE6\"></div>\n",
       "        <script>netpixi.call('gUm6BxV6qvvKTwJZHT5bE6', 'jnM7EkD23DhSANPPE9ZztS', 'changeGraph', 'eyJpZCI6ICJHdWF0ZW1hbGEiLCAidHlwZSI6ICJ2ZXJ0ZXgiLCAicHJvcHMiOiB7InNpemUiOiAxNi41NTU1NTU1NTU1NTU1NTd9fQo=');</script>\n",
       "    "
      ],
      "text/plain": [
       "<IPython.core.display.HTML object>"
      ]
     },
     "metadata": {},
     "output_type": "display_data"
    },
    {
     "data": {
      "text/html": [
       "\n",
       "        <div id=\"K5hNa6fcsYFR2KuLu99miw\"></div>\n",
       "        <script>netpixi.call('K5hNa6fcsYFR2KuLu99miw', 'jnM7EkD23DhSANPPE9ZztS', 'changeGraph', 'eyJpZCI6ICJDemVjaCBSZXAuIiwgInR5cGUiOiAidmVydGV4IiwgInByb3BzIjogeyJzaXplIjogNDEuMTExMTExMTExMTExMTE0fX0K');</script>\n",
       "    "
      ],
      "text/plain": [
       "<IPython.core.display.HTML object>"
      ]
     },
     "metadata": {},
     "output_type": "display_data"
    },
    {
     "data": {
      "text/html": [
       "\n",
       "        <div id=\"mhXJgqeeXQC3FA7DVNQUjV\"></div>\n",
       "        <script>netpixi.call('mhXJgqeeXQC3FA7DVNQUjV', 'jnM7EkD23DhSANPPE9ZztS', 'changeGraph', 'eyJpZCI6ICJTaWVycmEgTGVvbmUiLCAidHlwZSI6ICJ2ZXJ0ZXgiLCAicHJvcHMiOiB7InNpemUiOiAxNS4yNzc3Nzc3Nzc3Nzc3Nzl9fQo=');</script>\n",
       "    "
      ],
      "text/plain": [
       "<IPython.core.display.HTML object>"
      ]
     },
     "metadata": {},
     "output_type": "display_data"
    },
    {
     "data": {
      "text/html": [
       "\n",
       "        <div id=\"Y45gCy3VWapN8TkXmq8xPg\"></div>\n",
       "        <script>netpixi.call('Y45gCy3VWapN8TkXmq8xPg', 'jnM7EkD23DhSANPPE9ZztS', 'changeGraph', 'eyJpZCI6ICJHaWJyYWx0YXIiLCAidHlwZSI6ICJ2ZXJ0ZXgiLCAicHJvcHMiOiB7InNpemUiOiAxMC4wfX0K');</script>\n",
       "    "
      ],
      "text/plain": [
       "<IPython.core.display.HTML object>"
      ]
     },
     "metadata": {},
     "output_type": "display_data"
    },
    {
     "data": {
      "text/html": [
       "\n",
       "        <div id=\"MuSK3eq4SSPQq4GydBFuya\"></div>\n",
       "        <script>netpixi.call('MuSK3eq4SSPQq4GydBFuya', 'jnM7EkD23DhSANPPE9ZztS', 'changeGraph', 'eyJpZCI6ICJUdXJrcyBhbmQgQ2FpY29zIElzbGFuZHMiLCAidHlwZSI6ICJ2ZXJ0ZXgiLCAicHJvcHMiOiB7InNpemUiOiAxMy41fX0K');</script>\n",
       "    "
      ],
      "text/plain": [
       "<IPython.core.display.HTML object>"
      ]
     },
     "metadata": {},
     "output_type": "display_data"
    },
    {
     "data": {
      "text/html": [
       "\n",
       "        <div id=\"9sUM8NSodypgZ3x3vk5s4s\"></div>\n",
       "        <script>netpixi.call('9sUM8NSodypgZ3x3vk5s4s', 'jnM7EkD23DhSANPPE9ZztS', 'changeGraph', 'eyJpZCI6ICJDaGlsZSIsICJ0eXBlIjogInZlcnRleCIsICJwcm9wcyI6IHsic2l6ZSI6IDE4LjU1NTU1NTU1NTU1NTU1N319Cg==');</script>\n",
       "    "
      ],
      "text/plain": [
       "<IPython.core.display.HTML object>"
      ]
     },
     "metadata": {},
     "output_type": "display_data"
    },
    {
     "data": {
      "text/html": [
       "\n",
       "        <div id=\"hanV9j3yPPCYdGnvxdjter\"></div>\n",
       "        <script>netpixi.call('hanV9j3yPPCYdGnvxdjter', 'jnM7EkD23DhSANPPE9ZztS', 'changeGraph', 'eyJpZCI6ICJNYWxkaXZlcyIsICJ0eXBlIjogInZlcnRleCIsICJwcm9wcyI6IHsic2l6ZSI6IDEwLjV9fQo=');</script>\n",
       "    "
      ],
      "text/plain": [
       "<IPython.core.display.HTML object>"
      ]
     },
     "metadata": {},
     "output_type": "display_data"
    },
    {
     "data": {
      "text/html": [
       "\n",
       "        <div id=\"mj59SZRegrufo9JgEnzR7Q\"></div>\n",
       "        <script>netpixi.call('mj59SZRegrufo9JgEnzR7Q', 'jnM7EkD23DhSANPPE9ZztS', 'changeGraph', 'eyJpZCI6ICJTd2l0emVybGFuZCIsICJ0eXBlIjogInZlcnRleCIsICJwcm9wcyI6IHsic2l6ZSI6IDQ2LjB9fQo=');</script>\n",
       "    "
      ],
      "text/plain": [
       "<IPython.core.display.HTML object>"
      ]
     },
     "metadata": {},
     "output_type": "display_data"
    },
    {
     "data": {
      "text/html": [
       "\n",
       "        <div id=\"hDgEj8qorfFJD4DrEmEPzp\"></div>\n",
       "        <script>netpixi.call('hDgEj8qorfFJD4DrEmEPzp', 'jnM7EkD23DhSANPPE9ZztS', 'changeGraph', 'eyJpZCI6ICJCdXJraW5hIEZhc28iLCAidHlwZSI6ICJ2ZXJ0ZXgiLCAicHJvcHMiOiB7InNpemUiOiAxNC4yMjIyMjIyMjIyMjIyMjF9fQo=');</script>\n",
       "    "
      ],
      "text/plain": [
       "<IPython.core.display.HTML object>"
      ]
     },
     "metadata": {},
     "output_type": "display_data"
    },
    {
     "data": {
      "text/html": [
       "\n",
       "        <div id=\"XNbfq5hYBTAxQSmwZm9kWa\"></div>\n",
       "        <script>netpixi.call('XNbfq5hYBTAxQSmwZm9kWa', 'jnM7EkD23DhSANPPE9ZztS', 'changeGraph', 'eyJpZCI6ICJRYXRhciIsICJ0eXBlIjogInZlcnRleCIsICJwcm9wcyI6IHsic2l6ZSI6IDE1LjcyMjIyMjIyMjIyMjIyM319Cg==');</script>\n",
       "    "
      ],
      "text/plain": [
       "<IPython.core.display.HTML object>"
      ]
     },
     "metadata": {},
     "output_type": "display_data"
    },
    {
     "data": {
      "text/html": [
       "\n",
       "        <div id=\"ViYGanK8NTmoCrCJxyQ5Ls\"></div>\n",
       "        <script>netpixi.call('ViYGanK8NTmoCrCJxyQ5Ls', 'jnM7EkD23DhSANPPE9ZztS', 'changeGraph', 'eyJpZCI6ICJIb2x5IFNlZSAodGhlKSIsICJ0eXBlIjogInZlcnRleCIsICJwcm9wcyI6IHsic2l6ZSI6IDEwLjU1NTU1NTU1NTU1NTU1NX19Cg==');</script>\n",
       "    "
      ],
      "text/plain": [
       "<IPython.core.display.HTML object>"
      ]
     },
     "metadata": {},
     "output_type": "display_data"
    },
    {
     "data": {
      "text/html": [
       "\n",
       "        <div id=\"LEmbfgFAfv8uXi3ug7f7S7\"></div>\n",
       "        <script>netpixi.call('LEmbfgFAfv8uXi3ug7f7S7', 'jnM7EkD23DhSANPPE9ZztS', 'changeGraph', 'eyJpZCI6ICJTcmkgTGFua2EiLCAidHlwZSI6ICJ2ZXJ0ZXgiLCAicHJvcHMiOiB7InNpemUiOiAxNS4zODg4ODg4ODg4ODg4OX19Cg==');</script>\n",
       "    "
      ],
      "text/plain": [
       "<IPython.core.display.HTML object>"
      ]
     },
     "metadata": {},
     "output_type": "display_data"
    },
    {
     "data": {
      "text/html": [
       "\n",
       "        <div id=\"Gx656jhHYhqzztvcFRywv4\"></div>\n",
       "        <script>netpixi.call('Gx656jhHYhqzztvcFRywv4', 'jnM7EkD23DhSANPPE9ZztS', 'changeGraph', 'eyJpZCI6ICJJY2VsYW5kIiwgInR5cGUiOiAidmVydGV4IiwgInByb3BzIjogeyJzaXplIjogNDMuNzc3Nzc3Nzc3Nzc3Nzh9fQo=');</script>\n",
       "    "
      ],
      "text/plain": [
       "<IPython.core.display.HTML object>"
      ]
     },
     "metadata": {},
     "output_type": "display_data"
    },
    {
     "data": {
      "text/html": [
       "\n",
       "        <div id=\"AwocPhNipN5TRm3Eeqeo4m\"></div>\n",
       "        <script>netpixi.call('AwocPhNipN5TRm3Eeqeo4m', 'jnM7EkD23DhSANPPE9ZztS', 'changeGraph', 'eyJpZCI6ICJIYWl0aSIsICJ0eXBlIjogInZlcnRleCIsICJwcm9wcyI6IHsic2l6ZSI6IDE1Ljk0NDQ0NDQ0NDQ0NDQ0NX19Cg==');</script>\n",
       "    "
      ],
      "text/plain": [
       "<IPython.core.display.HTML object>"
      ]
     },
     "metadata": {},
     "output_type": "display_data"
    },
    {
     "data": {
      "text/html": [
       "\n",
       "        <div id=\"niKdDSDaWnS5s3rVyUy4bD\"></div>\n",
       "        <script>netpixi.call('niKdDSDaWnS5s3rVyUy4bD', 'jnM7EkD23DhSANPPE9ZztS', 'changeGraph', 'eyJpZCI6ICJVemJla2lzdGFuIiwgInR5cGUiOiAidmVydGV4IiwgInByb3BzIjogeyJzaXplIjogMTcuMTY2NjY2NjY2NjY2NjY4fX0K');</script>\n",
       "    "
      ],
      "text/plain": [
       "<IPython.core.display.HTML object>"
      ]
     },
     "metadata": {},
     "output_type": "display_data"
    },
    {
     "data": {
      "text/html": [
       "\n",
       "        <div id=\"QNKNszCNdMrcxsFachkJdN\"></div>\n",
       "        <script>netpixi.call('QNKNszCNdMrcxsFachkJdN', 'jnM7EkD23DhSANPPE9ZztS', 'changeGraph', 'eyJpZCI6ICJUdXJrZXkiLCAidHlwZSI6ICJ2ZXJ0ZXgiLCAicHJvcHMiOiB7InNpemUiOiAxOS4zODg4ODg4ODg4ODg4OX19Cg==');</script>\n",
       "    "
      ],
      "text/plain": [
       "<IPython.core.display.HTML object>"
      ]
     },
     "metadata": {},
     "output_type": "display_data"
    },
    {
     "data": {
      "text/html": [
       "\n",
       "        <div id=\"P4eByvBTGdsec2TCGFJepx\"></div>\n",
       "        <script>netpixi.call('P4eByvBTGdsec2TCGFJepx', 'jnM7EkD23DhSANPPE9ZztS', 'changeGraph', 'eyJpZCI6ICJCb3Rzd2FuYSIsICJ0eXBlIjogInZlcnRleCIsICJwcm9wcyI6IHsic2l6ZSI6IDE1LjMzMzMzMzMzMzMzMzMzMn19Cg==');</script>\n",
       "    "
      ],
      "text/plain": [
       "<IPython.core.display.HTML object>"
      ]
     },
     "metadata": {},
     "output_type": "display_data"
    },
    {
     "data": {
      "text/html": [
       "\n",
       "        <div id=\"cgreTGA8DXPXMWJATWf8on\"></div>\n",
       "        <script>netpixi.call('cgreTGA8DXPXMWJATWf8on', 'jnM7EkD23DhSANPPE9ZztS', 'changeGraph', 'eyJpZCI6ICJFdGhpb3BpYSIsICJ0eXBlIjogInZlcnRleCIsICJwcm9wcyI6IHsic2l6ZSI6IDE2LjMzMzMzMzMzMzMzMzMzMn19Cg==');</script>\n",
       "    "
      ],
      "text/plain": [
       "<IPython.core.display.HTML object>"
      ]
     },
     "metadata": {},
     "output_type": "display_data"
    },
    {
     "data": {
      "text/html": [
       "\n",
       "        <div id=\"mYMeY3RPwG5NX4jHEnjSz5\"></div>\n",
       "        <script>netpixi.call('mYMeY3RPwG5NX4jHEnjSz5', 'jnM7EkD23DhSANPPE9ZztS', 'changeGraph', 'eyJpZCI6ICJOaWNhcmFndWEiLCAidHlwZSI6ICJ2ZXJ0ZXgiLCAicHJvcHMiOiB7InNpemUiOiAxOC4yNzc3Nzc3Nzc3Nzc3OH19Cg==');</script>\n",
       "    "
      ],
      "text/plain": [
       "<IPython.core.display.HTML object>"
      ]
     },
     "metadata": {},
     "output_type": "display_data"
    },
    {
     "data": {
      "text/html": [
       "\n",
       "        <div id=\"enGzRyrevzLFDxsgTwEU2W\"></div>\n",
       "        <script>netpixi.call('enGzRyrevzLFDxsgTwEU2W', 'jnM7EkD23DhSANPPE9ZztS', 'changeGraph', 'eyJpZCI6ICJNYWRhZ2FzY2FyIiwgInR5cGUiOiAidmVydGV4IiwgInByb3BzIjogeyJzaXplIjogMTQuNjExMTExMTExMTExMTF9fQo=');</script>\n",
       "    "
      ],
      "text/plain": [
       "<IPython.core.display.HTML object>"
      ]
     },
     "metadata": {},
     "output_type": "display_data"
    },
    {
     "data": {
      "text/html": [
       "\n",
       "        <div id=\"TRE94SHiAdRVqNADw4kAoq\"></div>\n",
       "        <script>netpixi.call('TRE94SHiAdRVqNADw4kAoq', 'jnM7EkD23DhSANPPE9ZztS', 'changeGraph', 'eyJpZCI6ICJQYXJhZ3VheSIsICJ0eXBlIjogInZlcnRleCIsICJwcm9wcyI6IHsic2l6ZSI6IDE3LjV9fQo=');</script>\n",
       "    "
      ],
      "text/plain": [
       "<IPython.core.display.HTML object>"
      ]
     },
     "metadata": {},
     "output_type": "display_data"
    },
    {
     "data": {
      "text/html": [
       "\n",
       "        <div id=\"aAGjFMVjwMx4m4uMCTXaVb\"></div>\n",
       "        <script>netpixi.call('aAGjFMVjwMx4m4uMCTXaVb', 'jnM7EkD23DhSANPPE9ZztS', 'changeGraph', 'eyJpZCI6ICJBbmdvbGEiLCAidHlwZSI6ICJ2ZXJ0ZXgiLCAicHJvcHMiOiB7InNpemUiOiAxNy4zMzMzMzMzMzMzMzMzMzZ9fQo=');</script>\n",
       "    "
      ],
      "text/plain": [
       "<IPython.core.display.HTML object>"
      ]
     },
     "metadata": {},
     "output_type": "display_data"
    },
    {
     "data": {
      "text/html": [
       "\n",
       "        <div id=\"c4y6YXKWfrLQwjGqYSsNPC\"></div>\n",
       "        <script>netpixi.call('c4y6YXKWfrLQwjGqYSsNPC', 'jnM7EkD23DhSANPPE9ZztS', 'changeGraph', 'eyJpZCI6ICJXZXN0ZXJuIFNhaGFyYSIsICJ0eXBlIjogInZlcnRleCIsICJwcm9wcyI6IHsic2l6ZSI6IDExLjB9fQo=');</script>\n",
       "    "
      ],
      "text/plain": [
       "<IPython.core.display.HTML object>"
      ]
     },
     "metadata": {},
     "output_type": "display_data"
    },
    {
     "data": {
      "text/html": [
       "\n",
       "        <div id=\"o6eQ89iBhqk4rgxPApNNhU\"></div>\n",
       "        <script>netpixi.call('o6eQ89iBhqk4rgxPApNNhU', 'jnM7EkD23DhSANPPE9ZztS', 'changeGraph', 'eyJpZCI6ICJLaXJpYmF0aSIsICJ0eXBlIjogInZlcnRleCIsICJwcm9wcyI6IHsic2l6ZSI6IDEwLjk0NDQ0NDQ0NDQ0NDQ0NX19Cg==');</script>\n",
       "    "
      ],
      "text/plain": [
       "<IPython.core.display.HTML object>"
      ]
     },
     "metadata": {},
     "output_type": "display_data"
    },
    {
     "data": {
      "text/html": [
       "\n",
       "        <div id=\"Ev8MND2SKhAcZ3G3pGZqRg\"></div>\n",
       "        <script>netpixi.call('Ev8MND2SKhAcZ3G3pGZqRg', 'jnM7EkD23DhSANPPE9ZztS', 'changeGraph', 'eyJpZCI6ICJDaGluYSIsICJ0eXBlIjogInZlcnRleCIsICJwcm9wcyI6IHsic2l6ZSI6IDE4LjIyMjIyMjIyMjIyMjIyfX0K');</script>\n",
       "    "
      ],
      "text/plain": [
       "<IPython.core.display.HTML object>"
      ]
     },
     "metadata": {},
     "output_type": "display_data"
    },
    {
     "data": {
      "text/html": [
       "\n",
       "        <div id=\"gA27hvunvLqRYVDHWeSn4r\"></div>\n",
       "        <script>netpixi.call('gA27hvunvLqRYVDHWeSn4r', 'jnM7EkD23DhSANPPE9ZztS', 'changeGraph', 'eyJpZCI6ICJTZXJiaWEgYW5kIEtvc292byAoUy9SRVMvMTI0NCAoMTk5OSkpIiwgInR5cGUiOiAidmVydGV4IiwgInByb3BzIjogeyJzaXplIjogNDQuODg4ODg4ODg4ODg4ODg2fX0K');</script>\n",
       "    "
      ],
      "text/plain": [
       "<IPython.core.display.HTML object>"
      ]
     },
     "metadata": {},
     "output_type": "display_data"
    },
    {
     "data": {
      "text/html": [
       "\n",
       "        <div id=\"CYsDaorYM2JmCRQwR774WY\"></div>\n",
       "        <script>netpixi.call('CYsDaorYM2JmCRQwR774WY', 'jnM7EkD23DhSANPPE9ZztS', 'changeGraph', 'eyJpZCI6ICJCZWxnaXVtIiwgInR5cGUiOiAidmVydGV4IiwgInByb3BzIjogeyJzaXplIjogNDYuODg4ODg4ODg4ODg4ODl9fQo=');</script>\n",
       "    "
      ],
      "text/plain": [
       "<IPython.core.display.HTML object>"
      ]
     },
     "metadata": {},
     "output_type": "display_data"
    },
    {
     "data": {
      "text/html": [
       "\n",
       "        <div id=\"fXLAnxrWyhyf3udwqNzoPB\"></div>\n",
       "        <script>netpixi.call('fXLAnxrWyhyf3udwqNzoPB', 'jnM7EkD23DhSANPPE9ZztS', 'changeGraph', 'eyJpZCI6ICJDcm9hdGlhIiwgInR5cGUiOiAidmVydGV4IiwgInByb3BzIjogeyJzaXplIjogNDMuNTU1NTU1NTU1NTU1NTZ9fQo=');</script>\n",
       "    "
      ],
      "text/plain": [
       "<IPython.core.display.HTML object>"
      ]
     },
     "metadata": {},
     "output_type": "display_data"
    },
    {
     "data": {
      "text/html": [
       "\n",
       "        <div id=\"7wbMEzEzgMUeYKqA8uZcVT\"></div>\n",
       "        <script>netpixi.call('7wbMEzEzgMUeYKqA8uZcVT', 'jnM7EkD23DhSANPPE9ZztS', 'changeGraph', 'eyJpZCI6ICJNb25nb2xpYSIsICJ0eXBlIjogInZlcnRleCIsICJwcm9wcyI6IHsic2l6ZSI6IDE1Ljg4ODg4ODg4ODg4ODg5fX0K');</script>\n",
       "    "
      ],
      "text/plain": [
       "<IPython.core.display.HTML object>"
      ]
     },
     "metadata": {},
     "output_type": "display_data"
    },
    {
     "data": {
      "text/html": [
       "\n",
       "        <div id=\"Eu9EwAQPu9kfm5RAib2iav\"></div>\n",
       "        <script>netpixi.call('Eu9EwAQPu9kfm5RAib2iav', 'jnM7EkD23DhSANPPE9ZztS', 'changeGraph', 'eyJpZCI6ICJFZ3lwdCIsICJ0eXBlIjogInZlcnRleCIsICJwcm9wcyI6IHsic2l6ZSI6IDQwLjQ0NDQ0NDQ0NDQ0NDQ0fX0K');</script>\n",
       "    "
      ],
      "text/plain": [
       "<IPython.core.display.HTML object>"
      ]
     },
     "metadata": {},
     "output_type": "display_data"
    },
    {
     "data": {
      "text/html": [
       "\n",
       "        <div id=\"CPdxRckMKCdN6mwSZ6vB54\"></div>\n",
       "        <script>netpixi.call('CPdxRckMKCdN6mwSZ6vB54', 'jnM7EkD23DhSANPPE9ZztS', 'changeGraph', 'eyJpZCI6ICJOb3Jmb2xrIElzbGFuZCIsICJ0eXBlIjogInZlcnRleCIsICJwcm9wcyI6IHsic2l6ZSI6IDEwLjcyMjIyMjIyMjIyMjIyMX19Cg==');</script>\n",
       "    "
      ],
      "text/plain": [
       "<IPython.core.display.HTML object>"
      ]
     },
     "metadata": {},
     "output_type": "display_data"
    },
    {
     "data": {
      "text/html": [
       "\n",
       "        <div id=\"Yzt6HG7XgpTy8XfLe5rBHh\"></div>\n",
       "        <script>netpixi.call('Yzt6HG7XgpTy8XfLe5rBHh', 'jnM7EkD23DhSANPPE9ZztS', 'changeGraph', 'eyJpZCI6ICJGaWppIiwgInR5cGUiOiAidmVydGV4IiwgInByb3BzIjogeyJzaXplIjogMTQuODMzMzMzMzMzMzMzMzMyfX0K');</script>\n",
       "    "
      ],
      "text/plain": [
       "<IPython.core.display.HTML object>"
      ]
     },
     "metadata": {},
     "output_type": "display_data"
    },
    {
     "data": {
      "text/html": [
       "\n",
       "        <div id=\"cb8HWLSfR4Gwc8p3UxJbbs\"></div>\n",
       "        <script>netpixi.call('cb8HWLSfR4Gwc8p3UxJbbs', 'jnM7EkD23DhSANPPE9ZztS', 'changeGraph', 'eyJpZCI6ICJUaWJldGFuIiwgInR5cGUiOiAidmVydGV4IiwgInByb3BzIjogeyJzaXplIjogMTEuMzMzMzMzMzMzMzMzMzM0fX0K');</script>\n",
       "    "
      ],
      "text/plain": [
       "<IPython.core.display.HTML object>"
      ]
     },
     "metadata": {},
     "output_type": "display_data"
    },
    {
     "data": {
      "text/html": [
       "\n",
       "        <div id=\"dGkvB9eXjQKLkhXAMftRqq\"></div>\n",
       "        <script>netpixi.call('dGkvB9eXjQKLkhXAMftRqq', 'jnM7EkD23DhSANPPE9ZztS', 'changeGraph', 'eyJpZCI6ICJTdXJpbmFtZSIsICJ0eXBlIjogInZlcnRleCIsICJwcm9wcyI6IHsic2l6ZSI6IDEzLjIyMjIyMjIyMjIyMjIyMX19Cg==');</script>\n",
       "    "
      ],
      "text/plain": [
       "<IPython.core.display.HTML object>"
      ]
     },
     "metadata": {},
     "output_type": "display_data"
    },
    {
     "data": {
      "text/html": [
       "\n",
       "        <div id=\"4ckEUMVi6wHdMTUERjNGsC\"></div>\n",
       "        <script>netpixi.call('4ckEUMVi6wHdMTUERjNGsC', 'jnM7EkD23DhSANPPE9ZztS', 'changeGraph', 'eyJpZCI6ICJTb3V0aCBTdWRhbiIsICJ0eXBlIjogInZlcnRleCIsICJwcm9wcyI6IHsic2l6ZSI6IDE2LjY2NjY2NjY2NjY2NjY2OH19Cg==');</script>\n",
       "    "
      ],
      "text/plain": [
       "<IPython.core.display.HTML object>"
      ]
     },
     "metadata": {},
     "output_type": "display_data"
    },
    {
     "data": {
      "text/html": [
       "\n",
       "        <div id=\"mFRtzSnL653QgD5VubRzHe\"></div>\n",
       "        <script>netpixi.call('mFRtzSnL653QgD5VubRzHe', 'jnM7EkD23DhSANPPE9ZztS', 'changeGraph', 'eyJpZCI6ICJDZW50cmFsIEFmcmljYW4gUmVwLiIsICJ0eXBlIjogInZlcnRleCIsICJwcm9wcyI6IHsic2l6ZSI6IDE2LjA1NTU1NTU1NTU1NTU1N319Cg==');</script>\n",
       "    "
      ],
      "text/plain": [
       "<IPython.core.display.HTML object>"
      ]
     },
     "metadata": {},
     "output_type": "display_data"
    },
    {
     "data": {
      "text/html": [
       "\n",
       "        <div id=\"QVd7pVgsQRtZN9pM4HttGM\"></div>\n",
       "        <script>netpixi.call('QVd7pVgsQRtZN9pM4HttGM', 'jnM7EkD23DhSANPPE9ZztS', 'changeGraph', 'eyJpZCI6ICJUb25nYSIsICJ0eXBlIjogInZlcnRleCIsICJwcm9wcyI6IHsic2l6ZSI6IDExLjY2NjY2NjY2NjY2NjY2OH19Cg==');</script>\n",
       "    "
      ],
      "text/plain": [
       "<IPython.core.display.HTML object>"
      ]
     },
     "metadata": {},
     "output_type": "display_data"
    },
    {
     "data": {
      "text/html": [
       "\n",
       "        <div id=\"abvnjZjREEFLFAZPKYys3w\"></div>\n",
       "        <script>netpixi.call('abvnjZjREEFLFAZPKYys3w', 'jnM7EkD23DhSANPPE9ZztS', 'changeGraph', 'eyJpZCI6ICJCcnVuZWkgRGFydXNzYWxhbSIsICJ0eXBlIjogInZlcnRleCIsICJwcm9wcyI6IHsic2l6ZSI6IDEyLjB9fQo=');</script>\n",
       "    "
      ],
      "text/plain": [
       "<IPython.core.display.HTML object>"
      ]
     },
     "metadata": {},
     "output_type": "display_data"
    },
    {
     "data": {
      "text/html": [
       "\n",
       "        <div id=\"BzQuYeo5EiHeESJksbHvN3\"></div>\n",
       "        <script>netpixi.call('BzQuYeo5EiHeESJksbHvN3', 'jnM7EkD23DhSANPPE9ZztS', 'changeGraph', 'eyJpZCI6ICJBcmdlbnRpbmEiLCAidHlwZSI6ICJ2ZXJ0ZXgiLCAicHJvcHMiOiB7InNpemUiOiA0NS4xMTExMTExMTExMTExMTR9fQo=');</script>\n",
       "    "
      ],
      "text/plain": [
       "<IPython.core.display.HTML object>"
      ]
     },
     "metadata": {},
     "output_type": "display_data"
    },
    {
     "data": {
      "text/html": [
       "\n",
       "        <div id=\"Vs5Naoy9pxZEFVqP4CZF4o\"></div>\n",
       "        <script>netpixi.call('Vs5Naoy9pxZEFVqP4CZF4o', 'jnM7EkD23DhSANPPE9ZztS', 'changeGraph', 'eyJpZCI6ICJNeWFubWFyIiwgInR5cGUiOiAidmVydGV4IiwgInByb3BzIjogeyJzaXplIjogMTEuOTQ0NDQ0NDQ0NDQ0NDQ1fX0K');</script>\n",
       "    "
      ],
      "text/plain": [
       "<IPython.core.display.HTML object>"
      ]
     },
     "metadata": {},
     "output_type": "display_data"
    },
    {
     "data": {
      "text/html": [
       "\n",
       "        <div id=\"m8tR7ebikKKgZZjts5Kmgu\"></div>\n",
       "        <script>netpixi.call('m8tR7ebikKKgZZjts5Kmgu', 'jnM7EkD23DhSANPPE9ZztS', 'changeGraph', 'eyJpZCI6ICJBbnRpZ3VhIGFuZCBCYXJidWRhIiwgInR5cGUiOiAidmVydGV4IiwgInByb3BzIjogeyJzaXplIjogMTMuNjExMTExMTExMTExMTF9fQo=');</script>\n",
       "    "
      ],
      "text/plain": [
       "<IPython.core.display.HTML object>"
      ]
     },
     "metadata": {},
     "output_type": "display_data"
    },
    {
     "data": {
      "text/html": [
       "\n",
       "        <div id=\"D45TKpkcX2q3rgvbokcpmo\"></div>\n",
       "        <script>netpixi.call('D45TKpkcX2q3rgvbokcpmo', 'jnM7EkD23DhSANPPE9ZztS', 'changeGraph', 'eyJpZCI6ICJNYWxheXNpYSIsICJ0eXBlIjogInZlcnRleCIsICJwcm9wcyI6IHsic2l6ZSI6IDE5Ljg4ODg4ODg4ODg4ODg5fX0K');</script>\n",
       "    "
      ],
      "text/plain": [
       "<IPython.core.display.HTML object>"
      ]
     },
     "metadata": {},
     "output_type": "display_data"
    },
    {
     "data": {
      "text/html": [
       "\n",
       "        <div id=\"dc6wRCrrZGETtVCrNS3Rte\"></div>\n",
       "        <script>netpixi.call('dc6wRCrrZGETtVCrNS3Rte', 'jnM7EkD23DhSANPPE9ZztS', 'changeGraph', 'eyJpZCI6ICJGcmVuY2ggR3VpYW5hIiwgInR5cGUiOiAidmVydGV4IiwgInByb3BzIjogeyJzaXplIjogMTIuNDQ0NDQ0NDQ0NDQ0NDQ1fX0K');</script>\n",
       "    "
      ],
      "text/plain": [
       "<IPython.core.display.HTML object>"
      ]
     },
     "metadata": {},
     "output_type": "display_data"
    },
    {
     "data": {
      "text/html": [
       "\n",
       "        <div id=\"8NW2aNnxVTSh82L8kypzqp\"></div>\n",
       "        <script>netpixi.call('8NW2aNnxVTSh82L8kypzqp', 'jnM7EkD23DhSANPPE9ZztS', 'changeGraph', 'eyJpZCI6ICJDb3N0YSBSaWNhIiwgInR5cGUiOiAidmVydGV4IiwgInByb3BzIjogeyJzaXplIjogNDAuNjY2NjY2NjY2NjY2Njd9fQo=');</script>\n",
       "    "
      ],
      "text/plain": [
       "<IPython.core.display.HTML object>"
      ]
     },
     "metadata": {},
     "output_type": "display_data"
    },
    {
     "data": {
      "text/html": [
       "\n",
       "        <div id=\"H9opPCqo2j7NK3o4grSAp5\"></div>\n",
       "        <script>netpixi.call('H9opPCqo2j7NK3o4grSAp5', 'jnM7EkD23DhSANPPE9ZztS', 'changeGraph', 'eyJpZCI6ICJZZW1lbiIsICJ0eXBlIjogInZlcnRleCIsICJwcm9wcyI6IHsic2l6ZSI6IDE4LjExMTExMTExMTExMTExfX0K');</script>\n",
       "    "
      ],
      "text/plain": [
       "<IPython.core.display.HTML object>"
      ]
     },
     "metadata": {},
     "output_type": "display_data"
    },
    {
     "data": {
      "text/html": [
       "\n",
       "        <div id=\"oVcbZx37owN8tbdNrbHgDB\"></div>\n",
       "        <script>netpixi.call('oVcbZx37owN8tbdNrbHgDB', 'jnM7EkD23DhSANPPE9ZztS', 'changeGraph', 'eyJpZCI6ICJBdXN0cmFsaWEiLCAidHlwZSI6ICJ2ZXJ0ZXgiLCAicHJvcHMiOiB7InNpemUiOiA0OS4xMTExMTExMTExMTExMX19Cg==');</script>\n",
       "    "
      ],
      "text/plain": [
       "<IPython.core.display.HTML object>"
      ]
     },
     "metadata": {},
     "output_type": "display_data"
    },
    {
     "data": {
      "text/html": [
       "\n",
       "        <div id=\"5DUKRcLRKpo9w3UsvczNQd\"></div>\n",
       "        <script>netpixi.call('5DUKRcLRKpo9w3UsvczNQd', 'jnM7EkD23DhSANPPE9ZztS', 'changeGraph', 'eyJpZCI6ICJDYWJvIFZlcmRlIiwgInR5cGUiOiAidmVydGV4IiwgInByb3BzIjogeyJzaXplIjogMTAuMTExMTExMTExMTExMTF9fQo=');</script>\n",
       "    "
      ],
      "text/plain": [
       "<IPython.core.display.HTML object>"
      ]
     },
     "metadata": {},
     "output_type": "display_data"
    },
    {
     "data": {
      "text/html": [
       "\n",
       "        <div id=\"5rGSCZN2SptSjecEzTedve\"></div>\n",
       "        <script>netpixi.call('5rGSCZN2SptSjecEzTedve', 'jnM7EkD23DhSANPPE9ZztS', 'changeGraph', 'eyJpZCI6ICJSZXAuIG9mIEtvcmVhIiwgInR5cGUiOiAidmVydGV4IiwgInByb3BzIjogeyJzaXplIjogNDQuNDQ0NDQ0NDQ0NDQ0NDR9fQo=');</script>\n",
       "    "
      ],
      "text/plain": [
       "<IPython.core.display.HTML object>"
      ]
     },
     "metadata": {},
     "output_type": "display_data"
    },
    {
     "data": {
      "text/html": [
       "\n",
       "        <div id=\"Z4feUQRhTx5f8STVVdTJWQ\"></div>\n",
       "        <script>netpixi.call('Z4feUQRhTx5f8STVVdTJWQ', 'jnM7EkD23DhSANPPE9ZztS', 'changeGraph', 'eyJpZCI6ICJMZWJhbm9uIiwgInR5cGUiOiAidmVydGV4IiwgInByb3BzIjogeyJzaXplIjogMTguMzMzMzMzMzMzMzMzMzM2fX0K');</script>\n",
       "    "
      ],
      "text/plain": [
       "<IPython.core.display.HTML object>"
      ]
     },
     "metadata": {},
     "output_type": "display_data"
    },
    {
     "data": {
      "text/html": [
       "\n",
       "        <div id=\"e6HcAzoG6Ngud6Vj3E7oJ3\"></div>\n",
       "        <script>netpixi.call('e6HcAzoG6Ngud6Vj3E7oJ3', 'jnM7EkD23DhSANPPE9ZztS', 'changeGraph', 'eyJpZCI6ICJNb250ZW5lZ3JvIiwgInR5cGUiOiAidmVydGV4IiwgInByb3BzIjogeyJzaXplIjogMTkuNTU1NTU1NTU1NTU1NTU3fX0K');</script>\n",
       "    "
      ],
      "text/plain": [
       "<IPython.core.display.HTML object>"
      ]
     },
     "metadata": {},
     "output_type": "display_data"
    },
    {
     "data": {
      "text/html": [
       "\n",
       "        <div id=\"N2S6PRCa9EtZtCVYz9okjg\"></div>\n",
       "        <script>netpixi.call('N2S6PRCa9EtZtCVYz9okjg', 'jnM7EkD23DhSANPPE9ZztS', 'changeGraph', 'eyJpZCI6ICJQdWVydG8gUmljbyIsICJ0eXBlIjogInZlcnRleCIsICJwcm9wcyI6IHsic2l6ZSI6IDEyLjExMTExMTExMTExMTExfX0K');</script>\n",
       "    "
      ],
      "text/plain": [
       "<IPython.core.display.HTML object>"
      ]
     },
     "metadata": {},
     "output_type": "display_data"
    },
    {
     "data": {
      "text/html": [
       "\n",
       "        <div id=\"WrU5QzsYDwyrokKvVajbq9\"></div>\n",
       "        <script>netpixi.call('WrU5QzsYDwyrokKvVajbq9', 'jnM7EkD23DhSANPPE9ZztS', 'changeGraph', 'eyJpZCI6ICJTd2VkZW4iLCAidHlwZSI6ICJ2ZXJ0ZXgiLCAicHJvcHMiOiB7InNpemUiOiA0Ny4zMzMzMzMzMzMzMzMzMzZ9fQo=');</script>\n",
       "    "
      ],
      "text/plain": [
       "<IPython.core.display.HTML object>"
      ]
     },
     "metadata": {},
     "output_type": "display_data"
    },
    {
     "data": {
      "text/html": [
       "\n",
       "        <div id=\"WjkKisfW3gECafbz2ELHDY\"></div>\n",
       "        <script>netpixi.call('WjkKisfW3gECafbz2ELHDY', 'jnM7EkD23DhSANPPE9ZztS', 'changeGraph', 'eyJpZCI6ICJDb25nbyIsICJ0eXBlIjogInZlcnRleCIsICJwcm9wcyI6IHsic2l6ZSI6IDE3LjcyMjIyMjIyMjIyMjIyfX0K');</script>\n",
       "    "
      ],
      "text/plain": [
       "<IPython.core.display.HTML object>"
      ]
     },
     "metadata": {},
     "output_type": "display_data"
    },
    {
     "data": {
      "text/html": [
       "\n",
       "        <div id=\"WhNPXJDoak8x9txRg2Hek9\"></div>\n",
       "        <script>netpixi.call('WhNPXJDoak8x9txRg2Hek9', 'jnM7EkD23DhSANPPE9ZztS', 'changeGraph', 'eyJpZCI6ICJVbml0ZWQgS2luZ2RvbSIsICJ0eXBlIjogInZlcnRleCIsICJwcm9wcyI6IHsic2l6ZSI6IDQ4Ljg4ODg4ODg4ODg4ODg4Nn19Cg==');</script>\n",
       "    "
      ],
      "text/plain": [
       "<IPython.core.display.HTML object>"
      ]
     },
     "metadata": {},
     "output_type": "display_data"
    },
    {
     "data": {
      "text/html": [
       "\n",
       "        <div id=\"dXoRgm6pgFLWwu2ZfEsFwF\"></div>\n",
       "        <script>netpixi.call('dXoRgm6pgFLWwu2ZfEsFwF', 'jnM7EkD23DhSANPPE9ZztS', 'changeGraph', 'eyJpZCI6ICJLeXJneXpzdGFuIiwgInR5cGUiOiAidmVydGV4IiwgInByb3BzIjogeyJzaXplIjogMTcuODg4ODg4ODg4ODg4ODl9fQo=');</script>\n",
       "    "
      ],
      "text/plain": [
       "<IPython.core.display.HTML object>"
      ]
     },
     "metadata": {},
     "output_type": "display_data"
    },
    {
     "data": {
      "text/html": [
       "\n",
       "        <div id=\"VksyaiPWnnD9E3FZR3D2DW\"></div>\n",
       "        <script>netpixi.call('VksyaiPWnnD9E3FZR3D2DW', 'jnM7EkD23DhSANPPE9ZztS', 'changeGraph', 'eyJpZCI6ICJCYWhhbWFzIiwgInR5cGUiOiAidmVydGV4IiwgInByb3BzIjogeyJzaXplIjogMTUuNzc3Nzc3Nzc3Nzc3Nzc5fX0K');</script>\n",
       "    "
      ],
      "text/plain": [
       "<IPython.core.display.HTML object>"
      ]
     },
     "metadata": {},
     "output_type": "display_data"
    },
    {
     "data": {
      "text/html": [
       "\n",
       "        <div id=\"3WEDVvDYfz52dRKW23FiDa\"></div>\n",
       "        <script>netpixi.call('3WEDVvDYfz52dRKW23FiDa', 'jnM7EkD23DhSANPPE9ZztS', 'changeGraph', 'eyJpZCI6ICJJdGFseSIsICJ0eXBlIjogInZlcnRleCIsICJwcm9wcyI6IHsic2l6ZSI6IDQ1LjMzMzMzMzMzMzMzMzMzfX0K');</script>\n",
       "    "
      ],
      "text/plain": [
       "<IPython.core.display.HTML object>"
      ]
     },
     "metadata": {},
     "output_type": "display_data"
    },
    {
     "data": {
      "text/html": [
       "\n",
       "        <div id=\"aeDpmwfpbAAPyRVjjHqNFG\"></div>\n",
       "        <script>netpixi.call('aeDpmwfpbAAPyRVjjHqNFG', 'jnM7EkD23DhSANPPE9ZztS', 'changeGraph', 'eyJpZCI6ICJVbml0ZWQgQXJhYiBFbWlyYXRlcyIsICJ0eXBlIjogInZlcnRleCIsICJwcm9wcyI6IHsic2l6ZSI6IDE2LjQ0NDQ0NDQ0NDQ0NDQ0M319Cg==');</script>\n",
       "    "
      ],
      "text/plain": [
       "<IPython.core.display.HTML object>"
      ]
     },
     "metadata": {},
     "output_type": "display_data"
    },
    {
     "data": {
      "text/html": [
       "\n",
       "        <div id=\"aQ2CbqxrB2CcpbgdBEKpRv\"></div>\n",
       "        <script>netpixi.call('aQ2CbqxrB2CcpbgdBEKpRv', 'jnM7EkD23DhSANPPE9ZztS', 'changeGraph', 'eyJpZCI6ICJSb21hbmlhIiwgInR5cGUiOiAidmVydGV4IiwgInByb3BzIjogeyJzaXplIjogNDIuNDQ0NDQ0NDQ0NDQ0NDR9fQo=');</script>\n",
       "    "
      ],
      "text/plain": [
       "<IPython.core.display.HTML object>"
      ]
     },
     "metadata": {},
     "output_type": "display_data"
    },
    {
     "data": {
      "text/html": [
       "\n",
       "        <div id=\"m4z2fW34SgpArTxDaHHLTi\"></div>\n",
       "        <script>netpixi.call('m4z2fW34SgpArTxDaHHLTi', 'jnM7EkD23DhSANPPE9ZztS', 'changeGraph', 'eyJpZCI6ICJCaHV0YW4iLCAidHlwZSI6ICJ2ZXJ0ZXgiLCAicHJvcHMiOiB7InNpemUiOiAxMS43Nzc3Nzc3Nzc3Nzc3Nzl9fQo=');</script>\n",
       "    "
      ],
      "text/plain": [
       "<IPython.core.display.HTML object>"
      ]
     },
     "metadata": {},
     "output_type": "display_data"
    },
    {
     "data": {
      "text/html": [
       "\n",
       "        <div id=\"a26tq83gW8mqQB75doq5Ym\"></div>\n",
       "        <script>netpixi.call('a26tq83gW8mqQB75doq5Ym', 'jnM7EkD23DhSANPPE9ZztS', 'changeGraph', 'eyJpZCI6ICJOb3J3YXkiLCAidHlwZSI6ICJ2ZXJ0ZXgiLCAicHJvcHMiOiB7InNpemUiOiA0OC4yMjIyMjIyMjIyMjIyMn19Cg==');</script>\n",
       "    "
      ],
      "text/plain": [
       "<IPython.core.display.HTML object>"
      ]
     },
     "metadata": {},
     "output_type": "display_data"
    },
    {
     "data": {
      "text/html": [
       "\n",
       "        <div id=\"2XZDfjoSeznipA53bYbDYj\"></div>\n",
       "        <script>netpixi.call('2XZDfjoSeznipA53bYbDYj', 'jnM7EkD23DhSANPPE9ZztS', 'changeGraph', 'eyJpZCI6ICJMdXhlbWJvdXJnIiwgInR5cGUiOiAidmVydGV4IiwgInByb3BzIjogeyJzaXplIjogNDguNDQ0NDQ0NDQ0NDQ0NDR9fQo=');</script>\n",
       "    "
      ],
      "text/plain": [
       "<IPython.core.display.HTML object>"
      ]
     },
     "metadata": {},
     "output_type": "display_data"
    },
    {
     "data": {
      "text/html": [
       "\n",
       "        <div id=\"iXr872eKBFeyPGE8DgW8mo\"></div>\n",
       "        <script>netpixi.call('iXr872eKBFeyPGE8DgW8mo', 'jnM7EkD23DhSANPPE9ZztS', 'changeGraph', 'eyJpZCI6ICJQYXB1YSBOZXcgR3VpbmVhIiwgInR5cGUiOiAidmVydGV4IiwgInByb3BzIjogeyJzaXplIjogMTYuNX19Cg==');</script>\n",
       "    "
      ],
      "text/plain": [
       "<IPython.core.display.HTML object>"
      ]
     },
     "metadata": {},
     "output_type": "display_data"
    },
    {
     "data": {
      "text/html": [
       "\n",
       "        <div id=\"Gid7iuE5WFx3jGiGDuJzBU\"></div>\n",
       "        <script>netpixi.call('Gid7iuE5WFx3jGiGDuJzBU', 'jnM7EkD23DhSANPPE9ZztS', 'changeGraph', 'eyJpZCI6ICJDYW1lcm9vbiIsICJ0eXBlIjogInZlcnRleCIsICJwcm9wcyI6IHsic2l6ZSI6IDE4LjA1NTU1NTU1NTU1NTU1N319Cg==');</script>\n",
       "    "
      ],
      "text/plain": [
       "<IPython.core.display.HTML object>"
      ]
     },
     "metadata": {},
     "output_type": "display_data"
    },
    {
     "data": {
      "text/html": [
       "\n",
       "        <div id=\"EAYsXHsYJo6vAqvZVMyZwo\"></div>\n",
       "        <script>netpixi.call('EAYsXHsYJo6vAqvZVMyZwo', 'jnM7EkD23DhSANPPE9ZztS', 'changeGraph', 'eyJpZCI6ICJOZXRoZXJsYW5kcyIsICJ0eXBlIjogInZlcnRleCIsICJwcm9wcyI6IHsic2l6ZSI6IDQ5Ljc3Nzc3Nzc3Nzc3Nzc4fX0K');</script>\n",
       "    "
      ],
      "text/plain": [
       "<IPython.core.display.HTML object>"
      ]
     },
     "metadata": {},
     "output_type": "display_data"
    },
    {
     "data": {
      "text/html": [
       "\n",
       "        <div id=\"FCgtiye7tjYAtyB5ZND4vS\"></div>\n",
       "        <script>netpixi.call('FCgtiye7tjYAtyB5ZND4vS', 'jnM7EkD23DhSANPPE9ZztS', 'changeGraph', 'eyJpZCI6ICJDYXltYW4gSXNsYW5kcyIsICJ0eXBlIjogInZlcnRleCIsICJwcm9wcyI6IHsic2l6ZSI6IDE2LjM4ODg4ODg4ODg4ODg5fX0K');</script>\n",
       "    "
      ],
      "text/plain": [
       "<IPython.core.display.HTML object>"
      ]
     },
     "metadata": {},
     "output_type": "display_data"
    },
    {
     "data": {
      "text/html": [
       "\n",
       "        <div id=\"XhTXNw4U8BcZ4S3FoCfUN8\"></div>\n",
       "        <script>netpixi.call('XhTXNw4U8BcZ4S3FoCfUN8', 'jnM7EkD23DhSANPPE9ZztS', 'changeGraph', 'eyJpZCI6ICJJbmRvbmVzaWEiLCAidHlwZSI6ICJ2ZXJ0ZXgiLCAicHJvcHMiOiB7InNpemUiOiAyMC4wfX0K');</script>\n",
       "    "
      ],
      "text/plain": [
       "<IPython.core.display.HTML object>"
      ]
     },
     "metadata": {},
     "output_type": "display_data"
    },
    {
     "data": {
      "text/html": [
       "\n",
       "        <div id=\"Hck4gfwEJo7jKYAEo2WVDH\"></div>\n",
       "        <script>netpixi.call('Hck4gfwEJo7jKYAEo2WVDH', 'jnM7EkD23DhSANPPE9ZztS', 'changeGraph', 'eyJpZCI6ICJQaGlsaXBwaW5lcyIsICJ0eXBlIjogInZlcnRleCIsICJwcm9wcyI6IHsic2l6ZSI6IDE5LjgzMzMzMzMzMzMzMzMzNn19Cg==');</script>\n",
       "    "
      ],
      "text/plain": [
       "<IPython.core.display.HTML object>"
      ]
     },
     "metadata": {},
     "output_type": "display_data"
    },
    {
     "data": {
      "text/html": [
       "\n",
       "        <div id=\"SvxrjgcogCFPH6LHWHBz3U\"></div>\n",
       "        <script>netpixi.call('SvxrjgcogCFPH6LHWHBz3U', 'jnM7EkD23DhSANPPE9ZztS', 'changeGraph', 'eyJpZCI6ICJEb21pbmljYSIsICJ0eXBlIjogInZlcnRleCIsICJwcm9wcyI6IHsic2l6ZSI6IDEzLjExMTExMTExMTExMTExfX0K');</script>\n",
       "    "
      ],
      "text/plain": [
       "<IPython.core.display.HTML object>"
      ]
     },
     "metadata": {},
     "output_type": "display_data"
    },
    {
     "data": {
      "text/html": [
       "\n",
       "        <div id=\"jot6YQJSCusgYQhdzdVbiX\"></div>\n",
       "        <script>netpixi.call('jot6YQJSCusgYQhdzdVbiX', 'jnM7EkD23DhSANPPE9ZztS', 'changeGraph', 'eyJpZCI6ICJHdWFkZWxvdXBlIiwgInR5cGUiOiAidmVydGV4IiwgInByb3BzIjogeyJzaXplIjogMTAuNDQ0NDQ0NDQ0NDQ0NDQ1fX0K');</script>\n",
       "    "
      ],
      "text/plain": [
       "<IPython.core.display.HTML object>"
      ]
     },
     "metadata": {},
     "output_type": "display_data"
    },
    {
     "data": {
      "text/html": [
       "\n",
       "        <div id=\"DCG3AFTXBWAKKEqroTrovN\"></div>\n",
       "        <script>netpixi.call('DCG3AFTXBWAKKEqroTrovN', 'jnM7EkD23DhSANPPE9ZztS', 'changeGraph', 'eyJpZCI6ICJTdGF0ZWxlc3MiLCAidHlwZSI6ICJ2ZXJ0ZXgiLCAicHJvcHMiOiB7InNpemUiOiAxMS4yNzc3Nzc3Nzc3Nzc3Nzl9fQo=');</script>\n",
       "    "
      ],
      "text/plain": [
       "<IPython.core.display.HTML object>"
      ]
     },
     "metadata": {},
     "output_type": "display_data"
    },
    {
     "data": {
      "text/html": [
       "\n",
       "        <div id=\"PwtxouuXjduBgHAoEmgLex\"></div>\n",
       "        <script>netpixi.call('PwtxouuXjduBgHAoEmgLex', 'jnM7EkD23DhSANPPE9ZztS', 'changeGraph', 'eyJpZCI6ICJNYXVyaXRhbmlhIiwgInR5cGUiOiAidmVydGV4IiwgInByb3BzIjogeyJzaXplIjogMTguMH19Cg==');</script>\n",
       "    "
      ],
      "text/plain": [
       "<IPython.core.display.HTML object>"
      ]
     },
     "metadata": {},
     "output_type": "display_data"
    },
    {
     "data": {
      "text/html": [
       "\n",
       "        <div id=\"nqoyJDgVncKpnwunLoSQ2C\"></div>\n",
       "        <script>netpixi.call('nqoyJDgVncKpnwunLoSQ2C', 'jnM7EkD23DhSANPPE9ZztS', 'changeGraph', 'eyJpZCI6ICJHcmVuYWRhIiwgInR5cGUiOiAidmVydGV4IiwgInByb3BzIjogeyJzaXplIjogMTIuODMzMzMzMzMzMzMzMzMyfX0K');</script>\n",
       "    "
      ],
      "text/plain": [
       "<IPython.core.display.HTML object>"
      ]
     },
     "metadata": {},
     "output_type": "display_data"
    },
    {
     "data": {
      "text/html": [
       "\n",
       "        <div id=\"6uxrxBqNas4AbUpjMfA628\"></div>\n",
       "        <script>netpixi.call('6uxrxBqNas4AbUpjMfA628', 'jnM7EkD23DhSANPPE9ZztS', 'changeGraph', 'eyJpZCI6ICJDYW5hZGEiLCAidHlwZSI6ICJ2ZXJ0ZXgiLCAicHJvcHMiOiB7InNpemUiOiA0OC42NjY2NjY2NjY2NjY2NjR9fQo=');</script>\n",
       "    "
      ],
      "text/plain": [
       "<IPython.core.display.HTML object>"
      ]
     },
     "metadata": {},
     "output_type": "display_data"
    },
    {
     "data": {
      "text/html": [
       "\n",
       "        <div id=\"DebyZ4HSRS3e3iY6Yr9scE\"></div>\n",
       "        <script>netpixi.call('DebyZ4HSRS3e3iY6Yr9scE', 'jnM7EkD23DhSANPPE9ZztS', 'changeGraph', 'eyJpZCI6ICJEZW0uIFBlb3BsZSdzIFJlcC4gb2YgS29yZWEiLCAidHlwZSI6ICJ2ZXJ0ZXgiLCAicHJvcHMiOiB7InNpemUiOiAxMC4yNzc3Nzc3Nzc3Nzc3Nzl9fQo=');</script>\n",
       "    "
      ],
      "text/plain": [
       "<IPython.core.display.HTML object>"
      ]
     },
     "metadata": {},
     "output_type": "display_data"
    },
    {
     "data": {
      "text/html": [
       "\n",
       "        <div id=\"F7uv8AQ2i5chw3gVC48wbe\"></div>\n",
       "        <script>netpixi.call('F7uv8AQ2i5chw3gVC48wbe', 'jnM7EkD23DhSANPPE9ZztS', 'changeGraph', 'eyJpZCI6ICJTYWludCBMdWNpYSIsICJ0eXBlIjogInZlcnRleCIsICJwcm9wcyI6IHsic2l6ZSI6IDEyLjMzMzMzMzMzMzMzMzMzNH19Cg==');</script>\n",
       "    "
      ],
      "text/plain": [
       "<IPython.core.display.HTML object>"
      ]
     },
     "metadata": {},
     "output_type": "display_data"
    },
    {
     "data": {
      "text/html": [
       "\n",
       "        <div id=\"VLbB7V5cquvqinUgUmL4DB\"></div>\n",
       "        <script>netpixi.call('VLbB7V5cquvqinUgUmL4DB', 'jnM7EkD23DhSANPPE9ZztS', 'changeGraph', 'eyJpZCI6ICJTbG92YWtpYSIsICJ0eXBlIjogInZlcnRleCIsICJwcm9wcyI6IHsic2l6ZSI6IDQxLjMzMzMzMzMzMzMzMzMzfX0K');</script>\n",
       "    "
      ],
      "text/plain": [
       "<IPython.core.display.HTML object>"
      ]
     },
     "metadata": {},
     "output_type": "display_data"
    },
    {
     "data": {
      "text/html": [
       "\n",
       "        <div id=\"Vib6LvWnpsXqzFfgXx6o7a\"></div>\n",
       "        <script>netpixi.call('Vib6LvWnpsXqzFfgXx6o7a', 'jnM7EkD23DhSANPPE9ZztS', 'changeGraph', 'eyJpZCI6ICJQYW5hbWEiLCAidHlwZSI6ICJ2ZXJ0ZXgiLCAicHJvcHMiOiB7InNpemUiOiAxOC4xNjY2NjY2NjY2NjY2NjR9fQo=');</script>\n",
       "    "
      ],
      "text/plain": [
       "<IPython.core.display.HTML object>"
      ]
     },
     "metadata": {},
     "output_type": "display_data"
    },
    {
     "data": {
      "text/html": [
       "\n",
       "        <div id=\"QqEUthMuHkLffCc8GUgJ6V\"></div>\n",
       "        <script>netpixi.call('QqEUthMuHkLffCc8GUgJ6V', 'jnM7EkD23DhSANPPE9ZztS', 'changeGraph', 'eyJpZCI6ICJNYWx0YSIsICJ0eXBlIjogInZlcnRleCIsICJwcm9wcyI6IHsic2l6ZSI6IDE4LjgzMzMzMzMzMzMzMzMzNn19Cg==');</script>\n",
       "    "
      ],
      "text/plain": [
       "<IPython.core.display.HTML object>"
      ]
     },
     "metadata": {},
     "output_type": "display_data"
    },
    {
     "data": {
      "text/html": [
       "\n",
       "        <div id=\"nyzCgGy69BswrJbhKMgTwr\"></div>\n",
       "        <script>netpixi.call('nyzCgGy69BswrJbhKMgTwr', 'jnM7EkD23DhSANPPE9ZztS', 'changeGraph', 'eyJpZCI6ICJCYWhyYWluIiwgInR5cGUiOiAidmVydGV4IiwgInByb3BzIjogeyJzaXplIjogMTMuMDU1NTU1NTU1NTU1NTU1fX0K');</script>\n",
       "    "
      ],
      "text/plain": [
       "<IPython.core.display.HTML object>"
      ]
     },
     "metadata": {},
     "output_type": "display_data"
    },
    {
     "data": {
      "text/html": [
       "\n",
       "        <div id=\"GFTUwsEfcHWPcz9fZYWyuQ\"></div>\n",
       "        <script>netpixi.call('GFTUwsEfcHWPcz9fZYWyuQ', 'jnM7EkD23DhSANPPE9ZztS', 'changeGraph', 'eyJpZCI6ICJMZXNvdGhvIiwgInR5cGUiOiAidmVydGV4IiwgInByb3BzIjogeyJzaXplIjogMTIuODg4ODg4ODg4ODg4ODl9fQo=');</script>\n",
       "    "
      ],
      "text/plain": [
       "<IPython.core.display.HTML object>"
      ]
     },
     "metadata": {},
     "output_type": "display_data"
    },
    {
     "data": {
      "text/html": [
       "\n",
       "        <div id=\"ANjur5HYZxKNJczFJcCtwm\"></div>\n",
       "        <script>netpixi.call('ANjur5HYZxKNJczFJcCtwm', 'jnM7EkD23DhSANPPE9ZztS', 'changeGraph', 'eyJpZCI6ICJVbml0ZWQgUmVwLiBvZiBUYW56YW5pYSIsICJ0eXBlIjogInZlcnRleCIsICJwcm9wcyI6IHsic2l6ZSI6IDEzLjY2NjY2NjY2NjY2NjY2OH19Cg==');</script>\n",
       "    "
      ],
      "text/plain": [
       "<IPython.core.display.HTML object>"
      ]
     },
     "metadata": {},
     "output_type": "display_data"
    },
    {
     "data": {
      "text/html": [
       "\n",
       "        <div id=\"6eqxN8YQ5you6i9bL6mVCZ\"></div>\n",
       "        <script>netpixi.call('6eqxN8YQ5you6i9bL6mVCZ', 'jnM7EkD23DhSANPPE9ZztS', 'changeGraph', 'eyJpZCI6ICJSZXAuIG9mIE1vbGRvdmEiLCAidHlwZSI6ICJ2ZXJ0ZXgiLCAicHJvcHMiOiB7InNpemUiOiAxOC4zODg4ODg4ODg4ODg4OX19Cg==');</script>\n",
       "    "
      ],
      "text/plain": [
       "<IPython.core.display.HTML object>"
      ]
     },
     "metadata": {},
     "output_type": "display_data"
    },
    {
     "data": {
      "text/html": [
       "\n",
       "        <div id=\"9QkcB2kxZzGLoGzqhJ3cXA\"></div>\n",
       "        <script>netpixi.call('9QkcB2kxZzGLoGzqhJ3cXA', 'jnM7EkD23DhSANPPE9ZztS', 'changeGraph', 'eyJpZCI6ICJOYXVydSIsICJ0eXBlIjogInZlcnRleCIsICJwcm9wcyI6IHsic2l6ZSI6IDEzLjcyMjIyMjIyMjIyMjIyMX19Cg==');</script>\n",
       "    "
      ],
      "text/plain": [
       "<IPython.core.display.HTML object>"
      ]
     },
     "metadata": {},
     "output_type": "display_data"
    },
    {
     "data": {
      "text/html": [
       "\n",
       "        <div id=\"RLqrpSB6woVqHqTrWU96BD\"></div>\n",
       "        <script>netpixi.call('RLqrpSB6woVqHqTrWU96BD', 'jnM7EkD23DhSANPPE9ZztS', 'changeGraph', 'eyJpZCI6ICJBdXN0cmlhIiwgInR5cGUiOiAidmVydGV4IiwgInByb3BzIjogeyJzaXplIjogNDQuNjY2NjY2NjY2NjY2Njd9fQo=');</script>\n",
       "    "
      ],
      "text/plain": [
       "<IPython.core.display.HTML object>"
      ]
     },
     "metadata": {},
     "output_type": "display_data"
    },
    {
     "data": {
      "text/html": [
       "\n",
       "        <div id=\"dCgZM498mtKWwS3eVsDDXx\"></div>\n",
       "        <script>netpixi.call('dCgZM498mtKWwS3eVsDDXx', 'jnM7EkD23DhSANPPE9ZztS', 'changeGraph', 'eyJpZCI6ICJGcmFuY2UiLCAidHlwZSI6ICJ2ZXJ0ZXgiLCAicHJvcHMiOiB7InNpemUiOiA0Ni4yMjIyMjIyMjIyMjIyMn19Cg==');</script>\n",
       "    "
      ],
      "text/plain": [
       "<IPython.core.display.HTML object>"
      ]
     },
     "metadata": {},
     "output_type": "display_data"
    },
    {
     "data": {
      "text/html": [
       "\n",
       "        <div id=\"PpN5n2VeybXYXmRosmVbL2\"></div>\n",
       "        <script>netpixi.call('PpN5n2VeybXYXmRosmVbL2', 'jnM7EkD23DhSANPPE9ZztS', 'changeGraph', 'eyJpZCI6ICJUaGUgZm9ybWVyIFl1Z29zbGF2IFJlcHVibGljIG9mIE1hY2Vkb25pYSIsICJ0eXBlIjogInZlcnRleCIsICJwcm9wcyI6IHsic2l6ZSI6IDE5Ljc3Nzc3Nzc3Nzc3Nzc4fX0K');</script>\n",
       "    "
      ],
      "text/plain": [
       "<IPython.core.display.HTML object>"
      ]
     },
     "metadata": {},
     "output_type": "display_data"
    },
    {
     "data": {
      "text/html": [
       "\n",
       "        <div id=\"MCGXDBF8y2K2Sk22ey42ZQ\"></div>\n",
       "        <script>netpixi.call('MCGXDBF8y2K2Sk22ey42ZQ', 'jnM7EkD23DhSANPPE9ZztS', 'changeGraph', 'eyJpZCI6ICJSd2FuZGEiLCAidHlwZSI6ICJ2ZXJ0ZXgiLCAicHJvcHMiOiB7InNpemUiOiAxMy44ODg4ODg4ODg4ODg4OX19Cg==');</script>\n",
       "    "
      ],
      "text/plain": [
       "<IPython.core.display.HTML object>"
      ]
     },
     "metadata": {},
     "output_type": "display_data"
    },
    {
     "data": {
      "text/html": [
       "\n",
       "        <div id=\"FjEbeGrP9RjFkpt2ve2Jcq\"></div>\n",
       "        <script>netpixi.call('FjEbeGrP9RjFkpt2ve2Jcq', 'jnM7EkD23DhSANPPE9ZztS', 'changeGraph', 'eyJpZCI6ICJQYWxhdSIsICJ0eXBlIjogInZlcnRleCIsICJwcm9wcyI6IHsic2l6ZSI6IDE0LjA1NTU1NTU1NTU1NTU1NX19Cg==');</script>\n",
       "    "
      ],
      "text/plain": [
       "<IPython.core.display.HTML object>"
      ]
     },
     "metadata": {},
     "output_type": "display_data"
    },
    {
     "data": {
      "text/html": [
       "\n",
       "        <div id=\"Vs7fK8T5CuL4Wu2QuWqVwa\"></div>\n",
       "        <script>netpixi.call('Vs7fK8T5CuL4Wu2QuWqVwa', 'jnM7EkD23DhSANPPE9ZztS', 'changeGraph', 'eyJpZCI6ICJMaWJlcmlhIiwgInR5cGUiOiAidmVydGV4IiwgInByb3BzIjogeyJzaXplIjogMTUuNDQ0NDQ0NDQ0NDQ0NDQ1fX0K');</script>\n",
       "    "
      ],
      "text/plain": [
       "<IPython.core.display.HTML object>"
      ]
     },
     "metadata": {},
     "output_type": "display_data"
    },
    {
     "data": {
      "text/html": [
       "\n",
       "        <div id=\"mXVTP9oeMKdGx7XTwVRJG5\"></div>\n",
       "        <script>netpixi.call('mXVTP9oeMKdGx7XTwVRJG5', 'jnM7EkD23DhSANPPE9ZztS', 'changeGraph', 'eyJpZCI6ICJIb25kdXJhcyIsICJ0eXBlIjogInZlcnRleCIsICJwcm9wcyI6IHsic2l6ZSI6IDE2Ljg4ODg4ODg4ODg4ODg5fX0K');</script>\n",
       "    "
      ],
      "text/plain": [
       "<IPython.core.display.HTML object>"
      ]
     },
     "metadata": {},
     "output_type": "display_data"
    },
    {
     "data": {
      "text/html": [
       "\n",
       "        <div id=\"HMSVrCiUi6ktBkHwNPT3Ma\"></div>\n",
       "        <script>netpixi.call('HMSVrCiUi6ktBkHwNPT3Ma', 'jnM7EkD23DhSANPPE9ZztS', 'changeGraph', 'eyJpZCI6ICJLZW55YSIsICJ0eXBlIjogInZlcnRleCIsICJwcm9wcyI6IHsic2l6ZSI6IDE5LjQ0NDQ0NDQ0NDQ0NDQ0M319Cg==');</script>\n",
       "    "
      ],
      "text/plain": [
       "<IPython.core.display.HTML object>"
      ]
     },
     "metadata": {},
     "output_type": "display_data"
    },
    {
     "data": {
      "text/html": [
       "\n",
       "        <div id=\"NN9EoLSste4yP6NK6eTaLA\"></div>\n",
       "        <script>netpixi.call('NN9EoLSste4yP6NK6eTaLA', 'jnM7EkD23DhSANPPE9ZztS', 'changeGraph', 'eyJpZCI6ICJTYWludCBWaW5jZW50IGFuZCB0aGUgR3JlbmFkaW5lcyIsICJ0eXBlIjogInZlcnRleCIsICJwcm9wcyI6IHsic2l6ZSI6IDExLjgzMzMzMzMzMzMzMzMzNH19Cg==');</script>\n",
       "    "
      ],
      "text/plain": [
       "<IPython.core.display.HTML object>"
      ]
     },
     "metadata": {},
     "output_type": "display_data"
    },
    {
     "data": {
      "text/html": [
       "\n",
       "        <div id=\"52uTJR2j29qPTQBf8aYDcB\"></div>\n",
       "        <script>netpixi.call('52uTJR2j29qPTQBf8aYDcB', 'jnM7EkD23DhSANPPE9ZztS', 'changeGraph', 'eyJpZCI6ICJNb25hY28iLCAidHlwZSI6ICJ2ZXJ0ZXgiLCAicHJvcHMiOiB7InNpemUiOiAxMi4xNjY2NjY2NjY2NjY2Njh9fQo=');</script>\n",
       "    "
      ],
      "text/plain": [
       "<IPython.core.display.HTML object>"
      ]
     },
     "metadata": {},
     "output_type": "display_data"
    },
    {
     "data": {
      "text/html": [
       "\n",
       "        <div id=\"B6RTeJRjwCz6NiSK8tTs46\"></div>\n",
       "        <script>netpixi.call('B6RTeJRjwCz6NiSK8tTs46', 'jnM7EkD23DhSANPPE9ZztS', 'changeGraph', 'eyJpZCI6ICJVa3JhaW5lIiwgInR5cGUiOiAidmVydGV4IiwgInByb3BzIjogeyJzaXplIjogNDEuNTU1NTU1NTU1NTU1NTZ9fQo=');</script>\n",
       "    "
      ],
      "text/plain": [
       "<IPython.core.display.HTML object>"
      ]
     },
     "metadata": {},
     "output_type": "display_data"
    },
    {
     "data": {
      "text/html": [
       "\n",
       "        <div id=\"DZbyaG5c6MUkkFh6G9JVfw\"></div>\n",
       "        <script>netpixi.call('DZbyaG5c6MUkkFh6G9JVfw', 'jnM7EkD23DhSANPPE9ZztS', 'changeGraph', 'eyJpZCI6ICJLdXdhaXQiLCAidHlwZSI6ICJ2ZXJ0ZXgiLCAicHJvcHMiOiB7InNpemUiOiAxNy45NDQ0NDQ0NDQ0NDQ0NDN9fQo=');</script>\n",
       "    "
      ],
      "text/plain": [
       "<IPython.core.display.HTML object>"
      ]
     },
     "metadata": {},
     "output_type": "display_data"
    },
    {
     "data": {
      "text/html": [
       "\n",
       "        <div id=\"o7jMPNM5AfZ67wPrTDxRXh\"></div>\n",
       "        <script>netpixi.call('o7jMPNM5AfZ67wPrTDxRXh', 'jnM7EkD23DhSANPPE9ZztS', 'changeGraph', 'eyJpZCI6ICJTb2xvbW9uIElzbGFuZHMiLCAidHlwZSI6ICJ2ZXJ0ZXgiLCAicHJvcHMiOiB7InNpemUiOiAxMy4wfX0K');</script>\n",
       "    "
      ],
      "text/plain": [
       "<IPython.core.display.HTML object>"
      ]
     },
     "metadata": {},
     "output_type": "display_data"
    },
    {
     "data": {
      "text/html": [
       "\n",
       "        <div id=\"bAPkUANjbThw5SLUHihxum\"></div>\n",
       "        <script>netpixi.call('bAPkUANjbThw5SLUHihxum', 'jnM7EkD23DhSANPPE9ZztS', 'changeGraph', 'eyJpZCI6ICJVcnVndWF5IiwgInR5cGUiOiAidmVydGV4IiwgInByb3BzIjogeyJzaXplIjogMTkuMjc3Nzc3Nzc3Nzc3Nzh9fQo=');</script>\n",
       "    "
      ],
      "text/plain": [
       "<IPython.core.display.HTML object>"
      ]
     },
     "metadata": {},
     "output_type": "display_data"
    },
    {
     "data": {
      "text/html": [
       "\n",
       "        <div id=\"4LUKXiN7fkAgEGjX5jMQoi\"></div>\n",
       "        <script>netpixi.call('4LUKXiN7fkAgEGjX5jMQoi', 'jnM7EkD23DhSANPPE9ZztS', 'changeGraph', 'eyJpZCI6ICJWYW51YXR1IiwgInR5cGUiOiAidmVydGV4IiwgInByb3BzIjogeyJzaXplIjogMTMuNDQ0NDQ0NDQ0NDQ0NDQ1fX0K');</script>\n",
       "    "
      ],
      "text/plain": [
       "<IPython.core.display.HTML object>"
      ]
     },
     "metadata": {},
     "output_type": "display_data"
    },
    {
     "data": {
      "text/html": [
       "\n",
       "        <div id=\"FYXN3X9pd937Xg2FvU2hNU\"></div>\n",
       "        <script>netpixi.call('FYXN3X9pd937Xg2FvU2hNU', 'jnM7EkD23DhSANPPE9ZztS', 'changeGraph', 'eyJpZCI6ICJBbmRvcnJhIiwgInR5cGUiOiAidmVydGV4IiwgInByb3BzIjogeyJzaXplIjogMTEuMjIyMjIyMjIyMjIyMjIxfX0K');</script>\n",
       "    "
      ],
      "text/plain": [
       "<IPython.core.display.HTML object>"
      ]
     },
     "metadata": {},
     "output_type": "display_data"
    },
    {
     "data": {
      "text/html": [
       "\n",
       "        <div id=\"f6y7ybgqZbjU8mfuub87zw\"></div>\n",
       "        <script>netpixi.call('f6y7ybgqZbjU8mfuub87zw', 'jnM7EkD23DhSANPPE9ZztS', 'changeGraph', 'eyJpZCI6ICJPbWFuIiwgInR5cGUiOiAidmVydGV4IiwgInByb3BzIjogeyJzaXplIjogMTMuNzc3Nzc3Nzc3Nzc3Nzc5fX0K');</script>\n",
       "    "
      ],
      "text/plain": [
       "<IPython.core.display.HTML object>"
      ]
     },
     "metadata": {},
     "output_type": "display_data"
    },
    {
     "data": {
      "text/html": [
       "\n",
       "        <div id=\"DmjwFEnQg96LTJ2yi2PQzc\"></div>\n",
       "        <script>netpixi.call('DmjwFEnQg96LTJ2yi2PQzc', 'jnM7EkD23DhSANPPE9ZztS', 'changeGraph', 'eyJpZCI6ICJHdXlhbmEiLCAidHlwZSI6ICJ2ZXJ0ZXgiLCAicHJvcHMiOiB7InNpemUiOiAxMi41fX0K');</script>\n",
       "    "
      ],
      "text/plain": [
       "<IPython.core.display.HTML object>"
      ]
     },
     "metadata": {},
     "output_type": "display_data"
    },
    {
     "data": {
      "text/html": [
       "\n",
       "        <div id=\"DSqnd9PjkP3YLzHakr68m6\"></div>\n",
       "        <script>netpixi.call('DSqnd9PjkP3YLzHakr68m6', 'jnM7EkD23DhSANPPE9ZztS', 'changeGraph', 'eyJpZCI6ICJaaW1iYWJ3ZSIsICJ0eXBlIjogInZlcnRleCIsICJwcm9wcyI6IHsic2l6ZSI6IDE1LjV9fQo=');</script>\n",
       "    "
      ],
      "text/plain": [
       "<IPython.core.display.HTML object>"
      ]
     },
     "metadata": {},
     "output_type": "display_data"
    },
    {
     "data": {
      "text/html": [
       "\n",
       "        <div id=\"UngPDKhv9UZZoH3CRwhV6k\"></div>\n",
       "        <script>netpixi.call('UngPDKhv9UZZoH3CRwhV6k', 'jnM7EkD23DhSANPPE9ZztS', 'changeGraph', 'eyJpZCI6ICJTcGFpbiIsICJ0eXBlIjogInZlcnRleCIsICJwcm9wcyI6IHsic2l6ZSI6IDQzLjMzMzMzMzMzMzMzMzMzNn19Cg==');</script>\n",
       "    "
      ],
      "text/plain": [
       "<IPython.core.display.HTML object>"
      ]
     },
     "metadata": {},
     "output_type": "display_data"
    },
    {
     "data": {
      "text/html": [
       "\n",
       "        <div id=\"LfscpgTdzqfuMPfcVdpcn9\"></div>\n",
       "        <script>netpixi.call('LfscpgTdzqfuMPfcVdpcn9', 'jnM7EkD23DhSANPPE9ZztS', 'changeGraph', 'eyJpZCI6ICJWZW5lenVlbGEgKEJvbGl2YXJpYW4gUmVwdWJsaWMgb2YpIiwgInR5cGUiOiAidmVydGV4IiwgInByb3BzIjogeyJzaXplIjogMTguNjY2NjY2NjY2NjY2NjY4fX0K');</script>\n",
       "    "
      ],
      "text/plain": [
       "<IPython.core.display.HTML object>"
      ]
     },
     "metadata": {},
     "output_type": "display_data"
    },
    {
     "data": {
      "text/html": [
       "\n",
       "        <div id=\"9Y2qvqQUe9KkVuCQwTRPRv\"></div>\n",
       "        <script>netpixi.call('9Y2qvqQUe9KkVuCQwTRPRv', 'jnM7EkD23DhSANPPE9ZztS', 'changeGraph', 'eyJpZCI6ICJNb3phbWJpcXVlIiwgInR5cGUiOiAidmVydGV4IiwgInByb3BzIjogeyJzaXplIjogMTQuOTQ0NDQ0NDQ0NDQ0NDQ1fX0K');</script>\n",
       "    "
      ],
      "text/plain": [
       "<IPython.core.display.HTML object>"
      ]
     },
     "metadata": {},
     "output_type": "display_data"
    },
    {
     "data": {
      "text/html": [
       "\n",
       "        <div id=\"g2CmRMZVP73SgHWyZwdtJB\"></div>\n",
       "        <script>netpixi.call('g2CmRMZVP73SgHWyZwdtJB', 'jnM7EkD23DhSANPPE9ZztS', 'changeGraph', 'eyJpZCI6ICJCZWxhcnVzIiwgInR5cGUiOiAidmVydGV4IiwgInByb3BzIjogeyJzaXplIjogMTguNzc3Nzc3Nzc3Nzc3Nzh9fQo=');</script>\n",
       "    "
      ],
      "text/plain": [
       "<IPython.core.display.HTML object>"
      ]
     },
     "metadata": {},
     "output_type": "display_data"
    },
    {
     "data": {
      "text/html": [
       "\n",
       "        <div id=\"fsUxmCwNndif967HVsV83j\"></div>\n",
       "        <script>netpixi.call('fsUxmCwNndif967HVsV83j', 'jnM7EkD23DhSANPPE9ZztS', 'changeGraph', 'eyJpZCI6ICJTYWludC1QaWVycmUtZXQtTWlxdWVsb24iLCAidHlwZSI6ICJ2ZXJ0ZXgiLCAicHJvcHMiOiB7InNpemUiOiAxMS41fX0K');</script>\n",
       "    "
      ],
      "text/plain": [
       "<IPython.core.display.HTML object>"
      ]
     },
     "metadata": {},
     "output_type": "display_data"
    },
    {
     "data": {
      "text/html": [
       "\n",
       "        <div id=\"ZHJ57Ay2wMAQ4BufmDN5Cp\"></div>\n",
       "        <script>netpixi.call('ZHJ57Ay2wMAQ4BufmDN5Cp', 'jnM7EkD23DhSANPPE9ZztS', 'changeGraph', 'eyJpZCI6ICJBbGJhbmlhIiwgInR5cGUiOiAidmVydGV4IiwgInByb3BzIjogeyJzaXplIjogMTkuOTQ0NDQ0NDQ0NDQ0NDQzfX0K');</script>\n",
       "    "
      ],
      "text/plain": [
       "<IPython.core.display.HTML object>"
      ]
     },
     "metadata": {},
     "output_type": "display_data"
    },
    {
     "data": {
      "text/html": [
       "\n",
       "        <div id=\"fRsBGYPaKzsqp75x8k4FTP\"></div>\n",
       "        <script>netpixi.call('fRsBGYPaKzsqp75x8k4FTP', 'jnM7EkD23DhSANPPE9ZztS', 'changeGraph', 'eyJpZCI6ICJDb29rIElzbGFuZHMiLCAidHlwZSI6ICJ2ZXJ0ZXgiLCAicHJvcHMiOiB7InNpemUiOiAxMS4wNTU1NTU1NTU1NTU1NTV9fQo=');</script>\n",
       "    "
      ],
      "text/plain": [
       "<IPython.core.display.HTML object>"
      ]
     },
     "metadata": {},
     "output_type": "display_data"
    },
    {
     "data": {
      "text/html": [
       "\n",
       "        <div id=\"KQM4KdTPeoZ4iCriDrAiWA\"></div>\n",
       "        <script>netpixi.call('KQM4KdTPeoZ4iCriDrAiWA', 'jnM7EkD23DhSANPPE9ZztS', 'changeGraph', 'eyJpZCI6ICJUYWppa2lzdGFuIiwgInR5cGUiOiAidmVydGV4IiwgInByb3BzIjogeyJzaXplIjogMTQuNjY2NjY2NjY2NjY2NjY4fX0K');</script>\n",
       "    "
      ],
      "text/plain": [
       "<IPython.core.display.HTML object>"
      ]
     },
     "metadata": {},
     "output_type": "display_data"
    },
    {
     "data": {
      "text/html": [
       "\n",
       "        <div id=\"7z4TYMjNSa4iXcgYG5XgxF\"></div>\n",
       "        <script>netpixi.call('7z4TYMjNSa4iXcgYG5XgxF', 'jnM7EkD23DhSANPPE9ZztS', 'changeGraph', 'eyJpZCI6ICJGaW5sYW5kIiwgInR5cGUiOiAidmVydGV4IiwgInByb3BzIjogeyJzaXplIjogNDguMH19Cg==');</script>\n",
       "    "
      ],
      "text/plain": [
       "<IPython.core.display.HTML object>"
      ]
     },
     "metadata": {},
     "output_type": "display_data"
    },
    {
     "data": {
      "text/html": [
       "\n",
       "        <div id=\"SyV3jtARxkygMusQYVdULH\"></div>\n",
       "        <script>netpixi.call('SyV3jtARxkygMusQYVdULH', 'jnM7EkD23DhSANPPE9ZztS', 'changeGraph', 'eyJpZCI6ICJTYW4gTWFyaW5vIiwgInR5cGUiOiAidmVydGV4IiwgInByb3BzIjogeyJzaXplIjogMTEuMTY2NjY2NjY2NjY2NjY2fX0K');</script>\n",
       "    "
      ],
      "text/plain": [
       "<IPython.core.display.HTML object>"
      ]
     },
     "metadata": {},
     "output_type": "display_data"
    },
    {
     "data": {
      "text/html": [
       "\n",
       "        <div id=\"LDvq5wPjQhHi6mzCRMAFoa\"></div>\n",
       "        <script>netpixi.call('LDvq5wPjQhHi6mzCRMAFoa', 'jnM7EkD23DhSANPPE9ZztS', 'changeGraph', 'eyJpZCI6ICJNZXhpY28iLCAidHlwZSI6ICJ2ZXJ0ZXgiLCAicHJvcHMiOiB7InNpemUiOiA0NC4yMjIyMjIyMjIyMjIyMn19Cg==');</script>\n",
       "    "
      ],
      "text/plain": [
       "<IPython.core.display.HTML object>"
      ]
     },
     "metadata": {},
     "output_type": "display_data"
    },
    {
     "data": {
      "text/html": [
       "\n",
       "        <div id=\"ag6wraSGEuMpWCMD4xFgXe\"></div>\n",
       "        <script>netpixi.call('ag6wraSGEuMpWCMD4xFgXe', 'jnM7EkD23DhSANPPE9ZztS', 'changeGraph', 'eyJpZCI6ICJOYW1pYmlhIiwgInR5cGUiOiAidmVydGV4IiwgInByb3BzIjogeyJzaXplIjogMTcuMDU1NTU1NTU1NTU1NTU3fX0K');</script>\n",
       "    "
      ],
      "text/plain": [
       "<IPython.core.display.HTML object>"
      ]
     },
     "metadata": {},
     "output_type": "display_data"
    },
    {
     "data": {
      "text/html": [
       "\n",
       "        <div id=\"4Kvj7rkcY5dCQBQ7wUfEuS\"></div>\n",
       "        <script>netpixi.call('4Kvj7rkcY5dCQBQ7wUfEuS', 'jnM7EkD23DhSANPPE9ZztS', 'changeGraph', 'eyJpZCI6ICJDaGluYSwgSG9uZyBLb25nIFNBUiIsICJ0eXBlIjogInZlcnRleCIsICJwcm9wcyI6IHsic2l6ZSI6IDQwLjIyMjIyMjIyMjIyMjIyfX0K');</script>\n",
       "    "
      ],
      "text/plain": [
       "<IPython.core.display.HTML object>"
      ]
     },
     "metadata": {},
     "output_type": "display_data"
    },
    {
     "data": {
      "text/html": [
       "\n",
       "        <div id=\"XVAZ4TgsfhAJZP5i82g3J9\"></div>\n",
       "        <script>netpixi.call('XVAZ4TgsfhAJZP5i82g3J9', 'jnM7EkD23DhSANPPE9ZztS', 'changeGraph', 'eyJpZCI6ICJTYWludCBLaXR0cyBhbmQgTmV2aXMiLCAidHlwZSI6ICJ2ZXJ0ZXgiLCAicHJvcHMiOiB7InNpemUiOiAxNC41NTU1NTU1NTU1NTU1NTV9fQo=');</script>\n",
       "    "
      ],
      "text/plain": [
       "<IPython.core.display.HTML object>"
      ]
     },
     "metadata": {},
     "output_type": "display_data"
    },
    {
     "data": {
      "text/html": [
       "\n",
       "        <div id=\"NrBNoiA9aSunA4KFhxV8uD\"></div>\n",
       "        <script>netpixi.call('NrBNoiA9aSunA4KFhxV8uD', 'jnM7EkD23DhSANPPE9ZztS', 'changeGraph', 'eyJpZCI6ICJGcmVuY2ggUG9seW5lc2lhIiwgInR5cGUiOiAidmVydGV4IiwgInByb3BzIjogeyJzaXplIjogMTEuNDQ0NDQ0NDQ0NDQ0NDQ1fX0K');</script>\n",
       "    "
      ],
      "text/plain": [
       "<IPython.core.display.HTML object>"
      ]
     },
     "metadata": {},
     "output_type": "display_data"
    },
    {
     "data": {
      "text/html": [
       "\n",
       "        <div id=\"MFmDmhJApxf7MiQv96sdcJ\"></div>\n",
       "        <script>netpixi.call('MFmDmhJApxf7MiQv96sdcJ', 'jnM7EkD23DhSANPPE9ZztS', 'changeGraph', 'eyJpZCI6ICJTaW5nYXBvcmUiLCAidHlwZSI6ICJ2ZXJ0ZXgiLCAicHJvcHMiOiB7InNpemUiOiAxNC43Nzc3Nzc3Nzc3Nzc3Nzl9fQo=');</script>\n",
       "    "
      ],
      "text/plain": [
       "<IPython.core.display.HTML object>"
      ]
     },
     "metadata": {},
     "output_type": "display_data"
    },
    {
     "data": {
      "text/html": [
       "\n",
       "        <div id=\"dRypkUDEYs4Kh43Y845aXr\"></div>\n",
       "        <script>netpixi.call('dRypkUDEYs4Kh43Y845aXr', 'jnM7EkD23DhSANPPE9ZztS', 'changeGraph', 'eyJpZCI6ICJDb2xvbWJpYSIsICJ0eXBlIjogInZlcnRleCIsICJwcm9wcyI6IHsic2l6ZSI6IDE3LjU1NTU1NTU1NTU1NTU1N319Cg==');</script>\n",
       "    "
      ],
      "text/plain": [
       "<IPython.core.display.HTML object>"
      ]
     },
     "metadata": {},
     "output_type": "display_data"
    },
    {
     "data": {
      "text/html": [
       "\n",
       "        <div id=\"fobx9AJnn45v5djggzKAUQ\"></div>\n",
       "        <script>netpixi.call('fobx9AJnn45v5djggzKAUQ', 'jnM7EkD23DhSANPPE9ZztS', 'changeGraph', 'eyJpZCI6ICJQb3J0dWdhbCIsICJ0eXBlIjogInZlcnRleCIsICJwcm9wcyI6IHsic2l6ZSI6IDQxLjc3Nzc3Nzc3Nzc3Nzc3fX0K');</script>\n",
       "    "
      ],
      "text/plain": [
       "<IPython.core.display.HTML object>"
      ]
     },
     "metadata": {},
     "output_type": "display_data"
    },
    {
     "data": {
      "text/html": [
       "\n",
       "        <div id=\"5rMJXKJNdLPu6qxAY8CdPn\"></div>\n",
       "        <script>netpixi.call('5rMJXKJNdLPu6qxAY8CdPn', 'jnM7EkD23DhSANPPE9ZztS', 'changeGraph', 'eyJpZCI6ICJJcmFuIChJc2xhbWljIFJlcC4gb2YpIiwgInR5cGUiOiAidmVydGV4IiwgInByb3BzIjogeyJzaXplIjogMTQuMTY2NjY2NjY2NjY2NjY4fX0K');</script>\n",
       "    "
      ],
      "text/plain": [
       "<IPython.core.display.HTML object>"
      ]
     },
     "metadata": {},
     "output_type": "display_data"
    },
    {
     "data": {
      "text/html": [
       "\n",
       "        <div id=\"QxB5h4qGxCtommtmdBEggm\"></div>\n",
       "        <script>netpixi.call('QxB5h4qGxCtommtmdBEggm', 'jnM7EkD23DhSANPPE9ZztS', 'changeGraph', 'eyJpZCI6ICJBbWVyaWNhbiBTYW1vYSIsICJ0eXBlIjogInZlcnRleCIsICJwcm9wcyI6IHsic2l6ZSI6IDEwLjY2NjY2NjY2NjY2NjY2Nn19Cg==');</script>\n",
       "    "
      ],
      "text/plain": [
       "<IPython.core.display.HTML object>"
      ]
     },
     "metadata": {},
     "output_type": "display_data"
    },
    {
     "data": {
      "text/html": [
       "\n",
       "        <div id=\"n4fZSND76GuGPiZGAeTcVa\"></div>\n",
       "        <script>netpixi.call('n4fZSND76GuGPiZGAeTcVa', 'jnM7EkD23DhSANPPE9ZztS', 'changeGraph', 'eyJpZCI6ICJCcml0aXNoIFZpcmdpbiBJc2xhbmRzIiwgInR5cGUiOiAidmVydGV4IiwgInByb3BzIjogeyJzaXplIjogMTIuMjIyMjIyMjIyMjIyMjIxfX0K');</script>\n",
       "    "
      ],
      "text/plain": [
       "<IPython.core.display.HTML object>"
      ]
     },
     "metadata": {},
     "output_type": "display_data"
    },
    {
     "data": {
      "text/html": [
       "\n",
       "        <div id=\"TPRAD82V5Vn3qBs9GZQiq5\"></div>\n",
       "        <script>netpixi.call('TPRAD82V5Vn3qBs9GZQiq5', 'jnM7EkD23DhSANPPE9ZztS', 'changeGraph', 'eyJpZCI6ICJHYWJvbiIsICJ0eXBlIjogInZlcnRleCIsICJwcm9wcyI6IHsic2l6ZSI6IDE1LjgzMzMzMzMzMzMzMzMzNH19Cg==');</script>\n",
       "    "
      ],
      "text/plain": [
       "<IPython.core.display.HTML object>"
      ]
     },
     "metadata": {},
     "output_type": "display_data"
    },
    {
     "data": {
      "text/html": [
       "\n",
       "        <div id=\"CWiReYe3T2UVaBXLuYha8A\"></div>\n",
       "        <script>netpixi.call('CWiReYe3T2UVaBXLuYha8A', 'jnM7EkD23DhSANPPE9ZztS', 'changeGraph', 'eyJpZCI6ICJMYXR2aWEiLCAidHlwZSI6ICJ2ZXJ0ZXgiLCAicHJvcHMiOiB7InNpemUiOiA0OS41NTU1NTU1NTU1NTU1Nn19Cg==');</script>\n",
       "    "
      ],
      "text/plain": [
       "<IPython.core.display.HTML object>"
      ]
     },
     "metadata": {},
     "output_type": "display_data"
    },
    {
     "data": {
      "text/html": [
       "\n",
       "        <div id=\"C83jaiBNturbQtHHnpPnCY\"></div>\n",
       "        <script>netpixi.call('C83jaiBNturbQtHHnpPnCY', 'jnM7EkD23DhSANPPE9ZztS', 'changeGraph', 'eyJpZCI6ICJLYXpha2hzdGFuIiwgInR5cGUiOiAidmVydGV4IiwgInByb3BzIjogeyJzaXplIjogMTQuNX19Cg==');</script>\n",
       "    "
      ],
      "text/plain": [
       "<IPython.core.display.HTML object>"
      ]
     },
     "metadata": {},
     "output_type": "display_data"
    },
    {
     "data": {
      "text/html": [
       "\n",
       "        <div id=\"VtQMuft86d8JGtdcLa7rjE\"></div>\n",
       "        <script>netpixi.call('VtQMuft86d8JGtdcLa7rjE', 'jnM7EkD23DhSANPPE9ZztS', 'changeGraph', 'eyJpZCI6ICJTbG92ZW5pYSIsICJ0eXBlIjogInZlcnRleCIsICJwcm9wcyI6IHsic2l6ZSI6IDQyLjg4ODg4ODg4ODg4ODg4Nn19Cg==');</script>\n",
       "    "
      ],
      "text/plain": [
       "<IPython.core.display.HTML object>"
      ]
     },
     "metadata": {},
     "output_type": "display_data"
    },
    {
     "data": {
      "text/html": [
       "\n",
       "        <div id=\"ES9VKBMSzytEk4hHZTUW5F\"></div>\n",
       "        <script>netpixi.call('ES9VKBMSzytEk4hHZTUW5F', 'jnM7EkD23DhSANPPE9ZztS', 'changeGraph', 'eyJpZCI6ICJBZmdoYW5pc3RhbiIsICJ0eXBlIjogInZlcnRleCIsICJwcm9wcyI6IHsic2l6ZSI6IDE0LjcyMjIyMjIyMjIyMjIyMX19Cg==');</script>\n",
       "    "
      ],
      "text/plain": [
       "<IPython.core.display.HTML object>"
      ]
     },
     "metadata": {},
     "output_type": "display_data"
    },
    {
     "data": {
      "text/html": [
       "\n",
       "        <div id=\"Bb6scjSGr3a5zinUcMcVsZ\"></div>\n",
       "        <script>netpixi.call('Bb6scjSGr3a5zinUcMcVsZ', 'jnM7EkD23DhSANPPE9ZztS', 'changeGraph', 'eyJpZCI6ICJCb3NuaWEgYW5kIEhlcnplZ292aW5hIiwgInR5cGUiOiAidmVydGV4IiwgInByb3BzIjogeyJzaXplIjogMTguOTQ0NDQ0NDQ0NDQ0NDQzfX0K');</script>\n",
       "    "
      ],
      "text/plain": [
       "<IPython.core.display.HTML object>"
      ]
     },
     "metadata": {},
     "output_type": "display_data"
    },
    {
     "data": {
      "text/html": [
       "\n",
       "        <div id=\"6jQg6ncwTKZUH7eGgBfGL6\"></div>\n",
       "        <script>netpixi.call('6jQg6ncwTKZUH7eGgBfGL6', 'jnM7EkD23DhSANPPE9ZztS', 'changeGraph', 'eyJpZCI6ICJNb250c2VycmF0IiwgInR5cGUiOiAidmVydGV4IiwgInByb3BzIjogeyJzaXplIjogMTIuOTQ0NDQ0NDQ0NDQ0NDQ1fX0K');</script>\n",
       "    "
      ],
      "text/plain": [
       "<IPython.core.display.HTML object>"
      ]
     },
     "metadata": {},
     "output_type": "display_data"
    },
    {
     "data": {
      "text/html": [
       "\n",
       "        <div id=\"AVvUFVaHM4WyT8YvBSfNd7\"></div>\n",
       "        <script>netpixi.call('AVvUFVaHM4WyT8YvBSfNd7', 'jnM7EkD23DhSANPPE9ZztS', 'changeGraph', 'eyJpZCI6ICJQYWtpc3RhbiIsICJ0eXBlIjogInZlcnRleCIsICJwcm9wcyI6IHsic2l6ZSI6IDE4Ljg4ODg4ODg4ODg4ODg5fX0K');</script>\n",
       "    "
      ],
      "text/plain": [
       "<IPython.core.display.HTML object>"
      ]
     },
     "metadata": {},
     "output_type": "display_data"
    },
    {
     "data": {
      "text/html": [
       "\n",
       "        <div id=\"RTA3sU5QqQyTaJ4CKZwfBV\"></div>\n",
       "        <script>netpixi.call('RTA3sU5QqQyTaJ4CKZwfBV', 'jnM7EkD23DhSANPPE9ZztS', 'changeGraph', 'eyJpZCI6ICJIdW5nYXJ5IiwgInR5cGUiOiAidmVydGV4IiwgInByb3BzIjogeyJzaXplIjogNDUuNzc3Nzc3Nzc3Nzc3Nzd9fQo=');</script>\n",
       "    "
      ],
      "text/plain": [
       "<IPython.core.display.HTML object>"
      ]
     },
     "metadata": {},
     "output_type": "display_data"
    },
    {
     "data": {
      "text/html": [
       "\n",
       "        <div id=\"miUmt8jah6s8yF6SawknTb\"></div>\n",
       "        <script>netpixi.call('miUmt8jah6s8yF6SawknTb', 'jnM7EkD23DhSANPPE9ZztS', 'changeGraph', 'eyJpZCI6ICJCZW5pbiIsICJ0eXBlIjogInZlcnRleCIsICJwcm9wcyI6IHsic2l6ZSI6IDE2LjgzMzMzMzMzMzMzMzMzNn19Cg==');</script>\n",
       "    "
      ],
      "text/plain": [
       "<IPython.core.display.HTML object>"
      ]
     },
     "metadata": {},
     "output_type": "display_data"
    },
    {
     "data": {
      "text/html": [
       "\n",
       "        <div id=\"Yoc5qzXvdW6V8e8t6UggmC\"></div>\n",
       "        <script>netpixi.call('Yoc5qzXvdW6V8e8t6UggmC', 'jnM7EkD23DhSANPPE9ZztS', 'changeGraph', 'eyJpZCI6ICJTeXJpYW4gQXJhYiBSZXAuIiwgInR5cGUiOiAidmVydGV4IiwgInByb3BzIjogeyJzaXplIjogNDIuNjY2NjY2NjY2NjY2NjY0fX0K');</script>\n",
       "    "
      ],
      "text/plain": [
       "<IPython.core.display.HTML object>"
      ]
     },
     "metadata": {},
     "output_type": "display_data"
    },
    {
     "data": {
      "text/html": [
       "\n",
       "        <div id=\"WAfYKrkZvre6XzVwhEabRv\"></div>\n",
       "        <script>netpixi.call('WAfYKrkZvre6XzVwhEabRv', 'jnM7EkD23DhSANPPE9ZztS', 'changeGraph', 'eyJpZCI6ICJQYWxlc3RpbmlhbiIsICJ0eXBlIjogInZlcnRleCIsICJwcm9wcyI6IHsic2l6ZSI6IDEwLjE2NjY2NjY2NjY2NjY2Nn19Cg==');</script>\n",
       "    "
      ],
      "text/plain": [
       "<IPython.core.display.HTML object>"
      ]
     },
     "metadata": {},
     "output_type": "display_data"
    },
    {
     "data": {
      "text/html": [
       "\n",
       "        <div id=\"SUq9ZNY27rks8Jk9hTAiNy\"></div>\n",
       "        <script>netpixi.call('SUq9ZNY27rks8Jk9hTAiNy', 'jnM7EkD23DhSANPPE9ZztS', 'changeGraph', 'eyJpZCI6ICJNYXJzaGFsbCBJc2xhbmRzIiwgInR5cGUiOiAidmVydGV4IiwgInByb3BzIjogeyJzaXplIjogMTAuODMzMzMzMzMzMzMzMzM0fX0K');</script>\n",
       "    "
      ],
      "text/plain": [
       "<IPython.core.display.HTML object>"
      ]
     },
     "metadata": {},
     "output_type": "display_data"
    },
    {
     "data": {
      "text/html": [
       "\n",
       "        <div id=\"8XSsxKGUg4iT9ipxY5gVpY\"></div>\n",
       "        <script>netpixi.call('8XSsxKGUg4iT9ipxY5gVpY', 'jnM7EkD23DhSANPPE9ZztS', 'changeGraph', 'eyJpZCI6ICJHYW1iaWEiLCAidHlwZSI6ICJ2ZXJ0ZXgiLCAicHJvcHMiOiB7InNpemUiOiAxNC4xMTExMTExMTExMTExMX19Cg==');</script>\n",
       "    "
      ],
      "text/plain": [
       "<IPython.core.display.HTML object>"
      ]
     },
     "metadata": {},
     "output_type": "display_data"
    },
    {
     "data": {
      "text/html": [
       "\n",
       "        <div id=\"7CkDDUBewit9SFMnafnyZR\"></div>\n",
       "        <script>netpixi.call('7CkDDUBewit9SFMnafnyZR', 'jnM7EkD23DhSANPPE9ZztS', 'changeGraph', 'eyJpZCI6ICJMaWVjaHRlbnN0ZWluIiwgInR5cGUiOiAidmVydGV4IiwgInByb3BzIjogeyJzaXplIjogNDIuMH19Cg==');</script>\n",
       "    "
      ],
      "text/plain": [
       "<IPython.core.display.HTML object>"
      ]
     },
     "metadata": {},
     "output_type": "display_data"
    },
    {
     "data": {
      "text/html": [
       "\n",
       "        <div id=\"FXKYFxsxMDvJhu2HYnJfyt\"></div>\n",
       "        <script>netpixi.call('FXKYFxsxMDvJhu2HYnJfyt', 'jnM7EkD23DhSANPPE9ZztS', 'changeGraph', 'eyJpZCI6ICJDaGluYSwgTWFjYW8gU0FSIiwgInR5cGUiOiAidmVydGV4IiwgInByb3BzIjogeyJzaXplIjogMTUuMH19Cg==');</script>\n",
       "    "
      ],
      "text/plain": [
       "<IPython.core.display.HTML object>"
      ]
     },
     "metadata": {},
     "output_type": "display_data"
    },
    {
     "data": {
      "text/html": [
       "\n",
       "        <div id=\"EAiQQML69RaQ2EwJb6hD6L\"></div>\n",
       "        <script>netpixi.call('EAiQQML69RaQ2EwJb6hD6L', 'jnM7EkD23DhSANPPE9ZztS', 'changeGraph', 'eyJpZCI6ICJMaXRodWFuaWEiLCAidHlwZSI6ICJ2ZXJ0ZXgiLCAicHJvcHMiOiB7InNpemUiOiAxOS4xNjY2NjY2NjY2NjY2Njh9fQo=');</script>\n",
       "    "
      ],
      "text/plain": [
       "<IPython.core.display.HTML object>"
      ]
     },
     "metadata": {},
     "output_type": "display_data"
    },
    {
     "data": {
      "text/html": [
       "\n",
       "        <div id=\"dc5FsPSJdL2RYMESB2yN3f\"></div>\n",
       "        <script>netpixi.call('dc5FsPSJdL2RYMESB2yN3f', 'jnM7EkD23DhSANPPE9ZztS', 'changeGraph', 'eyJpZCI6ICJBcnViYSIsICJ0eXBlIjogInZlcnRleCIsICJwcm9wcyI6IHsic2l6ZSI6IDEzLjI3Nzc3Nzc3Nzc3Nzc3OX19Cg==');</script>\n",
       "    "
      ],
      "text/plain": [
       "<IPython.core.display.HTML object>"
      ]
     },
     "metadata": {},
     "output_type": "display_data"
    },
    {
     "data": {
      "text/html": [
       "\n",
       "        <div id=\"U943EqWM8rjpFKKNL7MaB2\"></div>\n",
       "        <script>netpixi.call('U943EqWM8rjpFKKNL7MaB2', 'jnM7EkD23DhSANPPE9ZztS', 'changeGraph', 'eyJpZCI6ICJOaWdlciIsICJ0eXBlIjogInZlcnRleCIsICJwcm9wcyI6IHsic2l6ZSI6IDE2LjExMTExMTExMTExMTExfX0K');</script>\n",
       "    "
      ],
      "text/plain": [
       "<IPython.core.display.HTML object>"
      ]
     },
     "metadata": {},
     "output_type": "display_data"
    },
    {
     "data": {
      "text/html": [
       "\n",
       "        <div id=\"TBZhwuF3xTWxxrxr6R2dRU\"></div>\n",
       "        <script>netpixi.call('TBZhwuF3xTWxxrxr6R2dRU', 'jnM7EkD23DhSANPPE9ZztS', 'changeGraph', 'eyJpZCI6ICJFc3RvbmlhIiwgInR5cGUiOiAidmVydGV4IiwgInByb3BzIjogeyJzaXplIjogMTcuODMzMzMzMzMzMzMzMzMyfX0K');</script>\n",
       "    "
      ],
      "text/plain": [
       "<IPython.core.display.HTML object>"
      ]
     },
     "metadata": {},
     "output_type": "display_data"
    },
    {
     "data": {
      "text/html": [
       "\n",
       "        <div id=\"TMaUzsWFdqHhXzEnFGJECP\"></div>\n",
       "        <script>netpixi.call('TMaUzsWFdqHhXzEnFGJECP', 'jnM7EkD23DhSANPPE9ZztS', 'changeGraph', 'eyJpZCI6ICJMYW8gUGVvcGxlJ3MgRGVtLiBSZXAuIiwgInR5cGUiOiAidmVydGV4IiwgInByb3BzIjogeyJzaXplIjogMTIuNjY2NjY2NjY2NjY2NjY2fX0K');</script>\n",
       "    "
      ],
      "text/plain": [
       "<IPython.core.display.HTML object>"
      ]
     },
     "metadata": {},
     "output_type": "display_data"
    },
    {
     "data": {
      "text/html": [
       "\n",
       "        <div id=\"63P3cQLdMrgc4VDcR6qCCq\"></div>\n",
       "        <script>netpixi.call('63P3cQLdMrgc4VDcR6qCCq', 'jnM7EkD23DhSANPPE9ZztS', 'changeGraph', 'eyJpZCI6ICJNb3JvY2NvIiwgInR5cGUiOiAidmVydGV4IiwgInByb3BzIjogeyJzaXplIjogMTkuNjY2NjY2NjY2NjY2NjY0fX0K');</script>\n",
       "    "
      ],
      "text/plain": [
       "<IPython.core.display.HTML object>"
      ]
     },
     "metadata": {},
     "output_type": "display_data"
    },
    {
     "data": {
      "text/html": [
       "\n",
       "        <div id=\"AbYcNSSn5hUQ3NjmQQknET\"></div>\n",
       "        <script>netpixi.call('AbYcNSSn5hUQ3NjmQQknET', 'jnM7EkD23DhSANPPE9ZztS', 'changeGraph', 'eyJpZCI6ICJTYXVkaSBBcmFiaWEiLCAidHlwZSI6ICJ2ZXJ0ZXgiLCAicHJvcHMiOiB7InNpemUiOiAxNy4xMTExMTExMTExMTExMX19Cg==');</script>\n",
       "    "
      ],
      "text/plain": [
       "<IPython.core.display.HTML object>"
      ]
     },
     "metadata": {},
     "output_type": "display_data"
    },
    {
     "data": {
      "text/html": [
       "\n",
       "        <div id=\"A9TpYNGEDtMeKpv9gosbBY\"></div>\n",
       "        <script>netpixi.call('A9TpYNGEDtMeKpv9gosbBY', 'jnM7EkD23DhSANPPE9ZztS', 'changeGraph', 'eyJpZCI6ICJEZW0uIFJlcC4gb2YgdGhlIENvbmdvIiwgInR5cGUiOiAidmVydGV4IiwgInByb3BzIjogeyJzaXplIjogMTcuMH19Cg==');</script>\n",
       "    "
      ],
      "text/plain": [
       "<IPython.core.display.HTML object>"
      ]
     },
     "metadata": {},
     "output_type": "display_data"
    },
    {
     "data": {
      "text/html": [
       "\n",
       "        <div id=\"3wggEdmcfLyoGjyZaKjiUa\"></div>\n",
       "        <script>netpixi.call('3wggEdmcfLyoGjyZaKjiUa', 'jnM7EkD23DhSANPPE9ZztS', 'changeGraph', 'eyJpZCI6ICJUcmluaWRhZCBhbmQgVG9iYWdvIiwgInR5cGUiOiAidmVydGV4IiwgInByb3BzIjogeyJzaXplIjogMTUuNjY2NjY2NjY2NjY2NjY2fX0K');</script>\n",
       "    "
      ],
      "text/plain": [
       "<IPython.core.display.HTML object>"
      ]
     },
     "metadata": {},
     "output_type": "display_data"
    },
    {
     "data": {
      "text/html": [
       "\n",
       "        <div id=\"gi8TdvrFAMQFHkUziaLhac\"></div>\n",
       "        <script>netpixi.call('gi8TdvrFAMQFHkUziaLhac', 'jnM7EkD23DhSANPPE9ZztS', 'changeGraph', 'eyJpZCI6ICJJcmVsYW5kIiwgInR5cGUiOiAidmVydGV4IiwgInByb3BzIjogeyJzaXplIjogNDcuNTU1NTU1NTU1NTU1NTZ9fQo=');</script>\n",
       "    "
      ],
      "text/plain": [
       "<IPython.core.display.HTML object>"
      ]
     },
     "metadata": {},
     "output_type": "display_data"
    },
    {
     "data": {
      "text/html": [
       "\n",
       "        <div id=\"8kWM6MMd3GCn7TvFfhC84E\"></div>\n",
       "        <script>netpixi.call('8kWM6MMd3GCn7TvFfhC84E', 'jnM7EkD23DhSANPPE9ZztS', 'changeGraph', 'eyJpZCI6ICJOZXcgWmVhbGFuZCIsICJ0eXBlIjogInZlcnRleCIsICJwcm9wcyI6IHsic2l6ZSI6IDQ0LjB9fQo=');</script>\n",
       "    "
      ],
      "text/plain": [
       "<IPython.core.display.HTML object>"
      ]
     },
     "metadata": {},
     "output_type": "display_data"
    },
    {
     "data": {
      "text/html": [
       "\n",
       "        <div id=\"iommp3kBMTs9VonYZMsijt\"></div>\n",
       "        <script>netpixi.call('iommp3kBMTs9VonYZMsijt', 'jnM7EkD23DhSANPPE9ZztS', 'changeGraph', 'eyJpZCI6ICJTb21hbGlhIiwgInR5cGUiOiAidmVydGV4IiwgInByb3BzIjogeyJzaXplIjogMTYuMTY2NjY2NjY2NjY2NjY4fX0K');</script>\n",
       "    "
      ],
      "text/plain": [
       "<IPython.core.display.HTML object>"
      ]
     },
     "metadata": {},
     "output_type": "display_data"
    },
    {
     "data": {
      "text/html": [
       "\n",
       "        <div id=\"kJyKkJ7ARxiGoG9PLpzbUZ\"></div>\n",
       "        <script>netpixi.call('kJyKkJ7ARxiGoG9PLpzbUZ', 'jnM7EkD23DhSANPPE9ZztS', 'changeGraph', 'eyJpZCI6ICJCb25haXJlIiwgInR5cGUiOiAidmVydGV4IiwgInByb3BzIjogeyJzaXplIjogMTIuMjc3Nzc3Nzc3Nzc3Nzc5fX0K');</script>\n",
       "    "
      ],
      "text/plain": [
       "<IPython.core.display.HTML object>"
      ]
     },
     "metadata": {},
     "output_type": "display_data"
    },
    {
     "data": {
      "text/html": [
       "\n",
       "        <div id=\"E8J9EAMc8UymYrhPeDjicb\"></div>\n",
       "        <script>netpixi.call('E8J9EAMc8UymYrhPeDjicb', 'jnM7EkD23DhSANPPE9ZztS', 'changeGraph', 'eyJpZCI6ICJTYW8gVG9tZSBhbmQgUHJpbmNpcGUiLCAidHlwZSI6ICJ2ZXJ0ZXgiLCAicHJvcHMiOiB7InNpemUiOiAxMC44ODg4ODg4ODg4ODg4OX19Cg==');</script>\n",
       "    "
      ],
      "text/plain": [
       "<IPython.core.display.HTML object>"
      ]
     },
     "metadata": {},
     "output_type": "display_data"
    },
    {
     "data": {
      "text/html": [
       "\n",
       "        <div id=\"MtvxgYiiL6ecaByzHFxkJx\"></div>\n",
       "        <script>netpixi.call('MtvxgYiiL6ecaByzHFxkJx', 'jnM7EkD23DhSANPPE9ZztS', 'changeGraph', 'eyJpZCI6ICJJcmFxIiwgInR5cGUiOiAidmVydGV4IiwgInByb3BzIjogeyJzaXplIjogMTUuNTU1NTU1NTU1NTU1NTU1fX0K');</script>\n",
       "    "
      ],
      "text/plain": [
       "<IPython.core.display.HTML object>"
      ]
     },
     "metadata": {},
     "output_type": "display_data"
    },
    {
     "data": {
      "text/html": [
       "\n",
       "        <div id=\"7nUKJZWEmQXUGep6NMkrVX\"></div>\n",
       "        <script>netpixi.call('7nUKJZWEmQXUGep6NMkrVX', 'jnM7EkD23DhSANPPE9ZztS', 'changeGraph', 'eyJpZCI6ICJOaXVlIiwgInR5cGUiOiAidmVydGV4IiwgInByb3BzIjogeyJzaXplIjogMTAuMzMzMzMzMzMzMzMzMzM0fX0K');</script>\n",
       "    "
      ],
      "text/plain": [
       "<IPython.core.display.HTML object>"
      ]
     },
     "metadata": {},
     "output_type": "display_data"
    },
    {
     "data": {
      "text/html": [
       "\n",
       "        <div id=\"CRPfiSFG3pvdPoccpsovmp\"></div>\n",
       "        <script>netpixi.call('CRPfiSFG3pvdPoccpsovmp', 'jnM7EkD23DhSANPPE9ZztS', 'changeGraph', 'eyJpZCI6ICJTdWRhbiIsICJ0eXBlIjogInZlcnRleCIsICJwcm9wcyI6IHsic2l6ZSI6IDE3Ljc3Nzc3Nzc3Nzc3Nzc4fX0K');</script>\n",
       "    "
      ],
      "text/plain": [
       "<IPython.core.display.HTML object>"
      ]
     },
     "metadata": {},
     "output_type": "display_data"
    },
    {
     "data": {
      "text/html": [
       "\n",
       "        <div id=\"7JQwiKK8iYNrw8QFt9iZ82\"></div>\n",
       "        <script>netpixi.call('7JQwiKK8iYNrw8QFt9iZ82', 'jnM7EkD23DhSANPPE9ZztS', 'changeGraph', 'eyJpZCI6ICJTZW5lZ2FsIiwgInR5cGUiOiAidmVydGV4IiwgInByb3BzIjogeyJzaXplIjogMTYuNzIyMjIyMjIyMjIyMjJ9fQo=');</script>\n",
       "    "
      ],
      "text/plain": [
       "<IPython.core.display.HTML object>"
      ]
     },
     "metadata": {},
     "output_type": "display_data"
    },
    {
     "data": {
      "text/html": [
       "\n",
       "        <div id=\"DvomadxVeheMvWAx59jodB\"></div>\n",
       "        <script>netpixi.call('DvomadxVeheMvWAx59jodB', 'jnM7EkD23DhSANPPE9ZztS', 'changeGraph', 'eyJpZCI6ICJHZXJtYW55IiwgInR5cGUiOiAidmVydGV4IiwgInByb3BzIjogeyJzaXplIjogNDcuNzc3Nzc3Nzc3Nzc3Nzh9fQo=');</script>\n",
       "    "
      ],
      "text/plain": [
       "<IPython.core.display.HTML object>"
      ]
     },
     "metadata": {},
     "output_type": "display_data"
    },
    {
     "data": {
      "text/html": [
       "\n",
       "        <div id=\"BscRu5Cg5sK6F8xsDmBWup\"></div>\n",
       "        <script>netpixi.call('BscRu5Cg5sK6F8xsDmBWup', 'jnM7EkD23DhSANPPE9ZztS', 'changeGraph', 'eyJpZCI6ICJQZXJ1IiwgInR5cGUiOiAidmVydGV4IiwgInByb3BzIjogeyJzaXplIjogNDMuMTExMTExMTExMTExMTF9fQo=');</script>\n",
       "    "
      ],
      "text/plain": [
       "<IPython.core.display.HTML object>"
      ]
     },
     "metadata": {},
     "output_type": "display_data"
    },
    {
     "data": {
      "text/html": [
       "\n",
       "        <div id=\"Aywc5zXd42cGz67rvgmy52\"></div>\n",
       "        <script>netpixi.call('Aywc5zXd42cGz67rvgmy52', 'jnM7EkD23DhSANPPE9ZztS', 'changeGraph', 'eyJpZCI6ICJDYW1ib2RpYSIsICJ0eXBlIjogInZlcnRleCIsICJwcm9wcyI6IHsic2l6ZSI6IDE1LjExMTExMTExMTExMTExfX0K');</script>\n",
       "    "
      ],
      "text/plain": [
       "<IPython.core.display.HTML object>"
      ]
     },
     "metadata": {},
     "output_type": "display_data"
    },
    {
     "data": {
      "text/html": [
       "\n",
       "        <div id=\"kZ5p5nU6sKPupcFp9A5Gr4\"></div>\n",
       "        <script>netpixi.call('kZ5p5nU6sKPupcFp9A5Gr4', 'jnM7EkD23DhSANPPE9ZztS', 'changeGraph', 'eyJpZCI6ICJOZXBhbCIsICJ0eXBlIjogInZlcnRleCIsICJwcm9wcyI6IHsic2l6ZSI6IDE2LjI3Nzc3Nzc3Nzc3Nzc4fX0K');</script>\n",
       "    "
      ],
      "text/plain": [
       "<IPython.core.display.HTML object>"
      ]
     },
     "metadata": {},
     "output_type": "display_data"
    },
    {
     "data": {
      "text/html": [
       "\n",
       "        <div id=\"6tjQ46UzAcCys8jtg3mHQ4\"></div>\n",
       "        <script>netpixi.call('6tjQ46UzAcCys8jtg3mHQ4', 'jnM7EkD23DhSANPPE9ZztS', 'changeGraph', 'eyJpZCI6ICJEamlib3V0aSIsICJ0eXBlIjogInZlcnRleCIsICJwcm9wcyI6IHsic2l6ZSI6IDE0LjI3Nzc3Nzc3Nzc3Nzc3OX19Cg==');</script>\n",
       "    "
      ],
      "text/plain": [
       "<IPython.core.display.HTML object>"
      ]
     },
     "metadata": {},
     "output_type": "display_data"
    },
    {
     "data": {
      "text/html": [
       "\n",
       "        <div id=\"4igKa8R8354PE6YC3wjF4D\"></div>\n",
       "        <script>netpixi.call('4igKa8R8354PE6YC3wjF4D', 'jnM7EkD23DhSANPPE9ZztS', 'changeGraph', 'eyJpZCI6ICJUdXJrbWVuaXN0YW4iLCAidHlwZSI6ICJ2ZXJ0ZXgiLCAicHJvcHMiOiB7InNpemUiOiAxMy4zMzMzMzMzMzMzMzMzMzR9fQo=');</script>\n",
       "    "
      ],
      "text/plain": [
       "<IPython.core.display.HTML object>"
      ]
     },
     "metadata": {},
     "output_type": "display_data"
    },
    {
     "data": {
      "text/html": [
       "\n",
       "        <div id=\"ehJaNV3CkBgU4gcHiptp9J\"></div>\n",
       "        <script>netpixi.call('ehJaNV3CkBgU4gcHiptp9J', 'jnM7EkD23DhSANPPE9ZztS', 'changeGraph', 'eyJpZCI6ICJHcmVlY2UiLCAidHlwZSI6ICJ2ZXJ0ZXgiLCAicHJvcHMiOiB7InNpemUiOiA0Mi4yMjIyMjIyMjIyMjIyMn19Cg==');</script>\n",
       "    "
      ],
      "text/plain": [
       "<IPython.core.display.HTML object>"
      ]
     },
     "metadata": {},
     "output_type": "display_data"
    },
    {
     "data": {
      "text/html": [
       "\n",
       "        <div id=\"FJoN4iBLM8P9uX3WumLHfy\"></div>\n",
       "        <script>netpixi.call('FJoN4iBLM8P9uX3WumLHfy', 'jnM7EkD23DhSANPPE9ZztS', 'changeGraph', 'eyJpZCI6ICJBbGdlcmlhIiwgInR5cGUiOiAidmVydGV4IiwgInByb3BzIjogeyJzaXplIjogMTguNjExMTExMTExMTExMTF9fQo=');</script>\n",
       "    "
      ],
      "text/plain": [
       "<IPython.core.display.HTML object>"
      ]
     },
     "metadata": {},
     "output_type": "display_data"
    },
    {
     "data": {
      "text/html": [
       "\n",
       "        <div id=\"Eh22TD2cYhyg95sfUYA5an\"></div>\n",
       "        <script>netpixi.call('Eh22TD2cYhyg95sfUYA5an', 'jnM7EkD23DhSANPPE9ZztS', 'changeGraph', 'eyJpZCI6ICJQb2xhbmQiLCAidHlwZSI6ICJ2ZXJ0ZXgiLCAicHJvcHMiOiB7InNpemUiOiA0NS41NTU1NTU1NTU1NTU1Nn19Cg==');</script>\n",
       "    "
      ],
      "text/plain": [
       "<IPython.core.display.HTML object>"
      ]
     },
     "metadata": {},
     "output_type": "display_data"
    },
    {
     "data": {
      "text/html": [
       "\n",
       "        <div id=\"QGfPzqTyhS4oehmmt9TanC\"></div>\n",
       "        <script>netpixi.call('QGfPzqTyhS4oehmmt9TanC', 'jnM7EkD23DhSANPPE9ZztS', 'changeGraph', 'eyJpZCI6ICJUb2dvIiwgInR5cGUiOiAidmVydGV4IiwgInByb3BzIjogeyJzaXplIjogMTYuMjIyMjIyMjIyMjIyMjJ9fQo=');</script>\n",
       "    "
      ],
      "text/plain": [
       "<IPython.core.display.HTML object>"
      ]
     },
     "metadata": {},
     "output_type": "display_data"
    },
    {
     "data": {
      "text/html": [
       "\n",
       "        <div id=\"YBo5r4sRTqB8ub2JjvKA5P\"></div>\n",
       "        <script>netpixi.call('YBo5r4sRTqB8ub2JjvKA5P', 'jnM7EkD23DhSANPPE9ZztS', 'changeGraph', 'eyJpZCI6ICJTZXljaGVsbGVzIiwgInR5cGUiOiAidmVydGV4IiwgInByb3BzIjogeyJzaXplIjogMTAuNzc3Nzc3Nzc3Nzc3Nzc5fX0K');</script>\n",
       "    "
      ],
      "text/plain": [
       "<IPython.core.display.HTML object>"
      ]
     },
     "metadata": {},
     "output_type": "display_data"
    },
    {
     "data": {
      "text/html": [
       "\n",
       "        <div id=\"ZfvtCptTdPgPFgPmzq3gZv\"></div>\n",
       "        <script>netpixi.call('ZfvtCptTdPgPFgPmzq3gZv', 'jnM7EkD23DhSANPPE9ZztS', 'changeGraph', 'eyJpZCI6ICJWaWV0IE5hbSIsICJ0eXBlIjogInZlcnRleCIsICJwcm9wcyI6IHsic2l6ZSI6IDExLjM4ODg4ODg4ODg4ODg5fX0K');</script>\n",
       "    "
      ],
      "text/plain": [
       "<IPython.core.display.HTML object>"
      ]
     },
     "metadata": {},
     "output_type": "display_data"
    },
    {
     "data": {
      "text/html": [
       "\n",
       "        <div id=\"bcD6r3YxsLzRQE3Nw5Gt23\"></div>\n",
       "        <script>netpixi.call('bcD6r3YxsLzRQE3Nw5Gt23', 'jnM7EkD23DhSANPPE9ZztS', 'changeGraph', 'eyJpZCI6ICJCYXJiYWRvcyIsICJ0eXBlIjogInZlcnRleCIsICJwcm9wcyI6IHsic2l6ZSI6IDEyLjM4ODg4ODg4ODg4ODg5fX0K');</script>\n",
       "    "
      ],
      "text/plain": [
       "<IPython.core.display.HTML object>"
      ]
     },
     "metadata": {},
     "output_type": "display_data"
    },
    {
     "data": {
      "text/html": [
       "\n",
       "        <div id=\"dhhYT3nZHjtd7ajN8bTni9\"></div>\n",
       "        <script>netpixi.call('dhhYT3nZHjtd7ajN8bTni9', 'jnM7EkD23DhSANPPE9ZztS', 'changeGraph', 'eyJpZCI6ICJOaWdlcmlhIiwgInR5cGUiOiAidmVydGV4IiwgInByb3BzIjogeyJzaXplIjogMTcuNjExMTExMTExMTExMTF9fQo=');</script>\n",
       "    "
      ],
      "text/plain": [
       "<IPython.core.display.HTML object>"
      ]
     },
     "metadata": {},
     "output_type": "display_data"
    },
    {
     "data": {
      "text/html": [
       "\n",
       "        <div id=\"Xy7ExceYmqiT3QuMbxNF2c\"></div>\n",
       "        <script>netpixi.call('Xy7ExceYmqiT3QuMbxNF2c', 'jnM7EkD23DhSANPPE9ZztS', 'changeGraph', 'eyJpZCI6ICJTaW50IE1hYXJ0ZW4gKER1dGNoIHBhcnQpIiwgInR5cGUiOiAidmVydGV4IiwgInByb3BzIjogeyJzaXplIjogMTQuMzg4ODg4ODg4ODg4ODl9fQo=');</script>\n",
       "    "
      ],
      "text/plain": [
       "<IPython.core.display.HTML object>"
      ]
     },
     "metadata": {},
     "output_type": "display_data"
    },
    {
     "data": {
      "text/html": [
       "\n",
       "        <div id=\"NFRprGx24664bbTdxzLyAA\"></div>\n",
       "        <script>netpixi.call('NFRprGx24664bbTdxzLyAA', 'jnM7EkD23DhSANPPE9ZztS', 'changeGraph', 'eyJpZCI6ICJFcml0cmVhIiwgInR5cGUiOiAidmVydGV4IiwgInByb3BzIjogeyJzaXplIjogMTIuNzc3Nzc3Nzc3Nzc3Nzc5fX0K');</script>\n",
       "    "
      ],
      "text/plain": [
       "<IPython.core.display.HTML object>"
      ]
     },
     "metadata": {},
     "output_type": "display_data"
    },
    {
     "data": {
      "text/html": [
       "\n",
       "        <div id=\"a56FrLcCuwemEFDxJj2qmM\"></div>\n",
       "        <script>netpixi.call('a56FrLcCuwemEFDxJj2qmM', 'jnM7EkD23DhSANPPE9ZztS', 'changeGraph', 'eyJpZCI6ICJCYW5nbGFkZXNoIiwgInR5cGUiOiAidmVydGV4IiwgInByb3BzIjogeyJzaXplIjogMTIuNzIyMjIyMjIyMjIyMjIxfX0K');</script>\n",
       "    "
      ],
      "text/plain": [
       "<IPython.core.display.HTML object>"
      ]
     },
     "metadata": {},
     "output_type": "display_data"
    },
    {
     "data": {
      "text/html": [
       "\n",
       "        <div id=\"WefbMh44eyPDohvtqTRCwa\"></div>\n",
       "        <script>netpixi.call('WefbMh44eyPDohvtqTRCwa', 'jnM7EkD23DhSANPPE9ZztS', 'changeGraph', 'eyJpZCI6ICJTYW1vYSIsICJ0eXBlIjogInZlcnRleCIsICJwcm9wcyI6IHsic2l6ZSI6IDExLjg4ODg4ODg4ODg4ODg5fX0K');</script>\n",
       "    "
      ],
      "text/plain": [
       "<IPython.core.display.HTML object>"
      ]
     },
     "metadata": {},
     "output_type": "display_data"
    },
    {
     "data": {
      "text/html": [
       "\n",
       "        <div id=\"ZP6sQTHaNVXUCznUXfVzaN\"></div>\n",
       "        <script>netpixi.call('ZP6sQTHaNVXUCznUXfVzaN', 'jnM7EkD23DhSANPPE9ZztS', 'changeGraph', 'eyJpZCI6ICJSdXNzaWFuIEZlZGVyYXRpb24iLCAidHlwZSI6ICJ2ZXJ0ZXgiLCAicHJvcHMiOiB7InNpemUiOiAxOS42MTExMTExMTExMTExMX19Cg==');</script>\n",
       "    "
      ],
      "text/plain": [
       "<IPython.core.display.HTML object>"
      ]
     },
     "metadata": {},
     "output_type": "display_data"
    },
    {
     "data": {
      "text/html": [
       "\n",
       "        <div id=\"RQaQUqQ4tMQu9qucH72fco\"></div>\n",
       "        <script>netpixi.call('RQaQUqQ4tMQu9qucH72fco', 'jnM7EkD23DhSANPPE9ZztS', 'changeGraph', 'eyJpZCI6ICJUaGFpbGFuZCIsICJ0eXBlIjogInZlcnRleCIsICJwcm9wcyI6IHsic2l6ZSI6IDE5LjIyMjIyMjIyMjIyMjIyfX0K');</script>\n",
       "    "
      ],
      "text/plain": [
       "<IPython.core.display.HTML object>"
      ]
     },
     "metadata": {},
     "output_type": "display_data"
    },
    {
     "data": {
      "text/html": [
       "\n",
       "        <div id=\"kTrxPkCNTvjckGkc95Bxfm\"></div>\n",
       "        <script>netpixi.call('kTrxPkCNTvjckGkc95Bxfm', 'jnM7EkD23DhSANPPE9ZztS', 'changeGraph', 'eyJpZCI6ICJEb21pbmljYW4gUmVwLiIsICJ0eXBlIjogInZlcnRleCIsICJwcm9wcyI6IHsic2l6ZSI6IDE1LjA1NTU1NTU1NTU1NTU1NX19Cg==');</script>\n",
       "    "
      ],
      "text/plain": [
       "<IPython.core.display.HTML object>"
      ]
     },
     "metadata": {},
     "output_type": "display_data"
    },
    {
     "data": {
      "text/html": [
       "\n",
       "        <div id=\"d5K7wBkPFkEneyC4GuUPuc\"></div>\n",
       "        <script>netpixi.call('d5K7wBkPFkEneyC4GuUPuc', 'jnM7EkD23DhSANPPE9ZztS', 'changeGraph', 'eyJpZCI6ICJCb2xpdmlhIChQbHVyaW5hdGlvbmFsIFN0YXRlIG9mKSIsICJ0eXBlIjogInZlcnRleCIsICJwcm9wcyI6IHsic2l6ZSI6IDE4LjV9fQo=');</script>\n",
       "    "
      ],
      "text/plain": [
       "<IPython.core.display.HTML object>"
      ]
     },
     "metadata": {},
     "output_type": "display_data"
    },
    {
     "data": {
      "text/html": [
       "\n",
       "        <div id=\"RFbw7XT2VQwB6TU2rBPpjV\"></div>\n",
       "        <script>netpixi.call('RFbw7XT2VQwB6TU2rBPpjV', 'jnM7EkD23DhSANPPE9ZztS', 'changeGraph', 'eyJpZCI6ICJNYXJ0aW5pcXVlIiwgInR5cGUiOiAidmVydGV4IiwgInByb3BzIjogeyJzaXplIjogMTEuMTExMTExMTExMTExMTF9fQo=');</script>\n",
       "    "
      ],
      "text/plain": [
       "<IPython.core.display.HTML object>"
      ]
     },
     "metadata": {},
     "output_type": "display_data"
    },
    {
     "data": {
      "text/html": [
       "\n",
       "        <div id=\"boqFprLWvzA94F3BkB3G9w\"></div>\n",
       "        <script>netpixi.call('boqFprLWvzA94F3BkB3G9w', 'jnM7EkD23DhSANPPE9ZztS', 'changeGraph', 'eyJpZCI6ICJKYW1haWNhIiwgInR5cGUiOiAidmVydGV4IiwgInByb3BzIjogeyJzaXplIjogMTUuMTY2NjY2NjY2NjY2NjY4fX0K');</script>\n",
       "    "
      ],
      "text/plain": [
       "<IPython.core.display.HTML object>"
      ]
     },
     "metadata": {},
     "output_type": "display_data"
    },
    {
     "data": {
      "text/html": [
       "\n",
       "        <div id=\"o8rapEH42xDYvbVVhvXW2H\"></div>\n",
       "        <script>netpixi.call('o8rapEH42xDYvbVVhvXW2H', 'jnM7EkD23DhSANPPE9ZztS', 'changeGraph', 'eyJpZCI6ICJUdXZhbHUiLCAidHlwZSI6ICJ2ZXJ0ZXgiLCAicHJvcHMiOiB7InNpemUiOiAxMi4wNTU1NTU1NTU1NTU1NTV9fQo=');</script>\n",
       "    "
      ],
      "text/plain": [
       "<IPython.core.display.HTML object>"
      ]
     },
     "metadata": {},
     "output_type": "display_data"
    },
    {
     "data": {
      "text/html": [
       "\n",
       "        <div id=\"Bm74Patt7TPhD8qvRVCKMa\"></div>\n",
       "        <script>netpixi.call('Bm74Patt7TPhD8qvRVCKMa', 'jnM7EkD23DhSANPPE9ZztS', 'changeGraph', 'eyJpZCI6ICJCcmF6aWwiLCAidHlwZSI6ICJ2ZXJ0ZXgiLCAicHJvcHMiOiB7InNpemUiOiA0Ny4xMTExMTExMTExMTExMTR9fQo=');</script>\n",
       "    "
      ],
      "text/plain": [
       "<IPython.core.display.HTML object>"
      ]
     },
     "metadata": {},
     "output_type": "display_data"
    },
    {
     "data": {
      "text/html": [
       "\n",
       "        <div id=\"5bsi8hJTZwJpiGf96u5SDJ\"></div>\n",
       "        <script>netpixi.call('5bsi8hJTZwJpiGf96u5SDJ', 'jnM7EkD23DhSANPPE9ZztS', 'changeGraph', 'eyJpZCI6ICJDb21vcm9zIiwgInR5cGUiOiAidmVydGV4IiwgInByb3BzIjogeyJzaXplIjogMTEuNjExMTExMTExMTExMTF9fQo=');</script>\n",
       "    "
      ],
      "text/plain": [
       "<IPython.core.display.HTML object>"
      ]
     },
     "metadata": {},
     "output_type": "display_data"
    },
    {
     "data": {
      "text/html": [
       "\n",
       "        <div id=\"WWtLyngwhHCoVgkoeSrTxc\"></div>\n",
       "        <script>netpixi.call('WWtLyngwhHCoVgkoeSrTxc', 'jnM7EkD23DhSANPPE9ZztS', 'changeGraph', 'eyJpZCI6ICJKYXBhbiIsICJ0eXBlIjogInZlcnRleCIsICJwcm9wcyI6IHsic2l6ZSI6IDE5LjV9fQo=');</script>\n",
       "    "
      ],
      "text/plain": [
       "<IPython.core.display.HTML object>"
      ]
     },
     "metadata": {},
     "output_type": "display_data"
    },
    {
     "data": {
      "text/html": [
       "\n",
       "        <div id=\"3bjX6oQfw34zag7c2VnWrd\"></div>\n",
       "        <script>netpixi.call('3bjX6oQfw34zag7c2VnWrd', 'jnM7EkD23DhSANPPE9ZztS', 'changeGraph', 'eyJpZCI6ICJFcXVhdG9yaWFsIEd1aW5lYSIsICJ0eXBlIjogInZlcnRleCIsICJwcm9wcyI6IHsic2l6ZSI6IDEyLjU1NTU1NTU1NTU1NTU1NX19Cg==');</script>\n",
       "    "
      ],
      "text/plain": [
       "<IPython.core.display.HTML object>"
      ]
     },
     "metadata": {},
     "output_type": "display_data"
    },
    {
     "data": {
      "text/html": [
       "\n",
       "        <div id=\"83d8tUPQRSU23CWr7qCbkn\"></div>\n",
       "        <script>netpixi.call('83d8tUPQRSU23CWr7qCbkn', 'jnM7EkD23DhSANPPE9ZztS', 'changeGraph', 'eyJpZCI6ICJBcm1lbmlhIiwgInR5cGUiOiAidmVydGV4IiwgInByb3BzIjogeyJzaXplIjogMTcuMzg4ODg4ODg4ODg4ODl9fQo=');</script>\n",
       "    "
      ],
      "text/plain": [
       "<IPython.core.display.HTML object>"
      ]
     },
     "metadata": {},
     "output_type": "display_data"
    },
    {
     "data": {
      "text/html": [
       "\n",
       "        <div id=\"Fro4tWpP7k4LXKv9tAhhLs\"></div>\n",
       "        <script>netpixi.call('Fro4tWpP7k4LXKv9tAhhLs', 'jnM7EkD23DhSANPPE9ZztS', 'changeGraph', 'eyJpZCI6ICJNYWxhd2kiLCAidHlwZSI6ICJ2ZXJ0ZXgiLCAicHJvcHMiOiB7InNpemUiOiAxMy44MzMzMzMzMzMzMzMzMzR9fQo=');</script>\n",
       "    "
      ],
      "text/plain": [
       "<IPython.core.display.HTML object>"
      ]
     },
     "metadata": {},
     "output_type": "display_data"
    },
    {
     "data": {
      "text/html": [
       "\n",
       "        <div id=\"mNfthTXnBe5wMy6V2WdvsS\"></div>\n",
       "        <script>netpixi.call('mNfthTXnBe5wMy6V2WdvsS', 'jnM7EkD23DhSANPPE9ZztS', 'changeGraph', 'eyJpZCI6ICJCZXJtdWRhIiwgInR5cGUiOiAidmVydGV4IiwgInByb3BzIjogeyJzaXplIjogMTAuMzg4ODg4ODg4ODg4ODl9fQo=');</script>\n",
       "    "
      ],
      "text/plain": [
       "<IPython.core.display.HTML object>"
      ]
     },
     "metadata": {},
     "output_type": "display_data"
    },
    {
     "data": {
      "text/html": [
       "\n",
       "        <div id=\"8PTwxGvBWicMPAR3wyCrvb\"></div>\n",
       "        <script>netpixi.call('8PTwxGvBWicMPAR3wyCrvb', 'jnM7EkD23DhSANPPE9ZztS', 'changeGraph', 'eyJpZCI6ICJNYWxpIiwgInR5cGUiOiAidmVydGV4IiwgInByb3BzIjogeyJzaXplIjogMTMuOTQ0NDQ0NDQ0NDQ0NDQ1fX0K');</script>\n",
       "    "
      ],
      "text/plain": [
       "<IPython.core.display.HTML object>"
      ]
     },
     "metadata": {},
     "output_type": "display_data"
    },
    {
     "data": {
      "text/html": [
       "\n",
       "        <div id=\"VYmRmHeUQJQHyZYGWHJ86T\"></div>\n",
       "        <script>netpixi.call('VYmRmHeUQJQHyZYGWHJ86T', 'jnM7EkD23DhSANPPE9ZztS', 'changeGraph', 'eyJpZCI6ICJDdWJhIiwgInR5cGUiOiAidmVydGV4IiwgInByb3BzIjogeyJzaXplIjogMTYuMH19Cg==');</script>\n",
       "    "
      ],
      "text/plain": [
       "<IPython.core.display.HTML object>"
      ]
     },
     "metadata": {},
     "output_type": "display_data"
    },
    {
     "data": {
      "text/html": [
       "\n",
       "        <div id=\"RbbpHNi8i9UzzoRkS6kSiz\"></div>\n",
       "        <script>netpixi.call('RbbpHNi8i9UzzoRkS6kSiz', 'jnM7EkD23DhSANPPE9ZztS', 'changeGraph', 'eyJpZCI6ICJDaGFkIiwgInR5cGUiOiAidmVydGV4IiwgInByb3BzIjogeyJzaXplIjogMTUuNjExMTExMTExMTExMTF9fQo=');</script>\n",
       "    "
      ],
      "text/plain": [
       "<IPython.core.display.HTML object>"
      ]
     },
     "metadata": {},
     "output_type": "display_data"
    },
    {
     "data": {
      "text/html": [
       "\n",
       "        <div id=\"kyL9RgjDwfE56twbxJ6n5A\"></div>\n",
       "        <script>netpixi.call('kyL9RgjDwfE56twbxJ6n5A', 'jnM7EkD23DhSANPPE9ZztS', 'changeGraph', 'eyJpZCI6ICJWYXJpb3VzL1Vua25vd24iLCAidHlwZSI6ICJ2ZXJ0ZXgiLCAicHJvcHMiOiB7InNpemUiOiAxMS41NTU1NTU1NTU1NTU1NTV9fQo=');</script>\n",
       "    "
      ],
      "text/plain": [
       "<IPython.core.display.HTML object>"
      ]
     },
     "metadata": {},
     "output_type": "display_data"
    },
    {
     "data": {
      "text/html": [
       "\n",
       "        <div id=\"cvaXo9vnXBB9omGiLspcxV\"></div>\n",
       "        <script>netpixi.call('cvaXo9vnXBB9omGiLspcxV', 'jnM7EkD23DhSANPPE9ZztS', 'changeGraph', 'eyJpZCI6ICJXYWxsaXMgYW5kIEZ1dHVuYSBJc2xhbmRzICIsICJ0eXBlIjogInZlcnRleCIsICJwcm9wcyI6IHsic2l6ZSI6IDEwLjYxMTExMTExMTExMTExfX0K');</script>\n",
       "    "
      ],
      "text/plain": [
       "<IPython.core.display.HTML object>"
      ]
     },
     "metadata": {},
     "output_type": "display_data"
    },
    {
     "data": {
      "text/html": [
       "\n",
       "        <div id=\"inC2sBU2mesNZSsZpKGkjo\"></div>\n",
       "        <script>netpixi.call('inC2sBU2mesNZSsZpKGkjo', 'jnM7EkD23DhSANPPE9ZztS', 'changeGraph', 'eyJpZCI6ICJHdWluZWEiLCAidHlwZSI6ICJ2ZXJ0ZXgiLCAicHJvcHMiOiB7InNpemUiOiAxNC44ODg4ODg4ODg4ODg4OX19Cg==');</script>\n",
       "    "
      ],
      "text/plain": [
       "<IPython.core.display.HTML object>"
      ]
     },
     "metadata": {},
     "output_type": "display_data"
    },
    {
     "data": {
      "text/html": [
       "\n",
       "        <div id=\"W8ZZDfgunM5pu2tosrCNJS\"></div>\n",
       "        <script>netpixi.call('W8ZZDfgunM5pu2tosrCNJS', 'jnM7EkD23DhSANPPE9ZztS', 'changeGraph', 'eyJpZCI6ICJBemVyYmFpamFuIiwgInR5cGUiOiAidmVydGV4IiwgInByb3BzIjogeyJzaXplIjogMTYuNjExMTExMTExMTExMTF9fQo=');</script>\n",
       "    "
      ],
      "text/plain": [
       "<IPython.core.display.HTML object>"
      ]
     },
     "metadata": {},
     "output_type": "display_data"
    },
    {
     "data": {
      "text/html": [
       "\n",
       "        <div id=\"apHJYiHPfXb3YAb6A7oFib\"></div>\n",
       "        <script>netpixi.call('apHJYiHPfXb3YAb6A7oFib', 'jnM7EkD23DhSANPPE9ZztS', 'changeGraph', 'eyJpZCI6ICJHdWluZWEtQmlzc2F1IiwgInR5cGUiOiAidmVydGV4IiwgInByb3BzIjogeyJzaXplIjogMTQuMH19Cg==');</script>\n",
       "    "
      ],
      "text/plain": [
       "<IPython.core.display.HTML object>"
      ]
     },
     "metadata": {},
     "output_type": "display_data"
    },
    {
     "data": {
      "text/html": [
       "\n",
       "        <div id=\"H8Utm4merZK9QYYmvXo8wx\"></div>\n",
       "        <script>netpixi.call('H8Utm4merZK9QYYmvXo8wx', 'jnM7EkD23DhSANPPE9ZztS', 'changeGraph', 'eyJpZCI6ICJKb3JkYW4iLCAidHlwZSI6ICJ2ZXJ0ZXgiLCAicHJvcHMiOiB7InNpemUiOiAxNy42NjY2NjY2NjY2NjY2Njh9fQo=');</script>\n",
       "    "
      ],
      "text/plain": [
       "<IPython.core.display.HTML object>"
      ]
     },
     "metadata": {},
     "output_type": "display_data"
    },
    {
     "data": {
      "text/html": [
       "\n",
       "        <div id=\"Dj5K4dNwLJFHSyzFqFEy4h\"></div>\n",
       "        <script>netpixi.call('Dj5K4dNwLJFHSyzFqFEy4h', 'jnM7EkD23DhSANPPE9ZztS', 'changeGraph', 'eyJpZCI6ICJJbmRpYSIsICJ0eXBlIjogInZlcnRleCIsICJwcm9wcyI6IHsic2l6ZSI6IDE3LjQ0NDQ0NDQ0NDQ0NDQ0M319Cg==');</script>\n",
       "    "
      ],
      "text/plain": [
       "<IPython.core.display.HTML object>"
      ]
     },
     "metadata": {},
     "output_type": "display_data"
    },
    {
     "data": {
      "text/html": [
       "\n",
       "        <div id=\"2mXfvFSUnd2gJsy6UtmFsj\"></div>\n",
       "        <script>netpixi.call('2mXfvFSUnd2gJsy6UtmFsj', 'jnM7EkD23DhSANPPE9ZztS', 'changeGraph', 'eyJpZCI6ICJDdXJhXHUwMGU3YW8iLCAidHlwZSI6ICJ2ZXJ0ZXgiLCAicHJvcHMiOiB7InNpemUiOiAxMi42MTExMTExMTExMTExMX19Cg==');</script>\n",
       "    "
      ],
      "text/plain": [
       "<IPython.core.display.HTML object>"
      ]
     },
     "metadata": {},
     "output_type": "display_data"
    },
    {
     "data": {
      "text/html": [
       "\n",
       "        <div id=\"YAswaFeyNsdu6peMEsKw2K\"></div>\n",
       "        <script>netpixi.call('YAswaFeyNsdu6peMEsKw2K', 'jnM7EkD23DhSANPPE9ZztS', 'changeGraph', 'eyJpZCI6ICJFbCBTYWx2YWRvciIsICJ0eXBlIjogInZlcnRleCIsICJwcm9wcyI6IHsic2l6ZSI6IDE3LjIyMjIyMjIyMjIyMjIyfX0K');</script>\n",
       "    "
      ],
      "text/plain": [
       "<IPython.core.display.HTML object>"
      ]
     },
     "metadata": {},
     "output_type": "display_data"
    },
    {
     "data": {
      "text/html": [
       "\n",
       "        <div id=\"M2PfkdzJ62f3mUB7WmdYqu\"></div>\n",
       "        <script>netpixi.call('M2PfkdzJ62f3mUB7WmdYqu', 'jnM7EkD23DhSANPPE9ZztS', 'changeGraph', 'eyJpZCI6ICJTd2F6aWxhbmQiLCAidHlwZSI6ICJ2ZXJ0ZXgiLCAicHJvcHMiOiB7InNpemUiOiAxNC4zMzMzMzMzMzMzMzMzMzR9fQo=');</script>\n",
       "    "
      ],
      "text/plain": [
       "<IPython.core.display.HTML object>"
      ]
     },
     "metadata": {},
     "output_type": "display_data"
    },
    {
     "data": {
      "text/html": [
       "\n",
       "        <div id=\"4upbvL3XGbnnqhqKYXVAX8\"></div>\n",
       "        <script>netpixi.call('4upbvL3XGbnnqhqKYXVAX8', 'jnM7EkD23DhSANPPE9ZztS', 'changeGraph', 'eyJpZCI6ICJTb3V0aCBBZnJpY2EiLCAidHlwZSI6ICJ2ZXJ0ZXgiLCAicHJvcHMiOiB7InNpemUiOiA0MC44ODg4ODg4ODg4ODg4ODZ9fQo=');</script>\n",
       "    "
      ],
      "text/plain": [
       "<IPython.core.display.HTML object>"
      ]
     },
     "metadata": {},
     "output_type": "display_data"
    },
    {
     "data": {
      "text/html": [
       "\n",
       "        <div id=\"6MWVvWGM6Da3qFdYbCYwyc\"></div>\n",
       "        <script>netpixi.call('6MWVvWGM6Da3qFdYbCYwyc', 'jnM7EkD23DhSANPPE9ZztS', 'changeGraph', 'eyJpZCI6ICJCdWxnYXJpYSIsICJ0eXBlIjogInZlcnRleCIsICJwcm9wcyI6IHsic2l6ZSI6IDE5LjcyMjIyMjIyMjIyMjIyfX0K');</script>\n",
       "    "
      ],
      "text/plain": [
       "<IPython.core.display.HTML object>"
      ]
     },
     "metadata": {},
     "output_type": "display_data"
    },
    {
     "data": {
      "text/html": [
       "\n",
       "        <div id=\"jyfyhpp58CBkFCUxRvSPJb\"></div>\n",
       "        <script>netpixi.call('jyfyhpp58CBkFCUxRvSPJb', 'jnM7EkD23DhSANPPE9ZztS', 'changeGraph', 'eyJpZCI6ICJaYW1iaWEiLCAidHlwZSI6ICJ2ZXJ0ZXgiLCAicHJvcHMiOiB7InNpemUiOiAxNi45NDQ0NDQ0NDQ0NDQ0NDN9fQo=');</script>\n",
       "    "
      ],
      "text/plain": [
       "<IPython.core.display.HTML object>"
      ]
     },
     "metadata": {},
     "output_type": "display_data"
    },
    {
     "data": {
      "text/html": [
       "\n",
       "        <div id=\"R3XTBTLQTaLMTE2c9P835T\"></div>\n",
       "        <script>netpixi.call('R3XTBTLQTaLMTE2c9P835T', 'jnM7EkD23DhSANPPE9ZztS', 'changeGraph', 'eyJpZCI6ICJHZW9yZ2lhIiwgInR5cGUiOiAidmVydGV4IiwgInByb3BzIjogeyJzaXplIjogMTkuMzMzMzMzMzMzMzMzMzM2fX0K');</script>\n",
       "    "
      ],
      "text/plain": [
       "<IPython.core.display.HTML object>"
      ]
     },
     "metadata": {},
     "output_type": "display_data"
    },
    {
     "data": {
      "text/html": [
       "\n",
       "        <div id=\"RAtRUrJMB68QX4fAfHUTG9\"></div>\n",
       "        <script>netpixi.call('RAtRUrJMB68QX4fAfHUTG9', 'jnM7EkD23DhSANPPE9ZztS', 'changeGraph', 'eyJpZCI6ICJNaWNyb25lc2lhIChGZWRlcmF0ZWQgU3RhdGVzIG9mKSIsICJ0eXBlIjogInZlcnRleCIsICJwcm9wcyI6IHsic2l6ZSI6IDExLjcyMjIyMjIyMjIyMjIyMX19Cg==');</script>\n",
       "    "
      ],
      "text/plain": [
       "<IPython.core.display.HTML object>"
      ]
     },
     "metadata": {},
     "output_type": "display_data"
    },
    {
     "data": {
      "text/html": [
       "\n",
       "        <div id=\"hPxJiTFHYceKpxHk35nyKC\"></div>\n",
       "        <script>netpixi.call('hPxJiTFHYceKpxHk35nyKC', 'jnM7EkD23DhSANPPE9ZztS', 'changeGraph', 'eyJpZCI6ICJBbmd1aWxsYSIsICJ0eXBlIjogInZlcnRleCIsICJwcm9wcyI6IHsic2l6ZSI6IDEzLjU1NTU1NTU1NTU1NTU1NX19Cg==');</script>\n",
       "    "
      ],
      "text/plain": [
       "<IPython.core.display.HTML object>"
      ]
     },
     "metadata": {},
     "output_type": "display_data"
    },
    {
     "data": {
      "text/html": [
       "\n",
       "        <div id=\"HbrW6hK7u9fUWG9N6daXyn\"></div>\n",
       "        <script>netpixi.call('HbrW6hK7u9fUWG9N6daXyn', 'jnM7EkD23DhSANPPE9ZztS', 'changeGraph', 'eyJpZCI6ICJCZWxpemUiLCAidHlwZSI6ICJ2ZXJ0ZXgiLCAicHJvcHMiOiB7InNpemUiOiAxNC40NDQ0NDQ0NDQ0NDQ0NDV9fQo=');</script>\n",
       "    "
      ],
      "text/plain": [
       "<IPython.core.display.HTML object>"
      ]
     },
     "metadata": {},
     "output_type": "display_data"
    },
    {
     "data": {
      "text/html": [
       "\n",
       "        <div id=\"jygZJfp6u2UuM3cccZaaMr\"></div>\n",
       "        <script>netpixi.call('jygZJfp6u2UuM3cccZaaMr', 'jnM7EkD23DhSANPPE9ZztS', 'changeGraph', 'eyJpZCI6ICJHaGFuYSIsICJ0eXBlIjogInZlcnRleCIsICJwcm9wcyI6IHsic2l6ZSI6IDE2Ljc3Nzc3Nzc3Nzc3Nzc4fX0K');</script>\n",
       "    "
      ],
      "text/plain": [
       "<IPython.core.display.HTML object>"
      ]
     },
     "metadata": {},
     "output_type": "display_data"
    },
    {
     "data": {
      "text/html": [
       "\n",
       "        <div id=\"KTEDUUzmfWbHHKzn6QbgNf\"></div>\n",
       "        <script>netpixi.call('KTEDUUzmfWbHHKzn6QbgNf', 'jnM7EkD23DhSANPPE9ZztS', 'changeGraph', 'eyJpZCI6ICJDXHUwMGY0dGUgZCdJdm9pcmUiLCAidHlwZSI6ICJ2ZXJ0ZXgiLCAicHJvcHMiOiB7InNpemUiOiAxNS4yMjIyMjIyMjIyMjIyMjF9fQo=');</script>\n",
       "    "
      ],
      "text/plain": [
       "<IPython.core.display.HTML object>"
      ]
     },
     "metadata": {},
     "output_type": "display_data"
    },
    {
     "data": {
      "text/html": [
       "\n",
       "        <div id=\"2BtjfbsCwFdFDXgeBhJwiJ\"></div>\n",
       "        <script>netpixi.call('2BtjfbsCwFdFDXgeBhJwiJ', 'jnM7EkD23DhSANPPE9ZztS', 'changeGraph', 'eyJpZCI6ICJTdmFsYmFyZCBhbmQgSmFuIE1heWVuIiwgInR5cGUiOiAidmVydGV4IiwgInByb3BzIjogeyJzaXplIjogMTAuMjIyMjIyMjIyMjIyMjIxfX0K');</script>\n",
       "    "
      ],
      "text/plain": [
       "<IPython.core.display.HTML object>"
      ]
     },
     "metadata": {},
     "output_type": "display_data"
    },
    {
     "data": {
      "text/html": [
       "\n",
       "        <div id=\"fo5s9QJy9sivSxxFpeV75r\"></div>\n",
       "        <script>netpixi.call('fo5s9QJy9sivSxxFpeV75r', 'jnM7EkD23DhSANPPE9ZztS', 'changeGraph', 'eyJpZCI6ICJVbml0ZWQgU3RhdGVzIG9mIEFtZXJpY2EiLCAidHlwZSI6ICJ2ZXJ0ZXgiLCAicHJvcHMiOiB7InNpemUiOiA0OS4zMzMzMzMzMzMzMzMzMzZ9fQo=');</script>\n",
       "    "
      ],
      "text/plain": [
       "<IPython.core.display.HTML object>"
      ]
     },
     "metadata": {},
     "output_type": "display_data"
    },
    {
     "data": {
      "text/html": [
       "\n",
       "        <div id=\"GRHXinewVip7aw9CRbzurr\"></div>\n",
       "        <script>netpixi.call('GRHXinewVip7aw9CRbzurr', 'jnM7EkD23DhSANPPE9ZztS', 'changeGraph', 'eyJpZCI6ICJUaW1vci1MZXN0ZSIsICJ0eXBlIjogInZlcnRleCIsICJwcm9wcyI6IHsic2l6ZSI6IDEzLjE2NjY2NjY2NjY2NjY2Nn19Cg==');</script>\n",
       "    "
      ],
      "text/plain": [
       "<IPython.core.display.HTML object>"
      ]
     },
     "metadata": {},
     "output_type": "display_data"
    },
    {
     "data": {
      "text/html": [
       "\n",
       "        <div id=\"Bg83NzQrFhCSkJb8ogLc8C\"></div>\n",
       "        <script>netpixi.call('Bg83NzQrFhCSkJb8ogLc8C', 'jnM7EkD23DhSANPPE9ZztS', 'changeGraph', 'eyJpZCI6ICJDeXBydXMiLCAidHlwZSI6ICJ2ZXJ0ZXgiLCAicHJvcHMiOiB7InNpemUiOiAxOS4xMTExMTExMTExMTExMX19Cg==');</script>\n",
       "    "
      ],
      "text/plain": [
       "<IPython.core.display.HTML object>"
      ]
     },
     "metadata": {},
     "output_type": "display_data"
    },
    {
     "data": {
      "text/html": [
       "\n",
       "        <div id=\"DpJH9cgbfw8w2VSGBrW5xy\"></div>\n",
       "        <script>netpixi.call('DpJH9cgbfw8w2VSGBrW5xy', 'jnM7EkD23DhSANPPE9ZztS', 'changeGraph', 'eyJpZCI6ICJJc3JhZWwiLCAidHlwZSI6ICJ2ZXJ0ZXgiLCAicHJvcHMiOiB7InNpemUiOiAxOS4wNTU1NTU1NTU1NTU1NTd9fQo=');</script>\n",
       "    "
      ],
      "text/plain": [
       "<IPython.core.display.HTML object>"
      ]
     },
     "metadata": {},
     "output_type": "display_data"
    }
   ],
   "source": [
    "matrix = spectral.adjacency(g)\n",
    "\n",
    "# Além de cpnet.Rombach, há outras\n",
    "# opções de algoritmos contínuos:\n",
    "# cpnet.MINRES\n",
    "# cpnet.Rossa\n",
    "\n",
    "algorithm = cpnet.Rombach()\n",
    "algorithm.detect(matrix)\n",
    "c = algorithm.get_coreness()\n",
    "\n",
    "# Depois do código acima, c é um dicionário\n",
    "# em que as chaves são índices de vértices e\n",
    "# valores são os atribuídos pelo algoritmo.\n",
    "\n",
    "g.add_vp('coreness')\n",
    "for i, coreness in c.items():\n",
    "    v = g.get_vertex_by_index(i)\n",
    "    v['coreness'] = float(coreness)\n",
    "\n",
    "# Vamos usar coreness como referência para\n",
    "# o tamanho dos vértices. Estabelecemos 10\n",
    "# como o menor tamanho possível e 40 como\n",
    "# o maior tamanho possível. Como o coreness\n",
    "# está entre 0 e 1, a conta é bem simples.\n",
    "\n",
    "for v in g.all_vertices():\n",
    "    r.vertex(v['id'], size=(10 + 40 * v['coreness']))\n",
    "\n",
    "# Quando a execução desta célula terminar,\n",
    "# veja como ficou a visualização acima."
   ]
  },
  {
   "cell_type": "code",
   "execution_count": 57,
   "id": "68aa788c",
   "metadata": {},
   "outputs": [
    {
     "data": {
      "text/html": [
       "\n",
       "        <div id=\"2aciu345gZAQ9ZwxkdBK5c\"></div>\n",
       "        <script>netpixi.call('2aciu345gZAQ9ZwxkdBK5c', 'A3YHFPuQNPcfL5KrVLPfLP', 'normalizeGraph', 'eyJ0eXBlIjogImVkZ2UiLCAicHJvcHMiOiB7InNyYyI6ICJhY2VpdG9zIiwgIm1pbiI6IDEsICJtYXgiOiAxMH19Cg==');</script>\n",
       "    "
      ],
      "text/plain": [
       "<IPython.core.display.HTML object>"
      ]
     },
     "metadata": {},
     "output_type": "display_data"
    },
    {
     "data": {
      "text/html": [
       "\n",
       "        <div id=\"P6RPashYmTWT9hHKSUgQ7F\"></div>\n",
       "        <script>netpixi.call('P6RPashYmTWT9hHKSUgQ7F', 'A3YHFPuQNPcfL5KrVLPfLP', 'setGraph', 'eyJ0eXBlIjogInZlcnRleCIsICJwcm9wcyI6IHsic3JjIjogIm5vbWUiLCAiZHN0IjogIl9rZXkifX0K');</script>\n",
       "    "
      ],
      "text/plain": [
       "<IPython.core.display.HTML object>"
      ]
     },
     "metadata": {},
     "output_type": "display_data"
    },
    {
     "data": {
      "text/html": [
       "\n",
       "        <div id=\"HR2oPaciYEiw5p672N4PCi\"></div>\n",
       "        <script>netpixi.call('HR2oPaciYEiw5p672N4PCi', 'A3YHFPuQNPcfL5KrVLPfLP', 'normalizeGraph', 'eyJ0eXBlIjogInZlcnRleCIsICJwcm9wcyI6IHsic3JjIjogImNvcmVuZXNzIiwgIm1pbiI6IDUsICJtYXgiOiAyNX19Cg==');</script>\n",
       "    "
      ],
      "text/plain": [
       "<IPython.core.display.HTML object>"
      ]
     },
     "metadata": {},
     "output_type": "display_data"
    }
   ],
   "source": [
    "r.edge_scale('aceitos', 1, 10)\n",
    "\n",
    "r.vertex_set_key('nome')\n",
    "\n",
    "r.vertex_scale('coreness', 5, 25)"
   ]
  },
  {
   "cell_type": "markdown",
   "id": "d41088fb",
   "metadata": {},
   "source": [
    "### OUT e IN degree\n",
    "\n"
   ]
  },
  {
   "cell_type": "code",
   "execution_count": 47,
   "id": "fa64e813",
   "metadata": {},
   "outputs": [
    {
     "name": "stderr",
     "output_type": "stream",
     "text": [
      "/tmp/ipykernel_243/3734551133.py:1: FutureWarning: The default value of numeric_only in DataFrameGroupBy.sum is deprecated. In a future version, numeric_only will default to False. Either specify numeric_only or select only columns which should be valid for the function.\n",
      "  df_out_degree  = df_aresta.groupby('origin').sum().reindex(listaVertices).fillna(0)\n"
     ]
    },
    {
     "data": {
      "text/html": [
       "<div>\n",
       "<style scoped>\n",
       "    .dataframe tbody tr th:only-of-type {\n",
       "        vertical-align: middle;\n",
       "    }\n",
       "\n",
       "    .dataframe tbody tr th {\n",
       "        vertical-align: top;\n",
       "    }\n",
       "\n",
       "    .dataframe thead th {\n",
       "        text-align: right;\n",
       "    }\n",
       "</style>\n",
       "<table border=\"1\" class=\"dataframe\">\n",
       "  <thead>\n",
       "    <tr style=\"text-align: right;\">\n",
       "      <th></th>\n",
       "      <th>value</th>\n",
       "    </tr>\n",
       "    <tr>\n",
       "      <th>origin</th>\n",
       "      <th></th>\n",
       "    </tr>\n",
       "  </thead>\n",
       "  <tbody>\n",
       "    <tr>\n",
       "      <th>Syrian Arab Rep.</th>\n",
       "      <td>488163.0</td>\n",
       "    </tr>\n",
       "    <tr>\n",
       "      <th>Iraq</th>\n",
       "      <td>290249.0</td>\n",
       "    </tr>\n",
       "    <tr>\n",
       "      <th>Eritrea</th>\n",
       "      <td>278497.0</td>\n",
       "    </tr>\n",
       "    <tr>\n",
       "      <th>Dem. Rep. of the Congo</th>\n",
       "      <td>256150.0</td>\n",
       "    </tr>\n",
       "    <tr>\n",
       "      <th>Afghanistan</th>\n",
       "      <td>239198.0</td>\n",
       "    </tr>\n",
       "    <tr>\n",
       "      <th>...</th>\n",
       "      <td>...</td>\n",
       "    </tr>\n",
       "    <tr>\n",
       "      <th>Martinique</th>\n",
       "      <td>0.0</td>\n",
       "    </tr>\n",
       "    <tr>\n",
       "      <th>French Guiana</th>\n",
       "      <td>0.0</td>\n",
       "    </tr>\n",
       "    <tr>\n",
       "      <th>Puerto Rico</th>\n",
       "      <td>0.0</td>\n",
       "    </tr>\n",
       "    <tr>\n",
       "      <th>Liechtenstein</th>\n",
       "      <td>0.0</td>\n",
       "    </tr>\n",
       "    <tr>\n",
       "      <th>Nauru</th>\n",
       "      <td>0.0</td>\n",
       "    </tr>\n",
       "  </tbody>\n",
       "</table>\n",
       "<p>225 rows × 1 columns</p>\n",
       "</div>"
      ],
      "text/plain": [
       "                           value\n",
       "origin                          \n",
       "Syrian Arab Rep.        488163.0\n",
       "Iraq                    290249.0\n",
       "Eritrea                 278497.0\n",
       "Dem. Rep. of the Congo  256150.0\n",
       "Afghanistan             239198.0\n",
       "...                          ...\n",
       "Martinique                   0.0\n",
       "French Guiana                0.0\n",
       "Puerto Rico                  0.0\n",
       "Liechtenstein                0.0\n",
       "Nauru                        0.0\n",
       "\n",
       "[225 rows x 1 columns]"
      ]
     },
     "execution_count": 47,
     "metadata": {},
     "output_type": "execute_result"
    }
   ],
   "source": [
    "df_out_degree  = df_aresta.groupby('origin').sum().reindex(listaVertices).fillna(0)\n",
    "df_out_degree.sort_values(\"value\", ascending = False)"
   ]
  },
  {
   "cell_type": "code",
   "execution_count": 50,
   "id": "18230893",
   "metadata": {},
   "outputs": [
    {
     "name": "stderr",
     "output_type": "stream",
     "text": [
      "/tmp/ipykernel_243/823782808.py:1: FutureWarning: The default value of numeric_only in DataFrameGroupBy.sum is deprecated. In a future version, numeric_only will default to False. Either specify numeric_only or select only columns which should be valid for the function.\n",
      "  df_in_degree  = df_aresta.groupby('destiny').sum().reindex(listaVertices).fillna(0)\n"
     ]
    },
    {
     "data": {
      "text/html": [
       "<div>\n",
       "<style scoped>\n",
       "    .dataframe tbody tr th:only-of-type {\n",
       "        vertical-align: middle;\n",
       "    }\n",
       "\n",
       "    .dataframe tbody tr th {\n",
       "        vertical-align: top;\n",
       "    }\n",
       "\n",
       "    .dataframe thead th {\n",
       "        text-align: right;\n",
       "    }\n",
       "</style>\n",
       "<table border=\"1\" class=\"dataframe\">\n",
       "  <thead>\n",
       "    <tr style=\"text-align: right;\">\n",
       "      <th></th>\n",
       "      <th>value</th>\n",
       "    </tr>\n",
       "    <tr>\n",
       "      <th>destiny</th>\n",
       "      <th></th>\n",
       "    </tr>\n",
       "  </thead>\n",
       "  <tbody>\n",
       "    <tr>\n",
       "      <th>Germany</th>\n",
       "      <td>542221.0</td>\n",
       "    </tr>\n",
       "    <tr>\n",
       "      <th>United States of America</th>\n",
       "      <td>375901.0</td>\n",
       "    </tr>\n",
       "    <tr>\n",
       "      <th>France</th>\n",
       "      <td>227896.0</td>\n",
       "    </tr>\n",
       "    <tr>\n",
       "      <th>United Kingdom</th>\n",
       "      <td>210309.0</td>\n",
       "    </tr>\n",
       "    <tr>\n",
       "      <th>Canada</th>\n",
       "      <td>194725.0</td>\n",
       "    </tr>\n",
       "    <tr>\n",
       "      <th>...</th>\n",
       "      <td>...</td>\n",
       "    </tr>\n",
       "    <tr>\n",
       "      <th>San Marino</th>\n",
       "      <td>0.0</td>\n",
       "    </tr>\n",
       "    <tr>\n",
       "      <th>Martinique</th>\n",
       "      <td>0.0</td>\n",
       "    </tr>\n",
       "    <tr>\n",
       "      <th>Tuvalu</th>\n",
       "      <td>0.0</td>\n",
       "    </tr>\n",
       "    <tr>\n",
       "      <th>British Virgin Islands</th>\n",
       "      <td>0.0</td>\n",
       "    </tr>\n",
       "    <tr>\n",
       "      <th>Dem. People's Rep. of Korea</th>\n",
       "      <td>0.0</td>\n",
       "    </tr>\n",
       "  </tbody>\n",
       "</table>\n",
       "<p>225 rows × 1 columns</p>\n",
       "</div>"
      ],
      "text/plain": [
       "                                value\n",
       "destiny                              \n",
       "Germany                      542221.0\n",
       "United States of America     375901.0\n",
       "France                       227896.0\n",
       "United Kingdom               210309.0\n",
       "Canada                       194725.0\n",
       "...                               ...\n",
       "San Marino                        0.0\n",
       "Martinique                        0.0\n",
       "Tuvalu                            0.0\n",
       "British Virgin Islands            0.0\n",
       "Dem. People's Rep. of Korea       0.0\n",
       "\n",
       "[225 rows x 1 columns]"
      ]
     },
     "execution_count": 50,
     "metadata": {},
     "output_type": "execute_result"
    }
   ],
   "source": [
    "df_in_degree  = df_aresta.groupby('destiny').sum().reindex(listaVertices).fillna(0)\n",
    "df_in_degree.sort_values(\"value\", ascending = False)"
   ]
  },
  {
   "cell_type": "code",
   "execution_count": 2,
   "id": "f1bfb977",
   "metadata": {},
   "outputs": [
    {
     "name": "stdout",
     "output_type": "stream",
     "text": [
      "Collecting openpyxl\n",
      "  Downloading openpyxl-3.0.10-py2.py3-none-any.whl (242 kB)\n",
      "\u001b[2K     \u001b[90m━━━━━━━━━━━━━━━━━━━━━━━━━━━━━━━━━━━━━━━\u001b[0m \u001b[32m242.1/242.1 kB\u001b[0m \u001b[31m3.0 MB/s\u001b[0m eta \u001b[36m0:00:00\u001b[0ma \u001b[36m0:00:01\u001b[0m\n",
      "\u001b[?25hCollecting et-xmlfile\n",
      "  Downloading et_xmlfile-1.1.0-py3-none-any.whl (4.7 kB)\n",
      "Installing collected packages: et-xmlfile, openpyxl\n",
      "Successfully installed et-xmlfile-1.1.0 openpyxl-3.0.10\n",
      "\u001b[33mWARNING: Running pip as the 'root' user can result in broken permissions and conflicting behaviour with the system package manager. It is recommended to use a virtual environment instead: https://pip.pypa.io/warnings/venv\u001b[0m\u001b[33m\n",
      "\u001b[0m\n",
      "\u001b[1m[\u001b[0m\u001b[34;49mnotice\u001b[0m\u001b[1;39;49m]\u001b[0m\u001b[39;49m A new release of pip available: \u001b[0m\u001b[31;49m22.2.2\u001b[0m\u001b[39;49m -> \u001b[0m\u001b[32;49m22.3\u001b[0m\n",
      "\u001b[1m[\u001b[0m\u001b[34;49mnotice\u001b[0m\u001b[1;39;49m]\u001b[0m\u001b[39;49m To update, run: \u001b[0m\u001b[32;49mpip install --upgrade pip\u001b[0m\n"
     ]
    }
   ],
   "source": [
    "!pip install openpyxl"
   ]
  },
  {
   "cell_type": "code",
   "execution_count": 25,
   "id": "7d11cda6",
   "metadata": {},
   "outputs": [
    {
     "name": "stderr",
     "output_type": "stream",
     "text": [
      "<frozen importlib._bootstrap>:914: ImportWarning: VendorImporter.find_spec() not found; falling back to find_module()\n"
     ]
    }
   ],
   "source": [
    "import openpyxl\n",
    "\n",
    "df_out_degree.to_excel('./fluxo_saida.xlsx')\n",
    "df_in_degree.to_excel('./fluxo_entrada.xlsx')"
   ]
  },
  {
   "cell_type": "code",
   "execution_count": null,
   "id": "2b0922d2",
   "metadata": {},
   "outputs": [],
   "source": []
  },
  {
   "cell_type": "code",
   "execution_count": null,
   "id": "9117f1d7",
   "metadata": {},
   "outputs": [],
   "source": []
  },
  {
   "cell_type": "code",
   "execution_count": null,
   "id": "e79b1fd2",
   "metadata": {},
   "outputs": [],
   "source": []
  },
  {
   "cell_type": "code",
   "execution_count": null,
   "id": "b60529f5",
   "metadata": {},
   "outputs": [],
   "source": []
  },
  {
   "cell_type": "code",
   "execution_count": null,
   "id": "c2642bba",
   "metadata": {},
   "outputs": [],
   "source": []
  }
 ],
 "metadata": {
  "kernelspec": {
   "display_name": "Python 3 (ipykernel)",
   "language": "python",
   "name": "python3"
  },
  "language_info": {
   "codemirror_mode": {
    "name": "ipython",
    "version": 3
   },
   "file_extension": ".py",
   "mimetype": "text/x-python",
   "name": "python",
   "nbconvert_exporter": "python",
   "pygments_lexer": "ipython3",
   "version": "3.10.6"
  }
 },
 "nbformat": 4,
 "nbformat_minor": 5
}
