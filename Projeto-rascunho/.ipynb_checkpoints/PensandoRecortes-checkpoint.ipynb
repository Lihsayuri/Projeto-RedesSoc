{
 "cells": [
  {
   "cell_type": "code",
   "execution_count": 2,
   "id": "1a18a06d",
   "metadata": {},
   "outputs": [],
   "source": [
    "import numpy as np\n",
    "import pandas as pd\n",
    "import seaborn as sns\n",
    "import regression as reg\n",
    "\n",
    "from scipy import stats\n",
    "from matplotlib import pyplot as plt\n",
    "\n",
    "import openpyxl"
   ]
  },
  {
   "cell_type": "code",
   "execution_count": 3,
   "id": "68e24314",
   "metadata": {},
   "outputs": [
    {
     "name": "stdout",
     "output_type": "stream",
     "text": [
      "225\n"
     ]
    },
    {
     "name": "stderr",
     "output_type": "stream",
     "text": [
      "/tmp/ipykernel_30/3493258437.py:1: DtypeWarning: Columns (4,5,6,7,8,9,10,11,12,13) have mixed types. Specify dtype option on import or set low_memory=False.\n",
      "  df_completo = pd.read_csv('./asylum_seekers.csv')\n"
     ]
    }
   ],
   "source": [
    "df_completo = pd.read_csv('./asylum_seekers.csv')\n",
    "\n",
    "listaVertices = []\n",
    "\n",
    "listaVertices = set(df_completo['Country / territory of asylum/residence'].unique().tolist() + df_completo['Origin'].unique().tolist())\n",
    "\n",
    "print(len(listaVertices))\n",
    "\n"
   ]
  },
  {
   "cell_type": "code",
   "execution_count": 4,
   "id": "332cdb55",
   "metadata": {},
   "outputs": [
    {
     "data": {
      "text/html": [
       "<div>\n",
       "<style scoped>\n",
       "    .dataframe tbody tr th:only-of-type {\n",
       "        vertical-align: middle;\n",
       "    }\n",
       "\n",
       "    .dataframe tbody tr th {\n",
       "        vertical-align: top;\n",
       "    }\n",
       "\n",
       "    .dataframe thead th {\n",
       "        text-align: right;\n",
       "    }\n",
       "</style>\n",
       "<table border=\"1\" class=\"dataframe\">\n",
       "  <thead>\n",
       "    <tr style=\"text-align: right;\">\n",
       "      <th></th>\n",
       "      <th>Unnamed: 0.1</th>\n",
       "      <th>Unnamed: 0</th>\n",
       "      <th>country</th>\n",
       "      <th>idh_2000</th>\n",
       "      <th>idh_2001</th>\n",
       "      <th>idh_2002</th>\n",
       "      <th>idh_2003</th>\n",
       "      <th>idh_2004</th>\n",
       "      <th>idh_2005</th>\n",
       "      <th>idh_2006</th>\n",
       "      <th>...</th>\n",
       "      <th>n_neightbours</th>\n",
       "      <th>idh_avg</th>\n",
       "      <th>rejected</th>\n",
       "      <th>betweenness</th>\n",
       "      <th>pop_cont</th>\n",
       "      <th>coreness</th>\n",
       "      <th>in_degree</th>\n",
       "      <th>out_degree</th>\n",
       "      <th>open</th>\n",
       "      <th>coreness_discreto</th>\n",
       "    </tr>\n",
       "  </thead>\n",
       "  <tbody>\n",
       "    <tr>\n",
       "      <th>0</th>\n",
       "      <td>0</td>\n",
       "      <td>0</td>\n",
       "      <td>China, Hong Kong SAR</td>\n",
       "      <td>0.830</td>\n",
       "      <td>0.838</td>\n",
       "      <td>0.845</td>\n",
       "      <td>0.854</td>\n",
       "      <td>0.865</td>\n",
       "      <td>0.874</td>\n",
       "      <td>0.886</td>\n",
       "      <td>...</td>\n",
       "      <td>1</td>\n",
       "      <td>0.889235</td>\n",
       "      <td>7767</td>\n",
       "      <td>2.861034e-04</td>\n",
       "      <td>0</td>\n",
       "      <td>0.240278</td>\n",
       "      <td>830</td>\n",
       "      <td>16</td>\n",
       "      <td>9.654531</td>\n",
       "      <td>0</td>\n",
       "    </tr>\n",
       "    <tr>\n",
       "      <th>1</th>\n",
       "      <td>1</td>\n",
       "      <td>1</td>\n",
       "      <td>China, Macao SAR</td>\n",
       "      <td>0.922</td>\n",
       "      <td>0.922</td>\n",
       "      <td>0.922</td>\n",
       "      <td>0.922</td>\n",
       "      <td>0.922</td>\n",
       "      <td>0.922</td>\n",
       "      <td>0.922</td>\n",
       "      <td>...</td>\n",
       "      <td>1</td>\n",
       "      <td>0.922000</td>\n",
       "      <td>7</td>\n",
       "      <td>8.704008e-07</td>\n",
       "      <td>0</td>\n",
       "      <td>0.098611</td>\n",
       "      <td>10</td>\n",
       "      <td>3</td>\n",
       "      <td>58.823529</td>\n",
       "      <td>0</td>\n",
       "    </tr>\n",
       "    <tr>\n",
       "      <th>2</th>\n",
       "      <td>2</td>\n",
       "      <td>2</td>\n",
       "      <td>Afghanistan</td>\n",
       "      <td>0.350</td>\n",
       "      <td>0.353</td>\n",
       "      <td>0.384</td>\n",
       "      <td>0.393</td>\n",
       "      <td>0.409</td>\n",
       "      <td>0.418</td>\n",
       "      <td>0.429</td>\n",
       "      <td>...</td>\n",
       "      <td>6</td>\n",
       "      <td>0.442706</td>\n",
       "      <td>243</td>\n",
       "      <td>2.351135e-03</td>\n",
       "      <td>0</td>\n",
       "      <td>0.120833</td>\n",
       "      <td>249</td>\n",
       "      <td>239198</td>\n",
       "      <td>50.609756</td>\n",
       "      <td>0</td>\n",
       "    </tr>\n",
       "    <tr>\n",
       "      <th>3</th>\n",
       "      <td>3</td>\n",
       "      <td>3</td>\n",
       "      <td>Albania</td>\n",
       "      <td>0.671</td>\n",
       "      <td>0.678</td>\n",
       "      <td>0.684</td>\n",
       "      <td>0.691</td>\n",
       "      <td>0.696</td>\n",
       "      <td>0.706</td>\n",
       "      <td>0.713</td>\n",
       "      <td>...</td>\n",
       "      <td>4</td>\n",
       "      <td>0.732412</td>\n",
       "      <td>64</td>\n",
       "      <td>1.306107e-03</td>\n",
       "      <td>0</td>\n",
       "      <td>0.218056</td>\n",
       "      <td>158</td>\n",
       "      <td>14660</td>\n",
       "      <td>71.171171</td>\n",
       "      <td>0</td>\n",
       "    </tr>\n",
       "    <tr>\n",
       "      <th>4</th>\n",
       "      <td>4</td>\n",
       "      <td>4</td>\n",
       "      <td>Algeria</td>\n",
       "      <td>0.637</td>\n",
       "      <td>0.647</td>\n",
       "      <td>0.657</td>\n",
       "      <td>0.667</td>\n",
       "      <td>0.677</td>\n",
       "      <td>0.685</td>\n",
       "      <td>0.690</td>\n",
       "      <td>...</td>\n",
       "      <td>7</td>\n",
       "      <td>0.699882</td>\n",
       "      <td>5511</td>\n",
       "      <td>5.926680e-03</td>\n",
       "      <td>0</td>\n",
       "      <td>0.222222</td>\n",
       "      <td>404</td>\n",
       "      <td>6174</td>\n",
       "      <td>6.830093</td>\n",
       "      <td>0</td>\n",
       "    </tr>\n",
       "    <tr>\n",
       "      <th>...</th>\n",
       "      <td>...</td>\n",
       "      <td>...</td>\n",
       "      <td>...</td>\n",
       "      <td>...</td>\n",
       "      <td>...</td>\n",
       "      <td>...</td>\n",
       "      <td>...</td>\n",
       "      <td>...</td>\n",
       "      <td>...</td>\n",
       "      <td>...</td>\n",
       "      <td>...</td>\n",
       "      <td>...</td>\n",
       "      <td>...</td>\n",
       "      <td>...</td>\n",
       "      <td>...</td>\n",
       "      <td>...</td>\n",
       "      <td>...</td>\n",
       "      <td>...</td>\n",
       "      <td>...</td>\n",
       "      <td>...</td>\n",
       "      <td>...</td>\n",
       "    </tr>\n",
       "    <tr>\n",
       "      <th>220</th>\n",
       "      <td>220</td>\n",
       "      <td>220</td>\n",
       "      <td>Wallis and Futuna Islands</td>\n",
       "      <td>0.763</td>\n",
       "      <td>0.763</td>\n",
       "      <td>0.763</td>\n",
       "      <td>0.763</td>\n",
       "      <td>0.763</td>\n",
       "      <td>0.763</td>\n",
       "      <td>0.763</td>\n",
       "      <td>...</td>\n",
       "      <td>0</td>\n",
       "      <td>0.763000</td>\n",
       "      <td>0</td>\n",
       "      <td>0.000000e+00</td>\n",
       "      <td>0</td>\n",
       "      <td>0.045833</td>\n",
       "      <td>0</td>\n",
       "      <td>0</td>\n",
       "      <td>0.000000</td>\n",
       "      <td>0</td>\n",
       "    </tr>\n",
       "    <tr>\n",
       "      <th>221</th>\n",
       "      <td>221</td>\n",
       "      <td>221</td>\n",
       "      <td>Western Sahara</td>\n",
       "      <td>0.000</td>\n",
       "      <td>0.000</td>\n",
       "      <td>0.000</td>\n",
       "      <td>0.000</td>\n",
       "      <td>0.000</td>\n",
       "      <td>0.000</td>\n",
       "      <td>0.000</td>\n",
       "      <td>...</td>\n",
       "      <td>3</td>\n",
       "      <td>0.000000</td>\n",
       "      <td>0</td>\n",
       "      <td>0.000000e+00</td>\n",
       "      <td>0</td>\n",
       "      <td>0.004167</td>\n",
       "      <td>0</td>\n",
       "      <td>473</td>\n",
       "      <td>0.000000</td>\n",
       "      <td>0</td>\n",
       "    </tr>\n",
       "    <tr>\n",
       "      <th>222</th>\n",
       "      <td>222</td>\n",
       "      <td>222</td>\n",
       "      <td>Yemen</td>\n",
       "      <td>0.444</td>\n",
       "      <td>0.453</td>\n",
       "      <td>0.461</td>\n",
       "      <td>0.470</td>\n",
       "      <td>0.477</td>\n",
       "      <td>0.483</td>\n",
       "      <td>0.488</td>\n",
       "      <td>...</td>\n",
       "      <td>2</td>\n",
       "      <td>0.485235</td>\n",
       "      <td>5730</td>\n",
       "      <td>5.728203e-03</td>\n",
       "      <td>0</td>\n",
       "      <td>0.194444</td>\n",
       "      <td>11977</td>\n",
       "      <td>10037</td>\n",
       "      <td>67.639916</td>\n",
       "      <td>0</td>\n",
       "    </tr>\n",
       "    <tr>\n",
       "      <th>223</th>\n",
       "      <td>223</td>\n",
       "      <td>223</td>\n",
       "      <td>Zambia</td>\n",
       "      <td>0.425</td>\n",
       "      <td>0.432</td>\n",
       "      <td>0.441</td>\n",
       "      <td>0.451</td>\n",
       "      <td>0.460</td>\n",
       "      <td>0.471</td>\n",
       "      <td>0.482</td>\n",
       "      <td>...</td>\n",
       "      <td>8</td>\n",
       "      <td>0.502235</td>\n",
       "      <td>2454</td>\n",
       "      <td>9.805704e-04</td>\n",
       "      <td>0</td>\n",
       "      <td>0.166667</td>\n",
       "      <td>8280</td>\n",
       "      <td>295</td>\n",
       "      <td>77.138066</td>\n",
       "      <td>0</td>\n",
       "    </tr>\n",
       "    <tr>\n",
       "      <th>224</th>\n",
       "      <td>224</td>\n",
       "      <td>224</td>\n",
       "      <td>Zimbabwe</td>\n",
       "      <td>0.430</td>\n",
       "      <td>0.431</td>\n",
       "      <td>0.423</td>\n",
       "      <td>0.414</td>\n",
       "      <td>0.411</td>\n",
       "      <td>0.411</td>\n",
       "      <td>0.414</td>\n",
       "      <td>...</td>\n",
       "      <td>4</td>\n",
       "      <td>0.466824</td>\n",
       "      <td>1315</td>\n",
       "      <td>2.669126e-03</td>\n",
       "      <td>0</td>\n",
       "      <td>0.156944</td>\n",
       "      <td>15749</td>\n",
       "      <td>25778</td>\n",
       "      <td>92.293718</td>\n",
       "      <td>0</td>\n",
       "    </tr>\n",
       "  </tbody>\n",
       "</table>\n",
       "<p>225 rows × 31 columns</p>\n",
       "</div>"
      ],
      "text/plain": [
       "     Unnamed: 0.1  Unnamed: 0                     country  idh_2000  idh_2001  \\\n",
       "0               0           0        China, Hong Kong SAR     0.830     0.838   \n",
       "1               1           1            China, Macao SAR     0.922     0.922   \n",
       "2               2           2                 Afghanistan     0.350     0.353   \n",
       "3               3           3                     Albania     0.671     0.678   \n",
       "4               4           4                     Algeria     0.637     0.647   \n",
       "..            ...         ...                         ...       ...       ...   \n",
       "220           220         220  Wallis and Futuna Islands      0.763     0.763   \n",
       "221           221         221              Western Sahara     0.000     0.000   \n",
       "222           222         222                       Yemen     0.444     0.453   \n",
       "223           223         223                      Zambia     0.425     0.432   \n",
       "224           224         224                    Zimbabwe     0.430     0.431   \n",
       "\n",
       "     idh_2002  idh_2003  idh_2004  idh_2005  idh_2006  ...  n_neightbours  \\\n",
       "0       0.845     0.854     0.865     0.874     0.886  ...              1   \n",
       "1       0.922     0.922     0.922     0.922     0.922  ...              1   \n",
       "2       0.384     0.393     0.409     0.418     0.429  ...              6   \n",
       "3       0.684     0.691     0.696     0.706     0.713  ...              4   \n",
       "4       0.657     0.667     0.677     0.685     0.690  ...              7   \n",
       "..        ...       ...       ...       ...       ...  ...            ...   \n",
       "220     0.763     0.763     0.763     0.763     0.763  ...              0   \n",
       "221     0.000     0.000     0.000     0.000     0.000  ...              3   \n",
       "222     0.461     0.470     0.477     0.483     0.488  ...              2   \n",
       "223     0.441     0.451     0.460     0.471     0.482  ...              8   \n",
       "224     0.423     0.414     0.411     0.411     0.414  ...              4   \n",
       "\n",
       "      idh_avg  rejected   betweenness  pop_cont  coreness  in_degree  \\\n",
       "0    0.889235      7767  2.861034e-04         0  0.240278        830   \n",
       "1    0.922000         7  8.704008e-07         0  0.098611         10   \n",
       "2    0.442706       243  2.351135e-03         0  0.120833        249   \n",
       "3    0.732412        64  1.306107e-03         0  0.218056        158   \n",
       "4    0.699882      5511  5.926680e-03         0  0.222222        404   \n",
       "..        ...       ...           ...       ...       ...        ...   \n",
       "220  0.763000         0  0.000000e+00         0  0.045833          0   \n",
       "221  0.000000         0  0.000000e+00         0  0.004167          0   \n",
       "222  0.485235      5730  5.728203e-03         0  0.194444      11977   \n",
       "223  0.502235      2454  9.805704e-04         0  0.166667       8280   \n",
       "224  0.466824      1315  2.669126e-03         0  0.156944      15749   \n",
       "\n",
       "     out_degree       open  coreness_discreto  \n",
       "0            16   9.654531                  0  \n",
       "1             3  58.823529                  0  \n",
       "2        239198  50.609756                  0  \n",
       "3         14660  71.171171                  0  \n",
       "4          6174   6.830093                  0  \n",
       "..          ...        ...                ...  \n",
       "220           0   0.000000                  0  \n",
       "221         473   0.000000                  0  \n",
       "222       10037  67.639916                  0  \n",
       "223         295  77.138066                  0  \n",
       "224       25778  92.293718                  0  \n",
       "\n",
       "[225 rows x 31 columns]"
      ]
     },
     "execution_count": 4,
     "metadata": {},
     "output_type": "execute_result"
    }
   ],
   "source": [
    "data = pd.read_excel('./final_db.xlsx')\n",
    "data"
   ]
  },
  {
   "cell_type": "code",
   "execution_count": 5,
   "id": "6c6698fd",
   "metadata": {},
   "outputs": [
    {
     "name": "stdout",
     "output_type": "stream",
     "text": [
      "<class 'pandas.core.frame.DataFrame'>\n",
      "RangeIndex: 225 entries, 0 to 224\n",
      "Data columns (total 31 columns):\n",
      " #   Column             Non-Null Count  Dtype  \n",
      "---  ------             --------------  -----  \n",
      " 0   Unnamed: 0.1       225 non-null    int64  \n",
      " 1   Unnamed: 0         225 non-null    int64  \n",
      " 2   country            225 non-null    object \n",
      " 3   idh_2000           225 non-null    float64\n",
      " 4   idh_2001           225 non-null    float64\n",
      " 5   idh_2002           225 non-null    float64\n",
      " 6   idh_2003           225 non-null    float64\n",
      " 7   idh_2004           225 non-null    float64\n",
      " 8   idh_2005           225 non-null    float64\n",
      " 9   idh_2006           225 non-null    float64\n",
      " 10  idh_2007           225 non-null    float64\n",
      " 11  idh_2008           225 non-null    float64\n",
      " 12  idh_2009           225 non-null    float64\n",
      " 13  idh_2010           225 non-null    float64\n",
      " 14  idh_2011           225 non-null    float64\n",
      " 15  idh_2012           225 non-null    float64\n",
      " 16  idh_2013           225 non-null    float64\n",
      " 17  idh_2014           225 non-null    float64\n",
      " 18  idh_2015           225 non-null    float64\n",
      " 19  idh_2016           225 non-null    float64\n",
      " 20  n_wars             225 non-null    int64  \n",
      " 21  n_neightbours      225 non-null    int64  \n",
      " 22  idh_avg            225 non-null    float64\n",
      " 23  rejected           225 non-null    int64  \n",
      " 24  betweenness        225 non-null    float64\n",
      " 25  pop_cont           225 non-null    int64  \n",
      " 26  coreness           225 non-null    float64\n",
      " 27  in_degree          225 non-null    int64  \n",
      " 28  out_degree         225 non-null    int64  \n",
      " 29  open               224 non-null    float64\n",
      " 30  coreness_discreto  225 non-null    int64  \n",
      "dtypes: float64(21), int64(9), object(1)\n",
      "memory usage: 54.6+ KB\n"
     ]
    }
   ],
   "source": [
    "data.info()"
   ]
  },
  {
   "cell_type": "code",
   "execution_count": 6,
   "id": "ca729dd7",
   "metadata": {},
   "outputs": [
    {
     "data": {
      "text/html": [
       "<div>\n",
       "<style scoped>\n",
       "    .dataframe tbody tr th:only-of-type {\n",
       "        vertical-align: middle;\n",
       "    }\n",
       "\n",
       "    .dataframe tbody tr th {\n",
       "        vertical-align: top;\n",
       "    }\n",
       "\n",
       "    .dataframe thead th {\n",
       "        text-align: right;\n",
       "    }\n",
       "</style>\n",
       "<table border=\"1\" class=\"dataframe\">\n",
       "  <thead>\n",
       "    <tr style=\"text-align: right;\">\n",
       "      <th></th>\n",
       "      <th>Unnamed: 0.1</th>\n",
       "      <th>Unnamed: 0</th>\n",
       "      <th>country</th>\n",
       "      <th>idh_2000</th>\n",
       "      <th>idh_2001</th>\n",
       "      <th>idh_2002</th>\n",
       "      <th>idh_2003</th>\n",
       "      <th>idh_2004</th>\n",
       "      <th>idh_2005</th>\n",
       "      <th>idh_2006</th>\n",
       "      <th>...</th>\n",
       "      <th>n_neightbours</th>\n",
       "      <th>idh_avg</th>\n",
       "      <th>rejected</th>\n",
       "      <th>betweenness</th>\n",
       "      <th>pop_cont</th>\n",
       "      <th>coreness</th>\n",
       "      <th>in_degree</th>\n",
       "      <th>out_degree</th>\n",
       "      <th>open</th>\n",
       "      <th>coreness_discreto</th>\n",
       "    </tr>\n",
       "  </thead>\n",
       "  <tbody>\n",
       "    <tr>\n",
       "      <th>0</th>\n",
       "      <td>0</td>\n",
       "      <td>0</td>\n",
       "      <td>China, Hong Kong SAR</td>\n",
       "      <td>0.830</td>\n",
       "      <td>0.838</td>\n",
       "      <td>0.845</td>\n",
       "      <td>0.854</td>\n",
       "      <td>0.865</td>\n",
       "      <td>0.874</td>\n",
       "      <td>0.886</td>\n",
       "      <td>...</td>\n",
       "      <td>1</td>\n",
       "      <td>0.889235</td>\n",
       "      <td>7767</td>\n",
       "      <td>2.861034e-04</td>\n",
       "      <td>0</td>\n",
       "      <td>0.240278</td>\n",
       "      <td>830</td>\n",
       "      <td>16</td>\n",
       "      <td>9.654531</td>\n",
       "      <td>0</td>\n",
       "    </tr>\n",
       "    <tr>\n",
       "      <th>1</th>\n",
       "      <td>1</td>\n",
       "      <td>1</td>\n",
       "      <td>China, Macao SAR</td>\n",
       "      <td>0.922</td>\n",
       "      <td>0.922</td>\n",
       "      <td>0.922</td>\n",
       "      <td>0.922</td>\n",
       "      <td>0.922</td>\n",
       "      <td>0.922</td>\n",
       "      <td>0.922</td>\n",
       "      <td>...</td>\n",
       "      <td>1</td>\n",
       "      <td>0.922000</td>\n",
       "      <td>7</td>\n",
       "      <td>8.704008e-07</td>\n",
       "      <td>0</td>\n",
       "      <td>0.098611</td>\n",
       "      <td>10</td>\n",
       "      <td>3</td>\n",
       "      <td>58.823529</td>\n",
       "      <td>0</td>\n",
       "    </tr>\n",
       "    <tr>\n",
       "      <th>2</th>\n",
       "      <td>2</td>\n",
       "      <td>2</td>\n",
       "      <td>Afghanistan</td>\n",
       "      <td>0.350</td>\n",
       "      <td>0.353</td>\n",
       "      <td>0.384</td>\n",
       "      <td>0.393</td>\n",
       "      <td>0.409</td>\n",
       "      <td>0.418</td>\n",
       "      <td>0.429</td>\n",
       "      <td>...</td>\n",
       "      <td>6</td>\n",
       "      <td>0.442706</td>\n",
       "      <td>243</td>\n",
       "      <td>2.351135e-03</td>\n",
       "      <td>0</td>\n",
       "      <td>0.120833</td>\n",
       "      <td>249</td>\n",
       "      <td>239198</td>\n",
       "      <td>50.609756</td>\n",
       "      <td>0</td>\n",
       "    </tr>\n",
       "    <tr>\n",
       "      <th>3</th>\n",
       "      <td>3</td>\n",
       "      <td>3</td>\n",
       "      <td>Albania</td>\n",
       "      <td>0.671</td>\n",
       "      <td>0.678</td>\n",
       "      <td>0.684</td>\n",
       "      <td>0.691</td>\n",
       "      <td>0.696</td>\n",
       "      <td>0.706</td>\n",
       "      <td>0.713</td>\n",
       "      <td>...</td>\n",
       "      <td>4</td>\n",
       "      <td>0.732412</td>\n",
       "      <td>64</td>\n",
       "      <td>1.306107e-03</td>\n",
       "      <td>0</td>\n",
       "      <td>0.218056</td>\n",
       "      <td>158</td>\n",
       "      <td>14660</td>\n",
       "      <td>71.171171</td>\n",
       "      <td>0</td>\n",
       "    </tr>\n",
       "    <tr>\n",
       "      <th>4</th>\n",
       "      <td>4</td>\n",
       "      <td>4</td>\n",
       "      <td>Algeria</td>\n",
       "      <td>0.637</td>\n",
       "      <td>0.647</td>\n",
       "      <td>0.657</td>\n",
       "      <td>0.667</td>\n",
       "      <td>0.677</td>\n",
       "      <td>0.685</td>\n",
       "      <td>0.690</td>\n",
       "      <td>...</td>\n",
       "      <td>7</td>\n",
       "      <td>0.699882</td>\n",
       "      <td>5511</td>\n",
       "      <td>5.926680e-03</td>\n",
       "      <td>0</td>\n",
       "      <td>0.222222</td>\n",
       "      <td>404</td>\n",
       "      <td>6174</td>\n",
       "      <td>6.830093</td>\n",
       "      <td>0</td>\n",
       "    </tr>\n",
       "    <tr>\n",
       "      <th>...</th>\n",
       "      <td>...</td>\n",
       "      <td>...</td>\n",
       "      <td>...</td>\n",
       "      <td>...</td>\n",
       "      <td>...</td>\n",
       "      <td>...</td>\n",
       "      <td>...</td>\n",
       "      <td>...</td>\n",
       "      <td>...</td>\n",
       "      <td>...</td>\n",
       "      <td>...</td>\n",
       "      <td>...</td>\n",
       "      <td>...</td>\n",
       "      <td>...</td>\n",
       "      <td>...</td>\n",
       "      <td>...</td>\n",
       "      <td>...</td>\n",
       "      <td>...</td>\n",
       "      <td>...</td>\n",
       "      <td>...</td>\n",
       "      <td>...</td>\n",
       "    </tr>\n",
       "    <tr>\n",
       "      <th>220</th>\n",
       "      <td>220</td>\n",
       "      <td>220</td>\n",
       "      <td>Wallis and Futuna Islands</td>\n",
       "      <td>0.763</td>\n",
       "      <td>0.763</td>\n",
       "      <td>0.763</td>\n",
       "      <td>0.763</td>\n",
       "      <td>0.763</td>\n",
       "      <td>0.763</td>\n",
       "      <td>0.763</td>\n",
       "      <td>...</td>\n",
       "      <td>0</td>\n",
       "      <td>0.763000</td>\n",
       "      <td>0</td>\n",
       "      <td>0.000000e+00</td>\n",
       "      <td>0</td>\n",
       "      <td>0.045833</td>\n",
       "      <td>0</td>\n",
       "      <td>0</td>\n",
       "      <td>0.000000</td>\n",
       "      <td>0</td>\n",
       "    </tr>\n",
       "    <tr>\n",
       "      <th>221</th>\n",
       "      <td>221</td>\n",
       "      <td>221</td>\n",
       "      <td>Western Sahara</td>\n",
       "      <td>0.000</td>\n",
       "      <td>0.000</td>\n",
       "      <td>0.000</td>\n",
       "      <td>0.000</td>\n",
       "      <td>0.000</td>\n",
       "      <td>0.000</td>\n",
       "      <td>0.000</td>\n",
       "      <td>...</td>\n",
       "      <td>3</td>\n",
       "      <td>0.000000</td>\n",
       "      <td>0</td>\n",
       "      <td>0.000000e+00</td>\n",
       "      <td>0</td>\n",
       "      <td>0.004167</td>\n",
       "      <td>0</td>\n",
       "      <td>473</td>\n",
       "      <td>0.000000</td>\n",
       "      <td>0</td>\n",
       "    </tr>\n",
       "    <tr>\n",
       "      <th>222</th>\n",
       "      <td>222</td>\n",
       "      <td>222</td>\n",
       "      <td>Yemen</td>\n",
       "      <td>0.444</td>\n",
       "      <td>0.453</td>\n",
       "      <td>0.461</td>\n",
       "      <td>0.470</td>\n",
       "      <td>0.477</td>\n",
       "      <td>0.483</td>\n",
       "      <td>0.488</td>\n",
       "      <td>...</td>\n",
       "      <td>2</td>\n",
       "      <td>0.485235</td>\n",
       "      <td>5730</td>\n",
       "      <td>5.728203e-03</td>\n",
       "      <td>0</td>\n",
       "      <td>0.194444</td>\n",
       "      <td>11977</td>\n",
       "      <td>10037</td>\n",
       "      <td>67.639916</td>\n",
       "      <td>0</td>\n",
       "    </tr>\n",
       "    <tr>\n",
       "      <th>223</th>\n",
       "      <td>223</td>\n",
       "      <td>223</td>\n",
       "      <td>Zambia</td>\n",
       "      <td>0.425</td>\n",
       "      <td>0.432</td>\n",
       "      <td>0.441</td>\n",
       "      <td>0.451</td>\n",
       "      <td>0.460</td>\n",
       "      <td>0.471</td>\n",
       "      <td>0.482</td>\n",
       "      <td>...</td>\n",
       "      <td>8</td>\n",
       "      <td>0.502235</td>\n",
       "      <td>2454</td>\n",
       "      <td>9.805704e-04</td>\n",
       "      <td>0</td>\n",
       "      <td>0.166667</td>\n",
       "      <td>8280</td>\n",
       "      <td>295</td>\n",
       "      <td>77.138066</td>\n",
       "      <td>0</td>\n",
       "    </tr>\n",
       "    <tr>\n",
       "      <th>224</th>\n",
       "      <td>224</td>\n",
       "      <td>224</td>\n",
       "      <td>Zimbabwe</td>\n",
       "      <td>0.430</td>\n",
       "      <td>0.431</td>\n",
       "      <td>0.423</td>\n",
       "      <td>0.414</td>\n",
       "      <td>0.411</td>\n",
       "      <td>0.411</td>\n",
       "      <td>0.414</td>\n",
       "      <td>...</td>\n",
       "      <td>4</td>\n",
       "      <td>0.466824</td>\n",
       "      <td>1315</td>\n",
       "      <td>2.669126e-03</td>\n",
       "      <td>0</td>\n",
       "      <td>0.156944</td>\n",
       "      <td>15749</td>\n",
       "      <td>25778</td>\n",
       "      <td>92.293718</td>\n",
       "      <td>0</td>\n",
       "    </tr>\n",
       "  </tbody>\n",
       "</table>\n",
       "<p>225 rows × 31 columns</p>\n",
       "</div>"
      ],
      "text/plain": [
       "     Unnamed: 0.1  Unnamed: 0                     country  idh_2000  idh_2001  \\\n",
       "0               0           0        China, Hong Kong SAR     0.830     0.838   \n",
       "1               1           1            China, Macao SAR     0.922     0.922   \n",
       "2               2           2                 Afghanistan     0.350     0.353   \n",
       "3               3           3                     Albania     0.671     0.678   \n",
       "4               4           4                     Algeria     0.637     0.647   \n",
       "..            ...         ...                         ...       ...       ...   \n",
       "220           220         220  Wallis and Futuna Islands      0.763     0.763   \n",
       "221           221         221              Western Sahara     0.000     0.000   \n",
       "222           222         222                       Yemen     0.444     0.453   \n",
       "223           223         223                      Zambia     0.425     0.432   \n",
       "224           224         224                    Zimbabwe     0.430     0.431   \n",
       "\n",
       "     idh_2002  idh_2003  idh_2004  idh_2005  idh_2006  ...  n_neightbours  \\\n",
       "0       0.845     0.854     0.865     0.874     0.886  ...              1   \n",
       "1       0.922     0.922     0.922     0.922     0.922  ...              1   \n",
       "2       0.384     0.393     0.409     0.418     0.429  ...              6   \n",
       "3       0.684     0.691     0.696     0.706     0.713  ...              4   \n",
       "4       0.657     0.667     0.677     0.685     0.690  ...              7   \n",
       "..        ...       ...       ...       ...       ...  ...            ...   \n",
       "220     0.763     0.763     0.763     0.763     0.763  ...              0   \n",
       "221     0.000     0.000     0.000     0.000     0.000  ...              3   \n",
       "222     0.461     0.470     0.477     0.483     0.488  ...              2   \n",
       "223     0.441     0.451     0.460     0.471     0.482  ...              8   \n",
       "224     0.423     0.414     0.411     0.411     0.414  ...              4   \n",
       "\n",
       "      idh_avg  rejected   betweenness  pop_cont  coreness  in_degree  \\\n",
       "0    0.889235      7767  2.861034e-04         0  0.240278        830   \n",
       "1    0.922000         7  8.704008e-07         0  0.098611         10   \n",
       "2    0.442706       243  2.351135e-03         0  0.120833        249   \n",
       "3    0.732412        64  1.306107e-03         0  0.218056        158   \n",
       "4    0.699882      5511  5.926680e-03         0  0.222222        404   \n",
       "..        ...       ...           ...       ...       ...        ...   \n",
       "220  0.763000         0  0.000000e+00         0  0.045833          0   \n",
       "221  0.000000         0  0.000000e+00         0  0.004167          0   \n",
       "222  0.485235      5730  5.728203e-03         0  0.194444      11977   \n",
       "223  0.502235      2454  9.805704e-04         0  0.166667       8280   \n",
       "224  0.466824      1315  2.669126e-03         0  0.156944      15749   \n",
       "\n",
       "     out_degree       open  coreness_discreto  \n",
       "0            16   9.654531                  0  \n",
       "1             3  58.823529                  0  \n",
       "2        239198  50.609756                  0  \n",
       "3         14660  71.171171                  0  \n",
       "4          6174   6.830093                  0  \n",
       "..          ...        ...                ...  \n",
       "220           0   0.000000                  0  \n",
       "221         473   0.000000                  0  \n",
       "222       10037  67.639916                  0  \n",
       "223         295  77.138066                  0  \n",
       "224       25778  92.293718                  0  \n",
       "\n",
       "[225 rows x 31 columns]"
      ]
     },
     "execution_count": 6,
     "metadata": {},
     "output_type": "execute_result"
    }
   ],
   "source": [
    "data_certo = data['coreness'].apply(lambda x: 0 if x < 0.3 else 1 if x > 0.7 else x)\n",
    "\n",
    "data[\"coreness_discreto\"] = data_certo\n",
    "data"
   ]
  },
  {
   "cell_type": "code",
   "execution_count": 7,
   "id": "dc15634e",
   "metadata": {},
   "outputs": [
    {
     "data": {
      "text/html": [
       "<div>\n",
       "<style scoped>\n",
       "    .dataframe tbody tr th:only-of-type {\n",
       "        vertical-align: middle;\n",
       "    }\n",
       "\n",
       "    .dataframe tbody tr th {\n",
       "        vertical-align: top;\n",
       "    }\n",
       "\n",
       "    .dataframe thead th {\n",
       "        text-align: right;\n",
       "    }\n",
       "</style>\n",
       "<table border=\"1\" class=\"dataframe\">\n",
       "  <thead>\n",
       "    <tr style=\"text-align: right;\">\n",
       "      <th></th>\n",
       "      <th>country</th>\n",
       "      <th>betweenness</th>\n",
       "      <th>n_neightbours</th>\n",
       "    </tr>\n",
       "  </thead>\n",
       "  <tbody>\n",
       "    <tr>\n",
       "      <th>13</th>\n",
       "      <td>Australia</td>\n",
       "      <td>0.009160</td>\n",
       "      <td>0</td>\n",
       "    </tr>\n",
       "    <tr>\n",
       "      <th>21</th>\n",
       "      <td>Belgium</td>\n",
       "      <td>0.012111</td>\n",
       "      <td>4</td>\n",
       "    </tr>\n",
       "    <tr>\n",
       "      <th>39</th>\n",
       "      <td>Canada</td>\n",
       "      <td>0.021672</td>\n",
       "      <td>1</td>\n",
       "    </tr>\n",
       "    <tr>\n",
       "      <th>55</th>\n",
       "      <td>Czech Rep.</td>\n",
       "      <td>0.001388</td>\n",
       "      <td>4</td>\n",
       "    </tr>\n",
       "    <tr>\n",
       "      <th>58</th>\n",
       "      <td>Denmark</td>\n",
       "      <td>0.002699</td>\n",
       "      <td>1</td>\n",
       "    </tr>\n",
       "    <tr>\n",
       "      <th>80</th>\n",
       "      <td>Greece</td>\n",
       "      <td>0.004380</td>\n",
       "      <td>4</td>\n",
       "    </tr>\n",
       "    <tr>\n",
       "      <th>96</th>\n",
       "      <td>Ireland</td>\n",
       "      <td>0.003192</td>\n",
       "      <td>1</td>\n",
       "    </tr>\n",
       "    <tr>\n",
       "      <th>108</th>\n",
       "      <td>Latvia</td>\n",
       "      <td>0.009413</td>\n",
       "      <td>4</td>\n",
       "    </tr>\n",
       "    <tr>\n",
       "      <th>138</th>\n",
       "      <td>Netherlands</td>\n",
       "      <td>0.007397</td>\n",
       "      <td>2</td>\n",
       "    </tr>\n",
       "    <tr>\n",
       "      <th>146</th>\n",
       "      <td>Norway</td>\n",
       "      <td>0.002697</td>\n",
       "      <td>3</td>\n",
       "    </tr>\n",
       "    <tr>\n",
       "      <th>157</th>\n",
       "      <td>Portugal</td>\n",
       "      <td>0.001205</td>\n",
       "      <td>1</td>\n",
       "    </tr>\n",
       "    <tr>\n",
       "      <th>160</th>\n",
       "      <td>Rep. of Korea</td>\n",
       "      <td>0.002236</td>\n",
       "      <td>1</td>\n",
       "    </tr>\n",
       "    <tr>\n",
       "      <th>192</th>\n",
       "      <td>Sweden</td>\n",
       "      <td>0.003626</td>\n",
       "      <td>2</td>\n",
       "    </tr>\n",
       "    <tr>\n",
       "      <th>211</th>\n",
       "      <td>United Kingdom</td>\n",
       "      <td>0.038188</td>\n",
       "      <td>1</td>\n",
       "    </tr>\n",
       "    <tr>\n",
       "      <th>213</th>\n",
       "      <td>United States of America</td>\n",
       "      <td>0.088410</td>\n",
       "      <td>2</td>\n",
       "    </tr>\n",
       "  </tbody>\n",
       "</table>\n",
       "</div>"
      ],
      "text/plain": [
       "                      country  betweenness  n_neightbours\n",
       "13                  Australia     0.009160              0\n",
       "21                    Belgium     0.012111              4\n",
       "39                     Canada     0.021672              1\n",
       "55                 Czech Rep.     0.001388              4\n",
       "58                    Denmark     0.002699              1\n",
       "80                     Greece     0.004380              4\n",
       "96                    Ireland     0.003192              1\n",
       "108                    Latvia     0.009413              4\n",
       "138               Netherlands     0.007397              2\n",
       "146                    Norway     0.002697              3\n",
       "157                  Portugal     0.001205              1\n",
       "160             Rep. of Korea     0.002236              1\n",
       "192                    Sweden     0.003626              2\n",
       "211            United Kingdom     0.038188              1\n",
       "213  United States of America     0.088410              2"
      ]
     },
     "execution_count": 7,
     "metadata": {},
     "output_type": "execute_result"
    }
   ],
   "source": [
    "df = data[(data['n_neightbours'] < 5) & (data['betweenness'] >= 0.001) & (data['idh_avg'] >= 0.8)]\n",
    "df[['country', 'betweenness', 'n_neightbours']]"
   ]
  },
  {
   "cell_type": "code",
   "execution_count": 8,
   "id": "2cf780ae",
   "metadata": {},
   "outputs": [
    {
     "data": {
      "text/plain": [
       "15"
      ]
     },
     "execution_count": 8,
     "metadata": {},
     "output_type": "execute_result"
    }
   ],
   "source": [
    "len(df[['country', 'betweenness', 'n_neightbours']])"
   ]
  },
  {
   "cell_type": "code",
   "execution_count": 9,
   "id": "6bb15bcc",
   "metadata": {},
   "outputs": [],
   "source": [
    "# Países com baixo in-degree\n",
    "\n",
    "# E baixo IDH?\n",
    "\n"
   ]
  },
  {
   "cell_type": "code",
   "execution_count": 10,
   "id": "84334fe8",
   "metadata": {},
   "outputs": [
    {
     "data": {
      "text/html": [
       "<div>\n",
       "<style scoped>\n",
       "    .dataframe tbody tr th:only-of-type {\n",
       "        vertical-align: middle;\n",
       "    }\n",
       "\n",
       "    .dataframe tbody tr th {\n",
       "        vertical-align: top;\n",
       "    }\n",
       "\n",
       "    .dataframe thead th {\n",
       "        text-align: right;\n",
       "    }\n",
       "</style>\n",
       "<table border=\"1\" class=\"dataframe\">\n",
       "  <thead>\n",
       "    <tr style=\"text-align: right;\">\n",
       "      <th></th>\n",
       "      <th>country</th>\n",
       "      <th>coreness_discreto</th>\n",
       "      <th>n_neightbours</th>\n",
       "    </tr>\n",
       "  </thead>\n",
       "  <tbody>\n",
       "    <tr>\n",
       "      <th>2</th>\n",
       "      <td>Afghanistan</td>\n",
       "      <td>0</td>\n",
       "      <td>6</td>\n",
       "    </tr>\n",
       "    <tr>\n",
       "      <th>4</th>\n",
       "      <td>Algeria</td>\n",
       "      <td>0</td>\n",
       "      <td>7</td>\n",
       "    </tr>\n",
       "    <tr>\n",
       "      <th>15</th>\n",
       "      <td>Azerbaijan</td>\n",
       "      <td>0</td>\n",
       "      <td>5</td>\n",
       "    </tr>\n",
       "    <tr>\n",
       "      <th>20</th>\n",
       "      <td>Belarus</td>\n",
       "      <td>0</td>\n",
       "      <td>5</td>\n",
       "    </tr>\n",
       "    <tr>\n",
       "      <th>26</th>\n",
       "      <td>Bolivia (Plurinational State of)</td>\n",
       "      <td>0</td>\n",
       "      <td>5</td>\n",
       "    </tr>\n",
       "    <tr>\n",
       "      <th>34</th>\n",
       "      <td>Burkina Faso</td>\n",
       "      <td>0</td>\n",
       "      <td>6</td>\n",
       "    </tr>\n",
       "    <tr>\n",
       "      <th>38</th>\n",
       "      <td>Cameroon</td>\n",
       "      <td>0</td>\n",
       "      <td>6</td>\n",
       "    </tr>\n",
       "    <tr>\n",
       "      <th>41</th>\n",
       "      <td>Central African Rep.</td>\n",
       "      <td>0</td>\n",
       "      <td>6</td>\n",
       "    </tr>\n",
       "    <tr>\n",
       "      <th>42</th>\n",
       "      <td>Chad</td>\n",
       "      <td>0</td>\n",
       "      <td>6</td>\n",
       "    </tr>\n",
       "    <tr>\n",
       "      <th>44</th>\n",
       "      <td>China</td>\n",
       "      <td>0</td>\n",
       "      <td>16</td>\n",
       "    </tr>\n",
       "    <tr>\n",
       "      <th>45</th>\n",
       "      <td>Colombia</td>\n",
       "      <td>0</td>\n",
       "      <td>5</td>\n",
       "    </tr>\n",
       "    <tr>\n",
       "      <th>47</th>\n",
       "      <td>Congo</td>\n",
       "      <td>0</td>\n",
       "      <td>5</td>\n",
       "    </tr>\n",
       "    <tr>\n",
       "      <th>50</th>\n",
       "      <td>Côte d'Ivoire</td>\n",
       "      <td>0</td>\n",
       "      <td>5</td>\n",
       "    </tr>\n",
       "    <tr>\n",
       "      <th>57</th>\n",
       "      <td>Dem. Rep. of the Congo</td>\n",
       "      <td>0</td>\n",
       "      <td>10</td>\n",
       "    </tr>\n",
       "    <tr>\n",
       "      <th>68</th>\n",
       "      <td>Ethiopia</td>\n",
       "      <td>0</td>\n",
       "      <td>6</td>\n",
       "    </tr>\n",
       "    <tr>\n",
       "      <th>84</th>\n",
       "      <td>Guinea</td>\n",
       "      <td>0</td>\n",
       "      <td>6</td>\n",
       "    </tr>\n",
       "    <tr>\n",
       "      <th>92</th>\n",
       "      <td>India</td>\n",
       "      <td>0</td>\n",
       "      <td>6</td>\n",
       "    </tr>\n",
       "    <tr>\n",
       "      <th>94</th>\n",
       "      <td>Iran (Islamic Rep. of)</td>\n",
       "      <td>0</td>\n",
       "      <td>7</td>\n",
       "    </tr>\n",
       "    <tr>\n",
       "      <th>95</th>\n",
       "      <td>Iraq</td>\n",
       "      <td>0</td>\n",
       "      <td>6</td>\n",
       "    </tr>\n",
       "    <tr>\n",
       "      <th>97</th>\n",
       "      <td>Israel</td>\n",
       "      <td>0</td>\n",
       "      <td>5</td>\n",
       "    </tr>\n",
       "    <tr>\n",
       "      <th>101</th>\n",
       "      <td>Jordan</td>\n",
       "      <td>0</td>\n",
       "      <td>5</td>\n",
       "    </tr>\n",
       "    <tr>\n",
       "      <th>102</th>\n",
       "      <td>Kazakhstan</td>\n",
       "      <td>0</td>\n",
       "      <td>5</td>\n",
       "    </tr>\n",
       "    <tr>\n",
       "      <th>103</th>\n",
       "      <td>Kenya</td>\n",
       "      <td>0</td>\n",
       "      <td>5</td>\n",
       "    </tr>\n",
       "    <tr>\n",
       "      <th>112</th>\n",
       "      <td>Libya</td>\n",
       "      <td>0</td>\n",
       "      <td>6</td>\n",
       "    </tr>\n",
       "    <tr>\n",
       "      <th>120</th>\n",
       "      <td>Mali</td>\n",
       "      <td>0</td>\n",
       "      <td>7</td>\n",
       "    </tr>\n",
       "    <tr>\n",
       "      <th>133</th>\n",
       "      <td>Mozambique</td>\n",
       "      <td>0</td>\n",
       "      <td>6</td>\n",
       "    </tr>\n",
       "    <tr>\n",
       "      <th>134</th>\n",
       "      <td>Myanmar</td>\n",
       "      <td>0</td>\n",
       "      <td>5</td>\n",
       "    </tr>\n",
       "    <tr>\n",
       "      <th>142</th>\n",
       "      <td>Niger</td>\n",
       "      <td>0</td>\n",
       "      <td>7</td>\n",
       "    </tr>\n",
       "    <tr>\n",
       "      <th>150</th>\n",
       "      <td>Palestinian</td>\n",
       "      <td>0</td>\n",
       "      <td>5</td>\n",
       "    </tr>\n",
       "    <tr>\n",
       "      <th>172</th>\n",
       "      <td>Saudi Arabia</td>\n",
       "      <td>0</td>\n",
       "      <td>7</td>\n",
       "    </tr>\n",
       "    <tr>\n",
       "      <th>173</th>\n",
       "      <td>Senegal</td>\n",
       "      <td>0</td>\n",
       "      <td>5</td>\n",
       "    </tr>\n",
       "    <tr>\n",
       "      <th>184</th>\n",
       "      <td>South Sudan</td>\n",
       "      <td>0</td>\n",
       "      <td>6</td>\n",
       "    </tr>\n",
       "    <tr>\n",
       "      <th>188</th>\n",
       "      <td>Sudan</td>\n",
       "      <td>0</td>\n",
       "      <td>7</td>\n",
       "    </tr>\n",
       "    <tr>\n",
       "      <th>198</th>\n",
       "      <td>Tibetan</td>\n",
       "      <td>0</td>\n",
       "      <td>6</td>\n",
       "    </tr>\n",
       "    <tr>\n",
       "      <th>204</th>\n",
       "      <td>Turkey</td>\n",
       "      <td>0</td>\n",
       "      <td>8</td>\n",
       "    </tr>\n",
       "    <tr>\n",
       "      <th>208</th>\n",
       "      <td>Uganda</td>\n",
       "      <td>0</td>\n",
       "      <td>5</td>\n",
       "    </tr>\n",
       "    <tr>\n",
       "      <th>212</th>\n",
       "      <td>United Rep. of Tanzania</td>\n",
       "      <td>0</td>\n",
       "      <td>7</td>\n",
       "    </tr>\n",
       "    <tr>\n",
       "      <th>215</th>\n",
       "      <td>Uzbekistan</td>\n",
       "      <td>0</td>\n",
       "      <td>5</td>\n",
       "    </tr>\n",
       "    <tr>\n",
       "      <th>223</th>\n",
       "      <td>Zambia</td>\n",
       "      <td>0</td>\n",
       "      <td>8</td>\n",
       "    </tr>\n",
       "  </tbody>\n",
       "</table>\n",
       "</div>"
      ],
      "text/plain": [
       "                              country  coreness_discreto  n_neightbours\n",
       "2                         Afghanistan                  0              6\n",
       "4                             Algeria                  0              7\n",
       "15                         Azerbaijan                  0              5\n",
       "20                            Belarus                  0              5\n",
       "26   Bolivia (Plurinational State of)                  0              5\n",
       "34                       Burkina Faso                  0              6\n",
       "38                           Cameroon                  0              6\n",
       "41               Central African Rep.                  0              6\n",
       "42                               Chad                  0              6\n",
       "44                              China                  0             16\n",
       "45                           Colombia                  0              5\n",
       "47                              Congo                  0              5\n",
       "50                      Côte d'Ivoire                  0              5\n",
       "57             Dem. Rep. of the Congo                  0             10\n",
       "68                           Ethiopia                  0              6\n",
       "84                             Guinea                  0              6\n",
       "92                              India                  0              6\n",
       "94             Iran (Islamic Rep. of)                  0              7\n",
       "95                               Iraq                  0              6\n",
       "97                             Israel                  0              5\n",
       "101                            Jordan                  0              5\n",
       "102                        Kazakhstan                  0              5\n",
       "103                             Kenya                  0              5\n",
       "112                             Libya                  0              6\n",
       "120                              Mali                  0              7\n",
       "133                        Mozambique                  0              6\n",
       "134                           Myanmar                  0              5\n",
       "142                             Niger                  0              7\n",
       "150                       Palestinian                  0              5\n",
       "172                      Saudi Arabia                  0              7\n",
       "173                           Senegal                  0              5\n",
       "184                       South Sudan                  0              6\n",
       "188                             Sudan                  0              7\n",
       "198                           Tibetan                  0              6\n",
       "204                            Turkey                  0              8\n",
       "208                            Uganda                  0              5\n",
       "212           United Rep. of Tanzania                  0              7\n",
       "215                        Uzbekistan                  0              5\n",
       "223                            Zambia                  0              8"
      ]
     },
     "execution_count": 10,
     "metadata": {},
     "output_type": "execute_result"
    }
   ],
   "source": [
    "df = data[(data['coreness_discreto'] == 0) & (data['n_neightbours'] >= 5)]\n",
    "df[['country', 'coreness_discreto', 'n_neightbours']]"
   ]
  },
  {
   "cell_type": "markdown",
   "id": "80fa42dc",
   "metadata": {},
   "source": [
    "### Países com IDH maior que 0.7 e 2008 "
   ]
  },
  {
   "cell_type": "code",
   "execution_count": 11,
   "id": "b3a49f0b",
   "metadata": {},
   "outputs": [
    {
     "data": {
      "text/plain": [
       "0      0.899\n",
       "1      0.922\n",
       "2      0.447\n",
       "3      0.728\n",
       "4      0.702\n",
       "       ...  \n",
       "220    0.763\n",
       "221    0.000\n",
       "222    0.495\n",
       "223    0.503\n",
       "224    0.422\n",
       "Name: idh_2008, Length: 225, dtype: float64"
      ]
     },
     "execution_count": 11,
     "metadata": {},
     "output_type": "execute_result"
    }
   ],
   "source": [
    "data['idh_2008'].astype(float)"
   ]
  },
  {
   "cell_type": "code",
   "execution_count": 54,
   "id": "43a26d76",
   "metadata": {},
   "outputs": [
    {
     "data": {
      "text/html": [
       "<div>\n",
       "<style scoped>\n",
       "    .dataframe tbody tr th:only-of-type {\n",
       "        vertical-align: middle;\n",
       "    }\n",
       "\n",
       "    .dataframe tbody tr th {\n",
       "        vertical-align: top;\n",
       "    }\n",
       "\n",
       "    .dataframe thead th {\n",
       "        text-align: right;\n",
       "    }\n",
       "</style>\n",
       "<table border=\"1\" class=\"dataframe\">\n",
       "  <thead>\n",
       "    <tr style=\"text-align: right;\">\n",
       "      <th></th>\n",
       "      <th>country</th>\n",
       "      <th>idh_2008</th>\n",
       "    </tr>\n",
       "  </thead>\n",
       "  <tbody>\n",
       "    <tr>\n",
       "      <th>0</th>\n",
       "      <td>China, Hong Kong SAR</td>\n",
       "      <td>0.899</td>\n",
       "    </tr>\n",
       "    <tr>\n",
       "      <th>1</th>\n",
       "      <td>China, Macao SAR</td>\n",
       "      <td>0.922</td>\n",
       "    </tr>\n",
       "    <tr>\n",
       "      <th>3</th>\n",
       "      <td>Albania</td>\n",
       "      <td>0.728</td>\n",
       "    </tr>\n",
       "    <tr>\n",
       "      <th>4</th>\n",
       "      <td>Algeria</td>\n",
       "      <td>0.702</td>\n",
       "    </tr>\n",
       "    <tr>\n",
       "      <th>5</th>\n",
       "      <td>American Samoa</td>\n",
       "      <td>0.827</td>\n",
       "    </tr>\n",
       "    <tr>\n",
       "      <th>...</th>\n",
       "      <td>...</td>\n",
       "      <td>...</td>\n",
       "    </tr>\n",
       "    <tr>\n",
       "      <th>211</th>\n",
       "      <td>United Kingdom</td>\n",
       "      <td>0.903</td>\n",
       "    </tr>\n",
       "    <tr>\n",
       "      <th>213</th>\n",
       "      <td>United States of America</td>\n",
       "      <td>0.911</td>\n",
       "    </tr>\n",
       "    <tr>\n",
       "      <th>214</th>\n",
       "      <td>Uruguay</td>\n",
       "      <td>0.769</td>\n",
       "    </tr>\n",
       "    <tr>\n",
       "      <th>218</th>\n",
       "      <td>Venezuela (Bolivarian Republic of)</td>\n",
       "      <td>0.757</td>\n",
       "    </tr>\n",
       "    <tr>\n",
       "      <th>220</th>\n",
       "      <td>Wallis and Futuna Islands</td>\n",
       "      <td>0.763</td>\n",
       "    </tr>\n",
       "  </tbody>\n",
       "</table>\n",
       "<p>120 rows × 2 columns</p>\n",
       "</div>"
      ],
      "text/plain": [
       "                                country  idh_2008\n",
       "0                  China, Hong Kong SAR     0.899\n",
       "1                      China, Macao SAR     0.922\n",
       "3                               Albania     0.728\n",
       "4                               Algeria     0.702\n",
       "5                        American Samoa     0.827\n",
       "..                                  ...       ...\n",
       "211                      United Kingdom     0.903\n",
       "213            United States of America     0.911\n",
       "214                             Uruguay     0.769\n",
       "218  Venezuela (Bolivarian Republic of)     0.757\n",
       "220          Wallis and Futuna Islands      0.763\n",
       "\n",
       "[120 rows x 2 columns]"
      ]
     },
     "execution_count": 54,
     "metadata": {},
     "output_type": "execute_result"
    }
   ],
   "source": [
    "df_paises_idh = data[(data['idh_2008'] >= 0.7)]\n",
    "df_paises_idh = df_paises_idh[['country', 'idh_2008']]\n",
    "df_paises_idh\n"
   ]
  },
  {
   "cell_type": "code",
   "execution_count": 55,
   "id": "c627c07f",
   "metadata": {},
   "outputs": [
    {
     "name": "stdout",
     "output_type": "stream",
     "text": [
      "120\n"
     ]
    }
   ],
   "source": [
    "paises_selecionados = set(df_paises_idh['country'].unique().tolist())\n",
    "\n",
    "print(len(paises_selecionados))"
   ]
  },
  {
   "cell_type": "code",
   "execution_count": 56,
   "id": "8afa8ba0",
   "metadata": {},
   "outputs": [
    {
     "data": {
      "text/html": [
       "<div>\n",
       "<style scoped>\n",
       "    .dataframe tbody tr th:only-of-type {\n",
       "        vertical-align: middle;\n",
       "    }\n",
       "\n",
       "    .dataframe tbody tr th {\n",
       "        vertical-align: top;\n",
       "    }\n",
       "\n",
       "    .dataframe thead th {\n",
       "        text-align: right;\n",
       "    }\n",
       "</style>\n",
       "<table border=\"1\" class=\"dataframe\">\n",
       "  <thead>\n",
       "    <tr style=\"text-align: right;\">\n",
       "      <th></th>\n",
       "      <th>origin</th>\n",
       "      <th>idh_2008</th>\n",
       "    </tr>\n",
       "  </thead>\n",
       "  <tbody>\n",
       "    <tr>\n",
       "      <th>44</th>\n",
       "      <td>Albania</td>\n",
       "      <td>0.728</td>\n",
       "    </tr>\n",
       "    <tr>\n",
       "      <th>38</th>\n",
       "      <td>Algeria</td>\n",
       "      <td>0.702</td>\n",
       "    </tr>\n",
       "    <tr>\n",
       "      <th>24</th>\n",
       "      <td>American Samoa</td>\n",
       "      <td>0.827</td>\n",
       "    </tr>\n",
       "    <tr>\n",
       "      <th>12</th>\n",
       "      <td>Andorra</td>\n",
       "      <td>0.840</td>\n",
       "    </tr>\n",
       "    <tr>\n",
       "      <th>65</th>\n",
       "      <td>Anguilla</td>\n",
       "      <td>0.865</td>\n",
       "    </tr>\n",
       "    <tr>\n",
       "      <th>...</th>\n",
       "      <td>...</td>\n",
       "      <td>...</td>\n",
       "    </tr>\n",
       "    <tr>\n",
       "      <th>3</th>\n",
       "      <td>United Kingdom</td>\n",
       "      <td>0.903</td>\n",
       "    </tr>\n",
       "    <tr>\n",
       "      <th>19</th>\n",
       "      <td>United States of America</td>\n",
       "      <td>0.911</td>\n",
       "    </tr>\n",
       "    <tr>\n",
       "      <th>22</th>\n",
       "      <td>Uruguay</td>\n",
       "      <td>0.769</td>\n",
       "    </tr>\n",
       "    <tr>\n",
       "      <th>52</th>\n",
       "      <td>Venezuela (Bolivarian Republic of)</td>\n",
       "      <td>0.757</td>\n",
       "    </tr>\n",
       "    <tr>\n",
       "      <th>23</th>\n",
       "      <td>Wallis and Futuna Islands</td>\n",
       "      <td>0.763</td>\n",
       "    </tr>\n",
       "  </tbody>\n",
       "</table>\n",
       "<p>120 rows × 2 columns</p>\n",
       "</div>"
      ],
      "text/plain": [
       "                                origin  idh_2008\n",
       "44                             Albania     0.728\n",
       "38                             Algeria     0.702\n",
       "24                      American Samoa     0.827\n",
       "12                             Andorra     0.840\n",
       "65                            Anguilla     0.865\n",
       "..                                 ...       ...\n",
       "3                       United Kingdom     0.903\n",
       "19            United States of America     0.911\n",
       "22                             Uruguay     0.769\n",
       "52  Venezuela (Bolivarian Republic of)     0.757\n",
       "23          Wallis and Futuna Islands      0.763\n",
       "\n",
       "[120 rows x 2 columns]"
      ]
     },
     "execution_count": 56,
     "metadata": {},
     "output_type": "execute_result"
    }
   ],
   "source": [
    "df_paises_idh = df_paises_idh.set_index('country').reindex(paises_selecionados).reset_index()\n",
    "df_paises_idh = df_paises_idh.fillna(0)\n",
    "df_paises_idh = df_paises_idh.rename(columns={'country': 'origin', 'idh_2008': 'idh_2008'})\n",
    "df_paises_idh.sort_values(\"origin\", ascending = True)"
   ]
  },
  {
   "cell_type": "code",
   "execution_count": 57,
   "id": "b3774c05",
   "metadata": {},
   "outputs": [
    {
     "data": {
      "text/html": [
       "<div>\n",
       "<style scoped>\n",
       "    .dataframe tbody tr th:only-of-type {\n",
       "        vertical-align: middle;\n",
       "    }\n",
       "\n",
       "    .dataframe tbody tr th {\n",
       "        vertical-align: top;\n",
       "    }\n",
       "\n",
       "    .dataframe thead th {\n",
       "        text-align: right;\n",
       "    }\n",
       "</style>\n",
       "<table border=\"1\" class=\"dataframe\">\n",
       "  <thead>\n",
       "    <tr style=\"text-align: right;\">\n",
       "      <th></th>\n",
       "      <th>destiny</th>\n",
       "      <th>origin</th>\n",
       "      <th>value</th>\n",
       "      <th>year</th>\n",
       "    </tr>\n",
       "  </thead>\n",
       "  <tbody>\n",
       "    <tr>\n",
       "      <th>0</th>\n",
       "      <td>Zimbabwe</td>\n",
       "      <td>Afghanistan</td>\n",
       "      <td>5</td>\n",
       "      <td>2000</td>\n",
       "    </tr>\n",
       "    <tr>\n",
       "      <th>1</th>\n",
       "      <td>South Africa</td>\n",
       "      <td>Afghanistan</td>\n",
       "      <td>0</td>\n",
       "      <td>2000</td>\n",
       "    </tr>\n",
       "    <tr>\n",
       "      <th>2</th>\n",
       "      <td>Uzbekistan</td>\n",
       "      <td>Afghanistan</td>\n",
       "      <td>747</td>\n",
       "      <td>2000</td>\n",
       "    </tr>\n",
       "    <tr>\n",
       "      <th>3</th>\n",
       "      <td>United States of America</td>\n",
       "      <td>Afghanistan</td>\n",
       "      <td>151</td>\n",
       "      <td>2000</td>\n",
       "    </tr>\n",
       "    <tr>\n",
       "      <th>4</th>\n",
       "      <td>United States of America</td>\n",
       "      <td>Afghanistan</td>\n",
       "      <td>182</td>\n",
       "      <td>2000</td>\n",
       "    </tr>\n",
       "    <tr>\n",
       "      <th>...</th>\n",
       "      <td>...</td>\n",
       "      <td>...</td>\n",
       "      <td>...</td>\n",
       "      <td>...</td>\n",
       "    </tr>\n",
       "    <tr>\n",
       "      <th>129715</th>\n",
       "      <td>United States of America</td>\n",
       "      <td>Zimbabwe</td>\n",
       "      <td>16</td>\n",
       "      <td>2016</td>\n",
       "    </tr>\n",
       "    <tr>\n",
       "      <th>129716</th>\n",
       "      <td>United States of America</td>\n",
       "      <td>Zimbabwe</td>\n",
       "      <td>*</td>\n",
       "      <td>2016</td>\n",
       "    </tr>\n",
       "    <tr>\n",
       "      <th>129717</th>\n",
       "      <td>South Africa</td>\n",
       "      <td>Zimbabwe</td>\n",
       "      <td>NaN</td>\n",
       "      <td>2016</td>\n",
       "    </tr>\n",
       "    <tr>\n",
       "      <th>129718</th>\n",
       "      <td>South Africa</td>\n",
       "      <td>Zimbabwe</td>\n",
       "      <td>73</td>\n",
       "      <td>2016</td>\n",
       "    </tr>\n",
       "    <tr>\n",
       "      <th>129719</th>\n",
       "      <td>Zambia</td>\n",
       "      <td>Zimbabwe</td>\n",
       "      <td>0</td>\n",
       "      <td>2016</td>\n",
       "    </tr>\n",
       "  </tbody>\n",
       "</table>\n",
       "<p>129720 rows × 4 columns</p>\n",
       "</div>"
      ],
      "text/plain": [
       "                         destiny       origin value  year\n",
       "0                       Zimbabwe  Afghanistan     5  2000\n",
       "1                   South Africa  Afghanistan     0  2000\n",
       "2                     Uzbekistan  Afghanistan   747  2000\n",
       "3       United States of America  Afghanistan   151  2000\n",
       "4       United States of America  Afghanistan   182  2000\n",
       "...                          ...          ...   ...   ...\n",
       "129715  United States of America     Zimbabwe    16  2016\n",
       "129716  United States of America     Zimbabwe     *  2016\n",
       "129717              South Africa     Zimbabwe   NaN  2016\n",
       "129718              South Africa     Zimbabwe    73  2016\n",
       "129719                    Zambia     Zimbabwe     0  2016\n",
       "\n",
       "[129720 rows x 4 columns]"
      ]
     },
     "execution_count": 57,
     "metadata": {},
     "output_type": "execute_result"
    }
   ],
   "source": [
    "df_aresta = df_completo.loc[:, ['Country / territory of asylum/residence', 'Origin', 'decisions_recognized', 'Year']]\n",
    "df_aresta = df_aresta.rename(columns={'Origin': 'origin', 'Country / territory of asylum/residence': 'destiny', 'decisions_recognized': 'value', 'Year' : 'year'})\n",
    "df_aresta"
   ]
  },
  {
   "cell_type": "code",
   "execution_count": 58,
   "id": "688b03f8",
   "metadata": {},
   "outputs": [
    {
     "data": {
      "text/html": [
       "<div>\n",
       "<style scoped>\n",
       "    .dataframe tbody tr th:only-of-type {\n",
       "        vertical-align: middle;\n",
       "    }\n",
       "\n",
       "    .dataframe tbody tr th {\n",
       "        vertical-align: top;\n",
       "    }\n",
       "\n",
       "    .dataframe thead th {\n",
       "        text-align: right;\n",
       "    }\n",
       "</style>\n",
       "<table border=\"1\" class=\"dataframe\">\n",
       "  <thead>\n",
       "    <tr style=\"text-align: right;\">\n",
       "      <th></th>\n",
       "      <th>destiny</th>\n",
       "      <th>origin</th>\n",
       "      <th>value</th>\n",
       "      <th>year</th>\n",
       "    </tr>\n",
       "  </thead>\n",
       "  <tbody>\n",
       "    <tr>\n",
       "      <th>0</th>\n",
       "      <td>Zimbabwe</td>\n",
       "      <td>Afghanistan</td>\n",
       "      <td>5.0</td>\n",
       "      <td>2000</td>\n",
       "    </tr>\n",
       "    <tr>\n",
       "      <th>1</th>\n",
       "      <td>South Africa</td>\n",
       "      <td>Afghanistan</td>\n",
       "      <td>0.0</td>\n",
       "      <td>2000</td>\n",
       "    </tr>\n",
       "    <tr>\n",
       "      <th>2</th>\n",
       "      <td>Uzbekistan</td>\n",
       "      <td>Afghanistan</td>\n",
       "      <td>747.0</td>\n",
       "      <td>2000</td>\n",
       "    </tr>\n",
       "    <tr>\n",
       "      <th>3</th>\n",
       "      <td>United States of America</td>\n",
       "      <td>Afghanistan</td>\n",
       "      <td>151.0</td>\n",
       "      <td>2000</td>\n",
       "    </tr>\n",
       "    <tr>\n",
       "      <th>4</th>\n",
       "      <td>United States of America</td>\n",
       "      <td>Afghanistan</td>\n",
       "      <td>182.0</td>\n",
       "      <td>2000</td>\n",
       "    </tr>\n",
       "    <tr>\n",
       "      <th>...</th>\n",
       "      <td>...</td>\n",
       "      <td>...</td>\n",
       "      <td>...</td>\n",
       "      <td>...</td>\n",
       "    </tr>\n",
       "    <tr>\n",
       "      <th>129715</th>\n",
       "      <td>United States of America</td>\n",
       "      <td>Zimbabwe</td>\n",
       "      <td>16.0</td>\n",
       "      <td>2016</td>\n",
       "    </tr>\n",
       "    <tr>\n",
       "      <th>129716</th>\n",
       "      <td>United States of America</td>\n",
       "      <td>Zimbabwe</td>\n",
       "      <td>0.0</td>\n",
       "      <td>2016</td>\n",
       "    </tr>\n",
       "    <tr>\n",
       "      <th>129717</th>\n",
       "      <td>South Africa</td>\n",
       "      <td>Zimbabwe</td>\n",
       "      <td>0.0</td>\n",
       "      <td>2016</td>\n",
       "    </tr>\n",
       "    <tr>\n",
       "      <th>129718</th>\n",
       "      <td>South Africa</td>\n",
       "      <td>Zimbabwe</td>\n",
       "      <td>73.0</td>\n",
       "      <td>2016</td>\n",
       "    </tr>\n",
       "    <tr>\n",
       "      <th>129719</th>\n",
       "      <td>Zambia</td>\n",
       "      <td>Zimbabwe</td>\n",
       "      <td>0.0</td>\n",
       "      <td>2016</td>\n",
       "    </tr>\n",
       "  </tbody>\n",
       "</table>\n",
       "<p>129720 rows × 4 columns</p>\n",
       "</div>"
      ],
      "text/plain": [
       "                         destiny       origin  value  year\n",
       "0                       Zimbabwe  Afghanistan    5.0  2000\n",
       "1                   South Africa  Afghanistan    0.0  2000\n",
       "2                     Uzbekistan  Afghanistan  747.0  2000\n",
       "3       United States of America  Afghanistan  151.0  2000\n",
       "4       United States of America  Afghanistan  182.0  2000\n",
       "...                          ...          ...    ...   ...\n",
       "129715  United States of America     Zimbabwe   16.0  2016\n",
       "129716  United States of America     Zimbabwe    0.0  2016\n",
       "129717              South Africa     Zimbabwe    0.0  2016\n",
       "129718              South Africa     Zimbabwe   73.0  2016\n",
       "129719                    Zambia     Zimbabwe    0.0  2016\n",
       "\n",
       "[129720 rows x 4 columns]"
      ]
     },
     "execution_count": 58,
     "metadata": {},
     "output_type": "execute_result"
    }
   ],
   "source": [
    "df_aresta.value = pd.to_numeric(df_aresta['value'], errors = 'coerce').fillna(0)\n",
    "df_aresta"
   ]
  },
  {
   "cell_type": "code",
   "execution_count": 59,
   "id": "87b2a695",
   "metadata": {},
   "outputs": [
    {
     "data": {
      "text/html": [
       "<div>\n",
       "<style scoped>\n",
       "    .dataframe tbody tr th:only-of-type {\n",
       "        vertical-align: middle;\n",
       "    }\n",
       "\n",
       "    .dataframe tbody tr th {\n",
       "        vertical-align: top;\n",
       "    }\n",
       "\n",
       "    .dataframe thead th {\n",
       "        text-align: right;\n",
       "    }\n",
       "</style>\n",
       "<table border=\"1\" class=\"dataframe\">\n",
       "  <thead>\n",
       "    <tr style=\"text-align: right;\">\n",
       "      <th></th>\n",
       "      <th>destiny</th>\n",
       "      <th>origin</th>\n",
       "      <th>value</th>\n",
       "      <th>year</th>\n",
       "    </tr>\n",
       "  </thead>\n",
       "  <tbody>\n",
       "    <tr>\n",
       "      <th>49818</th>\n",
       "      <td>Albania</td>\n",
       "      <td>Afghanistan</td>\n",
       "      <td>0.0</td>\n",
       "      <td>2008</td>\n",
       "    </tr>\n",
       "    <tr>\n",
       "      <th>49819</th>\n",
       "      <td>Australia</td>\n",
       "      <td>Afghanistan</td>\n",
       "      <td>1.0</td>\n",
       "      <td>2008</td>\n",
       "    </tr>\n",
       "    <tr>\n",
       "      <th>49820</th>\n",
       "      <td>Australia</td>\n",
       "      <td>Afghanistan</td>\n",
       "      <td>33.0</td>\n",
       "      <td>2008</td>\n",
       "    </tr>\n",
       "    <tr>\n",
       "      <th>49821</th>\n",
       "      <td>Austria</td>\n",
       "      <td>Afghanistan</td>\n",
       "      <td>486.0</td>\n",
       "      <td>2008</td>\n",
       "    </tr>\n",
       "    <tr>\n",
       "      <th>49822</th>\n",
       "      <td>Azerbaijan</td>\n",
       "      <td>Afghanistan</td>\n",
       "      <td>0.0</td>\n",
       "      <td>2008</td>\n",
       "    </tr>\n",
       "    <tr>\n",
       "      <th>...</th>\n",
       "      <td>...</td>\n",
       "      <td>...</td>\n",
       "      <td>...</td>\n",
       "      <td>...</td>\n",
       "    </tr>\n",
       "    <tr>\n",
       "      <th>56855</th>\n",
       "      <td>United States of America</td>\n",
       "      <td>Zimbabwe</td>\n",
       "      <td>40.0</td>\n",
       "      <td>2008</td>\n",
       "    </tr>\n",
       "    <tr>\n",
       "      <th>56856</th>\n",
       "      <td>United States of America</td>\n",
       "      <td>Zimbabwe</td>\n",
       "      <td>136.0</td>\n",
       "      <td>2008</td>\n",
       "    </tr>\n",
       "    <tr>\n",
       "      <th>56857</th>\n",
       "      <td>South Africa</td>\n",
       "      <td>Zimbabwe</td>\n",
       "      <td>0.0</td>\n",
       "      <td>2008</td>\n",
       "    </tr>\n",
       "    <tr>\n",
       "      <th>56858</th>\n",
       "      <td>South Africa</td>\n",
       "      <td>Zimbabwe</td>\n",
       "      <td>0.0</td>\n",
       "      <td>2008</td>\n",
       "    </tr>\n",
       "    <tr>\n",
       "      <th>56859</th>\n",
       "      <td>Zambia</td>\n",
       "      <td>Zimbabwe</td>\n",
       "      <td>9.0</td>\n",
       "      <td>2008</td>\n",
       "    </tr>\n",
       "  </tbody>\n",
       "</table>\n",
       "<p>7042 rows × 4 columns</p>\n",
       "</div>"
      ],
      "text/plain": [
       "                        destiny       origin  value  year\n",
       "49818                   Albania  Afghanistan    0.0  2008\n",
       "49819                 Australia  Afghanistan    1.0  2008\n",
       "49820                 Australia  Afghanistan   33.0  2008\n",
       "49821                   Austria  Afghanistan  486.0  2008\n",
       "49822                Azerbaijan  Afghanistan    0.0  2008\n",
       "...                         ...          ...    ...   ...\n",
       "56855  United States of America     Zimbabwe   40.0  2008\n",
       "56856  United States of America     Zimbabwe  136.0  2008\n",
       "56857              South Africa     Zimbabwe    0.0  2008\n",
       "56858              South Africa     Zimbabwe    0.0  2008\n",
       "56859                    Zambia     Zimbabwe    9.0  2008\n",
       "\n",
       "[7042 rows x 4 columns]"
      ]
     },
     "execution_count": 59,
     "metadata": {},
     "output_type": "execute_result"
    }
   ],
   "source": [
    "df_aresta = df_aresta[df_aresta['year'] == 2008]\n",
    "df_aresta"
   ]
  },
  {
   "cell_type": "code",
   "execution_count": 60,
   "id": "c69dc659",
   "metadata": {},
   "outputs": [
    {
     "data": {
      "text/plain": [
       "49818      0\n",
       "49819      1\n",
       "49820     33\n",
       "49821    486\n",
       "49822      0\n",
       "        ... \n",
       "56855     40\n",
       "56856    136\n",
       "56857      0\n",
       "56858      0\n",
       "56859      9\n",
       "Name: value, Length: 7042, dtype: int64"
      ]
     },
     "execution_count": 60,
     "metadata": {},
     "output_type": "execute_result"
    }
   ],
   "source": [
    "df_aresta = df_aresta.drop('year', axis=1)\n",
    "df_aresta['value'].astype(int)"
   ]
  },
  {
   "cell_type": "code",
   "execution_count": 61,
   "id": "acb62125",
   "metadata": {},
   "outputs": [
    {
     "name": "stdout",
     "output_type": "stream",
     "text": [
      "<class 'pandas.core.frame.DataFrame'>\n",
      "Int64Index: 7042 entries, 49818 to 56859\n",
      "Data columns (total 3 columns):\n",
      " #   Column   Non-Null Count  Dtype  \n",
      "---  ------   --------------  -----  \n",
      " 0   destiny  7042 non-null   object \n",
      " 1   origin   7042 non-null   object \n",
      " 2   value    7042 non-null   float64\n",
      "dtypes: float64(1), object(2)\n",
      "memory usage: 220.1+ KB\n"
     ]
    }
   ],
   "source": [
    "df_aresta.info()"
   ]
  },
  {
   "cell_type": "code",
   "execution_count": 62,
   "id": "4dd3cdf2",
   "metadata": {},
   "outputs": [
    {
     "data": {
      "text/html": [
       "<div>\n",
       "<style scoped>\n",
       "    .dataframe tbody tr th:only-of-type {\n",
       "        vertical-align: middle;\n",
       "    }\n",
       "\n",
       "    .dataframe tbody tr th {\n",
       "        vertical-align: top;\n",
       "    }\n",
       "\n",
       "    .dataframe thead th {\n",
       "        text-align: right;\n",
       "    }\n",
       "</style>\n",
       "<table border=\"1\" class=\"dataframe\">\n",
       "  <thead>\n",
       "    <tr style=\"text-align: right;\">\n",
       "      <th></th>\n",
       "      <th>origin</th>\n",
       "      <th>destiny</th>\n",
       "      <th>value</th>\n",
       "    </tr>\n",
       "  </thead>\n",
       "  <tbody>\n",
       "    <tr>\n",
       "      <th>0</th>\n",
       "      <td>Afghanistan</td>\n",
       "      <td>Albania</td>\n",
       "      <td>0.0</td>\n",
       "    </tr>\n",
       "    <tr>\n",
       "      <th>1</th>\n",
       "      <td>Afghanistan</td>\n",
       "      <td>Australia</td>\n",
       "      <td>34.0</td>\n",
       "    </tr>\n",
       "    <tr>\n",
       "      <th>2</th>\n",
       "      <td>Afghanistan</td>\n",
       "      <td>Austria</td>\n",
       "      <td>486.0</td>\n",
       "    </tr>\n",
       "    <tr>\n",
       "      <th>3</th>\n",
       "      <td>Afghanistan</td>\n",
       "      <td>Azerbaijan</td>\n",
       "      <td>28.0</td>\n",
       "    </tr>\n",
       "    <tr>\n",
       "      <th>4</th>\n",
       "      <td>Afghanistan</td>\n",
       "      <td>Belarus</td>\n",
       "      <td>9.0</td>\n",
       "    </tr>\n",
       "    <tr>\n",
       "      <th>...</th>\n",
       "      <td>...</td>\n",
       "      <td>...</td>\n",
       "      <td>...</td>\n",
       "    </tr>\n",
       "    <tr>\n",
       "      <th>5309</th>\n",
       "      <td>Zimbabwe</td>\n",
       "      <td>Ukraine</td>\n",
       "      <td>1.0</td>\n",
       "    </tr>\n",
       "    <tr>\n",
       "      <th>5310</th>\n",
       "      <td>Zimbabwe</td>\n",
       "      <td>United Kingdom</td>\n",
       "      <td>1381.0</td>\n",
       "    </tr>\n",
       "    <tr>\n",
       "      <th>5311</th>\n",
       "      <td>Zimbabwe</td>\n",
       "      <td>United States of America</td>\n",
       "      <td>176.0</td>\n",
       "    </tr>\n",
       "    <tr>\n",
       "      <th>5312</th>\n",
       "      <td>Zimbabwe</td>\n",
       "      <td>Uruguay</td>\n",
       "      <td>1.0</td>\n",
       "    </tr>\n",
       "    <tr>\n",
       "      <th>5313</th>\n",
       "      <td>Zimbabwe</td>\n",
       "      <td>Zambia</td>\n",
       "      <td>9.0</td>\n",
       "    </tr>\n",
       "  </tbody>\n",
       "</table>\n",
       "<p>5314 rows × 3 columns</p>\n",
       "</div>"
      ],
      "text/plain": [
       "           origin                   destiny   value\n",
       "0     Afghanistan                   Albania     0.0\n",
       "1     Afghanistan                 Australia    34.0\n",
       "2     Afghanistan                   Austria   486.0\n",
       "3     Afghanistan                Azerbaijan    28.0\n",
       "4     Afghanistan                   Belarus     9.0\n",
       "...           ...                       ...     ...\n",
       "5309     Zimbabwe                   Ukraine     1.0\n",
       "5310     Zimbabwe            United Kingdom  1381.0\n",
       "5311     Zimbabwe  United States of America   176.0\n",
       "5312     Zimbabwe                   Uruguay     1.0\n",
       "5313     Zimbabwe                    Zambia     9.0\n",
       "\n",
       "[5314 rows x 3 columns]"
      ]
     },
     "execution_count": 62,
     "metadata": {},
     "output_type": "execute_result"
    }
   ],
   "source": [
    "df_aresta = df_aresta.groupby(['origin', 'destiny']).sum().reset_index()\n",
    "df_aresta"
   ]
  },
  {
   "cell_type": "code",
   "execution_count": 63,
   "id": "0a656e61",
   "metadata": {},
   "outputs": [
    {
     "data": {
      "text/html": [
       "<div>\n",
       "<style scoped>\n",
       "    .dataframe tbody tr th:only-of-type {\n",
       "        vertical-align: middle;\n",
       "    }\n",
       "\n",
       "    .dataframe tbody tr th {\n",
       "        vertical-align: top;\n",
       "    }\n",
       "\n",
       "    .dataframe thead th {\n",
       "        text-align: right;\n",
       "    }\n",
       "</style>\n",
       "<table border=\"1\" class=\"dataframe\">\n",
       "  <thead>\n",
       "    <tr style=\"text-align: right;\">\n",
       "      <th></th>\n",
       "      <th>origin</th>\n",
       "      <th>destiny</th>\n",
       "      <th>value</th>\n",
       "    </tr>\n",
       "  </thead>\n",
       "  <tbody>\n",
       "    <tr>\n",
       "      <th>0</th>\n",
       "      <td>Afghanistan</td>\n",
       "      <td>Albania</td>\n",
       "      <td>0.0</td>\n",
       "    </tr>\n",
       "    <tr>\n",
       "      <th>1</th>\n",
       "      <td>Afghanistan</td>\n",
       "      <td>Australia</td>\n",
       "      <td>34.0</td>\n",
       "    </tr>\n",
       "    <tr>\n",
       "      <th>2</th>\n",
       "      <td>Afghanistan</td>\n",
       "      <td>Austria</td>\n",
       "      <td>486.0</td>\n",
       "    </tr>\n",
       "    <tr>\n",
       "      <th>3</th>\n",
       "      <td>Afghanistan</td>\n",
       "      <td>Azerbaijan</td>\n",
       "      <td>28.0</td>\n",
       "    </tr>\n",
       "    <tr>\n",
       "      <th>4</th>\n",
       "      <td>Afghanistan</td>\n",
       "      <td>Belarus</td>\n",
       "      <td>9.0</td>\n",
       "    </tr>\n",
       "    <tr>\n",
       "      <th>...</th>\n",
       "      <td>...</td>\n",
       "      <td>...</td>\n",
       "      <td>...</td>\n",
       "    </tr>\n",
       "    <tr>\n",
       "      <th>5309</th>\n",
       "      <td>Zimbabwe</td>\n",
       "      <td>Ukraine</td>\n",
       "      <td>1.0</td>\n",
       "    </tr>\n",
       "    <tr>\n",
       "      <th>5310</th>\n",
       "      <td>Zimbabwe</td>\n",
       "      <td>United Kingdom</td>\n",
       "      <td>1381.0</td>\n",
       "    </tr>\n",
       "    <tr>\n",
       "      <th>5311</th>\n",
       "      <td>Zimbabwe</td>\n",
       "      <td>United States of America</td>\n",
       "      <td>176.0</td>\n",
       "    </tr>\n",
       "    <tr>\n",
       "      <th>5312</th>\n",
       "      <td>Zimbabwe</td>\n",
       "      <td>Uruguay</td>\n",
       "      <td>1.0</td>\n",
       "    </tr>\n",
       "    <tr>\n",
       "      <th>5313</th>\n",
       "      <td>Zimbabwe</td>\n",
       "      <td>Zambia</td>\n",
       "      <td>9.0</td>\n",
       "    </tr>\n",
       "  </tbody>\n",
       "</table>\n",
       "<p>5308 rows × 3 columns</p>\n",
       "</div>"
      ],
      "text/plain": [
       "           origin                   destiny   value\n",
       "0     Afghanistan                   Albania     0.0\n",
       "1     Afghanistan                 Australia    34.0\n",
       "2     Afghanistan                   Austria   486.0\n",
       "3     Afghanistan                Azerbaijan    28.0\n",
       "4     Afghanistan                   Belarus     9.0\n",
       "...           ...                       ...     ...\n",
       "5309     Zimbabwe                   Ukraine     1.0\n",
       "5310     Zimbabwe            United Kingdom  1381.0\n",
       "5311     Zimbabwe  United States of America   176.0\n",
       "5312     Zimbabwe                   Uruguay     1.0\n",
       "5313     Zimbabwe                    Zambia     9.0\n",
       "\n",
       "[5308 rows x 3 columns]"
      ]
     },
     "execution_count": 63,
     "metadata": {},
     "output_type": "execute_result"
    }
   ],
   "source": [
    "df_aresta = df_aresta[df_aresta['origin'] != df_aresta['destiny']]\n",
    "df_aresta"
   ]
  },
  {
   "cell_type": "code",
   "execution_count": 64,
   "id": "b9540b0b",
   "metadata": {},
   "outputs": [
    {
     "name": "stderr",
     "output_type": "stream",
     "text": [
      "/tmp/ipykernel_30/4025039149.py:1: FutureWarning: The default value of numeric_only in DataFrameGroupBy.sum is deprecated. In a future version, numeric_only will default to False. Either specify numeric_only or select only columns which should be valid for the function.\n",
      "  df_out_degree  = df_aresta.groupby('origin').sum().reindex(paises_selecionados).fillna(0)\n"
     ]
    },
    {
     "data": {
      "text/html": [
       "<div>\n",
       "<style scoped>\n",
       "    .dataframe tbody tr th:only-of-type {\n",
       "        vertical-align: middle;\n",
       "    }\n",
       "\n",
       "    .dataframe tbody tr th {\n",
       "        vertical-align: top;\n",
       "    }\n",
       "\n",
       "    .dataframe thead th {\n",
       "        text-align: right;\n",
       "    }\n",
       "</style>\n",
       "<table border=\"1\" class=\"dataframe\">\n",
       "  <thead>\n",
       "    <tr style=\"text-align: right;\">\n",
       "      <th></th>\n",
       "      <th>value</th>\n",
       "    </tr>\n",
       "    <tr>\n",
       "      <th>origin</th>\n",
       "      <th></th>\n",
       "    </tr>\n",
       "  </thead>\n",
       "  <tbody>\n",
       "    <tr>\n",
       "      <th>Albania</th>\n",
       "      <td>390.0</td>\n",
       "    </tr>\n",
       "    <tr>\n",
       "      <th>Algeria</th>\n",
       "      <td>150.0</td>\n",
       "    </tr>\n",
       "    <tr>\n",
       "      <th>American Samoa</th>\n",
       "      <td>0.0</td>\n",
       "    </tr>\n",
       "    <tr>\n",
       "      <th>Andorra</th>\n",
       "      <td>0.0</td>\n",
       "    </tr>\n",
       "    <tr>\n",
       "      <th>Anguilla</th>\n",
       "      <td>0.0</td>\n",
       "    </tr>\n",
       "    <tr>\n",
       "      <th>...</th>\n",
       "      <td>...</td>\n",
       "    </tr>\n",
       "    <tr>\n",
       "      <th>United Kingdom</th>\n",
       "      <td>3.0</td>\n",
       "    </tr>\n",
       "    <tr>\n",
       "      <th>United States of America</th>\n",
       "      <td>12.0</td>\n",
       "    </tr>\n",
       "    <tr>\n",
       "      <th>Uruguay</th>\n",
       "      <td>2.0</td>\n",
       "    </tr>\n",
       "    <tr>\n",
       "      <th>Venezuela (Bolivarian Republic of)</th>\n",
       "      <td>690.0</td>\n",
       "    </tr>\n",
       "    <tr>\n",
       "      <th>Wallis and Futuna Islands</th>\n",
       "      <td>0.0</td>\n",
       "    </tr>\n",
       "  </tbody>\n",
       "</table>\n",
       "<p>120 rows × 1 columns</p>\n",
       "</div>"
      ],
      "text/plain": [
       "                                    value\n",
       "origin                                   \n",
       "Albania                             390.0\n",
       "Algeria                             150.0\n",
       "American Samoa                        0.0\n",
       "Andorra                               0.0\n",
       "Anguilla                              0.0\n",
       "...                                   ...\n",
       "United Kingdom                        3.0\n",
       "United States of America             12.0\n",
       "Uruguay                               2.0\n",
       "Venezuela (Bolivarian Republic of)  690.0\n",
       "Wallis and Futuna Islands             0.0\n",
       "\n",
       "[120 rows x 1 columns]"
      ]
     },
     "execution_count": 64,
     "metadata": {},
     "output_type": "execute_result"
    }
   ],
   "source": [
    "df_out_degree  = df_aresta.groupby('origin').sum().reindex(paises_selecionados).fillna(0)\n",
    "#df_out_degree\n",
    "df_out_degree.sort_values(\"origin\", ascending = True)"
   ]
  },
  {
   "cell_type": "code",
   "execution_count": 65,
   "id": "f61fed76",
   "metadata": {},
   "outputs": [
    {
     "data": {
      "text/html": [
       "<div>\n",
       "<style scoped>\n",
       "    .dataframe tbody tr th:only-of-type {\n",
       "        vertical-align: middle;\n",
       "    }\n",
       "\n",
       "    .dataframe tbody tr th {\n",
       "        vertical-align: top;\n",
       "    }\n",
       "\n",
       "    .dataframe thead th {\n",
       "        text-align: right;\n",
       "    }\n",
       "</style>\n",
       "<table border=\"1\" class=\"dataframe\">\n",
       "  <thead>\n",
       "    <tr style=\"text-align: right;\">\n",
       "      <th></th>\n",
       "      <th>origin</th>\n",
       "      <th>idh_2008</th>\n",
       "      <th>value</th>\n",
       "    </tr>\n",
       "  </thead>\n",
       "  <tbody>\n",
       "    <tr>\n",
       "      <th>0</th>\n",
       "      <td>Mexico</td>\n",
       "      <td>0.748</td>\n",
       "      <td>767.0</td>\n",
       "    </tr>\n",
       "    <tr>\n",
       "      <th>1</th>\n",
       "      <td>Ukraine</td>\n",
       "      <td>0.755</td>\n",
       "      <td>249.0</td>\n",
       "    </tr>\n",
       "    <tr>\n",
       "      <th>2</th>\n",
       "      <td>Liechtenstein</td>\n",
       "      <td>0.899</td>\n",
       "      <td>0.0</td>\n",
       "    </tr>\n",
       "    <tr>\n",
       "      <th>3</th>\n",
       "      <td>United Kingdom</td>\n",
       "      <td>0.903</td>\n",
       "      <td>3.0</td>\n",
       "    </tr>\n",
       "    <tr>\n",
       "      <th>4</th>\n",
       "      <td>Costa Rica</td>\n",
       "      <td>0.761</td>\n",
       "      <td>2.0</td>\n",
       "    </tr>\n",
       "    <tr>\n",
       "      <th>...</th>\n",
       "      <td>...</td>\n",
       "      <td>...</td>\n",
       "      <td>...</td>\n",
       "    </tr>\n",
       "    <tr>\n",
       "      <th>115</th>\n",
       "      <td>Cyprus</td>\n",
       "      <td>0.858</td>\n",
       "      <td>1.0</td>\n",
       "    </tr>\n",
       "    <tr>\n",
       "      <th>116</th>\n",
       "      <td>Serbia and Kosovo (S/RES/1244 (1999))</td>\n",
       "      <td>0.764</td>\n",
       "      <td>1512.0</td>\n",
       "    </tr>\n",
       "    <tr>\n",
       "      <th>117</th>\n",
       "      <td>Malaysia</td>\n",
       "      <td>0.761</td>\n",
       "      <td>26.0</td>\n",
       "    </tr>\n",
       "    <tr>\n",
       "      <th>118</th>\n",
       "      <td>Peru</td>\n",
       "      <td>0.715</td>\n",
       "      <td>124.0</td>\n",
       "    </tr>\n",
       "    <tr>\n",
       "      <th>119</th>\n",
       "      <td>Sweden</td>\n",
       "      <td>0.907</td>\n",
       "      <td>0.0</td>\n",
       "    </tr>\n",
       "  </tbody>\n",
       "</table>\n",
       "<p>120 rows × 3 columns</p>\n",
       "</div>"
      ],
      "text/plain": [
       "                                    origin  idh_2008   value\n",
       "0                                   Mexico     0.748   767.0\n",
       "1                                  Ukraine     0.755   249.0\n",
       "2                            Liechtenstein     0.899     0.0\n",
       "3                           United Kingdom     0.903     3.0\n",
       "4                               Costa Rica     0.761     2.0\n",
       "..                                     ...       ...     ...\n",
       "115                                 Cyprus     0.858     1.0\n",
       "116  Serbia and Kosovo (S/RES/1244 (1999))     0.764  1512.0\n",
       "117                               Malaysia     0.761    26.0\n",
       "118                                   Peru     0.715   124.0\n",
       "119                                 Sweden     0.907     0.0\n",
       "\n",
       "[120 rows x 3 columns]"
      ]
     },
     "execution_count": 65,
     "metadata": {},
     "output_type": "execute_result"
    }
   ],
   "source": [
    "df = df_paises_idh.merge(df_out_degree, on=\"origin\", how=\"left\")\n",
    "df\n"
   ]
  },
  {
   "cell_type": "markdown",
   "id": "10b3389a",
   "metadata": {},
   "source": [
    "### WARS 2008"
   ]
  },
  {
   "cell_type": "code",
   "execution_count": 66,
   "id": "83277709",
   "metadata": {},
   "outputs": [
    {
     "data": {
      "text/html": [
       "<div>\n",
       "<style scoped>\n",
       "    .dataframe tbody tr th:only-of-type {\n",
       "        vertical-align: middle;\n",
       "    }\n",
       "\n",
       "    .dataframe tbody tr th {\n",
       "        vertical-align: top;\n",
       "    }\n",
       "\n",
       "    .dataframe thead th {\n",
       "        text-align: right;\n",
       "    }\n",
       "</style>\n",
       "<table border=\"1\" class=\"dataframe\">\n",
       "  <thead>\n",
       "    <tr style=\"text-align: right;\">\n",
       "      <th></th>\n",
       "      <th>WarNum</th>\n",
       "      <th>WarName</th>\n",
       "      <th>V5RegionNum</th>\n",
       "      <th>WarType</th>\n",
       "      <th>CcodeA</th>\n",
       "      <th>SideA</th>\n",
       "      <th>SideB</th>\n",
       "      <th>Intnl</th>\n",
       "      <th>StartMo1</th>\n",
       "      <th>StartDy1</th>\n",
       "      <th>...</th>\n",
       "      <th>WDuratMo</th>\n",
       "      <th>TotNatMonWar</th>\n",
       "      <th>TransFrom</th>\n",
       "      <th>Initiator</th>\n",
       "      <th>Outcome</th>\n",
       "      <th>TransTo</th>\n",
       "      <th>DeathsSideA</th>\n",
       "      <th>DeathsSideB</th>\n",
       "      <th>TotalBDeaths</th>\n",
       "      <th>Version</th>\n",
       "    </tr>\n",
       "  </thead>\n",
       "  <tbody>\n",
       "    <tr>\n",
       "      <th>0</th>\n",
       "      <td>500.0</td>\n",
       "      <td>First Caucasus War of 1818-1822</td>\n",
       "      <td>3</td>\n",
       "      <td>5</td>\n",
       "      <td>365</td>\n",
       "      <td>Russia</td>\n",
       "      <td>Caucasus Rebels</td>\n",
       "      <td>0</td>\n",
       "      <td>6</td>\n",
       "      <td>10</td>\n",
       "      <td>...</td>\n",
       "      <td>53.20</td>\n",
       "      <td>53.20</td>\n",
       "      <td>-8</td>\n",
       "      <td>Chechnya</td>\n",
       "      <td>1</td>\n",
       "      <td>-8.0</td>\n",
       "      <td>5000</td>\n",
       "      <td>6000</td>\n",
       "      <td>11000</td>\n",
       "      <td>5.1</td>\n",
       "    </tr>\n",
       "    <tr>\n",
       "      <th>1</th>\n",
       "      <td>502.0</td>\n",
       "      <td>First Two Sicilies War of 1820-1821</td>\n",
       "      <td>3</td>\n",
       "      <td>4</td>\n",
       "      <td>329</td>\n",
       "      <td>Two Sicilies</td>\n",
       "      <td>Liberals</td>\n",
       "      <td>1</td>\n",
       "      <td>7</td>\n",
       "      <td>2</td>\n",
       "      <td>...</td>\n",
       "      <td>8.73</td>\n",
       "      <td>9.03</td>\n",
       "      <td>-8</td>\n",
       "      <td>Liberals</td>\n",
       "      <td>1</td>\n",
       "      <td>-8.0</td>\n",
       "      <td>-9</td>\n",
       "      <td>-9</td>\n",
       "      <td>2000</td>\n",
       "      <td>5.1</td>\n",
       "    </tr>\n",
       "    <tr>\n",
       "      <th>2</th>\n",
       "      <td>502.1</td>\n",
       "      <td>Ali Pasha Rebellion of 1820-1822</td>\n",
       "      <td>3</td>\n",
       "      <td>5</td>\n",
       "      <td>640</td>\n",
       "      <td>Ottoman Empire</td>\n",
       "      <td>Ali Pasha Loyalists</td>\n",
       "      <td>0</td>\n",
       "      <td>7</td>\n",
       "      <td>-9</td>\n",
       "      <td>...</td>\n",
       "      <td>18.33</td>\n",
       "      <td>18.33</td>\n",
       "      <td>-8</td>\n",
       "      <td>Ottoman Empire</td>\n",
       "      <td>1</td>\n",
       "      <td>-8.0</td>\n",
       "      <td>-9</td>\n",
       "      <td>-9</td>\n",
       "      <td>2000</td>\n",
       "      <td>5.1</td>\n",
       "    </tr>\n",
       "    <tr>\n",
       "      <th>3</th>\n",
       "      <td>503.0</td>\n",
       "      <td>Sardinian Revolt of 1821</td>\n",
       "      <td>3</td>\n",
       "      <td>4</td>\n",
       "      <td>325</td>\n",
       "      <td>Sardinia</td>\n",
       "      <td>Piedmont Liberals</td>\n",
       "      <td>1</td>\n",
       "      <td>3</td>\n",
       "      <td>10</td>\n",
       "      <td>...</td>\n",
       "      <td>1.97</td>\n",
       "      <td>3.03</td>\n",
       "      <td>-8</td>\n",
       "      <td>Liberals</td>\n",
       "      <td>1</td>\n",
       "      <td>-8.0</td>\n",
       "      <td>-9</td>\n",
       "      <td>-9</td>\n",
       "      <td>1000</td>\n",
       "      <td>5.1</td>\n",
       "    </tr>\n",
       "    <tr>\n",
       "      <th>4</th>\n",
       "      <td>504.0</td>\n",
       "      <td>Greek Independence War of 1821-1828</td>\n",
       "      <td>3</td>\n",
       "      <td>5</td>\n",
       "      <td>640</td>\n",
       "      <td>Ottoman Empire</td>\n",
       "      <td>Greeks</td>\n",
       "      <td>1</td>\n",
       "      <td>3</td>\n",
       "      <td>25</td>\n",
       "      <td>...</td>\n",
       "      <td>85.03</td>\n",
       "      <td>91.77</td>\n",
       "      <td>-8</td>\n",
       "      <td>Greeks</td>\n",
       "      <td>4</td>\n",
       "      <td>4.0</td>\n",
       "      <td>50000</td>\n",
       "      <td>15177</td>\n",
       "      <td>65177</td>\n",
       "      <td>5.1</td>\n",
       "    </tr>\n",
       "    <tr>\n",
       "      <th>...</th>\n",
       "      <td>...</td>\n",
       "      <td>...</td>\n",
       "      <td>...</td>\n",
       "      <td>...</td>\n",
       "      <td>...</td>\n",
       "      <td>...</td>\n",
       "      <td>...</td>\n",
       "      <td>...</td>\n",
       "      <td>...</td>\n",
       "      <td>...</td>\n",
       "      <td>...</td>\n",
       "      <td>...</td>\n",
       "      <td>...</td>\n",
       "      <td>...</td>\n",
       "      <td>...</td>\n",
       "      <td>...</td>\n",
       "      <td>...</td>\n",
       "      <td>...</td>\n",
       "      <td>...</td>\n",
       "      <td>...</td>\n",
       "      <td>...</td>\n",
       "    </tr>\n",
       "    <tr>\n",
       "      <th>415</th>\n",
       "      <td>992.0</td>\n",
       "      <td>Third Al-Houthi Rebellion of 2014-present</td>\n",
       "      <td>5</td>\n",
       "      <td>4</td>\n",
       "      <td>679</td>\n",
       "      <td>Yemen</td>\n",
       "      <td>Ansar Allah</td>\n",
       "      <td>0</td>\n",
       "      <td>2</td>\n",
       "      <td>28</td>\n",
       "      <td>...</td>\n",
       "      <td>12.83</td>\n",
       "      <td>12.83</td>\n",
       "      <td>-8</td>\n",
       "      <td>Houthi Rebels</td>\n",
       "      <td>5</td>\n",
       "      <td>-8.0</td>\n",
       "      <td>600</td>\n",
       "      <td>4000</td>\n",
       "      <td>4600</td>\n",
       "      <td>5.1</td>\n",
       "    </tr>\n",
       "    <tr>\n",
       "      <th>416</th>\n",
       "      <td>992.5</td>\n",
       "      <td>Somali-Al-Shabaab war of 2014-present</td>\n",
       "      <td>4</td>\n",
       "      <td>4</td>\n",
       "      <td>520</td>\n",
       "      <td>Somalia</td>\n",
       "      <td>Al-Shabaab</td>\n",
       "      <td>1</td>\n",
       "      <td>3</td>\n",
       "      <td>3</td>\n",
       "      <td>...</td>\n",
       "      <td>21.97</td>\n",
       "      <td>131.80</td>\n",
       "      <td>-8</td>\n",
       "      <td>Somalia</td>\n",
       "      <td>5</td>\n",
       "      <td>-8.0</td>\n",
       "      <td>-9</td>\n",
       "      <td>-9</td>\n",
       "      <td>-9</td>\n",
       "      <td>5.1</td>\n",
       "    </tr>\n",
       "    <tr>\n",
       "      <th>417</th>\n",
       "      <td>993.0</td>\n",
       "      <td>Donbas War of 2014-present</td>\n",
       "      <td>3</td>\n",
       "      <td>5</td>\n",
       "      <td>369</td>\n",
       "      <td>Ukraine and Russia</td>\n",
       "      <td>Separatists</td>\n",
       "      <td>1</td>\n",
       "      <td>4</td>\n",
       "      <td>15</td>\n",
       "      <td>...</td>\n",
       "      <td>16.43</td>\n",
       "      <td>28.77</td>\n",
       "      <td>-8</td>\n",
       "      <td>Separatists</td>\n",
       "      <td>5</td>\n",
       "      <td>-8.0</td>\n",
       "      <td>3245</td>\n",
       "      <td>2581</td>\n",
       "      <td>5826</td>\n",
       "      <td>5.1</td>\n",
       "    </tr>\n",
       "    <tr>\n",
       "      <th>418</th>\n",
       "      <td>994.0</td>\n",
       "      <td>Second Libyan Civil War of 2014-present</td>\n",
       "      <td>5</td>\n",
       "      <td>4</td>\n",
       "      <td>620</td>\n",
       "      <td>Libya</td>\n",
       "      <td>Libyan Dawn</td>\n",
       "      <td>0</td>\n",
       "      <td>5</td>\n",
       "      <td>16</td>\n",
       "      <td>...</td>\n",
       "      <td>19.00</td>\n",
       "      <td>19.07</td>\n",
       "      <td>-8</td>\n",
       "      <td>Libya</td>\n",
       "      <td>5</td>\n",
       "      <td>-8.0</td>\n",
       "      <td>-9</td>\n",
       "      <td>-9</td>\n",
       "      <td>1500</td>\n",
       "      <td>5.1</td>\n",
       "    </tr>\n",
       "    <tr>\n",
       "      <th>419</th>\n",
       "      <td>997.0</td>\n",
       "      <td>Rada'a War of 2014-present</td>\n",
       "      <td>5</td>\n",
       "      <td>7</td>\n",
       "      <td>-8</td>\n",
       "      <td>Houthi Rebels</td>\n",
       "      <td>AQAP</td>\n",
       "      <td>0</td>\n",
       "      <td>9</td>\n",
       "      <td>16</td>\n",
       "      <td>...</td>\n",
       "      <td>6.30</td>\n",
       "      <td>6.30</td>\n",
       "      <td>-8</td>\n",
       "      <td>Houthi Rebels</td>\n",
       "      <td>5</td>\n",
       "      <td>233.0</td>\n",
       "      <td>1000</td>\n",
       "      <td>350</td>\n",
       "      <td>1350</td>\n",
       "      <td>5.1</td>\n",
       "    </tr>\n",
       "  </tbody>\n",
       "</table>\n",
       "<p>420 rows × 43 columns</p>\n",
       "</div>"
      ],
      "text/plain": [
       "     WarNum                                    WarName  V5RegionNum  WarType  \\\n",
       "0     500.0            First Caucasus War of 1818-1822            3        5   \n",
       "1     502.0        First Two Sicilies War of 1820-1821            3        4   \n",
       "2     502.1           Ali Pasha Rebellion of 1820-1822            3        5   \n",
       "3     503.0                   Sardinian Revolt of 1821            3        4   \n",
       "4     504.0        Greek Independence War of 1821-1828            3        5   \n",
       "..      ...                                        ...          ...      ...   \n",
       "415   992.0  Third Al-Houthi Rebellion of 2014-present            5        4   \n",
       "416   992.5      Somali-Al-Shabaab war of 2014-present            4        4   \n",
       "417   993.0                 Donbas War of 2014-present            3        5   \n",
       "418   994.0    Second Libyan Civil War of 2014-present            5        4   \n",
       "419   997.0                 Rada'a War of 2014-present            5        7   \n",
       "\n",
       "     CcodeA               SideA                SideB  Intnl  StartMo1  \\\n",
       "0       365              Russia      Caucasus Rebels      0         6   \n",
       "1       329        Two Sicilies             Liberals      1         7   \n",
       "2       640      Ottoman Empire  Ali Pasha Loyalists      0         7   \n",
       "3       325            Sardinia    Piedmont Liberals      1         3   \n",
       "4       640      Ottoman Empire               Greeks      1         3   \n",
       "..      ...                 ...                  ...    ...       ...   \n",
       "415     679               Yemen          Ansar Allah      0         2   \n",
       "416     520             Somalia          Al-Shabaab       1         3   \n",
       "417     369  Ukraine and Russia          Separatists      1         4   \n",
       "418     620               Libya          Libyan Dawn      0         5   \n",
       "419      -8       Houthi Rebels                 AQAP      0         9   \n",
       "\n",
       "     StartDy1  ...  WDuratMo  TotNatMonWar TransFrom       Initiator  Outcome  \\\n",
       "0          10  ...     53.20         53.20        -8        Chechnya        1   \n",
       "1           2  ...      8.73          9.03        -8        Liberals        1   \n",
       "2          -9  ...     18.33         18.33        -8  Ottoman Empire        1   \n",
       "3          10  ...      1.97          3.03        -8        Liberals        1   \n",
       "4          25  ...     85.03         91.77        -8          Greeks        4   \n",
       "..        ...  ...       ...           ...       ...             ...      ...   \n",
       "415        28  ...     12.83         12.83        -8   Houthi Rebels        5   \n",
       "416         3  ...     21.97        131.80        -8         Somalia        5   \n",
       "417        15  ...     16.43         28.77        -8     Separatists        5   \n",
       "418        16  ...     19.00         19.07        -8           Libya        5   \n",
       "419        16  ...      6.30          6.30        -8   Houthi Rebels        5   \n",
       "\n",
       "     TransTo  DeathsSideA  DeathsSideB  TotalBDeaths  Version  \n",
       "0       -8.0         5000         6000         11000      5.1  \n",
       "1       -8.0           -9           -9          2000      5.1  \n",
       "2       -8.0           -9           -9          2000      5.1  \n",
       "3       -8.0           -9           -9          1000      5.1  \n",
       "4        4.0        50000        15177         65177      5.1  \n",
       "..       ...          ...          ...           ...      ...  \n",
       "415     -8.0          600         4000          4600      5.1  \n",
       "416     -8.0           -9           -9            -9      5.1  \n",
       "417     -8.0         3245         2581          5826      5.1  \n",
       "418     -8.0           -9           -9          1500      5.1  \n",
       "419    233.0         1000          350          1350      5.1  \n",
       "\n",
       "[420 rows x 43 columns]"
      ]
     },
     "execution_count": 66,
     "metadata": {},
     "output_type": "execute_result"
    }
   ],
   "source": [
    "df_wars = pd.read_csv(\"../Bases-auxiliares/raw-files/Wars.csv\")\n",
    "df_wars"
   ]
  },
  {
   "cell_type": "code",
   "execution_count": 67,
   "id": "4a825ef7",
   "metadata": {},
   "outputs": [],
   "source": [
    "filters = ((df_wars.StartYr1 == 2008) | \n",
    "          (df_wars.EndYr1 == 2008) | \n",
    "          (df_wars.EndYr2 == 2008) |\n",
    "          (df_wars.EndYr3 == 2008) | \n",
    "          (df_wars.EndYr4 == 2008) | \n",
    "          ((df_wars.StartYr1 <= 2008) & (df_wars.EndYr1 >= 2008)) |\n",
    "          ((df_wars.StartYr1 <= 2008) & (df_wars.EndYr2 >= 2008)) |\n",
    "          ((df_wars.StartYr1 <= 2008) & (df_wars.EndYr3 >= 2008)) |\n",
    "          ((df_wars.StartYr1 <= 2008) & (df_wars.EndYr4 >= 2008)))\n"
   ]
  },
  {
   "cell_type": "code",
   "execution_count": 68,
   "id": "f7f1bea7",
   "metadata": {},
   "outputs": [],
   "source": [
    "df_war_filtered_by_2008 = df_wars.loc[filters, :]"
   ]
  },
  {
   "cell_type": "code",
   "execution_count": 69,
   "id": "76d4a498",
   "metadata": {},
   "outputs": [],
   "source": [
    "lista_conflitos = df_war_filtered_by_2008.SideA.tolist()\n",
    "lista_paises = df_war_filtered_by_2008.SideA.unique().tolist()"
   ]
  },
  {
   "cell_type": "code",
   "execution_count": 70,
   "id": "7c5be668",
   "metadata": {},
   "outputs": [],
   "source": [
    "dic_contagem_guerras = {\"country_name\": [], \"n_wars\": []}\n",
    "for pais in lista_paises:\n",
    "    dic_contagem_guerras[\"country_name\"].append(pais)\n",
    "    dic_contagem_guerras[\"n_wars\"].append(lista_conflitos.count(pais))"
   ]
  },
  {
   "cell_type": "code",
   "execution_count": 71,
   "id": "4ec761ff",
   "metadata": {},
   "outputs": [
    {
     "data": {
      "text/html": [
       "<div>\n",
       "<style scoped>\n",
       "    .dataframe tbody tr th:only-of-type {\n",
       "        vertical-align: middle;\n",
       "    }\n",
       "\n",
       "    .dataframe tbody tr th {\n",
       "        vertical-align: top;\n",
       "    }\n",
       "\n",
       "    .dataframe thead th {\n",
       "        text-align: right;\n",
       "    }\n",
       "</style>\n",
       "<table border=\"1\" class=\"dataframe\">\n",
       "  <thead>\n",
       "    <tr style=\"text-align: right;\">\n",
       "      <th></th>\n",
       "      <th>country_name</th>\n",
       "      <th>n_wars</th>\n",
       "    </tr>\n",
       "  </thead>\n",
       "  <tbody>\n",
       "    <tr>\n",
       "      <th>0</th>\n",
       "      <td>Chad</td>\n",
       "      <td>1</td>\n",
       "    </tr>\n",
       "    <tr>\n",
       "      <th>1</th>\n",
       "      <td>Sri Lanka</td>\n",
       "      <td>1</td>\n",
       "    </tr>\n",
       "    <tr>\n",
       "      <th>2</th>\n",
       "      <td>Somalia</td>\n",
       "      <td>1</td>\n",
       "    </tr>\n",
       "    <tr>\n",
       "      <th>3</th>\n",
       "      <td>Yemen</td>\n",
       "      <td>1</td>\n",
       "    </tr>\n",
       "  </tbody>\n",
       "</table>\n",
       "</div>"
      ],
      "text/plain": [
       "  country_name  n_wars\n",
       "0         Chad       1\n",
       "1    Sri Lanka       1\n",
       "2      Somalia       1\n",
       "3        Yemen       1"
      ]
     },
     "execution_count": 71,
     "metadata": {},
     "output_type": "execute_result"
    }
   ],
   "source": [
    "df_filtrado = pd.DataFrame(dic_contagem_guerras)\n",
    "df_filtrado.head()"
   ]
  },
  {
   "cell_type": "code",
   "execution_count": 72,
   "id": "8225e211",
   "metadata": {},
   "outputs": [],
   "source": [
    "df_filtrado.to_csv(\"../Bases-auxiliares/output-files/Wars_2008.csv\")"
   ]
  },
  {
   "cell_type": "code",
   "execution_count": 73,
   "id": "fa1fdb0e",
   "metadata": {},
   "outputs": [
    {
     "data": {
      "text/html": [
       "<div>\n",
       "<style scoped>\n",
       "    .dataframe tbody tr th:only-of-type {\n",
       "        vertical-align: middle;\n",
       "    }\n",
       "\n",
       "    .dataframe tbody tr th {\n",
       "        vertical-align: top;\n",
       "    }\n",
       "\n",
       "    .dataframe thead th {\n",
       "        text-align: right;\n",
       "    }\n",
       "</style>\n",
       "<table border=\"1\" class=\"dataframe\">\n",
       "  <thead>\n",
       "    <tr style=\"text-align: right;\">\n",
       "      <th></th>\n",
       "      <th>country_name</th>\n",
       "      <th>n_wars</th>\n",
       "    </tr>\n",
       "  </thead>\n",
       "  <tbody>\n",
       "    <tr>\n",
       "      <th>0</th>\n",
       "      <td>Chad</td>\n",
       "      <td>1</td>\n",
       "    </tr>\n",
       "    <tr>\n",
       "      <th>1</th>\n",
       "      <td>Sri Lanka</td>\n",
       "      <td>1</td>\n",
       "    </tr>\n",
       "    <tr>\n",
       "      <th>2</th>\n",
       "      <td>Somalia</td>\n",
       "      <td>1</td>\n",
       "    </tr>\n",
       "    <tr>\n",
       "      <th>3</th>\n",
       "      <td>Yemen</td>\n",
       "      <td>1</td>\n",
       "    </tr>\n",
       "  </tbody>\n",
       "</table>\n",
       "</div>"
      ],
      "text/plain": [
       "  country_name  n_wars\n",
       "0         Chad       1\n",
       "1    Sri Lanka       1\n",
       "2      Somalia       1\n",
       "3        Yemen       1"
      ]
     },
     "execution_count": 73,
     "metadata": {},
     "output_type": "execute_result"
    }
   ],
   "source": [
    "df_filtrado"
   ]
  },
  {
   "cell_type": "code",
   "execution_count": 74,
   "id": "2bee5f53",
   "metadata": {},
   "outputs": [
    {
     "data": {
      "text/html": [
       "<div>\n",
       "<style scoped>\n",
       "    .dataframe tbody tr th:only-of-type {\n",
       "        vertical-align: middle;\n",
       "    }\n",
       "\n",
       "    .dataframe tbody tr th {\n",
       "        vertical-align: top;\n",
       "    }\n",
       "\n",
       "    .dataframe thead th {\n",
       "        text-align: right;\n",
       "    }\n",
       "</style>\n",
       "<table border=\"1\" class=\"dataframe\">\n",
       "  <thead>\n",
       "    <tr style=\"text-align: right;\">\n",
       "      <th></th>\n",
       "      <th>origin</th>\n",
       "      <th>idh_2008</th>\n",
       "      <th>n_wars</th>\n",
       "    </tr>\n",
       "  </thead>\n",
       "  <tbody>\n",
       "    <tr>\n",
       "      <th>0</th>\n",
       "      <td>Mexico</td>\n",
       "      <td>0.748</td>\n",
       "      <td>0.0</td>\n",
       "    </tr>\n",
       "    <tr>\n",
       "      <th>1</th>\n",
       "      <td>Ukraine</td>\n",
       "      <td>0.755</td>\n",
       "      <td>0.0</td>\n",
       "    </tr>\n",
       "    <tr>\n",
       "      <th>2</th>\n",
       "      <td>Liechtenstein</td>\n",
       "      <td>0.899</td>\n",
       "      <td>0.0</td>\n",
       "    </tr>\n",
       "    <tr>\n",
       "      <th>3</th>\n",
       "      <td>United Kingdom</td>\n",
       "      <td>0.903</td>\n",
       "      <td>0.0</td>\n",
       "    </tr>\n",
       "    <tr>\n",
       "      <th>4</th>\n",
       "      <td>Costa Rica</td>\n",
       "      <td>0.761</td>\n",
       "      <td>0.0</td>\n",
       "    </tr>\n",
       "    <tr>\n",
       "      <th>...</th>\n",
       "      <td>...</td>\n",
       "      <td>...</td>\n",
       "      <td>...</td>\n",
       "    </tr>\n",
       "    <tr>\n",
       "      <th>115</th>\n",
       "      <td>Cyprus</td>\n",
       "      <td>0.858</td>\n",
       "      <td>0.0</td>\n",
       "    </tr>\n",
       "    <tr>\n",
       "      <th>116</th>\n",
       "      <td>Serbia and Kosovo (S/RES/1244 (1999))</td>\n",
       "      <td>0.764</td>\n",
       "      <td>0.0</td>\n",
       "    </tr>\n",
       "    <tr>\n",
       "      <th>117</th>\n",
       "      <td>Malaysia</td>\n",
       "      <td>0.761</td>\n",
       "      <td>0.0</td>\n",
       "    </tr>\n",
       "    <tr>\n",
       "      <th>118</th>\n",
       "      <td>Peru</td>\n",
       "      <td>0.715</td>\n",
       "      <td>0.0</td>\n",
       "    </tr>\n",
       "    <tr>\n",
       "      <th>119</th>\n",
       "      <td>Sweden</td>\n",
       "      <td>0.907</td>\n",
       "      <td>0.0</td>\n",
       "    </tr>\n",
       "  </tbody>\n",
       "</table>\n",
       "<p>120 rows × 3 columns</p>\n",
       "</div>"
      ],
      "text/plain": [
       "                                    origin  idh_2008  n_wars\n",
       "0                                   Mexico     0.748     0.0\n",
       "1                                  Ukraine     0.755     0.0\n",
       "2                            Liechtenstein     0.899     0.0\n",
       "3                           United Kingdom     0.903     0.0\n",
       "4                               Costa Rica     0.761     0.0\n",
       "..                                     ...       ...     ...\n",
       "115                                 Cyprus     0.858     0.0\n",
       "116  Serbia and Kosovo (S/RES/1244 (1999))     0.764     0.0\n",
       "117                               Malaysia     0.761     0.0\n",
       "118                                   Peru     0.715     0.0\n",
       "119                                 Sweden     0.907     0.0\n",
       "\n",
       "[120 rows x 3 columns]"
      ]
     },
     "execution_count": 74,
     "metadata": {},
     "output_type": "execute_result"
    }
   ],
   "source": [
    "df_filtrado = df_filtrado.rename(columns={'country_name': 'origin', 'n_wars': 'n_wars'})\n",
    "df_filtrado = df_filtrado.set_index('origin').reindex(paises_selecionados).reset_index()\n",
    "df_filtrado = df_filtrado.fillna(0)\n",
    "df = df_paises_idh.merge(df_filtrado, on=\"origin\", how=\"left\")\n",
    "df"
   ]
  },
  {
   "cell_type": "code",
   "execution_count": 75,
   "id": "40d4e4c3",
   "metadata": {},
   "outputs": [
    {
     "data": {
      "text/html": [
       "<div>\n",
       "<style scoped>\n",
       "    .dataframe tbody tr th:only-of-type {\n",
       "        vertical-align: middle;\n",
       "    }\n",
       "\n",
       "    .dataframe tbody tr th {\n",
       "        vertical-align: top;\n",
       "    }\n",
       "\n",
       "    .dataframe thead th {\n",
       "        text-align: right;\n",
       "    }\n",
       "</style>\n",
       "<table border=\"1\" class=\"dataframe\">\n",
       "  <thead>\n",
       "    <tr style=\"text-align: right;\">\n",
       "      <th></th>\n",
       "      <th>origin</th>\n",
       "      <th>idh_2008</th>\n",
       "      <th>n_wars</th>\n",
       "    </tr>\n",
       "  </thead>\n",
       "  <tbody>\n",
       "    <tr>\n",
       "      <th>93</th>\n",
       "      <td>Sri Lanka</td>\n",
       "      <td>0.746</td>\n",
       "      <td>1.0</td>\n",
       "    </tr>\n",
       "  </tbody>\n",
       "</table>\n",
       "</div>"
      ],
      "text/plain": [
       "       origin  idh_2008  n_wars\n",
       "93  Sri Lanka     0.746     1.0"
      ]
     },
     "execution_count": 75,
     "metadata": {},
     "output_type": "execute_result"
    }
   ],
   "source": [
    "df.loc[df['origin'] == 'Sri Lanka', :]"
   ]
  },
  {
   "cell_type": "code",
   "execution_count": 126,
   "id": "9248a95f",
   "metadata": {},
   "outputs": [],
   "source": [
    "# Importando a biblioteca netpixi\n",
    "from netpixi.integration.gt import Graph\n",
    "\n",
    "# Criando um grafo não-dirigido\n",
    "g = Graph(directed=True) \n",
    "g.add_vp('nome')\n",
    "g.add_ep('aceitos')"
   ]
  },
  {
   "cell_type": "code",
   "execution_count": 127,
   "id": "2754f413",
   "metadata": {},
   "outputs": [],
   "source": [
    "for vertice in paises_selecionados:\n",
    "    g.add_vertex(vertice)"
   ]
  },
  {
   "cell_type": "code",
   "execution_count": 128,
   "id": "7dfb837d",
   "metadata": {},
   "outputs": [],
   "source": [
    "for v in g.all_vertices():\n",
    "    v['nome'] = str(v)"
   ]
  },
  {
   "cell_type": "code",
   "execution_count": 129,
   "id": "ca001d5d",
   "metadata": {},
   "outputs": [
    {
     "name": "stdout",
     "output_type": "stream",
     "text": [
      "O número de vértices do grafo é : 120\n"
     ]
    }
   ],
   "source": [
    "n = g.num_vertices()\n",
    "print('O número de vértices do grafo é :', n)"
   ]
  },
  {
   "cell_type": "code",
   "execution_count": 130,
   "id": "05306009",
   "metadata": {},
   "outputs": [
    {
     "data": {
      "text/html": [
       "<div>\n",
       "<style scoped>\n",
       "    .dataframe tbody tr th:only-of-type {\n",
       "        vertical-align: middle;\n",
       "    }\n",
       "\n",
       "    .dataframe tbody tr th {\n",
       "        vertical-align: top;\n",
       "    }\n",
       "\n",
       "    .dataframe thead th {\n",
       "        text-align: right;\n",
       "    }\n",
       "</style>\n",
       "<table border=\"1\" class=\"dataframe\">\n",
       "  <thead>\n",
       "    <tr style=\"text-align: right;\">\n",
       "      <th></th>\n",
       "      <th>year</th>\n",
       "      <th>destiny</th>\n",
       "      <th>origin</th>\n",
       "      <th>accepted</th>\n",
       "    </tr>\n",
       "  </thead>\n",
       "  <tbody>\n",
       "    <tr>\n",
       "      <th>37988</th>\n",
       "      <td>2008</td>\n",
       "      <td>Afghanistan</td>\n",
       "      <td>Egypt</td>\n",
       "      <td>0</td>\n",
       "    </tr>\n",
       "    <tr>\n",
       "      <th>37989</th>\n",
       "      <td>2008</td>\n",
       "      <td>Afghanistan</td>\n",
       "      <td>Eritrea</td>\n",
       "      <td>0</td>\n",
       "    </tr>\n",
       "    <tr>\n",
       "      <th>37990</th>\n",
       "      <td>2008</td>\n",
       "      <td>Afghanistan</td>\n",
       "      <td>Iran (Islamic Rep. of)</td>\n",
       "      <td>0</td>\n",
       "    </tr>\n",
       "    <tr>\n",
       "      <th>37991</th>\n",
       "      <td>2008</td>\n",
       "      <td>Afghanistan</td>\n",
       "      <td>Iraq</td>\n",
       "      <td>0</td>\n",
       "    </tr>\n",
       "    <tr>\n",
       "      <th>37992</th>\n",
       "      <td>2008</td>\n",
       "      <td>Afghanistan</td>\n",
       "      <td>Pakistan</td>\n",
       "      <td>0</td>\n",
       "    </tr>\n",
       "    <tr>\n",
       "      <th>...</th>\n",
       "      <td>...</td>\n",
       "      <td>...</td>\n",
       "      <td>...</td>\n",
       "      <td>...</td>\n",
       "    </tr>\n",
       "    <tr>\n",
       "      <th>43297</th>\n",
       "      <td>2008</td>\n",
       "      <td>Zimbabwe</td>\n",
       "      <td>Ethiopia</td>\n",
       "      <td>0</td>\n",
       "    </tr>\n",
       "    <tr>\n",
       "      <th>43298</th>\n",
       "      <td>2008</td>\n",
       "      <td>Zimbabwe</td>\n",
       "      <td>Rwanda</td>\n",
       "      <td>7</td>\n",
       "    </tr>\n",
       "    <tr>\n",
       "      <th>43299</th>\n",
       "      <td>2008</td>\n",
       "      <td>Zimbabwe</td>\n",
       "      <td>Somalia</td>\n",
       "      <td>0</td>\n",
       "    </tr>\n",
       "    <tr>\n",
       "      <th>43300</th>\n",
       "      <td>2008</td>\n",
       "      <td>Zimbabwe</td>\n",
       "      <td>Sudan</td>\n",
       "      <td>0</td>\n",
       "    </tr>\n",
       "    <tr>\n",
       "      <th>43301</th>\n",
       "      <td>2008</td>\n",
       "      <td>Zimbabwe</td>\n",
       "      <td>Uganda</td>\n",
       "      <td>4</td>\n",
       "    </tr>\n",
       "  </tbody>\n",
       "</table>\n",
       "<p>5314 rows × 4 columns</p>\n",
       "</div>"
      ],
      "text/plain": [
       "       year      destiny                  origin  accepted\n",
       "37988  2008  Afghanistan                   Egypt         0\n",
       "37989  2008  Afghanistan                 Eritrea         0\n",
       "37990  2008  Afghanistan  Iran (Islamic Rep. of)         0\n",
       "37991  2008  Afghanistan                    Iraq         0\n",
       "37992  2008  Afghanistan                Pakistan         0\n",
       "...     ...          ...                     ...       ...\n",
       "43297  2008     Zimbabwe                Ethiopia         0\n",
       "43298  2008     Zimbabwe                  Rwanda         7\n",
       "43299  2008     Zimbabwe                 Somalia         0\n",
       "43300  2008     Zimbabwe                   Sudan         0\n",
       "43301  2008     Zimbabwe                  Uganda         4\n",
       "\n",
       "[5314 rows x 4 columns]"
      ]
     },
     "execution_count": 130,
     "metadata": {},
     "output_type": "execute_result"
    }
   ],
   "source": [
    "df_aresta = pd.read_csv('./df_agg_2008_accepted.csv', index_col=0)\n",
    "df_aresta"
   ]
  },
  {
   "cell_type": "code",
   "execution_count": 131,
   "id": "14f53258",
   "metadata": {},
   "outputs": [
    {
     "data": {
      "text/html": [
       "<div>\n",
       "<style scoped>\n",
       "    .dataframe tbody tr th:only-of-type {\n",
       "        vertical-align: middle;\n",
       "    }\n",
       "\n",
       "    .dataframe tbody tr th {\n",
       "        vertical-align: top;\n",
       "    }\n",
       "\n",
       "    .dataframe thead th {\n",
       "        text-align: right;\n",
       "    }\n",
       "</style>\n",
       "<table border=\"1\" class=\"dataframe\">\n",
       "  <thead>\n",
       "    <tr style=\"text-align: right;\">\n",
       "      <th></th>\n",
       "      <th>year</th>\n",
       "      <th>destiny</th>\n",
       "      <th>origin</th>\n",
       "      <th>accepted</th>\n",
       "    </tr>\n",
       "  </thead>\n",
       "  <tbody>\n",
       "    <tr>\n",
       "      <th>37988</th>\n",
       "      <td>2008</td>\n",
       "      <td>Afghanistan</td>\n",
       "      <td>Egypt</td>\n",
       "      <td>0</td>\n",
       "    </tr>\n",
       "    <tr>\n",
       "      <th>37989</th>\n",
       "      <td>2008</td>\n",
       "      <td>Afghanistan</td>\n",
       "      <td>Eritrea</td>\n",
       "      <td>0</td>\n",
       "    </tr>\n",
       "    <tr>\n",
       "      <th>37990</th>\n",
       "      <td>2008</td>\n",
       "      <td>Afghanistan</td>\n",
       "      <td>Iran (Islamic Rep. of)</td>\n",
       "      <td>0</td>\n",
       "    </tr>\n",
       "    <tr>\n",
       "      <th>37991</th>\n",
       "      <td>2008</td>\n",
       "      <td>Afghanistan</td>\n",
       "      <td>Iraq</td>\n",
       "      <td>0</td>\n",
       "    </tr>\n",
       "    <tr>\n",
       "      <th>37992</th>\n",
       "      <td>2008</td>\n",
       "      <td>Afghanistan</td>\n",
       "      <td>Pakistan</td>\n",
       "      <td>0</td>\n",
       "    </tr>\n",
       "    <tr>\n",
       "      <th>...</th>\n",
       "      <td>...</td>\n",
       "      <td>...</td>\n",
       "      <td>...</td>\n",
       "      <td>...</td>\n",
       "    </tr>\n",
       "    <tr>\n",
       "      <th>43297</th>\n",
       "      <td>2008</td>\n",
       "      <td>Zimbabwe</td>\n",
       "      <td>Ethiopia</td>\n",
       "      <td>0</td>\n",
       "    </tr>\n",
       "    <tr>\n",
       "      <th>43298</th>\n",
       "      <td>2008</td>\n",
       "      <td>Zimbabwe</td>\n",
       "      <td>Rwanda</td>\n",
       "      <td>7</td>\n",
       "    </tr>\n",
       "    <tr>\n",
       "      <th>43299</th>\n",
       "      <td>2008</td>\n",
       "      <td>Zimbabwe</td>\n",
       "      <td>Somalia</td>\n",
       "      <td>0</td>\n",
       "    </tr>\n",
       "    <tr>\n",
       "      <th>43300</th>\n",
       "      <td>2008</td>\n",
       "      <td>Zimbabwe</td>\n",
       "      <td>Sudan</td>\n",
       "      <td>0</td>\n",
       "    </tr>\n",
       "    <tr>\n",
       "      <th>43301</th>\n",
       "      <td>2008</td>\n",
       "      <td>Zimbabwe</td>\n",
       "      <td>Uganda</td>\n",
       "      <td>4</td>\n",
       "    </tr>\n",
       "  </tbody>\n",
       "</table>\n",
       "<p>5308 rows × 4 columns</p>\n",
       "</div>"
      ],
      "text/plain": [
       "       year      destiny                  origin  accepted\n",
       "37988  2008  Afghanistan                   Egypt         0\n",
       "37989  2008  Afghanistan                 Eritrea         0\n",
       "37990  2008  Afghanistan  Iran (Islamic Rep. of)         0\n",
       "37991  2008  Afghanistan                    Iraq         0\n",
       "37992  2008  Afghanistan                Pakistan         0\n",
       "...     ...          ...                     ...       ...\n",
       "43297  2008     Zimbabwe                Ethiopia         0\n",
       "43298  2008     Zimbabwe                  Rwanda         7\n",
       "43299  2008     Zimbabwe                 Somalia         0\n",
       "43300  2008     Zimbabwe                   Sudan         0\n",
       "43301  2008     Zimbabwe                  Uganda         4\n",
       "\n",
       "[5308 rows x 4 columns]"
      ]
     },
     "execution_count": 131,
     "metadata": {},
     "output_type": "execute_result"
    }
   ],
   "source": [
    "df_aresta = df_aresta[df_aresta['origin'] != df_aresta['destiny']]\n",
    "df_aresta"
   ]
  },
  {
   "cell_type": "code",
   "execution_count": 185,
   "id": "1a6cd3ac",
   "metadata": {},
   "outputs": [],
   "source": [
    "countries_idh_07 = df.origin.to_list()"
   ]
  },
  {
   "cell_type": "code",
   "execution_count": 186,
   "id": "5f087c7f",
   "metadata": {},
   "outputs": [],
   "source": [
    "df_aresta_origin_filtrado = df_aresta[df_aresta.origin.isin(countries_idh_07)]"
   ]
  },
  {
   "cell_type": "code",
   "execution_count": 187,
   "id": "8d1c51d8",
   "metadata": {},
   "outputs": [],
   "source": [
    "df_aresta_origin_e_destiny_filtrado = df_aresta_origin_filtrado[df_aresta_origin_filtrado.destiny.isin(countries_idh_07)]"
   ]
  },
  {
   "cell_type": "code",
   "execution_count": 188,
   "id": "dd120eaf",
   "metadata": {},
   "outputs": [],
   "source": [
    "df_aresta_filtrado = df_aresta_origin_e_destiny_filtrado.loc[df_aresta_origin_e_destiny_filtrado.origin != df_aresta_origin_e_destiny_filtrado.destiny, :]"
   ]
  },
  {
   "cell_type": "code",
   "execution_count": 189,
   "id": "b387012e",
   "metadata": {},
   "outputs": [
    {
     "data": {
      "text/html": [
       "<div>\n",
       "<style scoped>\n",
       "    .dataframe tbody tr th:only-of-type {\n",
       "        vertical-align: middle;\n",
       "    }\n",
       "\n",
       "    .dataframe tbody tr th {\n",
       "        vertical-align: top;\n",
       "    }\n",
       "\n",
       "    .dataframe thead th {\n",
       "        text-align: right;\n",
       "    }\n",
       "</style>\n",
       "<table border=\"1\" class=\"dataframe\">\n",
       "  <thead>\n",
       "    <tr style=\"text-align: right;\">\n",
       "      <th></th>\n",
       "      <th>year</th>\n",
       "      <th>destiny</th>\n",
       "      <th>origin</th>\n",
       "      <th>accepted</th>\n",
       "    </tr>\n",
       "  </thead>\n",
       "  <tbody>\n",
       "    <tr>\n",
       "      <th>37997</th>\n",
       "      <td>2008</td>\n",
       "      <td>Albania</td>\n",
       "      <td>Czech Rep.</td>\n",
       "      <td>0</td>\n",
       "    </tr>\n",
       "    <tr>\n",
       "      <th>37998</th>\n",
       "      <td>2008</td>\n",
       "      <td>Albania</td>\n",
       "      <td>Montenegro</td>\n",
       "      <td>0</td>\n",
       "    </tr>\n",
       "    <tr>\n",
       "      <th>38001</th>\n",
       "      <td>2008</td>\n",
       "      <td>Albania</td>\n",
       "      <td>Serbia and Kosovo (S/RES/1244 (1999))</td>\n",
       "      <td>0</td>\n",
       "    </tr>\n",
       "    <tr>\n",
       "      <th>38002</th>\n",
       "      <td>2008</td>\n",
       "      <td>Albania</td>\n",
       "      <td>Sri Lanka</td>\n",
       "      <td>0</td>\n",
       "    </tr>\n",
       "    <tr>\n",
       "      <th>38030</th>\n",
       "      <td>2008</td>\n",
       "      <td>Algeria</td>\n",
       "      <td>Tunisia</td>\n",
       "      <td>0</td>\n",
       "    </tr>\n",
       "    <tr>\n",
       "      <th>...</th>\n",
       "      <td>...</td>\n",
       "      <td>...</td>\n",
       "      <td>...</td>\n",
       "      <td>...</td>\n",
       "    </tr>\n",
       "    <tr>\n",
       "      <th>43241</th>\n",
       "      <td>2008</td>\n",
       "      <td>Venezuela (Bolivarian Republic of)</td>\n",
       "      <td>Lebanon</td>\n",
       "      <td>0</td>\n",
       "    </tr>\n",
       "    <tr>\n",
       "      <th>43248</th>\n",
       "      <td>2008</td>\n",
       "      <td>Venezuela (Bolivarian Republic of)</td>\n",
       "      <td>Peru</td>\n",
       "      <td>0</td>\n",
       "    </tr>\n",
       "    <tr>\n",
       "      <th>43249</th>\n",
       "      <td>2008</td>\n",
       "      <td>Venezuela (Bolivarian Republic of)</td>\n",
       "      <td>Russian Federation</td>\n",
       "      <td>0</td>\n",
       "    </tr>\n",
       "    <tr>\n",
       "      <th>43256</th>\n",
       "      <td>2008</td>\n",
       "      <td>Venezuela (Bolivarian Republic of)</td>\n",
       "      <td>Turkey</td>\n",
       "      <td>0</td>\n",
       "    </tr>\n",
       "    <tr>\n",
       "      <th>43257</th>\n",
       "      <td>2008</td>\n",
       "      <td>Venezuela (Bolivarian Republic of)</td>\n",
       "      <td>United States of America</td>\n",
       "      <td>0</td>\n",
       "    </tr>\n",
       "  </tbody>\n",
       "</table>\n",
       "<p>1667 rows × 4 columns</p>\n",
       "</div>"
      ],
      "text/plain": [
       "       year                             destiny  \\\n",
       "37997  2008                             Albania   \n",
       "37998  2008                             Albania   \n",
       "38001  2008                             Albania   \n",
       "38002  2008                             Albania   \n",
       "38030  2008                             Algeria   \n",
       "...     ...                                 ...   \n",
       "43241  2008  Venezuela (Bolivarian Republic of)   \n",
       "43248  2008  Venezuela (Bolivarian Republic of)   \n",
       "43249  2008  Venezuela (Bolivarian Republic of)   \n",
       "43256  2008  Venezuela (Bolivarian Republic of)   \n",
       "43257  2008  Venezuela (Bolivarian Republic of)   \n",
       "\n",
       "                                      origin  accepted  \n",
       "37997                             Czech Rep.         0  \n",
       "37998                             Montenegro         0  \n",
       "38001  Serbia and Kosovo (S/RES/1244 (1999))         0  \n",
       "38002                              Sri Lanka         0  \n",
       "38030                                Tunisia         0  \n",
       "...                                      ...       ...  \n",
       "43241                                Lebanon         0  \n",
       "43248                                   Peru         0  \n",
       "43249                     Russian Federation         0  \n",
       "43256                                 Turkey         0  \n",
       "43257               United States of America         0  \n",
       "\n",
       "[1667 rows x 4 columns]"
      ]
     },
     "execution_count": 189,
     "metadata": {},
     "output_type": "execute_result"
    }
   ],
   "source": [
    "df_aresta_filtrado"
   ]
  },
  {
   "cell_type": "code",
   "execution_count": 190,
   "id": "c53cabb8",
   "metadata": {},
   "outputs": [
    {
     "ename": "ValueError",
     "evalue": "Edge with source Czech Rep. and target Albania already exists",
     "output_type": "error",
     "traceback": [
      "\u001b[0;31m---------------------------------------------------------------------------\u001b[0m",
      "\u001b[0;31mValueError\u001b[0m                                Traceback (most recent call last)",
      "Cell \u001b[0;32mIn [190], line 2\u001b[0m\n\u001b[1;32m      1\u001b[0m \u001b[38;5;28;01mfor\u001b[39;00m index, row \u001b[38;5;129;01min\u001b[39;00m df_aresta_filtrado\u001b[38;5;241m.\u001b[39miterrows():\n\u001b[0;32m----> 2\u001b[0m     \u001b[43mg\u001b[49m\u001b[38;5;241;43m.\u001b[39;49m\u001b[43madd_edge\u001b[49m\u001b[43m(\u001b[49m\u001b[43mrow\u001b[49m\u001b[38;5;241;43m.\u001b[39;49m\u001b[43morigin\u001b[49m\u001b[43m,\u001b[49m\u001b[43m \u001b[49m\u001b[43mrow\u001b[49m\u001b[38;5;241;43m.\u001b[39;49m\u001b[43mdestiny\u001b[49m\u001b[43m)\u001b[49m\n\u001b[1;32m      3\u001b[0m     g\u001b[38;5;241m.\u001b[39mget_edge(row\u001b[38;5;241m.\u001b[39morigin, row\u001b[38;5;241m.\u001b[39mdestiny)[\u001b[38;5;124m'\u001b[39m\u001b[38;5;124maceitos\u001b[39m\u001b[38;5;124m'\u001b[39m] \u001b[38;5;241m=\u001b[39m row\u001b[38;5;241m.\u001b[39maccepted\n",
      "File \u001b[0;32m/home/jupyter/netpixi/integration/gt/wrapper.py:258\u001b[0m, in \u001b[0;36mGraph.add_edge\u001b[0;34m(self, source, target)\u001b[0m\n\u001b[1;32m    256\u001b[0m j \u001b[38;5;241m=\u001b[39m \u001b[38;5;28mself\u001b[39m\u001b[38;5;241m.\u001b[39mvi[\u001b[38;5;28mself\u001b[39m\u001b[38;5;241m.\u001b[39m_clean(target)]\n\u001b[1;32m    257\u001b[0m \u001b[38;5;28;01mif\u001b[39;00m \u001b[38;5;28mself\u001b[39m\u001b[38;5;241m.\u001b[39medge(i, j) \u001b[38;5;129;01mis\u001b[39;00m \u001b[38;5;129;01mnot\u001b[39;00m \u001b[38;5;28;01mNone\u001b[39;00m:\n\u001b[0;32m--> 258\u001b[0m     \u001b[38;5;28;01mraise\u001b[39;00m \u001b[38;5;167;01mValueError\u001b[39;00m(\u001b[38;5;124mf\u001b[39m\u001b[38;5;124m'\u001b[39m\u001b[38;5;124mEdge with source \u001b[39m\u001b[38;5;132;01m{\u001b[39;00msource\u001b[38;5;132;01m}\u001b[39;00m\u001b[38;5;124m and target \u001b[39m\u001b[38;5;132;01m{\u001b[39;00mtarget\u001b[38;5;132;01m}\u001b[39;00m\u001b[38;5;124m already exists\u001b[39m\u001b[38;5;124m'\u001b[39m)\n\u001b[1;32m    259\u001b[0m e \u001b[38;5;241m=\u001b[39m \u001b[38;5;28mself\u001b[39m\u001b[38;5;241m.\u001b[39m__wrapped__\u001b[38;5;241m.\u001b[39madd_edge(i, j)\n\u001b[1;32m    260\u001b[0m \u001b[38;5;28;01mreturn\u001b[39;00m Edge(e, \u001b[38;5;28mself\u001b[39m)\n",
      "\u001b[0;31mValueError\u001b[0m: Edge with source Czech Rep. and target Albania already exists"
     ]
    }
   ],
   "source": [
    "for index, row in df_aresta_filtrado.iterrows():\n",
    "    g.add_edge(row.origin, row.destiny)\n",
    "    g.get_edge(row.origin, row.destiny)['aceitos'] = row.accepted"
   ]
  },
  {
   "cell_type": "code",
   "execution_count": 191,
   "id": "43aa599b",
   "metadata": {},
   "outputs": [],
   "source": [
    "from netpixi.integration.gt import *"
   ]
  },
  {
   "cell_type": "code",
   "execution_count": 192,
   "id": "f1eced10",
   "metadata": {},
   "outputs": [],
   "source": [
    "gt_save(g, '/grafo_coreness2008.net.gz')"
   ]
  },
  {
   "cell_type": "code",
   "execution_count": 193,
   "id": "b26dd0e3",
   "metadata": {},
   "outputs": [],
   "source": [
    "g = gt_load('/grafo_coreness2008.net.gz')"
   ]
  },
  {
   "cell_type": "code",
   "execution_count": 194,
   "id": "3f96a28f",
   "metadata": {},
   "outputs": [],
   "source": [
    "import netpixi\n",
    "g = gt_load('/grafo_coreness2008.net.gz')\n",
    "m = gt_draw.sfdp_layout(g)\n",
    "gt_move(g, m)\n",
    "gt_save(g, 'grafo_coreness2008.net.gz')"
   ]
  },
  {
   "cell_type": "code",
   "execution_count": 195,
   "id": "f03ee074",
   "metadata": {},
   "outputs": [
    {
     "data": {
      "text/html": [
       "\n",
       "        <div id=\"f93LivNrzqvzktcjw7BxYz\"></div>\n",
       "        <script>netpixi.render('f93LivNrzqvzktcjw7BxYz', 'grafo_coreness2008.net.gz', 1.7777777777777777, true, true, false);</script>\n",
       "    "
      ],
      "text/plain": [
       "<IPython.core.display.HTML object>"
      ]
     },
     "metadata": {},
     "output_type": "display_data"
    }
   ],
   "source": [
    "r = netpixi.render('grafo_coreness2008.net.gz', infinite=True);"
   ]
  },
  {
   "cell_type": "code",
   "execution_count": 196,
   "id": "3d20f395",
   "metadata": {},
   "outputs": [
    {
     "data": {
      "text/html": [
       "\n",
       "        <div id=\"4vWheKxaPThDqUNrQADrDA\"></div>\n",
       "        <script>netpixi.call('4vWheKxaPThDqUNrQADrDA', 'f93LivNrzqvzktcjw7BxYz', 'setGraph', 'eyJ0eXBlIjogInZlcnRleCIsICJwcm9wcyI6IHsic3JjIjogIm5vbWUiLCAiZHN0IjogIl9rZXkifX0K');</script>\n",
       "    "
      ],
      "text/plain": [
       "<IPython.core.display.HTML object>"
      ]
     },
     "metadata": {},
     "output_type": "display_data"
    },
    {
     "data": {
      "text/html": [
       "\n",
       "        <div id=\"mwopZWyfESrEP8CKfdUCKr\"></div>\n",
       "        <script>netpixi.call('mwopZWyfESrEP8CKfdUCKr', 'f93LivNrzqvzktcjw7BxYz', 'changeGraph', 'eyJ0eXBlIjogInNldHRpbmdzIiwgInByb3BzIjogeyJ2ZXJ0ZXgiOiB7ImNvbG9yIjogMTY3NzcyMTV9fX0K');</script>\n",
       "    "
      ],
      "text/plain": [
       "<IPython.core.display.HTML object>"
      ]
     },
     "metadata": {},
     "output_type": "display_data"
    },
    {
     "data": {
      "text/html": [
       "\n",
       "        <div id=\"3bELATq85e8bEUv9f6juyC\"></div>\n",
       "        <script>netpixi.call('3bELATq85e8bEUv9f6juyC', 'f93LivNrzqvzktcjw7BxYz', 'changeGraph', 'eyJ0eXBlIjogInNldHRpbmdzIiwgInByb3BzIjogeyJlZGdlIjogeyJjb2xvciI6IDIxNDI4OTB9fX0K');</script>\n",
       "    "
      ],
      "text/plain": [
       "<IPython.core.display.HTML object>"
      ]
     },
     "metadata": {},
     "output_type": "display_data"
    }
   ],
   "source": [
    "r.vertex_set_key('nome')\n",
    "\n",
    "r.vertex_default(color=0xffffff)\n",
    "\n",
    "# mudar a cor, a espessura e a curvatura das arestas\n",
    "r.edge_default(color=0x20B2AA)"
   ]
  },
  {
   "cell_type": "code",
   "execution_count": 197,
   "id": "3554c471",
   "metadata": {},
   "outputs": [
    {
     "data": {
      "text/html": [
       "\n",
       "        <div id=\"TzJpWHzfF8aSentqspJJ2f\"></div>\n",
       "        <script>netpixi.call('TzJpWHzfF8aSentqspJJ2f', 'f93LivNrzqvzktcjw7BxYz', 'normalizeGraph', 'eyJ0eXBlIjogImVkZ2UiLCAicHJvcHMiOiB7InNyYyI6ICJhY2VpdG9zIiwgIm1pbiI6IDEsICJtYXgiOiAxMH19Cg==');</script>\n",
       "    "
      ],
      "text/plain": [
       "<IPython.core.display.HTML object>"
      ]
     },
     "metadata": {},
     "output_type": "display_data"
    }
   ],
   "source": [
    "r.edge_scale('aceitos', 1, 10)"
   ]
  },
  {
   "cell_type": "code",
   "execution_count": 198,
   "id": "37909ed6",
   "metadata": {},
   "outputs": [],
   "source": [
    "import netpixi\n",
    "import cpnet\n",
    "\n",
    "from graph_tool import spectral\n",
    "from netpixi.integration.gt import *\n",
    "from regression.integration.gt import *\n"
   ]
  },
  {
   "cell_type": "code",
   "execution_count": 199,
   "id": "0d583632",
   "metadata": {},
   "outputs": [],
   "source": [
    "g =  gt_load('/grafo_coreness2008.net.gz')"
   ]
  },
  {
   "cell_type": "code",
   "execution_count": 200,
   "id": "dbc80bb2",
   "metadata": {},
   "outputs": [],
   "source": [
    "m = gt_draw.sfdp_layout(g)\n",
    "gt_move(g, m)\n",
    "gt_save(g, 'centralidadeCoreness2008.net.gz')"
   ]
  },
  {
   "cell_type": "code",
   "execution_count": 201,
   "id": "91ff6d41",
   "metadata": {},
   "outputs": [
    {
     "data": {
      "text/html": [
       "\n",
       "        <div id=\"FBh6YQ6PhhHe75pRFzrmis\"></div>\n",
       "        <script>netpixi.call('FBh6YQ6PhhHe75pRFzrmis', 'f93LivNrzqvzktcjw7BxYz', 'changeGraph', 'eyJpZCI6ICJNZXhpY28iLCAidHlwZSI6ICJ2ZXJ0ZXgiLCAicHJvcHMiOiB7ImNvbG9yIjogNjUyODB9fQo=');</script>\n",
       "    "
      ],
      "text/plain": [
       "<IPython.core.display.HTML object>"
      ]
     },
     "metadata": {},
     "output_type": "display_data"
    },
    {
     "data": {
      "text/html": [
       "\n",
       "        <div id=\"oPxXQdiJBfekjQkvJDUikX\"></div>\n",
       "        <script>netpixi.call('oPxXQdiJBfekjQkvJDUikX', 'f93LivNrzqvzktcjw7BxYz', 'changeGraph', 'eyJpZCI6ICJVa3JhaW5lIiwgInR5cGUiOiAidmVydGV4IiwgInByb3BzIjogeyJjb2xvciI6IDE2NzExNjgwfX0K');</script>\n",
       "    "
      ],
      "text/plain": [
       "<IPython.core.display.HTML object>"
      ]
     },
     "metadata": {},
     "output_type": "display_data"
    },
    {
     "data": {
      "text/html": [
       "\n",
       "        <div id=\"aHcgZvVaNq7mrfSztvxaor\"></div>\n",
       "        <script>netpixi.call('aHcgZvVaNq7mrfSztvxaor', 'f93LivNrzqvzktcjw7BxYz', 'changeGraph', 'eyJpZCI6ICJMaWVjaHRlbnN0ZWluIiwgInR5cGUiOiAidmVydGV4IiwgInByb3BzIjogeyJjb2xvciI6IDY1MjgwfX0K');</script>\n",
       "    "
      ],
      "text/plain": [
       "<IPython.core.display.HTML object>"
      ]
     },
     "metadata": {},
     "output_type": "display_data"
    },
    {
     "data": {
      "text/html": [
       "\n",
       "        <div id=\"9i8EkGMP9zVdMRbxYYKibr\"></div>\n",
       "        <script>netpixi.call('9i8EkGMP9zVdMRbxYYKibr', 'f93LivNrzqvzktcjw7BxYz', 'changeGraph', 'eyJpZCI6ICJVbml0ZWQgS2luZ2RvbSIsICJ0eXBlIjogInZlcnRleCIsICJwcm9wcyI6IHsiY29sb3IiOiAxNjcxMTY4MH19Cg==');</script>\n",
       "    "
      ],
      "text/plain": [
       "<IPython.core.display.HTML object>"
      ]
     },
     "metadata": {},
     "output_type": "display_data"
    },
    {
     "data": {
      "text/html": [
       "\n",
       "        <div id=\"hRwA5SrwxHDkNdeknkArjm\"></div>\n",
       "        <script>netpixi.call('hRwA5SrwxHDkNdeknkArjm', 'f93LivNrzqvzktcjw7BxYz', 'changeGraph', 'eyJpZCI6ICJDb3N0YSBSaWNhIiwgInR5cGUiOiAidmVydGV4IiwgInByb3BzIjogeyJjb2xvciI6IDY1MjgwfX0K');</script>\n",
       "    "
      ],
      "text/plain": [
       "<IPython.core.display.HTML object>"
      ]
     },
     "metadata": {},
     "output_type": "display_data"
    },
    {
     "data": {
      "text/html": [
       "\n",
       "        <div id=\"6ypt9JCSK3yeovEMN5w5ht\"></div>\n",
       "        <script>netpixi.call('6ypt9JCSK3yeovEMN5w5ht', 'f93LivNrzqvzktcjw7BxYz', 'changeGraph', 'eyJpZCI6ICJBcnViYSIsICJ0eXBlIjogInZlcnRleCIsICJwcm9wcyI6IHsiY29sb3IiOiA2NTI4MH19Cg==');</script>\n",
       "    "
      ],
      "text/plain": [
       "<IPython.core.display.HTML object>"
      ]
     },
     "metadata": {},
     "output_type": "display_data"
    },
    {
     "data": {
      "text/html": [
       "\n",
       "        <div id=\"CgKL7B3NLuHrbQVrPMGsfy\"></div>\n",
       "        <script>netpixi.call('CgKL7B3NLuHrbQVrPMGsfy', 'f93LivNrzqvzktcjw7BxYz', 'changeGraph', 'eyJpZCI6ICJSZXAuIG9mIE1vbGRvdmEiLCAidHlwZSI6ICJ2ZXJ0ZXgiLCAicHJvcHMiOiB7ImNvbG9yIjogNjUyODB9fQo=');</script>\n",
       "    "
      ],
      "text/plain": [
       "<IPython.core.display.HTML object>"
      ]
     },
     "metadata": {},
     "output_type": "display_data"
    },
    {
     "data": {
      "text/html": [
       "\n",
       "        <div id=\"X4DJCMNWtummtwdsGsJXGs\"></div>\n",
       "        <script>netpixi.call('X4DJCMNWtummtwdsGsJXGs', 'f93LivNrzqvzktcjw7BxYz', 'changeGraph', 'eyJpZCI6ICJHcmVuYWRhIiwgInR5cGUiOiAidmVydGV4IiwgInByb3BzIjogeyJjb2xvciI6IDY1MjgwfX0K');</script>\n",
       "    "
      ],
      "text/plain": [
       "<IPython.core.display.HTML object>"
      ]
     },
     "metadata": {},
     "output_type": "display_data"
    },
    {
     "data": {
      "text/html": [
       "\n",
       "        <div id=\"MHAhFcgYYLSB397yEQfToq\"></div>\n",
       "        <script>netpixi.call('MHAhFcgYYLSB397yEQfToq', 'f93LivNrzqvzktcjw7BxYz', 'changeGraph', 'eyJpZCI6ICJKYXBhbiIsICJ0eXBlIjogInZlcnRleCIsICJwcm9wcyI6IHsiY29sb3IiOiA2NTI4MH19Cg==');</script>\n",
       "    "
      ],
      "text/plain": [
       "<IPython.core.display.HTML object>"
      ]
     },
     "metadata": {},
     "output_type": "display_data"
    },
    {
     "data": {
      "text/html": [
       "\n",
       "        <div id=\"2w8HAVnhcRBxKroXUvsdhG\"></div>\n",
       "        <script>netpixi.call('2w8HAVnhcRBxKroXUvsdhG', 'f93LivNrzqvzktcjw7BxYz', 'changeGraph', 'eyJpZCI6ICJNYXVyaXRpdXMiLCAidHlwZSI6ICJ2ZXJ0ZXgiLCAicHJvcHMiOiB7ImNvbG9yIjogNjUyODB9fQo=');</script>\n",
       "    "
      ],
      "text/plain": [
       "<IPython.core.display.HTML object>"
      ]
     },
     "metadata": {},
     "output_type": "display_data"
    },
    {
     "data": {
      "text/html": [
       "\n",
       "        <div id=\"GZjt2mR8Y3GpMa8TCkTeGv\"></div>\n",
       "        <script>netpixi.call('GZjt2mR8Y3GpMa8TCkTeGv', 'f93LivNrzqvzktcjw7BxYz', 'changeGraph', 'eyJpZCI6ICJHcmVlY2UiLCAidHlwZSI6ICJ2ZXJ0ZXgiLCAicHJvcHMiOiB7ImNvbG9yIjogNjUyODB9fQo=');</script>\n",
       "    "
      ],
      "text/plain": [
       "<IPython.core.display.HTML object>"
      ]
     },
     "metadata": {},
     "output_type": "display_data"
    },
    {
     "data": {
      "text/html": [
       "\n",
       "        <div id=\"LHhBHjwd6dssyrzFBkbUMV\"></div>\n",
       "        <script>netpixi.call('LHhBHjwd6dssyrzFBkbUMV', 'f93LivNrzqvzktcjw7BxYz', 'changeGraph', 'eyJpZCI6ICJGcmVuY2ggR3VpYW5hIiwgInR5cGUiOiAidmVydGV4IiwgInByb3BzIjogeyJjb2xvciI6IDY1MjgwfX0K');</script>\n",
       "    "
      ],
      "text/plain": [
       "<IPython.core.display.HTML object>"
      ]
     },
     "metadata": {},
     "output_type": "display_data"
    },
    {
     "data": {
      "text/html": [
       "\n",
       "        <div id=\"YozPbyZfnVaJYz3UByging\"></div>\n",
       "        <script>netpixi.call('YozPbyZfnVaJYz3UByging', 'f93LivNrzqvzktcjw7BxYz', 'changeGraph', 'eyJpZCI6ICJBbmRvcnJhIiwgInR5cGUiOiAidmVydGV4IiwgInByb3BzIjogeyJjb2xvciI6IDY1MjgwfX0K');</script>\n",
       "    "
      ],
      "text/plain": [
       "<IPython.core.display.HTML object>"
      ]
     },
     "metadata": {},
     "output_type": "display_data"
    },
    {
     "data": {
      "text/html": [
       "\n",
       "        <div id=\"mUGHfwBhPaGEfjtxqejRuQ\"></div>\n",
       "        <script>netpixi.call('mUGHfwBhPaGEfjtxqejRuQ', 'f93LivNrzqvzktcjw7BxYz', 'changeGraph', 'eyJpZCI6ICJUdXJrcyBhbmQgQ2FpY29zIElzbGFuZHMiLCAidHlwZSI6ICJ2ZXJ0ZXgiLCAicHJvcHMiOiB7ImNvbG9yIjogNjUyODB9fQo=');</script>\n",
       "    "
      ],
      "text/plain": [
       "<IPython.core.display.HTML object>"
      ]
     },
     "metadata": {},
     "output_type": "display_data"
    },
    {
     "data": {
      "text/html": [
       "\n",
       "        <div id=\"nxVRgDNzuQhUtJw7UqXV4t\"></div>\n",
       "        <script>netpixi.call('nxVRgDNzuQhUtJw7UqXV4t', 'f93LivNrzqvzktcjw7BxYz', 'changeGraph', 'eyJpZCI6ICJCYWhhbWFzIiwgInR5cGUiOiAidmVydGV4IiwgInByb3BzIjogeyJjb2xvciI6IDY1MjgwfX0K');</script>\n",
       "    "
      ],
      "text/plain": [
       "<IPython.core.display.HTML object>"
      ]
     },
     "metadata": {},
     "output_type": "display_data"
    },
    {
     "data": {
      "text/html": [
       "\n",
       "        <div id=\"nRH4mikGyvDWxX9TVyAmmV\"></div>\n",
       "        <script>netpixi.call('nRH4mikGyvDWxX9TVyAmmV', 'f93LivNrzqvzktcjw7BxYz', 'changeGraph', 'eyJpZCI6ICJQb2xhbmQiLCAidHlwZSI6ICJ2ZXJ0ZXgiLCAicHJvcHMiOiB7ImNvbG9yIjogNjUyODB9fQo=');</script>\n",
       "    "
      ],
      "text/plain": [
       "<IPython.core.display.HTML object>"
      ]
     },
     "metadata": {},
     "output_type": "display_data"
    },
    {
     "data": {
      "text/html": [
       "\n",
       "        <div id=\"iZ8nmEJjLfse96FtYrzMK6\"></div>\n",
       "        <script>netpixi.call('iZ8nmEJjLfse96FtYrzMK6', 'f93LivNrzqvzktcjw7BxYz', 'changeGraph', 'eyJpZCI6ICJDb2xvbWJpYSIsICJ0eXBlIjogInZlcnRleCIsICJwcm9wcyI6IHsiY29sb3IiOiAxNjcxMTY4MH19Cg==');</script>\n",
       "    "
      ],
      "text/plain": [
       "<IPython.core.display.HTML object>"
      ]
     },
     "metadata": {},
     "output_type": "display_data"
    },
    {
     "data": {
      "text/html": [
       "\n",
       "        <div id=\"LLgEjXQ2J5XtJfiysJ8duy\"></div>\n",
       "        <script>netpixi.call('LLgEjXQ2J5XtJfiysJ8duy', 'f93LivNrzqvzktcjw7BxYz', 'changeGraph', 'eyJpZCI6ICJJY2VsYW5kIiwgInR5cGUiOiAidmVydGV4IiwgInByb3BzIjogeyJjb2xvciI6IDY1MjgwfX0K');</script>\n",
       "    "
      ],
      "text/plain": [
       "<IPython.core.display.HTML object>"
      ]
     },
     "metadata": {},
     "output_type": "display_data"
    },
    {
     "data": {
      "text/html": [
       "\n",
       "        <div id=\"mWB4Lm4STLC6kNv2XwqW7A\"></div>\n",
       "        <script>netpixi.call('mWB4Lm4STLC6kNv2XwqW7A', 'f93LivNrzqvzktcjw7BxYz', 'changeGraph', 'eyJpZCI6ICJCb25haXJlIiwgInR5cGUiOiAidmVydGV4IiwgInByb3BzIjogeyJjb2xvciI6IDY1MjgwfX0K');</script>\n",
       "    "
      ],
      "text/plain": [
       "<IPython.core.display.HTML object>"
      ]
     },
     "metadata": {},
     "output_type": "display_data"
    },
    {
     "data": {
      "text/html": [
       "\n",
       "        <div id=\"N5WJGMFqLwHZo7Lz7duiUp\"></div>\n",
       "        <script>netpixi.call('N5WJGMFqLwHZo7Lz7duiUp', 'f93LivNrzqvzktcjw7BxYz', 'changeGraph', 'eyJpZCI6ICJVbml0ZWQgU3RhdGVzIG9mIEFtZXJpY2EiLCAidHlwZSI6ICJ2ZXJ0ZXgiLCAicHJvcHMiOiB7ImNvbG9yIjogMTY3MTE2ODB9fQo=');</script>\n",
       "    "
      ],
      "text/plain": [
       "<IPython.core.display.HTML object>"
      ]
     },
     "metadata": {},
     "output_type": "display_data"
    },
    {
     "data": {
      "text/html": [
       "\n",
       "        <div id=\"8euRDAAQAG7gQGqEb2KSCq\"></div>\n",
       "        <script>netpixi.call('8euRDAAQAG7gQGqEb2KSCq', 'f93LivNrzqvzktcjw7BxYz', 'changeGraph', 'eyJpZCI6ICJTYWludCBLaXR0cyBhbmQgTmV2aXMiLCAidHlwZSI6ICJ2ZXJ0ZXgiLCAicHJvcHMiOiB7ImNvbG9yIjogNjUyODB9fQo=');</script>\n",
       "    "
      ],
      "text/plain": [
       "<IPython.core.display.HTML object>"
      ]
     },
     "metadata": {},
     "output_type": "display_data"
    },
    {
     "data": {
      "text/html": [
       "\n",
       "        <div id=\"cE2HvCcs4dTwbRiz9rVNZm\"></div>\n",
       "        <script>netpixi.call('cE2HvCcs4dTwbRiz9rVNZm', 'f93LivNrzqvzktcjw7BxYz', 'changeGraph', 'eyJpZCI6ICJSdXNzaWFuIEZlZGVyYXRpb24iLCAidHlwZSI6ICJ2ZXJ0ZXgiLCAicHJvcHMiOiB7ImNvbG9yIjogMTY3MTE2ODB9fQo=');</script>\n",
       "    "
      ],
      "text/plain": [
       "<IPython.core.display.HTML object>"
      ]
     },
     "metadata": {},
     "output_type": "display_data"
    },
    {
     "data": {
      "text/html": [
       "\n",
       "        <div id=\"Rq544aVtYcajLysZPM4Yo5\"></div>\n",
       "        <script>netpixi.call('Rq544aVtYcajLysZPM4Yo5', 'f93LivNrzqvzktcjw7BxYz', 'changeGraph', 'eyJpZCI6ICJVcnVndWF5IiwgInR5cGUiOiAidmVydGV4IiwgInByb3BzIjogeyJjb2xvciI6IDY1MjgwfX0K');</script>\n",
       "    "
      ],
      "text/plain": [
       "<IPython.core.display.HTML object>"
      ]
     },
     "metadata": {},
     "output_type": "display_data"
    },
    {
     "data": {
      "text/html": [
       "\n",
       "        <div id=\"DhW5EzNCshM8S2Ei3NYpX7\"></div>\n",
       "        <script>netpixi.call('DhW5EzNCshM8S2Ei3NYpX7', 'f93LivNrzqvzktcjw7BxYz', 'changeGraph', 'eyJpZCI6ICJXYWxsaXMgYW5kIEZ1dHVuYSBJc2xhbmRzICIsICJ0eXBlIjogInZlcnRleCIsICJwcm9wcyI6IHsiY29sb3IiOiA2NTI4MH19Cg==');</script>\n",
       "    "
      ],
      "text/plain": [
       "<IPython.core.display.HTML object>"
      ]
     },
     "metadata": {},
     "output_type": "display_data"
    },
    {
     "data": {
      "text/html": [
       "\n",
       "        <div id=\"ipd8ciT7uU4pXzbDyxoefF\"></div>\n",
       "        <script>netpixi.call('ipd8ciT7uU4pXzbDyxoefF', 'f93LivNrzqvzktcjw7BxYz', 'changeGraph', 'eyJpZCI6ICJBbWVyaWNhbiBTYW1vYSIsICJ0eXBlIjogInZlcnRleCIsICJwcm9wcyI6IHsiY29sb3IiOiA2NTI4MH19Cg==');</script>\n",
       "    "
      ],
      "text/plain": [
       "<IPython.core.display.HTML object>"
      ]
     },
     "metadata": {},
     "output_type": "display_data"
    },
    {
     "data": {
      "text/html": [
       "\n",
       "        <div id=\"NqWSxpmqDadjRdUmoshw9p\"></div>\n",
       "        <script>netpixi.call('NqWSxpmqDadjRdUmoshw9p', 'f93LivNrzqvzktcjw7BxYz', 'changeGraph', 'eyJpZCI6ICJGcmFuY2UiLCAidHlwZSI6ICJ2ZXJ0ZXgiLCAicHJvcHMiOiB7ImNvbG9yIjogNjUyODB9fQo=');</script>\n",
       "    "
      ],
      "text/plain": [
       "<IPython.core.display.HTML object>"
      ]
     },
     "metadata": {},
     "output_type": "display_data"
    },
    {
     "data": {
      "text/html": [
       "\n",
       "        <div id=\"SVR9duX2dtWRsezu2USpzu\"></div>\n",
       "        <script>netpixi.call('SVR9duX2dtWRsezu2USpzu', 'f93LivNrzqvzktcjw7BxYz', 'changeGraph', 'eyJpZCI6ICJIdW5nYXJ5IiwgInR5cGUiOiAidmVydGV4IiwgInByb3BzIjogeyJjb2xvciI6IDY1MjgwfX0K');</script>\n",
       "    "
      ],
      "text/plain": [
       "<IPython.core.display.HTML object>"
      ]
     },
     "metadata": {},
     "output_type": "display_data"
    },
    {
     "data": {
      "text/html": [
       "\n",
       "        <div id=\"epyxrtn6dg4NRxxCUWLt5t\"></div>\n",
       "        <script>netpixi.call('epyxrtn6dg4NRxxCUWLt5t', 'f93LivNrzqvzktcjw7BxYz', 'changeGraph', 'eyJpZCI6ICJMaXRodWFuaWEiLCAidHlwZSI6ICJ2ZXJ0ZXgiLCAicHJvcHMiOiB7ImNvbG9yIjogNjUyODB9fQo=');</script>\n",
       "    "
      ],
      "text/plain": [
       "<IPython.core.display.HTML object>"
      ]
     },
     "metadata": {},
     "output_type": "display_data"
    },
    {
     "data": {
      "text/html": [
       "\n",
       "        <div id=\"drgFetDJiWRWKiimCZFdHn\"></div>\n",
       "        <script>netpixi.call('drgFetDJiWRWKiimCZFdHn', 'f93LivNrzqvzktcjw7BxYz', 'changeGraph', 'eyJpZCI6ICJTYWludCBMdWNpYSIsICJ0eXBlIjogInZlcnRleCIsICJwcm9wcyI6IHsiY29sb3IiOiA2NTI4MH19Cg==');</script>\n",
       "    "
      ],
      "text/plain": [
       "<IPython.core.display.HTML object>"
      ]
     },
     "metadata": {},
     "output_type": "display_data"
    },
    {
     "data": {
      "text/html": [
       "\n",
       "        <div id=\"WQ56L4vtzW5hYc5mXbdmWn\"></div>\n",
       "        <script>netpixi.call('WQ56L4vtzW5hYc5mXbdmWn', 'f93LivNrzqvzktcjw7BxYz', 'changeGraph', 'eyJpZCI6ICJCcml0aXNoIFZpcmdpbiBJc2xhbmRzIiwgInR5cGUiOiAidmVydGV4IiwgInByb3BzIjogeyJjb2xvciI6IDY1MjgwfX0K');</script>\n",
       "    "
      ],
      "text/plain": [
       "<IPython.core.display.HTML object>"
      ]
     },
     "metadata": {},
     "output_type": "display_data"
    },
    {
     "data": {
      "text/html": [
       "\n",
       "        <div id=\"HYvY3u8uZpAaQMjzaVfrWQ\"></div>\n",
       "        <script>netpixi.call('HYvY3u8uZpAaQMjzaVfrWQ', 'f93LivNrzqvzktcjw7BxYz', 'changeGraph', 'eyJpZCI6ICJEZW5tYXJrIiwgInR5cGUiOiAidmVydGV4IiwgInByb3BzIjogeyJjb2xvciI6IDY1MjgwfX0K');</script>\n",
       "    "
      ],
      "text/plain": [
       "<IPython.core.display.HTML object>"
      ]
     },
     "metadata": {},
     "output_type": "display_data"
    },
    {
     "data": {
      "text/html": [
       "\n",
       "        <div id=\"aeBfMNeM3WynSoF8xWn5up\"></div>\n",
       "        <script>netpixi.call('aeBfMNeM3WynSoF8xWn5up', 'f93LivNrzqvzktcjw7BxYz', 'changeGraph', 'eyJpZCI6ICJCcmF6aWwiLCAidHlwZSI6ICJ2ZXJ0ZXgiLCAicHJvcHMiOiB7ImNvbG9yIjogMTY3MTE2ODB9fQo=');</script>\n",
       "    "
      ],
      "text/plain": [
       "<IPython.core.display.HTML object>"
      ]
     },
     "metadata": {},
     "output_type": "display_data"
    },
    {
     "data": {
      "text/html": [
       "\n",
       "        <div id=\"dmJRNtTTWrDRzYPd4juZMh\"></div>\n",
       "        <script>netpixi.call('dmJRNtTTWrDRzYPd4juZMh', 'f93LivNrzqvzktcjw7BxYz', 'changeGraph', 'eyJpZCI6ICJDaGluYSwgTWFjYW8gU0FSIiwgInR5cGUiOiAidmVydGV4IiwgInByb3BzIjogeyJjb2xvciI6IDY1MjgwfX0K');</script>\n",
       "    "
      ],
      "text/plain": [
       "<IPython.core.display.HTML object>"
      ]
     },
     "metadata": {},
     "output_type": "display_data"
    },
    {
     "data": {
      "text/html": [
       "\n",
       "        <div id=\"ETxxRCPzuj5aeUkzd8HbH3\"></div>\n",
       "        <script>netpixi.call('ETxxRCPzuj5aeUkzd8HbH3', 'f93LivNrzqvzktcjw7BxYz', 'changeGraph', 'eyJpZCI6ICJTdXJpbmFtZSIsICJ0eXBlIjogInZlcnRleCIsICJwcm9wcyI6IHsiY29sb3IiOiA2NTI4MH19Cg==');</script>\n",
       "    "
      ],
      "text/plain": [
       "<IPython.core.display.HTML object>"
      ]
     },
     "metadata": {},
     "output_type": "display_data"
    },
    {
     "data": {
      "text/html": [
       "\n",
       "        <div id=\"Zd9ciHBPu8M5pBM4PVuDDC\"></div>\n",
       "        <script>netpixi.call('Zd9ciHBPu8M5pBM4PVuDDC', 'f93LivNrzqvzktcjw7BxYz', 'changeGraph', 'eyJpZCI6ICJBbnRpZ3VhIGFuZCBCYXJidWRhIiwgInR5cGUiOiAidmVydGV4IiwgInByb3BzIjogeyJjb2xvciI6IDY1MjgwfX0K');</script>\n",
       "    "
      ],
      "text/plain": [
       "<IPython.core.display.HTML object>"
      ]
     },
     "metadata": {},
     "output_type": "display_data"
    },
    {
     "data": {
      "text/html": [
       "\n",
       "        <div id=\"HLirRgZTemrRSb4xSs6ekb\"></div>\n",
       "        <script>netpixi.call('HLirRgZTemrRSb4xSs6ekb', 'f93LivNrzqvzktcjw7BxYz', 'changeGraph', 'eyJpZCI6ICJCZWxnaXVtIiwgInR5cGUiOiAidmVydGV4IiwgInByb3BzIjogeyJjb2xvciI6IDY1MjgwfX0K');</script>\n",
       "    "
      ],
      "text/plain": [
       "<IPython.core.display.HTML object>"
      ]
     },
     "metadata": {},
     "output_type": "display_data"
    },
    {
     "data": {
      "text/html": [
       "\n",
       "        <div id=\"SDDtrfsVtdfZd9ZQw5YRz6\"></div>\n",
       "        <script>netpixi.call('SDDtrfsVtdfZd9ZQw5YRz6', 'f93LivNrzqvzktcjw7BxYz', 'changeGraph', 'eyJpZCI6ICJOZXRoZXJsYW5kcyIsICJ0eXBlIjogInZlcnRleCIsICJwcm9wcyI6IHsiY29sb3IiOiA2NTI4MH19Cg==');</script>\n",
       "    "
      ],
      "text/plain": [
       "<IPython.core.display.HTML object>"
      ]
     },
     "metadata": {},
     "output_type": "display_data"
    },
    {
     "data": {
      "text/html": [
       "\n",
       "        <div id=\"XmaJsA9btAWXc9vuMHPid4\"></div>\n",
       "        <script>netpixi.call('XmaJsA9btAWXc9vuMHPid4', 'f93LivNrzqvzktcjw7BxYz', 'changeGraph', 'eyJpZCI6ICJOb3J3YXkiLCAidHlwZSI6ICJ2ZXJ0ZXgiLCAicHJvcHMiOiB7ImNvbG9yIjogNjUyODB9fQo=');</script>\n",
       "    "
      ],
      "text/plain": [
       "<IPython.core.display.HTML object>"
      ]
     },
     "metadata": {},
     "output_type": "display_data"
    },
    {
     "data": {
      "text/html": [
       "\n",
       "        <div id=\"WbU3MiETaiLgRu6u78fdvD\"></div>\n",
       "        <script>netpixi.call('WbU3MiETaiLgRu6u78fdvD', 'f93LivNrzqvzktcjw7BxYz', 'changeGraph', 'eyJpZCI6ICJBbGdlcmlhIiwgInR5cGUiOiAidmVydGV4IiwgInByb3BzIjogeyJjb2xvciI6IDE2NzExNjgwfX0K');</script>\n",
       "    "
      ],
      "text/plain": [
       "<IPython.core.display.HTML object>"
      ]
     },
     "metadata": {},
     "output_type": "display_data"
    },
    {
     "data": {
      "text/html": [
       "\n",
       "        <div id=\"FzNnm7JnEmcR2ojkPjoLVy\"></div>\n",
       "        <script>netpixi.call('FzNnm7JnEmcR2ojkPjoLVy', 'f93LivNrzqvzktcjw7BxYz', 'changeGraph', 'eyJpZCI6ICJJcmVsYW5kIiwgInR5cGUiOiAidmVydGV4IiwgInByb3BzIjogeyJjb2xvciI6IDY1MjgwfX0K');</script>\n",
       "    "
      ],
      "text/plain": [
       "<IPython.core.display.HTML object>"
      ]
     },
     "metadata": {},
     "output_type": "display_data"
    },
    {
     "data": {
      "text/html": [
       "\n",
       "        <div id=\"5LKwRgkvpLqywoRJ6zrKmY\"></div>\n",
       "        <script>netpixi.call('5LKwRgkvpLqywoRJ6zrKmY', 'f93LivNrzqvzktcjw7BxYz', 'changeGraph', 'eyJpZCI6ICJBcmdlbnRpbmEiLCAidHlwZSI6ICJ2ZXJ0ZXgiLCAicHJvcHMiOiB7ImNvbG9yIjogNjUyODB9fQo=');</script>\n",
       "    "
      ],
      "text/plain": [
       "<IPython.core.display.HTML object>"
      ]
     },
     "metadata": {},
     "output_type": "display_data"
    },
    {
     "data": {
      "text/html": [
       "\n",
       "        <div id=\"Jyq8fs4BTsNfPsBgPCfBCD\"></div>\n",
       "        <script>netpixi.call('Jyq8fs4BTsNfPsBgPCfBCD', 'f93LivNrzqvzktcjw7BxYz', 'changeGraph', 'eyJpZCI6ICJCYWhyYWluIiwgInR5cGUiOiAidmVydGV4IiwgInByb3BzIjogeyJjb2xvciI6IDY1MjgwfX0K');</script>\n",
       "    "
      ],
      "text/plain": [
       "<IPython.core.display.HTML object>"
      ]
     },
     "metadata": {},
     "output_type": "display_data"
    },
    {
     "data": {
      "text/html": [
       "\n",
       "        <div id=\"RMyexG4FCMdjfAjwd3yQ7P\"></div>\n",
       "        <script>netpixi.call('RMyexG4FCMdjfAjwd3yQ7P', 'f93LivNrzqvzktcjw7BxYz', 'changeGraph', 'eyJpZCI6ICJCYXJiYWRvcyIsICJ0eXBlIjogInZlcnRleCIsICJwcm9wcyI6IHsiY29sb3IiOiA2NTI4MH19Cg==');</script>\n",
       "    "
      ],
      "text/plain": [
       "<IPython.core.display.HTML object>"
      ]
     },
     "metadata": {},
     "output_type": "display_data"
    },
    {
     "data": {
      "text/html": [
       "\n",
       "        <div id=\"4qNnFLyFA2rfRywePKGiup\"></div>\n",
       "        <script>netpixi.call('4qNnFLyFA2rfRywePKGiup', 'f93LivNrzqvzktcjw7BxYz', 'changeGraph', 'eyJpZCI6ICJNYWx0YSIsICJ0eXBlIjogInZlcnRleCIsICJwcm9wcyI6IHsiY29sb3IiOiA2NTI4MH19Cg==');</script>\n",
       "    "
      ],
      "text/plain": [
       "<IPython.core.display.HTML object>"
      ]
     },
     "metadata": {},
     "output_type": "display_data"
    },
    {
     "data": {
      "text/html": [
       "\n",
       "        <div id=\"kThNpLTdGU5jUCTzDdVQYU\"></div>\n",
       "        <script>netpixi.call('kThNpLTdGU5jUCTzDdVQYU', 'f93LivNrzqvzktcjw7BxYz', 'changeGraph', 'eyJpZCI6ICJBbGJhbmlhIiwgInR5cGUiOiAidmVydGV4IiwgInByb3BzIjogeyJjb2xvciI6IDE2NzExNjgwfX0K');</script>\n",
       "    "
      ],
      "text/plain": [
       "<IPython.core.display.HTML object>"
      ]
     },
     "metadata": {},
     "output_type": "display_data"
    },
    {
     "data": {
      "text/html": [
       "\n",
       "        <div id=\"2qWXM9MHUQ2eBPs7kWZvjv\"></div>\n",
       "        <script>netpixi.call('2qWXM9MHUQ2eBPs7kWZvjv', 'f93LivNrzqvzktcjw7BxYz', 'changeGraph', 'eyJpZCI6ICJCb3NuaWEgYW5kIEhlcnplZ292aW5hIiwgInR5cGUiOiAidmVydGV4IiwgInByb3BzIjogeyJjb2xvciI6IDE2NzExNjgwfX0K');</script>\n",
       "    "
      ],
      "text/plain": [
       "<IPython.core.display.HTML object>"
      ]
     },
     "metadata": {},
     "output_type": "display_data"
    },
    {
     "data": {
      "text/html": [
       "\n",
       "        <div id=\"MGE9oVgwnCVDCxPVDy7fei\"></div>\n",
       "        <script>netpixi.call('MGE9oVgwnCVDCxPVDy7fei', 'f93LivNrzqvzktcjw7BxYz', 'changeGraph', 'eyJpZCI6ICJOb3Jmb2xrIElzbGFuZCIsICJ0eXBlIjogInZlcnRleCIsICJwcm9wcyI6IHsiY29sb3IiOiA2NTI4MH19Cg==');</script>\n",
       "    "
      ],
      "text/plain": [
       "<IPython.core.display.HTML object>"
      ]
     },
     "metadata": {},
     "output_type": "display_data"
    },
    {
     "data": {
      "text/html": [
       "\n",
       "        <div id=\"Wi6gM5NqnQfMS9gmFyDsrf\"></div>\n",
       "        <script>netpixi.call('Wi6gM5NqnQfMS9gmFyDsrf', 'f93LivNrzqvzktcjw7BxYz', 'changeGraph', 'eyJpZCI6ICJRYXRhciIsICJ0eXBlIjogInZlcnRleCIsICJwcm9wcyI6IHsiY29sb3IiOiA2NTI4MH19Cg==');</script>\n",
       "    "
      ],
      "text/plain": [
       "<IPython.core.display.HTML object>"
      ]
     },
     "metadata": {},
     "output_type": "display_data"
    },
    {
     "data": {
      "text/html": [
       "\n",
       "        <div id=\"B8ZXskPasXmmbkywCs7iHi\"></div>\n",
       "        <script>netpixi.call('B8ZXskPasXmmbkywCs7iHi', 'f93LivNrzqvzktcjw7BxYz', 'changeGraph', 'eyJpZCI6ICJCZWxhcnVzIiwgInR5cGUiOiAidmVydGV4IiwgInByb3BzIjogeyJjb2xvciI6IDE2NzExNjgwfX0K');</script>\n",
       "    "
      ],
      "text/plain": [
       "<IPython.core.display.HTML object>"
      ]
     },
     "metadata": {},
     "output_type": "display_data"
    },
    {
     "data": {
      "text/html": [
       "\n",
       "        <div id=\"KsqHDLkQPG5947ZzQqW7f4\"></div>\n",
       "        <script>netpixi.call('KsqHDLkQPG5947ZzQqW7f4', 'f93LivNrzqvzktcjw7BxYz', 'changeGraph', 'eyJpZCI6ICJPbWFuIiwgInR5cGUiOiAidmVydGV4IiwgInByb3BzIjogeyJjb2xvciI6IDY1MjgwfX0K');</script>\n",
       "    "
      ],
      "text/plain": [
       "<IPython.core.display.HTML object>"
      ]
     },
     "metadata": {},
     "output_type": "display_data"
    },
    {
     "data": {
      "text/html": [
       "\n",
       "        <div id=\"ncU4yrP7cxBdrtdUpBdyTR\"></div>\n",
       "        <script>netpixi.call('ncU4yrP7cxBdrtdUpBdyTR', 'f93LivNrzqvzktcjw7BxYz', 'changeGraph', 'eyJpZCI6ICJBemVyYmFpamFuIiwgInR5cGUiOiAidmVydGV4IiwgInByb3BzIjogeyJjb2xvciI6IDE2NzExNjgwfX0K');</script>\n",
       "    "
      ],
      "text/plain": [
       "<IPython.core.display.HTML object>"
      ]
     },
     "metadata": {},
     "output_type": "display_data"
    },
    {
     "data": {
      "text/html": [
       "\n",
       "        <div id=\"FtmGHS6eW68JkdRrQU453s\"></div>\n",
       "        <script>netpixi.call('FtmGHS6eW68JkdRrQU453s', 'f93LivNrzqvzktcjw7BxYz', 'changeGraph', 'eyJpZCI6ICJHZW9yZ2lhIiwgInR5cGUiOiAidmVydGV4IiwgInByb3BzIjogeyJjb2xvciI6IDE2NzExNjgwfX0K');</script>\n",
       "    "
      ],
      "text/plain": [
       "<IPython.core.display.HTML object>"
      ]
     },
     "metadata": {},
     "output_type": "display_data"
    },
    {
     "data": {
      "text/html": [
       "\n",
       "        <div id=\"kLBJQ4fAjPd3MkvKfdXKG2\"></div>\n",
       "        <script>netpixi.call('kLBJQ4fAjPd3MkvKfdXKG2', 'f93LivNrzqvzktcjw7BxYz', 'changeGraph', 'eyJpZCI6ICJWZW5lenVlbGEgKEJvbGl2YXJpYW4gUmVwdWJsaWMgb2YpIiwgInR5cGUiOiAidmVydGV4IiwgInByb3BzIjogeyJjb2xvciI6IDE2NzExNjgwfX0K');</script>\n",
       "    "
      ],
      "text/plain": [
       "<IPython.core.display.HTML object>"
      ]
     },
     "metadata": {},
     "output_type": "display_data"
    },
    {
     "data": {
      "text/html": [
       "\n",
       "        <div id=\"KPp9ejmseNuyhHSTdvLEpy\"></div>\n",
       "        <script>netpixi.call('KPp9ejmseNuyhHSTdvLEpy', 'f93LivNrzqvzktcjw7BxYz', 'changeGraph', 'eyJpZCI6ICJHdWFkZWxvdXBlIiwgInR5cGUiOiAidmVydGV4IiwgInByb3BzIjogeyJjb2xvciI6IDY1MjgwfX0K');</script>\n",
       "    "
      ],
      "text/plain": [
       "<IPython.core.display.HTML object>"
      ]
     },
     "metadata": {},
     "output_type": "display_data"
    },
    {
     "data": {
      "text/html": [
       "\n",
       "        <div id=\"jaxKvdmQsRBqmP3JLB6TaN\"></div>\n",
       "        <script>netpixi.call('jaxKvdmQsRBqmP3JLB6TaN', 'f93LivNrzqvzktcjw7BxYz', 'changeGraph', 'eyJpZCI6ICJBdXN0cmlhIiwgInR5cGUiOiAidmVydGV4IiwgInByb3BzIjogeyJjb2xvciI6IDY1MjgwfX0K');</script>\n",
       "    "
      ],
      "text/plain": [
       "<IPython.core.display.HTML object>"
      ]
     },
     "metadata": {},
     "output_type": "display_data"
    },
    {
     "data": {
      "text/html": [
       "\n",
       "        <div id=\"LyEoqvGmqqxEvCzMoBw4xy\"></div>\n",
       "        <script>netpixi.call('LyEoqvGmqqxEvCzMoBw4xy', 'f93LivNrzqvzktcjw7BxYz', 'changeGraph', 'eyJpZCI6ICJTYXVkaSBBcmFiaWEiLCAidHlwZSI6ICJ2ZXJ0ZXgiLCAicHJvcHMiOiB7ImNvbG9yIjogNjUyODB9fQo=');</script>\n",
       "    "
      ],
      "text/plain": [
       "<IPython.core.display.HTML object>"
      ]
     },
     "metadata": {},
     "output_type": "display_data"
    },
    {
     "data": {
      "text/html": [
       "\n",
       "        <div id=\"Aza8LXVzwFG5cMdW6yqdSN\"></div>\n",
       "        <script>netpixi.call('Aza8LXVzwFG5cMdW6yqdSN', 'f93LivNrzqvzktcjw7BxYz', 'changeGraph', 'eyJpZCI6ICJTd2l0emVybGFuZCIsICJ0eXBlIjogInZlcnRleCIsICJwcm9wcyI6IHsiY29sb3IiOiA2NTI4MH19Cg==');</script>\n",
       "    "
      ],
      "text/plain": [
       "<IPython.core.display.HTML object>"
      ]
     },
     "metadata": {},
     "output_type": "display_data"
    },
    {
     "data": {
      "text/html": [
       "\n",
       "        <div id=\"EWoghaiRhE3UZUbanUfb5h\"></div>\n",
       "        <script>netpixi.call('EWoghaiRhE3UZUbanUfb5h', 'f93LivNrzqvzktcjw7BxYz', 'changeGraph', 'eyJpZCI6ICJEZW0uIFBlb3BsZSdzIFJlcC4gb2YgS29yZWEiLCAidHlwZSI6ICJ2ZXJ0ZXgiLCAicHJvcHMiOiB7ImNvbG9yIjogNjUyODB9fQo=');</script>\n",
       "    "
      ],
      "text/plain": [
       "<IPython.core.display.HTML object>"
      ]
     },
     "metadata": {},
     "output_type": "display_data"
    },
    {
     "data": {
      "text/html": [
       "\n",
       "        <div id=\"YMnHfAztqwHyXyqwKRUBhj\"></div>\n",
       "        <script>netpixi.call('YMnHfAztqwHyXyqwKRUBhj', 'f93LivNrzqvzktcjw7BxYz', 'changeGraph', 'eyJpZCI6ICJHZXJtYW55IiwgInR5cGUiOiAidmVydGV4IiwgInByb3BzIjogeyJjb2xvciI6IDY1MjgwfX0K');</script>\n",
       "    "
      ],
      "text/plain": [
       "<IPython.core.display.HTML object>"
      ]
     },
     "metadata": {},
     "output_type": "display_data"
    },
    {
     "data": {
      "text/html": [
       "\n",
       "        <div id=\"PTvaD7y4VHbngxmyBYiaCR\"></div>\n",
       "        <script>netpixi.call('PTvaD7y4VHbngxmyBYiaCR', 'f93LivNrzqvzktcjw7BxYz', 'changeGraph', 'eyJpZCI6ICJJdGFseSIsICJ0eXBlIjogInZlcnRleCIsICJwcm9wcyI6IHsiY29sb3IiOiA2NTI4MH19Cg==');</script>\n",
       "    "
      ],
      "text/plain": [
       "<IPython.core.display.HTML object>"
      ]
     },
     "metadata": {},
     "output_type": "display_data"
    },
    {
     "data": {
      "text/html": [
       "\n",
       "        <div id=\"k8piMXSDZhhs756exYakXj\"></div>\n",
       "        <script>netpixi.call('k8piMXSDZhhs756exYakXj', 'f93LivNrzqvzktcjw7BxYz', 'changeGraph', 'eyJpZCI6ICJTbG92ZW5pYSIsICJ0eXBlIjogInZlcnRleCIsICJwcm9wcyI6IHsiY29sb3IiOiA2NTI4MH19Cg==');</script>\n",
       "    "
      ],
      "text/plain": [
       "<IPython.core.display.HTML object>"
      ]
     },
     "metadata": {},
     "output_type": "display_data"
    },
    {
     "data": {
      "text/html": [
       "\n",
       "        <div id=\"V5A4dT9SYHfwc5bqsDZ9Ez\"></div>\n",
       "        <script>netpixi.call('V5A4dT9SYHfwc5bqsDZ9Ez', 'f93LivNrzqvzktcjw7BxYz', 'changeGraph', 'eyJpZCI6ICJQYW5hbWEiLCAidHlwZSI6ICJ2ZXJ0ZXgiLCAicHJvcHMiOiB7ImNvbG9yIjogNjUyODB9fQo=');</script>\n",
       "    "
      ],
      "text/plain": [
       "<IPython.core.display.HTML object>"
      ]
     },
     "metadata": {},
     "output_type": "display_data"
    },
    {
     "data": {
      "text/html": [
       "\n",
       "        <div id=\"7NYgyUHAV3o4rj2kzvwCYz\"></div>\n",
       "        <script>netpixi.call('7NYgyUHAV3o4rj2kzvwCYz', 'f93LivNrzqvzktcjw7BxYz', 'changeGraph', 'eyJpZCI6ICJDYXltYW4gSXNsYW5kcyIsICJ0eXBlIjogInZlcnRleCIsICJwcm9wcyI6IHsiY29sb3IiOiA2NTI4MH19Cg==');</script>\n",
       "    "
      ],
      "text/plain": [
       "<IPython.core.display.HTML object>"
      ]
     },
     "metadata": {},
     "output_type": "display_data"
    },
    {
     "data": {
      "text/html": [
       "\n",
       "        <div id=\"8bpcTjHxHcEC9bZnSeaCn3\"></div>\n",
       "        <script>netpixi.call('8bpcTjHxHcEC9bZnSeaCn3', 'f93LivNrzqvzktcjw7BxYz', 'changeGraph', 'eyJpZCI6ICJCZXJtdWRhIiwgInR5cGUiOiAidmVydGV4IiwgInByb3BzIjogeyJjb2xvciI6IDY1MjgwfX0K');</script>\n",
       "    "
      ],
      "text/plain": [
       "<IPython.core.display.HTML object>"
      ]
     },
     "metadata": {},
     "output_type": "display_data"
    },
    {
     "data": {
      "text/html": [
       "\n",
       "        <div id=\"MvqRxiXYturYzSRxVPmZvi\"></div>\n",
       "        <script>netpixi.call('MvqRxiXYturYzSRxVPmZvi', 'f93LivNrzqvzktcjw7BxYz', 'changeGraph', 'eyJpZCI6ICJNYXJ0aW5pcXVlIiwgInR5cGUiOiAidmVydGV4IiwgInByb3BzIjogeyJjb2xvciI6IDY1MjgwfX0K');</script>\n",
       "    "
      ],
      "text/plain": [
       "<IPython.core.display.HTML object>"
      ]
     },
     "metadata": {},
     "output_type": "display_data"
    },
    {
     "data": {
      "text/html": [
       "\n",
       "        <div id=\"jm9WmpAKRYWo4QVjFuH4gP\"></div>\n",
       "        <script>netpixi.call('jm9WmpAKRYWo4QVjFuH4gP', 'f93LivNrzqvzktcjw7BxYz', 'changeGraph', 'eyJpZCI6ICJBbmd1aWxsYSIsICJ0eXBlIjogInZlcnRleCIsICJwcm9wcyI6IHsiY29sb3IiOiA2NTI4MH19Cg==');</script>\n",
       "    "
      ],
      "text/plain": [
       "<IPython.core.display.HTML object>"
      ]
     },
     "metadata": {},
     "output_type": "display_data"
    },
    {
     "data": {
      "text/html": [
       "\n",
       "        <div id=\"bLn8tB9hhrxkXHKZDLLg7Z\"></div>\n",
       "        <script>netpixi.call('bLn8tB9hhrxkXHKZDLLg7Z', 'f93LivNrzqvzktcjw7BxYz', 'changeGraph', 'eyJpZCI6ICJUdXJrZXkiLCAidHlwZSI6ICJ2ZXJ0ZXgiLCAicHJvcHMiOiB7ImNvbG9yIjogMTY3MTE2ODB9fQo=');</script>\n",
       "    "
      ],
      "text/plain": [
       "<IPython.core.display.HTML object>"
      ]
     },
     "metadata": {},
     "output_type": "display_data"
    },
    {
     "data": {
      "text/html": [
       "\n",
       "        <div id=\"SyVjPphnDvTNoqkkdBDgAt\"></div>\n",
       "        <script>netpixi.call('SyVjPphnDvTNoqkkdBDgAt', 'f93LivNrzqvzktcjw7BxYz', 'changeGraph', 'eyJpZCI6ICJTYW4gTWFyaW5vIiwgInR5cGUiOiAidmVydGV4IiwgInByb3BzIjogeyJjb2xvciI6IDY1MjgwfX0K');</script>\n",
       "    "
      ],
      "text/plain": [
       "<IPython.core.display.HTML object>"
      ]
     },
     "metadata": {},
     "output_type": "display_data"
    },
    {
     "data": {
      "text/html": [
       "\n",
       "        <div id=\"bLVQqhT2rhZ33DtLxxiNtw\"></div>\n",
       "        <script>netpixi.call('bLVQqhT2rhZ33DtLxxiNtw', 'f93LivNrzqvzktcjw7BxYz', 'changeGraph', 'eyJpZCI6ICJOZXcgWmVhbGFuZCIsICJ0eXBlIjogInZlcnRleCIsICJwcm9wcyI6IHsiY29sb3IiOiA2NTI4MH19Cg==');</script>\n",
       "    "
      ],
      "text/plain": [
       "<IPython.core.display.HTML object>"
      ]
     },
     "metadata": {},
     "output_type": "display_data"
    },
    {
     "data": {
      "text/html": [
       "\n",
       "        <div id=\"m9ViFr7p5cCgNgyFProdvL\"></div>\n",
       "        <script>netpixi.call('m9ViFr7p5cCgNgyFProdvL', 'f93LivNrzqvzktcjw7BxYz', 'changeGraph', 'eyJpZCI6ICJLdXdhaXQiLCAidHlwZSI6ICJ2ZXJ0ZXgiLCAicHJvcHMiOiB7ImNvbG9yIjogNjUyODB9fQo=');</script>\n",
       "    "
      ],
      "text/plain": [
       "<IPython.core.display.HTML object>"
      ]
     },
     "metadata": {},
     "output_type": "display_data"
    },
    {
     "data": {
      "text/html": [
       "\n",
       "        <div id=\"epzfu3CW4by9uJwQLxidCQ\"></div>\n",
       "        <script>netpixi.call('epzfu3CW4by9uJwQLxidCQ', 'f93LivNrzqvzktcjw7BxYz', 'changeGraph', 'eyJpZCI6ICJDemVjaCBSZXAuIiwgInR5cGUiOiAidmVydGV4IiwgInByb3BzIjogeyJjb2xvciI6IDY1MjgwfX0K');</script>\n",
       "    "
      ],
      "text/plain": [
       "<IPython.core.display.HTML object>"
      ]
     },
     "metadata": {},
     "output_type": "display_data"
    },
    {
     "data": {
      "text/html": [
       "\n",
       "        <div id=\"YiFbXb583nF83UngoDjEEF\"></div>\n",
       "        <script>netpixi.call('YiFbXb583nF83UngoDjEEF', 'f93LivNrzqvzktcjw7BxYz', 'changeGraph', 'eyJpZCI6ICJQdWVydG8gUmljbyIsICJ0eXBlIjogInZlcnRleCIsICJwcm9wcyI6IHsiY29sb3IiOiA2NTI4MH19Cg==');</script>\n",
       "    "
      ],
      "text/plain": [
       "<IPython.core.display.HTML object>"
      ]
     },
     "metadata": {},
     "output_type": "display_data"
    },
    {
     "data": {
      "text/html": [
       "\n",
       "        <div id=\"AXq8pUFuQMbmbCdijHtCuT\"></div>\n",
       "        <script>netpixi.call('AXq8pUFuQMbmbCdijHtCuT', 'f93LivNrzqvzktcjw7BxYz', 'changeGraph', 'eyJpZCI6ICJKb3JkYW4iLCAidHlwZSI6ICJ2ZXJ0ZXgiLCAicHJvcHMiOiB7ImNvbG9yIjogMTY3MTE2ODB9fQo=');</script>\n",
       "    "
      ],
      "text/plain": [
       "<IPython.core.display.HTML object>"
      ]
     },
     "metadata": {},
     "output_type": "display_data"
    },
    {
     "data": {
      "text/html": [
       "\n",
       "        <div id=\"Kdku9DVLmVBwrYzbH5khwB\"></div>\n",
       "        <script>netpixi.call('Kdku9DVLmVBwrYzbH5khwB', 'f93LivNrzqvzktcjw7BxYz', 'changeGraph', 'eyJpZCI6ICJSZXAuIG9mIEtvcmVhIiwgInR5cGUiOiAidmVydGV4IiwgInByb3BzIjogeyJjb2xvciI6IDY1MjgwfX0K');</script>\n",
       "    "
      ],
      "text/plain": [
       "<IPython.core.display.HTML object>"
      ]
     },
     "metadata": {},
     "output_type": "display_data"
    },
    {
     "data": {
      "text/html": [
       "\n",
       "        <div id=\"gLD7PEWCmYYnkdx6PzeMKq\"></div>\n",
       "        <script>netpixi.call('gLD7PEWCmYYnkdx6PzeMKq', 'f93LivNrzqvzktcjw7BxYz', 'changeGraph', 'eyJpZCI6ICJMdXhlbWJvdXJnIiwgInR5cGUiOiAidmVydGV4IiwgInByb3BzIjogeyJjb2xvciI6IDY1MjgwfX0K');</script>\n",
       "    "
      ],
      "text/plain": [
       "<IPython.core.display.HTML object>"
      ]
     },
     "metadata": {},
     "output_type": "display_data"
    },
    {
     "data": {
      "text/html": [
       "\n",
       "        <div id=\"YBsvZ44zaAtVHyjP2EqdcL\"></div>\n",
       "        <script>netpixi.call('YBsvZ44zaAtVHyjP2EqdcL', 'f93LivNrzqvzktcjw7BxYz', 'changeGraph', 'eyJpZCI6ICJJcmFuIChJc2xhbWljIFJlcC4gb2YpIiwgInR5cGUiOiAidmVydGV4IiwgInByb3BzIjogeyJjb2xvciI6IDE2NzExNjgwfX0K');</script>\n",
       "    "
      ],
      "text/plain": [
       "<IPython.core.display.HTML object>"
      ]
     },
     "metadata": {},
     "output_type": "display_data"
    },
    {
     "data": {
      "text/html": [
       "\n",
       "        <div id=\"FfwX3YETmYnyTfQFD8hCr5\"></div>\n",
       "        <script>netpixi.call('FfwX3YETmYnyTfQFD8hCr5', 'f93LivNrzqvzktcjw7BxYz', 'changeGraph', 'eyJpZCI6ICJCcnVuZWkgRGFydXNzYWxhbSIsICJ0eXBlIjogInZlcnRleCIsICJwcm9wcyI6IHsiY29sb3IiOiA2NTI4MH19Cg==');</script>\n",
       "    "
      ],
      "text/plain": [
       "<IPython.core.display.HTML object>"
      ]
     },
     "metadata": {},
     "output_type": "display_data"
    },
    {
     "data": {
      "text/html": [
       "\n",
       "        <div id=\"FcYUpxF9stAHU4TeXPtxgh\"></div>\n",
       "        <script>netpixi.call('FcYUpxF9stAHU4TeXPtxgh', 'f93LivNrzqvzktcjw7BxYz', 'changeGraph', 'eyJpZCI6ICJTYWludCBWaW5jZW50IGFuZCB0aGUgR3JlbmFkaW5lcyIsICJ0eXBlIjogInZlcnRleCIsICJwcm9wcyI6IHsiY29sb3IiOiA2NTI4MH19Cg==');</script>\n",
       "    "
      ],
      "text/plain": [
       "<IPython.core.display.HTML object>"
      ]
     },
     "metadata": {},
     "output_type": "display_data"
    },
    {
     "data": {
      "text/html": [
       "\n",
       "        <div id=\"RNyYYonht2uugDfk4CVqwG\"></div>\n",
       "        <script>netpixi.call('RNyYYonht2uugDfk4CVqwG', 'f93LivNrzqvzktcjw7BxYz', 'changeGraph', 'eyJpZCI6ICJKYW1haWNhIiwgInR5cGUiOiAidmVydGV4IiwgInByb3BzIjogeyJjb2xvciI6IDY1MjgwfX0K');</script>\n",
       "    "
      ],
      "text/plain": [
       "<IPython.core.display.HTML object>"
      ]
     },
     "metadata": {},
     "output_type": "display_data"
    },
    {
     "data": {
      "text/html": [
       "\n",
       "        <div id=\"Hv3Lm4qFAnnGnEKVq5VzWU\"></div>\n",
       "        <script>netpixi.call('Hv3Lm4qFAnnGnEKVq5VzWU', 'f93LivNrzqvzktcjw7BxYz', 'changeGraph', 'eyJpZCI6ICJJc3JhZWwiLCAidHlwZSI6ICJ2ZXJ0ZXgiLCAicHJvcHMiOiB7ImNvbG9yIjogMTY3MTE2ODB9fQo=');</script>\n",
       "    "
      ],
      "text/plain": [
       "<IPython.core.display.HTML object>"
      ]
     },
     "metadata": {},
     "output_type": "display_data"
    },
    {
     "data": {
      "text/html": [
       "\n",
       "        <div id=\"gkLR72FxxWzjjwrLv6itJz\"></div>\n",
       "        <script>netpixi.call('gkLR72FxxWzjjwrLv6itJz', 'f93LivNrzqvzktcjw7BxYz', 'changeGraph', 'eyJpZCI6ICJGaWppIiwgInR5cGUiOiAidmVydGV4IiwgInByb3BzIjogeyJjb2xvciI6IDY1MjgwfX0K');</script>\n",
       "    "
      ],
      "text/plain": [
       "<IPython.core.display.HTML object>"
      ]
     },
     "metadata": {},
     "output_type": "display_data"
    },
    {
     "data": {
      "text/html": [
       "\n",
       "        <div id=\"4jN7JX6WtHGMVQSWjkHxZV\"></div>\n",
       "        <script>netpixi.call('4jN7JX6WtHGMVQSWjkHxZV', 'f93LivNrzqvzktcjw7BxYz', 'changeGraph', 'eyJpZCI6ICJTcGFpbiIsICJ0eXBlIjogInZlcnRleCIsICJwcm9wcyI6IHsiY29sb3IiOiA2NTI4MH19Cg==');</script>\n",
       "    "
      ],
      "text/plain": [
       "<IPython.core.display.HTML object>"
      ]
     },
     "metadata": {},
     "output_type": "display_data"
    },
    {
     "data": {
      "text/html": [
       "\n",
       "        <div id=\"B6odjbCqDBwJa2oDBvdQ9N\"></div>\n",
       "        <script>netpixi.call('B6odjbCqDBwJa2oDBvdQ9N', 'f93LivNrzqvzktcjw7BxYz', 'changeGraph', 'eyJpZCI6ICJVbml0ZWQgQXJhYiBFbWlyYXRlcyIsICJ0eXBlIjogInZlcnRleCIsICJwcm9wcyI6IHsiY29sb3IiOiA2NTI4MH19Cg==');</script>\n",
       "    "
      ],
      "text/plain": [
       "<IPython.core.display.HTML object>"
      ]
     },
     "metadata": {},
     "output_type": "display_data"
    },
    {
     "data": {
      "text/html": [
       "\n",
       "        <div id=\"8p5PaLviSShm3ueKWPk9b9\"></div>\n",
       "        <script>netpixi.call('8p5PaLviSShm3ueKWPk9b9', 'f93LivNrzqvzktcjw7BxYz', 'changeGraph', 'eyJpZCI6ICJFY3VhZG9yIiwgInR5cGUiOiAidmVydGV4IiwgInByb3BzIjogeyJjb2xvciI6IDE2NzExNjgwfX0K');</script>\n",
       "    "
      ],
      "text/plain": [
       "<IPython.core.display.HTML object>"
      ]
     },
     "metadata": {},
     "output_type": "display_data"
    },
    {
     "data": {
      "text/html": [
       "\n",
       "        <div id=\"KYUyRGZs3aGHQzohxaSDNa\"></div>\n",
       "        <script>netpixi.call('KYUyRGZs3aGHQzohxaSDNa', 'f93LivNrzqvzktcjw7BxYz', 'changeGraph', 'eyJpZCI6ICJDcm9hdGlhIiwgInR5cGUiOiAidmVydGV4IiwgInByb3BzIjogeyJjb2xvciI6IDY1MjgwfX0K');</script>\n",
       "    "
      ],
      "text/plain": [
       "<IPython.core.display.HTML object>"
      ]
     },
     "metadata": {},
     "output_type": "display_data"
    },
    {
     "data": {
      "text/html": [
       "\n",
       "        <div id=\"J9gsz3sjV8g7m8QRVJSKYL\"></div>\n",
       "        <script>netpixi.call('J9gsz3sjV8g7m8QRVJSKYL', 'f93LivNrzqvzktcjw7BxYz', 'changeGraph', 'eyJpZCI6ICJEb21pbmljYSIsICJ0eXBlIjogInZlcnRleCIsICJwcm9wcyI6IHsiY29sb3IiOiA2NTI4MH19Cg==');</script>\n",
       "    "
      ],
      "text/plain": [
       "<IPython.core.display.HTML object>"
      ]
     },
     "metadata": {},
     "output_type": "display_data"
    },
    {
     "data": {
      "text/html": [
       "\n",
       "        <div id=\"JCktjL8a2KLDt3KQGvbJJS\"></div>\n",
       "        <script>netpixi.call('JCktjL8a2KLDt3KQGvbJJS', 'f93LivNrzqvzktcjw7BxYz', 'changeGraph', 'eyJpZCI6ICJHaWJyYWx0YXIiLCAidHlwZSI6ICJ2ZXJ0ZXgiLCAicHJvcHMiOiB7ImNvbG9yIjogNjUyODB9fQo=');</script>\n",
       "    "
      ],
      "text/plain": [
       "<IPython.core.display.HTML object>"
      ]
     },
     "metadata": {},
     "output_type": "display_data"
    },
    {
     "data": {
      "text/html": [
       "\n",
       "        <div id=\"g5AMNs5CCHeouXyRg8t4Hz\"></div>\n",
       "        <script>netpixi.call('g5AMNs5CCHeouXyRg8t4Hz', 'f93LivNrzqvzktcjw7BxYz', 'changeGraph', 'eyJpZCI6ICJMZWJhbm9uIiwgInR5cGUiOiAidmVydGV4IiwgInByb3BzIjogeyJjb2xvciI6IDE2NzExNjgwfX0K');</script>\n",
       "    "
      ],
      "text/plain": [
       "<IPython.core.display.HTML object>"
      ]
     },
     "metadata": {},
     "output_type": "display_data"
    },
    {
     "data": {
      "text/html": [
       "\n",
       "        <div id=\"YVnQeoNatEQBKzhLAYYxV4\"></div>\n",
       "        <script>netpixi.call('YVnQeoNatEQBKzhLAYYxV4', 'f93LivNrzqvzktcjw7BxYz', 'changeGraph', 'eyJpZCI6ICJDdWJhIiwgInR5cGUiOiAidmVydGV4IiwgInByb3BzIjogeyJjb2xvciI6IDE2NzExNjgwfX0K');</script>\n",
       "    "
      ],
      "text/plain": [
       "<IPython.core.display.HTML object>"
      ]
     },
     "metadata": {},
     "output_type": "display_data"
    },
    {
     "data": {
      "text/html": [
       "\n",
       "        <div id=\"Z6YnrBGAa7CBh8ctrTnW4n\"></div>\n",
       "        <script>netpixi.call('Z6YnrBGAa7CBh8ctrTnW4n', 'f93LivNrzqvzktcjw7BxYz', 'changeGraph', 'eyJpZCI6ICJBdXN0cmFsaWEiLCAidHlwZSI6ICJ2ZXJ0ZXgiLCAicHJvcHMiOiB7ImNvbG9yIjogNjUyODB9fQo=');</script>\n",
       "    "
      ],
      "text/plain": [
       "<IPython.core.display.HTML object>"
      ]
     },
     "metadata": {},
     "output_type": "display_data"
    },
    {
     "data": {
      "text/html": [
       "\n",
       "        <div id=\"EueUrYPdjs6MZAfFQS5Ezh\"></div>\n",
       "        <script>netpixi.call('EueUrYPdjs6MZAfFQS5Ezh', 'f93LivNrzqvzktcjw7BxYz', 'changeGraph', 'eyJpZCI6ICJUaGUgZm9ybWVyIFl1Z29zbGF2IFJlcHVibGljIG9mIE1hY2Vkb25pYSIsICJ0eXBlIjogInZlcnRleCIsICJwcm9wcyI6IHsiY29sb3IiOiAxNjcxMTY4MH19Cg==');</script>\n",
       "    "
      ],
      "text/plain": [
       "<IPython.core.display.HTML object>"
      ]
     },
     "metadata": {},
     "output_type": "display_data"
    },
    {
     "data": {
      "text/html": [
       "\n",
       "        <div id=\"jphs72DmT7P7PnRptLofEJ\"></div>\n",
       "        <script>netpixi.call('jphs72DmT7P7PnRptLofEJ', 'f93LivNrzqvzktcjw7BxYz', 'changeGraph', 'eyJpZCI6ICJNb250c2VycmF0IiwgInR5cGUiOiAidmVydGV4IiwgInByb3BzIjogeyJjb2xvciI6IDY1MjgwfX0K');</script>\n",
       "    "
      ],
      "text/plain": [
       "<IPython.core.display.HTML object>"
      ]
     },
     "metadata": {},
     "output_type": "display_data"
    },
    {
     "data": {
      "text/html": [
       "\n",
       "        <div id=\"HsyUdEhieYx3iPtQKugsWr\"></div>\n",
       "        <script>netpixi.call('HsyUdEhieYx3iPtQKugsWr', 'f93LivNrzqvzktcjw7BxYz', 'changeGraph', 'eyJpZCI6ICJCdWxnYXJpYSIsICJ0eXBlIjogInZlcnRleCIsICJwcm9wcyI6IHsiY29sb3IiOiA2NTI4MH19Cg==');</script>\n",
       "    "
      ],
      "text/plain": [
       "<IPython.core.display.HTML object>"
      ]
     },
     "metadata": {},
     "output_type": "display_data"
    },
    {
     "data": {
      "text/html": [
       "\n",
       "        <div id=\"BuVtcFLqbu4jYhiSjfTwMA\"></div>\n",
       "        <script>netpixi.call('BuVtcFLqbu4jYhiSjfTwMA', 'f93LivNrzqvzktcjw7BxYz', 'changeGraph', 'eyJpZCI6ICJTcmkgTGFua2EiLCAidHlwZSI6ICJ2ZXJ0ZXgiLCAicHJvcHMiOiB7ImNvbG9yIjogMTY3MTE2ODB9fQo=');</script>\n",
       "    "
      ],
      "text/plain": [
       "<IPython.core.display.HTML object>"
      ]
     },
     "metadata": {},
     "output_type": "display_data"
    },
    {
     "data": {
      "text/html": [
       "\n",
       "        <div id=\"RA6zZHzQ6mc5vKZrrrGghH\"></div>\n",
       "        <script>netpixi.call('RA6zZHzQ6mc5vKZrrrGghH', 'f93LivNrzqvzktcjw7BxYz', 'changeGraph', 'eyJpZCI6ICJQb3J0dWdhbCIsICJ0eXBlIjogInZlcnRleCIsICJwcm9wcyI6IHsiY29sb3IiOiA2NTI4MH19Cg==');</script>\n",
       "    "
      ],
      "text/plain": [
       "<IPython.core.display.HTML object>"
      ]
     },
     "metadata": {},
     "output_type": "display_data"
    },
    {
     "data": {
      "text/html": [
       "\n",
       "        <div id=\"bCNhJAouvM6vEgWbLo2FLp\"></div>\n",
       "        <script>netpixi.call('bCNhJAouvM6vEgWbLo2FLp', 'f93LivNrzqvzktcjw7BxYz', 'changeGraph', 'eyJpZCI6ICJMYXR2aWEiLCAidHlwZSI6ICJ2ZXJ0ZXgiLCAicHJvcHMiOiB7ImNvbG9yIjogNjUyODB9fQo=');</script>\n",
       "    "
      ],
      "text/plain": [
       "<IPython.core.display.HTML object>"
      ]
     },
     "metadata": {},
     "output_type": "display_data"
    },
    {
     "data": {
      "text/html": [
       "\n",
       "        <div id=\"mhWhXgWDXj2T4dfuuinKqB\"></div>\n",
       "        <script>netpixi.call('mhWhXgWDXj2T4dfuuinKqB', 'f93LivNrzqvzktcjw7BxYz', 'changeGraph', 'eyJpZCI6ICJNb250ZW5lZ3JvIiwgInR5cGUiOiAidmVydGV4IiwgInByb3BzIjogeyJjb2xvciI6IDY1MjgwfX0K');</script>\n",
       "    "
      ],
      "text/plain": [
       "<IPython.core.display.HTML object>"
      ]
     },
     "metadata": {},
     "output_type": "display_data"
    },
    {
     "data": {
      "text/html": [
       "\n",
       "        <div id=\"FU3edE33aBXZTuMSQCFB6a\"></div>\n",
       "        <script>netpixi.call('FU3edE33aBXZTuMSQCFB6a', 'f93LivNrzqvzktcjw7BxYz', 'changeGraph', 'eyJpZCI6ICJSb21hbmlhIiwgInR5cGUiOiAidmVydGV4IiwgInByb3BzIjogeyJjb2xvciI6IDE2NzExNjgwfX0K');</script>\n",
       "    "
      ],
      "text/plain": [
       "<IPython.core.display.HTML object>"
      ]
     },
     "metadata": {},
     "output_type": "display_data"
    },
    {
     "data": {
      "text/html": [
       "\n",
       "        <div id=\"Zoztrg792jHxc5WUNmrwVj\"></div>\n",
       "        <script>netpixi.call('Zoztrg792jHxc5WUNmrwVj', 'f93LivNrzqvzktcjw7BxYz', 'changeGraph', 'eyJpZCI6ICJDaGluYSwgSG9uZyBLb25nIFNBUiIsICJ0eXBlIjogInZlcnRleCIsICJwcm9wcyI6IHsiY29sb3IiOiA2NTI4MH19Cg==');</script>\n",
       "    "
      ],
      "text/plain": [
       "<IPython.core.display.HTML object>"
      ]
     },
     "metadata": {},
     "output_type": "display_data"
    },
    {
     "data": {
      "text/html": [
       "\n",
       "        <div id=\"LbnZ45hFsfKqJ24wCtjpcP\"></div>\n",
       "        <script>netpixi.call('LbnZ45hFsfKqJ24wCtjpcP', 'f93LivNrzqvzktcjw7BxYz', 'changeGraph', 'eyJpZCI6ICJUdW5pc2lhIiwgInR5cGUiOiAidmVydGV4IiwgInByb3BzIjogeyJjb2xvciI6IDE2NzExNjgwfX0K');</script>\n",
       "    "
      ],
      "text/plain": [
       "<IPython.core.display.HTML object>"
      ]
     },
     "metadata": {},
     "output_type": "display_data"
    },
    {
     "data": {
      "text/html": [
       "\n",
       "        <div id=\"eu6Kzj94awodUW473QsPEq\"></div>\n",
       "        <script>netpixi.call('eu6Kzj94awodUW473QsPEq', 'f93LivNrzqvzktcjw7BxYz', 'changeGraph', 'eyJpZCI6ICJTaW5nYXBvcmUiLCAidHlwZSI6ICJ2ZXJ0ZXgiLCAicHJvcHMiOiB7ImNvbG9yIjogNjUyODB9fQo=');</script>\n",
       "    "
      ],
      "text/plain": [
       "<IPython.core.display.HTML object>"
      ]
     },
     "metadata": {},
     "output_type": "display_data"
    },
    {
     "data": {
      "text/html": [
       "\n",
       "        <div id=\"NoCGdnnuRiQrXkBMxPUs5C\"></div>\n",
       "        <script>netpixi.call('NoCGdnnuRiQrXkBMxPUs5C', 'f93LivNrzqvzktcjw7BxYz', 'changeGraph', 'eyJpZCI6ICJDaGlsZSIsICJ0eXBlIjogInZlcnRleCIsICJwcm9wcyI6IHsiY29sb3IiOiA2NTI4MH19Cg==');</script>\n",
       "    "
      ],
      "text/plain": [
       "<IPython.core.display.HTML object>"
      ]
     },
     "metadata": {},
     "output_type": "display_data"
    },
    {
     "data": {
      "text/html": [
       "\n",
       "        <div id=\"gbAGTqyXDDAuLoEVmHA8j8\"></div>\n",
       "        <script>netpixi.call('gbAGTqyXDDAuLoEVmHA8j8', 'f93LivNrzqvzktcjw7BxYz', 'changeGraph', 'eyJpZCI6ICJBcm1lbmlhIiwgInR5cGUiOiAidmVydGV4IiwgInByb3BzIjogeyJjb2xvciI6IDE2NzExNjgwfX0K');</script>\n",
       "    "
      ],
      "text/plain": [
       "<IPython.core.display.HTML object>"
      ]
     },
     "metadata": {},
     "output_type": "display_data"
    },
    {
     "data": {
      "text/html": [
       "\n",
       "        <div id=\"evehyiehEkEzywXLKRASce\"></div>\n",
       "        <script>netpixi.call('evehyiehEkEzywXLKRASce', 'f93LivNrzqvzktcjw7BxYz', 'changeGraph', 'eyJpZCI6ICJFc3RvbmlhIiwgInR5cGUiOiAidmVydGV4IiwgInByb3BzIjogeyJjb2xvciI6IDY1MjgwfX0K');</script>\n",
       "    "
      ],
      "text/plain": [
       "<IPython.core.display.HTML object>"
      ]
     },
     "metadata": {},
     "output_type": "display_data"
    },
    {
     "data": {
      "text/html": [
       "\n",
       "        <div id=\"UUPBbyGWqrm9siN4b37irw\"></div>\n",
       "        <script>netpixi.call('UUPBbyGWqrm9siN4b37irw', 'f93LivNrzqvzktcjw7BxYz', 'changeGraph', 'eyJpZCI6ICJUaGFpbGFuZCIsICJ0eXBlIjogInZlcnRleCIsICJwcm9wcyI6IHsiY29sb3IiOiA2NTI4MH19Cg==');</script>\n",
       "    "
      ],
      "text/plain": [
       "<IPython.core.display.HTML object>"
      ]
     },
     "metadata": {},
     "output_type": "display_data"
    },
    {
     "data": {
      "text/html": [
       "\n",
       "        <div id=\"7pVCxujvaisahhEEArfDeV\"></div>\n",
       "        <script>netpixi.call('7pVCxujvaisahhEEArfDeV', 'f93LivNrzqvzktcjw7BxYz', 'changeGraph', 'eyJpZCI6ICJLYXpha2hzdGFuIiwgInR5cGUiOiAidmVydGV4IiwgInByb3BzIjogeyJjb2xvciI6IDE2NzExNjgwfX0K');</script>\n",
       "    "
      ],
      "text/plain": [
       "<IPython.core.display.HTML object>"
      ]
     },
     "metadata": {},
     "output_type": "display_data"
    },
    {
     "data": {
      "text/html": [
       "\n",
       "        <div id=\"jmL73QjfcRT829bKCQD5wz\"></div>\n",
       "        <script>netpixi.call('jmL73QjfcRT829bKCQD5wz', 'f93LivNrzqvzktcjw7BxYz', 'changeGraph', 'eyJpZCI6ICJUcmluaWRhZCBhbmQgVG9iYWdvIiwgInR5cGUiOiAidmVydGV4IiwgInByb3BzIjogeyJjb2xvciI6IDY1MjgwfX0K');</script>\n",
       "    "
      ],
      "text/plain": [
       "<IPython.core.display.HTML object>"
      ]
     },
     "metadata": {},
     "output_type": "display_data"
    },
    {
     "data": {
      "text/html": [
       "\n",
       "        <div id=\"NDxWm3ZUfnRfLZhqvtjjzq\"></div>\n",
       "        <script>netpixi.call('NDxWm3ZUfnRfLZhqvtjjzq', 'f93LivNrzqvzktcjw7BxYz', 'changeGraph', 'eyJpZCI6ICJQYWxhdSIsICJ0eXBlIjogInZlcnRleCIsICJwcm9wcyI6IHsiY29sb3IiOiA2NTI4MH19Cg==');</script>\n",
       "    "
      ],
      "text/plain": [
       "<IPython.core.display.HTML object>"
      ]
     },
     "metadata": {},
     "output_type": "display_data"
    },
    {
     "data": {
      "text/html": [
       "\n",
       "        <div id=\"YjGuwmVzCpjRCihtUBNF5K\"></div>\n",
       "        <script>netpixi.call('YjGuwmVzCpjRCihtUBNF5K', 'f93LivNrzqvzktcjw7BxYz', 'changeGraph', 'eyJpZCI6ICJDb29rIElzbGFuZHMiLCAidHlwZSI6ICJ2ZXJ0ZXgiLCAicHJvcHMiOiB7ImNvbG9yIjogNjUyODB9fQo=');</script>\n",
       "    "
      ],
      "text/plain": [
       "<IPython.core.display.HTML object>"
      ]
     },
     "metadata": {},
     "output_type": "display_data"
    },
    {
     "data": {
      "text/html": [
       "\n",
       "        <div id=\"csqCnqqk7LHr4skASuvrVx\"></div>\n",
       "        <script>netpixi.call('csqCnqqk7LHr4skASuvrVx', 'f93LivNrzqvzktcjw7BxYz', 'changeGraph', 'eyJpZCI6ICJDdXJhXHUwMGU3YW8iLCAidHlwZSI6ICJ2ZXJ0ZXgiLCAicHJvcHMiOiB7ImNvbG9yIjogNjUyODB9fQo=');</script>\n",
       "    "
      ],
      "text/plain": [
       "<IPython.core.display.HTML object>"
      ]
     },
     "metadata": {},
     "output_type": "display_data"
    },
    {
     "data": {
      "text/html": [
       "\n",
       "        <div id=\"HNoHhriUWQhfrFSRHjv7eA\"></div>\n",
       "        <script>netpixi.call('HNoHhriUWQhfrFSRHjv7eA', 'f93LivNrzqvzktcjw7BxYz', 'changeGraph', 'eyJpZCI6ICJTbG92YWtpYSIsICJ0eXBlIjogInZlcnRleCIsICJwcm9wcyI6IHsiY29sb3IiOiA2NTI4MH19Cg==');</script>\n",
       "    "
      ],
      "text/plain": [
       "<IPython.core.display.HTML object>"
      ]
     },
     "metadata": {},
     "output_type": "display_data"
    },
    {
     "data": {
      "text/html": [
       "\n",
       "        <div id=\"4LD7raqKJYzRzNHFpJrRQS\"></div>\n",
       "        <script>netpixi.call('4LD7raqKJYzRzNHFpJrRQS', 'f93LivNrzqvzktcjw7BxYz', 'changeGraph', 'eyJpZCI6ICJMaWJ5YSIsICJ0eXBlIjogInZlcnRleCIsICJwcm9wcyI6IHsiY29sb3IiOiAxNjcxMTY4MH19Cg==');</script>\n",
       "    "
      ],
      "text/plain": [
       "<IPython.core.display.HTML object>"
      ]
     },
     "metadata": {},
     "output_type": "display_data"
    },
    {
     "data": {
      "text/html": [
       "\n",
       "        <div id=\"7wRUHbRcMJCyHr3QtNpf7M\"></div>\n",
       "        <script>netpixi.call('7wRUHbRcMJCyHr3QtNpf7M', 'f93LivNrzqvzktcjw7BxYz', 'changeGraph', 'eyJpZCI6ICJGaW5sYW5kIiwgInR5cGUiOiAidmVydGV4IiwgInByb3BzIjogeyJjb2xvciI6IDY1MjgwfX0K');</script>\n",
       "    "
      ],
      "text/plain": [
       "<IPython.core.display.HTML object>"
      ]
     },
     "metadata": {},
     "output_type": "display_data"
    },
    {
     "data": {
      "text/html": [
       "\n",
       "        <div id=\"23MuFtLhg764WCkGfnQWKP\"></div>\n",
       "        <script>netpixi.call('23MuFtLhg764WCkGfnQWKP', 'f93LivNrzqvzktcjw7BxYz', 'changeGraph', 'eyJpZCI6ICJTZXljaGVsbGVzIiwgInR5cGUiOiAidmVydGV4IiwgInByb3BzIjogeyJjb2xvciI6IDY1MjgwfX0K');</script>\n",
       "    "
      ],
      "text/plain": [
       "<IPython.core.display.HTML object>"
      ]
     },
     "metadata": {},
     "output_type": "display_data"
    },
    {
     "data": {
      "text/html": [
       "\n",
       "        <div id=\"SbE3EorP2pj2pFuN6w6Pxd\"></div>\n",
       "        <script>netpixi.call('SbE3EorP2pj2pFuN6w6Pxd', 'f93LivNrzqvzktcjw7BxYz', 'changeGraph', 'eyJpZCI6ICJDYW5hZGEiLCAidHlwZSI6ICJ2ZXJ0ZXgiLCAicHJvcHMiOiB7ImNvbG9yIjogMTY3MTE2ODB9fQo=');</script>\n",
       "    "
      ],
      "text/plain": [
       "<IPython.core.display.HTML object>"
      ]
     },
     "metadata": {},
     "output_type": "display_data"
    },
    {
     "data": {
      "text/html": [
       "\n",
       "        <div id=\"9w56w2cJwfBgWTxLA2gstc\"></div>\n",
       "        <script>netpixi.call('9w56w2cJwfBgWTxLA2gstc', 'f93LivNrzqvzktcjw7BxYz', 'changeGraph', 'eyJpZCI6ICJDeXBydXMiLCAidHlwZSI6ICJ2ZXJ0ZXgiLCAicHJvcHMiOiB7ImNvbG9yIjogNjUyODB9fQo=');</script>\n",
       "    "
      ],
      "text/plain": [
       "<IPython.core.display.HTML object>"
      ]
     },
     "metadata": {},
     "output_type": "display_data"
    },
    {
     "data": {
      "text/html": [
       "\n",
       "        <div id=\"RRDevawAuiJqDvKGqrRwZq\"></div>\n",
       "        <script>netpixi.call('RRDevawAuiJqDvKGqrRwZq', 'f93LivNrzqvzktcjw7BxYz', 'changeGraph', 'eyJpZCI6ICJTZXJiaWEgYW5kIEtvc292byAoUy9SRVMvMTI0NCAoMTk5OSkpIiwgInR5cGUiOiAidmVydGV4IiwgInByb3BzIjogeyJjb2xvciI6IDE2NzExNjgwfX0K');</script>\n",
       "    "
      ],
      "text/plain": [
       "<IPython.core.display.HTML object>"
      ]
     },
     "metadata": {},
     "output_type": "display_data"
    },
    {
     "data": {
      "text/html": [
       "\n",
       "        <div id=\"GwRHtFc2DfTNbhfBqNQdod\"></div>\n",
       "        <script>netpixi.call('GwRHtFc2DfTNbhfBqNQdod', 'f93LivNrzqvzktcjw7BxYz', 'changeGraph', 'eyJpZCI6ICJNYWxheXNpYSIsICJ0eXBlIjogInZlcnRleCIsICJwcm9wcyI6IHsiY29sb3IiOiA2NTI4MH19Cg==');</script>\n",
       "    "
      ],
      "text/plain": [
       "<IPython.core.display.HTML object>"
      ]
     },
     "metadata": {},
     "output_type": "display_data"
    },
    {
     "data": {
      "text/html": [
       "\n",
       "        <div id=\"WMn8brxuP59XpCNV7vdAB8\"></div>\n",
       "        <script>netpixi.call('WMn8brxuP59XpCNV7vdAB8', 'f93LivNrzqvzktcjw7BxYz', 'changeGraph', 'eyJpZCI6ICJQZXJ1IiwgInR5cGUiOiAidmVydGV4IiwgInByb3BzIjogeyJjb2xvciI6IDE2NzExNjgwfX0K');</script>\n",
       "    "
      ],
      "text/plain": [
       "<IPython.core.display.HTML object>"
      ]
     },
     "metadata": {},
     "output_type": "display_data"
    },
    {
     "data": {
      "text/html": [
       "\n",
       "        <div id=\"nzMKTSVT4kuQWdFAhkpCpZ\"></div>\n",
       "        <script>netpixi.call('nzMKTSVT4kuQWdFAhkpCpZ', 'f93LivNrzqvzktcjw7BxYz', 'changeGraph', 'eyJpZCI6ICJTd2VkZW4iLCAidHlwZSI6ICJ2ZXJ0ZXgiLCAicHJvcHMiOiB7ImNvbG9yIjogNjUyODB9fQo=');</script>\n",
       "    "
      ],
      "text/plain": [
       "<IPython.core.display.HTML object>"
      ]
     },
     "metadata": {},
     "output_type": "display_data"
    }
   ],
   "source": [
    "matrix = spectral.adjacency(g)\n",
    "\n",
    "# # Além de cpnet.Surprise, há outras\n",
    "# # opções de algoritmos discretos:\n",
    "# # cpnet.BE\n",
    "# # cpnet.Lip\n",
    "# # cpnet.LapCore\n",
    "# # cpnet.LapSgnCore\n",
    "# # cpnet.LowRankCore\n",
    "\n",
    "algorithm = cpnet.BE()\n",
    "algorithm.detect(matrix)\n",
    "c = algorithm.get_coreness()\n",
    "\n",
    "# # Depois do código acima, c é um dicionário\n",
    "# # em que as chaves são índices de vértices e\n",
    "# # valores são os atribuídos pelo algoritmo.\n",
    "\n",
    "g.add_vp('core')\n",
    "for i, coreness in c.items():\n",
    "     v = g.get_vertex_by_index(i)\n",
    "     v['core'] = int(coreness)\n",
    "    \n",
    "# # Vamos pintar de vermelho todos os vértices\n",
    "# # identificados como centro e de verde todos\n",
    "# # os vértices identificados como periferia.\n",
    "    \n",
    "for v in g.all_vertices():\n",
    "    if v['core'] == 1:\n",
    "        r.vertex(v['id'], color=0xff0000)\n",
    "    else:\n",
    "        r.vertex(v['id'], color=0x00ff00)\n",
    "\n",
    "# # Quando a execução desta célula terminar,\n",
    "# # veja como ficou a visualização acima."
   ]
  },
  {
   "cell_type": "code",
   "execution_count": 202,
   "id": "c909c180",
   "metadata": {},
   "outputs": [
    {
     "data": {
      "text/html": [
       "\n",
       "        <div id=\"5ifVkuJxGzKUNC9YRJh9BE\"></div>\n",
       "        <script>netpixi.call('5ifVkuJxGzKUNC9YRJh9BE', 'f93LivNrzqvzktcjw7BxYz', 'normalizeGraph', 'eyJ0eXBlIjogImVkZ2UiLCAicHJvcHMiOiB7InNyYyI6ICJhY2VpdG9zIiwgIm1pbiI6IDEsICJtYXgiOiAxMH19Cg==');</script>\n",
       "    "
      ],
      "text/plain": [
       "<IPython.core.display.HTML object>"
      ]
     },
     "metadata": {},
     "output_type": "display_data"
    },
    {
     "data": {
      "text/html": [
       "\n",
       "        <div id=\"XY5xF3TE2E3RWNjprqqoGe\"></div>\n",
       "        <script>netpixi.call('XY5xF3TE2E3RWNjprqqoGe', 'f93LivNrzqvzktcjw7BxYz', 'setGraph', 'eyJ0eXBlIjogInZlcnRleCIsICJwcm9wcyI6IHsic3JjIjogIm5vbWUiLCAiZHN0IjogIl9rZXkifX0K');</script>\n",
       "    "
      ],
      "text/plain": [
       "<IPython.core.display.HTML object>"
      ]
     },
     "metadata": {},
     "output_type": "display_data"
    },
    {
     "data": {
      "text/html": [
       "\n",
       "        <div id=\"d66fHwCLEbZeDHCwvV3PDY\"></div>\n",
       "        <script>netpixi.call('d66fHwCLEbZeDHCwvV3PDY', 'f93LivNrzqvzktcjw7BxYz', 'normalizeGraph', 'eyJ0eXBlIjogInZlcnRleCIsICJwcm9wcyI6IHsic3JjIjogImNvcmVuZXNzIiwgIm1pbiI6IDUsICJtYXgiOiAyNX19Cg==');</script>\n",
       "    "
      ],
      "text/plain": [
       "<IPython.core.display.HTML object>"
      ]
     },
     "metadata": {},
     "output_type": "display_data"
    }
   ],
   "source": [
    "r.edge_scale('aceitos', 1, 10)\n",
    "\n",
    "r.vertex_set_key('nome')\n",
    "\n",
    "r.vertex_scale('coreness', 5, 25)"
   ]
  },
  {
   "cell_type": "code",
   "execution_count": 203,
   "id": "f11e03bb",
   "metadata": {},
   "outputs": [
    {
     "data": {
      "text/plain": [
       "<function regression.integration.gt.gt_data(g)>"
      ]
     },
     "execution_count": 203,
     "metadata": {},
     "output_type": "execute_result"
    }
   ],
   "source": [
    "gt_data"
   ]
  },
  {
   "cell_type": "code",
   "execution_count": 206,
   "id": "f8da051f",
   "metadata": {},
   "outputs": [
    {
     "ename": "KeyError",
     "evalue": "'coreness'",
     "output_type": "error",
     "traceback": [
      "\u001b[0;31m---------------------------------------------------------------------------\u001b[0m",
      "\u001b[0;31mKeyError\u001b[0m                                  Traceback (most recent call last)",
      "Cell \u001b[0;32mIn [206], line 1\u001b[0m\n\u001b[0;32m----> 1\u001b[0m df_coreness \u001b[38;5;241m=\u001b[39m \u001b[43mgt_data\u001b[49m\u001b[43m(\u001b[49m\u001b[43mg\u001b[49m\u001b[43m)\u001b[49m\u001b[38;5;241;43m.\u001b[39;49m\u001b[43msort_values\u001b[49m\u001b[43m(\u001b[49m\u001b[38;5;124;43m\"\u001b[39;49m\u001b[38;5;124;43mcoreness\u001b[39;49m\u001b[38;5;124;43m\"\u001b[39;49m\u001b[43m,\u001b[49m\u001b[43m \u001b[49m\u001b[43mascending\u001b[49m\u001b[43m \u001b[49m\u001b[38;5;241;43m=\u001b[39;49m\u001b[43m \u001b[49m\u001b[38;5;28;43;01mFalse\u001b[39;49;00m\u001b[43m)\u001b[49m\n\u001b[1;32m      2\u001b[0m df_coreness\n",
      "File \u001b[0;32m/usr/local/lib/python3.10/site-packages/pandas/util/_decorators.py:331\u001b[0m, in \u001b[0;36mdeprecate_nonkeyword_arguments.<locals>.decorate.<locals>.wrapper\u001b[0;34m(*args, **kwargs)\u001b[0m\n\u001b[1;32m    325\u001b[0m \u001b[38;5;28;01mif\u001b[39;00m \u001b[38;5;28mlen\u001b[39m(args) \u001b[38;5;241m>\u001b[39m num_allow_args:\n\u001b[1;32m    326\u001b[0m     warnings\u001b[38;5;241m.\u001b[39mwarn(\n\u001b[1;32m    327\u001b[0m         msg\u001b[38;5;241m.\u001b[39mformat(arguments\u001b[38;5;241m=\u001b[39m_format_argument_list(allow_args)),\n\u001b[1;32m    328\u001b[0m         \u001b[38;5;167;01mFutureWarning\u001b[39;00m,\n\u001b[1;32m    329\u001b[0m         stacklevel\u001b[38;5;241m=\u001b[39mfind_stack_level(),\n\u001b[1;32m    330\u001b[0m     )\n\u001b[0;32m--> 331\u001b[0m \u001b[38;5;28;01mreturn\u001b[39;00m \u001b[43mfunc\u001b[49m\u001b[43m(\u001b[49m\u001b[38;5;241;43m*\u001b[39;49m\u001b[43margs\u001b[49m\u001b[43m,\u001b[49m\u001b[43m \u001b[49m\u001b[38;5;241;43m*\u001b[39;49m\u001b[38;5;241;43m*\u001b[39;49m\u001b[43mkwargs\u001b[49m\u001b[43m)\u001b[49m\n",
      "File \u001b[0;32m/usr/local/lib/python3.10/site-packages/pandas/core/frame.py:6901\u001b[0m, in \u001b[0;36mDataFrame.sort_values\u001b[0;34m(self, by, axis, ascending, inplace, kind, na_position, ignore_index, key)\u001b[0m\n\u001b[1;32m   6897\u001b[0m \u001b[38;5;28;01melif\u001b[39;00m \u001b[38;5;28mlen\u001b[39m(by):\n\u001b[1;32m   6898\u001b[0m     \u001b[38;5;66;03m# len(by) == 1\u001b[39;00m\n\u001b[1;32m   6900\u001b[0m     by \u001b[38;5;241m=\u001b[39m by[\u001b[38;5;241m0\u001b[39m]\n\u001b[0;32m-> 6901\u001b[0m     k \u001b[38;5;241m=\u001b[39m \u001b[38;5;28;43mself\u001b[39;49m\u001b[38;5;241;43m.\u001b[39;49m\u001b[43m_get_label_or_level_values\u001b[49m\u001b[43m(\u001b[49m\u001b[43mby\u001b[49m\u001b[43m,\u001b[49m\u001b[43m \u001b[49m\u001b[43maxis\u001b[49m\u001b[38;5;241;43m=\u001b[39;49m\u001b[43maxis\u001b[49m\u001b[43m)\u001b[49m\n\u001b[1;32m   6903\u001b[0m     \u001b[38;5;66;03m# need to rewrap column in Series to apply key function\u001b[39;00m\n\u001b[1;32m   6904\u001b[0m     \u001b[38;5;28;01mif\u001b[39;00m key \u001b[38;5;129;01mis\u001b[39;00m \u001b[38;5;129;01mnot\u001b[39;00m \u001b[38;5;28;01mNone\u001b[39;00m:\n\u001b[1;32m   6905\u001b[0m         \u001b[38;5;66;03m# error: Incompatible types in assignment (expression has type\u001b[39;00m\n\u001b[1;32m   6906\u001b[0m         \u001b[38;5;66;03m# \"Series\", variable has type \"ndarray\")\u001b[39;00m\n",
      "File \u001b[0;32m/usr/local/lib/python3.10/site-packages/pandas/core/generic.py:1850\u001b[0m, in \u001b[0;36mNDFrame._get_label_or_level_values\u001b[0;34m(self, key, axis)\u001b[0m\n\u001b[1;32m   1844\u001b[0m     values \u001b[38;5;241m=\u001b[39m (\n\u001b[1;32m   1845\u001b[0m         \u001b[38;5;28mself\u001b[39m\u001b[38;5;241m.\u001b[39maxes[axis]\n\u001b[1;32m   1846\u001b[0m         \u001b[38;5;241m.\u001b[39mget_level_values(key)  \u001b[38;5;66;03m# type: ignore[assignment]\u001b[39;00m\n\u001b[1;32m   1847\u001b[0m         \u001b[38;5;241m.\u001b[39m_values\n\u001b[1;32m   1848\u001b[0m     )\n\u001b[1;32m   1849\u001b[0m \u001b[38;5;28;01melse\u001b[39;00m:\n\u001b[0;32m-> 1850\u001b[0m     \u001b[38;5;28;01mraise\u001b[39;00m \u001b[38;5;167;01mKeyError\u001b[39;00m(key)\n\u001b[1;32m   1852\u001b[0m \u001b[38;5;66;03m# Check for duplicates\u001b[39;00m\n\u001b[1;32m   1853\u001b[0m \u001b[38;5;28;01mif\u001b[39;00m values\u001b[38;5;241m.\u001b[39mndim \u001b[38;5;241m>\u001b[39m \u001b[38;5;241m1\u001b[39m:\n",
      "\u001b[0;31mKeyError\u001b[0m: 'coreness'"
     ]
    }
   ],
   "source": [
    "df_coreness = gt_data(g).sort_values(\"coreness\", ascending = False)\n",
    "df_coreness"
   ]
  },
  {
   "cell_type": "code",
   "execution_count": null,
   "id": "870eb821",
   "metadata": {},
   "outputs": [],
   "source": []
  },
  {
   "cell_type": "code",
   "execution_count": null,
   "id": "6b276e69",
   "metadata": {},
   "outputs": [],
   "source": []
  },
  {
   "cell_type": "code",
   "execution_count": null,
   "id": "53481fa9",
   "metadata": {},
   "outputs": [],
   "source": []
  },
  {
   "cell_type": "code",
   "execution_count": null,
   "id": "526d6024",
   "metadata": {},
   "outputs": [],
   "source": []
  },
  {
   "cell_type": "code",
   "execution_count": null,
   "id": "de1c3cdb",
   "metadata": {},
   "outputs": [],
   "source": []
  },
  {
   "cell_type": "code",
   "execution_count": null,
   "id": "53cca0a7",
   "metadata": {},
   "outputs": [],
   "source": []
  },
  {
   "cell_type": "code",
   "execution_count": 41,
   "id": "9364e301",
   "metadata": {},
   "outputs": [],
   "source": [
    "import regression as reg"
   ]
  },
  {
   "cell_type": "code",
   "execution_count": 44,
   "id": "3ec08746",
   "metadata": {},
   "outputs": [
    {
     "ename": "AttributeError",
     "evalue": "module 'regression' has no attribute 'linear'",
     "output_type": "error",
     "traceback": [
      "\u001b[1;31m---------------------------------------------------------------------------\u001b[0m",
      "\u001b[1;31mAttributeError\u001b[0m                            Traceback (most recent call last)",
      "\u001b[1;32mc:\\Users\\sayur\\OneDrive\\Documentos\\AULAS_SEXTO_SEMESTRE\\RedesSoc\\redesoc-conteiner\\notebooks\\Projeto-RedesSoc\\Projeto-rascunho\\PensandoRecortes.ipynb Célula: 23\u001b[0m in \u001b[0;36m<cell line: 1>\u001b[1;34m()\u001b[0m\n\u001b[1;32m----> <a href='vscode-notebook-cell:/c%3A/Users/sayur/OneDrive/Documentos/AULAS_SEXTO_SEMESTRE/RedesSoc/redesoc-conteiner/notebooks/Projeto-RedesSoc/Projeto-rascunho/PensandoRecortes.ipynb#X30sZmlsZQ%3D%3D?line=0'>1</a>\u001b[0m result_hip4 \u001b[39m=\u001b[39m reg\u001b[39m.\u001b[39;49mlinear(data\u001b[39m=\u001b[39mdf, formula\u001b[39m=\u001b[39m\u001b[39m'\u001b[39m\u001b[39mvalue ~ idh_2008\u001b[39m\u001b[39m'\u001b[39m)\n\u001b[0;32m      <a href='vscode-notebook-cell:/c%3A/Users/sayur/OneDrive/Documentos/AULAS_SEXTO_SEMESTRE/RedesSoc/redesoc-conteiner/notebooks/Projeto-RedesSoc/Projeto-rascunho/PensandoRecortes.ipynb#X30sZmlsZQ%3D%3D?line=1'>2</a>\u001b[0m result_hip4\u001b[39m.\u001b[39msummary()\n",
      "\u001b[1;31mAttributeError\u001b[0m: module 'regression' has no attribute 'linear'"
     ]
    }
   ],
   "source": [
    "result_hip4 = reg.linear(data=df, formula='value ~ idh_2008')\n",
    "result_hip4.summary()"
   ]
  },
  {
   "cell_type": "code",
   "execution_count": null,
   "id": "d6ec5736",
   "metadata": {},
   "outputs": [],
   "source": []
  },
  {
   "cell_type": "code",
   "execution_count": null,
   "id": "4ce254a5",
   "metadata": {},
   "outputs": [],
   "source": []
  },
  {
   "cell_type": "code",
   "execution_count": null,
   "id": "b8eb1a46",
   "metadata": {},
   "outputs": [],
   "source": []
  }
 ],
 "metadata": {
  "kernelspec": {
   "display_name": "Python 3 (ipykernel)",
   "language": "python",
   "name": "python3"
  },
  "language_info": {
   "codemirror_mode": {
    "name": "ipython",
    "version": 3
   },
   "file_extension": ".py",
   "mimetype": "text/x-python",
   "name": "python",
   "nbconvert_exporter": "python",
   "pygments_lexer": "ipython3",
   "version": "3.10.6"
  },
  "vscode": {
   "interpreter": {
    "hash": "369f2c481f4da34e4445cda3fffd2e751bd1c4d706f27375911949ba6bb62e1c"
   }
  }
 },
 "nbformat": 4,
 "nbformat_minor": 5
}
