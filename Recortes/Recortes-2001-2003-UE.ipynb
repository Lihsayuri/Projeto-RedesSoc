{
 "cells": [
  {
   "cell_type": "markdown",
   "id": "15f48f62",
   "metadata": {},
   "source": [
    "# Recortes:  2001 a 2003 e Países da UE, EUA e Canadá\n",
    "\n",
    "\n",
    "## Hipótese 3: Localização tem relação com intermediação\n",
    "\n",
    "### G : BW: GEO"
   ]
  },
  {
   "cell_type": "markdown",
   "id": "4e1cbbcb",
   "metadata": {},
   "source": [
    "#### Explicação:\n",
    "\n",
    "Essa hipótese correlaciona o fato de possuir um alto betweenness (intermediação) com o número de países que fazem fronteira com o país em questão. Sendo assim, essa hipótese diz que quanto mais próximo de outros países é uma nação, ou seja, quanto maior o número de países com os qual faz fronteira, maior é o seu betweenness, indicando uma possibilidade de, por ser um país que faz divisa entre diversos outros, ele pode possuir um betweenness alto já que diversas pessoas iriam passar por ele para ir para outros países. \n",
    "\n",
    "#### Recorte:2001 a 2003 e países da União Europeia (UE) e da América Anglo-saxônica\n",
    "\n",
    "Esse recorte foi pensado pois, ao analisarmos os anos de 2001 a 2003, com o ataque às Torres Gêmeas nos Estados Unidos, diversos países do planeta acabaram restrigindo o acesso às suas fronteiras, dificultando a entrada de pessoas, especialmente os países da UE e da América Anglo-saxônica. Com isso, com um acesso mais restrito às suas fronteiras, isso pode resultar numa diminuição do seu betweenness, mesmo que os países em questão tenham um alto número de vizinhos (GEO), deixando de corroborar com a hipótese 3."
   ]
  },
  {
   "cell_type": "code",
   "execution_count": 1,
   "id": "6f22ff82",
   "metadata": {},
   "outputs": [
    {
     "data": {
      "text/html": [
       "\n",
       "    <script src=\"/files/netpixi.min.js\"></script>\n"
      ],
      "text/plain": [
       "<IPython.core.display.HTML object>"
      ]
     },
     "metadata": {},
     "output_type": "display_data"
    }
   ],
   "source": [
    "import numpy as np\n",
    "import pandas as pd\n",
    "import seaborn as sns\n",
    "import regression as reg\n",
    "\n",
    "from scipy import stats\n",
    "from matplotlib import pyplot as plt\n",
    "\n",
    "import openpyxl\n",
    "\n",
    "import netpixi\n",
    "import cpnet\n",
    "\n",
    "from graph_tool import spectral, centrality\n",
    "from netpixi.integration.gt import *\n",
    "from netpixi.integration.gt import Graph\n",
    "from regression.integration.gt import *"
   ]
  },
  {
   "cell_type": "code",
   "execution_count": 2,
   "id": "46d714b8",
   "metadata": {},
   "outputs": [
    {
     "name": "stderr",
     "output_type": "stream",
     "text": [
      "<frozen importlib._bootstrap>:914: ImportWarning: VendorImporter.find_spec() not found; falling back to find_module()\n"
     ]
    },
    {
     "data": {
      "text/html": [
       "<div>\n",
       "<style scoped>\n",
       "    .dataframe tbody tr th:only-of-type {\n",
       "        vertical-align: middle;\n",
       "    }\n",
       "\n",
       "    .dataframe tbody tr th {\n",
       "        vertical-align: top;\n",
       "    }\n",
       "\n",
       "    .dataframe thead th {\n",
       "        text-align: right;\n",
       "    }\n",
       "</style>\n",
       "<table border=\"1\" class=\"dataframe\">\n",
       "  <thead>\n",
       "    <tr style=\"text-align: right;\">\n",
       "      <th></th>\n",
       "      <th>Unnamed: 0.1</th>\n",
       "      <th>Unnamed: 0</th>\n",
       "      <th>country</th>\n",
       "      <th>idh_2000</th>\n",
       "      <th>idh_2001</th>\n",
       "      <th>idh_2002</th>\n",
       "      <th>idh_2003</th>\n",
       "      <th>idh_2004</th>\n",
       "      <th>idh_2005</th>\n",
       "      <th>idh_2006</th>\n",
       "      <th>...</th>\n",
       "      <th>rejected</th>\n",
       "      <th>betweenness</th>\n",
       "      <th>pop_cont</th>\n",
       "      <th>coreness</th>\n",
       "      <th>in_degree</th>\n",
       "      <th>out_degree</th>\n",
       "      <th>open</th>\n",
       "      <th>coreness_discreto</th>\n",
       "      <th>idh_2008_2012</th>\n",
       "      <th>idh_2001_2003</th>\n",
       "    </tr>\n",
       "  </thead>\n",
       "  <tbody>\n",
       "    <tr>\n",
       "      <th>0</th>\n",
       "      <td>0</td>\n",
       "      <td>0</td>\n",
       "      <td>China, Hong Kong SAR</td>\n",
       "      <td>0.830</td>\n",
       "      <td>0.838</td>\n",
       "      <td>0.845</td>\n",
       "      <td>0.854</td>\n",
       "      <td>0.865</td>\n",
       "      <td>0.874</td>\n",
       "      <td>0.886</td>\n",
       "      <td>...</td>\n",
       "      <td>7767</td>\n",
       "      <td>2.861034e-04</td>\n",
       "      <td>0</td>\n",
       "      <td>0.240278</td>\n",
       "      <td>830</td>\n",
       "      <td>16</td>\n",
       "      <td>9.654531</td>\n",
       "      <td>0</td>\n",
       "      <td>0.9050</td>\n",
       "      <td>0.845667</td>\n",
       "    </tr>\n",
       "    <tr>\n",
       "      <th>1</th>\n",
       "      <td>1</td>\n",
       "      <td>1</td>\n",
       "      <td>China, Macao SAR</td>\n",
       "      <td>0.922</td>\n",
       "      <td>0.922</td>\n",
       "      <td>0.922</td>\n",
       "      <td>0.922</td>\n",
       "      <td>0.922</td>\n",
       "      <td>0.922</td>\n",
       "      <td>0.922</td>\n",
       "      <td>...</td>\n",
       "      <td>7</td>\n",
       "      <td>8.704008e-07</td>\n",
       "      <td>0</td>\n",
       "      <td>0.098611</td>\n",
       "      <td>10</td>\n",
       "      <td>3</td>\n",
       "      <td>58.823529</td>\n",
       "      <td>0</td>\n",
       "      <td>0.9220</td>\n",
       "      <td>0.922000</td>\n",
       "    </tr>\n",
       "    <tr>\n",
       "      <th>2</th>\n",
       "      <td>2</td>\n",
       "      <td>2</td>\n",
       "      <td>Afghanistan</td>\n",
       "      <td>0.350</td>\n",
       "      <td>0.353</td>\n",
       "      <td>0.384</td>\n",
       "      <td>0.393</td>\n",
       "      <td>0.409</td>\n",
       "      <td>0.418</td>\n",
       "      <td>0.429</td>\n",
       "      <td>...</td>\n",
       "      <td>243</td>\n",
       "      <td>2.351135e-03</td>\n",
       "      <td>0</td>\n",
       "      <td>0.120833</td>\n",
       "      <td>249</td>\n",
       "      <td>239198</td>\n",
       "      <td>50.609756</td>\n",
       "      <td>0</td>\n",
       "      <td>0.4690</td>\n",
       "      <td>0.376667</td>\n",
       "    </tr>\n",
       "    <tr>\n",
       "      <th>3</th>\n",
       "      <td>3</td>\n",
       "      <td>3</td>\n",
       "      <td>Albania</td>\n",
       "      <td>0.671</td>\n",
       "      <td>0.678</td>\n",
       "      <td>0.684</td>\n",
       "      <td>0.691</td>\n",
       "      <td>0.696</td>\n",
       "      <td>0.706</td>\n",
       "      <td>0.713</td>\n",
       "      <td>...</td>\n",
       "      <td>64</td>\n",
       "      <td>1.306107e-03</td>\n",
       "      <td>0</td>\n",
       "      <td>0.218056</td>\n",
       "      <td>158</td>\n",
       "      <td>14660</td>\n",
       "      <td>71.171171</td>\n",
       "      <td>0</td>\n",
       "      <td>0.7490</td>\n",
       "      <td>0.684333</td>\n",
       "    </tr>\n",
       "    <tr>\n",
       "      <th>4</th>\n",
       "      <td>4</td>\n",
       "      <td>4</td>\n",
       "      <td>Algeria</td>\n",
       "      <td>0.637</td>\n",
       "      <td>0.647</td>\n",
       "      <td>0.657</td>\n",
       "      <td>0.667</td>\n",
       "      <td>0.677</td>\n",
       "      <td>0.685</td>\n",
       "      <td>0.690</td>\n",
       "      <td>...</td>\n",
       "      <td>5511</td>\n",
       "      <td>5.926680e-03</td>\n",
       "      <td>0</td>\n",
       "      <td>0.222222</td>\n",
       "      <td>404</td>\n",
       "      <td>6174</td>\n",
       "      <td>6.830093</td>\n",
       "      <td>0</td>\n",
       "      <td>0.7180</td>\n",
       "      <td>0.657000</td>\n",
       "    </tr>\n",
       "    <tr>\n",
       "      <th>...</th>\n",
       "      <td>...</td>\n",
       "      <td>...</td>\n",
       "      <td>...</td>\n",
       "      <td>...</td>\n",
       "      <td>...</td>\n",
       "      <td>...</td>\n",
       "      <td>...</td>\n",
       "      <td>...</td>\n",
       "      <td>...</td>\n",
       "      <td>...</td>\n",
       "      <td>...</td>\n",
       "      <td>...</td>\n",
       "      <td>...</td>\n",
       "      <td>...</td>\n",
       "      <td>...</td>\n",
       "      <td>...</td>\n",
       "      <td>...</td>\n",
       "      <td>...</td>\n",
       "      <td>...</td>\n",
       "      <td>...</td>\n",
       "      <td>...</td>\n",
       "    </tr>\n",
       "    <tr>\n",
       "      <th>220</th>\n",
       "      <td>220</td>\n",
       "      <td>220</td>\n",
       "      <td>Wallis and Futuna Islands</td>\n",
       "      <td>0.763</td>\n",
       "      <td>0.763</td>\n",
       "      <td>0.763</td>\n",
       "      <td>0.763</td>\n",
       "      <td>0.763</td>\n",
       "      <td>0.763</td>\n",
       "      <td>0.763</td>\n",
       "      <td>...</td>\n",
       "      <td>0</td>\n",
       "      <td>0.000000e+00</td>\n",
       "      <td>0</td>\n",
       "      <td>0.045833</td>\n",
       "      <td>0</td>\n",
       "      <td>0</td>\n",
       "      <td>0.000000</td>\n",
       "      <td>0</td>\n",
       "      <td>0.7630</td>\n",
       "      <td>0.763000</td>\n",
       "    </tr>\n",
       "    <tr>\n",
       "      <th>221</th>\n",
       "      <td>221</td>\n",
       "      <td>221</td>\n",
       "      <td>Western Sahara</td>\n",
       "      <td>0.000</td>\n",
       "      <td>0.000</td>\n",
       "      <td>0.000</td>\n",
       "      <td>0.000</td>\n",
       "      <td>0.000</td>\n",
       "      <td>0.000</td>\n",
       "      <td>0.000</td>\n",
       "      <td>...</td>\n",
       "      <td>0</td>\n",
       "      <td>0.000000e+00</td>\n",
       "      <td>0</td>\n",
       "      <td>0.004167</td>\n",
       "      <td>0</td>\n",
       "      <td>473</td>\n",
       "      <td>0.000000</td>\n",
       "      <td>0</td>\n",
       "      <td>0.0000</td>\n",
       "      <td>0.000000</td>\n",
       "    </tr>\n",
       "    <tr>\n",
       "      <th>222</th>\n",
       "      <td>222</td>\n",
       "      <td>222</td>\n",
       "      <td>Yemen</td>\n",
       "      <td>0.444</td>\n",
       "      <td>0.453</td>\n",
       "      <td>0.461</td>\n",
       "      <td>0.470</td>\n",
       "      <td>0.477</td>\n",
       "      <td>0.483</td>\n",
       "      <td>0.488</td>\n",
       "      <td>...</td>\n",
       "      <td>5730</td>\n",
       "      <td>5.728203e-03</td>\n",
       "      <td>0</td>\n",
       "      <td>0.194444</td>\n",
       "      <td>11977</td>\n",
       "      <td>10037</td>\n",
       "      <td>67.639916</td>\n",
       "      <td>0</td>\n",
       "      <td>0.5026</td>\n",
       "      <td>0.461333</td>\n",
       "    </tr>\n",
       "    <tr>\n",
       "      <th>223</th>\n",
       "      <td>223</td>\n",
       "      <td>223</td>\n",
       "      <td>Zambia</td>\n",
       "      <td>0.425</td>\n",
       "      <td>0.432</td>\n",
       "      <td>0.441</td>\n",
       "      <td>0.451</td>\n",
       "      <td>0.460</td>\n",
       "      <td>0.471</td>\n",
       "      <td>0.482</td>\n",
       "      <td>...</td>\n",
       "      <td>2454</td>\n",
       "      <td>9.805704e-04</td>\n",
       "      <td>0</td>\n",
       "      <td>0.166667</td>\n",
       "      <td>8280</td>\n",
       "      <td>295</td>\n",
       "      <td>77.138066</td>\n",
       "      <td>0</td>\n",
       "      <td>0.5260</td>\n",
       "      <td>0.441333</td>\n",
       "    </tr>\n",
       "    <tr>\n",
       "      <th>224</th>\n",
       "      <td>224</td>\n",
       "      <td>224</td>\n",
       "      <td>Zimbabwe</td>\n",
       "      <td>0.430</td>\n",
       "      <td>0.431</td>\n",
       "      <td>0.423</td>\n",
       "      <td>0.414</td>\n",
       "      <td>0.411</td>\n",
       "      <td>0.411</td>\n",
       "      <td>0.414</td>\n",
       "      <td>...</td>\n",
       "      <td>1315</td>\n",
       "      <td>2.669126e-03</td>\n",
       "      <td>0</td>\n",
       "      <td>0.156944</td>\n",
       "      <td>15749</td>\n",
       "      <td>25778</td>\n",
       "      <td>92.293718</td>\n",
       "      <td>0</td>\n",
       "      <td>0.4772</td>\n",
       "      <td>0.422667</td>\n",
       "    </tr>\n",
       "  </tbody>\n",
       "</table>\n",
       "<p>225 rows × 33 columns</p>\n",
       "</div>"
      ],
      "text/plain": [
       "     Unnamed: 0.1  Unnamed: 0                     country  idh_2000  idh_2001  \\\n",
       "0               0           0        China, Hong Kong SAR     0.830     0.838   \n",
       "1               1           1            China, Macao SAR     0.922     0.922   \n",
       "2               2           2                 Afghanistan     0.350     0.353   \n",
       "3               3           3                     Albania     0.671     0.678   \n",
       "4               4           4                     Algeria     0.637     0.647   \n",
       "..            ...         ...                         ...       ...       ...   \n",
       "220           220         220  Wallis and Futuna Islands      0.763     0.763   \n",
       "221           221         221              Western Sahara     0.000     0.000   \n",
       "222           222         222                       Yemen     0.444     0.453   \n",
       "223           223         223                      Zambia     0.425     0.432   \n",
       "224           224         224                    Zimbabwe     0.430     0.431   \n",
       "\n",
       "     idh_2002  idh_2003  idh_2004  idh_2005  idh_2006  ...  rejected  \\\n",
       "0       0.845     0.854     0.865     0.874     0.886  ...      7767   \n",
       "1       0.922     0.922     0.922     0.922     0.922  ...         7   \n",
       "2       0.384     0.393     0.409     0.418     0.429  ...       243   \n",
       "3       0.684     0.691     0.696     0.706     0.713  ...        64   \n",
       "4       0.657     0.667     0.677     0.685     0.690  ...      5511   \n",
       "..        ...       ...       ...       ...       ...  ...       ...   \n",
       "220     0.763     0.763     0.763     0.763     0.763  ...         0   \n",
       "221     0.000     0.000     0.000     0.000     0.000  ...         0   \n",
       "222     0.461     0.470     0.477     0.483     0.488  ...      5730   \n",
       "223     0.441     0.451     0.460     0.471     0.482  ...      2454   \n",
       "224     0.423     0.414     0.411     0.411     0.414  ...      1315   \n",
       "\n",
       "      betweenness  pop_cont  coreness  in_degree  out_degree       open  \\\n",
       "0    2.861034e-04         0  0.240278        830          16   9.654531   \n",
       "1    8.704008e-07         0  0.098611         10           3  58.823529   \n",
       "2    2.351135e-03         0  0.120833        249      239198  50.609756   \n",
       "3    1.306107e-03         0  0.218056        158       14660  71.171171   \n",
       "4    5.926680e-03         0  0.222222        404        6174   6.830093   \n",
       "..            ...       ...       ...        ...         ...        ...   \n",
       "220  0.000000e+00         0  0.045833          0           0   0.000000   \n",
       "221  0.000000e+00         0  0.004167          0         473   0.000000   \n",
       "222  5.728203e-03         0  0.194444      11977       10037  67.639916   \n",
       "223  9.805704e-04         0  0.166667       8280         295  77.138066   \n",
       "224  2.669126e-03         0  0.156944      15749       25778  92.293718   \n",
       "\n",
       "     coreness_discreto  idh_2008_2012  idh_2001_2003  \n",
       "0                    0         0.9050       0.845667  \n",
       "1                    0         0.9220       0.922000  \n",
       "2                    0         0.4690       0.376667  \n",
       "3                    0         0.7490       0.684333  \n",
       "4                    0         0.7180       0.657000  \n",
       "..                 ...            ...            ...  \n",
       "220                  0         0.7630       0.763000  \n",
       "221                  0         0.0000       0.000000  \n",
       "222                  0         0.5026       0.461333  \n",
       "223                  0         0.5260       0.441333  \n",
       "224                  0         0.4772       0.422667  \n",
       "\n",
       "[225 rows x 33 columns]"
      ]
     },
     "execution_count": 2,
     "metadata": {},
     "output_type": "execute_result"
    }
   ],
   "source": [
    "data = pd.read_excel('./final_db.xlsx')\n",
    "data"
   ]
  },
  {
   "cell_type": "code",
   "execution_count": 3,
   "id": "ea848f0b",
   "metadata": {},
   "outputs": [
    {
     "name": "stderr",
     "output_type": "stream",
     "text": [
      "<frozen importlib._bootstrap>:914: ImportWarning: VendorImporter.find_spec() not found; falling back to find_module()\n",
      "/tmp/ipykernel_12/1764240694.py:1: DtypeWarning: Columns (4,5,6,7,8,9,10,11,12,13) have mixed types. Specify dtype option on import or set low_memory=False.\n",
      "  df_completo = pd.read_csv('../Projeto-rascunho/asylum_seekers.csv')\n"
     ]
    },
    {
     "data": {
      "text/html": [
       "<div>\n",
       "<style scoped>\n",
       "    .dataframe tbody tr th:only-of-type {\n",
       "        vertical-align: middle;\n",
       "    }\n",
       "\n",
       "    .dataframe tbody tr th {\n",
       "        vertical-align: top;\n",
       "    }\n",
       "\n",
       "    .dataframe thead th {\n",
       "        text-align: right;\n",
       "    }\n",
       "</style>\n",
       "<table border=\"1\" class=\"dataframe\">\n",
       "  <thead>\n",
       "    <tr style=\"text-align: right;\">\n",
       "      <th></th>\n",
       "      <th>Year</th>\n",
       "      <th>Country / territory of asylum/residence</th>\n",
       "      <th>Origin</th>\n",
       "      <th>RSD procedure type / level</th>\n",
       "      <th>Tota pending start-year</th>\n",
       "      <th>of which UNHCR-assisted(start-year)</th>\n",
       "      <th>Applied during year</th>\n",
       "      <th>decisions_recognized</th>\n",
       "      <th>decisions_other</th>\n",
       "      <th>Rejected</th>\n",
       "      <th>Otherwise closed</th>\n",
       "      <th>Total decisions</th>\n",
       "      <th>Total pending end-year</th>\n",
       "      <th>of which UNHCR-assisted(end-year)</th>\n",
       "    </tr>\n",
       "  </thead>\n",
       "  <tbody>\n",
       "    <tr>\n",
       "      <th>0</th>\n",
       "      <td>2000</td>\n",
       "      <td>Zimbabwe</td>\n",
       "      <td>Afghanistan</td>\n",
       "      <td>G / FI</td>\n",
       "      <td>0</td>\n",
       "      <td>0</td>\n",
       "      <td>5</td>\n",
       "      <td>5</td>\n",
       "      <td>0</td>\n",
       "      <td>0</td>\n",
       "      <td>0</td>\n",
       "      <td>5.0</td>\n",
       "      <td>0</td>\n",
       "      <td>0</td>\n",
       "    </tr>\n",
       "    <tr>\n",
       "      <th>1</th>\n",
       "      <td>2000</td>\n",
       "      <td>South Africa</td>\n",
       "      <td>Afghanistan</td>\n",
       "      <td>G / FI</td>\n",
       "      <td>8</td>\n",
       "      <td>1</td>\n",
       "      <td>0</td>\n",
       "      <td>0</td>\n",
       "      <td>0</td>\n",
       "      <td>0</td>\n",
       "      <td>0</td>\n",
       "      <td>NaN</td>\n",
       "      <td>8</td>\n",
       "      <td>0</td>\n",
       "    </tr>\n",
       "    <tr>\n",
       "      <th>2</th>\n",
       "      <td>2000</td>\n",
       "      <td>Uzbekistan</td>\n",
       "      <td>Afghanistan</td>\n",
       "      <td>U / FI</td>\n",
       "      <td>265</td>\n",
       "      <td>265</td>\n",
       "      <td>2156</td>\n",
       "      <td>747</td>\n",
       "      <td>0</td>\n",
       "      <td>112</td>\n",
       "      <td>327</td>\n",
       "      <td>1186.0</td>\n",
       "      <td>1235</td>\n",
       "      <td>1235</td>\n",
       "    </tr>\n",
       "    <tr>\n",
       "      <th>3</th>\n",
       "      <td>2000</td>\n",
       "      <td>United States of America</td>\n",
       "      <td>Afghanistan</td>\n",
       "      <td>G / EO</td>\n",
       "      <td>196</td>\n",
       "      <td>0</td>\n",
       "      <td>225</td>\n",
       "      <td>151</td>\n",
       "      <td>0</td>\n",
       "      <td>31</td>\n",
       "      <td>68</td>\n",
       "      <td>250.0</td>\n",
       "      <td>171</td>\n",
       "      <td>0</td>\n",
       "    </tr>\n",
       "    <tr>\n",
       "      <th>4</th>\n",
       "      <td>2000</td>\n",
       "      <td>United States of America</td>\n",
       "      <td>Afghanistan</td>\n",
       "      <td>G / IN</td>\n",
       "      <td>193</td>\n",
       "      <td>0</td>\n",
       "      <td>218</td>\n",
       "      <td>182</td>\n",
       "      <td>0</td>\n",
       "      <td>51</td>\n",
       "      <td>40</td>\n",
       "      <td>273.0</td>\n",
       "      <td>150</td>\n",
       "      <td>0</td>\n",
       "    </tr>\n",
       "    <tr>\n",
       "      <th>...</th>\n",
       "      <td>...</td>\n",
       "      <td>...</td>\n",
       "      <td>...</td>\n",
       "      <td>...</td>\n",
       "      <td>...</td>\n",
       "      <td>...</td>\n",
       "      <td>...</td>\n",
       "      <td>...</td>\n",
       "      <td>...</td>\n",
       "      <td>...</td>\n",
       "      <td>...</td>\n",
       "      <td>...</td>\n",
       "      <td>...</td>\n",
       "      <td>...</td>\n",
       "    </tr>\n",
       "    <tr>\n",
       "      <th>129715</th>\n",
       "      <td>2016</td>\n",
       "      <td>United States of America</td>\n",
       "      <td>Zimbabwe</td>\n",
       "      <td>G / IN</td>\n",
       "      <td>232</td>\n",
       "      <td>NaN</td>\n",
       "      <td>229</td>\n",
       "      <td>16</td>\n",
       "      <td>NaN</td>\n",
       "      <td>*</td>\n",
       "      <td>10</td>\n",
       "      <td>28</td>\n",
       "      <td>435</td>\n",
       "      <td>NaN</td>\n",
       "    </tr>\n",
       "    <tr>\n",
       "      <th>129716</th>\n",
       "      <td>2016</td>\n",
       "      <td>United States of America</td>\n",
       "      <td>Zimbabwe</td>\n",
       "      <td>G / EO</td>\n",
       "      <td>142</td>\n",
       "      <td>NaN</td>\n",
       "      <td>12</td>\n",
       "      <td>*</td>\n",
       "      <td>NaN</td>\n",
       "      <td>*</td>\n",
       "      <td>23</td>\n",
       "      <td>31</td>\n",
       "      <td>138</td>\n",
       "      <td>NaN</td>\n",
       "    </tr>\n",
       "    <tr>\n",
       "      <th>129717</th>\n",
       "      <td>2016</td>\n",
       "      <td>South Africa</td>\n",
       "      <td>Zimbabwe</td>\n",
       "      <td>G / AR</td>\n",
       "      <td>94</td>\n",
       "      <td>9</td>\n",
       "      <td>NaN</td>\n",
       "      <td>NaN</td>\n",
       "      <td>NaN</td>\n",
       "      <td>NaN</td>\n",
       "      <td>94</td>\n",
       "      <td>94</td>\n",
       "      <td>0</td>\n",
       "      <td>NaN</td>\n",
       "    </tr>\n",
       "    <tr>\n",
       "      <th>129718</th>\n",
       "      <td>2016</td>\n",
       "      <td>South Africa</td>\n",
       "      <td>Zimbabwe</td>\n",
       "      <td>G / FI</td>\n",
       "      <td>41238</td>\n",
       "      <td>4124</td>\n",
       "      <td>7964</td>\n",
       "      <td>73</td>\n",
       "      <td>NaN</td>\n",
       "      <td>7869</td>\n",
       "      <td>NaN</td>\n",
       "      <td>7942</td>\n",
       "      <td>41260</td>\n",
       "      <td>NaN</td>\n",
       "    </tr>\n",
       "    <tr>\n",
       "      <th>129719</th>\n",
       "      <td>2016</td>\n",
       "      <td>Zambia</td>\n",
       "      <td>Zimbabwe</td>\n",
       "      <td>G / FI</td>\n",
       "      <td>*</td>\n",
       "      <td>*</td>\n",
       "      <td>*</td>\n",
       "      <td>0</td>\n",
       "      <td>NaN</td>\n",
       "      <td>*</td>\n",
       "      <td>*</td>\n",
       "      <td>*</td>\n",
       "      <td>*</td>\n",
       "      <td>*</td>\n",
       "    </tr>\n",
       "  </tbody>\n",
       "</table>\n",
       "<p>129720 rows × 14 columns</p>\n",
       "</div>"
      ],
      "text/plain": [
       "        Year Country / territory of asylum/residence       Origin  \\\n",
       "0       2000                                Zimbabwe  Afghanistan   \n",
       "1       2000                            South Africa  Afghanistan   \n",
       "2       2000                              Uzbekistan  Afghanistan   \n",
       "3       2000                United States of America  Afghanistan   \n",
       "4       2000                United States of America  Afghanistan   \n",
       "...      ...                                     ...          ...   \n",
       "129715  2016                United States of America     Zimbabwe   \n",
       "129716  2016                United States of America     Zimbabwe   \n",
       "129717  2016                            South Africa     Zimbabwe   \n",
       "129718  2016                            South Africa     Zimbabwe   \n",
       "129719  2016                                  Zambia     Zimbabwe   \n",
       "\n",
       "       RSD procedure type / level Tota pending start-year  \\\n",
       "0                          G / FI                       0   \n",
       "1                          G / FI                       8   \n",
       "2                          U / FI                     265   \n",
       "3                          G / EO                     196   \n",
       "4                          G / IN                     193   \n",
       "...                           ...                     ...   \n",
       "129715                     G / IN                     232   \n",
       "129716                     G / EO                     142   \n",
       "129717                     G / AR                      94   \n",
       "129718                     G / FI                   41238   \n",
       "129719                     G / FI                       *   \n",
       "\n",
       "       of which UNHCR-assisted(start-year) Applied during year  \\\n",
       "0                                        0                   5   \n",
       "1                                        1                   0   \n",
       "2                                      265                2156   \n",
       "3                                        0                 225   \n",
       "4                                        0                 218   \n",
       "...                                    ...                 ...   \n",
       "129715                                 NaN                 229   \n",
       "129716                                 NaN                  12   \n",
       "129717                                   9                 NaN   \n",
       "129718                                4124                7964   \n",
       "129719                                   *                   *   \n",
       "\n",
       "       decisions_recognized decisions_other Rejected Otherwise closed  \\\n",
       "0                         5               0        0                0   \n",
       "1                         0               0        0                0   \n",
       "2                       747               0      112              327   \n",
       "3                       151               0       31               68   \n",
       "4                       182               0       51               40   \n",
       "...                     ...             ...      ...              ...   \n",
       "129715                   16             NaN        *               10   \n",
       "129716                    *             NaN        *               23   \n",
       "129717                  NaN             NaN      NaN               94   \n",
       "129718                   73             NaN     7869              NaN   \n",
       "129719                    0             NaN        *                *   \n",
       "\n",
       "       Total decisions Total pending end-year  \\\n",
       "0                  5.0                      0   \n",
       "1                  NaN                      8   \n",
       "2               1186.0                   1235   \n",
       "3                250.0                    171   \n",
       "4                273.0                    150   \n",
       "...                ...                    ...   \n",
       "129715              28                    435   \n",
       "129716              31                    138   \n",
       "129717              94                      0   \n",
       "129718            7942                  41260   \n",
       "129719               *                      *   \n",
       "\n",
       "       of which UNHCR-assisted(end-year)  \n",
       "0                                      0  \n",
       "1                                      0  \n",
       "2                                   1235  \n",
       "3                                      0  \n",
       "4                                      0  \n",
       "...                                  ...  \n",
       "129715                               NaN  \n",
       "129716                               NaN  \n",
       "129717                               NaN  \n",
       "129718                               NaN  \n",
       "129719                                 *  \n",
       "\n",
       "[129720 rows x 14 columns]"
      ]
     },
     "execution_count": 3,
     "metadata": {},
     "output_type": "execute_result"
    }
   ],
   "source": [
    "df_completo = pd.read_csv('../Projeto-rascunho/asylum_seekers.csv')\n",
    "df_completo"
   ]
  },
  {
   "cell_type": "code",
   "execution_count": 4,
   "id": "5506e605",
   "metadata": {},
   "outputs": [
    {
     "data": {
      "text/html": [
       "<div>\n",
       "<style scoped>\n",
       "    .dataframe tbody tr th:only-of-type {\n",
       "        vertical-align: middle;\n",
       "    }\n",
       "\n",
       "    .dataframe tbody tr th {\n",
       "        vertical-align: top;\n",
       "    }\n",
       "\n",
       "    .dataframe thead th {\n",
       "        text-align: right;\n",
       "    }\n",
       "</style>\n",
       "<table border=\"1\" class=\"dataframe\">\n",
       "  <thead>\n",
       "    <tr style=\"text-align: right;\">\n",
       "      <th></th>\n",
       "      <th>destiny</th>\n",
       "      <th>origin</th>\n",
       "      <th>value</th>\n",
       "      <th>rejected</th>\n",
       "      <th>year</th>\n",
       "    </tr>\n",
       "  </thead>\n",
       "  <tbody>\n",
       "    <tr>\n",
       "      <th>0</th>\n",
       "      <td>Zimbabwe</td>\n",
       "      <td>Afghanistan</td>\n",
       "      <td>5</td>\n",
       "      <td>0</td>\n",
       "      <td>2000</td>\n",
       "    </tr>\n",
       "    <tr>\n",
       "      <th>1</th>\n",
       "      <td>South Africa</td>\n",
       "      <td>Afghanistan</td>\n",
       "      <td>0</td>\n",
       "      <td>0</td>\n",
       "      <td>2000</td>\n",
       "    </tr>\n",
       "    <tr>\n",
       "      <th>2</th>\n",
       "      <td>Uzbekistan</td>\n",
       "      <td>Afghanistan</td>\n",
       "      <td>747</td>\n",
       "      <td>112</td>\n",
       "      <td>2000</td>\n",
       "    </tr>\n",
       "    <tr>\n",
       "      <th>3</th>\n",
       "      <td>United States of America</td>\n",
       "      <td>Afghanistan</td>\n",
       "      <td>151</td>\n",
       "      <td>31</td>\n",
       "      <td>2000</td>\n",
       "    </tr>\n",
       "    <tr>\n",
       "      <th>4</th>\n",
       "      <td>United States of America</td>\n",
       "      <td>Afghanistan</td>\n",
       "      <td>182</td>\n",
       "      <td>51</td>\n",
       "      <td>2000</td>\n",
       "    </tr>\n",
       "    <tr>\n",
       "      <th>...</th>\n",
       "      <td>...</td>\n",
       "      <td>...</td>\n",
       "      <td>...</td>\n",
       "      <td>...</td>\n",
       "      <td>...</td>\n",
       "    </tr>\n",
       "    <tr>\n",
       "      <th>129715</th>\n",
       "      <td>United States of America</td>\n",
       "      <td>Zimbabwe</td>\n",
       "      <td>16</td>\n",
       "      <td>*</td>\n",
       "      <td>2016</td>\n",
       "    </tr>\n",
       "    <tr>\n",
       "      <th>129716</th>\n",
       "      <td>United States of America</td>\n",
       "      <td>Zimbabwe</td>\n",
       "      <td>*</td>\n",
       "      <td>*</td>\n",
       "      <td>2016</td>\n",
       "    </tr>\n",
       "    <tr>\n",
       "      <th>129717</th>\n",
       "      <td>South Africa</td>\n",
       "      <td>Zimbabwe</td>\n",
       "      <td>NaN</td>\n",
       "      <td>NaN</td>\n",
       "      <td>2016</td>\n",
       "    </tr>\n",
       "    <tr>\n",
       "      <th>129718</th>\n",
       "      <td>South Africa</td>\n",
       "      <td>Zimbabwe</td>\n",
       "      <td>73</td>\n",
       "      <td>7869</td>\n",
       "      <td>2016</td>\n",
       "    </tr>\n",
       "    <tr>\n",
       "      <th>129719</th>\n",
       "      <td>Zambia</td>\n",
       "      <td>Zimbabwe</td>\n",
       "      <td>0</td>\n",
       "      <td>*</td>\n",
       "      <td>2016</td>\n",
       "    </tr>\n",
       "  </tbody>\n",
       "</table>\n",
       "<p>129720 rows × 5 columns</p>\n",
       "</div>"
      ],
      "text/plain": [
       "                         destiny       origin value rejected  year\n",
       "0                       Zimbabwe  Afghanistan     5        0  2000\n",
       "1                   South Africa  Afghanistan     0        0  2000\n",
       "2                     Uzbekistan  Afghanistan   747      112  2000\n",
       "3       United States of America  Afghanistan   151       31  2000\n",
       "4       United States of America  Afghanistan   182       51  2000\n",
       "...                          ...          ...   ...      ...   ...\n",
       "129715  United States of America     Zimbabwe    16        *  2016\n",
       "129716  United States of America     Zimbabwe     *        *  2016\n",
       "129717              South Africa     Zimbabwe   NaN      NaN  2016\n",
       "129718              South Africa     Zimbabwe    73     7869  2016\n",
       "129719                    Zambia     Zimbabwe     0        *  2016\n",
       "\n",
       "[129720 rows x 5 columns]"
      ]
     },
     "execution_count": 4,
     "metadata": {},
     "output_type": "execute_result"
    }
   ],
   "source": [
    "df_aresta = df_completo.loc[:, ['Country / territory of asylum/residence', 'Origin', 'decisions_recognized', 'Rejected', 'Year']]\n",
    "df_aresta = df_aresta.rename(columns={'Origin': 'origin', 'Country / territory of asylum/residence': 'destiny', 'decisions_recognized': 'value', 'Rejected': 'rejected','Year' : 'year'})\n",
    "df_aresta"
   ]
  },
  {
   "cell_type": "code",
   "execution_count": 5,
   "id": "4af09ca1",
   "metadata": {},
   "outputs": [
    {
     "data": {
      "text/html": [
       "<div>\n",
       "<style scoped>\n",
       "    .dataframe tbody tr th:only-of-type {\n",
       "        vertical-align: middle;\n",
       "    }\n",
       "\n",
       "    .dataframe tbody tr th {\n",
       "        vertical-align: top;\n",
       "    }\n",
       "\n",
       "    .dataframe thead th {\n",
       "        text-align: right;\n",
       "    }\n",
       "</style>\n",
       "<table border=\"1\" class=\"dataframe\">\n",
       "  <thead>\n",
       "    <tr style=\"text-align: right;\">\n",
       "      <th></th>\n",
       "      <th>destiny</th>\n",
       "      <th>origin</th>\n",
       "      <th>value</th>\n",
       "      <th>rejected</th>\n",
       "      <th>year</th>\n",
       "    </tr>\n",
       "  </thead>\n",
       "  <tbody>\n",
       "    <tr>\n",
       "      <th>0</th>\n",
       "      <td>Zimbabwe</td>\n",
       "      <td>Afghanistan</td>\n",
       "      <td>5.0</td>\n",
       "      <td>0</td>\n",
       "      <td>2000</td>\n",
       "    </tr>\n",
       "    <tr>\n",
       "      <th>1</th>\n",
       "      <td>South Africa</td>\n",
       "      <td>Afghanistan</td>\n",
       "      <td>0.0</td>\n",
       "      <td>0</td>\n",
       "      <td>2000</td>\n",
       "    </tr>\n",
       "    <tr>\n",
       "      <th>2</th>\n",
       "      <td>Uzbekistan</td>\n",
       "      <td>Afghanistan</td>\n",
       "      <td>747.0</td>\n",
       "      <td>112</td>\n",
       "      <td>2000</td>\n",
       "    </tr>\n",
       "    <tr>\n",
       "      <th>3</th>\n",
       "      <td>United States of America</td>\n",
       "      <td>Afghanistan</td>\n",
       "      <td>151.0</td>\n",
       "      <td>31</td>\n",
       "      <td>2000</td>\n",
       "    </tr>\n",
       "    <tr>\n",
       "      <th>4</th>\n",
       "      <td>United States of America</td>\n",
       "      <td>Afghanistan</td>\n",
       "      <td>182.0</td>\n",
       "      <td>51</td>\n",
       "      <td>2000</td>\n",
       "    </tr>\n",
       "    <tr>\n",
       "      <th>...</th>\n",
       "      <td>...</td>\n",
       "      <td>...</td>\n",
       "      <td>...</td>\n",
       "      <td>...</td>\n",
       "      <td>...</td>\n",
       "    </tr>\n",
       "    <tr>\n",
       "      <th>129715</th>\n",
       "      <td>United States of America</td>\n",
       "      <td>Zimbabwe</td>\n",
       "      <td>16.0</td>\n",
       "      <td>*</td>\n",
       "      <td>2016</td>\n",
       "    </tr>\n",
       "    <tr>\n",
       "      <th>129716</th>\n",
       "      <td>United States of America</td>\n",
       "      <td>Zimbabwe</td>\n",
       "      <td>0.0</td>\n",
       "      <td>*</td>\n",
       "      <td>2016</td>\n",
       "    </tr>\n",
       "    <tr>\n",
       "      <th>129717</th>\n",
       "      <td>South Africa</td>\n",
       "      <td>Zimbabwe</td>\n",
       "      <td>0.0</td>\n",
       "      <td>NaN</td>\n",
       "      <td>2016</td>\n",
       "    </tr>\n",
       "    <tr>\n",
       "      <th>129718</th>\n",
       "      <td>South Africa</td>\n",
       "      <td>Zimbabwe</td>\n",
       "      <td>73.0</td>\n",
       "      <td>7869</td>\n",
       "      <td>2016</td>\n",
       "    </tr>\n",
       "    <tr>\n",
       "      <th>129719</th>\n",
       "      <td>Zambia</td>\n",
       "      <td>Zimbabwe</td>\n",
       "      <td>0.0</td>\n",
       "      <td>*</td>\n",
       "      <td>2016</td>\n",
       "    </tr>\n",
       "  </tbody>\n",
       "</table>\n",
       "<p>129720 rows × 5 columns</p>\n",
       "</div>"
      ],
      "text/plain": [
       "                         destiny       origin  value rejected  year\n",
       "0                       Zimbabwe  Afghanistan    5.0        0  2000\n",
       "1                   South Africa  Afghanistan    0.0        0  2000\n",
       "2                     Uzbekistan  Afghanistan  747.0      112  2000\n",
       "3       United States of America  Afghanistan  151.0       31  2000\n",
       "4       United States of America  Afghanistan  182.0       51  2000\n",
       "...                          ...          ...    ...      ...   ...\n",
       "129715  United States of America     Zimbabwe   16.0        *  2016\n",
       "129716  United States of America     Zimbabwe    0.0        *  2016\n",
       "129717              South Africa     Zimbabwe    0.0      NaN  2016\n",
       "129718              South Africa     Zimbabwe   73.0     7869  2016\n",
       "129719                    Zambia     Zimbabwe    0.0        *  2016\n",
       "\n",
       "[129720 rows x 5 columns]"
      ]
     },
     "execution_count": 5,
     "metadata": {},
     "output_type": "execute_result"
    }
   ],
   "source": [
    "df_aresta.value = pd.to_numeric(df_aresta['value'], errors = 'coerce').fillna(0)\n",
    "df_aresta"
   ]
  },
  {
   "cell_type": "markdown",
   "id": "71da50b1",
   "metadata": {},
   "source": [
    "#### Recorte pelos anos\n",
    "\n",
    "Abaixo, realizamos o recorte da base de dados de acordo com os anos propostos no recorte (2001 a 2003)."
   ]
  },
  {
   "cell_type": "code",
   "execution_count": 6,
   "id": "af39c59e",
   "metadata": {},
   "outputs": [
    {
     "data": {
      "text/html": [
       "<div>\n",
       "<style scoped>\n",
       "    .dataframe tbody tr th:only-of-type {\n",
       "        vertical-align: middle;\n",
       "    }\n",
       "\n",
       "    .dataframe tbody tr th {\n",
       "        vertical-align: top;\n",
       "    }\n",
       "\n",
       "    .dataframe thead th {\n",
       "        text-align: right;\n",
       "    }\n",
       "</style>\n",
       "<table border=\"1\" class=\"dataframe\">\n",
       "  <thead>\n",
       "    <tr style=\"text-align: right;\">\n",
       "      <th></th>\n",
       "      <th>destiny</th>\n",
       "      <th>origin</th>\n",
       "      <th>value</th>\n",
       "      <th>rejected</th>\n",
       "      <th>year</th>\n",
       "    </tr>\n",
       "  </thead>\n",
       "  <tbody>\n",
       "    <tr>\n",
       "      <th>5153</th>\n",
       "      <td>South Africa</td>\n",
       "      <td>Afghanistan</td>\n",
       "      <td>0.0</td>\n",
       "      <td>0</td>\n",
       "      <td>2001</td>\n",
       "    </tr>\n",
       "    <tr>\n",
       "      <th>5154</th>\n",
       "      <td>South Africa</td>\n",
       "      <td>Afghanistan</td>\n",
       "      <td>5.0</td>\n",
       "      <td>2</td>\n",
       "      <td>2001</td>\n",
       "    </tr>\n",
       "    <tr>\n",
       "      <th>5155</th>\n",
       "      <td>Uzbekistan</td>\n",
       "      <td>Afghanistan</td>\n",
       "      <td>1573.0</td>\n",
       "      <td>247</td>\n",
       "      <td>2001</td>\n",
       "    </tr>\n",
       "    <tr>\n",
       "      <th>5156</th>\n",
       "      <td>United States of America</td>\n",
       "      <td>Afghanistan</td>\n",
       "      <td>129.0</td>\n",
       "      <td>27</td>\n",
       "      <td>2001</td>\n",
       "    </tr>\n",
       "    <tr>\n",
       "      <th>5157</th>\n",
       "      <td>United States of America</td>\n",
       "      <td>Afghanistan</td>\n",
       "      <td>212.0</td>\n",
       "      <td>43</td>\n",
       "      <td>2001</td>\n",
       "    </tr>\n",
       "    <tr>\n",
       "      <th>...</th>\n",
       "      <td>...</td>\n",
       "      <td>...</td>\n",
       "      <td>...</td>\n",
       "      <td>...</td>\n",
       "      <td>...</td>\n",
       "    </tr>\n",
       "    <tr>\n",
       "      <th>22911</th>\n",
       "      <td>Ukraine</td>\n",
       "      <td>Zimbabwe</td>\n",
       "      <td>0.0</td>\n",
       "      <td>2</td>\n",
       "      <td>2003</td>\n",
       "    </tr>\n",
       "    <tr>\n",
       "      <th>22912</th>\n",
       "      <td>Ukraine</td>\n",
       "      <td>Zimbabwe</td>\n",
       "      <td>0.0</td>\n",
       "      <td>1</td>\n",
       "      <td>2003</td>\n",
       "    </tr>\n",
       "    <tr>\n",
       "      <th>22913</th>\n",
       "      <td>United States of America</td>\n",
       "      <td>Zimbabwe</td>\n",
       "      <td>115.0</td>\n",
       "      <td>160</td>\n",
       "      <td>2003</td>\n",
       "    </tr>\n",
       "    <tr>\n",
       "      <th>22914</th>\n",
       "      <td>United States of America</td>\n",
       "      <td>Zimbabwe</td>\n",
       "      <td>54.0</td>\n",
       "      <td>72</td>\n",
       "      <td>2003</td>\n",
       "    </tr>\n",
       "    <tr>\n",
       "      <th>22915</th>\n",
       "      <td>South Africa</td>\n",
       "      <td>Zimbabwe</td>\n",
       "      <td>9.0</td>\n",
       "      <td>16</td>\n",
       "      <td>2003</td>\n",
       "    </tr>\n",
       "  </tbody>\n",
       "</table>\n",
       "<p>17763 rows × 5 columns</p>\n",
       "</div>"
      ],
      "text/plain": [
       "                        destiny       origin   value rejected  year\n",
       "5153               South Africa  Afghanistan     0.0        0  2001\n",
       "5154               South Africa  Afghanistan     5.0        2  2001\n",
       "5155                 Uzbekistan  Afghanistan  1573.0      247  2001\n",
       "5156   United States of America  Afghanistan   129.0       27  2001\n",
       "5157   United States of America  Afghanistan   212.0       43  2001\n",
       "...                         ...          ...     ...      ...   ...\n",
       "22911                   Ukraine     Zimbabwe     0.0        2  2003\n",
       "22912                   Ukraine     Zimbabwe     0.0        1  2003\n",
       "22913  United States of America     Zimbabwe   115.0      160  2003\n",
       "22914  United States of America     Zimbabwe    54.0       72  2003\n",
       "22915              South Africa     Zimbabwe     9.0       16  2003\n",
       "\n",
       "[17763 rows x 5 columns]"
      ]
     },
     "execution_count": 6,
     "metadata": {},
     "output_type": "execute_result"
    }
   ],
   "source": [
    "df_aresta_2001_2003 = df_aresta[((df_aresta['year'] == 2001) | (df_aresta['year'] == 2002) | (df_aresta['year'] == 2003))]\n",
    "df_aresta_2001_2003"
   ]
  },
  {
   "cell_type": "code",
   "execution_count": 7,
   "id": "91dedbb9",
   "metadata": {},
   "outputs": [],
   "source": [
    "df_aresta_2001_2003 = df_aresta_2001_2003.drop('year', axis=1)"
   ]
  },
  {
   "cell_type": "code",
   "execution_count": 8,
   "id": "cf80f961",
   "metadata": {},
   "outputs": [],
   "source": [
    "df_aresta_2001_2003.value = df_aresta_2001_2003['value'].astype(int)\n",
    "df_aresta_2001_2003.rejected = df_aresta_2001_2003['rejected'].astype(int)"
   ]
  },
  {
   "cell_type": "code",
   "execution_count": 9,
   "id": "afd15a14",
   "metadata": {},
   "outputs": [
    {
     "name": "stdout",
     "output_type": "stream",
     "text": [
      "<class 'pandas.core.frame.DataFrame'>\n",
      "Int64Index: 17763 entries, 5153 to 22915\n",
      "Data columns (total 4 columns):\n",
      " #   Column    Non-Null Count  Dtype \n",
      "---  ------    --------------  ----- \n",
      " 0   destiny   17763 non-null  object\n",
      " 1   origin    17763 non-null  object\n",
      " 2   value     17763 non-null  int64 \n",
      " 3   rejected  17763 non-null  int64 \n",
      "dtypes: int64(2), object(2)\n",
      "memory usage: 693.9+ KB\n"
     ]
    }
   ],
   "source": [
    "df_aresta_2001_2003.info()"
   ]
  },
  {
   "cell_type": "code",
   "execution_count": 10,
   "id": "c0e82c16",
   "metadata": {},
   "outputs": [
    {
     "data": {
      "text/plain": [
       "['Austria',\n",
       " 'Belgium',\n",
       " 'Bulgaria',\n",
       " 'Canada',\n",
       " 'Czech Rep.',\n",
       " 'Cyprus',\n",
       " 'Denmark',\n",
       " 'Estonia',\n",
       " 'Finland',\n",
       " 'France',\n",
       " 'Germany',\n",
       " 'Greece',\n",
       " 'Hungary',\n",
       " 'Ireland',\n",
       " 'Italy',\n",
       " 'Latvia',\n",
       " 'Lithuania',\n",
       " 'Luxembourg',\n",
       " 'Malta',\n",
       " 'Netherlands',\n",
       " 'Poland',\n",
       " 'Portugal',\n",
       " 'Romania',\n",
       " 'Slovakia',\n",
       " 'Slovenia',\n",
       " 'Spain',\n",
       " 'Sweden',\n",
       " 'United States of America']"
      ]
     },
     "execution_count": 10,
     "metadata": {},
     "output_type": "execute_result"
    }
   ],
   "source": [
    "paises_eu_america =  pd.read_csv('./eu_america.csv')\n",
    "lista_paises_eu_america = paises_eu_america['EU_North_America'].to_list()\n",
    "lista_paises_eu_america"
   ]
  },
  {
   "cell_type": "markdown",
   "id": "3795051a",
   "metadata": {},
   "source": [
    "Tabela filtrada com anos de 2001-2003 e países da África em lista."
   ]
  },
  {
   "cell_type": "markdown",
   "id": "d2c2a326",
   "metadata": {},
   "source": [
    "Agora vamos calcular o coreness desse ano e depois analisar para a região da África."
   ]
  },
  {
   "cell_type": "code",
   "execution_count": 11,
   "id": "df6bcb15",
   "metadata": {},
   "outputs": [
    {
     "name": "stdout",
     "output_type": "stream",
     "text": [
      "225\n"
     ]
    }
   ],
   "source": [
    "listaVertices = []\n",
    "\n",
    "listaVertices = set(df_completo['Country / territory of asylum/residence'].unique().tolist() + df_completo['Origin'].unique().tolist())\n",
    "\n",
    "print(len(listaVertices))"
   ]
  },
  {
   "cell_type": "markdown",
   "id": "ae47639f",
   "metadata": {},
   "source": [
    "Primeiro vamos calcular o betweenness para esse intervalo de anos, mas para isso precisamos do grafo:"
   ]
  },
  {
   "cell_type": "code",
   "execution_count": 12,
   "id": "9c0ad8ca",
   "metadata": {},
   "outputs": [],
   "source": [
    "# Criando um grafo não-dirigido\n",
    "g = Graph(directed=True) \n",
    "g.add_vp('nome')\n",
    "g.add_ep('aceitos')"
   ]
  },
  {
   "cell_type": "code",
   "execution_count": 13,
   "id": "85e56ee0",
   "metadata": {},
   "outputs": [],
   "source": [
    "for vertice in listaVertices:\n",
    "    g.add_vertex(vertice)"
   ]
  },
  {
   "cell_type": "code",
   "execution_count": 14,
   "id": "65f13b0b",
   "metadata": {},
   "outputs": [],
   "source": [
    "for v in g.all_vertices():\n",
    "    v['nome'] = str(v)"
   ]
  },
  {
   "cell_type": "code",
   "execution_count": 15,
   "id": "22d6ff67",
   "metadata": {},
   "outputs": [
    {
     "name": "stdout",
     "output_type": "stream",
     "text": [
      "O número de vértices do grafo é : 225\n"
     ]
    }
   ],
   "source": [
    "n = g.num_vertices()\n",
    "print('O número de vértices do grafo é :', n)"
   ]
  },
  {
   "cell_type": "markdown",
   "id": "72ac6333",
   "metadata": {},
   "source": [
    "Selecionando dados em que o destino e a origem são diferentes:"
   ]
  },
  {
   "cell_type": "code",
   "execution_count": 16,
   "id": "dc7faf32",
   "metadata": {},
   "outputs": [
    {
     "data": {
      "text/html": [
       "<div>\n",
       "<style scoped>\n",
       "    .dataframe tbody tr th:only-of-type {\n",
       "        vertical-align: middle;\n",
       "    }\n",
       "\n",
       "    .dataframe tbody tr th {\n",
       "        vertical-align: top;\n",
       "    }\n",
       "\n",
       "    .dataframe thead th {\n",
       "        text-align: right;\n",
       "    }\n",
       "</style>\n",
       "<table border=\"1\" class=\"dataframe\">\n",
       "  <thead>\n",
       "    <tr style=\"text-align: right;\">\n",
       "      <th></th>\n",
       "      <th>destiny</th>\n",
       "      <th>origin</th>\n",
       "      <th>value</th>\n",
       "      <th>rejected</th>\n",
       "    </tr>\n",
       "  </thead>\n",
       "  <tbody>\n",
       "    <tr>\n",
       "      <th>5153</th>\n",
       "      <td>South Africa</td>\n",
       "      <td>Afghanistan</td>\n",
       "      <td>0</td>\n",
       "      <td>0</td>\n",
       "    </tr>\n",
       "    <tr>\n",
       "      <th>5154</th>\n",
       "      <td>South Africa</td>\n",
       "      <td>Afghanistan</td>\n",
       "      <td>5</td>\n",
       "      <td>2</td>\n",
       "    </tr>\n",
       "    <tr>\n",
       "      <th>5155</th>\n",
       "      <td>Uzbekistan</td>\n",
       "      <td>Afghanistan</td>\n",
       "      <td>1573</td>\n",
       "      <td>247</td>\n",
       "    </tr>\n",
       "    <tr>\n",
       "      <th>5156</th>\n",
       "      <td>United States of America</td>\n",
       "      <td>Afghanistan</td>\n",
       "      <td>129</td>\n",
       "      <td>27</td>\n",
       "    </tr>\n",
       "    <tr>\n",
       "      <th>5157</th>\n",
       "      <td>United States of America</td>\n",
       "      <td>Afghanistan</td>\n",
       "      <td>212</td>\n",
       "      <td>43</td>\n",
       "    </tr>\n",
       "    <tr>\n",
       "      <th>...</th>\n",
       "      <td>...</td>\n",
       "      <td>...</td>\n",
       "      <td>...</td>\n",
       "      <td>...</td>\n",
       "    </tr>\n",
       "    <tr>\n",
       "      <th>22911</th>\n",
       "      <td>Ukraine</td>\n",
       "      <td>Zimbabwe</td>\n",
       "      <td>0</td>\n",
       "      <td>2</td>\n",
       "    </tr>\n",
       "    <tr>\n",
       "      <th>22912</th>\n",
       "      <td>Ukraine</td>\n",
       "      <td>Zimbabwe</td>\n",
       "      <td>0</td>\n",
       "      <td>1</td>\n",
       "    </tr>\n",
       "    <tr>\n",
       "      <th>22913</th>\n",
       "      <td>United States of America</td>\n",
       "      <td>Zimbabwe</td>\n",
       "      <td>115</td>\n",
       "      <td>160</td>\n",
       "    </tr>\n",
       "    <tr>\n",
       "      <th>22914</th>\n",
       "      <td>United States of America</td>\n",
       "      <td>Zimbabwe</td>\n",
       "      <td>54</td>\n",
       "      <td>72</td>\n",
       "    </tr>\n",
       "    <tr>\n",
       "      <th>22915</th>\n",
       "      <td>South Africa</td>\n",
       "      <td>Zimbabwe</td>\n",
       "      <td>9</td>\n",
       "      <td>16</td>\n",
       "    </tr>\n",
       "  </tbody>\n",
       "</table>\n",
       "<p>17744 rows × 4 columns</p>\n",
       "</div>"
      ],
      "text/plain": [
       "                        destiny       origin  value  rejected\n",
       "5153               South Africa  Afghanistan      0         0\n",
       "5154               South Africa  Afghanistan      5         2\n",
       "5155                 Uzbekistan  Afghanistan   1573       247\n",
       "5156   United States of America  Afghanistan    129        27\n",
       "5157   United States of America  Afghanistan    212        43\n",
       "...                         ...          ...    ...       ...\n",
       "22911                   Ukraine     Zimbabwe      0         2\n",
       "22912                   Ukraine     Zimbabwe      0         1\n",
       "22913  United States of America     Zimbabwe    115       160\n",
       "22914  United States of America     Zimbabwe     54        72\n",
       "22915              South Africa     Zimbabwe      9        16\n",
       "\n",
       "[17744 rows x 4 columns]"
      ]
     },
     "execution_count": 16,
     "metadata": {},
     "output_type": "execute_result"
    }
   ],
   "source": [
    "df_aresta_2001_2003 = df_aresta_2001_2003[df_aresta_2001_2003['origin'] != df_aresta_2001_2003['destiny']]\n",
    "df_aresta_2001_2003"
   ]
  },
  {
   "cell_type": "markdown",
   "id": "8cdd4f2b",
   "metadata": {},
   "source": [
    "Agora vamos somar os valores nas quais os pares de países de origem e destino são os mesmos:"
   ]
  },
  {
   "cell_type": "code",
   "execution_count": 17,
   "id": "0ead91c2",
   "metadata": {},
   "outputs": [
    {
     "data": {
      "text/html": [
       "<div>\n",
       "<style scoped>\n",
       "    .dataframe tbody tr th:only-of-type {\n",
       "        vertical-align: middle;\n",
       "    }\n",
       "\n",
       "    .dataframe tbody tr th {\n",
       "        vertical-align: top;\n",
       "    }\n",
       "\n",
       "    .dataframe thead th {\n",
       "        text-align: right;\n",
       "    }\n",
       "</style>\n",
       "<table border=\"1\" class=\"dataframe\">\n",
       "  <thead>\n",
       "    <tr style=\"text-align: right;\">\n",
       "      <th></th>\n",
       "      <th>origin</th>\n",
       "      <th>destiny</th>\n",
       "      <th>value</th>\n",
       "      <th>rejected</th>\n",
       "    </tr>\n",
       "  </thead>\n",
       "  <tbody>\n",
       "    <tr>\n",
       "      <th>0</th>\n",
       "      <td>Afghanistan</td>\n",
       "      <td>Angola</td>\n",
       "      <td>0</td>\n",
       "      <td>2</td>\n",
       "    </tr>\n",
       "    <tr>\n",
       "      <th>1</th>\n",
       "      <td>Afghanistan</td>\n",
       "      <td>Argentina</td>\n",
       "      <td>0</td>\n",
       "      <td>0</td>\n",
       "    </tr>\n",
       "    <tr>\n",
       "      <th>2</th>\n",
       "      <td>Afghanistan</td>\n",
       "      <td>Armenia</td>\n",
       "      <td>0</td>\n",
       "      <td>4</td>\n",
       "    </tr>\n",
       "    <tr>\n",
       "      <th>3</th>\n",
       "      <td>Afghanistan</td>\n",
       "      <td>Australia</td>\n",
       "      <td>2192</td>\n",
       "      <td>757</td>\n",
       "    </tr>\n",
       "    <tr>\n",
       "      <th>4</th>\n",
       "      <td>Afghanistan</td>\n",
       "      <td>Austria</td>\n",
       "      <td>1034</td>\n",
       "      <td>811</td>\n",
       "    </tr>\n",
       "    <tr>\n",
       "      <th>...</th>\n",
       "      <td>...</td>\n",
       "      <td>...</td>\n",
       "      <td>...</td>\n",
       "      <td>...</td>\n",
       "    </tr>\n",
       "    <tr>\n",
       "      <th>5845</th>\n",
       "      <td>Zimbabwe</td>\n",
       "      <td>Switzerland</td>\n",
       "      <td>0</td>\n",
       "      <td>17</td>\n",
       "    </tr>\n",
       "    <tr>\n",
       "      <th>5846</th>\n",
       "      <td>Zimbabwe</td>\n",
       "      <td>Thailand</td>\n",
       "      <td>0</td>\n",
       "      <td>0</td>\n",
       "    </tr>\n",
       "    <tr>\n",
       "      <th>5847</th>\n",
       "      <td>Zimbabwe</td>\n",
       "      <td>Ukraine</td>\n",
       "      <td>0</td>\n",
       "      <td>3</td>\n",
       "    </tr>\n",
       "    <tr>\n",
       "      <th>5848</th>\n",
       "      <td>Zimbabwe</td>\n",
       "      <td>United Kingdom</td>\n",
       "      <td>5490</td>\n",
       "      <td>12256</td>\n",
       "    </tr>\n",
       "    <tr>\n",
       "      <th>5849</th>\n",
       "      <td>Zimbabwe</td>\n",
       "      <td>United States of America</td>\n",
       "      <td>266</td>\n",
       "      <td>363</td>\n",
       "    </tr>\n",
       "  </tbody>\n",
       "</table>\n",
       "<p>5850 rows × 4 columns</p>\n",
       "</div>"
      ],
      "text/plain": [
       "           origin                   destiny  value  rejected\n",
       "0     Afghanistan                    Angola      0         2\n",
       "1     Afghanistan                 Argentina      0         0\n",
       "2     Afghanistan                   Armenia      0         4\n",
       "3     Afghanistan                 Australia   2192       757\n",
       "4     Afghanistan                   Austria   1034       811\n",
       "...           ...                       ...    ...       ...\n",
       "5845     Zimbabwe               Switzerland      0        17\n",
       "5846     Zimbabwe                  Thailand      0         0\n",
       "5847     Zimbabwe                   Ukraine      0         3\n",
       "5848     Zimbabwe            United Kingdom   5490     12256\n",
       "5849     Zimbabwe  United States of America    266       363\n",
       "\n",
       "[5850 rows x 4 columns]"
      ]
     },
     "execution_count": 17,
     "metadata": {},
     "output_type": "execute_result"
    }
   ],
   "source": [
    "df_aresta_2001_2003 = df_aresta_2001_2003.groupby(['origin', 'destiny']).sum().reset_index()\n",
    "df_aresta_2001_2003"
   ]
  },
  {
   "cell_type": "code",
   "execution_count": 18,
   "id": "fb49e1da",
   "metadata": {},
   "outputs": [],
   "source": [
    "for index, row in df_aresta_2001_2003.iterrows():\n",
    "    g.add_edge(row.origin, row.destiny)\n",
    "    g.get_edge(row.origin, row.destiny)['aceitos'] = row.value"
   ]
  },
  {
   "cell_type": "code",
   "execution_count": 19,
   "id": "fefa3c8a",
   "metadata": {},
   "outputs": [],
   "source": [
    "gt_save(g, '/grafo_2001_2003.net.gz')"
   ]
  },
  {
   "cell_type": "code",
   "execution_count": 20,
   "id": "d90be07a",
   "metadata": {},
   "outputs": [],
   "source": [
    "g = gt_load('/grafo_2001_2003.net.gz')"
   ]
  },
  {
   "cell_type": "code",
   "execution_count": 21,
   "id": "6f29d4f2",
   "metadata": {},
   "outputs": [],
   "source": [
    "m = gt_draw.sfdp_layout(g)\n",
    "gt_move(g, m)\n",
    "gt_save(g, 'grafo_2001_2003.net.gz')"
   ]
  },
  {
   "cell_type": "code",
   "execution_count": 22,
   "id": "c35e3379",
   "metadata": {},
   "outputs": [
    {
     "data": {
      "text/html": [
       "\n",
       "        <div id=\"T9ABoW2bYZLwuAgT3t9hLK\"></div>\n",
       "        <script>netpixi.render('T9ABoW2bYZLwuAgT3t9hLK', 'grafo_2001_2003.net.gz', 1.7777777777777777, true, true, false);</script>\n",
       "    "
      ],
      "text/plain": [
       "<IPython.core.display.HTML object>"
      ]
     },
     "metadata": {},
     "output_type": "display_data"
    }
   ],
   "source": [
    "r = netpixi.render('grafo_2001_2003.net.gz', infinite=True);"
   ]
  },
  {
   "cell_type": "code",
   "execution_count": 23,
   "id": "2dc902fa",
   "metadata": {},
   "outputs": [
    {
     "data": {
      "text/html": [
       "\n",
       "        <div id=\"5t3pVnZHiZjVMWzjTHrhvx\"></div>\n",
       "        <script>netpixi.call('5t3pVnZHiZjVMWzjTHrhvx', 'T9ABoW2bYZLwuAgT3t9hLK', 'setGraph', 'eyJ0eXBlIjogInZlcnRleCIsICJwcm9wcyI6IHsic3JjIjogIm5vbWUiLCAiZHN0IjogIl9rZXkifX0K');</script>\n",
       "    "
      ],
      "text/plain": [
       "<IPython.core.display.HTML object>"
      ]
     },
     "metadata": {},
     "output_type": "display_data"
    },
    {
     "data": {
      "text/html": [
       "\n",
       "        <div id=\"jWtJBKMbnYEBXjqXhBEnAE\"></div>\n",
       "        <script>netpixi.call('jWtJBKMbnYEBXjqXhBEnAE', 'T9ABoW2bYZLwuAgT3t9hLK', 'changeGraph', 'eyJ0eXBlIjogInNldHRpbmdzIiwgInByb3BzIjogeyJ2ZXJ0ZXgiOiB7ImNvbG9yIjogMTY3NzcyMTV9fX0K');</script>\n",
       "    "
      ],
      "text/plain": [
       "<IPython.core.display.HTML object>"
      ]
     },
     "metadata": {},
     "output_type": "display_data"
    },
    {
     "data": {
      "text/html": [
       "\n",
       "        <div id=\"hgG7jzPQhppXyTYpmdwpXg\"></div>\n",
       "        <script>netpixi.call('hgG7jzPQhppXyTYpmdwpXg', 'T9ABoW2bYZLwuAgT3t9hLK', 'changeGraph', 'eyJ0eXBlIjogInNldHRpbmdzIiwgInByb3BzIjogeyJlZGdlIjogeyJjb2xvciI6IDIxNDI4OTB9fX0K');</script>\n",
       "    "
      ],
      "text/plain": [
       "<IPython.core.display.HTML object>"
      ]
     },
     "metadata": {},
     "output_type": "display_data"
    },
    {
     "data": {
      "text/html": [
       "\n",
       "        <div id=\"FLhE5mRMZk8q8FfHjotrGo\"></div>\n",
       "        <script>netpixi.call('FLhE5mRMZk8q8FfHjotrGo', 'T9ABoW2bYZLwuAgT3t9hLK', 'normalizeGraph', 'eyJ0eXBlIjogImVkZ2UiLCAicHJvcHMiOiB7InNyYyI6ICJhY2VpdG9zIiwgIm1pbiI6IDEsICJtYXgiOiAxMH19Cg==');</script>\n",
       "    "
      ],
      "text/plain": [
       "<IPython.core.display.HTML object>"
      ]
     },
     "metadata": {},
     "output_type": "display_data"
    }
   ],
   "source": [
    "r.vertex_set_key('nome')\n",
    "\n",
    "r.vertex_default(color=0xffffff)\n",
    "\n",
    "# mudar a cor, a espessura e a curvatura das arestas\n",
    "r.edge_default(color=0x20B2AA)\n",
    "\n",
    "r.edge_scale('aceitos', 1, 10)"
   ]
  },
  {
   "cell_type": "code",
   "execution_count": 24,
   "id": "06a0597f",
   "metadata": {},
   "outputs": [],
   "source": [
    "bc_completo, _ = centrality.betweenness(g)\n",
    "g.add_vp('betweenness', bc_completo)"
   ]
  },
  {
   "cell_type": "code",
   "execution_count": 25,
   "id": "e668b80d",
   "metadata": {},
   "outputs": [
    {
     "data": {
      "text/html": [
       "<div>\n",
       "<style scoped>\n",
       "    .dataframe tbody tr th:only-of-type {\n",
       "        vertical-align: middle;\n",
       "    }\n",
       "\n",
       "    .dataframe tbody tr th {\n",
       "        vertical-align: top;\n",
       "    }\n",
       "\n",
       "    .dataframe thead th {\n",
       "        text-align: right;\n",
       "    }\n",
       "</style>\n",
       "<table border=\"1\" class=\"dataframe\">\n",
       "  <thead>\n",
       "    <tr style=\"text-align: right;\">\n",
       "      <th></th>\n",
       "      <th>nome</th>\n",
       "      <th>betweenness</th>\n",
       "    </tr>\n",
       "    <tr>\n",
       "      <th>id</th>\n",
       "      <th></th>\n",
       "      <th></th>\n",
       "    </tr>\n",
       "  </thead>\n",
       "  <tbody>\n",
       "    <tr>\n",
       "      <th>United States of America</th>\n",
       "      <td>United States of America</td>\n",
       "      <td>0.105584</td>\n",
       "    </tr>\n",
       "    <tr>\n",
       "      <th>China</th>\n",
       "      <td>China</td>\n",
       "      <td>0.073186</td>\n",
       "    </tr>\n",
       "    <tr>\n",
       "      <th>Kenya</th>\n",
       "      <td>Kenya</td>\n",
       "      <td>0.035235</td>\n",
       "    </tr>\n",
       "    <tr>\n",
       "      <th>Australia</th>\n",
       "      <td>Australia</td>\n",
       "      <td>0.033659</td>\n",
       "    </tr>\n",
       "    <tr>\n",
       "      <th>Spain</th>\n",
       "      <td>Spain</td>\n",
       "      <td>0.027726</td>\n",
       "    </tr>\n",
       "    <tr>\n",
       "      <th>...</th>\n",
       "      <td>...</td>\n",
       "      <td>...</td>\n",
       "    </tr>\n",
       "    <tr>\n",
       "      <th>Solomon Islands</th>\n",
       "      <td>Solomon Islands</td>\n",
       "      <td>0.000000</td>\n",
       "    </tr>\n",
       "    <tr>\n",
       "      <th>Dominican Rep.</th>\n",
       "      <td>Dominican Rep.</td>\n",
       "      <td>0.000000</td>\n",
       "    </tr>\n",
       "    <tr>\n",
       "      <th>Dominica</th>\n",
       "      <td>Dominica</td>\n",
       "      <td>0.000000</td>\n",
       "    </tr>\n",
       "    <tr>\n",
       "      <th>Guadeloupe</th>\n",
       "      <td>Guadeloupe</td>\n",
       "      <td>0.000000</td>\n",
       "    </tr>\n",
       "    <tr>\n",
       "      <th>Tuvalu</th>\n",
       "      <td>Tuvalu</td>\n",
       "      <td>0.000000</td>\n",
       "    </tr>\n",
       "  </tbody>\n",
       "</table>\n",
       "<p>225 rows × 2 columns</p>\n",
       "</div>"
      ],
      "text/plain": [
       "                                              nome  betweenness\n",
       "id                                                             \n",
       "United States of America  United States of America     0.105584\n",
       "China                                        China     0.073186\n",
       "Kenya                                        Kenya     0.035235\n",
       "Australia                                Australia     0.033659\n",
       "Spain                                        Spain     0.027726\n",
       "...                                            ...          ...\n",
       "Solomon Islands                    Solomon Islands     0.000000\n",
       "Dominican Rep.                      Dominican Rep.     0.000000\n",
       "Dominica                                  Dominica     0.000000\n",
       "Guadeloupe                              Guadeloupe     0.000000\n",
       "Tuvalu                                      Tuvalu     0.000000\n",
       "\n",
       "[225 rows x 2 columns]"
      ]
     },
     "execution_count": 25,
     "metadata": {},
     "output_type": "execute_result"
    }
   ],
   "source": [
    "df_betweenness_2001_2003 = gt_data(g).sort_values(\"betweenness\", ascending = False)\n",
    "df_betweenness_2001_2003"
   ]
  },
  {
   "cell_type": "code",
   "execution_count": 26,
   "id": "a3921634",
   "metadata": {},
   "outputs": [],
   "source": [
    "m = gt_draw.sfdp_layout(g)\n",
    "gt_move(g, m)\n",
    "gt_save(g, 'centralidadeBetweeness20012003.net.gz')"
   ]
  },
  {
   "cell_type": "code",
   "execution_count": 27,
   "id": "ee51f8a4",
   "metadata": {},
   "outputs": [
    {
     "data": {
      "text/html": [
       "\n",
       "        <div id=\"5xMSXv6HpMqGJsHxgtR3uP\"></div>\n",
       "        <script>netpixi.call('5xMSXv6HpMqGJsHxgtR3uP', 'T9ABoW2bYZLwuAgT3t9hLK', 'normalizeGraph', 'eyJ0eXBlIjogInZlcnRleCIsICJwcm9wcyI6IHsic3JjIjogImJldHdlZW5uZXNzIiwgIm1pbiI6IDUsICJtYXgiOiAyNX19Cg==');</script>\n",
       "    "
      ],
      "text/plain": [
       "<IPython.core.display.HTML object>"
      ]
     },
     "metadata": {},
     "output_type": "display_data"
    }
   ],
   "source": [
    "r.vertex_scale('betweenness', 5, 25)"
   ]
  },
  {
   "cell_type": "code",
   "execution_count": 28,
   "id": "2b21c8bd",
   "metadata": {},
   "outputs": [
    {
     "data": {
      "text/html": [
       "\n",
       "        <div id=\"Y3gEu4T7ijoTpkisn7AiKp\"></div>\n",
       "        <script>netpixi.render('Y3gEu4T7ijoTpkisn7AiKp', 'centralidadeBetweeness20012003.net.gz', 1.7777777777777777, true, true, false);</script>\n",
       "    "
      ],
      "text/plain": [
       "<IPython.core.display.HTML object>"
      ]
     },
     "metadata": {},
     "output_type": "display_data"
    }
   ],
   "source": [
    "r = netpixi.render('centralidadeBetweeness20012003.net.gz', infinite=True);"
   ]
  },
  {
   "cell_type": "code",
   "execution_count": 29,
   "id": "78f1636e",
   "metadata": {},
   "outputs": [
    {
     "data": {
      "text/html": [
       "\n",
       "        <div id=\"XfrgAiDoGUGNSYAk8AragU\"></div>\n",
       "        <script>netpixi.call('XfrgAiDoGUGNSYAk8AragU', 'Y3gEu4T7ijoTpkisn7AiKp', 'normalizeGraph', 'eyJ0eXBlIjogImVkZ2UiLCAicHJvcHMiOiB7InNyYyI6ICJhY2VpdG9zIiwgIm1pbiI6IDEsICJtYXgiOiAxMH19Cg==');</script>\n",
       "    "
      ],
      "text/plain": [
       "<IPython.core.display.HTML object>"
      ]
     },
     "metadata": {},
     "output_type": "display_data"
    },
    {
     "data": {
      "text/html": [
       "\n",
       "        <div id=\"J6A669vbQsZ8fxZ3jUwuQv\"></div>\n",
       "        <script>netpixi.call('J6A669vbQsZ8fxZ3jUwuQv', 'Y3gEu4T7ijoTpkisn7AiKp', 'setGraph', 'eyJ0eXBlIjogInZlcnRleCIsICJwcm9wcyI6IHsic3JjIjogIm5vbWUiLCAiZHN0IjogIl9rZXkifX0K');</script>\n",
       "    "
      ],
      "text/plain": [
       "<IPython.core.display.HTML object>"
      ]
     },
     "metadata": {},
     "output_type": "display_data"
    },
    {
     "data": {
      "text/html": [
       "\n",
       "        <div id=\"3c65EpNAkEqDcypCYh4aj3\"></div>\n",
       "        <script>netpixi.call('3c65EpNAkEqDcypCYh4aj3', 'Y3gEu4T7ijoTpkisn7AiKp', 'normalizeGraph', 'eyJ0eXBlIjogInZlcnRleCIsICJwcm9wcyI6IHsic3JjIjogImJldHdlZW5uZXNzIiwgIm1pbiI6IDUsICJtYXgiOiAyNX19Cg==');</script>\n",
       "    "
      ],
      "text/plain": [
       "<IPython.core.display.HTML object>"
      ]
     },
     "metadata": {},
     "output_type": "display_data"
    }
   ],
   "source": [
    "r.edge_scale('aceitos', 1, 10)\n",
    "\n",
    "r.vertex_set_key('nome')\n",
    "\n",
    "r.vertex_scale('betweenness', 5, 25)"
   ]
  },
  {
   "cell_type": "code",
   "execution_count": 30,
   "id": "eb1dc720",
   "metadata": {},
   "outputs": [
    {
     "data": {
      "text/html": [
       "<div>\n",
       "<style scoped>\n",
       "    .dataframe tbody tr th:only-of-type {\n",
       "        vertical-align: middle;\n",
       "    }\n",
       "\n",
       "    .dataframe tbody tr th {\n",
       "        vertical-align: top;\n",
       "    }\n",
       "\n",
       "    .dataframe thead th {\n",
       "        text-align: right;\n",
       "    }\n",
       "</style>\n",
       "<table border=\"1\" class=\"dataframe\">\n",
       "  <thead>\n",
       "    <tr style=\"text-align: right;\">\n",
       "      <th></th>\n",
       "      <th>idh_2001_2003</th>\n",
       "      <th>country</th>\n",
       "      <th>n_neightbours</th>\n",
       "    </tr>\n",
       "  </thead>\n",
       "  <tbody>\n",
       "    <tr>\n",
       "      <th>0</th>\n",
       "      <td>0.845667</td>\n",
       "      <td>China, Hong Kong SAR</td>\n",
       "      <td>1</td>\n",
       "    </tr>\n",
       "    <tr>\n",
       "      <th>1</th>\n",
       "      <td>0.922000</td>\n",
       "      <td>China, Macao SAR</td>\n",
       "      <td>1</td>\n",
       "    </tr>\n",
       "    <tr>\n",
       "      <th>2</th>\n",
       "      <td>0.376667</td>\n",
       "      <td>Afghanistan</td>\n",
       "      <td>6</td>\n",
       "    </tr>\n",
       "    <tr>\n",
       "      <th>3</th>\n",
       "      <td>0.684333</td>\n",
       "      <td>Albania</td>\n",
       "      <td>4</td>\n",
       "    </tr>\n",
       "    <tr>\n",
       "      <th>4</th>\n",
       "      <td>0.657000</td>\n",
       "      <td>Algeria</td>\n",
       "      <td>7</td>\n",
       "    </tr>\n",
       "    <tr>\n",
       "      <th>...</th>\n",
       "      <td>...</td>\n",
       "      <td>...</td>\n",
       "      <td>...</td>\n",
       "    </tr>\n",
       "    <tr>\n",
       "      <th>220</th>\n",
       "      <td>0.763000</td>\n",
       "      <td>Wallis and Futuna Islands</td>\n",
       "      <td>0</td>\n",
       "    </tr>\n",
       "    <tr>\n",
       "      <th>221</th>\n",
       "      <td>0.000000</td>\n",
       "      <td>Western Sahara</td>\n",
       "      <td>3</td>\n",
       "    </tr>\n",
       "    <tr>\n",
       "      <th>222</th>\n",
       "      <td>0.461333</td>\n",
       "      <td>Yemen</td>\n",
       "      <td>2</td>\n",
       "    </tr>\n",
       "    <tr>\n",
       "      <th>223</th>\n",
       "      <td>0.441333</td>\n",
       "      <td>Zambia</td>\n",
       "      <td>8</td>\n",
       "    </tr>\n",
       "    <tr>\n",
       "      <th>224</th>\n",
       "      <td>0.422667</td>\n",
       "      <td>Zimbabwe</td>\n",
       "      <td>4</td>\n",
       "    </tr>\n",
       "  </tbody>\n",
       "</table>\n",
       "<p>225 rows × 3 columns</p>\n",
       "</div>"
      ],
      "text/plain": [
       "     idh_2001_2003                     country  n_neightbours\n",
       "0         0.845667        China, Hong Kong SAR              1\n",
       "1         0.922000            China, Macao SAR              1\n",
       "2         0.376667                 Afghanistan              6\n",
       "3         0.684333                     Albania              4\n",
       "4         0.657000                     Algeria              7\n",
       "..             ...                         ...            ...\n",
       "220       0.763000  Wallis and Futuna Islands               0\n",
       "221       0.000000              Western Sahara              3\n",
       "222       0.461333                       Yemen              2\n",
       "223       0.441333                      Zambia              8\n",
       "224       0.422667                    Zimbabwe              4\n",
       "\n",
       "[225 rows x 3 columns]"
      ]
     },
     "execution_count": 30,
     "metadata": {},
     "output_type": "execute_result"
    }
   ],
   "source": [
    "data_idh_2001_2003 = data.loc[:, ['idh_2001_2003', 'country', 'n_neightbours']]\n",
    "data_idh_2001_2003"
   ]
  },
  {
   "cell_type": "code",
   "execution_count": 31,
   "id": "c14b2551",
   "metadata": {},
   "outputs": [
    {
     "data": {
      "text/html": [
       "<div>\n",
       "<style scoped>\n",
       "    .dataframe tbody tr th:only-of-type {\n",
       "        vertical-align: middle;\n",
       "    }\n",
       "\n",
       "    .dataframe tbody tr th {\n",
       "        vertical-align: top;\n",
       "    }\n",
       "\n",
       "    .dataframe thead th {\n",
       "        text-align: right;\n",
       "    }\n",
       "</style>\n",
       "<table border=\"1\" class=\"dataframe\">\n",
       "  <thead>\n",
       "    <tr style=\"text-align: right;\">\n",
       "      <th></th>\n",
       "      <th>origin</th>\n",
       "      <th>betweenness</th>\n",
       "    </tr>\n",
       "    <tr>\n",
       "      <th>id</th>\n",
       "      <th></th>\n",
       "      <th></th>\n",
       "    </tr>\n",
       "  </thead>\n",
       "  <tbody>\n",
       "    <tr>\n",
       "      <th>United States of America</th>\n",
       "      <td>United States of America</td>\n",
       "      <td>0.105584</td>\n",
       "    </tr>\n",
       "    <tr>\n",
       "      <th>China</th>\n",
       "      <td>China</td>\n",
       "      <td>0.073186</td>\n",
       "    </tr>\n",
       "    <tr>\n",
       "      <th>Kenya</th>\n",
       "      <td>Kenya</td>\n",
       "      <td>0.035235</td>\n",
       "    </tr>\n",
       "    <tr>\n",
       "      <th>Australia</th>\n",
       "      <td>Australia</td>\n",
       "      <td>0.033659</td>\n",
       "    </tr>\n",
       "    <tr>\n",
       "      <th>Spain</th>\n",
       "      <td>Spain</td>\n",
       "      <td>0.027726</td>\n",
       "    </tr>\n",
       "    <tr>\n",
       "      <th>...</th>\n",
       "      <td>...</td>\n",
       "      <td>...</td>\n",
       "    </tr>\n",
       "    <tr>\n",
       "      <th>Solomon Islands</th>\n",
       "      <td>Solomon Islands</td>\n",
       "      <td>0.000000</td>\n",
       "    </tr>\n",
       "    <tr>\n",
       "      <th>Dominican Rep.</th>\n",
       "      <td>Dominican Rep.</td>\n",
       "      <td>0.000000</td>\n",
       "    </tr>\n",
       "    <tr>\n",
       "      <th>Dominica</th>\n",
       "      <td>Dominica</td>\n",
       "      <td>0.000000</td>\n",
       "    </tr>\n",
       "    <tr>\n",
       "      <th>Guadeloupe</th>\n",
       "      <td>Guadeloupe</td>\n",
       "      <td>0.000000</td>\n",
       "    </tr>\n",
       "    <tr>\n",
       "      <th>Tuvalu</th>\n",
       "      <td>Tuvalu</td>\n",
       "      <td>0.000000</td>\n",
       "    </tr>\n",
       "  </tbody>\n",
       "</table>\n",
       "<p>225 rows × 2 columns</p>\n",
       "</div>"
      ],
      "text/plain": [
       "                                            origin  betweenness\n",
       "id                                                             \n",
       "United States of America  United States of America     0.105584\n",
       "China                                        China     0.073186\n",
       "Kenya                                        Kenya     0.035235\n",
       "Australia                                Australia     0.033659\n",
       "Spain                                        Spain     0.027726\n",
       "...                                            ...          ...\n",
       "Solomon Islands                    Solomon Islands     0.000000\n",
       "Dominican Rep.                      Dominican Rep.     0.000000\n",
       "Dominica                                  Dominica     0.000000\n",
       "Guadeloupe                              Guadeloupe     0.000000\n",
       "Tuvalu                                      Tuvalu     0.000000\n",
       "\n",
       "[225 rows x 2 columns]"
      ]
     },
     "execution_count": 31,
     "metadata": {},
     "output_type": "execute_result"
    }
   ],
   "source": [
    "data_idh_2001_2003 = data_idh_2001_2003.rename(columns={'idh_2001_2003': 'idh_2001_2003', 'country': 'origin'})\n",
    "df_betweenness_2001_2003 = df_betweenness_2001_2003.rename(columns={'nome':'origin'})\n",
    "df_betweenness_2001_2003"
   ]
  },
  {
   "cell_type": "code",
   "execution_count": 32,
   "id": "1522884a",
   "metadata": {},
   "outputs": [
    {
     "data": {
      "text/html": [
       "<div>\n",
       "<style scoped>\n",
       "    .dataframe tbody tr th:only-of-type {\n",
       "        vertical-align: middle;\n",
       "    }\n",
       "\n",
       "    .dataframe tbody tr th {\n",
       "        vertical-align: top;\n",
       "    }\n",
       "\n",
       "    .dataframe thead th {\n",
       "        text-align: right;\n",
       "    }\n",
       "</style>\n",
       "<table border=\"1\" class=\"dataframe\">\n",
       "  <thead>\n",
       "    <tr style=\"text-align: right;\">\n",
       "      <th></th>\n",
       "      <th>origin</th>\n",
       "      <th>betweenness</th>\n",
       "      <th>idh_2001_2003</th>\n",
       "      <th>n_neightbours</th>\n",
       "    </tr>\n",
       "  </thead>\n",
       "  <tbody>\n",
       "    <tr>\n",
       "      <th>0</th>\n",
       "      <td>United States of America</td>\n",
       "      <td>0.105584</td>\n",
       "      <td>0.891333</td>\n",
       "      <td>2</td>\n",
       "    </tr>\n",
       "    <tr>\n",
       "      <th>1</th>\n",
       "      <td>China</td>\n",
       "      <td>0.073186</td>\n",
       "      <td>0.606667</td>\n",
       "      <td>16</td>\n",
       "    </tr>\n",
       "    <tr>\n",
       "      <th>2</th>\n",
       "      <td>Kenya</td>\n",
       "      <td>0.035235</td>\n",
       "      <td>0.469333</td>\n",
       "      <td>5</td>\n",
       "    </tr>\n",
       "    <tr>\n",
       "      <th>3</th>\n",
       "      <td>Australia</td>\n",
       "      <td>0.033659</td>\n",
       "      <td>0.907000</td>\n",
       "      <td>0</td>\n",
       "    </tr>\n",
       "    <tr>\n",
       "      <th>4</th>\n",
       "      <td>Spain</td>\n",
       "      <td>0.027726</td>\n",
       "      <td>0.837333</td>\n",
       "      <td>5</td>\n",
       "    </tr>\n",
       "    <tr>\n",
       "      <th>...</th>\n",
       "      <td>...</td>\n",
       "      <td>...</td>\n",
       "      <td>...</td>\n",
       "      <td>...</td>\n",
       "    </tr>\n",
       "    <tr>\n",
       "      <th>220</th>\n",
       "      <td>Solomon Islands</td>\n",
       "      <td>0.000000</td>\n",
       "      <td>0.486000</td>\n",
       "      <td>0</td>\n",
       "    </tr>\n",
       "    <tr>\n",
       "      <th>221</th>\n",
       "      <td>Dominican Rep.</td>\n",
       "      <td>0.000000</td>\n",
       "      <td>0.666667</td>\n",
       "      <td>1</td>\n",
       "    </tr>\n",
       "    <tr>\n",
       "      <th>222</th>\n",
       "      <td>Dominica</td>\n",
       "      <td>0.000000</td>\n",
       "      <td>0.708667</td>\n",
       "      <td>0</td>\n",
       "    </tr>\n",
       "    <tr>\n",
       "      <th>223</th>\n",
       "      <td>Guadeloupe</td>\n",
       "      <td>0.000000</td>\n",
       "      <td>0.853000</td>\n",
       "      <td>0</td>\n",
       "    </tr>\n",
       "    <tr>\n",
       "      <th>224</th>\n",
       "      <td>Tuvalu</td>\n",
       "      <td>0.000000</td>\n",
       "      <td>0.583000</td>\n",
       "      <td>0</td>\n",
       "    </tr>\n",
       "  </tbody>\n",
       "</table>\n",
       "<p>225 rows × 4 columns</p>\n",
       "</div>"
      ],
      "text/plain": [
       "                       origin  betweenness  idh_2001_2003  n_neightbours\n",
       "0    United States of America     0.105584       0.891333              2\n",
       "1                       China     0.073186       0.606667             16\n",
       "2                       Kenya     0.035235       0.469333              5\n",
       "3                   Australia     0.033659       0.907000              0\n",
       "4                       Spain     0.027726       0.837333              5\n",
       "..                        ...          ...            ...            ...\n",
       "220           Solomon Islands     0.000000       0.486000              0\n",
       "221            Dominican Rep.     0.000000       0.666667              1\n",
       "222                  Dominica     0.000000       0.708667              0\n",
       "223                Guadeloupe     0.000000       0.853000              0\n",
       "224                    Tuvalu     0.000000       0.583000              0\n",
       "\n",
       "[225 rows x 4 columns]"
      ]
     },
     "execution_count": 32,
     "metadata": {},
     "output_type": "execute_result"
    }
   ],
   "source": [
    "df_betweenness_2001_2003 = df_betweenness_2001_2003.merge(data_idh_2001_2003, on=\"origin\", how=\"left\")\n",
    "df_betweenness_2001_2003"
   ]
  },
  {
   "cell_type": "code",
   "execution_count": 33,
   "id": "37987055",
   "metadata": {},
   "outputs": [
    {
     "data": {
      "text/html": [
       "<div>\n",
       "<style scoped>\n",
       "    .dataframe tbody tr th:only-of-type {\n",
       "        vertical-align: middle;\n",
       "    }\n",
       "\n",
       "    .dataframe tbody tr th {\n",
       "        vertical-align: top;\n",
       "    }\n",
       "\n",
       "    .dataframe thead th {\n",
       "        text-align: right;\n",
       "    }\n",
       "</style>\n",
       "<table border=\"1\" class=\"dataframe\">\n",
       "  <thead>\n",
       "    <tr style=\"text-align: right;\">\n",
       "      <th></th>\n",
       "      <th>origin</th>\n",
       "      <th>betweenness</th>\n",
       "      <th>idh_2001_2003</th>\n",
       "      <th>n_neightbours</th>\n",
       "    </tr>\n",
       "  </thead>\n",
       "  <tbody>\n",
       "    <tr>\n",
       "      <th>0</th>\n",
       "      <td>United States of America</td>\n",
       "      <td>0.105584</td>\n",
       "      <td>0.891333</td>\n",
       "      <td>2</td>\n",
       "    </tr>\n",
       "    <tr>\n",
       "      <th>4</th>\n",
       "      <td>Spain</td>\n",
       "      <td>0.027726</td>\n",
       "      <td>0.837333</td>\n",
       "      <td>5</td>\n",
       "    </tr>\n",
       "    <tr>\n",
       "      <th>8</th>\n",
       "      <td>Romania</td>\n",
       "      <td>0.020640</td>\n",
       "      <td>0.730667</td>\n",
       "      <td>5</td>\n",
       "    </tr>\n",
       "    <tr>\n",
       "      <th>17</th>\n",
       "      <td>Canada</td>\n",
       "      <td>0.012983</td>\n",
       "      <td>0.876667</td>\n",
       "      <td>1</td>\n",
       "    </tr>\n",
       "    <tr>\n",
       "      <th>20</th>\n",
       "      <td>Germany</td>\n",
       "      <td>0.010186</td>\n",
       "      <td>0.890000</td>\n",
       "      <td>9</td>\n",
       "    </tr>\n",
       "    <tr>\n",
       "      <th>25</th>\n",
       "      <td>Portugal</td>\n",
       "      <td>0.008837</td>\n",
       "      <td>0.800667</td>\n",
       "      <td>1</td>\n",
       "    </tr>\n",
       "    <tr>\n",
       "      <th>28</th>\n",
       "      <td>Lithuania</td>\n",
       "      <td>0.008325</td>\n",
       "      <td>0.785333</td>\n",
       "      <td>4</td>\n",
       "    </tr>\n",
       "    <tr>\n",
       "      <th>32</th>\n",
       "      <td>Bulgaria</td>\n",
       "      <td>0.007595</td>\n",
       "      <td>0.737000</td>\n",
       "      <td>5</td>\n",
       "    </tr>\n",
       "    <tr>\n",
       "      <th>33</th>\n",
       "      <td>Hungary</td>\n",
       "      <td>0.007172</td>\n",
       "      <td>0.788667</td>\n",
       "      <td>7</td>\n",
       "    </tr>\n",
       "    <tr>\n",
       "      <th>34</th>\n",
       "      <td>Netherlands</td>\n",
       "      <td>0.006945</td>\n",
       "      <td>0.887000</td>\n",
       "      <td>2</td>\n",
       "    </tr>\n",
       "    <tr>\n",
       "      <th>36</th>\n",
       "      <td>Sweden</td>\n",
       "      <td>0.006608</td>\n",
       "      <td>0.908667</td>\n",
       "      <td>2</td>\n",
       "    </tr>\n",
       "    <tr>\n",
       "      <th>38</th>\n",
       "      <td>Poland</td>\n",
       "      <td>0.006322</td>\n",
       "      <td>0.803000</td>\n",
       "      <td>7</td>\n",
       "    </tr>\n",
       "    <tr>\n",
       "      <th>39</th>\n",
       "      <td>Italy</td>\n",
       "      <td>0.005897</td>\n",
       "      <td>0.850000</td>\n",
       "      <td>6</td>\n",
       "    </tr>\n",
       "    <tr>\n",
       "      <th>43</th>\n",
       "      <td>Belgium</td>\n",
       "      <td>0.005499</td>\n",
       "      <td>0.886000</td>\n",
       "      <td>4</td>\n",
       "    </tr>\n",
       "    <tr>\n",
       "      <th>50</th>\n",
       "      <td>France</td>\n",
       "      <td>0.004757</td>\n",
       "      <td>0.852667</td>\n",
       "      <td>8</td>\n",
       "    </tr>\n",
       "    <tr>\n",
       "      <th>68</th>\n",
       "      <td>Slovakia</td>\n",
       "      <td>0.002263</td>\n",
       "      <td>0.772333</td>\n",
       "      <td>5</td>\n",
       "    </tr>\n",
       "    <tr>\n",
       "      <th>80</th>\n",
       "      <td>Greece</td>\n",
       "      <td>0.001366</td>\n",
       "      <td>0.824333</td>\n",
       "      <td>4</td>\n",
       "    </tr>\n",
       "    <tr>\n",
       "      <th>87</th>\n",
       "      <td>Ireland</td>\n",
       "      <td>0.001022</td>\n",
       "      <td>0.881000</td>\n",
       "      <td>1</td>\n",
       "    </tr>\n",
       "    <tr>\n",
       "      <th>94</th>\n",
       "      <td>Slovenia</td>\n",
       "      <td>0.000832</td>\n",
       "      <td>0.850000</td>\n",
       "      <td>4</td>\n",
       "    </tr>\n",
       "    <tr>\n",
       "      <th>100</th>\n",
       "      <td>Austria</td>\n",
       "      <td>0.000543</td>\n",
       "      <td>0.851667</td>\n",
       "      <td>8</td>\n",
       "    </tr>\n",
       "    <tr>\n",
       "      <th>106</th>\n",
       "      <td>Latvia</td>\n",
       "      <td>0.000348</td>\n",
       "      <td>0.767000</td>\n",
       "      <td>4</td>\n",
       "    </tr>\n",
       "    <tr>\n",
       "      <th>112</th>\n",
       "      <td>Denmark</td>\n",
       "      <td>0.000222</td>\n",
       "      <td>0.891333</td>\n",
       "      <td>1</td>\n",
       "    </tr>\n",
       "    <tr>\n",
       "      <th>118</th>\n",
       "      <td>Finland</td>\n",
       "      <td>0.000156</td>\n",
       "      <td>0.874000</td>\n",
       "      <td>3</td>\n",
       "    </tr>\n",
       "    <tr>\n",
       "      <th>120</th>\n",
       "      <td>Czech Rep.</td>\n",
       "      <td>0.000141</td>\n",
       "      <td>0.821667</td>\n",
       "      <td>4</td>\n",
       "    </tr>\n",
       "    <tr>\n",
       "      <th>123</th>\n",
       "      <td>Estonia</td>\n",
       "      <td>0.000126</td>\n",
       "      <td>0.805000</td>\n",
       "      <td>2</td>\n",
       "    </tr>\n",
       "    <tr>\n",
       "      <th>135</th>\n",
       "      <td>Luxembourg</td>\n",
       "      <td>0.000014</td>\n",
       "      <td>0.869000</td>\n",
       "      <td>3</td>\n",
       "    </tr>\n",
       "    <tr>\n",
       "      <th>140</th>\n",
       "      <td>Cyprus</td>\n",
       "      <td>0.000009</td>\n",
       "      <td>0.819000</td>\n",
       "      <td>0</td>\n",
       "    </tr>\n",
       "    <tr>\n",
       "      <th>191</th>\n",
       "      <td>Malta</td>\n",
       "      <td>0.000000</td>\n",
       "      <td>0.805000</td>\n",
       "      <td>0</td>\n",
       "    </tr>\n",
       "  </tbody>\n",
       "</table>\n",
       "</div>"
      ],
      "text/plain": [
       "                       origin  betweenness  idh_2001_2003  n_neightbours\n",
       "0    United States of America     0.105584       0.891333              2\n",
       "4                       Spain     0.027726       0.837333              5\n",
       "8                     Romania     0.020640       0.730667              5\n",
       "17                     Canada     0.012983       0.876667              1\n",
       "20                    Germany     0.010186       0.890000              9\n",
       "25                   Portugal     0.008837       0.800667              1\n",
       "28                  Lithuania     0.008325       0.785333              4\n",
       "32                   Bulgaria     0.007595       0.737000              5\n",
       "33                    Hungary     0.007172       0.788667              7\n",
       "34                Netherlands     0.006945       0.887000              2\n",
       "36                     Sweden     0.006608       0.908667              2\n",
       "38                     Poland     0.006322       0.803000              7\n",
       "39                      Italy     0.005897       0.850000              6\n",
       "43                    Belgium     0.005499       0.886000              4\n",
       "50                     France     0.004757       0.852667              8\n",
       "68                   Slovakia     0.002263       0.772333              5\n",
       "80                     Greece     0.001366       0.824333              4\n",
       "87                    Ireland     0.001022       0.881000              1\n",
       "94                   Slovenia     0.000832       0.850000              4\n",
       "100                   Austria     0.000543       0.851667              8\n",
       "106                    Latvia     0.000348       0.767000              4\n",
       "112                   Denmark     0.000222       0.891333              1\n",
       "118                   Finland     0.000156       0.874000              3\n",
       "120                Czech Rep.     0.000141       0.821667              4\n",
       "123                   Estonia     0.000126       0.805000              2\n",
       "135                Luxembourg     0.000014       0.869000              3\n",
       "140                    Cyprus     0.000009       0.819000              0\n",
       "191                     Malta     0.000000       0.805000              0"
      ]
     },
     "execution_count": 33,
     "metadata": {},
     "output_type": "execute_result"
    }
   ],
   "source": [
    "df_filtrado_idh_2001_2003 = df_betweenness_2001_2003[(df_betweenness_2001_2003['origin'].isin(lista_paises_eu_america))]\n",
    "df_filtrado_idh_2001_2003"
   ]
  },
  {
   "cell_type": "markdown",
   "id": "465ce237",
   "metadata": {},
   "source": [
    "#### Regressão\n",
    "\n",
    "Com os resultados obtidos no processo acima, obtivemos a tabela logo acima dessa célula, a df_filtrado_idh_2001_2003, correlacionando o valor do betweenness com o recorte proposto e, para podermos analisar se o recorte realmente faz sentido e faria com que a hipótese não corroborasse mais, precisamos realizar uma regressão linear, uma vez que a variável dependente (betweenness) é um valor contínuo (métrica)."
   ]
  },
  {
   "cell_type": "code",
   "execution_count": 34,
   "id": "69b33c18",
   "metadata": {},
   "outputs": [
    {
     "data": {
      "text/html": [
       "<table class=\"simpletable\">\n",
       "<caption>OLS Regression Results</caption>\n",
       "<tr>\n",
       "  <th>Dep. Variable:</th>       <td>betweenness</td>   <th>  R-squared:         </th> <td>   0.004</td>\n",
       "</tr>\n",
       "<tr>\n",
       "  <th>Model:</th>                   <td>OLS</td>       <th>  Adj. R-squared:    </th> <td>  -0.035</td>\n",
       "</tr>\n",
       "<tr>\n",
       "  <th>Method:</th>             <td>Least Squares</td>  <th>  F-statistic:       </th> <td> 0.09234</td>\n",
       "</tr>\n",
       "<tr>\n",
       "  <th>Date:</th>             <td>Sat, 19 Nov 2022</td> <th>  Prob (F-statistic):</th>  <td> 0.764</td> \n",
       "</tr>\n",
       "<tr>\n",
       "  <th>Time:</th>                 <td>11:37:03</td>     <th>  Log-Likelihood:    </th> <td>  70.326</td>\n",
       "</tr>\n",
       "<tr>\n",
       "  <th>No. Observations:</th>      <td>    28</td>      <th>  AIC:               </th> <td>  -136.7</td>\n",
       "</tr>\n",
       "<tr>\n",
       "  <th>Df Residuals:</th>          <td>    26</td>      <th>  BIC:               </th> <td>  -134.0</td>\n",
       "</tr>\n",
       "<tr>\n",
       "  <th>Df Model:</th>              <td>     1</td>      <th>                     </th>     <td> </td>   \n",
       "</tr>\n",
       "<tr>\n",
       "  <th>Covariance Type:</th>      <td>nonrobust</td>    <th>                     </th>     <td> </td>   \n",
       "</tr>\n",
       "</table>\n",
       "<table class=\"simpletable\">\n",
       "<tr>\n",
       "        <td></td>           <th>coef</th>     <th>std err</th>      <th>t</th>      <th>P>|t|</th>  <th>[0.025</th>    <th>0.975]</th>  \n",
       "</tr>\n",
       "<tr>\n",
       "  <th>Intercept</th>     <td>    0.0108</td> <td>    0.007</td> <td>    1.518</td> <td> 0.141</td> <td>   -0.004</td> <td>    0.025</td>\n",
       "</tr>\n",
       "<tr>\n",
       "  <th>n_neightbours</th> <td>   -0.0005</td> <td>    0.002</td> <td>   -0.304</td> <td> 0.764</td> <td>   -0.004</td> <td>    0.003</td>\n",
       "</tr>\n",
       "</table>\n",
       "<table class=\"simpletable\">\n",
       "<tr>\n",
       "  <th>Omnibus:</th>       <td>58.176</td> <th>  Durbin-Watson:     </th> <td>   0.562</td>\n",
       "</tr>\n",
       "<tr>\n",
       "  <th>Prob(Omnibus):</th> <td> 0.000</td> <th>  Jarque-Bera (JB):  </th> <td> 426.319</td>\n",
       "</tr>\n",
       "<tr>\n",
       "  <th>Skew:</th>          <td> 4.134</td> <th>  Prob(JB):          </th> <td>2.67e-93</td>\n",
       "</tr>\n",
       "<tr>\n",
       "  <th>Kurtosis:</th>      <td>20.235</td> <th>  Cond. No.          </th> <td>    8.70</td>\n",
       "</tr>\n",
       "</table><br/><br/>Notes:<br/>[1] Standard Errors assume that the covariance matrix of the errors is correctly specified."
      ],
      "text/plain": [
       "<class 'statsmodels.iolib.summary.Summary'>\n",
       "\"\"\"\n",
       "                            OLS Regression Results                            \n",
       "==============================================================================\n",
       "Dep. Variable:            betweenness   R-squared:                       0.004\n",
       "Model:                            OLS   Adj. R-squared:                 -0.035\n",
       "Method:                 Least Squares   F-statistic:                   0.09234\n",
       "Date:                Sat, 19 Nov 2022   Prob (F-statistic):              0.764\n",
       "Time:                        11:37:03   Log-Likelihood:                 70.326\n",
       "No. Observations:                  28   AIC:                            -136.7\n",
       "Df Residuals:                      26   BIC:                            -134.0\n",
       "Df Model:                           1                                         \n",
       "Covariance Type:            nonrobust                                         \n",
       "=================================================================================\n",
       "                    coef    std err          t      P>|t|      [0.025      0.975]\n",
       "---------------------------------------------------------------------------------\n",
       "Intercept         0.0108      0.007      1.518      0.141      -0.004       0.025\n",
       "n_neightbours    -0.0005      0.002     -0.304      0.764      -0.004       0.003\n",
       "==============================================================================\n",
       "Omnibus:                       58.176   Durbin-Watson:                   0.562\n",
       "Prob(Omnibus):                  0.000   Jarque-Bera (JB):              426.319\n",
       "Skew:                           4.134   Prob(JB):                     2.67e-93\n",
       "Kurtosis:                      20.235   Cond. No.                         8.70\n",
       "==============================================================================\n",
       "\n",
       "Notes:\n",
       "[1] Standard Errors assume that the covariance matrix of the errors is correctly specified.\n",
       "\"\"\""
      ]
     },
     "execution_count": 34,
     "metadata": {},
     "output_type": "execute_result"
    }
   ],
   "source": [
    "result_hip3 = reg.linear(data=df_filtrado_idh_2001_2003, formula='betweenness ~ n_neightbours')\n",
    "result_hip3.summary()"
   ]
  },
  {
   "cell_type": "code",
   "execution_count": 35,
   "id": "a7f8491b",
   "metadata": {},
   "outputs": [
    {
     "data": {
      "text/html": [
       "<style type=\"text/css\">\n",
       "#T_0cba6_row0_col0 {\n",
       "  font-family: monospace;\n",
       "  text-align: left;\n",
       "}\n",
       "</style>\n",
       "<table id=\"T_0cba6\">\n",
       "  <thead>\n",
       "  </thead>\n",
       "  <tbody>\n",
       "    <tr>\n",
       "      <td id=\"T_0cba6_row0_col0\" class=\"data row0 col0\" >-0.000 (0.002)</td>\n",
       "    </tr>\n",
       "  </tbody>\n",
       "</table>\n"
      ],
      "text/plain": [
       "<pandas.io.formats.style.Styler at 0x7f2efc83fa00>"
      ]
     },
     "execution_count": 35,
     "metadata": {},
     "output_type": "execute_result"
    }
   ],
   "source": [
    "result_hip3.nano_summary()"
   ]
  },
  {
   "cell_type": "code",
   "execution_count": 36,
   "id": "9656cc86",
   "metadata": {},
   "outputs": [
    {
     "data": {
      "image/png": "[encoded data removed]",
      "text/plain": [
       "<Figure size 1280x480 with 2 Axes>"
      ]
     },
     "metadata": {},
     "output_type": "display_data"
    }
   ],
   "source": [
    "result_hip3.plot_residuals()"
   ]
  },
  {
   "cell_type": "markdown",
   "id": "1c0d6f44",
   "metadata": {},
   "source": [
    "#### Conclusão:\n",
    "\n",
    "A partir dos resultados obtidos acima, podemos concluir que a hipótese deixou de corroborar para o recorte proposto, perdendo totalmente significância (valor-p).\n",
    "\n",
    "Dessa forma, podemos concluir que o recorte fez com que a hipótese deixasse de corroborar por conta justamente do pensamento apresentado no início do recorte proposto. Ou seja, com o ataque às Torres Gêmeas em 2001, os países da UE e da América Anglo-Saxônica restrigiram muito as suas fronteiras, resultando em uma grande diminuição da sua intermediação/betweenness e, assim, deixando de corroborar com a hipótese 3."
   ]
  },
  {
   "cell_type": "markdown",
   "id": "41a2f9b0",
   "metadata": {},
   "source": [
    "## Hipótese 4: Desenvolvimento e vazão de pessoas\n",
    "\n",
    "### C: DSV, CONP, CORE = EXT"
   ]
  },
  {
   "cell_type": "code",
   "execution_count": 37,
   "id": "6e111776",
   "metadata": {},
   "outputs": [
    {
     "data": {
      "text/html": [
       "<div>\n",
       "<style scoped>\n",
       "    .dataframe tbody tr th:only-of-type {\n",
       "        vertical-align: middle;\n",
       "    }\n",
       "\n",
       "    .dataframe tbody tr th {\n",
       "        vertical-align: top;\n",
       "    }\n",
       "\n",
       "    .dataframe thead th {\n",
       "        text-align: right;\n",
       "    }\n",
       "</style>\n",
       "<table border=\"1\" class=\"dataframe\">\n",
       "  <thead>\n",
       "    <tr style=\"text-align: right;\">\n",
       "      <th></th>\n",
       "      <th>origin</th>\n",
       "      <th>destiny</th>\n",
       "      <th>value</th>\n",
       "      <th>rejected</th>\n",
       "    </tr>\n",
       "  </thead>\n",
       "  <tbody>\n",
       "    <tr>\n",
       "      <th>0</th>\n",
       "      <td>Afghanistan</td>\n",
       "      <td>Angola</td>\n",
       "      <td>0</td>\n",
       "      <td>2</td>\n",
       "    </tr>\n",
       "    <tr>\n",
       "      <th>1</th>\n",
       "      <td>Afghanistan</td>\n",
       "      <td>Argentina</td>\n",
       "      <td>0</td>\n",
       "      <td>0</td>\n",
       "    </tr>\n",
       "    <tr>\n",
       "      <th>2</th>\n",
       "      <td>Afghanistan</td>\n",
       "      <td>Armenia</td>\n",
       "      <td>0</td>\n",
       "      <td>4</td>\n",
       "    </tr>\n",
       "    <tr>\n",
       "      <th>3</th>\n",
       "      <td>Afghanistan</td>\n",
       "      <td>Australia</td>\n",
       "      <td>2192</td>\n",
       "      <td>757</td>\n",
       "    </tr>\n",
       "    <tr>\n",
       "      <th>4</th>\n",
       "      <td>Afghanistan</td>\n",
       "      <td>Austria</td>\n",
       "      <td>1034</td>\n",
       "      <td>811</td>\n",
       "    </tr>\n",
       "    <tr>\n",
       "      <th>...</th>\n",
       "      <td>...</td>\n",
       "      <td>...</td>\n",
       "      <td>...</td>\n",
       "      <td>...</td>\n",
       "    </tr>\n",
       "    <tr>\n",
       "      <th>5845</th>\n",
       "      <td>Zimbabwe</td>\n",
       "      <td>Switzerland</td>\n",
       "      <td>0</td>\n",
       "      <td>17</td>\n",
       "    </tr>\n",
       "    <tr>\n",
       "      <th>5846</th>\n",
       "      <td>Zimbabwe</td>\n",
       "      <td>Thailand</td>\n",
       "      <td>0</td>\n",
       "      <td>0</td>\n",
       "    </tr>\n",
       "    <tr>\n",
       "      <th>5847</th>\n",
       "      <td>Zimbabwe</td>\n",
       "      <td>Ukraine</td>\n",
       "      <td>0</td>\n",
       "      <td>3</td>\n",
       "    </tr>\n",
       "    <tr>\n",
       "      <th>5848</th>\n",
       "      <td>Zimbabwe</td>\n",
       "      <td>United Kingdom</td>\n",
       "      <td>5490</td>\n",
       "      <td>12256</td>\n",
       "    </tr>\n",
       "    <tr>\n",
       "      <th>5849</th>\n",
       "      <td>Zimbabwe</td>\n",
       "      <td>United States of America</td>\n",
       "      <td>266</td>\n",
       "      <td>363</td>\n",
       "    </tr>\n",
       "  </tbody>\n",
       "</table>\n",
       "<p>5850 rows × 4 columns</p>\n",
       "</div>"
      ],
      "text/plain": [
       "           origin                   destiny  value  rejected\n",
       "0     Afghanistan                    Angola      0         2\n",
       "1     Afghanistan                 Argentina      0         0\n",
       "2     Afghanistan                   Armenia      0         4\n",
       "3     Afghanistan                 Australia   2192       757\n",
       "4     Afghanistan                   Austria   1034       811\n",
       "...           ...                       ...    ...       ...\n",
       "5845     Zimbabwe               Switzerland      0        17\n",
       "5846     Zimbabwe                  Thailand      0         0\n",
       "5847     Zimbabwe                   Ukraine      0         3\n",
       "5848     Zimbabwe            United Kingdom   5490     12256\n",
       "5849     Zimbabwe  United States of America    266       363\n",
       "\n",
       "[5850 rows x 4 columns]"
      ]
     },
     "execution_count": 37,
     "metadata": {},
     "output_type": "execute_result"
    }
   ],
   "source": [
    "df_aresta_2001_2003"
   ]
  },
  {
   "cell_type": "markdown",
   "id": "44e3ec4e",
   "metadata": {},
   "source": [
    "Vamos começar calculando o coreness e depois calcularemos o out-degree que é "
   ]
  },
  {
   "cell_type": "code",
   "execution_count": 38,
   "id": "82377b04",
   "metadata": {},
   "outputs": [
    {
     "name": "stderr",
     "output_type": "stream",
     "text": [
      "/tmp/ipykernel_12/2799065956.py:1: FutureWarning: The default value of numeric_only in DataFrameGroupBy.sum is deprecated. In a future version, numeric_only will default to False. Either specify numeric_only or select only columns which should be valid for the function.\n",
      "  df_out_degree_2001_2003 = df_aresta_2001_2003.groupby('origin').sum().reindex(listaVertices).fillna(0)\n"
     ]
    },
    {
     "data": {
      "text/html": [
       "<div>\n",
       "<style scoped>\n",
       "    .dataframe tbody tr th:only-of-type {\n",
       "        vertical-align: middle;\n",
       "    }\n",
       "\n",
       "    .dataframe tbody tr th {\n",
       "        vertical-align: top;\n",
       "    }\n",
       "\n",
       "    .dataframe thead th {\n",
       "        text-align: right;\n",
       "    }\n",
       "</style>\n",
       "<table border=\"1\" class=\"dataframe\">\n",
       "  <thead>\n",
       "    <tr style=\"text-align: right;\">\n",
       "      <th></th>\n",
       "      <th>value</th>\n",
       "      <th>rejected</th>\n",
       "    </tr>\n",
       "    <tr>\n",
       "      <th>origin</th>\n",
       "      <th></th>\n",
       "      <th></th>\n",
       "    </tr>\n",
       "  </thead>\n",
       "  <tbody>\n",
       "    <tr>\n",
       "      <th>Dem. Rep. of the Congo</th>\n",
       "      <td>31364.0</td>\n",
       "      <td>41184.0</td>\n",
       "    </tr>\n",
       "    <tr>\n",
       "      <th>Rwanda</th>\n",
       "      <td>30452.0</td>\n",
       "      <td>5293.0</td>\n",
       "    </tr>\n",
       "    <tr>\n",
       "      <th>Iraq</th>\n",
       "      <td>30435.0</td>\n",
       "      <td>90068.0</td>\n",
       "    </tr>\n",
       "    <tr>\n",
       "      <th>Sudan</th>\n",
       "      <td>27901.0</td>\n",
       "      <td>24182.0</td>\n",
       "    </tr>\n",
       "    <tr>\n",
       "      <th>Afghanistan</th>\n",
       "      <td>25822.0</td>\n",
       "      <td>49943.0</td>\n",
       "    </tr>\n",
       "    <tr>\n",
       "      <th>...</th>\n",
       "      <td>...</td>\n",
       "      <td>...</td>\n",
       "    </tr>\n",
       "    <tr>\n",
       "      <th>Gibraltar</th>\n",
       "      <td>0.0</td>\n",
       "      <td>2.0</td>\n",
       "    </tr>\n",
       "    <tr>\n",
       "      <th>Malta</th>\n",
       "      <td>0.0</td>\n",
       "      <td>5.0</td>\n",
       "    </tr>\n",
       "    <tr>\n",
       "      <th>Micronesia (Federated States of)</th>\n",
       "      <td>0.0</td>\n",
       "      <td>0.0</td>\n",
       "    </tr>\n",
       "    <tr>\n",
       "      <th>Cayman Islands</th>\n",
       "      <td>0.0</td>\n",
       "      <td>2.0</td>\n",
       "    </tr>\n",
       "    <tr>\n",
       "      <th>Ireland</th>\n",
       "      <td>0.0</td>\n",
       "      <td>15.0</td>\n",
       "    </tr>\n",
       "  </tbody>\n",
       "</table>\n",
       "<p>225 rows × 2 columns</p>\n",
       "</div>"
      ],
      "text/plain": [
       "                                    value  rejected\n",
       "origin                                             \n",
       "Dem. Rep. of the Congo            31364.0   41184.0\n",
       "Rwanda                            30452.0    5293.0\n",
       "Iraq                              30435.0   90068.0\n",
       "Sudan                             27901.0   24182.0\n",
       "Afghanistan                       25822.0   49943.0\n",
       "...                                   ...       ...\n",
       "Gibraltar                             0.0       2.0\n",
       "Malta                                 0.0       5.0\n",
       "Micronesia (Federated States of)      0.0       0.0\n",
       "Cayman Islands                        0.0       2.0\n",
       "Ireland                               0.0      15.0\n",
       "\n",
       "[225 rows x 2 columns]"
      ]
     },
     "execution_count": 38,
     "metadata": {},
     "output_type": "execute_result"
    }
   ],
   "source": [
    "df_out_degree_2001_2003 = df_aresta_2001_2003.groupby('origin').sum().reindex(listaVertices).fillna(0)\n",
    "df_out_degree_2001_2003.sort_values(\"value\", ascending = False)"
   ]
  },
  {
   "cell_type": "code",
   "execution_count": 39,
   "id": "5c3ba665",
   "metadata": {},
   "outputs": [],
   "source": [
    "df_out_degree_2001_2003 = df_out_degree_2001_2003.drop('rejected', axis=1)"
   ]
  },
  {
   "cell_type": "code",
   "execution_count": 40,
   "id": "f570abb8",
   "metadata": {},
   "outputs": [
    {
     "data": {
      "text/html": [
       "<div>\n",
       "<style scoped>\n",
       "    .dataframe tbody tr th:only-of-type {\n",
       "        vertical-align: middle;\n",
       "    }\n",
       "\n",
       "    .dataframe tbody tr th {\n",
       "        vertical-align: top;\n",
       "    }\n",
       "\n",
       "    .dataframe thead th {\n",
       "        text-align: right;\n",
       "    }\n",
       "</style>\n",
       "<table border=\"1\" class=\"dataframe\">\n",
       "  <thead>\n",
       "    <tr style=\"text-align: right;\">\n",
       "      <th></th>\n",
       "      <th>out_degree</th>\n",
       "    </tr>\n",
       "    <tr>\n",
       "      <th>origin</th>\n",
       "      <th></th>\n",
       "    </tr>\n",
       "  </thead>\n",
       "  <tbody>\n",
       "    <tr>\n",
       "      <th>Tuvalu</th>\n",
       "      <td>0.0</td>\n",
       "    </tr>\n",
       "    <tr>\n",
       "      <th>Syrian Arab Rep.</th>\n",
       "      <td>1583.0</td>\n",
       "    </tr>\n",
       "    <tr>\n",
       "      <th>China</th>\n",
       "      <td>18568.0</td>\n",
       "    </tr>\n",
       "    <tr>\n",
       "      <th>Denmark</th>\n",
       "      <td>0.0</td>\n",
       "    </tr>\n",
       "    <tr>\n",
       "      <th>Nauru</th>\n",
       "      <td>0.0</td>\n",
       "    </tr>\n",
       "    <tr>\n",
       "      <th>...</th>\n",
       "      <td>...</td>\n",
       "    </tr>\n",
       "    <tr>\n",
       "      <th>Austria</th>\n",
       "      <td>0.0</td>\n",
       "    </tr>\n",
       "    <tr>\n",
       "      <th>Djibouti</th>\n",
       "      <td>138.0</td>\n",
       "    </tr>\n",
       "    <tr>\n",
       "      <th>Seychelles</th>\n",
       "      <td>25.0</td>\n",
       "    </tr>\n",
       "    <tr>\n",
       "      <th>Iraq</th>\n",
       "      <td>30435.0</td>\n",
       "    </tr>\n",
       "    <tr>\n",
       "      <th>Ireland</th>\n",
       "      <td>0.0</td>\n",
       "    </tr>\n",
       "  </tbody>\n",
       "</table>\n",
       "<p>225 rows × 1 columns</p>\n",
       "</div>"
      ],
      "text/plain": [
       "                  out_degree\n",
       "origin                      \n",
       "Tuvalu                   0.0\n",
       "Syrian Arab Rep.      1583.0\n",
       "China                18568.0\n",
       "Denmark                  0.0\n",
       "Nauru                    0.0\n",
       "...                      ...\n",
       "Austria                  0.0\n",
       "Djibouti               138.0\n",
       "Seychelles              25.0\n",
       "Iraq                 30435.0\n",
       "Ireland                  0.0\n",
       "\n",
       "[225 rows x 1 columns]"
      ]
     },
     "execution_count": 40,
     "metadata": {},
     "output_type": "execute_result"
    }
   ],
   "source": [
    "df_out_degree_2001_2003 = df_out_degree_2001_2003.rename(columns={'origin': 'origin', 'value':'out_degree'})\n",
    "df_out_degree_2001_2003"
   ]
  },
  {
   "cell_type": "code",
   "execution_count": 41,
   "id": "8dbc569d",
   "metadata": {},
   "outputs": [],
   "source": [
    "m = gt_draw.sfdp_layout(g)\n",
    "gt_move(g, m)\n",
    "gt_save(g, 'centralidadeCoreness20012003.net.gz')"
   ]
  },
  {
   "cell_type": "code",
   "execution_count": 42,
   "id": "bd8c228e",
   "metadata": {},
   "outputs": [
    {
     "data": {
      "text/html": [
       "\n",
       "        <div id=\"Nn2UsWVPTj4nkwbQAESU8z\"></div>\n",
       "        <script>netpixi.render('Nn2UsWVPTj4nkwbQAESU8z', 'centralidadeCoreness20012003.net.gz', 1.7777777777777777, true, false, false);</script>\n",
       "    "
      ],
      "text/plain": [
       "<IPython.core.display.HTML object>"
      ]
     },
     "metadata": {},
     "output_type": "display_data"
    }
   ],
   "source": [
    "r = netpixi.render('centralidadeCoreness20012003.net.gz')"
   ]
  },
  {
   "cell_type": "code",
   "execution_count": 44,
   "id": "9fe79138",
   "metadata": {},
   "outputs": [
    {
     "data": {
      "text/html": [
       "\n",
       "        <div id=\"FFhqKz2zikVR2met98aKQN\"></div>\n",
       "        <script>netpixi.call('FFhqKz2zikVR2met98aKQN', 'Nn2UsWVPTj4nkwbQAESU8z', 'changeGraph', 'eyJpZCI6ICJUdXZhbHUiLCAidHlwZSI6ICJ2ZXJ0ZXgiLCAicHJvcHMiOiB7ImNvbG9yIjogNjUyODB9fQo=');</script>\n",
       "    "
      ],
      "text/plain": [
       "<IPython.core.display.HTML object>"
      ]
     },
     "metadata": {},
     "output_type": "display_data"
    },
    {
     "data": {
      "text/html": [
       "\n",
       "        <div id=\"nvzpqCE9c7pYApo3x4zX6w\"></div>\n",
       "        <script>netpixi.call('nvzpqCE9c7pYApo3x4zX6w', 'Nn2UsWVPTj4nkwbQAESU8z', 'changeGraph', 'eyJpZCI6ICJTeXJpYW4gQXJhYiBSZXAuIiwgInR5cGUiOiAidmVydGV4IiwgInByb3BzIjogeyJjb2xvciI6IDE2NzExNjgwfX0K');</script>\n",
       "    "
      ],
      "text/plain": [
       "<IPython.core.display.HTML object>"
      ]
     },
     "metadata": {},
     "output_type": "display_data"
    },
    {
     "data": {
      "text/html": [
       "\n",
       "        <div id=\"WEEvecqXdpxzH2Kp9qpAMv\"></div>\n",
       "        <script>netpixi.call('WEEvecqXdpxzH2Kp9qpAMv', 'Nn2UsWVPTj4nkwbQAESU8z', 'changeGraph', 'eyJpZCI6ICJDaGluYSIsICJ0eXBlIjogInZlcnRleCIsICJwcm9wcyI6IHsiY29sb3IiOiA2NTI4MH19Cg==');</script>\n",
       "    "
      ],
      "text/plain": [
       "<IPython.core.display.HTML object>"
      ]
     },
     "metadata": {},
     "output_type": "display_data"
    },
    {
     "data": {
      "text/html": [
       "\n",
       "        <div id=\"awE62ZkLsykHdjfP7rcAr9\"></div>\n",
       "        <script>netpixi.call('awE62ZkLsykHdjfP7rcAr9', 'Nn2UsWVPTj4nkwbQAESU8z', 'changeGraph', 'eyJpZCI6ICJEZW5tYXJrIiwgInR5cGUiOiAidmVydGV4IiwgInByb3BzIjogeyJjb2xvciI6IDE2NzExNjgwfX0K');</script>\n",
       "    "
      ],
      "text/plain": [
       "<IPython.core.display.HTML object>"
      ]
     },
     "metadata": {},
     "output_type": "display_data"
    },
    {
     "data": {
      "text/html": [
       "\n",
       "        <div id=\"YpfjCRFcbG2V6rhcA5ezV7\"></div>\n",
       "        <script>netpixi.call('YpfjCRFcbG2V6rhcA5ezV7', 'Nn2UsWVPTj4nkwbQAESU8z', 'changeGraph', 'eyJpZCI6ICJOYXVydSIsICJ0eXBlIjogInZlcnRleCIsICJwcm9wcyI6IHsiY29sb3IiOiA2NTI4MH19Cg==');</script>\n",
       "    "
      ],
      "text/plain": [
       "<IPython.core.display.HTML object>"
      ]
     },
     "metadata": {},
     "output_type": "display_data"
    },
    {
     "data": {
      "text/html": [
       "\n",
       "        <div id=\"XSwS7985fc5Qox6JCTDepe\"></div>\n",
       "        <script>netpixi.call('XSwS7985fc5Qox6JCTDepe', 'Nn2UsWVPTj4nkwbQAESU8z', 'changeGraph', 'eyJpZCI6ICJOZXcgQ2FsZWRvbmlhIiwgInR5cGUiOiAidmVydGV4IiwgInByb3BzIjogeyJjb2xvciI6IDY1MjgwfX0K');</script>\n",
       "    "
      ],
      "text/plain": [
       "<IPython.core.display.HTML object>"
      ]
     },
     "metadata": {},
     "output_type": "display_data"
    },
    {
     "data": {
      "text/html": [
       "\n",
       "        <div id=\"nJV6uB8bTrUhVr56j4RRLU\"></div>\n",
       "        <script>netpixi.call('nJV6uB8bTrUhVr56j4RRLU', 'Nn2UsWVPTj4nkwbQAESU8z', 'changeGraph', 'eyJpZCI6ICJTcGFpbiIsICJ0eXBlIjogInZlcnRleCIsICJwcm9wcyI6IHsiY29sb3IiOiAxNjcxMTY4MH19Cg==');</script>\n",
       "    "
      ],
      "text/plain": [
       "<IPython.core.display.HTML object>"
      ]
     },
     "metadata": {},
     "output_type": "display_data"
    },
    {
     "data": {
      "text/html": [
       "\n",
       "        <div id=\"oLX8S8cbD9iqXK3DNaM3ke\"></div>\n",
       "        <script>netpixi.call('oLX8S8cbD9iqXK3DNaM3ke', 'Nn2UsWVPTj4nkwbQAESU8z', 'changeGraph', 'eyJpZCI6ICJRYXRhciIsICJ0eXBlIjogInZlcnRleCIsICJwcm9wcyI6IHsiY29sb3IiOiA2NTI4MH19Cg==');</script>\n",
       "    "
      ],
      "text/plain": [
       "<IPython.core.display.HTML object>"
      ]
     },
     "metadata": {},
     "output_type": "display_data"
    },
    {
     "data": {
      "text/html": [
       "\n",
       "        <div id=\"nhzhR99gnUskLZiNDqsyRt\"></div>\n",
       "        <script>netpixi.call('nhzhR99gnUskLZiNDqsyRt', 'Nn2UsWVPTj4nkwbQAESU8z', 'changeGraph', 'eyJpZCI6ICJCb3NuaWEgYW5kIEhlcnplZ292aW5hIiwgInR5cGUiOiAidmVydGV4IiwgInByb3BzIjogeyJjb2xvciI6IDY1MjgwfX0K');</script>\n",
       "    "
      ],
      "text/plain": [
       "<IPython.core.display.HTML object>"
      ]
     },
     "metadata": {},
     "output_type": "display_data"
    },
    {
     "data": {
      "text/html": [
       "\n",
       "        <div id=\"TGij5LfxEh9za2wFHCpbWY\"></div>\n",
       "        <script>netpixi.call('TGij5LfxEh9za2wFHCpbWY', 'Nn2UsWVPTj4nkwbQAESU8z', 'changeGraph', 'eyJpZCI6ICJMYXR2aWEiLCAidHlwZSI6ICJ2ZXJ0ZXgiLCAicHJvcHMiOiB7ImNvbG9yIjogNjUyODB9fQo=');</script>\n",
       "    "
      ],
      "text/plain": [
       "<IPython.core.display.HTML object>"
      ]
     },
     "metadata": {},
     "output_type": "display_data"
    },
    {
     "data": {
      "text/html": [
       "\n",
       "        <div id=\"Y47JwVDBTwRLWAqzAUtxde\"></div>\n",
       "        <script>netpixi.call('Y47JwVDBTwRLWAqzAUtxde', 'Nn2UsWVPTj4nkwbQAESU8z', 'changeGraph', 'eyJpZCI6ICJCb25haXJlIiwgInR5cGUiOiAidmVydGV4IiwgInByb3BzIjogeyJjb2xvciI6IDY1MjgwfX0K');</script>\n",
       "    "
      ],
      "text/plain": [
       "<IPython.core.display.HTML object>"
      ]
     },
     "metadata": {},
     "output_type": "display_data"
    },
    {
     "data": {
      "text/html": [
       "\n",
       "        <div id=\"7qRAbjoYJJSfX3j7NHouw5\"></div>\n",
       "        <script>netpixi.call('7qRAbjoYJJSfX3j7NHouw5', 'Nn2UsWVPTj4nkwbQAESU8z', 'changeGraph', 'eyJpZCI6ICJKYXBhbiIsICJ0eXBlIjogInZlcnRleCIsICJwcm9wcyI6IHsiY29sb3IiOiA2NTI4MH19Cg==');</script>\n",
       "    "
      ],
      "text/plain": [
       "<IPython.core.display.HTML object>"
      ]
     },
     "metadata": {},
     "output_type": "display_data"
    },
    {
     "data": {
      "text/html": [
       "\n",
       "        <div id=\"gXUCrLFECxpjawxX4j3DAj\"></div>\n",
       "        <script>netpixi.call('gXUCrLFECxpjawxX4j3DAj', 'Nn2UsWVPTj4nkwbQAESU8z', 'changeGraph', 'eyJpZCI6ICJHYWJvbiIsICJ0eXBlIjogInZlcnRleCIsICJwcm9wcyI6IHsiY29sb3IiOiA2NTI4MH19Cg==');</script>\n",
       "    "
      ],
      "text/plain": [
       "<IPython.core.display.HTML object>"
      ]
     },
     "metadata": {},
     "output_type": "display_data"
    },
    {
     "data": {
      "text/html": [
       "\n",
       "        <div id=\"VMnMrKZCEZVbhdb765hbZ4\"></div>\n",
       "        <script>netpixi.call('VMnMrKZCEZVbhdb765hbZ4', 'Nn2UsWVPTj4nkwbQAESU8z', 'changeGraph', 'eyJpZCI6ICJOZXBhbCIsICJ0eXBlIjogInZlcnRleCIsICJwcm9wcyI6IHsiY29sb3IiOiA2NTI4MH19Cg==');</script>\n",
       "    "
      ],
      "text/plain": [
       "<IPython.core.display.HTML object>"
      ]
     },
     "metadata": {},
     "output_type": "display_data"
    },
    {
     "data": {
      "text/html": [
       "\n",
       "        <div id=\"gHpPKnzEeDx2wcYJcNYdpd\"></div>\n",
       "        <script>netpixi.call('gHpPKnzEeDx2wcYJcNYdpd', 'Nn2UsWVPTj4nkwbQAESU8z', 'changeGraph', 'eyJpZCI6ICJBbmdvbGEiLCAidHlwZSI6ICJ2ZXJ0ZXgiLCAicHJvcHMiOiB7ImNvbG9yIjogNjUyODB9fQo=');</script>\n",
       "    "
      ],
      "text/plain": [
       "<IPython.core.display.HTML object>"
      ]
     },
     "metadata": {},
     "output_type": "display_data"
    },
    {
     "data": {
      "text/html": [
       "\n",
       "        <div id=\"EdUzqGpoDPwh3MLKz7Zcnr\"></div>\n",
       "        <script>netpixi.call('EdUzqGpoDPwh3MLKz7Zcnr', 'Nn2UsWVPTj4nkwbQAESU8z', 'changeGraph', 'eyJpZCI6ICJBcmdlbnRpbmEiLCAidHlwZSI6ICJ2ZXJ0ZXgiLCAicHJvcHMiOiB7ImNvbG9yIjogMTY3MTE2ODB9fQo=');</script>\n",
       "    "
      ],
      "text/plain": [
       "<IPython.core.display.HTML object>"
      ]
     },
     "metadata": {},
     "output_type": "display_data"
    },
    {
     "data": {
      "text/html": [
       "\n",
       "        <div id=\"ZGFG4SL4Br3yfu7QSHqnj6\"></div>\n",
       "        <script>netpixi.call('ZGFG4SL4Br3yfu7QSHqnj6', 'Nn2UsWVPTj4nkwbQAESU8z', 'changeGraph', 'eyJpZCI6ICJUaGUgZm9ybWVyIFl1Z29zbGF2IFJlcHVibGljIG9mIE1hY2Vkb25pYSIsICJ0eXBlIjogInZlcnRleCIsICJwcm9wcyI6IHsiY29sb3IiOiA2NTI4MH19Cg==');</script>\n",
       "    "
      ],
      "text/plain": [
       "<IPython.core.display.HTML object>"
      ]
     },
     "metadata": {},
     "output_type": "display_data"
    },
    {
     "data": {
      "text/html": [
       "\n",
       "        <div id=\"6Y9eJfV24rXsKi9xV9GKHg\"></div>\n",
       "        <script>netpixi.call('6Y9eJfV24rXsKi9xV9GKHg', 'Nn2UsWVPTj4nkwbQAESU8z', 'changeGraph', 'eyJpZCI6ICJDYW1ib2RpYSIsICJ0eXBlIjogInZlcnRleCIsICJwcm9wcyI6IHsiY29sb3IiOiA2NTI4MH19Cg==');</script>\n",
       "    "
      ],
      "text/plain": [
       "<IPython.core.display.HTML object>"
      ]
     },
     "metadata": {},
     "output_type": "display_data"
    },
    {
     "data": {
      "text/html": [
       "\n",
       "        <div id=\"kAYtWJJ4ofA7zifECYgqZ6\"></div>\n",
       "        <script>netpixi.call('kAYtWJJ4ofA7zifECYgqZ6', 'Nn2UsWVPTj4nkwbQAESU8z', 'changeGraph', 'eyJpZCI6ICJCdXJ1bmRpIiwgInR5cGUiOiAidmVydGV4IiwgInByb3BzIjogeyJjb2xvciI6IDY1MjgwfX0K');</script>\n",
       "    "
      ],
      "text/plain": [
       "<IPython.core.display.HTML object>"
      ]
     },
     "metadata": {},
     "output_type": "display_data"
    },
    {
     "data": {
      "text/html": [
       "\n",
       "        <div id=\"GUqfPmyGHi9UJfoP5ueiNo\"></div>\n",
       "        <script>netpixi.call('GUqfPmyGHi9UJfoP5ueiNo', 'Nn2UsWVPTj4nkwbQAESU8z', 'changeGraph', 'eyJpZCI6ICJDcm9hdGlhIiwgInR5cGUiOiAidmVydGV4IiwgInByb3BzIjogeyJjb2xvciI6IDY1MjgwfX0K');</script>\n",
       "    "
      ],
      "text/plain": [
       "<IPython.core.display.HTML object>"
      ]
     },
     "metadata": {},
     "output_type": "display_data"
    },
    {
     "data": {
      "text/html": [
       "\n",
       "        <div id=\"CMSHY8xc2hYXx6rpYGvPzh\"></div>\n",
       "        <script>netpixi.call('CMSHY8xc2hYXx6rpYGvPzh', 'Nn2UsWVPTj4nkwbQAESU8z', 'changeGraph', 'eyJpZCI6ICJCZWxhcnVzIiwgInR5cGUiOiAidmVydGV4IiwgInByb3BzIjogeyJjb2xvciI6IDE2NzExNjgwfX0K');</script>\n",
       "    "
      ],
      "text/plain": [
       "<IPython.core.display.HTML object>"
      ]
     },
     "metadata": {},
     "output_type": "display_data"
    },
    {
     "data": {
      "text/html": [
       "\n",
       "        <div id=\"WcbuufJxgESkFYFwv7F6xH\"></div>\n",
       "        <script>netpixi.call('WcbuufJxgESkFYFwv7F6xH', 'Nn2UsWVPTj4nkwbQAESU8z', 'changeGraph', 'eyJpZCI6ICJQYW5hbWEiLCAidHlwZSI6ICJ2ZXJ0ZXgiLCAicHJvcHMiOiB7ImNvbG9yIjogNjUyODB9fQo=');</script>\n",
       "    "
      ],
      "text/plain": [
       "<IPython.core.display.HTML object>"
      ]
     },
     "metadata": {},
     "output_type": "display_data"
    },
    {
     "data": {
      "text/html": [
       "\n",
       "        <div id=\"NBZJ4H3WpFyT4dxshGsnNu\"></div>\n",
       "        <script>netpixi.call('NBZJ4H3WpFyT4dxshGsnNu', 'Nn2UsWVPTj4nkwbQAESU8z', 'changeGraph', 'eyJpZCI6ICJFc3RvbmlhIiwgInR5cGUiOiAidmVydGV4IiwgInByb3BzIjogeyJjb2xvciI6IDY1MjgwfX0K');</script>\n",
       "    "
      ],
      "text/plain": [
       "<IPython.core.display.HTML object>"
      ]
     },
     "metadata": {},
     "output_type": "display_data"
    },
    {
     "data": {
      "text/html": [
       "\n",
       "        <div id=\"26CjvkPJdrRWWafHH5U7jr\"></div>\n",
       "        <script>netpixi.call('26CjvkPJdrRWWafHH5U7jr', 'Nn2UsWVPTj4nkwbQAESU8z', 'changeGraph', 'eyJpZCI6ICJHcmVuYWRhIiwgInR5cGUiOiAidmVydGV4IiwgInByb3BzIjogeyJjb2xvciI6IDY1MjgwfX0K');</script>\n",
       "    "
      ],
      "text/plain": [
       "<IPython.core.display.HTML object>"
      ]
     },
     "metadata": {},
     "output_type": "display_data"
    },
    {
     "data": {
      "text/html": [
       "\n",
       "        <div id=\"8n43bxGWtnQ3qtzHPZchf8\"></div>\n",
       "        <script>netpixi.call('8n43bxGWtnQ3qtzHPZchf8', 'Nn2UsWVPTj4nkwbQAESU8z', 'changeGraph', 'eyJpZCI6ICJCb3Rzd2FuYSIsICJ0eXBlIjogInZlcnRleCIsICJwcm9wcyI6IHsiY29sb3IiOiA2NTI4MH19Cg==');</script>\n",
       "    "
      ],
      "text/plain": [
       "<IPython.core.display.HTML object>"
      ]
     },
     "metadata": {},
     "output_type": "display_data"
    },
    {
     "data": {
      "text/html": [
       "\n",
       "        <div id=\"YRKbp8oEmEih72MCytvW24\"></div>\n",
       "        <script>netpixi.call('YRKbp8oEmEih72MCytvW24', 'Nn2UsWVPTj4nkwbQAESU8z', 'changeGraph', 'eyJpZCI6ICJGcmVuY2ggR3VpYW5hIiwgInR5cGUiOiAidmVydGV4IiwgInByb3BzIjogeyJjb2xvciI6IDY1MjgwfX0K');</script>\n",
       "    "
      ],
      "text/plain": [
       "<IPython.core.display.HTML object>"
      ]
     },
     "metadata": {},
     "output_type": "display_data"
    },
    {
     "data": {
      "text/html": [
       "\n",
       "        <div id=\"7eQd6T2Qsrs9aT26SGFiYG\"></div>\n",
       "        <script>netpixi.call('7eQd6T2Qsrs9aT26SGFiYG', 'Nn2UsWVPTj4nkwbQAESU8z', 'changeGraph', 'eyJpZCI6ICJMZXNvdGhvIiwgInR5cGUiOiAidmVydGV4IiwgInByb3BzIjogeyJjb2xvciI6IDY1MjgwfX0K');</script>\n",
       "    "
      ],
      "text/plain": [
       "<IPython.core.display.HTML object>"
      ]
     },
     "metadata": {},
     "output_type": "display_data"
    },
    {
     "data": {
      "text/html": [
       "\n",
       "        <div id=\"5BxqtMhAufWCipysor7GE7\"></div>\n",
       "        <script>netpixi.call('5BxqtMhAufWCipysor7GE7', 'Nn2UsWVPTj4nkwbQAESU8z', 'changeGraph', 'eyJpZCI6ICJDYW1lcm9vbiIsICJ0eXBlIjogInZlcnRleCIsICJwcm9wcyI6IHsiY29sb3IiOiA2NTI4MH19Cg==');</script>\n",
       "    "
      ],
      "text/plain": [
       "<IPython.core.display.HTML object>"
      ]
     },
     "metadata": {},
     "output_type": "display_data"
    },
    {
     "data": {
      "text/html": [
       "\n",
       "        <div id=\"LYn5SR88J9bsd6P2c2xjcZ\"></div>\n",
       "        <script>netpixi.call('LYn5SR88J9bsd6P2c2xjcZ', 'Nn2UsWVPTj4nkwbQAESU8z', 'changeGraph', 'eyJpZCI6ICJUaWJldGFuIiwgInR5cGUiOiAidmVydGV4IiwgInByb3BzIjogeyJjb2xvciI6IDY1MjgwfX0K');</script>\n",
       "    "
      ],
      "text/plain": [
       "<IPython.core.display.HTML object>"
      ]
     },
     "metadata": {},
     "output_type": "display_data"
    },
    {
     "data": {
      "text/html": [
       "\n",
       "        <div id=\"8xGEpfTf6aLjqeFtr6tq3X\"></div>\n",
       "        <script>netpixi.call('8xGEpfTf6aLjqeFtr6tq3X', 'Nn2UsWVPTj4nkwbQAESU8z', 'changeGraph', 'eyJpZCI6ICJVZ2FuZGEiLCAidHlwZSI6ICJ2ZXJ0ZXgiLCAicHJvcHMiOiB7ImNvbG9yIjogNjUyODB9fQo=');</script>\n",
       "    "
      ],
      "text/plain": [
       "<IPython.core.display.HTML object>"
      ]
     },
     "metadata": {},
     "output_type": "display_data"
    },
    {
     "data": {
      "text/html": [
       "\n",
       "        <div id=\"8Y62bkSF3nuicMGLAN7rWQ\"></div>\n",
       "        <script>netpixi.call('8Y62bkSF3nuicMGLAN7rWQ', 'Nn2UsWVPTj4nkwbQAESU8z', 'changeGraph', 'eyJpZCI6ICJTaW50IE1hYXJ0ZW4gKER1dGNoIHBhcnQpIiwgInR5cGUiOiAidmVydGV4IiwgInByb3BzIjogeyJjb2xvciI6IDY1MjgwfX0K');</script>\n",
       "    "
      ],
      "text/plain": [
       "<IPython.core.display.HTML object>"
      ]
     },
     "metadata": {},
     "output_type": "display_data"
    },
    {
     "data": {
      "text/html": [
       "\n",
       "        <div id=\"2ukYo9VkDGVGAQHzB59phb\"></div>\n",
       "        <script>netpixi.call('2ukYo9VkDGVGAQHzB59phb', 'Nn2UsWVPTj4nkwbQAESU8z', 'changeGraph', 'eyJpZCI6ICJHdWluZWEtQmlzc2F1IiwgInR5cGUiOiAidmVydGV4IiwgInByb3BzIjogeyJjb2xvciI6IDY1MjgwfX0K');</script>\n",
       "    "
      ],
      "text/plain": [
       "<IPython.core.display.HTML object>"
      ]
     },
     "metadata": {},
     "output_type": "display_data"
    },
    {
     "data": {
      "text/html": [
       "\n",
       "        <div id=\"5WrhsMAnUQxKkZqtwnTwpZ\"></div>\n",
       "        <script>netpixi.call('5WrhsMAnUQxKkZqtwnTwpZ', 'Nn2UsWVPTj4nkwbQAESU8z', 'changeGraph', 'eyJpZCI6ICJUYWppa2lzdGFuIiwgInR5cGUiOiAidmVydGV4IiwgInByb3BzIjogeyJjb2xvciI6IDY1MjgwfX0K');</script>\n",
       "    "
      ],
      "text/plain": [
       "<IPython.core.display.HTML object>"
      ]
     },
     "metadata": {},
     "output_type": "display_data"
    },
    {
     "data": {
      "text/html": [
       "\n",
       "        <div id=\"RN2CfYmMRsULgJhp3JGTCW\"></div>\n",
       "        <script>netpixi.call('RN2CfYmMRsULgJhp3JGTCW', 'Nn2UsWVPTj4nkwbQAESU8z', 'changeGraph', 'eyJpZCI6ICJTb21hbGlhIiwgInR5cGUiOiAidmVydGV4IiwgInByb3BzIjogeyJjb2xvciI6IDY1MjgwfX0K');</script>\n",
       "    "
      ],
      "text/plain": [
       "<IPython.core.display.HTML object>"
      ]
     },
     "metadata": {},
     "output_type": "display_data"
    },
    {
     "data": {
      "text/html": [
       "\n",
       "        <div id=\"APQRPacGfxWjPA3UEriBCc\"></div>\n",
       "        <script>netpixi.call('APQRPacGfxWjPA3UEriBCc', 'Nn2UsWVPTj4nkwbQAESU8z', 'changeGraph', 'eyJpZCI6ICJMdXhlbWJvdXJnIiwgInR5cGUiOiAidmVydGV4IiwgInByb3BzIjogeyJjb2xvciI6IDE2NzExNjgwfX0K');</script>\n",
       "    "
      ],
      "text/plain": [
       "<IPython.core.display.HTML object>"
      ]
     },
     "metadata": {},
     "output_type": "display_data"
    },
    {
     "data": {
      "text/html": [
       "\n",
       "        <div id=\"nDZqJu33Ffe4kQYTLrj2Mv\"></div>\n",
       "        <script>netpixi.call('nDZqJu33Ffe4kQYTLrj2Mv', 'Nn2UsWVPTj4nkwbQAESU8z', 'changeGraph', 'eyJpZCI6ICJFcml0cmVhIiwgInR5cGUiOiAidmVydGV4IiwgInByb3BzIjogeyJjb2xvciI6IDY1MjgwfX0K');</script>\n",
       "    "
      ],
      "text/plain": [
       "<IPython.core.display.HTML object>"
      ]
     },
     "metadata": {},
     "output_type": "display_data"
    },
    {
     "data": {
      "text/html": [
       "\n",
       "        <div id=\"akDQGtWLWXstL3FvPvY2J8\"></div>\n",
       "        <script>netpixi.call('akDQGtWLWXstL3FvPvY2J8', 'Nn2UsWVPTj4nkwbQAESU8z', 'changeGraph', 'eyJpZCI6ICJLYXpha2hzdGFuIiwgInR5cGUiOiAidmVydGV4IiwgInByb3BzIjogeyJjb2xvciI6IDY1MjgwfX0K');</script>\n",
       "    "
      ],
      "text/plain": [
       "<IPython.core.display.HTML object>"
      ]
     },
     "metadata": {},
     "output_type": "display_data"
    },
    {
     "data": {
      "text/html": [
       "\n",
       "        <div id=\"gebTbY8xuAsanZNgK7LFxk\"></div>\n",
       "        <script>netpixi.call('gebTbY8xuAsanZNgK7LFxk', 'Nn2UsWVPTj4nkwbQAESU8z', 'changeGraph', 'eyJpZCI6ICJIb2x5IFNlZSAodGhlKSIsICJ0eXBlIjogInZlcnRleCIsICJwcm9wcyI6IHsiY29sb3IiOiA2NTI4MH19Cg==');</script>\n",
       "    "
      ],
      "text/plain": [
       "<IPython.core.display.HTML object>"
      ]
     },
     "metadata": {},
     "output_type": "display_data"
    },
    {
     "data": {
      "text/html": [
       "\n",
       "        <div id=\"2NrqRh695REnoMJWrGUBnx\"></div>\n",
       "        <script>netpixi.call('2NrqRh695REnoMJWrGUBnx', 'Nn2UsWVPTj4nkwbQAESU8z', 'changeGraph', 'eyJpZCI6ICJCcnVuZWkgRGFydXNzYWxhbSIsICJ0eXBlIjogInZlcnRleCIsICJwcm9wcyI6IHsiY29sb3IiOiA2NTI4MH19Cg==');</script>\n",
       "    "
      ],
      "text/plain": [
       "<IPython.core.display.HTML object>"
      ]
     },
     "metadata": {},
     "output_type": "display_data"
    },
    {
     "data": {
      "text/html": [
       "\n",
       "        <div id=\"3XHXhbSokv46npCJQEqUic\"></div>\n",
       "        <script>netpixi.call('3XHXhbSokv46npCJQEqUic', 'Nn2UsWVPTj4nkwbQAESU8z', 'changeGraph', 'eyJpZCI6ICJJc3JhZWwiLCAidHlwZSI6ICJ2ZXJ0ZXgiLCAicHJvcHMiOiB7ImNvbG9yIjogMTY3MTE2ODB9fQo=');</script>\n",
       "    "
      ],
      "text/plain": [
       "<IPython.core.display.HTML object>"
      ]
     },
     "metadata": {},
     "output_type": "display_data"
    },
    {
     "data": {
      "text/html": [
       "\n",
       "        <div id=\"bhgRACGeWfS8DrLzsSsnvN\"></div>\n",
       "        <script>netpixi.call('bhgRACGeWfS8DrLzsSsnvN', 'Nn2UsWVPTj4nkwbQAESU8z', 'changeGraph', 'eyJpZCI6ICJEZW0uIFBlb3BsZSdzIFJlcC4gb2YgS29yZWEiLCAidHlwZSI6ICJ2ZXJ0ZXgiLCAicHJvcHMiOiB7ImNvbG9yIjogNjUyODB9fQo=');</script>\n",
       "    "
      ],
      "text/plain": [
       "<IPython.core.display.HTML object>"
      ]
     },
     "metadata": {},
     "output_type": "display_data"
    },
    {
     "data": {
      "text/html": [
       "\n",
       "        <div id=\"f4tZsbqGC4HLYbnPQJmVxW\"></div>\n",
       "        <script>netpixi.call('f4tZsbqGC4HLYbnPQJmVxW', 'Nn2UsWVPTj4nkwbQAESU8z', 'changeGraph', 'eyJpZCI6ICJJY2VsYW5kIiwgInR5cGUiOiAidmVydGV4IiwgInByb3BzIjogeyJjb2xvciI6IDY1MjgwfX0K');</script>\n",
       "    "
      ],
      "text/plain": [
       "<IPython.core.display.HTML object>"
      ]
     },
     "metadata": {},
     "output_type": "display_data"
    },
    {
     "data": {
      "text/html": [
       "\n",
       "        <div id=\"kUE6jKJMaLtfJom2mFrtKL\"></div>\n",
       "        <script>netpixi.call('kUE6jKJMaLtfJom2mFrtKL', 'Nn2UsWVPTj4nkwbQAESU8z', 'changeGraph', 'eyJpZCI6ICJUaW1vci1MZXN0ZSIsICJ0eXBlIjogInZlcnRleCIsICJwcm9wcyI6IHsiY29sb3IiOiA2NTI4MH19Cg==');</script>\n",
       "    "
      ],
      "text/plain": [
       "<IPython.core.display.HTML object>"
      ]
     },
     "metadata": {},
     "output_type": "display_data"
    },
    {
     "data": {
      "text/html": [
       "\n",
       "        <div id=\"EyxQXGRD8ALGnW3crCXdEz\"></div>\n",
       "        <script>netpixi.call('EyxQXGRD8ALGnW3crCXdEz', 'Nn2UsWVPTj4nkwbQAESU8z', 'changeGraph', 'eyJpZCI6ICJWZW5lenVlbGEgKEJvbGl2YXJpYW4gUmVwdWJsaWMgb2YpIiwgInR5cGUiOiAidmVydGV4IiwgInByb3BzIjogeyJjb2xvciI6IDY1MjgwfX0K');</script>\n",
       "    "
      ],
      "text/plain": [
       "<IPython.core.display.HTML object>"
      ]
     },
     "metadata": {},
     "output_type": "display_data"
    },
    {
     "data": {
      "text/html": [
       "\n",
       "        <div id=\"FDyCAtmxJtTH9Sh3r8dXGq\"></div>\n",
       "        <script>netpixi.call('FDyCAtmxJtTH9Sh3r8dXGq', 'Nn2UsWVPTj4nkwbQAESU8z', 'changeGraph', 'eyJpZCI6ICJVcnVndWF5IiwgInR5cGUiOiAidmVydGV4IiwgInByb3BzIjogeyJjb2xvciI6IDY1MjgwfX0K');</script>\n",
       "    "
      ],
      "text/plain": [
       "<IPython.core.display.HTML object>"
      ]
     },
     "metadata": {},
     "output_type": "display_data"
    },
    {
     "data": {
      "text/html": [
       "\n",
       "        <div id=\"9AVVex662nvQtMqfFhNw9b\"></div>\n",
       "        <script>netpixi.call('9AVVex662nvQtMqfFhNw9b', 'Nn2UsWVPTj4nkwbQAESU8z', 'changeGraph', 'eyJpZCI6ICJTYXVkaSBBcmFiaWEiLCAidHlwZSI6ICJ2ZXJ0ZXgiLCAicHJvcHMiOiB7ImNvbG9yIjogNjUyODB9fQo=');</script>\n",
       "    "
      ],
      "text/plain": [
       "<IPython.core.display.HTML object>"
      ]
     },
     "metadata": {},
     "output_type": "display_data"
    },
    {
     "data": {
      "text/html": [
       "\n",
       "        <div id=\"6LQgEXrs8K7JMU9qG5XQ26\"></div>\n",
       "        <script>netpixi.call('6LQgEXrs8K7JMU9qG5XQ26', 'Nn2UsWVPTj4nkwbQAESU8z', 'changeGraph', 'eyJpZCI6ICJMaWVjaHRlbnN0ZWluIiwgInR5cGUiOiAidmVydGV4IiwgInByb3BzIjogeyJjb2xvciI6IDY1MjgwfX0K');</script>\n",
       "    "
      ],
      "text/plain": [
       "<IPython.core.display.HTML object>"
      ]
     },
     "metadata": {},
     "output_type": "display_data"
    },
    {
     "data": {
      "text/html": [
       "\n",
       "        <div id=\"jfQtje93ZDc5bVrvDU5udd\"></div>\n",
       "        <script>netpixi.call('jfQtje93ZDc5bVrvDU5udd', 'Nn2UsWVPTj4nkwbQAESU8z', 'changeGraph', 'eyJpZCI6ICJWYW51YXR1IiwgInR5cGUiOiAidmVydGV4IiwgInByb3BzIjogeyJjb2xvciI6IDY1MjgwfX0K');</script>\n",
       "    "
      ],
      "text/plain": [
       "<IPython.core.display.HTML object>"
      ]
     },
     "metadata": {},
     "output_type": "display_data"
    },
    {
     "data": {
      "text/html": [
       "\n",
       "        <div id=\"5NhKoMzVYmcZ6qeX4xdK36\"></div>\n",
       "        <script>netpixi.call('5NhKoMzVYmcZ6qeX4xdK36', 'Nn2UsWVPTj4nkwbQAESU8z', 'changeGraph', 'eyJpZCI6ICJDdXJhXHUwMGU3YW8iLCAidHlwZSI6ICJ2ZXJ0ZXgiLCAicHJvcHMiOiB7ImNvbG9yIjogNjUyODB9fQo=');</script>\n",
       "    "
      ],
      "text/plain": [
       "<IPython.core.display.HTML object>"
      ]
     },
     "metadata": {},
     "output_type": "display_data"
    },
    {
     "data": {
      "text/html": [
       "\n",
       "        <div id=\"PZLfVLLYtifVePDQuZRE2b\"></div>\n",
       "        <script>netpixi.call('PZLfVLLYtifVePDQuZRE2b', 'Nn2UsWVPTj4nkwbQAESU8z', 'changeGraph', 'eyJpZCI6ICJEZW0uIFJlcC4gb2YgdGhlIENvbmdvIiwgInR5cGUiOiAidmVydGV4IiwgInByb3BzIjogeyJjb2xvciI6IDY1MjgwfX0K');</script>\n",
       "    "
      ],
      "text/plain": [
       "<IPython.core.display.HTML object>"
      ]
     },
     "metadata": {},
     "output_type": "display_data"
    },
    {
     "data": {
      "text/html": [
       "\n",
       "        <div id=\"FgZEzRD8NJ7mp2yQ6bHJ2J\"></div>\n",
       "        <script>netpixi.call('FgZEzRD8NJ7mp2yQ6bHJ2J', 'Nn2UsWVPTj4nkwbQAESU8z', 'changeGraph', 'eyJpZCI6ICJMaWJ5YSIsICJ0eXBlIjogInZlcnRleCIsICJwcm9wcyI6IHsiY29sb3IiOiA2NTI4MH19Cg==');</script>\n",
       "    "
      ],
      "text/plain": [
       "<IPython.core.display.HTML object>"
      ]
     },
     "metadata": {},
     "output_type": "display_data"
    },
    {
     "data": {
      "text/html": [
       "\n",
       "        <div id=\"Ss87gFPqCV3Qj8yX2N9uG8\"></div>\n",
       "        <script>netpixi.call('Ss87gFPqCV3Qj8yX2N9uG8', 'Nn2UsWVPTj4nkwbQAESU8z', 'changeGraph', 'eyJpZCI6ICJEb21pbmljYW4gUmVwLiIsICJ0eXBlIjogInZlcnRleCIsICJwcm9wcyI6IHsiY29sb3IiOiA2NTI4MH19Cg==');</script>\n",
       "    "
      ],
      "text/plain": [
       "<IPython.core.display.HTML object>"
      ]
     },
     "metadata": {},
     "output_type": "display_data"
    },
    {
     "data": {
      "text/html": [
       "\n",
       "        <div id=\"PADxPJyemccNqnBak6Z5rG\"></div>\n",
       "        <script>netpixi.call('PADxPJyemccNqnBak6Z5rG', 'Nn2UsWVPTj4nkwbQAESU8z', 'changeGraph', 'eyJpZCI6ICJHdWF0ZW1hbGEiLCAidHlwZSI6ICJ2ZXJ0ZXgiLCAicHJvcHMiOiB7ImNvbG9yIjogNjUyODB9fQo=');</script>\n",
       "    "
      ],
      "text/plain": [
       "<IPython.core.display.HTML object>"
      ]
     },
     "metadata": {},
     "output_type": "display_data"
    },
    {
     "data": {
      "text/html": [
       "\n",
       "        <div id=\"jpLxehr6GVR49uUW6DSwsu\"></div>\n",
       "        <script>netpixi.call('jpLxehr6GVR49uUW6DSwsu', 'Nn2UsWVPTj4nkwbQAESU8z', 'changeGraph', 'eyJpZCI6ICJEb21pbmljYSIsICJ0eXBlIjogInZlcnRleCIsICJwcm9wcyI6IHsiY29sb3IiOiA2NTI4MH19Cg==');</script>\n",
       "    "
      ],
      "text/plain": [
       "<IPython.core.display.HTML object>"
      ]
     },
     "metadata": {},
     "output_type": "display_data"
    },
    {
     "data": {
      "text/html": [
       "\n",
       "        <div id=\"4S7doZoWYenYUfsJfHgW98\"></div>\n",
       "        <script>netpixi.call('4S7doZoWYenYUfsJfHgW98', 'Nn2UsWVPTj4nkwbQAESU8z', 'changeGraph', 'eyJpZCI6ICJLeXJneXpzdGFuIiwgInR5cGUiOiAidmVydGV4IiwgInByb3BzIjogeyJjb2xvciI6IDY1MjgwfX0K');</script>\n",
       "    "
      ],
      "text/plain": [
       "<IPython.core.display.HTML object>"
      ]
     },
     "metadata": {},
     "output_type": "display_data"
    },
    {
     "data": {
      "text/html": [
       "\n",
       "        <div id=\"PJpcYQ2s9bsQ3jwmvqpH6q\"></div>\n",
       "        <script>netpixi.call('PJpcYQ2s9bsQ3jwmvqpH6q', 'Nn2UsWVPTj4nkwbQAESU8z', 'changeGraph', 'eyJpZCI6ICJTYWludCBMdWNpYSIsICJ0eXBlIjogInZlcnRleCIsICJwcm9wcyI6IHsiY29sb3IiOiA2NTI4MH19Cg==');</script>\n",
       "    "
      ],
      "text/plain": [
       "<IPython.core.display.HTML object>"
      ]
     },
     "metadata": {},
     "output_type": "display_data"
    },
    {
     "data": {
      "text/html": [
       "\n",
       "        <div id=\"FPUtxjbSNR3YzPCqqiUkyP\"></div>\n",
       "        <script>netpixi.call('FPUtxjbSNR3YzPCqqiUkyP', 'Nn2UsWVPTj4nkwbQAESU8z', 'changeGraph', 'eyJpZCI6ICJHdXlhbmEiLCAidHlwZSI6ICJ2ZXJ0ZXgiLCAicHJvcHMiOiB7ImNvbG9yIjogNjUyODB9fQo=');</script>\n",
       "    "
      ],
      "text/plain": [
       "<IPython.core.display.HTML object>"
      ]
     },
     "metadata": {},
     "output_type": "display_data"
    },
    {
     "data": {
      "text/html": [
       "\n",
       "        <div id=\"bu5Lomqe64XU7kebA2DPsx\"></div>\n",
       "        <script>netpixi.call('bu5Lomqe64XU7kebA2DPsx', 'Nn2UsWVPTj4nkwbQAESU8z', 'changeGraph', 'eyJpZCI6ICJOb3J3YXkiLCAidHlwZSI6ICJ2ZXJ0ZXgiLCAicHJvcHMiOiB7ImNvbG9yIjogMTY3MTE2ODB9fQo=');</script>\n",
       "    "
      ],
      "text/plain": [
       "<IPython.core.display.HTML object>"
      ]
     },
     "metadata": {},
     "output_type": "display_data"
    },
    {
     "data": {
      "text/html": [
       "\n",
       "        <div id=\"4k8czeaJkZMybRbyNh9d3f\"></div>\n",
       "        <script>netpixi.call('4k8czeaJkZMybRbyNh9d3f', 'Nn2UsWVPTj4nkwbQAESU8z', 'changeGraph', 'eyJpZCI6ICJTb3V0aCBTdWRhbiIsICJ0eXBlIjogInZlcnRleCIsICJwcm9wcyI6IHsiY29sb3IiOiA2NTI4MH19Cg==');</script>\n",
       "    "
      ],
      "text/plain": [
       "<IPython.core.display.HTML object>"
      ]
     },
     "metadata": {},
     "output_type": "display_data"
    },
    {
     "data": {
      "text/html": [
       "\n",
       "        <div id=\"BD2iJt6LZuejttfCTtyXRu\"></div>\n",
       "        <script>netpixi.call('BD2iJt6LZuejttfCTtyXRu', 'Nn2UsWVPTj4nkwbQAESU8z', 'changeGraph', 'eyJpZCI6ICJTdWRhbiIsICJ0eXBlIjogInZlcnRleCIsICJwcm9wcyI6IHsiY29sb3IiOiA2NTI4MH19Cg==');</script>\n",
       "    "
      ],
      "text/plain": [
       "<IPython.core.display.HTML object>"
      ]
     },
     "metadata": {},
     "output_type": "display_data"
    },
    {
     "data": {
      "text/html": [
       "\n",
       "        <div id=\"7CqUiNrwowbQQWZr3Nn8LH\"></div>\n",
       "        <script>netpixi.call('7CqUiNrwowbQQWZr3Nn8LH', 'Nn2UsWVPTj4nkwbQAESU8z', 'changeGraph', 'eyJpZCI6ICJBbmd1aWxsYSIsICJ0eXBlIjogInZlcnRleCIsICJwcm9wcyI6IHsiY29sb3IiOiA2NTI4MH19Cg==');</script>\n",
       "    "
      ],
      "text/plain": [
       "<IPython.core.display.HTML object>"
      ]
     },
     "metadata": {},
     "output_type": "display_data"
    },
    {
     "data": {
      "text/html": [
       "\n",
       "        <div id=\"4Wit89sMVSaKFYWdvirFbm\"></div>\n",
       "        <script>netpixi.call('4Wit89sMVSaKFYWdvirFbm', 'Nn2UsWVPTj4nkwbQAESU8z', 'changeGraph', 'eyJpZCI6ICJUdXJrcyBhbmQgQ2FpY29zIElzbGFuZHMiLCAidHlwZSI6ICJ2ZXJ0ZXgiLCAicHJvcHMiOiB7ImNvbG9yIjogNjUyODB9fQo=');</script>\n",
       "    "
      ],
      "text/plain": [
       "<IPython.core.display.HTML object>"
      ]
     },
     "metadata": {},
     "output_type": "display_data"
    },
    {
     "data": {
      "text/html": [
       "\n",
       "        <div id=\"PdX7RiseWTPpmZVw3BKaBa\"></div>\n",
       "        <script>netpixi.call('PdX7RiseWTPpmZVw3BKaBa', 'Nn2UsWVPTj4nkwbQAESU8z', 'changeGraph', 'eyJpZCI6ICJNYXVyaXRpdXMiLCAidHlwZSI6ICJ2ZXJ0ZXgiLCAicHJvcHMiOiB7ImNvbG9yIjogNjUyODB9fQo=');</script>\n",
       "    "
      ],
      "text/plain": [
       "<IPython.core.display.HTML object>"
      ]
     },
     "metadata": {},
     "output_type": "display_data"
    },
    {
     "data": {
      "text/html": [
       "\n",
       "        <div id=\"KQmWKJqpf8SGWmUmnjDGvq\"></div>\n",
       "        <script>netpixi.call('KQmWKJqpf8SGWmUmnjDGvq', 'Nn2UsWVPTj4nkwbQAESU8z', 'changeGraph', 'eyJpZCI6ICJLZW55YSIsICJ0eXBlIjogInZlcnRleCIsICJwcm9wcyI6IHsiY29sb3IiOiA2NTI4MH19Cg==');</script>\n",
       "    "
      ],
      "text/plain": [
       "<IPython.core.display.HTML object>"
      ]
     },
     "metadata": {},
     "output_type": "display_data"
    },
    {
     "data": {
      "text/html": [
       "\n",
       "        <div id=\"hs3KoTnAULMAemAH3oK2Ga\"></div>\n",
       "        <script>netpixi.call('hs3KoTnAULMAemAH3oK2Ga', 'Nn2UsWVPTj4nkwbQAESU8z', 'changeGraph', 'eyJpZCI6ICJUb25nYSIsICJ0eXBlIjogInZlcnRleCIsICJwcm9wcyI6IHsiY29sb3IiOiA2NTI4MH19Cg==');</script>\n",
       "    "
      ],
      "text/plain": [
       "<IPython.core.display.HTML object>"
      ]
     },
     "metadata": {},
     "output_type": "display_data"
    },
    {
     "data": {
      "text/html": [
       "\n",
       "        <div id=\"cGy98E8Nbozmj8Gnrkc7A3\"></div>\n",
       "        <script>netpixi.call('cGy98E8Nbozmj8Gnrkc7A3', 'Nn2UsWVPTj4nkwbQAESU8z', 'changeGraph', 'eyJpZCI6ICJXZXN0ZXJuIFNhaGFyYSIsICJ0eXBlIjogInZlcnRleCIsICJwcm9wcyI6IHsiY29sb3IiOiA2NTI4MH19Cg==');</script>\n",
       "    "
      ],
      "text/plain": [
       "<IPython.core.display.HTML object>"
      ]
     },
     "metadata": {},
     "output_type": "display_data"
    },
    {
     "data": {
      "text/html": [
       "\n",
       "        <div id=\"hEQ5ru7hE2T7XBV2rSurLG\"></div>\n",
       "        <script>netpixi.call('hEQ5ru7hE2T7XBV2rSurLG', 'Nn2UsWVPTj4nkwbQAESU8z', 'changeGraph', 'eyJpZCI6ICJKb3JkYW4iLCAidHlwZSI6ICJ2ZXJ0ZXgiLCAicHJvcHMiOiB7ImNvbG9yIjogNjUyODB9fQo=');</script>\n",
       "    "
      ],
      "text/plain": [
       "<IPython.core.display.HTML object>"
      ]
     },
     "metadata": {},
     "output_type": "display_data"
    },
    {
     "data": {
      "text/html": [
       "\n",
       "        <div id=\"6W7cDc6FwQF4dGtxxZbosM\"></div>\n",
       "        <script>netpixi.call('6W7cDc6FwQF4dGtxxZbosM', 'Nn2UsWVPTj4nkwbQAESU8z', 'changeGraph', 'eyJpZCI6ICJLaXJpYmF0aSIsICJ0eXBlIjogInZlcnRleCIsICJwcm9wcyI6IHsiY29sb3IiOiA2NTI4MH19Cg==');</script>\n",
       "    "
      ],
      "text/plain": [
       "<IPython.core.display.HTML object>"
      ]
     },
     "metadata": {},
     "output_type": "display_data"
    },
    {
     "data": {
      "text/html": [
       "\n",
       "        <div id=\"boEX2TWMxQCeEESWHnJand\"></div>\n",
       "        <script>netpixi.call('boEX2TWMxQCeEESWHnJand', 'Nn2UsWVPTj4nkwbQAESU8z', 'changeGraph', 'eyJpZCI6ICJBbWVyaWNhbiBTYW1vYSIsICJ0eXBlIjogInZlcnRleCIsICJwcm9wcyI6IHsiY29sb3IiOiA2NTI4MH19Cg==');</script>\n",
       "    "
      ],
      "text/plain": [
       "<IPython.core.display.HTML object>"
      ]
     },
     "metadata": {},
     "output_type": "display_data"
    },
    {
     "data": {
      "text/html": [
       "\n",
       "        <div id=\"FfZN4w5USYwRModbwCXdwB\"></div>\n",
       "        <script>netpixi.call('FfZN4w5USYwRModbwCXdwB', 'Nn2UsWVPTj4nkwbQAESU8z', 'changeGraph', 'eyJpZCI6ICJIb25kdXJhcyIsICJ0eXBlIjogInZlcnRleCIsICJwcm9wcyI6IHsiY29sb3IiOiA2NTI4MH19Cg==');</script>\n",
       "    "
      ],
      "text/plain": [
       "<IPython.core.display.HTML object>"
      ]
     },
     "metadata": {},
     "output_type": "display_data"
    },
    {
     "data": {
      "text/html": [
       "\n",
       "        <div id=\"5Pa3uaKMBpikLmfsDaScRr\"></div>\n",
       "        <script>netpixi.call('5Pa3uaKMBpikLmfsDaScRr', 'Nn2UsWVPTj4nkwbQAESU8z', 'changeGraph', 'eyJpZCI6ICJVbml0ZWQgU3RhdGVzIG9mIEFtZXJpY2EiLCAidHlwZSI6ICJ2ZXJ0ZXgiLCAicHJvcHMiOiB7ImNvbG9yIjogMTY3MTE2ODB9fQo=');</script>\n",
       "    "
      ],
      "text/plain": [
       "<IPython.core.display.HTML object>"
      ]
     },
     "metadata": {},
     "output_type": "display_data"
    },
    {
     "data": {
      "text/html": [
       "\n",
       "        <div id=\"PD7HwBQWguTwrfxkdzBx6b\"></div>\n",
       "        <script>netpixi.call('PD7HwBQWguTwrfxkdzBx6b', 'Nn2UsWVPTj4nkwbQAESU8z', 'changeGraph', 'eyJpZCI6ICJDYXltYW4gSXNsYW5kcyIsICJ0eXBlIjogInZlcnRleCIsICJwcm9wcyI6IHsiY29sb3IiOiA2NTI4MH19Cg==');</script>\n",
       "    "
      ],
      "text/plain": [
       "<IPython.core.display.HTML object>"
      ]
     },
     "metadata": {},
     "output_type": "display_data"
    },
    {
     "data": {
      "text/html": [
       "\n",
       "        <div id=\"A25JDhx9TLKMSG8UkyWCZ9\"></div>\n",
       "        <script>netpixi.call('A25JDhx9TLKMSG8UkyWCZ9', 'Nn2UsWVPTj4nkwbQAESU8z', 'changeGraph', 'eyJpZCI6ICJNaWNyb25lc2lhIChGZWRlcmF0ZWQgU3RhdGVzIG9mKSIsICJ0eXBlIjogInZlcnRleCIsICJwcm9wcyI6IHsiY29sb3IiOiA2NTI4MH19Cg==');</script>\n",
       "    "
      ],
      "text/plain": [
       "<IPython.core.display.HTML object>"
      ]
     },
     "metadata": {},
     "output_type": "display_data"
    },
    {
     "data": {
      "text/html": [
       "\n",
       "        <div id=\"dmXhgya598SxQaSteBttoi\"></div>\n",
       "        <script>netpixi.call('dmXhgya598SxQaSteBttoi', 'Nn2UsWVPTj4nkwbQAESU8z', 'changeGraph', 'eyJpZCI6ICJSd2FuZGEiLCAidHlwZSI6ICJ2ZXJ0ZXgiLCAicHJvcHMiOiB7ImNvbG9yIjogNjUyODB9fQo=');</script>\n",
       "    "
      ],
      "text/plain": [
       "<IPython.core.display.HTML object>"
      ]
     },
     "metadata": {},
     "output_type": "display_data"
    },
    {
     "data": {
      "text/html": [
       "\n",
       "        <div id=\"UdQFNSZbzSEzV4GC9ycvQi\"></div>\n",
       "        <script>netpixi.call('UdQFNSZbzSEzV4GC9ycvQi', 'Nn2UsWVPTj4nkwbQAESU8z', 'changeGraph', 'eyJpZCI6ICJCZWxpemUiLCAidHlwZSI6ICJ2ZXJ0ZXgiLCAicHJvcHMiOiB7ImNvbG9yIjogNjUyODB9fQo=');</script>\n",
       "    "
      ],
      "text/plain": [
       "<IPython.core.display.HTML object>"
      ]
     },
     "metadata": {},
     "output_type": "display_data"
    },
    {
     "data": {
      "text/html": [
       "\n",
       "        <div id=\"BWvM68Ci7jx2W7D6kqyUiQ\"></div>\n",
       "        <script>netpixi.call('BWvM68Ci7jx2W7D6kqyUiQ', 'Nn2UsWVPTj4nkwbQAESU8z', 'changeGraph', 'eyJpZCI6ICJQb2xhbmQiLCAidHlwZSI6ICJ2ZXJ0ZXgiLCAicHJvcHMiOiB7ImNvbG9yIjogMTY3MTE2ODB9fQo=');</script>\n",
       "    "
      ],
      "text/plain": [
       "<IPython.core.display.HTML object>"
      ]
     },
     "metadata": {},
     "output_type": "display_data"
    },
    {
     "data": {
      "text/html": [
       "\n",
       "        <div id=\"JXxChUwXvnh59DWBABqzwz\"></div>\n",
       "        <script>netpixi.call('JXxChUwXvnh59DWBABqzwz', 'Nn2UsWVPTj4nkwbQAESU8z', 'changeGraph', 'eyJpZCI6ICJBbmRvcnJhIiwgInR5cGUiOiAidmVydGV4IiwgInByb3BzIjogeyJjb2xvciI6IDY1MjgwfX0K');</script>\n",
       "    "
      ],
      "text/plain": [
       "<IPython.core.display.HTML object>"
      ]
     },
     "metadata": {},
     "output_type": "display_data"
    },
    {
     "data": {
      "text/html": [
       "\n",
       "        <div id=\"4TgYyKhq2tG5qweBSLPoQq\"></div>\n",
       "        <script>netpixi.call('4TgYyKhq2tG5qweBSLPoQq', 'Nn2UsWVPTj4nkwbQAESU8z', 'changeGraph', 'eyJpZCI6ICJUdXJrbWVuaXN0YW4iLCAidHlwZSI6ICJ2ZXJ0ZXgiLCAicHJvcHMiOiB7ImNvbG9yIjogNjUyODB9fQo=');</script>\n",
       "    "
      ],
      "text/plain": [
       "<IPython.core.display.HTML object>"
      ]
     },
     "metadata": {},
     "output_type": "display_data"
    },
    {
     "data": {
      "text/html": [
       "\n",
       "        <div id=\"C5jqzEJfA8SgDaxjmrN4bP\"></div>\n",
       "        <script>netpixi.call('C5jqzEJfA8SgDaxjmrN4bP', 'Nn2UsWVPTj4nkwbQAESU8z', 'changeGraph', 'eyJpZCI6ICJIdW5nYXJ5IiwgInR5cGUiOiAidmVydGV4IiwgInByb3BzIjogeyJjb2xvciI6IDE2NzExNjgwfX0K');</script>\n",
       "    "
      ],
      "text/plain": [
       "<IPython.core.display.HTML object>"
      ]
     },
     "metadata": {},
     "output_type": "display_data"
    },
    {
     "data": {
      "text/html": [
       "\n",
       "        <div id=\"5umzjHeLeDeYoKkyKa6gDz\"></div>\n",
       "        <script>netpixi.call('5umzjHeLeDeYoKkyKa6gDz', 'Nn2UsWVPTj4nkwbQAESU8z', 'changeGraph', 'eyJpZCI6ICJSZXAuIG9mIEtvcmVhIiwgInR5cGUiOiAidmVydGV4IiwgInByb3BzIjogeyJjb2xvciI6IDY1MjgwfX0K');</script>\n",
       "    "
      ],
      "text/plain": [
       "<IPython.core.display.HTML object>"
      ]
     },
     "metadata": {},
     "output_type": "display_data"
    },
    {
     "data": {
      "text/html": [
       "\n",
       "        <div id=\"P2MBfdkUMUAqhAKmKDcXRi\"></div>\n",
       "        <script>netpixi.call('P2MBfdkUMUAqhAKmKDcXRi', 'Nn2UsWVPTj4nkwbQAESU8z', 'changeGraph', 'eyJpZCI6ICJNYWx0YSIsICJ0eXBlIjogInZlcnRleCIsICJwcm9wcyI6IHsiY29sb3IiOiAxNjcxMTY4MH19Cg==');</script>\n",
       "    "
      ],
      "text/plain": [
       "<IPython.core.display.HTML object>"
      ]
     },
     "metadata": {},
     "output_type": "display_data"
    },
    {
     "data": {
      "text/html": [
       "\n",
       "        <div id=\"6ug4wuLjuq3S2cjaN7rSUW\"></div>\n",
       "        <script>netpixi.call('6ug4wuLjuq3S2cjaN7rSUW', 'Nn2UsWVPTj4nkwbQAESU8z', 'changeGraph', 'eyJpZCI6ICJOaWdlciIsICJ0eXBlIjogInZlcnRleCIsICJwcm9wcyI6IHsiY29sb3IiOiA2NTI4MH19Cg==');</script>\n",
       "    "
      ],
      "text/plain": [
       "<IPython.core.display.HTML object>"
      ]
     },
     "metadata": {},
     "output_type": "display_data"
    },
    {
     "data": {
      "text/html": [
       "\n",
       "        <div id=\"J24ywz7hi4nUNc75hGDNVy\"></div>\n",
       "        <script>netpixi.call('J24ywz7hi4nUNc75hGDNVy', 'Nn2UsWVPTj4nkwbQAESU8z', 'changeGraph', 'eyJpZCI6ICJTd2F6aWxhbmQiLCAidHlwZSI6ICJ2ZXJ0ZXgiLCAicHJvcHMiOiB7ImNvbG9yIjogNjUyODB9fQo=');</script>\n",
       "    "
      ],
      "text/plain": [
       "<IPython.core.display.HTML object>"
      ]
     },
     "metadata": {},
     "output_type": "display_data"
    },
    {
     "data": {
      "text/html": [
       "\n",
       "        <div id=\"HcfVoXG8KdEHHpV85b8iFo\"></div>\n",
       "        <script>netpixi.call('HcfVoXG8KdEHHpV85b8iFo', 'Nn2UsWVPTj4nkwbQAESU8z', 'changeGraph', 'eyJpZCI6ICJDdWJhIiwgInR5cGUiOiAidmVydGV4IiwgInByb3BzIjogeyJjb2xvciI6IDY1MjgwfX0K');</script>\n",
       "    "
      ],
      "text/plain": [
       "<IPython.core.display.HTML object>"
      ]
     },
     "metadata": {},
     "output_type": "display_data"
    },
    {
     "data": {
      "text/html": [
       "\n",
       "        <div id=\"WrWumY8bMBHDfNfKdXZZws\"></div>\n",
       "        <script>netpixi.call('WrWumY8bMBHDfNfKdXZZws', 'Nn2UsWVPTj4nkwbQAESU8z', 'changeGraph', 'eyJpZCI6ICJMYW8gUGVvcGxlJ3MgRGVtLiBSZXAuIiwgInR5cGUiOiAidmVydGV4IiwgInByb3BzIjogeyJjb2xvciI6IDY1MjgwfX0K');</script>\n",
       "    "
      ],
      "text/plain": [
       "<IPython.core.display.HTML object>"
      ]
     },
     "metadata": {},
     "output_type": "display_data"
    },
    {
     "data": {
      "text/html": [
       "\n",
       "        <div id=\"cYKz7U6zAE3YGwh6U2n3nY\"></div>\n",
       "        <script>netpixi.call('cYKz7U6zAE3YGwh6U2n3nY', 'Nn2UsWVPTj4nkwbQAESU8z', 'changeGraph', 'eyJpZCI6ICJDZW50cmFsIEFmcmljYW4gUmVwLiIsICJ0eXBlIjogInZlcnRleCIsICJwcm9wcyI6IHsiY29sb3IiOiA2NTI4MH19Cg==');</script>\n",
       "    "
      ],
      "text/plain": [
       "<IPython.core.display.HTML object>"
      ]
     },
     "metadata": {},
     "output_type": "display_data"
    },
    {
     "data": {
      "text/html": [
       "\n",
       "        <div id=\"ETo4ya4WYYAck6ShhN9me5\"></div>\n",
       "        <script>netpixi.call('ETo4ya4WYYAck6ShhN9me5', 'Nn2UsWVPTj4nkwbQAESU8z', 'changeGraph', 'eyJpZCI6ICJHaWJyYWx0YXIiLCAidHlwZSI6ICJ2ZXJ0ZXgiLCAicHJvcHMiOiB7ImNvbG9yIjogNjUyODB9fQo=');</script>\n",
       "    "
      ],
      "text/plain": [
       "<IPython.core.display.HTML object>"
      ]
     },
     "metadata": {},
     "output_type": "display_data"
    },
    {
     "data": {
      "text/html": [
       "\n",
       "        <div id=\"QvprqfyadwnTEnUPysjdKw\"></div>\n",
       "        <script>netpixi.call('QvprqfyadwnTEnUPysjdKw', 'Nn2UsWVPTj4nkwbQAESU8z', 'changeGraph', 'eyJpZCI6ICJVemJla2lzdGFuIiwgInR5cGUiOiAidmVydGV4IiwgInByb3BzIjogeyJjb2xvciI6IDY1MjgwfX0K');</script>\n",
       "    "
      ],
      "text/plain": [
       "<IPython.core.display.HTML object>"
      ]
     },
     "metadata": {},
     "output_type": "display_data"
    },
    {
     "data": {
      "text/html": [
       "\n",
       "        <div id=\"fLapXbyqQB7iAsD85xc38S\"></div>\n",
       "        <script>netpixi.call('fLapXbyqQB7iAsD85xc38S', 'Nn2UsWVPTj4nkwbQAESU8z', 'changeGraph', 'eyJpZCI6ICJDaGFkIiwgInR5cGUiOiAidmVydGV4IiwgInByb3BzIjogeyJjb2xvciI6IDY1MjgwfX0K');</script>\n",
       "    "
      ],
      "text/plain": [
       "<IPython.core.display.HTML object>"
      ]
     },
     "metadata": {},
     "output_type": "display_data"
    },
    {
     "data": {
      "text/html": [
       "\n",
       "        <div id=\"So7rvdnjULTkySYkcUMeiy\"></div>\n",
       "        <script>netpixi.call('So7rvdnjULTkySYkcUMeiy', 'Nn2UsWVPTj4nkwbQAESU8z', 'changeGraph', 'eyJpZCI6ICJDb25nbyIsICJ0eXBlIjogInZlcnRleCIsICJwcm9wcyI6IHsiY29sb3IiOiA2NTI4MH19Cg==');</script>\n",
       "    "
      ],
      "text/plain": [
       "<IPython.core.display.HTML object>"
      ]
     },
     "metadata": {},
     "output_type": "display_data"
    },
    {
     "data": {
      "text/html": [
       "\n",
       "        <div id=\"X6bcp7YkZzVA2BJoLYiCrN\"></div>\n",
       "        <script>netpixi.call('X6bcp7YkZzVA2BJoLYiCrN', 'Nn2UsWVPTj4nkwbQAESU8z', 'changeGraph', 'eyJpZCI6ICJNeWFubWFyIiwgInR5cGUiOiAidmVydGV4IiwgInByb3BzIjogeyJjb2xvciI6IDY1MjgwfX0K');</script>\n",
       "    "
      ],
      "text/plain": [
       "<IPython.core.display.HTML object>"
      ]
     },
     "metadata": {},
     "output_type": "display_data"
    },
    {
     "data": {
      "text/html": [
       "\n",
       "        <div id=\"LcSLcPCrmk6ZRC5PUamhGi\"></div>\n",
       "        <script>netpixi.call('LcSLcPCrmk6ZRC5PUamhGi', 'Nn2UsWVPTj4nkwbQAESU8z', 'changeGraph', 'eyJpZCI6ICJQaGlsaXBwaW5lcyIsICJ0eXBlIjogInZlcnRleCIsICJwcm9wcyI6IHsiY29sb3IiOiA2NTI4MH19Cg==');</script>\n",
       "    "
      ],
      "text/plain": [
       "<IPython.core.display.HTML object>"
      ]
     },
     "metadata": {},
     "output_type": "display_data"
    },
    {
     "data": {
      "text/html": [
       "\n",
       "        <div id=\"9tGMwotLNmWeLeAafeDdD8\"></div>\n",
       "        <script>netpixi.call('9tGMwotLNmWeLeAafeDdD8', 'Nn2UsWVPTj4nkwbQAESU8z', 'changeGraph', 'eyJpZCI6ICJTYW4gTWFyaW5vIiwgInR5cGUiOiAidmVydGV4IiwgInByb3BzIjogeyJjb2xvciI6IDY1MjgwfX0K');</script>\n",
       "    "
      ],
      "text/plain": [
       "<IPython.core.display.HTML object>"
      ]
     },
     "metadata": {},
     "output_type": "display_data"
    },
    {
     "data": {
      "text/html": [
       "\n",
       "        <div id=\"mP6D9rysySNKZs36gvpnaT\"></div>\n",
       "        <script>netpixi.call('mP6D9rysySNKZs36gvpnaT', 'Nn2UsWVPTj4nkwbQAESU8z', 'changeGraph', 'eyJpZCI6ICJNYXJ0aW5pcXVlIiwgInR5cGUiOiAidmVydGV4IiwgInByb3BzIjogeyJjb2xvciI6IDY1MjgwfX0K');</script>\n",
       "    "
      ],
      "text/plain": [
       "<IPython.core.display.HTML object>"
      ]
     },
     "metadata": {},
     "output_type": "display_data"
    },
    {
     "data": {
      "text/html": [
       "\n",
       "        <div id=\"BAs9dKtoRgvPsQkenh7MiF\"></div>\n",
       "        <script>netpixi.call('BAs9dKtoRgvPsQkenh7MiF', 'Nn2UsWVPTj4nkwbQAESU8z', 'changeGraph', 'eyJpZCI6ICJMaXRodWFuaWEiLCAidHlwZSI6ICJ2ZXJ0ZXgiLCAicHJvcHMiOiB7ImNvbG9yIjogNjUyODB9fQo=');</script>\n",
       "    "
      ],
      "text/plain": [
       "<IPython.core.display.HTML object>"
      ]
     },
     "metadata": {},
     "output_type": "display_data"
    },
    {
     "data": {
      "text/html": [
       "\n",
       "        <div id=\"C4KNph4Kyn7aC2dmsHkNmR\"></div>\n",
       "        <script>netpixi.call('C4KNph4Kyn7aC2dmsHkNmR', 'Nn2UsWVPTj4nkwbQAESU8z', 'changeGraph', 'eyJpZCI6ICJTaW5nYXBvcmUiLCAidHlwZSI6ICJ2ZXJ0ZXgiLCAicHJvcHMiOiB7ImNvbG9yIjogNjUyODB9fQo=');</script>\n",
       "    "
      ],
      "text/plain": [
       "<IPython.core.display.HTML object>"
      ]
     },
     "metadata": {},
     "output_type": "display_data"
    },
    {
     "data": {
      "text/html": [
       "\n",
       "        <div id=\"Rm6YHvtqAUxsYZoeruHq6H\"></div>\n",
       "        <script>netpixi.call('Rm6YHvtqAUxsYZoeruHq6H', 'Nn2UsWVPTj4nkwbQAESU8z', 'changeGraph', 'eyJpZCI6ICJWaWV0IE5hbSIsICJ0eXBlIjogInZlcnRleCIsICJwcm9wcyI6IHsiY29sb3IiOiA2NTI4MH19Cg==');</script>\n",
       "    "
      ],
      "text/plain": [
       "<IPython.core.display.HTML object>"
      ]
     },
     "metadata": {},
     "output_type": "display_data"
    },
    {
     "data": {
      "text/html": [
       "\n",
       "        <div id=\"EB8TjyS5SnxtaVGfxscwid\"></div>\n",
       "        <script>netpixi.call('EB8TjyS5SnxtaVGfxscwid', 'Nn2UsWVPTj4nkwbQAESU8z', 'changeGraph', 'eyJpZCI6ICJTbG92YWtpYSIsICJ0eXBlIjogInZlcnRleCIsICJwcm9wcyI6IHsiY29sb3IiOiAxNjcxMTY4MH19Cg==');</script>\n",
       "    "
      ],
      "text/plain": [
       "<IPython.core.display.HTML object>"
      ]
     },
     "metadata": {},
     "output_type": "display_data"
    },
    {
     "data": {
      "text/html": [
       "\n",
       "        <div id=\"BiceQjfd96QNxxxUdEm7tf\"></div>\n",
       "        <script>netpixi.call('BiceQjfd96QNxxxUdEm7tf', 'Nn2UsWVPTj4nkwbQAESU8z', 'changeGraph', 'eyJpZCI6ICJBbGJhbmlhIiwgInR5cGUiOiAidmVydGV4IiwgInByb3BzIjogeyJjb2xvciI6IDY1MjgwfX0K');</script>\n",
       "    "
      ],
      "text/plain": [
       "<IPython.core.display.HTML object>"
      ]
     },
     "metadata": {},
     "output_type": "display_data"
    },
    {
     "data": {
      "text/html": [
       "\n",
       "        <div id=\"MmfxCb4PtqkVrij6wgUQc3\"></div>\n",
       "        <script>netpixi.call('MmfxCb4PtqkVrij6wgUQc3', 'Nn2UsWVPTj4nkwbQAESU8z', 'changeGraph', 'eyJpZCI6ICJNb25hY28iLCAidHlwZSI6ICJ2ZXJ0ZXgiLCAicHJvcHMiOiB7ImNvbG9yIjogNjUyODB9fQo=');</script>\n",
       "    "
      ],
      "text/plain": [
       "<IPython.core.display.HTML object>"
      ]
     },
     "metadata": {},
     "output_type": "display_data"
    },
    {
     "data": {
      "text/html": [
       "\n",
       "        <div id=\"D3T9PdoXVwm3KXsMZwqxGu\"></div>\n",
       "        <script>netpixi.call('D3T9PdoXVwm3KXsMZwqxGu', 'Nn2UsWVPTj4nkwbQAESU8z', 'changeGraph', 'eyJpZCI6ICJGcmFuY2UiLCAidHlwZSI6ICJ2ZXJ0ZXgiLCAicHJvcHMiOiB7ImNvbG9yIjogMTY3MTE2ODB9fQo=');</script>\n",
       "    "
      ],
      "text/plain": [
       "<IPython.core.display.HTML object>"
      ]
     },
     "metadata": {},
     "output_type": "display_data"
    },
    {
     "data": {
      "text/html": [
       "\n",
       "        <div id=\"UKgeTYKxGHFV4FNaWXtHnW\"></div>\n",
       "        <script>netpixi.call('UKgeTYKxGHFV4FNaWXtHnW', 'Nn2UsWVPTj4nkwbQAESU8z', 'changeGraph', 'eyJpZCI6ICJQYXB1YSBOZXcgR3VpbmVhIiwgInR5cGUiOiAidmVydGV4IiwgInByb3BzIjogeyJjb2xvciI6IDY1MjgwfX0K');</script>\n",
       "    "
      ],
      "text/plain": [
       "<IPython.core.display.HTML object>"
      ]
     },
     "metadata": {},
     "output_type": "display_data"
    },
    {
     "data": {
      "text/html": [
       "\n",
       "        <div id=\"foBrFtpjMv5rPMiSKSuNNt\"></div>\n",
       "        <script>netpixi.call('foBrFtpjMv5rPMiSKSuNNt', 'Nn2UsWVPTj4nkwbQAESU8z', 'changeGraph', 'eyJpZCI6ICJTaWVycmEgTGVvbmUiLCAidHlwZSI6ICJ2ZXJ0ZXgiLCAicHJvcHMiOiB7ImNvbG9yIjogNjUyODB9fQo=');</script>\n",
       "    "
      ],
      "text/plain": [
       "<IPython.core.display.HTML object>"
      ]
     },
     "metadata": {},
     "output_type": "display_data"
    },
    {
     "data": {
      "text/html": [
       "\n",
       "        <div id=\"2enWAJfyhKQueM62nC89i9\"></div>\n",
       "        <script>netpixi.call('2enWAJfyhKQueM62nC89i9', 'Nn2UsWVPTj4nkwbQAESU8z', 'changeGraph', 'eyJpZCI6ICJTYWludCBLaXR0cyBhbmQgTmV2aXMiLCAidHlwZSI6ICJ2ZXJ0ZXgiLCAicHJvcHMiOiB7ImNvbG9yIjogNjUyODB9fQo=');</script>\n",
       "    "
      ],
      "text/plain": [
       "<IPython.core.display.HTML object>"
      ]
     },
     "metadata": {},
     "output_type": "display_data"
    },
    {
     "data": {
      "text/html": [
       "\n",
       "        <div id=\"fQk9ZhoLqo8TrHJ7tMz8Cm\"></div>\n",
       "        <script>netpixi.call('fQk9ZhoLqo8TrHJ7tMz8Cm', 'Nn2UsWVPTj4nkwbQAESU8z', 'changeGraph', 'eyJpZCI6ICJOZXcgWmVhbGFuZCIsICJ0eXBlIjogInZlcnRleCIsICJwcm9wcyI6IHsiY29sb3IiOiAxNjcxMTY4MH19Cg==');</script>\n",
       "    "
      ],
      "text/plain": [
       "<IPython.core.display.HTML object>"
      ]
     },
     "metadata": {},
     "output_type": "display_data"
    },
    {
     "data": {
      "text/html": [
       "\n",
       "        <div id=\"Xjqhrw7nnRHQBQzYQYa4qf\"></div>\n",
       "        <script>netpixi.call('Xjqhrw7nnRHQBQzYQYa4qf', 'Nn2UsWVPTj4nkwbQAESU8z', 'changeGraph', 'eyJpZCI6ICJTcmkgTGFua2EiLCAidHlwZSI6ICJ2ZXJ0ZXgiLCAicHJvcHMiOiB7ImNvbG9yIjogNjUyODB9fQo=');</script>\n",
       "    "
      ],
      "text/plain": [
       "<IPython.core.display.HTML object>"
      ]
     },
     "metadata": {},
     "output_type": "display_data"
    },
    {
     "data": {
      "text/html": [
       "\n",
       "        <div id=\"G7J6qakSjUspbC2WUzoAxf\"></div>\n",
       "        <script>netpixi.call('G7J6qakSjUspbC2WUzoAxf', 'Nn2UsWVPTj4nkwbQAESU8z', 'changeGraph', 'eyJpZCI6ICJQdWVydG8gUmljbyIsICJ0eXBlIjogInZlcnRleCIsICJwcm9wcyI6IHsiY29sb3IiOiA2NTI4MH19Cg==');</script>\n",
       "    "
      ],
      "text/plain": [
       "<IPython.core.display.HTML object>"
      ]
     },
     "metadata": {},
     "output_type": "display_data"
    },
    {
     "data": {
      "text/html": [
       "\n",
       "        <div id=\"FgWHK7xufrTvt944oaR96L\"></div>\n",
       "        <script>netpixi.call('FgWHK7xufrTvt944oaR96L', 'Nn2UsWVPTj4nkwbQAESU8z', 'changeGraph', 'eyJpZCI6ICJCcml0aXNoIFZpcmdpbiBJc2xhbmRzIiwgInR5cGUiOiAidmVydGV4IiwgInByb3BzIjogeyJjb2xvciI6IDY1MjgwfX0K');</script>\n",
       "    "
      ],
      "text/plain": [
       "<IPython.core.display.HTML object>"
      ]
     },
     "metadata": {},
     "output_type": "display_data"
    },
    {
     "data": {
      "text/html": [
       "\n",
       "        <div id=\"RMUhPMwLzHSYBzHdqbSQRb\"></div>\n",
       "        <script>netpixi.call('RMUhPMwLzHSYBzHdqbSQRb', 'Nn2UsWVPTj4nkwbQAESU8z', 'changeGraph', 'eyJpZCI6ICJSdXNzaWFuIEZlZGVyYXRpb24iLCAidHlwZSI6ICJ2ZXJ0ZXgiLCAicHJvcHMiOiB7ImNvbG9yIjogNjUyODB9fQo=');</script>\n",
       "    "
      ],
      "text/plain": [
       "<IPython.core.display.HTML object>"
      ]
     },
     "metadata": {},
     "output_type": "display_data"
    },
    {
     "data": {
      "text/html": [
       "\n",
       "        <div id=\"CYP4EknEuN5QAqGEbNLN6c\"></div>\n",
       "        <script>netpixi.call('CYP4EknEuN5QAqGEbNLN6c', 'Nn2UsWVPTj4nkwbQAESU8z', 'changeGraph', 'eyJpZCI6ICJMZWJhbm9uIiwgInR5cGUiOiAidmVydGV4IiwgInByb3BzIjogeyJjb2xvciI6IDY1MjgwfX0K');</script>\n",
       "    "
      ],
      "text/plain": [
       "<IPython.core.display.HTML object>"
      ]
     },
     "metadata": {},
     "output_type": "display_data"
    },
    {
     "data": {
      "text/html": [
       "\n",
       "        <div id=\"aRUGH6Q9ip2YSmeRQyCdAd\"></div>\n",
       "        <script>netpixi.call('aRUGH6Q9ip2YSmeRQyCdAd', 'Nn2UsWVPTj4nkwbQAESU8z', 'changeGraph', 'eyJpZCI6ICJUcmluaWRhZCBhbmQgVG9iYWdvIiwgInR5cGUiOiAidmVydGV4IiwgInByb3BzIjogeyJjb2xvciI6IDY1MjgwfX0K');</script>\n",
       "    "
      ],
      "text/plain": [
       "<IPython.core.display.HTML object>"
      ]
     },
     "metadata": {},
     "output_type": "display_data"
    },
    {
     "data": {
      "text/html": [
       "\n",
       "        <div id=\"dgXTwkFkoxtEM48Ad9gXrp\"></div>\n",
       "        <script>netpixi.call('dgXTwkFkoxtEM48Ad9gXrp', 'Nn2UsWVPTj4nkwbQAESU8z', 'changeGraph', 'eyJpZCI6ICJNb25nb2xpYSIsICJ0eXBlIjogInZlcnRleCIsICJwcm9wcyI6IHsiY29sb3IiOiA2NTI4MH19Cg==');</script>\n",
       "    "
      ],
      "text/plain": [
       "<IPython.core.display.HTML object>"
      ]
     },
     "metadata": {},
     "output_type": "display_data"
    },
    {
     "data": {
      "text/html": [
       "\n",
       "        <div id=\"WJHErqyxYgZdpsdcu8CLVb\"></div>\n",
       "        <script>netpixi.call('WJHErqyxYgZdpsdcu8CLVb', 'Nn2UsWVPTj4nkwbQAESU8z', 'changeGraph', 'eyJpZCI6ICJUdW5pc2lhIiwgInR5cGUiOiAidmVydGV4IiwgInByb3BzIjogeyJjb2xvciI6IDY1MjgwfX0K');</script>\n",
       "    "
      ],
      "text/plain": [
       "<IPython.core.display.HTML object>"
      ]
     },
     "metadata": {},
     "output_type": "display_data"
    },
    {
     "data": {
      "text/html": [
       "\n",
       "        <div id=\"oWoSbgLMPN8hzBtRm8WKP4\"></div>\n",
       "        <script>netpixi.call('oWoSbgLMPN8hzBtRm8WKP4', 'Nn2UsWVPTj4nkwbQAESU8z', 'changeGraph', 'eyJpZCI6ICJFY3VhZG9yIiwgInR5cGUiOiAidmVydGV4IiwgInByb3BzIjogeyJjb2xvciI6IDE2NzExNjgwfX0K');</script>\n",
       "    "
      ],
      "text/plain": [
       "<IPython.core.display.HTML object>"
      ]
     },
     "metadata": {},
     "output_type": "display_data"
    },
    {
     "data": {
      "text/html": [
       "\n",
       "        <div id=\"EH6yHXcZCDp9x24foTA6vT\"></div>\n",
       "        <script>netpixi.call('EH6yHXcZCDp9x24foTA6vT', 'Nn2UsWVPTj4nkwbQAESU8z', 'changeGraph', 'eyJpZCI6ICJFZ3lwdCIsICJ0eXBlIjogInZlcnRleCIsICJwcm9wcyI6IHsiY29sb3IiOiAxNjcxMTY4MH19Cg==');</script>\n",
       "    "
      ],
      "text/plain": [
       "<IPython.core.display.HTML object>"
      ]
     },
     "metadata": {},
     "output_type": "display_data"
    },
    {
     "data": {
      "text/html": [
       "\n",
       "        <div id=\"Bx7cfbToDXAZUs74RDyvHq\"></div>\n",
       "        <script>netpixi.call('Bx7cfbToDXAZUs74RDyvHq', 'Nn2UsWVPTj4nkwbQAESU8z', 'changeGraph', 'eyJpZCI6ICJHdWluZWEiLCAidHlwZSI6ICJ2ZXJ0ZXgiLCAicHJvcHMiOiB7ImNvbG9yIjogNjUyODB9fQo=');</script>\n",
       "    "
      ],
      "text/plain": [
       "<IPython.core.display.HTML object>"
      ]
     },
     "metadata": {},
     "output_type": "display_data"
    },
    {
     "data": {
      "text/html": [
       "\n",
       "        <div id=\"WRk7fhygiqatzizEqBhGmP\"></div>\n",
       "        <script>netpixi.call('WRk7fhygiqatzizEqBhGmP', 'Nn2UsWVPTj4nkwbQAESU8z', 'changeGraph', 'eyJpZCI6ICJDaGlsZSIsICJ0eXBlIjogInZlcnRleCIsICJwcm9wcyI6IHsiY29sb3IiOiA2NTI4MH19Cg==');</script>\n",
       "    "
      ],
      "text/plain": [
       "<IPython.core.display.HTML object>"
      ]
     },
     "metadata": {},
     "output_type": "display_data"
    },
    {
     "data": {
      "text/html": [
       "\n",
       "        <div id=\"GVsJPcDUsYJ578jUfN3N3R\"></div>\n",
       "        <script>netpixi.call('GVsJPcDUsYJ578jUfN3N3R', 'Nn2UsWVPTj4nkwbQAESU8z', 'changeGraph', 'eyJpZCI6ICJDYW5hZGEiLCAidHlwZSI6ICJ2ZXJ0ZXgiLCAicHJvcHMiOiB7ImNvbG9yIjogMTY3MTE2ODB9fQo=');</script>\n",
       "    "
      ],
      "text/plain": [
       "<IPython.core.display.HTML object>"
      ]
     },
     "metadata": {},
     "output_type": "display_data"
    },
    {
     "data": {
      "text/html": [
       "\n",
       "        <div id=\"EQUGf96ThESRxr6dSJxuhn\"></div>\n",
       "        <script>netpixi.call('EQUGf96ThESRxr6dSJxuhn', 'Nn2UsWVPTj4nkwbQAESU8z', 'changeGraph', 'eyJpZCI6ICJOaWNhcmFndWEiLCAidHlwZSI6ICJ2ZXJ0ZXgiLCAicHJvcHMiOiB7ImNvbG9yIjogNjUyODB9fQo=');</script>\n",
       "    "
      ],
      "text/plain": [
       "<IPython.core.display.HTML object>"
      ]
     },
     "metadata": {},
     "output_type": "display_data"
    },
    {
     "data": {
      "text/html": [
       "\n",
       "        <div id=\"8REgZZNky4ETECqd967t3H\"></div>\n",
       "        <script>netpixi.call('8REgZZNky4ETECqd967t3H', 'Nn2UsWVPTj4nkwbQAESU8z', 'changeGraph', 'eyJpZCI6ICJTYWludC1QaWVycmUtZXQtTWlxdWVsb24iLCAidHlwZSI6ICJ2ZXJ0ZXgiLCAicHJvcHMiOiB7ImNvbG9yIjogNjUyODB9fQo=');</script>\n",
       "    "
      ],
      "text/plain": [
       "<IPython.core.display.HTML object>"
      ]
     },
     "metadata": {},
     "output_type": "display_data"
    },
    {
     "data": {
      "text/html": [
       "\n",
       "        <div id=\"XdpVC7GvoaPfn2yhQR4dwZ\"></div>\n",
       "        <script>netpixi.call('XdpVC7GvoaPfn2yhQR4dwZ', 'Nn2UsWVPTj4nkwbQAESU8z', 'changeGraph', 'eyJpZCI6ICJVbml0ZWQgUmVwLiBvZiBUYW56YW5pYSIsICJ0eXBlIjogInZlcnRleCIsICJwcm9wcyI6IHsiY29sb3IiOiA2NTI4MH19Cg==');</script>\n",
       "    "
      ],
      "text/plain": [
       "<IPython.core.display.HTML object>"
      ]
     },
     "metadata": {},
     "output_type": "display_data"
    },
    {
     "data": {
      "text/html": [
       "\n",
       "        <div id=\"PtP5WiwQ4cxFkhnA7icXCE\"></div>\n",
       "        <script>netpixi.call('PtP5WiwQ4cxFkhnA7icXCE', 'Nn2UsWVPTj4nkwbQAESU8z', 'changeGraph', 'eyJpZCI6ICJDemVjaCBSZXAuIiwgInR5cGUiOiAidmVydGV4IiwgInByb3BzIjogeyJjb2xvciI6IDY1MjgwfX0K');</script>\n",
       "    "
      ],
      "text/plain": [
       "<IPython.core.display.HTML object>"
      ]
     },
     "metadata": {},
     "output_type": "display_data"
    },
    {
     "data": {
      "text/html": [
       "\n",
       "        <div id=\"o3vdkTRq4qfqegpitapgYt\"></div>\n",
       "        <script>netpixi.call('o3vdkTRq4qfqegpitapgYt', 'Nn2UsWVPTj4nkwbQAESU8z', 'changeGraph', 'eyJpZCI6ICJGaWppIiwgInR5cGUiOiAidmVydGV4IiwgInByb3BzIjogeyJjb2xvciI6IDY1MjgwfX0K');</script>\n",
       "    "
      ],
      "text/plain": [
       "<IPython.core.display.HTML object>"
      ]
     },
     "metadata": {},
     "output_type": "display_data"
    },
    {
     "data": {
      "text/html": [
       "\n",
       "        <div id=\"fmr2hqDnunK968zfyQqz8s\"></div>\n",
       "        <script>netpixi.call('fmr2hqDnunK968zfyQqz8s', 'Nn2UsWVPTj4nkwbQAESU8z', 'changeGraph', 'eyJpZCI6ICJDb3N0YSBSaWNhIiwgInR5cGUiOiAidmVydGV4IiwgInByb3BzIjogeyJjb2xvciI6IDY1MjgwfX0K');</script>\n",
       "    "
      ],
      "text/plain": [
       "<IPython.core.display.HTML object>"
      ]
     },
     "metadata": {},
     "output_type": "display_data"
    },
    {
     "data": {
      "text/html": [
       "\n",
       "        <div id=\"aR3GDJZ8RvSzzcBJQxaKw6\"></div>\n",
       "        <script>netpixi.call('aR3GDJZ8RvSzzcBJQxaKw6', 'Nn2UsWVPTj4nkwbQAESU8z', 'changeGraph', 'eyJpZCI6ICJCcmF6aWwiLCAidHlwZSI6ICJ2ZXJ0ZXgiLCAicHJvcHMiOiB7ImNvbG9yIjogMTY3MTE2ODB9fQo=');</script>\n",
       "    "
      ],
      "text/plain": [
       "<IPython.core.display.HTML object>"
      ]
     },
     "metadata": {},
     "output_type": "display_data"
    },
    {
     "data": {
      "text/html": [
       "\n",
       "        <div id=\"MBjNDb2aNKUEmrkHiAeLsC\"></div>\n",
       "        <script>netpixi.call('MBjNDb2aNKUEmrkHiAeLsC', 'Nn2UsWVPTj4nkwbQAESU8z', 'changeGraph', 'eyJpZCI6ICJCaHV0YW4iLCAidHlwZSI6ICJ2ZXJ0ZXgiLCAicHJvcHMiOiB7ImNvbG9yIjogNjUyODB9fQo=');</script>\n",
       "    "
      ],
      "text/plain": [
       "<IPython.core.display.HTML object>"
      ]
     },
     "metadata": {},
     "output_type": "display_data"
    },
    {
     "data": {
      "text/html": [
       "\n",
       "        <div id=\"2dNVkKeVSbotj39V7yMUg5\"></div>\n",
       "        <script>netpixi.call('2dNVkKeVSbotj39V7yMUg5', 'Nn2UsWVPTj4nkwbQAESU8z', 'changeGraph', 'eyJpZCI6ICJTZW5lZ2FsIiwgInR5cGUiOiAidmVydGV4IiwgInByb3BzIjogeyJjb2xvciI6IDY1MjgwfX0K');</script>\n",
       "    "
      ],
      "text/plain": [
       "<IPython.core.display.HTML object>"
      ]
     },
     "metadata": {},
     "output_type": "display_data"
    },
    {
     "data": {
      "text/html": [
       "\n",
       "        <div id=\"2giBZRxjzySGYniDKeJcPB\"></div>\n",
       "        <script>netpixi.call('2giBZRxjzySGYniDKeJcPB', 'Nn2UsWVPTj4nkwbQAESU8z', 'changeGraph', 'eyJpZCI6ICJCYWhhbWFzIiwgInR5cGUiOiAidmVydGV4IiwgInByb3BzIjogeyJjb2xvciI6IDY1MjgwfX0K');</script>\n",
       "    "
      ],
      "text/plain": [
       "<IPython.core.display.HTML object>"
      ]
     },
     "metadata": {},
     "output_type": "display_data"
    },
    {
     "data": {
      "text/html": [
       "\n",
       "        <div id=\"45bkMBb6aynJPp3GZQhKN4\"></div>\n",
       "        <script>netpixi.call('45bkMBb6aynJPp3GZQhKN4', 'Nn2UsWVPTj4nkwbQAESU8z', 'changeGraph', 'eyJpZCI6ICJTd2l0emVybGFuZCIsICJ0eXBlIjogInZlcnRleCIsICJwcm9wcyI6IHsiY29sb3IiOiAxNjcxMTY4MH19Cg==');</script>\n",
       "    "
      ],
      "text/plain": [
       "<IPython.core.display.HTML object>"
      ]
     },
     "metadata": {},
     "output_type": "display_data"
    },
    {
     "data": {
      "text/html": [
       "\n",
       "        <div id=\"giAML2RAtDdZBZsfX8Vp6s\"></div>\n",
       "        <script>netpixi.call('giAML2RAtDdZBZsfX8Vp6s', 'Nn2UsWVPTj4nkwbQAESU8z', 'changeGraph', 'eyJpZCI6ICJOaWdlcmlhIiwgInR5cGUiOiAidmVydGV4IiwgInByb3BzIjogeyJjb2xvciI6IDY1MjgwfX0K');</script>\n",
       "    "
      ],
      "text/plain": [
       "<IPython.core.display.HTML object>"
      ]
     },
     "metadata": {},
     "output_type": "display_data"
    },
    {
     "data": {
      "text/html": [
       "\n",
       "        <div id=\"caSoAgjD2GgpHkuLpwjuvS\"></div>\n",
       "        <script>netpixi.call('caSoAgjD2GgpHkuLpwjuvS', 'Nn2UsWVPTj4nkwbQAESU8z', 'changeGraph', 'eyJpZCI6ICJHdWFkZWxvdXBlIiwgInR5cGUiOiAidmVydGV4IiwgInByb3BzIjogeyJjb2xvciI6IDY1MjgwfX0K');</script>\n",
       "    "
      ],
      "text/plain": [
       "<IPython.core.display.HTML object>"
      ]
     },
     "metadata": {},
     "output_type": "display_data"
    },
    {
     "data": {
      "text/html": [
       "\n",
       "        <div id=\"BhBeeTXuruajb3MQeBJKZ4\"></div>\n",
       "        <script>netpixi.call('BhBeeTXuruajb3MQeBJKZ4', 'Nn2UsWVPTj4nkwbQAESU8z', 'changeGraph', 'eyJpZCI6ICJNYWxheXNpYSIsICJ0eXBlIjogInZlcnRleCIsICJwcm9wcyI6IHsiY29sb3IiOiA2NTI4MH19Cg==');</script>\n",
       "    "
      ],
      "text/plain": [
       "<IPython.core.display.HTML object>"
      ]
     },
     "metadata": {},
     "output_type": "display_data"
    },
    {
     "data": {
      "text/html": [
       "\n",
       "        <div id=\"2Aj3mDp4qub5dJXN4iSFRY\"></div>\n",
       "        <script>netpixi.call('2Aj3mDp4qub5dJXN4iSFRY', 'Nn2UsWVPTj4nkwbQAESU8z', 'changeGraph', 'eyJpZCI6ICJCZW5pbiIsICJ0eXBlIjogInZlcnRleCIsICJwcm9wcyI6IHsiY29sb3IiOiA2NTI4MH19Cg==');</script>\n",
       "    "
      ],
      "text/plain": [
       "<IPython.core.display.HTML object>"
      ]
     },
     "metadata": {},
     "output_type": "display_data"
    },
    {
     "data": {
      "text/html": [
       "\n",
       "        <div id=\"mFZ38jUL9aEwPbn8NsRLEB\"></div>\n",
       "        <script>netpixi.call('mFZ38jUL9aEwPbn8NsRLEB', 'Nn2UsWVPTj4nkwbQAESU8z', 'changeGraph', 'eyJpZCI6ICJBdXN0cmFsaWEiLCAidHlwZSI6ICJ2ZXJ0ZXgiLCAicHJvcHMiOiB7ImNvbG9yIjogMTY3MTE2ODB9fQo=');</script>\n",
       "    "
      ],
      "text/plain": [
       "<IPython.core.display.HTML object>"
      ]
     },
     "metadata": {},
     "output_type": "display_data"
    },
    {
     "data": {
      "text/html": [
       "\n",
       "        <div id=\"No5FYsRuu94AgL2tP8nk5G\"></div>\n",
       "        <script>netpixi.call('No5FYsRuu94AgL2tP8nk5G', 'Nn2UsWVPTj4nkwbQAESU8z', 'changeGraph', 'eyJpZCI6ICJTb2xvbW9uIElzbGFuZHMiLCAidHlwZSI6ICJ2ZXJ0ZXgiLCAicHJvcHMiOiB7ImNvbG9yIjogNjUyODB9fQo=');</script>\n",
       "    "
      ],
      "text/plain": [
       "<IPython.core.display.HTML object>"
      ]
     },
     "metadata": {},
     "output_type": "display_data"
    },
    {
     "data": {
      "text/html": [
       "\n",
       "        <div id=\"LcJe4msCAF5wsVH5KojCQA\"></div>\n",
       "        <script>netpixi.call('LcJe4msCAF5wsVH5KojCQA', 'Nn2UsWVPTj4nkwbQAESU8z', 'changeGraph', 'eyJpZCI6ICJBemVyYmFpamFuIiwgInR5cGUiOiAidmVydGV4IiwgInByb3BzIjogeyJjb2xvciI6IDY1MjgwfX0K');</script>\n",
       "    "
      ],
      "text/plain": [
       "<IPython.core.display.HTML object>"
      ]
     },
     "metadata": {},
     "output_type": "display_data"
    },
    {
     "data": {
      "text/html": [
       "\n",
       "        <div id=\"3beGUQfifCejG2mP4pCAP8\"></div>\n",
       "        <script>netpixi.call('3beGUQfifCejG2mP4pCAP8', 'Nn2UsWVPTj4nkwbQAESU8z', 'changeGraph', 'eyJpZCI6ICJTYW8gVG9tZSBhbmQgUHJpbmNpcGUiLCAidHlwZSI6ICJ2ZXJ0ZXgiLCAicHJvcHMiOiB7ImNvbG9yIjogNjUyODB9fQo=');</script>\n",
       "    "
      ],
      "text/plain": [
       "<IPython.core.display.HTML object>"
      ]
     },
     "metadata": {},
     "output_type": "display_data"
    },
    {
     "data": {
      "text/html": [
       "\n",
       "        <div id=\"k6cKrkFBqw6aPaum7CVypq\"></div>\n",
       "        <script>netpixi.call('k6cKrkFBqw6aPaum7CVypq', 'Nn2UsWVPTj4nkwbQAESU8z', 'changeGraph', 'eyJpZCI6ICJOb3Jmb2xrIElzbGFuZCIsICJ0eXBlIjogInZlcnRleCIsICJwcm9wcyI6IHsiY29sb3IiOiA2NTI4MH19Cg==');</script>\n",
       "    "
      ],
      "text/plain": [
       "<IPython.core.display.HTML object>"
      ]
     },
     "metadata": {},
     "output_type": "display_data"
    },
    {
     "data": {
      "text/html": [
       "\n",
       "        <div id=\"GzDMnvpdduvHF356XmCUYL\"></div>\n",
       "        <script>netpixi.call('GzDMnvpdduvHF356XmCUYL', 'Nn2UsWVPTj4nkwbQAESU8z', 'changeGraph', 'eyJpZCI6ICJCdXJraW5hIEZhc28iLCAidHlwZSI6ICJ2ZXJ0ZXgiLCAicHJvcHMiOiB7ImNvbG9yIjogNjUyODB9fQo=');</script>\n",
       "    "
      ],
      "text/plain": [
       "<IPython.core.display.HTML object>"
      ]
     },
     "metadata": {},
     "output_type": "display_data"
    },
    {
     "data": {
      "text/html": [
       "\n",
       "        <div id=\"5m6YB6VvNGwp4M9UoQgTHH\"></div>\n",
       "        <script>netpixi.call('5m6YB6VvNGwp4M9UoQgTHH', 'Nn2UsWVPTj4nkwbQAESU8z', 'changeGraph', 'eyJpZCI6ICJNZXhpY28iLCAidHlwZSI6ICJ2ZXJ0ZXgiLCAicHJvcHMiOiB7ImNvbG9yIjogMTY3MTE2ODB9fQo=');</script>\n",
       "    "
      ],
      "text/plain": [
       "<IPython.core.display.HTML object>"
      ]
     },
     "metadata": {},
     "output_type": "display_data"
    },
    {
     "data": {
      "text/html": [
       "\n",
       "        <div id=\"AhNGbf9UZivPEpvEu3PrqA\"></div>\n",
       "        <script>netpixi.call('AhNGbf9UZivPEpvEu3PrqA', 'Nn2UsWVPTj4nkwbQAESU8z', 'changeGraph', 'eyJpZCI6ICJCYXJiYWRvcyIsICJ0eXBlIjogInZlcnRleCIsICJwcm9wcyI6IHsiY29sb3IiOiA2NTI4MH19Cg==');</script>\n",
       "    "
      ],
      "text/plain": [
       "<IPython.core.display.HTML object>"
      ]
     },
     "metadata": {},
     "output_type": "display_data"
    },
    {
     "data": {
      "text/html": [
       "\n",
       "        <div id=\"FW4cgHpmyjpZtVGrkKbxws\"></div>\n",
       "        <script>netpixi.call('FW4cgHpmyjpZtVGrkKbxws', 'Nn2UsWVPTj4nkwbQAESU8z', 'changeGraph', 'eyJpZCI6ICJTdGF0ZWxlc3MiLCAidHlwZSI6ICJ2ZXJ0ZXgiLCAicHJvcHMiOiB7ImNvbG9yIjogNjUyODB9fQo=');</script>\n",
       "    "
      ],
      "text/plain": [
       "<IPython.core.display.HTML object>"
      ]
     },
     "metadata": {},
     "output_type": "display_data"
    },
    {
     "data": {
      "text/html": [
       "\n",
       "        <div id=\"kMPx8mfsRL2UECvNxTeTmZ\"></div>\n",
       "        <script>netpixi.call('kMPx8mfsRL2UECvNxTeTmZ', 'Nn2UsWVPTj4nkwbQAESU8z', 'changeGraph', 'eyJpZCI6ICJSZXAuIG9mIE1vbGRvdmEiLCAidHlwZSI6ICJ2ZXJ0ZXgiLCAicHJvcHMiOiB7ImNvbG9yIjogNjUyODB9fQo=');</script>\n",
       "    "
      ],
      "text/plain": [
       "<IPython.core.display.HTML object>"
      ]
     },
     "metadata": {},
     "output_type": "display_data"
    },
    {
     "data": {
      "text/html": [
       "\n",
       "        <div id=\"Udrzyy735LXjdYSHsZfq9t\"></div>\n",
       "        <script>netpixi.call('Udrzyy735LXjdYSHsZfq9t', 'Nn2UsWVPTj4nkwbQAESU8z', 'changeGraph', 'eyJpZCI6ICJJdGFseSIsICJ0eXBlIjogInZlcnRleCIsICJwcm9wcyI6IHsiY29sb3IiOiAxNjcxMTY4MH19Cg==');</script>\n",
       "    "
      ],
      "text/plain": [
       "<IPython.core.display.HTML object>"
      ]
     },
     "metadata": {},
     "output_type": "display_data"
    },
    {
     "data": {
      "text/html": [
       "\n",
       "        <div id=\"2uFru549cD9PQpjPkHFEfm\"></div>\n",
       "        <script>netpixi.call('2uFru549cD9PQpjPkHFEfm', 'Nn2UsWVPTj4nkwbQAESU8z', 'changeGraph', 'eyJpZCI6ICJQYWtpc3RhbiIsICJ0eXBlIjogInZlcnRleCIsICJwcm9wcyI6IHsiY29sb3IiOiAxNjcxMTY4MH19Cg==');</script>\n",
       "    "
      ],
      "text/plain": [
       "<IPython.core.display.HTML object>"
      ]
     },
     "metadata": {},
     "output_type": "display_data"
    },
    {
     "data": {
      "text/html": [
       "\n",
       "        <div id=\"BhVnnwiYNnKedPXrhvhcMr\"></div>\n",
       "        <script>netpixi.call('BhVnnwiYNnKedPXrhvhcMr', 'Nn2UsWVPTj4nkwbQAESU8z', 'changeGraph', 'eyJpZCI6ICJNb3JvY2NvIiwgInR5cGUiOiAidmVydGV4IiwgInByb3BzIjogeyJjb2xvciI6IDY1MjgwfX0K');</script>\n",
       "    "
      ],
      "text/plain": [
       "<IPython.core.display.HTML object>"
      ]
     },
     "metadata": {},
     "output_type": "display_data"
    },
    {
     "data": {
      "text/html": [
       "\n",
       "        <div id=\"dCUwYSGTZkhQYHjsy3RZP9\"></div>\n",
       "        <script>netpixi.call('dCUwYSGTZkhQYHjsy3RZP9', 'Nn2UsWVPTj4nkwbQAESU8z', 'changeGraph', 'eyJpZCI6ICJMaWJlcmlhIiwgInR5cGUiOiAidmVydGV4IiwgInByb3BzIjogeyJjb2xvciI6IDY1MjgwfX0K');</script>\n",
       "    "
      ],
      "text/plain": [
       "<IPython.core.display.HTML object>"
      ]
     },
     "metadata": {},
     "output_type": "display_data"
    },
    {
     "data": {
      "text/html": [
       "\n",
       "        <div id=\"kcGqTN4RL4evMC97jfxAYz\"></div>\n",
       "        <script>netpixi.call('kcGqTN4RL4evMC97jfxAYz', 'Nn2UsWVPTj4nkwbQAESU8z', 'changeGraph', 'eyJpZCI6ICJOaXVlIiwgInR5cGUiOiAidmVydGV4IiwgInByb3BzIjogeyJjb2xvciI6IDY1MjgwfX0K');</script>\n",
       "    "
      ],
      "text/plain": [
       "<IPython.core.display.HTML object>"
      ]
     },
     "metadata": {},
     "output_type": "display_data"
    },
    {
     "data": {
      "text/html": [
       "\n",
       "        <div id=\"VogCWkxRvny4ssNs7wVQc3\"></div>\n",
       "        <script>netpixi.call('VogCWkxRvny4ssNs7wVQc3', 'Nn2UsWVPTj4nkwbQAESU8z', 'changeGraph', 'eyJpZCI6ICJVbml0ZWQgS2luZ2RvbSIsICJ0eXBlIjogInZlcnRleCIsICJwcm9wcyI6IHsiY29sb3IiOiAxNjcxMTY4MH19Cg==');</script>\n",
       "    "
      ],
      "text/plain": [
       "<IPython.core.display.HTML object>"
      ]
     },
     "metadata": {},
     "output_type": "display_data"
    },
    {
     "data": {
      "text/html": [
       "\n",
       "        <div id=\"V39ixGGwM7ctXjsLG5NNnm\"></div>\n",
       "        <script>netpixi.call('V39ixGGwM7ctXjsLG5NNnm', 'Nn2UsWVPTj4nkwbQAESU8z', 'changeGraph', 'eyJpZCI6ICJNYWxhd2kiLCAidHlwZSI6ICJ2ZXJ0ZXgiLCAicHJvcHMiOiB7ImNvbG9yIjogNjUyODB9fQo=');</script>\n",
       "    "
      ],
      "text/plain": [
       "<IPython.core.display.HTML object>"
      ]
     },
     "metadata": {},
     "output_type": "display_data"
    },
    {
     "data": {
      "text/html": [
       "\n",
       "        <div id=\"36XD34jzdFFwsoNpogk8gX\"></div>\n",
       "        <script>netpixi.call('36XD34jzdFFwsoNpogk8gX', 'Nn2UsWVPTj4nkwbQAESU8z', 'changeGraph', 'eyJpZCI6ICJFcXVhdG9yaWFsIEd1aW5lYSIsICJ0eXBlIjogInZlcnRleCIsICJwcm9wcyI6IHsiY29sb3IiOiA2NTI4MH19Cg==');</script>\n",
       "    "
      ],
      "text/plain": [
       "<IPython.core.display.HTML object>"
      ]
     },
     "metadata": {},
     "output_type": "display_data"
    },
    {
     "data": {
      "text/html": [
       "\n",
       "        <div id=\"QnYJ2VXByZbM4WN82hSw2h\"></div>\n",
       "        <script>netpixi.call('QnYJ2VXByZbM4WN82hSw2h', 'Nn2UsWVPTj4nkwbQAESU8z', 'changeGraph', 'eyJpZCI6ICJPbWFuIiwgInR5cGUiOiAidmVydGV4IiwgInByb3BzIjogeyJjb2xvciI6IDY1MjgwfX0K');</script>\n",
       "    "
      ],
      "text/plain": [
       "<IPython.core.display.HTML object>"
      ]
     },
     "metadata": {},
     "output_type": "display_data"
    },
    {
     "data": {
      "text/html": [
       "\n",
       "        <div id=\"33b6eVCLBj63XogYqMuJSC\"></div>\n",
       "        <script>netpixi.call('33b6eVCLBj63XogYqMuJSC', 'Nn2UsWVPTj4nkwbQAESU8z', 'changeGraph', 'eyJpZCI6ICJNb250c2VycmF0IiwgInR5cGUiOiAidmVydGV4IiwgInByb3BzIjogeyJjb2xvciI6IDY1MjgwfX0K');</script>\n",
       "    "
      ],
      "text/plain": [
       "<IPython.core.display.HTML object>"
      ]
     },
     "metadata": {},
     "output_type": "display_data"
    },
    {
     "data": {
      "text/html": [
       "\n",
       "        <div id=\"ehqyDXyNV8unG8wVBnjqLQ\"></div>\n",
       "        <script>netpixi.call('ehqyDXyNV8unG8wVBnjqLQ', 'Nn2UsWVPTj4nkwbQAESU8z', 'changeGraph', 'eyJpZCI6ICJNYWxkaXZlcyIsICJ0eXBlIjogInZlcnRleCIsICJwcm9wcyI6IHsiY29sb3IiOiA2NTI4MH19Cg==');</script>\n",
       "    "
      ],
      "text/plain": [
       "<IPython.core.display.HTML object>"
      ]
     },
     "metadata": {},
     "output_type": "display_data"
    },
    {
     "data": {
      "text/html": [
       "\n",
       "        <div id=\"ACNKcbPHLWhu7CHiwApnXw\"></div>\n",
       "        <script>netpixi.call('ACNKcbPHLWhu7CHiwApnXw', 'Nn2UsWVPTj4nkwbQAESU8z', 'changeGraph', 'eyJpZCI6ICJOZXRoZXJsYW5kcyIsICJ0eXBlIjogInZlcnRleCIsICJwcm9wcyI6IHsiY29sb3IiOiAxNjcxMTY4MH19Cg==');</script>\n",
       "    "
      ],
      "text/plain": [
       "<IPython.core.display.HTML object>"
      ]
     },
     "metadata": {},
     "output_type": "display_data"
    },
    {
     "data": {
      "text/html": [
       "\n",
       "        <div id=\"E6CitFdhdb7eoioq9EHz6S\"></div>\n",
       "        <script>netpixi.call('E6CitFdhdb7eoioq9EHz6S', 'Nn2UsWVPTj4nkwbQAESU8z', 'changeGraph', 'eyJpZCI6ICJDYWJvIFZlcmRlIiwgInR5cGUiOiAidmVydGV4IiwgInByb3BzIjogeyJjb2xvciI6IDY1MjgwfX0K');</script>\n",
       "    "
      ],
      "text/plain": [
       "<IPython.core.display.HTML object>"
      ]
     },
     "metadata": {},
     "output_type": "display_data"
    },
    {
     "data": {
      "text/html": [
       "\n",
       "        <div id=\"MK3ZBmM6McU76K4jLFjXjB\"></div>\n",
       "        <script>netpixi.call('MK3ZBmM6McU76K4jLFjXjB', 'Nn2UsWVPTj4nkwbQAESU8z', 'changeGraph', 'eyJpZCI6ICJUaGFpbGFuZCIsICJ0eXBlIjogInZlcnRleCIsICJwcm9wcyI6IHsiY29sb3IiOiAxNjcxMTY4MH19Cg==');</script>\n",
       "    "
      ],
      "text/plain": [
       "<IPython.core.display.HTML object>"
      ]
     },
     "metadata": {},
     "output_type": "display_data"
    },
    {
     "data": {
      "text/html": [
       "\n",
       "        <div id=\"RCq5dxPq8wHeZjV6Fd8hPE\"></div>\n",
       "        <script>netpixi.call('RCq5dxPq8wHeZjV6Fd8hPE', 'Nn2UsWVPTj4nkwbQAESU8z', 'changeGraph', 'eyJpZCI6ICJDb29rIElzbGFuZHMiLCAidHlwZSI6ICJ2ZXJ0ZXgiLCAicHJvcHMiOiB7ImNvbG9yIjogNjUyODB9fQo=');</script>\n",
       "    "
      ],
      "text/plain": [
       "<IPython.core.display.HTML object>"
      ]
     },
     "metadata": {},
     "output_type": "display_data"
    },
    {
     "data": {
      "text/html": [
       "\n",
       "        <div id=\"ntRc2N7a5XPH7pUUWEx8s9\"></div>\n",
       "        <script>netpixi.call('ntRc2N7a5XPH7pUUWEx8s9', 'Nn2UsWVPTj4nkwbQAESU8z', 'changeGraph', 'eyJpZCI6ICJNb3phbWJpcXVlIiwgInR5cGUiOiAidmVydGV4IiwgInByb3BzIjogeyJjb2xvciI6IDY1MjgwfX0K');</script>\n",
       "    "
      ],
      "text/plain": [
       "<IPython.core.display.HTML object>"
      ]
     },
     "metadata": {},
     "output_type": "display_data"
    },
    {
     "data": {
      "text/html": [
       "\n",
       "        <div id=\"3rxpcCEPAcXbLYBUdzqceK\"></div>\n",
       "        <script>netpixi.call('3rxpcCEPAcXbLYBUdzqceK', 'Nn2UsWVPTj4nkwbQAESU8z', 'changeGraph', 'eyJpZCI6ICJHZW9yZ2lhIiwgInR5cGUiOiAidmVydGV4IiwgInByb3BzIjogeyJjb2xvciI6IDY1MjgwfX0K');</script>\n",
       "    "
      ],
      "text/plain": [
       "<IPython.core.display.HTML object>"
      ]
     },
     "metadata": {},
     "output_type": "display_data"
    },
    {
     "data": {
      "text/html": [
       "\n",
       "        <div id=\"JTiZhfu9mqum4cpWVkbDjH\"></div>\n",
       "        <script>netpixi.call('JTiZhfu9mqum4cpWVkbDjH', 'Nn2UsWVPTj4nkwbQAESU8z', 'changeGraph', 'eyJpZCI6ICJCYWhyYWluIiwgInR5cGUiOiAidmVydGV4IiwgInByb3BzIjogeyJjb2xvciI6IDY1MjgwfX0K');</script>\n",
       "    "
      ],
      "text/plain": [
       "<IPython.core.display.HTML object>"
      ]
     },
     "metadata": {},
     "output_type": "display_data"
    },
    {
     "data": {
      "text/html": [
       "\n",
       "        <div id=\"PQPbtkkUYzGuQzD3AKK2m4\"></div>\n",
       "        <script>netpixi.call('PQPbtkkUYzGuQzD3AKK2m4', 'Nn2UsWVPTj4nkwbQAESU8z', 'changeGraph', 'eyJpZCI6ICJIYWl0aSIsICJ0eXBlIjogInZlcnRleCIsICJwcm9wcyI6IHsiY29sb3IiOiA2NTI4MH19Cg==');</script>\n",
       "    "
      ],
      "text/plain": [
       "<IPython.core.display.HTML object>"
      ]
     },
     "metadata": {},
     "output_type": "display_data"
    },
    {
     "data": {
      "text/html": [
       "\n",
       "        <div id=\"ffKc9cpMKqiYHjRZZtXeXK\"></div>\n",
       "        <script>netpixi.call('ffKc9cpMKqiYHjRZZtXeXK', 'Nn2UsWVPTj4nkwbQAESU8z', 'changeGraph', 'eyJpZCI6ICJFdGhpb3BpYSIsICJ0eXBlIjogInZlcnRleCIsICJwcm9wcyI6IHsiY29sb3IiOiA2NTI4MH19Cg==');</script>\n",
       "    "
      ],
      "text/plain": [
       "<IPython.core.display.HTML object>"
      ]
     },
     "metadata": {},
     "output_type": "display_data"
    },
    {
     "data": {
      "text/html": [
       "\n",
       "        <div id=\"jwHRwhofcsyihjbzRBvZgp\"></div>\n",
       "        <script>netpixi.call('jwHRwhofcsyihjbzRBvZgp', 'Nn2UsWVPTj4nkwbQAESU8z', 'changeGraph', 'eyJpZCI6ICJDaGluYSwgTWFjYW8gU0FSIiwgInR5cGUiOiAidmVydGV4IiwgInByb3BzIjogeyJjb2xvciI6IDY1MjgwfX0K');</script>\n",
       "    "
      ],
      "text/plain": [
       "<IPython.core.display.HTML object>"
      ]
     },
     "metadata": {},
     "output_type": "display_data"
    },
    {
     "data": {
      "text/html": [
       "\n",
       "        <div id=\"Rm4Sz5MxzrbneW7yZcZGgT\"></div>\n",
       "        <script>netpixi.call('Rm4Sz5MxzrbneW7yZcZGgT', 'Nn2UsWVPTj4nkwbQAESU8z', 'changeGraph', 'eyJpZCI6ICJJbmRpYSIsICJ0eXBlIjogInZlcnRleCIsICJwcm9wcyI6IHsiY29sb3IiOiA2NTI4MH19Cg==');</script>\n",
       "    "
      ],
      "text/plain": [
       "<IPython.core.display.HTML object>"
      ]
     },
     "metadata": {},
     "output_type": "display_data"
    },
    {
     "data": {
      "text/html": [
       "\n",
       "        <div id=\"DnSaB5ftR5thGRrfP8bHgy\"></div>\n",
       "        <script>netpixi.call('DnSaB5ftR5thGRrfP8bHgy', 'Nn2UsWVPTj4nkwbQAESU8z', 'changeGraph', 'eyJpZCI6ICJZZW1lbiIsICJ0eXBlIjogInZlcnRleCIsICJwcm9wcyI6IHsiY29sb3IiOiA2NTI4MH19Cg==');</script>\n",
       "    "
      ],
      "text/plain": [
       "<IPython.core.display.HTML object>"
      ]
     },
     "metadata": {},
     "output_type": "display_data"
    },
    {
     "data": {
      "text/html": [
       "\n",
       "        <div id=\"GvZQmyMTqNqBoW8nBCbpzf\"></div>\n",
       "        <script>netpixi.call('GvZQmyMTqNqBoW8nBCbpzf', 'Nn2UsWVPTj4nkwbQAESU8z', 'changeGraph', 'eyJpZCI6ICJBZmdoYW5pc3RhbiIsICJ0eXBlIjogInZlcnRleCIsICJwcm9wcyI6IHsiY29sb3IiOiA2NTI4MH19Cg==');</script>\n",
       "    "
      ],
      "text/plain": [
       "<IPython.core.display.HTML object>"
      ]
     },
     "metadata": {},
     "output_type": "display_data"
    },
    {
     "data": {
      "text/html": [
       "\n",
       "        <div id=\"mHDHCgy7ijkcjV4nncRgHf\"></div>\n",
       "        <script>netpixi.call('mHDHCgy7ijkcjV4nncRgHf', 'Nn2UsWVPTj4nkwbQAESU8z', 'changeGraph', 'eyJpZCI6ICJDeXBydXMiLCAidHlwZSI6ICJ2ZXJ0ZXgiLCAicHJvcHMiOiB7ImNvbG9yIjogMTY3MTE2ODB9fQo=');</script>\n",
       "    "
      ],
      "text/plain": [
       "<IPython.core.display.HTML object>"
      ]
     },
     "metadata": {},
     "output_type": "display_data"
    },
    {
     "data": {
      "text/html": [
       "\n",
       "        <div id=\"7qcxMz9LNjygjTRHUhvKCB\"></div>\n",
       "        <script>netpixi.call('7qcxMz9LNjygjTRHUhvKCB', 'Nn2UsWVPTj4nkwbQAESU8z', 'changeGraph', 'eyJpZCI6ICJHYW1iaWEiLCAidHlwZSI6ICJ2ZXJ0ZXgiLCAicHJvcHMiOiB7ImNvbG9yIjogNjUyODB9fQo=');</script>\n",
       "    "
      ],
      "text/plain": [
       "<IPython.core.display.HTML object>"
      ]
     },
     "metadata": {},
     "output_type": "display_data"
    },
    {
     "data": {
      "text/html": [
       "\n",
       "        <div id=\"LW3mDhRmJwDo5VgVvtKRUD\"></div>\n",
       "        <script>netpixi.call('LW3mDhRmJwDo5VgVvtKRUD', 'Nn2UsWVPTj4nkwbQAESU8z', 'changeGraph', 'eyJpZCI6ICJKYW1haWNhIiwgInR5cGUiOiAidmVydGV4IiwgInByb3BzIjogeyJjb2xvciI6IDY1MjgwfX0K');</script>\n",
       "    "
      ],
      "text/plain": [
       "<IPython.core.display.HTML object>"
      ]
     },
     "metadata": {},
     "output_type": "display_data"
    },
    {
     "data": {
      "text/html": [
       "\n",
       "        <div id=\"NPMwAzoCnHijtGhj7Pr5Hq\"></div>\n",
       "        <script>netpixi.call('NPMwAzoCnHijtGhj7Pr5Hq', 'Nn2UsWVPTj4nkwbQAESU8z', 'changeGraph', 'eyJpZCI6ICJNYWRhZ2FzY2FyIiwgInR5cGUiOiAidmVydGV4IiwgInByb3BzIjogeyJjb2xvciI6IDY1MjgwfX0K');</script>\n",
       "    "
      ],
      "text/plain": [
       "<IPython.core.display.HTML object>"
      ]
     },
     "metadata": {},
     "output_type": "display_data"
    },
    {
     "data": {
      "text/html": [
       "\n",
       "        <div id=\"frnpZkjXLoiPyNKNHoAs7D\"></div>\n",
       "        <script>netpixi.call('frnpZkjXLoiPyNKNHoAs7D', 'Nn2UsWVPTj4nkwbQAESU8z', 'changeGraph', 'eyJpZCI6ICJQYWxlc3RpbmlhbiIsICJ0eXBlIjogInZlcnRleCIsICJwcm9wcyI6IHsiY29sb3IiOiA2NTI4MH19Cg==');</script>\n",
       "    "
      ],
      "text/plain": [
       "<IPython.core.display.HTML object>"
      ]
     },
     "metadata": {},
     "output_type": "display_data"
    },
    {
     "data": {
      "text/html": [
       "\n",
       "        <div id=\"hcZv5VvcWxskziikYDSj6N\"></div>\n",
       "        <script>netpixi.call('hcZv5VvcWxskziikYDSj6N', 'Nn2UsWVPTj4nkwbQAESU8z', 'changeGraph', 'eyJpZCI6ICJTZXJiaWEgYW5kIEtvc292byAoUy9SRVMvMTI0NCAoMTk5OSkpIiwgInR5cGUiOiAidmVydGV4IiwgInByb3BzIjogeyJjb2xvciI6IDY1MjgwfX0K');</script>\n",
       "    "
      ],
      "text/plain": [
       "<IPython.core.display.HTML object>"
      ]
     },
     "metadata": {},
     "output_type": "display_data"
    },
    {
     "data": {
      "text/html": [
       "\n",
       "        <div id=\"f7bVDN838nWLDfXdLJap5w\"></div>\n",
       "        <script>netpixi.call('f7bVDN838nWLDfXdLJap5w', 'Nn2UsWVPTj4nkwbQAESU8z', 'changeGraph', 'eyJpZCI6ICJNYXJzaGFsbCBJc2xhbmRzIiwgInR5cGUiOiAidmVydGV4IiwgInByb3BzIjogeyJjb2xvciI6IDY1MjgwfX0K');</script>\n",
       "    "
      ],
      "text/plain": [
       "<IPython.core.display.HTML object>"
      ]
     },
     "metadata": {},
     "output_type": "display_data"
    },
    {
     "data": {
      "text/html": [
       "\n",
       "        <div id=\"2zyBM4MQvrGkmxigPvSEuu\"></div>\n",
       "        <script>netpixi.call('2zyBM4MQvrGkmxigPvSEuu', 'Nn2UsWVPTj4nkwbQAESU8z', 'changeGraph', 'eyJpZCI6ICJCdWxnYXJpYSIsICJ0eXBlIjogInZlcnRleCIsICJwcm9wcyI6IHsiY29sb3IiOiAxNjcxMTY4MH19Cg==');</script>\n",
       "    "
      ],
      "text/plain": [
       "<IPython.core.display.HTML object>"
      ]
     },
     "metadata": {},
     "output_type": "display_data"
    },
    {
     "data": {
      "text/html": [
       "\n",
       "        <div id=\"Z4t2C3UhU9aH2oWjAdYtaR\"></div>\n",
       "        <script>netpixi.call('Z4t2C3UhU9aH2oWjAdYtaR', 'Nn2UsWVPTj4nkwbQAESU8z', 'changeGraph', 'eyJpZCI6ICJXYWxsaXMgYW5kIEZ1dHVuYSBJc2xhbmRzICIsICJ0eXBlIjogInZlcnRleCIsICJwcm9wcyI6IHsiY29sb3IiOiA2NTI4MH19Cg==');</script>\n",
       "    "
      ],
      "text/plain": [
       "<IPython.core.display.HTML object>"
      ]
     },
     "metadata": {},
     "output_type": "display_data"
    },
    {
     "data": {
      "text/html": [
       "\n",
       "        <div id=\"EnAgvkiKH4KjXZDgftXfzL\"></div>\n",
       "        <script>netpixi.call('EnAgvkiKH4KjXZDgftXfzL', 'Nn2UsWVPTj4nkwbQAESU8z', 'changeGraph', 'eyJpZCI6ICJNYXVyaXRhbmlhIiwgInR5cGUiOiAidmVydGV4IiwgInByb3BzIjogeyJjb2xvciI6IDY1MjgwfX0K');</script>\n",
       "    "
      ],
      "text/plain": [
       "<IPython.core.display.HTML object>"
      ]
     },
     "metadata": {},
     "output_type": "display_data"
    },
    {
     "data": {
      "text/html": [
       "\n",
       "        <div id=\"79Vr568K3bvbPkbKDDUAPW\"></div>\n",
       "        <script>netpixi.call('79Vr568K3bvbPkbKDDUAPW', 'Nn2UsWVPTj4nkwbQAESU8z', 'changeGraph', 'eyJpZCI6ICJDb21vcm9zIiwgInR5cGUiOiAidmVydGV4IiwgInByb3BzIjogeyJjb2xvciI6IDY1MjgwfX0K');</script>\n",
       "    "
      ],
      "text/plain": [
       "<IPython.core.display.HTML object>"
      ]
     },
     "metadata": {},
     "output_type": "display_data"
    },
    {
     "data": {
      "text/html": [
       "\n",
       "        <div id=\"JHsBfccKQjnA8dmAVZgqTe\"></div>\n",
       "        <script>netpixi.call('JHsBfccKQjnA8dmAVZgqTe', 'Nn2UsWVPTj4nkwbQAESU8z', 'changeGraph', 'eyJpZCI6ICJHaGFuYSIsICJ0eXBlIjogInZlcnRleCIsICJwcm9wcyI6IHsiY29sb3IiOiA2NTI4MH19Cg==');</script>\n",
       "    "
      ],
      "text/plain": [
       "<IPython.core.display.HTML object>"
      ]
     },
     "metadata": {},
     "output_type": "display_data"
    },
    {
     "data": {
      "text/html": [
       "\n",
       "        <div id=\"4XE7dioxZaMxepi4Bybbyp\"></div>\n",
       "        <script>netpixi.call('4XE7dioxZaMxepi4Bybbyp', 'Nn2UsWVPTj4nkwbQAESU8z', 'changeGraph', 'eyJpZCI6ICJCb2xpdmlhIChQbHVyaW5hdGlvbmFsIFN0YXRlIG9mKSIsICJ0eXBlIjogInZlcnRleCIsICJwcm9wcyI6IHsiY29sb3IiOiA2NTI4MH19Cg==');</script>\n",
       "    "
      ],
      "text/plain": [
       "<IPython.core.display.HTML object>"
      ]
     },
     "metadata": {},
     "output_type": "display_data"
    },
    {
     "data": {
      "text/html": [
       "\n",
       "        <div id=\"evFQDYUYLAwTSnovjfX3Kj\"></div>\n",
       "        <script>netpixi.call('evFQDYUYLAwTSnovjfX3Kj', 'Nn2UsWVPTj4nkwbQAESU8z', 'changeGraph', 'eyJpZCI6ICJUb2dvIiwgInR5cGUiOiAidmVydGV4IiwgInByb3BzIjogeyJjb2xvciI6IDY1MjgwfX0K');</script>\n",
       "    "
      ],
      "text/plain": [
       "<IPython.core.display.HTML object>"
      ]
     },
     "metadata": {},
     "output_type": "display_data"
    },
    {
     "data": {
      "text/html": [
       "\n",
       "        <div id=\"XXo25TJ9ykWiSbhYDrwS7y\"></div>\n",
       "        <script>netpixi.call('XXo25TJ9ykWiSbhYDrwS7y', 'Nn2UsWVPTj4nkwbQAESU8z', 'changeGraph', 'eyJpZCI6ICJaaW1iYWJ3ZSIsICJ0eXBlIjogInZlcnRleCIsICJwcm9wcyI6IHsiY29sb3IiOiA2NTI4MH19Cg==');</script>\n",
       "    "
      ],
      "text/plain": [
       "<IPython.core.display.HTML object>"
      ]
     },
     "metadata": {},
     "output_type": "display_data"
    },
    {
     "data": {
      "text/html": [
       "\n",
       "        <div id=\"7h92viXBqhkpfBTPSWKhER\"></div>\n",
       "        <script>netpixi.call('7h92viXBqhkpfBTPSWKhER', 'Nn2UsWVPTj4nkwbQAESU8z', 'changeGraph', 'eyJpZCI6ICJLdXdhaXQiLCAidHlwZSI6ICJ2ZXJ0ZXgiLCAicHJvcHMiOiB7ImNvbG9yIjogNjUyODB9fQo=');</script>\n",
       "    "
      ],
      "text/plain": [
       "<IPython.core.display.HTML object>"
      ]
     },
     "metadata": {},
     "output_type": "display_data"
    },
    {
     "data": {
      "text/html": [
       "\n",
       "        <div id=\"kdFCYXP3UCjH5UHAtev57K\"></div>\n",
       "        <script>netpixi.call('kdFCYXP3UCjH5UHAtev57K', 'Nn2UsWVPTj4nkwbQAESU8z', 'changeGraph', 'eyJpZCI6ICJTd2VkZW4iLCAidHlwZSI6ICJ2ZXJ0ZXgiLCAicHJvcHMiOiB7ImNvbG9yIjogMTY3MTE2ODB9fQo=');</script>\n",
       "    "
      ],
      "text/plain": [
       "<IPython.core.display.HTML object>"
      ]
     },
     "metadata": {},
     "output_type": "display_data"
    },
    {
     "data": {
      "text/html": [
       "\n",
       "        <div id=\"7Zu6TLTDLFynQejssJFBmH\"></div>\n",
       "        <script>netpixi.call('7Zu6TLTDLFynQejssJFBmH', 'Nn2UsWVPTj4nkwbQAESU8z', 'changeGraph', 'eyJpZCI6ICJDXHUwMGY0dGUgZCdJdm9pcmUiLCAidHlwZSI6ICJ2ZXJ0ZXgiLCAicHJvcHMiOiB7ImNvbG9yIjogNjUyODB9fQo=');</script>\n",
       "    "
      ],
      "text/plain": [
       "<IPython.core.display.HTML object>"
      ]
     },
     "metadata": {},
     "output_type": "display_data"
    },
    {
     "data": {
      "text/html": [
       "\n",
       "        <div id=\"K3DSMrJ5xaTER94Txdj5mL\"></div>\n",
       "        <script>netpixi.call('K3DSMrJ5xaTER94Txdj5mL', 'Nn2UsWVPTj4nkwbQAESU8z', 'changeGraph', 'eyJpZCI6ICJQZXJ1IiwgInR5cGUiOiAidmVydGV4IiwgInByb3BzIjogeyJjb2xvciI6IDY1MjgwfX0K');</script>\n",
       "    "
      ],
      "text/plain": [
       "<IPython.core.display.HTML object>"
      ]
     },
     "metadata": {},
     "output_type": "display_data"
    },
    {
     "data": {
      "text/html": [
       "\n",
       "        <div id=\"XmPqZm4yXBWUUqBCGWs9uQ\"></div>\n",
       "        <script>netpixi.call('XmPqZm4yXBWUUqBCGWs9uQ', 'Nn2UsWVPTj4nkwbQAESU8z', 'changeGraph', 'eyJpZCI6ICJHcmVlY2UiLCAidHlwZSI6ICJ2ZXJ0ZXgiLCAicHJvcHMiOiB7ImNvbG9yIjogMTY3MTE2ODB9fQo=');</script>\n",
       "    "
      ],
      "text/plain": [
       "<IPython.core.display.HTML object>"
      ]
     },
     "metadata": {},
     "output_type": "display_data"
    },
    {
     "data": {
      "text/html": [
       "\n",
       "        <div id=\"ZWuXEqb8cqBf7sFtoWVrwq\"></div>\n",
       "        <script>netpixi.call('ZWuXEqb8cqBf7sFtoWVrwq', 'Nn2UsWVPTj4nkwbQAESU8z', 'changeGraph', 'eyJpZCI6ICJCZWxnaXVtIiwgInR5cGUiOiAidmVydGV4IiwgInByb3BzIjogeyJjb2xvciI6IDE2NzExNjgwfX0K');</script>\n",
       "    "
      ],
      "text/plain": [
       "<IPython.core.display.HTML object>"
      ]
     },
     "metadata": {},
     "output_type": "display_data"
    },
    {
     "data": {
      "text/html": [
       "\n",
       "        <div id=\"VkGMbuTTE6dTEi6XmmrJtH\"></div>\n",
       "        <script>netpixi.call('VkGMbuTTE6dTEi6XmmrJtH', 'Nn2UsWVPTj4nkwbQAESU8z', 'changeGraph', 'eyJpZCI6ICJBbGdlcmlhIiwgInR5cGUiOiAidmVydGV4IiwgInByb3BzIjogeyJjb2xvciI6IDY1MjgwfX0K');</script>\n",
       "    "
      ],
      "text/plain": [
       "<IPython.core.display.HTML object>"
      ]
     },
     "metadata": {},
     "output_type": "display_data"
    },
    {
     "data": {
      "text/html": [
       "\n",
       "        <div id=\"UcYUjfN2REdqDij6HcBZmj\"></div>\n",
       "        <script>netpixi.call('UcYUjfN2REdqDij6HcBZmj', 'Nn2UsWVPTj4nkwbQAESU8z', 'changeGraph', 'eyJpZCI6ICJBcm1lbmlhIiwgInR5cGUiOiAidmVydGV4IiwgInByb3BzIjogeyJjb2xvciI6IDY1MjgwfX0K');</script>\n",
       "    "
      ],
      "text/plain": [
       "<IPython.core.display.HTML object>"
      ]
     },
     "metadata": {},
     "output_type": "display_data"
    },
    {
     "data": {
      "text/html": [
       "\n",
       "        <div id=\"dGwksRFzQaaDN6fGtXRtMr\"></div>\n",
       "        <script>netpixi.call('dGwksRFzQaaDN6fGtXRtMr', 'Nn2UsWVPTj4nkwbQAESU8z', 'changeGraph', 'eyJpZCI6ICJaYW1iaWEiLCAidHlwZSI6ICJ2ZXJ0ZXgiLCAicHJvcHMiOiB7ImNvbG9yIjogNjUyODB9fQo=');</script>\n",
       "    "
      ],
      "text/plain": [
       "<IPython.core.display.HTML object>"
      ]
     },
     "metadata": {},
     "output_type": "display_data"
    },
    {
     "data": {
      "text/html": [
       "\n",
       "        <div id=\"87QzP7xejHLJpxER6xW7fP\"></div>\n",
       "        <script>netpixi.call('87QzP7xejHLJpxER6xW7fP', 'Nn2UsWVPTj4nkwbQAESU8z', 'changeGraph', 'eyJpZCI6ICJCYW5nbGFkZXNoIiwgInR5cGUiOiAidmVydGV4IiwgInByb3BzIjogeyJjb2xvciI6IDY1MjgwfX0K');</script>\n",
       "    "
      ],
      "text/plain": [
       "<IPython.core.display.HTML object>"
      ]
     },
     "metadata": {},
     "output_type": "display_data"
    },
    {
     "data": {
      "text/html": [
       "\n",
       "        <div id=\"JL32vAiY6me3eAPVY5y4nP\"></div>\n",
       "        <script>netpixi.call('JL32vAiY6me3eAPVY5y4nP', 'Nn2UsWVPTj4nkwbQAESU8z', 'changeGraph', 'eyJpZCI6ICJUdXJrZXkiLCAidHlwZSI6ICJ2ZXJ0ZXgiLCAicHJvcHMiOiB7ImNvbG9yIjogMTY3MTE2ODB9fQo=');</script>\n",
       "    "
      ],
      "text/plain": [
       "<IPython.core.display.HTML object>"
      ]
     },
     "metadata": {},
     "output_type": "display_data"
    },
    {
     "data": {
      "text/html": [
       "\n",
       "        <div id=\"oBNaniFTXSvBBGSvnfuwJb\"></div>\n",
       "        <script>netpixi.call('oBNaniFTXSvBBGSvnfuwJb', 'Nn2UsWVPTj4nkwbQAESU8z', 'changeGraph', 'eyJpZCI6ICJFbCBTYWx2YWRvciIsICJ0eXBlIjogInZlcnRleCIsICJwcm9wcyI6IHsiY29sb3IiOiA2NTI4MH19Cg==');</script>\n",
       "    "
      ],
      "text/plain": [
       "<IPython.core.display.HTML object>"
      ]
     },
     "metadata": {},
     "output_type": "display_data"
    },
    {
     "data": {
      "text/html": [
       "\n",
       "        <div id=\"MDFh7gvjxTMApCmiXdB6Ky\"></div>\n",
       "        <script>netpixi.call('MDFh7gvjxTMApCmiXdB6Ky', 'Nn2UsWVPTj4nkwbQAESU8z', 'changeGraph', 'eyJpZCI6ICJDb2xvbWJpYSIsICJ0eXBlIjogInZlcnRleCIsICJwcm9wcyI6IHsiY29sb3IiOiA2NTI4MH19Cg==');</script>\n",
       "    "
      ],
      "text/plain": [
       "<IPython.core.display.HTML object>"
      ]
     },
     "metadata": {},
     "output_type": "display_data"
    },
    {
     "data": {
      "text/html": [
       "\n",
       "        <div id=\"MurKKfsFuCnapYfifgfjkz\"></div>\n",
       "        <script>netpixi.call('MurKKfsFuCnapYfifgfjkz', 'Nn2UsWVPTj4nkwbQAESU8z', 'changeGraph', 'eyJpZCI6ICJTdmFsYmFyZCBhbmQgSmFuIE1heWVuIiwgInR5cGUiOiAidmVydGV4IiwgInByb3BzIjogeyJjb2xvciI6IDY1MjgwfX0K');</script>\n",
       "    "
      ],
      "text/plain": [
       "<IPython.core.display.HTML object>"
      ]
     },
     "metadata": {},
     "output_type": "display_data"
    },
    {
     "data": {
      "text/html": [
       "\n",
       "        <div id=\"FHCJULqvnmkwd4LdPfWomM\"></div>\n",
       "        <script>netpixi.call('FHCJULqvnmkwd4LdPfWomM', 'Nn2UsWVPTj4nkwbQAESU8z', 'changeGraph', 'eyJpZCI6ICJTYW1vYSIsICJ0eXBlIjogInZlcnRleCIsICJwcm9wcyI6IHsiY29sb3IiOiA2NTI4MH19Cg==');</script>\n",
       "    "
      ],
      "text/plain": [
       "<IPython.core.display.HTML object>"
      ]
     },
     "metadata": {},
     "output_type": "display_data"
    },
    {
     "data": {
      "text/html": [
       "\n",
       "        <div id=\"DnmPwfwhaUkEvLv6QH6Zfp\"></div>\n",
       "        <script>netpixi.call('DnmPwfwhaUkEvLv6QH6Zfp', 'Nn2UsWVPTj4nkwbQAESU8z', 'changeGraph', 'eyJpZCI6ICJDaGluYSwgSG9uZyBLb25nIFNBUiIsICJ0eXBlIjogInZlcnRleCIsICJwcm9wcyI6IHsiY29sb3IiOiAxNjcxMTY4MH19Cg==');</script>\n",
       "    "
      ],
      "text/plain": [
       "<IPython.core.display.HTML object>"
      ]
     },
     "metadata": {},
     "output_type": "display_data"
    },
    {
     "data": {
      "text/html": [
       "\n",
       "        <div id=\"iiZbVX5kWp6ucbFpVfuBDT\"></div>\n",
       "        <script>netpixi.call('iiZbVX5kWp6ucbFpVfuBDT', 'Nn2UsWVPTj4nkwbQAESU8z', 'changeGraph', 'eyJpZCI6ICJNb250ZW5lZ3JvIiwgInR5cGUiOiAidmVydGV4IiwgInByb3BzIjogeyJjb2xvciI6IDY1MjgwfX0K');</script>\n",
       "    "
      ],
      "text/plain": [
       "<IPython.core.display.HTML object>"
      ]
     },
     "metadata": {},
     "output_type": "display_data"
    },
    {
     "data": {
      "text/html": [
       "\n",
       "        <div id=\"DzXLvRxitpKqts87ZWwzTV\"></div>\n",
       "        <script>netpixi.call('DzXLvRxitpKqts87ZWwzTV', 'Nn2UsWVPTj4nkwbQAESU8z', 'changeGraph', 'eyJpZCI6ICJTYWludCBWaW5jZW50IGFuZCB0aGUgR3JlbmFkaW5lcyIsICJ0eXBlIjogInZlcnRleCIsICJwcm9wcyI6IHsiY29sb3IiOiA2NTI4MH19Cg==');</script>\n",
       "    "
      ],
      "text/plain": [
       "<IPython.core.display.HTML object>"
      ]
     },
     "metadata": {},
     "output_type": "display_data"
    },
    {
     "data": {
      "text/html": [
       "\n",
       "        <div id=\"LiSvKj2TLgpWzrhVDQgrpw\"></div>\n",
       "        <script>netpixi.call('LiSvKj2TLgpWzrhVDQgrpw', 'Nn2UsWVPTj4nkwbQAESU8z', 'changeGraph', 'eyJpZCI6ICJWYXJpb3VzL1Vua25vd24iLCAidHlwZSI6ICJ2ZXJ0ZXgiLCAicHJvcHMiOiB7ImNvbG9yIjogNjUyODB9fQo=');</script>\n",
       "    "
      ],
      "text/plain": [
       "<IPython.core.display.HTML object>"
      ]
     },
     "metadata": {},
     "output_type": "display_data"
    },
    {
     "data": {
      "text/html": [
       "\n",
       "        <div id=\"oToxJR8fCgBoNgAQnoMaN5\"></div>\n",
       "        <script>netpixi.call('oToxJR8fCgBoNgAQnoMaN5', 'Nn2UsWVPTj4nkwbQAESU8z', 'changeGraph', 'eyJpZCI6ICJHZXJtYW55IiwgInR5cGUiOiAidmVydGV4IiwgInByb3BzIjogeyJjb2xvciI6IDE2NzExNjgwfX0K');</script>\n",
       "    "
      ],
      "text/plain": [
       "<IPython.core.display.HTML object>"
      ]
     },
     "metadata": {},
     "output_type": "display_data"
    },
    {
     "data": {
      "text/html": [
       "\n",
       "        <div id=\"j9dQkYKoisnoPat7qz5DYP\"></div>\n",
       "        <script>netpixi.call('j9dQkYKoisnoPat7qz5DYP', 'Nn2UsWVPTj4nkwbQAESU8z', 'changeGraph', 'eyJpZCI6ICJQYXJhZ3VheSIsICJ0eXBlIjogInZlcnRleCIsICJwcm9wcyI6IHsiY29sb3IiOiA2NTI4MH19Cg==');</script>\n",
       "    "
      ],
      "text/plain": [
       "<IPython.core.display.HTML object>"
      ]
     },
     "metadata": {},
     "output_type": "display_data"
    },
    {
     "data": {
      "text/html": [
       "\n",
       "        <div id=\"YjAQGZrsxJRJ44kgzRoDnB\"></div>\n",
       "        <script>netpixi.call('YjAQGZrsxJRJ44kgzRoDnB', 'Nn2UsWVPTj4nkwbQAESU8z', 'changeGraph', 'eyJpZCI6ICJJbmRvbmVzaWEiLCAidHlwZSI6ICJ2ZXJ0ZXgiLCAicHJvcHMiOiB7ImNvbG9yIjogMTY3MTE2ODB9fQo=');</script>\n",
       "    "
      ],
      "text/plain": [
       "<IPython.core.display.HTML object>"
      ]
     },
     "metadata": {},
     "output_type": "display_data"
    },
    {
     "data": {
      "text/html": [
       "\n",
       "        <div id=\"94PiHc4BwWhoSxAJCf4cVz\"></div>\n",
       "        <script>netpixi.call('94PiHc4BwWhoSxAJCf4cVz', 'Nn2UsWVPTj4nkwbQAESU8z', 'changeGraph', 'eyJpZCI6ICJGaW5sYW5kIiwgInR5cGUiOiAidmVydGV4IiwgInByb3BzIjogeyJjb2xvciI6IDE2NzExNjgwfX0K');</script>\n",
       "    "
      ],
      "text/plain": [
       "<IPython.core.display.HTML object>"
      ]
     },
     "metadata": {},
     "output_type": "display_data"
    },
    {
     "data": {
      "text/html": [
       "\n",
       "        <div id=\"JNGcgA5m9gvT2oyGttvra7\"></div>\n",
       "        <script>netpixi.call('JNGcgA5m9gvT2oyGttvra7', 'Nn2UsWVPTj4nkwbQAESU8z', 'changeGraph', 'eyJpZCI6ICJGcmVuY2ggUG9seW5lc2lhIiwgInR5cGUiOiAidmVydGV4IiwgInByb3BzIjogeyJjb2xvciI6IDY1MjgwfX0K');</script>\n",
       "    "
      ],
      "text/plain": [
       "<IPython.core.display.HTML object>"
      ]
     },
     "metadata": {},
     "output_type": "display_data"
    },
    {
     "data": {
      "text/html": [
       "\n",
       "        <div id=\"456ry9eZ8j6oHUCuNo44CR\"></div>\n",
       "        <script>netpixi.call('456ry9eZ8j6oHUCuNo44CR', 'Nn2UsWVPTj4nkwbQAESU8z', 'changeGraph', 'eyJpZCI6ICJQYWxhdSIsICJ0eXBlIjogInZlcnRleCIsICJwcm9wcyI6IHsiY29sb3IiOiA2NTI4MH19Cg==');</script>\n",
       "    "
      ],
      "text/plain": [
       "<IPython.core.display.HTML object>"
      ]
     },
     "metadata": {},
     "output_type": "display_data"
    },
    {
     "data": {
      "text/html": [
       "\n",
       "        <div id=\"b9DqAFUe64UhL8do22dULG\"></div>\n",
       "        <script>netpixi.call('b9DqAFUe64UhL8do22dULG', 'Nn2UsWVPTj4nkwbQAESU8z', 'changeGraph', 'eyJpZCI6ICJCZXJtdWRhIiwgInR5cGUiOiAidmVydGV4IiwgInByb3BzIjogeyJjb2xvciI6IDY1MjgwfX0K');</script>\n",
       "    "
      ],
      "text/plain": [
       "<IPython.core.display.HTML object>"
      ]
     },
     "metadata": {},
     "output_type": "display_data"
    },
    {
     "data": {
      "text/html": [
       "\n",
       "        <div id=\"bPn53uphRidUeWwwAktwb7\"></div>\n",
       "        <script>netpixi.call('bPn53uphRidUeWwwAktwb7', 'Nn2UsWVPTj4nkwbQAESU8z', 'changeGraph', 'eyJpZCI6ICJBcnViYSIsICJ0eXBlIjogInZlcnRleCIsICJwcm9wcyI6IHsiY29sb3IiOiA2NTI4MH19Cg==');</script>\n",
       "    "
      ],
      "text/plain": [
       "<IPython.core.display.HTML object>"
      ]
     },
     "metadata": {},
     "output_type": "display_data"
    },
    {
     "data": {
      "text/html": [
       "\n",
       "        <div id=\"G2E5oD9cRarHcw7U4BTfCL\"></div>\n",
       "        <script>netpixi.call('G2E5oD9cRarHcw7U4BTfCL', 'Nn2UsWVPTj4nkwbQAESU8z', 'changeGraph', 'eyJpZCI6ICJVbml0ZWQgQXJhYiBFbWlyYXRlcyIsICJ0eXBlIjogInZlcnRleCIsICJwcm9wcyI6IHsiY29sb3IiOiA2NTI4MH19Cg==');</script>\n",
       "    "
      ],
      "text/plain": [
       "<IPython.core.display.HTML object>"
      ]
     },
     "metadata": {},
     "output_type": "display_data"
    },
    {
     "data": {
      "text/html": [
       "\n",
       "        <div id=\"fb6dJYzJx4Nc4V9tjsLh94\"></div>\n",
       "        <script>netpixi.call('fb6dJYzJx4Nc4V9tjsLh94', 'Nn2UsWVPTj4nkwbQAESU8z', 'changeGraph', 'eyJpZCI6ICJOYW1pYmlhIiwgInR5cGUiOiAidmVydGV4IiwgInByb3BzIjogeyJjb2xvciI6IDY1MjgwfX0K');</script>\n",
       "    "
      ],
      "text/plain": [
       "<IPython.core.display.HTML object>"
      ]
     },
     "metadata": {},
     "output_type": "display_data"
    },
    {
     "data": {
      "text/html": [
       "\n",
       "        <div id=\"TLHHmEtE5s5T4ie7rvTXff\"></div>\n",
       "        <script>netpixi.call('TLHHmEtE5s5T4ie7rvTXff', 'Nn2UsWVPTj4nkwbQAESU8z', 'changeGraph', 'eyJpZCI6ICJVa3JhaW5lIiwgInR5cGUiOiAidmVydGV4IiwgInByb3BzIjogeyJjb2xvciI6IDE2NzExNjgwfX0K');</script>\n",
       "    "
      ],
      "text/plain": [
       "<IPython.core.display.HTML object>"
      ]
     },
     "metadata": {},
     "output_type": "display_data"
    },
    {
     "data": {
      "text/html": [
       "\n",
       "        <div id=\"6rMqJnyRUkeXUUsJKs8HmL\"></div>\n",
       "        <script>netpixi.call('6rMqJnyRUkeXUUsJKs8HmL', 'Nn2UsWVPTj4nkwbQAESU8z', 'changeGraph', 'eyJpZCI6ICJJcmFuIChJc2xhbWljIFJlcC4gb2YpIiwgInR5cGUiOiAidmVydGV4IiwgInByb3BzIjogeyJjb2xvciI6IDY1MjgwfX0K');</script>\n",
       "    "
      ],
      "text/plain": [
       "<IPython.core.display.HTML object>"
      ]
     },
     "metadata": {},
     "output_type": "display_data"
    },
    {
     "data": {
      "text/html": [
       "\n",
       "        <div id=\"8EoSXJeM5tGzejx6fojY3X\"></div>\n",
       "        <script>netpixi.call('8EoSXJeM5tGzejx6fojY3X', 'Nn2UsWVPTj4nkwbQAESU8z', 'changeGraph', 'eyJpZCI6ICJTbG92ZW5pYSIsICJ0eXBlIjogInZlcnRleCIsICJwcm9wcyI6IHsiY29sb3IiOiAxNjcxMTY4MH19Cg==');</script>\n",
       "    "
      ],
      "text/plain": [
       "<IPython.core.display.HTML object>"
      ]
     },
     "metadata": {},
     "output_type": "display_data"
    },
    {
     "data": {
      "text/html": [
       "\n",
       "        <div id=\"2ez7sssXWqorHwoYyB8y5Z\"></div>\n",
       "        <script>netpixi.call('2ez7sssXWqorHwoYyB8y5Z', 'Nn2UsWVPTj4nkwbQAESU8z', 'changeGraph', 'eyJpZCI6ICJNYWxpIiwgInR5cGUiOiAidmVydGV4IiwgInByb3BzIjogeyJjb2xvciI6IDY1MjgwfX0K');</script>\n",
       "    "
      ],
      "text/plain": [
       "<IPython.core.display.HTML object>"
      ]
     },
     "metadata": {},
     "output_type": "display_data"
    },
    {
     "data": {
      "text/html": [
       "\n",
       "        <div id=\"VbX65BoVypTNmGyFwUeb7n\"></div>\n",
       "        <script>netpixi.call('VbX65BoVypTNmGyFwUeb7n', 'Nn2UsWVPTj4nkwbQAESU8z', 'changeGraph', 'eyJpZCI6ICJBbnRpZ3VhIGFuZCBCYXJidWRhIiwgInR5cGUiOiAidmVydGV4IiwgInByb3BzIjogeyJjb2xvciI6IDY1MjgwfX0K');</script>\n",
       "    "
      ],
      "text/plain": [
       "<IPython.core.display.HTML object>"
      ]
     },
     "metadata": {},
     "output_type": "display_data"
    },
    {
     "data": {
      "text/html": [
       "\n",
       "        <div id=\"oNvNefc6z5mk65Nf8fMq4P\"></div>\n",
       "        <script>netpixi.call('oNvNefc6z5mk65Nf8fMq4P', 'Nn2UsWVPTj4nkwbQAESU8z', 'changeGraph', 'eyJpZCI6ICJQb3J0dWdhbCIsICJ0eXBlIjogInZlcnRleCIsICJwcm9wcyI6IHsiY29sb3IiOiAxNjcxMTY4MH19Cg==');</script>\n",
       "    "
      ],
      "text/plain": [
       "<IPython.core.display.HTML object>"
      ]
     },
     "metadata": {},
     "output_type": "display_data"
    },
    {
     "data": {
      "text/html": [
       "\n",
       "        <div id=\"XaJhThuNkT8gBb6bptaPbJ\"></div>\n",
       "        <script>netpixi.call('XaJhThuNkT8gBb6bptaPbJ', 'Nn2UsWVPTj4nkwbQAESU8z', 'changeGraph', 'eyJpZCI6ICJTdXJpbmFtZSIsICJ0eXBlIjogInZlcnRleCIsICJwcm9wcyI6IHsiY29sb3IiOiA2NTI4MH19Cg==');</script>\n",
       "    "
      ],
      "text/plain": [
       "<IPython.core.display.HTML object>"
      ]
     },
     "metadata": {},
     "output_type": "display_data"
    },
    {
     "data": {
      "text/html": [
       "\n",
       "        <div id=\"RFbHgJ4owwVw9B54qL9orZ\"></div>\n",
       "        <script>netpixi.call('RFbHgJ4owwVw9B54qL9orZ', 'Nn2UsWVPTj4nkwbQAESU8z', 'changeGraph', 'eyJpZCI6ICJTb3V0aCBBZnJpY2EiLCAidHlwZSI6ICJ2ZXJ0ZXgiLCAicHJvcHMiOiB7ImNvbG9yIjogMTY3MTE2ODB9fQo=');</script>\n",
       "    "
      ],
      "text/plain": [
       "<IPython.core.display.HTML object>"
      ]
     },
     "metadata": {},
     "output_type": "display_data"
    },
    {
     "data": {
      "text/html": [
       "\n",
       "        <div id=\"VTAXWLN2XirHsu7NWsQmDn\"></div>\n",
       "        <script>netpixi.call('VTAXWLN2XirHsu7NWsQmDn', 'Nn2UsWVPTj4nkwbQAESU8z', 'changeGraph', 'eyJpZCI6ICJSb21hbmlhIiwgInR5cGUiOiAidmVydGV4IiwgInByb3BzIjogeyJjb2xvciI6IDE2NzExNjgwfX0K');</script>\n",
       "    "
      ],
      "text/plain": [
       "<IPython.core.display.HTML object>"
      ]
     },
     "metadata": {},
     "output_type": "display_data"
    },
    {
     "data": {
      "text/html": [
       "\n",
       "        <div id=\"b3qaL5Q4Zjcu9Bt3mD2XET\"></div>\n",
       "        <script>netpixi.call('b3qaL5Q4Zjcu9Bt3mD2XET', 'Nn2UsWVPTj4nkwbQAESU8z', 'changeGraph', 'eyJpZCI6ICJBdXN0cmlhIiwgInR5cGUiOiAidmVydGV4IiwgInByb3BzIjogeyJjb2xvciI6IDE2NzExNjgwfX0K');</script>\n",
       "    "
      ],
      "text/plain": [
       "<IPython.core.display.HTML object>"
      ]
     },
     "metadata": {},
     "output_type": "display_data"
    },
    {
     "data": {
      "text/html": [
       "\n",
       "        <div id=\"bwcjSmfymm6yJxPimZxcCd\"></div>\n",
       "        <script>netpixi.call('bwcjSmfymm6yJxPimZxcCd', 'Nn2UsWVPTj4nkwbQAESU8z', 'changeGraph', 'eyJpZCI6ICJEamlib3V0aSIsICJ0eXBlIjogInZlcnRleCIsICJwcm9wcyI6IHsiY29sb3IiOiA2NTI4MH19Cg==');</script>\n",
       "    "
      ],
      "text/plain": [
       "<IPython.core.display.HTML object>"
      ]
     },
     "metadata": {},
     "output_type": "display_data"
    },
    {
     "data": {
      "text/html": [
       "\n",
       "        <div id=\"FMrZa7ud868wDqceJWoyzD\"></div>\n",
       "        <script>netpixi.call('FMrZa7ud868wDqceJWoyzD', 'Nn2UsWVPTj4nkwbQAESU8z', 'changeGraph', 'eyJpZCI6ICJTZXljaGVsbGVzIiwgInR5cGUiOiAidmVydGV4IiwgInByb3BzIjogeyJjb2xvciI6IDY1MjgwfX0K');</script>\n",
       "    "
      ],
      "text/plain": [
       "<IPython.core.display.HTML object>"
      ]
     },
     "metadata": {},
     "output_type": "display_data"
    },
    {
     "data": {
      "text/html": [
       "\n",
       "        <div id=\"Q4rfnJb7tJ4fMUME5QmRCz\"></div>\n",
       "        <script>netpixi.call('Q4rfnJb7tJ4fMUME5QmRCz', 'Nn2UsWVPTj4nkwbQAESU8z', 'changeGraph', 'eyJpZCI6ICJJcmFxIiwgInR5cGUiOiAidmVydGV4IiwgInByb3BzIjogeyJjb2xvciI6IDY1MjgwfX0K');</script>\n",
       "    "
      ],
      "text/plain": [
       "<IPython.core.display.HTML object>"
      ]
     },
     "metadata": {},
     "output_type": "display_data"
    },
    {
     "data": {
      "text/html": [
       "\n",
       "        <div id=\"NSLwicA8wyAb9yqgdN6dBa\"></div>\n",
       "        <script>netpixi.call('NSLwicA8wyAb9yqgdN6dBa', 'Nn2UsWVPTj4nkwbQAESU8z', 'changeGraph', 'eyJpZCI6ICJJcmVsYW5kIiwgInR5cGUiOiAidmVydGV4IiwgInByb3BzIjogeyJjb2xvciI6IDE2NzExNjgwfX0K');</script>\n",
       "    "
      ],
      "text/plain": [
       "<IPython.core.display.HTML object>"
      ]
     },
     "metadata": {},
     "output_type": "display_data"
    }
   ],
   "source": [
    "matrix = spectral.adjacency(g)\n",
    "\n",
    "algorithm = cpnet.Lip()\n",
    "algorithm.detect(matrix)\n",
    "c = algorithm.get_coreness()\n",
    "\n",
    "g.add_vp('coreness')\n",
    "for i, coreness in c.items():\n",
    "    v = g.get_vertex_by_index(i)\n",
    "    v['coreness'] = int(coreness)\n",
    "    \n",
    "for v in g.all_vertices():\n",
    "    if v['coreness'] == 1:\n",
    "        r.vertex(v['id'], color=0xff0000)\n",
    "    else:\n",
    "        r.vertex(v['id'], color=0x00ff00)\n",
    "\n",
    "# # Quando a execução desta célula terminar,\n",
    "# # veja como ficou a visualização acima."
   ]
  },
  {
   "cell_type": "code",
   "execution_count": 45,
   "id": "fab91245",
   "metadata": {},
   "outputs": [
    {
     "data": {
      "text/html": [
       "\n",
       "        <div id=\"6Dy2Swsv3cAga3grWCjobT\"></div>\n",
       "        <script>netpixi.call('6Dy2Swsv3cAga3grWCjobT', 'Nn2UsWVPTj4nkwbQAESU8z', 'normalizeGraph', 'eyJ0eXBlIjogImVkZ2UiLCAicHJvcHMiOiB7InNyYyI6ICJhY2VpdG9zIiwgIm1pbiI6IDEsICJtYXgiOiAxMH19Cg==');</script>\n",
       "    "
      ],
      "text/plain": [
       "<IPython.core.display.HTML object>"
      ]
     },
     "metadata": {},
     "output_type": "display_data"
    },
    {
     "data": {
      "text/html": [
       "\n",
       "        <div id=\"i8C4sB2svhC9yu8SQ6gk4B\"></div>\n",
       "        <script>netpixi.call('i8C4sB2svhC9yu8SQ6gk4B', 'Nn2UsWVPTj4nkwbQAESU8z', 'setGraph', 'eyJ0eXBlIjogInZlcnRleCIsICJwcm9wcyI6IHsic3JjIjogIm5vbWUiLCAiZHN0IjogIl9rZXkifX0K');</script>\n",
       "    "
      ],
      "text/plain": [
       "<IPython.core.display.HTML object>"
      ]
     },
     "metadata": {},
     "output_type": "display_data"
    },
    {
     "data": {
      "text/html": [
       "\n",
       "        <div id=\"fgoQYCqRdWVF3utQvFnNiQ\"></div>\n",
       "        <script>netpixi.call('fgoQYCqRdWVF3utQvFnNiQ', 'Nn2UsWVPTj4nkwbQAESU8z', 'normalizeGraph', 'eyJ0eXBlIjogInZlcnRleCIsICJwcm9wcyI6IHsic3JjIjogImNvcmVuZXNzIiwgIm1pbiI6IDUsICJtYXgiOiAyNX19Cg==');</script>\n",
       "    "
      ],
      "text/plain": [
       "<IPython.core.display.HTML object>"
      ]
     },
     "metadata": {},
     "output_type": "display_data"
    }
   ],
   "source": [
    "r.edge_scale('aceitos', 1, 10)\n",
    "\n",
    "r.vertex_set_key('nome')\n",
    "\n",
    "r.vertex_scale('coreness', 5, 25)"
   ]
  },
  {
   "cell_type": "code",
   "execution_count": 76,
   "id": "507f515d",
   "metadata": {},
   "outputs": [
    {
     "data": {
      "text/html": [
       "<div>\n",
       "<style scoped>\n",
       "    .dataframe tbody tr th:only-of-type {\n",
       "        vertical-align: middle;\n",
       "    }\n",
       "\n",
       "    .dataframe tbody tr th {\n",
       "        vertical-align: top;\n",
       "    }\n",
       "\n",
       "    .dataframe thead th {\n",
       "        text-align: right;\n",
       "    }\n",
       "</style>\n",
       "<table border=\"1\" class=\"dataframe\">\n",
       "  <thead>\n",
       "    <tr style=\"text-align: right;\">\n",
       "      <th></th>\n",
       "      <th>nome</th>\n",
       "      <th>betweenness</th>\n",
       "      <th>coreness</th>\n",
       "    </tr>\n",
       "    <tr>\n",
       "      <th>id</th>\n",
       "      <th></th>\n",
       "      <th></th>\n",
       "      <th></th>\n",
       "    </tr>\n",
       "  </thead>\n",
       "  <tbody>\n",
       "    <tr>\n",
       "      <th>Ireland</th>\n",
       "      <td>Ireland</td>\n",
       "      <td>0.001022</td>\n",
       "      <td>1</td>\n",
       "    </tr>\n",
       "    <tr>\n",
       "      <th>Indonesia</th>\n",
       "      <td>Indonesia</td>\n",
       "      <td>0.006653</td>\n",
       "      <td>1</td>\n",
       "    </tr>\n",
       "    <tr>\n",
       "      <th>Germany</th>\n",
       "      <td>Germany</td>\n",
       "      <td>0.010186</td>\n",
       "      <td>1</td>\n",
       "    </tr>\n",
       "    <tr>\n",
       "      <th>New Zealand</th>\n",
       "      <td>New Zealand</td>\n",
       "      <td>0.003000</td>\n",
       "      <td>1</td>\n",
       "    </tr>\n",
       "    <tr>\n",
       "      <th>China, Hong Kong SAR</th>\n",
       "      <td>China, Hong Kong SAR</td>\n",
       "      <td>0.000132</td>\n",
       "      <td>1</td>\n",
       "    </tr>\n",
       "    <tr>\n",
       "      <th>...</th>\n",
       "      <td>...</td>\n",
       "      <td>...</td>\n",
       "      <td>...</td>\n",
       "    </tr>\n",
       "    <tr>\n",
       "      <th>Cuba</th>\n",
       "      <td>Cuba</td>\n",
       "      <td>0.013300</td>\n",
       "      <td>0</td>\n",
       "    </tr>\n",
       "    <tr>\n",
       "      <th>Lao People's Dem. Rep.</th>\n",
       "      <td>Lao People's Dem. Rep.</td>\n",
       "      <td>0.000000</td>\n",
       "      <td>0</td>\n",
       "    </tr>\n",
       "    <tr>\n",
       "      <th>Central African Rep.</th>\n",
       "      <td>Central African Rep.</td>\n",
       "      <td>0.000764</td>\n",
       "      <td>0</td>\n",
       "    </tr>\n",
       "    <tr>\n",
       "      <th>Gibraltar</th>\n",
       "      <td>Gibraltar</td>\n",
       "      <td>0.000000</td>\n",
       "      <td>0</td>\n",
       "    </tr>\n",
       "    <tr>\n",
       "      <th>Tunisia</th>\n",
       "      <td>Tunisia</td>\n",
       "      <td>0.001813</td>\n",
       "      <td>0</td>\n",
       "    </tr>\n",
       "  </tbody>\n",
       "</table>\n",
       "<p>225 rows × 3 columns</p>\n",
       "</div>"
      ],
      "text/plain": [
       "                                          nome  betweenness  coreness\n",
       "id                                                                   \n",
       "Ireland                                Ireland     0.001022         1\n",
       "Indonesia                            Indonesia     0.006653         1\n",
       "Germany                                Germany     0.010186         1\n",
       "New Zealand                        New Zealand     0.003000         1\n",
       "China, Hong Kong SAR      China, Hong Kong SAR     0.000132         1\n",
       "...                                        ...          ...       ...\n",
       "Cuba                                      Cuba     0.013300         0\n",
       "Lao People's Dem. Rep.  Lao People's Dem. Rep.     0.000000         0\n",
       "Central African Rep.      Central African Rep.     0.000764         0\n",
       "Gibraltar                            Gibraltar     0.000000         0\n",
       "Tunisia                                Tunisia     0.001813         0\n",
       "\n",
       "[225 rows x 3 columns]"
      ]
     },
     "execution_count": 76,
     "metadata": {},
     "output_type": "execute_result"
    }
   ],
   "source": [
    "df_coreness_2001_2003 = gt_data(g).sort_values(\"coreness\", ascending = False)\n",
    "df_coreness_2001_2003"
   ]
  },
  {
   "cell_type": "code",
   "execution_count": 77,
   "id": "41d6a040",
   "metadata": {},
   "outputs": [
    {
     "data": {
      "text/html": [
       "<div>\n",
       "<style scoped>\n",
       "    .dataframe tbody tr th:only-of-type {\n",
       "        vertical-align: middle;\n",
       "    }\n",
       "\n",
       "    .dataframe tbody tr th {\n",
       "        vertical-align: top;\n",
       "    }\n",
       "\n",
       "    .dataframe thead th {\n",
       "        text-align: right;\n",
       "    }\n",
       "</style>\n",
       "<table border=\"1\" class=\"dataframe\">\n",
       "  <thead>\n",
       "    <tr style=\"text-align: right;\">\n",
       "      <th></th>\n",
       "      <th>origin</th>\n",
       "      <th>betweenness</th>\n",
       "      <th>coreness</th>\n",
       "      <th>out_degree</th>\n",
       "    </tr>\n",
       "  </thead>\n",
       "  <tbody>\n",
       "    <tr>\n",
       "      <th>0</th>\n",
       "      <td>Ireland</td>\n",
       "      <td>0.001022</td>\n",
       "      <td>1</td>\n",
       "      <td>0.0</td>\n",
       "    </tr>\n",
       "    <tr>\n",
       "      <th>1</th>\n",
       "      <td>Indonesia</td>\n",
       "      <td>0.006653</td>\n",
       "      <td>1</td>\n",
       "      <td>2070.0</td>\n",
       "    </tr>\n",
       "    <tr>\n",
       "      <th>2</th>\n",
       "      <td>Germany</td>\n",
       "      <td>0.010186</td>\n",
       "      <td>1</td>\n",
       "      <td>22.0</td>\n",
       "    </tr>\n",
       "    <tr>\n",
       "      <th>3</th>\n",
       "      <td>New Zealand</td>\n",
       "      <td>0.003000</td>\n",
       "      <td>1</td>\n",
       "      <td>0.0</td>\n",
       "    </tr>\n",
       "    <tr>\n",
       "      <th>4</th>\n",
       "      <td>China, Hong Kong SAR</td>\n",
       "      <td>0.000132</td>\n",
       "      <td>1</td>\n",
       "      <td>6.0</td>\n",
       "    </tr>\n",
       "    <tr>\n",
       "      <th>...</th>\n",
       "      <td>...</td>\n",
       "      <td>...</td>\n",
       "      <td>...</td>\n",
       "      <td>...</td>\n",
       "    </tr>\n",
       "    <tr>\n",
       "      <th>220</th>\n",
       "      <td>Cuba</td>\n",
       "      <td>0.013300</td>\n",
       "      <td>0</td>\n",
       "      <td>1029.0</td>\n",
       "    </tr>\n",
       "    <tr>\n",
       "      <th>221</th>\n",
       "      <td>Lao People's Dem. Rep.</td>\n",
       "      <td>0.000000</td>\n",
       "      <td>0</td>\n",
       "      <td>145.0</td>\n",
       "    </tr>\n",
       "    <tr>\n",
       "      <th>222</th>\n",
       "      <td>Central African Rep.</td>\n",
       "      <td>0.000764</td>\n",
       "      <td>0</td>\n",
       "      <td>2561.0</td>\n",
       "    </tr>\n",
       "    <tr>\n",
       "      <th>223</th>\n",
       "      <td>Gibraltar</td>\n",
       "      <td>0.000000</td>\n",
       "      <td>0</td>\n",
       "      <td>0.0</td>\n",
       "    </tr>\n",
       "    <tr>\n",
       "      <th>224</th>\n",
       "      <td>Tunisia</td>\n",
       "      <td>0.001813</td>\n",
       "      <td>0</td>\n",
       "      <td>512.0</td>\n",
       "    </tr>\n",
       "  </tbody>\n",
       "</table>\n",
       "<p>225 rows × 4 columns</p>\n",
       "</div>"
      ],
      "text/plain": [
       "                     origin  betweenness  coreness  out_degree\n",
       "0                   Ireland     0.001022         1         0.0\n",
       "1                 Indonesia     0.006653         1      2070.0\n",
       "2                   Germany     0.010186         1        22.0\n",
       "3               New Zealand     0.003000         1         0.0\n",
       "4      China, Hong Kong SAR     0.000132         1         6.0\n",
       "..                      ...          ...       ...         ...\n",
       "220                    Cuba     0.013300         0      1029.0\n",
       "221  Lao People's Dem. Rep.     0.000000         0       145.0\n",
       "222    Central African Rep.     0.000764         0      2561.0\n",
       "223               Gibraltar     0.000000         0         0.0\n",
       "224                 Tunisia     0.001813         0       512.0\n",
       "\n",
       "[225 rows x 4 columns]"
      ]
     },
     "execution_count": 77,
     "metadata": {},
     "output_type": "execute_result"
    }
   ],
   "source": [
    "df_coreness_2001_2003 = df_coreness_2001_2003.rename(columns={'nome': 'origin'})\n",
    "\n",
    "df_coreness_outdegree = df_coreness_2001_2003.merge(df_out_degree_2001_2003, on = \"origin\" )\n",
    "\n",
    "df_coreness_outdegree"
   ]
  },
  {
   "cell_type": "code",
   "execution_count": 78,
   "id": "01e3b76c",
   "metadata": {},
   "outputs": [
    {
     "data": {
      "text/html": [
       "<div>\n",
       "<style scoped>\n",
       "    .dataframe tbody tr th:only-of-type {\n",
       "        vertical-align: middle;\n",
       "    }\n",
       "\n",
       "    .dataframe tbody tr th {\n",
       "        vertical-align: top;\n",
       "    }\n",
       "\n",
       "    .dataframe thead th {\n",
       "        text-align: right;\n",
       "    }\n",
       "</style>\n",
       "<table border=\"1\" class=\"dataframe\">\n",
       "  <thead>\n",
       "    <tr style=\"text-align: right;\">\n",
       "      <th></th>\n",
       "      <th>pop_cont</th>\n",
       "      <th>origin</th>\n",
       "      <th>idh_2001_2003</th>\n",
       "    </tr>\n",
       "  </thead>\n",
       "  <tbody>\n",
       "    <tr>\n",
       "      <th>0</th>\n",
       "      <td>0</td>\n",
       "      <td>China, Hong Kong SAR</td>\n",
       "      <td>0.845667</td>\n",
       "    </tr>\n",
       "    <tr>\n",
       "      <th>1</th>\n",
       "      <td>0</td>\n",
       "      <td>China, Macao SAR</td>\n",
       "      <td>0.922000</td>\n",
       "    </tr>\n",
       "    <tr>\n",
       "      <th>2</th>\n",
       "      <td>0</td>\n",
       "      <td>Afghanistan</td>\n",
       "      <td>0.376667</td>\n",
       "    </tr>\n",
       "    <tr>\n",
       "      <th>3</th>\n",
       "      <td>0</td>\n",
       "      <td>Albania</td>\n",
       "      <td>0.684333</td>\n",
       "    </tr>\n",
       "    <tr>\n",
       "      <th>4</th>\n",
       "      <td>0</td>\n",
       "      <td>Algeria</td>\n",
       "      <td>0.657000</td>\n",
       "    </tr>\n",
       "    <tr>\n",
       "      <th>...</th>\n",
       "      <td>...</td>\n",
       "      <td>...</td>\n",
       "      <td>...</td>\n",
       "    </tr>\n",
       "    <tr>\n",
       "      <th>220</th>\n",
       "      <td>0</td>\n",
       "      <td>Wallis and Futuna Islands</td>\n",
       "      <td>0.763000</td>\n",
       "    </tr>\n",
       "    <tr>\n",
       "      <th>221</th>\n",
       "      <td>0</td>\n",
       "      <td>Western Sahara</td>\n",
       "      <td>0.000000</td>\n",
       "    </tr>\n",
       "    <tr>\n",
       "      <th>222</th>\n",
       "      <td>0</td>\n",
       "      <td>Yemen</td>\n",
       "      <td>0.461333</td>\n",
       "    </tr>\n",
       "    <tr>\n",
       "      <th>223</th>\n",
       "      <td>0</td>\n",
       "      <td>Zambia</td>\n",
       "      <td>0.441333</td>\n",
       "    </tr>\n",
       "    <tr>\n",
       "      <th>224</th>\n",
       "      <td>0</td>\n",
       "      <td>Zimbabwe</td>\n",
       "      <td>0.422667</td>\n",
       "    </tr>\n",
       "  </tbody>\n",
       "</table>\n",
       "<p>225 rows × 3 columns</p>\n",
       "</div>"
      ],
      "text/plain": [
       "     pop_cont                      origin  idh_2001_2003\n",
       "0           0        China, Hong Kong SAR       0.845667\n",
       "1           0            China, Macao SAR       0.922000\n",
       "2           0                 Afghanistan       0.376667\n",
       "3           0                     Albania       0.684333\n",
       "4           0                     Algeria       0.657000\n",
       "..        ...                         ...            ...\n",
       "220         0  Wallis and Futuna Islands        0.763000\n",
       "221         0              Western Sahara       0.000000\n",
       "222         0                       Yemen       0.461333\n",
       "223         0                      Zambia       0.441333\n",
       "224         0                    Zimbabwe       0.422667\n",
       "\n",
       "[225 rows x 3 columns]"
      ]
     },
     "execution_count": 78,
     "metadata": {},
     "output_type": "execute_result"
    }
   ],
   "source": [
    "conp_idh_2001_2003 =  data.loc[:, ['pop_cont', 'country', 'idh_2001_2003']]\n",
    "#conp_idh_2001_2003['idh_2001_2003'] = (data_conp_dsv_2001_2003['idh_2003'] + data_conp_dsv_2001_2003['idh_2002'] + data_conp_dsv_2001_2003['idh_2001']) /3\n",
    "#conp_idh_2001_2003['idh_2001_2003'] = conp_idh_2001_2003['idh_2001_2003'].fillna(0)\n",
    "conp_idh_2001_2003 = conp_idh_2001_2003.rename(columns={'country': 'origin'})\n",
    "\n",
    "conp_idh_2001_2003\n"
   ]
  },
  {
   "cell_type": "code",
   "execution_count": 79,
   "id": "2afaa449",
   "metadata": {},
   "outputs": [
    {
     "data": {
      "text/html": [
       "<div>\n",
       "<style scoped>\n",
       "    .dataframe tbody tr th:only-of-type {\n",
       "        vertical-align: middle;\n",
       "    }\n",
       "\n",
       "    .dataframe tbody tr th {\n",
       "        vertical-align: top;\n",
       "    }\n",
       "\n",
       "    .dataframe thead th {\n",
       "        text-align: right;\n",
       "    }\n",
       "</style>\n",
       "<table border=\"1\" class=\"dataframe\">\n",
       "  <thead>\n",
       "    <tr style=\"text-align: right;\">\n",
       "      <th></th>\n",
       "      <th>pop_cont</th>\n",
       "      <th>origin</th>\n",
       "      <th>idh_2001_2003</th>\n",
       "      <th>betweenness</th>\n",
       "      <th>coreness</th>\n",
       "      <th>out_degree</th>\n",
       "    </tr>\n",
       "  </thead>\n",
       "  <tbody>\n",
       "    <tr>\n",
       "      <th>0</th>\n",
       "      <td>0</td>\n",
       "      <td>China, Hong Kong SAR</td>\n",
       "      <td>0.845667</td>\n",
       "      <td>0.000132</td>\n",
       "      <td>1</td>\n",
       "      <td>6.0</td>\n",
       "    </tr>\n",
       "    <tr>\n",
       "      <th>1</th>\n",
       "      <td>0</td>\n",
       "      <td>China, Macao SAR</td>\n",
       "      <td>0.922000</td>\n",
       "      <td>0.000000</td>\n",
       "      <td>0</td>\n",
       "      <td>2.0</td>\n",
       "    </tr>\n",
       "    <tr>\n",
       "      <th>2</th>\n",
       "      <td>0</td>\n",
       "      <td>Afghanistan</td>\n",
       "      <td>0.376667</td>\n",
       "      <td>0.003862</td>\n",
       "      <td>0</td>\n",
       "      <td>25822.0</td>\n",
       "    </tr>\n",
       "    <tr>\n",
       "      <th>3</th>\n",
       "      <td>0</td>\n",
       "      <td>Albania</td>\n",
       "      <td>0.684333</td>\n",
       "      <td>0.004174</td>\n",
       "      <td>0</td>\n",
       "      <td>4394.0</td>\n",
       "    </tr>\n",
       "    <tr>\n",
       "      <th>4</th>\n",
       "      <td>0</td>\n",
       "      <td>Algeria</td>\n",
       "      <td>0.657000</td>\n",
       "      <td>0.015018</td>\n",
       "      <td>0</td>\n",
       "      <td>2242.0</td>\n",
       "    </tr>\n",
       "    <tr>\n",
       "      <th>...</th>\n",
       "      <td>...</td>\n",
       "      <td>...</td>\n",
       "      <td>...</td>\n",
       "      <td>...</td>\n",
       "      <td>...</td>\n",
       "      <td>...</td>\n",
       "    </tr>\n",
       "    <tr>\n",
       "      <th>220</th>\n",
       "      <td>0</td>\n",
       "      <td>Wallis and Futuna Islands</td>\n",
       "      <td>0.763000</td>\n",
       "      <td>0.000000</td>\n",
       "      <td>0</td>\n",
       "      <td>0.0</td>\n",
       "    </tr>\n",
       "    <tr>\n",
       "      <th>221</th>\n",
       "      <td>0</td>\n",
       "      <td>Western Sahara</td>\n",
       "      <td>0.000000</td>\n",
       "      <td>0.000000</td>\n",
       "      <td>0</td>\n",
       "      <td>1.0</td>\n",
       "    </tr>\n",
       "    <tr>\n",
       "      <th>222</th>\n",
       "      <td>0</td>\n",
       "      <td>Yemen</td>\n",
       "      <td>0.461333</td>\n",
       "      <td>0.005162</td>\n",
       "      <td>0</td>\n",
       "      <td>312.0</td>\n",
       "    </tr>\n",
       "    <tr>\n",
       "      <th>223</th>\n",
       "      <td>0</td>\n",
       "      <td>Zambia</td>\n",
       "      <td>0.441333</td>\n",
       "      <td>0.000073</td>\n",
       "      <td>0</td>\n",
       "      <td>65.0</td>\n",
       "    </tr>\n",
       "    <tr>\n",
       "      <th>224</th>\n",
       "      <td>0</td>\n",
       "      <td>Zimbabwe</td>\n",
       "      <td>0.422667</td>\n",
       "      <td>0.002322</td>\n",
       "      <td>0</td>\n",
       "      <td>8529.0</td>\n",
       "    </tr>\n",
       "  </tbody>\n",
       "</table>\n",
       "<p>225 rows × 6 columns</p>\n",
       "</div>"
      ],
      "text/plain": [
       "     pop_cont                      origin  idh_2001_2003  betweenness  \\\n",
       "0           0        China, Hong Kong SAR       0.845667     0.000132   \n",
       "1           0            China, Macao SAR       0.922000     0.000000   \n",
       "2           0                 Afghanistan       0.376667     0.003862   \n",
       "3           0                     Albania       0.684333     0.004174   \n",
       "4           0                     Algeria       0.657000     0.015018   \n",
       "..        ...                         ...            ...          ...   \n",
       "220         0  Wallis and Futuna Islands        0.763000     0.000000   \n",
       "221         0              Western Sahara       0.000000     0.000000   \n",
       "222         0                       Yemen       0.461333     0.005162   \n",
       "223         0                      Zambia       0.441333     0.000073   \n",
       "224         0                    Zimbabwe       0.422667     0.002322   \n",
       "\n",
       "     coreness  out_degree  \n",
       "0           1         6.0  \n",
       "1           0         2.0  \n",
       "2           0     25822.0  \n",
       "3           0      4394.0  \n",
       "4           0      2242.0  \n",
       "..        ...         ...  \n",
       "220         0         0.0  \n",
       "221         0         1.0  \n",
       "222         0       312.0  \n",
       "223         0        65.0  \n",
       "224         0      8529.0  \n",
       "\n",
       "[225 rows x 6 columns]"
      ]
     },
     "execution_count": 79,
     "metadata": {},
     "output_type": "execute_result"
    }
   ],
   "source": [
    "df_completo_hip4 = conp_idh_2001_2003.merge(df_coreness_outdegree, on = \"origin\" )\n",
    "df_completo_hip4"
   ]
  },
  {
   "cell_type": "code",
   "execution_count": 80,
   "id": "5da3b407",
   "metadata": {},
   "outputs": [
    {
     "data": {
      "text/html": [
       "<div>\n",
       "<style scoped>\n",
       "    .dataframe tbody tr th:only-of-type {\n",
       "        vertical-align: middle;\n",
       "    }\n",
       "\n",
       "    .dataframe tbody tr th {\n",
       "        vertical-align: top;\n",
       "    }\n",
       "\n",
       "    .dataframe thead th {\n",
       "        text-align: right;\n",
       "    }\n",
       "</style>\n",
       "<table border=\"1\" class=\"dataframe\">\n",
       "  <thead>\n",
       "    <tr style=\"text-align: right;\">\n",
       "      <th></th>\n",
       "      <th>pop_cont</th>\n",
       "      <th>origin</th>\n",
       "      <th>idh_2001_2003</th>\n",
       "      <th>betweenness</th>\n",
       "      <th>coreness</th>\n",
       "      <th>out_degree</th>\n",
       "    </tr>\n",
       "  </thead>\n",
       "  <tbody>\n",
       "    <tr>\n",
       "      <th>14</th>\n",
       "      <td>0</td>\n",
       "      <td>Austria</td>\n",
       "      <td>0.851667</td>\n",
       "      <td>0.000543</td>\n",
       "      <td>1</td>\n",
       "      <td>0.0</td>\n",
       "    </tr>\n",
       "    <tr>\n",
       "      <th>21</th>\n",
       "      <td>0</td>\n",
       "      <td>Belgium</td>\n",
       "      <td>0.886000</td>\n",
       "      <td>0.005499</td>\n",
       "      <td>1</td>\n",
       "      <td>8.0</td>\n",
       "    </tr>\n",
       "    <tr>\n",
       "      <th>33</th>\n",
       "      <td>0</td>\n",
       "      <td>Bulgaria</td>\n",
       "      <td>0.737000</td>\n",
       "      <td>0.007595</td>\n",
       "      <td>1</td>\n",
       "      <td>683.0</td>\n",
       "    </tr>\n",
       "    <tr>\n",
       "      <th>39</th>\n",
       "      <td>0</td>\n",
       "      <td>Canada</td>\n",
       "      <td>0.876667</td>\n",
       "      <td>0.012983</td>\n",
       "      <td>1</td>\n",
       "      <td>9.0</td>\n",
       "    </tr>\n",
       "    <tr>\n",
       "      <th>54</th>\n",
       "      <td>0</td>\n",
       "      <td>Cyprus</td>\n",
       "      <td>0.819000</td>\n",
       "      <td>0.000009</td>\n",
       "      <td>1</td>\n",
       "      <td>1.0</td>\n",
       "    </tr>\n",
       "    <tr>\n",
       "      <th>55</th>\n",
       "      <td>1</td>\n",
       "      <td>Czech Rep.</td>\n",
       "      <td>0.821667</td>\n",
       "      <td>0.000141</td>\n",
       "      <td>0</td>\n",
       "      <td>230.0</td>\n",
       "    </tr>\n",
       "    <tr>\n",
       "      <th>58</th>\n",
       "      <td>0</td>\n",
       "      <td>Denmark</td>\n",
       "      <td>0.891333</td>\n",
       "      <td>0.000222</td>\n",
       "      <td>1</td>\n",
       "      <td>0.0</td>\n",
       "    </tr>\n",
       "    <tr>\n",
       "      <th>67</th>\n",
       "      <td>0</td>\n",
       "      <td>Estonia</td>\n",
       "      <td>0.805000</td>\n",
       "      <td>0.000126</td>\n",
       "      <td>0</td>\n",
       "      <td>67.0</td>\n",
       "    </tr>\n",
       "    <tr>\n",
       "      <th>70</th>\n",
       "      <td>0</td>\n",
       "      <td>Finland</td>\n",
       "      <td>0.874000</td>\n",
       "      <td>0.000156</td>\n",
       "      <td>1</td>\n",
       "      <td>1.0</td>\n",
       "    </tr>\n",
       "    <tr>\n",
       "      <th>71</th>\n",
       "      <td>0</td>\n",
       "      <td>France</td>\n",
       "      <td>0.852667</td>\n",
       "      <td>0.004757</td>\n",
       "      <td>1</td>\n",
       "      <td>17.0</td>\n",
       "    </tr>\n",
       "    <tr>\n",
       "      <th>77</th>\n",
       "      <td>0</td>\n",
       "      <td>Germany</td>\n",
       "      <td>0.890000</td>\n",
       "      <td>0.010186</td>\n",
       "      <td>1</td>\n",
       "      <td>22.0</td>\n",
       "    </tr>\n",
       "    <tr>\n",
       "      <th>80</th>\n",
       "      <td>0</td>\n",
       "      <td>Greece</td>\n",
       "      <td>0.824333</td>\n",
       "      <td>0.001366</td>\n",
       "      <td>1</td>\n",
       "      <td>9.0</td>\n",
       "    </tr>\n",
       "    <tr>\n",
       "      <th>90</th>\n",
       "      <td>0</td>\n",
       "      <td>Hungary</td>\n",
       "      <td>0.788667</td>\n",
       "      <td>0.007172</td>\n",
       "      <td>1</td>\n",
       "      <td>663.0</td>\n",
       "    </tr>\n",
       "    <tr>\n",
       "      <th>96</th>\n",
       "      <td>0</td>\n",
       "      <td>Ireland</td>\n",
       "      <td>0.881000</td>\n",
       "      <td>0.001022</td>\n",
       "      <td>1</td>\n",
       "      <td>0.0</td>\n",
       "    </tr>\n",
       "    <tr>\n",
       "      <th>98</th>\n",
       "      <td>0</td>\n",
       "      <td>Italy</td>\n",
       "      <td>0.850000</td>\n",
       "      <td>0.005897</td>\n",
       "      <td>1</td>\n",
       "      <td>4.0</td>\n",
       "    </tr>\n",
       "    <tr>\n",
       "      <th>108</th>\n",
       "      <td>0</td>\n",
       "      <td>Latvia</td>\n",
       "      <td>0.767000</td>\n",
       "      <td>0.000348</td>\n",
       "      <td>0</td>\n",
       "      <td>99.0</td>\n",
       "    </tr>\n",
       "    <tr>\n",
       "      <th>114</th>\n",
       "      <td>0</td>\n",
       "      <td>Lithuania</td>\n",
       "      <td>0.785333</td>\n",
       "      <td>0.008325</td>\n",
       "      <td>0</td>\n",
       "      <td>99.0</td>\n",
       "    </tr>\n",
       "    <tr>\n",
       "      <th>115</th>\n",
       "      <td>0</td>\n",
       "      <td>Luxembourg</td>\n",
       "      <td>0.869000</td>\n",
       "      <td>0.000014</td>\n",
       "      <td>1</td>\n",
       "      <td>0.0</td>\n",
       "    </tr>\n",
       "    <tr>\n",
       "      <th>121</th>\n",
       "      <td>0</td>\n",
       "      <td>Malta</td>\n",
       "      <td>0.805000</td>\n",
       "      <td>0.000000</td>\n",
       "      <td>1</td>\n",
       "      <td>0.0</td>\n",
       "    </tr>\n",
       "    <tr>\n",
       "      <th>138</th>\n",
       "      <td>0</td>\n",
       "      <td>Netherlands</td>\n",
       "      <td>0.887000</td>\n",
       "      <td>0.006945</td>\n",
       "      <td>1</td>\n",
       "      <td>1.0</td>\n",
       "    </tr>\n",
       "    <tr>\n",
       "      <th>156</th>\n",
       "      <td>0</td>\n",
       "      <td>Poland</td>\n",
       "      <td>0.803000</td>\n",
       "      <td>0.006322</td>\n",
       "      <td>1</td>\n",
       "      <td>416.0</td>\n",
       "    </tr>\n",
       "    <tr>\n",
       "      <th>157</th>\n",
       "      <td>0</td>\n",
       "      <td>Portugal</td>\n",
       "      <td>0.800667</td>\n",
       "      <td>0.008837</td>\n",
       "      <td>1</td>\n",
       "      <td>1.0</td>\n",
       "    </tr>\n",
       "    <tr>\n",
       "      <th>162</th>\n",
       "      <td>0</td>\n",
       "      <td>Romania</td>\n",
       "      <td>0.730667</td>\n",
       "      <td>0.020640</td>\n",
       "      <td>1</td>\n",
       "      <td>1109.0</td>\n",
       "    </tr>\n",
       "    <tr>\n",
       "      <th>179</th>\n",
       "      <td>0</td>\n",
       "      <td>Slovakia</td>\n",
       "      <td>0.772333</td>\n",
       "      <td>0.002263</td>\n",
       "      <td>1</td>\n",
       "      <td>87.0</td>\n",
       "    </tr>\n",
       "    <tr>\n",
       "      <th>180</th>\n",
       "      <td>0</td>\n",
       "      <td>Slovenia</td>\n",
       "      <td>0.850000</td>\n",
       "      <td>0.000832</td>\n",
       "      <td>1</td>\n",
       "      <td>8.0</td>\n",
       "    </tr>\n",
       "    <tr>\n",
       "      <th>185</th>\n",
       "      <td>0</td>\n",
       "      <td>Spain</td>\n",
       "      <td>0.837333</td>\n",
       "      <td>0.027726</td>\n",
       "      <td>1</td>\n",
       "      <td>3.0</td>\n",
       "    </tr>\n",
       "    <tr>\n",
       "      <th>192</th>\n",
       "      <td>0</td>\n",
       "      <td>Sweden</td>\n",
       "      <td>0.908667</td>\n",
       "      <td>0.006608</td>\n",
       "      <td>1</td>\n",
       "      <td>4.0</td>\n",
       "    </tr>\n",
       "    <tr>\n",
       "      <th>213</th>\n",
       "      <td>0</td>\n",
       "      <td>United States of America</td>\n",
       "      <td>0.891333</td>\n",
       "      <td>0.105584</td>\n",
       "      <td>1</td>\n",
       "      <td>5.0</td>\n",
       "    </tr>\n",
       "  </tbody>\n",
       "</table>\n",
       "</div>"
      ],
      "text/plain": [
       "     pop_cont                    origin  idh_2001_2003  betweenness  coreness  \\\n",
       "14          0                   Austria       0.851667     0.000543         1   \n",
       "21          0                   Belgium       0.886000     0.005499         1   \n",
       "33          0                  Bulgaria       0.737000     0.007595         1   \n",
       "39          0                    Canada       0.876667     0.012983         1   \n",
       "54          0                    Cyprus       0.819000     0.000009         1   \n",
       "55          1                Czech Rep.       0.821667     0.000141         0   \n",
       "58          0                   Denmark       0.891333     0.000222         1   \n",
       "67          0                   Estonia       0.805000     0.000126         0   \n",
       "70          0                   Finland       0.874000     0.000156         1   \n",
       "71          0                    France       0.852667     0.004757         1   \n",
       "77          0                   Germany       0.890000     0.010186         1   \n",
       "80          0                    Greece       0.824333     0.001366         1   \n",
       "90          0                   Hungary       0.788667     0.007172         1   \n",
       "96          0                   Ireland       0.881000     0.001022         1   \n",
       "98          0                     Italy       0.850000     0.005897         1   \n",
       "108         0                    Latvia       0.767000     0.000348         0   \n",
       "114         0                 Lithuania       0.785333     0.008325         0   \n",
       "115         0                Luxembourg       0.869000     0.000014         1   \n",
       "121         0                     Malta       0.805000     0.000000         1   \n",
       "138         0               Netherlands       0.887000     0.006945         1   \n",
       "156         0                    Poland       0.803000     0.006322         1   \n",
       "157         0                  Portugal       0.800667     0.008837         1   \n",
       "162         0                   Romania       0.730667     0.020640         1   \n",
       "179         0                  Slovakia       0.772333     0.002263         1   \n",
       "180         0                  Slovenia       0.850000     0.000832         1   \n",
       "185         0                     Spain       0.837333     0.027726         1   \n",
       "192         0                    Sweden       0.908667     0.006608         1   \n",
       "213         0  United States of America       0.891333     0.105584         1   \n",
       "\n",
       "     out_degree  \n",
       "14          0.0  \n",
       "21          8.0  \n",
       "33        683.0  \n",
       "39          9.0  \n",
       "54          1.0  \n",
       "55        230.0  \n",
       "58          0.0  \n",
       "67         67.0  \n",
       "70          1.0  \n",
       "71         17.0  \n",
       "77         22.0  \n",
       "80          9.0  \n",
       "90        663.0  \n",
       "96          0.0  \n",
       "98          4.0  \n",
       "108        99.0  \n",
       "114        99.0  \n",
       "115         0.0  \n",
       "121         0.0  \n",
       "138         1.0  \n",
       "156       416.0  \n",
       "157         1.0  \n",
       "162      1109.0  \n",
       "179        87.0  \n",
       "180         8.0  \n",
       "185         3.0  \n",
       "192         4.0  \n",
       "213         5.0  "
      ]
     },
     "execution_count": 80,
     "metadata": {},
     "output_type": "execute_result"
    }
   ],
   "source": [
    "df_completo_filtrado_hip4 = df_completo_hip4[(df_completo_hip4['origin'].isin(lista_paises_eu_america))]\n",
    "df_completo_filtrado_hip4"
   ]
  },
  {
   "cell_type": "markdown",
   "id": "77b3d8e5",
   "metadata": {},
   "source": [
    "#### Regressão\n",
    "\n",
    "Com os resultados obtidos no processo acima, obtivemos a tabela logo acima dessa célula, a df_completo_filtrado_hip4, correlacionando o valor do coreness, idh, pop_cont e out_degree com o recorte proposto e, para podermos analisar se o recorte realmente faz sentido e faria com que a hipótese não corroborasse mais, precisamos realizar uma regressão linear, uma vez que a variável dependente (out_degree) embora seja um valor discreto tem uma vasta gama de valores."
   ]
  },
  {
   "cell_type": "code",
   "execution_count": 81,
   "id": "5de95df2",
   "metadata": {},
   "outputs": [
    {
     "data": {
      "text/html": [
       "<table class=\"simpletable\">\n",
       "<caption>OLS Regression Results</caption>\n",
       "<tr>\n",
       "  <th>Dep. Variable:</th>    <td>np.log1p(out_degree)</td> <th>  R-squared:         </th> <td>   0.541</td>\n",
       "</tr>\n",
       "<tr>\n",
       "  <th>Model:</th>                     <td>OLS</td>         <th>  Adj. R-squared:    </th> <td>   0.483</td>\n",
       "</tr>\n",
       "<tr>\n",
       "  <th>Method:</th>               <td>Least Squares</td>    <th>  F-statistic:       </th> <td>   9.413</td>\n",
       "</tr>\n",
       "<tr>\n",
       "  <th>Date:</th>               <td>Sat, 19 Nov 2022</td>   <th>  Prob (F-statistic):</th> <td>0.000270</td>\n",
       "</tr>\n",
       "<tr>\n",
       "  <th>Time:</th>                   <td>12:01:25</td>       <th>  Log-Likelihood:    </th> <td> -51.114</td>\n",
       "</tr>\n",
       "<tr>\n",
       "  <th>No. Observations:</th>        <td>    28</td>        <th>  AIC:               </th> <td>   110.2</td>\n",
       "</tr>\n",
       "<tr>\n",
       "  <th>Df Residuals:</th>            <td>    24</td>        <th>  BIC:               </th> <td>   115.6</td>\n",
       "</tr>\n",
       "<tr>\n",
       "  <th>Df Model:</th>                <td>     3</td>        <th>                     </th>     <td> </td>   \n",
       "</tr>\n",
       "<tr>\n",
       "  <th>Covariance Type:</th>        <td>nonrobust</td>      <th>                     </th>     <td> </td>   \n",
       "</tr>\n",
       "</table>\n",
       "<table class=\"simpletable\">\n",
       "<tr>\n",
       "        <td></td>           <th>coef</th>     <th>std err</th>      <th>t</th>      <th>P>|t|</th>  <th>[0.025</th>    <th>0.975]</th>  \n",
       "</tr>\n",
       "<tr>\n",
       "  <th>Intercept</th>     <td>   28.3531</td> <td>    5.390</td> <td>    5.260</td> <td> 0.000</td> <td>   17.229</td> <td>   39.478</td>\n",
       "</tr>\n",
       "<tr>\n",
       "  <th>pop_cont</th>      <td>    2.0563</td> <td>    1.888</td> <td>    1.089</td> <td> 0.287</td> <td>   -1.841</td> <td>    5.954</td>\n",
       "</tr>\n",
       "<tr>\n",
       "  <th>coreness</th>      <td>   -0.5261</td> <td>    1.060</td> <td>   -0.496</td> <td> 0.624</td> <td>   -2.714</td> <td>    1.662</td>\n",
       "</tr>\n",
       "<tr>\n",
       "  <th>idh_2001_2003</th> <td>  -30.3859</td> <td>    6.755</td> <td>   -4.498</td> <td> 0.000</td> <td>  -44.328</td> <td>  -16.444</td>\n",
       "</tr>\n",
       "</table>\n",
       "<table class=\"simpletable\">\n",
       "<tr>\n",
       "  <th>Omnibus:</th>       <td> 0.394</td> <th>  Durbin-Watson:     </th> <td>   2.306</td>\n",
       "</tr>\n",
       "<tr>\n",
       "  <th>Prob(Omnibus):</th> <td> 0.821</td> <th>  Jarque-Bera (JB):  </th> <td>   0.429</td>\n",
       "</tr>\n",
       "<tr>\n",
       "  <th>Skew:</th>          <td>-0.248</td> <th>  Prob(JB):          </th> <td>   0.807</td>\n",
       "</tr>\n",
       "<tr>\n",
       "  <th>Kurtosis:</th>      <td> 2.651</td> <th>  Cond. No.          </th> <td>    44.2</td>\n",
       "</tr>\n",
       "</table><br/><br/>Notes:<br/>[1] Standard Errors assume that the covariance matrix of the errors is correctly specified."
      ],
      "text/plain": [
       "<class 'statsmodels.iolib.summary.Summary'>\n",
       "\"\"\"\n",
       "                             OLS Regression Results                             \n",
       "================================================================================\n",
       "Dep. Variable:     np.log1p(out_degree)   R-squared:                       0.541\n",
       "Model:                              OLS   Adj. R-squared:                  0.483\n",
       "Method:                   Least Squares   F-statistic:                     9.413\n",
       "Date:                  Sat, 19 Nov 2022   Prob (F-statistic):           0.000270\n",
       "Time:                          12:01:25   Log-Likelihood:                -51.114\n",
       "No. Observations:                    28   AIC:                             110.2\n",
       "Df Residuals:                        24   BIC:                             115.6\n",
       "Df Model:                             3                                         \n",
       "Covariance Type:              nonrobust                                         \n",
       "=================================================================================\n",
       "                    coef    std err          t      P>|t|      [0.025      0.975]\n",
       "---------------------------------------------------------------------------------\n",
       "Intercept        28.3531      5.390      5.260      0.000      17.229      39.478\n",
       "pop_cont          2.0563      1.888      1.089      0.287      -1.841       5.954\n",
       "coreness         -0.5261      1.060     -0.496      0.624      -2.714       1.662\n",
       "idh_2001_2003   -30.3859      6.755     -4.498      0.000     -44.328     -16.444\n",
       "==============================================================================\n",
       "Omnibus:                        0.394   Durbin-Watson:                   2.306\n",
       "Prob(Omnibus):                  0.821   Jarque-Bera (JB):                0.429\n",
       "Skew:                          -0.248   Prob(JB):                        0.807\n",
       "Kurtosis:                       2.651   Cond. No.                         44.2\n",
       "==============================================================================\n",
       "\n",
       "Notes:\n",
       "[1] Standard Errors assume that the covariance matrix of the errors is correctly specified.\n",
       "\"\"\""
      ]
     },
     "execution_count": 81,
     "metadata": {},
     "output_type": "execute_result"
    }
   ],
   "source": [
    "#DSV, CONP, CORE = EXT\n",
    "result_hip4 = reg.linear(data=df_completo_filtrado_hip4, formula='np.log1p(out_degree) ~ pop_cont + coreness + idh_2001_2003')\n",
    "result_hip4.summary()"
   ]
  },
  {
   "cell_type": "code",
   "execution_count": 82,
   "id": "6db32961",
   "metadata": {},
   "outputs": [
    {
     "data": {
      "text/html": [
       "<style type=\"text/css\">\n",
       "#T_3e64b_row0_col0, #T_3e64b_row1_col0, #T_3e64b_row2_col0 {\n",
       "  font-family: monospace;\n",
       "  text-align: left;\n",
       "}\n",
       "</style>\n",
       "<table id=\"T_3e64b\">\n",
       "  <thead>\n",
       "  </thead>\n",
       "  <tbody>\n",
       "    <tr>\n",
       "      <td id=\"T_3e64b_row0_col0\" class=\"data row0 col0\" >+02.056 (1.888)</td>\n",
       "    </tr>\n",
       "    <tr>\n",
       "      <td id=\"T_3e64b_row1_col0\" class=\"data row1 col0\" >-00.526 (1.060)</td>\n",
       "    </tr>\n",
       "    <tr>\n",
       "      <td id=\"T_3e64b_row2_col0\" class=\"data row2 col0\" >-30.386 (6.755) ***</td>\n",
       "    </tr>\n",
       "  </tbody>\n",
       "</table>\n"
      ],
      "text/plain": [
       "<pandas.io.formats.style.Styler at 0x7f2e69e6bfa0>"
      ]
     },
     "execution_count": 82,
     "metadata": {},
     "output_type": "execute_result"
    }
   ],
   "source": [
    "result_hip4.nano_summary()"
   ]
  },
  {
   "cell_type": "code",
   "execution_count": 83,
   "id": "2dec063b",
   "metadata": {},
   "outputs": [
    {
     "data": {
      "image/png": "[encoded data removed]",
      "text/plain": [
       "<Figure size 1280x480 with 2 Axes>"
      ]
     },
     "metadata": {},
     "output_type": "display_data"
    }
   ],
   "source": [
    "result_hip4.plot_residuals()"
   ]
  },
  {
   "cell_type": "markdown",
   "id": "fbb0ccaa",
   "metadata": {},
   "source": [
    "## Hipótese 2: Localização e coreness\n",
    "\n",
    "### C:GEO = CORE\n",
    "\n"
   ]
  },
  {
   "cell_type": "code",
   "execution_count": 88,
   "id": "d648dbe8",
   "metadata": {},
   "outputs": [
    {
     "data": {
      "text/html": [
       "<div>\n",
       "<style scoped>\n",
       "    .dataframe tbody tr th:only-of-type {\n",
       "        vertical-align: middle;\n",
       "    }\n",
       "\n",
       "    .dataframe tbody tr th {\n",
       "        vertical-align: top;\n",
       "    }\n",
       "\n",
       "    .dataframe thead th {\n",
       "        text-align: right;\n",
       "    }\n",
       "</style>\n",
       "<table border=\"1\" class=\"dataframe\">\n",
       "  <thead>\n",
       "    <tr style=\"text-align: right;\">\n",
       "      <th></th>\n",
       "      <th>origin</th>\n",
       "      <th>n_neightbours</th>\n",
       "    </tr>\n",
       "  </thead>\n",
       "  <tbody>\n",
       "    <tr>\n",
       "      <th>0</th>\n",
       "      <td>United States of America</td>\n",
       "      <td>2</td>\n",
       "    </tr>\n",
       "    <tr>\n",
       "      <th>1</th>\n",
       "      <td>China</td>\n",
       "      <td>16</td>\n",
       "    </tr>\n",
       "    <tr>\n",
       "      <th>2</th>\n",
       "      <td>Kenya</td>\n",
       "      <td>5</td>\n",
       "    </tr>\n",
       "    <tr>\n",
       "      <th>3</th>\n",
       "      <td>Australia</td>\n",
       "      <td>0</td>\n",
       "    </tr>\n",
       "    <tr>\n",
       "      <th>4</th>\n",
       "      <td>Spain</td>\n",
       "      <td>5</td>\n",
       "    </tr>\n",
       "    <tr>\n",
       "      <th>...</th>\n",
       "      <td>...</td>\n",
       "      <td>...</td>\n",
       "    </tr>\n",
       "    <tr>\n",
       "      <th>220</th>\n",
       "      <td>Solomon Islands</td>\n",
       "      <td>0</td>\n",
       "    </tr>\n",
       "    <tr>\n",
       "      <th>221</th>\n",
       "      <td>Dominican Rep.</td>\n",
       "      <td>1</td>\n",
       "    </tr>\n",
       "    <tr>\n",
       "      <th>222</th>\n",
       "      <td>Dominica</td>\n",
       "      <td>0</td>\n",
       "    </tr>\n",
       "    <tr>\n",
       "      <th>223</th>\n",
       "      <td>Guadeloupe</td>\n",
       "      <td>0</td>\n",
       "    </tr>\n",
       "    <tr>\n",
       "      <th>224</th>\n",
       "      <td>Tuvalu</td>\n",
       "      <td>0</td>\n",
       "    </tr>\n",
       "  </tbody>\n",
       "</table>\n",
       "<p>225 rows × 2 columns</p>\n",
       "</div>"
      ],
      "text/plain": [
       "                       origin  n_neightbours\n",
       "0    United States of America              2\n",
       "1                       China             16\n",
       "2                       Kenya              5\n",
       "3                   Australia              0\n",
       "4                       Spain              5\n",
       "..                        ...            ...\n",
       "220           Solomon Islands              0\n",
       "221            Dominican Rep.              1\n",
       "222                  Dominica              0\n",
       "223                Guadeloupe              0\n",
       "224                    Tuvalu              0\n",
       "\n",
       "[225 rows x 2 columns]"
      ]
     },
     "execution_count": 88,
     "metadata": {},
     "output_type": "execute_result"
    }
   ],
   "source": [
    "df_neighbours_origin = df_betweenness_2001_2003.drop(['betweenness', 'idh_2001_2003'], axis=1)\n",
    "df_neighbours_origin"
   ]
  },
  {
   "cell_type": "code",
   "execution_count": 90,
   "id": "97b3d1e8",
   "metadata": {},
   "outputs": [
    {
     "data": {
      "text/html": [
       "<div>\n",
       "<style scoped>\n",
       "    .dataframe tbody tr th:only-of-type {\n",
       "        vertical-align: middle;\n",
       "    }\n",
       "\n",
       "    .dataframe tbody tr th {\n",
       "        vertical-align: top;\n",
       "    }\n",
       "\n",
       "    .dataframe thead th {\n",
       "        text-align: right;\n",
       "    }\n",
       "</style>\n",
       "<table border=\"1\" class=\"dataframe\">\n",
       "  <thead>\n",
       "    <tr style=\"text-align: right;\">\n",
       "      <th></th>\n",
       "      <th>origin</th>\n",
       "      <th>coreness</th>\n",
       "    </tr>\n",
       "  </thead>\n",
       "  <tbody>\n",
       "    <tr>\n",
       "      <th>0</th>\n",
       "      <td>Ireland</td>\n",
       "      <td>1</td>\n",
       "    </tr>\n",
       "    <tr>\n",
       "      <th>1</th>\n",
       "      <td>Indonesia</td>\n",
       "      <td>1</td>\n",
       "    </tr>\n",
       "    <tr>\n",
       "      <th>2</th>\n",
       "      <td>Germany</td>\n",
       "      <td>1</td>\n",
       "    </tr>\n",
       "    <tr>\n",
       "      <th>3</th>\n",
       "      <td>New Zealand</td>\n",
       "      <td>1</td>\n",
       "    </tr>\n",
       "    <tr>\n",
       "      <th>4</th>\n",
       "      <td>China, Hong Kong SAR</td>\n",
       "      <td>1</td>\n",
       "    </tr>\n",
       "    <tr>\n",
       "      <th>...</th>\n",
       "      <td>...</td>\n",
       "      <td>...</td>\n",
       "    </tr>\n",
       "    <tr>\n",
       "      <th>220</th>\n",
       "      <td>Cuba</td>\n",
       "      <td>0</td>\n",
       "    </tr>\n",
       "    <tr>\n",
       "      <th>221</th>\n",
       "      <td>Lao People's Dem. Rep.</td>\n",
       "      <td>0</td>\n",
       "    </tr>\n",
       "    <tr>\n",
       "      <th>222</th>\n",
       "      <td>Central African Rep.</td>\n",
       "      <td>0</td>\n",
       "    </tr>\n",
       "    <tr>\n",
       "      <th>223</th>\n",
       "      <td>Gibraltar</td>\n",
       "      <td>0</td>\n",
       "    </tr>\n",
       "    <tr>\n",
       "      <th>224</th>\n",
       "      <td>Tunisia</td>\n",
       "      <td>0</td>\n",
       "    </tr>\n",
       "  </tbody>\n",
       "</table>\n",
       "<p>225 rows × 2 columns</p>\n",
       "</div>"
      ],
      "text/plain": [
       "                     origin  coreness\n",
       "0                   Ireland         1\n",
       "1                 Indonesia         1\n",
       "2                   Germany         1\n",
       "3               New Zealand         1\n",
       "4      China, Hong Kong SAR         1\n",
       "..                      ...       ...\n",
       "220                    Cuba         0\n",
       "221  Lao People's Dem. Rep.         0\n",
       "222    Central African Rep.         0\n",
       "223               Gibraltar         0\n",
       "224                 Tunisia         0\n",
       "\n",
       "[225 rows x 2 columns]"
      ]
     },
     "execution_count": 90,
     "metadata": {},
     "output_type": "execute_result"
    }
   ],
   "source": [
    "df_coreness = df_coreness_outdegree.drop(['betweenness', 'out_degree'], axis=1)\n",
    "df_coreness"
   ]
  },
  {
   "cell_type": "code",
   "execution_count": 91,
   "id": "3209985a",
   "metadata": {},
   "outputs": [
    {
     "data": {
      "text/html": [
       "<div>\n",
       "<style scoped>\n",
       "    .dataframe tbody tr th:only-of-type {\n",
       "        vertical-align: middle;\n",
       "    }\n",
       "\n",
       "    .dataframe tbody tr th {\n",
       "        vertical-align: top;\n",
       "    }\n",
       "\n",
       "    .dataframe thead th {\n",
       "        text-align: right;\n",
       "    }\n",
       "</style>\n",
       "<table border=\"1\" class=\"dataframe\">\n",
       "  <thead>\n",
       "    <tr style=\"text-align: right;\">\n",
       "      <th></th>\n",
       "      <th>origin</th>\n",
       "      <th>n_neightbours</th>\n",
       "      <th>coreness</th>\n",
       "    </tr>\n",
       "  </thead>\n",
       "  <tbody>\n",
       "    <tr>\n",
       "      <th>0</th>\n",
       "      <td>United States of America</td>\n",
       "      <td>2</td>\n",
       "      <td>1</td>\n",
       "    </tr>\n",
       "    <tr>\n",
       "      <th>1</th>\n",
       "      <td>China</td>\n",
       "      <td>16</td>\n",
       "      <td>0</td>\n",
       "    </tr>\n",
       "    <tr>\n",
       "      <th>2</th>\n",
       "      <td>Kenya</td>\n",
       "      <td>5</td>\n",
       "      <td>0</td>\n",
       "    </tr>\n",
       "    <tr>\n",
       "      <th>3</th>\n",
       "      <td>Australia</td>\n",
       "      <td>0</td>\n",
       "      <td>1</td>\n",
       "    </tr>\n",
       "    <tr>\n",
       "      <th>4</th>\n",
       "      <td>Spain</td>\n",
       "      <td>5</td>\n",
       "      <td>1</td>\n",
       "    </tr>\n",
       "    <tr>\n",
       "      <th>...</th>\n",
       "      <td>...</td>\n",
       "      <td>...</td>\n",
       "      <td>...</td>\n",
       "    </tr>\n",
       "    <tr>\n",
       "      <th>220</th>\n",
       "      <td>Solomon Islands</td>\n",
       "      <td>0</td>\n",
       "      <td>0</td>\n",
       "    </tr>\n",
       "    <tr>\n",
       "      <th>221</th>\n",
       "      <td>Dominican Rep.</td>\n",
       "      <td>1</td>\n",
       "      <td>0</td>\n",
       "    </tr>\n",
       "    <tr>\n",
       "      <th>222</th>\n",
       "      <td>Dominica</td>\n",
       "      <td>0</td>\n",
       "      <td>0</td>\n",
       "    </tr>\n",
       "    <tr>\n",
       "      <th>223</th>\n",
       "      <td>Guadeloupe</td>\n",
       "      <td>0</td>\n",
       "      <td>0</td>\n",
       "    </tr>\n",
       "    <tr>\n",
       "      <th>224</th>\n",
       "      <td>Tuvalu</td>\n",
       "      <td>0</td>\n",
       "      <td>0</td>\n",
       "    </tr>\n",
       "  </tbody>\n",
       "</table>\n",
       "<p>225 rows × 3 columns</p>\n",
       "</div>"
      ],
      "text/plain": [
       "                       origin  n_neightbours  coreness\n",
       "0    United States of America              2         1\n",
       "1                       China             16         0\n",
       "2                       Kenya              5         0\n",
       "3                   Australia              0         1\n",
       "4                       Spain              5         1\n",
       "..                        ...            ...       ...\n",
       "220           Solomon Islands              0         0\n",
       "221            Dominican Rep.              1         0\n",
       "222                  Dominica              0         0\n",
       "223                Guadeloupe              0         0\n",
       "224                    Tuvalu              0         0\n",
       "\n",
       "[225 rows x 3 columns]"
      ]
     },
     "execution_count": 91,
     "metadata": {},
     "output_type": "execute_result"
    }
   ],
   "source": [
    "neighbours_coreness = df_neighbours_origin.merge(df_coreness, on=\"origin\", how=\"left\")\n",
    "neighbours_coreness"
   ]
  },
  {
   "cell_type": "code",
   "execution_count": 93,
   "id": "f58aeb9f",
   "metadata": {},
   "outputs": [
    {
     "data": {
      "text/html": [
       "<div>\n",
       "<style scoped>\n",
       "    .dataframe tbody tr th:only-of-type {\n",
       "        vertical-align: middle;\n",
       "    }\n",
       "\n",
       "    .dataframe tbody tr th {\n",
       "        vertical-align: top;\n",
       "    }\n",
       "\n",
       "    .dataframe thead th {\n",
       "        text-align: right;\n",
       "    }\n",
       "</style>\n",
       "<table border=\"1\" class=\"dataframe\">\n",
       "  <thead>\n",
       "    <tr style=\"text-align: right;\">\n",
       "      <th></th>\n",
       "      <th>origin</th>\n",
       "      <th>n_neightbours</th>\n",
       "      <th>coreness</th>\n",
       "    </tr>\n",
       "  </thead>\n",
       "  <tbody>\n",
       "    <tr>\n",
       "      <th>0</th>\n",
       "      <td>United States of America</td>\n",
       "      <td>2</td>\n",
       "      <td>1</td>\n",
       "    </tr>\n",
       "    <tr>\n",
       "      <th>4</th>\n",
       "      <td>Spain</td>\n",
       "      <td>5</td>\n",
       "      <td>1</td>\n",
       "    </tr>\n",
       "    <tr>\n",
       "      <th>8</th>\n",
       "      <td>Romania</td>\n",
       "      <td>5</td>\n",
       "      <td>1</td>\n",
       "    </tr>\n",
       "    <tr>\n",
       "      <th>17</th>\n",
       "      <td>Canada</td>\n",
       "      <td>1</td>\n",
       "      <td>1</td>\n",
       "    </tr>\n",
       "    <tr>\n",
       "      <th>20</th>\n",
       "      <td>Germany</td>\n",
       "      <td>9</td>\n",
       "      <td>1</td>\n",
       "    </tr>\n",
       "    <tr>\n",
       "      <th>25</th>\n",
       "      <td>Portugal</td>\n",
       "      <td>1</td>\n",
       "      <td>1</td>\n",
       "    </tr>\n",
       "    <tr>\n",
       "      <th>28</th>\n",
       "      <td>Lithuania</td>\n",
       "      <td>4</td>\n",
       "      <td>0</td>\n",
       "    </tr>\n",
       "    <tr>\n",
       "      <th>32</th>\n",
       "      <td>Bulgaria</td>\n",
       "      <td>5</td>\n",
       "      <td>1</td>\n",
       "    </tr>\n",
       "    <tr>\n",
       "      <th>33</th>\n",
       "      <td>Hungary</td>\n",
       "      <td>7</td>\n",
       "      <td>1</td>\n",
       "    </tr>\n",
       "    <tr>\n",
       "      <th>34</th>\n",
       "      <td>Netherlands</td>\n",
       "      <td>2</td>\n",
       "      <td>1</td>\n",
       "    </tr>\n",
       "    <tr>\n",
       "      <th>36</th>\n",
       "      <td>Sweden</td>\n",
       "      <td>2</td>\n",
       "      <td>1</td>\n",
       "    </tr>\n",
       "    <tr>\n",
       "      <th>38</th>\n",
       "      <td>Poland</td>\n",
       "      <td>7</td>\n",
       "      <td>1</td>\n",
       "    </tr>\n",
       "    <tr>\n",
       "      <th>39</th>\n",
       "      <td>Italy</td>\n",
       "      <td>6</td>\n",
       "      <td>1</td>\n",
       "    </tr>\n",
       "    <tr>\n",
       "      <th>43</th>\n",
       "      <td>Belgium</td>\n",
       "      <td>4</td>\n",
       "      <td>1</td>\n",
       "    </tr>\n",
       "    <tr>\n",
       "      <th>50</th>\n",
       "      <td>France</td>\n",
       "      <td>8</td>\n",
       "      <td>1</td>\n",
       "    </tr>\n",
       "    <tr>\n",
       "      <th>68</th>\n",
       "      <td>Slovakia</td>\n",
       "      <td>5</td>\n",
       "      <td>1</td>\n",
       "    </tr>\n",
       "    <tr>\n",
       "      <th>80</th>\n",
       "      <td>Greece</td>\n",
       "      <td>4</td>\n",
       "      <td>1</td>\n",
       "    </tr>\n",
       "    <tr>\n",
       "      <th>87</th>\n",
       "      <td>Ireland</td>\n",
       "      <td>1</td>\n",
       "      <td>1</td>\n",
       "    </tr>\n",
       "    <tr>\n",
       "      <th>94</th>\n",
       "      <td>Slovenia</td>\n",
       "      <td>4</td>\n",
       "      <td>1</td>\n",
       "    </tr>\n",
       "    <tr>\n",
       "      <th>100</th>\n",
       "      <td>Austria</td>\n",
       "      <td>8</td>\n",
       "      <td>1</td>\n",
       "    </tr>\n",
       "    <tr>\n",
       "      <th>106</th>\n",
       "      <td>Latvia</td>\n",
       "      <td>4</td>\n",
       "      <td>0</td>\n",
       "    </tr>\n",
       "    <tr>\n",
       "      <th>112</th>\n",
       "      <td>Denmark</td>\n",
       "      <td>1</td>\n",
       "      <td>1</td>\n",
       "    </tr>\n",
       "    <tr>\n",
       "      <th>118</th>\n",
       "      <td>Finland</td>\n",
       "      <td>3</td>\n",
       "      <td>1</td>\n",
       "    </tr>\n",
       "    <tr>\n",
       "      <th>120</th>\n",
       "      <td>Czech Rep.</td>\n",
       "      <td>4</td>\n",
       "      <td>0</td>\n",
       "    </tr>\n",
       "    <tr>\n",
       "      <th>123</th>\n",
       "      <td>Estonia</td>\n",
       "      <td>2</td>\n",
       "      <td>0</td>\n",
       "    </tr>\n",
       "    <tr>\n",
       "      <th>135</th>\n",
       "      <td>Luxembourg</td>\n",
       "      <td>3</td>\n",
       "      <td>1</td>\n",
       "    </tr>\n",
       "    <tr>\n",
       "      <th>140</th>\n",
       "      <td>Cyprus</td>\n",
       "      <td>0</td>\n",
       "      <td>1</td>\n",
       "    </tr>\n",
       "    <tr>\n",
       "      <th>191</th>\n",
       "      <td>Malta</td>\n",
       "      <td>0</td>\n",
       "      <td>1</td>\n",
       "    </tr>\n",
       "  </tbody>\n",
       "</table>\n",
       "</div>"
      ],
      "text/plain": [
       "                       origin  n_neightbours  coreness\n",
       "0    United States of America              2         1\n",
       "4                       Spain              5         1\n",
       "8                     Romania              5         1\n",
       "17                     Canada              1         1\n",
       "20                    Germany              9         1\n",
       "25                   Portugal              1         1\n",
       "28                  Lithuania              4         0\n",
       "32                   Bulgaria              5         1\n",
       "33                    Hungary              7         1\n",
       "34                Netherlands              2         1\n",
       "36                     Sweden              2         1\n",
       "38                     Poland              7         1\n",
       "39                      Italy              6         1\n",
       "43                    Belgium              4         1\n",
       "50                     France              8         1\n",
       "68                   Slovakia              5         1\n",
       "80                     Greece              4         1\n",
       "87                    Ireland              1         1\n",
       "94                   Slovenia              4         1\n",
       "100                   Austria              8         1\n",
       "106                    Latvia              4         0\n",
       "112                   Denmark              1         1\n",
       "118                   Finland              3         1\n",
       "120                Czech Rep.              4         0\n",
       "123                   Estonia              2         0\n",
       "135                Luxembourg              3         1\n",
       "140                    Cyprus              0         1\n",
       "191                     Malta              0         1"
      ]
     },
     "execution_count": 93,
     "metadata": {},
     "output_type": "execute_result"
    }
   ],
   "source": [
    "df_completo_filtrado_hip2 = neighbours_coreness[(neighbours_coreness['origin'].isin(lista_paises_eu_america))]\n",
    "df_completo_filtrado_hip2"
   ]
  },
  {
   "cell_type": "markdown",
   "id": "45f831e3",
   "metadata": {},
   "source": [
    "#### Regressão\n",
    "\n",
    "Com os resultados obtidos no processo acima, obtivemos a tabela logo acima dessa célula, a df_completo_filtrado_hip2, correlacionando o valor do coreness, e localização com o recorte proposto e, para podermos analisar se o recorte realmente faz sentido e faria com que a hipótese não corroborasse mais, precisamos realizar uma regressão logística, uma vez que a variável dependente (coreness) é um valor discreto."
   ]
  },
  {
   "cell_type": "code",
   "execution_count": 94,
   "id": "9077fa8c",
   "metadata": {},
   "outputs": [
    {
     "name": "stdout",
     "output_type": "stream",
     "text": [
      "Optimization terminated successfully.\n",
      "         Current function value: 0.408661\n",
      "         Iterations 6\n"
     ]
    },
    {
     "data": {
      "text/html": [
       "<table class=\"simpletable\">\n",
       "<caption>Logit Regression Results</caption>\n",
       "<tr>\n",
       "  <th>Dep. Variable:</th>       <td>coreness</td>     <th>  No. Observations:  </th>  <td>    28</td> \n",
       "</tr>\n",
       "<tr>\n",
       "  <th>Model:</th>                 <td>Logit</td>      <th>  Df Residuals:      </th>  <td>    26</td> \n",
       "</tr>\n",
       "<tr>\n",
       "  <th>Method:</th>                 <td>MLE</td>       <th>  Df Model:          </th>  <td>     1</td> \n",
       "</tr>\n",
       "<tr>\n",
       "  <th>Date:</th>            <td>Sat, 19 Nov 2022</td> <th>  Pseudo R-squ.:     </th> <td>0.003548</td>\n",
       "</tr>\n",
       "<tr>\n",
       "  <th>Time:</th>                <td>12:08:48</td>     <th>  Log-Likelihood:    </th> <td> -11.443</td>\n",
       "</tr>\n",
       "<tr>\n",
       "  <th>converged:</th>             <td>True</td>       <th>  LL-Null:           </th> <td> -11.483</td>\n",
       "</tr>\n",
       "<tr>\n",
       "  <th>Covariance Type:</th>     <td>nonrobust</td>    <th>  LLR p-value:       </th>  <td>0.7753</td> \n",
       "</tr>\n",
       "</table>\n",
       "<table class=\"simpletable\">\n",
       "<tr>\n",
       "        <td></td>           <th>coef</th>     <th>std err</th>      <th>z</th>      <th>P>|z|</th>  <th>[0.025</th>    <th>0.975]</th>  \n",
       "</tr>\n",
       "<tr>\n",
       "  <th>Intercept</th>     <td>    1.5563</td> <td>    0.968</td> <td>    1.608</td> <td> 0.108</td> <td>   -0.340</td> <td>    3.453</td>\n",
       "</tr>\n",
       "<tr>\n",
       "  <th>n_neightbours</th> <td>    0.0639</td> <td>    0.226</td> <td>    0.283</td> <td> 0.777</td> <td>   -0.379</td> <td>    0.507</td>\n",
       "</tr>\n",
       "</table>"
      ],
      "text/plain": [
       "<class 'statsmodels.iolib.summary.Summary'>\n",
       "\"\"\"\n",
       "                           Logit Regression Results                           \n",
       "==============================================================================\n",
       "Dep. Variable:               coreness   No. Observations:                   28\n",
       "Model:                          Logit   Df Residuals:                       26\n",
       "Method:                           MLE   Df Model:                            1\n",
       "Date:                Sat, 19 Nov 2022   Pseudo R-squ.:                0.003548\n",
       "Time:                        12:08:48   Log-Likelihood:                -11.443\n",
       "converged:                       True   LL-Null:                       -11.483\n",
       "Covariance Type:            nonrobust   LLR p-value:                    0.7753\n",
       "=================================================================================\n",
       "                    coef    std err          z      P>|z|      [0.025      0.975]\n",
       "---------------------------------------------------------------------------------\n",
       "Intercept         1.5563      0.968      1.608      0.108      -0.340       3.453\n",
       "n_neightbours     0.0639      0.226      0.283      0.777      -0.379       0.507\n",
       "=================================================================================\n",
       "\"\"\""
      ]
     },
     "execution_count": 94,
     "metadata": {},
     "output_type": "execute_result"
    }
   ],
   "source": [
    "#GEO = CORE\n",
    "result_hip2 = reg.logistic(data=df_completo_filtrado_hip2, formula='coreness ~ n_neightbours')\n",
    "result_hip2.summary()"
   ]
  },
  {
   "cell_type": "code",
   "execution_count": 96,
   "id": "1cdc9d63",
   "metadata": {},
   "outputs": [
    {
     "data": {
      "text/html": [
       "<style type=\"text/css\">\n",
       "#T_dc948_row0_col0 {\n",
       "  font-family: monospace;\n",
       "  text-align: left;\n",
       "}\n",
       "</style>\n",
       "<table id=\"T_dc948\">\n",
       "  <thead>\n",
       "  </thead>\n",
       "  <tbody>\n",
       "    <tr>\n",
       "      <td id=\"T_dc948_row0_col0\" class=\"data row0 col0\" >+0.064 (0.226)</td>\n",
       "    </tr>\n",
       "  </tbody>\n",
       "</table>\n"
      ],
      "text/plain": [
       "<pandas.io.formats.style.Styler at 0x7f2e69d17400>"
      ]
     },
     "execution_count": 96,
     "metadata": {},
     "output_type": "execute_result"
    }
   ],
   "source": [
    "result_hip2.nano_summary()"
   ]
  },
  {
   "cell_type": "code",
   "execution_count": 97,
   "id": "466c3ecc",
   "metadata": {},
   "outputs": [
    {
     "name": "stdout",
     "output_type": "stream",
     "text": [
      "50.0% of average residuals inside\n"
     ]
    },
    {
     "data": {
      "image/png": "[encoded data removed]",
      "text/plain": [
       "<Figure size 640x480 with 1 Axes>"
      ]
     },
     "metadata": {},
     "output_type": "display_data"
    }
   ],
   "source": [
    "result_hip2.plot_residuals()"
   ]
  },
  {
   "cell_type": "markdown",
   "id": "2e9e2e48",
   "metadata": {},
   "source": [
    "# Sem recorte\n",
    "\n",
    "## Hipótese 2:\n",
    "\n",
    "### C: GEO = CORE\n"
   ]
  },
  {
   "cell_type": "code",
   "execution_count": 98,
   "id": "fda47b68",
   "metadata": {},
   "outputs": [
    {
     "data": {
      "text/html": [
       "<div>\n",
       "<style scoped>\n",
       "    .dataframe tbody tr th:only-of-type {\n",
       "        vertical-align: middle;\n",
       "    }\n",
       "\n",
       "    .dataframe tbody tr th {\n",
       "        vertical-align: top;\n",
       "    }\n",
       "\n",
       "    .dataframe thead th {\n",
       "        text-align: right;\n",
       "    }\n",
       "</style>\n",
       "<table border=\"1\" class=\"dataframe\">\n",
       "  <thead>\n",
       "    <tr style=\"text-align: right;\">\n",
       "      <th></th>\n",
       "      <th>origin</th>\n",
       "      <th>n_neightbours</th>\n",
       "      <th>coreness</th>\n",
       "    </tr>\n",
       "  </thead>\n",
       "  <tbody>\n",
       "    <tr>\n",
       "      <th>0</th>\n",
       "      <td>United States of America</td>\n",
       "      <td>2</td>\n",
       "      <td>1</td>\n",
       "    </tr>\n",
       "    <tr>\n",
       "      <th>1</th>\n",
       "      <td>China</td>\n",
       "      <td>16</td>\n",
       "      <td>0</td>\n",
       "    </tr>\n",
       "    <tr>\n",
       "      <th>2</th>\n",
       "      <td>Kenya</td>\n",
       "      <td>5</td>\n",
       "      <td>0</td>\n",
       "    </tr>\n",
       "    <tr>\n",
       "      <th>3</th>\n",
       "      <td>Australia</td>\n",
       "      <td>0</td>\n",
       "      <td>1</td>\n",
       "    </tr>\n",
       "    <tr>\n",
       "      <th>4</th>\n",
       "      <td>Spain</td>\n",
       "      <td>5</td>\n",
       "      <td>1</td>\n",
       "    </tr>\n",
       "    <tr>\n",
       "      <th>...</th>\n",
       "      <td>...</td>\n",
       "      <td>...</td>\n",
       "      <td>...</td>\n",
       "    </tr>\n",
       "    <tr>\n",
       "      <th>220</th>\n",
       "      <td>Solomon Islands</td>\n",
       "      <td>0</td>\n",
       "      <td>0</td>\n",
       "    </tr>\n",
       "    <tr>\n",
       "      <th>221</th>\n",
       "      <td>Dominican Rep.</td>\n",
       "      <td>1</td>\n",
       "      <td>0</td>\n",
       "    </tr>\n",
       "    <tr>\n",
       "      <th>222</th>\n",
       "      <td>Dominica</td>\n",
       "      <td>0</td>\n",
       "      <td>0</td>\n",
       "    </tr>\n",
       "    <tr>\n",
       "      <th>223</th>\n",
       "      <td>Guadeloupe</td>\n",
       "      <td>0</td>\n",
       "      <td>0</td>\n",
       "    </tr>\n",
       "    <tr>\n",
       "      <th>224</th>\n",
       "      <td>Tuvalu</td>\n",
       "      <td>0</td>\n",
       "      <td>0</td>\n",
       "    </tr>\n",
       "  </tbody>\n",
       "</table>\n",
       "<p>225 rows × 3 columns</p>\n",
       "</div>"
      ],
      "text/plain": [
       "                       origin  n_neightbours  coreness\n",
       "0    United States of America              2         1\n",
       "1                       China             16         0\n",
       "2                       Kenya              5         0\n",
       "3                   Australia              0         1\n",
       "4                       Spain              5         1\n",
       "..                        ...            ...       ...\n",
       "220           Solomon Islands              0         0\n",
       "221            Dominican Rep.              1         0\n",
       "222                  Dominica              0         0\n",
       "223                Guadeloupe              0         0\n",
       "224                    Tuvalu              0         0\n",
       "\n",
       "[225 rows x 3 columns]"
      ]
     },
     "execution_count": 98,
     "metadata": {},
     "output_type": "execute_result"
    }
   ],
   "source": [
    "neighbours_coreness"
   ]
  },
  {
   "cell_type": "code",
   "execution_count": 99,
   "id": "2f098eb4",
   "metadata": {},
   "outputs": [
    {
     "name": "stdout",
     "output_type": "stream",
     "text": [
      "Optimization terminated successfully.\n",
      "         Current function value: 0.476047\n",
      "         Iterations 6\n"
     ]
    },
    {
     "data": {
      "text/html": [
       "<table class=\"simpletable\">\n",
       "<caption>Logit Regression Results</caption>\n",
       "<tr>\n",
       "  <th>Dep. Variable:</th>       <td>coreness</td>     <th>  No. Observations:  </th>  <td>   225</td> \n",
       "</tr>\n",
       "<tr>\n",
       "  <th>Model:</th>                 <td>Logit</td>      <th>  Df Residuals:      </th>  <td>   223</td> \n",
       "</tr>\n",
       "<tr>\n",
       "  <th>Method:</th>                 <td>MLE</td>       <th>  Df Model:          </th>  <td>     1</td> \n",
       "</tr>\n",
       "<tr>\n",
       "  <th>Date:</th>            <td>Sat, 19 Nov 2022</td> <th>  Pseudo R-squ.:     </th>  <td>0.03669</td>\n",
       "</tr>\n",
       "<tr>\n",
       "  <th>Time:</th>                <td>12:21:30</td>     <th>  Log-Likelihood:    </th> <td> -107.11</td>\n",
       "</tr>\n",
       "<tr>\n",
       "  <th>converged:</th>             <td>True</td>       <th>  LL-Null:           </th> <td> -111.19</td>\n",
       "</tr>\n",
       "<tr>\n",
       "  <th>Covariance Type:</th>     <td>nonrobust</td>    <th>  LLR p-value:       </th> <td>0.004284</td>\n",
       "</tr>\n",
       "</table>\n",
       "<table class=\"simpletable\">\n",
       "<tr>\n",
       "        <td></td>           <th>coef</th>     <th>std err</th>      <th>z</th>      <th>P>|z|</th>  <th>[0.025</th>    <th>0.975]</th>  \n",
       "</tr>\n",
       "<tr>\n",
       "  <th>Intercept</th>     <td>   -1.9622</td> <td>    0.273</td> <td>   -7.185</td> <td> 0.000</td> <td>   -2.497</td> <td>   -1.427</td>\n",
       "</tr>\n",
       "<tr>\n",
       "  <th>n_neightbours</th> <td>    0.1698</td> <td>    0.060</td> <td>    2.821</td> <td> 0.005</td> <td>    0.052</td> <td>    0.288</td>\n",
       "</tr>\n",
       "</table>"
      ],
      "text/plain": [
       "<class 'statsmodels.iolib.summary.Summary'>\n",
       "\"\"\"\n",
       "                           Logit Regression Results                           \n",
       "==============================================================================\n",
       "Dep. Variable:               coreness   No. Observations:                  225\n",
       "Model:                          Logit   Df Residuals:                      223\n",
       "Method:                           MLE   Df Model:                            1\n",
       "Date:                Sat, 19 Nov 2022   Pseudo R-squ.:                 0.03669\n",
       "Time:                        12:21:30   Log-Likelihood:                -107.11\n",
       "converged:                       True   LL-Null:                       -111.19\n",
       "Covariance Type:            nonrobust   LLR p-value:                  0.004284\n",
       "=================================================================================\n",
       "                    coef    std err          z      P>|z|      [0.025      0.975]\n",
       "---------------------------------------------------------------------------------\n",
       "Intercept        -1.9622      0.273     -7.185      0.000      -2.497      -1.427\n",
       "n_neightbours     0.1698      0.060      2.821      0.005       0.052       0.288\n",
       "=================================================================================\n",
       "\"\"\""
      ]
     },
     "execution_count": 99,
     "metadata": {},
     "output_type": "execute_result"
    }
   ],
   "source": [
    "#GEO = CORE\n",
    "result_hip2_sem_recorte = reg.logistic(data=neighbours_coreness, formula='coreness ~ n_neightbours')\n",
    "result_hip2_sem_recorte.summary()"
   ]
  },
  {
   "cell_type": "code",
   "execution_count": 100,
   "id": "103b7082",
   "metadata": {},
   "outputs": [
    {
     "data": {
      "text/html": [
       "<style type=\"text/css\">\n",
       "#T_872c6_row0_col0 {\n",
       "  font-family: monospace;\n",
       "  text-align: left;\n",
       "}\n",
       "</style>\n",
       "<table id=\"T_872c6\">\n",
       "  <thead>\n",
       "  </thead>\n",
       "  <tbody>\n",
       "    <tr>\n",
       "      <td id=\"T_872c6_row0_col0\" class=\"data row0 col0\" >+0.170 (0.060) ***</td>\n",
       "    </tr>\n",
       "  </tbody>\n",
       "</table>\n"
      ],
      "text/plain": [
       "<pandas.io.formats.style.Styler at 0x7f2e69c02b30>"
      ]
     },
     "execution_count": 100,
     "metadata": {},
     "output_type": "execute_result"
    }
   ],
   "source": [
    "result_hip2_sem_recorte.nano_summary()"
   ]
  },
  {
   "cell_type": "code",
   "execution_count": null,
   "id": "5bd59698",
   "metadata": {},
   "outputs": [],
   "source": []
  }
 ],
 "metadata": {
  "kernelspec": {
   "display_name": "Python 3 (ipykernel)",
   "language": "python",
   "name": "python3"
  },
  "language_info": {
   "codemirror_mode": {
    "name": "ipython",
    "version": 3
   },
   "file_extension": ".py",
   "mimetype": "text/x-python",
   "name": "python",
   "nbconvert_exporter": "python",
   "pygments_lexer": "ipython3",
   "version": "3.10.6"
  }
 },
 "nbformat": 4,
 "nbformat_minor": 5
}
