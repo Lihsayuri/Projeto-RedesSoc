{
 "cells": [
  {
   "cell_type": "markdown",
   "id": "0f7c8d3e",
   "metadata": {},
   "source": [
    "# Recortes\n",
    "\n",
    "\n",
    "## Hipóteses 2: Localização tem relação com o centro\n",
    "\n",
    "### B : Coreness e GEO\n",
    "\n"
   ]
  },
  {
   "cell_type": "markdown",
   "id": "2d98f683",
   "metadata": {},
   "source": [
    "2001 a 2003 e países da África:"
   ]
  },
  {
   "cell_type": "code",
   "execution_count": 1,
   "id": "02089d30",
   "metadata": {},
   "outputs": [
    {
     "data": {
      "text/html": [
       "\n",
       "    <script src=\"/files/netpixi.min.js\"></script>\n"
      ],
      "text/plain": [
       "<IPython.core.display.HTML object>"
      ]
     },
     "metadata": {},
     "output_type": "display_data"
    }
   ],
   "source": [
    "import numpy as np\n",
    "import pandas as pd\n",
    "import seaborn as sns\n",
    "import regression as reg\n",
    "\n",
    "from scipy import stats\n",
    "from matplotlib import pyplot as plt\n",
    "\n",
    "import openpyxl\n",
    "\n",
    "import netpixi\n",
    "import cpnet\n",
    "\n",
    "from graph_tool import spectral, centrality\n",
    "from netpixi.integration.gt import *\n",
    "from netpixi.integration.gt import Graph\n",
    "from regression.integration.gt import *"
   ]
  },
  {
   "cell_type": "code",
   "execution_count": 2,
   "id": "98279eaa",
   "metadata": {},
   "outputs": [
    {
     "name": "stderr",
     "output_type": "stream",
     "text": [
      "<frozen importlib._bootstrap>:914: ImportWarning: VendorImporter.find_spec() not found; falling back to find_module()\n",
      "/tmp/ipykernel_53/1764240694.py:1: DtypeWarning: Columns (4,5,6,7,8,9,10,11,12,13) have mixed types. Specify dtype option on import or set low_memory=False.\n",
      "  df_completo = pd.read_csv('../Projeto-rascunho/asylum_seekers.csv')\n"
     ]
    },
    {
     "data": {
      "text/html": [
       "<div>\n",
       "<style scoped>\n",
       "    .dataframe tbody tr th:only-of-type {\n",
       "        vertical-align: middle;\n",
       "    }\n",
       "\n",
       "    .dataframe tbody tr th {\n",
       "        vertical-align: top;\n",
       "    }\n",
       "\n",
       "    .dataframe thead th {\n",
       "        text-align: right;\n",
       "    }\n",
       "</style>\n",
       "<table border=\"1\" class=\"dataframe\">\n",
       "  <thead>\n",
       "    <tr style=\"text-align: right;\">\n",
       "      <th></th>\n",
       "      <th>Year</th>\n",
       "      <th>Country / territory of asylum/residence</th>\n",
       "      <th>Origin</th>\n",
       "      <th>RSD procedure type / level</th>\n",
       "      <th>Tota pending start-year</th>\n",
       "      <th>of which UNHCR-assisted(start-year)</th>\n",
       "      <th>Applied during year</th>\n",
       "      <th>decisions_recognized</th>\n",
       "      <th>decisions_other</th>\n",
       "      <th>Rejected</th>\n",
       "      <th>Otherwise closed</th>\n",
       "      <th>Total decisions</th>\n",
       "      <th>Total pending end-year</th>\n",
       "      <th>of which UNHCR-assisted(end-year)</th>\n",
       "    </tr>\n",
       "  </thead>\n",
       "  <tbody>\n",
       "    <tr>\n",
       "      <th>0</th>\n",
       "      <td>2000</td>\n",
       "      <td>Zimbabwe</td>\n",
       "      <td>Afghanistan</td>\n",
       "      <td>G / FI</td>\n",
       "      <td>0</td>\n",
       "      <td>0</td>\n",
       "      <td>5</td>\n",
       "      <td>5</td>\n",
       "      <td>0</td>\n",
       "      <td>0</td>\n",
       "      <td>0</td>\n",
       "      <td>5.0</td>\n",
       "      <td>0</td>\n",
       "      <td>0</td>\n",
       "    </tr>\n",
       "    <tr>\n",
       "      <th>1</th>\n",
       "      <td>2000</td>\n",
       "      <td>South Africa</td>\n",
       "      <td>Afghanistan</td>\n",
       "      <td>G / FI</td>\n",
       "      <td>8</td>\n",
       "      <td>1</td>\n",
       "      <td>0</td>\n",
       "      <td>0</td>\n",
       "      <td>0</td>\n",
       "      <td>0</td>\n",
       "      <td>0</td>\n",
       "      <td>NaN</td>\n",
       "      <td>8</td>\n",
       "      <td>0</td>\n",
       "    </tr>\n",
       "    <tr>\n",
       "      <th>2</th>\n",
       "      <td>2000</td>\n",
       "      <td>Uzbekistan</td>\n",
       "      <td>Afghanistan</td>\n",
       "      <td>U / FI</td>\n",
       "      <td>265</td>\n",
       "      <td>265</td>\n",
       "      <td>2156</td>\n",
       "      <td>747</td>\n",
       "      <td>0</td>\n",
       "      <td>112</td>\n",
       "      <td>327</td>\n",
       "      <td>1186.0</td>\n",
       "      <td>1235</td>\n",
       "      <td>1235</td>\n",
       "    </tr>\n",
       "    <tr>\n",
       "      <th>3</th>\n",
       "      <td>2000</td>\n",
       "      <td>United States of America</td>\n",
       "      <td>Afghanistan</td>\n",
       "      <td>G / EO</td>\n",
       "      <td>196</td>\n",
       "      <td>0</td>\n",
       "      <td>225</td>\n",
       "      <td>151</td>\n",
       "      <td>0</td>\n",
       "      <td>31</td>\n",
       "      <td>68</td>\n",
       "      <td>250.0</td>\n",
       "      <td>171</td>\n",
       "      <td>0</td>\n",
       "    </tr>\n",
       "    <tr>\n",
       "      <th>4</th>\n",
       "      <td>2000</td>\n",
       "      <td>United States of America</td>\n",
       "      <td>Afghanistan</td>\n",
       "      <td>G / IN</td>\n",
       "      <td>193</td>\n",
       "      <td>0</td>\n",
       "      <td>218</td>\n",
       "      <td>182</td>\n",
       "      <td>0</td>\n",
       "      <td>51</td>\n",
       "      <td>40</td>\n",
       "      <td>273.0</td>\n",
       "      <td>150</td>\n",
       "      <td>0</td>\n",
       "    </tr>\n",
       "    <tr>\n",
       "      <th>...</th>\n",
       "      <td>...</td>\n",
       "      <td>...</td>\n",
       "      <td>...</td>\n",
       "      <td>...</td>\n",
       "      <td>...</td>\n",
       "      <td>...</td>\n",
       "      <td>...</td>\n",
       "      <td>...</td>\n",
       "      <td>...</td>\n",
       "      <td>...</td>\n",
       "      <td>...</td>\n",
       "      <td>...</td>\n",
       "      <td>...</td>\n",
       "      <td>...</td>\n",
       "    </tr>\n",
       "    <tr>\n",
       "      <th>129715</th>\n",
       "      <td>2016</td>\n",
       "      <td>United States of America</td>\n",
       "      <td>Zimbabwe</td>\n",
       "      <td>G / IN</td>\n",
       "      <td>232</td>\n",
       "      <td>NaN</td>\n",
       "      <td>229</td>\n",
       "      <td>16</td>\n",
       "      <td>NaN</td>\n",
       "      <td>*</td>\n",
       "      <td>10</td>\n",
       "      <td>28</td>\n",
       "      <td>435</td>\n",
       "      <td>NaN</td>\n",
       "    </tr>\n",
       "    <tr>\n",
       "      <th>129716</th>\n",
       "      <td>2016</td>\n",
       "      <td>United States of America</td>\n",
       "      <td>Zimbabwe</td>\n",
       "      <td>G / EO</td>\n",
       "      <td>142</td>\n",
       "      <td>NaN</td>\n",
       "      <td>12</td>\n",
       "      <td>*</td>\n",
       "      <td>NaN</td>\n",
       "      <td>*</td>\n",
       "      <td>23</td>\n",
       "      <td>31</td>\n",
       "      <td>138</td>\n",
       "      <td>NaN</td>\n",
       "    </tr>\n",
       "    <tr>\n",
       "      <th>129717</th>\n",
       "      <td>2016</td>\n",
       "      <td>South Africa</td>\n",
       "      <td>Zimbabwe</td>\n",
       "      <td>G / AR</td>\n",
       "      <td>94</td>\n",
       "      <td>9</td>\n",
       "      <td>NaN</td>\n",
       "      <td>NaN</td>\n",
       "      <td>NaN</td>\n",
       "      <td>NaN</td>\n",
       "      <td>94</td>\n",
       "      <td>94</td>\n",
       "      <td>0</td>\n",
       "      <td>NaN</td>\n",
       "    </tr>\n",
       "    <tr>\n",
       "      <th>129718</th>\n",
       "      <td>2016</td>\n",
       "      <td>South Africa</td>\n",
       "      <td>Zimbabwe</td>\n",
       "      <td>G / FI</td>\n",
       "      <td>41238</td>\n",
       "      <td>4124</td>\n",
       "      <td>7964</td>\n",
       "      <td>73</td>\n",
       "      <td>NaN</td>\n",
       "      <td>7869</td>\n",
       "      <td>NaN</td>\n",
       "      <td>7942</td>\n",
       "      <td>41260</td>\n",
       "      <td>NaN</td>\n",
       "    </tr>\n",
       "    <tr>\n",
       "      <th>129719</th>\n",
       "      <td>2016</td>\n",
       "      <td>Zambia</td>\n",
       "      <td>Zimbabwe</td>\n",
       "      <td>G / FI</td>\n",
       "      <td>*</td>\n",
       "      <td>*</td>\n",
       "      <td>*</td>\n",
       "      <td>0</td>\n",
       "      <td>NaN</td>\n",
       "      <td>*</td>\n",
       "      <td>*</td>\n",
       "      <td>*</td>\n",
       "      <td>*</td>\n",
       "      <td>*</td>\n",
       "    </tr>\n",
       "  </tbody>\n",
       "</table>\n",
       "<p>129720 rows × 14 columns</p>\n",
       "</div>"
      ],
      "text/plain": [
       "        Year Country / territory of asylum/residence       Origin  \\\n",
       "0       2000                                Zimbabwe  Afghanistan   \n",
       "1       2000                            South Africa  Afghanistan   \n",
       "2       2000                              Uzbekistan  Afghanistan   \n",
       "3       2000                United States of America  Afghanistan   \n",
       "4       2000                United States of America  Afghanistan   \n",
       "...      ...                                     ...          ...   \n",
       "129715  2016                United States of America     Zimbabwe   \n",
       "129716  2016                United States of America     Zimbabwe   \n",
       "129717  2016                            South Africa     Zimbabwe   \n",
       "129718  2016                            South Africa     Zimbabwe   \n",
       "129719  2016                                  Zambia     Zimbabwe   \n",
       "\n",
       "       RSD procedure type / level Tota pending start-year  \\\n",
       "0                          G / FI                       0   \n",
       "1                          G / FI                       8   \n",
       "2                          U / FI                     265   \n",
       "3                          G / EO                     196   \n",
       "4                          G / IN                     193   \n",
       "...                           ...                     ...   \n",
       "129715                     G / IN                     232   \n",
       "129716                     G / EO                     142   \n",
       "129717                     G / AR                      94   \n",
       "129718                     G / FI                   41238   \n",
       "129719                     G / FI                       *   \n",
       "\n",
       "       of which UNHCR-assisted(start-year) Applied during year  \\\n",
       "0                                        0                   5   \n",
       "1                                        1                   0   \n",
       "2                                      265                2156   \n",
       "3                                        0                 225   \n",
       "4                                        0                 218   \n",
       "...                                    ...                 ...   \n",
       "129715                                 NaN                 229   \n",
       "129716                                 NaN                  12   \n",
       "129717                                   9                 NaN   \n",
       "129718                                4124                7964   \n",
       "129719                                   *                   *   \n",
       "\n",
       "       decisions_recognized decisions_other Rejected Otherwise closed  \\\n",
       "0                         5               0        0                0   \n",
       "1                         0               0        0                0   \n",
       "2                       747               0      112              327   \n",
       "3                       151               0       31               68   \n",
       "4                       182               0       51               40   \n",
       "...                     ...             ...      ...              ...   \n",
       "129715                   16             NaN        *               10   \n",
       "129716                    *             NaN        *               23   \n",
       "129717                  NaN             NaN      NaN               94   \n",
       "129718                   73             NaN     7869              NaN   \n",
       "129719                    0             NaN        *                *   \n",
       "\n",
       "       Total decisions Total pending end-year  \\\n",
       "0                  5.0                      0   \n",
       "1                  NaN                      8   \n",
       "2               1186.0                   1235   \n",
       "3                250.0                    171   \n",
       "4                273.0                    150   \n",
       "...                ...                    ...   \n",
       "129715              28                    435   \n",
       "129716              31                    138   \n",
       "129717              94                      0   \n",
       "129718            7942                  41260   \n",
       "129719               *                      *   \n",
       "\n",
       "       of which UNHCR-assisted(end-year)  \n",
       "0                                      0  \n",
       "1                                      0  \n",
       "2                                   1235  \n",
       "3                                      0  \n",
       "4                                      0  \n",
       "...                                  ...  \n",
       "129715                               NaN  \n",
       "129716                               NaN  \n",
       "129717                               NaN  \n",
       "129718                               NaN  \n",
       "129719                                 *  \n",
       "\n",
       "[129720 rows x 14 columns]"
      ]
     },
     "execution_count": 2,
     "metadata": {},
     "output_type": "execute_result"
    }
   ],
   "source": [
    "df_completo = pd.read_csv('../Projeto-rascunho/asylum_seekers.csv')\n",
    "df_completo"
   ]
  },
  {
   "cell_type": "code",
   "execution_count": 3,
   "id": "23c99a0c",
   "metadata": {},
   "outputs": [
    {
     "data": {
      "text/html": [
       "<div>\n",
       "<style scoped>\n",
       "    .dataframe tbody tr th:only-of-type {\n",
       "        vertical-align: middle;\n",
       "    }\n",
       "\n",
       "    .dataframe tbody tr th {\n",
       "        vertical-align: top;\n",
       "    }\n",
       "\n",
       "    .dataframe thead th {\n",
       "        text-align: right;\n",
       "    }\n",
       "</style>\n",
       "<table border=\"1\" class=\"dataframe\">\n",
       "  <thead>\n",
       "    <tr style=\"text-align: right;\">\n",
       "      <th></th>\n",
       "      <th>destiny</th>\n",
       "      <th>origin</th>\n",
       "      <th>value</th>\n",
       "      <th>rejected</th>\n",
       "      <th>year</th>\n",
       "    </tr>\n",
       "  </thead>\n",
       "  <tbody>\n",
       "    <tr>\n",
       "      <th>0</th>\n",
       "      <td>Zimbabwe</td>\n",
       "      <td>Afghanistan</td>\n",
       "      <td>5</td>\n",
       "      <td>0</td>\n",
       "      <td>2000</td>\n",
       "    </tr>\n",
       "    <tr>\n",
       "      <th>1</th>\n",
       "      <td>South Africa</td>\n",
       "      <td>Afghanistan</td>\n",
       "      <td>0</td>\n",
       "      <td>0</td>\n",
       "      <td>2000</td>\n",
       "    </tr>\n",
       "    <tr>\n",
       "      <th>2</th>\n",
       "      <td>Uzbekistan</td>\n",
       "      <td>Afghanistan</td>\n",
       "      <td>747</td>\n",
       "      <td>112</td>\n",
       "      <td>2000</td>\n",
       "    </tr>\n",
       "    <tr>\n",
       "      <th>3</th>\n",
       "      <td>United States of America</td>\n",
       "      <td>Afghanistan</td>\n",
       "      <td>151</td>\n",
       "      <td>31</td>\n",
       "      <td>2000</td>\n",
       "    </tr>\n",
       "    <tr>\n",
       "      <th>4</th>\n",
       "      <td>United States of America</td>\n",
       "      <td>Afghanistan</td>\n",
       "      <td>182</td>\n",
       "      <td>51</td>\n",
       "      <td>2000</td>\n",
       "    </tr>\n",
       "    <tr>\n",
       "      <th>...</th>\n",
       "      <td>...</td>\n",
       "      <td>...</td>\n",
       "      <td>...</td>\n",
       "      <td>...</td>\n",
       "      <td>...</td>\n",
       "    </tr>\n",
       "    <tr>\n",
       "      <th>129715</th>\n",
       "      <td>United States of America</td>\n",
       "      <td>Zimbabwe</td>\n",
       "      <td>16</td>\n",
       "      <td>*</td>\n",
       "      <td>2016</td>\n",
       "    </tr>\n",
       "    <tr>\n",
       "      <th>129716</th>\n",
       "      <td>United States of America</td>\n",
       "      <td>Zimbabwe</td>\n",
       "      <td>*</td>\n",
       "      <td>*</td>\n",
       "      <td>2016</td>\n",
       "    </tr>\n",
       "    <tr>\n",
       "      <th>129717</th>\n",
       "      <td>South Africa</td>\n",
       "      <td>Zimbabwe</td>\n",
       "      <td>NaN</td>\n",
       "      <td>NaN</td>\n",
       "      <td>2016</td>\n",
       "    </tr>\n",
       "    <tr>\n",
       "      <th>129718</th>\n",
       "      <td>South Africa</td>\n",
       "      <td>Zimbabwe</td>\n",
       "      <td>73</td>\n",
       "      <td>7869</td>\n",
       "      <td>2016</td>\n",
       "    </tr>\n",
       "    <tr>\n",
       "      <th>129719</th>\n",
       "      <td>Zambia</td>\n",
       "      <td>Zimbabwe</td>\n",
       "      <td>0</td>\n",
       "      <td>*</td>\n",
       "      <td>2016</td>\n",
       "    </tr>\n",
       "  </tbody>\n",
       "</table>\n",
       "<p>129720 rows × 5 columns</p>\n",
       "</div>"
      ],
      "text/plain": [
       "                         destiny       origin value rejected  year\n",
       "0                       Zimbabwe  Afghanistan     5        0  2000\n",
       "1                   South Africa  Afghanistan     0        0  2000\n",
       "2                     Uzbekistan  Afghanistan   747      112  2000\n",
       "3       United States of America  Afghanistan   151       31  2000\n",
       "4       United States of America  Afghanistan   182       51  2000\n",
       "...                          ...          ...   ...      ...   ...\n",
       "129715  United States of America     Zimbabwe    16        *  2016\n",
       "129716  United States of America     Zimbabwe     *        *  2016\n",
       "129717              South Africa     Zimbabwe   NaN      NaN  2016\n",
       "129718              South Africa     Zimbabwe    73     7869  2016\n",
       "129719                    Zambia     Zimbabwe     0        *  2016\n",
       "\n",
       "[129720 rows x 5 columns]"
      ]
     },
     "execution_count": 3,
     "metadata": {},
     "output_type": "execute_result"
    }
   ],
   "source": [
    "df_aresta = df_completo.loc[:, ['Country / territory of asylum/residence', 'Origin', 'decisions_recognized', 'Rejected', 'Year']]\n",
    "df_aresta = df_aresta.rename(columns={'Origin': 'origin', 'Country / territory of asylum/residence': 'destiny', 'decisions_recognized': 'value', 'Rejected': 'rejected','Year' : 'year'})\n",
    "df_aresta"
   ]
  },
  {
   "cell_type": "code",
   "execution_count": 4,
   "id": "571dd4ad",
   "metadata": {},
   "outputs": [
    {
     "data": {
      "text/html": [
       "<div>\n",
       "<style scoped>\n",
       "    .dataframe tbody tr th:only-of-type {\n",
       "        vertical-align: middle;\n",
       "    }\n",
       "\n",
       "    .dataframe tbody tr th {\n",
       "        vertical-align: top;\n",
       "    }\n",
       "\n",
       "    .dataframe thead th {\n",
       "        text-align: right;\n",
       "    }\n",
       "</style>\n",
       "<table border=\"1\" class=\"dataframe\">\n",
       "  <thead>\n",
       "    <tr style=\"text-align: right;\">\n",
       "      <th></th>\n",
       "      <th>destiny</th>\n",
       "      <th>origin</th>\n",
       "      <th>value</th>\n",
       "      <th>rejected</th>\n",
       "      <th>year</th>\n",
       "    </tr>\n",
       "  </thead>\n",
       "  <tbody>\n",
       "    <tr>\n",
       "      <th>0</th>\n",
       "      <td>Zimbabwe</td>\n",
       "      <td>Afghanistan</td>\n",
       "      <td>5.0</td>\n",
       "      <td>0</td>\n",
       "      <td>2000</td>\n",
       "    </tr>\n",
       "    <tr>\n",
       "      <th>1</th>\n",
       "      <td>South Africa</td>\n",
       "      <td>Afghanistan</td>\n",
       "      <td>0.0</td>\n",
       "      <td>0</td>\n",
       "      <td>2000</td>\n",
       "    </tr>\n",
       "    <tr>\n",
       "      <th>2</th>\n",
       "      <td>Uzbekistan</td>\n",
       "      <td>Afghanistan</td>\n",
       "      <td>747.0</td>\n",
       "      <td>112</td>\n",
       "      <td>2000</td>\n",
       "    </tr>\n",
       "    <tr>\n",
       "      <th>3</th>\n",
       "      <td>United States of America</td>\n",
       "      <td>Afghanistan</td>\n",
       "      <td>151.0</td>\n",
       "      <td>31</td>\n",
       "      <td>2000</td>\n",
       "    </tr>\n",
       "    <tr>\n",
       "      <th>4</th>\n",
       "      <td>United States of America</td>\n",
       "      <td>Afghanistan</td>\n",
       "      <td>182.0</td>\n",
       "      <td>51</td>\n",
       "      <td>2000</td>\n",
       "    </tr>\n",
       "    <tr>\n",
       "      <th>...</th>\n",
       "      <td>...</td>\n",
       "      <td>...</td>\n",
       "      <td>...</td>\n",
       "      <td>...</td>\n",
       "      <td>...</td>\n",
       "    </tr>\n",
       "    <tr>\n",
       "      <th>129715</th>\n",
       "      <td>United States of America</td>\n",
       "      <td>Zimbabwe</td>\n",
       "      <td>16.0</td>\n",
       "      <td>*</td>\n",
       "      <td>2016</td>\n",
       "    </tr>\n",
       "    <tr>\n",
       "      <th>129716</th>\n",
       "      <td>United States of America</td>\n",
       "      <td>Zimbabwe</td>\n",
       "      <td>0.0</td>\n",
       "      <td>*</td>\n",
       "      <td>2016</td>\n",
       "    </tr>\n",
       "    <tr>\n",
       "      <th>129717</th>\n",
       "      <td>South Africa</td>\n",
       "      <td>Zimbabwe</td>\n",
       "      <td>0.0</td>\n",
       "      <td>NaN</td>\n",
       "      <td>2016</td>\n",
       "    </tr>\n",
       "    <tr>\n",
       "      <th>129718</th>\n",
       "      <td>South Africa</td>\n",
       "      <td>Zimbabwe</td>\n",
       "      <td>73.0</td>\n",
       "      <td>7869</td>\n",
       "      <td>2016</td>\n",
       "    </tr>\n",
       "    <tr>\n",
       "      <th>129719</th>\n",
       "      <td>Zambia</td>\n",
       "      <td>Zimbabwe</td>\n",
       "      <td>0.0</td>\n",
       "      <td>*</td>\n",
       "      <td>2016</td>\n",
       "    </tr>\n",
       "  </tbody>\n",
       "</table>\n",
       "<p>129720 rows × 5 columns</p>\n",
       "</div>"
      ],
      "text/plain": [
       "                         destiny       origin  value rejected  year\n",
       "0                       Zimbabwe  Afghanistan    5.0        0  2000\n",
       "1                   South Africa  Afghanistan    0.0        0  2000\n",
       "2                     Uzbekistan  Afghanistan  747.0      112  2000\n",
       "3       United States of America  Afghanistan  151.0       31  2000\n",
       "4       United States of America  Afghanistan  182.0       51  2000\n",
       "...                          ...          ...    ...      ...   ...\n",
       "129715  United States of America     Zimbabwe   16.0        *  2016\n",
       "129716  United States of America     Zimbabwe    0.0        *  2016\n",
       "129717              South Africa     Zimbabwe    0.0      NaN  2016\n",
       "129718              South Africa     Zimbabwe   73.0     7869  2016\n",
       "129719                    Zambia     Zimbabwe    0.0        *  2016\n",
       "\n",
       "[129720 rows x 5 columns]"
      ]
     },
     "execution_count": 4,
     "metadata": {},
     "output_type": "execute_result"
    }
   ],
   "source": [
    "df_aresta.value = pd.to_numeric(df_aresta['value'], errors = 'coerce').fillna(0)\n",
    "df_aresta"
   ]
  },
  {
   "cell_type": "code",
   "execution_count": 5,
   "id": "068d8ec6",
   "metadata": {},
   "outputs": [
    {
     "data": {
      "text/html": [
       "<div>\n",
       "<style scoped>\n",
       "    .dataframe tbody tr th:only-of-type {\n",
       "        vertical-align: middle;\n",
       "    }\n",
       "\n",
       "    .dataframe tbody tr th {\n",
       "        vertical-align: top;\n",
       "    }\n",
       "\n",
       "    .dataframe thead th {\n",
       "        text-align: right;\n",
       "    }\n",
       "</style>\n",
       "<table border=\"1\" class=\"dataframe\">\n",
       "  <thead>\n",
       "    <tr style=\"text-align: right;\">\n",
       "      <th></th>\n",
       "      <th>destiny</th>\n",
       "      <th>origin</th>\n",
       "      <th>value</th>\n",
       "      <th>rejected</th>\n",
       "      <th>year</th>\n",
       "    </tr>\n",
       "  </thead>\n",
       "  <tbody>\n",
       "    <tr>\n",
       "      <th>5153</th>\n",
       "      <td>South Africa</td>\n",
       "      <td>Afghanistan</td>\n",
       "      <td>0.0</td>\n",
       "      <td>0</td>\n",
       "      <td>2001</td>\n",
       "    </tr>\n",
       "    <tr>\n",
       "      <th>5154</th>\n",
       "      <td>South Africa</td>\n",
       "      <td>Afghanistan</td>\n",
       "      <td>5.0</td>\n",
       "      <td>2</td>\n",
       "      <td>2001</td>\n",
       "    </tr>\n",
       "    <tr>\n",
       "      <th>5155</th>\n",
       "      <td>Uzbekistan</td>\n",
       "      <td>Afghanistan</td>\n",
       "      <td>1573.0</td>\n",
       "      <td>247</td>\n",
       "      <td>2001</td>\n",
       "    </tr>\n",
       "    <tr>\n",
       "      <th>5156</th>\n",
       "      <td>United States of America</td>\n",
       "      <td>Afghanistan</td>\n",
       "      <td>129.0</td>\n",
       "      <td>27</td>\n",
       "      <td>2001</td>\n",
       "    </tr>\n",
       "    <tr>\n",
       "      <th>5157</th>\n",
       "      <td>United States of America</td>\n",
       "      <td>Afghanistan</td>\n",
       "      <td>212.0</td>\n",
       "      <td>43</td>\n",
       "      <td>2001</td>\n",
       "    </tr>\n",
       "    <tr>\n",
       "      <th>...</th>\n",
       "      <td>...</td>\n",
       "      <td>...</td>\n",
       "      <td>...</td>\n",
       "      <td>...</td>\n",
       "      <td>...</td>\n",
       "    </tr>\n",
       "    <tr>\n",
       "      <th>22911</th>\n",
       "      <td>Ukraine</td>\n",
       "      <td>Zimbabwe</td>\n",
       "      <td>0.0</td>\n",
       "      <td>2</td>\n",
       "      <td>2003</td>\n",
       "    </tr>\n",
       "    <tr>\n",
       "      <th>22912</th>\n",
       "      <td>Ukraine</td>\n",
       "      <td>Zimbabwe</td>\n",
       "      <td>0.0</td>\n",
       "      <td>1</td>\n",
       "      <td>2003</td>\n",
       "    </tr>\n",
       "    <tr>\n",
       "      <th>22913</th>\n",
       "      <td>United States of America</td>\n",
       "      <td>Zimbabwe</td>\n",
       "      <td>115.0</td>\n",
       "      <td>160</td>\n",
       "      <td>2003</td>\n",
       "    </tr>\n",
       "    <tr>\n",
       "      <th>22914</th>\n",
       "      <td>United States of America</td>\n",
       "      <td>Zimbabwe</td>\n",
       "      <td>54.0</td>\n",
       "      <td>72</td>\n",
       "      <td>2003</td>\n",
       "    </tr>\n",
       "    <tr>\n",
       "      <th>22915</th>\n",
       "      <td>South Africa</td>\n",
       "      <td>Zimbabwe</td>\n",
       "      <td>9.0</td>\n",
       "      <td>16</td>\n",
       "      <td>2003</td>\n",
       "    </tr>\n",
       "  </tbody>\n",
       "</table>\n",
       "<p>17763 rows × 5 columns</p>\n",
       "</div>"
      ],
      "text/plain": [
       "                        destiny       origin   value rejected  year\n",
       "5153               South Africa  Afghanistan     0.0        0  2001\n",
       "5154               South Africa  Afghanistan     5.0        2  2001\n",
       "5155                 Uzbekistan  Afghanistan  1573.0      247  2001\n",
       "5156   United States of America  Afghanistan   129.0       27  2001\n",
       "5157   United States of America  Afghanistan   212.0       43  2001\n",
       "...                         ...          ...     ...      ...   ...\n",
       "22911                   Ukraine     Zimbabwe     0.0        2  2003\n",
       "22912                   Ukraine     Zimbabwe     0.0        1  2003\n",
       "22913  United States of America     Zimbabwe   115.0      160  2003\n",
       "22914  United States of America     Zimbabwe    54.0       72  2003\n",
       "22915              South Africa     Zimbabwe     9.0       16  2003\n",
       "\n",
       "[17763 rows x 5 columns]"
      ]
     },
     "execution_count": 5,
     "metadata": {},
     "output_type": "execute_result"
    }
   ],
   "source": [
    "df_aresta_2001_2003 = df_aresta[((df_aresta['year'] == 2001) | (df_aresta['year'] == 2002) | (df_aresta['year'] == 2003))]\n",
    "df_aresta_2001_2003"
   ]
  },
  {
   "cell_type": "code",
   "execution_count": 6,
   "id": "adeba35c",
   "metadata": {},
   "outputs": [],
   "source": [
    "df_aresta_2001_2003 = df_aresta_2001_2003.drop('year', axis=1)"
   ]
  },
  {
   "cell_type": "code",
   "execution_count": 7,
   "id": "99d8160f",
   "metadata": {},
   "outputs": [],
   "source": [
    "df_aresta_2001_2003.value = df_aresta_2001_2003['value'].astype(int)\n",
    "df_aresta_2001_2003.rejected = df_aresta_2001_2003['rejected'].astype(int)"
   ]
  },
  {
   "cell_type": "code",
   "execution_count": 8,
   "id": "7de6656e",
   "metadata": {},
   "outputs": [
    {
     "name": "stdout",
     "output_type": "stream",
     "text": [
      "<class 'pandas.core.frame.DataFrame'>\n",
      "Int64Index: 17763 entries, 5153 to 22915\n",
      "Data columns (total 4 columns):\n",
      " #   Column    Non-Null Count  Dtype \n",
      "---  ------    --------------  ----- \n",
      " 0   destiny   17763 non-null  object\n",
      " 1   origin    17763 non-null  object\n",
      " 2   value     17763 non-null  int64 \n",
      " 3   rejected  17763 non-null  int64 \n",
      "dtypes: int64(2), object(2)\n",
      "memory usage: 693.9+ KB\n"
     ]
    }
   ],
   "source": [
    "df_aresta_2001_2003.info()"
   ]
  },
  {
   "cell_type": "code",
   "execution_count": 9,
   "id": "9ec9988d",
   "metadata": {},
   "outputs": [
    {
     "data": {
      "text/plain": [
       "['Algeria',\n",
       " 'Angola',\n",
       " 'Benin',\n",
       " 'Botswana',\n",
       " 'Burkina Faso',\n",
       " 'Burundi',\n",
       " 'Cabo Verde',\n",
       " 'Cameroon',\n",
       " 'Central African Rep.',\n",
       " 'Chad',\n",
       " 'Comoros',\n",
       " 'Congo',\n",
       " \"Côte d'Ivoire\",\n",
       " 'Dem. Rep. of the Congo',\n",
       " 'Djibouti',\n",
       " 'Egypt',\n",
       " 'Equatorial Guinea',\n",
       " 'Eritrea',\n",
       " 'Ethiopia',\n",
       " 'Gabon',\n",
       " 'Gambia',\n",
       " 'Ghana',\n",
       " 'Guinea',\n",
       " 'Guinea-Bissau',\n",
       " 'Kenya',\n",
       " 'Lesotho',\n",
       " 'Liberia',\n",
       " 'Libya',\n",
       " 'Madagascar',\n",
       " 'Malawi',\n",
       " 'Mali',\n",
       " 'Mauritania',\n",
       " 'Mauritius',\n",
       " 'Morocco',\n",
       " 'Mozambique',\n",
       " 'Namibia',\n",
       " 'Niger',\n",
       " 'Nigeria',\n",
       " 'Rwanda',\n",
       " 'Sao Tome and Principe',\n",
       " 'Senegal',\n",
       " 'Seychelles',\n",
       " 'Sierra Leone',\n",
       " 'Somalia',\n",
       " 'South Africa',\n",
       " 'South Sudan',\n",
       " 'Sudan',\n",
       " 'Tanzania',\n",
       " 'Togo',\n",
       " 'Tunisia',\n",
       " 'Uganda',\n",
       " 'Zambia',\n",
       " 'Zimbabwe']"
      ]
     },
     "execution_count": 9,
     "metadata": {},
     "output_type": "execute_result"
    }
   ],
   "source": [
    "paises_africa =  pd.read_csv('./african_countries.csv')\n",
    "lista_paises_africa = paises_africa['Afro_countries'].to_list()\n",
    "lista_paises_africa"
   ]
  },
  {
   "cell_type": "markdown",
   "id": "31a731a9",
   "metadata": {},
   "source": [
    "Tabela filtrada com anos de 2001-2003 e países da África em lista."
   ]
  },
  {
   "cell_type": "markdown",
   "id": "8bc125b0",
   "metadata": {},
   "source": [
    "Agora vamos calcular o coreness desse ano e depois analisar para a região da África."
   ]
  },
  {
   "cell_type": "code",
   "execution_count": 10,
   "id": "dd3ef29f",
   "metadata": {},
   "outputs": [
    {
     "name": "stdout",
     "output_type": "stream",
     "text": [
      "225\n"
     ]
    }
   ],
   "source": [
    "listaVertices = []\n",
    "\n",
    "listaVertices = set(df_completo['Country / territory of asylum/residence'].unique().tolist() + df_completo['Origin'].unique().tolist())\n",
    "\n",
    "print(len(listaVertices))"
   ]
  },
  {
   "cell_type": "code",
   "execution_count": 32,
   "id": "aa4a7e34",
   "metadata": {},
   "outputs": [],
   "source": [
    "# Criando um grafo não-dirigido\n",
    "g = Graph(directed=True) \n",
    "g.add_vp('nome')\n",
    "g.add_ep('aceitos')"
   ]
  },
  {
   "cell_type": "code",
   "execution_count": 33,
   "id": "59822844",
   "metadata": {},
   "outputs": [],
   "source": [
    "for vertice in listaVertices:\n",
    "    g.add_vertex(vertice)"
   ]
  },
  {
   "cell_type": "code",
   "execution_count": 34,
   "id": "41e2ae29",
   "metadata": {},
   "outputs": [],
   "source": [
    "for v in g.all_vertices():\n",
    "    v['nome'] = str(v)"
   ]
  },
  {
   "cell_type": "code",
   "execution_count": 35,
   "id": "488ea25a",
   "metadata": {},
   "outputs": [
    {
     "name": "stdout",
     "output_type": "stream",
     "text": [
      "O número de vértices do grafo é : 225\n"
     ]
    }
   ],
   "source": [
    "n = g.num_vertices()\n",
    "print('O número de vértices do grafo é :', n)"
   ]
  },
  {
   "cell_type": "code",
   "execution_count": 36,
   "id": "c712e8cc",
   "metadata": {},
   "outputs": [
    {
     "data": {
      "text/html": [
       "<div>\n",
       "<style scoped>\n",
       "    .dataframe tbody tr th:only-of-type {\n",
       "        vertical-align: middle;\n",
       "    }\n",
       "\n",
       "    .dataframe tbody tr th {\n",
       "        vertical-align: top;\n",
       "    }\n",
       "\n",
       "    .dataframe thead th {\n",
       "        text-align: right;\n",
       "    }\n",
       "</style>\n",
       "<table border=\"1\" class=\"dataframe\">\n",
       "  <thead>\n",
       "    <tr style=\"text-align: right;\">\n",
       "      <th></th>\n",
       "      <th>origin</th>\n",
       "      <th>destiny</th>\n",
       "      <th>value</th>\n",
       "      <th>rejected</th>\n",
       "    </tr>\n",
       "  </thead>\n",
       "  <tbody>\n",
       "    <tr>\n",
       "      <th>0</th>\n",
       "      <td>Afghanistan</td>\n",
       "      <td>Angola</td>\n",
       "      <td>0</td>\n",
       "      <td>2</td>\n",
       "    </tr>\n",
       "    <tr>\n",
       "      <th>1</th>\n",
       "      <td>Afghanistan</td>\n",
       "      <td>Argentina</td>\n",
       "      <td>0</td>\n",
       "      <td>0</td>\n",
       "    </tr>\n",
       "    <tr>\n",
       "      <th>2</th>\n",
       "      <td>Afghanistan</td>\n",
       "      <td>Armenia</td>\n",
       "      <td>0</td>\n",
       "      <td>4</td>\n",
       "    </tr>\n",
       "    <tr>\n",
       "      <th>3</th>\n",
       "      <td>Afghanistan</td>\n",
       "      <td>Australia</td>\n",
       "      <td>2192</td>\n",
       "      <td>757</td>\n",
       "    </tr>\n",
       "    <tr>\n",
       "      <th>4</th>\n",
       "      <td>Afghanistan</td>\n",
       "      <td>Austria</td>\n",
       "      <td>1034</td>\n",
       "      <td>811</td>\n",
       "    </tr>\n",
       "    <tr>\n",
       "      <th>...</th>\n",
       "      <td>...</td>\n",
       "      <td>...</td>\n",
       "      <td>...</td>\n",
       "      <td>...</td>\n",
       "    </tr>\n",
       "    <tr>\n",
       "      <th>5845</th>\n",
       "      <td>Zimbabwe</td>\n",
       "      <td>Switzerland</td>\n",
       "      <td>0</td>\n",
       "      <td>17</td>\n",
       "    </tr>\n",
       "    <tr>\n",
       "      <th>5846</th>\n",
       "      <td>Zimbabwe</td>\n",
       "      <td>Thailand</td>\n",
       "      <td>0</td>\n",
       "      <td>0</td>\n",
       "    </tr>\n",
       "    <tr>\n",
       "      <th>5847</th>\n",
       "      <td>Zimbabwe</td>\n",
       "      <td>Ukraine</td>\n",
       "      <td>0</td>\n",
       "      <td>3</td>\n",
       "    </tr>\n",
       "    <tr>\n",
       "      <th>5848</th>\n",
       "      <td>Zimbabwe</td>\n",
       "      <td>United Kingdom</td>\n",
       "      <td>5490</td>\n",
       "      <td>12256</td>\n",
       "    </tr>\n",
       "    <tr>\n",
       "      <th>5849</th>\n",
       "      <td>Zimbabwe</td>\n",
       "      <td>United States of America</td>\n",
       "      <td>266</td>\n",
       "      <td>363</td>\n",
       "    </tr>\n",
       "  </tbody>\n",
       "</table>\n",
       "<p>5850 rows × 4 columns</p>\n",
       "</div>"
      ],
      "text/plain": [
       "           origin                   destiny  value  rejected\n",
       "0     Afghanistan                    Angola      0         2\n",
       "1     Afghanistan                 Argentina      0         0\n",
       "2     Afghanistan                   Armenia      0         4\n",
       "3     Afghanistan                 Australia   2192       757\n",
       "4     Afghanistan                   Austria   1034       811\n",
       "...           ...                       ...    ...       ...\n",
       "5845     Zimbabwe               Switzerland      0        17\n",
       "5846     Zimbabwe                  Thailand      0         0\n",
       "5847     Zimbabwe                   Ukraine      0         3\n",
       "5848     Zimbabwe            United Kingdom   5490     12256\n",
       "5849     Zimbabwe  United States of America    266       363\n",
       "\n",
       "[5850 rows x 4 columns]"
      ]
     },
     "execution_count": 36,
     "metadata": {},
     "output_type": "execute_result"
    }
   ],
   "source": [
    "df_aresta_2001_2003 = df_aresta_2001_2003[df_aresta_2001_2003['origin'] != df_aresta_2001_2003['destiny']]\n",
    "df_aresta_2001_2003"
   ]
  },
  {
   "cell_type": "code",
   "execution_count": 37,
   "id": "efc349ac",
   "metadata": {},
   "outputs": [
    {
     "data": {
      "text/html": [
       "<div>\n",
       "<style scoped>\n",
       "    .dataframe tbody tr th:only-of-type {\n",
       "        vertical-align: middle;\n",
       "    }\n",
       "\n",
       "    .dataframe tbody tr th {\n",
       "        vertical-align: top;\n",
       "    }\n",
       "\n",
       "    .dataframe thead th {\n",
       "        text-align: right;\n",
       "    }\n",
       "</style>\n",
       "<table border=\"1\" class=\"dataframe\">\n",
       "  <thead>\n",
       "    <tr style=\"text-align: right;\">\n",
       "      <th></th>\n",
       "      <th>origin</th>\n",
       "      <th>destiny</th>\n",
       "      <th>value</th>\n",
       "      <th>rejected</th>\n",
       "    </tr>\n",
       "  </thead>\n",
       "  <tbody>\n",
       "    <tr>\n",
       "      <th>0</th>\n",
       "      <td>Afghanistan</td>\n",
       "      <td>Angola</td>\n",
       "      <td>0</td>\n",
       "      <td>2</td>\n",
       "    </tr>\n",
       "    <tr>\n",
       "      <th>1</th>\n",
       "      <td>Afghanistan</td>\n",
       "      <td>Argentina</td>\n",
       "      <td>0</td>\n",
       "      <td>0</td>\n",
       "    </tr>\n",
       "    <tr>\n",
       "      <th>2</th>\n",
       "      <td>Afghanistan</td>\n",
       "      <td>Armenia</td>\n",
       "      <td>0</td>\n",
       "      <td>4</td>\n",
       "    </tr>\n",
       "    <tr>\n",
       "      <th>3</th>\n",
       "      <td>Afghanistan</td>\n",
       "      <td>Australia</td>\n",
       "      <td>2192</td>\n",
       "      <td>757</td>\n",
       "    </tr>\n",
       "    <tr>\n",
       "      <th>4</th>\n",
       "      <td>Afghanistan</td>\n",
       "      <td>Austria</td>\n",
       "      <td>1034</td>\n",
       "      <td>811</td>\n",
       "    </tr>\n",
       "    <tr>\n",
       "      <th>...</th>\n",
       "      <td>...</td>\n",
       "      <td>...</td>\n",
       "      <td>...</td>\n",
       "      <td>...</td>\n",
       "    </tr>\n",
       "    <tr>\n",
       "      <th>5845</th>\n",
       "      <td>Zimbabwe</td>\n",
       "      <td>Switzerland</td>\n",
       "      <td>0</td>\n",
       "      <td>17</td>\n",
       "    </tr>\n",
       "    <tr>\n",
       "      <th>5846</th>\n",
       "      <td>Zimbabwe</td>\n",
       "      <td>Thailand</td>\n",
       "      <td>0</td>\n",
       "      <td>0</td>\n",
       "    </tr>\n",
       "    <tr>\n",
       "      <th>5847</th>\n",
       "      <td>Zimbabwe</td>\n",
       "      <td>Ukraine</td>\n",
       "      <td>0</td>\n",
       "      <td>3</td>\n",
       "    </tr>\n",
       "    <tr>\n",
       "      <th>5848</th>\n",
       "      <td>Zimbabwe</td>\n",
       "      <td>United Kingdom</td>\n",
       "      <td>5490</td>\n",
       "      <td>12256</td>\n",
       "    </tr>\n",
       "    <tr>\n",
       "      <th>5849</th>\n",
       "      <td>Zimbabwe</td>\n",
       "      <td>United States of America</td>\n",
       "      <td>266</td>\n",
       "      <td>363</td>\n",
       "    </tr>\n",
       "  </tbody>\n",
       "</table>\n",
       "<p>5850 rows × 4 columns</p>\n",
       "</div>"
      ],
      "text/plain": [
       "           origin                   destiny  value  rejected\n",
       "0     Afghanistan                    Angola      0         2\n",
       "1     Afghanistan                 Argentina      0         0\n",
       "2     Afghanistan                   Armenia      0         4\n",
       "3     Afghanistan                 Australia   2192       757\n",
       "4     Afghanistan                   Austria   1034       811\n",
       "...           ...                       ...    ...       ...\n",
       "5845     Zimbabwe               Switzerland      0        17\n",
       "5846     Zimbabwe                  Thailand      0         0\n",
       "5847     Zimbabwe                   Ukraine      0         3\n",
       "5848     Zimbabwe            United Kingdom   5490     12256\n",
       "5849     Zimbabwe  United States of America    266       363\n",
       "\n",
       "[5850 rows x 4 columns]"
      ]
     },
     "execution_count": 37,
     "metadata": {},
     "output_type": "execute_result"
    }
   ],
   "source": [
    "df_aresta_2001_2003 = df_aresta_2001_2003.groupby(['origin', 'destiny']).sum().reset_index()\n",
    "df_aresta_2001_2003"
   ]
  },
  {
   "cell_type": "code",
   "execution_count": 38,
   "id": "154f0d81",
   "metadata": {},
   "outputs": [],
   "source": [
    "for index, row in df_aresta_2001_2003.iterrows():\n",
    "    g.add_edge(row.origin, row.destiny)\n",
    "    g.get_edge(row.origin, row.destiny)['aceitos'] = row.value"
   ]
  },
  {
   "cell_type": "code",
   "execution_count": 39,
   "id": "7b21d53e",
   "metadata": {},
   "outputs": [],
   "source": [
    "gt_save(g, '/grafo_2001_2003.net.gz')"
   ]
  },
  {
   "cell_type": "code",
   "execution_count": 40,
   "id": "5ea8042c",
   "metadata": {},
   "outputs": [],
   "source": [
    "g = gt_load('/grafo_2001_2003.net.gz')"
   ]
  },
  {
   "cell_type": "code",
   "execution_count": 41,
   "id": "496d4584",
   "metadata": {},
   "outputs": [],
   "source": [
    "m = gt_draw.sfdp_layout(g)\n",
    "gt_move(g, m)\n",
    "gt_save(g, 'grafo_2001_2003.net.gz')"
   ]
  },
  {
   "cell_type": "code",
   "execution_count": 77,
   "id": "b7184f35",
   "metadata": {},
   "outputs": [],
   "source": [
    "#r = netpixi.render('grafo_2001_2003.net.gz', infinite=True);"
   ]
  },
  {
   "cell_type": "code",
   "execution_count": 43,
   "id": "83c24230",
   "metadata": {},
   "outputs": [
    {
     "data": {
      "text/html": [
       "\n",
       "        <div id=\"kECCyU6mJRLJ7hgE23NPFG\"></div>\n",
       "        <script>netpixi.call('kECCyU6mJRLJ7hgE23NPFG', 'czpTj9gyxhh8QSStUPRWid', 'setGraph', 'eyJ0eXBlIjogInZlcnRleCIsICJwcm9wcyI6IHsic3JjIjogIm5vbWUiLCAiZHN0IjogIl9rZXkifX0K');</script>\n",
       "    "
      ],
      "text/plain": [
       "<IPython.core.display.HTML object>"
      ]
     },
     "metadata": {},
     "output_type": "display_data"
    },
    {
     "data": {
      "text/html": [
       "\n",
       "        <div id=\"MM53TQTqBUJfzcsSv7Bhtv\"></div>\n",
       "        <script>netpixi.call('MM53TQTqBUJfzcsSv7Bhtv', 'czpTj9gyxhh8QSStUPRWid', 'changeGraph', 'eyJ0eXBlIjogInNldHRpbmdzIiwgInByb3BzIjogeyJ2ZXJ0ZXgiOiB7ImNvbG9yIjogMTY3NzcyMTV9fX0K');</script>\n",
       "    "
      ],
      "text/plain": [
       "<IPython.core.display.HTML object>"
      ]
     },
     "metadata": {},
     "output_type": "display_data"
    },
    {
     "data": {
      "text/html": [
       "\n",
       "        <div id=\"4xoG8aNbxtWZURediw3cWC\"></div>\n",
       "        <script>netpixi.call('4xoG8aNbxtWZURediw3cWC', 'czpTj9gyxhh8QSStUPRWid', 'changeGraph', 'eyJ0eXBlIjogInNldHRpbmdzIiwgInByb3BzIjogeyJlZGdlIjogeyJjb2xvciI6IDIxNDI4OTB9fX0K');</script>\n",
       "    "
      ],
      "text/plain": [
       "<IPython.core.display.HTML object>"
      ]
     },
     "metadata": {},
     "output_type": "display_data"
    }
   ],
   "source": [
    "r.vertex_set_key('nome')\n",
    "\n",
    "r.vertex_default(color=0xffffff)\n",
    "\n",
    "# mudar a cor, a espessura e a curvatura das arestas\n",
    "r.edge_default(color=0x20B2AA)"
   ]
  },
  {
   "cell_type": "code",
   "execution_count": 44,
   "id": "f4a0a46d",
   "metadata": {},
   "outputs": [
    {
     "data": {
      "text/html": [
       "\n",
       "        <div id=\"jrPPFeKZcU9KqBp46iQ3Jk\"></div>\n",
       "        <script>netpixi.call('jrPPFeKZcU9KqBp46iQ3Jk', 'czpTj9gyxhh8QSStUPRWid', 'normalizeGraph', 'eyJ0eXBlIjogImVkZ2UiLCAicHJvcHMiOiB7InNyYyI6ICJhY2VpdG9zIiwgIm1pbiI6IDEsICJtYXgiOiAxMH19Cg==');</script>\n",
       "    "
      ],
      "text/plain": [
       "<IPython.core.display.HTML object>"
      ]
     },
     "metadata": {},
     "output_type": "display_data"
    }
   ],
   "source": [
    "r.edge_scale('aceitos', 1, 10)"
   ]
  },
  {
   "cell_type": "code",
   "execution_count": 45,
   "id": "65598783",
   "metadata": {},
   "outputs": [],
   "source": [
    "m = gt_draw.sfdp_layout(g)\n",
    "gt_move(g, m)\n",
    "gt_save(g, 'centralidadeCoreness20012003.net.gz')"
   ]
  },
  {
   "cell_type": "code",
   "execution_count": 76,
   "id": "53789a55",
   "metadata": {},
   "outputs": [],
   "source": [
    "#r = netpixi.render('centralidadeCoreness20012003.net.gz')"
   ]
  },
  {
   "cell_type": "code",
   "execution_count": 66,
   "id": "18d25e13",
   "metadata": {},
   "outputs": [
    {
     "data": {
      "text/html": [
       "\n",
       "        <div id=\"ncwUKN3ezUxKpKKaKeke6S\"></div>\n",
       "        <script>netpixi.call('ncwUKN3ezUxKpKKaKeke6S', 'WTYRJsj4HGRjG4BeySs9Gy', 'changeGraph', 'eyJpZCI6ICJQb2xhbmQiLCAidHlwZSI6ICJ2ZXJ0ZXgiLCAicHJvcHMiOiB7ImNvbG9yIjogMTY3MTE2ODB9fQo=');</script>\n",
       "    "
      ],
      "text/plain": [
       "<IPython.core.display.HTML object>"
      ]
     },
     "metadata": {},
     "output_type": "display_data"
    },
    {
     "data": {
      "text/html": [
       "\n",
       "        <div id=\"h9ncQKoyoD7f6fWEfjmt4p\"></div>\n",
       "        <script>netpixi.call('h9ncQKoyoD7f6fWEfjmt4p', 'WTYRJsj4HGRjG4BeySs9Gy', 'changeGraph', 'eyJpZCI6ICJBcmdlbnRpbmEiLCAidHlwZSI6ICJ2ZXJ0ZXgiLCAicHJvcHMiOiB7ImNvbG9yIjogMTY3MTE2ODB9fQo=');</script>\n",
       "    "
      ],
      "text/plain": [
       "<IPython.core.display.HTML object>"
      ]
     },
     "metadata": {},
     "output_type": "display_data"
    },
    {
     "data": {
      "text/html": [
       "\n",
       "        <div id=\"HRvm6msTPFDLqcKGkcSUZF\"></div>\n",
       "        <script>netpixi.call('HRvm6msTPFDLqcKGkcSUZF', 'WTYRJsj4HGRjG4BeySs9Gy', 'changeGraph', 'eyJpZCI6ICJDXHUwMGY0dGUgZCdJdm9pcmUiLCAidHlwZSI6ICJ2ZXJ0ZXgiLCAicHJvcHMiOiB7ImNvbG9yIjogMTY3MTE2ODB9fQo=');</script>\n",
       "    "
      ],
      "text/plain": [
       "<IPython.core.display.HTML object>"
      ]
     },
     "metadata": {},
     "output_type": "display_data"
    },
    {
     "data": {
      "text/html": [
       "\n",
       "        <div id=\"AaKby6QraTtCYQnBn9Dau6\"></div>\n",
       "        <script>netpixi.call('AaKby6QraTtCYQnBn9Dau6', 'WTYRJsj4HGRjG4BeySs9Gy', 'changeGraph', 'eyJpZCI6ICJVZ2FuZGEiLCAidHlwZSI6ICJ2ZXJ0ZXgiLCAicHJvcHMiOiB7ImNvbG9yIjogNjUyODB9fQo=');</script>\n",
       "    "
      ],
      "text/plain": [
       "<IPython.core.display.HTML object>"
      ]
     },
     "metadata": {},
     "output_type": "display_data"
    },
    {
     "data": {
      "text/html": [
       "\n",
       "        <div id=\"jAbGBsqTQRnohkCKy8z5JH\"></div>\n",
       "        <script>netpixi.call('jAbGBsqTQRnohkCKy8z5JH', 'WTYRJsj4HGRjG4BeySs9Gy', 'changeGraph', 'eyJpZCI6ICJCdXJraW5hIEZhc28iLCAidHlwZSI6ICJ2ZXJ0ZXgiLCAicHJvcHMiOiB7ImNvbG9yIjogMTY3MTE2ODB9fQo=');</script>\n",
       "    "
      ],
      "text/plain": [
       "<IPython.core.display.HTML object>"
      ]
     },
     "metadata": {},
     "output_type": "display_data"
    },
    {
     "data": {
      "text/html": [
       "\n",
       "        <div id=\"W4DrQyhCKDsGKMzqu7QU48\"></div>\n",
       "        <script>netpixi.call('W4DrQyhCKDsGKMzqu7QU48', 'WTYRJsj4HGRjG4BeySs9Gy', 'changeGraph', 'eyJpZCI6ICJBbGJhbmlhIiwgInR5cGUiOiAidmVydGV4IiwgInByb3BzIjogeyJjb2xvciI6IDY1MjgwfX0K');</script>\n",
       "    "
      ],
      "text/plain": [
       "<IPython.core.display.HTML object>"
      ]
     },
     "metadata": {},
     "output_type": "display_data"
    },
    {
     "data": {
      "text/html": [
       "\n",
       "        <div id=\"nB39L7jEhaLq3grNyP9zjz\"></div>\n",
       "        <script>netpixi.call('nB39L7jEhaLq3grNyP9zjz', 'WTYRJsj4HGRjG4BeySs9Gy', 'changeGraph', 'eyJpZCI6ICJTaWVycmEgTGVvbmUiLCAidHlwZSI6ICJ2ZXJ0ZXgiLCAicHJvcHMiOiB7ImNvbG9yIjogNjUyODB9fQo=');</script>\n",
       "    "
      ],
      "text/plain": [
       "<IPython.core.display.HTML object>"
      ]
     },
     "metadata": {},
     "output_type": "display_data"
    },
    {
     "data": {
      "text/html": [
       "\n",
       "        <div id=\"APPzwxbRqkZmVGtrqxDiNQ\"></div>\n",
       "        <script>netpixi.call('APPzwxbRqkZmVGtrqxDiNQ', 'WTYRJsj4HGRjG4BeySs9Gy', 'changeGraph', 'eyJpZCI6ICJCb3NuaWEgYW5kIEhlcnplZ292aW5hIiwgInR5cGUiOiAidmVydGV4IiwgInByb3BzIjogeyJjb2xvciI6IDE2NzExNjgwfX0K');</script>\n",
       "    "
      ],
      "text/plain": [
       "<IPython.core.display.HTML object>"
      ]
     },
     "metadata": {},
     "output_type": "display_data"
    },
    {
     "data": {
      "text/html": [
       "\n",
       "        <div id=\"j4HMBnQbAgqUopbvGVsGEM\"></div>\n",
       "        <script>netpixi.call('j4HMBnQbAgqUopbvGVsGEM', 'WTYRJsj4HGRjG4BeySs9Gy', 'changeGraph', 'eyJpZCI6ICJTb3V0aCBTdWRhbiIsICJ0eXBlIjogInZlcnRleCIsICJwcm9wcyI6IHsiY29sb3IiOiA2NTI4MH19Cg==');</script>\n",
       "    "
      ],
      "text/plain": [
       "<IPython.core.display.HTML object>"
      ]
     },
     "metadata": {},
     "output_type": "display_data"
    },
    {
     "data": {
      "text/html": [
       "\n",
       "        <div id=\"dwbD8W5dRz7UhmTDVkdqvG\"></div>\n",
       "        <script>netpixi.call('dwbD8W5dRz7UhmTDVkdqvG', 'WTYRJsj4HGRjG4BeySs9Gy', 'changeGraph', 'eyJpZCI6ICJOaWNhcmFndWEiLCAidHlwZSI6ICJ2ZXJ0ZXgiLCAicHJvcHMiOiB7ImNvbG9yIjogNjUyODB9fQo=');</script>\n",
       "    "
      ],
      "text/plain": [
       "<IPython.core.display.HTML object>"
      ]
     },
     "metadata": {},
     "output_type": "display_data"
    },
    {
     "data": {
      "text/html": [
       "\n",
       "        <div id=\"bL4zgcTKZj4CLZNqQJwywj\"></div>\n",
       "        <script>netpixi.call('bL4zgcTKZj4CLZNqQJwywj', 'WTYRJsj4HGRjG4BeySs9Gy', 'changeGraph', 'eyJpZCI6ICJTZXJiaWEgYW5kIEtvc292byAoUy9SRVMvMTI0NCAoMTk5OSkpIiwgInR5cGUiOiAidmVydGV4IiwgInByb3BzIjogeyJjb2xvciI6IDE2NzExNjgwfX0K');</script>\n",
       "    "
      ],
      "text/plain": [
       "<IPython.core.display.HTML object>"
      ]
     },
     "metadata": {},
     "output_type": "display_data"
    },
    {
     "data": {
      "text/html": [
       "\n",
       "        <div id=\"Jx7SCzGzRyrrFEwtXYhesZ\"></div>\n",
       "        <script>netpixi.call('Jx7SCzGzRyrrFEwtXYhesZ', 'WTYRJsj4HGRjG4BeySs9Gy', 'changeGraph', 'eyJpZCI6ICJWZW5lenVlbGEgKEJvbGl2YXJpYW4gUmVwdWJsaWMgb2YpIiwgInR5cGUiOiAidmVydGV4IiwgInByb3BzIjogeyJjb2xvciI6IDY1MjgwfX0K');</script>\n",
       "    "
      ],
      "text/plain": [
       "<IPython.core.display.HTML object>"
      ]
     },
     "metadata": {},
     "output_type": "display_data"
    },
    {
     "data": {
      "text/html": [
       "\n",
       "        <div id=\"NLRkSsmafDgsYCu6mt7fjk\"></div>\n",
       "        <script>netpixi.call('NLRkSsmafDgsYCu6mt7fjk', 'WTYRJsj4HGRjG4BeySs9Gy', 'changeGraph', 'eyJpZCI6ICJTYWludCBMdWNpYSIsICJ0eXBlIjogInZlcnRleCIsICJwcm9wcyI6IHsiY29sb3IiOiA2NTI4MH19Cg==');</script>\n",
       "    "
      ],
      "text/plain": [
       "<IPython.core.display.HTML object>"
      ]
     },
     "metadata": {},
     "output_type": "display_data"
    },
    {
     "data": {
      "text/html": [
       "\n",
       "        <div id=\"fytCLhyA6Py3upqeH2sv3g\"></div>\n",
       "        <script>netpixi.call('fytCLhyA6Py3upqeH2sv3g', 'WTYRJsj4HGRjG4BeySs9Gy', 'changeGraph', 'eyJpZCI6ICJTZXljaGVsbGVzIiwgInR5cGUiOiAidmVydGV4IiwgInByb3BzIjogeyJjb2xvciI6IDY1MjgwfX0K');</script>\n",
       "    "
      ],
      "text/plain": [
       "<IPython.core.display.HTML object>"
      ]
     },
     "metadata": {},
     "output_type": "display_data"
    },
    {
     "data": {
      "text/html": [
       "\n",
       "        <div id=\"EEp4wvXdEWDNuumTxiUvQc\"></div>\n",
       "        <script>netpixi.call('EEp4wvXdEWDNuumTxiUvQc', 'WTYRJsj4HGRjG4BeySs9Gy', 'changeGraph', 'eyJpZCI6ICJUdXZhbHUiLCAidHlwZSI6ICJ2ZXJ0ZXgiLCAicHJvcHMiOiB7ImNvbG9yIjogNjUyODB9fQo=');</script>\n",
       "    "
      ],
      "text/plain": [
       "<IPython.core.display.HTML object>"
      ]
     },
     "metadata": {},
     "output_type": "display_data"
    },
    {
     "data": {
      "text/html": [
       "\n",
       "        <div id=\"RqPjjwk3KVGaf7eyo2WTCU\"></div>\n",
       "        <script>netpixi.call('RqPjjwk3KVGaf7eyo2WTCU', 'WTYRJsj4HGRjG4BeySs9Gy', 'changeGraph', 'eyJpZCI6ICJQdWVydG8gUmljbyIsICJ0eXBlIjogInZlcnRleCIsICJwcm9wcyI6IHsiY29sb3IiOiA2NTI4MH19Cg==');</script>\n",
       "    "
      ],
      "text/plain": [
       "<IPython.core.display.HTML object>"
      ]
     },
     "metadata": {},
     "output_type": "display_data"
    },
    {
     "data": {
      "text/html": [
       "\n",
       "        <div id=\"mYCLgEqkHUyokzW5bQL2eN\"></div>\n",
       "        <script>netpixi.call('mYCLgEqkHUyokzW5bQL2eN', 'WTYRJsj4HGRjG4BeySs9Gy', 'changeGraph', 'eyJpZCI6ICJDb3N0YSBSaWNhIiwgInR5cGUiOiAidmVydGV4IiwgInByb3BzIjogeyJjb2xvciI6IDY1MjgwfX0K');</script>\n",
       "    "
      ],
      "text/plain": [
       "<IPython.core.display.HTML object>"
      ]
     },
     "metadata": {},
     "output_type": "display_data"
    },
    {
     "data": {
      "text/html": [
       "\n",
       "        <div id=\"KuAKEPLdgwqZ8a4CboMskt\"></div>\n",
       "        <script>netpixi.call('KuAKEPLdgwqZ8a4CboMskt', 'WTYRJsj4HGRjG4BeySs9Gy', 'changeGraph', 'eyJpZCI6ICJWYW51YXR1IiwgInR5cGUiOiAidmVydGV4IiwgInByb3BzIjogeyJjb2xvciI6IDY1MjgwfX0K');</script>\n",
       "    "
      ],
      "text/plain": [
       "<IPython.core.display.HTML object>"
      ]
     },
     "metadata": {},
     "output_type": "display_data"
    },
    {
     "data": {
      "text/html": [
       "\n",
       "        <div id=\"8dQBgtEJNGzRJC67T4Vcdp\"></div>\n",
       "        <script>netpixi.call('8dQBgtEJNGzRJC67T4Vcdp', 'WTYRJsj4HGRjG4BeySs9Gy', 'changeGraph', 'eyJpZCI6ICJJbmRvbmVzaWEiLCAidHlwZSI6ICJ2ZXJ0ZXgiLCAicHJvcHMiOiB7ImNvbG9yIjogMTY3MTE2ODB9fQo=');</script>\n",
       "    "
      ],
      "text/plain": [
       "<IPython.core.display.HTML object>"
      ]
     },
     "metadata": {},
     "output_type": "display_data"
    },
    {
     "data": {
      "text/html": [
       "\n",
       "        <div id=\"Kyt6pnpgHXS48Eu5sAmdJu\"></div>\n",
       "        <script>netpixi.call('Kyt6pnpgHXS48Eu5sAmdJu', 'WTYRJsj4HGRjG4BeySs9Gy', 'changeGraph', 'eyJpZCI6ICJNb3JvY2NvIiwgInR5cGUiOiAidmVydGV4IiwgInByb3BzIjogeyJjb2xvciI6IDE2NzExNjgwfX0K');</script>\n",
       "    "
      ],
      "text/plain": [
       "<IPython.core.display.HTML object>"
      ]
     },
     "metadata": {},
     "output_type": "display_data"
    },
    {
     "data": {
      "text/html": [
       "\n",
       "        <div id=\"ec9HTU6DL7uuBrbbBVRZsd\"></div>\n",
       "        <script>netpixi.call('ec9HTU6DL7uuBrbbBVRZsd', 'WTYRJsj4HGRjG4BeySs9Gy', 'changeGraph', 'eyJpZCI6ICJLaXJpYmF0aSIsICJ0eXBlIjogInZlcnRleCIsICJwcm9wcyI6IHsiY29sb3IiOiA2NTI4MH19Cg==');</script>\n",
       "    "
      ],
      "text/plain": [
       "<IPython.core.display.HTML object>"
      ]
     },
     "metadata": {},
     "output_type": "display_data"
    },
    {
     "data": {
      "text/html": [
       "\n",
       "        <div id=\"PToHQ74PTET7HijWGTM7QV\"></div>\n",
       "        <script>netpixi.call('PToHQ74PTET7HijWGTM7QV', 'WTYRJsj4HGRjG4BeySs9Gy', 'changeGraph', 'eyJpZCI6ICJWYXJpb3VzL1Vua25vd24iLCAidHlwZSI6ICJ2ZXJ0ZXgiLCAicHJvcHMiOiB7ImNvbG9yIjogNjUyODB9fQo=');</script>\n",
       "    "
      ],
      "text/plain": [
       "<IPython.core.display.HTML object>"
      ]
     },
     "metadata": {},
     "output_type": "display_data"
    },
    {
     "data": {
      "text/html": [
       "\n",
       "        <div id=\"eYcfHD9pHC2nH5aS5RZAqf\"></div>\n",
       "        <script>netpixi.call('eYcfHD9pHC2nH5aS5RZAqf', 'WTYRJsj4HGRjG4BeySs9Gy', 'changeGraph', 'eyJpZCI6ICJNeWFubWFyIiwgInR5cGUiOiAidmVydGV4IiwgInByb3BzIjogeyJjb2xvciI6IDY1MjgwfX0K');</script>\n",
       "    "
      ],
      "text/plain": [
       "<IPython.core.display.HTML object>"
      ]
     },
     "metadata": {},
     "output_type": "display_data"
    },
    {
     "data": {
      "text/html": [
       "\n",
       "        <div id=\"b78p5TYXCwhNX7XEUhyKWw\"></div>\n",
       "        <script>netpixi.call('b78p5TYXCwhNX7XEUhyKWw', 'WTYRJsj4HGRjG4BeySs9Gy', 'changeGraph', 'eyJpZCI6ICJEZW0uIFBlb3BsZSdzIFJlcC4gb2YgS29yZWEiLCAidHlwZSI6ICJ2ZXJ0ZXgiLCAicHJvcHMiOiB7ImNvbG9yIjogNjUyODB9fQo=');</script>\n",
       "    "
      ],
      "text/plain": [
       "<IPython.core.display.HTML object>"
      ]
     },
     "metadata": {},
     "output_type": "display_data"
    },
    {
     "data": {
      "text/html": [
       "\n",
       "        <div id=\"kSh8um9hR84RBkTLYZYNqy\"></div>\n",
       "        <script>netpixi.call('kSh8um9hR84RBkTLYZYNqy', 'WTYRJsj4HGRjG4BeySs9Gy', 'changeGraph', 'eyJpZCI6ICJQYWxhdSIsICJ0eXBlIjogInZlcnRleCIsICJwcm9wcyI6IHsiY29sb3IiOiA2NTI4MH19Cg==');</script>\n",
       "    "
      ],
      "text/plain": [
       "<IPython.core.display.HTML object>"
      ]
     },
     "metadata": {},
     "output_type": "display_data"
    },
    {
     "data": {
      "text/html": [
       "\n",
       "        <div id=\"RBpZkfRpMSKftNeHLY4Sca\"></div>\n",
       "        <script>netpixi.call('RBpZkfRpMSKftNeHLY4Sca', 'WTYRJsj4HGRjG4BeySs9Gy', 'changeGraph', 'eyJpZCI6ICJIb2x5IFNlZSAodGhlKSIsICJ0eXBlIjogInZlcnRleCIsICJwcm9wcyI6IHsiY29sb3IiOiA2NTI4MH19Cg==');</script>\n",
       "    "
      ],
      "text/plain": [
       "<IPython.core.display.HTML object>"
      ]
     },
     "metadata": {},
     "output_type": "display_data"
    },
    {
     "data": {
      "text/html": [
       "\n",
       "        <div id=\"AgJiQ3ch2bjZPuZvMciFVk\"></div>\n",
       "        <script>netpixi.call('AgJiQ3ch2bjZPuZvMciFVk', 'WTYRJsj4HGRjG4BeySs9Gy', 'changeGraph', 'eyJpZCI6ICJTb2xvbW9uIElzbGFuZHMiLCAidHlwZSI6ICJ2ZXJ0ZXgiLCAicHJvcHMiOiB7ImNvbG9yIjogNjUyODB9fQo=');</script>\n",
       "    "
      ],
      "text/plain": [
       "<IPython.core.display.HTML object>"
      ]
     },
     "metadata": {},
     "output_type": "display_data"
    },
    {
     "data": {
      "text/html": [
       "\n",
       "        <div id=\"czfBkRgxFQ8zCZRcRUFnLB\"></div>\n",
       "        <script>netpixi.call('czfBkRgxFQ8zCZRcRUFnLB', 'WTYRJsj4HGRjG4BeySs9Gy', 'changeGraph', 'eyJpZCI6ICJTYWludCBWaW5jZW50IGFuZCB0aGUgR3JlbmFkaW5lcyIsICJ0eXBlIjogInZlcnRleCIsICJwcm9wcyI6IHsiY29sb3IiOiA2NTI4MH19Cg==');</script>\n",
       "    "
      ],
      "text/plain": [
       "<IPython.core.display.HTML object>"
      ]
     },
     "metadata": {},
     "output_type": "display_data"
    },
    {
     "data": {
      "text/html": [
       "\n",
       "        <div id=\"JcRjMkTmJ7E5stWjzTqhQp\"></div>\n",
       "        <script>netpixi.call('JcRjMkTmJ7E5stWjzTqhQp', 'WTYRJsj4HGRjG4BeySs9Gy', 'changeGraph', 'eyJpZCI6ICJQYW5hbWEiLCAidHlwZSI6ICJ2ZXJ0ZXgiLCAicHJvcHMiOiB7ImNvbG9yIjogNjUyODB9fQo=');</script>\n",
       "    "
      ],
      "text/plain": [
       "<IPython.core.display.HTML object>"
      ]
     },
     "metadata": {},
     "output_type": "display_data"
    },
    {
     "data": {
      "text/html": [
       "\n",
       "        <div id=\"GtYVfbMybdpsvfB95btyWp\"></div>\n",
       "        <script>netpixi.call('GtYVfbMybdpsvfB95btyWp', 'WTYRJsj4HGRjG4BeySs9Gy', 'changeGraph', 'eyJpZCI6ICJGcmVuY2ggUG9seW5lc2lhIiwgInR5cGUiOiAidmVydGV4IiwgInByb3BzIjogeyJjb2xvciI6IDY1MjgwfX0K');</script>\n",
       "    "
      ],
      "text/plain": [
       "<IPython.core.display.HTML object>"
      ]
     },
     "metadata": {},
     "output_type": "display_data"
    },
    {
     "data": {
      "text/html": [
       "\n",
       "        <div id=\"ShvBWefozQm6F6NxSDwg4A\"></div>\n",
       "        <script>netpixi.call('ShvBWefozQm6F6NxSDwg4A', 'WTYRJsj4HGRjG4BeySs9Gy', 'changeGraph', 'eyJpZCI6ICJBdXN0cmFsaWEiLCAidHlwZSI6ICJ2ZXJ0ZXgiLCAicHJvcHMiOiB7ImNvbG9yIjogMTY3MTE2ODB9fQo=');</script>\n",
       "    "
      ],
      "text/plain": [
       "<IPython.core.display.HTML object>"
      ]
     },
     "metadata": {},
     "output_type": "display_data"
    },
    {
     "data": {
      "text/html": [
       "\n",
       "        <div id=\"TWF3CfNEmNzjhSAsiyApqm\"></div>\n",
       "        <script>netpixi.call('TWF3CfNEmNzjhSAsiyApqm', 'WTYRJsj4HGRjG4BeySs9Gy', 'changeGraph', 'eyJpZCI6ICJOaXVlIiwgInR5cGUiOiAidmVydGV4IiwgInByb3BzIjogeyJjb2xvciI6IDY1MjgwfX0K');</script>\n",
       "    "
      ],
      "text/plain": [
       "<IPython.core.display.HTML object>"
      ]
     },
     "metadata": {},
     "output_type": "display_data"
    },
    {
     "data": {
      "text/html": [
       "\n",
       "        <div id=\"DogUWvjJCxZj3brDrv6v6T\"></div>\n",
       "        <script>netpixi.call('DogUWvjJCxZj3brDrv6v6T', 'WTYRJsj4HGRjG4BeySs9Gy', 'changeGraph', 'eyJpZCI6ICJUdXJrZXkiLCAidHlwZSI6ICJ2ZXJ0ZXgiLCAicHJvcHMiOiB7ImNvbG9yIjogMTY3MTE2ODB9fQo=');</script>\n",
       "    "
      ],
      "text/plain": [
       "<IPython.core.display.HTML object>"
      ]
     },
     "metadata": {},
     "output_type": "display_data"
    },
    {
     "data": {
      "text/html": [
       "\n",
       "        <div id=\"jJxF8vkucGHbf6Vig2wEeu\"></div>\n",
       "        <script>netpixi.call('jJxF8vkucGHbf6Vig2wEeu', 'WTYRJsj4HGRjG4BeySs9Gy', 'changeGraph', 'eyJpZCI6ICJUdXJrcyBhbmQgQ2FpY29zIElzbGFuZHMiLCAidHlwZSI6ICJ2ZXJ0ZXgiLCAicHJvcHMiOiB7ImNvbG9yIjogNjUyODB9fQo=');</script>\n",
       "    "
      ],
      "text/plain": [
       "<IPython.core.display.HTML object>"
      ]
     },
     "metadata": {},
     "output_type": "display_data"
    },
    {
     "data": {
      "text/html": [
       "\n",
       "        <div id=\"APhhuVYhyaqDCb9wCXN8Yg\"></div>\n",
       "        <script>netpixi.call('APhhuVYhyaqDCb9wCXN8Yg', 'WTYRJsj4HGRjG4BeySs9Gy', 'changeGraph', 'eyJpZCI6ICJDaGlsZSIsICJ0eXBlIjogInZlcnRleCIsICJwcm9wcyI6IHsiY29sb3IiOiAxNjcxMTY4MH19Cg==');</script>\n",
       "    "
      ],
      "text/plain": [
       "<IPython.core.display.HTML object>"
      ]
     },
     "metadata": {},
     "output_type": "display_data"
    },
    {
     "data": {
      "text/html": [
       "\n",
       "        <div id=\"eMJjHXEV8n6VX2kUoeEBA7\"></div>\n",
       "        <script>netpixi.call('eMJjHXEV8n6VX2kUoeEBA7', 'WTYRJsj4HGRjG4BeySs9Gy', 'changeGraph', 'eyJpZCI6ICJTdXJpbmFtZSIsICJ0eXBlIjogInZlcnRleCIsICJwcm9wcyI6IHsiY29sb3IiOiA2NTI4MH19Cg==');</script>\n",
       "    "
      ],
      "text/plain": [
       "<IPython.core.display.HTML object>"
      ]
     },
     "metadata": {},
     "output_type": "display_data"
    },
    {
     "data": {
      "text/html": [
       "\n",
       "        <div id=\"98noqKfkV8VLHZE3imPxsE\"></div>\n",
       "        <script>netpixi.call('98noqKfkV8VLHZE3imPxsE', 'WTYRJsj4HGRjG4BeySs9Gy', 'changeGraph', 'eyJpZCI6ICJHdWF0ZW1hbGEiLCAidHlwZSI6ICJ2ZXJ0ZXgiLCAicHJvcHMiOiB7ImNvbG9yIjogNjUyODB9fQo=');</script>\n",
       "    "
      ],
      "text/plain": [
       "<IPython.core.display.HTML object>"
      ]
     },
     "metadata": {},
     "output_type": "display_data"
    },
    {
     "data": {
      "text/html": [
       "\n",
       "        <div id=\"caE6bpB2tJQtmAFsMYGSXr\"></div>\n",
       "        <script>netpixi.call('caE6bpB2tJQtmAFsMYGSXr', 'WTYRJsj4HGRjG4BeySs9Gy', 'changeGraph', 'eyJpZCI6ICJFbCBTYWx2YWRvciIsICJ0eXBlIjogInZlcnRleCIsICJwcm9wcyI6IHsiY29sb3IiOiA2NTI4MH19Cg==');</script>\n",
       "    "
      ],
      "text/plain": [
       "<IPython.core.display.HTML object>"
      ]
     },
     "metadata": {},
     "output_type": "display_data"
    },
    {
     "data": {
      "text/html": [
       "\n",
       "        <div id=\"X9DBD9SSKjdcQBqU6nKZt6\"></div>\n",
       "        <script>netpixi.call('X9DBD9SSKjdcQBqU6nKZt6', 'WTYRJsj4HGRjG4BeySs9Gy', 'changeGraph', 'eyJpZCI6ICJOb3J3YXkiLCAidHlwZSI6ICJ2ZXJ0ZXgiLCAicHJvcHMiOiB7ImNvbG9yIjogMTY3MTE2ODB9fQo=');</script>\n",
       "    "
      ],
      "text/plain": [
       "<IPython.core.display.HTML object>"
      ]
     },
     "metadata": {},
     "output_type": "display_data"
    },
    {
     "data": {
      "text/html": [
       "\n",
       "        <div id=\"JELtdATCNZDocVKX6zuaXY\"></div>\n",
       "        <script>netpixi.call('JELtdATCNZDocVKX6zuaXY', 'WTYRJsj4HGRjG4BeySs9Gy', 'changeGraph', 'eyJpZCI6ICJDcm9hdGlhIiwgInR5cGUiOiAidmVydGV4IiwgInByb3BzIjogeyJjb2xvciI6IDE2NzExNjgwfX0K');</script>\n",
       "    "
      ],
      "text/plain": [
       "<IPython.core.display.HTML object>"
      ]
     },
     "metadata": {},
     "output_type": "display_data"
    },
    {
     "data": {
      "text/html": [
       "\n",
       "        <div id=\"VhynoED3VpSEkJHw38L8ei\"></div>\n",
       "        <script>netpixi.call('VhynoED3VpSEkJHw38L8ei', 'WTYRJsj4HGRjG4BeySs9Gy', 'changeGraph', 'eyJpZCI6ICJDYWJvIFZlcmRlIiwgInR5cGUiOiAidmVydGV4IiwgInByb3BzIjogeyJjb2xvciI6IDY1MjgwfX0K');</script>\n",
       "    "
      ],
      "text/plain": [
       "<IPython.core.display.HTML object>"
      ]
     },
     "metadata": {},
     "output_type": "display_data"
    },
    {
     "data": {
      "text/html": [
       "\n",
       "        <div id=\"ED749u4T9Qiv2AacSn9DtT\"></div>\n",
       "        <script>netpixi.call('ED749u4T9Qiv2AacSn9DtT', 'WTYRJsj4HGRjG4BeySs9Gy', 'changeGraph', 'eyJpZCI6ICJJcmFuIChJc2xhbWljIFJlcC4gb2YpIiwgInR5cGUiOiAidmVydGV4IiwgInByb3BzIjogeyJjb2xvciI6IDY1MjgwfX0K');</script>\n",
       "    "
      ],
      "text/plain": [
       "<IPython.core.display.HTML object>"
      ]
     },
     "metadata": {},
     "output_type": "display_data"
    },
    {
     "data": {
      "text/html": [
       "\n",
       "        <div id=\"d62P4KzW5ZzdAegpvp4CaV\"></div>\n",
       "        <script>netpixi.call('d62P4KzW5ZzdAegpvp4CaV', 'WTYRJsj4HGRjG4BeySs9Gy', 'changeGraph', 'eyJpZCI6ICJBcnViYSIsICJ0eXBlIjogInZlcnRleCIsICJwcm9wcyI6IHsiY29sb3IiOiA2NTI4MH19Cg==');</script>\n",
       "    "
      ],
      "text/plain": [
       "<IPython.core.display.HTML object>"
      ]
     },
     "metadata": {},
     "output_type": "display_data"
    },
    {
     "data": {
      "text/html": [
       "\n",
       "        <div id=\"ae9sDFZqN6uXcdere8V4RH\"></div>\n",
       "        <script>netpixi.call('ae9sDFZqN6uXcdere8V4RH', 'WTYRJsj4HGRjG4BeySs9Gy', 'changeGraph', 'eyJpZCI6ICJBbnRpZ3VhIGFuZCBCYXJidWRhIiwgInR5cGUiOiAidmVydGV4IiwgInByb3BzIjogeyJjb2xvciI6IDY1MjgwfX0K');</script>\n",
       "    "
      ],
      "text/plain": [
       "<IPython.core.display.HTML object>"
      ]
     },
     "metadata": {},
     "output_type": "display_data"
    },
    {
     "data": {
      "text/html": [
       "\n",
       "        <div id=\"Zo6d5XxF7HZkMts3eVb7AQ\"></div>\n",
       "        <script>netpixi.call('Zo6d5XxF7HZkMts3eVb7AQ', 'WTYRJsj4HGRjG4BeySs9Gy', 'changeGraph', 'eyJpZCI6ICJNYWxheXNpYSIsICJ0eXBlIjogInZlcnRleCIsICJwcm9wcyI6IHsiY29sb3IiOiAxNjcxMTY4MH19Cg==');</script>\n",
       "    "
      ],
      "text/plain": [
       "<IPython.core.display.HTML object>"
      ]
     },
     "metadata": {},
     "output_type": "display_data"
    },
    {
     "data": {
      "text/html": [
       "\n",
       "        <div id=\"gD6RhBoWnZpZeSDXLkZRU3\"></div>\n",
       "        <script>netpixi.call('gD6RhBoWnZpZeSDXLkZRU3', 'WTYRJsj4HGRjG4BeySs9Gy', 'changeGraph', 'eyJpZCI6ICJDaGluYSIsICJ0eXBlIjogInZlcnRleCIsICJwcm9wcyI6IHsiY29sb3IiOiAxNjcxMTY4MH19Cg==');</script>\n",
       "    "
      ],
      "text/plain": [
       "<IPython.core.display.HTML object>"
      ]
     },
     "metadata": {},
     "output_type": "display_data"
    },
    {
     "data": {
      "text/html": [
       "\n",
       "        <div id=\"4AncQzDW8mSDemXBfotSbC\"></div>\n",
       "        <script>netpixi.call('4AncQzDW8mSDemXBfotSbC', 'WTYRJsj4HGRjG4BeySs9Gy', 'changeGraph', 'eyJpZCI6ICJTd2F6aWxhbmQiLCAidHlwZSI6ICJ2ZXJ0ZXgiLCAicHJvcHMiOiB7ImNvbG9yIjogNjUyODB9fQo=');</script>\n",
       "    "
      ],
      "text/plain": [
       "<IPython.core.display.HTML object>"
      ]
     },
     "metadata": {},
     "output_type": "display_data"
    },
    {
     "data": {
      "text/html": [
       "\n",
       "        <div id=\"LqbqSWdk3yE8WRCeCLdtYa\"></div>\n",
       "        <script>netpixi.call('LqbqSWdk3yE8WRCeCLdtYa', 'WTYRJsj4HGRjG4BeySs9Gy', 'changeGraph', 'eyJpZCI6ICJUcmluaWRhZCBhbmQgVG9iYWdvIiwgInR5cGUiOiAidmVydGV4IiwgInByb3BzIjogeyJjb2xvciI6IDY1MjgwfX0K');</script>\n",
       "    "
      ],
      "text/plain": [
       "<IPython.core.display.HTML object>"
      ]
     },
     "metadata": {},
     "output_type": "display_data"
    },
    {
     "data": {
      "text/html": [
       "\n",
       "        <div id=\"YNA3RkN6MMiM7wSMkyrEAv\"></div>\n",
       "        <script>netpixi.call('YNA3RkN6MMiM7wSMkyrEAv', 'WTYRJsj4HGRjG4BeySs9Gy', 'changeGraph', 'eyJpZCI6ICJEZW5tYXJrIiwgInR5cGUiOiAidmVydGV4IiwgInByb3BzIjogeyJjb2xvciI6IDE2NzExNjgwfX0K');</script>\n",
       "    "
      ],
      "text/plain": [
       "<IPython.core.display.HTML object>"
      ]
     },
     "metadata": {},
     "output_type": "display_data"
    },
    {
     "data": {
      "text/html": [
       "\n",
       "        <div id=\"VGMa54dZk5S32Etdcr5Asz\"></div>\n",
       "        <script>netpixi.call('VGMa54dZk5S32Etdcr5Asz', 'WTYRJsj4HGRjG4BeySs9Gy', 'changeGraph', 'eyJpZCI6ICJMaWJlcmlhIiwgInR5cGUiOiAidmVydGV4IiwgInByb3BzIjogeyJjb2xvciI6IDY1MjgwfX0K');</script>\n",
       "    "
      ],
      "text/plain": [
       "<IPython.core.display.HTML object>"
      ]
     },
     "metadata": {},
     "output_type": "display_data"
    },
    {
     "data": {
      "text/html": [
       "\n",
       "        <div id=\"LnyRMSTcgc3sTt7P3XtFmf\"></div>\n",
       "        <script>netpixi.call('LnyRMSTcgc3sTt7P3XtFmf', 'WTYRJsj4HGRjG4BeySs9Gy', 'changeGraph', 'eyJpZCI6ICJLZW55YSIsICJ0eXBlIjogInZlcnRleCIsICJwcm9wcyI6IHsiY29sb3IiOiAxNjcxMTY4MH19Cg==');</script>\n",
       "    "
      ],
      "text/plain": [
       "<IPython.core.display.HTML object>"
      ]
     },
     "metadata": {},
     "output_type": "display_data"
    },
    {
     "data": {
      "text/html": [
       "\n",
       "        <div id=\"CXMGmvVVCogwXo4Hn9N2ur\"></div>\n",
       "        <script>netpixi.call('CXMGmvVVCogwXo4Hn9N2ur', 'WTYRJsj4HGRjG4BeySs9Gy', 'changeGraph', 'eyJpZCI6ICJTYW4gTWFyaW5vIiwgInR5cGUiOiAidmVydGV4IiwgInByb3BzIjogeyJjb2xvciI6IDY1MjgwfX0K');</script>\n",
       "    "
      ],
      "text/plain": [
       "<IPython.core.display.HTML object>"
      ]
     },
     "metadata": {},
     "output_type": "display_data"
    },
    {
     "data": {
      "text/html": [
       "\n",
       "        <div id=\"2N8DyueX5bUJcEr4fD3vQX\"></div>\n",
       "        <script>netpixi.call('2N8DyueX5bUJcEr4fD3vQX', 'WTYRJsj4HGRjG4BeySs9Gy', 'changeGraph', 'eyJpZCI6ICJFdGhpb3BpYSIsICJ0eXBlIjogInZlcnRleCIsICJwcm9wcyI6IHsiY29sb3IiOiA2NTI4MH19Cg==');</script>\n",
       "    "
      ],
      "text/plain": [
       "<IPython.core.display.HTML object>"
      ]
     },
     "metadata": {},
     "output_type": "display_data"
    },
    {
     "data": {
      "text/html": [
       "\n",
       "        <div id=\"RpLXHdGfkdB6f3pugEpzP9\"></div>\n",
       "        <script>netpixi.call('RpLXHdGfkdB6f3pugEpzP9', 'WTYRJsj4HGRjG4BeySs9Gy', 'changeGraph', 'eyJpZCI6ICJSZXAuIG9mIE1vbGRvdmEiLCAidHlwZSI6ICJ2ZXJ0ZXgiLCAicHJvcHMiOiB7ImNvbG9yIjogMTY3MTE2ODB9fQo=');</script>\n",
       "    "
      ],
      "text/plain": [
       "<IPython.core.display.HTML object>"
      ]
     },
     "metadata": {},
     "output_type": "display_data"
    },
    {
     "data": {
      "text/html": [
       "\n",
       "        <div id=\"iv4N6MnGBZ4iKtggAdkLou\"></div>\n",
       "        <script>netpixi.call('iv4N6MnGBZ4iKtggAdkLou', 'WTYRJsj4HGRjG4BeySs9Gy', 'changeGraph', 'eyJpZCI6ICJMaWJ5YSIsICJ0eXBlIjogInZlcnRleCIsICJwcm9wcyI6IHsiY29sb3IiOiAxNjcxMTY4MH19Cg==');</script>\n",
       "    "
      ],
      "text/plain": [
       "<IPython.core.display.HTML object>"
      ]
     },
     "metadata": {},
     "output_type": "display_data"
    },
    {
     "data": {
      "text/html": [
       "\n",
       "        <div id=\"34uQhshbPv3qRijSKeABU3\"></div>\n",
       "        <script>netpixi.call('34uQhshbPv3qRijSKeABU3', 'WTYRJsj4HGRjG4BeySs9Gy', 'changeGraph', 'eyJpZCI6ICJVbml0ZWQgS2luZ2RvbSIsICJ0eXBlIjogInZlcnRleCIsICJwcm9wcyI6IHsiY29sb3IiOiAxNjcxMTY4MH19Cg==');</script>\n",
       "    "
      ],
      "text/plain": [
       "<IPython.core.display.HTML object>"
      ]
     },
     "metadata": {},
     "output_type": "display_data"
    },
    {
     "data": {
      "text/html": [
       "\n",
       "        <div id=\"Fc6kcGXSJx92FbKhpWoF6Y\"></div>\n",
       "        <script>netpixi.call('Fc6kcGXSJx92FbKhpWoF6Y', 'WTYRJsj4HGRjG4BeySs9Gy', 'changeGraph', 'eyJpZCI6ICJFZ3lwdCIsICJ0eXBlIjogInZlcnRleCIsICJwcm9wcyI6IHsiY29sb3IiOiAxNjcxMTY4MH19Cg==');</script>\n",
       "    "
      ],
      "text/plain": [
       "<IPython.core.display.HTML object>"
      ]
     },
     "metadata": {},
     "output_type": "display_data"
    },
    {
     "data": {
      "text/html": [
       "\n",
       "        <div id=\"8MgNxN2m8UfWs4NhMMfN46\"></div>\n",
       "        <script>netpixi.call('8MgNxN2m8UfWs4NhMMfN46', 'WTYRJsj4HGRjG4BeySs9Gy', 'changeGraph', 'eyJpZCI6ICJXYWxsaXMgYW5kIEZ1dHVuYSBJc2xhbmRzICIsICJ0eXBlIjogInZlcnRleCIsICJwcm9wcyI6IHsiY29sb3IiOiA2NTI4MH19Cg==');</script>\n",
       "    "
      ],
      "text/plain": [
       "<IPython.core.display.HTML object>"
      ]
     },
     "metadata": {},
     "output_type": "display_data"
    },
    {
     "data": {
      "text/html": [
       "\n",
       "        <div id=\"mm4pLNeUN9CowCG5HUMj27\"></div>\n",
       "        <script>netpixi.call('mm4pLNeUN9CowCG5HUMj27', 'WTYRJsj4HGRjG4BeySs9Gy', 'changeGraph', 'eyJpZCI6ICJEZW0uIFJlcC4gb2YgdGhlIENvbmdvIiwgInR5cGUiOiAidmVydGV4IiwgInByb3BzIjogeyJjb2xvciI6IDE2NzExNjgwfX0K');</script>\n",
       "    "
      ],
      "text/plain": [
       "<IPython.core.display.HTML object>"
      ]
     },
     "metadata": {},
     "output_type": "display_data"
    },
    {
     "data": {
      "text/html": [
       "\n",
       "        <div id=\"BnBBqEfWrzz8rGHb9vVLzw\"></div>\n",
       "        <script>netpixi.call('BnBBqEfWrzz8rGHb9vVLzw', 'WTYRJsj4HGRjG4BeySs9Gy', 'changeGraph', 'eyJpZCI6ICJCZWxpemUiLCAidHlwZSI6ICJ2ZXJ0ZXgiLCAicHJvcHMiOiB7ImNvbG9yIjogNjUyODB9fQo=');</script>\n",
       "    "
      ],
      "text/plain": [
       "<IPython.core.display.HTML object>"
      ]
     },
     "metadata": {},
     "output_type": "display_data"
    },
    {
     "data": {
      "text/html": [
       "\n",
       "        <div id=\"EaUJSLrZRq35C5cY5r9n2n\"></div>\n",
       "        <script>netpixi.call('EaUJSLrZRq35C5cY5r9n2n', 'WTYRJsj4HGRjG4BeySs9Gy', 'changeGraph', 'eyJpZCI6ICJTYXVkaSBBcmFiaWEiLCAidHlwZSI6ICJ2ZXJ0ZXgiLCAicHJvcHMiOiB7ImNvbG9yIjogMTY3MTE2ODB9fQo=');</script>\n",
       "    "
      ],
      "text/plain": [
       "<IPython.core.display.HTML object>"
      ]
     },
     "metadata": {},
     "output_type": "display_data"
    },
    {
     "data": {
      "text/html": [
       "\n",
       "        <div id=\"gnRzmYAnPTfZFtzbsVfysr\"></div>\n",
       "        <script>netpixi.call('gnRzmYAnPTfZFtzbsVfysr', 'WTYRJsj4HGRjG4BeySs9Gy', 'changeGraph', 'eyJpZCI6ICJNb250c2VycmF0IiwgInR5cGUiOiAidmVydGV4IiwgInByb3BzIjogeyJjb2xvciI6IDY1MjgwfX0K');</script>\n",
       "    "
      ],
      "text/plain": [
       "<IPython.core.display.HTML object>"
      ]
     },
     "metadata": {},
     "output_type": "display_data"
    },
    {
     "data": {
      "text/html": [
       "\n",
       "        <div id=\"hKEwyZh6hwBTzWFMHduBKo\"></div>\n",
       "        <script>netpixi.call('hKEwyZh6hwBTzWFMHduBKo', 'WTYRJsj4HGRjG4BeySs9Gy', 'changeGraph', 'eyJpZCI6ICJUYWppa2lzdGFuIiwgInR5cGUiOiAidmVydGV4IiwgInByb3BzIjogeyJjb2xvciI6IDY1MjgwfX0K');</script>\n",
       "    "
      ],
      "text/plain": [
       "<IPython.core.display.HTML object>"
      ]
     },
     "metadata": {},
     "output_type": "display_data"
    },
    {
     "data": {
      "text/html": [
       "\n",
       "        <div id=\"i9LhMgfCf3TZd7khnajmDM\"></div>\n",
       "        <script>netpixi.call('i9LhMgfCf3TZd7khnajmDM', 'WTYRJsj4HGRjG4BeySs9Gy', 'changeGraph', 'eyJpZCI6ICJBbWVyaWNhbiBTYW1vYSIsICJ0eXBlIjogInZlcnRleCIsICJwcm9wcyI6IHsiY29sb3IiOiA2NTI4MH19Cg==');</script>\n",
       "    "
      ],
      "text/plain": [
       "<IPython.core.display.HTML object>"
      ]
     },
     "metadata": {},
     "output_type": "display_data"
    },
    {
     "data": {
      "text/html": [
       "\n",
       "        <div id=\"dVXaDcarjFc2HDHUYcSoo8\"></div>\n",
       "        <script>netpixi.call('dVXaDcarjFc2HDHUYcSoo8', 'WTYRJsj4HGRjG4BeySs9Gy', 'changeGraph', 'eyJpZCI6ICJTaW5nYXBvcmUiLCAidHlwZSI6ICJ2ZXJ0ZXgiLCAicHJvcHMiOiB7ImNvbG9yIjogNjUyODB9fQo=');</script>\n",
       "    "
      ],
      "text/plain": [
       "<IPython.core.display.HTML object>"
      ]
     },
     "metadata": {},
     "output_type": "display_data"
    },
    {
     "data": {
      "text/html": [
       "\n",
       "        <div id=\"CEodqVyRxe7t5w54ei8Fqf\"></div>\n",
       "        <script>netpixi.call('CEodqVyRxe7t5w54ei8Fqf', 'WTYRJsj4HGRjG4BeySs9Gy', 'changeGraph', 'eyJpZCI6ICJCb25haXJlIiwgInR5cGUiOiAidmVydGV4IiwgInByb3BzIjogeyJjb2xvciI6IDY1MjgwfX0K');</script>\n",
       "    "
      ],
      "text/plain": [
       "<IPython.core.display.HTML object>"
      ]
     },
     "metadata": {},
     "output_type": "display_data"
    },
    {
     "data": {
      "text/html": [
       "\n",
       "        <div id=\"9PnH5CSDRKioyHR9Y5ZWP5\"></div>\n",
       "        <script>netpixi.call('9PnH5CSDRKioyHR9Y5ZWP5', 'WTYRJsj4HGRjG4BeySs9Gy', 'changeGraph', 'eyJpZCI6ICJCdWxnYXJpYSIsICJ0eXBlIjogInZlcnRleCIsICJwcm9wcyI6IHsiY29sb3IiOiAxNjcxMTY4MH19Cg==');</script>\n",
       "    "
      ],
      "text/plain": [
       "<IPython.core.display.HTML object>"
      ]
     },
     "metadata": {},
     "output_type": "display_data"
    },
    {
     "data": {
      "text/html": [
       "\n",
       "        <div id=\"L25QZtEh7wpaowAFNYHGGe\"></div>\n",
       "        <script>netpixi.call('L25QZtEh7wpaowAFNYHGGe', 'WTYRJsj4HGRjG4BeySs9Gy', 'changeGraph', 'eyJpZCI6ICJUaGUgZm9ybWVyIFl1Z29zbGF2IFJlcHVibGljIG9mIE1hY2Vkb25pYSIsICJ0eXBlIjogInZlcnRleCIsICJwcm9wcyI6IHsiY29sb3IiOiA2NTI4MH19Cg==');</script>\n",
       "    "
      ],
      "text/plain": [
       "<IPython.core.display.HTML object>"
      ]
     },
     "metadata": {},
     "output_type": "display_data"
    },
    {
     "data": {
      "text/html": [
       "\n",
       "        <div id=\"SGCHXj6KGdJPPradMKJE4q\"></div>\n",
       "        <script>netpixi.call('SGCHXj6KGdJPPradMKJE4q', 'WTYRJsj4HGRjG4BeySs9Gy', 'changeGraph', 'eyJpZCI6ICJBemVyYmFpamFuIiwgInR5cGUiOiAidmVydGV4IiwgInByb3BzIjogeyJjb2xvciI6IDE2NzExNjgwfX0K');</script>\n",
       "    "
      ],
      "text/plain": [
       "<IPython.core.display.HTML object>"
      ]
     },
     "metadata": {},
     "output_type": "display_data"
    },
    {
     "data": {
      "text/html": [
       "\n",
       "        <div id=\"Lirf8eh2aBp2DYs7Vf3FEq\"></div>\n",
       "        <script>netpixi.call('Lirf8eh2aBp2DYs7Vf3FEq', 'WTYRJsj4HGRjG4BeySs9Gy', 'changeGraph', 'eyJpZCI6ICJQaGlsaXBwaW5lcyIsICJ0eXBlIjogInZlcnRleCIsICJwcm9wcyI6IHsiY29sb3IiOiA2NTI4MH19Cg==');</script>\n",
       "    "
      ],
      "text/plain": [
       "<IPython.core.display.HTML object>"
      ]
     },
     "metadata": {},
     "output_type": "display_data"
    },
    {
     "data": {
      "text/html": [
       "\n",
       "        <div id=\"MoXoY8Kk7ZtVALQCA6kxAq\"></div>\n",
       "        <script>netpixi.call('MoXoY8Kk7ZtVALQCA6kxAq', 'WTYRJsj4HGRjG4BeySs9Gy', 'changeGraph', 'eyJpZCI6ICJLeXJneXpzdGFuIiwgInR5cGUiOiAidmVydGV4IiwgInByb3BzIjogeyJjb2xvciI6IDY1MjgwfX0K');</script>\n",
       "    "
      ],
      "text/plain": [
       "<IPython.core.display.HTML object>"
      ]
     },
     "metadata": {},
     "output_type": "display_data"
    },
    {
     "data": {
      "text/html": [
       "\n",
       "        <div id=\"N6yutkwyRRNp96PirvpTYV\"></div>\n",
       "        <script>netpixi.call('N6yutkwyRRNp96PirvpTYV', 'WTYRJsj4HGRjG4BeySs9Gy', 'changeGraph', 'eyJpZCI6ICJTd2l0emVybGFuZCIsICJ0eXBlIjogInZlcnRleCIsICJwcm9wcyI6IHsiY29sb3IiOiAxNjcxMTY4MH19Cg==');</script>\n",
       "    "
      ],
      "text/plain": [
       "<IPython.core.display.HTML object>"
      ]
     },
     "metadata": {},
     "output_type": "display_data"
    },
    {
     "data": {
      "text/html": [
       "\n",
       "        <div id=\"drztXgzPeUWVWwrGFFpQEz\"></div>\n",
       "        <script>netpixi.call('drztXgzPeUWVWwrGFFpQEz', 'WTYRJsj4HGRjG4BeySs9Gy', 'changeGraph', 'eyJpZCI6ICJBbmd1aWxsYSIsICJ0eXBlIjogInZlcnRleCIsICJwcm9wcyI6IHsiY29sb3IiOiA2NTI4MH19Cg==');</script>\n",
       "    "
      ],
      "text/plain": [
       "<IPython.core.display.HTML object>"
      ]
     },
     "metadata": {},
     "output_type": "display_data"
    },
    {
     "data": {
      "text/html": [
       "\n",
       "        <div id=\"Feb7FqmsHwrHZz8QGLaKLk\"></div>\n",
       "        <script>netpixi.call('Feb7FqmsHwrHZz8QGLaKLk', 'WTYRJsj4HGRjG4BeySs9Gy', 'changeGraph', 'eyJpZCI6ICJMZXNvdGhvIiwgInR5cGUiOiAidmVydGV4IiwgInByb3BzIjogeyJjb2xvciI6IDY1MjgwfX0K');</script>\n",
       "    "
      ],
      "text/plain": [
       "<IPython.core.display.HTML object>"
      ]
     },
     "metadata": {},
     "output_type": "display_data"
    },
    {
     "data": {
      "text/html": [
       "\n",
       "        <div id=\"8NXfvnH3Vgxv3r8nP97naQ\"></div>\n",
       "        <script>netpixi.call('8NXfvnH3Vgxv3r8nP97naQ', 'WTYRJsj4HGRjG4BeySs9Gy', 'changeGraph', 'eyJpZCI6ICJFc3RvbmlhIiwgInR5cGUiOiAidmVydGV4IiwgInByb3BzIjogeyJjb2xvciI6IDY1MjgwfX0K');</script>\n",
       "    "
      ],
      "text/plain": [
       "<IPython.core.display.HTML object>"
      ]
     },
     "metadata": {},
     "output_type": "display_data"
    },
    {
     "data": {
      "text/html": [
       "\n",
       "        <div id=\"YZvJ9VGvaLuRHaqSugNdne\"></div>\n",
       "        <script>netpixi.call('YZvJ9VGvaLuRHaqSugNdne', 'WTYRJsj4HGRjG4BeySs9Gy', 'changeGraph', 'eyJpZCI6ICJTcmkgTGFua2EiLCAidHlwZSI6ICJ2ZXJ0ZXgiLCAicHJvcHMiOiB7ImNvbG9yIjogNjUyODB9fQo=');</script>\n",
       "    "
      ],
      "text/plain": [
       "<IPython.core.display.HTML object>"
      ]
     },
     "metadata": {},
     "output_type": "display_data"
    },
    {
     "data": {
      "text/html": [
       "\n",
       "        <div id=\"MYPAjt8vNAiNfewoQgqG2H\"></div>\n",
       "        <script>netpixi.call('MYPAjt8vNAiNfewoQgqG2H', 'WTYRJsj4HGRjG4BeySs9Gy', 'changeGraph', 'eyJpZCI6ICJTbG92YWtpYSIsICJ0eXBlIjogInZlcnRleCIsICJwcm9wcyI6IHsiY29sb3IiOiAxNjcxMTY4MH19Cg==');</script>\n",
       "    "
      ],
      "text/plain": [
       "<IPython.core.display.HTML object>"
      ]
     },
     "metadata": {},
     "output_type": "display_data"
    },
    {
     "data": {
      "text/html": [
       "\n",
       "        <div id=\"g4vVqAs286ZEqfEZcBRUNe\"></div>\n",
       "        <script>netpixi.call('g4vVqAs286ZEqfEZcBRUNe', 'WTYRJsj4HGRjG4BeySs9Gy', 'changeGraph', 'eyJpZCI6ICJNb3phbWJpcXVlIiwgInR5cGUiOiAidmVydGV4IiwgInByb3BzIjogeyJjb2xvciI6IDE2NzExNjgwfX0K');</script>\n",
       "    "
      ],
      "text/plain": [
       "<IPython.core.display.HTML object>"
      ]
     },
     "metadata": {},
     "output_type": "display_data"
    },
    {
     "data": {
      "text/html": [
       "\n",
       "        <div id=\"fTazvRf4wBysjkepH6ssWK\"></div>\n",
       "        <script>netpixi.call('fTazvRf4wBysjkepH6ssWK', 'WTYRJsj4HGRjG4BeySs9Gy', 'changeGraph', 'eyJpZCI6ICJOaWdlcmlhIiwgInR5cGUiOiAidmVydGV4IiwgInByb3BzIjogeyJjb2xvciI6IDE2NzExNjgwfX0K');</script>\n",
       "    "
      ],
      "text/plain": [
       "<IPython.core.display.HTML object>"
      ]
     },
     "metadata": {},
     "output_type": "display_data"
    },
    {
     "data": {
      "text/html": [
       "\n",
       "        <div id=\"TqARULk5eegFBWUe2Mc6bz\"></div>\n",
       "        <script>netpixi.call('TqARULk5eegFBWUe2Mc6bz', 'WTYRJsj4HGRjG4BeySs9Gy', 'changeGraph', 'eyJpZCI6ICJCZWxhcnVzIiwgInR5cGUiOiAidmVydGV4IiwgInByb3BzIjogeyJjb2xvciI6IDE2NzExNjgwfX0K');</script>\n",
       "    "
      ],
      "text/plain": [
       "<IPython.core.display.HTML object>"
      ]
     },
     "metadata": {},
     "output_type": "display_data"
    },
    {
     "data": {
      "text/html": [
       "\n",
       "        <div id=\"Ksv3VGp3aChvmvpViUu7pg\"></div>\n",
       "        <script>netpixi.call('Ksv3VGp3aChvmvpViUu7pg', 'WTYRJsj4HGRjG4BeySs9Gy', 'changeGraph', 'eyJpZCI6ICJVbml0ZWQgUmVwLiBvZiBUYW56YW5pYSIsICJ0eXBlIjogInZlcnRleCIsICJwcm9wcyI6IHsiY29sb3IiOiA2NTI4MH19Cg==');</script>\n",
       "    "
      ],
      "text/plain": [
       "<IPython.core.display.HTML object>"
      ]
     },
     "metadata": {},
     "output_type": "display_data"
    },
    {
     "data": {
      "text/html": [
       "\n",
       "        <div id=\"7LJRzEw3iW5cVEPx7sh59m\"></div>\n",
       "        <script>netpixi.call('7LJRzEw3iW5cVEPx7sh59m', 'WTYRJsj4HGRjG4BeySs9Gy', 'changeGraph', 'eyJpZCI6ICJCaHV0YW4iLCAidHlwZSI6ICJ2ZXJ0ZXgiLCAicHJvcHMiOiB7ImNvbG9yIjogNjUyODB9fQo=');</script>\n",
       "    "
      ],
      "text/plain": [
       "<IPython.core.display.HTML object>"
      ]
     },
     "metadata": {},
     "output_type": "display_data"
    },
    {
     "data": {
      "text/html": [
       "\n",
       "        <div id=\"J3yYUE7ZkCCP3VMzB4n5PE\"></div>\n",
       "        <script>netpixi.call('J3yYUE7ZkCCP3VMzB4n5PE', 'WTYRJsj4HGRjG4BeySs9Gy', 'changeGraph', 'eyJpZCI6ICJTd2VkZW4iLCAidHlwZSI6ICJ2ZXJ0ZXgiLCAicHJvcHMiOiB7ImNvbG9yIjogMTY3MTE2ODB9fQo=');</script>\n",
       "    "
      ],
      "text/plain": [
       "<IPython.core.display.HTML object>"
      ]
     },
     "metadata": {},
     "output_type": "display_data"
    },
    {
     "data": {
      "text/html": [
       "\n",
       "        <div id=\"LVmKozQcycTBZTJzJ3zXX6\"></div>\n",
       "        <script>netpixi.call('LVmKozQcycTBZTJzJ3zXX6', 'WTYRJsj4HGRjG4BeySs9Gy', 'changeGraph', 'eyJpZCI6ICJHaWJyYWx0YXIiLCAidHlwZSI6ICJ2ZXJ0ZXgiLCAicHJvcHMiOiB7ImNvbG9yIjogNjUyODB9fQo=');</script>\n",
       "    "
      ],
      "text/plain": [
       "<IPython.core.display.HTML object>"
      ]
     },
     "metadata": {},
     "output_type": "display_data"
    },
    {
     "data": {
      "text/html": [
       "\n",
       "        <div id=\"8ZWVJbrbh2AKBhsWopZGwb\"></div>\n",
       "        <script>netpixi.call('8ZWVJbrbh2AKBhsWopZGwb', 'WTYRJsj4HGRjG4BeySs9Gy', 'changeGraph', 'eyJpZCI6ICJOZXcgQ2FsZWRvbmlhIiwgInR5cGUiOiAidmVydGV4IiwgInByb3BzIjogeyJjb2xvciI6IDY1MjgwfX0K');</script>\n",
       "    "
      ],
      "text/plain": [
       "<IPython.core.display.HTML object>"
      ]
     },
     "metadata": {},
     "output_type": "display_data"
    },
    {
     "data": {
      "text/html": [
       "\n",
       "        <div id=\"DisBq2s6HxoPgJBKq7fRGx\"></div>\n",
       "        <script>netpixi.call('DisBq2s6HxoPgJBKq7fRGx', 'WTYRJsj4HGRjG4BeySs9Gy', 'changeGraph', 'eyJpZCI6ICJQZXJ1IiwgInR5cGUiOiAidmVydGV4IiwgInByb3BzIjogeyJjb2xvciI6IDY1MjgwfX0K');</script>\n",
       "    "
      ],
      "text/plain": [
       "<IPython.core.display.HTML object>"
      ]
     },
     "metadata": {},
     "output_type": "display_data"
    },
    {
     "data": {
      "text/html": [
       "\n",
       "        <div id=\"ii3rScBWzPxWJKDHVFRijH\"></div>\n",
       "        <script>netpixi.call('ii3rScBWzPxWJKDHVFRijH', 'WTYRJsj4HGRjG4BeySs9Gy', 'changeGraph', 'eyJpZCI6ICJGcmVuY2ggR3VpYW5hIiwgInR5cGUiOiAidmVydGV4IiwgInByb3BzIjogeyJjb2xvciI6IDY1MjgwfX0K');</script>\n",
       "    "
      ],
      "text/plain": [
       "<IPython.core.display.HTML object>"
      ]
     },
     "metadata": {},
     "output_type": "display_data"
    },
    {
     "data": {
      "text/html": [
       "\n",
       "        <div id=\"hPyzMArPWnYdihLks28Uby\"></div>\n",
       "        <script>netpixi.call('hPyzMArPWnYdihLks28Uby', 'WTYRJsj4HGRjG4BeySs9Gy', 'changeGraph', 'eyJpZCI6ICJTdmFsYmFyZCBhbmQgSmFuIE1heWVuIiwgInR5cGUiOiAidmVydGV4IiwgInByb3BzIjogeyJjb2xvciI6IDY1MjgwfX0K');</script>\n",
       "    "
      ],
      "text/plain": [
       "<IPython.core.display.HTML object>"
      ]
     },
     "metadata": {},
     "output_type": "display_data"
    },
    {
     "data": {
      "text/html": [
       "\n",
       "        <div id=\"CzTDE46GUVEE8w4yqz6iXW\"></div>\n",
       "        <script>netpixi.call('CzTDE46GUVEE8w4yqz6iXW', 'WTYRJsj4HGRjG4BeySs9Gy', 'changeGraph', 'eyJpZCI6ICJJc3JhZWwiLCAidHlwZSI6ICJ2ZXJ0ZXgiLCAicHJvcHMiOiB7ImNvbG9yIjogMTY3MTE2ODB9fQo=');</script>\n",
       "    "
      ],
      "text/plain": [
       "<IPython.core.display.HTML object>"
      ]
     },
     "metadata": {},
     "output_type": "display_data"
    },
    {
     "data": {
      "text/html": [
       "\n",
       "        <div id=\"KnHTLD6gQETjGSmLkDUivg\"></div>\n",
       "        <script>netpixi.call('KnHTLD6gQETjGSmLkDUivg', 'WTYRJsj4HGRjG4BeySs9Gy', 'changeGraph', 'eyJpZCI6ICJCdXJ1bmRpIiwgInR5cGUiOiAidmVydGV4IiwgInByb3BzIjogeyJjb2xvciI6IDY1MjgwfX0K');</script>\n",
       "    "
      ],
      "text/plain": [
       "<IPython.core.display.HTML object>"
      ]
     },
     "metadata": {},
     "output_type": "display_data"
    },
    {
     "data": {
      "text/html": [
       "\n",
       "        <div id=\"nJD9RDArMix4zNnybW5aaz\"></div>\n",
       "        <script>netpixi.call('nJD9RDArMix4zNnybW5aaz', 'WTYRJsj4HGRjG4BeySs9Gy', 'changeGraph', 'eyJpZCI6ICJTYWludC1QaWVycmUtZXQtTWlxdWVsb24iLCAidHlwZSI6ICJ2ZXJ0ZXgiLCAicHJvcHMiOiB7ImNvbG9yIjogNjUyODB9fQo=');</script>\n",
       "    "
      ],
      "text/plain": [
       "<IPython.core.display.HTML object>"
      ]
     },
     "metadata": {},
     "output_type": "display_data"
    },
    {
     "data": {
      "text/html": [
       "\n",
       "        <div id=\"69MPqmFahubiy6WzDiguGe\"></div>\n",
       "        <script>netpixi.call('69MPqmFahubiy6WzDiguGe', 'WTYRJsj4HGRjG4BeySs9Gy', 'changeGraph', 'eyJpZCI6ICJMZWJhbm9uIiwgInR5cGUiOiAidmVydGV4IiwgInByb3BzIjogeyJjb2xvciI6IDE2NzExNjgwfX0K');</script>\n",
       "    "
      ],
      "text/plain": [
       "<IPython.core.display.HTML object>"
      ]
     },
     "metadata": {},
     "output_type": "display_data"
    },
    {
     "data": {
      "text/html": [
       "\n",
       "        <div id=\"9cpcCscU7hxc3o8FYEc7U5\"></div>\n",
       "        <script>netpixi.call('9cpcCscU7hxc3o8FYEc7U5', 'WTYRJsj4HGRjG4BeySs9Gy', 'changeGraph', 'eyJpZCI6ICJQYWxlc3RpbmlhbiIsICJ0eXBlIjogInZlcnRleCIsICJwcm9wcyI6IHsiY29sb3IiOiA2NTI4MH19Cg==');</script>\n",
       "    "
      ],
      "text/plain": [
       "<IPython.core.display.HTML object>"
      ]
     },
     "metadata": {},
     "output_type": "display_data"
    },
    {
     "data": {
      "text/html": [
       "\n",
       "        <div id=\"M6jsg8xmuQZfJiFu5ZpHQD\"></div>\n",
       "        <script>netpixi.call('M6jsg8xmuQZfJiFu5ZpHQD', 'WTYRJsj4HGRjG4BeySs9Gy', 'changeGraph', 'eyJpZCI6ICJHaGFuYSIsICJ0eXBlIjogInZlcnRleCIsICJwcm9wcyI6IHsiY29sb3IiOiAxNjcxMTY4MH19Cg==');</script>\n",
       "    "
      ],
      "text/plain": [
       "<IPython.core.display.HTML object>"
      ]
     },
     "metadata": {},
     "output_type": "display_data"
    },
    {
     "data": {
      "text/html": [
       "\n",
       "        <div id=\"PbgJhTzbefFq8hDbg4fisr\"></div>\n",
       "        <script>netpixi.call('PbgJhTzbefFq8hDbg4fisr', 'WTYRJsj4HGRjG4BeySs9Gy', 'changeGraph', 'eyJpZCI6ICJTbG92ZW5pYSIsICJ0eXBlIjogInZlcnRleCIsICJwcm9wcyI6IHsiY29sb3IiOiAxNjcxMTY4MH19Cg==');</script>\n",
       "    "
      ],
      "text/plain": [
       "<IPython.core.display.HTML object>"
      ]
     },
     "metadata": {},
     "output_type": "display_data"
    },
    {
     "data": {
      "text/html": [
       "\n",
       "        <div id=\"XfKCSiTC2F3ZYc6AUJDHyE\"></div>\n",
       "        <script>netpixi.call('XfKCSiTC2F3ZYc6AUJDHyE', 'WTYRJsj4HGRjG4BeySs9Gy', 'changeGraph', 'eyJpZCI6ICJDYW1lcm9vbiIsICJ0eXBlIjogInZlcnRleCIsICJwcm9wcyI6IHsiY29sb3IiOiA2NTI4MH19Cg==');</script>\n",
       "    "
      ],
      "text/plain": [
       "<IPython.core.display.HTML object>"
      ]
     },
     "metadata": {},
     "output_type": "display_data"
    },
    {
     "data": {
      "text/html": [
       "\n",
       "        <div id=\"gzsvUtJbqnYpurDXU6hprk\"></div>\n",
       "        <script>netpixi.call('gzsvUtJbqnYpurDXU6hprk', 'WTYRJsj4HGRjG4BeySs9Gy', 'changeGraph', 'eyJpZCI6ICJHdWluZWEtQmlzc2F1IiwgInR5cGUiOiAidmVydGV4IiwgInByb3BzIjogeyJjb2xvciI6IDY1MjgwfX0K');</script>\n",
       "    "
      ],
      "text/plain": [
       "<IPython.core.display.HTML object>"
      ]
     },
     "metadata": {},
     "output_type": "display_data"
    },
    {
     "data": {
      "text/html": [
       "\n",
       "        <div id=\"4LkijhdtkHNUUmmoUcksu3\"></div>\n",
       "        <script>netpixi.call('4LkijhdtkHNUUmmoUcksu3', 'WTYRJsj4HGRjG4BeySs9Gy', 'changeGraph', 'eyJpZCI6ICJQYXB1YSBOZXcgR3VpbmVhIiwgInR5cGUiOiAidmVydGV4IiwgInByb3BzIjogeyJjb2xvciI6IDY1MjgwfX0K');</script>\n",
       "    "
      ],
      "text/plain": [
       "<IPython.core.display.HTML object>"
      ]
     },
     "metadata": {},
     "output_type": "display_data"
    },
    {
     "data": {
      "text/html": [
       "\n",
       "        <div id=\"e2vKobPJwtwPBFXMHVzdFE\"></div>\n",
       "        <script>netpixi.call('e2vKobPJwtwPBFXMHVzdFE', 'WTYRJsj4HGRjG4BeySs9Gy', 'changeGraph', 'eyJpZCI6ICJSd2FuZGEiLCAidHlwZSI6ICJ2ZXJ0ZXgiLCAicHJvcHMiOiB7ImNvbG9yIjogNjUyODB9fQo=');</script>\n",
       "    "
      ],
      "text/plain": [
       "<IPython.core.display.HTML object>"
      ]
     },
     "metadata": {},
     "output_type": "display_data"
    },
    {
     "data": {
      "text/html": [
       "\n",
       "        <div id=\"fCBvSd2TvNqVZML4Y7nHfF\"></div>\n",
       "        <script>netpixi.call('fCBvSd2TvNqVZML4Y7nHfF', 'WTYRJsj4HGRjG4BeySs9Gy', 'changeGraph', 'eyJpZCI6ICJPbWFuIiwgInR5cGUiOiAidmVydGV4IiwgInByb3BzIjogeyJjb2xvciI6IDY1MjgwfX0K');</script>\n",
       "    "
      ],
      "text/plain": [
       "<IPython.core.display.HTML object>"
      ]
     },
     "metadata": {},
     "output_type": "display_data"
    },
    {
     "data": {
      "text/html": [
       "\n",
       "        <div id=\"UhHyd8E8jvLRRcS62rsQZx\"></div>\n",
       "        <script>netpixi.call('UhHyd8E8jvLRRcS62rsQZx', 'WTYRJsj4HGRjG4BeySs9Gy', 'changeGraph', 'eyJpZCI6ICJEb21pbmljYW4gUmVwLiIsICJ0eXBlIjogInZlcnRleCIsICJwcm9wcyI6IHsiY29sb3IiOiA2NTI4MH19Cg==');</script>\n",
       "    "
      ],
      "text/plain": [
       "<IPython.core.display.HTML object>"
      ]
     },
     "metadata": {},
     "output_type": "display_data"
    },
    {
     "data": {
      "text/html": [
       "\n",
       "        <div id=\"T6dp24cc2iooyyTbX4VCfJ\"></div>\n",
       "        <script>netpixi.call('T6dp24cc2iooyyTbX4VCfJ', 'WTYRJsj4HGRjG4BeySs9Gy', 'changeGraph', 'eyJpZCI6ICJOYW1pYmlhIiwgInR5cGUiOiAidmVydGV4IiwgInByb3BzIjogeyJjb2xvciI6IDY1MjgwfX0K');</script>\n",
       "    "
      ],
      "text/plain": [
       "<IPython.core.display.HTML object>"
      ]
     },
     "metadata": {},
     "output_type": "display_data"
    },
    {
     "data": {
      "text/html": [
       "\n",
       "        <div id=\"Ux4uhXWRE8Dm3ZQyBpyZpG\"></div>\n",
       "        <script>netpixi.call('Ux4uhXWRE8Dm3ZQyBpyZpG', 'WTYRJsj4HGRjG4BeySs9Gy', 'changeGraph', 'eyJpZCI6ICJVemJla2lzdGFuIiwgInR5cGUiOiAidmVydGV4IiwgInByb3BzIjogeyJjb2xvciI6IDY1MjgwfX0K');</script>\n",
       "    "
      ],
      "text/plain": [
       "<IPython.core.display.HTML object>"
      ]
     },
     "metadata": {},
     "output_type": "display_data"
    },
    {
     "data": {
      "text/html": [
       "\n",
       "        <div id=\"QPRgxwXuyzC5jysLsohhfi\"></div>\n",
       "        <script>netpixi.call('QPRgxwXuyzC5jysLsohhfi', 'WTYRJsj4HGRjG4BeySs9Gy', 'changeGraph', 'eyJpZCI6ICJDdWJhIiwgInR5cGUiOiAidmVydGV4IiwgInByb3BzIjogeyJjb2xvciI6IDE2NzExNjgwfX0K');</script>\n",
       "    "
      ],
      "text/plain": [
       "<IPython.core.display.HTML object>"
      ]
     },
     "metadata": {},
     "output_type": "display_data"
    },
    {
     "data": {
      "text/html": [
       "\n",
       "        <div id=\"WoGr6DgEWhmFfYLZwmEVPf\"></div>\n",
       "        <script>netpixi.call('WoGr6DgEWhmFfYLZwmEVPf', 'WTYRJsj4HGRjG4BeySs9Gy', 'changeGraph', 'eyJpZCI6ICJIYWl0aSIsICJ0eXBlIjogInZlcnRleCIsICJwcm9wcyI6IHsiY29sb3IiOiA2NTI4MH19Cg==');</script>\n",
       "    "
      ],
      "text/plain": [
       "<IPython.core.display.HTML object>"
      ]
     },
     "metadata": {},
     "output_type": "display_data"
    },
    {
     "data": {
      "text/html": [
       "\n",
       "        <div id=\"6uUfaDvhjygFxExFq4SRvA\"></div>\n",
       "        <script>netpixi.call('6uUfaDvhjygFxExFq4SRvA', 'WTYRJsj4HGRjG4BeySs9Gy', 'changeGraph', 'eyJpZCI6ICJDZW50cmFsIEFmcmljYW4gUmVwLiIsICJ0eXBlIjogInZlcnRleCIsICJwcm9wcyI6IHsiY29sb3IiOiA2NTI4MH19Cg==');</script>\n",
       "    "
      ],
      "text/plain": [
       "<IPython.core.display.HTML object>"
      ]
     },
     "metadata": {},
     "output_type": "display_data"
    },
    {
     "data": {
      "text/html": [
       "\n",
       "        <div id=\"BDh3SV4kff3wCexZi2v9Kn\"></div>\n",
       "        <script>netpixi.call('BDh3SV4kff3wCexZi2v9Kn', 'WTYRJsj4HGRjG4BeySs9Gy', 'changeGraph', 'eyJpZCI6ICJVa3JhaW5lIiwgInR5cGUiOiAidmVydGV4IiwgInByb3BzIjogeyJjb2xvciI6IDE2NzExNjgwfX0K');</script>\n",
       "    "
      ],
      "text/plain": [
       "<IPython.core.display.HTML object>"
      ]
     },
     "metadata": {},
     "output_type": "display_data"
    },
    {
     "data": {
      "text/html": [
       "\n",
       "        <div id=\"NWQ9n4VUgSiwSQ8HuU5d2Q\"></div>\n",
       "        <script>netpixi.call('NWQ9n4VUgSiwSQ8HuU5d2Q', 'WTYRJsj4HGRjG4BeySs9Gy', 'changeGraph', 'eyJpZCI6ICJHYW1iaWEiLCAidHlwZSI6ICJ2ZXJ0ZXgiLCAicHJvcHMiOiB7ImNvbG9yIjogNjUyODB9fQo=');</script>\n",
       "    "
      ],
      "text/plain": [
       "<IPython.core.display.HTML object>"
      ]
     },
     "metadata": {},
     "output_type": "display_data"
    },
    {
     "data": {
      "text/html": [
       "\n",
       "        <div id=\"DDr3dmPqHKt6dZzSuQGo6R\"></div>\n",
       "        <script>netpixi.call('DDr3dmPqHKt6dZzSuQGo6R', 'WTYRJsj4HGRjG4BeySs9Gy', 'changeGraph', 'eyJpZCI6ICJNb25nb2xpYSIsICJ0eXBlIjogInZlcnRleCIsICJwcm9wcyI6IHsiY29sb3IiOiA2NTI4MH19Cg==');</script>\n",
       "    "
      ],
      "text/plain": [
       "<IPython.core.display.HTML object>"
      ]
     },
     "metadata": {},
     "output_type": "display_data"
    },
    {
     "data": {
      "text/html": [
       "\n",
       "        <div id=\"YArzec6JCvMSTHHQnHATC4\"></div>\n",
       "        <script>netpixi.call('YArzec6JCvMSTHHQnHATC4', 'WTYRJsj4HGRjG4BeySs9Gy', 'changeGraph', 'eyJpZCI6ICJCZXJtdWRhIiwgInR5cGUiOiAidmVydGV4IiwgInByb3BzIjogeyJjb2xvciI6IDY1MjgwfX0K');</script>\n",
       "    "
      ],
      "text/plain": [
       "<IPython.core.display.HTML object>"
      ]
     },
     "metadata": {},
     "output_type": "display_data"
    },
    {
     "data": {
      "text/html": [
       "\n",
       "        <div id=\"7nrR85SAuf8VL9WEbQ8UAu\"></div>\n",
       "        <script>netpixi.call('7nrR85SAuf8VL9WEbQ8UAu', 'WTYRJsj4HGRjG4BeySs9Gy', 'changeGraph', 'eyJpZCI6ICJGaW5sYW5kIiwgInR5cGUiOiAidmVydGV4IiwgInByb3BzIjogeyJjb2xvciI6IDE2NzExNjgwfX0K');</script>\n",
       "    "
      ],
      "text/plain": [
       "<IPython.core.display.HTML object>"
      ]
     },
     "metadata": {},
     "output_type": "display_data"
    },
    {
     "data": {
      "text/html": [
       "\n",
       "        <div id=\"nRSbuubvCkoX3YGY2TKfHT\"></div>\n",
       "        <script>netpixi.call('nRSbuubvCkoX3YGY2TKfHT', 'WTYRJsj4HGRjG4BeySs9Gy', 'changeGraph', 'eyJpZCI6ICJNaWNyb25lc2lhIChGZWRlcmF0ZWQgU3RhdGVzIG9mKSIsICJ0eXBlIjogInZlcnRleCIsICJwcm9wcyI6IHsiY29sb3IiOiA2NTI4MH19Cg==');</script>\n",
       "    "
      ],
      "text/plain": [
       "<IPython.core.display.HTML object>"
      ]
     },
     "metadata": {},
     "output_type": "display_data"
    },
    {
     "data": {
      "text/html": [
       "\n",
       "        <div id=\"gvBuLh4oG3TNNdRjjrau6d\"></div>\n",
       "        <script>netpixi.call('gvBuLh4oG3TNNdRjjrau6d', 'WTYRJsj4HGRjG4BeySs9Gy', 'changeGraph', 'eyJpZCI6ICJHdWluZWEiLCAidHlwZSI6ICJ2ZXJ0ZXgiLCAicHJvcHMiOiB7ImNvbG9yIjogNjUyODB9fQo=');</script>\n",
       "    "
      ],
      "text/plain": [
       "<IPython.core.display.HTML object>"
      ]
     },
     "metadata": {},
     "output_type": "display_data"
    },
    {
     "data": {
      "text/html": [
       "\n",
       "        <div id=\"SBiAN6ckQbApkJfM62DAEy\"></div>\n",
       "        <script>netpixi.call('SBiAN6ckQbApkJfM62DAEy', 'WTYRJsj4HGRjG4BeySs9Gy', 'changeGraph', 'eyJpZCI6ICJTb3V0aCBBZnJpY2EiLCAidHlwZSI6ICJ2ZXJ0ZXgiLCAicHJvcHMiOiB7ImNvbG9yIjogMTY3MTE2ODB9fQo=');</script>\n",
       "    "
      ],
      "text/plain": [
       "<IPython.core.display.HTML object>"
      ]
     },
     "metadata": {},
     "output_type": "display_data"
    },
    {
     "data": {
      "text/html": [
       "\n",
       "        <div id=\"iEqzC5JT6pjzqXdSe7aSGL\"></div>\n",
       "        <script>netpixi.call('iEqzC5JT6pjzqXdSe7aSGL', 'WTYRJsj4HGRjG4BeySs9Gy', 'changeGraph', 'eyJpZCI6ICJQb3J0dWdhbCIsICJ0eXBlIjogInZlcnRleCIsICJwcm9wcyI6IHsiY29sb3IiOiAxNjcxMTY4MH19Cg==');</script>\n",
       "    "
      ],
      "text/plain": [
       "<IPython.core.display.HTML object>"
      ]
     },
     "metadata": {},
     "output_type": "display_data"
    },
    {
     "data": {
      "text/html": [
       "\n",
       "        <div id=\"MeRhqcvZMexKZDL8CFbrvB\"></div>\n",
       "        <script>netpixi.call('MeRhqcvZMexKZDL8CFbrvB', 'WTYRJsj4HGRjG4BeySs9Gy', 'changeGraph', 'eyJpZCI6ICJJdGFseSIsICJ0eXBlIjogInZlcnRleCIsICJwcm9wcyI6IHsiY29sb3IiOiAxNjcxMTY4MH19Cg==');</script>\n",
       "    "
      ],
      "text/plain": [
       "<IPython.core.display.HTML object>"
      ]
     },
     "metadata": {},
     "output_type": "display_data"
    },
    {
     "data": {
      "text/html": [
       "\n",
       "        <div id=\"3i7QzfaiKLJERdsTkL9TQB\"></div>\n",
       "        <script>netpixi.call('3i7QzfaiKLJERdsTkL9TQB', 'WTYRJsj4HGRjG4BeySs9Gy', 'changeGraph', 'eyJpZCI6ICJDaGluYSwgTWFjYW8gU0FSIiwgInR5cGUiOiAidmVydGV4IiwgInByb3BzIjogeyJjb2xvciI6IDY1MjgwfX0K');</script>\n",
       "    "
      ],
      "text/plain": [
       "<IPython.core.display.HTML object>"
      ]
     },
     "metadata": {},
     "output_type": "display_data"
    },
    {
     "data": {
      "text/html": [
       "\n",
       "        <div id=\"HS8MzcwxFNNpuD8k5W9tq2\"></div>\n",
       "        <script>netpixi.call('HS8MzcwxFNNpuD8k5W9tq2', 'WTYRJsj4HGRjG4BeySs9Gy', 'changeGraph', 'eyJpZCI6ICJDb21vcm9zIiwgInR5cGUiOiAidmVydGV4IiwgInByb3BzIjogeyJjb2xvciI6IDY1MjgwfX0K');</script>\n",
       "    "
      ],
      "text/plain": [
       "<IPython.core.display.HTML object>"
      ]
     },
     "metadata": {},
     "output_type": "display_data"
    },
    {
     "data": {
      "text/html": [
       "\n",
       "        <div id=\"JZkE4sE3ztNQP8dReDMWuR\"></div>\n",
       "        <script>netpixi.call('JZkE4sE3ztNQP8dReDMWuR', 'WTYRJsj4HGRjG4BeySs9Gy', 'changeGraph', 'eyJpZCI6ICJQYWtpc3RhbiIsICJ0eXBlIjogInZlcnRleCIsICJwcm9wcyI6IHsiY29sb3IiOiAxNjcxMTY4MH19Cg==');</script>\n",
       "    "
      ],
      "text/plain": [
       "<IPython.core.display.HTML object>"
      ]
     },
     "metadata": {},
     "output_type": "display_data"
    },
    {
     "data": {
      "text/html": [
       "\n",
       "        <div id=\"UZ5AmYGYmk5o7gWGZn9ZMk\"></div>\n",
       "        <script>netpixi.call('UZ5AmYGYmk5o7gWGZn9ZMk', 'WTYRJsj4HGRjG4BeySs9Gy', 'changeGraph', 'eyJpZCI6ICJEamlib3V0aSIsICJ0eXBlIjogInZlcnRleCIsICJwcm9wcyI6IHsiY29sb3IiOiA2NTI4MH19Cg==');</script>\n",
       "    "
      ],
      "text/plain": [
       "<IPython.core.display.HTML object>"
      ]
     },
     "metadata": {},
     "output_type": "display_data"
    },
    {
     "data": {
      "text/html": [
       "\n",
       "        <div id=\"TaKohytGy3BULtvXksayrn\"></div>\n",
       "        <script>netpixi.call('TaKohytGy3BULtvXksayrn', 'WTYRJsj4HGRjG4BeySs9Gy', 'changeGraph', 'eyJpZCI6ICJCYWhyYWluIiwgInR5cGUiOiAidmVydGV4IiwgInByb3BzIjogeyJjb2xvciI6IDY1MjgwfX0K');</script>\n",
       "    "
      ],
      "text/plain": [
       "<IPython.core.display.HTML object>"
      ]
     },
     "metadata": {},
     "output_type": "display_data"
    },
    {
     "data": {
      "text/html": [
       "\n",
       "        <div id=\"GhW4M5vAcT58N98yK6Za8m\"></div>\n",
       "        <script>netpixi.call('GhW4M5vAcT58N98yK6Za8m', 'WTYRJsj4HGRjG4BeySs9Gy', 'changeGraph', 'eyJpZCI6ICJKYXBhbiIsICJ0eXBlIjogInZlcnRleCIsICJwcm9wcyI6IHsiY29sb3IiOiAxNjcxMTY4MH19Cg==');</script>\n",
       "    "
      ],
      "text/plain": [
       "<IPython.core.display.HTML object>"
      ]
     },
     "metadata": {},
     "output_type": "display_data"
    },
    {
     "data": {
      "text/html": [
       "\n",
       "        <div id=\"ZqtVqTv5jwya2S9KKHWKnA\"></div>\n",
       "        <script>netpixi.call('ZqtVqTv5jwya2S9KKHWKnA', 'WTYRJsj4HGRjG4BeySs9Gy', 'changeGraph', 'eyJpZCI6ICJDYXltYW4gSXNsYW5kcyIsICJ0eXBlIjogInZlcnRleCIsICJwcm9wcyI6IHsiY29sb3IiOiA2NTI4MH19Cg==');</script>\n",
       "    "
      ],
      "text/plain": [
       "<IPython.core.display.HTML object>"
      ]
     },
     "metadata": {},
     "output_type": "display_data"
    },
    {
     "data": {
      "text/html": [
       "\n",
       "        <div id=\"Hmffn8UZu4QbxUkHGDBFPC\"></div>\n",
       "        <script>netpixi.call('Hmffn8UZu4QbxUkHGDBFPC', 'WTYRJsj4HGRjG4BeySs9Gy', 'changeGraph', 'eyJpZCI6ICJZZW1lbiIsICJ0eXBlIjogInZlcnRleCIsICJwcm9wcyI6IHsiY29sb3IiOiA2NTI4MH19Cg==');</script>\n",
       "    "
      ],
      "text/plain": [
       "<IPython.core.display.HTML object>"
      ]
     },
     "metadata": {},
     "output_type": "display_data"
    },
    {
     "data": {
      "text/html": [
       "\n",
       "        <div id=\"EbtB9FKkjN7DUQnXcwFLbw\"></div>\n",
       "        <script>netpixi.call('EbtB9FKkjN7DUQnXcwFLbw', 'WTYRJsj4HGRjG4BeySs9Gy', 'changeGraph', 'eyJpZCI6ICJDaGluYSwgSG9uZyBLb25nIFNBUiIsICJ0eXBlIjogInZlcnRleCIsICJwcm9wcyI6IHsiY29sb3IiOiAxNjcxMTY4MH19Cg==');</script>\n",
       "    "
      ],
      "text/plain": [
       "<IPython.core.display.HTML object>"
      ]
     },
     "metadata": {},
     "output_type": "display_data"
    },
    {
     "data": {
      "text/html": [
       "\n",
       "        <div id=\"fA3Yxhg8BmrumRNJ5VmHMT\"></div>\n",
       "        <script>netpixi.call('fA3Yxhg8BmrumRNJ5VmHMT', 'WTYRJsj4HGRjG4BeySs9Gy', 'changeGraph', 'eyJpZCI6ICJTcGFpbiIsICJ0eXBlIjogInZlcnRleCIsICJwcm9wcyI6IHsiY29sb3IiOiAxNjcxMTY4MH19Cg==');</script>\n",
       "    "
      ],
      "text/plain": [
       "<IPython.core.display.HTML object>"
      ]
     },
     "metadata": {},
     "output_type": "display_data"
    },
    {
     "data": {
      "text/html": [
       "\n",
       "        <div id=\"npyjHvLfMBwSUMSwYgWRdU\"></div>\n",
       "        <script>netpixi.call('npyjHvLfMBwSUMSwYgWRdU', 'WTYRJsj4HGRjG4BeySs9Gy', 'changeGraph', 'eyJpZCI6ICJNYXVyaXRhbmlhIiwgInR5cGUiOiAidmVydGV4IiwgInByb3BzIjogeyJjb2xvciI6IDY1MjgwfX0K');</script>\n",
       "    "
      ],
      "text/plain": [
       "<IPython.core.display.HTML object>"
      ]
     },
     "metadata": {},
     "output_type": "display_data"
    },
    {
     "data": {
      "text/html": [
       "\n",
       "        <div id=\"Gs9UL6AQBV3LjgTzoQHWq5\"></div>\n",
       "        <script>netpixi.call('Gs9UL6AQBV3LjgTzoQHWq5', 'WTYRJsj4HGRjG4BeySs9Gy', 'changeGraph', 'eyJpZCI6ICJDb2xvbWJpYSIsICJ0eXBlIjogInZlcnRleCIsICJwcm9wcyI6IHsiY29sb3IiOiA2NTI4MH19Cg==');</script>\n",
       "    "
      ],
      "text/plain": [
       "<IPython.core.display.HTML object>"
      ]
     },
     "metadata": {},
     "output_type": "display_data"
    },
    {
     "data": {
      "text/html": [
       "\n",
       "        <div id=\"VKNCLxN5DHpaLgnxeaGmwb\"></div>\n",
       "        <script>netpixi.call('VKNCLxN5DHpaLgnxeaGmwb', 'WTYRJsj4HGRjG4BeySs9Gy', 'changeGraph', 'eyJpZCI6ICJUaW1vci1MZXN0ZSIsICJ0eXBlIjogInZlcnRleCIsICJwcm9wcyI6IHsiY29sb3IiOiA2NTI4MH19Cg==');</script>\n",
       "    "
      ],
      "text/plain": [
       "<IPython.core.display.HTML object>"
      ]
     },
     "metadata": {},
     "output_type": "display_data"
    },
    {
     "data": {
      "text/html": [
       "\n",
       "        <div id=\"iQ2o7eJMnoy6mKCT8Zr9A2\"></div>\n",
       "        <script>netpixi.call('iQ2o7eJMnoy6mKCT8Zr9A2', 'WTYRJsj4HGRjG4BeySs9Gy', 'changeGraph', 'eyJpZCI6ICJGcmFuY2UiLCAidHlwZSI6ICJ2ZXJ0ZXgiLCAicHJvcHMiOiB7ImNvbG9yIjogMTY3MTE2ODB9fQo=');</script>\n",
       "    "
      ],
      "text/plain": [
       "<IPython.core.display.HTML object>"
      ]
     },
     "metadata": {},
     "output_type": "display_data"
    },
    {
     "data": {
      "text/html": [
       "\n",
       "        <div id=\"fn2GkmLwPeYpK5ijxs8RJQ\"></div>\n",
       "        <script>netpixi.call('fn2GkmLwPeYpK5ijxs8RJQ', 'WTYRJsj4HGRjG4BeySs9Gy', 'changeGraph', 'eyJpZCI6ICJJcmFxIiwgInR5cGUiOiAidmVydGV4IiwgInByb3BzIjogeyJjb2xvciI6IDY1MjgwfX0K');</script>\n",
       "    "
      ],
      "text/plain": [
       "<IPython.core.display.HTML object>"
      ]
     },
     "metadata": {},
     "output_type": "display_data"
    },
    {
     "data": {
      "text/html": [
       "\n",
       "        <div id=\"QD38Sgn8HGe7vGvayqDNyA\"></div>\n",
       "        <script>netpixi.call('QD38Sgn8HGe7vGvayqDNyA', 'WTYRJsj4HGRjG4BeySs9Gy', 'changeGraph', 'eyJpZCI6ICJCYW5nbGFkZXNoIiwgInR5cGUiOiAidmVydGV4IiwgInByb3BzIjogeyJjb2xvciI6IDY1MjgwfX0K');</script>\n",
       "    "
      ],
      "text/plain": [
       "<IPython.core.display.HTML object>"
      ]
     },
     "metadata": {},
     "output_type": "display_data"
    },
    {
     "data": {
      "text/html": [
       "\n",
       "        <div id=\"8XGo8KGBH7BNMsvPXVkWii\"></div>\n",
       "        <script>netpixi.call('8XGo8KGBH7BNMsvPXVkWii', 'WTYRJsj4HGRjG4BeySs9Gy', 'changeGraph', 'eyJpZCI6ICJQYXJhZ3VheSIsICJ0eXBlIjogInZlcnRleCIsICJwcm9wcyI6IHsiY29sb3IiOiA2NTI4MH19Cg==');</script>\n",
       "    "
      ],
      "text/plain": [
       "<IPython.core.display.HTML object>"
      ]
     },
     "metadata": {},
     "output_type": "display_data"
    },
    {
     "data": {
      "text/html": [
       "\n",
       "        <div id=\"mpmNLo3BhdWnmfStDRCvk4\"></div>\n",
       "        <script>netpixi.call('mpmNLo3BhdWnmfStDRCvk4', 'WTYRJsj4HGRjG4BeySs9Gy', 'changeGraph', 'eyJpZCI6ICJJY2VsYW5kIiwgInR5cGUiOiAidmVydGV4IiwgInByb3BzIjogeyJjb2xvciI6IDE2NzExNjgwfX0K');</script>\n",
       "    "
      ],
      "text/plain": [
       "<IPython.core.display.HTML object>"
      ]
     },
     "metadata": {},
     "output_type": "display_data"
    },
    {
     "data": {
      "text/html": [
       "\n",
       "        <div id=\"cfC2sszpcoScU8nxfbs6Rx\"></div>\n",
       "        <script>netpixi.call('cfC2sszpcoScU8nxfbs6Rx', 'WTYRJsj4HGRjG4BeySs9Gy', 'changeGraph', 'eyJpZCI6ICJUb25nYSIsICJ0eXBlIjogInZlcnRleCIsICJwcm9wcyI6IHsiY29sb3IiOiA2NTI4MH19Cg==');</script>\n",
       "    "
      ],
      "text/plain": [
       "<IPython.core.display.HTML object>"
      ]
     },
     "metadata": {},
     "output_type": "display_data"
    },
    {
     "data": {
      "text/html": [
       "\n",
       "        <div id=\"TVsPdzPE85za5ZQ859K27F\"></div>\n",
       "        <script>netpixi.call('TVsPdzPE85za5ZQ859K27F', 'WTYRJsj4HGRjG4BeySs9Gy', 'changeGraph', 'eyJpZCI6ICJCcml0aXNoIFZpcmdpbiBJc2xhbmRzIiwgInR5cGUiOiAidmVydGV4IiwgInByb3BzIjogeyJjb2xvciI6IDY1MjgwfX0K');</script>\n",
       "    "
      ],
      "text/plain": [
       "<IPython.core.display.HTML object>"
      ]
     },
     "metadata": {},
     "output_type": "display_data"
    },
    {
     "data": {
      "text/html": [
       "\n",
       "        <div id=\"W5eU9HLgaL9vsXvtZgfj5g\"></div>\n",
       "        <script>netpixi.call('W5eU9HLgaL9vsXvtZgfj5g', 'WTYRJsj4HGRjG4BeySs9Gy', 'changeGraph', 'eyJpZCI6ICJMaXRodWFuaWEiLCAidHlwZSI6ICJ2ZXJ0ZXgiLCAicHJvcHMiOiB7ImNvbG9yIjogNjUyODB9fQo=');</script>\n",
       "    "
      ],
      "text/plain": [
       "<IPython.core.display.HTML object>"
      ]
     },
     "metadata": {},
     "output_type": "display_data"
    },
    {
     "data": {
      "text/html": [
       "\n",
       "        <div id=\"aQt38HHdL9pMTEUAoNVkLM\"></div>\n",
       "        <script>netpixi.call('aQt38HHdL9pMTEUAoNVkLM', 'WTYRJsj4HGRjG4BeySs9Gy', 'changeGraph', 'eyJpZCI6ICJCZW5pbiIsICJ0eXBlIjogInZlcnRleCIsICJwcm9wcyI6IHsiY29sb3IiOiAxNjcxMTY4MH19Cg==');</script>\n",
       "    "
      ],
      "text/plain": [
       "<IPython.core.display.HTML object>"
      ]
     },
     "metadata": {},
     "output_type": "display_data"
    },
    {
     "data": {
      "text/html": [
       "\n",
       "        <div id=\"FYE6aUVsrxhpXoByLhWnT6\"></div>\n",
       "        <script>netpixi.call('FYE6aUVsrxhpXoByLhWnT6', 'WTYRJsj4HGRjG4BeySs9Gy', 'changeGraph', 'eyJpZCI6ICJFcXVhdG9yaWFsIEd1aW5lYSIsICJ0eXBlIjogInZlcnRleCIsICJwcm9wcyI6IHsiY29sb3IiOiA2NTI4MH19Cg==');</script>\n",
       "    "
      ],
      "text/plain": [
       "<IPython.core.display.HTML object>"
      ]
     },
     "metadata": {},
     "output_type": "display_data"
    },
    {
     "data": {
      "text/html": [
       "\n",
       "        <div id=\"GfSrCKU8aTcAJZkS7NsYUM\"></div>\n",
       "        <script>netpixi.call('GfSrCKU8aTcAJZkS7NsYUM', 'WTYRJsj4HGRjG4BeySs9Gy', 'changeGraph', 'eyJpZCI6ICJIdW5nYXJ5IiwgInR5cGUiOiAidmVydGV4IiwgInByb3BzIjogeyJjb2xvciI6IDE2NzExNjgwfX0K');</script>\n",
       "    "
      ],
      "text/plain": [
       "<IPython.core.display.HTML object>"
      ]
     },
     "metadata": {},
     "output_type": "display_data"
    },
    {
     "data": {
      "text/html": [
       "\n",
       "        <div id=\"RVpWtGyCnHYLaMx5hR7iPr\"></div>\n",
       "        <script>netpixi.call('RVpWtGyCnHYLaMx5hR7iPr', 'WTYRJsj4HGRjG4BeySs9Gy', 'changeGraph', 'eyJpZCI6ICJIb25kdXJhcyIsICJ0eXBlIjogInZlcnRleCIsICJwcm9wcyI6IHsiY29sb3IiOiA2NTI4MH19Cg==');</script>\n",
       "    "
      ],
      "text/plain": [
       "<IPython.core.display.HTML object>"
      ]
     },
     "metadata": {},
     "output_type": "display_data"
    },
    {
     "data": {
      "text/html": [
       "\n",
       "        <div id=\"4mCHYUaPkcMv7Kg9sh8BiB\"></div>\n",
       "        <script>netpixi.call('4mCHYUaPkcMv7Kg9sh8BiB', 'WTYRJsj4HGRjG4BeySs9Gy', 'changeGraph', 'eyJpZCI6ICJBbmRvcnJhIiwgInR5cGUiOiAidmVydGV4IiwgInByb3BzIjogeyJjb2xvciI6IDY1MjgwfX0K');</script>\n",
       "    "
      ],
      "text/plain": [
       "<IPython.core.display.HTML object>"
      ]
     },
     "metadata": {},
     "output_type": "display_data"
    },
    {
     "data": {
      "text/html": [
       "\n",
       "        <div id=\"Y2SCBBUvdoLZgqLg8n82Jp\"></div>\n",
       "        <script>netpixi.call('Y2SCBBUvdoLZgqLg8n82Jp', 'WTYRJsj4HGRjG4BeySs9Gy', 'changeGraph', 'eyJpZCI6ICJFcml0cmVhIiwgInR5cGUiOiAidmVydGV4IiwgInByb3BzIjogeyJjb2xvciI6IDY1MjgwfX0K');</script>\n",
       "    "
      ],
      "text/plain": [
       "<IPython.core.display.HTML object>"
      ]
     },
     "metadata": {},
     "output_type": "display_data"
    },
    {
     "data": {
      "text/html": [
       "\n",
       "        <div id=\"JDNBTDXWPb5NeYjace6YLe\"></div>\n",
       "        <script>netpixi.call('JDNBTDXWPb5NeYjace6YLe', 'WTYRJsj4HGRjG4BeySs9Gy', 'changeGraph', 'eyJpZCI6ICJDYW1ib2RpYSIsICJ0eXBlIjogInZlcnRleCIsICJwcm9wcyI6IHsiY29sb3IiOiAxNjcxMTY4MH19Cg==');</script>\n",
       "    "
      ],
      "text/plain": [
       "<IPython.core.display.HTML object>"
      ]
     },
     "metadata": {},
     "output_type": "display_data"
    },
    {
     "data": {
      "text/html": [
       "\n",
       "        <div id=\"H9t3jA6ktpKgbwxvySDQCM\"></div>\n",
       "        <script>netpixi.call('H9t3jA6ktpKgbwxvySDQCM', 'WTYRJsj4HGRjG4BeySs9Gy', 'changeGraph', 'eyJpZCI6ICJFY3VhZG9yIiwgInR5cGUiOiAidmVydGV4IiwgInByb3BzIjogeyJjb2xvciI6IDE2NzExNjgwfX0K');</script>\n",
       "    "
      ],
      "text/plain": [
       "<IPython.core.display.HTML object>"
      ]
     },
     "metadata": {},
     "output_type": "display_data"
    },
    {
     "data": {
      "text/html": [
       "\n",
       "        <div id=\"DfdBVhUCSnTwBLDJ9vHbHs\"></div>\n",
       "        <script>netpixi.call('DfdBVhUCSnTwBLDJ9vHbHs', 'WTYRJsj4HGRjG4BeySs9Gy', 'changeGraph', 'eyJpZCI6ICJOZXcgWmVhbGFuZCIsICJ0eXBlIjogInZlcnRleCIsICJwcm9wcyI6IHsiY29sb3IiOiAxNjcxMTY4MH19Cg==');</script>\n",
       "    "
      ],
      "text/plain": [
       "<IPython.core.display.HTML object>"
      ]
     },
     "metadata": {},
     "output_type": "display_data"
    },
    {
     "data": {
      "text/html": [
       "\n",
       "        <div id=\"dGSLwYCcnuekRXkoKCNKe5\"></div>\n",
       "        <script>netpixi.call('dGSLwYCcnuekRXkoKCNKe5', 'WTYRJsj4HGRjG4BeySs9Gy', 'changeGraph', 'eyJpZCI6ICJOZXRoZXJsYW5kcyIsICJ0eXBlIjogInZlcnRleCIsICJwcm9wcyI6IHsiY29sb3IiOiAxNjcxMTY4MH19Cg==');</script>\n",
       "    "
      ],
      "text/plain": [
       "<IPython.core.display.HTML object>"
      ]
     },
     "metadata": {},
     "output_type": "display_data"
    },
    {
     "data": {
      "text/html": [
       "\n",
       "        <div id=\"Bu4C9D9H2BCbbWQRKnPUsJ\"></div>\n",
       "        <script>netpixi.call('Bu4C9D9H2BCbbWQRKnPUsJ', 'WTYRJsj4HGRjG4BeySs9Gy', 'changeGraph', 'eyJpZCI6ICJLdXdhaXQiLCAidHlwZSI6ICJ2ZXJ0ZXgiLCAicHJvcHMiOiB7ImNvbG9yIjogNjUyODB9fQo=');</script>\n",
       "    "
      ],
      "text/plain": [
       "<IPython.core.display.HTML object>"
      ]
     },
     "metadata": {},
     "output_type": "display_data"
    },
    {
     "data": {
      "text/html": [
       "\n",
       "        <div id=\"JDGfQwUY6tn2Qg7uQbYYnv\"></div>\n",
       "        <script>netpixi.call('JDGfQwUY6tn2Qg7uQbYYnv', 'WTYRJsj4HGRjG4BeySs9Gy', 'changeGraph', 'eyJpZCI6ICJCb3Rzd2FuYSIsICJ0eXBlIjogInZlcnRleCIsICJwcm9wcyI6IHsiY29sb3IiOiA2NTI4MH19Cg==');</script>\n",
       "    "
      ],
      "text/plain": [
       "<IPython.core.display.HTML object>"
      ]
     },
     "metadata": {},
     "output_type": "display_data"
    },
    {
     "data": {
      "text/html": [
       "\n",
       "        <div id=\"U8DfJoHP2m4A7xeNxChCT3\"></div>\n",
       "        <script>netpixi.call('U8DfJoHP2m4A7xeNxChCT3', 'WTYRJsj4HGRjG4BeySs9Gy', 'changeGraph', 'eyJpZCI6ICJVbml0ZWQgQXJhYiBFbWlyYXRlcyIsICJ0eXBlIjogInZlcnRleCIsICJwcm9wcyI6IHsiY29sb3IiOiAxNjcxMTY4MH19Cg==');</script>\n",
       "    "
      ],
      "text/plain": [
       "<IPython.core.display.HTML object>"
      ]
     },
     "metadata": {},
     "output_type": "display_data"
    },
    {
     "data": {
      "text/html": [
       "\n",
       "        <div id=\"K2Aen4x7TK26ApbmRZUEEr\"></div>\n",
       "        <script>netpixi.call('K2Aen4x7TK26ApbmRZUEEr', 'WTYRJsj4HGRjG4BeySs9Gy', 'changeGraph', 'eyJpZCI6ICJNYWxpIiwgInR5cGUiOiAidmVydGV4IiwgInByb3BzIjogeyJjb2xvciI6IDY1MjgwfX0K');</script>\n",
       "    "
      ],
      "text/plain": [
       "<IPython.core.display.HTML object>"
      ]
     },
     "metadata": {},
     "output_type": "display_data"
    },
    {
     "data": {
      "text/html": [
       "\n",
       "        <div id=\"PzrVvb7nE6erJzXLbk8o9b\"></div>\n",
       "        <script>netpixi.call('PzrVvb7nE6erJzXLbk8o9b', 'WTYRJsj4HGRjG4BeySs9Gy', 'changeGraph', 'eyJpZCI6ICJNYXJ0aW5pcXVlIiwgInR5cGUiOiAidmVydGV4IiwgInByb3BzIjogeyJjb2xvciI6IDY1MjgwfX0K');</script>\n",
       "    "
      ],
      "text/plain": [
       "<IPython.core.display.HTML object>"
      ]
     },
     "metadata": {},
     "output_type": "display_data"
    },
    {
     "data": {
      "text/html": [
       "\n",
       "        <div id=\"Labj67Aw6DLYbezoCiP936\"></div>\n",
       "        <script>netpixi.call('Labj67Aw6DLYbezoCiP936', 'WTYRJsj4HGRjG4BeySs9Gy', 'changeGraph', 'eyJpZCI6ICJTYW1vYSIsICJ0eXBlIjogInZlcnRleCIsICJwcm9wcyI6IHsiY29sb3IiOiA2NTI4MH19Cg==');</script>\n",
       "    "
      ],
      "text/plain": [
       "<IPython.core.display.HTML object>"
      ]
     },
     "metadata": {},
     "output_type": "display_data"
    },
    {
     "data": {
      "text/html": [
       "\n",
       "        <div id=\"6EwaMMTZZ5zo6odQFTWb93\"></div>\n",
       "        <script>netpixi.call('6EwaMMTZZ5zo6odQFTWb93', 'WTYRJsj4HGRjG4BeySs9Gy', 'changeGraph', 'eyJpZCI6ICJGaWppIiwgInR5cGUiOiAidmVydGV4IiwgInByb3BzIjogeyJjb2xvciI6IDY1MjgwfX0K');</script>\n",
       "    "
      ],
      "text/plain": [
       "<IPython.core.display.HTML object>"
      ]
     },
     "metadata": {},
     "output_type": "display_data"
    },
    {
     "data": {
      "text/html": [
       "\n",
       "        <div id=\"cEA7ZQY7HUjgAgHRK85ym5\"></div>\n",
       "        <script>netpixi.call('cEA7ZQY7HUjgAgHRK85ym5', 'WTYRJsj4HGRjG4BeySs9Gy', 'changeGraph', 'eyJpZCI6ICJMYW8gUGVvcGxlJ3MgRGVtLiBSZXAuIiwgInR5cGUiOiAidmVydGV4IiwgInByb3BzIjogeyJjb2xvciI6IDY1MjgwfX0K');</script>\n",
       "    "
      ],
      "text/plain": [
       "<IPython.core.display.HTML object>"
      ]
     },
     "metadata": {},
     "output_type": "display_data"
    },
    {
     "data": {
      "text/html": [
       "\n",
       "        <div id=\"gxKg5kuX2dRxStfERdiGhQ\"></div>\n",
       "        <script>netpixi.call('gxKg5kuX2dRxStfERdiGhQ', 'WTYRJsj4HGRjG4BeySs9Gy', 'changeGraph', 'eyJpZCI6ICJNYWRhZ2FzY2FyIiwgInR5cGUiOiAidmVydGV4IiwgInByb3BzIjogeyJjb2xvciI6IDY1MjgwfX0K');</script>\n",
       "    "
      ],
      "text/plain": [
       "<IPython.core.display.HTML object>"
      ]
     },
     "metadata": {},
     "output_type": "display_data"
    },
    {
     "data": {
      "text/html": [
       "\n",
       "        <div id=\"M2gTXRgpfDfxbsrGJBXaiN\"></div>\n",
       "        <script>netpixi.call('M2gTXRgpfDfxbsrGJBXaiN', 'WTYRJsj4HGRjG4BeySs9Gy', 'changeGraph', 'eyJpZCI6ICJCcmF6aWwiLCAidHlwZSI6ICJ2ZXJ0ZXgiLCAicHJvcHMiOiB7ImNvbG9yIjogMTY3MTE2ODB9fQo=');</script>\n",
       "    "
      ],
      "text/plain": [
       "<IPython.core.display.HTML object>"
      ]
     },
     "metadata": {},
     "output_type": "display_data"
    },
    {
     "data": {
      "text/html": [
       "\n",
       "        <div id=\"QSfu47NPVpkmCeKMmgGJys\"></div>\n",
       "        <script>netpixi.call('QSfu47NPVpkmCeKMmgGJys', 'WTYRJsj4HGRjG4BeySs9Gy', 'changeGraph', 'eyJpZCI6ICJTdGF0ZWxlc3MiLCAidHlwZSI6ICJ2ZXJ0ZXgiLCAicHJvcHMiOiB7ImNvbG9yIjogNjUyODB9fQo=');</script>\n",
       "    "
      ],
      "text/plain": [
       "<IPython.core.display.HTML object>"
      ]
     },
     "metadata": {},
     "output_type": "display_data"
    },
    {
     "data": {
      "text/html": [
       "\n",
       "        <div id=\"Es5jqHogHr8SjyQQLvBERq\"></div>\n",
       "        <script>netpixi.call('Es5jqHogHr8SjyQQLvBERq', 'WTYRJsj4HGRjG4BeySs9Gy', 'changeGraph', 'eyJpZCI6ICJHcmVlY2UiLCAidHlwZSI6ICJ2ZXJ0ZXgiLCAicHJvcHMiOiB7ImNvbG9yIjogMTY3MTE2ODB9fQo=');</script>\n",
       "    "
      ],
      "text/plain": [
       "<IPython.core.display.HTML object>"
      ]
     },
     "metadata": {},
     "output_type": "display_data"
    },
    {
     "data": {
      "text/html": [
       "\n",
       "        <div id=\"ANgxhBe3R45bTwyGM3XqCH\"></div>\n",
       "        <script>netpixi.call('ANgxhBe3R45bTwyGM3XqCH', 'WTYRJsj4HGRjG4BeySs9Gy', 'changeGraph', 'eyJpZCI6ICJBcm1lbmlhIiwgInR5cGUiOiAidmVydGV4IiwgInByb3BzIjogeyJjb2xvciI6IDY1MjgwfX0K');</script>\n",
       "    "
      ],
      "text/plain": [
       "<IPython.core.display.HTML object>"
      ]
     },
     "metadata": {},
     "output_type": "display_data"
    },
    {
     "data": {
      "text/html": [
       "\n",
       "        <div id=\"Yq97e3q8oLRGkiTftcyQmf\"></div>\n",
       "        <script>netpixi.call('Yq97e3q8oLRGkiTftcyQmf', 'WTYRJsj4HGRjG4BeySs9Gy', 'changeGraph', 'eyJpZCI6ICJSZXAuIG9mIEtvcmVhIiwgInR5cGUiOiAidmVydGV4IiwgInByb3BzIjogeyJjb2xvciI6IDE2NzExNjgwfX0K');</script>\n",
       "    "
      ],
      "text/plain": [
       "<IPython.core.display.HTML object>"
      ]
     },
     "metadata": {},
     "output_type": "display_data"
    },
    {
     "data": {
      "text/html": [
       "\n",
       "        <div id=\"9tcghZKctEgP63mDUBfwnF\"></div>\n",
       "        <script>netpixi.call('9tcghZKctEgP63mDUBfwnF', 'WTYRJsj4HGRjG4BeySs9Gy', 'changeGraph', 'eyJpZCI6ICJMaWVjaHRlbnN0ZWluIiwgInR5cGUiOiAidmVydGV4IiwgInByb3BzIjogeyJjb2xvciI6IDY1MjgwfX0K');</script>\n",
       "    "
      ],
      "text/plain": [
       "<IPython.core.display.HTML object>"
      ]
     },
     "metadata": {},
     "output_type": "display_data"
    },
    {
     "data": {
      "text/html": [
       "\n",
       "        <div id=\"MpEdUUFLtfHJsiwH9HQq2f\"></div>\n",
       "        <script>netpixi.call('MpEdUUFLtfHJsiwH9HQq2f', 'WTYRJsj4HGRjG4BeySs9Gy', 'changeGraph', 'eyJpZCI6ICJNYWxkaXZlcyIsICJ0eXBlIjogInZlcnRleCIsICJwcm9wcyI6IHsiY29sb3IiOiA2NTI4MH19Cg==');</script>\n",
       "    "
      ],
      "text/plain": [
       "<IPython.core.display.HTML object>"
      ]
     },
     "metadata": {},
     "output_type": "display_data"
    },
    {
     "data": {
      "text/html": [
       "\n",
       "        <div id=\"HCqwosdJ9FXUMAa9boMeXc\"></div>\n",
       "        <script>netpixi.call('HCqwosdJ9FXUMAa9boMeXc', 'WTYRJsj4HGRjG4BeySs9Gy', 'changeGraph', 'eyJpZCI6ICJTdWRhbiIsICJ0eXBlIjogInZlcnRleCIsICJwcm9wcyI6IHsiY29sb3IiOiA2NTI4MH19Cg==');</script>\n",
       "    "
      ],
      "text/plain": [
       "<IPython.core.display.HTML object>"
      ]
     },
     "metadata": {},
     "output_type": "display_data"
    },
    {
     "data": {
      "text/html": [
       "\n",
       "        <div id=\"aLhuB2Ec7C77n4jTDutorQ\"></div>\n",
       "        <script>netpixi.call('aLhuB2Ec7C77n4jTDutorQ', 'WTYRJsj4HGRjG4BeySs9Gy', 'changeGraph', 'eyJpZCI6ICJEb21pbmljYSIsICJ0eXBlIjogInZlcnRleCIsICJwcm9wcyI6IHsiY29sb3IiOiA2NTI4MH19Cg==');</script>\n",
       "    "
      ],
      "text/plain": [
       "<IPython.core.display.HTML object>"
      ]
     },
     "metadata": {},
     "output_type": "display_data"
    },
    {
     "data": {
      "text/html": [
       "\n",
       "        <div id=\"B2dSS3qVea3rB6n3we7yKv\"></div>\n",
       "        <script>netpixi.call('B2dSS3qVea3rB6n3we7yKv', 'WTYRJsj4HGRjG4BeySs9Gy', 'changeGraph', 'eyJpZCI6ICJOYXVydSIsICJ0eXBlIjogInZlcnRleCIsICJwcm9wcyI6IHsiY29sb3IiOiA2NTI4MH19Cg==');</script>\n",
       "    "
      ],
      "text/plain": [
       "<IPython.core.display.HTML object>"
      ]
     },
     "metadata": {},
     "output_type": "display_data"
    },
    {
     "data": {
      "text/html": [
       "\n",
       "        <div id=\"4BAPZcKZeQ8KUuxRiDMtu4\"></div>\n",
       "        <script>netpixi.call('4BAPZcKZeQ8KUuxRiDMtu4', 'WTYRJsj4HGRjG4BeySs9Gy', 'changeGraph', 'eyJpZCI6ICJHcmVuYWRhIiwgInR5cGUiOiAidmVydGV4IiwgInByb3BzIjogeyJjb2xvciI6IDY1MjgwfX0K');</script>\n",
       "    "
      ],
      "text/plain": [
       "<IPython.core.display.HTML object>"
      ]
     },
     "metadata": {},
     "output_type": "display_data"
    },
    {
     "data": {
      "text/html": [
       "\n",
       "        <div id=\"jh8z6HDV9ptuSUBJpq6gxT\"></div>\n",
       "        <script>netpixi.call('jh8z6HDV9ptuSUBJpq6gxT', 'WTYRJsj4HGRjG4BeySs9Gy', 'changeGraph', 'eyJpZCI6ICJVbml0ZWQgU3RhdGVzIG9mIEFtZXJpY2EiLCAidHlwZSI6ICJ2ZXJ0ZXgiLCAicHJvcHMiOiB7ImNvbG9yIjogMTY3MTE2ODB9fQo=');</script>\n",
       "    "
      ],
      "text/plain": [
       "<IPython.core.display.HTML object>"
      ]
     },
     "metadata": {},
     "output_type": "display_data"
    },
    {
     "data": {
      "text/html": [
       "\n",
       "        <div id=\"3ZdZFkbFnbZLfFfhfdQ2c3\"></div>\n",
       "        <script>netpixi.call('3ZdZFkbFnbZLfFfhfdQ2c3', 'WTYRJsj4HGRjG4BeySs9Gy', 'changeGraph', 'eyJpZCI6ICJUdXJrbWVuaXN0YW4iLCAidHlwZSI6ICJ2ZXJ0ZXgiLCAicHJvcHMiOiB7ImNvbG9yIjogNjUyODB9fQo=');</script>\n",
       "    "
      ],
      "text/plain": [
       "<IPython.core.display.HTML object>"
      ]
     },
     "metadata": {},
     "output_type": "display_data"
    },
    {
     "data": {
      "text/html": [
       "\n",
       "        <div id=\"Cvb9nLLGhPf6AmDEBw3krg\"></div>\n",
       "        <script>netpixi.call('Cvb9nLLGhPf6AmDEBw3krg', 'WTYRJsj4HGRjG4BeySs9Gy', 'changeGraph', 'eyJpZCI6ICJDdXJhXHUwMGU3YW8iLCAidHlwZSI6ICJ2ZXJ0ZXgiLCAicHJvcHMiOiB7ImNvbG9yIjogNjUyODB9fQo=');</script>\n",
       "    "
      ],
      "text/plain": [
       "<IPython.core.display.HTML object>"
      ]
     },
     "metadata": {},
     "output_type": "display_data"
    },
    {
     "data": {
      "text/html": [
       "\n",
       "        <div id=\"nSfX7Yrxj3aU2XdhXrtuHv\"></div>\n",
       "        <script>netpixi.call('nSfX7Yrxj3aU2XdhXrtuHv', 'WTYRJsj4HGRjG4BeySs9Gy', 'changeGraph', 'eyJpZCI6ICJHYWJvbiIsICJ0eXBlIjogInZlcnRleCIsICJwcm9wcyI6IHsiY29sb3IiOiAxNjcxMTY4MH19Cg==');</script>\n",
       "    "
      ],
      "text/plain": [
       "<IPython.core.display.HTML object>"
      ]
     },
     "metadata": {},
     "output_type": "display_data"
    },
    {
     "data": {
      "text/html": [
       "\n",
       "        <div id=\"U7xLBa2zQJyTRXx4CWCrWh\"></div>\n",
       "        <script>netpixi.call('U7xLBa2zQJyTRXx4CWCrWh', 'WTYRJsj4HGRjG4BeySs9Gy', 'changeGraph', 'eyJpZCI6ICJVcnVndWF5IiwgInR5cGUiOiAidmVydGV4IiwgInByb3BzIjogeyJjb2xvciI6IDY1MjgwfX0K');</script>\n",
       "    "
      ],
      "text/plain": [
       "<IPython.core.display.HTML object>"
      ]
     },
     "metadata": {},
     "output_type": "display_data"
    },
    {
     "data": {
      "text/html": [
       "\n",
       "        <div id=\"BugyYbTYgbMvCkMgTJiDfy\"></div>\n",
       "        <script>netpixi.call('BugyYbTYgbMvCkMgTJiDfy', 'WTYRJsj4HGRjG4BeySs9Gy', 'changeGraph', 'eyJpZCI6ICJCYXJiYWRvcyIsICJ0eXBlIjogInZlcnRleCIsICJwcm9wcyI6IHsiY29sb3IiOiA2NTI4MH19Cg==');</script>\n",
       "    "
      ],
      "text/plain": [
       "<IPython.core.display.HTML object>"
      ]
     },
     "metadata": {},
     "output_type": "display_data"
    },
    {
     "data": {
      "text/html": [
       "\n",
       "        <div id=\"mFtxYs4JsjGpxweFsSGP5c\"></div>\n",
       "        <script>netpixi.call('mFtxYs4JsjGpxweFsSGP5c', 'WTYRJsj4HGRjG4BeySs9Gy', 'changeGraph', 'eyJpZCI6ICJXZXN0ZXJuIFNhaGFyYSIsICJ0eXBlIjogInZlcnRleCIsICJwcm9wcyI6IHsiY29sb3IiOiA2NTI4MH19Cg==');</script>\n",
       "    "
      ],
      "text/plain": [
       "<IPython.core.display.HTML object>"
      ]
     },
     "metadata": {},
     "output_type": "display_data"
    },
    {
     "data": {
      "text/html": [
       "\n",
       "        <div id=\"cVRZeB5QQqKG6HsF9o2w73\"></div>\n",
       "        <script>netpixi.call('cVRZeB5QQqKG6HsF9o2w73', 'WTYRJsj4HGRjG4BeySs9Gy', 'changeGraph', 'eyJpZCI6ICJTYWludCBLaXR0cyBhbmQgTmV2aXMiLCAidHlwZSI6ICJ2ZXJ0ZXgiLCAicHJvcHMiOiB7ImNvbG9yIjogNjUyODB9fQo=');</script>\n",
       "    "
      ],
      "text/plain": [
       "<IPython.core.display.HTML object>"
      ]
     },
     "metadata": {},
     "output_type": "display_data"
    },
    {
     "data": {
      "text/html": [
       "\n",
       "        <div id=\"QxqDeXJrxwyhykjeCbEUL4\"></div>\n",
       "        <script>netpixi.call('QxqDeXJrxwyhykjeCbEUL4', 'WTYRJsj4HGRjG4BeySs9Gy', 'changeGraph', 'eyJpZCI6ICJCcnVuZWkgRGFydXNzYWxhbSIsICJ0eXBlIjogInZlcnRleCIsICJwcm9wcyI6IHsiY29sb3IiOiA2NTI4MH19Cg==');</script>\n",
       "    "
      ],
      "text/plain": [
       "<IPython.core.display.HTML object>"
      ]
     },
     "metadata": {},
     "output_type": "display_data"
    },
    {
     "data": {
      "text/html": [
       "\n",
       "        <div id=\"ng2ZfoMVpoMFYRnZUmaqHy\"></div>\n",
       "        <script>netpixi.call('ng2ZfoMVpoMFYRnZUmaqHy', 'WTYRJsj4HGRjG4BeySs9Gy', 'changeGraph', 'eyJpZCI6ICJUdW5pc2lhIiwgInR5cGUiOiAidmVydGV4IiwgInByb3BzIjogeyJjb2xvciI6IDY1MjgwfX0K');</script>\n",
       "    "
      ],
      "text/plain": [
       "<IPython.core.display.HTML object>"
      ]
     },
     "metadata": {},
     "output_type": "display_data"
    },
    {
     "data": {
      "text/html": [
       "\n",
       "        <div id=\"2HD9GyTV8TR4Y2LfTPzQjJ\"></div>\n",
       "        <script>netpixi.call('2HD9GyTV8TR4Y2LfTPzQjJ', 'WTYRJsj4HGRjG4BeySs9Gy', 'changeGraph', 'eyJpZCI6ICJBbGdlcmlhIiwgInR5cGUiOiAidmVydGV4IiwgInByb3BzIjogeyJjb2xvciI6IDY1MjgwfX0K');</script>\n",
       "    "
      ],
      "text/plain": [
       "<IPython.core.display.HTML object>"
      ]
     },
     "metadata": {},
     "output_type": "display_data"
    },
    {
     "data": {
      "text/html": [
       "\n",
       "        <div id=\"aoZfS8XNSwCXAPXZus2Jud\"></div>\n",
       "        <script>netpixi.call('aoZfS8XNSwCXAPXZus2Jud', 'WTYRJsj4HGRjG4BeySs9Gy', 'changeGraph', 'eyJpZCI6ICJMYXR2aWEiLCAidHlwZSI6ICJ2ZXJ0ZXgiLCAicHJvcHMiOiB7ImNvbG9yIjogNjUyODB9fQo=');</script>\n",
       "    "
      ],
      "text/plain": [
       "<IPython.core.display.HTML object>"
      ]
     },
     "metadata": {},
     "output_type": "display_data"
    },
    {
     "data": {
      "text/html": [
       "\n",
       "        <div id=\"WqSRSgbPHut93C3FudTkjn\"></div>\n",
       "        <script>netpixi.call('WqSRSgbPHut93C3FudTkjn', 'WTYRJsj4HGRjG4BeySs9Gy', 'changeGraph', 'eyJpZCI6ICJRYXRhciIsICJ0eXBlIjogInZlcnRleCIsICJwcm9wcyI6IHsiY29sb3IiOiA2NTI4MH19Cg==');</script>\n",
       "    "
      ],
      "text/plain": [
       "<IPython.core.display.HTML object>"
      ]
     },
     "metadata": {},
     "output_type": "display_data"
    },
    {
     "data": {
      "text/html": [
       "\n",
       "        <div id=\"mwhsnDY4svWtwXnNSBqQLn\"></div>\n",
       "        <script>netpixi.call('mwhsnDY4svWtwXnNSBqQLn', 'WTYRJsj4HGRjG4BeySs9Gy', 'changeGraph', 'eyJpZCI6ICJTeXJpYW4gQXJhYiBSZXAuIiwgInR5cGUiOiAidmVydGV4IiwgInByb3BzIjogeyJjb2xvciI6IDE2NzExNjgwfX0K');</script>\n",
       "    "
      ],
      "text/plain": [
       "<IPython.core.display.HTML object>"
      ]
     },
     "metadata": {},
     "output_type": "display_data"
    },
    {
     "data": {
      "text/html": [
       "\n",
       "        <div id=\"HZHigdeehXB4eVqzhQqBz8\"></div>\n",
       "        <script>netpixi.call('HZHigdeehXB4eVqzhQqBz8', 'WTYRJsj4HGRjG4BeySs9Gy', 'changeGraph', 'eyJpZCI6ICJJbmRpYSIsICJ0eXBlIjogInZlcnRleCIsICJwcm9wcyI6IHsiY29sb3IiOiAxNjcxMTY4MH19Cg==');</script>\n",
       "    "
      ],
      "text/plain": [
       "<IPython.core.display.HTML object>"
      ]
     },
     "metadata": {},
     "output_type": "display_data"
    },
    {
     "data": {
      "text/html": [
       "\n",
       "        <div id=\"jeMnotPzW7eecZARruuigs\"></div>\n",
       "        <script>netpixi.call('jeMnotPzW7eecZARruuigs', 'WTYRJsj4HGRjG4BeySs9Gy', 'changeGraph', 'eyJpZCI6ICJSdXNzaWFuIEZlZGVyYXRpb24iLCAidHlwZSI6ICJ2ZXJ0ZXgiLCAicHJvcHMiOiB7ImNvbG9yIjogMTY3MTE2ODB9fQo=');</script>\n",
       "    "
      ],
      "text/plain": [
       "<IPython.core.display.HTML object>"
      ]
     },
     "metadata": {},
     "output_type": "display_data"
    },
    {
     "data": {
      "text/html": [
       "\n",
       "        <div id=\"Zci96gGciXnZdr7ovwvZXD\"></div>\n",
       "        <script>netpixi.call('Zci96gGciXnZdr7ovwvZXD', 'WTYRJsj4HGRjG4BeySs9Gy', 'changeGraph', 'eyJpZCI6ICJBZmdoYW5pc3RhbiIsICJ0eXBlIjogInZlcnRleCIsICJwcm9wcyI6IHsiY29sb3IiOiA2NTI4MH19Cg==');</script>\n",
       "    "
      ],
      "text/plain": [
       "<IPython.core.display.HTML object>"
      ]
     },
     "metadata": {},
     "output_type": "display_data"
    },
    {
     "data": {
      "text/html": [
       "\n",
       "        <div id=\"JEPxVdJGhuoyHKfPajN3sM\"></div>\n",
       "        <script>netpixi.call('JEPxVdJGhuoyHKfPajN3sM', 'WTYRJsj4HGRjG4BeySs9Gy', 'changeGraph', 'eyJpZCI6ICJNYWx0YSIsICJ0eXBlIjogInZlcnRleCIsICJwcm9wcyI6IHsiY29sb3IiOiAxNjcxMTY4MH19Cg==');</script>\n",
       "    "
      ],
      "text/plain": [
       "<IPython.core.display.HTML object>"
      ]
     },
     "metadata": {},
     "output_type": "display_data"
    },
    {
     "data": {
      "text/html": [
       "\n",
       "        <div id=\"5uh2ey42pBAhSncYYAjciV\"></div>\n",
       "        <script>netpixi.call('5uh2ey42pBAhSncYYAjciV', 'WTYRJsj4HGRjG4BeySs9Gy', 'changeGraph', 'eyJpZCI6ICJNYXVyaXRpdXMiLCAidHlwZSI6ICJ2ZXJ0ZXgiLCAicHJvcHMiOiB7ImNvbG9yIjogNjUyODB9fQo=');</script>\n",
       "    "
      ],
      "text/plain": [
       "<IPython.core.display.HTML object>"
      ]
     },
     "metadata": {},
     "output_type": "display_data"
    },
    {
     "data": {
      "text/html": [
       "\n",
       "        <div id=\"NwDn3fP22wW2sZp4idci4D\"></div>\n",
       "        <script>netpixi.call('NwDn3fP22wW2sZp4idci4D', 'WTYRJsj4HGRjG4BeySs9Gy', 'changeGraph', 'eyJpZCI6ICJUb2dvIiwgInR5cGUiOiAidmVydGV4IiwgInByb3BzIjogeyJjb2xvciI6IDY1MjgwfX0K');</script>\n",
       "    "
      ],
      "text/plain": [
       "<IPython.core.display.HTML object>"
      ]
     },
     "metadata": {},
     "output_type": "display_data"
    },
    {
     "data": {
      "text/html": [
       "\n",
       "        <div id=\"L5NSJTPL2JW3Upg9SQDiu4\"></div>\n",
       "        <script>netpixi.call('L5NSJTPL2JW3Upg9SQDiu4', 'WTYRJsj4HGRjG4BeySs9Gy', 'changeGraph', 'eyJpZCI6ICJWaWV0IE5hbSIsICJ0eXBlIjogInZlcnRleCIsICJwcm9wcyI6IHsiY29sb3IiOiA2NTI4MH19Cg==');</script>\n",
       "    "
      ],
      "text/plain": [
       "<IPython.core.display.HTML object>"
      ]
     },
     "metadata": {},
     "output_type": "display_data"
    },
    {
     "data": {
      "text/html": [
       "\n",
       "        <div id=\"jfRQgVQwuVBBUjHxEG5pQ9\"></div>\n",
       "        <script>netpixi.call('jfRQgVQwuVBBUjHxEG5pQ9', 'WTYRJsj4HGRjG4BeySs9Gy', 'changeGraph', 'eyJpZCI6ICJSb21hbmlhIiwgInR5cGUiOiAidmVydGV4IiwgInByb3BzIjogeyJjb2xvciI6IDE2NzExNjgwfX0K');</script>\n",
       "    "
      ],
      "text/plain": [
       "<IPython.core.display.HTML object>"
      ]
     },
     "metadata": {},
     "output_type": "display_data"
    },
    {
     "data": {
      "text/html": [
       "\n",
       "        <div id=\"P8QicThbUWPGYmRahymkWo\"></div>\n",
       "        <script>netpixi.call('P8QicThbUWPGYmRahymkWo', 'WTYRJsj4HGRjG4BeySs9Gy', 'changeGraph', 'eyJpZCI6ICJCb2xpdmlhIChQbHVyaW5hdGlvbmFsIFN0YXRlIG9mKSIsICJ0eXBlIjogInZlcnRleCIsICJwcm9wcyI6IHsiY29sb3IiOiA2NTI4MH19Cg==');</script>\n",
       "    "
      ],
      "text/plain": [
       "<IPython.core.display.HTML object>"
      ]
     },
     "metadata": {},
     "output_type": "display_data"
    },
    {
     "data": {
      "text/html": [
       "\n",
       "        <div id=\"ZoBig6kmc4EAGNGqVGC8n3\"></div>\n",
       "        <script>netpixi.call('ZoBig6kmc4EAGNGqVGC8n3', 'WTYRJsj4HGRjG4BeySs9Gy', 'changeGraph', 'eyJpZCI6ICJHZW9yZ2lhIiwgInR5cGUiOiAidmVydGV4IiwgInByb3BzIjogeyJjb2xvciI6IDY1MjgwfX0K');</script>\n",
       "    "
      ],
      "text/plain": [
       "<IPython.core.display.HTML object>"
      ]
     },
     "metadata": {},
     "output_type": "display_data"
    },
    {
     "data": {
      "text/html": [
       "\n",
       "        <div id=\"XgnghQDZN5gwRmKc4aXgvw\"></div>\n",
       "        <script>netpixi.call('XgnghQDZN5gwRmKc4aXgvw', 'WTYRJsj4HGRjG4BeySs9Gy', 'changeGraph', 'eyJpZCI6ICJDb25nbyIsICJ0eXBlIjogInZlcnRleCIsICJwcm9wcyI6IHsiY29sb3IiOiAxNjcxMTY4MH19Cg==');</script>\n",
       "    "
      ],
      "text/plain": [
       "<IPython.core.display.HTML object>"
      ]
     },
     "metadata": {},
     "output_type": "display_data"
    },
    {
     "data": {
      "text/html": [
       "\n",
       "        <div id=\"i65EyooTPRN8u7aTs9Q8pr\"></div>\n",
       "        <script>netpixi.call('i65EyooTPRN8u7aTs9Q8pr', 'WTYRJsj4HGRjG4BeySs9Gy', 'changeGraph', 'eyJpZCI6ICJaYW1iaWEiLCAidHlwZSI6ICJ2ZXJ0ZXgiLCAicHJvcHMiOiB7ImNvbG9yIjogNjUyODB9fQo=');</script>\n",
       "    "
      ],
      "text/plain": [
       "<IPython.core.display.HTML object>"
      ]
     },
     "metadata": {},
     "output_type": "display_data"
    },
    {
     "data": {
      "text/html": [
       "\n",
       "        <div id=\"LdYLfnUtHWsQutLkvqzTQm\"></div>\n",
       "        <script>netpixi.call('LdYLfnUtHWsQutLkvqzTQm', 'WTYRJsj4HGRjG4BeySs9Gy', 'changeGraph', 'eyJpZCI6ICJKYW1haWNhIiwgInR5cGUiOiAidmVydGV4IiwgInByb3BzIjogeyJjb2xvciI6IDY1MjgwfX0K');</script>\n",
       "    "
      ],
      "text/plain": [
       "<IPython.core.display.HTML object>"
      ]
     },
     "metadata": {},
     "output_type": "display_data"
    },
    {
     "data": {
      "text/html": [
       "\n",
       "        <div id=\"GRKMLT6uso8zEJBHA9FvGv\"></div>\n",
       "        <script>netpixi.call('GRKMLT6uso8zEJBHA9FvGv', 'WTYRJsj4HGRjG4BeySs9Gy', 'changeGraph', 'eyJpZCI6ICJHZXJtYW55IiwgInR5cGUiOiAidmVydGV4IiwgInByb3BzIjogeyJjb2xvciI6IDE2NzExNjgwfX0K');</script>\n",
       "    "
      ],
      "text/plain": [
       "<IPython.core.display.HTML object>"
      ]
     },
     "metadata": {},
     "output_type": "display_data"
    },
    {
     "data": {
      "text/html": [
       "\n",
       "        <div id=\"dfD7TtDmH6ihD7iNAccdkd\"></div>\n",
       "        <script>netpixi.call('dfD7TtDmH6ihD7iNAccdkd', 'WTYRJsj4HGRjG4BeySs9Gy', 'changeGraph', 'eyJpZCI6ICJDaGFkIiwgInR5cGUiOiAidmVydGV4IiwgInByb3BzIjogeyJjb2xvciI6IDY1MjgwfX0K');</script>\n",
       "    "
      ],
      "text/plain": [
       "<IPython.core.display.HTML object>"
      ]
     },
     "metadata": {},
     "output_type": "display_data"
    },
    {
     "data": {
      "text/html": [
       "\n",
       "        <div id=\"dZtZoDhH6dZxhAHZPNBK49\"></div>\n",
       "        <script>netpixi.call('dZtZoDhH6dZxhAHZPNBK49', 'WTYRJsj4HGRjG4BeySs9Gy', 'changeGraph', 'eyJpZCI6ICJCYWhhbWFzIiwgInR5cGUiOiAidmVydGV4IiwgInByb3BzIjogeyJjb2xvciI6IDY1MjgwfX0K');</script>\n",
       "    "
      ],
      "text/plain": [
       "<IPython.core.display.HTML object>"
      ]
     },
     "metadata": {},
     "output_type": "display_data"
    },
    {
     "data": {
      "text/html": [
       "\n",
       "        <div id=\"4L2UzYYYvcHjxqgFrsKoBj\"></div>\n",
       "        <script>netpixi.call('4L2UzYYYvcHjxqgFrsKoBj', 'WTYRJsj4HGRjG4BeySs9Gy', 'changeGraph', 'eyJpZCI6ICJNZXhpY28iLCAidHlwZSI6ICJ2ZXJ0ZXgiLCAicHJvcHMiOiB7ImNvbG9yIjogMTY3MTE2ODB9fQo=');</script>\n",
       "    "
      ],
      "text/plain": [
       "<IPython.core.display.HTML object>"
      ]
     },
     "metadata": {},
     "output_type": "display_data"
    },
    {
     "data": {
      "text/html": [
       "\n",
       "        <div id=\"48nnTp2HPJVT62vUUsk5xx\"></div>\n",
       "        <script>netpixi.call('48nnTp2HPJVT62vUUsk5xx', 'WTYRJsj4HGRjG4BeySs9Gy', 'changeGraph', 'eyJpZCI6ICJDeXBydXMiLCAidHlwZSI6ICJ2ZXJ0ZXgiLCAicHJvcHMiOiB7ImNvbG9yIjogMTY3MTE2ODB9fQo=');</script>\n",
       "    "
      ],
      "text/plain": [
       "<IPython.core.display.HTML object>"
      ]
     },
     "metadata": {},
     "output_type": "display_data"
    },
    {
     "data": {
      "text/html": [
       "\n",
       "        <div id=\"iXSGXjMANLVXnGGPFMxj9k\"></div>\n",
       "        <script>netpixi.call('iXSGXjMANLVXnGGPFMxj9k', 'WTYRJsj4HGRjG4BeySs9Gy', 'changeGraph', 'eyJpZCI6ICJOaWdlciIsICJ0eXBlIjogInZlcnRleCIsICJwcm9wcyI6IHsiY29sb3IiOiAxNjcxMTY4MH19Cg==');</script>\n",
       "    "
      ],
      "text/plain": [
       "<IPython.core.display.HTML object>"
      ]
     },
     "metadata": {},
     "output_type": "display_data"
    },
    {
     "data": {
      "text/html": [
       "\n",
       "        <div id=\"mT6yQv3Ari58WbjRo2ppQv\"></div>\n",
       "        <script>netpixi.call('mT6yQv3Ari58WbjRo2ppQv', 'WTYRJsj4HGRjG4BeySs9Gy', 'changeGraph', 'eyJpZCI6ICJHdWFkZWxvdXBlIiwgInR5cGUiOiAidmVydGV4IiwgInByb3BzIjogeyJjb2xvciI6IDY1MjgwfX0K');</script>\n",
       "    "
      ],
      "text/plain": [
       "<IPython.core.display.HTML object>"
      ]
     },
     "metadata": {},
     "output_type": "display_data"
    },
    {
     "data": {
      "text/html": [
       "\n",
       "        <div id=\"YUU63UMq7KsVKyP7eHrLYJ\"></div>\n",
       "        <script>netpixi.call('YUU63UMq7KsVKyP7eHrLYJ', 'WTYRJsj4HGRjG4BeySs9Gy', 'changeGraph', 'eyJpZCI6ICJUaGFpbGFuZCIsICJ0eXBlIjogInZlcnRleCIsICJwcm9wcyI6IHsiY29sb3IiOiAxNjcxMTY4MH19Cg==');</script>\n",
       "    "
      ],
      "text/plain": [
       "<IPython.core.display.HTML object>"
      ]
     },
     "metadata": {},
     "output_type": "display_data"
    },
    {
     "data": {
      "text/html": [
       "\n",
       "        <div id=\"bMH5Ps32DBgkYaCRxka6UJ\"></div>\n",
       "        <script>netpixi.call('bMH5Ps32DBgkYaCRxka6UJ', 'WTYRJsj4HGRjG4BeySs9Gy', 'changeGraph', 'eyJpZCI6ICJOZXBhbCIsICJ0eXBlIjogInZlcnRleCIsICJwcm9wcyI6IHsiY29sb3IiOiA2NTI4MH19Cg==');</script>\n",
       "    "
      ],
      "text/plain": [
       "<IPython.core.display.HTML object>"
      ]
     },
     "metadata": {},
     "output_type": "display_data"
    },
    {
     "data": {
      "text/html": [
       "\n",
       "        <div id=\"BgyGcFx9YQgFtYhe4G5Kob\"></div>\n",
       "        <script>netpixi.call('BgyGcFx9YQgFtYhe4G5Kob', 'WTYRJsj4HGRjG4BeySs9Gy', 'changeGraph', 'eyJpZCI6ICJCZWxnaXVtIiwgInR5cGUiOiAidmVydGV4IiwgInByb3BzIjogeyJjb2xvciI6IDE2NzExNjgwfX0K');</script>\n",
       "    "
      ],
      "text/plain": [
       "<IPython.core.display.HTML object>"
      ]
     },
     "metadata": {},
     "output_type": "display_data"
    },
    {
     "data": {
      "text/html": [
       "\n",
       "        <div id=\"D7LeQTbzf6T8o3mniwgWyy\"></div>\n",
       "        <script>netpixi.call('D7LeQTbzf6T8o3mniwgWyy', 'WTYRJsj4HGRjG4BeySs9Gy', 'changeGraph', 'eyJpZCI6ICJDb29rIElzbGFuZHMiLCAidHlwZSI6ICJ2ZXJ0ZXgiLCAicHJvcHMiOiB7ImNvbG9yIjogNjUyODB9fQo=');</script>\n",
       "    "
      ],
      "text/plain": [
       "<IPython.core.display.HTML object>"
      ]
     },
     "metadata": {},
     "output_type": "display_data"
    },
    {
     "data": {
      "text/html": [
       "\n",
       "        <div id=\"Zor77izr6sx4R8H8z7ksFy\"></div>\n",
       "        <script>netpixi.call('Zor77izr6sx4R8H8z7ksFy', 'WTYRJsj4HGRjG4BeySs9Gy', 'changeGraph', 'eyJpZCI6ICJKb3JkYW4iLCAidHlwZSI6ICJ2ZXJ0ZXgiLCAicHJvcHMiOiB7ImNvbG9yIjogMTY3MTE2ODB9fQo=');</script>\n",
       "    "
      ],
      "text/plain": [
       "<IPython.core.display.HTML object>"
      ]
     },
     "metadata": {},
     "output_type": "display_data"
    },
    {
     "data": {
      "text/html": [
       "\n",
       "        <div id=\"eex2mLhpVBdgvqLNUgxeaJ\"></div>\n",
       "        <script>netpixi.call('eex2mLhpVBdgvqLNUgxeaJ', 'WTYRJsj4HGRjG4BeySs9Gy', 'changeGraph', 'eyJpZCI6ICJHdXlhbmEiLCAidHlwZSI6ICJ2ZXJ0ZXgiLCAicHJvcHMiOiB7ImNvbG9yIjogNjUyODB9fQo=');</script>\n",
       "    "
      ],
      "text/plain": [
       "<IPython.core.display.HTML object>"
      ]
     },
     "metadata": {},
     "output_type": "display_data"
    },
    {
     "data": {
      "text/html": [
       "\n",
       "        <div id=\"BD2HMN9RJSBWJhpxukaNAL\"></div>\n",
       "        <script>netpixi.call('BD2HMN9RJSBWJhpxukaNAL', 'WTYRJsj4HGRjG4BeySs9Gy', 'changeGraph', 'eyJpZCI6ICJUaWJldGFuIiwgInR5cGUiOiAidmVydGV4IiwgInByb3BzIjogeyJjb2xvciI6IDY1MjgwfX0K');</script>\n",
       "    "
      ],
      "text/plain": [
       "<IPython.core.display.HTML object>"
      ]
     },
     "metadata": {},
     "output_type": "display_data"
    },
    {
     "data": {
      "text/html": [
       "\n",
       "        <div id=\"M9Z3SZCshg2weRVNk6xvT5\"></div>\n",
       "        <script>netpixi.call('M9Z3SZCshg2weRVNk6xvT5', 'WTYRJsj4HGRjG4BeySs9Gy', 'changeGraph', 'eyJpZCI6ICJOb3Jmb2xrIElzbGFuZCIsICJ0eXBlIjogInZlcnRleCIsICJwcm9wcyI6IHsiY29sb3IiOiA2NTI4MH19Cg==');</script>\n",
       "    "
      ],
      "text/plain": [
       "<IPython.core.display.HTML object>"
      ]
     },
     "metadata": {},
     "output_type": "display_data"
    },
    {
     "data": {
      "text/html": [
       "\n",
       "        <div id=\"4vGPgNdgACNwnmX5e7vTGx\"></div>\n",
       "        <script>netpixi.call('4vGPgNdgACNwnmX5e7vTGx', 'WTYRJsj4HGRjG4BeySs9Gy', 'changeGraph', 'eyJpZCI6ICJJcmVsYW5kIiwgInR5cGUiOiAidmVydGV4IiwgInByb3BzIjogeyJjb2xvciI6IDE2NzExNjgwfX0K');</script>\n",
       "    "
      ],
      "text/plain": [
       "<IPython.core.display.HTML object>"
      ]
     },
     "metadata": {},
     "output_type": "display_data"
    },
    {
     "data": {
      "text/html": [
       "\n",
       "        <div id=\"6zpki2QJeuwBLLk2JSyyad\"></div>\n",
       "        <script>netpixi.call('6zpki2QJeuwBLLk2JSyyad', 'WTYRJsj4HGRjG4BeySs9Gy', 'changeGraph', 'eyJpZCI6ICJTaW50IE1hYXJ0ZW4gKER1dGNoIHBhcnQpIiwgInR5cGUiOiAidmVydGV4IiwgInByb3BzIjogeyJjb2xvciI6IDY1MjgwfX0K');</script>\n",
       "    "
      ],
      "text/plain": [
       "<IPython.core.display.HTML object>"
      ]
     },
     "metadata": {},
     "output_type": "display_data"
    },
    {
     "data": {
      "text/html": [
       "\n",
       "        <div id=\"DVzPhXNAaUNw5ECixcmLN9\"></div>\n",
       "        <script>netpixi.call('DVzPhXNAaUNw5ECixcmLN9', 'WTYRJsj4HGRjG4BeySs9Gy', 'changeGraph', 'eyJpZCI6ICJNYXJzaGFsbCBJc2xhbmRzIiwgInR5cGUiOiAidmVydGV4IiwgInByb3BzIjogeyJjb2xvciI6IDY1MjgwfX0K');</script>\n",
       "    "
      ],
      "text/plain": [
       "<IPython.core.display.HTML object>"
      ]
     },
     "metadata": {},
     "output_type": "display_data"
    },
    {
     "data": {
      "text/html": [
       "\n",
       "        <div id=\"NPEXfAi3DWPNKJVR6rN3PE\"></div>\n",
       "        <script>netpixi.call('NPEXfAi3DWPNKJVR6rN3PE', 'WTYRJsj4HGRjG4BeySs9Gy', 'changeGraph', 'eyJpZCI6ICJaaW1iYWJ3ZSIsICJ0eXBlIjogInZlcnRleCIsICJwcm9wcyI6IHsiY29sb3IiOiAxNjcxMTY4MH19Cg==');</script>\n",
       "    "
      ],
      "text/plain": [
       "<IPython.core.display.HTML object>"
      ]
     },
     "metadata": {},
     "output_type": "display_data"
    },
    {
     "data": {
      "text/html": [
       "\n",
       "        <div id=\"LvgR4aDzVEJ4jVdoEa69yn\"></div>\n",
       "        <script>netpixi.call('LvgR4aDzVEJ4jVdoEa69yn', 'WTYRJsj4HGRjG4BeySs9Gy', 'changeGraph', 'eyJpZCI6ICJLYXpha2hzdGFuIiwgInR5cGUiOiAidmVydGV4IiwgInByb3BzIjogeyJjb2xvciI6IDY1MjgwfX0K');</script>\n",
       "    "
      ],
      "text/plain": [
       "<IPython.core.display.HTML object>"
      ]
     },
     "metadata": {},
     "output_type": "display_data"
    },
    {
     "data": {
      "text/html": [
       "\n",
       "        <div id=\"iJRiuY4aXacHdsfK5ikSaH\"></div>\n",
       "        <script>netpixi.call('iJRiuY4aXacHdsfK5ikSaH', 'WTYRJsj4HGRjG4BeySs9Gy', 'changeGraph', 'eyJpZCI6ICJDYW5hZGEiLCAidHlwZSI6ICJ2ZXJ0ZXgiLCAicHJvcHMiOiB7ImNvbG9yIjogMTY3MTE2ODB9fQo=');</script>\n",
       "    "
      ],
      "text/plain": [
       "<IPython.core.display.HTML object>"
      ]
     },
     "metadata": {},
     "output_type": "display_data"
    },
    {
     "data": {
      "text/html": [
       "\n",
       "        <div id=\"Zq5kuoWnQdWkcAuB6e2M9V\"></div>\n",
       "        <script>netpixi.call('Zq5kuoWnQdWkcAuB6e2M9V', 'WTYRJsj4HGRjG4BeySs9Gy', 'changeGraph', 'eyJpZCI6ICJNb250ZW5lZ3JvIiwgInR5cGUiOiAidmVydGV4IiwgInByb3BzIjogeyJjb2xvciI6IDY1MjgwfX0K');</script>\n",
       "    "
      ],
      "text/plain": [
       "<IPython.core.display.HTML object>"
      ]
     },
     "metadata": {},
     "output_type": "display_data"
    },
    {
     "data": {
      "text/html": [
       "\n",
       "        <div id=\"SkhsHpc4zRQb5uj34iZiuo\"></div>\n",
       "        <script>netpixi.call('SkhsHpc4zRQb5uj34iZiuo', 'WTYRJsj4HGRjG4BeySs9Gy', 'changeGraph', 'eyJpZCI6ICJMdXhlbWJvdXJnIiwgInR5cGUiOiAidmVydGV4IiwgInByb3BzIjogeyJjb2xvciI6IDE2NzExNjgwfX0K');</script>\n",
       "    "
      ],
      "text/plain": [
       "<IPython.core.display.HTML object>"
      ]
     },
     "metadata": {},
     "output_type": "display_data"
    },
    {
     "data": {
      "text/html": [
       "\n",
       "        <div id=\"i7zsM95ADRY9seVK4H4j7C\"></div>\n",
       "        <script>netpixi.call('i7zsM95ADRY9seVK4H4j7C', 'WTYRJsj4HGRjG4BeySs9Gy', 'changeGraph', 'eyJpZCI6ICJDemVjaCBSZXAuIiwgInR5cGUiOiAidmVydGV4IiwgInByb3BzIjogeyJjb2xvciI6IDE2NzExNjgwfX0K');</script>\n",
       "    "
      ],
      "text/plain": [
       "<IPython.core.display.HTML object>"
      ]
     },
     "metadata": {},
     "output_type": "display_data"
    },
    {
     "data": {
      "text/html": [
       "\n",
       "        <div id=\"dakKeLy7GZeCT2cKU6zSDP\"></div>\n",
       "        <script>netpixi.call('dakKeLy7GZeCT2cKU6zSDP', 'WTYRJsj4HGRjG4BeySs9Gy', 'changeGraph', 'eyJpZCI6ICJNb25hY28iLCAidHlwZSI6ICJ2ZXJ0ZXgiLCAicHJvcHMiOiB7ImNvbG9yIjogNjUyODB9fQo=');</script>\n",
       "    "
      ],
      "text/plain": [
       "<IPython.core.display.HTML object>"
      ]
     },
     "metadata": {},
     "output_type": "display_data"
    },
    {
     "data": {
      "text/html": [
       "\n",
       "        <div id=\"WgRYxosbj7vgyhMmzzbLm3\"></div>\n",
       "        <script>netpixi.call('WgRYxosbj7vgyhMmzzbLm3', 'WTYRJsj4HGRjG4BeySs9Gy', 'changeGraph', 'eyJpZCI6ICJTYW8gVG9tZSBhbmQgUHJpbmNpcGUiLCAidHlwZSI6ICJ2ZXJ0ZXgiLCAicHJvcHMiOiB7ImNvbG9yIjogNjUyODB9fQo=');</script>\n",
       "    "
      ],
      "text/plain": [
       "<IPython.core.display.HTML object>"
      ]
     },
     "metadata": {},
     "output_type": "display_data"
    },
    {
     "data": {
      "text/html": [
       "\n",
       "        <div id=\"VQxx6XCAoJEHqMszxDrT6L\"></div>\n",
       "        <script>netpixi.call('VQxx6XCAoJEHqMszxDrT6L', 'WTYRJsj4HGRjG4BeySs9Gy', 'changeGraph', 'eyJpZCI6ICJTZW5lZ2FsIiwgInR5cGUiOiAidmVydGV4IiwgInByb3BzIjogeyJjb2xvciI6IDE2NzExNjgwfX0K');</script>\n",
       "    "
      ],
      "text/plain": [
       "<IPython.core.display.HTML object>"
      ]
     },
     "metadata": {},
     "output_type": "display_data"
    },
    {
     "data": {
      "text/html": [
       "\n",
       "        <div id=\"Q6jGGXwnKvFWgMAXoxK9yw\"></div>\n",
       "        <script>netpixi.call('Q6jGGXwnKvFWgMAXoxK9yw', 'WTYRJsj4HGRjG4BeySs9Gy', 'changeGraph', 'eyJpZCI6ICJTb21hbGlhIiwgInR5cGUiOiAidmVydGV4IiwgInByb3BzIjogeyJjb2xvciI6IDY1MjgwfX0K');</script>\n",
       "    "
      ],
      "text/plain": [
       "<IPython.core.display.HTML object>"
      ]
     },
     "metadata": {},
     "output_type": "display_data"
    },
    {
     "data": {
      "text/html": [
       "\n",
       "        <div id=\"SVnB8N7XNwzrwPKVMLS6W3\"></div>\n",
       "        <script>netpixi.call('SVnB8N7XNwzrwPKVMLS6W3', 'WTYRJsj4HGRjG4BeySs9Gy', 'changeGraph', 'eyJpZCI6ICJBdXN0cmlhIiwgInR5cGUiOiAidmVydGV4IiwgInByb3BzIjogeyJjb2xvciI6IDE2NzExNjgwfX0K');</script>\n",
       "    "
      ],
      "text/plain": [
       "<IPython.core.display.HTML object>"
      ]
     },
     "metadata": {},
     "output_type": "display_data"
    },
    {
     "data": {
      "text/html": [
       "\n",
       "        <div id=\"en85iMgT3n2kFf5SABWZAx\"></div>\n",
       "        <script>netpixi.call('en85iMgT3n2kFf5SABWZAx', 'WTYRJsj4HGRjG4BeySs9Gy', 'changeGraph', 'eyJpZCI6ICJBbmdvbGEiLCAidHlwZSI6ICJ2ZXJ0ZXgiLCAicHJvcHMiOiB7ImNvbG9yIjogMTY3MTE2ODB9fQo=');</script>\n",
       "    "
      ],
      "text/plain": [
       "<IPython.core.display.HTML object>"
      ]
     },
     "metadata": {},
     "output_type": "display_data"
    },
    {
     "data": {
      "text/html": [
       "\n",
       "        <div id=\"Z7CF5GSL7QbPZmsSsiQFiX\"></div>\n",
       "        <script>netpixi.call('Z7CF5GSL7QbPZmsSsiQFiX', 'WTYRJsj4HGRjG4BeySs9Gy', 'changeGraph', 'eyJpZCI6ICJNYWxhd2kiLCAidHlwZSI6ICJ2ZXJ0ZXgiLCAicHJvcHMiOiB7ImNvbG9yIjogNjUyODB9fQo=');</script>\n",
       "    "
      ],
      "text/plain": [
       "<IPython.core.display.HTML object>"
      ]
     },
     "metadata": {},
     "output_type": "display_data"
    }
   ],
   "source": [
    "matrix = spectral.adjacency(g)\n",
    "\n",
    "# # Além de cpnet.Surprise, há outras\n",
    "# # opções de algoritmos discretos:\n",
    "# # cpnet.BE\n",
    "# # cpnet.Lip\n",
    "# # cpnet.LapCore\n",
    "# # cpnet.LapSgnCore\n",
    "# # cpnet.LowRankCore\n",
    "\n",
    "algorithm = cpnet.BE()\n",
    "algorithm.detect(matrix)\n",
    "c = algorithm.get_coreness()\n",
    "\n",
    "# # Depois do código acima, c é um dicionário\n",
    "# # em que as chaves são índices de vértices e\n",
    "# # valores são os atribuídos pelo algoritmo.\n",
    "\n",
    "g.add_vp('coreness')\n",
    "for i, coreness in c.items():\n",
    "    v = g.get_vertex_by_index(i)\n",
    "    v['coreness'] = int(coreness)\n",
    "    \n",
    "# # Vamos pintar de vermelho todos os vértices\n",
    "# # identificados como centro e de verde todos\n",
    "# # os vértices identificados como periferia.\n",
    "    \n",
    "for v in g.all_vertices():\n",
    "    if v['coreness'] == 1:\n",
    "        r.vertex(v['id'], color=0xff0000)\n",
    "    else:\n",
    "        r.vertex(v['id'], color=0x00ff00)\n",
    "\n",
    "# # Quando a execução desta célula terminar,\n",
    "# # veja como ficou a visualização acima."
   ]
  },
  {
   "cell_type": "code",
   "execution_count": 67,
   "id": "85f026af",
   "metadata": {},
   "outputs": [
    {
     "data": {
      "text/html": [
       "\n",
       "        <div id=\"gefrSZ2zLKGCZDfWDs7eGf\"></div>\n",
       "        <script>netpixi.call('gefrSZ2zLKGCZDfWDs7eGf', 'WTYRJsj4HGRjG4BeySs9Gy', 'normalizeGraph', 'eyJ0eXBlIjogImVkZ2UiLCAicHJvcHMiOiB7InNyYyI6ICJhY2VpdG9zIiwgIm1pbiI6IDEsICJtYXgiOiAxMH19Cg==');</script>\n",
       "    "
      ],
      "text/plain": [
       "<IPython.core.display.HTML object>"
      ]
     },
     "metadata": {},
     "output_type": "display_data"
    },
    {
     "data": {
      "text/html": [
       "\n",
       "        <div id=\"PGthMye4JVmTs6VvAWfGtx\"></div>\n",
       "        <script>netpixi.call('PGthMye4JVmTs6VvAWfGtx', 'WTYRJsj4HGRjG4BeySs9Gy', 'setGraph', 'eyJ0eXBlIjogInZlcnRleCIsICJwcm9wcyI6IHsic3JjIjogIm5vbWUiLCAiZHN0IjogIl9rZXkifX0K');</script>\n",
       "    "
      ],
      "text/plain": [
       "<IPython.core.display.HTML object>"
      ]
     },
     "metadata": {},
     "output_type": "display_data"
    },
    {
     "data": {
      "text/html": [
       "\n",
       "        <div id=\"8PtfwiH8bPzSxMxisdGA8A\"></div>\n",
       "        <script>netpixi.call('8PtfwiH8bPzSxMxisdGA8A', 'WTYRJsj4HGRjG4BeySs9Gy', 'normalizeGraph', 'eyJ0eXBlIjogInZlcnRleCIsICJwcm9wcyI6IHsic3JjIjogImNvcmVuZXNzIiwgIm1pbiI6IDUsICJtYXgiOiAyNX19Cg==');</script>\n",
       "    "
      ],
      "text/plain": [
       "<IPython.core.display.HTML object>"
      ]
     },
     "metadata": {},
     "output_type": "display_data"
    }
   ],
   "source": [
    "r.edge_scale('aceitos', 1, 10)\n",
    "\n",
    "r.vertex_set_key('nome')\n",
    "\n",
    "r.vertex_scale('coreness', 5, 25)"
   ]
  },
  {
   "cell_type": "code",
   "execution_count": 68,
   "id": "72e3494f",
   "metadata": {},
   "outputs": [
    {
     "data": {
      "text/html": [
       "<div>\n",
       "<style scoped>\n",
       "    .dataframe tbody tr th:only-of-type {\n",
       "        vertical-align: middle;\n",
       "    }\n",
       "\n",
       "    .dataframe tbody tr th {\n",
       "        vertical-align: top;\n",
       "    }\n",
       "\n",
       "    .dataframe thead th {\n",
       "        text-align: right;\n",
       "    }\n",
       "</style>\n",
       "<table border=\"1\" class=\"dataframe\">\n",
       "  <thead>\n",
       "    <tr style=\"text-align: right;\">\n",
       "      <th></th>\n",
       "      <th>nome</th>\n",
       "      <th>coreness</th>\n",
       "      <th>core</th>\n",
       "    </tr>\n",
       "    <tr>\n",
       "      <th>id</th>\n",
       "      <th></th>\n",
       "      <th></th>\n",
       "      <th></th>\n",
       "    </tr>\n",
       "  </thead>\n",
       "  <tbody>\n",
       "    <tr>\n",
       "      <th>Poland</th>\n",
       "      <td>Poland</td>\n",
       "      <td>1</td>\n",
       "      <td>1</td>\n",
       "    </tr>\n",
       "    <tr>\n",
       "      <th>Kenya</th>\n",
       "      <td>Kenya</td>\n",
       "      <td>1</td>\n",
       "      <td>1</td>\n",
       "    </tr>\n",
       "    <tr>\n",
       "      <th>Lebanon</th>\n",
       "      <td>Lebanon</td>\n",
       "      <td>1</td>\n",
       "      <td>1</td>\n",
       "    </tr>\n",
       "    <tr>\n",
       "      <th>Israel</th>\n",
       "      <td>Israel</td>\n",
       "      <td>1</td>\n",
       "      <td>1</td>\n",
       "    </tr>\n",
       "    <tr>\n",
       "      <th>United States of America</th>\n",
       "      <td>United States of America</td>\n",
       "      <td>1</td>\n",
       "      <td>1</td>\n",
       "    </tr>\n",
       "    <tr>\n",
       "      <th>...</th>\n",
       "      <td>...</td>\n",
       "      <td>...</td>\n",
       "      <td>...</td>\n",
       "    </tr>\n",
       "    <tr>\n",
       "      <th>Palestinian</th>\n",
       "      <td>Palestinian</td>\n",
       "      <td>0</td>\n",
       "      <td>0</td>\n",
       "    </tr>\n",
       "    <tr>\n",
       "      <th>Cameroon</th>\n",
       "      <td>Cameroon</td>\n",
       "      <td>0</td>\n",
       "      <td>0</td>\n",
       "    </tr>\n",
       "    <tr>\n",
       "      <th>Guinea-Bissau</th>\n",
       "      <td>Guinea-Bissau</td>\n",
       "      <td>0</td>\n",
       "      <td>0</td>\n",
       "    </tr>\n",
       "    <tr>\n",
       "      <th>Papua New Guinea</th>\n",
       "      <td>Papua New Guinea</td>\n",
       "      <td>0</td>\n",
       "      <td>0</td>\n",
       "    </tr>\n",
       "    <tr>\n",
       "      <th>Malawi</th>\n",
       "      <td>Malawi</td>\n",
       "      <td>0</td>\n",
       "      <td>0</td>\n",
       "    </tr>\n",
       "  </tbody>\n",
       "</table>\n",
       "<p>225 rows × 3 columns</p>\n",
       "</div>"
      ],
      "text/plain": [
       "                                              nome  coreness  core\n",
       "id                                                                \n",
       "Poland                                      Poland         1     1\n",
       "Kenya                                        Kenya         1     1\n",
       "Lebanon                                    Lebanon         1     1\n",
       "Israel                                      Israel         1     1\n",
       "United States of America  United States of America         1     1\n",
       "...                                            ...       ...   ...\n",
       "Palestinian                            Palestinian         0     0\n",
       "Cameroon                                  Cameroon         0     0\n",
       "Guinea-Bissau                        Guinea-Bissau         0     0\n",
       "Papua New Guinea                  Papua New Guinea         0     0\n",
       "Malawi                                      Malawi         0     0\n",
       "\n",
       "[225 rows x 3 columns]"
      ]
     },
     "execution_count": 68,
     "metadata": {},
     "output_type": "execute_result"
    }
   ],
   "source": [
    "df_coreness_2001_2003 = gt_data(g).sort_values(\"coreness\", ascending = False)\n",
    "df_coreness_2001_2003"
   ]
  },
  {
   "cell_type": "code",
   "execution_count": 69,
   "id": "ec43a83d",
   "metadata": {},
   "outputs": [
    {
     "name": "stderr",
     "output_type": "stream",
     "text": [
      "<frozen importlib._bootstrap>:914: ImportWarning: VendorImporter.find_spec() not found; falling back to find_module()\n"
     ]
    },
    {
     "data": {
      "text/html": [
       "<div>\n",
       "<style scoped>\n",
       "    .dataframe tbody tr th:only-of-type {\n",
       "        vertical-align: middle;\n",
       "    }\n",
       "\n",
       "    .dataframe tbody tr th {\n",
       "        vertical-align: top;\n",
       "    }\n",
       "\n",
       "    .dataframe thead th {\n",
       "        text-align: right;\n",
       "    }\n",
       "</style>\n",
       "<table border=\"1\" class=\"dataframe\">\n",
       "  <thead>\n",
       "    <tr style=\"text-align: right;\">\n",
       "      <th></th>\n",
       "      <th>Unnamed: 0.1</th>\n",
       "      <th>Unnamed: 0</th>\n",
       "      <th>country</th>\n",
       "      <th>idh_2000</th>\n",
       "      <th>idh_2001</th>\n",
       "      <th>idh_2002</th>\n",
       "      <th>idh_2003</th>\n",
       "      <th>idh_2004</th>\n",
       "      <th>idh_2005</th>\n",
       "      <th>idh_2006</th>\n",
       "      <th>...</th>\n",
       "      <th>rejected</th>\n",
       "      <th>betweenness</th>\n",
       "      <th>pop_cont</th>\n",
       "      <th>coreness</th>\n",
       "      <th>in_degree</th>\n",
       "      <th>out_degree</th>\n",
       "      <th>open</th>\n",
       "      <th>coreness_discreto</th>\n",
       "      <th>idh_2008_2012</th>\n",
       "      <th>idh_2001_2003</th>\n",
       "    </tr>\n",
       "  </thead>\n",
       "  <tbody>\n",
       "    <tr>\n",
       "      <th>0</th>\n",
       "      <td>0</td>\n",
       "      <td>0</td>\n",
       "      <td>China, Hong Kong SAR</td>\n",
       "      <td>0.830</td>\n",
       "      <td>0.838</td>\n",
       "      <td>0.845</td>\n",
       "      <td>0.854</td>\n",
       "      <td>0.865</td>\n",
       "      <td>0.874</td>\n",
       "      <td>0.886</td>\n",
       "      <td>...</td>\n",
       "      <td>7767</td>\n",
       "      <td>2.861034e-04</td>\n",
       "      <td>0</td>\n",
       "      <td>0.240278</td>\n",
       "      <td>830</td>\n",
       "      <td>16</td>\n",
       "      <td>9.654531</td>\n",
       "      <td>0</td>\n",
       "      <td>0.9050</td>\n",
       "      <td>0.845667</td>\n",
       "    </tr>\n",
       "    <tr>\n",
       "      <th>1</th>\n",
       "      <td>1</td>\n",
       "      <td>1</td>\n",
       "      <td>China, Macao SAR</td>\n",
       "      <td>0.922</td>\n",
       "      <td>0.922</td>\n",
       "      <td>0.922</td>\n",
       "      <td>0.922</td>\n",
       "      <td>0.922</td>\n",
       "      <td>0.922</td>\n",
       "      <td>0.922</td>\n",
       "      <td>...</td>\n",
       "      <td>7</td>\n",
       "      <td>8.704008e-07</td>\n",
       "      <td>0</td>\n",
       "      <td>0.098611</td>\n",
       "      <td>10</td>\n",
       "      <td>3</td>\n",
       "      <td>58.823529</td>\n",
       "      <td>0</td>\n",
       "      <td>0.9220</td>\n",
       "      <td>0.922000</td>\n",
       "    </tr>\n",
       "    <tr>\n",
       "      <th>2</th>\n",
       "      <td>2</td>\n",
       "      <td>2</td>\n",
       "      <td>Afghanistan</td>\n",
       "      <td>0.350</td>\n",
       "      <td>0.353</td>\n",
       "      <td>0.384</td>\n",
       "      <td>0.393</td>\n",
       "      <td>0.409</td>\n",
       "      <td>0.418</td>\n",
       "      <td>0.429</td>\n",
       "      <td>...</td>\n",
       "      <td>243</td>\n",
       "      <td>2.351135e-03</td>\n",
       "      <td>0</td>\n",
       "      <td>0.120833</td>\n",
       "      <td>249</td>\n",
       "      <td>239198</td>\n",
       "      <td>50.609756</td>\n",
       "      <td>0</td>\n",
       "      <td>0.4690</td>\n",
       "      <td>0.376667</td>\n",
       "    </tr>\n",
       "    <tr>\n",
       "      <th>3</th>\n",
       "      <td>3</td>\n",
       "      <td>3</td>\n",
       "      <td>Albania</td>\n",
       "      <td>0.671</td>\n",
       "      <td>0.678</td>\n",
       "      <td>0.684</td>\n",
       "      <td>0.691</td>\n",
       "      <td>0.696</td>\n",
       "      <td>0.706</td>\n",
       "      <td>0.713</td>\n",
       "      <td>...</td>\n",
       "      <td>64</td>\n",
       "      <td>1.306107e-03</td>\n",
       "      <td>0</td>\n",
       "      <td>0.218056</td>\n",
       "      <td>158</td>\n",
       "      <td>14660</td>\n",
       "      <td>71.171171</td>\n",
       "      <td>0</td>\n",
       "      <td>0.7490</td>\n",
       "      <td>0.684333</td>\n",
       "    </tr>\n",
       "    <tr>\n",
       "      <th>4</th>\n",
       "      <td>4</td>\n",
       "      <td>4</td>\n",
       "      <td>Algeria</td>\n",
       "      <td>0.637</td>\n",
       "      <td>0.647</td>\n",
       "      <td>0.657</td>\n",
       "      <td>0.667</td>\n",
       "      <td>0.677</td>\n",
       "      <td>0.685</td>\n",
       "      <td>0.690</td>\n",
       "      <td>...</td>\n",
       "      <td>5511</td>\n",
       "      <td>5.926680e-03</td>\n",
       "      <td>0</td>\n",
       "      <td>0.222222</td>\n",
       "      <td>404</td>\n",
       "      <td>6174</td>\n",
       "      <td>6.830093</td>\n",
       "      <td>0</td>\n",
       "      <td>0.7180</td>\n",
       "      <td>0.657000</td>\n",
       "    </tr>\n",
       "    <tr>\n",
       "      <th>...</th>\n",
       "      <td>...</td>\n",
       "      <td>...</td>\n",
       "      <td>...</td>\n",
       "      <td>...</td>\n",
       "      <td>...</td>\n",
       "      <td>...</td>\n",
       "      <td>...</td>\n",
       "      <td>...</td>\n",
       "      <td>...</td>\n",
       "      <td>...</td>\n",
       "      <td>...</td>\n",
       "      <td>...</td>\n",
       "      <td>...</td>\n",
       "      <td>...</td>\n",
       "      <td>...</td>\n",
       "      <td>...</td>\n",
       "      <td>...</td>\n",
       "      <td>...</td>\n",
       "      <td>...</td>\n",
       "      <td>...</td>\n",
       "      <td>...</td>\n",
       "    </tr>\n",
       "    <tr>\n",
       "      <th>220</th>\n",
       "      <td>220</td>\n",
       "      <td>220</td>\n",
       "      <td>Wallis and Futuna Islands</td>\n",
       "      <td>0.763</td>\n",
       "      <td>0.763</td>\n",
       "      <td>0.763</td>\n",
       "      <td>0.763</td>\n",
       "      <td>0.763</td>\n",
       "      <td>0.763</td>\n",
       "      <td>0.763</td>\n",
       "      <td>...</td>\n",
       "      <td>0</td>\n",
       "      <td>0.000000e+00</td>\n",
       "      <td>0</td>\n",
       "      <td>0.045833</td>\n",
       "      <td>0</td>\n",
       "      <td>0</td>\n",
       "      <td>0.000000</td>\n",
       "      <td>0</td>\n",
       "      <td>0.7630</td>\n",
       "      <td>0.763000</td>\n",
       "    </tr>\n",
       "    <tr>\n",
       "      <th>221</th>\n",
       "      <td>221</td>\n",
       "      <td>221</td>\n",
       "      <td>Western Sahara</td>\n",
       "      <td>0.000</td>\n",
       "      <td>0.000</td>\n",
       "      <td>0.000</td>\n",
       "      <td>0.000</td>\n",
       "      <td>0.000</td>\n",
       "      <td>0.000</td>\n",
       "      <td>0.000</td>\n",
       "      <td>...</td>\n",
       "      <td>0</td>\n",
       "      <td>0.000000e+00</td>\n",
       "      <td>0</td>\n",
       "      <td>0.004167</td>\n",
       "      <td>0</td>\n",
       "      <td>473</td>\n",
       "      <td>0.000000</td>\n",
       "      <td>0</td>\n",
       "      <td>0.0000</td>\n",
       "      <td>0.000000</td>\n",
       "    </tr>\n",
       "    <tr>\n",
       "      <th>222</th>\n",
       "      <td>222</td>\n",
       "      <td>222</td>\n",
       "      <td>Yemen</td>\n",
       "      <td>0.444</td>\n",
       "      <td>0.453</td>\n",
       "      <td>0.461</td>\n",
       "      <td>0.470</td>\n",
       "      <td>0.477</td>\n",
       "      <td>0.483</td>\n",
       "      <td>0.488</td>\n",
       "      <td>...</td>\n",
       "      <td>5730</td>\n",
       "      <td>5.728203e-03</td>\n",
       "      <td>0</td>\n",
       "      <td>0.194444</td>\n",
       "      <td>11977</td>\n",
       "      <td>10037</td>\n",
       "      <td>67.639916</td>\n",
       "      <td>0</td>\n",
       "      <td>0.5026</td>\n",
       "      <td>0.461333</td>\n",
       "    </tr>\n",
       "    <tr>\n",
       "      <th>223</th>\n",
       "      <td>223</td>\n",
       "      <td>223</td>\n",
       "      <td>Zambia</td>\n",
       "      <td>0.425</td>\n",
       "      <td>0.432</td>\n",
       "      <td>0.441</td>\n",
       "      <td>0.451</td>\n",
       "      <td>0.460</td>\n",
       "      <td>0.471</td>\n",
       "      <td>0.482</td>\n",
       "      <td>...</td>\n",
       "      <td>2454</td>\n",
       "      <td>9.805704e-04</td>\n",
       "      <td>0</td>\n",
       "      <td>0.166667</td>\n",
       "      <td>8280</td>\n",
       "      <td>295</td>\n",
       "      <td>77.138066</td>\n",
       "      <td>0</td>\n",
       "      <td>0.5260</td>\n",
       "      <td>0.441333</td>\n",
       "    </tr>\n",
       "    <tr>\n",
       "      <th>224</th>\n",
       "      <td>224</td>\n",
       "      <td>224</td>\n",
       "      <td>Zimbabwe</td>\n",
       "      <td>0.430</td>\n",
       "      <td>0.431</td>\n",
       "      <td>0.423</td>\n",
       "      <td>0.414</td>\n",
       "      <td>0.411</td>\n",
       "      <td>0.411</td>\n",
       "      <td>0.414</td>\n",
       "      <td>...</td>\n",
       "      <td>1315</td>\n",
       "      <td>2.669126e-03</td>\n",
       "      <td>0</td>\n",
       "      <td>0.156944</td>\n",
       "      <td>15749</td>\n",
       "      <td>25778</td>\n",
       "      <td>92.293718</td>\n",
       "      <td>0</td>\n",
       "      <td>0.4772</td>\n",
       "      <td>0.422667</td>\n",
       "    </tr>\n",
       "  </tbody>\n",
       "</table>\n",
       "<p>225 rows × 33 columns</p>\n",
       "</div>"
      ],
      "text/plain": [
       "     Unnamed: 0.1  Unnamed: 0                     country  idh_2000  idh_2001  \\\n",
       "0               0           0        China, Hong Kong SAR     0.830     0.838   \n",
       "1               1           1            China, Macao SAR     0.922     0.922   \n",
       "2               2           2                 Afghanistan     0.350     0.353   \n",
       "3               3           3                     Albania     0.671     0.678   \n",
       "4               4           4                     Algeria     0.637     0.647   \n",
       "..            ...         ...                         ...       ...       ...   \n",
       "220           220         220  Wallis and Futuna Islands      0.763     0.763   \n",
       "221           221         221              Western Sahara     0.000     0.000   \n",
       "222           222         222                       Yemen     0.444     0.453   \n",
       "223           223         223                      Zambia     0.425     0.432   \n",
       "224           224         224                    Zimbabwe     0.430     0.431   \n",
       "\n",
       "     idh_2002  idh_2003  idh_2004  idh_2005  idh_2006  ...  rejected  \\\n",
       "0       0.845     0.854     0.865     0.874     0.886  ...      7767   \n",
       "1       0.922     0.922     0.922     0.922     0.922  ...         7   \n",
       "2       0.384     0.393     0.409     0.418     0.429  ...       243   \n",
       "3       0.684     0.691     0.696     0.706     0.713  ...        64   \n",
       "4       0.657     0.667     0.677     0.685     0.690  ...      5511   \n",
       "..        ...       ...       ...       ...       ...  ...       ...   \n",
       "220     0.763     0.763     0.763     0.763     0.763  ...         0   \n",
       "221     0.000     0.000     0.000     0.000     0.000  ...         0   \n",
       "222     0.461     0.470     0.477     0.483     0.488  ...      5730   \n",
       "223     0.441     0.451     0.460     0.471     0.482  ...      2454   \n",
       "224     0.423     0.414     0.411     0.411     0.414  ...      1315   \n",
       "\n",
       "      betweenness  pop_cont  coreness  in_degree  out_degree       open  \\\n",
       "0    2.861034e-04         0  0.240278        830          16   9.654531   \n",
       "1    8.704008e-07         0  0.098611         10           3  58.823529   \n",
       "2    2.351135e-03         0  0.120833        249      239198  50.609756   \n",
       "3    1.306107e-03         0  0.218056        158       14660  71.171171   \n",
       "4    5.926680e-03         0  0.222222        404        6174   6.830093   \n",
       "..            ...       ...       ...        ...         ...        ...   \n",
       "220  0.000000e+00         0  0.045833          0           0   0.000000   \n",
       "221  0.000000e+00         0  0.004167          0         473   0.000000   \n",
       "222  5.728203e-03         0  0.194444      11977       10037  67.639916   \n",
       "223  9.805704e-04         0  0.166667       8280         295  77.138066   \n",
       "224  2.669126e-03         0  0.156944      15749       25778  92.293718   \n",
       "\n",
       "     coreness_discreto  idh_2008_2012  idh_2001_2003  \n",
       "0                    0         0.9050       0.845667  \n",
       "1                    0         0.9220       0.922000  \n",
       "2                    0         0.4690       0.376667  \n",
       "3                    0         0.7490       0.684333  \n",
       "4                    0         0.7180       0.657000  \n",
       "..                 ...            ...            ...  \n",
       "220                  0         0.7630       0.763000  \n",
       "221                  0         0.0000       0.000000  \n",
       "222                  0         0.5026       0.461333  \n",
       "223                  0         0.5260       0.441333  \n",
       "224                  0         0.4772       0.422667  \n",
       "\n",
       "[225 rows x 33 columns]"
      ]
     },
     "execution_count": 69,
     "metadata": {},
     "output_type": "execute_result"
    }
   ],
   "source": [
    "data = pd.read_excel('./final_db.xlsx')\n",
    "data"
   ]
  },
  {
   "cell_type": "code",
   "execution_count": 70,
   "id": "eac0ddef",
   "metadata": {},
   "outputs": [
    {
     "data": {
      "text/html": [
       "<div>\n",
       "<style scoped>\n",
       "    .dataframe tbody tr th:only-of-type {\n",
       "        vertical-align: middle;\n",
       "    }\n",
       "\n",
       "    .dataframe tbody tr th {\n",
       "        vertical-align: top;\n",
       "    }\n",
       "\n",
       "    .dataframe thead th {\n",
       "        text-align: right;\n",
       "    }\n",
       "</style>\n",
       "<table border=\"1\" class=\"dataframe\">\n",
       "  <thead>\n",
       "    <tr style=\"text-align: right;\">\n",
       "      <th></th>\n",
       "      <th>origin</th>\n",
       "      <th>coreness</th>\n",
       "      <th>core</th>\n",
       "    </tr>\n",
       "    <tr>\n",
       "      <th>id</th>\n",
       "      <th></th>\n",
       "      <th></th>\n",
       "      <th></th>\n",
       "    </tr>\n",
       "  </thead>\n",
       "  <tbody>\n",
       "    <tr>\n",
       "      <th>Poland</th>\n",
       "      <td>Poland</td>\n",
       "      <td>1</td>\n",
       "      <td>1</td>\n",
       "    </tr>\n",
       "    <tr>\n",
       "      <th>Kenya</th>\n",
       "      <td>Kenya</td>\n",
       "      <td>1</td>\n",
       "      <td>1</td>\n",
       "    </tr>\n",
       "    <tr>\n",
       "      <th>Lebanon</th>\n",
       "      <td>Lebanon</td>\n",
       "      <td>1</td>\n",
       "      <td>1</td>\n",
       "    </tr>\n",
       "    <tr>\n",
       "      <th>Israel</th>\n",
       "      <td>Israel</td>\n",
       "      <td>1</td>\n",
       "      <td>1</td>\n",
       "    </tr>\n",
       "    <tr>\n",
       "      <th>United States of America</th>\n",
       "      <td>United States of America</td>\n",
       "      <td>1</td>\n",
       "      <td>1</td>\n",
       "    </tr>\n",
       "    <tr>\n",
       "      <th>...</th>\n",
       "      <td>...</td>\n",
       "      <td>...</td>\n",
       "      <td>...</td>\n",
       "    </tr>\n",
       "    <tr>\n",
       "      <th>Palestinian</th>\n",
       "      <td>Palestinian</td>\n",
       "      <td>0</td>\n",
       "      <td>0</td>\n",
       "    </tr>\n",
       "    <tr>\n",
       "      <th>Cameroon</th>\n",
       "      <td>Cameroon</td>\n",
       "      <td>0</td>\n",
       "      <td>0</td>\n",
       "    </tr>\n",
       "    <tr>\n",
       "      <th>Guinea-Bissau</th>\n",
       "      <td>Guinea-Bissau</td>\n",
       "      <td>0</td>\n",
       "      <td>0</td>\n",
       "    </tr>\n",
       "    <tr>\n",
       "      <th>Papua New Guinea</th>\n",
       "      <td>Papua New Guinea</td>\n",
       "      <td>0</td>\n",
       "      <td>0</td>\n",
       "    </tr>\n",
       "    <tr>\n",
       "      <th>Malawi</th>\n",
       "      <td>Malawi</td>\n",
       "      <td>0</td>\n",
       "      <td>0</td>\n",
       "    </tr>\n",
       "  </tbody>\n",
       "</table>\n",
       "<p>225 rows × 3 columns</p>\n",
       "</div>"
      ],
      "text/plain": [
       "                                            origin  coreness  core\n",
       "id                                                                \n",
       "Poland                                      Poland         1     1\n",
       "Kenya                                        Kenya         1     1\n",
       "Lebanon                                    Lebanon         1     1\n",
       "Israel                                      Israel         1     1\n",
       "United States of America  United States of America         1     1\n",
       "...                                            ...       ...   ...\n",
       "Palestinian                            Palestinian         0     0\n",
       "Cameroon                                  Cameroon         0     0\n",
       "Guinea-Bissau                        Guinea-Bissau         0     0\n",
       "Papua New Guinea                  Papua New Guinea         0     0\n",
       "Malawi                                      Malawi         0     0\n",
       "\n",
       "[225 rows x 3 columns]"
      ]
     },
     "execution_count": 70,
     "metadata": {},
     "output_type": "execute_result"
    }
   ],
   "source": [
    "data_neighboors_countries = data.loc[:, ['n_neightbours', 'country']]\n",
    "\n",
    "data_neighboors_countries = data_neighboors_countries.rename(columns={'n_neightbours': 'n_neightbours', 'country': 'origin'})\n",
    "\n",
    "df_coreness_2001_2003 = df_coreness_2001_2003.rename(columns={'nome': 'origin'})\n",
    "df_coreness_2001_2003"
   ]
  },
  {
   "cell_type": "code",
   "execution_count": 71,
   "id": "5ecd4ea6",
   "metadata": {},
   "outputs": [
    {
     "data": {
      "text/html": [
       "<div>\n",
       "<style scoped>\n",
       "    .dataframe tbody tr th:only-of-type {\n",
       "        vertical-align: middle;\n",
       "    }\n",
       "\n",
       "    .dataframe tbody tr th {\n",
       "        vertical-align: top;\n",
       "    }\n",
       "\n",
       "    .dataframe thead th {\n",
       "        text-align: right;\n",
       "    }\n",
       "</style>\n",
       "<table border=\"1\" class=\"dataframe\">\n",
       "  <thead>\n",
       "    <tr style=\"text-align: right;\">\n",
       "      <th></th>\n",
       "      <th>origin</th>\n",
       "      <th>coreness</th>\n",
       "      <th>core</th>\n",
       "      <th>n_neightbours</th>\n",
       "    </tr>\n",
       "  </thead>\n",
       "  <tbody>\n",
       "    <tr>\n",
       "      <th>0</th>\n",
       "      <td>Poland</td>\n",
       "      <td>1</td>\n",
       "      <td>1</td>\n",
       "      <td>7</td>\n",
       "    </tr>\n",
       "    <tr>\n",
       "      <th>1</th>\n",
       "      <td>Kenya</td>\n",
       "      <td>1</td>\n",
       "      <td>1</td>\n",
       "      <td>5</td>\n",
       "    </tr>\n",
       "    <tr>\n",
       "      <th>2</th>\n",
       "      <td>Lebanon</td>\n",
       "      <td>1</td>\n",
       "      <td>1</td>\n",
       "      <td>2</td>\n",
       "    </tr>\n",
       "    <tr>\n",
       "      <th>3</th>\n",
       "      <td>Israel</td>\n",
       "      <td>1</td>\n",
       "      <td>1</td>\n",
       "      <td>5</td>\n",
       "    </tr>\n",
       "    <tr>\n",
       "      <th>4</th>\n",
       "      <td>United States of America</td>\n",
       "      <td>1</td>\n",
       "      <td>1</td>\n",
       "      <td>2</td>\n",
       "    </tr>\n",
       "    <tr>\n",
       "      <th>...</th>\n",
       "      <td>...</td>\n",
       "      <td>...</td>\n",
       "      <td>...</td>\n",
       "      <td>...</td>\n",
       "    </tr>\n",
       "    <tr>\n",
       "      <th>220</th>\n",
       "      <td>Palestinian</td>\n",
       "      <td>0</td>\n",
       "      <td>0</td>\n",
       "      <td>5</td>\n",
       "    </tr>\n",
       "    <tr>\n",
       "      <th>221</th>\n",
       "      <td>Cameroon</td>\n",
       "      <td>0</td>\n",
       "      <td>0</td>\n",
       "      <td>6</td>\n",
       "    </tr>\n",
       "    <tr>\n",
       "      <th>222</th>\n",
       "      <td>Guinea-Bissau</td>\n",
       "      <td>0</td>\n",
       "      <td>0</td>\n",
       "      <td>2</td>\n",
       "    </tr>\n",
       "    <tr>\n",
       "      <th>223</th>\n",
       "      <td>Papua New Guinea</td>\n",
       "      <td>0</td>\n",
       "      <td>0</td>\n",
       "      <td>1</td>\n",
       "    </tr>\n",
       "    <tr>\n",
       "      <th>224</th>\n",
       "      <td>Malawi</td>\n",
       "      <td>0</td>\n",
       "      <td>0</td>\n",
       "      <td>3</td>\n",
       "    </tr>\n",
       "  </tbody>\n",
       "</table>\n",
       "<p>225 rows × 4 columns</p>\n",
       "</div>"
      ],
      "text/plain": [
       "                       origin  coreness  core  n_neightbours\n",
       "0                      Poland         1     1              7\n",
       "1                       Kenya         1     1              5\n",
       "2                     Lebanon         1     1              2\n",
       "3                      Israel         1     1              5\n",
       "4    United States of America         1     1              2\n",
       "..                        ...       ...   ...            ...\n",
       "220               Palestinian         0     0              5\n",
       "221                  Cameroon         0     0              6\n",
       "222             Guinea-Bissau         0     0              2\n",
       "223          Papua New Guinea         0     0              1\n",
       "224                    Malawi         0     0              3\n",
       "\n",
       "[225 rows x 4 columns]"
      ]
     },
     "execution_count": 71,
     "metadata": {},
     "output_type": "execute_result"
    }
   ],
   "source": [
    "df_coreness_2001_2003 = df_coreness_2001_2003.merge(data_neighboors_countries, on=\"origin\", how=\"left\")\n",
    "df_coreness_2001_2003"
   ]
  },
  {
   "cell_type": "code",
   "execution_count": 72,
   "id": "e24c76ce",
   "metadata": {},
   "outputs": [
    {
     "data": {
      "text/html": [
       "<div>\n",
       "<style scoped>\n",
       "    .dataframe tbody tr th:only-of-type {\n",
       "        vertical-align: middle;\n",
       "    }\n",
       "\n",
       "    .dataframe tbody tr th {\n",
       "        vertical-align: top;\n",
       "    }\n",
       "\n",
       "    .dataframe thead th {\n",
       "        text-align: right;\n",
       "    }\n",
       "</style>\n",
       "<table border=\"1\" class=\"dataframe\">\n",
       "  <thead>\n",
       "    <tr style=\"text-align: right;\">\n",
       "      <th></th>\n",
       "      <th>origin</th>\n",
       "      <th>coreness</th>\n",
       "      <th>core</th>\n",
       "      <th>n_neightbours</th>\n",
       "    </tr>\n",
       "  </thead>\n",
       "  <tbody>\n",
       "    <tr>\n",
       "      <th>1</th>\n",
       "      <td>Kenya</td>\n",
       "      <td>1</td>\n",
       "      <td>1</td>\n",
       "      <td>5</td>\n",
       "    </tr>\n",
       "    <tr>\n",
       "      <th>5</th>\n",
       "      <td>Gabon</td>\n",
       "      <td>1</td>\n",
       "      <td>1</td>\n",
       "      <td>3</td>\n",
       "    </tr>\n",
       "    <tr>\n",
       "      <th>8</th>\n",
       "      <td>Nigeria</td>\n",
       "      <td>1</td>\n",
       "      <td>1</td>\n",
       "      <td>4</td>\n",
       "    </tr>\n",
       "    <tr>\n",
       "      <th>9</th>\n",
       "      <td>Mozambique</td>\n",
       "      <td>1</td>\n",
       "      <td>1</td>\n",
       "      <td>6</td>\n",
       "    </tr>\n",
       "    <tr>\n",
       "      <th>18</th>\n",
       "      <td>Dem. Rep. of the Congo</td>\n",
       "      <td>1</td>\n",
       "      <td>1</td>\n",
       "      <td>10</td>\n",
       "    </tr>\n",
       "    <tr>\n",
       "      <th>19</th>\n",
       "      <td>Egypt</td>\n",
       "      <td>1</td>\n",
       "      <td>1</td>\n",
       "      <td>4</td>\n",
       "    </tr>\n",
       "    <tr>\n",
       "      <th>21</th>\n",
       "      <td>Libya</td>\n",
       "      <td>1</td>\n",
       "      <td>1</td>\n",
       "      <td>6</td>\n",
       "    </tr>\n",
       "    <tr>\n",
       "      <th>23</th>\n",
       "      <td>Ghana</td>\n",
       "      <td>1</td>\n",
       "      <td>1</td>\n",
       "      <td>3</td>\n",
       "    </tr>\n",
       "    <tr>\n",
       "      <th>41</th>\n",
       "      <td>South Africa</td>\n",
       "      <td>1</td>\n",
       "      <td>1</td>\n",
       "      <td>6</td>\n",
       "    </tr>\n",
       "    <tr>\n",
       "      <th>49</th>\n",
       "      <td>Benin</td>\n",
       "      <td>1</td>\n",
       "      <td>1</td>\n",
       "      <td>4</td>\n",
       "    </tr>\n",
       "    <tr>\n",
       "      <th>51</th>\n",
       "      <td>Senegal</td>\n",
       "      <td>1</td>\n",
       "      <td>1</td>\n",
       "      <td>5</td>\n",
       "    </tr>\n",
       "    <tr>\n",
       "      <th>52</th>\n",
       "      <td>Niger</td>\n",
       "      <td>1</td>\n",
       "      <td>1</td>\n",
       "      <td>7</td>\n",
       "    </tr>\n",
       "    <tr>\n",
       "      <th>64</th>\n",
       "      <td>Zimbabwe</td>\n",
       "      <td>1</td>\n",
       "      <td>1</td>\n",
       "      <td>4</td>\n",
       "    </tr>\n",
       "    <tr>\n",
       "      <th>69</th>\n",
       "      <td>Côte d'Ivoire</td>\n",
       "      <td>1</td>\n",
       "      <td>1</td>\n",
       "      <td>5</td>\n",
       "    </tr>\n",
       "    <tr>\n",
       "      <th>70</th>\n",
       "      <td>Congo</td>\n",
       "      <td>1</td>\n",
       "      <td>1</td>\n",
       "      <td>5</td>\n",
       "    </tr>\n",
       "    <tr>\n",
       "      <th>73</th>\n",
       "      <td>Angola</td>\n",
       "      <td>1</td>\n",
       "      <td>1</td>\n",
       "      <td>4</td>\n",
       "    </tr>\n",
       "    <tr>\n",
       "      <th>76</th>\n",
       "      <td>Burkina Faso</td>\n",
       "      <td>1</td>\n",
       "      <td>1</td>\n",
       "      <td>6</td>\n",
       "    </tr>\n",
       "    <tr>\n",
       "      <th>78</th>\n",
       "      <td>Morocco</td>\n",
       "      <td>1</td>\n",
       "      <td>1</td>\n",
       "      <td>3</td>\n",
       "    </tr>\n",
       "    <tr>\n",
       "      <th>80</th>\n",
       "      <td>Madagascar</td>\n",
       "      <td>0</td>\n",
       "      <td>0</td>\n",
       "      <td>0</td>\n",
       "    </tr>\n",
       "    <tr>\n",
       "      <th>88</th>\n",
       "      <td>Mali</td>\n",
       "      <td>0</td>\n",
       "      <td>0</td>\n",
       "      <td>7</td>\n",
       "    </tr>\n",
       "    <tr>\n",
       "      <th>91</th>\n",
       "      <td>Botswana</td>\n",
       "      <td>0</td>\n",
       "      <td>0</td>\n",
       "      <td>4</td>\n",
       "    </tr>\n",
       "    <tr>\n",
       "      <th>93</th>\n",
       "      <td>Sao Tome and Principe</td>\n",
       "      <td>0</td>\n",
       "      <td>0</td>\n",
       "      <td>0</td>\n",
       "    </tr>\n",
       "    <tr>\n",
       "      <th>94</th>\n",
       "      <td>Somalia</td>\n",
       "      <td>0</td>\n",
       "      <td>0</td>\n",
       "      <td>3</td>\n",
       "    </tr>\n",
       "    <tr>\n",
       "      <th>95</th>\n",
       "      <td>Eritrea</td>\n",
       "      <td>0</td>\n",
       "      <td>0</td>\n",
       "      <td>3</td>\n",
       "    </tr>\n",
       "    <tr>\n",
       "      <th>98</th>\n",
       "      <td>Equatorial Guinea</td>\n",
       "      <td>0</td>\n",
       "      <td>0</td>\n",
       "      <td>2</td>\n",
       "    </tr>\n",
       "    <tr>\n",
       "      <th>103</th>\n",
       "      <td>Tunisia</td>\n",
       "      <td>0</td>\n",
       "      <td>0</td>\n",
       "      <td>2</td>\n",
       "    </tr>\n",
       "    <tr>\n",
       "      <th>104</th>\n",
       "      <td>Algeria</td>\n",
       "      <td>0</td>\n",
       "      <td>0</td>\n",
       "      <td>7</td>\n",
       "    </tr>\n",
       "    <tr>\n",
       "      <th>109</th>\n",
       "      <td>Mauritius</td>\n",
       "      <td>0</td>\n",
       "      <td>0</td>\n",
       "      <td>0</td>\n",
       "    </tr>\n",
       "    <tr>\n",
       "      <th>111</th>\n",
       "      <td>Chad</td>\n",
       "      <td>0</td>\n",
       "      <td>0</td>\n",
       "      <td>6</td>\n",
       "    </tr>\n",
       "    <tr>\n",
       "      <th>112</th>\n",
       "      <td>Togo</td>\n",
       "      <td>0</td>\n",
       "      <td>0</td>\n",
       "      <td>3</td>\n",
       "    </tr>\n",
       "    <tr>\n",
       "      <th>115</th>\n",
       "      <td>Zambia</td>\n",
       "      <td>0</td>\n",
       "      <td>0</td>\n",
       "      <td>8</td>\n",
       "    </tr>\n",
       "    <tr>\n",
       "      <th>131</th>\n",
       "      <td>Sudan</td>\n",
       "      <td>0</td>\n",
       "      <td>0</td>\n",
       "      <td>7</td>\n",
       "    </tr>\n",
       "    <tr>\n",
       "      <th>135</th>\n",
       "      <td>Guinea</td>\n",
       "      <td>0</td>\n",
       "      <td>0</td>\n",
       "      <td>6</td>\n",
       "    </tr>\n",
       "    <tr>\n",
       "      <th>143</th>\n",
       "      <td>Cabo Verde</td>\n",
       "      <td>0</td>\n",
       "      <td>0</td>\n",
       "      <td>0</td>\n",
       "    </tr>\n",
       "    <tr>\n",
       "      <th>149</th>\n",
       "      <td>Liberia</td>\n",
       "      <td>0</td>\n",
       "      <td>0</td>\n",
       "      <td>3</td>\n",
       "    </tr>\n",
       "    <tr>\n",
       "      <th>151</th>\n",
       "      <td>Ethiopia</td>\n",
       "      <td>0</td>\n",
       "      <td>0</td>\n",
       "      <td>6</td>\n",
       "    </tr>\n",
       "    <tr>\n",
       "      <th>161</th>\n",
       "      <td>Uganda</td>\n",
       "      <td>0</td>\n",
       "      <td>0</td>\n",
       "      <td>5</td>\n",
       "    </tr>\n",
       "    <tr>\n",
       "      <th>163</th>\n",
       "      <td>Sierra Leone</td>\n",
       "      <td>0</td>\n",
       "      <td>0</td>\n",
       "      <td>2</td>\n",
       "    </tr>\n",
       "    <tr>\n",
       "      <th>164</th>\n",
       "      <td>South Sudan</td>\n",
       "      <td>0</td>\n",
       "      <td>0</td>\n",
       "      <td>6</td>\n",
       "    </tr>\n",
       "    <tr>\n",
       "      <th>168</th>\n",
       "      <td>Seychelles</td>\n",
       "      <td>0</td>\n",
       "      <td>0</td>\n",
       "      <td>0</td>\n",
       "    </tr>\n",
       "    <tr>\n",
       "      <th>185</th>\n",
       "      <td>Central African Rep.</td>\n",
       "      <td>0</td>\n",
       "      <td>0</td>\n",
       "      <td>6</td>\n",
       "    </tr>\n",
       "    <tr>\n",
       "      <th>186</th>\n",
       "      <td>Gambia</td>\n",
       "      <td>0</td>\n",
       "      <td>0</td>\n",
       "      <td>1</td>\n",
       "    </tr>\n",
       "    <tr>\n",
       "      <th>191</th>\n",
       "      <td>Comoros</td>\n",
       "      <td>0</td>\n",
       "      <td>0</td>\n",
       "      <td>0</td>\n",
       "    </tr>\n",
       "    <tr>\n",
       "      <th>192</th>\n",
       "      <td>Djibouti</td>\n",
       "      <td>0</td>\n",
       "      <td>0</td>\n",
       "      <td>3</td>\n",
       "    </tr>\n",
       "    <tr>\n",
       "      <th>196</th>\n",
       "      <td>Mauritania</td>\n",
       "      <td>0</td>\n",
       "      <td>0</td>\n",
       "      <td>4</td>\n",
       "    </tr>\n",
       "    <tr>\n",
       "      <th>202</th>\n",
       "      <td>Namibia</td>\n",
       "      <td>0</td>\n",
       "      <td>0</td>\n",
       "      <td>4</td>\n",
       "    </tr>\n",
       "    <tr>\n",
       "      <th>208</th>\n",
       "      <td>Lesotho</td>\n",
       "      <td>0</td>\n",
       "      <td>0</td>\n",
       "      <td>1</td>\n",
       "    </tr>\n",
       "    <tr>\n",
       "      <th>215</th>\n",
       "      <td>Rwanda</td>\n",
       "      <td>0</td>\n",
       "      <td>0</td>\n",
       "      <td>4</td>\n",
       "    </tr>\n",
       "    <tr>\n",
       "      <th>218</th>\n",
       "      <td>Burundi</td>\n",
       "      <td>0</td>\n",
       "      <td>0</td>\n",
       "      <td>3</td>\n",
       "    </tr>\n",
       "    <tr>\n",
       "      <th>221</th>\n",
       "      <td>Cameroon</td>\n",
       "      <td>0</td>\n",
       "      <td>0</td>\n",
       "      <td>6</td>\n",
       "    </tr>\n",
       "    <tr>\n",
       "      <th>222</th>\n",
       "      <td>Guinea-Bissau</td>\n",
       "      <td>0</td>\n",
       "      <td>0</td>\n",
       "      <td>2</td>\n",
       "    </tr>\n",
       "    <tr>\n",
       "      <th>224</th>\n",
       "      <td>Malawi</td>\n",
       "      <td>0</td>\n",
       "      <td>0</td>\n",
       "      <td>3</td>\n",
       "    </tr>\n",
       "  </tbody>\n",
       "</table>\n",
       "</div>"
      ],
      "text/plain": [
       "                     origin  coreness  core  n_neightbours\n",
       "1                     Kenya         1     1              5\n",
       "5                     Gabon         1     1              3\n",
       "8                   Nigeria         1     1              4\n",
       "9                Mozambique         1     1              6\n",
       "18   Dem. Rep. of the Congo         1     1             10\n",
       "19                    Egypt         1     1              4\n",
       "21                    Libya         1     1              6\n",
       "23                    Ghana         1     1              3\n",
       "41             South Africa         1     1              6\n",
       "49                    Benin         1     1              4\n",
       "51                  Senegal         1     1              5\n",
       "52                    Niger         1     1              7\n",
       "64                 Zimbabwe         1     1              4\n",
       "69            Côte d'Ivoire         1     1              5\n",
       "70                    Congo         1     1              5\n",
       "73                   Angola         1     1              4\n",
       "76             Burkina Faso         1     1              6\n",
       "78                  Morocco         1     1              3\n",
       "80               Madagascar         0     0              0\n",
       "88                     Mali         0     0              7\n",
       "91                 Botswana         0     0              4\n",
       "93    Sao Tome and Principe         0     0              0\n",
       "94                  Somalia         0     0              3\n",
       "95                  Eritrea         0     0              3\n",
       "98        Equatorial Guinea         0     0              2\n",
       "103                 Tunisia         0     0              2\n",
       "104                 Algeria         0     0              7\n",
       "109               Mauritius         0     0              0\n",
       "111                    Chad         0     0              6\n",
       "112                    Togo         0     0              3\n",
       "115                  Zambia         0     0              8\n",
       "131                   Sudan         0     0              7\n",
       "135                  Guinea         0     0              6\n",
       "143              Cabo Verde         0     0              0\n",
       "149                 Liberia         0     0              3\n",
       "151                Ethiopia         0     0              6\n",
       "161                  Uganda         0     0              5\n",
       "163            Sierra Leone         0     0              2\n",
       "164             South Sudan         0     0              6\n",
       "168              Seychelles         0     0              0\n",
       "185    Central African Rep.         0     0              6\n",
       "186                  Gambia         0     0              1\n",
       "191                 Comoros         0     0              0\n",
       "192                Djibouti         0     0              3\n",
       "196              Mauritania         0     0              4\n",
       "202                 Namibia         0     0              4\n",
       "208                 Lesotho         0     0              1\n",
       "215                  Rwanda         0     0              4\n",
       "218                 Burundi         0     0              3\n",
       "221                Cameroon         0     0              6\n",
       "222           Guinea-Bissau         0     0              2\n",
       "224                  Malawi         0     0              3"
      ]
     },
     "execution_count": 72,
     "metadata": {},
     "output_type": "execute_result"
    }
   ],
   "source": [
    "df_coreness_2001_2003_africa =  df_coreness_2001_2003[(df_coreness_2001_2003['origin'].isin(lista_paises_africa))]\n",
    "df_coreness_2001_2003_africa"
   ]
  },
  {
   "cell_type": "code",
   "execution_count": 73,
   "id": "b408390f",
   "metadata": {},
   "outputs": [
    {
     "name": "stdout",
     "output_type": "stream",
     "text": [
      "Optimization terminated successfully.\n",
      "         Current function value: 0.589814\n",
      "         Iterations 5\n"
     ]
    },
    {
     "data": {
      "text/html": [
       "<table class=\"simpletable\">\n",
       "<caption>Logit Regression Results</caption>\n",
       "<tr>\n",
       "  <th>Dep. Variable:</th>       <td>coreness</td>     <th>  No. Observations:  </th>  <td>    52</td> \n",
       "</tr>\n",
       "<tr>\n",
       "  <th>Model:</th>                 <td>Logit</td>      <th>  Df Residuals:      </th>  <td>    50</td> \n",
       "</tr>\n",
       "<tr>\n",
       "  <th>Method:</th>                 <td>MLE</td>       <th>  Df Model:          </th>  <td>     1</td> \n",
       "</tr>\n",
       "<tr>\n",
       "  <th>Date:</th>            <td>Mon, 14 Nov 2022</td> <th>  Pseudo R-squ.:     </th>  <td>0.08561</td>\n",
       "</tr>\n",
       "<tr>\n",
       "  <th>Time:</th>                <td>13:29:33</td>     <th>  Log-Likelihood:    </th> <td> -30.670</td>\n",
       "</tr>\n",
       "<tr>\n",
       "  <th>converged:</th>             <td>True</td>       <th>  LL-Null:           </th> <td> -33.542</td>\n",
       "</tr>\n",
       "<tr>\n",
       "  <th>Covariance Type:</th>     <td>nonrobust</td>    <th>  LLR p-value:       </th>  <td>0.01656</td>\n",
       "</tr>\n",
       "</table>\n",
       "<table class=\"simpletable\">\n",
       "<tr>\n",
       "        <td></td>           <th>coef</th>     <th>std err</th>      <th>z</th>      <th>P>|z|</th>  <th>[0.025</th>    <th>0.975]</th>  \n",
       "</tr>\n",
       "<tr>\n",
       "  <th>Intercept</th>     <td>   -2.0363</td> <td>    0.734</td> <td>   -2.774</td> <td> 0.006</td> <td>   -3.475</td> <td>   -0.597</td>\n",
       "</tr>\n",
       "<tr>\n",
       "  <th>n_neightbours</th> <td>    0.3313</td> <td>    0.150</td> <td>    2.208</td> <td> 0.027</td> <td>    0.037</td> <td>    0.625</td>\n",
       "</tr>\n",
       "</table>"
      ],
      "text/plain": [
       "<class 'statsmodels.iolib.summary.Summary'>\n",
       "\"\"\"\n",
       "                           Logit Regression Results                           \n",
       "==============================================================================\n",
       "Dep. Variable:               coreness   No. Observations:                   52\n",
       "Model:                          Logit   Df Residuals:                       50\n",
       "Method:                           MLE   Df Model:                            1\n",
       "Date:                Mon, 14 Nov 2022   Pseudo R-squ.:                 0.08561\n",
       "Time:                        13:29:33   Log-Likelihood:                -30.670\n",
       "converged:                       True   LL-Null:                       -33.542\n",
       "Covariance Type:            nonrobust   LLR p-value:                   0.01656\n",
       "=================================================================================\n",
       "                    coef    std err          z      P>|z|      [0.025      0.975]\n",
       "---------------------------------------------------------------------------------\n",
       "Intercept        -2.0363      0.734     -2.774      0.006      -3.475      -0.597\n",
       "n_neightbours     0.3313      0.150      2.208      0.027       0.037       0.625\n",
       "=================================================================================\n",
       "\"\"\""
      ]
     },
     "execution_count": 73,
     "metadata": {},
     "output_type": "execute_result"
    }
   ],
   "source": [
    "result_hip2 = reg.logistic(data=df_coreness_2001_2003_africa, formula='coreness ~ n_neightbours')\n",
    "result_hip2.summary()"
   ]
  },
  {
   "cell_type": "code",
   "execution_count": 74,
   "id": "0073c979",
   "metadata": {},
   "outputs": [
    {
     "data": {
      "text/html": [
       "<style type=\"text/css\">\n",
       "#T_3da15_row0_col0 {\n",
       "  font-family: monospace;\n",
       "  text-align: left;\n",
       "}\n",
       "</style>\n",
       "<table id=\"T_3da15\">\n",
       "  <thead>\n",
       "  </thead>\n",
       "  <tbody>\n",
       "    <tr>\n",
       "      <td id=\"T_3da15_row0_col0\" class=\"data row0 col0\" >+0.331 (0.150) **</td>\n",
       "    </tr>\n",
       "  </tbody>\n",
       "</table>\n"
      ],
      "text/plain": [
       "<pandas.io.formats.style.Styler at 0x7f47b43312d0>"
      ]
     },
     "execution_count": 74,
     "metadata": {},
     "output_type": "execute_result"
    }
   ],
   "source": [
    "result_hip2.nano_summary()"
   ]
  },
  {
   "cell_type": "code",
   "execution_count": 75,
   "id": "a73187c4",
   "metadata": {},
   "outputs": [
    {
     "name": "stdout",
     "output_type": "stream",
     "text": [
      "62.5% of average residuals inside\n"
     ]
    },
    {
     "data": {
      "image/png": "[encoded data removed]",
      "text/plain": [
       "<Figure size 640x480 with 1 Axes>"
      ]
     },
     "metadata": {},
     "output_type": "display_data"
    }
   ],
   "source": [
    "result_hip2.plot_residuals()"
   ]
  },
  {
   "cell_type": "markdown",
   "id": "5787cd15",
   "metadata": {},
   "source": [
    "\n",
    "## Hipóteses 4: Desenvolvimento tem relação com vazão de pessoas\n",
    "\n",
    "### C : EXT: DSV, CORE, CONP\n",
    "\n"
   ]
  },
  {
   "cell_type": "markdown",
   "id": "7df82bf7",
   "metadata": {},
   "source": [
    "2008 - 2012 e países da UE e da América anglo-saxônica"
   ]
  },
  {
   "cell_type": "code",
   "execution_count": 78,
   "id": "18d41c63",
   "metadata": {},
   "outputs": [
    {
     "data": {
      "text/html": [
       "<div>\n",
       "<style scoped>\n",
       "    .dataframe tbody tr th:only-of-type {\n",
       "        vertical-align: middle;\n",
       "    }\n",
       "\n",
       "    .dataframe tbody tr th {\n",
       "        vertical-align: top;\n",
       "    }\n",
       "\n",
       "    .dataframe thead th {\n",
       "        text-align: right;\n",
       "    }\n",
       "</style>\n",
       "<table border=\"1\" class=\"dataframe\">\n",
       "  <thead>\n",
       "    <tr style=\"text-align: right;\">\n",
       "      <th></th>\n",
       "      <th>destiny</th>\n",
       "      <th>origin</th>\n",
       "      <th>value</th>\n",
       "      <th>rejected</th>\n",
       "      <th>year</th>\n",
       "    </tr>\n",
       "  </thead>\n",
       "  <tbody>\n",
       "    <tr>\n",
       "      <th>0</th>\n",
       "      <td>Zimbabwe</td>\n",
       "      <td>Afghanistan</td>\n",
       "      <td>5</td>\n",
       "      <td>0</td>\n",
       "      <td>2000</td>\n",
       "    </tr>\n",
       "    <tr>\n",
       "      <th>1</th>\n",
       "      <td>South Africa</td>\n",
       "      <td>Afghanistan</td>\n",
       "      <td>0</td>\n",
       "      <td>0</td>\n",
       "      <td>2000</td>\n",
       "    </tr>\n",
       "    <tr>\n",
       "      <th>2</th>\n",
       "      <td>Uzbekistan</td>\n",
       "      <td>Afghanistan</td>\n",
       "      <td>747</td>\n",
       "      <td>112</td>\n",
       "      <td>2000</td>\n",
       "    </tr>\n",
       "    <tr>\n",
       "      <th>3</th>\n",
       "      <td>United States of America</td>\n",
       "      <td>Afghanistan</td>\n",
       "      <td>151</td>\n",
       "      <td>31</td>\n",
       "      <td>2000</td>\n",
       "    </tr>\n",
       "    <tr>\n",
       "      <th>4</th>\n",
       "      <td>United States of America</td>\n",
       "      <td>Afghanistan</td>\n",
       "      <td>182</td>\n",
       "      <td>51</td>\n",
       "      <td>2000</td>\n",
       "    </tr>\n",
       "    <tr>\n",
       "      <th>...</th>\n",
       "      <td>...</td>\n",
       "      <td>...</td>\n",
       "      <td>...</td>\n",
       "      <td>...</td>\n",
       "      <td>...</td>\n",
       "    </tr>\n",
       "    <tr>\n",
       "      <th>129715</th>\n",
       "      <td>United States of America</td>\n",
       "      <td>Zimbabwe</td>\n",
       "      <td>16</td>\n",
       "      <td>*</td>\n",
       "      <td>2016</td>\n",
       "    </tr>\n",
       "    <tr>\n",
       "      <th>129716</th>\n",
       "      <td>United States of America</td>\n",
       "      <td>Zimbabwe</td>\n",
       "      <td>*</td>\n",
       "      <td>*</td>\n",
       "      <td>2016</td>\n",
       "    </tr>\n",
       "    <tr>\n",
       "      <th>129717</th>\n",
       "      <td>South Africa</td>\n",
       "      <td>Zimbabwe</td>\n",
       "      <td>NaN</td>\n",
       "      <td>NaN</td>\n",
       "      <td>2016</td>\n",
       "    </tr>\n",
       "    <tr>\n",
       "      <th>129718</th>\n",
       "      <td>South Africa</td>\n",
       "      <td>Zimbabwe</td>\n",
       "      <td>73</td>\n",
       "      <td>7869</td>\n",
       "      <td>2016</td>\n",
       "    </tr>\n",
       "    <tr>\n",
       "      <th>129719</th>\n",
       "      <td>Zambia</td>\n",
       "      <td>Zimbabwe</td>\n",
       "      <td>0</td>\n",
       "      <td>*</td>\n",
       "      <td>2016</td>\n",
       "    </tr>\n",
       "  </tbody>\n",
       "</table>\n",
       "<p>129720 rows × 5 columns</p>\n",
       "</div>"
      ],
      "text/plain": [
       "                         destiny       origin value rejected  year\n",
       "0                       Zimbabwe  Afghanistan     5        0  2000\n",
       "1                   South Africa  Afghanistan     0        0  2000\n",
       "2                     Uzbekistan  Afghanistan   747      112  2000\n",
       "3       United States of America  Afghanistan   151       31  2000\n",
       "4       United States of America  Afghanistan   182       51  2000\n",
       "...                          ...          ...   ...      ...   ...\n",
       "129715  United States of America     Zimbabwe    16        *  2016\n",
       "129716  United States of America     Zimbabwe     *        *  2016\n",
       "129717              South Africa     Zimbabwe   NaN      NaN  2016\n",
       "129718              South Africa     Zimbabwe    73     7869  2016\n",
       "129719                    Zambia     Zimbabwe     0        *  2016\n",
       "\n",
       "[129720 rows x 5 columns]"
      ]
     },
     "execution_count": 78,
     "metadata": {},
     "output_type": "execute_result"
    }
   ],
   "source": [
    "df_hip4 = df_completo.loc[:, ['Country / territory of asylum/residence', 'Origin', 'decisions_recognized', 'Rejected', 'Year']]\n",
    "df_hip4 = df_hip4.rename(columns={'Origin': 'origin', 'Country / territory of asylum/residence': 'destiny', 'decisions_recognized': 'value', 'Rejected': 'rejected','Year' : 'year'})\n",
    "df_hip4"
   ]
  },
  {
   "cell_type": "code",
   "execution_count": 79,
   "id": "59e8be45",
   "metadata": {},
   "outputs": [
    {
     "data": {
      "text/html": [
       "<div>\n",
       "<style scoped>\n",
       "    .dataframe tbody tr th:only-of-type {\n",
       "        vertical-align: middle;\n",
       "    }\n",
       "\n",
       "    .dataframe tbody tr th {\n",
       "        vertical-align: top;\n",
       "    }\n",
       "\n",
       "    .dataframe thead th {\n",
       "        text-align: right;\n",
       "    }\n",
       "</style>\n",
       "<table border=\"1\" class=\"dataframe\">\n",
       "  <thead>\n",
       "    <tr style=\"text-align: right;\">\n",
       "      <th></th>\n",
       "      <th>destiny</th>\n",
       "      <th>origin</th>\n",
       "      <th>value</th>\n",
       "      <th>rejected</th>\n",
       "      <th>year</th>\n",
       "    </tr>\n",
       "  </thead>\n",
       "  <tbody>\n",
       "    <tr>\n",
       "      <th>0</th>\n",
       "      <td>Zimbabwe</td>\n",
       "      <td>Afghanistan</td>\n",
       "      <td>5.0</td>\n",
       "      <td>0</td>\n",
       "      <td>2000</td>\n",
       "    </tr>\n",
       "    <tr>\n",
       "      <th>1</th>\n",
       "      <td>South Africa</td>\n",
       "      <td>Afghanistan</td>\n",
       "      <td>0.0</td>\n",
       "      <td>0</td>\n",
       "      <td>2000</td>\n",
       "    </tr>\n",
       "    <tr>\n",
       "      <th>2</th>\n",
       "      <td>Uzbekistan</td>\n",
       "      <td>Afghanistan</td>\n",
       "      <td>747.0</td>\n",
       "      <td>112</td>\n",
       "      <td>2000</td>\n",
       "    </tr>\n",
       "    <tr>\n",
       "      <th>3</th>\n",
       "      <td>United States of America</td>\n",
       "      <td>Afghanistan</td>\n",
       "      <td>151.0</td>\n",
       "      <td>31</td>\n",
       "      <td>2000</td>\n",
       "    </tr>\n",
       "    <tr>\n",
       "      <th>4</th>\n",
       "      <td>United States of America</td>\n",
       "      <td>Afghanistan</td>\n",
       "      <td>182.0</td>\n",
       "      <td>51</td>\n",
       "      <td>2000</td>\n",
       "    </tr>\n",
       "    <tr>\n",
       "      <th>...</th>\n",
       "      <td>...</td>\n",
       "      <td>...</td>\n",
       "      <td>...</td>\n",
       "      <td>...</td>\n",
       "      <td>...</td>\n",
       "    </tr>\n",
       "    <tr>\n",
       "      <th>129715</th>\n",
       "      <td>United States of America</td>\n",
       "      <td>Zimbabwe</td>\n",
       "      <td>16.0</td>\n",
       "      <td>*</td>\n",
       "      <td>2016</td>\n",
       "    </tr>\n",
       "    <tr>\n",
       "      <th>129716</th>\n",
       "      <td>United States of America</td>\n",
       "      <td>Zimbabwe</td>\n",
       "      <td>0.0</td>\n",
       "      <td>*</td>\n",
       "      <td>2016</td>\n",
       "    </tr>\n",
       "    <tr>\n",
       "      <th>129717</th>\n",
       "      <td>South Africa</td>\n",
       "      <td>Zimbabwe</td>\n",
       "      <td>0.0</td>\n",
       "      <td>NaN</td>\n",
       "      <td>2016</td>\n",
       "    </tr>\n",
       "    <tr>\n",
       "      <th>129718</th>\n",
       "      <td>South Africa</td>\n",
       "      <td>Zimbabwe</td>\n",
       "      <td>73.0</td>\n",
       "      <td>7869</td>\n",
       "      <td>2016</td>\n",
       "    </tr>\n",
       "    <tr>\n",
       "      <th>129719</th>\n",
       "      <td>Zambia</td>\n",
       "      <td>Zimbabwe</td>\n",
       "      <td>0.0</td>\n",
       "      <td>*</td>\n",
       "      <td>2016</td>\n",
       "    </tr>\n",
       "  </tbody>\n",
       "</table>\n",
       "<p>129720 rows × 5 columns</p>\n",
       "</div>"
      ],
      "text/plain": [
       "                         destiny       origin  value rejected  year\n",
       "0                       Zimbabwe  Afghanistan    5.0        0  2000\n",
       "1                   South Africa  Afghanistan    0.0        0  2000\n",
       "2                     Uzbekistan  Afghanistan  747.0      112  2000\n",
       "3       United States of America  Afghanistan  151.0       31  2000\n",
       "4       United States of America  Afghanistan  182.0       51  2000\n",
       "...                          ...          ...    ...      ...   ...\n",
       "129715  United States of America     Zimbabwe   16.0        *  2016\n",
       "129716  United States of America     Zimbabwe    0.0        *  2016\n",
       "129717              South Africa     Zimbabwe    0.0      NaN  2016\n",
       "129718              South Africa     Zimbabwe   73.0     7869  2016\n",
       "129719                    Zambia     Zimbabwe    0.0        *  2016\n",
       "\n",
       "[129720 rows x 5 columns]"
      ]
     },
     "execution_count": 79,
     "metadata": {},
     "output_type": "execute_result"
    }
   ],
   "source": [
    "df_hip4.value = pd.to_numeric(df_hip4['value'], errors = 'coerce').fillna(0)\n",
    "df_hip4"
   ]
  },
  {
   "cell_type": "code",
   "execution_count": 80,
   "id": "7d759157",
   "metadata": {},
   "outputs": [
    {
     "data": {
      "text/html": [
       "<div>\n",
       "<style scoped>\n",
       "    .dataframe tbody tr th:only-of-type {\n",
       "        vertical-align: middle;\n",
       "    }\n",
       "\n",
       "    .dataframe tbody tr th {\n",
       "        vertical-align: top;\n",
       "    }\n",
       "\n",
       "    .dataframe thead th {\n",
       "        text-align: right;\n",
       "    }\n",
       "</style>\n",
       "<table border=\"1\" class=\"dataframe\">\n",
       "  <thead>\n",
       "    <tr style=\"text-align: right;\">\n",
       "      <th></th>\n",
       "      <th>destiny</th>\n",
       "      <th>origin</th>\n",
       "      <th>value</th>\n",
       "      <th>rejected</th>\n",
       "      <th>year</th>\n",
       "    </tr>\n",
       "  </thead>\n",
       "  <tbody>\n",
       "    <tr>\n",
       "      <th>49818</th>\n",
       "      <td>Albania</td>\n",
       "      <td>Afghanistan</td>\n",
       "      <td>0.0</td>\n",
       "      <td>0</td>\n",
       "      <td>2008</td>\n",
       "    </tr>\n",
       "    <tr>\n",
       "      <th>49819</th>\n",
       "      <td>Australia</td>\n",
       "      <td>Afghanistan</td>\n",
       "      <td>1.0</td>\n",
       "      <td>1</td>\n",
       "      <td>2008</td>\n",
       "    </tr>\n",
       "    <tr>\n",
       "      <th>49820</th>\n",
       "      <td>Australia</td>\n",
       "      <td>Afghanistan</td>\n",
       "      <td>33.0</td>\n",
       "      <td>3</td>\n",
       "      <td>2008</td>\n",
       "    </tr>\n",
       "    <tr>\n",
       "      <th>49821</th>\n",
       "      <td>Austria</td>\n",
       "      <td>Afghanistan</td>\n",
       "      <td>486.0</td>\n",
       "      <td>217</td>\n",
       "      <td>2008</td>\n",
       "    </tr>\n",
       "    <tr>\n",
       "      <th>49822</th>\n",
       "      <td>Azerbaijan</td>\n",
       "      <td>Afghanistan</td>\n",
       "      <td>0.0</td>\n",
       "      <td>14</td>\n",
       "      <td>2008</td>\n",
       "    </tr>\n",
       "    <tr>\n",
       "      <th>...</th>\n",
       "      <td>...</td>\n",
       "      <td>...</td>\n",
       "      <td>...</td>\n",
       "      <td>...</td>\n",
       "      <td>...</td>\n",
       "    </tr>\n",
       "    <tr>\n",
       "      <th>88862</th>\n",
       "      <td>Switzerland</td>\n",
       "      <td>Zimbabwe</td>\n",
       "      <td>0.0</td>\n",
       "      <td>1</td>\n",
       "      <td>2012</td>\n",
       "    </tr>\n",
       "    <tr>\n",
       "      <th>88863</th>\n",
       "      <td>Costa Rica</td>\n",
       "      <td>Zimbabwe</td>\n",
       "      <td>0.0</td>\n",
       "      <td>0</td>\n",
       "      <td>2012</td>\n",
       "    </tr>\n",
       "    <tr>\n",
       "      <th>88864</th>\n",
       "      <td>Cyprus</td>\n",
       "      <td>Zimbabwe</td>\n",
       "      <td>0.0</td>\n",
       "      <td>2</td>\n",
       "      <td>2012</td>\n",
       "    </tr>\n",
       "    <tr>\n",
       "      <th>88865</th>\n",
       "      <td>Cyprus</td>\n",
       "      <td>Zimbabwe</td>\n",
       "      <td>0.0</td>\n",
       "      <td>0</td>\n",
       "      <td>2012</td>\n",
       "    </tr>\n",
       "    <tr>\n",
       "      <th>88866</th>\n",
       "      <td>Germany</td>\n",
       "      <td>Zimbabwe</td>\n",
       "      <td>0.0</td>\n",
       "      <td>6</td>\n",
       "      <td>2012</td>\n",
       "    </tr>\n",
       "  </tbody>\n",
       "</table>\n",
       "<p>39049 rows × 5 columns</p>\n",
       "</div>"
      ],
      "text/plain": [
       "           destiny       origin  value rejected  year\n",
       "49818      Albania  Afghanistan    0.0        0  2008\n",
       "49819    Australia  Afghanistan    1.0        1  2008\n",
       "49820    Australia  Afghanistan   33.0        3  2008\n",
       "49821      Austria  Afghanistan  486.0      217  2008\n",
       "49822   Azerbaijan  Afghanistan    0.0       14  2008\n",
       "...            ...          ...    ...      ...   ...\n",
       "88862  Switzerland     Zimbabwe    0.0        1  2012\n",
       "88863   Costa Rica     Zimbabwe    0.0        0  2012\n",
       "88864       Cyprus     Zimbabwe    0.0        2  2012\n",
       "88865       Cyprus     Zimbabwe    0.0        0  2012\n",
       "88866      Germany     Zimbabwe    0.0        6  2012\n",
       "\n",
       "[39049 rows x 5 columns]"
      ]
     },
     "execution_count": 80,
     "metadata": {},
     "output_type": "execute_result"
    }
   ],
   "source": [
    "df_hip4_2008_2012 = df_hip4[((df_hip4['year'] == 2008) | (df_hip4['year'] == 2009) | (df_hip4['year'] == 2010) | \n",
    "                   (df_hip4['year'] == 2011) | (df_hip4['year'] == 2012))]\n",
    "df_hip4_2008_2012"
   ]
  },
  {
   "cell_type": "code",
   "execution_count": 81,
   "id": "02e24aff",
   "metadata": {},
   "outputs": [],
   "source": [
    "df_hip4_2008_2012 = df_hip4_2008_2012.drop('year', axis=1)"
   ]
  },
  {
   "cell_type": "code",
   "execution_count": 82,
   "id": "9e9381c5",
   "metadata": {},
   "outputs": [],
   "source": [
    "df_hip4_2008_2012.value = df_hip4_2008_2012['value'].astype(int)\n",
    "df_hip4_2008_2012.rejected = df_hip4_2008_2012['rejected'].astype(int)"
   ]
  },
  {
   "cell_type": "code",
   "execution_count": 83,
   "id": "9df3d9b5",
   "metadata": {},
   "outputs": [
    {
     "name": "stdout",
     "output_type": "stream",
     "text": [
      "<class 'pandas.core.frame.DataFrame'>\n",
      "Int64Index: 39049 entries, 49818 to 88866\n",
      "Data columns (total 4 columns):\n",
      " #   Column    Non-Null Count  Dtype \n",
      "---  ------    --------------  ----- \n",
      " 0   destiny   39049 non-null  object\n",
      " 1   origin    39049 non-null  object\n",
      " 2   value     39049 non-null  int64 \n",
      " 3   rejected  39049 non-null  int64 \n",
      "dtypes: int64(2), object(2)\n",
      "memory usage: 1.5+ MB\n"
     ]
    }
   ],
   "source": [
    "df_hip4_2008_2012.info()"
   ]
  },
  {
   "cell_type": "code",
   "execution_count": 84,
   "id": "952aaacc",
   "metadata": {},
   "outputs": [
    {
     "name": "stderr",
     "output_type": "stream",
     "text": [
      "/tmp/ipykernel_53/929537874.py:1: FutureWarning: The default value of numeric_only in DataFrameGroupBy.sum is deprecated. In a future version, numeric_only will default to False. Either specify numeric_only or select only columns which should be valid for the function.\n",
      "  df_out_degree_2008_2012 = df_hip4_2008_2012.groupby('origin').sum().reindex(listaVertices).fillna(0)\n"
     ]
    },
    {
     "data": {
      "text/html": [
       "<div>\n",
       "<style scoped>\n",
       "    .dataframe tbody tr th:only-of-type {\n",
       "        vertical-align: middle;\n",
       "    }\n",
       "\n",
       "    .dataframe tbody tr th {\n",
       "        vertical-align: top;\n",
       "    }\n",
       "\n",
       "    .dataframe thead th {\n",
       "        text-align: right;\n",
       "    }\n",
       "</style>\n",
       "<table border=\"1\" class=\"dataframe\">\n",
       "  <thead>\n",
       "    <tr style=\"text-align: right;\">\n",
       "      <th></th>\n",
       "      <th>value</th>\n",
       "      <th>rejected</th>\n",
       "    </tr>\n",
       "    <tr>\n",
       "      <th>origin</th>\n",
       "      <th></th>\n",
       "      <th></th>\n",
       "    </tr>\n",
       "  </thead>\n",
       "  <tbody>\n",
       "    <tr>\n",
       "      <th>Eritrea</th>\n",
       "      <td>107682.0</td>\n",
       "      <td>15104.0</td>\n",
       "    </tr>\n",
       "    <tr>\n",
       "      <th>Myanmar</th>\n",
       "      <td>107568.0</td>\n",
       "      <td>10132.0</td>\n",
       "    </tr>\n",
       "    <tr>\n",
       "      <th>Dem. Rep. of the Congo</th>\n",
       "      <td>77502.0</td>\n",
       "      <td>47213.0</td>\n",
       "    </tr>\n",
       "    <tr>\n",
       "      <th>Iraq</th>\n",
       "      <td>71266.0</td>\n",
       "      <td>70812.0</td>\n",
       "    </tr>\n",
       "    <tr>\n",
       "      <th>Somalia</th>\n",
       "      <td>70458.0</td>\n",
       "      <td>31261.0</td>\n",
       "    </tr>\n",
       "    <tr>\n",
       "      <th>...</th>\n",
       "      <td>...</td>\n",
       "      <td>...</td>\n",
       "    </tr>\n",
       "    <tr>\n",
       "      <th>Aruba</th>\n",
       "      <td>0.0</td>\n",
       "      <td>0.0</td>\n",
       "    </tr>\n",
       "    <tr>\n",
       "      <th>Iceland</th>\n",
       "      <td>0.0</td>\n",
       "      <td>7.0</td>\n",
       "    </tr>\n",
       "    <tr>\n",
       "      <th>Bonaire</th>\n",
       "      <td>0.0</td>\n",
       "      <td>0.0</td>\n",
       "    </tr>\n",
       "    <tr>\n",
       "      <th>British Virgin Islands</th>\n",
       "      <td>0.0</td>\n",
       "      <td>1.0</td>\n",
       "    </tr>\n",
       "    <tr>\n",
       "      <th>Liechtenstein</th>\n",
       "      <td>0.0</td>\n",
       "      <td>0.0</td>\n",
       "    </tr>\n",
       "  </tbody>\n",
       "</table>\n",
       "<p>225 rows × 2 columns</p>\n",
       "</div>"
      ],
      "text/plain": [
       "                           value  rejected\n",
       "origin                                    \n",
       "Eritrea                 107682.0   15104.0\n",
       "Myanmar                 107568.0   10132.0\n",
       "Dem. Rep. of the Congo   77502.0   47213.0\n",
       "Iraq                     71266.0   70812.0\n",
       "Somalia                  70458.0   31261.0\n",
       "...                          ...       ...\n",
       "Aruba                        0.0       0.0\n",
       "Iceland                      0.0       7.0\n",
       "Bonaire                      0.0       0.0\n",
       "British Virgin Islands       0.0       1.0\n",
       "Liechtenstein                0.0       0.0\n",
       "\n",
       "[225 rows x 2 columns]"
      ]
     },
     "execution_count": 84,
     "metadata": {},
     "output_type": "execute_result"
    }
   ],
   "source": [
    "df_out_degree_2008_2012 = df_hip4_2008_2012.groupby('origin').sum().reindex(listaVertices).fillna(0)\n",
    "df_out_degree_2008_2012.sort_values(\"value\", ascending = False)"
   ]
  },
  {
   "cell_type": "code",
   "execution_count": 85,
   "id": "d4f8bb06",
   "metadata": {},
   "outputs": [],
   "source": [
    "# Criando um grafo não-dirigido\n",
    "g2 = Graph(directed=True) \n",
    "g2.add_vp('nome')\n",
    "g2.add_ep('aceitos')"
   ]
  },
  {
   "cell_type": "code",
   "execution_count": 86,
   "id": "35c572bb",
   "metadata": {},
   "outputs": [],
   "source": [
    "for vertice in listaVertices:\n",
    "    g2.add_vertex(vertice)"
   ]
  },
  {
   "cell_type": "code",
   "execution_count": 87,
   "id": "fb7363c0",
   "metadata": {},
   "outputs": [],
   "source": [
    "for v in g2.all_vertices():\n",
    "    v['nome'] = str(v)"
   ]
  },
  {
   "cell_type": "code",
   "execution_count": 88,
   "id": "dc99240a",
   "metadata": {},
   "outputs": [
    {
     "name": "stdout",
     "output_type": "stream",
     "text": [
      "O número de vértices do grafo é : 225\n"
     ]
    }
   ],
   "source": [
    "n2 = g2.num_vertices()\n",
    "print('O número de vértices do grafo é :', n2)"
   ]
  },
  {
   "cell_type": "code",
   "execution_count": 89,
   "id": "779f62e4",
   "metadata": {},
   "outputs": [
    {
     "data": {
      "text/html": [
       "<div>\n",
       "<style scoped>\n",
       "    .dataframe tbody tr th:only-of-type {\n",
       "        vertical-align: middle;\n",
       "    }\n",
       "\n",
       "    .dataframe tbody tr th {\n",
       "        vertical-align: top;\n",
       "    }\n",
       "\n",
       "    .dataframe thead th {\n",
       "        text-align: right;\n",
       "    }\n",
       "</style>\n",
       "<table border=\"1\" class=\"dataframe\">\n",
       "  <thead>\n",
       "    <tr style=\"text-align: right;\">\n",
       "      <th></th>\n",
       "      <th>destiny</th>\n",
       "      <th>origin</th>\n",
       "      <th>value</th>\n",
       "      <th>rejected</th>\n",
       "    </tr>\n",
       "  </thead>\n",
       "  <tbody>\n",
       "    <tr>\n",
       "      <th>49818</th>\n",
       "      <td>Albania</td>\n",
       "      <td>Afghanistan</td>\n",
       "      <td>0</td>\n",
       "      <td>0</td>\n",
       "    </tr>\n",
       "    <tr>\n",
       "      <th>49819</th>\n",
       "      <td>Australia</td>\n",
       "      <td>Afghanistan</td>\n",
       "      <td>1</td>\n",
       "      <td>1</td>\n",
       "    </tr>\n",
       "    <tr>\n",
       "      <th>49820</th>\n",
       "      <td>Australia</td>\n",
       "      <td>Afghanistan</td>\n",
       "      <td>33</td>\n",
       "      <td>3</td>\n",
       "    </tr>\n",
       "    <tr>\n",
       "      <th>49821</th>\n",
       "      <td>Austria</td>\n",
       "      <td>Afghanistan</td>\n",
       "      <td>486</td>\n",
       "      <td>217</td>\n",
       "    </tr>\n",
       "    <tr>\n",
       "      <th>49822</th>\n",
       "      <td>Azerbaijan</td>\n",
       "      <td>Afghanistan</td>\n",
       "      <td>0</td>\n",
       "      <td>14</td>\n",
       "    </tr>\n",
       "    <tr>\n",
       "      <th>...</th>\n",
       "      <td>...</td>\n",
       "      <td>...</td>\n",
       "      <td>...</td>\n",
       "      <td>...</td>\n",
       "    </tr>\n",
       "    <tr>\n",
       "      <th>88862</th>\n",
       "      <td>Switzerland</td>\n",
       "      <td>Zimbabwe</td>\n",
       "      <td>0</td>\n",
       "      <td>1</td>\n",
       "    </tr>\n",
       "    <tr>\n",
       "      <th>88863</th>\n",
       "      <td>Costa Rica</td>\n",
       "      <td>Zimbabwe</td>\n",
       "      <td>0</td>\n",
       "      <td>0</td>\n",
       "    </tr>\n",
       "    <tr>\n",
       "      <th>88864</th>\n",
       "      <td>Cyprus</td>\n",
       "      <td>Zimbabwe</td>\n",
       "      <td>0</td>\n",
       "      <td>2</td>\n",
       "    </tr>\n",
       "    <tr>\n",
       "      <th>88865</th>\n",
       "      <td>Cyprus</td>\n",
       "      <td>Zimbabwe</td>\n",
       "      <td>0</td>\n",
       "      <td>0</td>\n",
       "    </tr>\n",
       "    <tr>\n",
       "      <th>88866</th>\n",
       "      <td>Germany</td>\n",
       "      <td>Zimbabwe</td>\n",
       "      <td>0</td>\n",
       "      <td>6</td>\n",
       "    </tr>\n",
       "  </tbody>\n",
       "</table>\n",
       "<p>39013 rows × 4 columns</p>\n",
       "</div>"
      ],
      "text/plain": [
       "           destiny       origin  value  rejected\n",
       "49818      Albania  Afghanistan      0         0\n",
       "49819    Australia  Afghanistan      1         1\n",
       "49820    Australia  Afghanistan     33         3\n",
       "49821      Austria  Afghanistan    486       217\n",
       "49822   Azerbaijan  Afghanistan      0        14\n",
       "...            ...          ...    ...       ...\n",
       "88862  Switzerland     Zimbabwe      0         1\n",
       "88863   Costa Rica     Zimbabwe      0         0\n",
       "88864       Cyprus     Zimbabwe      0         2\n",
       "88865       Cyprus     Zimbabwe      0         0\n",
       "88866      Germany     Zimbabwe      0         6\n",
       "\n",
       "[39013 rows x 4 columns]"
      ]
     },
     "execution_count": 89,
     "metadata": {},
     "output_type": "execute_result"
    }
   ],
   "source": [
    "df_hip4_2008_2012 = df_hip4_2008_2012[df_hip4_2008_2012['origin'] != df_hip4_2008_2012['destiny']]\n",
    "df_hip4_2008_2012"
   ]
  },
  {
   "cell_type": "code",
   "execution_count": 90,
   "id": "9756373b",
   "metadata": {},
   "outputs": [
    {
     "data": {
      "text/html": [
       "<div>\n",
       "<style scoped>\n",
       "    .dataframe tbody tr th:only-of-type {\n",
       "        vertical-align: middle;\n",
       "    }\n",
       "\n",
       "    .dataframe tbody tr th {\n",
       "        vertical-align: top;\n",
       "    }\n",
       "\n",
       "    .dataframe thead th {\n",
       "        text-align: right;\n",
       "    }\n",
       "</style>\n",
       "<table border=\"1\" class=\"dataframe\">\n",
       "  <thead>\n",
       "    <tr style=\"text-align: right;\">\n",
       "      <th></th>\n",
       "      <th>origin</th>\n",
       "      <th>destiny</th>\n",
       "      <th>value</th>\n",
       "      <th>rejected</th>\n",
       "    </tr>\n",
       "  </thead>\n",
       "  <tbody>\n",
       "    <tr>\n",
       "      <th>0</th>\n",
       "      <td>Afghanistan</td>\n",
       "      <td>Albania</td>\n",
       "      <td>0</td>\n",
       "      <td>0</td>\n",
       "    </tr>\n",
       "    <tr>\n",
       "      <th>1</th>\n",
       "      <td>Afghanistan</td>\n",
       "      <td>Algeria</td>\n",
       "      <td>2</td>\n",
       "      <td>0</td>\n",
       "    </tr>\n",
       "    <tr>\n",
       "      <th>2</th>\n",
       "      <td>Afghanistan</td>\n",
       "      <td>Argentina</td>\n",
       "      <td>1</td>\n",
       "      <td>0</td>\n",
       "    </tr>\n",
       "    <tr>\n",
       "      <th>3</th>\n",
       "      <td>Afghanistan</td>\n",
       "      <td>Armenia</td>\n",
       "      <td>0</td>\n",
       "      <td>0</td>\n",
       "    </tr>\n",
       "    <tr>\n",
       "      <th>4</th>\n",
       "      <td>Afghanistan</td>\n",
       "      <td>Australia</td>\n",
       "      <td>5990</td>\n",
       "      <td>1542</td>\n",
       "    </tr>\n",
       "    <tr>\n",
       "      <th>...</th>\n",
       "      <td>...</td>\n",
       "      <td>...</td>\n",
       "      <td>...</td>\n",
       "      <td>...</td>\n",
       "    </tr>\n",
       "    <tr>\n",
       "      <th>7940</th>\n",
       "      <td>Zimbabwe</td>\n",
       "      <td>Ukraine</td>\n",
       "      <td>2</td>\n",
       "      <td>4</td>\n",
       "    </tr>\n",
       "    <tr>\n",
       "      <th>7941</th>\n",
       "      <td>Zimbabwe</td>\n",
       "      <td>United Kingdom</td>\n",
       "      <td>6505</td>\n",
       "      <td>14829</td>\n",
       "    </tr>\n",
       "    <tr>\n",
       "      <th>7942</th>\n",
       "      <td>Zimbabwe</td>\n",
       "      <td>United States of America</td>\n",
       "      <td>643</td>\n",
       "      <td>344</td>\n",
       "    </tr>\n",
       "    <tr>\n",
       "      <th>7943</th>\n",
       "      <td>Zimbabwe</td>\n",
       "      <td>Uruguay</td>\n",
       "      <td>1</td>\n",
       "      <td>0</td>\n",
       "    </tr>\n",
       "    <tr>\n",
       "      <th>7944</th>\n",
       "      <td>Zimbabwe</td>\n",
       "      <td>Zambia</td>\n",
       "      <td>9</td>\n",
       "      <td>6</td>\n",
       "    </tr>\n",
       "  </tbody>\n",
       "</table>\n",
       "<p>7945 rows × 4 columns</p>\n",
       "</div>"
      ],
      "text/plain": [
       "           origin                   destiny  value  rejected\n",
       "0     Afghanistan                   Albania      0         0\n",
       "1     Afghanistan                   Algeria      2         0\n",
       "2     Afghanistan                 Argentina      1         0\n",
       "3     Afghanistan                   Armenia      0         0\n",
       "4     Afghanistan                 Australia   5990      1542\n",
       "...           ...                       ...    ...       ...\n",
       "7940     Zimbabwe                   Ukraine      2         4\n",
       "7941     Zimbabwe            United Kingdom   6505     14829\n",
       "7942     Zimbabwe  United States of America    643       344\n",
       "7943     Zimbabwe                   Uruguay      1         0\n",
       "7944     Zimbabwe                    Zambia      9         6\n",
       "\n",
       "[7945 rows x 4 columns]"
      ]
     },
     "execution_count": 90,
     "metadata": {},
     "output_type": "execute_result"
    }
   ],
   "source": [
    "df_hip4_2008_2012 = df_hip4_2008_2012.groupby(['origin', 'destiny']).sum().reset_index()\n",
    "df_hip4_2008_2012"
   ]
  },
  {
   "cell_type": "code",
   "execution_count": 91,
   "id": "c1a9b09b",
   "metadata": {},
   "outputs": [],
   "source": [
    "for index, row in df_hip4_2008_2012.iterrows():\n",
    "    g2.add_edge(row.origin, row.destiny)\n",
    "    g2.get_edge(row.origin, row.destiny)['aceitos'] = row.value"
   ]
  },
  {
   "cell_type": "code",
   "execution_count": 92,
   "id": "78d7fce9",
   "metadata": {},
   "outputs": [],
   "source": [
    "gt_save(g2, '/grafo_2008_2012.net.gz')"
   ]
  },
  {
   "cell_type": "code",
   "execution_count": 93,
   "id": "996c0b7f",
   "metadata": {},
   "outputs": [],
   "source": [
    "g2 = gt_load('/grafo_2008_2012.net.gz')"
   ]
  },
  {
   "cell_type": "code",
   "execution_count": 94,
   "id": "2d00d223",
   "metadata": {},
   "outputs": [],
   "source": [
    "g2 = gt_load('/grafo_2008_2012.net.gz')\n",
    "m = gt_draw.sfdp_layout(g2)\n",
    "gt_move(g2, m)\n",
    "gt_save(g2, 'grafo_2008_2012.net.gz')"
   ]
  },
  {
   "cell_type": "code",
   "execution_count": 95,
   "id": "4bc7d666",
   "metadata": {
    "scrolled": true
   },
   "outputs": [
    {
     "data": {
      "text/html": [
       "\n",
       "        <div id=\"3UFj5CMo2dVYGgMEw3jMH3\"></div>\n",
       "        <script>netpixi.render('3UFj5CMo2dVYGgMEw3jMH3', 'grafo_2008_2012.net.gz', 1.7777777777777777, true, true, false);</script>\n",
       "    "
      ],
      "text/plain": [
       "<IPython.core.display.HTML object>"
      ]
     },
     "metadata": {},
     "output_type": "display_data"
    }
   ],
   "source": [
    "r2 = netpixi.render('grafo_2008_2012.net.gz', infinite=True);"
   ]
  },
  {
   "cell_type": "code",
   "execution_count": 96,
   "id": "0b61750d",
   "metadata": {},
   "outputs": [
    {
     "data": {
      "text/html": [
       "\n",
       "        <div id=\"F2zCrBZeEWhCPA7x227xAG\"></div>\n",
       "        <script>netpixi.call('F2zCrBZeEWhCPA7x227xAG', '3UFj5CMo2dVYGgMEw3jMH3', 'setGraph', 'eyJ0eXBlIjogInZlcnRleCIsICJwcm9wcyI6IHsic3JjIjogIm5vbWUiLCAiZHN0IjogIl9rZXkifX0K');</script>\n",
       "    "
      ],
      "text/plain": [
       "<IPython.core.display.HTML object>"
      ]
     },
     "metadata": {},
     "output_type": "display_data"
    },
    {
     "data": {
      "text/html": [
       "\n",
       "        <div id=\"2AhqBptecZpdJEJ5uz4phD\"></div>\n",
       "        <script>netpixi.call('2AhqBptecZpdJEJ5uz4phD', '3UFj5CMo2dVYGgMEw3jMH3', 'changeGraph', 'eyJ0eXBlIjogInNldHRpbmdzIiwgInByb3BzIjogeyJ2ZXJ0ZXgiOiB7ImNvbG9yIjogMTY3NzcyMTV9fX0K');</script>\n",
       "    "
      ],
      "text/plain": [
       "<IPython.core.display.HTML object>"
      ]
     },
     "metadata": {},
     "output_type": "display_data"
    },
    {
     "data": {
      "text/html": [
       "\n",
       "        <div id=\"2FV5NYi6n5orcSJHSA5ViB\"></div>\n",
       "        <script>netpixi.call('2FV5NYi6n5orcSJHSA5ViB', '3UFj5CMo2dVYGgMEw3jMH3', 'changeGraph', 'eyJ0eXBlIjogInNldHRpbmdzIiwgInByb3BzIjogeyJlZGdlIjogeyJjb2xvciI6IDIxNDI4OTB9fX0K');</script>\n",
       "    "
      ],
      "text/plain": [
       "<IPython.core.display.HTML object>"
      ]
     },
     "metadata": {},
     "output_type": "display_data"
    }
   ],
   "source": [
    "r2.vertex_set_key('nome')\n",
    "\n",
    "r2.vertex_default(color=0xffffff)\n",
    "\n",
    "# mudar a cor, a espessura e a curvatura das arestas\n",
    "r2.edge_default(color=0x20B2AA)"
   ]
  },
  {
   "cell_type": "code",
   "execution_count": 97,
   "id": "9ff52753",
   "metadata": {},
   "outputs": [
    {
     "data": {
      "text/html": [
       "\n",
       "        <div id=\"iL4ybCmJfQ8PWBHvu8GZYh\"></div>\n",
       "        <script>netpixi.call('iL4ybCmJfQ8PWBHvu8GZYh', '3UFj5CMo2dVYGgMEw3jMH3', 'normalizeGraph', 'eyJ0eXBlIjogImVkZ2UiLCAicHJvcHMiOiB7InNyYyI6ICJhY2VpdG9zIiwgIm1pbiI6IDEsICJtYXgiOiAxMH19Cg==');</script>\n",
       "    "
      ],
      "text/plain": [
       "<IPython.core.display.HTML object>"
      ]
     },
     "metadata": {},
     "output_type": "display_data"
    }
   ],
   "source": [
    "r2.edge_scale('aceitos', 1, 10)"
   ]
  },
  {
   "cell_type": "code",
   "execution_count": 98,
   "id": "8931ad20",
   "metadata": {},
   "outputs": [],
   "source": [
    "g2 =  gt_load('/grafo_2008_2012.net.gz')"
   ]
  },
  {
   "cell_type": "code",
   "execution_count": 99,
   "id": "49400462",
   "metadata": {},
   "outputs": [],
   "source": [
    "m = gt_draw.sfdp_layout(g2)\n",
    "gt_move(g2, m)\n",
    "gt_save(g2, 'centralidadeCoreness20082012.net.gz')"
   ]
  },
  {
   "cell_type": "code",
   "execution_count": 108,
   "id": "bc84ac73",
   "metadata": {},
   "outputs": [],
   "source": [
    "#r2 = netpixi.render('centralidadeCoreness20082012.net.gz')"
   ]
  },
  {
   "cell_type": "code",
   "execution_count": 106,
   "id": "0c6c6938",
   "metadata": {},
   "outputs": [
    {
     "data": {
      "text/html": [
       "\n",
       "        <div id=\"mGGWtjvUCT63J9gztPuG42\"></div>\n",
       "        <script>netpixi.call('mGGWtjvUCT63J9gztPuG42', 'G2pH5LgoxWUHCuMcQXu9c4', 'changeGraph', 'eyJpZCI6ICJQb2xhbmQiLCAidHlwZSI6ICJ2ZXJ0ZXgiLCAicHJvcHMiOiB7ImNvbG9yIjogMTY3MTE2ODB9fQo=');</script>\n",
       "    "
      ],
      "text/plain": [
       "<IPython.core.display.HTML object>"
      ]
     },
     "metadata": {},
     "output_type": "display_data"
    },
    {
     "data": {
      "text/html": [
       "\n",
       "        <div id=\"o5B9NC3kCF2ju8qB8qWyej\"></div>\n",
       "        <script>netpixi.call('o5B9NC3kCF2ju8qB8qWyej', 'G2pH5LgoxWUHCuMcQXu9c4', 'changeGraph', 'eyJpZCI6ICJBcmdlbnRpbmEiLCAidHlwZSI6ICJ2ZXJ0ZXgiLCAicHJvcHMiOiB7ImNvbG9yIjogMTY3MTE2ODB9fQo=');</script>\n",
       "    "
      ],
      "text/plain": [
       "<IPython.core.display.HTML object>"
      ]
     },
     "metadata": {},
     "output_type": "display_data"
    },
    {
     "data": {
      "text/html": [
       "\n",
       "        <div id=\"CkP3dixjm9Sj5i8Zrx6e2L\"></div>\n",
       "        <script>netpixi.call('CkP3dixjm9Sj5i8Zrx6e2L', 'G2pH5LgoxWUHCuMcQXu9c4', 'changeGraph', 'eyJpZCI6ICJDXHUwMGY0dGUgZCdJdm9pcmUiLCAidHlwZSI6ICJ2ZXJ0ZXgiLCAicHJvcHMiOiB7ImNvbG9yIjogMTY3MTE2ODB9fQo=');</script>\n",
       "    "
      ],
      "text/plain": [
       "<IPython.core.display.HTML object>"
      ]
     },
     "metadata": {},
     "output_type": "display_data"
    },
    {
     "data": {
      "text/html": [
       "\n",
       "        <div id=\"QkMqiK8yCU5gUDbiuZNDdR\"></div>\n",
       "        <script>netpixi.call('QkMqiK8yCU5gUDbiuZNDdR', 'G2pH5LgoxWUHCuMcQXu9c4', 'changeGraph', 'eyJpZCI6ICJVZ2FuZGEiLCAidHlwZSI6ICJ2ZXJ0ZXgiLCAicHJvcHMiOiB7ImNvbG9yIjogNjUyODB9fQo=');</script>\n",
       "    "
      ],
      "text/plain": [
       "<IPython.core.display.HTML object>"
      ]
     },
     "metadata": {},
     "output_type": "display_data"
    },
    {
     "data": {
      "text/html": [
       "\n",
       "        <div id=\"ehnaXN5zkGbKLRHMpUzBDM\"></div>\n",
       "        <script>netpixi.call('ehnaXN5zkGbKLRHMpUzBDM', 'G2pH5LgoxWUHCuMcQXu9c4', 'changeGraph', 'eyJpZCI6ICJCdXJraW5hIEZhc28iLCAidHlwZSI6ICJ2ZXJ0ZXgiLCAicHJvcHMiOiB7ImNvbG9yIjogNjUyODB9fQo=');</script>\n",
       "    "
      ],
      "text/plain": [
       "<IPython.core.display.HTML object>"
      ]
     },
     "metadata": {},
     "output_type": "display_data"
    },
    {
     "data": {
      "text/html": [
       "\n",
       "        <div id=\"iXGYRWB9WmBLSgHDLBmt5C\"></div>\n",
       "        <script>netpixi.call('iXGYRWB9WmBLSgHDLBmt5C', 'G2pH5LgoxWUHCuMcQXu9c4', 'changeGraph', 'eyJpZCI6ICJBbGJhbmlhIiwgInR5cGUiOiAidmVydGV4IiwgInByb3BzIjogeyJjb2xvciI6IDY1MjgwfX0K');</script>\n",
       "    "
      ],
      "text/plain": [
       "<IPython.core.display.HTML object>"
      ]
     },
     "metadata": {},
     "output_type": "display_data"
    },
    {
     "data": {
      "text/html": [
       "\n",
       "        <div id=\"hu2eyS356eQiuAfLz6bGTM\"></div>\n",
       "        <script>netpixi.call('hu2eyS356eQiuAfLz6bGTM', 'G2pH5LgoxWUHCuMcQXu9c4', 'changeGraph', 'eyJpZCI6ICJTaWVycmEgTGVvbmUiLCAidHlwZSI6ICJ2ZXJ0ZXgiLCAicHJvcHMiOiB7ImNvbG9yIjogNjUyODB9fQo=');</script>\n",
       "    "
      ],
      "text/plain": [
       "<IPython.core.display.HTML object>"
      ]
     },
     "metadata": {},
     "output_type": "display_data"
    },
    {
     "data": {
      "text/html": [
       "\n",
       "        <div id=\"MbPjZUymzKQiV3CX2EtH7d\"></div>\n",
       "        <script>netpixi.call('MbPjZUymzKQiV3CX2EtH7d', 'G2pH5LgoxWUHCuMcQXu9c4', 'changeGraph', 'eyJpZCI6ICJCb3NuaWEgYW5kIEhlcnplZ292aW5hIiwgInR5cGUiOiAidmVydGV4IiwgInByb3BzIjogeyJjb2xvciI6IDY1MjgwfX0K');</script>\n",
       "    "
      ],
      "text/plain": [
       "<IPython.core.display.HTML object>"
      ]
     },
     "metadata": {},
     "output_type": "display_data"
    },
    {
     "data": {
      "text/html": [
       "\n",
       "        <div id=\"hLDLV4wZrRZyRftamAJfRH\"></div>\n",
       "        <script>netpixi.call('hLDLV4wZrRZyRftamAJfRH', 'G2pH5LgoxWUHCuMcQXu9c4', 'changeGraph', 'eyJpZCI6ICJTb3V0aCBTdWRhbiIsICJ0eXBlIjogInZlcnRleCIsICJwcm9wcyI6IHsiY29sb3IiOiA2NTI4MH19Cg==');</script>\n",
       "    "
      ],
      "text/plain": [
       "<IPython.core.display.HTML object>"
      ]
     },
     "metadata": {},
     "output_type": "display_data"
    },
    {
     "data": {
      "text/html": [
       "\n",
       "        <div id=\"RuMhgV6Qn7tWZmMXgkPnNe\"></div>\n",
       "        <script>netpixi.call('RuMhgV6Qn7tWZmMXgkPnNe', 'G2pH5LgoxWUHCuMcQXu9c4', 'changeGraph', 'eyJpZCI6ICJOaWNhcmFndWEiLCAidHlwZSI6ICJ2ZXJ0ZXgiLCAicHJvcHMiOiB7ImNvbG9yIjogNjUyODB9fQo=');</script>\n",
       "    "
      ],
      "text/plain": [
       "<IPython.core.display.HTML object>"
      ]
     },
     "metadata": {},
     "output_type": "display_data"
    },
    {
     "data": {
      "text/html": [
       "\n",
       "        <div id=\"Ac5H5Jpo2Bb4zMd2pPNDXf\"></div>\n",
       "        <script>netpixi.call('Ac5H5Jpo2Bb4zMd2pPNDXf', 'G2pH5LgoxWUHCuMcQXu9c4', 'changeGraph', 'eyJpZCI6ICJTZXJiaWEgYW5kIEtvc292byAoUy9SRVMvMTI0NCAoMTk5OSkpIiwgInR5cGUiOiAidmVydGV4IiwgInByb3BzIjogeyJjb2xvciI6IDE2NzExNjgwfX0K');</script>\n",
       "    "
      ],
      "text/plain": [
       "<IPython.core.display.HTML object>"
      ]
     },
     "metadata": {},
     "output_type": "display_data"
    },
    {
     "data": {
      "text/html": [
       "\n",
       "        <div id=\"F8vvhoiSQ3Qmf9GZ4dFffu\"></div>\n",
       "        <script>netpixi.call('F8vvhoiSQ3Qmf9GZ4dFffu', 'G2pH5LgoxWUHCuMcQXu9c4', 'changeGraph', 'eyJpZCI6ICJWZW5lenVlbGEgKEJvbGl2YXJpYW4gUmVwdWJsaWMgb2YpIiwgInR5cGUiOiAidmVydGV4IiwgInByb3BzIjogeyJjb2xvciI6IDE2NzExNjgwfX0K');</script>\n",
       "    "
      ],
      "text/plain": [
       "<IPython.core.display.HTML object>"
      ]
     },
     "metadata": {},
     "output_type": "display_data"
    },
    {
     "data": {
      "text/html": [
       "\n",
       "        <div id=\"A8kqyCMSoH2FarLfsEiCpR\"></div>\n",
       "        <script>netpixi.call('A8kqyCMSoH2FarLfsEiCpR', 'G2pH5LgoxWUHCuMcQXu9c4', 'changeGraph', 'eyJpZCI6ICJTYWludCBMdWNpYSIsICJ0eXBlIjogInZlcnRleCIsICJwcm9wcyI6IHsiY29sb3IiOiA2NTI4MH19Cg==');</script>\n",
       "    "
      ],
      "text/plain": [
       "<IPython.core.display.HTML object>"
      ]
     },
     "metadata": {},
     "output_type": "display_data"
    },
    {
     "data": {
      "text/html": [
       "\n",
       "        <div id=\"gAHVgw6v5unD6bZzdxKKdH\"></div>\n",
       "        <script>netpixi.call('gAHVgw6v5unD6bZzdxKKdH', 'G2pH5LgoxWUHCuMcQXu9c4', 'changeGraph', 'eyJpZCI6ICJTZXljaGVsbGVzIiwgInR5cGUiOiAidmVydGV4IiwgInByb3BzIjogeyJjb2xvciI6IDY1MjgwfX0K');</script>\n",
       "    "
      ],
      "text/plain": [
       "<IPython.core.display.HTML object>"
      ]
     },
     "metadata": {},
     "output_type": "display_data"
    },
    {
     "data": {
      "text/html": [
       "\n",
       "        <div id=\"XGZMgcCLWdYxjGWzguTmTU\"></div>\n",
       "        <script>netpixi.call('XGZMgcCLWdYxjGWzguTmTU', 'G2pH5LgoxWUHCuMcQXu9c4', 'changeGraph', 'eyJpZCI6ICJUdXZhbHUiLCAidHlwZSI6ICJ2ZXJ0ZXgiLCAicHJvcHMiOiB7ImNvbG9yIjogNjUyODB9fQo=');</script>\n",
       "    "
      ],
      "text/plain": [
       "<IPython.core.display.HTML object>"
      ]
     },
     "metadata": {},
     "output_type": "display_data"
    },
    {
     "data": {
      "text/html": [
       "\n",
       "        <div id=\"CXpZcQfiXuTycatJfJ5wP9\"></div>\n",
       "        <script>netpixi.call('CXpZcQfiXuTycatJfJ5wP9', 'G2pH5LgoxWUHCuMcQXu9c4', 'changeGraph', 'eyJpZCI6ICJQdWVydG8gUmljbyIsICJ0eXBlIjogInZlcnRleCIsICJwcm9wcyI6IHsiY29sb3IiOiA2NTI4MH19Cg==');</script>\n",
       "    "
      ],
      "text/plain": [
       "<IPython.core.display.HTML object>"
      ]
     },
     "metadata": {},
     "output_type": "display_data"
    },
    {
     "data": {
      "text/html": [
       "\n",
       "        <div id=\"PTVJ6hS4TvaUqy4jotQC8E\"></div>\n",
       "        <script>netpixi.call('PTVJ6hS4TvaUqy4jotQC8E', 'G2pH5LgoxWUHCuMcQXu9c4', 'changeGraph', 'eyJpZCI6ICJDb3N0YSBSaWNhIiwgInR5cGUiOiAidmVydGV4IiwgInByb3BzIjogeyJjb2xvciI6IDE2NzExNjgwfX0K');</script>\n",
       "    "
      ],
      "text/plain": [
       "<IPython.core.display.HTML object>"
      ]
     },
     "metadata": {},
     "output_type": "display_data"
    },
    {
     "data": {
      "text/html": [
       "\n",
       "        <div id=\"SXdEF8egy9AhvqJYfpoKRn\"></div>\n",
       "        <script>netpixi.call('SXdEF8egy9AhvqJYfpoKRn', 'G2pH5LgoxWUHCuMcQXu9c4', 'changeGraph', 'eyJpZCI6ICJWYW51YXR1IiwgInR5cGUiOiAidmVydGV4IiwgInByb3BzIjogeyJjb2xvciI6IDY1MjgwfX0K');</script>\n",
       "    "
      ],
      "text/plain": [
       "<IPython.core.display.HTML object>"
      ]
     },
     "metadata": {},
     "output_type": "display_data"
    },
    {
     "data": {
      "text/html": [
       "\n",
       "        <div id=\"7AihY6snj9d9RojbrrLRtN\"></div>\n",
       "        <script>netpixi.call('7AihY6snj9d9RojbrrLRtN', 'G2pH5LgoxWUHCuMcQXu9c4', 'changeGraph', 'eyJpZCI6ICJJbmRvbmVzaWEiLCAidHlwZSI6ICJ2ZXJ0ZXgiLCAicHJvcHMiOiB7ImNvbG9yIjogMTY3MTE2ODB9fQo=');</script>\n",
       "    "
      ],
      "text/plain": [
       "<IPython.core.display.HTML object>"
      ]
     },
     "metadata": {},
     "output_type": "display_data"
    },
    {
     "data": {
      "text/html": [
       "\n",
       "        <div id=\"gq52pyY8zzkPhjf5Wmv9ug\"></div>\n",
       "        <script>netpixi.call('gq52pyY8zzkPhjf5Wmv9ug', 'G2pH5LgoxWUHCuMcQXu9c4', 'changeGraph', 'eyJpZCI6ICJNb3JvY2NvIiwgInR5cGUiOiAidmVydGV4IiwgInByb3BzIjogeyJjb2xvciI6IDE2NzExNjgwfX0K');</script>\n",
       "    "
      ],
      "text/plain": [
       "<IPython.core.display.HTML object>"
      ]
     },
     "metadata": {},
     "output_type": "display_data"
    },
    {
     "data": {
      "text/html": [
       "\n",
       "        <div id=\"gS9Rj7LXRUHbduFs8Zb6Up\"></div>\n",
       "        <script>netpixi.call('gS9Rj7LXRUHbduFs8Zb6Up', 'G2pH5LgoxWUHCuMcQXu9c4', 'changeGraph', 'eyJpZCI6ICJLaXJpYmF0aSIsICJ0eXBlIjogInZlcnRleCIsICJwcm9wcyI6IHsiY29sb3IiOiA2NTI4MH19Cg==');</script>\n",
       "    "
      ],
      "text/plain": [
       "<IPython.core.display.HTML object>"
      ]
     },
     "metadata": {},
     "output_type": "display_data"
    },
    {
     "data": {
      "text/html": [
       "\n",
       "        <div id=\"aXBcjJQAF3gnh4FPv6K3HE\"></div>\n",
       "        <script>netpixi.call('aXBcjJQAF3gnh4FPv6K3HE', 'G2pH5LgoxWUHCuMcQXu9c4', 'changeGraph', 'eyJpZCI6ICJWYXJpb3VzL1Vua25vd24iLCAidHlwZSI6ICJ2ZXJ0ZXgiLCAicHJvcHMiOiB7ImNvbG9yIjogNjUyODB9fQo=');</script>\n",
       "    "
      ],
      "text/plain": [
       "<IPython.core.display.HTML object>"
      ]
     },
     "metadata": {},
     "output_type": "display_data"
    },
    {
     "data": {
      "text/html": [
       "\n",
       "        <div id=\"QCxNyh6DiDBf5Gi5MEP6Tq\"></div>\n",
       "        <script>netpixi.call('QCxNyh6DiDBf5Gi5MEP6Tq', 'G2pH5LgoxWUHCuMcQXu9c4', 'changeGraph', 'eyJpZCI6ICJNeWFubWFyIiwgInR5cGUiOiAidmVydGV4IiwgInByb3BzIjogeyJjb2xvciI6IDY1MjgwfX0K');</script>\n",
       "    "
      ],
      "text/plain": [
       "<IPython.core.display.HTML object>"
      ]
     },
     "metadata": {},
     "output_type": "display_data"
    },
    {
     "data": {
      "text/html": [
       "\n",
       "        <div id=\"QwAsABj5xTCFApHE7mPCFE\"></div>\n",
       "        <script>netpixi.call('QwAsABj5xTCFApHE7mPCFE', 'G2pH5LgoxWUHCuMcQXu9c4', 'changeGraph', 'eyJpZCI6ICJEZW0uIFBlb3BsZSdzIFJlcC4gb2YgS29yZWEiLCAidHlwZSI6ICJ2ZXJ0ZXgiLCAicHJvcHMiOiB7ImNvbG9yIjogNjUyODB9fQo=');</script>\n",
       "    "
      ],
      "text/plain": [
       "<IPython.core.display.HTML object>"
      ]
     },
     "metadata": {},
     "output_type": "display_data"
    },
    {
     "data": {
      "text/html": [
       "\n",
       "        <div id=\"RNAmVaXDkWy8xDCotXZanx\"></div>\n",
       "        <script>netpixi.call('RNAmVaXDkWy8xDCotXZanx', 'G2pH5LgoxWUHCuMcQXu9c4', 'changeGraph', 'eyJpZCI6ICJQYWxhdSIsICJ0eXBlIjogInZlcnRleCIsICJwcm9wcyI6IHsiY29sb3IiOiA2NTI4MH19Cg==');</script>\n",
       "    "
      ],
      "text/plain": [
       "<IPython.core.display.HTML object>"
      ]
     },
     "metadata": {},
     "output_type": "display_data"
    },
    {
     "data": {
      "text/html": [
       "\n",
       "        <div id=\"KWu8x24gtnBp6URmihVCbL\"></div>\n",
       "        <script>netpixi.call('KWu8x24gtnBp6URmihVCbL', 'G2pH5LgoxWUHCuMcQXu9c4', 'changeGraph', 'eyJpZCI6ICJIb2x5IFNlZSAodGhlKSIsICJ0eXBlIjogInZlcnRleCIsICJwcm9wcyI6IHsiY29sb3IiOiA2NTI4MH19Cg==');</script>\n",
       "    "
      ],
      "text/plain": [
       "<IPython.core.display.HTML object>"
      ]
     },
     "metadata": {},
     "output_type": "display_data"
    },
    {
     "data": {
      "text/html": [
       "\n",
       "        <div id=\"hyRZnPgpAaMxWAQTmxHs83\"></div>\n",
       "        <script>netpixi.call('hyRZnPgpAaMxWAQTmxHs83', 'G2pH5LgoxWUHCuMcQXu9c4', 'changeGraph', 'eyJpZCI6ICJTb2xvbW9uIElzbGFuZHMiLCAidHlwZSI6ICJ2ZXJ0ZXgiLCAicHJvcHMiOiB7ImNvbG9yIjogNjUyODB9fQo=');</script>\n",
       "    "
      ],
      "text/plain": [
       "<IPython.core.display.HTML object>"
      ]
     },
     "metadata": {},
     "output_type": "display_data"
    },
    {
     "data": {
      "text/html": [
       "\n",
       "        <div id=\"eGv2f95HTxVLZnHWGG3taB\"></div>\n",
       "        <script>netpixi.call('eGv2f95HTxVLZnHWGG3taB', 'G2pH5LgoxWUHCuMcQXu9c4', 'changeGraph', 'eyJpZCI6ICJTYWludCBWaW5jZW50IGFuZCB0aGUgR3JlbmFkaW5lcyIsICJ0eXBlIjogInZlcnRleCIsICJwcm9wcyI6IHsiY29sb3IiOiA2NTI4MH19Cg==');</script>\n",
       "    "
      ],
      "text/plain": [
       "<IPython.core.display.HTML object>"
      ]
     },
     "metadata": {},
     "output_type": "display_data"
    },
    {
     "data": {
      "text/html": [
       "\n",
       "        <div id=\"7jvf44yyYukPv2R42btrNv\"></div>\n",
       "        <script>netpixi.call('7jvf44yyYukPv2R42btrNv', 'G2pH5LgoxWUHCuMcQXu9c4', 'changeGraph', 'eyJpZCI6ICJQYW5hbWEiLCAidHlwZSI6ICJ2ZXJ0ZXgiLCAicHJvcHMiOiB7ImNvbG9yIjogMTY3MTE2ODB9fQo=');</script>\n",
       "    "
      ],
      "text/plain": [
       "<IPython.core.display.HTML object>"
      ]
     },
     "metadata": {},
     "output_type": "display_data"
    },
    {
     "data": {
      "text/html": [
       "\n",
       "        <div id=\"7Nq7eZeLjb6xs6gGtetxYW\"></div>\n",
       "        <script>netpixi.call('7Nq7eZeLjb6xs6gGtetxYW', 'G2pH5LgoxWUHCuMcQXu9c4', 'changeGraph', 'eyJpZCI6ICJGcmVuY2ggUG9seW5lc2lhIiwgInR5cGUiOiAidmVydGV4IiwgInByb3BzIjogeyJjb2xvciI6IDY1MjgwfX0K');</script>\n",
       "    "
      ],
      "text/plain": [
       "<IPython.core.display.HTML object>"
      ]
     },
     "metadata": {},
     "output_type": "display_data"
    },
    {
     "data": {
      "text/html": [
       "\n",
       "        <div id=\"8TMtD7kkhg9FjNgquoCvND\"></div>\n",
       "        <script>netpixi.call('8TMtD7kkhg9FjNgquoCvND', 'G2pH5LgoxWUHCuMcQXu9c4', 'changeGraph', 'eyJpZCI6ICJBdXN0cmFsaWEiLCAidHlwZSI6ICJ2ZXJ0ZXgiLCAicHJvcHMiOiB7ImNvbG9yIjogMTY3MTE2ODB9fQo=');</script>\n",
       "    "
      ],
      "text/plain": [
       "<IPython.core.display.HTML object>"
      ]
     },
     "metadata": {},
     "output_type": "display_data"
    },
    {
     "data": {
      "text/html": [
       "\n",
       "        <div id=\"ZPXri77ySGgUhKBa4Jwizh\"></div>\n",
       "        <script>netpixi.call('ZPXri77ySGgUhKBa4Jwizh', 'G2pH5LgoxWUHCuMcQXu9c4', 'changeGraph', 'eyJpZCI6ICJOaXVlIiwgInR5cGUiOiAidmVydGV4IiwgInByb3BzIjogeyJjb2xvciI6IDY1MjgwfX0K');</script>\n",
       "    "
      ],
      "text/plain": [
       "<IPython.core.display.HTML object>"
      ]
     },
     "metadata": {},
     "output_type": "display_data"
    },
    {
     "data": {
      "text/html": [
       "\n",
       "        <div id=\"JcojegrV3q67J45PHNk3bq\"></div>\n",
       "        <script>netpixi.call('JcojegrV3q67J45PHNk3bq', 'G2pH5LgoxWUHCuMcQXu9c4', 'changeGraph', 'eyJpZCI6ICJUdXJrZXkiLCAidHlwZSI6ICJ2ZXJ0ZXgiLCAicHJvcHMiOiB7ImNvbG9yIjogMTY3MTE2ODB9fQo=');</script>\n",
       "    "
      ],
      "text/plain": [
       "<IPython.core.display.HTML object>"
      ]
     },
     "metadata": {},
     "output_type": "display_data"
    },
    {
     "data": {
      "text/html": [
       "\n",
       "        <div id=\"n432Q89erwea5VNefLZLRD\"></div>\n",
       "        <script>netpixi.call('n432Q89erwea5VNefLZLRD', 'G2pH5LgoxWUHCuMcQXu9c4', 'changeGraph', 'eyJpZCI6ICJUdXJrcyBhbmQgQ2FpY29zIElzbGFuZHMiLCAidHlwZSI6ICJ2ZXJ0ZXgiLCAicHJvcHMiOiB7ImNvbG9yIjogNjUyODB9fQo=');</script>\n",
       "    "
      ],
      "text/plain": [
       "<IPython.core.display.HTML object>"
      ]
     },
     "metadata": {},
     "output_type": "display_data"
    },
    {
     "data": {
      "text/html": [
       "\n",
       "        <div id=\"Lhax6CqXRtn5ndJHtPE5WW\"></div>\n",
       "        <script>netpixi.call('Lhax6CqXRtn5ndJHtPE5WW', 'G2pH5LgoxWUHCuMcQXu9c4', 'changeGraph', 'eyJpZCI6ICJDaGlsZSIsICJ0eXBlIjogInZlcnRleCIsICJwcm9wcyI6IHsiY29sb3IiOiA2NTI4MH19Cg==');</script>\n",
       "    "
      ],
      "text/plain": [
       "<IPython.core.display.HTML object>"
      ]
     },
     "metadata": {},
     "output_type": "display_data"
    },
    {
     "data": {
      "text/html": [
       "\n",
       "        <div id=\"WWTofKQuTiYC3wjv3ziVfh\"></div>\n",
       "        <script>netpixi.call('WWTofKQuTiYC3wjv3ziVfh', 'G2pH5LgoxWUHCuMcQXu9c4', 'changeGraph', 'eyJpZCI6ICJTdXJpbmFtZSIsICJ0eXBlIjogInZlcnRleCIsICJwcm9wcyI6IHsiY29sb3IiOiA2NTI4MH19Cg==');</script>\n",
       "    "
      ],
      "text/plain": [
       "<IPython.core.display.HTML object>"
      ]
     },
     "metadata": {},
     "output_type": "display_data"
    },
    {
     "data": {
      "text/html": [
       "\n",
       "        <div id=\"Fsboo7hqAdLsDUcn9VesWC\"></div>\n",
       "        <script>netpixi.call('Fsboo7hqAdLsDUcn9VesWC', 'G2pH5LgoxWUHCuMcQXu9c4', 'changeGraph', 'eyJpZCI6ICJHdWF0ZW1hbGEiLCAidHlwZSI6ICJ2ZXJ0ZXgiLCAicHJvcHMiOiB7ImNvbG9yIjogNjUyODB9fQo=');</script>\n",
       "    "
      ],
      "text/plain": [
       "<IPython.core.display.HTML object>"
      ]
     },
     "metadata": {},
     "output_type": "display_data"
    },
    {
     "data": {
      "text/html": [
       "\n",
       "        <div id=\"HZRnvbrjRTcmLEEBu3pEdW\"></div>\n",
       "        <script>netpixi.call('HZRnvbrjRTcmLEEBu3pEdW', 'G2pH5LgoxWUHCuMcQXu9c4', 'changeGraph', 'eyJpZCI6ICJFbCBTYWx2YWRvciIsICJ0eXBlIjogInZlcnRleCIsICJwcm9wcyI6IHsiY29sb3IiOiA2NTI4MH19Cg==');</script>\n",
       "    "
      ],
      "text/plain": [
       "<IPython.core.display.HTML object>"
      ]
     },
     "metadata": {},
     "output_type": "display_data"
    },
    {
     "data": {
      "text/html": [
       "\n",
       "        <div id=\"4CCRnDUXobPeozWmxturV3\"></div>\n",
       "        <script>netpixi.call('4CCRnDUXobPeozWmxturV3', 'G2pH5LgoxWUHCuMcQXu9c4', 'changeGraph', 'eyJpZCI6ICJOb3J3YXkiLCAidHlwZSI6ICJ2ZXJ0ZXgiLCAicHJvcHMiOiB7ImNvbG9yIjogMTY3MTE2ODB9fQo=');</script>\n",
       "    "
      ],
      "text/plain": [
       "<IPython.core.display.HTML object>"
      ]
     },
     "metadata": {},
     "output_type": "display_data"
    },
    {
     "data": {
      "text/html": [
       "\n",
       "        <div id=\"nbWBr5jASR5kmNixkk3pSr\"></div>\n",
       "        <script>netpixi.call('nbWBr5jASR5kmNixkk3pSr', 'G2pH5LgoxWUHCuMcQXu9c4', 'changeGraph', 'eyJpZCI6ICJDcm9hdGlhIiwgInR5cGUiOiAidmVydGV4IiwgInByb3BzIjogeyJjb2xvciI6IDE2NzExNjgwfX0K');</script>\n",
       "    "
      ],
      "text/plain": [
       "<IPython.core.display.HTML object>"
      ]
     },
     "metadata": {},
     "output_type": "display_data"
    },
    {
     "data": {
      "text/html": [
       "\n",
       "        <div id=\"629haqZn9kzBK3SiKEmq5G\"></div>\n",
       "        <script>netpixi.call('629haqZn9kzBK3SiKEmq5G', 'G2pH5LgoxWUHCuMcQXu9c4', 'changeGraph', 'eyJpZCI6ICJDYWJvIFZlcmRlIiwgInR5cGUiOiAidmVydGV4IiwgInByb3BzIjogeyJjb2xvciI6IDY1MjgwfX0K');</script>\n",
       "    "
      ],
      "text/plain": [
       "<IPython.core.display.HTML object>"
      ]
     },
     "metadata": {},
     "output_type": "display_data"
    },
    {
     "data": {
      "text/html": [
       "\n",
       "        <div id=\"KtB3mWPZuHdr8Ysud4CoD4\"></div>\n",
       "        <script>netpixi.call('KtB3mWPZuHdr8Ysud4CoD4', 'G2pH5LgoxWUHCuMcQXu9c4', 'changeGraph', 'eyJpZCI6ICJJcmFuIChJc2xhbWljIFJlcC4gb2YpIiwgInR5cGUiOiAidmVydGV4IiwgInByb3BzIjogeyJjb2xvciI6IDY1MjgwfX0K');</script>\n",
       "    "
      ],
      "text/plain": [
       "<IPython.core.display.HTML object>"
      ]
     },
     "metadata": {},
     "output_type": "display_data"
    },
    {
     "data": {
      "text/html": [
       "\n",
       "        <div id=\"kg9buydm4dSTyQQXUkihsc\"></div>\n",
       "        <script>netpixi.call('kg9buydm4dSTyQQXUkihsc', 'G2pH5LgoxWUHCuMcQXu9c4', 'changeGraph', 'eyJpZCI6ICJBcnViYSIsICJ0eXBlIjogInZlcnRleCIsICJwcm9wcyI6IHsiY29sb3IiOiA2NTI4MH19Cg==');</script>\n",
       "    "
      ],
      "text/plain": [
       "<IPython.core.display.HTML object>"
      ]
     },
     "metadata": {},
     "output_type": "display_data"
    },
    {
     "data": {
      "text/html": [
       "\n",
       "        <div id=\"BAbDYgjLZs7rLLrgSYyWR5\"></div>\n",
       "        <script>netpixi.call('BAbDYgjLZs7rLLrgSYyWR5', 'G2pH5LgoxWUHCuMcQXu9c4', 'changeGraph', 'eyJpZCI6ICJBbnRpZ3VhIGFuZCBCYXJidWRhIiwgInR5cGUiOiAidmVydGV4IiwgInByb3BzIjogeyJjb2xvciI6IDY1MjgwfX0K');</script>\n",
       "    "
      ],
      "text/plain": [
       "<IPython.core.display.HTML object>"
      ]
     },
     "metadata": {},
     "output_type": "display_data"
    },
    {
     "data": {
      "text/html": [
       "\n",
       "        <div id=\"3AwBs6WwqZpJKUzYvzMFLV\"></div>\n",
       "        <script>netpixi.call('3AwBs6WwqZpJKUzYvzMFLV', 'G2pH5LgoxWUHCuMcQXu9c4', 'changeGraph', 'eyJpZCI6ICJNYWxheXNpYSIsICJ0eXBlIjogInZlcnRleCIsICJwcm9wcyI6IHsiY29sb3IiOiAxNjcxMTY4MH19Cg==');</script>\n",
       "    "
      ],
      "text/plain": [
       "<IPython.core.display.HTML object>"
      ]
     },
     "metadata": {},
     "output_type": "display_data"
    },
    {
     "data": {
      "text/html": [
       "\n",
       "        <div id=\"8G6CHDoCPLwUqbdQ3za3po\"></div>\n",
       "        <script>netpixi.call('8G6CHDoCPLwUqbdQ3za3po', 'G2pH5LgoxWUHCuMcQXu9c4', 'changeGraph', 'eyJpZCI6ICJDaGluYSIsICJ0eXBlIjogInZlcnRleCIsICJwcm9wcyI6IHsiY29sb3IiOiAxNjcxMTY4MH19Cg==');</script>\n",
       "    "
      ],
      "text/plain": [
       "<IPython.core.display.HTML object>"
      ]
     },
     "metadata": {},
     "output_type": "display_data"
    },
    {
     "data": {
      "text/html": [
       "\n",
       "        <div id=\"TVjyJ9iBKfXJE3fmokLFMM\"></div>\n",
       "        <script>netpixi.call('TVjyJ9iBKfXJE3fmokLFMM', 'G2pH5LgoxWUHCuMcQXu9c4', 'changeGraph', 'eyJpZCI6ICJTd2F6aWxhbmQiLCAidHlwZSI6ICJ2ZXJ0ZXgiLCAicHJvcHMiOiB7ImNvbG9yIjogNjUyODB9fQo=');</script>\n",
       "    "
      ],
      "text/plain": [
       "<IPython.core.display.HTML object>"
      ]
     },
     "metadata": {},
     "output_type": "display_data"
    },
    {
     "data": {
      "text/html": [
       "\n",
       "        <div id=\"T97ELiTgpQc9q4GDCYMm4J\"></div>\n",
       "        <script>netpixi.call('T97ELiTgpQc9q4GDCYMm4J', 'G2pH5LgoxWUHCuMcQXu9c4', 'changeGraph', 'eyJpZCI6ICJUcmluaWRhZCBhbmQgVG9iYWdvIiwgInR5cGUiOiAidmVydGV4IiwgInByb3BzIjogeyJjb2xvciI6IDE2NzExNjgwfX0K');</script>\n",
       "    "
      ],
      "text/plain": [
       "<IPython.core.display.HTML object>"
      ]
     },
     "metadata": {},
     "output_type": "display_data"
    },
    {
     "data": {
      "text/html": [
       "\n",
       "        <div id=\"SWcSuYKcDWcVTTRL47UL7D\"></div>\n",
       "        <script>netpixi.call('SWcSuYKcDWcVTTRL47UL7D', 'G2pH5LgoxWUHCuMcQXu9c4', 'changeGraph', 'eyJpZCI6ICJEZW5tYXJrIiwgInR5cGUiOiAidmVydGV4IiwgInByb3BzIjogeyJjb2xvciI6IDE2NzExNjgwfX0K');</script>\n",
       "    "
      ],
      "text/plain": [
       "<IPython.core.display.HTML object>"
      ]
     },
     "metadata": {},
     "output_type": "display_data"
    },
    {
     "data": {
      "text/html": [
       "\n",
       "        <div id=\"jRCDx232GEyPM8yLxUz2J4\"></div>\n",
       "        <script>netpixi.call('jRCDx232GEyPM8yLxUz2J4', 'G2pH5LgoxWUHCuMcQXu9c4', 'changeGraph', 'eyJpZCI6ICJMaWJlcmlhIiwgInR5cGUiOiAidmVydGV4IiwgInByb3BzIjogeyJjb2xvciI6IDY1MjgwfX0K');</script>\n",
       "    "
      ],
      "text/plain": [
       "<IPython.core.display.HTML object>"
      ]
     },
     "metadata": {},
     "output_type": "display_data"
    },
    {
     "data": {
      "text/html": [
       "\n",
       "        <div id=\"TFULW3bSjQS9bBCweErTTf\"></div>\n",
       "        <script>netpixi.call('TFULW3bSjQS9bBCweErTTf', 'G2pH5LgoxWUHCuMcQXu9c4', 'changeGraph', 'eyJpZCI6ICJLZW55YSIsICJ0eXBlIjogInZlcnRleCIsICJwcm9wcyI6IHsiY29sb3IiOiAxNjcxMTY4MH19Cg==');</script>\n",
       "    "
      ],
      "text/plain": [
       "<IPython.core.display.HTML object>"
      ]
     },
     "metadata": {},
     "output_type": "display_data"
    },
    {
     "data": {
      "text/html": [
       "\n",
       "        <div id=\"ckexmiXyFFUPncCB6LAzYz\"></div>\n",
       "        <script>netpixi.call('ckexmiXyFFUPncCB6LAzYz', 'G2pH5LgoxWUHCuMcQXu9c4', 'changeGraph', 'eyJpZCI6ICJTYW4gTWFyaW5vIiwgInR5cGUiOiAidmVydGV4IiwgInByb3BzIjogeyJjb2xvciI6IDY1MjgwfX0K');</script>\n",
       "    "
      ],
      "text/plain": [
       "<IPython.core.display.HTML object>"
      ]
     },
     "metadata": {},
     "output_type": "display_data"
    },
    {
     "data": {
      "text/html": [
       "\n",
       "        <div id=\"JygX5ZVaNr9BtTGZUr7Nxb\"></div>\n",
       "        <script>netpixi.call('JygX5ZVaNr9BtTGZUr7Nxb', 'G2pH5LgoxWUHCuMcQXu9c4', 'changeGraph', 'eyJpZCI6ICJFdGhpb3BpYSIsICJ0eXBlIjogInZlcnRleCIsICJwcm9wcyI6IHsiY29sb3IiOiA2NTI4MH19Cg==');</script>\n",
       "    "
      ],
      "text/plain": [
       "<IPython.core.display.HTML object>"
      ]
     },
     "metadata": {},
     "output_type": "display_data"
    },
    {
     "data": {
      "text/html": [
       "\n",
       "        <div id=\"NUVqZ4hEqL9mtQUSsHW6AH\"></div>\n",
       "        <script>netpixi.call('NUVqZ4hEqL9mtQUSsHW6AH', 'G2pH5LgoxWUHCuMcQXu9c4', 'changeGraph', 'eyJpZCI6ICJSZXAuIG9mIE1vbGRvdmEiLCAidHlwZSI6ICJ2ZXJ0ZXgiLCAicHJvcHMiOiB7ImNvbG9yIjogMTY3MTE2ODB9fQo=');</script>\n",
       "    "
      ],
      "text/plain": [
       "<IPython.core.display.HTML object>"
      ]
     },
     "metadata": {},
     "output_type": "display_data"
    },
    {
     "data": {
      "text/html": [
       "\n",
       "        <div id=\"MNodPJ4V87WZPyYfm6cZ5W\"></div>\n",
       "        <script>netpixi.call('MNodPJ4V87WZPyYfm6cZ5W', 'G2pH5LgoxWUHCuMcQXu9c4', 'changeGraph', 'eyJpZCI6ICJMaWJ5YSIsICJ0eXBlIjogInZlcnRleCIsICJwcm9wcyI6IHsiY29sb3IiOiAxNjcxMTY4MH19Cg==');</script>\n",
       "    "
      ],
      "text/plain": [
       "<IPython.core.display.HTML object>"
      ]
     },
     "metadata": {},
     "output_type": "display_data"
    },
    {
     "data": {
      "text/html": [
       "\n",
       "        <div id=\"7RLKK6dzv2ZmZPBA72hzqP\"></div>\n",
       "        <script>netpixi.call('7RLKK6dzv2ZmZPBA72hzqP', 'G2pH5LgoxWUHCuMcQXu9c4', 'changeGraph', 'eyJpZCI6ICJVbml0ZWQgS2luZ2RvbSIsICJ0eXBlIjogInZlcnRleCIsICJwcm9wcyI6IHsiY29sb3IiOiAxNjcxMTY4MH19Cg==');</script>\n",
       "    "
      ],
      "text/plain": [
       "<IPython.core.display.HTML object>"
      ]
     },
     "metadata": {},
     "output_type": "display_data"
    },
    {
     "data": {
      "text/html": [
       "\n",
       "        <div id=\"NTfvbo4CEVLrS7RQ8Aknnc\"></div>\n",
       "        <script>netpixi.call('NTfvbo4CEVLrS7RQ8Aknnc', 'G2pH5LgoxWUHCuMcQXu9c4', 'changeGraph', 'eyJpZCI6ICJFZ3lwdCIsICJ0eXBlIjogInZlcnRleCIsICJwcm9wcyI6IHsiY29sb3IiOiAxNjcxMTY4MH19Cg==');</script>\n",
       "    "
      ],
      "text/plain": [
       "<IPython.core.display.HTML object>"
      ]
     },
     "metadata": {},
     "output_type": "display_data"
    },
    {
     "data": {
      "text/html": [
       "\n",
       "        <div id=\"Gvs7iBiC5UBkNrGQUTmDUb\"></div>\n",
       "        <script>netpixi.call('Gvs7iBiC5UBkNrGQUTmDUb', 'G2pH5LgoxWUHCuMcQXu9c4', 'changeGraph', 'eyJpZCI6ICJXYWxsaXMgYW5kIEZ1dHVuYSBJc2xhbmRzICIsICJ0eXBlIjogInZlcnRleCIsICJwcm9wcyI6IHsiY29sb3IiOiA2NTI4MH19Cg==');</script>\n",
       "    "
      ],
      "text/plain": [
       "<IPython.core.display.HTML object>"
      ]
     },
     "metadata": {},
     "output_type": "display_data"
    },
    {
     "data": {
      "text/html": [
       "\n",
       "        <div id=\"PTnJavV6tzYR8NJk3mpD3E\"></div>\n",
       "        <script>netpixi.call('PTnJavV6tzYR8NJk3mpD3E', 'G2pH5LgoxWUHCuMcQXu9c4', 'changeGraph', 'eyJpZCI6ICJEZW0uIFJlcC4gb2YgdGhlIENvbmdvIiwgInR5cGUiOiAidmVydGV4IiwgInByb3BzIjogeyJjb2xvciI6IDY1MjgwfX0K');</script>\n",
       "    "
      ],
      "text/plain": [
       "<IPython.core.display.HTML object>"
      ]
     },
     "metadata": {},
     "output_type": "display_data"
    },
    {
     "data": {
      "text/html": [
       "\n",
       "        <div id=\"ELGjDRihVp7qdCxUZwAJik\"></div>\n",
       "        <script>netpixi.call('ELGjDRihVp7qdCxUZwAJik', 'G2pH5LgoxWUHCuMcQXu9c4', 'changeGraph', 'eyJpZCI6ICJCZWxpemUiLCAidHlwZSI6ICJ2ZXJ0ZXgiLCAicHJvcHMiOiB7ImNvbG9yIjogNjUyODB9fQo=');</script>\n",
       "    "
      ],
      "text/plain": [
       "<IPython.core.display.HTML object>"
      ]
     },
     "metadata": {},
     "output_type": "display_data"
    },
    {
     "data": {
      "text/html": [
       "\n",
       "        <div id=\"Fh7SRURugeki7vvKoGaNRS\"></div>\n",
       "        <script>netpixi.call('Fh7SRURugeki7vvKoGaNRS', 'G2pH5LgoxWUHCuMcQXu9c4', 'changeGraph', 'eyJpZCI6ICJTYXVkaSBBcmFiaWEiLCAidHlwZSI6ICJ2ZXJ0ZXgiLCAicHJvcHMiOiB7ImNvbG9yIjogNjUyODB9fQo=');</script>\n",
       "    "
      ],
      "text/plain": [
       "<IPython.core.display.HTML object>"
      ]
     },
     "metadata": {},
     "output_type": "display_data"
    },
    {
     "data": {
      "text/html": [
       "\n",
       "        <div id=\"9Wjh3i9vyPSwTxjwnNLULM\"></div>\n",
       "        <script>netpixi.call('9Wjh3i9vyPSwTxjwnNLULM', 'G2pH5LgoxWUHCuMcQXu9c4', 'changeGraph', 'eyJpZCI6ICJNb250c2VycmF0IiwgInR5cGUiOiAidmVydGV4IiwgInByb3BzIjogeyJjb2xvciI6IDY1MjgwfX0K');</script>\n",
       "    "
      ],
      "text/plain": [
       "<IPython.core.display.HTML object>"
      ]
     },
     "metadata": {},
     "output_type": "display_data"
    },
    {
     "data": {
      "text/html": [
       "\n",
       "        <div id=\"J7WCVYLidMKkGA7tedQ4tD\"></div>\n",
       "        <script>netpixi.call('J7WCVYLidMKkGA7tedQ4tD', 'G2pH5LgoxWUHCuMcQXu9c4', 'changeGraph', 'eyJpZCI6ICJUYWppa2lzdGFuIiwgInR5cGUiOiAidmVydGV4IiwgInByb3BzIjogeyJjb2xvciI6IDY1MjgwfX0K');</script>\n",
       "    "
      ],
      "text/plain": [
       "<IPython.core.display.HTML object>"
      ]
     },
     "metadata": {},
     "output_type": "display_data"
    },
    {
     "data": {
      "text/html": [
       "\n",
       "        <div id=\"Pbh49YMuvAjVGdPCZM87bs\"></div>\n",
       "        <script>netpixi.call('Pbh49YMuvAjVGdPCZM87bs', 'G2pH5LgoxWUHCuMcQXu9c4', 'changeGraph', 'eyJpZCI6ICJBbWVyaWNhbiBTYW1vYSIsICJ0eXBlIjogInZlcnRleCIsICJwcm9wcyI6IHsiY29sb3IiOiA2NTI4MH19Cg==');</script>\n",
       "    "
      ],
      "text/plain": [
       "<IPython.core.display.HTML object>"
      ]
     },
     "metadata": {},
     "output_type": "display_data"
    },
    {
     "data": {
      "text/html": [
       "\n",
       "        <div id=\"dLVstcNBDUYbHXeeKdb2ut\"></div>\n",
       "        <script>netpixi.call('dLVstcNBDUYbHXeeKdb2ut', 'G2pH5LgoxWUHCuMcQXu9c4', 'changeGraph', 'eyJpZCI6ICJTaW5nYXBvcmUiLCAidHlwZSI6ICJ2ZXJ0ZXgiLCAicHJvcHMiOiB7ImNvbG9yIjogNjUyODB9fQo=');</script>\n",
       "    "
      ],
      "text/plain": [
       "<IPython.core.display.HTML object>"
      ]
     },
     "metadata": {},
     "output_type": "display_data"
    },
    {
     "data": {
      "text/html": [
       "\n",
       "        <div id=\"Ds8SVJvdpBovrw9zyYtbaE\"></div>\n",
       "        <script>netpixi.call('Ds8SVJvdpBovrw9zyYtbaE', 'G2pH5LgoxWUHCuMcQXu9c4', 'changeGraph', 'eyJpZCI6ICJCb25haXJlIiwgInR5cGUiOiAidmVydGV4IiwgInByb3BzIjogeyJjb2xvciI6IDY1MjgwfX0K');</script>\n",
       "    "
      ],
      "text/plain": [
       "<IPython.core.display.HTML object>"
      ]
     },
     "metadata": {},
     "output_type": "display_data"
    },
    {
     "data": {
      "text/html": [
       "\n",
       "        <div id=\"RPEMHwVQUWo2fo8Xc9twFm\"></div>\n",
       "        <script>netpixi.call('RPEMHwVQUWo2fo8Xc9twFm', 'G2pH5LgoxWUHCuMcQXu9c4', 'changeGraph', 'eyJpZCI6ICJCdWxnYXJpYSIsICJ0eXBlIjogInZlcnRleCIsICJwcm9wcyI6IHsiY29sb3IiOiAxNjcxMTY4MH19Cg==');</script>\n",
       "    "
      ],
      "text/plain": [
       "<IPython.core.display.HTML object>"
      ]
     },
     "metadata": {},
     "output_type": "display_data"
    },
    {
     "data": {
      "text/html": [
       "\n",
       "        <div id=\"Jr3yWZbwoCHnrkYMDrZSeo\"></div>\n",
       "        <script>netpixi.call('Jr3yWZbwoCHnrkYMDrZSeo', 'G2pH5LgoxWUHCuMcQXu9c4', 'changeGraph', 'eyJpZCI6ICJUaGUgZm9ybWVyIFl1Z29zbGF2IFJlcHVibGljIG9mIE1hY2Vkb25pYSIsICJ0eXBlIjogInZlcnRleCIsICJwcm9wcyI6IHsiY29sb3IiOiAxNjcxMTY4MH19Cg==');</script>\n",
       "    "
      ],
      "text/plain": [
       "<IPython.core.display.HTML object>"
      ]
     },
     "metadata": {},
     "output_type": "display_data"
    },
    {
     "data": {
      "text/html": [
       "\n",
       "        <div id=\"7z8MLY6t2F3hqj7aXZpspd\"></div>\n",
       "        <script>netpixi.call('7z8MLY6t2F3hqj7aXZpspd', 'G2pH5LgoxWUHCuMcQXu9c4', 'changeGraph', 'eyJpZCI6ICJBemVyYmFpamFuIiwgInR5cGUiOiAidmVydGV4IiwgInByb3BzIjogeyJjb2xvciI6IDY1MjgwfX0K');</script>\n",
       "    "
      ],
      "text/plain": [
       "<IPython.core.display.HTML object>"
      ]
     },
     "metadata": {},
     "output_type": "display_data"
    },
    {
     "data": {
      "text/html": [
       "\n",
       "        <div id=\"Hm845BDXRqUXpzt8jhYcDK\"></div>\n",
       "        <script>netpixi.call('Hm845BDXRqUXpzt8jhYcDK', 'G2pH5LgoxWUHCuMcQXu9c4', 'changeGraph', 'eyJpZCI6ICJQaGlsaXBwaW5lcyIsICJ0eXBlIjogInZlcnRleCIsICJwcm9wcyI6IHsiY29sb3IiOiAxNjcxMTY4MH19Cg==');</script>\n",
       "    "
      ],
      "text/plain": [
       "<IPython.core.display.HTML object>"
      ]
     },
     "metadata": {},
     "output_type": "display_data"
    },
    {
     "data": {
      "text/html": [
       "\n",
       "        <div id=\"hC3jYMR7Nzya9QEBPNjhfm\"></div>\n",
       "        <script>netpixi.call('hC3jYMR7Nzya9QEBPNjhfm', 'G2pH5LgoxWUHCuMcQXu9c4', 'changeGraph', 'eyJpZCI6ICJLeXJneXpzdGFuIiwgInR5cGUiOiAidmVydGV4IiwgInByb3BzIjogeyJjb2xvciI6IDY1MjgwfX0K');</script>\n",
       "    "
      ],
      "text/plain": [
       "<IPython.core.display.HTML object>"
      ]
     },
     "metadata": {},
     "output_type": "display_data"
    },
    {
     "data": {
      "text/html": [
       "\n",
       "        <div id=\"C6fvVRDHMEpn4KYiMVqABA\"></div>\n",
       "        <script>netpixi.call('C6fvVRDHMEpn4KYiMVqABA', 'G2pH5LgoxWUHCuMcQXu9c4', 'changeGraph', 'eyJpZCI6ICJTd2l0emVybGFuZCIsICJ0eXBlIjogInZlcnRleCIsICJwcm9wcyI6IHsiY29sb3IiOiAxNjcxMTY4MH19Cg==');</script>\n",
       "    "
      ],
      "text/plain": [
       "<IPython.core.display.HTML object>"
      ]
     },
     "metadata": {},
     "output_type": "display_data"
    },
    {
     "data": {
      "text/html": [
       "\n",
       "        <div id=\"ZJqk96mSpyBm5gJz8jNYGp\"></div>\n",
       "        <script>netpixi.call('ZJqk96mSpyBm5gJz8jNYGp', 'G2pH5LgoxWUHCuMcQXu9c4', 'changeGraph', 'eyJpZCI6ICJBbmd1aWxsYSIsICJ0eXBlIjogInZlcnRleCIsICJwcm9wcyI6IHsiY29sb3IiOiA2NTI4MH19Cg==');</script>\n",
       "    "
      ],
      "text/plain": [
       "<IPython.core.display.HTML object>"
      ]
     },
     "metadata": {},
     "output_type": "display_data"
    },
    {
     "data": {
      "text/html": [
       "\n",
       "        <div id=\"7fEQ57DnimSwuQkycdue4c\"></div>\n",
       "        <script>netpixi.call('7fEQ57DnimSwuQkycdue4c', 'G2pH5LgoxWUHCuMcQXu9c4', 'changeGraph', 'eyJpZCI6ICJMZXNvdGhvIiwgInR5cGUiOiAidmVydGV4IiwgInByb3BzIjogeyJjb2xvciI6IDY1MjgwfX0K');</script>\n",
       "    "
      ],
      "text/plain": [
       "<IPython.core.display.HTML object>"
      ]
     },
     "metadata": {},
     "output_type": "display_data"
    },
    {
     "data": {
      "text/html": [
       "\n",
       "        <div id=\"mZno2VWSTT894znk59oF6E\"></div>\n",
       "        <script>netpixi.call('mZno2VWSTT894znk59oF6E', 'G2pH5LgoxWUHCuMcQXu9c4', 'changeGraph', 'eyJpZCI6ICJFc3RvbmlhIiwgInR5cGUiOiAidmVydGV4IiwgInByb3BzIjogeyJjb2xvciI6IDE2NzExNjgwfX0K');</script>\n",
       "    "
      ],
      "text/plain": [
       "<IPython.core.display.HTML object>"
      ]
     },
     "metadata": {},
     "output_type": "display_data"
    },
    {
     "data": {
      "text/html": [
       "\n",
       "        <div id=\"Z2mQR4SWzgWxbUjSoennqb\"></div>\n",
       "        <script>netpixi.call('Z2mQR4SWzgWxbUjSoennqb', 'G2pH5LgoxWUHCuMcQXu9c4', 'changeGraph', 'eyJpZCI6ICJTcmkgTGFua2EiLCAidHlwZSI6ICJ2ZXJ0ZXgiLCAicHJvcHMiOiB7ImNvbG9yIjogNjUyODB9fQo=');</script>\n",
       "    "
      ],
      "text/plain": [
       "<IPython.core.display.HTML object>"
      ]
     },
     "metadata": {},
     "output_type": "display_data"
    },
    {
     "data": {
      "text/html": [
       "\n",
       "        <div id=\"VCJfb9b38crR8YAJ9rUMJx\"></div>\n",
       "        <script>netpixi.call('VCJfb9b38crR8YAJ9rUMJx', 'G2pH5LgoxWUHCuMcQXu9c4', 'changeGraph', 'eyJpZCI6ICJTbG92YWtpYSIsICJ0eXBlIjogInZlcnRleCIsICJwcm9wcyI6IHsiY29sb3IiOiAxNjcxMTY4MH19Cg==');</script>\n",
       "    "
      ],
      "text/plain": [
       "<IPython.core.display.HTML object>"
      ]
     },
     "metadata": {},
     "output_type": "display_data"
    },
    {
     "data": {
      "text/html": [
       "\n",
       "        <div id=\"DVb7soTWdNHwuQ7TyybYKX\"></div>\n",
       "        <script>netpixi.call('DVb7soTWdNHwuQ7TyybYKX', 'G2pH5LgoxWUHCuMcQXu9c4', 'changeGraph', 'eyJpZCI6ICJNb3phbWJpcXVlIiwgInR5cGUiOiAidmVydGV4IiwgInByb3BzIjogeyJjb2xvciI6IDY1MjgwfX0K');</script>\n",
       "    "
      ],
      "text/plain": [
       "<IPython.core.display.HTML object>"
      ]
     },
     "metadata": {},
     "output_type": "display_data"
    },
    {
     "data": {
      "text/html": [
       "\n",
       "        <div id=\"EbeDHcasQyQsQUf9zbGG5W\"></div>\n",
       "        <script>netpixi.call('EbeDHcasQyQsQUf9zbGG5W', 'G2pH5LgoxWUHCuMcQXu9c4', 'changeGraph', 'eyJpZCI6ICJOaWdlcmlhIiwgInR5cGUiOiAidmVydGV4IiwgInByb3BzIjogeyJjb2xvciI6IDY1MjgwfX0K');</script>\n",
       "    "
      ],
      "text/plain": [
       "<IPython.core.display.HTML object>"
      ]
     },
     "metadata": {},
     "output_type": "display_data"
    },
    {
     "data": {
      "text/html": [
       "\n",
       "        <div id=\"KsAeCvmmseLxfDjYNN9oAZ\"></div>\n",
       "        <script>netpixi.call('KsAeCvmmseLxfDjYNN9oAZ', 'G2pH5LgoxWUHCuMcQXu9c4', 'changeGraph', 'eyJpZCI6ICJCZWxhcnVzIiwgInR5cGUiOiAidmVydGV4IiwgInByb3BzIjogeyJjb2xvciI6IDE2NzExNjgwfX0K');</script>\n",
       "    "
      ],
      "text/plain": [
       "<IPython.core.display.HTML object>"
      ]
     },
     "metadata": {},
     "output_type": "display_data"
    },
    {
     "data": {
      "text/html": [
       "\n",
       "        <div id=\"LyTpsz3zn8cnKpdvTcUNku\"></div>\n",
       "        <script>netpixi.call('LyTpsz3zn8cnKpdvTcUNku', 'G2pH5LgoxWUHCuMcQXu9c4', 'changeGraph', 'eyJpZCI6ICJVbml0ZWQgUmVwLiBvZiBUYW56YW5pYSIsICJ0eXBlIjogInZlcnRleCIsICJwcm9wcyI6IHsiY29sb3IiOiA2NTI4MH19Cg==');</script>\n",
       "    "
      ],
      "text/plain": [
       "<IPython.core.display.HTML object>"
      ]
     },
     "metadata": {},
     "output_type": "display_data"
    },
    {
     "data": {
      "text/html": [
       "\n",
       "        <div id=\"Js5BuDb9scneq5qrV625YY\"></div>\n",
       "        <script>netpixi.call('Js5BuDb9scneq5qrV625YY', 'G2pH5LgoxWUHCuMcQXu9c4', 'changeGraph', 'eyJpZCI6ICJCaHV0YW4iLCAidHlwZSI6ICJ2ZXJ0ZXgiLCAicHJvcHMiOiB7ImNvbG9yIjogNjUyODB9fQo=');</script>\n",
       "    "
      ],
      "text/plain": [
       "<IPython.core.display.HTML object>"
      ]
     },
     "metadata": {},
     "output_type": "display_data"
    },
    {
     "data": {
      "text/html": [
       "\n",
       "        <div id=\"76DNirnj3motiq7EydRYQz\"></div>\n",
       "        <script>netpixi.call('76DNirnj3motiq7EydRYQz', 'G2pH5LgoxWUHCuMcQXu9c4', 'changeGraph', 'eyJpZCI6ICJTd2VkZW4iLCAidHlwZSI6ICJ2ZXJ0ZXgiLCAicHJvcHMiOiB7ImNvbG9yIjogMTY3MTE2ODB9fQo=');</script>\n",
       "    "
      ],
      "text/plain": [
       "<IPython.core.display.HTML object>"
      ]
     },
     "metadata": {},
     "output_type": "display_data"
    },
    {
     "data": {
      "text/html": [
       "\n",
       "        <div id=\"nmqDmEZzBCpPGcYNiTVrgu\"></div>\n",
       "        <script>netpixi.call('nmqDmEZzBCpPGcYNiTVrgu', 'G2pH5LgoxWUHCuMcQXu9c4', 'changeGraph', 'eyJpZCI6ICJHaWJyYWx0YXIiLCAidHlwZSI6ICJ2ZXJ0ZXgiLCAicHJvcHMiOiB7ImNvbG9yIjogNjUyODB9fQo=');</script>\n",
       "    "
      ],
      "text/plain": [
       "<IPython.core.display.HTML object>"
      ]
     },
     "metadata": {},
     "output_type": "display_data"
    },
    {
     "data": {
      "text/html": [
       "\n",
       "        <div id=\"JdUTa9i3eRYn3myRp22SAi\"></div>\n",
       "        <script>netpixi.call('JdUTa9i3eRYn3myRp22SAi', 'G2pH5LgoxWUHCuMcQXu9c4', 'changeGraph', 'eyJpZCI6ICJOZXcgQ2FsZWRvbmlhIiwgInR5cGUiOiAidmVydGV4IiwgInByb3BzIjogeyJjb2xvciI6IDY1MjgwfX0K');</script>\n",
       "    "
      ],
      "text/plain": [
       "<IPython.core.display.HTML object>"
      ]
     },
     "metadata": {},
     "output_type": "display_data"
    },
    {
     "data": {
      "text/html": [
       "\n",
       "        <div id=\"RFQKnwsmNYMKncZ9SwJfyd\"></div>\n",
       "        <script>netpixi.call('RFQKnwsmNYMKncZ9SwJfyd', 'G2pH5LgoxWUHCuMcQXu9c4', 'changeGraph', 'eyJpZCI6ICJQZXJ1IiwgInR5cGUiOiAidmVydGV4IiwgInByb3BzIjogeyJjb2xvciI6IDE2NzExNjgwfX0K');</script>\n",
       "    "
      ],
      "text/plain": [
       "<IPython.core.display.HTML object>"
      ]
     },
     "metadata": {},
     "output_type": "display_data"
    },
    {
     "data": {
      "text/html": [
       "\n",
       "        <div id=\"FKibadi5DvpFakV9SbENvA\"></div>\n",
       "        <script>netpixi.call('FKibadi5DvpFakV9SbENvA', 'G2pH5LgoxWUHCuMcQXu9c4', 'changeGraph', 'eyJpZCI6ICJGcmVuY2ggR3VpYW5hIiwgInR5cGUiOiAidmVydGV4IiwgInByb3BzIjogeyJjb2xvciI6IDY1MjgwfX0K');</script>\n",
       "    "
      ],
      "text/plain": [
       "<IPython.core.display.HTML object>"
      ]
     },
     "metadata": {},
     "output_type": "display_data"
    },
    {
     "data": {
      "text/html": [
       "\n",
       "        <div id=\"cr8xA2zTQXYCNqzjNanzzw\"></div>\n",
       "        <script>netpixi.call('cr8xA2zTQXYCNqzjNanzzw', 'G2pH5LgoxWUHCuMcQXu9c4', 'changeGraph', 'eyJpZCI6ICJTdmFsYmFyZCBhbmQgSmFuIE1heWVuIiwgInR5cGUiOiAidmVydGV4IiwgInByb3BzIjogeyJjb2xvciI6IDY1MjgwfX0K');</script>\n",
       "    "
      ],
      "text/plain": [
       "<IPython.core.display.HTML object>"
      ]
     },
     "metadata": {},
     "output_type": "display_data"
    },
    {
     "data": {
      "text/html": [
       "\n",
       "        <div id=\"VQ7d7uSpNKWTWMHyT9DuU4\"></div>\n",
       "        <script>netpixi.call('VQ7d7uSpNKWTWMHyT9DuU4', 'G2pH5LgoxWUHCuMcQXu9c4', 'changeGraph', 'eyJpZCI6ICJJc3JhZWwiLCAidHlwZSI6ICJ2ZXJ0ZXgiLCAicHJvcHMiOiB7ImNvbG9yIjogMTY3MTE2ODB9fQo=');</script>\n",
       "    "
      ],
      "text/plain": [
       "<IPython.core.display.HTML object>"
      ]
     },
     "metadata": {},
     "output_type": "display_data"
    },
    {
     "data": {
      "text/html": [
       "\n",
       "        <div id=\"jf2qVtRTQY3QWrawFBeNG4\"></div>\n",
       "        <script>netpixi.call('jf2qVtRTQY3QWrawFBeNG4', 'G2pH5LgoxWUHCuMcQXu9c4', 'changeGraph', 'eyJpZCI6ICJCdXJ1bmRpIiwgInR5cGUiOiAidmVydGV4IiwgInByb3BzIjogeyJjb2xvciI6IDY1MjgwfX0K');</script>\n",
       "    "
      ],
      "text/plain": [
       "<IPython.core.display.HTML object>"
      ]
     },
     "metadata": {},
     "output_type": "display_data"
    },
    {
     "data": {
      "text/html": [
       "\n",
       "        <div id=\"hSPXyE6r2TTRYZMora7b7H\"></div>\n",
       "        <script>netpixi.call('hSPXyE6r2TTRYZMora7b7H', 'G2pH5LgoxWUHCuMcQXu9c4', 'changeGraph', 'eyJpZCI6ICJTYWludC1QaWVycmUtZXQtTWlxdWVsb24iLCAidHlwZSI6ICJ2ZXJ0ZXgiLCAicHJvcHMiOiB7ImNvbG9yIjogNjUyODB9fQo=');</script>\n",
       "    "
      ],
      "text/plain": [
       "<IPython.core.display.HTML object>"
      ]
     },
     "metadata": {},
     "output_type": "display_data"
    },
    {
     "data": {
      "text/html": [
       "\n",
       "        <div id=\"2FnHxJibYcoH8qk8e62ouG\"></div>\n",
       "        <script>netpixi.call('2FnHxJibYcoH8qk8e62ouG', 'G2pH5LgoxWUHCuMcQXu9c4', 'changeGraph', 'eyJpZCI6ICJMZWJhbm9uIiwgInR5cGUiOiAidmVydGV4IiwgInByb3BzIjogeyJjb2xvciI6IDE2NzExNjgwfX0K');</script>\n",
       "    "
      ],
      "text/plain": [
       "<IPython.core.display.HTML object>"
      ]
     },
     "metadata": {},
     "output_type": "display_data"
    },
    {
     "data": {
      "text/html": [
       "\n",
       "        <div id=\"jhg428fgrraJNpv6VNmoR7\"></div>\n",
       "        <script>netpixi.call('jhg428fgrraJNpv6VNmoR7', 'G2pH5LgoxWUHCuMcQXu9c4', 'changeGraph', 'eyJpZCI6ICJQYWxlc3RpbmlhbiIsICJ0eXBlIjogInZlcnRleCIsICJwcm9wcyI6IHsiY29sb3IiOiA2NTI4MH19Cg==');</script>\n",
       "    "
      ],
      "text/plain": [
       "<IPython.core.display.HTML object>"
      ]
     },
     "metadata": {},
     "output_type": "display_data"
    },
    {
     "data": {
      "text/html": [
       "\n",
       "        <div id=\"ZdftBxEWRBiygRsXnBJtph\"></div>\n",
       "        <script>netpixi.call('ZdftBxEWRBiygRsXnBJtph', 'G2pH5LgoxWUHCuMcQXu9c4', 'changeGraph', 'eyJpZCI6ICJHaGFuYSIsICJ0eXBlIjogInZlcnRleCIsICJwcm9wcyI6IHsiY29sb3IiOiAxNjcxMTY4MH19Cg==');</script>\n",
       "    "
      ],
      "text/plain": [
       "<IPython.core.display.HTML object>"
      ]
     },
     "metadata": {},
     "output_type": "display_data"
    },
    {
     "data": {
      "text/html": [
       "\n",
       "        <div id=\"2RPkSaq3HCWsQsfKnjt8Jt\"></div>\n",
       "        <script>netpixi.call('2RPkSaq3HCWsQsfKnjt8Jt', 'G2pH5LgoxWUHCuMcQXu9c4', 'changeGraph', 'eyJpZCI6ICJTbG92ZW5pYSIsICJ0eXBlIjogInZlcnRleCIsICJwcm9wcyI6IHsiY29sb3IiOiAxNjcxMTY4MH19Cg==');</script>\n",
       "    "
      ],
      "text/plain": [
       "<IPython.core.display.HTML object>"
      ]
     },
     "metadata": {},
     "output_type": "display_data"
    },
    {
     "data": {
      "text/html": [
       "\n",
       "        <div id=\"TasJeLeREDjTJSjR2STjYk\"></div>\n",
       "        <script>netpixi.call('TasJeLeREDjTJSjR2STjYk', 'G2pH5LgoxWUHCuMcQXu9c4', 'changeGraph', 'eyJpZCI6ICJDYW1lcm9vbiIsICJ0eXBlIjogInZlcnRleCIsICJwcm9wcyI6IHsiY29sb3IiOiAxNjcxMTY4MH19Cg==');</script>\n",
       "    "
      ],
      "text/plain": [
       "<IPython.core.display.HTML object>"
      ]
     },
     "metadata": {},
     "output_type": "display_data"
    },
    {
     "data": {
      "text/html": [
       "\n",
       "        <div id=\"nFvKLsmxzujqykhBtZhEFL\"></div>\n",
       "        <script>netpixi.call('nFvKLsmxzujqykhBtZhEFL', 'G2pH5LgoxWUHCuMcQXu9c4', 'changeGraph', 'eyJpZCI6ICJHdWluZWEtQmlzc2F1IiwgInR5cGUiOiAidmVydGV4IiwgInByb3BzIjogeyJjb2xvciI6IDY1MjgwfX0K');</script>\n",
       "    "
      ],
      "text/plain": [
       "<IPython.core.display.HTML object>"
      ]
     },
     "metadata": {},
     "output_type": "display_data"
    },
    {
     "data": {
      "text/html": [
       "\n",
       "        <div id=\"cyB6iAScpcaHCfkM7ajauR\"></div>\n",
       "        <script>netpixi.call('cyB6iAScpcaHCfkM7ajauR', 'G2pH5LgoxWUHCuMcQXu9c4', 'changeGraph', 'eyJpZCI6ICJQYXB1YSBOZXcgR3VpbmVhIiwgInR5cGUiOiAidmVydGV4IiwgInByb3BzIjogeyJjb2xvciI6IDY1MjgwfX0K');</script>\n",
       "    "
      ],
      "text/plain": [
       "<IPython.core.display.HTML object>"
      ]
     },
     "metadata": {},
     "output_type": "display_data"
    },
    {
     "data": {
      "text/html": [
       "\n",
       "        <div id=\"oUgPt6Lfnpom2VqPsi78tB\"></div>\n",
       "        <script>netpixi.call('oUgPt6Lfnpom2VqPsi78tB', 'G2pH5LgoxWUHCuMcQXu9c4', 'changeGraph', 'eyJpZCI6ICJSd2FuZGEiLCAidHlwZSI6ICJ2ZXJ0ZXgiLCAicHJvcHMiOiB7ImNvbG9yIjogNjUyODB9fQo=');</script>\n",
       "    "
      ],
      "text/plain": [
       "<IPython.core.display.HTML object>"
      ]
     },
     "metadata": {},
     "output_type": "display_data"
    },
    {
     "data": {
      "text/html": [
       "\n",
       "        <div id=\"4wtWfFsmJZuVpJXfvbTCpo\"></div>\n",
       "        <script>netpixi.call('4wtWfFsmJZuVpJXfvbTCpo', 'G2pH5LgoxWUHCuMcQXu9c4', 'changeGraph', 'eyJpZCI6ICJPbWFuIiwgInR5cGUiOiAidmVydGV4IiwgInByb3BzIjogeyJjb2xvciI6IDY1MjgwfX0K');</script>\n",
       "    "
      ],
      "text/plain": [
       "<IPython.core.display.HTML object>"
      ]
     },
     "metadata": {},
     "output_type": "display_data"
    },
    {
     "data": {
      "text/html": [
       "\n",
       "        <div id=\"o7ADxuwvPgx6C7g7aktFfE\"></div>\n",
       "        <script>netpixi.call('o7ADxuwvPgx6C7g7aktFfE', 'G2pH5LgoxWUHCuMcQXu9c4', 'changeGraph', 'eyJpZCI6ICJEb21pbmljYW4gUmVwLiIsICJ0eXBlIjogInZlcnRleCIsICJwcm9wcyI6IHsiY29sb3IiOiA2NTI4MH19Cg==');</script>\n",
       "    "
      ],
      "text/plain": [
       "<IPython.core.display.HTML object>"
      ]
     },
     "metadata": {},
     "output_type": "display_data"
    },
    {
     "data": {
      "text/html": [
       "\n",
       "        <div id=\"9Jzp55BhGxxCJfs3rd7WV3\"></div>\n",
       "        <script>netpixi.call('9Jzp55BhGxxCJfs3rd7WV3', 'G2pH5LgoxWUHCuMcQXu9c4', 'changeGraph', 'eyJpZCI6ICJOYW1pYmlhIiwgInR5cGUiOiAidmVydGV4IiwgInByb3BzIjogeyJjb2xvciI6IDE2NzExNjgwfX0K');</script>\n",
       "    "
      ],
      "text/plain": [
       "<IPython.core.display.HTML object>"
      ]
     },
     "metadata": {},
     "output_type": "display_data"
    },
    {
     "data": {
      "text/html": [
       "\n",
       "        <div id=\"RYg8ErkRZpQo3VSscLT7u7\"></div>\n",
       "        <script>netpixi.call('RYg8ErkRZpQo3VSscLT7u7', 'G2pH5LgoxWUHCuMcQXu9c4', 'changeGraph', 'eyJpZCI6ICJVemJla2lzdGFuIiwgInR5cGUiOiAidmVydGV4IiwgInByb3BzIjogeyJjb2xvciI6IDY1MjgwfX0K');</script>\n",
       "    "
      ],
      "text/plain": [
       "<IPython.core.display.HTML object>"
      ]
     },
     "metadata": {},
     "output_type": "display_data"
    },
    {
     "data": {
      "text/html": [
       "\n",
       "        <div id=\"dRxas82H2nJajQxwZT9q45\"></div>\n",
       "        <script>netpixi.call('dRxas82H2nJajQxwZT9q45', 'G2pH5LgoxWUHCuMcQXu9c4', 'changeGraph', 'eyJpZCI6ICJDdWJhIiwgInR5cGUiOiAidmVydGV4IiwgInByb3BzIjogeyJjb2xvciI6IDY1MjgwfX0K');</script>\n",
       "    "
      ],
      "text/plain": [
       "<IPython.core.display.HTML object>"
      ]
     },
     "metadata": {},
     "output_type": "display_data"
    },
    {
     "data": {
      "text/html": [
       "\n",
       "        <div id=\"KozMgbVKnmxyWPCaeQ8hWq\"></div>\n",
       "        <script>netpixi.call('KozMgbVKnmxyWPCaeQ8hWq', 'G2pH5LgoxWUHCuMcQXu9c4', 'changeGraph', 'eyJpZCI6ICJIYWl0aSIsICJ0eXBlIjogInZlcnRleCIsICJwcm9wcyI6IHsiY29sb3IiOiA2NTI4MH19Cg==');</script>\n",
       "    "
      ],
      "text/plain": [
       "<IPython.core.display.HTML object>"
      ]
     },
     "metadata": {},
     "output_type": "display_data"
    },
    {
     "data": {
      "text/html": [
       "\n",
       "        <div id=\"7YfshU8qKCKxcubrrhKZsd\"></div>\n",
       "        <script>netpixi.call('7YfshU8qKCKxcubrrhKZsd', 'G2pH5LgoxWUHCuMcQXu9c4', 'changeGraph', 'eyJpZCI6ICJDZW50cmFsIEFmcmljYW4gUmVwLiIsICJ0eXBlIjogInZlcnRleCIsICJwcm9wcyI6IHsiY29sb3IiOiA2NTI4MH19Cg==');</script>\n",
       "    "
      ],
      "text/plain": [
       "<IPython.core.display.HTML object>"
      ]
     },
     "metadata": {},
     "output_type": "display_data"
    },
    {
     "data": {
      "text/html": [
       "\n",
       "        <div id=\"HAnP264QFWk4f9JSSvFRpr\"></div>\n",
       "        <script>netpixi.call('HAnP264QFWk4f9JSSvFRpr', 'G2pH5LgoxWUHCuMcQXu9c4', 'changeGraph', 'eyJpZCI6ICJVa3JhaW5lIiwgInR5cGUiOiAidmVydGV4IiwgInByb3BzIjogeyJjb2xvciI6IDE2NzExNjgwfX0K');</script>\n",
       "    "
      ],
      "text/plain": [
       "<IPython.core.display.HTML object>"
      ]
     },
     "metadata": {},
     "output_type": "display_data"
    },
    {
     "data": {
      "text/html": [
       "\n",
       "        <div id=\"2LEpCvDiZJAmh3cskHWh7n\"></div>\n",
       "        <script>netpixi.call('2LEpCvDiZJAmh3cskHWh7n', 'G2pH5LgoxWUHCuMcQXu9c4', 'changeGraph', 'eyJpZCI6ICJHYW1iaWEiLCAidHlwZSI6ICJ2ZXJ0ZXgiLCAicHJvcHMiOiB7ImNvbG9yIjogNjUyODB9fQo=');</script>\n",
       "    "
      ],
      "text/plain": [
       "<IPython.core.display.HTML object>"
      ]
     },
     "metadata": {},
     "output_type": "display_data"
    },
    {
     "data": {
      "text/html": [
       "\n",
       "        <div id=\"SyEBSqjUfxf6MopvXkz3TK\"></div>\n",
       "        <script>netpixi.call('SyEBSqjUfxf6MopvXkz3TK', 'G2pH5LgoxWUHCuMcQXu9c4', 'changeGraph', 'eyJpZCI6ICJNb25nb2xpYSIsICJ0eXBlIjogInZlcnRleCIsICJwcm9wcyI6IHsiY29sb3IiOiA2NTI4MH19Cg==');</script>\n",
       "    "
      ],
      "text/plain": [
       "<IPython.core.display.HTML object>"
      ]
     },
     "metadata": {},
     "output_type": "display_data"
    },
    {
     "data": {
      "text/html": [
       "\n",
       "        <div id=\"TRBuqocFuqdg3WNarWmKvD\"></div>\n",
       "        <script>netpixi.call('TRBuqocFuqdg3WNarWmKvD', 'G2pH5LgoxWUHCuMcQXu9c4', 'changeGraph', 'eyJpZCI6ICJCZXJtdWRhIiwgInR5cGUiOiAidmVydGV4IiwgInByb3BzIjogeyJjb2xvciI6IDY1MjgwfX0K');</script>\n",
       "    "
      ],
      "text/plain": [
       "<IPython.core.display.HTML object>"
      ]
     },
     "metadata": {},
     "output_type": "display_data"
    },
    {
     "data": {
      "text/html": [
       "\n",
       "        <div id=\"LVrhorsKmBM3Z7qoSiuRDY\"></div>\n",
       "        <script>netpixi.call('LVrhorsKmBM3Z7qoSiuRDY', 'G2pH5LgoxWUHCuMcQXu9c4', 'changeGraph', 'eyJpZCI6ICJGaW5sYW5kIiwgInR5cGUiOiAidmVydGV4IiwgInByb3BzIjogeyJjb2xvciI6IDE2NzExNjgwfX0K');</script>\n",
       "    "
      ],
      "text/plain": [
       "<IPython.core.display.HTML object>"
      ]
     },
     "metadata": {},
     "output_type": "display_data"
    },
    {
     "data": {
      "text/html": [
       "\n",
       "        <div id=\"UVKEMBNVmWEaMJa29KZmug\"></div>\n",
       "        <script>netpixi.call('UVKEMBNVmWEaMJa29KZmug', 'G2pH5LgoxWUHCuMcQXu9c4', 'changeGraph', 'eyJpZCI6ICJNaWNyb25lc2lhIChGZWRlcmF0ZWQgU3RhdGVzIG9mKSIsICJ0eXBlIjogInZlcnRleCIsICJwcm9wcyI6IHsiY29sb3IiOiA2NTI4MH19Cg==');</script>\n",
       "    "
      ],
      "text/plain": [
       "<IPython.core.display.HTML object>"
      ]
     },
     "metadata": {},
     "output_type": "display_data"
    },
    {
     "data": {
      "text/html": [
       "\n",
       "        <div id=\"XQj7gLY5fBmoTZfWJiM5sE\"></div>\n",
       "        <script>netpixi.call('XQj7gLY5fBmoTZfWJiM5sE', 'G2pH5LgoxWUHCuMcQXu9c4', 'changeGraph', 'eyJpZCI6ICJHdWluZWEiLCAidHlwZSI6ICJ2ZXJ0ZXgiLCAicHJvcHMiOiB7ImNvbG9yIjogNjUyODB9fQo=');</script>\n",
       "    "
      ],
      "text/plain": [
       "<IPython.core.display.HTML object>"
      ]
     },
     "metadata": {},
     "output_type": "display_data"
    },
    {
     "data": {
      "text/html": [
       "\n",
       "        <div id=\"EZnEpKcJmveUJ3UZpWAC4Z\"></div>\n",
       "        <script>netpixi.call('EZnEpKcJmveUJ3UZpWAC4Z', 'G2pH5LgoxWUHCuMcQXu9c4', 'changeGraph', 'eyJpZCI6ICJTb3V0aCBBZnJpY2EiLCAidHlwZSI6ICJ2ZXJ0ZXgiLCAicHJvcHMiOiB7ImNvbG9yIjogMTY3MTE2ODB9fQo=');</script>\n",
       "    "
      ],
      "text/plain": [
       "<IPython.core.display.HTML object>"
      ]
     },
     "metadata": {},
     "output_type": "display_data"
    },
    {
     "data": {
      "text/html": [
       "\n",
       "        <div id=\"BBV2kVpytp878YaaLQyPCi\"></div>\n",
       "        <script>netpixi.call('BBV2kVpytp878YaaLQyPCi', 'G2pH5LgoxWUHCuMcQXu9c4', 'changeGraph', 'eyJpZCI6ICJQb3J0dWdhbCIsICJ0eXBlIjogInZlcnRleCIsICJwcm9wcyI6IHsiY29sb3IiOiAxNjcxMTY4MH19Cg==');</script>\n",
       "    "
      ],
      "text/plain": [
       "<IPython.core.display.HTML object>"
      ]
     },
     "metadata": {},
     "output_type": "display_data"
    },
    {
     "data": {
      "text/html": [
       "\n",
       "        <div id=\"92PfYfUh8yBhRWDVrcbaU5\"></div>\n",
       "        <script>netpixi.call('92PfYfUh8yBhRWDVrcbaU5', 'G2pH5LgoxWUHCuMcQXu9c4', 'changeGraph', 'eyJpZCI6ICJJdGFseSIsICJ0eXBlIjogInZlcnRleCIsICJwcm9wcyI6IHsiY29sb3IiOiAxNjcxMTY4MH19Cg==');</script>\n",
       "    "
      ],
      "text/plain": [
       "<IPython.core.display.HTML object>"
      ]
     },
     "metadata": {},
     "output_type": "display_data"
    },
    {
     "data": {
      "text/html": [
       "\n",
       "        <div id=\"YzRPfycoCDkTRmexRSndVo\"></div>\n",
       "        <script>netpixi.call('YzRPfycoCDkTRmexRSndVo', 'G2pH5LgoxWUHCuMcQXu9c4', 'changeGraph', 'eyJpZCI6ICJDaGluYSwgTWFjYW8gU0FSIiwgInR5cGUiOiAidmVydGV4IiwgInByb3BzIjogeyJjb2xvciI6IDY1MjgwfX0K');</script>\n",
       "    "
      ],
      "text/plain": [
       "<IPython.core.display.HTML object>"
      ]
     },
     "metadata": {},
     "output_type": "display_data"
    },
    {
     "data": {
      "text/html": [
       "\n",
       "        <div id=\"aUjEanac3fkqMknrRm9Bqe\"></div>\n",
       "        <script>netpixi.call('aUjEanac3fkqMknrRm9Bqe', 'G2pH5LgoxWUHCuMcQXu9c4', 'changeGraph', 'eyJpZCI6ICJDb21vcm9zIiwgInR5cGUiOiAidmVydGV4IiwgInByb3BzIjogeyJjb2xvciI6IDY1MjgwfX0K');</script>\n",
       "    "
      ],
      "text/plain": [
       "<IPython.core.display.HTML object>"
      ]
     },
     "metadata": {},
     "output_type": "display_data"
    },
    {
     "data": {
      "text/html": [
       "\n",
       "        <div id=\"gNniz3d8ATnqiMZxmfLzbB\"></div>\n",
       "        <script>netpixi.call('gNniz3d8ATnqiMZxmfLzbB', 'G2pH5LgoxWUHCuMcQXu9c4', 'changeGraph', 'eyJpZCI6ICJQYWtpc3RhbiIsICJ0eXBlIjogInZlcnRleCIsICJwcm9wcyI6IHsiY29sb3IiOiAxNjcxMTY4MH19Cg==');</script>\n",
       "    "
      ],
      "text/plain": [
       "<IPython.core.display.HTML object>"
      ]
     },
     "metadata": {},
     "output_type": "display_data"
    },
    {
     "data": {
      "text/html": [
       "\n",
       "        <div id=\"9cDTEQZL9Z7Y9SYJzsLiE3\"></div>\n",
       "        <script>netpixi.call('9cDTEQZL9Z7Y9SYJzsLiE3', 'G2pH5LgoxWUHCuMcQXu9c4', 'changeGraph', 'eyJpZCI6ICJEamlib3V0aSIsICJ0eXBlIjogInZlcnRleCIsICJwcm9wcyI6IHsiY29sb3IiOiA2NTI4MH19Cg==');</script>\n",
       "    "
      ],
      "text/plain": [
       "<IPython.core.display.HTML object>"
      ]
     },
     "metadata": {},
     "output_type": "display_data"
    },
    {
     "data": {
      "text/html": [
       "\n",
       "        <div id=\"fcgXyRwBttzdX8z9boio27\"></div>\n",
       "        <script>netpixi.call('fcgXyRwBttzdX8z9boio27', 'G2pH5LgoxWUHCuMcQXu9c4', 'changeGraph', 'eyJpZCI6ICJCYWhyYWluIiwgInR5cGUiOiAidmVydGV4IiwgInByb3BzIjogeyJjb2xvciI6IDY1MjgwfX0K');</script>\n",
       "    "
      ],
      "text/plain": [
       "<IPython.core.display.HTML object>"
      ]
     },
     "metadata": {},
     "output_type": "display_data"
    },
    {
     "data": {
      "text/html": [
       "\n",
       "        <div id=\"7bxKPABw5xG8zBPvwDevVM\"></div>\n",
       "        <script>netpixi.call('7bxKPABw5xG8zBPvwDevVM', 'G2pH5LgoxWUHCuMcQXu9c4', 'changeGraph', 'eyJpZCI6ICJKYXBhbiIsICJ0eXBlIjogInZlcnRleCIsICJwcm9wcyI6IHsiY29sb3IiOiAxNjcxMTY4MH19Cg==');</script>\n",
       "    "
      ],
      "text/plain": [
       "<IPython.core.display.HTML object>"
      ]
     },
     "metadata": {},
     "output_type": "display_data"
    },
    {
     "data": {
      "text/html": [
       "\n",
       "        <div id=\"NaiaJncNMQr4vVPs34NgyP\"></div>\n",
       "        <script>netpixi.call('NaiaJncNMQr4vVPs34NgyP', 'G2pH5LgoxWUHCuMcQXu9c4', 'changeGraph', 'eyJpZCI6ICJDYXltYW4gSXNsYW5kcyIsICJ0eXBlIjogInZlcnRleCIsICJwcm9wcyI6IHsiY29sb3IiOiA2NTI4MH19Cg==');</script>\n",
       "    "
      ],
      "text/plain": [
       "<IPython.core.display.HTML object>"
      ]
     },
     "metadata": {},
     "output_type": "display_data"
    },
    {
     "data": {
      "text/html": [
       "\n",
       "        <div id=\"5arHzMVQ5UqkaSnrjUfXS4\"></div>\n",
       "        <script>netpixi.call('5arHzMVQ5UqkaSnrjUfXS4', 'G2pH5LgoxWUHCuMcQXu9c4', 'changeGraph', 'eyJpZCI6ICJZZW1lbiIsICJ0eXBlIjogInZlcnRleCIsICJwcm9wcyI6IHsiY29sb3IiOiAxNjcxMTY4MH19Cg==');</script>\n",
       "    "
      ],
      "text/plain": [
       "<IPython.core.display.HTML object>"
      ]
     },
     "metadata": {},
     "output_type": "display_data"
    },
    {
     "data": {
      "text/html": [
       "\n",
       "        <div id=\"PCm4sE6q4SNaGJzAE74L7r\"></div>\n",
       "        <script>netpixi.call('PCm4sE6q4SNaGJzAE74L7r', 'G2pH5LgoxWUHCuMcQXu9c4', 'changeGraph', 'eyJpZCI6ICJDaGluYSwgSG9uZyBLb25nIFNBUiIsICJ0eXBlIjogInZlcnRleCIsICJwcm9wcyI6IHsiY29sb3IiOiAxNjcxMTY4MH19Cg==');</script>\n",
       "    "
      ],
      "text/plain": [
       "<IPython.core.display.HTML object>"
      ]
     },
     "metadata": {},
     "output_type": "display_data"
    },
    {
     "data": {
      "text/html": [
       "\n",
       "        <div id=\"DLifhJE4tg6Mr9PnFtNM7Y\"></div>\n",
       "        <script>netpixi.call('DLifhJE4tg6Mr9PnFtNM7Y', 'G2pH5LgoxWUHCuMcQXu9c4', 'changeGraph', 'eyJpZCI6ICJTcGFpbiIsICJ0eXBlIjogInZlcnRleCIsICJwcm9wcyI6IHsiY29sb3IiOiAxNjcxMTY4MH19Cg==');</script>\n",
       "    "
      ],
      "text/plain": [
       "<IPython.core.display.HTML object>"
      ]
     },
     "metadata": {},
     "output_type": "display_data"
    },
    {
     "data": {
      "text/html": [
       "\n",
       "        <div id=\"CK3UQKLV88eGv6Kz4VUXjs\"></div>\n",
       "        <script>netpixi.call('CK3UQKLV88eGv6Kz4VUXjs', 'G2pH5LgoxWUHCuMcQXu9c4', 'changeGraph', 'eyJpZCI6ICJNYXVyaXRhbmlhIiwgInR5cGUiOiAidmVydGV4IiwgInByb3BzIjogeyJjb2xvciI6IDE2NzExNjgwfX0K');</script>\n",
       "    "
      ],
      "text/plain": [
       "<IPython.core.display.HTML object>"
      ]
     },
     "metadata": {},
     "output_type": "display_data"
    },
    {
     "data": {
      "text/html": [
       "\n",
       "        <div id=\"maLMXybYKaU5xEiKzXNUXk\"></div>\n",
       "        <script>netpixi.call('maLMXybYKaU5xEiKzXNUXk', 'G2pH5LgoxWUHCuMcQXu9c4', 'changeGraph', 'eyJpZCI6ICJDb2xvbWJpYSIsICJ0eXBlIjogInZlcnRleCIsICJwcm9wcyI6IHsiY29sb3IiOiA2NTI4MH19Cg==');</script>\n",
       "    "
      ],
      "text/plain": [
       "<IPython.core.display.HTML object>"
      ]
     },
     "metadata": {},
     "output_type": "display_data"
    },
    {
     "data": {
      "text/html": [
       "\n",
       "        <div id=\"oJ95Hdmy4MccdxoaGxkStL\"></div>\n",
       "        <script>netpixi.call('oJ95Hdmy4MccdxoaGxkStL', 'G2pH5LgoxWUHCuMcQXu9c4', 'changeGraph', 'eyJpZCI6ICJUaW1vci1MZXN0ZSIsICJ0eXBlIjogInZlcnRleCIsICJwcm9wcyI6IHsiY29sb3IiOiA2NTI4MH19Cg==');</script>\n",
       "    "
      ],
      "text/plain": [
       "<IPython.core.display.HTML object>"
      ]
     },
     "metadata": {},
     "output_type": "display_data"
    },
    {
     "data": {
      "text/html": [
       "\n",
       "        <div id=\"fkbYCVZETKqiCjDCyGNDXk\"></div>\n",
       "        <script>netpixi.call('fkbYCVZETKqiCjDCyGNDXk', 'G2pH5LgoxWUHCuMcQXu9c4', 'changeGraph', 'eyJpZCI6ICJGcmFuY2UiLCAidHlwZSI6ICJ2ZXJ0ZXgiLCAicHJvcHMiOiB7ImNvbG9yIjogMTY3MTE2ODB9fQo=');</script>\n",
       "    "
      ],
      "text/plain": [
       "<IPython.core.display.HTML object>"
      ]
     },
     "metadata": {},
     "output_type": "display_data"
    },
    {
     "data": {
      "text/html": [
       "\n",
       "        <div id=\"BE6b2zr2zgwXLMBSzVr7gU\"></div>\n",
       "        <script>netpixi.call('BE6b2zr2zgwXLMBSzVr7gU', 'G2pH5LgoxWUHCuMcQXu9c4', 'changeGraph', 'eyJpZCI6ICJJcmFxIiwgInR5cGUiOiAidmVydGV4IiwgInByb3BzIjogeyJjb2xvciI6IDY1MjgwfX0K');</script>\n",
       "    "
      ],
      "text/plain": [
       "<IPython.core.display.HTML object>"
      ]
     },
     "metadata": {},
     "output_type": "display_data"
    },
    {
     "data": {
      "text/html": [
       "\n",
       "        <div id=\"nr9TnxCyJyF7W5GyP63eG8\"></div>\n",
       "        <script>netpixi.call('nr9TnxCyJyF7W5GyP63eG8', 'G2pH5LgoxWUHCuMcQXu9c4', 'changeGraph', 'eyJpZCI6ICJCYW5nbGFkZXNoIiwgInR5cGUiOiAidmVydGV4IiwgInByb3BzIjogeyJjb2xvciI6IDY1MjgwfX0K');</script>\n",
       "    "
      ],
      "text/plain": [
       "<IPython.core.display.HTML object>"
      ]
     },
     "metadata": {},
     "output_type": "display_data"
    },
    {
     "data": {
      "text/html": [
       "\n",
       "        <div id=\"CB4ZpL9e7rEK4WVHFCRmGd\"></div>\n",
       "        <script>netpixi.call('CB4ZpL9e7rEK4WVHFCRmGd', 'G2pH5LgoxWUHCuMcQXu9c4', 'changeGraph', 'eyJpZCI6ICJQYXJhZ3VheSIsICJ0eXBlIjogInZlcnRleCIsICJwcm9wcyI6IHsiY29sb3IiOiA2NTI4MH19Cg==');</script>\n",
       "    "
      ],
      "text/plain": [
       "<IPython.core.display.HTML object>"
      ]
     },
     "metadata": {},
     "output_type": "display_data"
    },
    {
     "data": {
      "text/html": [
       "\n",
       "        <div id=\"fz7RHKoCqHS7h2nFrs3Xa2\"></div>\n",
       "        <script>netpixi.call('fz7RHKoCqHS7h2nFrs3Xa2', 'G2pH5LgoxWUHCuMcQXu9c4', 'changeGraph', 'eyJpZCI6ICJJY2VsYW5kIiwgInR5cGUiOiAidmVydGV4IiwgInByb3BzIjogeyJjb2xvciI6IDE2NzExNjgwfX0K');</script>\n",
       "    "
      ],
      "text/plain": [
       "<IPython.core.display.HTML object>"
      ]
     },
     "metadata": {},
     "output_type": "display_data"
    },
    {
     "data": {
      "text/html": [
       "\n",
       "        <div id=\"QhPaCsTgcDtrZakwveLZdF\"></div>\n",
       "        <script>netpixi.call('QhPaCsTgcDtrZakwveLZdF', 'G2pH5LgoxWUHCuMcQXu9c4', 'changeGraph', 'eyJpZCI6ICJUb25nYSIsICJ0eXBlIjogInZlcnRleCIsICJwcm9wcyI6IHsiY29sb3IiOiA2NTI4MH19Cg==');</script>\n",
       "    "
      ],
      "text/plain": [
       "<IPython.core.display.HTML object>"
      ]
     },
     "metadata": {},
     "output_type": "display_data"
    },
    {
     "data": {
      "text/html": [
       "\n",
       "        <div id=\"D7sSFZ74icBLiSRAoegJmo\"></div>\n",
       "        <script>netpixi.call('D7sSFZ74icBLiSRAoegJmo', 'G2pH5LgoxWUHCuMcQXu9c4', 'changeGraph', 'eyJpZCI6ICJCcml0aXNoIFZpcmdpbiBJc2xhbmRzIiwgInR5cGUiOiAidmVydGV4IiwgInByb3BzIjogeyJjb2xvciI6IDY1MjgwfX0K');</script>\n",
       "    "
      ],
      "text/plain": [
       "<IPython.core.display.HTML object>"
      ]
     },
     "metadata": {},
     "output_type": "display_data"
    },
    {
     "data": {
      "text/html": [
       "\n",
       "        <div id=\"j7a9rxsPK5MEo9kWr4Y2ff\"></div>\n",
       "        <script>netpixi.call('j7a9rxsPK5MEo9kWr4Y2ff', 'G2pH5LgoxWUHCuMcQXu9c4', 'changeGraph', 'eyJpZCI6ICJMaXRodWFuaWEiLCAidHlwZSI6ICJ2ZXJ0ZXgiLCAicHJvcHMiOiB7ImNvbG9yIjogMTY3MTE2ODB9fQo=');</script>\n",
       "    "
      ],
      "text/plain": [
       "<IPython.core.display.HTML object>"
      ]
     },
     "metadata": {},
     "output_type": "display_data"
    },
    {
     "data": {
      "text/html": [
       "\n",
       "        <div id=\"MoWBuKJcsLB4idfrrhqkGT\"></div>\n",
       "        <script>netpixi.call('MoWBuKJcsLB4idfrrhqkGT', 'G2pH5LgoxWUHCuMcQXu9c4', 'changeGraph', 'eyJpZCI6ICJCZW5pbiIsICJ0eXBlIjogInZlcnRleCIsICJwcm9wcyI6IHsiY29sb3IiOiAxNjcxMTY4MH19Cg==');</script>\n",
       "    "
      ],
      "text/plain": [
       "<IPython.core.display.HTML object>"
      ]
     },
     "metadata": {},
     "output_type": "display_data"
    },
    {
     "data": {
      "text/html": [
       "\n",
       "        <div id=\"3RE9mtEFt5gYS6fNhGnuPf\"></div>\n",
       "        <script>netpixi.call('3RE9mtEFt5gYS6fNhGnuPf', 'G2pH5LgoxWUHCuMcQXu9c4', 'changeGraph', 'eyJpZCI6ICJFcXVhdG9yaWFsIEd1aW5lYSIsICJ0eXBlIjogInZlcnRleCIsICJwcm9wcyI6IHsiY29sb3IiOiA2NTI4MH19Cg==');</script>\n",
       "    "
      ],
      "text/plain": [
       "<IPython.core.display.HTML object>"
      ]
     },
     "metadata": {},
     "output_type": "display_data"
    },
    {
     "data": {
      "text/html": [
       "\n",
       "        <div id=\"3mqJyqrKogScc4EyQAs2Z5\"></div>\n",
       "        <script>netpixi.call('3mqJyqrKogScc4EyQAs2Z5', 'G2pH5LgoxWUHCuMcQXu9c4', 'changeGraph', 'eyJpZCI6ICJIdW5nYXJ5IiwgInR5cGUiOiAidmVydGV4IiwgInByb3BzIjogeyJjb2xvciI6IDE2NzExNjgwfX0K');</script>\n",
       "    "
      ],
      "text/plain": [
       "<IPython.core.display.HTML object>"
      ]
     },
     "metadata": {},
     "output_type": "display_data"
    },
    {
     "data": {
      "text/html": [
       "\n",
       "        <div id=\"gPXfPCtQdWiXRvD95ysMWp\"></div>\n",
       "        <script>netpixi.call('gPXfPCtQdWiXRvD95ysMWp', 'G2pH5LgoxWUHCuMcQXu9c4', 'changeGraph', 'eyJpZCI6ICJIb25kdXJhcyIsICJ0eXBlIjogInZlcnRleCIsICJwcm9wcyI6IHsiY29sb3IiOiA2NTI4MH19Cg==');</script>\n",
       "    "
      ],
      "text/plain": [
       "<IPython.core.display.HTML object>"
      ]
     },
     "metadata": {},
     "output_type": "display_data"
    },
    {
     "data": {
      "text/html": [
       "\n",
       "        <div id=\"LyLEzh9C3BuaEXJXVJbm9d\"></div>\n",
       "        <script>netpixi.call('LyLEzh9C3BuaEXJXVJbm9d', 'G2pH5LgoxWUHCuMcQXu9c4', 'changeGraph', 'eyJpZCI6ICJBbmRvcnJhIiwgInR5cGUiOiAidmVydGV4IiwgInByb3BzIjogeyJjb2xvciI6IDY1MjgwfX0K');</script>\n",
       "    "
      ],
      "text/plain": [
       "<IPython.core.display.HTML object>"
      ]
     },
     "metadata": {},
     "output_type": "display_data"
    },
    {
     "data": {
      "text/html": [
       "\n",
       "        <div id=\"fq7So2BQzsuFLDpV9iegyH\"></div>\n",
       "        <script>netpixi.call('fq7So2BQzsuFLDpV9iegyH', 'G2pH5LgoxWUHCuMcQXu9c4', 'changeGraph', 'eyJpZCI6ICJFcml0cmVhIiwgInR5cGUiOiAidmVydGV4IiwgInByb3BzIjogeyJjb2xvciI6IDY1MjgwfX0K');</script>\n",
       "    "
      ],
      "text/plain": [
       "<IPython.core.display.HTML object>"
      ]
     },
     "metadata": {},
     "output_type": "display_data"
    },
    {
     "data": {
      "text/html": [
       "\n",
       "        <div id=\"LSeozyd2rBB32d6CXnWdSM\"></div>\n",
       "        <script>netpixi.call('LSeozyd2rBB32d6CXnWdSM', 'G2pH5LgoxWUHCuMcQXu9c4', 'changeGraph', 'eyJpZCI6ICJDYW1ib2RpYSIsICJ0eXBlIjogInZlcnRleCIsICJwcm9wcyI6IHsiY29sb3IiOiA2NTI4MH19Cg==');</script>\n",
       "    "
      ],
      "text/plain": [
       "<IPython.core.display.HTML object>"
      ]
     },
     "metadata": {},
     "output_type": "display_data"
    },
    {
     "data": {
      "text/html": [
       "\n",
       "        <div id=\"EE3D8rbzubJJ8tiuASTNzx\"></div>\n",
       "        <script>netpixi.call('EE3D8rbzubJJ8tiuASTNzx', 'G2pH5LgoxWUHCuMcQXu9c4', 'changeGraph', 'eyJpZCI6ICJFY3VhZG9yIiwgInR5cGUiOiAidmVydGV4IiwgInByb3BzIjogeyJjb2xvciI6IDE2NzExNjgwfX0K');</script>\n",
       "    "
      ],
      "text/plain": [
       "<IPython.core.display.HTML object>"
      ]
     },
     "metadata": {},
     "output_type": "display_data"
    },
    {
     "data": {
      "text/html": [
       "\n",
       "        <div id=\"gdyUs4UF9opvtLYcVSRWTG\"></div>\n",
       "        <script>netpixi.call('gdyUs4UF9opvtLYcVSRWTG', 'G2pH5LgoxWUHCuMcQXu9c4', 'changeGraph', 'eyJpZCI6ICJOZXcgWmVhbGFuZCIsICJ0eXBlIjogInZlcnRleCIsICJwcm9wcyI6IHsiY29sb3IiOiAxNjcxMTY4MH19Cg==');</script>\n",
       "    "
      ],
      "text/plain": [
       "<IPython.core.display.HTML object>"
      ]
     },
     "metadata": {},
     "output_type": "display_data"
    },
    {
     "data": {
      "text/html": [
       "\n",
       "        <div id=\"fqW32depeqe8uMnCtDkoXF\"></div>\n",
       "        <script>netpixi.call('fqW32depeqe8uMnCtDkoXF', 'G2pH5LgoxWUHCuMcQXu9c4', 'changeGraph', 'eyJpZCI6ICJOZXRoZXJsYW5kcyIsICJ0eXBlIjogInZlcnRleCIsICJwcm9wcyI6IHsiY29sb3IiOiAxNjcxMTY4MH19Cg==');</script>\n",
       "    "
      ],
      "text/plain": [
       "<IPython.core.display.HTML object>"
      ]
     },
     "metadata": {},
     "output_type": "display_data"
    },
    {
     "data": {
      "text/html": [
       "\n",
       "        <div id=\"7z3mfVLR4YQNSPgAjTkgFs\"></div>\n",
       "        <script>netpixi.call('7z3mfVLR4YQNSPgAjTkgFs', 'G2pH5LgoxWUHCuMcQXu9c4', 'changeGraph', 'eyJpZCI6ICJLdXdhaXQiLCAidHlwZSI6ICJ2ZXJ0ZXgiLCAicHJvcHMiOiB7ImNvbG9yIjogNjUyODB9fQo=');</script>\n",
       "    "
      ],
      "text/plain": [
       "<IPython.core.display.HTML object>"
      ]
     },
     "metadata": {},
     "output_type": "display_data"
    },
    {
     "data": {
      "text/html": [
       "\n",
       "        <div id=\"kZxaciUNj27kTVwKupwzK7\"></div>\n",
       "        <script>netpixi.call('kZxaciUNj27kTVwKupwzK7', 'G2pH5LgoxWUHCuMcQXu9c4', 'changeGraph', 'eyJpZCI6ICJCb3Rzd2FuYSIsICJ0eXBlIjogInZlcnRleCIsICJwcm9wcyI6IHsiY29sb3IiOiA2NTI4MH19Cg==');</script>\n",
       "    "
      ],
      "text/plain": [
       "<IPython.core.display.HTML object>"
      ]
     },
     "metadata": {},
     "output_type": "display_data"
    },
    {
     "data": {
      "text/html": [
       "\n",
       "        <div id=\"UDGxdBk5oiPqCpZKXsvJyz\"></div>\n",
       "        <script>netpixi.call('UDGxdBk5oiPqCpZKXsvJyz', 'G2pH5LgoxWUHCuMcQXu9c4', 'changeGraph', 'eyJpZCI6ICJVbml0ZWQgQXJhYiBFbWlyYXRlcyIsICJ0eXBlIjogInZlcnRleCIsICJwcm9wcyI6IHsiY29sb3IiOiA2NTI4MH19Cg==');</script>\n",
       "    "
      ],
      "text/plain": [
       "<IPython.core.display.HTML object>"
      ]
     },
     "metadata": {},
     "output_type": "display_data"
    },
    {
     "data": {
      "text/html": [
       "\n",
       "        <div id=\"AKMtUEpYyhyGk2yvBzhkQ7\"></div>\n",
       "        <script>netpixi.call('AKMtUEpYyhyGk2yvBzhkQ7', 'G2pH5LgoxWUHCuMcQXu9c4', 'changeGraph', 'eyJpZCI6ICJNYWxpIiwgInR5cGUiOiAidmVydGV4IiwgInByb3BzIjogeyJjb2xvciI6IDY1MjgwfX0K');</script>\n",
       "    "
      ],
      "text/plain": [
       "<IPython.core.display.HTML object>"
      ]
     },
     "metadata": {},
     "output_type": "display_data"
    },
    {
     "data": {
      "text/html": [
       "\n",
       "        <div id=\"dQrRBTdGyrKDXZ9w5bXWF2\"></div>\n",
       "        <script>netpixi.call('dQrRBTdGyrKDXZ9w5bXWF2', 'G2pH5LgoxWUHCuMcQXu9c4', 'changeGraph', 'eyJpZCI6ICJNYXJ0aW5pcXVlIiwgInR5cGUiOiAidmVydGV4IiwgInByb3BzIjogeyJjb2xvciI6IDY1MjgwfX0K');</script>\n",
       "    "
      ],
      "text/plain": [
       "<IPython.core.display.HTML object>"
      ]
     },
     "metadata": {},
     "output_type": "display_data"
    },
    {
     "data": {
      "text/html": [
       "\n",
       "        <div id=\"bJLtFM7z5cpuKu3DSQtBmt\"></div>\n",
       "        <script>netpixi.call('bJLtFM7z5cpuKu3DSQtBmt', 'G2pH5LgoxWUHCuMcQXu9c4', 'changeGraph', 'eyJpZCI6ICJTYW1vYSIsICJ0eXBlIjogInZlcnRleCIsICJwcm9wcyI6IHsiY29sb3IiOiA2NTI4MH19Cg==');</script>\n",
       "    "
      ],
      "text/plain": [
       "<IPython.core.display.HTML object>"
      ]
     },
     "metadata": {},
     "output_type": "display_data"
    },
    {
     "data": {
      "text/html": [
       "\n",
       "        <div id=\"eXgJcWkKGiPuyHDLjHHETK\"></div>\n",
       "        <script>netpixi.call('eXgJcWkKGiPuyHDLjHHETK', 'G2pH5LgoxWUHCuMcQXu9c4', 'changeGraph', 'eyJpZCI6ICJGaWppIiwgInR5cGUiOiAidmVydGV4IiwgInByb3BzIjogeyJjb2xvciI6IDY1MjgwfX0K');</script>\n",
       "    "
      ],
      "text/plain": [
       "<IPython.core.display.HTML object>"
      ]
     },
     "metadata": {},
     "output_type": "display_data"
    },
    {
     "data": {
      "text/html": [
       "\n",
       "        <div id=\"k5pVmiN5L2sMYcDanoiASx\"></div>\n",
       "        <script>netpixi.call('k5pVmiN5L2sMYcDanoiASx', 'G2pH5LgoxWUHCuMcQXu9c4', 'changeGraph', 'eyJpZCI6ICJMYW8gUGVvcGxlJ3MgRGVtLiBSZXAuIiwgInR5cGUiOiAidmVydGV4IiwgInByb3BzIjogeyJjb2xvciI6IDY1MjgwfX0K');</script>\n",
       "    "
      ],
      "text/plain": [
       "<IPython.core.display.HTML object>"
      ]
     },
     "metadata": {},
     "output_type": "display_data"
    },
    {
     "data": {
      "text/html": [
       "\n",
       "        <div id=\"k2pqnjy8o4ArMLNFGvschg\"></div>\n",
       "        <script>netpixi.call('k2pqnjy8o4ArMLNFGvschg', 'G2pH5LgoxWUHCuMcQXu9c4', 'changeGraph', 'eyJpZCI6ICJNYWRhZ2FzY2FyIiwgInR5cGUiOiAidmVydGV4IiwgInByb3BzIjogeyJjb2xvciI6IDY1MjgwfX0K');</script>\n",
       "    "
      ],
      "text/plain": [
       "<IPython.core.display.HTML object>"
      ]
     },
     "metadata": {},
     "output_type": "display_data"
    },
    {
     "data": {
      "text/html": [
       "\n",
       "        <div id=\"hQLwQb34t8noCAmmuVZUT7\"></div>\n",
       "        <script>netpixi.call('hQLwQb34t8noCAmmuVZUT7', 'G2pH5LgoxWUHCuMcQXu9c4', 'changeGraph', 'eyJpZCI6ICJCcmF6aWwiLCAidHlwZSI6ICJ2ZXJ0ZXgiLCAicHJvcHMiOiB7ImNvbG9yIjogMTY3MTE2ODB9fQo=');</script>\n",
       "    "
      ],
      "text/plain": [
       "<IPython.core.display.HTML object>"
      ]
     },
     "metadata": {},
     "output_type": "display_data"
    },
    {
     "data": {
      "text/html": [
       "\n",
       "        <div id=\"aAmAMUEXpvkfcqwtZwiu3K\"></div>\n",
       "        <script>netpixi.call('aAmAMUEXpvkfcqwtZwiu3K', 'G2pH5LgoxWUHCuMcQXu9c4', 'changeGraph', 'eyJpZCI6ICJTdGF0ZWxlc3MiLCAidHlwZSI6ICJ2ZXJ0ZXgiLCAicHJvcHMiOiB7ImNvbG9yIjogNjUyODB9fQo=');</script>\n",
       "    "
      ],
      "text/plain": [
       "<IPython.core.display.HTML object>"
      ]
     },
     "metadata": {},
     "output_type": "display_data"
    },
    {
     "data": {
      "text/html": [
       "\n",
       "        <div id=\"ffRWYKLAuB7BqzSWUentDS\"></div>\n",
       "        <script>netpixi.call('ffRWYKLAuB7BqzSWUentDS', 'G2pH5LgoxWUHCuMcQXu9c4', 'changeGraph', 'eyJpZCI6ICJHcmVlY2UiLCAidHlwZSI6ICJ2ZXJ0ZXgiLCAicHJvcHMiOiB7ImNvbG9yIjogMTY3MTE2ODB9fQo=');</script>\n",
       "    "
      ],
      "text/plain": [
       "<IPython.core.display.HTML object>"
      ]
     },
     "metadata": {},
     "output_type": "display_data"
    },
    {
     "data": {
      "text/html": [
       "\n",
       "        <div id=\"2XLEHU3uPckz3hDkre6yBL\"></div>\n",
       "        <script>netpixi.call('2XLEHU3uPckz3hDkre6yBL', 'G2pH5LgoxWUHCuMcQXu9c4', 'changeGraph', 'eyJpZCI6ICJBcm1lbmlhIiwgInR5cGUiOiAidmVydGV4IiwgInByb3BzIjogeyJjb2xvciI6IDY1MjgwfX0K');</script>\n",
       "    "
      ],
      "text/plain": [
       "<IPython.core.display.HTML object>"
      ]
     },
     "metadata": {},
     "output_type": "display_data"
    },
    {
     "data": {
      "text/html": [
       "\n",
       "        <div id=\"azvufoh8YxHSu68JVyE5dr\"></div>\n",
       "        <script>netpixi.call('azvufoh8YxHSu68JVyE5dr', 'G2pH5LgoxWUHCuMcQXu9c4', 'changeGraph', 'eyJpZCI6ICJSZXAuIG9mIEtvcmVhIiwgInR5cGUiOiAidmVydGV4IiwgInByb3BzIjogeyJjb2xvciI6IDE2NzExNjgwfX0K');</script>\n",
       "    "
      ],
      "text/plain": [
       "<IPython.core.display.HTML object>"
      ]
     },
     "metadata": {},
     "output_type": "display_data"
    },
    {
     "data": {
      "text/html": [
       "\n",
       "        <div id=\"aSFdJNXNVmSJXZiQBwxgDC\"></div>\n",
       "        <script>netpixi.call('aSFdJNXNVmSJXZiQBwxgDC', 'G2pH5LgoxWUHCuMcQXu9c4', 'changeGraph', 'eyJpZCI6ICJMaWVjaHRlbnN0ZWluIiwgInR5cGUiOiAidmVydGV4IiwgInByb3BzIjogeyJjb2xvciI6IDE2NzExNjgwfX0K');</script>\n",
       "    "
      ],
      "text/plain": [
       "<IPython.core.display.HTML object>"
      ]
     },
     "metadata": {},
     "output_type": "display_data"
    },
    {
     "data": {
      "text/html": [
       "\n",
       "        <div id=\"2VMjsPXmtmMCtWCjVBdr87\"></div>\n",
       "        <script>netpixi.call('2VMjsPXmtmMCtWCjVBdr87', 'G2pH5LgoxWUHCuMcQXu9c4', 'changeGraph', 'eyJpZCI6ICJNYWxkaXZlcyIsICJ0eXBlIjogInZlcnRleCIsICJwcm9wcyI6IHsiY29sb3IiOiA2NTI4MH19Cg==');</script>\n",
       "    "
      ],
      "text/plain": [
       "<IPython.core.display.HTML object>"
      ]
     },
     "metadata": {},
     "output_type": "display_data"
    },
    {
     "data": {
      "text/html": [
       "\n",
       "        <div id=\"VfSHXmjCLDa77y4qPgMJR8\"></div>\n",
       "        <script>netpixi.call('VfSHXmjCLDa77y4qPgMJR8', 'G2pH5LgoxWUHCuMcQXu9c4', 'changeGraph', 'eyJpZCI6ICJTdWRhbiIsICJ0eXBlIjogInZlcnRleCIsICJwcm9wcyI6IHsiY29sb3IiOiAxNjcxMTY4MH19Cg==');</script>\n",
       "    "
      ],
      "text/plain": [
       "<IPython.core.display.HTML object>"
      ]
     },
     "metadata": {},
     "output_type": "display_data"
    },
    {
     "data": {
      "text/html": [
       "\n",
       "        <div id=\"XFPWDqL5PFNhVAvgGbi6C7\"></div>\n",
       "        <script>netpixi.call('XFPWDqL5PFNhVAvgGbi6C7', 'G2pH5LgoxWUHCuMcQXu9c4', 'changeGraph', 'eyJpZCI6ICJEb21pbmljYSIsICJ0eXBlIjogInZlcnRleCIsICJwcm9wcyI6IHsiY29sb3IiOiA2NTI4MH19Cg==');</script>\n",
       "    "
      ],
      "text/plain": [
       "<IPython.core.display.HTML object>"
      ]
     },
     "metadata": {},
     "output_type": "display_data"
    },
    {
     "data": {
      "text/html": [
       "\n",
       "        <div id=\"8iZE9jkkB4yHnQLzr5P5DL\"></div>\n",
       "        <script>netpixi.call('8iZE9jkkB4yHnQLzr5P5DL', 'G2pH5LgoxWUHCuMcQXu9c4', 'changeGraph', 'eyJpZCI6ICJOYXVydSIsICJ0eXBlIjogInZlcnRleCIsICJwcm9wcyI6IHsiY29sb3IiOiA2NTI4MH19Cg==');</script>\n",
       "    "
      ],
      "text/plain": [
       "<IPython.core.display.HTML object>"
      ]
     },
     "metadata": {},
     "output_type": "display_data"
    },
    {
     "data": {
      "text/html": [
       "\n",
       "        <div id=\"7SVs25bmsADF8brpJdeea8\"></div>\n",
       "        <script>netpixi.call('7SVs25bmsADF8brpJdeea8', 'G2pH5LgoxWUHCuMcQXu9c4', 'changeGraph', 'eyJpZCI6ICJHcmVuYWRhIiwgInR5cGUiOiAidmVydGV4IiwgInByb3BzIjogeyJjb2xvciI6IDY1MjgwfX0K');</script>\n",
       "    "
      ],
      "text/plain": [
       "<IPython.core.display.HTML object>"
      ]
     },
     "metadata": {},
     "output_type": "display_data"
    },
    {
     "data": {
      "text/html": [
       "\n",
       "        <div id=\"h3QnCBXPvWap5jofSouQkM\"></div>\n",
       "        <script>netpixi.call('h3QnCBXPvWap5jofSouQkM', 'G2pH5LgoxWUHCuMcQXu9c4', 'changeGraph', 'eyJpZCI6ICJVbml0ZWQgU3RhdGVzIG9mIEFtZXJpY2EiLCAidHlwZSI6ICJ2ZXJ0ZXgiLCAicHJvcHMiOiB7ImNvbG9yIjogMTY3MTE2ODB9fQo=');</script>\n",
       "    "
      ],
      "text/plain": [
       "<IPython.core.display.HTML object>"
      ]
     },
     "metadata": {},
     "output_type": "display_data"
    },
    {
     "data": {
      "text/html": [
       "\n",
       "        <div id=\"CP5WCxGtt667Aa62ogzZ46\"></div>\n",
       "        <script>netpixi.call('CP5WCxGtt667Aa62ogzZ46', 'G2pH5LgoxWUHCuMcQXu9c4', 'changeGraph', 'eyJpZCI6ICJUdXJrbWVuaXN0YW4iLCAidHlwZSI6ICJ2ZXJ0ZXgiLCAicHJvcHMiOiB7ImNvbG9yIjogNjUyODB9fQo=');</script>\n",
       "    "
      ],
      "text/plain": [
       "<IPython.core.display.HTML object>"
      ]
     },
     "metadata": {},
     "output_type": "display_data"
    },
    {
     "data": {
      "text/html": [
       "\n",
       "        <div id=\"6EjRxfsYRoYDFpe9eChVYf\"></div>\n",
       "        <script>netpixi.call('6EjRxfsYRoYDFpe9eChVYf', 'G2pH5LgoxWUHCuMcQXu9c4', 'changeGraph', 'eyJpZCI6ICJDdXJhXHUwMGU3YW8iLCAidHlwZSI6ICJ2ZXJ0ZXgiLCAicHJvcHMiOiB7ImNvbG9yIjogNjUyODB9fQo=');</script>\n",
       "    "
      ],
      "text/plain": [
       "<IPython.core.display.HTML object>"
      ]
     },
     "metadata": {},
     "output_type": "display_data"
    },
    {
     "data": {
      "text/html": [
       "\n",
       "        <div id=\"8tTmnBNMnKyVQL7E4Wucwy\"></div>\n",
       "        <script>netpixi.call('8tTmnBNMnKyVQL7E4Wucwy', 'G2pH5LgoxWUHCuMcQXu9c4', 'changeGraph', 'eyJpZCI6ICJHYWJvbiIsICJ0eXBlIjogInZlcnRleCIsICJwcm9wcyI6IHsiY29sb3IiOiA2NTI4MH19Cg==');</script>\n",
       "    "
      ],
      "text/plain": [
       "<IPython.core.display.HTML object>"
      ]
     },
     "metadata": {},
     "output_type": "display_data"
    },
    {
     "data": {
      "text/html": [
       "\n",
       "        <div id=\"35JJWEn5ccSwAr2DTC53Jn\"></div>\n",
       "        <script>netpixi.call('35JJWEn5ccSwAr2DTC53Jn', 'G2pH5LgoxWUHCuMcQXu9c4', 'changeGraph', 'eyJpZCI6ICJVcnVndWF5IiwgInR5cGUiOiAidmVydGV4IiwgInByb3BzIjogeyJjb2xvciI6IDY1MjgwfX0K');</script>\n",
       "    "
      ],
      "text/plain": [
       "<IPython.core.display.HTML object>"
      ]
     },
     "metadata": {},
     "output_type": "display_data"
    },
    {
     "data": {
      "text/html": [
       "\n",
       "        <div id=\"WCCep8oyzaXPuMnRJMWvC6\"></div>\n",
       "        <script>netpixi.call('WCCep8oyzaXPuMnRJMWvC6', 'G2pH5LgoxWUHCuMcQXu9c4', 'changeGraph', 'eyJpZCI6ICJCYXJiYWRvcyIsICJ0eXBlIjogInZlcnRleCIsICJwcm9wcyI6IHsiY29sb3IiOiA2NTI4MH19Cg==');</script>\n",
       "    "
      ],
      "text/plain": [
       "<IPython.core.display.HTML object>"
      ]
     },
     "metadata": {},
     "output_type": "display_data"
    },
    {
     "data": {
      "text/html": [
       "\n",
       "        <div id=\"T4dTeZ9aCTuTPgq4WBiPok\"></div>\n",
       "        <script>netpixi.call('T4dTeZ9aCTuTPgq4WBiPok', 'G2pH5LgoxWUHCuMcQXu9c4', 'changeGraph', 'eyJpZCI6ICJXZXN0ZXJuIFNhaGFyYSIsICJ0eXBlIjogInZlcnRleCIsICJwcm9wcyI6IHsiY29sb3IiOiA2NTI4MH19Cg==');</script>\n",
       "    "
      ],
      "text/plain": [
       "<IPython.core.display.HTML object>"
      ]
     },
     "metadata": {},
     "output_type": "display_data"
    },
    {
     "data": {
      "text/html": [
       "\n",
       "        <div id=\"aeMi98wxQHNaE7Hu2HWxUZ\"></div>\n",
       "        <script>netpixi.call('aeMi98wxQHNaE7Hu2HWxUZ', 'G2pH5LgoxWUHCuMcQXu9c4', 'changeGraph', 'eyJpZCI6ICJTYWludCBLaXR0cyBhbmQgTmV2aXMiLCAidHlwZSI6ICJ2ZXJ0ZXgiLCAicHJvcHMiOiB7ImNvbG9yIjogNjUyODB9fQo=');</script>\n",
       "    "
      ],
      "text/plain": [
       "<IPython.core.display.HTML object>"
      ]
     },
     "metadata": {},
     "output_type": "display_data"
    },
    {
     "data": {
      "text/html": [
       "\n",
       "        <div id=\"gtC37HB83eWmFhijzczsSp\"></div>\n",
       "        <script>netpixi.call('gtC37HB83eWmFhijzczsSp', 'G2pH5LgoxWUHCuMcQXu9c4', 'changeGraph', 'eyJpZCI6ICJCcnVuZWkgRGFydXNzYWxhbSIsICJ0eXBlIjogInZlcnRleCIsICJwcm9wcyI6IHsiY29sb3IiOiA2NTI4MH19Cg==');</script>\n",
       "    "
      ],
      "text/plain": [
       "<IPython.core.display.HTML object>"
      ]
     },
     "metadata": {},
     "output_type": "display_data"
    },
    {
     "data": {
      "text/html": [
       "\n",
       "        <div id=\"VJZ8622n4wcPkWfLv7gz3c\"></div>\n",
       "        <script>netpixi.call('VJZ8622n4wcPkWfLv7gz3c', 'G2pH5LgoxWUHCuMcQXu9c4', 'changeGraph', 'eyJpZCI6ICJUdW5pc2lhIiwgInR5cGUiOiAidmVydGV4IiwgInByb3BzIjogeyJjb2xvciI6IDE2NzExNjgwfX0K');</script>\n",
       "    "
      ],
      "text/plain": [
       "<IPython.core.display.HTML object>"
      ]
     },
     "metadata": {},
     "output_type": "display_data"
    },
    {
     "data": {
      "text/html": [
       "\n",
       "        <div id=\"WrxbUdPGNbaWiEVNBEyBeb\"></div>\n",
       "        <script>netpixi.call('WrxbUdPGNbaWiEVNBEyBeb', 'G2pH5LgoxWUHCuMcQXu9c4', 'changeGraph', 'eyJpZCI6ICJBbGdlcmlhIiwgInR5cGUiOiAidmVydGV4IiwgInByb3BzIjogeyJjb2xvciI6IDE2NzExNjgwfX0K');</script>\n",
       "    "
      ],
      "text/plain": [
       "<IPython.core.display.HTML object>"
      ]
     },
     "metadata": {},
     "output_type": "display_data"
    },
    {
     "data": {
      "text/html": [
       "\n",
       "        <div id=\"EGdfCqgrWv798neAJ6RUhR\"></div>\n",
       "        <script>netpixi.call('EGdfCqgrWv798neAJ6RUhR', 'G2pH5LgoxWUHCuMcQXu9c4', 'changeGraph', 'eyJpZCI6ICJMYXR2aWEiLCAidHlwZSI6ICJ2ZXJ0ZXgiLCAicHJvcHMiOiB7ImNvbG9yIjogMTY3MTE2ODB9fQo=');</script>\n",
       "    "
      ],
      "text/plain": [
       "<IPython.core.display.HTML object>"
      ]
     },
     "metadata": {},
     "output_type": "display_data"
    },
    {
     "data": {
      "text/html": [
       "\n",
       "        <div id=\"NAYuPwNnN43TKu6PFMzuhX\"></div>\n",
       "        <script>netpixi.call('NAYuPwNnN43TKu6PFMzuhX', 'G2pH5LgoxWUHCuMcQXu9c4', 'changeGraph', 'eyJpZCI6ICJRYXRhciIsICJ0eXBlIjogInZlcnRleCIsICJwcm9wcyI6IHsiY29sb3IiOiA2NTI4MH19Cg==');</script>\n",
       "    "
      ],
      "text/plain": [
       "<IPython.core.display.HTML object>"
      ]
     },
     "metadata": {},
     "output_type": "display_data"
    },
    {
     "data": {
      "text/html": [
       "\n",
       "        <div id=\"BsZcZZrVk96ghpS5od4J2R\"></div>\n",
       "        <script>netpixi.call('BsZcZZrVk96ghpS5od4J2R', 'G2pH5LgoxWUHCuMcQXu9c4', 'changeGraph', 'eyJpZCI6ICJTeXJpYW4gQXJhYiBSZXAuIiwgInR5cGUiOiAidmVydGV4IiwgInByb3BzIjogeyJjb2xvciI6IDE2NzExNjgwfX0K');</script>\n",
       "    "
      ],
      "text/plain": [
       "<IPython.core.display.HTML object>"
      ]
     },
     "metadata": {},
     "output_type": "display_data"
    },
    {
     "data": {
      "text/html": [
       "\n",
       "        <div id=\"2MZhtezTRRmMHKWzJEzxpA\"></div>\n",
       "        <script>netpixi.call('2MZhtezTRRmMHKWzJEzxpA', 'G2pH5LgoxWUHCuMcQXu9c4', 'changeGraph', 'eyJpZCI6ICJJbmRpYSIsICJ0eXBlIjogInZlcnRleCIsICJwcm9wcyI6IHsiY29sb3IiOiAxNjcxMTY4MH19Cg==');</script>\n",
       "    "
      ],
      "text/plain": [
       "<IPython.core.display.HTML object>"
      ]
     },
     "metadata": {},
     "output_type": "display_data"
    },
    {
     "data": {
      "text/html": [
       "\n",
       "        <div id=\"YQP88q2DBxvwKKnSDi6Z8F\"></div>\n",
       "        <script>netpixi.call('YQP88q2DBxvwKKnSDi6Z8F', 'G2pH5LgoxWUHCuMcQXu9c4', 'changeGraph', 'eyJpZCI6ICJSdXNzaWFuIEZlZGVyYXRpb24iLCAidHlwZSI6ICJ2ZXJ0ZXgiLCAicHJvcHMiOiB7ImNvbG9yIjogMTY3MTE2ODB9fQo=');</script>\n",
       "    "
      ],
      "text/plain": [
       "<IPython.core.display.HTML object>"
      ]
     },
     "metadata": {},
     "output_type": "display_data"
    },
    {
     "data": {
      "text/html": [
       "\n",
       "        <div id=\"F3c4B8hBozXVsNNHX3jFeN\"></div>\n",
       "        <script>netpixi.call('F3c4B8hBozXVsNNHX3jFeN', 'G2pH5LgoxWUHCuMcQXu9c4', 'changeGraph', 'eyJpZCI6ICJBZmdoYW5pc3RhbiIsICJ0eXBlIjogInZlcnRleCIsICJwcm9wcyI6IHsiY29sb3IiOiA2NTI4MH19Cg==');</script>\n",
       "    "
      ],
      "text/plain": [
       "<IPython.core.display.HTML object>"
      ]
     },
     "metadata": {},
     "output_type": "display_data"
    },
    {
     "data": {
      "text/html": [
       "\n",
       "        <div id=\"HZJcqZdWid92xjs2FF4rxL\"></div>\n",
       "        <script>netpixi.call('HZJcqZdWid92xjs2FF4rxL', 'G2pH5LgoxWUHCuMcQXu9c4', 'changeGraph', 'eyJpZCI6ICJNYWx0YSIsICJ0eXBlIjogInZlcnRleCIsICJwcm9wcyI6IHsiY29sb3IiOiAxNjcxMTY4MH19Cg==');</script>\n",
       "    "
      ],
      "text/plain": [
       "<IPython.core.display.HTML object>"
      ]
     },
     "metadata": {},
     "output_type": "display_data"
    },
    {
     "data": {
      "text/html": [
       "\n",
       "        <div id=\"DTNz7hjxWJ3Hp8tXG8H2uT\"></div>\n",
       "        <script>netpixi.call('DTNz7hjxWJ3Hp8tXG8H2uT', 'G2pH5LgoxWUHCuMcQXu9c4', 'changeGraph', 'eyJpZCI6ICJNYXVyaXRpdXMiLCAidHlwZSI6ICJ2ZXJ0ZXgiLCAicHJvcHMiOiB7ImNvbG9yIjogNjUyODB9fQo=');</script>\n",
       "    "
      ],
      "text/plain": [
       "<IPython.core.display.HTML object>"
      ]
     },
     "metadata": {},
     "output_type": "display_data"
    },
    {
     "data": {
      "text/html": [
       "\n",
       "        <div id=\"6utBQosHKsSZcUuvyuCnLm\"></div>\n",
       "        <script>netpixi.call('6utBQosHKsSZcUuvyuCnLm', 'G2pH5LgoxWUHCuMcQXu9c4', 'changeGraph', 'eyJpZCI6ICJUb2dvIiwgInR5cGUiOiAidmVydGV4IiwgInByb3BzIjogeyJjb2xvciI6IDY1MjgwfX0K');</script>\n",
       "    "
      ],
      "text/plain": [
       "<IPython.core.display.HTML object>"
      ]
     },
     "metadata": {},
     "output_type": "display_data"
    },
    {
     "data": {
      "text/html": [
       "\n",
       "        <div id=\"b4avUwCq6iD4FRJ5Rx88sy\"></div>\n",
       "        <script>netpixi.call('b4avUwCq6iD4FRJ5Rx88sy', 'G2pH5LgoxWUHCuMcQXu9c4', 'changeGraph', 'eyJpZCI6ICJWaWV0IE5hbSIsICJ0eXBlIjogInZlcnRleCIsICJwcm9wcyI6IHsiY29sb3IiOiA2NTI4MH19Cg==');</script>\n",
       "    "
      ],
      "text/plain": [
       "<IPython.core.display.HTML object>"
      ]
     },
     "metadata": {},
     "output_type": "display_data"
    },
    {
     "data": {
      "text/html": [
       "\n",
       "        <div id=\"JPm5LNP4dzWh5Z8NBsJ6YP\"></div>\n",
       "        <script>netpixi.call('JPm5LNP4dzWh5Z8NBsJ6YP', 'G2pH5LgoxWUHCuMcQXu9c4', 'changeGraph', 'eyJpZCI6ICJSb21hbmlhIiwgInR5cGUiOiAidmVydGV4IiwgInByb3BzIjogeyJjb2xvciI6IDE2NzExNjgwfX0K');</script>\n",
       "    "
      ],
      "text/plain": [
       "<IPython.core.display.HTML object>"
      ]
     },
     "metadata": {},
     "output_type": "display_data"
    },
    {
     "data": {
      "text/html": [
       "\n",
       "        <div id=\"KCKuXrhAb5P5c5eEnybXdo\"></div>\n",
       "        <script>netpixi.call('KCKuXrhAb5P5c5eEnybXdo', 'G2pH5LgoxWUHCuMcQXu9c4', 'changeGraph', 'eyJpZCI6ICJCb2xpdmlhIChQbHVyaW5hdGlvbmFsIFN0YXRlIG9mKSIsICJ0eXBlIjogInZlcnRleCIsICJwcm9wcyI6IHsiY29sb3IiOiA2NTI4MH19Cg==');</script>\n",
       "    "
      ],
      "text/plain": [
       "<IPython.core.display.HTML object>"
      ]
     },
     "metadata": {},
     "output_type": "display_data"
    },
    {
     "data": {
      "text/html": [
       "\n",
       "        <div id=\"PBNvngP9tqN4BteagMpPNR\"></div>\n",
       "        <script>netpixi.call('PBNvngP9tqN4BteagMpPNR', 'G2pH5LgoxWUHCuMcQXu9c4', 'changeGraph', 'eyJpZCI6ICJHZW9yZ2lhIiwgInR5cGUiOiAidmVydGV4IiwgInByb3BzIjogeyJjb2xvciI6IDY1MjgwfX0K');</script>\n",
       "    "
      ],
      "text/plain": [
       "<IPython.core.display.HTML object>"
      ]
     },
     "metadata": {},
     "output_type": "display_data"
    },
    {
     "data": {
      "text/html": [
       "\n",
       "        <div id=\"PbFqKrXuFF2bswy8waFcDo\"></div>\n",
       "        <script>netpixi.call('PbFqKrXuFF2bswy8waFcDo', 'G2pH5LgoxWUHCuMcQXu9c4', 'changeGraph', 'eyJpZCI6ICJDb25nbyIsICJ0eXBlIjogInZlcnRleCIsICJwcm9wcyI6IHsiY29sb3IiOiAxNjcxMTY4MH19Cg==');</script>\n",
       "    "
      ],
      "text/plain": [
       "<IPython.core.display.HTML object>"
      ]
     },
     "metadata": {},
     "output_type": "display_data"
    },
    {
     "data": {
      "text/html": [
       "\n",
       "        <div id=\"BBtd9adACUZtQxYiVDq9jX\"></div>\n",
       "        <script>netpixi.call('BBtd9adACUZtQxYiVDq9jX', 'G2pH5LgoxWUHCuMcQXu9c4', 'changeGraph', 'eyJpZCI6ICJaYW1iaWEiLCAidHlwZSI6ICJ2ZXJ0ZXgiLCAicHJvcHMiOiB7ImNvbG9yIjogNjUyODB9fQo=');</script>\n",
       "    "
      ],
      "text/plain": [
       "<IPython.core.display.HTML object>"
      ]
     },
     "metadata": {},
     "output_type": "display_data"
    },
    {
     "data": {
      "text/html": [
       "\n",
       "        <div id=\"NojM4ippZpL5wSkcF6BXp7\"></div>\n",
       "        <script>netpixi.call('NojM4ippZpL5wSkcF6BXp7', 'G2pH5LgoxWUHCuMcQXu9c4', 'changeGraph', 'eyJpZCI6ICJKYW1haWNhIiwgInR5cGUiOiAidmVydGV4IiwgInByb3BzIjogeyJjb2xvciI6IDY1MjgwfX0K');</script>\n",
       "    "
      ],
      "text/plain": [
       "<IPython.core.display.HTML object>"
      ]
     },
     "metadata": {},
     "output_type": "display_data"
    },
    {
     "data": {
      "text/html": [
       "\n",
       "        <div id=\"UxHAzdcPRxoFSgfmUsLJd5\"></div>\n",
       "        <script>netpixi.call('UxHAzdcPRxoFSgfmUsLJd5', 'G2pH5LgoxWUHCuMcQXu9c4', 'changeGraph', 'eyJpZCI6ICJHZXJtYW55IiwgInR5cGUiOiAidmVydGV4IiwgInByb3BzIjogeyJjb2xvciI6IDE2NzExNjgwfX0K');</script>\n",
       "    "
      ],
      "text/plain": [
       "<IPython.core.display.HTML object>"
      ]
     },
     "metadata": {},
     "output_type": "display_data"
    },
    {
     "data": {
      "text/html": [
       "\n",
       "        <div id=\"Erxmo95TG9ns9H5UYGWsVx\"></div>\n",
       "        <script>netpixi.call('Erxmo95TG9ns9H5UYGWsVx', 'G2pH5LgoxWUHCuMcQXu9c4', 'changeGraph', 'eyJpZCI6ICJDaGFkIiwgInR5cGUiOiAidmVydGV4IiwgInByb3BzIjogeyJjb2xvciI6IDY1MjgwfX0K');</script>\n",
       "    "
      ],
      "text/plain": [
       "<IPython.core.display.HTML object>"
      ]
     },
     "metadata": {},
     "output_type": "display_data"
    },
    {
     "data": {
      "text/html": [
       "\n",
       "        <div id=\"2quUtCx8SeEaxLdtvViof4\"></div>\n",
       "        <script>netpixi.call('2quUtCx8SeEaxLdtvViof4', 'G2pH5LgoxWUHCuMcQXu9c4', 'changeGraph', 'eyJpZCI6ICJCYWhhbWFzIiwgInR5cGUiOiAidmVydGV4IiwgInByb3BzIjogeyJjb2xvciI6IDY1MjgwfX0K');</script>\n",
       "    "
      ],
      "text/plain": [
       "<IPython.core.display.HTML object>"
      ]
     },
     "metadata": {},
     "output_type": "display_data"
    },
    {
     "data": {
      "text/html": [
       "\n",
       "        <div id=\"kBFgvsZ5tBPVLoMqzMNJpe\"></div>\n",
       "        <script>netpixi.call('kBFgvsZ5tBPVLoMqzMNJpe', 'G2pH5LgoxWUHCuMcQXu9c4', 'changeGraph', 'eyJpZCI6ICJNZXhpY28iLCAidHlwZSI6ICJ2ZXJ0ZXgiLCAicHJvcHMiOiB7ImNvbG9yIjogMTY3MTE2ODB9fQo=');</script>\n",
       "    "
      ],
      "text/plain": [
       "<IPython.core.display.HTML object>"
      ]
     },
     "metadata": {},
     "output_type": "display_data"
    },
    {
     "data": {
      "text/html": [
       "\n",
       "        <div id=\"HsvXjRN2CPXbW4j2NQfKoq\"></div>\n",
       "        <script>netpixi.call('HsvXjRN2CPXbW4j2NQfKoq', 'G2pH5LgoxWUHCuMcQXu9c4', 'changeGraph', 'eyJpZCI6ICJDeXBydXMiLCAidHlwZSI6ICJ2ZXJ0ZXgiLCAicHJvcHMiOiB7ImNvbG9yIjogMTY3MTE2ODB9fQo=');</script>\n",
       "    "
      ],
      "text/plain": [
       "<IPython.core.display.HTML object>"
      ]
     },
     "metadata": {},
     "output_type": "display_data"
    },
    {
     "data": {
      "text/html": [
       "\n",
       "        <div id=\"5wng75tWdsk4R52dSpPksJ\"></div>\n",
       "        <script>netpixi.call('5wng75tWdsk4R52dSpPksJ', 'G2pH5LgoxWUHCuMcQXu9c4', 'changeGraph', 'eyJpZCI6ICJOaWdlciIsICJ0eXBlIjogInZlcnRleCIsICJwcm9wcyI6IHsiY29sb3IiOiA2NTI4MH19Cg==');</script>\n",
       "    "
      ],
      "text/plain": [
       "<IPython.core.display.HTML object>"
      ]
     },
     "metadata": {},
     "output_type": "display_data"
    },
    {
     "data": {
      "text/html": [
       "\n",
       "        <div id=\"7zrq5sjdXEdpGh4pAfHwPT\"></div>\n",
       "        <script>netpixi.call('7zrq5sjdXEdpGh4pAfHwPT', 'G2pH5LgoxWUHCuMcQXu9c4', 'changeGraph', 'eyJpZCI6ICJHdWFkZWxvdXBlIiwgInR5cGUiOiAidmVydGV4IiwgInByb3BzIjogeyJjb2xvciI6IDY1MjgwfX0K');</script>\n",
       "    "
      ],
      "text/plain": [
       "<IPython.core.display.HTML object>"
      ]
     },
     "metadata": {},
     "output_type": "display_data"
    },
    {
     "data": {
      "text/html": [
       "\n",
       "        <div id=\"jjRp2tzjgjMteeWNr5gqFj\"></div>\n",
       "        <script>netpixi.call('jjRp2tzjgjMteeWNr5gqFj', 'G2pH5LgoxWUHCuMcQXu9c4', 'changeGraph', 'eyJpZCI6ICJUaGFpbGFuZCIsICJ0eXBlIjogInZlcnRleCIsICJwcm9wcyI6IHsiY29sb3IiOiAxNjcxMTY4MH19Cg==');</script>\n",
       "    "
      ],
      "text/plain": [
       "<IPython.core.display.HTML object>"
      ]
     },
     "metadata": {},
     "output_type": "display_data"
    },
    {
     "data": {
      "text/html": [
       "\n",
       "        <div id=\"CxLLMbKok6AAeB3j7J36qP\"></div>\n",
       "        <script>netpixi.call('CxLLMbKok6AAeB3j7J36qP', 'G2pH5LgoxWUHCuMcQXu9c4', 'changeGraph', 'eyJpZCI6ICJOZXBhbCIsICJ0eXBlIjogInZlcnRleCIsICJwcm9wcyI6IHsiY29sb3IiOiA2NTI4MH19Cg==');</script>\n",
       "    "
      ],
      "text/plain": [
       "<IPython.core.display.HTML object>"
      ]
     },
     "metadata": {},
     "output_type": "display_data"
    },
    {
     "data": {
      "text/html": [
       "\n",
       "        <div id=\"TcqQtvkxuosawV7BTmkQEZ\"></div>\n",
       "        <script>netpixi.call('TcqQtvkxuosawV7BTmkQEZ', 'G2pH5LgoxWUHCuMcQXu9c4', 'changeGraph', 'eyJpZCI6ICJCZWxnaXVtIiwgInR5cGUiOiAidmVydGV4IiwgInByb3BzIjogeyJjb2xvciI6IDE2NzExNjgwfX0K');</script>\n",
       "    "
      ],
      "text/plain": [
       "<IPython.core.display.HTML object>"
      ]
     },
     "metadata": {},
     "output_type": "display_data"
    },
    {
     "data": {
      "text/html": [
       "\n",
       "        <div id=\"oR5zvCMsLt57Qry3U5oj4b\"></div>\n",
       "        <script>netpixi.call('oR5zvCMsLt57Qry3U5oj4b', 'G2pH5LgoxWUHCuMcQXu9c4', 'changeGraph', 'eyJpZCI6ICJDb29rIElzbGFuZHMiLCAidHlwZSI6ICJ2ZXJ0ZXgiLCAicHJvcHMiOiB7ImNvbG9yIjogNjUyODB9fQo=');</script>\n",
       "    "
      ],
      "text/plain": [
       "<IPython.core.display.HTML object>"
      ]
     },
     "metadata": {},
     "output_type": "display_data"
    },
    {
     "data": {
      "text/html": [
       "\n",
       "        <div id=\"2SptZYL2V6XXXXWHaVotni\"></div>\n",
       "        <script>netpixi.call('2SptZYL2V6XXXXWHaVotni', 'G2pH5LgoxWUHCuMcQXu9c4', 'changeGraph', 'eyJpZCI6ICJKb3JkYW4iLCAidHlwZSI6ICJ2ZXJ0ZXgiLCAicHJvcHMiOiB7ImNvbG9yIjogMTY3MTE2ODB9fQo=');</script>\n",
       "    "
      ],
      "text/plain": [
       "<IPython.core.display.HTML object>"
      ]
     },
     "metadata": {},
     "output_type": "display_data"
    },
    {
     "data": {
      "text/html": [
       "\n",
       "        <div id=\"emudHg4uuWPxoADHeDyLZK\"></div>\n",
       "        <script>netpixi.call('emudHg4uuWPxoADHeDyLZK', 'G2pH5LgoxWUHCuMcQXu9c4', 'changeGraph', 'eyJpZCI6ICJHdXlhbmEiLCAidHlwZSI6ICJ2ZXJ0ZXgiLCAicHJvcHMiOiB7ImNvbG9yIjogNjUyODB9fQo=');</script>\n",
       "    "
      ],
      "text/plain": [
       "<IPython.core.display.HTML object>"
      ]
     },
     "metadata": {},
     "output_type": "display_data"
    },
    {
     "data": {
      "text/html": [
       "\n",
       "        <div id=\"jK875uVghibJuyJkGBmd5P\"></div>\n",
       "        <script>netpixi.call('jK875uVghibJuyJkGBmd5P', 'G2pH5LgoxWUHCuMcQXu9c4', 'changeGraph', 'eyJpZCI6ICJUaWJldGFuIiwgInR5cGUiOiAidmVydGV4IiwgInByb3BzIjogeyJjb2xvciI6IDY1MjgwfX0K');</script>\n",
       "    "
      ],
      "text/plain": [
       "<IPython.core.display.HTML object>"
      ]
     },
     "metadata": {},
     "output_type": "display_data"
    },
    {
     "data": {
      "text/html": [
       "\n",
       "        <div id=\"6hebyxZTkEBmSsKWTgmgba\"></div>\n",
       "        <script>netpixi.call('6hebyxZTkEBmSsKWTgmgba', 'G2pH5LgoxWUHCuMcQXu9c4', 'changeGraph', 'eyJpZCI6ICJOb3Jmb2xrIElzbGFuZCIsICJ0eXBlIjogInZlcnRleCIsICJwcm9wcyI6IHsiY29sb3IiOiA2NTI4MH19Cg==');</script>\n",
       "    "
      ],
      "text/plain": [
       "<IPython.core.display.HTML object>"
      ]
     },
     "metadata": {},
     "output_type": "display_data"
    },
    {
     "data": {
      "text/html": [
       "\n",
       "        <div id=\"K6wY2pNBZxT3CPBMw3Tbjc\"></div>\n",
       "        <script>netpixi.call('K6wY2pNBZxT3CPBMw3Tbjc', 'G2pH5LgoxWUHCuMcQXu9c4', 'changeGraph', 'eyJpZCI6ICJJcmVsYW5kIiwgInR5cGUiOiAidmVydGV4IiwgInByb3BzIjogeyJjb2xvciI6IDE2NzExNjgwfX0K');</script>\n",
       "    "
      ],
      "text/plain": [
       "<IPython.core.display.HTML object>"
      ]
     },
     "metadata": {},
     "output_type": "display_data"
    },
    {
     "data": {
      "text/html": [
       "\n",
       "        <div id=\"7DWJkm6MQYfuxKxvREsRt6\"></div>\n",
       "        <script>netpixi.call('7DWJkm6MQYfuxKxvREsRt6', 'G2pH5LgoxWUHCuMcQXu9c4', 'changeGraph', 'eyJpZCI6ICJTaW50IE1hYXJ0ZW4gKER1dGNoIHBhcnQpIiwgInR5cGUiOiAidmVydGV4IiwgInByb3BzIjogeyJjb2xvciI6IDY1MjgwfX0K');</script>\n",
       "    "
      ],
      "text/plain": [
       "<IPython.core.display.HTML object>"
      ]
     },
     "metadata": {},
     "output_type": "display_data"
    },
    {
     "data": {
      "text/html": [
       "\n",
       "        <div id=\"7y24ZpCWWjX2CS9AMP72Jh\"></div>\n",
       "        <script>netpixi.call('7y24ZpCWWjX2CS9AMP72Jh', 'G2pH5LgoxWUHCuMcQXu9c4', 'changeGraph', 'eyJpZCI6ICJNYXJzaGFsbCBJc2xhbmRzIiwgInR5cGUiOiAidmVydGV4IiwgInByb3BzIjogeyJjb2xvciI6IDY1MjgwfX0K');</script>\n",
       "    "
      ],
      "text/plain": [
       "<IPython.core.display.HTML object>"
      ]
     },
     "metadata": {},
     "output_type": "display_data"
    },
    {
     "data": {
      "text/html": [
       "\n",
       "        <div id=\"CpkrLkvnxptXxNSYo2wFhp\"></div>\n",
       "        <script>netpixi.call('CpkrLkvnxptXxNSYo2wFhp', 'G2pH5LgoxWUHCuMcQXu9c4', 'changeGraph', 'eyJpZCI6ICJaaW1iYWJ3ZSIsICJ0eXBlIjogInZlcnRleCIsICJwcm9wcyI6IHsiY29sb3IiOiA2NTI4MH19Cg==');</script>\n",
       "    "
      ],
      "text/plain": [
       "<IPython.core.display.HTML object>"
      ]
     },
     "metadata": {},
     "output_type": "display_data"
    },
    {
     "data": {
      "text/html": [
       "\n",
       "        <div id=\"JCUD9k9cswe3wbqTaMudz7\"></div>\n",
       "        <script>netpixi.call('JCUD9k9cswe3wbqTaMudz7', 'G2pH5LgoxWUHCuMcQXu9c4', 'changeGraph', 'eyJpZCI6ICJLYXpha2hzdGFuIiwgInR5cGUiOiAidmVydGV4IiwgInByb3BzIjogeyJjb2xvciI6IDY1MjgwfX0K');</script>\n",
       "    "
      ],
      "text/plain": [
       "<IPython.core.display.HTML object>"
      ]
     },
     "metadata": {},
     "output_type": "display_data"
    },
    {
     "data": {
      "text/html": [
       "\n",
       "        <div id=\"GUVpURGjgRQfssiQbXDyMa\"></div>\n",
       "        <script>netpixi.call('GUVpURGjgRQfssiQbXDyMa', 'G2pH5LgoxWUHCuMcQXu9c4', 'changeGraph', 'eyJpZCI6ICJDYW5hZGEiLCAidHlwZSI6ICJ2ZXJ0ZXgiLCAicHJvcHMiOiB7ImNvbG9yIjogMTY3MTE2ODB9fQo=');</script>\n",
       "    "
      ],
      "text/plain": [
       "<IPython.core.display.HTML object>"
      ]
     },
     "metadata": {},
     "output_type": "display_data"
    },
    {
     "data": {
      "text/html": [
       "\n",
       "        <div id=\"PjBMJZqZEfcYAPqUwLjPem\"></div>\n",
       "        <script>netpixi.call('PjBMJZqZEfcYAPqUwLjPem', 'G2pH5LgoxWUHCuMcQXu9c4', 'changeGraph', 'eyJpZCI6ICJNb250ZW5lZ3JvIiwgInR5cGUiOiAidmVydGV4IiwgInByb3BzIjogeyJjb2xvciI6IDY1MjgwfX0K');</script>\n",
       "    "
      ],
      "text/plain": [
       "<IPython.core.display.HTML object>"
      ]
     },
     "metadata": {},
     "output_type": "display_data"
    },
    {
     "data": {
      "text/html": [
       "\n",
       "        <div id=\"YaUBk5Q78uHFjQZbCbUXz5\"></div>\n",
       "        <script>netpixi.call('YaUBk5Q78uHFjQZbCbUXz5', 'G2pH5LgoxWUHCuMcQXu9c4', 'changeGraph', 'eyJpZCI6ICJMdXhlbWJvdXJnIiwgInR5cGUiOiAidmVydGV4IiwgInByb3BzIjogeyJjb2xvciI6IDE2NzExNjgwfX0K');</script>\n",
       "    "
      ],
      "text/plain": [
       "<IPython.core.display.HTML object>"
      ]
     },
     "metadata": {},
     "output_type": "display_data"
    },
    {
     "data": {
      "text/html": [
       "\n",
       "        <div id=\"M9KASjXNjGg5gWn7Un6CH5\"></div>\n",
       "        <script>netpixi.call('M9KASjXNjGg5gWn7Un6CH5', 'G2pH5LgoxWUHCuMcQXu9c4', 'changeGraph', 'eyJpZCI6ICJDemVjaCBSZXAuIiwgInR5cGUiOiAidmVydGV4IiwgInByb3BzIjogeyJjb2xvciI6IDE2NzExNjgwfX0K');</script>\n",
       "    "
      ],
      "text/plain": [
       "<IPython.core.display.HTML object>"
      ]
     },
     "metadata": {},
     "output_type": "display_data"
    },
    {
     "data": {
      "text/html": [
       "\n",
       "        <div id=\"iDSmdkYKcxZYKStR9oPPt3\"></div>\n",
       "        <script>netpixi.call('iDSmdkYKcxZYKStR9oPPt3', 'G2pH5LgoxWUHCuMcQXu9c4', 'changeGraph', 'eyJpZCI6ICJNb25hY28iLCAidHlwZSI6ICJ2ZXJ0ZXgiLCAicHJvcHMiOiB7ImNvbG9yIjogNjUyODB9fQo=');</script>\n",
       "    "
      ],
      "text/plain": [
       "<IPython.core.display.HTML object>"
      ]
     },
     "metadata": {},
     "output_type": "display_data"
    },
    {
     "data": {
      "text/html": [
       "\n",
       "        <div id=\"Bz59EsXqHypwzZuUrZkMKA\"></div>\n",
       "        <script>netpixi.call('Bz59EsXqHypwzZuUrZkMKA', 'G2pH5LgoxWUHCuMcQXu9c4', 'changeGraph', 'eyJpZCI6ICJTYW8gVG9tZSBhbmQgUHJpbmNpcGUiLCAidHlwZSI6ICJ2ZXJ0ZXgiLCAicHJvcHMiOiB7ImNvbG9yIjogNjUyODB9fQo=');</script>\n",
       "    "
      ],
      "text/plain": [
       "<IPython.core.display.HTML object>"
      ]
     },
     "metadata": {},
     "output_type": "display_data"
    },
    {
     "data": {
      "text/html": [
       "\n",
       "        <div id=\"DQ6i6YX5iuZRk6coegSumW\"></div>\n",
       "        <script>netpixi.call('DQ6i6YX5iuZRk6coegSumW', 'G2pH5LgoxWUHCuMcQXu9c4', 'changeGraph', 'eyJpZCI6ICJTZW5lZ2FsIiwgInR5cGUiOiAidmVydGV4IiwgInByb3BzIjogeyJjb2xvciI6IDE2NzExNjgwfX0K');</script>\n",
       "    "
      ],
      "text/plain": [
       "<IPython.core.display.HTML object>"
      ]
     },
     "metadata": {},
     "output_type": "display_data"
    },
    {
     "data": {
      "text/html": [
       "\n",
       "        <div id=\"LEWzHWNM5xaqzVAYbTSkDP\"></div>\n",
       "        <script>netpixi.call('LEWzHWNM5xaqzVAYbTSkDP', 'G2pH5LgoxWUHCuMcQXu9c4', 'changeGraph', 'eyJpZCI6ICJTb21hbGlhIiwgInR5cGUiOiAidmVydGV4IiwgInByb3BzIjogeyJjb2xvciI6IDY1MjgwfX0K');</script>\n",
       "    "
      ],
      "text/plain": [
       "<IPython.core.display.HTML object>"
      ]
     },
     "metadata": {},
     "output_type": "display_data"
    },
    {
     "data": {
      "text/html": [
       "\n",
       "        <div id=\"6sSf2Mn7rZQSzX48KD6Gns\"></div>\n",
       "        <script>netpixi.call('6sSf2Mn7rZQSzX48KD6Gns', 'G2pH5LgoxWUHCuMcQXu9c4', 'changeGraph', 'eyJpZCI6ICJBdXN0cmlhIiwgInR5cGUiOiAidmVydGV4IiwgInByb3BzIjogeyJjb2xvciI6IDE2NzExNjgwfX0K');</script>\n",
       "    "
      ],
      "text/plain": [
       "<IPython.core.display.HTML object>"
      ]
     },
     "metadata": {},
     "output_type": "display_data"
    },
    {
     "data": {
      "text/html": [
       "\n",
       "        <div id=\"chAmsHJfwBHgcqAS2aQvDi\"></div>\n",
       "        <script>netpixi.call('chAmsHJfwBHgcqAS2aQvDi', 'G2pH5LgoxWUHCuMcQXu9c4', 'changeGraph', 'eyJpZCI6ICJBbmdvbGEiLCAidHlwZSI6ICJ2ZXJ0ZXgiLCAicHJvcHMiOiB7ImNvbG9yIjogMTY3MTE2ODB9fQo=');</script>\n",
       "    "
      ],
      "text/plain": [
       "<IPython.core.display.HTML object>"
      ]
     },
     "metadata": {},
     "output_type": "display_data"
    },
    {
     "data": {
      "text/html": [
       "\n",
       "        <div id=\"4wAPk5o3TzoSwFwkaceMr2\"></div>\n",
       "        <script>netpixi.call('4wAPk5o3TzoSwFwkaceMr2', 'G2pH5LgoxWUHCuMcQXu9c4', 'changeGraph', 'eyJpZCI6ICJNYWxhd2kiLCAidHlwZSI6ICJ2ZXJ0ZXgiLCAicHJvcHMiOiB7ImNvbG9yIjogNjUyODB9fQo=');</script>\n",
       "    "
      ],
      "text/plain": [
       "<IPython.core.display.HTML object>"
      ]
     },
     "metadata": {},
     "output_type": "display_data"
    }
   ],
   "source": [
    "matrix = spectral.adjacency(g2)\n",
    "\n",
    "# # Além de cpnet.Surprise, há outras\n",
    "# # opções de algoritmos discretos:\n",
    "# # cpnet.BE\n",
    "# # cpnet.Lip\n",
    "# # cpnet.LapCore\n",
    "# # cpnet.LapSgnCore\n",
    "# # cpnet.LowRankCore\n",
    "\n",
    "algorithm = cpnet.BE()\n",
    "algorithm.detect(matrix)\n",
    "c = algorithm.get_coreness()\n",
    "\n",
    "# # Depois do código acima, c é um dicionário\n",
    "# # em que as chaves são índices de vértices e\n",
    "# # valores são os atribuídos pelo algoritmo.\n",
    "\n",
    "g2.add_vp('coreness')\n",
    "for i, coreness in c.items():\n",
    "    v = g2.get_vertex_by_index(i)\n",
    "    v['coreness'] = int(coreness)\n",
    "    \n",
    "# # Vamos pintar de vermelho todos os vértices\n",
    "# # identificados como centro e de verde todos\n",
    "# # os vértices identificados como periferia.\n",
    "    \n",
    "for v in g2.all_vertices():\n",
    "    if v['coreness'] == 1:\n",
    "        r2.vertex(v['id'], color=0xff0000)\n",
    "    else:\n",
    "        r2.vertex(v['id'], color=0x00ff00)\n",
    "\n",
    "# # Quando a execução desta célula terminar,\n",
    "# # veja como ficou a visualização acima."
   ]
  },
  {
   "cell_type": "code",
   "execution_count": 107,
   "id": "16cec3a9",
   "metadata": {},
   "outputs": [
    {
     "data": {
      "text/html": [
       "\n",
       "        <div id=\"mho8EAGSchbz7pYabD4mxJ\"></div>\n",
       "        <script>netpixi.call('mho8EAGSchbz7pYabD4mxJ', 'G2pH5LgoxWUHCuMcQXu9c4', 'normalizeGraph', 'eyJ0eXBlIjogImVkZ2UiLCAicHJvcHMiOiB7InNyYyI6ICJhY2VpdG9zIiwgIm1pbiI6IDEsICJtYXgiOiAxMH19Cg==');</script>\n",
       "    "
      ],
      "text/plain": [
       "<IPython.core.display.HTML object>"
      ]
     },
     "metadata": {},
     "output_type": "display_data"
    },
    {
     "data": {
      "text/html": [
       "\n",
       "        <div id=\"44bjPxGQcH7CAyHGz36G3L\"></div>\n",
       "        <script>netpixi.call('44bjPxGQcH7CAyHGz36G3L', 'G2pH5LgoxWUHCuMcQXu9c4', 'setGraph', 'eyJ0eXBlIjogInZlcnRleCIsICJwcm9wcyI6IHsic3JjIjogIm5vbWUiLCAiZHN0IjogIl9rZXkifX0K');</script>\n",
       "    "
      ],
      "text/plain": [
       "<IPython.core.display.HTML object>"
      ]
     },
     "metadata": {},
     "output_type": "display_data"
    },
    {
     "data": {
      "text/html": [
       "\n",
       "        <div id=\"2mChAgYTVdVa4SYteQ7NWS\"></div>\n",
       "        <script>netpixi.call('2mChAgYTVdVa4SYteQ7NWS', 'G2pH5LgoxWUHCuMcQXu9c4', 'normalizeGraph', 'eyJ0eXBlIjogInZlcnRleCIsICJwcm9wcyI6IHsic3JjIjogImNvcmVuZXNzIiwgIm1pbiI6IDUsICJtYXgiOiAyNX19Cg==');</script>\n",
       "    "
      ],
      "text/plain": [
       "<IPython.core.display.HTML object>"
      ]
     },
     "metadata": {},
     "output_type": "display_data"
    }
   ],
   "source": [
    "r2.edge_scale('aceitos', 1, 10)\n",
    "\n",
    "r2.vertex_set_key('nome')\n",
    "\n",
    "r2.vertex_scale('coreness', 5, 25)"
   ]
  },
  {
   "cell_type": "code",
   "execution_count": 109,
   "id": "82fa769f",
   "metadata": {},
   "outputs": [
    {
     "data": {
      "text/html": [
       "<div>\n",
       "<style scoped>\n",
       "    .dataframe tbody tr th:only-of-type {\n",
       "        vertical-align: middle;\n",
       "    }\n",
       "\n",
       "    .dataframe tbody tr th {\n",
       "        vertical-align: top;\n",
       "    }\n",
       "\n",
       "    .dataframe thead th {\n",
       "        text-align: right;\n",
       "    }\n",
       "</style>\n",
       "<table border=\"1\" class=\"dataframe\">\n",
       "  <thead>\n",
       "    <tr style=\"text-align: right;\">\n",
       "      <th></th>\n",
       "      <th>nome</th>\n",
       "      <th>coreness</th>\n",
       "    </tr>\n",
       "    <tr>\n",
       "      <th>id</th>\n",
       "      <th></th>\n",
       "      <th></th>\n",
       "    </tr>\n",
       "  </thead>\n",
       "  <tbody>\n",
       "    <tr>\n",
       "      <th>Poland</th>\n",
       "      <td>Poland</td>\n",
       "      <td>1</td>\n",
       "    </tr>\n",
       "    <tr>\n",
       "      <th>Rep. of Moldova</th>\n",
       "      <td>Rep. of Moldova</td>\n",
       "      <td>1</td>\n",
       "    </tr>\n",
       "    <tr>\n",
       "      <th>Slovenia</th>\n",
       "      <td>Slovenia</td>\n",
       "      <td>1</td>\n",
       "    </tr>\n",
       "    <tr>\n",
       "      <th>Ghana</th>\n",
       "      <td>Ghana</td>\n",
       "      <td>1</td>\n",
       "    </tr>\n",
       "    <tr>\n",
       "      <th>Lebanon</th>\n",
       "      <td>Lebanon</td>\n",
       "      <td>1</td>\n",
       "    </tr>\n",
       "    <tr>\n",
       "      <th>...</th>\n",
       "      <td>...</td>\n",
       "      <td>...</td>\n",
       "    </tr>\n",
       "    <tr>\n",
       "      <th>Burundi</th>\n",
       "      <td>Burundi</td>\n",
       "      <td>0</td>\n",
       "    </tr>\n",
       "    <tr>\n",
       "      <th>Saint-Pierre-et-Miquelon</th>\n",
       "      <td>Saint-Pierre-et-Miquelon</td>\n",
       "      <td>0</td>\n",
       "    </tr>\n",
       "    <tr>\n",
       "      <th>Palestinian</th>\n",
       "      <td>Palestinian</td>\n",
       "      <td>0</td>\n",
       "    </tr>\n",
       "    <tr>\n",
       "      <th>Guinea-Bissau</th>\n",
       "      <td>Guinea-Bissau</td>\n",
       "      <td>0</td>\n",
       "    </tr>\n",
       "    <tr>\n",
       "      <th>Malawi</th>\n",
       "      <td>Malawi</td>\n",
       "      <td>0</td>\n",
       "    </tr>\n",
       "  </tbody>\n",
       "</table>\n",
       "<p>225 rows × 2 columns</p>\n",
       "</div>"
      ],
      "text/plain": [
       "                                              nome  coreness\n",
       "id                                                          \n",
       "Poland                                      Poland         1\n",
       "Rep. of Moldova                    Rep. of Moldova         1\n",
       "Slovenia                                  Slovenia         1\n",
       "Ghana                                        Ghana         1\n",
       "Lebanon                                    Lebanon         1\n",
       "...                                            ...       ...\n",
       "Burundi                                    Burundi         0\n",
       "Saint-Pierre-et-Miquelon  Saint-Pierre-et-Miquelon         0\n",
       "Palestinian                            Palestinian         0\n",
       "Guinea-Bissau                        Guinea-Bissau         0\n",
       "Malawi                                      Malawi         0\n",
       "\n",
       "[225 rows x 2 columns]"
      ]
     },
     "execution_count": 109,
     "metadata": {},
     "output_type": "execute_result"
    }
   ],
   "source": [
    "df_coreness_2008_2012 = gt_data(g2).sort_values(\"coreness\", ascending = False)\n",
    "df_coreness_2008_2012"
   ]
  },
  {
   "cell_type": "code",
   "execution_count": 110,
   "id": "a09c52ae",
   "metadata": {},
   "outputs": [
    {
     "data": {
      "text/html": [
       "\n",
       "        <div id=\"kc8tHB8DsoZHcwoH7tSC54\"></div>\n",
       "        <script>netpixi.call('kc8tHB8DsoZHcwoH7tSC54', 'G2pH5LgoxWUHCuMcQXu9c4', 'setGraph', 'eyJ0eXBlIjogInZlcnRleCIsICJwcm9wcyI6IHsic3JjIjogIm5vbWUiLCAiZHN0IjogIl9rZXkifX0K');</script>\n",
       "    "
      ],
      "text/plain": [
       "<IPython.core.display.HTML object>"
      ]
     },
     "metadata": {},
     "output_type": "display_data"
    },
    {
     "data": {
      "text/html": [
       "\n",
       "        <div id=\"VhsXPj7wboxzdVzSeob9qq\"></div>\n",
       "        <script>netpixi.call('VhsXPj7wboxzdVzSeob9qq', 'G2pH5LgoxWUHCuMcQXu9c4', 'changeGraph', 'eyJ0eXBlIjogInNldHRpbmdzIiwgInByb3BzIjogeyJ2ZXJ0ZXgiOiB7ImNvbG9yIjogMTY3NzcyMTV9fX0K');</script>\n",
       "    "
      ],
      "text/plain": [
       "<IPython.core.display.HTML object>"
      ]
     },
     "metadata": {},
     "output_type": "display_data"
    },
    {
     "data": {
      "text/html": [
       "\n",
       "        <div id=\"fTzSF5deoHqXhjgCkNhtd9\"></div>\n",
       "        <script>netpixi.call('fTzSF5deoHqXhjgCkNhtd9', 'G2pH5LgoxWUHCuMcQXu9c4', 'changeGraph', 'eyJ0eXBlIjogInNldHRpbmdzIiwgInByb3BzIjogeyJlZGdlIjogeyJjb2xvciI6IDIxNDI4OTB9fX0K');</script>\n",
       "    "
      ],
      "text/plain": [
       "<IPython.core.display.HTML object>"
      ]
     },
     "metadata": {},
     "output_type": "display_data"
    }
   ],
   "source": [
    "r2.vertex_set_key('nome')\n",
    "\n",
    "r2.vertex_default(color=0xffffff)\n",
    "\n",
    "# mudar a cor, a espessura e a curvatura das arestas\n",
    "r2.edge_default(color=0x20B2AA)"
   ]
  },
  {
   "cell_type": "code",
   "execution_count": 111,
   "id": "81768283",
   "metadata": {},
   "outputs": [
    {
     "data": {
      "text/html": [
       "\n",
       "        <div id=\"AbVeBh7BHGckkXqYTZVMY7\"></div>\n",
       "        <script>netpixi.call('AbVeBh7BHGckkXqYTZVMY7', 'G2pH5LgoxWUHCuMcQXu9c4', 'normalizeGraph', 'eyJ0eXBlIjogImVkZ2UiLCAicHJvcHMiOiB7InNyYyI6ICJhY2VpdG9zIiwgIm1pbiI6IDEsICJtYXgiOiAxMH19Cg==');</script>\n",
       "    "
      ],
      "text/plain": [
       "<IPython.core.display.HTML object>"
      ]
     },
     "metadata": {},
     "output_type": "display_data"
    }
   ],
   "source": [
    "r2.edge_scale('aceitos', 1, 10)"
   ]
  },
  {
   "cell_type": "code",
   "execution_count": 112,
   "id": "32989e63",
   "metadata": {},
   "outputs": [
    {
     "data": {
      "text/html": [
       "<div>\n",
       "<style scoped>\n",
       "    .dataframe tbody tr th:only-of-type {\n",
       "        vertical-align: middle;\n",
       "    }\n",
       "\n",
       "    .dataframe tbody tr th {\n",
       "        vertical-align: top;\n",
       "    }\n",
       "\n",
       "    .dataframe thead th {\n",
       "        text-align: right;\n",
       "    }\n",
       "</style>\n",
       "<table border=\"1\" class=\"dataframe\">\n",
       "  <thead>\n",
       "    <tr style=\"text-align: right;\">\n",
       "      <th></th>\n",
       "      <th>origin</th>\n",
       "      <th>coreness</th>\n",
       "    </tr>\n",
       "    <tr>\n",
       "      <th>id</th>\n",
       "      <th></th>\n",
       "      <th></th>\n",
       "    </tr>\n",
       "  </thead>\n",
       "  <tbody>\n",
       "    <tr>\n",
       "      <th>Poland</th>\n",
       "      <td>Poland</td>\n",
       "      <td>1</td>\n",
       "    </tr>\n",
       "    <tr>\n",
       "      <th>Rep. of Moldova</th>\n",
       "      <td>Rep. of Moldova</td>\n",
       "      <td>1</td>\n",
       "    </tr>\n",
       "    <tr>\n",
       "      <th>Slovenia</th>\n",
       "      <td>Slovenia</td>\n",
       "      <td>1</td>\n",
       "    </tr>\n",
       "    <tr>\n",
       "      <th>Ghana</th>\n",
       "      <td>Ghana</td>\n",
       "      <td>1</td>\n",
       "    </tr>\n",
       "    <tr>\n",
       "      <th>Lebanon</th>\n",
       "      <td>Lebanon</td>\n",
       "      <td>1</td>\n",
       "    </tr>\n",
       "    <tr>\n",
       "      <th>...</th>\n",
       "      <td>...</td>\n",
       "      <td>...</td>\n",
       "    </tr>\n",
       "    <tr>\n",
       "      <th>Burundi</th>\n",
       "      <td>Burundi</td>\n",
       "      <td>0</td>\n",
       "    </tr>\n",
       "    <tr>\n",
       "      <th>Saint-Pierre-et-Miquelon</th>\n",
       "      <td>Saint-Pierre-et-Miquelon</td>\n",
       "      <td>0</td>\n",
       "    </tr>\n",
       "    <tr>\n",
       "      <th>Palestinian</th>\n",
       "      <td>Palestinian</td>\n",
       "      <td>0</td>\n",
       "    </tr>\n",
       "    <tr>\n",
       "      <th>Guinea-Bissau</th>\n",
       "      <td>Guinea-Bissau</td>\n",
       "      <td>0</td>\n",
       "    </tr>\n",
       "    <tr>\n",
       "      <th>Malawi</th>\n",
       "      <td>Malawi</td>\n",
       "      <td>0</td>\n",
       "    </tr>\n",
       "  </tbody>\n",
       "</table>\n",
       "<p>225 rows × 2 columns</p>\n",
       "</div>"
      ],
      "text/plain": [
       "                                            origin  coreness\n",
       "id                                                          \n",
       "Poland                                      Poland         1\n",
       "Rep. of Moldova                    Rep. of Moldova         1\n",
       "Slovenia                                  Slovenia         1\n",
       "Ghana                                        Ghana         1\n",
       "Lebanon                                    Lebanon         1\n",
       "...                                            ...       ...\n",
       "Burundi                                    Burundi         0\n",
       "Saint-Pierre-et-Miquelon  Saint-Pierre-et-Miquelon         0\n",
       "Palestinian                            Palestinian         0\n",
       "Guinea-Bissau                        Guinea-Bissau         0\n",
       "Malawi                                      Malawi         0\n",
       "\n",
       "[225 rows x 2 columns]"
      ]
     },
     "execution_count": 112,
     "metadata": {},
     "output_type": "execute_result"
    }
   ],
   "source": [
    "data_idh_2008_2012 = data.loc[:, ['idh_2008_2012', 'country', 'pop_cont']]\n",
    "\n",
    "data_idh_2008_2012 = data_idh_2008_2012.rename(columns={'idh_2008_2012': 'idh_2008_2012', 'country': 'origin'})\n",
    "df_coreness_2008_2012 = df_coreness_2008_2012.rename(columns={'nome':'origin'})\n",
    "\n",
    "df_coreness_2008_2012"
   ]
  },
  {
   "cell_type": "code",
   "execution_count": 113,
   "id": "ea78a57f",
   "metadata": {},
   "outputs": [
    {
     "data": {
      "text/html": [
       "<div>\n",
       "<style scoped>\n",
       "    .dataframe tbody tr th:only-of-type {\n",
       "        vertical-align: middle;\n",
       "    }\n",
       "\n",
       "    .dataframe tbody tr th {\n",
       "        vertical-align: top;\n",
       "    }\n",
       "\n",
       "    .dataframe thead th {\n",
       "        text-align: right;\n",
       "    }\n",
       "</style>\n",
       "<table border=\"1\" class=\"dataframe\">\n",
       "  <thead>\n",
       "    <tr style=\"text-align: right;\">\n",
       "      <th></th>\n",
       "      <th>origin</th>\n",
       "      <th>coreness</th>\n",
       "      <th>idh_2008_2012</th>\n",
       "      <th>pop_cont</th>\n",
       "    </tr>\n",
       "  </thead>\n",
       "  <tbody>\n",
       "    <tr>\n",
       "      <th>0</th>\n",
       "      <td>Poland</td>\n",
       "      <td>1</td>\n",
       "      <td>0.8380</td>\n",
       "      <td>0</td>\n",
       "    </tr>\n",
       "    <tr>\n",
       "      <th>1</th>\n",
       "      <td>Rep. of Moldova</td>\n",
       "      <td>1</td>\n",
       "      <td>0.7148</td>\n",
       "      <td>0</td>\n",
       "    </tr>\n",
       "    <tr>\n",
       "      <th>2</th>\n",
       "      <td>Slovenia</td>\n",
       "      <td>1</td>\n",
       "      <td>0.8870</td>\n",
       "      <td>0</td>\n",
       "    </tr>\n",
       "    <tr>\n",
       "      <th>3</th>\n",
       "      <td>Ghana</td>\n",
       "      <td>1</td>\n",
       "      <td>0.5654</td>\n",
       "      <td>0</td>\n",
       "    </tr>\n",
       "    <tr>\n",
       "      <th>4</th>\n",
       "      <td>Lebanon</td>\n",
       "      <td>1</td>\n",
       "      <td>0.7628</td>\n",
       "      <td>1</td>\n",
       "    </tr>\n",
       "    <tr>\n",
       "      <th>...</th>\n",
       "      <td>...</td>\n",
       "      <td>...</td>\n",
       "      <td>...</td>\n",
       "      <td>...</td>\n",
       "    </tr>\n",
       "    <tr>\n",
       "      <th>220</th>\n",
       "      <td>Burundi</td>\n",
       "      <td>0</td>\n",
       "      <td>0.4082</td>\n",
       "      <td>0</td>\n",
       "    </tr>\n",
       "    <tr>\n",
       "      <th>221</th>\n",
       "      <td>Saint-Pierre-et-Miquelon</td>\n",
       "      <td>0</td>\n",
       "      <td>0.0000</td>\n",
       "      <td>0</td>\n",
       "    </tr>\n",
       "    <tr>\n",
       "      <th>222</th>\n",
       "      <td>Palestinian</td>\n",
       "      <td>0</td>\n",
       "      <td>0.6854</td>\n",
       "      <td>0</td>\n",
       "    </tr>\n",
       "    <tr>\n",
       "      <th>223</th>\n",
       "      <td>Guinea-Bissau</td>\n",
       "      <td>0</td>\n",
       "      <td>0.4366</td>\n",
       "      <td>0</td>\n",
       "    </tr>\n",
       "    <tr>\n",
       "      <th>224</th>\n",
       "      <td>Malawi</td>\n",
       "      <td>0</td>\n",
       "      <td>0.4284</td>\n",
       "      <td>0</td>\n",
       "    </tr>\n",
       "  </tbody>\n",
       "</table>\n",
       "<p>225 rows × 4 columns</p>\n",
       "</div>"
      ],
      "text/plain": [
       "                       origin  coreness  idh_2008_2012  pop_cont\n",
       "0                      Poland         1         0.8380         0\n",
       "1             Rep. of Moldova         1         0.7148         0\n",
       "2                    Slovenia         1         0.8870         0\n",
       "3                       Ghana         1         0.5654         0\n",
       "4                     Lebanon         1         0.7628         1\n",
       "..                        ...       ...            ...       ...\n",
       "220                   Burundi         0         0.4082         0\n",
       "221  Saint-Pierre-et-Miquelon         0         0.0000         0\n",
       "222               Palestinian         0         0.6854         0\n",
       "223             Guinea-Bissau         0         0.4366         0\n",
       "224                    Malawi         0         0.4284         0\n",
       "\n",
       "[225 rows x 4 columns]"
      ]
     },
     "execution_count": 113,
     "metadata": {},
     "output_type": "execute_result"
    }
   ],
   "source": [
    "df_intermediario = df_coreness_2008_2012.merge(data_idh_2008_2012, on=\"origin\", how=\"left\")\n",
    "df_intermediario"
   ]
  },
  {
   "cell_type": "code",
   "execution_count": 115,
   "id": "d7b3afde",
   "metadata": {},
   "outputs": [
    {
     "data": {
      "text/html": [
       "<div>\n",
       "<style scoped>\n",
       "    .dataframe tbody tr th:only-of-type {\n",
       "        vertical-align: middle;\n",
       "    }\n",
       "\n",
       "    .dataframe tbody tr th {\n",
       "        vertical-align: top;\n",
       "    }\n",
       "\n",
       "    .dataframe thead th {\n",
       "        text-align: right;\n",
       "    }\n",
       "</style>\n",
       "<table border=\"1\" class=\"dataframe\">\n",
       "  <thead>\n",
       "    <tr style=\"text-align: right;\">\n",
       "      <th></th>\n",
       "      <th>origin</th>\n",
       "      <th>coreness</th>\n",
       "      <th>idh_2008_2012</th>\n",
       "      <th>pop_cont</th>\n",
       "      <th>value</th>\n",
       "      <th>rejected</th>\n",
       "    </tr>\n",
       "  </thead>\n",
       "  <tbody>\n",
       "    <tr>\n",
       "      <th>0</th>\n",
       "      <td>Poland</td>\n",
       "      <td>1</td>\n",
       "      <td>0.8380</td>\n",
       "      <td>0</td>\n",
       "      <td>109.0</td>\n",
       "      <td>427.0</td>\n",
       "    </tr>\n",
       "    <tr>\n",
       "      <th>1</th>\n",
       "      <td>Rep. of Moldova</td>\n",
       "      <td>1</td>\n",
       "      <td>0.7148</td>\n",
       "      <td>0</td>\n",
       "      <td>859.0</td>\n",
       "      <td>3950.0</td>\n",
       "    </tr>\n",
       "    <tr>\n",
       "      <th>2</th>\n",
       "      <td>Slovenia</td>\n",
       "      <td>1</td>\n",
       "      <td>0.8870</td>\n",
       "      <td>0</td>\n",
       "      <td>8.0</td>\n",
       "      <td>24.0</td>\n",
       "    </tr>\n",
       "    <tr>\n",
       "      <th>3</th>\n",
       "      <td>Ghana</td>\n",
       "      <td>1</td>\n",
       "      <td>0.5654</td>\n",
       "      <td>0</td>\n",
       "      <td>440.0</td>\n",
       "      <td>16065.0</td>\n",
       "    </tr>\n",
       "    <tr>\n",
       "      <th>4</th>\n",
       "      <td>Lebanon</td>\n",
       "      <td>1</td>\n",
       "      <td>0.7628</td>\n",
       "      <td>1</td>\n",
       "      <td>1068.0</td>\n",
       "      <td>7442.0</td>\n",
       "    </tr>\n",
       "    <tr>\n",
       "      <th>...</th>\n",
       "      <td>...</td>\n",
       "      <td>...</td>\n",
       "      <td>...</td>\n",
       "      <td>...</td>\n",
       "      <td>...</td>\n",
       "      <td>...</td>\n",
       "    </tr>\n",
       "    <tr>\n",
       "      <th>220</th>\n",
       "      <td>Burundi</td>\n",
       "      <td>0</td>\n",
       "      <td>0.4082</td>\n",
       "      <td>0</td>\n",
       "      <td>8941.0</td>\n",
       "      <td>6678.0</td>\n",
       "    </tr>\n",
       "    <tr>\n",
       "      <th>221</th>\n",
       "      <td>Saint-Pierre-et-Miquelon</td>\n",
       "      <td>0</td>\n",
       "      <td>0.0000</td>\n",
       "      <td>0</td>\n",
       "      <td>0.0</td>\n",
       "      <td>0.0</td>\n",
       "    </tr>\n",
       "    <tr>\n",
       "      <th>222</th>\n",
       "      <td>Palestinian</td>\n",
       "      <td>0</td>\n",
       "      <td>0.6854</td>\n",
       "      <td>0</td>\n",
       "      <td>3563.0</td>\n",
       "      <td>4315.0</td>\n",
       "    </tr>\n",
       "    <tr>\n",
       "      <th>223</th>\n",
       "      <td>Guinea-Bissau</td>\n",
       "      <td>0</td>\n",
       "      <td>0.4366</td>\n",
       "      <td>0</td>\n",
       "      <td>111.0</td>\n",
       "      <td>1632.0</td>\n",
       "    </tr>\n",
       "    <tr>\n",
       "      <th>224</th>\n",
       "      <td>Malawi</td>\n",
       "      <td>0</td>\n",
       "      <td>0.4284</td>\n",
       "      <td>0</td>\n",
       "      <td>105.0</td>\n",
       "      <td>15194.0</td>\n",
       "    </tr>\n",
       "  </tbody>\n",
       "</table>\n",
       "<p>225 rows × 6 columns</p>\n",
       "</div>"
      ],
      "text/plain": [
       "                       origin  coreness  idh_2008_2012  pop_cont   value  \\\n",
       "0                      Poland         1         0.8380         0   109.0   \n",
       "1             Rep. of Moldova         1         0.7148         0   859.0   \n",
       "2                    Slovenia         1         0.8870         0     8.0   \n",
       "3                       Ghana         1         0.5654         0   440.0   \n",
       "4                     Lebanon         1         0.7628         1  1068.0   \n",
       "..                        ...       ...            ...       ...     ...   \n",
       "220                   Burundi         0         0.4082         0  8941.0   \n",
       "221  Saint-Pierre-et-Miquelon         0         0.0000         0     0.0   \n",
       "222               Palestinian         0         0.6854         0  3563.0   \n",
       "223             Guinea-Bissau         0         0.4366         0   111.0   \n",
       "224                    Malawi         0         0.4284         0   105.0   \n",
       "\n",
       "     rejected  \n",
       "0       427.0  \n",
       "1      3950.0  \n",
       "2        24.0  \n",
       "3     16065.0  \n",
       "4      7442.0  \n",
       "..        ...  \n",
       "220    6678.0  \n",
       "221       0.0  \n",
       "222    4315.0  \n",
       "223    1632.0  \n",
       "224   15194.0  \n",
       "\n",
       "[225 rows x 6 columns]"
      ]
     },
     "execution_count": 115,
     "metadata": {},
     "output_type": "execute_result"
    }
   ],
   "source": [
    "df_intermediario = df_intermediario.merge(df_out_degree_2008_2012, on=\"origin\", how=\"left\")\n",
    "df_intermediario"
   ]
  },
  {
   "cell_type": "code",
   "execution_count": 116,
   "id": "3eec5456",
   "metadata": {},
   "outputs": [
    {
     "data": {
      "text/plain": [
       "['Austria',\n",
       " 'Belgium',\n",
       " 'Bulgaria',\n",
       " 'Canada',\n",
       " 'Czech Rep.',\n",
       " 'Cyprus',\n",
       " 'Denmark',\n",
       " 'Estonia',\n",
       " 'Finland',\n",
       " 'France',\n",
       " 'Germany',\n",
       " 'Greece',\n",
       " 'Hungary',\n",
       " 'Ireland',\n",
       " 'Italy',\n",
       " 'Latvia',\n",
       " 'Lithuania',\n",
       " 'Luxembourg',\n",
       " 'Malta',\n",
       " 'Netherlands',\n",
       " 'Poland',\n",
       " 'Portugal',\n",
       " 'Romania',\n",
       " 'Slovakia',\n",
       " 'Slovenia',\n",
       " 'Spain',\n",
       " 'Sweden',\n",
       " 'United States of America']"
      ]
     },
     "execution_count": 116,
     "metadata": {},
     "output_type": "execute_result"
    }
   ],
   "source": [
    "paises_eu_america =  pd.read_csv('./eu_america.csv')\n",
    "lista_paises_eu_america = paises_eu_america['EU_North_America'].to_list()\n",
    "lista_paises_eu_america"
   ]
  },
  {
   "cell_type": "code",
   "execution_count": 118,
   "id": "e62cd8d7",
   "metadata": {},
   "outputs": [
    {
     "data": {
      "text/html": [
       "<div>\n",
       "<style scoped>\n",
       "    .dataframe tbody tr th:only-of-type {\n",
       "        vertical-align: middle;\n",
       "    }\n",
       "\n",
       "    .dataframe tbody tr th {\n",
       "        vertical-align: top;\n",
       "    }\n",
       "\n",
       "    .dataframe thead th {\n",
       "        text-align: right;\n",
       "    }\n",
       "</style>\n",
       "<table border=\"1\" class=\"dataframe\">\n",
       "  <thead>\n",
       "    <tr style=\"text-align: right;\">\n",
       "      <th></th>\n",
       "      <th>origin</th>\n",
       "      <th>coreness</th>\n",
       "      <th>idh_2008_2012</th>\n",
       "      <th>pop_cont</th>\n",
       "      <th>value</th>\n",
       "      <th>rejected</th>\n",
       "    </tr>\n",
       "  </thead>\n",
       "  <tbody>\n",
       "    <tr>\n",
       "      <th>0</th>\n",
       "      <td>Poland</td>\n",
       "      <td>1</td>\n",
       "      <td>0.8380</td>\n",
       "      <td>0</td>\n",
       "      <td>109.0</td>\n",
       "      <td>427.0</td>\n",
       "    </tr>\n",
       "    <tr>\n",
       "      <th>2</th>\n",
       "      <td>Slovenia</td>\n",
       "      <td>1</td>\n",
       "      <td>0.8870</td>\n",
       "      <td>0</td>\n",
       "      <td>8.0</td>\n",
       "      <td>24.0</td>\n",
       "    </tr>\n",
       "    <tr>\n",
       "      <th>6</th>\n",
       "      <td>United States of America</td>\n",
       "      <td>1</td>\n",
       "      <td>0.9156</td>\n",
       "      <td>0</td>\n",
       "      <td>50.0</td>\n",
       "      <td>2765.0</td>\n",
       "    </tr>\n",
       "    <tr>\n",
       "      <th>8</th>\n",
       "      <td>Sweden</td>\n",
       "      <td>1</td>\n",
       "      <td>0.9098</td>\n",
       "      <td>0</td>\n",
       "      <td>9.0</td>\n",
       "      <td>43.0</td>\n",
       "    </tr>\n",
       "    <tr>\n",
       "      <th>10</th>\n",
       "      <td>Slovakia</td>\n",
       "      <td>1</td>\n",
       "      <td>0.8320</td>\n",
       "      <td>0</td>\n",
       "      <td>35.0</td>\n",
       "      <td>1189.0</td>\n",
       "    </tr>\n",
       "    <tr>\n",
       "      <th>11</th>\n",
       "      <td>Estonia</td>\n",
       "      <td>1</td>\n",
       "      <td>0.8542</td>\n",
       "      <td>0</td>\n",
       "      <td>253.0</td>\n",
       "      <td>121.0</td>\n",
       "    </tr>\n",
       "    <tr>\n",
       "      <th>15</th>\n",
       "      <td>Latvia</td>\n",
       "      <td>1</td>\n",
       "      <td>0.8278</td>\n",
       "      <td>0</td>\n",
       "      <td>66.0</td>\n",
       "      <td>206.0</td>\n",
       "    </tr>\n",
       "    <tr>\n",
       "      <th>17</th>\n",
       "      <td>Bulgaria</td>\n",
       "      <td>1</td>\n",
       "      <td>0.7872</td>\n",
       "      <td>0</td>\n",
       "      <td>337.0</td>\n",
       "      <td>904.0</td>\n",
       "    </tr>\n",
       "    <tr>\n",
       "      <th>21</th>\n",
       "      <td>Malta</td>\n",
       "      <td>1</td>\n",
       "      <td>0.8490</td>\n",
       "      <td>0</td>\n",
       "      <td>0.0</td>\n",
       "      <td>7.0</td>\n",
       "    </tr>\n",
       "    <tr>\n",
       "      <th>22</th>\n",
       "      <td>Romania</td>\n",
       "      <td>1</td>\n",
       "      <td>0.8046</td>\n",
       "      <td>0</td>\n",
       "      <td>299.0</td>\n",
       "      <td>1020.0</td>\n",
       "    </tr>\n",
       "    <tr>\n",
       "      <th>28</th>\n",
       "      <td>Netherlands</td>\n",
       "      <td>1</td>\n",
       "      <td>0.9196</td>\n",
       "      <td>0</td>\n",
       "      <td>9.0</td>\n",
       "      <td>105.0</td>\n",
       "    </tr>\n",
       "    <tr>\n",
       "      <th>29</th>\n",
       "      <td>Lithuania</td>\n",
       "      <td>1</td>\n",
       "      <td>0.8352</td>\n",
       "      <td>0</td>\n",
       "      <td>33.0</td>\n",
       "      <td>203.0</td>\n",
       "    </tr>\n",
       "    <tr>\n",
       "      <th>30</th>\n",
       "      <td>Hungary</td>\n",
       "      <td>1</td>\n",
       "      <td>0.8280</td>\n",
       "      <td>0</td>\n",
       "      <td>675.0</td>\n",
       "      <td>3363.0</td>\n",
       "    </tr>\n",
       "    <tr>\n",
       "      <th>32</th>\n",
       "      <td>France</td>\n",
       "      <td>1</td>\n",
       "      <td>0.8794</td>\n",
       "      <td>0</td>\n",
       "      <td>14.0</td>\n",
       "      <td>139.0</td>\n",
       "    </tr>\n",
       "    <tr>\n",
       "      <th>36</th>\n",
       "      <td>Spain</td>\n",
       "      <td>1</td>\n",
       "      <td>0.8718</td>\n",
       "      <td>0</td>\n",
       "      <td>16.0</td>\n",
       "      <td>147.0</td>\n",
       "    </tr>\n",
       "    <tr>\n",
       "      <th>42</th>\n",
       "      <td>Italy</td>\n",
       "      <td>1</td>\n",
       "      <td>0.8792</td>\n",
       "      <td>0</td>\n",
       "      <td>19.0</td>\n",
       "      <td>147.0</td>\n",
       "    </tr>\n",
       "    <tr>\n",
       "      <th>43</th>\n",
       "      <td>Portugal</td>\n",
       "      <td>1</td>\n",
       "      <td>0.8276</td>\n",
       "      <td>0</td>\n",
       "      <td>6.0</td>\n",
       "      <td>211.0</td>\n",
       "    </tr>\n",
       "    <tr>\n",
       "      <th>46</th>\n",
       "      <td>Finland</td>\n",
       "      <td>1</td>\n",
       "      <td>0.9172</td>\n",
       "      <td>0</td>\n",
       "      <td>4.0</td>\n",
       "      <td>5.0</td>\n",
       "    </tr>\n",
       "    <tr>\n",
       "      <th>49</th>\n",
       "      <td>Greece</td>\n",
       "      <td>1</td>\n",
       "      <td>0.8648</td>\n",
       "      <td>0</td>\n",
       "      <td>10.0</td>\n",
       "      <td>96.0</td>\n",
       "    </tr>\n",
       "    <tr>\n",
       "      <th>56</th>\n",
       "      <td>Cyprus</td>\n",
       "      <td>1</td>\n",
       "      <td>0.8590</td>\n",
       "      <td>0</td>\n",
       "      <td>1.0</td>\n",
       "      <td>12.0</td>\n",
       "    </tr>\n",
       "    <tr>\n",
       "      <th>57</th>\n",
       "      <td>Czech Rep.</td>\n",
       "      <td>1</td>\n",
       "      <td>0.8694</td>\n",
       "      <td>1</td>\n",
       "      <td>291.0</td>\n",
       "      <td>1372.0</td>\n",
       "    </tr>\n",
       "    <tr>\n",
       "      <th>59</th>\n",
       "      <td>Luxembourg</td>\n",
       "      <td>1</td>\n",
       "      <td>0.8960</td>\n",
       "      <td>0</td>\n",
       "      <td>0.0</td>\n",
       "      <td>1.0</td>\n",
       "    </tr>\n",
       "    <tr>\n",
       "      <th>60</th>\n",
       "      <td>Canada</td>\n",
       "      <td>1</td>\n",
       "      <td>0.9012</td>\n",
       "      <td>0</td>\n",
       "      <td>38.0</td>\n",
       "      <td>110.0</td>\n",
       "    </tr>\n",
       "    <tr>\n",
       "      <th>65</th>\n",
       "      <td>Belgium</td>\n",
       "      <td>1</td>\n",
       "      <td>0.9094</td>\n",
       "      <td>0</td>\n",
       "      <td>31.0</td>\n",
       "      <td>47.0</td>\n",
       "    </tr>\n",
       "    <tr>\n",
       "      <th>70</th>\n",
       "      <td>Ireland</td>\n",
       "      <td>1</td>\n",
       "      <td>0.9056</td>\n",
       "      <td>0</td>\n",
       "      <td>1.0</td>\n",
       "      <td>24.0</td>\n",
       "    </tr>\n",
       "    <tr>\n",
       "      <th>73</th>\n",
       "      <td>Denmark</td>\n",
       "      <td>1</td>\n",
       "      <td>0.9218</td>\n",
       "      <td>0</td>\n",
       "      <td>0.0</td>\n",
       "      <td>22.0</td>\n",
       "    </tr>\n",
       "    <tr>\n",
       "      <th>80</th>\n",
       "      <td>Austria</td>\n",
       "      <td>1</td>\n",
       "      <td>0.9012</td>\n",
       "      <td>0</td>\n",
       "      <td>1.0</td>\n",
       "      <td>13.0</td>\n",
       "    </tr>\n",
       "    <tr>\n",
       "      <th>82</th>\n",
       "      <td>Germany</td>\n",
       "      <td>1</td>\n",
       "      <td>0.9284</td>\n",
       "      <td>0</td>\n",
       "      <td>31.0</td>\n",
       "      <td>223.0</td>\n",
       "    </tr>\n",
       "  </tbody>\n",
       "</table>\n",
       "</div>"
      ],
      "text/plain": [
       "                      origin  coreness  idh_2008_2012  pop_cont  value  \\\n",
       "0                     Poland         1         0.8380         0  109.0   \n",
       "2                   Slovenia         1         0.8870         0    8.0   \n",
       "6   United States of America         1         0.9156         0   50.0   \n",
       "8                     Sweden         1         0.9098         0    9.0   \n",
       "10                  Slovakia         1         0.8320         0   35.0   \n",
       "11                   Estonia         1         0.8542         0  253.0   \n",
       "15                    Latvia         1         0.8278         0   66.0   \n",
       "17                  Bulgaria         1         0.7872         0  337.0   \n",
       "21                     Malta         1         0.8490         0    0.0   \n",
       "22                   Romania         1         0.8046         0  299.0   \n",
       "28               Netherlands         1         0.9196         0    9.0   \n",
       "29                 Lithuania         1         0.8352         0   33.0   \n",
       "30                   Hungary         1         0.8280         0  675.0   \n",
       "32                    France         1         0.8794         0   14.0   \n",
       "36                     Spain         1         0.8718         0   16.0   \n",
       "42                     Italy         1         0.8792         0   19.0   \n",
       "43                  Portugal         1         0.8276         0    6.0   \n",
       "46                   Finland         1         0.9172         0    4.0   \n",
       "49                    Greece         1         0.8648         0   10.0   \n",
       "56                    Cyprus         1         0.8590         0    1.0   \n",
       "57                Czech Rep.         1         0.8694         1  291.0   \n",
       "59                Luxembourg         1         0.8960         0    0.0   \n",
       "60                    Canada         1         0.9012         0   38.0   \n",
       "65                   Belgium         1         0.9094         0   31.0   \n",
       "70                   Ireland         1         0.9056         0    1.0   \n",
       "73                   Denmark         1         0.9218         0    0.0   \n",
       "80                   Austria         1         0.9012         0    1.0   \n",
       "82                   Germany         1         0.9284         0   31.0   \n",
       "\n",
       "    rejected  \n",
       "0      427.0  \n",
       "2       24.0  \n",
       "6     2765.0  \n",
       "8       43.0  \n",
       "10    1189.0  \n",
       "11     121.0  \n",
       "15     206.0  \n",
       "17     904.0  \n",
       "21       7.0  \n",
       "22    1020.0  \n",
       "28     105.0  \n",
       "29     203.0  \n",
       "30    3363.0  \n",
       "32     139.0  \n",
       "36     147.0  \n",
       "42     147.0  \n",
       "43     211.0  \n",
       "46       5.0  \n",
       "49      96.0  \n",
       "56      12.0  \n",
       "57    1372.0  \n",
       "59       1.0  \n",
       "60     110.0  \n",
       "65      47.0  \n",
       "70      24.0  \n",
       "73      22.0  \n",
       "80      13.0  \n",
       "82     223.0  "
      ]
     },
     "execution_count": 118,
     "metadata": {},
     "output_type": "execute_result"
    }
   ],
   "source": [
    "df_filtrado_idh_2008_2012 = df_intermediario[(df_intermediario['origin'].isin(lista_paises_eu_america))]\n",
    "df_filtrado_idh_2008_2012"
   ]
  },
  {
   "cell_type": "code",
   "execution_count": null,
   "id": "bff31411",
   "metadata": {},
   "outputs": [],
   "source": [
    "#df_filtrado_idh_2008_2012 =  df_intermediario[(df_intermediario['idh_2008_2012'] > 0.7)]\n",
    "#df_filtrado_idh_2008_2012"
   ]
  },
  {
   "cell_type": "code",
   "execution_count": 119,
   "id": "60ee6a67",
   "metadata": {},
   "outputs": [
    {
     "data": {
      "text/html": [
       "<table class=\"simpletable\">\n",
       "<caption>OLS Regression Results</caption>\n",
       "<tr>\n",
       "  <th>Dep. Variable:</th>     <td>np.log1p(value)</td> <th>  R-squared:         </th> <td>   0.344</td>\n",
       "</tr>\n",
       "<tr>\n",
       "  <th>Model:</th>                   <td>OLS</td>       <th>  Adj. R-squared:    </th> <td>   0.291</td>\n",
       "</tr>\n",
       "<tr>\n",
       "  <th>Method:</th>             <td>Least Squares</td>  <th>  F-statistic:       </th> <td>   6.549</td>\n",
       "</tr>\n",
       "<tr>\n",
       "  <th>Date:</th>             <td>Mon, 14 Nov 2022</td> <th>  Prob (F-statistic):</th>  <td>0.00516</td>\n",
       "</tr>\n",
       "<tr>\n",
       "  <th>Time:</th>                 <td>13:41:32</td>     <th>  Log-Likelihood:    </th> <td> -51.086</td>\n",
       "</tr>\n",
       "<tr>\n",
       "  <th>No. Observations:</th>      <td>    28</td>      <th>  AIC:               </th> <td>   108.2</td>\n",
       "</tr>\n",
       "<tr>\n",
       "  <th>Df Residuals:</th>          <td>    25</td>      <th>  BIC:               </th> <td>   112.2</td>\n",
       "</tr>\n",
       "<tr>\n",
       "  <th>Df Model:</th>              <td>     2</td>      <th>                     </th>     <td> </td>   \n",
       "</tr>\n",
       "<tr>\n",
       "  <th>Covariance Type:</th>      <td>nonrobust</td>    <th>                     </th>     <td> </td>   \n",
       "</tr>\n",
       "</table>\n",
       "<table class=\"simpletable\">\n",
       "<tr>\n",
       "        <td></td>           <th>coef</th>     <th>std err</th>      <th>t</th>      <th>P>|t|</th>  <th>[0.025</th>    <th>0.975]</th>  \n",
       "</tr>\n",
       "<tr>\n",
       "  <th>Intercept</th>     <td>   12.2665</td> <td>    3.414</td> <td>    3.593</td> <td> 0.001</td> <td>    5.235</td> <td>   19.298</td>\n",
       "</tr>\n",
       "<tr>\n",
       "  <th>idh_2008_2012</th> <td>  -24.8358</td> <td>    7.821</td> <td>   -3.176</td> <td> 0.004</td> <td>  -40.943</td> <td>   -8.729</td>\n",
       "</tr>\n",
       "<tr>\n",
       "  <th>coreness</th>      <td>   12.2665</td> <td>    3.414</td> <td>    3.593</td> <td> 0.001</td> <td>    5.235</td> <td>   19.298</td>\n",
       "</tr>\n",
       "<tr>\n",
       "  <th>pop_cont</th>      <td>    2.7359</td> <td>    1.617</td> <td>    1.692</td> <td> 0.103</td> <td>   -0.594</td> <td>    6.066</td>\n",
       "</tr>\n",
       "</table>\n",
       "<table class=\"simpletable\">\n",
       "<tr>\n",
       "  <th>Omnibus:</th>       <td> 0.771</td> <th>  Durbin-Watson:     </th> <td>   2.152</td>\n",
       "</tr>\n",
       "<tr>\n",
       "  <th>Prob(Omnibus):</th> <td> 0.680</td> <th>  Jarque-Bera (JB):  </th> <td>   0.801</td>\n",
       "</tr>\n",
       "<tr>\n",
       "  <th>Skew:</th>          <td>-0.337</td> <th>  Prob(JB):          </th> <td>   0.670</td>\n",
       "</tr>\n",
       "<tr>\n",
       "  <th>Kurtosis:</th>      <td> 2.517</td> <th>  Cond. No.          </th> <td>1.44e+16</td>\n",
       "</tr>\n",
       "</table><br/><br/>Notes:<br/>[1] Standard Errors assume that the covariance matrix of the errors is correctly specified.<br/>[2] The smallest eigenvalue is 3.71e-31. This might indicate that there are<br/>strong multicollinearity problems or that the design matrix is singular."
      ],
      "text/plain": [
       "<class 'statsmodels.iolib.summary.Summary'>\n",
       "\"\"\"\n",
       "                            OLS Regression Results                            \n",
       "==============================================================================\n",
       "Dep. Variable:        np.log1p(value)   R-squared:                       0.344\n",
       "Model:                            OLS   Adj. R-squared:                  0.291\n",
       "Method:                 Least Squares   F-statistic:                     6.549\n",
       "Date:                Mon, 14 Nov 2022   Prob (F-statistic):            0.00516\n",
       "Time:                        13:41:32   Log-Likelihood:                -51.086\n",
       "No. Observations:                  28   AIC:                             108.2\n",
       "Df Residuals:                      25   BIC:                             112.2\n",
       "Df Model:                           2                                         \n",
       "Covariance Type:            nonrobust                                         \n",
       "=================================================================================\n",
       "                    coef    std err          t      P>|t|      [0.025      0.975]\n",
       "---------------------------------------------------------------------------------\n",
       "Intercept        12.2665      3.414      3.593      0.001       5.235      19.298\n",
       "idh_2008_2012   -24.8358      7.821     -3.176      0.004     -40.943      -8.729\n",
       "coreness         12.2665      3.414      3.593      0.001       5.235      19.298\n",
       "pop_cont          2.7359      1.617      1.692      0.103      -0.594       6.066\n",
       "==============================================================================\n",
       "Omnibus:                        0.771   Durbin-Watson:                   2.152\n",
       "Prob(Omnibus):                  0.680   Jarque-Bera (JB):                0.801\n",
       "Skew:                          -0.337   Prob(JB):                        0.670\n",
       "Kurtosis:                       2.517   Cond. No.                     1.44e+16\n",
       "==============================================================================\n",
       "\n",
       "Notes:\n",
       "[1] Standard Errors assume that the covariance matrix of the errors is correctly specified.\n",
       "[2] The smallest eigenvalue is 3.71e-31. This might indicate that there are\n",
       "strong multicollinearity problems or that the design matrix is singular.\n",
       "\"\"\""
      ]
     },
     "execution_count": 119,
     "metadata": {},
     "output_type": "execute_result"
    }
   ],
   "source": [
    "result_hip4 = reg.linear(data=df_filtrado_idh_2008_2012, formula='np.log1p(value) ~ idh_2008_2012 + coreness + pop_cont')\n",
    "result_hip4.summary()"
   ]
  },
  {
   "cell_type": "code",
   "execution_count": 120,
   "id": "82d4cf2d",
   "metadata": {},
   "outputs": [
    {
     "data": {
      "text/html": [
       "<style type=\"text/css\">\n",
       "#T_3829e_row0_col0, #T_3829e_row1_col0, #T_3829e_row2_col0 {\n",
       "  font-family: monospace;\n",
       "  text-align: left;\n",
       "}\n",
       "</style>\n",
       "<table id=\"T_3829e\">\n",
       "  <thead>\n",
       "  </thead>\n",
       "  <tbody>\n",
       "    <tr>\n",
       "      <td id=\"T_3829e_row0_col0\" class=\"data row0 col0\" >-24.836 (7.821) ***</td>\n",
       "    </tr>\n",
       "    <tr>\n",
       "      <td id=\"T_3829e_row1_col0\" class=\"data row1 col0\" >+12.267 (3.414) ***</td>\n",
       "    </tr>\n",
       "    <tr>\n",
       "      <td id=\"T_3829e_row2_col0\" class=\"data row2 col0\" >+02.736 (1.617)</td>\n",
       "    </tr>\n",
       "  </tbody>\n",
       "</table>\n"
      ],
      "text/plain": [
       "<pandas.io.formats.style.Styler at 0x7f47b428cf70>"
      ]
     },
     "execution_count": 120,
     "metadata": {},
     "output_type": "execute_result"
    }
   ],
   "source": [
    "result_hip4.nano_summary()"
   ]
  },
  {
   "cell_type": "code",
   "execution_count": 121,
   "id": "7bf36e6d",
   "metadata": {},
   "outputs": [
    {
     "data": {
      "image/png": "[encoded data removed]",
      "text/plain": [
       "<Figure size 1280x480 with 2 Axes>"
      ]
     },
     "metadata": {},
     "output_type": "display_data"
    }
   ],
   "source": [
    "result_hip4.plot_residuals()"
   ]
  },
  {
   "cell_type": "markdown",
   "id": "70798645",
   "metadata": {},
   "source": [
    "\n",
    "## Hipótese 3: Localização tem relação com intermediação\n",
    "\n",
    "### G : BW: GEO"
   ]
  },
  {
   "cell_type": "markdown",
   "id": "e00a883f",
   "metadata": {},
   "source": [
    "2001 - 2003 e países da UE e da América anglo-saxônica"
   ]
  },
  {
   "cell_type": "code",
   "execution_count": 125,
   "id": "bef7fa3b",
   "metadata": {},
   "outputs": [
    {
     "data": {
      "text/html": [
       "<div>\n",
       "<style scoped>\n",
       "    .dataframe tbody tr th:only-of-type {\n",
       "        vertical-align: middle;\n",
       "    }\n",
       "\n",
       "    .dataframe tbody tr th {\n",
       "        vertical-align: top;\n",
       "    }\n",
       "\n",
       "    .dataframe thead th {\n",
       "        text-align: right;\n",
       "    }\n",
       "</style>\n",
       "<table border=\"1\" class=\"dataframe\">\n",
       "  <thead>\n",
       "    <tr style=\"text-align: right;\">\n",
       "      <th></th>\n",
       "      <th>origin</th>\n",
       "      <th>destiny</th>\n",
       "      <th>value</th>\n",
       "      <th>rejected</th>\n",
       "    </tr>\n",
       "  </thead>\n",
       "  <tbody>\n",
       "    <tr>\n",
       "      <th>0</th>\n",
       "      <td>Afghanistan</td>\n",
       "      <td>Angola</td>\n",
       "      <td>0</td>\n",
       "      <td>2</td>\n",
       "    </tr>\n",
       "    <tr>\n",
       "      <th>1</th>\n",
       "      <td>Afghanistan</td>\n",
       "      <td>Argentina</td>\n",
       "      <td>0</td>\n",
       "      <td>0</td>\n",
       "    </tr>\n",
       "    <tr>\n",
       "      <th>2</th>\n",
       "      <td>Afghanistan</td>\n",
       "      <td>Armenia</td>\n",
       "      <td>0</td>\n",
       "      <td>4</td>\n",
       "    </tr>\n",
       "    <tr>\n",
       "      <th>3</th>\n",
       "      <td>Afghanistan</td>\n",
       "      <td>Australia</td>\n",
       "      <td>2192</td>\n",
       "      <td>757</td>\n",
       "    </tr>\n",
       "    <tr>\n",
       "      <th>4</th>\n",
       "      <td>Afghanistan</td>\n",
       "      <td>Austria</td>\n",
       "      <td>1034</td>\n",
       "      <td>811</td>\n",
       "    </tr>\n",
       "    <tr>\n",
       "      <th>...</th>\n",
       "      <td>...</td>\n",
       "      <td>...</td>\n",
       "      <td>...</td>\n",
       "      <td>...</td>\n",
       "    </tr>\n",
       "    <tr>\n",
       "      <th>5845</th>\n",
       "      <td>Zimbabwe</td>\n",
       "      <td>Switzerland</td>\n",
       "      <td>0</td>\n",
       "      <td>17</td>\n",
       "    </tr>\n",
       "    <tr>\n",
       "      <th>5846</th>\n",
       "      <td>Zimbabwe</td>\n",
       "      <td>Thailand</td>\n",
       "      <td>0</td>\n",
       "      <td>0</td>\n",
       "    </tr>\n",
       "    <tr>\n",
       "      <th>5847</th>\n",
       "      <td>Zimbabwe</td>\n",
       "      <td>Ukraine</td>\n",
       "      <td>0</td>\n",
       "      <td>3</td>\n",
       "    </tr>\n",
       "    <tr>\n",
       "      <th>5848</th>\n",
       "      <td>Zimbabwe</td>\n",
       "      <td>United Kingdom</td>\n",
       "      <td>5490</td>\n",
       "      <td>12256</td>\n",
       "    </tr>\n",
       "    <tr>\n",
       "      <th>5849</th>\n",
       "      <td>Zimbabwe</td>\n",
       "      <td>United States of America</td>\n",
       "      <td>266</td>\n",
       "      <td>363</td>\n",
       "    </tr>\n",
       "  </tbody>\n",
       "</table>\n",
       "<p>5850 rows × 4 columns</p>\n",
       "</div>"
      ],
      "text/plain": [
       "           origin                   destiny  value  rejected\n",
       "0     Afghanistan                    Angola      0         2\n",
       "1     Afghanistan                 Argentina      0         0\n",
       "2     Afghanistan                   Armenia      0         4\n",
       "3     Afghanistan                 Australia   2192       757\n",
       "4     Afghanistan                   Austria   1034       811\n",
       "...           ...                       ...    ...       ...\n",
       "5845     Zimbabwe               Switzerland      0        17\n",
       "5846     Zimbabwe                  Thailand      0         0\n",
       "5847     Zimbabwe                   Ukraine      0         3\n",
       "5848     Zimbabwe            United Kingdom   5490     12256\n",
       "5849     Zimbabwe  United States of America    266       363\n",
       "\n",
       "[5850 rows x 4 columns]"
      ]
     },
     "execution_count": 125,
     "metadata": {},
     "output_type": "execute_result"
    }
   ],
   "source": [
    "df_aresta_2001_2003"
   ]
  },
  {
   "cell_type": "code",
   "execution_count": 126,
   "id": "43b36ddb",
   "metadata": {},
   "outputs": [],
   "source": [
    "g3 =  gt_load('/grafo_2001_2003.net.gz')"
   ]
  },
  {
   "cell_type": "code",
   "execution_count": 127,
   "id": "d631b46a",
   "metadata": {},
   "outputs": [],
   "source": [
    "m = gt_draw.sfdp_layout(g3)\n",
    "gt_move(g3, m)\n",
    "gt_save(g3, 'grafo_2001_2003.net.gz')"
   ]
  },
  {
   "cell_type": "code",
   "execution_count": 128,
   "id": "e1f091e1",
   "metadata": {},
   "outputs": [
    {
     "data": {
      "text/html": [
       "\n",
       "        <div id=\"M24zh2rr7xLa5etz95tLE3\"></div>\n",
       "        <script>netpixi.render('M24zh2rr7xLa5etz95tLE3', 'grafo_2001_2003.net.gz', 1.7777777777777777, true, true, false);</script>\n",
       "    "
      ],
      "text/plain": [
       "<IPython.core.display.HTML object>"
      ]
     },
     "metadata": {},
     "output_type": "display_data"
    }
   ],
   "source": [
    "r3 = netpixi.render('grafo_2001_2003.net.gz', infinite=True);"
   ]
  },
  {
   "cell_type": "code",
   "execution_count": 129,
   "id": "22e924d8",
   "metadata": {},
   "outputs": [
    {
     "data": {
      "text/html": [
       "\n",
       "        <div id=\"R8goCqrAkgoPZCSeckj8Uc\"></div>\n",
       "        <script>netpixi.call('R8goCqrAkgoPZCSeckj8Uc', 'M24zh2rr7xLa5etz95tLE3', 'setGraph', 'eyJ0eXBlIjogInZlcnRleCIsICJwcm9wcyI6IHsic3JjIjogIm5vbWUiLCAiZHN0IjogIl9rZXkifX0K');</script>\n",
       "    "
      ],
      "text/plain": [
       "<IPython.core.display.HTML object>"
      ]
     },
     "metadata": {},
     "output_type": "display_data"
    },
    {
     "data": {
      "text/html": [
       "\n",
       "        <div id=\"kiEazyqwZVohLWG7SUBgSZ\"></div>\n",
       "        <script>netpixi.call('kiEazyqwZVohLWG7SUBgSZ', 'M24zh2rr7xLa5etz95tLE3', 'changeGraph', 'eyJ0eXBlIjogInNldHRpbmdzIiwgInByb3BzIjogeyJ2ZXJ0ZXgiOiB7ImNvbG9yIjogMTY3NzcyMTV9fX0K');</script>\n",
       "    "
      ],
      "text/plain": [
       "<IPython.core.display.HTML object>"
      ]
     },
     "metadata": {},
     "output_type": "display_data"
    },
    {
     "data": {
      "text/html": [
       "\n",
       "        <div id=\"VChGzjTcDSJrJYtMWEfiwZ\"></div>\n",
       "        <script>netpixi.call('VChGzjTcDSJrJYtMWEfiwZ', 'M24zh2rr7xLa5etz95tLE3', 'changeGraph', 'eyJ0eXBlIjogInNldHRpbmdzIiwgInByb3BzIjogeyJlZGdlIjogeyJjb2xvciI6IDIxNDI4OTB9fX0K');</script>\n",
       "    "
      ],
      "text/plain": [
       "<IPython.core.display.HTML object>"
      ]
     },
     "metadata": {},
     "output_type": "display_data"
    },
    {
     "data": {
      "text/html": [
       "\n",
       "        <div id=\"UMqmr23ieHSC9PJbcG4tPM\"></div>\n",
       "        <script>netpixi.call('UMqmr23ieHSC9PJbcG4tPM', 'M24zh2rr7xLa5etz95tLE3', 'normalizeGraph', 'eyJ0eXBlIjogImVkZ2UiLCAicHJvcHMiOiB7InNyYyI6ICJhY2VpdG9zIiwgIm1pbiI6IDEsICJtYXgiOiAxMH19Cg==');</script>\n",
       "    "
      ],
      "text/plain": [
       "<IPython.core.display.HTML object>"
      ]
     },
     "metadata": {},
     "output_type": "display_data"
    }
   ],
   "source": [
    "r3.vertex_set_key('nome')\n",
    "\n",
    "r3.vertex_default(color=0xffffff)\n",
    "\n",
    "# mudar a cor, a espessura e a curvatura das arestas\n",
    "r3.edge_default(color=0x20B2AA)\n",
    "\n",
    "r3.edge_scale('aceitos', 1, 10)"
   ]
  },
  {
   "cell_type": "code",
   "execution_count": 130,
   "id": "9cfe0f9b",
   "metadata": {},
   "outputs": [],
   "source": [
    "bc_completo, _ = centrality.betweenness(g3)\n",
    "g3.add_vp('betweenness', bc_completo)"
   ]
  },
  {
   "cell_type": "code",
   "execution_count": 131,
   "id": "739fa402",
   "metadata": {},
   "outputs": [
    {
     "data": {
      "text/html": [
       "<div>\n",
       "<style scoped>\n",
       "    .dataframe tbody tr th:only-of-type {\n",
       "        vertical-align: middle;\n",
       "    }\n",
       "\n",
       "    .dataframe tbody tr th {\n",
       "        vertical-align: top;\n",
       "    }\n",
       "\n",
       "    .dataframe thead th {\n",
       "        text-align: right;\n",
       "    }\n",
       "</style>\n",
       "<table border=\"1\" class=\"dataframe\">\n",
       "  <thead>\n",
       "    <tr style=\"text-align: right;\">\n",
       "      <th></th>\n",
       "      <th>nome</th>\n",
       "      <th>betweenness</th>\n",
       "    </tr>\n",
       "    <tr>\n",
       "      <th>id</th>\n",
       "      <th></th>\n",
       "      <th></th>\n",
       "    </tr>\n",
       "  </thead>\n",
       "  <tbody>\n",
       "    <tr>\n",
       "      <th>United States of America</th>\n",
       "      <td>United States of America</td>\n",
       "      <td>0.105584</td>\n",
       "    </tr>\n",
       "    <tr>\n",
       "      <th>China</th>\n",
       "      <td>China</td>\n",
       "      <td>0.073186</td>\n",
       "    </tr>\n",
       "    <tr>\n",
       "      <th>Kenya</th>\n",
       "      <td>Kenya</td>\n",
       "      <td>0.035235</td>\n",
       "    </tr>\n",
       "    <tr>\n",
       "      <th>Australia</th>\n",
       "      <td>Australia</td>\n",
       "      <td>0.033659</td>\n",
       "    </tr>\n",
       "    <tr>\n",
       "      <th>Spain</th>\n",
       "      <td>Spain</td>\n",
       "      <td>0.027726</td>\n",
       "    </tr>\n",
       "    <tr>\n",
       "      <th>...</th>\n",
       "      <td>...</td>\n",
       "      <td>...</td>\n",
       "    </tr>\n",
       "    <tr>\n",
       "      <th>Tonga</th>\n",
       "      <td>Tonga</td>\n",
       "      <td>0.000000</td>\n",
       "    </tr>\n",
       "    <tr>\n",
       "      <th>Holy See (the)</th>\n",
       "      <td>Holy See (the)</td>\n",
       "      <td>0.000000</td>\n",
       "    </tr>\n",
       "    <tr>\n",
       "      <th>Grenada</th>\n",
       "      <td>Grenada</td>\n",
       "      <td>0.000000</td>\n",
       "    </tr>\n",
       "    <tr>\n",
       "      <th>Nauru</th>\n",
       "      <td>Nauru</td>\n",
       "      <td>0.000000</td>\n",
       "    </tr>\n",
       "    <tr>\n",
       "      <th>Barbados</th>\n",
       "      <td>Barbados</td>\n",
       "      <td>0.000000</td>\n",
       "    </tr>\n",
       "  </tbody>\n",
       "</table>\n",
       "<p>225 rows × 2 columns</p>\n",
       "</div>"
      ],
      "text/plain": [
       "                                              nome  betweenness\n",
       "id                                                             \n",
       "United States of America  United States of America     0.105584\n",
       "China                                        China     0.073186\n",
       "Kenya                                        Kenya     0.035235\n",
       "Australia                                Australia     0.033659\n",
       "Spain                                        Spain     0.027726\n",
       "...                                            ...          ...\n",
       "Tonga                                        Tonga     0.000000\n",
       "Holy See (the)                      Holy See (the)     0.000000\n",
       "Grenada                                    Grenada     0.000000\n",
       "Nauru                                        Nauru     0.000000\n",
       "Barbados                                  Barbados     0.000000\n",
       "\n",
       "[225 rows x 2 columns]"
      ]
     },
     "execution_count": 131,
     "metadata": {},
     "output_type": "execute_result"
    }
   ],
   "source": [
    "df_betweenness_2001_2003 = gt_data(g3).sort_values(\"betweenness\", ascending = False)\n",
    "df_betweenness_2001_2003"
   ]
  },
  {
   "cell_type": "code",
   "execution_count": 132,
   "id": "40dc57e3",
   "metadata": {},
   "outputs": [],
   "source": [
    "m = gt_draw.sfdp_layout(g3)\n",
    "gt_move(g3, m)\n",
    "gt_save(g3, 'centralidadeBetweeness20012003.net.gz')"
   ]
  },
  {
   "cell_type": "code",
   "execution_count": 133,
   "id": "0ea2c896",
   "metadata": {},
   "outputs": [
    {
     "data": {
      "text/html": [
       "\n",
       "        <div id=\"f3BXJ3Yd96kAvjnD8a3c3A\"></div>\n",
       "        <script>netpixi.call('f3BXJ3Yd96kAvjnD8a3c3A', 'WTYRJsj4HGRjG4BeySs9Gy', 'normalizeGraph', 'eyJ0eXBlIjogInZlcnRleCIsICJwcm9wcyI6IHsic3JjIjogImJldHdlZW5uZXNzIiwgIm1pbiI6IDUsICJtYXgiOiAyNX19Cg==');</script>\n",
       "    "
      ],
      "text/plain": [
       "<IPython.core.display.HTML object>"
      ]
     },
     "metadata": {},
     "output_type": "display_data"
    }
   ],
   "source": [
    "r.vertex_scale('betweenness', 5, 25)"
   ]
  },
  {
   "cell_type": "code",
   "execution_count": 134,
   "id": "2a94d546",
   "metadata": {
    "scrolled": false
   },
   "outputs": [
    {
     "data": {
      "text/html": [
       "\n",
       "        <div id=\"JDx6mRN6nWaPdjWZvCpPMn\"></div>\n",
       "        <script>netpixi.render('JDx6mRN6nWaPdjWZvCpPMn', 'centralidadeBetweeness20012003.net.gz', 1.7777777777777777, true, true, false);</script>\n",
       "    "
      ],
      "text/plain": [
       "<IPython.core.display.HTML object>"
      ]
     },
     "metadata": {},
     "output_type": "display_data"
    }
   ],
   "source": [
    "r3 = netpixi.render('centralidadeBetweeness20012003.net.gz', infinite=True);"
   ]
  },
  {
   "cell_type": "code",
   "execution_count": 135,
   "id": "f8a17453",
   "metadata": {},
   "outputs": [
    {
     "data": {
      "text/html": [
       "\n",
       "        <div id=\"2xUPoWwruCtdMmrZ5Q3sFe\"></div>\n",
       "        <script>netpixi.call('2xUPoWwruCtdMmrZ5Q3sFe', 'JDx6mRN6nWaPdjWZvCpPMn', 'normalizeGraph', 'eyJ0eXBlIjogImVkZ2UiLCAicHJvcHMiOiB7InNyYyI6ICJhY2VpdG9zIiwgIm1pbiI6IDEsICJtYXgiOiAxMH19Cg==');</script>\n",
       "    "
      ],
      "text/plain": [
       "<IPython.core.display.HTML object>"
      ]
     },
     "metadata": {},
     "output_type": "display_data"
    },
    {
     "data": {
      "text/html": [
       "\n",
       "        <div id=\"Yyzufs7gk4ti42wB6YaVqE\"></div>\n",
       "        <script>netpixi.call('Yyzufs7gk4ti42wB6YaVqE', 'JDx6mRN6nWaPdjWZvCpPMn', 'setGraph', 'eyJ0eXBlIjogInZlcnRleCIsICJwcm9wcyI6IHsic3JjIjogIm5vbWUiLCAiZHN0IjogIl9rZXkifX0K');</script>\n",
       "    "
      ],
      "text/plain": [
       "<IPython.core.display.HTML object>"
      ]
     },
     "metadata": {},
     "output_type": "display_data"
    },
    {
     "data": {
      "text/html": [
       "\n",
       "        <div id=\"nE4XHYV4hsMDyuPEpRBBpr\"></div>\n",
       "        <script>netpixi.call('nE4XHYV4hsMDyuPEpRBBpr', 'JDx6mRN6nWaPdjWZvCpPMn', 'normalizeGraph', 'eyJ0eXBlIjogInZlcnRleCIsICJwcm9wcyI6IHsic3JjIjogImJldHdlZW5uZXNzIiwgIm1pbiI6IDUsICJtYXgiOiAyNX19Cg==');</script>\n",
       "    "
      ],
      "text/plain": [
       "<IPython.core.display.HTML object>"
      ]
     },
     "metadata": {},
     "output_type": "display_data"
    }
   ],
   "source": [
    "r3.edge_scale('aceitos', 1, 10)\n",
    "\n",
    "r3.vertex_set_key('nome')\n",
    "\n",
    "r3.vertex_scale('betweenness', 5, 25)"
   ]
  },
  {
   "cell_type": "code",
   "execution_count": 136,
   "id": "be16674a",
   "metadata": {},
   "outputs": [
    {
     "data": {
      "text/html": [
       "<div>\n",
       "<style scoped>\n",
       "    .dataframe tbody tr th:only-of-type {\n",
       "        vertical-align: middle;\n",
       "    }\n",
       "\n",
       "    .dataframe tbody tr th {\n",
       "        vertical-align: top;\n",
       "    }\n",
       "\n",
       "    .dataframe thead th {\n",
       "        text-align: right;\n",
       "    }\n",
       "</style>\n",
       "<table border=\"1\" class=\"dataframe\">\n",
       "  <thead>\n",
       "    <tr style=\"text-align: right;\">\n",
       "      <th></th>\n",
       "      <th>idh_2001_2003</th>\n",
       "      <th>country</th>\n",
       "      <th>n_neightbours</th>\n",
       "    </tr>\n",
       "  </thead>\n",
       "  <tbody>\n",
       "    <tr>\n",
       "      <th>0</th>\n",
       "      <td>0.845667</td>\n",
       "      <td>China, Hong Kong SAR</td>\n",
       "      <td>1</td>\n",
       "    </tr>\n",
       "    <tr>\n",
       "      <th>1</th>\n",
       "      <td>0.922000</td>\n",
       "      <td>China, Macao SAR</td>\n",
       "      <td>1</td>\n",
       "    </tr>\n",
       "    <tr>\n",
       "      <th>2</th>\n",
       "      <td>0.376667</td>\n",
       "      <td>Afghanistan</td>\n",
       "      <td>6</td>\n",
       "    </tr>\n",
       "    <tr>\n",
       "      <th>3</th>\n",
       "      <td>0.684333</td>\n",
       "      <td>Albania</td>\n",
       "      <td>4</td>\n",
       "    </tr>\n",
       "    <tr>\n",
       "      <th>4</th>\n",
       "      <td>0.657000</td>\n",
       "      <td>Algeria</td>\n",
       "      <td>7</td>\n",
       "    </tr>\n",
       "    <tr>\n",
       "      <th>...</th>\n",
       "      <td>...</td>\n",
       "      <td>...</td>\n",
       "      <td>...</td>\n",
       "    </tr>\n",
       "    <tr>\n",
       "      <th>220</th>\n",
       "      <td>0.763000</td>\n",
       "      <td>Wallis and Futuna Islands</td>\n",
       "      <td>0</td>\n",
       "    </tr>\n",
       "    <tr>\n",
       "      <th>221</th>\n",
       "      <td>0.000000</td>\n",
       "      <td>Western Sahara</td>\n",
       "      <td>3</td>\n",
       "    </tr>\n",
       "    <tr>\n",
       "      <th>222</th>\n",
       "      <td>0.461333</td>\n",
       "      <td>Yemen</td>\n",
       "      <td>2</td>\n",
       "    </tr>\n",
       "    <tr>\n",
       "      <th>223</th>\n",
       "      <td>0.441333</td>\n",
       "      <td>Zambia</td>\n",
       "      <td>8</td>\n",
       "    </tr>\n",
       "    <tr>\n",
       "      <th>224</th>\n",
       "      <td>0.422667</td>\n",
       "      <td>Zimbabwe</td>\n",
       "      <td>4</td>\n",
       "    </tr>\n",
       "  </tbody>\n",
       "</table>\n",
       "<p>225 rows × 3 columns</p>\n",
       "</div>"
      ],
      "text/plain": [
       "     idh_2001_2003                     country  n_neightbours\n",
       "0         0.845667        China, Hong Kong SAR              1\n",
       "1         0.922000            China, Macao SAR              1\n",
       "2         0.376667                 Afghanistan              6\n",
       "3         0.684333                     Albania              4\n",
       "4         0.657000                     Algeria              7\n",
       "..             ...                         ...            ...\n",
       "220       0.763000  Wallis and Futuna Islands               0\n",
       "221       0.000000              Western Sahara              3\n",
       "222       0.461333                       Yemen              2\n",
       "223       0.441333                      Zambia              8\n",
       "224       0.422667                    Zimbabwe              4\n",
       "\n",
       "[225 rows x 3 columns]"
      ]
     },
     "execution_count": 136,
     "metadata": {},
     "output_type": "execute_result"
    }
   ],
   "source": [
    "data_idh_2001_2003 = data.loc[:, ['idh_2001_2003', 'country', 'n_neightbours']]\n",
    "data_idh_2001_2003"
   ]
  },
  {
   "cell_type": "code",
   "execution_count": 137,
   "id": "28b417df",
   "metadata": {},
   "outputs": [
    {
     "data": {
      "text/html": [
       "<div>\n",
       "<style scoped>\n",
       "    .dataframe tbody tr th:only-of-type {\n",
       "        vertical-align: middle;\n",
       "    }\n",
       "\n",
       "    .dataframe tbody tr th {\n",
       "        vertical-align: top;\n",
       "    }\n",
       "\n",
       "    .dataframe thead th {\n",
       "        text-align: right;\n",
       "    }\n",
       "</style>\n",
       "<table border=\"1\" class=\"dataframe\">\n",
       "  <thead>\n",
       "    <tr style=\"text-align: right;\">\n",
       "      <th></th>\n",
       "      <th>origin</th>\n",
       "      <th>betweenness</th>\n",
       "    </tr>\n",
       "    <tr>\n",
       "      <th>id</th>\n",
       "      <th></th>\n",
       "      <th></th>\n",
       "    </tr>\n",
       "  </thead>\n",
       "  <tbody>\n",
       "    <tr>\n",
       "      <th>United States of America</th>\n",
       "      <td>United States of America</td>\n",
       "      <td>0.105584</td>\n",
       "    </tr>\n",
       "    <tr>\n",
       "      <th>China</th>\n",
       "      <td>China</td>\n",
       "      <td>0.073186</td>\n",
       "    </tr>\n",
       "    <tr>\n",
       "      <th>Kenya</th>\n",
       "      <td>Kenya</td>\n",
       "      <td>0.035235</td>\n",
       "    </tr>\n",
       "    <tr>\n",
       "      <th>Australia</th>\n",
       "      <td>Australia</td>\n",
       "      <td>0.033659</td>\n",
       "    </tr>\n",
       "    <tr>\n",
       "      <th>Spain</th>\n",
       "      <td>Spain</td>\n",
       "      <td>0.027726</td>\n",
       "    </tr>\n",
       "    <tr>\n",
       "      <th>...</th>\n",
       "      <td>...</td>\n",
       "      <td>...</td>\n",
       "    </tr>\n",
       "    <tr>\n",
       "      <th>Tonga</th>\n",
       "      <td>Tonga</td>\n",
       "      <td>0.000000</td>\n",
       "    </tr>\n",
       "    <tr>\n",
       "      <th>Holy See (the)</th>\n",
       "      <td>Holy See (the)</td>\n",
       "      <td>0.000000</td>\n",
       "    </tr>\n",
       "    <tr>\n",
       "      <th>Grenada</th>\n",
       "      <td>Grenada</td>\n",
       "      <td>0.000000</td>\n",
       "    </tr>\n",
       "    <tr>\n",
       "      <th>Nauru</th>\n",
       "      <td>Nauru</td>\n",
       "      <td>0.000000</td>\n",
       "    </tr>\n",
       "    <tr>\n",
       "      <th>Barbados</th>\n",
       "      <td>Barbados</td>\n",
       "      <td>0.000000</td>\n",
       "    </tr>\n",
       "  </tbody>\n",
       "</table>\n",
       "<p>225 rows × 2 columns</p>\n",
       "</div>"
      ],
      "text/plain": [
       "                                            origin  betweenness\n",
       "id                                                             \n",
       "United States of America  United States of America     0.105584\n",
       "China                                        China     0.073186\n",
       "Kenya                                        Kenya     0.035235\n",
       "Australia                                Australia     0.033659\n",
       "Spain                                        Spain     0.027726\n",
       "...                                            ...          ...\n",
       "Tonga                                        Tonga     0.000000\n",
       "Holy See (the)                      Holy See (the)     0.000000\n",
       "Grenada                                    Grenada     0.000000\n",
       "Nauru                                        Nauru     0.000000\n",
       "Barbados                                  Barbados     0.000000\n",
       "\n",
       "[225 rows x 2 columns]"
      ]
     },
     "execution_count": 137,
     "metadata": {},
     "output_type": "execute_result"
    }
   ],
   "source": [
    "data_idh_2001_2003 = data_idh_2001_2003.rename(columns={'idh_2001_2003': 'idh_2001_2003', 'country': 'origin'})\n",
    "df_betweenness_2001_2003 = df_betweenness_2001_2003.rename(columns={'nome':'origin'})\n",
    "df_betweenness_2001_2003"
   ]
  },
  {
   "cell_type": "code",
   "execution_count": 138,
   "id": "3ffecf23",
   "metadata": {},
   "outputs": [
    {
     "data": {
      "text/html": [
       "<div>\n",
       "<style scoped>\n",
       "    .dataframe tbody tr th:only-of-type {\n",
       "        vertical-align: middle;\n",
       "    }\n",
       "\n",
       "    .dataframe tbody tr th {\n",
       "        vertical-align: top;\n",
       "    }\n",
       "\n",
       "    .dataframe thead th {\n",
       "        text-align: right;\n",
       "    }\n",
       "</style>\n",
       "<table border=\"1\" class=\"dataframe\">\n",
       "  <thead>\n",
       "    <tr style=\"text-align: right;\">\n",
       "      <th></th>\n",
       "      <th>origin</th>\n",
       "      <th>betweenness</th>\n",
       "      <th>idh_2001_2003</th>\n",
       "      <th>n_neightbours</th>\n",
       "    </tr>\n",
       "  </thead>\n",
       "  <tbody>\n",
       "    <tr>\n",
       "      <th>0</th>\n",
       "      <td>United States of America</td>\n",
       "      <td>0.105584</td>\n",
       "      <td>0.891333</td>\n",
       "      <td>2</td>\n",
       "    </tr>\n",
       "    <tr>\n",
       "      <th>1</th>\n",
       "      <td>China</td>\n",
       "      <td>0.073186</td>\n",
       "      <td>0.606667</td>\n",
       "      <td>16</td>\n",
       "    </tr>\n",
       "    <tr>\n",
       "      <th>2</th>\n",
       "      <td>Kenya</td>\n",
       "      <td>0.035235</td>\n",
       "      <td>0.469333</td>\n",
       "      <td>5</td>\n",
       "    </tr>\n",
       "    <tr>\n",
       "      <th>3</th>\n",
       "      <td>Australia</td>\n",
       "      <td>0.033659</td>\n",
       "      <td>0.907000</td>\n",
       "      <td>0</td>\n",
       "    </tr>\n",
       "    <tr>\n",
       "      <th>4</th>\n",
       "      <td>Spain</td>\n",
       "      <td>0.027726</td>\n",
       "      <td>0.837333</td>\n",
       "      <td>5</td>\n",
       "    </tr>\n",
       "    <tr>\n",
       "      <th>...</th>\n",
       "      <td>...</td>\n",
       "      <td>...</td>\n",
       "      <td>...</td>\n",
       "      <td>...</td>\n",
       "    </tr>\n",
       "    <tr>\n",
       "      <th>220</th>\n",
       "      <td>Tonga</td>\n",
       "      <td>0.000000</td>\n",
       "      <td>0.685333</td>\n",
       "      <td>0</td>\n",
       "    </tr>\n",
       "    <tr>\n",
       "      <th>221</th>\n",
       "      <td>Holy See (the)</td>\n",
       "      <td>0.000000</td>\n",
       "      <td>0.000000</td>\n",
       "      <td>1</td>\n",
       "    </tr>\n",
       "    <tr>\n",
       "      <th>222</th>\n",
       "      <td>Grenada</td>\n",
       "      <td>0.000000</td>\n",
       "      <td>0.483333</td>\n",
       "      <td>0</td>\n",
       "    </tr>\n",
       "    <tr>\n",
       "      <th>223</th>\n",
       "      <td>Nauru</td>\n",
       "      <td>0.000000</td>\n",
       "      <td>0.000000</td>\n",
       "      <td>0</td>\n",
       "    </tr>\n",
       "    <tr>\n",
       "      <th>224</th>\n",
       "      <td>Barbados</td>\n",
       "      <td>0.000000</td>\n",
       "      <td>0.774000</td>\n",
       "      <td>0</td>\n",
       "    </tr>\n",
       "  </tbody>\n",
       "</table>\n",
       "<p>225 rows × 4 columns</p>\n",
       "</div>"
      ],
      "text/plain": [
       "                       origin  betweenness  idh_2001_2003  n_neightbours\n",
       "0    United States of America     0.105584       0.891333              2\n",
       "1                       China     0.073186       0.606667             16\n",
       "2                       Kenya     0.035235       0.469333              5\n",
       "3                   Australia     0.033659       0.907000              0\n",
       "4                       Spain     0.027726       0.837333              5\n",
       "..                        ...          ...            ...            ...\n",
       "220                     Tonga     0.000000       0.685333              0\n",
       "221            Holy See (the)     0.000000       0.000000              1\n",
       "222                   Grenada     0.000000       0.483333              0\n",
       "223                     Nauru     0.000000       0.000000              0\n",
       "224                  Barbados     0.000000       0.774000              0\n",
       "\n",
       "[225 rows x 4 columns]"
      ]
     },
     "execution_count": 138,
     "metadata": {},
     "output_type": "execute_result"
    }
   ],
   "source": [
    "df_betweenness_2001_2003 = df_betweenness_2001_2003.merge(data_idh_2001_2003, on=\"origin\", how=\"left\")\n",
    "df_betweenness_2001_2003"
   ]
  },
  {
   "cell_type": "code",
   "execution_count": 139,
   "id": "3c110132",
   "metadata": {},
   "outputs": [
    {
     "data": {
      "text/html": [
       "<div>\n",
       "<style scoped>\n",
       "    .dataframe tbody tr th:only-of-type {\n",
       "        vertical-align: middle;\n",
       "    }\n",
       "\n",
       "    .dataframe tbody tr th {\n",
       "        vertical-align: top;\n",
       "    }\n",
       "\n",
       "    .dataframe thead th {\n",
       "        text-align: right;\n",
       "    }\n",
       "</style>\n",
       "<table border=\"1\" class=\"dataframe\">\n",
       "  <thead>\n",
       "    <tr style=\"text-align: right;\">\n",
       "      <th></th>\n",
       "      <th>origin</th>\n",
       "      <th>betweenness</th>\n",
       "      <th>idh_2001_2003</th>\n",
       "      <th>n_neightbours</th>\n",
       "    </tr>\n",
       "  </thead>\n",
       "  <tbody>\n",
       "    <tr>\n",
       "      <th>0</th>\n",
       "      <td>United States of America</td>\n",
       "      <td>0.105584</td>\n",
       "      <td>0.891333</td>\n",
       "      <td>2</td>\n",
       "    </tr>\n",
       "    <tr>\n",
       "      <th>4</th>\n",
       "      <td>Spain</td>\n",
       "      <td>0.027726</td>\n",
       "      <td>0.837333</td>\n",
       "      <td>5</td>\n",
       "    </tr>\n",
       "    <tr>\n",
       "      <th>8</th>\n",
       "      <td>Romania</td>\n",
       "      <td>0.020640</td>\n",
       "      <td>0.730667</td>\n",
       "      <td>5</td>\n",
       "    </tr>\n",
       "    <tr>\n",
       "      <th>17</th>\n",
       "      <td>Canada</td>\n",
       "      <td>0.012983</td>\n",
       "      <td>0.876667</td>\n",
       "      <td>1</td>\n",
       "    </tr>\n",
       "    <tr>\n",
       "      <th>20</th>\n",
       "      <td>Germany</td>\n",
       "      <td>0.010186</td>\n",
       "      <td>0.890000</td>\n",
       "      <td>9</td>\n",
       "    </tr>\n",
       "    <tr>\n",
       "      <th>25</th>\n",
       "      <td>Portugal</td>\n",
       "      <td>0.008837</td>\n",
       "      <td>0.800667</td>\n",
       "      <td>1</td>\n",
       "    </tr>\n",
       "    <tr>\n",
       "      <th>28</th>\n",
       "      <td>Lithuania</td>\n",
       "      <td>0.008325</td>\n",
       "      <td>0.785333</td>\n",
       "      <td>4</td>\n",
       "    </tr>\n",
       "    <tr>\n",
       "      <th>32</th>\n",
       "      <td>Bulgaria</td>\n",
       "      <td>0.007595</td>\n",
       "      <td>0.737000</td>\n",
       "      <td>5</td>\n",
       "    </tr>\n",
       "    <tr>\n",
       "      <th>33</th>\n",
       "      <td>Hungary</td>\n",
       "      <td>0.007172</td>\n",
       "      <td>0.788667</td>\n",
       "      <td>7</td>\n",
       "    </tr>\n",
       "    <tr>\n",
       "      <th>34</th>\n",
       "      <td>Netherlands</td>\n",
       "      <td>0.006945</td>\n",
       "      <td>0.887000</td>\n",
       "      <td>2</td>\n",
       "    </tr>\n",
       "    <tr>\n",
       "      <th>36</th>\n",
       "      <td>Sweden</td>\n",
       "      <td>0.006608</td>\n",
       "      <td>0.908667</td>\n",
       "      <td>2</td>\n",
       "    </tr>\n",
       "    <tr>\n",
       "      <th>38</th>\n",
       "      <td>Poland</td>\n",
       "      <td>0.006322</td>\n",
       "      <td>0.803000</td>\n",
       "      <td>7</td>\n",
       "    </tr>\n",
       "    <tr>\n",
       "      <th>39</th>\n",
       "      <td>Italy</td>\n",
       "      <td>0.005897</td>\n",
       "      <td>0.850000</td>\n",
       "      <td>6</td>\n",
       "    </tr>\n",
       "    <tr>\n",
       "      <th>43</th>\n",
       "      <td>Belgium</td>\n",
       "      <td>0.005499</td>\n",
       "      <td>0.886000</td>\n",
       "      <td>4</td>\n",
       "    </tr>\n",
       "    <tr>\n",
       "      <th>50</th>\n",
       "      <td>France</td>\n",
       "      <td>0.004757</td>\n",
       "      <td>0.852667</td>\n",
       "      <td>8</td>\n",
       "    </tr>\n",
       "    <tr>\n",
       "      <th>68</th>\n",
       "      <td>Slovakia</td>\n",
       "      <td>0.002263</td>\n",
       "      <td>0.772333</td>\n",
       "      <td>5</td>\n",
       "    </tr>\n",
       "    <tr>\n",
       "      <th>80</th>\n",
       "      <td>Greece</td>\n",
       "      <td>0.001366</td>\n",
       "      <td>0.824333</td>\n",
       "      <td>4</td>\n",
       "    </tr>\n",
       "    <tr>\n",
       "      <th>87</th>\n",
       "      <td>Ireland</td>\n",
       "      <td>0.001022</td>\n",
       "      <td>0.881000</td>\n",
       "      <td>1</td>\n",
       "    </tr>\n",
       "    <tr>\n",
       "      <th>94</th>\n",
       "      <td>Slovenia</td>\n",
       "      <td>0.000832</td>\n",
       "      <td>0.850000</td>\n",
       "      <td>4</td>\n",
       "    </tr>\n",
       "    <tr>\n",
       "      <th>100</th>\n",
       "      <td>Austria</td>\n",
       "      <td>0.000543</td>\n",
       "      <td>0.851667</td>\n",
       "      <td>8</td>\n",
       "    </tr>\n",
       "    <tr>\n",
       "      <th>106</th>\n",
       "      <td>Latvia</td>\n",
       "      <td>0.000348</td>\n",
       "      <td>0.767000</td>\n",
       "      <td>4</td>\n",
       "    </tr>\n",
       "    <tr>\n",
       "      <th>112</th>\n",
       "      <td>Denmark</td>\n",
       "      <td>0.000222</td>\n",
       "      <td>0.891333</td>\n",
       "      <td>1</td>\n",
       "    </tr>\n",
       "    <tr>\n",
       "      <th>118</th>\n",
       "      <td>Finland</td>\n",
       "      <td>0.000156</td>\n",
       "      <td>0.874000</td>\n",
       "      <td>3</td>\n",
       "    </tr>\n",
       "    <tr>\n",
       "      <th>120</th>\n",
       "      <td>Czech Rep.</td>\n",
       "      <td>0.000141</td>\n",
       "      <td>0.821667</td>\n",
       "      <td>4</td>\n",
       "    </tr>\n",
       "    <tr>\n",
       "      <th>123</th>\n",
       "      <td>Estonia</td>\n",
       "      <td>0.000126</td>\n",
       "      <td>0.805000</td>\n",
       "      <td>2</td>\n",
       "    </tr>\n",
       "    <tr>\n",
       "      <th>135</th>\n",
       "      <td>Luxembourg</td>\n",
       "      <td>0.000014</td>\n",
       "      <td>0.869000</td>\n",
       "      <td>3</td>\n",
       "    </tr>\n",
       "    <tr>\n",
       "      <th>140</th>\n",
       "      <td>Cyprus</td>\n",
       "      <td>0.000009</td>\n",
       "      <td>0.819000</td>\n",
       "      <td>0</td>\n",
       "    </tr>\n",
       "    <tr>\n",
       "      <th>174</th>\n",
       "      <td>Malta</td>\n",
       "      <td>0.000000</td>\n",
       "      <td>0.805000</td>\n",
       "      <td>0</td>\n",
       "    </tr>\n",
       "  </tbody>\n",
       "</table>\n",
       "</div>"
      ],
      "text/plain": [
       "                       origin  betweenness  idh_2001_2003  n_neightbours\n",
       "0    United States of America     0.105584       0.891333              2\n",
       "4                       Spain     0.027726       0.837333              5\n",
       "8                     Romania     0.020640       0.730667              5\n",
       "17                     Canada     0.012983       0.876667              1\n",
       "20                    Germany     0.010186       0.890000              9\n",
       "25                   Portugal     0.008837       0.800667              1\n",
       "28                  Lithuania     0.008325       0.785333              4\n",
       "32                   Bulgaria     0.007595       0.737000              5\n",
       "33                    Hungary     0.007172       0.788667              7\n",
       "34                Netherlands     0.006945       0.887000              2\n",
       "36                     Sweden     0.006608       0.908667              2\n",
       "38                     Poland     0.006322       0.803000              7\n",
       "39                      Italy     0.005897       0.850000              6\n",
       "43                    Belgium     0.005499       0.886000              4\n",
       "50                     France     0.004757       0.852667              8\n",
       "68                   Slovakia     0.002263       0.772333              5\n",
       "80                     Greece     0.001366       0.824333              4\n",
       "87                    Ireland     0.001022       0.881000              1\n",
       "94                   Slovenia     0.000832       0.850000              4\n",
       "100                   Austria     0.000543       0.851667              8\n",
       "106                    Latvia     0.000348       0.767000              4\n",
       "112                   Denmark     0.000222       0.891333              1\n",
       "118                   Finland     0.000156       0.874000              3\n",
       "120                Czech Rep.     0.000141       0.821667              4\n",
       "123                   Estonia     0.000126       0.805000              2\n",
       "135                Luxembourg     0.000014       0.869000              3\n",
       "140                    Cyprus     0.000009       0.819000              0\n",
       "174                     Malta     0.000000       0.805000              0"
      ]
     },
     "execution_count": 139,
     "metadata": {},
     "output_type": "execute_result"
    }
   ],
   "source": [
    "df_filtrado_idh_2001_2003 = df_betweenness_2001_2003[(df_betweenness_2001_2003['origin'].isin(lista_paises_eu_america))]\n",
    "df_filtrado_idh_2001_2003"
   ]
  },
  {
   "cell_type": "code",
   "execution_count": 140,
   "id": "59f3a2a2",
   "metadata": {},
   "outputs": [],
   "source": [
    "#df_filtrado_idh_2001_2003 =  df_betweenness_2001_2003[(df_betweenness_2001_2003['idh_2001_2003'] > 0.7)]\n",
    "#df_filtrado_idh_2001_2003"
   ]
  },
  {
   "cell_type": "code",
   "execution_count": 141,
   "id": "3a55517b",
   "metadata": {},
   "outputs": [
    {
     "data": {
      "text/html": [
       "<table class=\"simpletable\">\n",
       "<caption>OLS Regression Results</caption>\n",
       "<tr>\n",
       "  <th>Dep. Variable:</th>       <td>betweenness</td>   <th>  R-squared:         </th> <td>   0.004</td>\n",
       "</tr>\n",
       "<tr>\n",
       "  <th>Model:</th>                   <td>OLS</td>       <th>  Adj. R-squared:    </th> <td>  -0.035</td>\n",
       "</tr>\n",
       "<tr>\n",
       "  <th>Method:</th>             <td>Least Squares</td>  <th>  F-statistic:       </th> <td> 0.09234</td>\n",
       "</tr>\n",
       "<tr>\n",
       "  <th>Date:</th>             <td>Mon, 14 Nov 2022</td> <th>  Prob (F-statistic):</th>  <td> 0.764</td> \n",
       "</tr>\n",
       "<tr>\n",
       "  <th>Time:</th>                 <td>13:44:29</td>     <th>  Log-Likelihood:    </th> <td>  70.326</td>\n",
       "</tr>\n",
       "<tr>\n",
       "  <th>No. Observations:</th>      <td>    28</td>      <th>  AIC:               </th> <td>  -136.7</td>\n",
       "</tr>\n",
       "<tr>\n",
       "  <th>Df Residuals:</th>          <td>    26</td>      <th>  BIC:               </th> <td>  -134.0</td>\n",
       "</tr>\n",
       "<tr>\n",
       "  <th>Df Model:</th>              <td>     1</td>      <th>                     </th>     <td> </td>   \n",
       "</tr>\n",
       "<tr>\n",
       "  <th>Covariance Type:</th>      <td>nonrobust</td>    <th>                     </th>     <td> </td>   \n",
       "</tr>\n",
       "</table>\n",
       "<table class=\"simpletable\">\n",
       "<tr>\n",
       "        <td></td>           <th>coef</th>     <th>std err</th>      <th>t</th>      <th>P>|t|</th>  <th>[0.025</th>    <th>0.975]</th>  \n",
       "</tr>\n",
       "<tr>\n",
       "  <th>Intercept</th>     <td>    0.0108</td> <td>    0.007</td> <td>    1.518</td> <td> 0.141</td> <td>   -0.004</td> <td>    0.025</td>\n",
       "</tr>\n",
       "<tr>\n",
       "  <th>n_neightbours</th> <td>   -0.0005</td> <td>    0.002</td> <td>   -0.304</td> <td> 0.764</td> <td>   -0.004</td> <td>    0.003</td>\n",
       "</tr>\n",
       "</table>\n",
       "<table class=\"simpletable\">\n",
       "<tr>\n",
       "  <th>Omnibus:</th>       <td>58.176</td> <th>  Durbin-Watson:     </th> <td>   0.562</td>\n",
       "</tr>\n",
       "<tr>\n",
       "  <th>Prob(Omnibus):</th> <td> 0.000</td> <th>  Jarque-Bera (JB):  </th> <td> 426.319</td>\n",
       "</tr>\n",
       "<tr>\n",
       "  <th>Skew:</th>          <td> 4.134</td> <th>  Prob(JB):          </th> <td>2.67e-93</td>\n",
       "</tr>\n",
       "<tr>\n",
       "  <th>Kurtosis:</th>      <td>20.235</td> <th>  Cond. No.          </th> <td>    8.70</td>\n",
       "</tr>\n",
       "</table><br/><br/>Notes:<br/>[1] Standard Errors assume that the covariance matrix of the errors is correctly specified."
      ],
      "text/plain": [
       "<class 'statsmodels.iolib.summary.Summary'>\n",
       "\"\"\"\n",
       "                            OLS Regression Results                            \n",
       "==============================================================================\n",
       "Dep. Variable:            betweenness   R-squared:                       0.004\n",
       "Model:                            OLS   Adj. R-squared:                 -0.035\n",
       "Method:                 Least Squares   F-statistic:                   0.09234\n",
       "Date:                Mon, 14 Nov 2022   Prob (F-statistic):              0.764\n",
       "Time:                        13:44:29   Log-Likelihood:                 70.326\n",
       "No. Observations:                  28   AIC:                            -136.7\n",
       "Df Residuals:                      26   BIC:                            -134.0\n",
       "Df Model:                           1                                         \n",
       "Covariance Type:            nonrobust                                         \n",
       "=================================================================================\n",
       "                    coef    std err          t      P>|t|      [0.025      0.975]\n",
       "---------------------------------------------------------------------------------\n",
       "Intercept         0.0108      0.007      1.518      0.141      -0.004       0.025\n",
       "n_neightbours    -0.0005      0.002     -0.304      0.764      -0.004       0.003\n",
       "==============================================================================\n",
       "Omnibus:                       58.176   Durbin-Watson:                   0.562\n",
       "Prob(Omnibus):                  0.000   Jarque-Bera (JB):              426.319\n",
       "Skew:                           4.134   Prob(JB):                     2.67e-93\n",
       "Kurtosis:                      20.235   Cond. No.                         8.70\n",
       "==============================================================================\n",
       "\n",
       "Notes:\n",
       "[1] Standard Errors assume that the covariance matrix of the errors is correctly specified.\n",
       "\"\"\""
      ]
     },
     "execution_count": 141,
     "metadata": {},
     "output_type": "execute_result"
    }
   ],
   "source": [
    "result_hip3 = reg.linear(data=df_filtrado_idh_2001_2003, formula='betweenness ~ n_neightbours')\n",
    "result_hip3.summary()"
   ]
  },
  {
   "cell_type": "code",
   "execution_count": 142,
   "id": "40ba5b93",
   "metadata": {},
   "outputs": [
    {
     "data": {
      "text/html": [
       "<style type=\"text/css\">\n",
       "#T_24a4f_row0_col0 {\n",
       "  font-family: monospace;\n",
       "  text-align: left;\n",
       "}\n",
       "</style>\n",
       "<table id=\"T_24a4f\">\n",
       "  <thead>\n",
       "  </thead>\n",
       "  <tbody>\n",
       "    <tr>\n",
       "      <td id=\"T_24a4f_row0_col0\" class=\"data row0 col0\" >-0.000 (0.002)</td>\n",
       "    </tr>\n",
       "  </tbody>\n",
       "</table>\n"
      ],
      "text/plain": [
       "<pandas.io.formats.style.Styler at 0x7f47b4031bd0>"
      ]
     },
     "execution_count": 142,
     "metadata": {},
     "output_type": "execute_result"
    }
   ],
   "source": [
    "result_hip3.nano_summary()"
   ]
  },
  {
   "cell_type": "markdown",
   "id": "2bfca5bb",
   "metadata": {},
   "source": [
    "\n",
    "## Hipóteses 5: Abertura tem relação com chegada de pessoas\n",
    "\n",
    "### H : IN: OPEN, EXT, CORE\n"
   ]
  },
  {
   "cell_type": "markdown",
   "id": "f592fbe4",
   "metadata": {},
   "source": [
    "2008 - 2012 e países da África"
   ]
  },
  {
   "cell_type": "code",
   "execution_count": 143,
   "id": "0059e019",
   "metadata": {},
   "outputs": [
    {
     "name": "stderr",
     "output_type": "stream",
     "text": [
      "/tmp/ipykernel_53/3417367393.py:1: FutureWarning: The default value of numeric_only in DataFrameGroupBy.sum is deprecated. In a future version, numeric_only will default to False. Either specify numeric_only or select only columns which should be valid for the function.\n",
      "  df_indegree_2008_2012  = df_hip4_2008_2012.groupby('destiny').sum().reindex(listaVertices).fillna(0)\n"
     ]
    },
    {
     "data": {
      "text/html": [
       "<div>\n",
       "<style scoped>\n",
       "    .dataframe tbody tr th:only-of-type {\n",
       "        vertical-align: middle;\n",
       "    }\n",
       "\n",
       "    .dataframe tbody tr th {\n",
       "        vertical-align: top;\n",
       "    }\n",
       "\n",
       "    .dataframe thead th {\n",
       "        text-align: right;\n",
       "    }\n",
       "</style>\n",
       "<table border=\"1\" class=\"dataframe\">\n",
       "  <thead>\n",
       "    <tr style=\"text-align: right;\">\n",
       "      <th></th>\n",
       "      <th>country</th>\n",
       "      <th>in_degree</th>\n",
       "      <th>rejected</th>\n",
       "    </tr>\n",
       "  </thead>\n",
       "  <tbody>\n",
       "    <tr>\n",
       "      <th>0</th>\n",
       "      <td>United States of America</td>\n",
       "      <td>104356.0</td>\n",
       "      <td>74546.0</td>\n",
       "    </tr>\n",
       "    <tr>\n",
       "      <th>1</th>\n",
       "      <td>Malaysia</td>\n",
       "      <td>93752.0</td>\n",
       "      <td>4685.0</td>\n",
       "    </tr>\n",
       "    <tr>\n",
       "      <th>2</th>\n",
       "      <td>France</td>\n",
       "      <td>54791.0</td>\n",
       "      <td>267437.0</td>\n",
       "    </tr>\n",
       "    <tr>\n",
       "      <th>3</th>\n",
       "      <td>Canada</td>\n",
       "      <td>54290.0</td>\n",
       "      <td>60789.0</td>\n",
       "    </tr>\n",
       "    <tr>\n",
       "      <th>4</th>\n",
       "      <td>Sudan</td>\n",
       "      <td>51213.0</td>\n",
       "      <td>845.0</td>\n",
       "    </tr>\n",
       "    <tr>\n",
       "      <th>...</th>\n",
       "      <td>...</td>\n",
       "      <td>...</td>\n",
       "      <td>...</td>\n",
       "    </tr>\n",
       "    <tr>\n",
       "      <th>220</th>\n",
       "      <td>Samoa</td>\n",
       "      <td>0.0</td>\n",
       "      <td>0.0</td>\n",
       "    </tr>\n",
       "    <tr>\n",
       "      <th>221</th>\n",
       "      <td>Martinique</td>\n",
       "      <td>0.0</td>\n",
       "      <td>0.0</td>\n",
       "    </tr>\n",
       "    <tr>\n",
       "      <th>222</th>\n",
       "      <td>Gibraltar</td>\n",
       "      <td>0.0</td>\n",
       "      <td>0.0</td>\n",
       "    </tr>\n",
       "    <tr>\n",
       "      <th>223</th>\n",
       "      <td>French Polynesia</td>\n",
       "      <td>0.0</td>\n",
       "      <td>0.0</td>\n",
       "    </tr>\n",
       "    <tr>\n",
       "      <th>224</th>\n",
       "      <td>Montserrat</td>\n",
       "      <td>0.0</td>\n",
       "      <td>0.0</td>\n",
       "    </tr>\n",
       "  </tbody>\n",
       "</table>\n",
       "<p>225 rows × 3 columns</p>\n",
       "</div>"
      ],
      "text/plain": [
       "                      country  in_degree  rejected\n",
       "0    United States of America   104356.0   74546.0\n",
       "1                    Malaysia    93752.0    4685.0\n",
       "2                      France    54791.0  267437.0\n",
       "3                      Canada    54290.0   60789.0\n",
       "4                       Sudan    51213.0     845.0\n",
       "..                        ...        ...       ...\n",
       "220                     Samoa        0.0       0.0\n",
       "221                Martinique        0.0       0.0\n",
       "222                 Gibraltar        0.0       0.0\n",
       "223          French Polynesia        0.0       0.0\n",
       "224                Montserrat        0.0       0.0\n",
       "\n",
       "[225 rows x 3 columns]"
      ]
     },
     "execution_count": 143,
     "metadata": {},
     "output_type": "execute_result"
    }
   ],
   "source": [
    "df_indegree_2008_2012  = df_hip4_2008_2012.groupby('destiny').sum().reindex(listaVertices).fillna(0)\n",
    "df_indegree_2008_2012 = df_indegree_2008_2012.sort_values(\"value\", ascending = False)\n",
    "df_indegree_2008_2012 = df_indegree_2008_2012.reset_index()\n",
    "df_indegree_2008_2012 = df_indegree_2008_2012.rename(columns={'destiny': 'country', 'value':'in_degree'})\n",
    "df_indegree_2008_2012"
   ]
  },
  {
   "cell_type": "code",
   "execution_count": 144,
   "id": "72a831e0",
   "metadata": {},
   "outputs": [],
   "source": [
    "df_intermediario = df_intermediario.drop('rejected', axis=1)"
   ]
  },
  {
   "cell_type": "code",
   "execution_count": 145,
   "id": "960691ba",
   "metadata": {},
   "outputs": [
    {
     "data": {
      "text/html": [
       "<div>\n",
       "<style scoped>\n",
       "    .dataframe tbody tr th:only-of-type {\n",
       "        vertical-align: middle;\n",
       "    }\n",
       "\n",
       "    .dataframe tbody tr th {\n",
       "        vertical-align: top;\n",
       "    }\n",
       "\n",
       "    .dataframe thead th {\n",
       "        text-align: right;\n",
       "    }\n",
       "</style>\n",
       "<table border=\"1\" class=\"dataframe\">\n",
       "  <thead>\n",
       "    <tr style=\"text-align: right;\">\n",
       "      <th></th>\n",
       "      <th>country</th>\n",
       "      <th>coreness</th>\n",
       "      <th>idh_2008_2012</th>\n",
       "      <th>pop_cont</th>\n",
       "      <th>out_degree</th>\n",
       "      <th>in_degree</th>\n",
       "      <th>rejected</th>\n",
       "    </tr>\n",
       "  </thead>\n",
       "  <tbody>\n",
       "    <tr>\n",
       "      <th>0</th>\n",
       "      <td>Poland</td>\n",
       "      <td>1</td>\n",
       "      <td>0.8380</td>\n",
       "      <td>0</td>\n",
       "      <td>109.0</td>\n",
       "      <td>693.0</td>\n",
       "      <td>12938.0</td>\n",
       "    </tr>\n",
       "    <tr>\n",
       "      <th>1</th>\n",
       "      <td>Rep. of Moldova</td>\n",
       "      <td>1</td>\n",
       "      <td>0.7148</td>\n",
       "      <td>0</td>\n",
       "      <td>859.0</td>\n",
       "      <td>27.0</td>\n",
       "      <td>253.0</td>\n",
       "    </tr>\n",
       "    <tr>\n",
       "      <th>2</th>\n",
       "      <td>Slovenia</td>\n",
       "      <td>1</td>\n",
       "      <td>0.8870</td>\n",
       "      <td>0</td>\n",
       "      <td>8.0</td>\n",
       "      <td>76.0</td>\n",
       "      <td>598.0</td>\n",
       "    </tr>\n",
       "    <tr>\n",
       "      <th>3</th>\n",
       "      <td>Ghana</td>\n",
       "      <td>1</td>\n",
       "      <td>0.5654</td>\n",
       "      <td>0</td>\n",
       "      <td>440.0</td>\n",
       "      <td>9363.0</td>\n",
       "      <td>148.0</td>\n",
       "    </tr>\n",
       "    <tr>\n",
       "      <th>4</th>\n",
       "      <td>Lebanon</td>\n",
       "      <td>1</td>\n",
       "      <td>0.7628</td>\n",
       "      <td>1</td>\n",
       "      <td>1068.0</td>\n",
       "      <td>1331.0</td>\n",
       "      <td>2119.0</td>\n",
       "    </tr>\n",
       "    <tr>\n",
       "      <th>...</th>\n",
       "      <td>...</td>\n",
       "      <td>...</td>\n",
       "      <td>...</td>\n",
       "      <td>...</td>\n",
       "      <td>...</td>\n",
       "      <td>...</td>\n",
       "      <td>...</td>\n",
       "    </tr>\n",
       "    <tr>\n",
       "      <th>220</th>\n",
       "      <td>Burundi</td>\n",
       "      <td>0</td>\n",
       "      <td>0.4082</td>\n",
       "      <td>0</td>\n",
       "      <td>8941.0</td>\n",
       "      <td>22458.0</td>\n",
       "      <td>619.0</td>\n",
       "    </tr>\n",
       "    <tr>\n",
       "      <th>221</th>\n",
       "      <td>Saint-Pierre-et-Miquelon</td>\n",
       "      <td>0</td>\n",
       "      <td>0.0000</td>\n",
       "      <td>0</td>\n",
       "      <td>0.0</td>\n",
       "      <td>0.0</td>\n",
       "      <td>0.0</td>\n",
       "    </tr>\n",
       "    <tr>\n",
       "      <th>222</th>\n",
       "      <td>Palestinian</td>\n",
       "      <td>0</td>\n",
       "      <td>0.6854</td>\n",
       "      <td>0</td>\n",
       "      <td>3563.0</td>\n",
       "      <td>0.0</td>\n",
       "      <td>0.0</td>\n",
       "    </tr>\n",
       "    <tr>\n",
       "      <th>223</th>\n",
       "      <td>Guinea-Bissau</td>\n",
       "      <td>0</td>\n",
       "      <td>0.4366</td>\n",
       "      <td>0</td>\n",
       "      <td>111.0</td>\n",
       "      <td>58.0</td>\n",
       "      <td>129.0</td>\n",
       "    </tr>\n",
       "    <tr>\n",
       "      <th>224</th>\n",
       "      <td>Malawi</td>\n",
       "      <td>0</td>\n",
       "      <td>0.4284</td>\n",
       "      <td>0</td>\n",
       "      <td>105.0</td>\n",
       "      <td>3054.0</td>\n",
       "      <td>1295.0</td>\n",
       "    </tr>\n",
       "  </tbody>\n",
       "</table>\n",
       "<p>225 rows × 7 columns</p>\n",
       "</div>"
      ],
      "text/plain": [
       "                      country  coreness  idh_2008_2012  pop_cont  out_degree  \\\n",
       "0                      Poland         1         0.8380         0       109.0   \n",
       "1             Rep. of Moldova         1         0.7148         0       859.0   \n",
       "2                    Slovenia         1         0.8870         0         8.0   \n",
       "3                       Ghana         1         0.5654         0       440.0   \n",
       "4                     Lebanon         1         0.7628         1      1068.0   \n",
       "..                        ...       ...            ...       ...         ...   \n",
       "220                   Burundi         0         0.4082         0      8941.0   \n",
       "221  Saint-Pierre-et-Miquelon         0         0.0000         0         0.0   \n",
       "222               Palestinian         0         0.6854         0      3563.0   \n",
       "223             Guinea-Bissau         0         0.4366         0       111.0   \n",
       "224                    Malawi         0         0.4284         0       105.0   \n",
       "\n",
       "     in_degree  rejected  \n",
       "0        693.0   12938.0  \n",
       "1         27.0     253.0  \n",
       "2         76.0     598.0  \n",
       "3       9363.0     148.0  \n",
       "4       1331.0    2119.0  \n",
       "..         ...       ...  \n",
       "220    22458.0     619.0  \n",
       "221        0.0       0.0  \n",
       "222        0.0       0.0  \n",
       "223       58.0     129.0  \n",
       "224     3054.0    1295.0  \n",
       "\n",
       "[225 rows x 7 columns]"
      ]
     },
     "execution_count": 145,
     "metadata": {},
     "output_type": "execute_result"
    }
   ],
   "source": [
    "df_intermediario = df_intermediario.rename(columns={'origin': 'country', 'value':'out_degree'})\n",
    "df_intermediario = df_intermediario.merge(df_indegree_2008_2012, on=\"country\", how=\"left\")\n",
    "df_intermediario"
   ]
  },
  {
   "cell_type": "code",
   "execution_count": 146,
   "id": "c7d70153",
   "metadata": {},
   "outputs": [
    {
     "data": {
      "text/html": [
       "<div>\n",
       "<style scoped>\n",
       "    .dataframe tbody tr th:only-of-type {\n",
       "        vertical-align: middle;\n",
       "    }\n",
       "\n",
       "    .dataframe tbody tr th {\n",
       "        vertical-align: top;\n",
       "    }\n",
       "\n",
       "    .dataframe thead th {\n",
       "        text-align: right;\n",
       "    }\n",
       "</style>\n",
       "<table border=\"1\" class=\"dataframe\">\n",
       "  <thead>\n",
       "    <tr style=\"text-align: right;\">\n",
       "      <th></th>\n",
       "      <th>country</th>\n",
       "      <th>coreness</th>\n",
       "      <th>out_degree</th>\n",
       "      <th>in_degree</th>\n",
       "      <th>rejected</th>\n",
       "    </tr>\n",
       "  </thead>\n",
       "  <tbody>\n",
       "    <tr>\n",
       "      <th>0</th>\n",
       "      <td>Poland</td>\n",
       "      <td>1</td>\n",
       "      <td>109.0</td>\n",
       "      <td>693.0</td>\n",
       "      <td>12938.0</td>\n",
       "    </tr>\n",
       "    <tr>\n",
       "      <th>1</th>\n",
       "      <td>Rep. of Moldova</td>\n",
       "      <td>1</td>\n",
       "      <td>859.0</td>\n",
       "      <td>27.0</td>\n",
       "      <td>253.0</td>\n",
       "    </tr>\n",
       "    <tr>\n",
       "      <th>2</th>\n",
       "      <td>Slovenia</td>\n",
       "      <td>1</td>\n",
       "      <td>8.0</td>\n",
       "      <td>76.0</td>\n",
       "      <td>598.0</td>\n",
       "    </tr>\n",
       "    <tr>\n",
       "      <th>3</th>\n",
       "      <td>Ghana</td>\n",
       "      <td>1</td>\n",
       "      <td>440.0</td>\n",
       "      <td>9363.0</td>\n",
       "      <td>148.0</td>\n",
       "    </tr>\n",
       "    <tr>\n",
       "      <th>4</th>\n",
       "      <td>Lebanon</td>\n",
       "      <td>1</td>\n",
       "      <td>1068.0</td>\n",
       "      <td>1331.0</td>\n",
       "      <td>2119.0</td>\n",
       "    </tr>\n",
       "    <tr>\n",
       "      <th>...</th>\n",
       "      <td>...</td>\n",
       "      <td>...</td>\n",
       "      <td>...</td>\n",
       "      <td>...</td>\n",
       "      <td>...</td>\n",
       "    </tr>\n",
       "    <tr>\n",
       "      <th>220</th>\n",
       "      <td>Burundi</td>\n",
       "      <td>0</td>\n",
       "      <td>8941.0</td>\n",
       "      <td>22458.0</td>\n",
       "      <td>619.0</td>\n",
       "    </tr>\n",
       "    <tr>\n",
       "      <th>221</th>\n",
       "      <td>Saint-Pierre-et-Miquelon</td>\n",
       "      <td>0</td>\n",
       "      <td>0.0</td>\n",
       "      <td>0.0</td>\n",
       "      <td>0.0</td>\n",
       "    </tr>\n",
       "    <tr>\n",
       "      <th>222</th>\n",
       "      <td>Palestinian</td>\n",
       "      <td>0</td>\n",
       "      <td>3563.0</td>\n",
       "      <td>0.0</td>\n",
       "      <td>0.0</td>\n",
       "    </tr>\n",
       "    <tr>\n",
       "      <th>223</th>\n",
       "      <td>Guinea-Bissau</td>\n",
       "      <td>0</td>\n",
       "      <td>111.0</td>\n",
       "      <td>58.0</td>\n",
       "      <td>129.0</td>\n",
       "    </tr>\n",
       "    <tr>\n",
       "      <th>224</th>\n",
       "      <td>Malawi</td>\n",
       "      <td>0</td>\n",
       "      <td>105.0</td>\n",
       "      <td>3054.0</td>\n",
       "      <td>1295.0</td>\n",
       "    </tr>\n",
       "  </tbody>\n",
       "</table>\n",
       "<p>225 rows × 5 columns</p>\n",
       "</div>"
      ],
      "text/plain": [
       "                      country  coreness  out_degree  in_degree  rejected\n",
       "0                      Poland         1       109.0      693.0   12938.0\n",
       "1             Rep. of Moldova         1       859.0       27.0     253.0\n",
       "2                    Slovenia         1         8.0       76.0     598.0\n",
       "3                       Ghana         1       440.0     9363.0     148.0\n",
       "4                     Lebanon         1      1068.0     1331.0    2119.0\n",
       "..                        ...       ...         ...        ...       ...\n",
       "220                   Burundi         0      8941.0    22458.0     619.0\n",
       "221  Saint-Pierre-et-Miquelon         0         0.0        0.0       0.0\n",
       "222               Palestinian         0      3563.0        0.0       0.0\n",
       "223             Guinea-Bissau         0       111.0       58.0     129.0\n",
       "224                    Malawi         0       105.0     3054.0    1295.0\n",
       "\n",
       "[225 rows x 5 columns]"
      ]
     },
     "execution_count": 146,
     "metadata": {},
     "output_type": "execute_result"
    }
   ],
   "source": [
    "df_2008_2012_inout = df_intermediario.drop(['pop_cont','idh_2008_2012'], axis=1)\n",
    "df_2008_2012_inout"
   ]
  },
  {
   "cell_type": "code",
   "execution_count": 147,
   "id": "ee11856d",
   "metadata": {},
   "outputs": [
    {
     "data": {
      "text/html": [
       "<div>\n",
       "<style scoped>\n",
       "    .dataframe tbody tr th:only-of-type {\n",
       "        vertical-align: middle;\n",
       "    }\n",
       "\n",
       "    .dataframe tbody tr th {\n",
       "        vertical-align: top;\n",
       "    }\n",
       "\n",
       "    .dataframe thead th {\n",
       "        text-align: right;\n",
       "    }\n",
       "</style>\n",
       "<table border=\"1\" class=\"dataframe\">\n",
       "  <thead>\n",
       "    <tr style=\"text-align: right;\">\n",
       "      <th></th>\n",
       "      <th>country</th>\n",
       "      <th>coreness</th>\n",
       "      <th>out_degree</th>\n",
       "      <th>in_degree</th>\n",
       "      <th>rejected</th>\n",
       "      <th>open</th>\n",
       "    </tr>\n",
       "  </thead>\n",
       "  <tbody>\n",
       "    <tr>\n",
       "      <th>0</th>\n",
       "      <td>Poland</td>\n",
       "      <td>1</td>\n",
       "      <td>109.0</td>\n",
       "      <td>693.0</td>\n",
       "      <td>12938.0</td>\n",
       "      <td>5.084000</td>\n",
       "    </tr>\n",
       "    <tr>\n",
       "      <th>1</th>\n",
       "      <td>Rep. of Moldova</td>\n",
       "      <td>1</td>\n",
       "      <td>859.0</td>\n",
       "      <td>27.0</td>\n",
       "      <td>253.0</td>\n",
       "      <td>9.642857</td>\n",
       "    </tr>\n",
       "    <tr>\n",
       "      <th>2</th>\n",
       "      <td>Slovenia</td>\n",
       "      <td>1</td>\n",
       "      <td>8.0</td>\n",
       "      <td>76.0</td>\n",
       "      <td>598.0</td>\n",
       "      <td>11.275964</td>\n",
       "    </tr>\n",
       "    <tr>\n",
       "      <th>3</th>\n",
       "      <td>Ghana</td>\n",
       "      <td>1</td>\n",
       "      <td>440.0</td>\n",
       "      <td>9363.0</td>\n",
       "      <td>148.0</td>\n",
       "      <td>98.443907</td>\n",
       "    </tr>\n",
       "    <tr>\n",
       "      <th>4</th>\n",
       "      <td>Lebanon</td>\n",
       "      <td>1</td>\n",
       "      <td>1068.0</td>\n",
       "      <td>1331.0</td>\n",
       "      <td>2119.0</td>\n",
       "      <td>38.579710</td>\n",
       "    </tr>\n",
       "    <tr>\n",
       "      <th>...</th>\n",
       "      <td>...</td>\n",
       "      <td>...</td>\n",
       "      <td>...</td>\n",
       "      <td>...</td>\n",
       "      <td>...</td>\n",
       "      <td>...</td>\n",
       "    </tr>\n",
       "    <tr>\n",
       "      <th>220</th>\n",
       "      <td>Burundi</td>\n",
       "      <td>0</td>\n",
       "      <td>8941.0</td>\n",
       "      <td>22458.0</td>\n",
       "      <td>619.0</td>\n",
       "      <td>97.317676</td>\n",
       "    </tr>\n",
       "    <tr>\n",
       "      <th>221</th>\n",
       "      <td>Saint-Pierre-et-Miquelon</td>\n",
       "      <td>0</td>\n",
       "      <td>0.0</td>\n",
       "      <td>0.0</td>\n",
       "      <td>0.0</td>\n",
       "      <td>0.000000</td>\n",
       "    </tr>\n",
       "    <tr>\n",
       "      <th>222</th>\n",
       "      <td>Palestinian</td>\n",
       "      <td>0</td>\n",
       "      <td>3563.0</td>\n",
       "      <td>0.0</td>\n",
       "      <td>0.0</td>\n",
       "      <td>0.000000</td>\n",
       "    </tr>\n",
       "    <tr>\n",
       "      <th>223</th>\n",
       "      <td>Guinea-Bissau</td>\n",
       "      <td>0</td>\n",
       "      <td>111.0</td>\n",
       "      <td>58.0</td>\n",
       "      <td>129.0</td>\n",
       "      <td>31.016043</td>\n",
       "    </tr>\n",
       "    <tr>\n",
       "      <th>224</th>\n",
       "      <td>Malawi</td>\n",
       "      <td>0</td>\n",
       "      <td>105.0</td>\n",
       "      <td>3054.0</td>\n",
       "      <td>1295.0</td>\n",
       "      <td>70.223040</td>\n",
       "    </tr>\n",
       "  </tbody>\n",
       "</table>\n",
       "<p>225 rows × 6 columns</p>\n",
       "</div>"
      ],
      "text/plain": [
       "                      country  coreness  out_degree  in_degree  rejected  \\\n",
       "0                      Poland         1       109.0      693.0   12938.0   \n",
       "1             Rep. of Moldova         1       859.0       27.0     253.0   \n",
       "2                    Slovenia         1         8.0       76.0     598.0   \n",
       "3                       Ghana         1       440.0     9363.0     148.0   \n",
       "4                     Lebanon         1      1068.0     1331.0    2119.0   \n",
       "..                        ...       ...         ...        ...       ...   \n",
       "220                   Burundi         0      8941.0    22458.0     619.0   \n",
       "221  Saint-Pierre-et-Miquelon         0         0.0        0.0       0.0   \n",
       "222               Palestinian         0      3563.0        0.0       0.0   \n",
       "223             Guinea-Bissau         0       111.0       58.0     129.0   \n",
       "224                    Malawi         0       105.0     3054.0    1295.0   \n",
       "\n",
       "          open  \n",
       "0     5.084000  \n",
       "1     9.642857  \n",
       "2    11.275964  \n",
       "3    98.443907  \n",
       "4    38.579710  \n",
       "..         ...  \n",
       "220  97.317676  \n",
       "221   0.000000  \n",
       "222   0.000000  \n",
       "223  31.016043  \n",
       "224  70.223040  \n",
       "\n",
       "[225 rows x 6 columns]"
      ]
     },
     "execution_count": 147,
     "metadata": {},
     "output_type": "execute_result"
    }
   ],
   "source": [
    "df_2008_2012_inout['open'] = (df_2008_2012_inout['in_degree']/(df_2008_2012_inout['in_degree'] + df_2008_2012_inout['rejected']))*100\n",
    "df_2008_2012_inout['open'] = df_2008_2012_inout['open'].fillna(0)\n",
    "df_2008_2012_inout"
   ]
  },
  {
   "cell_type": "code",
   "execution_count": 148,
   "id": "4e7767e9",
   "metadata": {},
   "outputs": [
    {
     "data": {
      "text/html": [
       "<div>\n",
       "<style scoped>\n",
       "    .dataframe tbody tr th:only-of-type {\n",
       "        vertical-align: middle;\n",
       "    }\n",
       "\n",
       "    .dataframe tbody tr th {\n",
       "        vertical-align: top;\n",
       "    }\n",
       "\n",
       "    .dataframe thead th {\n",
       "        text-align: right;\n",
       "    }\n",
       "</style>\n",
       "<table border=\"1\" class=\"dataframe\">\n",
       "  <thead>\n",
       "    <tr style=\"text-align: right;\">\n",
       "      <th></th>\n",
       "      <th>country</th>\n",
       "      <th>coreness</th>\n",
       "      <th>out_degree</th>\n",
       "      <th>in_degree</th>\n",
       "      <th>rejected</th>\n",
       "      <th>open</th>\n",
       "    </tr>\n",
       "  </thead>\n",
       "  <tbody>\n",
       "    <tr>\n",
       "      <th>3</th>\n",
       "      <td>Ghana</td>\n",
       "      <td>1</td>\n",
       "      <td>440.0</td>\n",
       "      <td>9363.0</td>\n",
       "      <td>148.0</td>\n",
       "      <td>98.443907</td>\n",
       "    </tr>\n",
       "    <tr>\n",
       "      <th>12</th>\n",
       "      <td>Tunisia</td>\n",
       "      <td>1</td>\n",
       "      <td>297.0</td>\n",
       "      <td>3941.0</td>\n",
       "      <td>596.0</td>\n",
       "      <td>86.863566</td>\n",
       "    </tr>\n",
       "    <tr>\n",
       "      <th>13</th>\n",
       "      <td>Algeria</td>\n",
       "      <td>1</td>\n",
       "      <td>780.0</td>\n",
       "      <td>112.0</td>\n",
       "      <td>1702.0</td>\n",
       "      <td>6.174201</td>\n",
       "    </tr>\n",
       "    <tr>\n",
       "      <th>23</th>\n",
       "      <td>Egypt</td>\n",
       "      <td>1</td>\n",
       "      <td>5581.0</td>\n",
       "      <td>7406.0</td>\n",
       "      <td>3197.0</td>\n",
       "      <td>69.848156</td>\n",
       "    </tr>\n",
       "    <tr>\n",
       "      <th>25</th>\n",
       "      <td>Cameroon</td>\n",
       "      <td>1</td>\n",
       "      <td>3796.0</td>\n",
       "      <td>4968.0</td>\n",
       "      <td>3687.0</td>\n",
       "      <td>57.400347</td>\n",
       "    </tr>\n",
       "    <tr>\n",
       "      <th>26</th>\n",
       "      <td>Sudan</td>\n",
       "      <td>1</td>\n",
       "      <td>24449.0</td>\n",
       "      <td>51213.0</td>\n",
       "      <td>845.0</td>\n",
       "      <td>98.376810</td>\n",
       "    </tr>\n",
       "    <tr>\n",
       "      <th>35</th>\n",
       "      <td>Mauritania</td>\n",
       "      <td>1</td>\n",
       "      <td>1852.0</td>\n",
       "      <td>230.0</td>\n",
       "      <td>606.0</td>\n",
       "      <td>27.511962</td>\n",
       "    </tr>\n",
       "    <tr>\n",
       "      <th>44</th>\n",
       "      <td>South Africa</td>\n",
       "      <td>1</td>\n",
       "      <td>131.0</td>\n",
       "      <td>36451.0</td>\n",
       "      <td>309145.0</td>\n",
       "      <td>10.547286</td>\n",
       "    </tr>\n",
       "    <tr>\n",
       "      <th>50</th>\n",
       "      <td>Namibia</td>\n",
       "      <td>1</td>\n",
       "      <td>288.0</td>\n",
       "      <td>432.0</td>\n",
       "      <td>501.0</td>\n",
       "      <td>46.302251</td>\n",
       "    </tr>\n",
       "    <tr>\n",
       "      <th>51</th>\n",
       "      <td>Libya</td>\n",
       "      <td>1</td>\n",
       "      <td>952.0</td>\n",
       "      <td>5328.0</td>\n",
       "      <td>340.0</td>\n",
       "      <td>94.001411</td>\n",
       "    </tr>\n",
       "    <tr>\n",
       "      <th>53</th>\n",
       "      <td>Benin</td>\n",
       "      <td>1</td>\n",
       "      <td>89.0</td>\n",
       "      <td>508.0</td>\n",
       "      <td>1331.0</td>\n",
       "      <td>27.623709</td>\n",
       "    </tr>\n",
       "    <tr>\n",
       "      <th>69</th>\n",
       "      <td>Morocco</td>\n",
       "      <td>1</td>\n",
       "      <td>383.0</td>\n",
       "      <td>546.0</td>\n",
       "      <td>3698.0</td>\n",
       "      <td>12.865221</td>\n",
       "    </tr>\n",
       "    <tr>\n",
       "      <th>75</th>\n",
       "      <td>Senegal</td>\n",
       "      <td>1</td>\n",
       "      <td>830.0</td>\n",
       "      <td>32.0</td>\n",
       "      <td>455.0</td>\n",
       "      <td>6.570842</td>\n",
       "    </tr>\n",
       "    <tr>\n",
       "      <th>76</th>\n",
       "      <td>Angola</td>\n",
       "      <td>1</td>\n",
       "      <td>1049.0</td>\n",
       "      <td>1590.0</td>\n",
       "      <td>765.0</td>\n",
       "      <td>67.515924</td>\n",
       "    </tr>\n",
       "    <tr>\n",
       "      <th>79</th>\n",
       "      <td>Côte d'Ivoire</td>\n",
       "      <td>1</td>\n",
       "      <td>12827.0</td>\n",
       "      <td>159.0</td>\n",
       "      <td>940.0</td>\n",
       "      <td>14.467698</td>\n",
       "    </tr>\n",
       "    <tr>\n",
       "      <th>81</th>\n",
       "      <td>Congo</td>\n",
       "      <td>1</td>\n",
       "      <td>3048.0</td>\n",
       "      <td>290.0</td>\n",
       "      <td>1246.0</td>\n",
       "      <td>18.880208</td>\n",
       "    </tr>\n",
       "    <tr>\n",
       "      <th>83</th>\n",
       "      <td>Kenya</td>\n",
       "      <td>1</td>\n",
       "      <td>2422.0</td>\n",
       "      <td>23677.0</td>\n",
       "      <td>7029.0</td>\n",
       "      <td>77.108708</td>\n",
       "    </tr>\n",
       "    <tr>\n",
       "      <th>89</th>\n",
       "      <td>Zimbabwe</td>\n",
       "      <td>0</td>\n",
       "      <td>10653.0</td>\n",
       "      <td>1502.0</td>\n",
       "      <td>524.0</td>\n",
       "      <td>74.136229</td>\n",
       "    </tr>\n",
       "    <tr>\n",
       "      <th>90</th>\n",
       "      <td>Sao Tome and Principe</td>\n",
       "      <td>0</td>\n",
       "      <td>0.0</td>\n",
       "      <td>0.0</td>\n",
       "      <td>0.0</td>\n",
       "      <td>0.000000</td>\n",
       "    </tr>\n",
       "    <tr>\n",
       "      <th>91</th>\n",
       "      <td>Mali</td>\n",
       "      <td>0</td>\n",
       "      <td>1637.0</td>\n",
       "      <td>129.0</td>\n",
       "      <td>71.0</td>\n",
       "      <td>64.500000</td>\n",
       "    </tr>\n",
       "    <tr>\n",
       "      <th>95</th>\n",
       "      <td>Botswana</td>\n",
       "      <td>0</td>\n",
       "      <td>230.0</td>\n",
       "      <td>1048.0</td>\n",
       "      <td>94.0</td>\n",
       "      <td>91.768827</td>\n",
       "    </tr>\n",
       "    <tr>\n",
       "      <th>98</th>\n",
       "      <td>Eritrea</td>\n",
       "      <td>0</td>\n",
       "      <td>107682.0</td>\n",
       "      <td>0.0</td>\n",
       "      <td>0.0</td>\n",
       "      <td>0.000000</td>\n",
       "    </tr>\n",
       "    <tr>\n",
       "      <th>99</th>\n",
       "      <td>Madagascar</td>\n",
       "      <td>0</td>\n",
       "      <td>84.0</td>\n",
       "      <td>0.0</td>\n",
       "      <td>0.0</td>\n",
       "      <td>0.000000</td>\n",
       "    </tr>\n",
       "    <tr>\n",
       "      <th>101</th>\n",
       "      <td>Somalia</td>\n",
       "      <td>0</td>\n",
       "      <td>70458.0</td>\n",
       "      <td>1235.0</td>\n",
       "      <td>949.0</td>\n",
       "      <td>56.547619</td>\n",
       "    </tr>\n",
       "    <tr>\n",
       "      <th>108</th>\n",
       "      <td>Togo</td>\n",
       "      <td>0</td>\n",
       "      <td>1198.0</td>\n",
       "      <td>280.0</td>\n",
       "      <td>276.0</td>\n",
       "      <td>50.359712</td>\n",
       "    </tr>\n",
       "    <tr>\n",
       "      <th>109</th>\n",
       "      <td>Mauritius</td>\n",
       "      <td>0</td>\n",
       "      <td>29.0</td>\n",
       "      <td>0.0</td>\n",
       "      <td>0.0</td>\n",
       "      <td>0.000000</td>\n",
       "    </tr>\n",
       "    <tr>\n",
       "      <th>111</th>\n",
       "      <td>Zambia</td>\n",
       "      <td>0</td>\n",
       "      <td>86.0</td>\n",
       "      <td>1198.0</td>\n",
       "      <td>226.0</td>\n",
       "      <td>84.129213</td>\n",
       "    </tr>\n",
       "    <tr>\n",
       "      <th>114</th>\n",
       "      <td>Equatorial Guinea</td>\n",
       "      <td>0</td>\n",
       "      <td>53.0</td>\n",
       "      <td>0.0</td>\n",
       "      <td>0.0</td>\n",
       "      <td>0.000000</td>\n",
       "    </tr>\n",
       "    <tr>\n",
       "      <th>115</th>\n",
       "      <td>Chad</td>\n",
       "      <td>0</td>\n",
       "      <td>2957.0</td>\n",
       "      <td>9849.0</td>\n",
       "      <td>233.0</td>\n",
       "      <td>97.688951</td>\n",
       "    </tr>\n",
       "    <tr>\n",
       "      <th>120</th>\n",
       "      <td>Niger</td>\n",
       "      <td>0</td>\n",
       "      <td>221.0</td>\n",
       "      <td>15.0</td>\n",
       "      <td>62.0</td>\n",
       "      <td>19.480519</td>\n",
       "    </tr>\n",
       "    <tr>\n",
       "      <th>124</th>\n",
       "      <td>Gabon</td>\n",
       "      <td>0</td>\n",
       "      <td>59.0</td>\n",
       "      <td>16.0</td>\n",
       "      <td>33.0</td>\n",
       "      <td>32.653061</td>\n",
       "    </tr>\n",
       "    <tr>\n",
       "      <th>138</th>\n",
       "      <td>Guinea</td>\n",
       "      <td>0</td>\n",
       "      <td>6564.0</td>\n",
       "      <td>273.0</td>\n",
       "      <td>456.0</td>\n",
       "      <td>37.448560</td>\n",
       "    </tr>\n",
       "    <tr>\n",
       "      <th>146</th>\n",
       "      <td>Cabo Verde</td>\n",
       "      <td>0</td>\n",
       "      <td>1.0</td>\n",
       "      <td>0.0</td>\n",
       "      <td>0.0</td>\n",
       "      <td>0.000000</td>\n",
       "    </tr>\n",
       "    <tr>\n",
       "      <th>151</th>\n",
       "      <td>Liberia</td>\n",
       "      <td>0</td>\n",
       "      <td>858.0</td>\n",
       "      <td>295.0</td>\n",
       "      <td>889.0</td>\n",
       "      <td>24.915541</td>\n",
       "    </tr>\n",
       "    <tr>\n",
       "      <th>153</th>\n",
       "      <td>Ethiopia</td>\n",
       "      <td>0</td>\n",
       "      <td>38344.0</td>\n",
       "      <td>40677.0</td>\n",
       "      <td>4104.0</td>\n",
       "      <td>90.835399</td>\n",
       "    </tr>\n",
       "    <tr>\n",
       "      <th>155</th>\n",
       "      <td>Dem. Rep. of the Congo</td>\n",
       "      <td>0</td>\n",
       "      <td>77502.0</td>\n",
       "      <td>67.0</td>\n",
       "      <td>62.0</td>\n",
       "      <td>51.937984</td>\n",
       "    </tr>\n",
       "    <tr>\n",
       "      <th>162</th>\n",
       "      <td>Seychelles</td>\n",
       "      <td>0</td>\n",
       "      <td>4.0</td>\n",
       "      <td>0.0</td>\n",
       "      <td>0.0</td>\n",
       "      <td>0.000000</td>\n",
       "    </tr>\n",
       "    <tr>\n",
       "      <th>163</th>\n",
       "      <td>Uganda</td>\n",
       "      <td>0</td>\n",
       "      <td>1813.0</td>\n",
       "      <td>42501.0</td>\n",
       "      <td>5668.0</td>\n",
       "      <td>88.233096</td>\n",
       "    </tr>\n",
       "    <tr>\n",
       "      <th>164</th>\n",
       "      <td>Burkina Faso</td>\n",
       "      <td>0</td>\n",
       "      <td>547.0</td>\n",
       "      <td>67.0</td>\n",
       "      <td>71.0</td>\n",
       "      <td>48.550725</td>\n",
       "    </tr>\n",
       "    <tr>\n",
       "      <th>166</th>\n",
       "      <td>Sierra Leone</td>\n",
       "      <td>0</td>\n",
       "      <td>1031.0</td>\n",
       "      <td>0.0</td>\n",
       "      <td>55.0</td>\n",
       "      <td>0.000000</td>\n",
       "    </tr>\n",
       "    <tr>\n",
       "      <th>168</th>\n",
       "      <td>South Sudan</td>\n",
       "      <td>0</td>\n",
       "      <td>291.0</td>\n",
       "      <td>12.0</td>\n",
       "      <td>134.0</td>\n",
       "      <td>8.219178</td>\n",
       "    </tr>\n",
       "    <tr>\n",
       "      <th>188</th>\n",
       "      <td>Central African Rep.</td>\n",
       "      <td>0</td>\n",
       "      <td>6329.0</td>\n",
       "      <td>785.0</td>\n",
       "      <td>60.0</td>\n",
       "      <td>92.899408</td>\n",
       "    </tr>\n",
       "    <tr>\n",
       "      <th>189</th>\n",
       "      <td>Gambia</td>\n",
       "      <td>0</td>\n",
       "      <td>1390.0</td>\n",
       "      <td>30.0</td>\n",
       "      <td>0.0</td>\n",
       "      <td>100.000000</td>\n",
       "    </tr>\n",
       "    <tr>\n",
       "      <th>193</th>\n",
       "      <td>Comoros</td>\n",
       "      <td>0</td>\n",
       "      <td>384.0</td>\n",
       "      <td>0.0</td>\n",
       "      <td>0.0</td>\n",
       "      <td>0.000000</td>\n",
       "    </tr>\n",
       "    <tr>\n",
       "      <th>195</th>\n",
       "      <td>Djibouti</td>\n",
       "      <td>0</td>\n",
       "      <td>493.0</td>\n",
       "      <td>563.0</td>\n",
       "      <td>30.0</td>\n",
       "      <td>94.940978</td>\n",
       "    </tr>\n",
       "    <tr>\n",
       "      <th>205</th>\n",
       "      <td>Rwanda</td>\n",
       "      <td>0</td>\n",
       "      <td>5751.0</td>\n",
       "      <td>15131.0</td>\n",
       "      <td>931.0</td>\n",
       "      <td>94.203711</td>\n",
       "    </tr>\n",
       "    <tr>\n",
       "      <th>210</th>\n",
       "      <td>Lesotho</td>\n",
       "      <td>0</td>\n",
       "      <td>6.0</td>\n",
       "      <td>12.0</td>\n",
       "      <td>0.0</td>\n",
       "      <td>100.000000</td>\n",
       "    </tr>\n",
       "    <tr>\n",
       "      <th>212</th>\n",
       "      <td>Mozambique</td>\n",
       "      <td>0</td>\n",
       "      <td>6.0</td>\n",
       "      <td>2327.0</td>\n",
       "      <td>945.0</td>\n",
       "      <td>71.118582</td>\n",
       "    </tr>\n",
       "    <tr>\n",
       "      <th>213</th>\n",
       "      <td>Nigeria</td>\n",
       "      <td>0</td>\n",
       "      <td>4352.0</td>\n",
       "      <td>353.0</td>\n",
       "      <td>376.0</td>\n",
       "      <td>48.422497</td>\n",
       "    </tr>\n",
       "    <tr>\n",
       "      <th>220</th>\n",
       "      <td>Burundi</td>\n",
       "      <td>0</td>\n",
       "      <td>8941.0</td>\n",
       "      <td>22458.0</td>\n",
       "      <td>619.0</td>\n",
       "      <td>97.317676</td>\n",
       "    </tr>\n",
       "    <tr>\n",
       "      <th>223</th>\n",
       "      <td>Guinea-Bissau</td>\n",
       "      <td>0</td>\n",
       "      <td>111.0</td>\n",
       "      <td>58.0</td>\n",
       "      <td>129.0</td>\n",
       "      <td>31.016043</td>\n",
       "    </tr>\n",
       "    <tr>\n",
       "      <th>224</th>\n",
       "      <td>Malawi</td>\n",
       "      <td>0</td>\n",
       "      <td>105.0</td>\n",
       "      <td>3054.0</td>\n",
       "      <td>1295.0</td>\n",
       "      <td>70.223040</td>\n",
       "    </tr>\n",
       "  </tbody>\n",
       "</table>\n",
       "</div>"
      ],
      "text/plain": [
       "                    country  coreness  out_degree  in_degree  rejected  \\\n",
       "3                     Ghana         1       440.0     9363.0     148.0   \n",
       "12                  Tunisia         1       297.0     3941.0     596.0   \n",
       "13                  Algeria         1       780.0      112.0    1702.0   \n",
       "23                    Egypt         1      5581.0     7406.0    3197.0   \n",
       "25                 Cameroon         1      3796.0     4968.0    3687.0   \n",
       "26                    Sudan         1     24449.0    51213.0     845.0   \n",
       "35               Mauritania         1      1852.0      230.0     606.0   \n",
       "44             South Africa         1       131.0    36451.0  309145.0   \n",
       "50                  Namibia         1       288.0      432.0     501.0   \n",
       "51                    Libya         1       952.0     5328.0     340.0   \n",
       "53                    Benin         1        89.0      508.0    1331.0   \n",
       "69                  Morocco         1       383.0      546.0    3698.0   \n",
       "75                  Senegal         1       830.0       32.0     455.0   \n",
       "76                   Angola         1      1049.0     1590.0     765.0   \n",
       "79            Côte d'Ivoire         1     12827.0      159.0     940.0   \n",
       "81                    Congo         1      3048.0      290.0    1246.0   \n",
       "83                    Kenya         1      2422.0    23677.0    7029.0   \n",
       "89                 Zimbabwe         0     10653.0     1502.0     524.0   \n",
       "90    Sao Tome and Principe         0         0.0        0.0       0.0   \n",
       "91                     Mali         0      1637.0      129.0      71.0   \n",
       "95                 Botswana         0       230.0     1048.0      94.0   \n",
       "98                  Eritrea         0    107682.0        0.0       0.0   \n",
       "99               Madagascar         0        84.0        0.0       0.0   \n",
       "101                 Somalia         0     70458.0     1235.0     949.0   \n",
       "108                    Togo         0      1198.0      280.0     276.0   \n",
       "109               Mauritius         0        29.0        0.0       0.0   \n",
       "111                  Zambia         0        86.0     1198.0     226.0   \n",
       "114       Equatorial Guinea         0        53.0        0.0       0.0   \n",
       "115                    Chad         0      2957.0     9849.0     233.0   \n",
       "120                   Niger         0       221.0       15.0      62.0   \n",
       "124                   Gabon         0        59.0       16.0      33.0   \n",
       "138                  Guinea         0      6564.0      273.0     456.0   \n",
       "146              Cabo Verde         0         1.0        0.0       0.0   \n",
       "151                 Liberia         0       858.0      295.0     889.0   \n",
       "153                Ethiopia         0     38344.0    40677.0    4104.0   \n",
       "155  Dem. Rep. of the Congo         0     77502.0       67.0      62.0   \n",
       "162              Seychelles         0         4.0        0.0       0.0   \n",
       "163                  Uganda         0      1813.0    42501.0    5668.0   \n",
       "164            Burkina Faso         0       547.0       67.0      71.0   \n",
       "166            Sierra Leone         0      1031.0        0.0      55.0   \n",
       "168             South Sudan         0       291.0       12.0     134.0   \n",
       "188    Central African Rep.         0      6329.0      785.0      60.0   \n",
       "189                  Gambia         0      1390.0       30.0       0.0   \n",
       "193                 Comoros         0       384.0        0.0       0.0   \n",
       "195                Djibouti         0       493.0      563.0      30.0   \n",
       "205                  Rwanda         0      5751.0    15131.0     931.0   \n",
       "210                 Lesotho         0         6.0       12.0       0.0   \n",
       "212              Mozambique         0         6.0     2327.0     945.0   \n",
       "213                 Nigeria         0      4352.0      353.0     376.0   \n",
       "220                 Burundi         0      8941.0    22458.0     619.0   \n",
       "223           Guinea-Bissau         0       111.0       58.0     129.0   \n",
       "224                  Malawi         0       105.0     3054.0    1295.0   \n",
       "\n",
       "           open  \n",
       "3     98.443907  \n",
       "12    86.863566  \n",
       "13     6.174201  \n",
       "23    69.848156  \n",
       "25    57.400347  \n",
       "26    98.376810  \n",
       "35    27.511962  \n",
       "44    10.547286  \n",
       "50    46.302251  \n",
       "51    94.001411  \n",
       "53    27.623709  \n",
       "69    12.865221  \n",
       "75     6.570842  \n",
       "76    67.515924  \n",
       "79    14.467698  \n",
       "81    18.880208  \n",
       "83    77.108708  \n",
       "89    74.136229  \n",
       "90     0.000000  \n",
       "91    64.500000  \n",
       "95    91.768827  \n",
       "98     0.000000  \n",
       "99     0.000000  \n",
       "101   56.547619  \n",
       "108   50.359712  \n",
       "109    0.000000  \n",
       "111   84.129213  \n",
       "114    0.000000  \n",
       "115   97.688951  \n",
       "120   19.480519  \n",
       "124   32.653061  \n",
       "138   37.448560  \n",
       "146    0.000000  \n",
       "151   24.915541  \n",
       "153   90.835399  \n",
       "155   51.937984  \n",
       "162    0.000000  \n",
       "163   88.233096  \n",
       "164   48.550725  \n",
       "166    0.000000  \n",
       "168    8.219178  \n",
       "188   92.899408  \n",
       "189  100.000000  \n",
       "193    0.000000  \n",
       "195   94.940978  \n",
       "205   94.203711  \n",
       "210  100.000000  \n",
       "212   71.118582  \n",
       "213   48.422497  \n",
       "220   97.317676  \n",
       "223   31.016043  \n",
       "224   70.223040  "
      ]
     },
     "execution_count": 148,
     "metadata": {},
     "output_type": "execute_result"
    }
   ],
   "source": [
    "df_2008_2012_inout_africa =  df_2008_2012_inout[(df_2008_2012_inout['country'].isin(lista_paises_africa))]\n",
    "df_2008_2012_inout_africa"
   ]
  },
  {
   "cell_type": "code",
   "execution_count": 149,
   "id": "001c56e6",
   "metadata": {},
   "outputs": [
    {
     "data": {
      "text/html": [
       "<table class=\"simpletable\">\n",
       "<caption>OLS Regression Results</caption>\n",
       "<tr>\n",
       "  <th>Dep. Variable:</th>    <td>np.log1p(in_degree)</td> <th>  R-squared:         </th> <td>   0.695</td>\n",
       "</tr>\n",
       "<tr>\n",
       "  <th>Model:</th>                    <td>OLS</td>         <th>  Adj. R-squared:    </th> <td>   0.675</td>\n",
       "</tr>\n",
       "<tr>\n",
       "  <th>Method:</th>              <td>Least Squares</td>    <th>  F-statistic:       </th> <td>   36.37</td>\n",
       "</tr>\n",
       "<tr>\n",
       "  <th>Date:</th>              <td>Mon, 14 Nov 2022</td>   <th>  Prob (F-statistic):</th> <td>2.06e-12</td>\n",
       "</tr>\n",
       "<tr>\n",
       "  <th>Time:</th>                  <td>13:45:06</td>       <th>  Log-Likelihood:    </th> <td> -105.55</td>\n",
       "</tr>\n",
       "<tr>\n",
       "  <th>No. Observations:</th>       <td>    52</td>        <th>  AIC:               </th> <td>   219.1</td>\n",
       "</tr>\n",
       "<tr>\n",
       "  <th>Df Residuals:</th>           <td>    48</td>        <th>  BIC:               </th> <td>   226.9</td>\n",
       "</tr>\n",
       "<tr>\n",
       "  <th>Df Model:</th>               <td>     3</td>        <th>                     </th>     <td> </td>   \n",
       "</tr>\n",
       "<tr>\n",
       "  <th>Covariance Type:</th>       <td>nonrobust</td>      <th>                     </th>     <td> </td>   \n",
       "</tr>\n",
       "</table>\n",
       "<table class=\"simpletable\">\n",
       "<tr>\n",
       "       <td></td>         <th>coef</th>     <th>std err</th>      <th>t</th>      <th>P>|t|</th>  <th>[0.025</th>    <th>0.975]</th>  \n",
       "</tr>\n",
       "<tr>\n",
       "  <th>Intercept</th>  <td>    1.2385</td> <td>    0.503</td> <td>    2.464</td> <td> 0.017</td> <td>    0.228</td> <td>    2.249</td>\n",
       "</tr>\n",
       "<tr>\n",
       "  <th>open</th>       <td>    0.0675</td> <td>    0.007</td> <td>    9.249</td> <td> 0.000</td> <td>    0.053</td> <td>    0.082</td>\n",
       "</tr>\n",
       "<tr>\n",
       "  <th>coreness</th>   <td>    2.8495</td> <td>    0.573</td> <td>    4.971</td> <td> 0.000</td> <td>    1.697</td> <td>    4.002</td>\n",
       "</tr>\n",
       "<tr>\n",
       "  <th>out_degree</th> <td> 6.314e-06</td> <td> 1.31e-05</td> <td>    0.483</td> <td> 0.631</td> <td>   -2e-05</td> <td> 3.26e-05</td>\n",
       "</tr>\n",
       "</table>\n",
       "<table class=\"simpletable\">\n",
       "<tr>\n",
       "  <th>Omnibus:</th>       <td> 4.932</td> <th>  Durbin-Watson:     </th> <td>   2.124</td>\n",
       "</tr>\n",
       "<tr>\n",
       "  <th>Prob(Omnibus):</th> <td> 0.085</td> <th>  Jarque-Bera (JB):  </th> <td>   6.144</td>\n",
       "</tr>\n",
       "<tr>\n",
       "  <th>Skew:</th>          <td> 0.080</td> <th>  Prob(JB):          </th> <td>  0.0463</td>\n",
       "</tr>\n",
       "<tr>\n",
       "  <th>Kurtosis:</th>      <td> 4.676</td> <th>  Cond. No.          </th> <td>5.34e+04</td>\n",
       "</tr>\n",
       "</table><br/><br/>Notes:<br/>[1] Standard Errors assume that the covariance matrix of the errors is correctly specified.<br/>[2] The condition number is large, 5.34e+04. This might indicate that there are<br/>strong multicollinearity or other numerical problems."
      ],
      "text/plain": [
       "<class 'statsmodels.iolib.summary.Summary'>\n",
       "\"\"\"\n",
       "                             OLS Regression Results                            \n",
       "===============================================================================\n",
       "Dep. Variable:     np.log1p(in_degree)   R-squared:                       0.695\n",
       "Model:                             OLS   Adj. R-squared:                  0.675\n",
       "Method:                  Least Squares   F-statistic:                     36.37\n",
       "Date:                 Mon, 14 Nov 2022   Prob (F-statistic):           2.06e-12\n",
       "Time:                         13:45:06   Log-Likelihood:                -105.55\n",
       "No. Observations:                   52   AIC:                             219.1\n",
       "Df Residuals:                       48   BIC:                             226.9\n",
       "Df Model:                            3                                         \n",
       "Covariance Type:             nonrobust                                         \n",
       "==============================================================================\n",
       "                 coef    std err          t      P>|t|      [0.025      0.975]\n",
       "------------------------------------------------------------------------------\n",
       "Intercept      1.2385      0.503      2.464      0.017       0.228       2.249\n",
       "open           0.0675      0.007      9.249      0.000       0.053       0.082\n",
       "coreness       2.8495      0.573      4.971      0.000       1.697       4.002\n",
       "out_degree  6.314e-06   1.31e-05      0.483      0.631      -2e-05    3.26e-05\n",
       "==============================================================================\n",
       "Omnibus:                        4.932   Durbin-Watson:                   2.124\n",
       "Prob(Omnibus):                  0.085   Jarque-Bera (JB):                6.144\n",
       "Skew:                           0.080   Prob(JB):                       0.0463\n",
       "Kurtosis:                       4.676   Cond. No.                     5.34e+04\n",
       "==============================================================================\n",
       "\n",
       "Notes:\n",
       "[1] Standard Errors assume that the covariance matrix of the errors is correctly specified.\n",
       "[2] The condition number is large, 5.34e+04. This might indicate that there are\n",
       "strong multicollinearity or other numerical problems.\n",
       "\"\"\""
      ]
     },
     "execution_count": 149,
     "metadata": {},
     "output_type": "execute_result"
    }
   ],
   "source": [
    "result_hip5 = reg.linear(data=df_2008_2012_inout_africa, formula='np.log1p(in_degree) ~ open + coreness + out_degree')\n",
    "result_hip5.summary()"
   ]
  },
  {
   "cell_type": "code",
   "execution_count": 150,
   "id": "bf4584df",
   "metadata": {},
   "outputs": [
    {
     "data": {
      "text/html": [
       "<style type=\"text/css\">\n",
       "#T_9c49a_row0_col0, #T_9c49a_row1_col0, #T_9c49a_row2_col0 {\n",
       "  font-family: monospace;\n",
       "  text-align: left;\n",
       "}\n",
       "</style>\n",
       "<table id=\"T_9c49a\">\n",
       "  <thead>\n",
       "  </thead>\n",
       "  <tbody>\n",
       "    <tr>\n",
       "      <td id=\"T_9c49a_row0_col0\" class=\"data row0 col0\" >+0.067 (0.007) ***</td>\n",
       "    </tr>\n",
       "    <tr>\n",
       "      <td id=\"T_9c49a_row1_col0\" class=\"data row1 col0\" >+2.850 (0.573) ***</td>\n",
       "    </tr>\n",
       "    <tr>\n",
       "      <td id=\"T_9c49a_row2_col0\" class=\"data row2 col0\" >+0.000 (0.000)</td>\n",
       "    </tr>\n",
       "  </tbody>\n",
       "</table>\n"
      ],
      "text/plain": [
       "<pandas.io.formats.style.Styler at 0x7f47b3b0f3a0>"
      ]
     },
     "execution_count": 150,
     "metadata": {},
     "output_type": "execute_result"
    }
   ],
   "source": [
    "result_hip5.nano_summary()"
   ]
  },
  {
   "cell_type": "code",
   "execution_count": 151,
   "id": "05ee2cd4",
   "metadata": {},
   "outputs": [
    {
     "data": {
      "image/png": "[encoded data removed]",
      "text/plain": [
       "<Figure size 1280x480 with 2 Axes>"
      ]
     },
     "metadata": {},
     "output_type": "display_data"
    }
   ],
   "source": [
    "result_hip5.plot_residuals()"
   ]
  },
  {
   "cell_type": "code",
   "execution_count": null,
   "id": "57e4fd34",
   "metadata": {},
   "outputs": [],
   "source": []
  }
 ],
 "metadata": {
  "kernelspec": {
   "display_name": "Python 3 (ipykernel)",
   "language": "python",
   "name": "python3"
  },
  "language_info": {
   "codemirror_mode": {
    "name": "ipython",
    "version": 3
   },
   "file_extension": ".py",
   "mimetype": "text/x-python",
   "name": "python",
   "nbconvert_exporter": "python",
   "pygments_lexer": "ipython3",
   "version": "3.10.6"
  }
 },
 "nbformat": 4,
 "nbformat_minor": 5
}
