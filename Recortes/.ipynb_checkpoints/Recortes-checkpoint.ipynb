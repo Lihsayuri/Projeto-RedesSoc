{
 "cells": [
  {
   "cell_type": "markdown",
   "id": "0f7c8d3e",
   "metadata": {},
   "source": [
    "# Recortes\n",
    "\n",
    "\n",
    "## Hipóteses 2: Localização tem relação com o centro\n",
    "\n",
    "### B : Coreness e GEO\n",
    "\n"
   ]
  },
  {
   "cell_type": "markdown",
   "id": "1bebe00f",
   "metadata": {},
   "source": [
    "#### Explicação:\n",
    "\n",
    "Essa hipótese correlaciona o fato de estar no centro da rede (coreness) com o número de países que fazem fronteira com o país em questão. Sendo assim, essa hipótese diz que quanto mais próximo de outros países é uma nação, ou seja, quanto maior o número de países com os qual faz fronteira, maior é o seu coreness, indicando uma possibilidade de, por ser um país que faz divisa entre diversos outros, ele pode possuir um coreness alto já que diversas pessoas iriam passar por ele para ir para ficarem nele ou saírem para algum outro próximo. \n",
    "\n",
    "#### Recorte: 2001 a 2003 e países da África\n",
    "\n",
    "Esse recorte foi pensado pois, ao analisarmos os anos de 2001 a 2003, com o ataque às Torres Gêmeas nos Estados Unidos, diversos países do planeta acabaram restrigindo o acesso às suas fronteiras, dificultando a entrada de pessoas. Com isso, um continente do tamanho da África, com diversos países com o número de vizinhos alto, poderia acabar resultando em um coreness menor devido a menor entrada e saída de pessoas dos países do continente, mesmo tendo um alto número de vizinhos, o que deixaria de corroborar com a hipótese 2."
   ]
  },
  {
   "cell_type": "markdown",
   "id": "2d98f683",
   "metadata": {},
   "source": [
    "2001 a 2003 e países da África:"
   ]
  },
  {
   "cell_type": "code",
   "execution_count": 3,
   "id": "02089d30",
   "metadata": {},
   "outputs": [
    {
     "data": {
      "text/html": [
       "\n",
       "    <script src=\"/files/netpixi.min.js\"></script>\n"
      ],
      "text/plain": [
       "<IPython.core.display.HTML object>"
      ]
     },
     "metadata": {},
     "output_type": "display_data"
    }
   ],
   "source": [
    "import numpy as np\n",
    "import pandas as pd\n",
    "import seaborn as sns\n",
    "import regression as reg\n",
    "\n",
    "from scipy import stats\n",
    "from matplotlib import pyplot as plt\n",
    "\n",
    "import openpyxl\n",
    "\n",
    "import netpixi\n",
    "import cpnet\n",
    "\n",
    "from graph_tool import spectral, centrality\n",
    "from netpixi.integration.gt import *\n",
    "from netpixi.integration.gt import Graph\n",
    "from regression.integration.gt import *"
   ]
  },
  {
   "cell_type": "code",
   "execution_count": 4,
   "id": "98279eaa",
   "metadata": {},
   "outputs": [
    {
     "name": "stderr",
     "output_type": "stream",
     "text": [
      "<frozen importlib._bootstrap>:914: ImportWarning: VendorImporter.find_spec() not found; falling back to find_module()\n",
      "/tmp/ipykernel_30/1764240694.py:1: DtypeWarning: Columns (4,5,6,7,8,9,10,11,12,13) have mixed types. Specify dtype option on import or set low_memory=False.\n",
      "  df_completo = pd.read_csv('../Projeto-rascunho/asylum_seekers.csv')\n"
     ]
    },
    {
     "data": {
      "text/html": [
       "<div>\n",
       "<style scoped>\n",
       "    .dataframe tbody tr th:only-of-type {\n",
       "        vertical-align: middle;\n",
       "    }\n",
       "\n",
       "    .dataframe tbody tr th {\n",
       "        vertical-align: top;\n",
       "    }\n",
       "\n",
       "    .dataframe thead th {\n",
       "        text-align: right;\n",
       "    }\n",
       "</style>\n",
       "<table border=\"1\" class=\"dataframe\">\n",
       "  <thead>\n",
       "    <tr style=\"text-align: right;\">\n",
       "      <th></th>\n",
       "      <th>Year</th>\n",
       "      <th>Country / territory of asylum/residence</th>\n",
       "      <th>Origin</th>\n",
       "      <th>RSD procedure type / level</th>\n",
       "      <th>Tota pending start-year</th>\n",
       "      <th>of which UNHCR-assisted(start-year)</th>\n",
       "      <th>Applied during year</th>\n",
       "      <th>decisions_recognized</th>\n",
       "      <th>decisions_other</th>\n",
       "      <th>Rejected</th>\n",
       "      <th>Otherwise closed</th>\n",
       "      <th>Total decisions</th>\n",
       "      <th>Total pending end-year</th>\n",
       "      <th>of which UNHCR-assisted(end-year)</th>\n",
       "    </tr>\n",
       "  </thead>\n",
       "  <tbody>\n",
       "    <tr>\n",
       "      <th>0</th>\n",
       "      <td>2000</td>\n",
       "      <td>Zimbabwe</td>\n",
       "      <td>Afghanistan</td>\n",
       "      <td>G / FI</td>\n",
       "      <td>0</td>\n",
       "      <td>0</td>\n",
       "      <td>5</td>\n",
       "      <td>5</td>\n",
       "      <td>0</td>\n",
       "      <td>0</td>\n",
       "      <td>0</td>\n",
       "      <td>5.0</td>\n",
       "      <td>0</td>\n",
       "      <td>0</td>\n",
       "    </tr>\n",
       "    <tr>\n",
       "      <th>1</th>\n",
       "      <td>2000</td>\n",
       "      <td>South Africa</td>\n",
       "      <td>Afghanistan</td>\n",
       "      <td>G / FI</td>\n",
       "      <td>8</td>\n",
       "      <td>1</td>\n",
       "      <td>0</td>\n",
       "      <td>0</td>\n",
       "      <td>0</td>\n",
       "      <td>0</td>\n",
       "      <td>0</td>\n",
       "      <td>NaN</td>\n",
       "      <td>8</td>\n",
       "      <td>0</td>\n",
       "    </tr>\n",
       "    <tr>\n",
       "      <th>2</th>\n",
       "      <td>2000</td>\n",
       "      <td>Uzbekistan</td>\n",
       "      <td>Afghanistan</td>\n",
       "      <td>U / FI</td>\n",
       "      <td>265</td>\n",
       "      <td>265</td>\n",
       "      <td>2156</td>\n",
       "      <td>747</td>\n",
       "      <td>0</td>\n",
       "      <td>112</td>\n",
       "      <td>327</td>\n",
       "      <td>1186.0</td>\n",
       "      <td>1235</td>\n",
       "      <td>1235</td>\n",
       "    </tr>\n",
       "    <tr>\n",
       "      <th>3</th>\n",
       "      <td>2000</td>\n",
       "      <td>United States of America</td>\n",
       "      <td>Afghanistan</td>\n",
       "      <td>G / EO</td>\n",
       "      <td>196</td>\n",
       "      <td>0</td>\n",
       "      <td>225</td>\n",
       "      <td>151</td>\n",
       "      <td>0</td>\n",
       "      <td>31</td>\n",
       "      <td>68</td>\n",
       "      <td>250.0</td>\n",
       "      <td>171</td>\n",
       "      <td>0</td>\n",
       "    </tr>\n",
       "    <tr>\n",
       "      <th>4</th>\n",
       "      <td>2000</td>\n",
       "      <td>United States of America</td>\n",
       "      <td>Afghanistan</td>\n",
       "      <td>G / IN</td>\n",
       "      <td>193</td>\n",
       "      <td>0</td>\n",
       "      <td>218</td>\n",
       "      <td>182</td>\n",
       "      <td>0</td>\n",
       "      <td>51</td>\n",
       "      <td>40</td>\n",
       "      <td>273.0</td>\n",
       "      <td>150</td>\n",
       "      <td>0</td>\n",
       "    </tr>\n",
       "    <tr>\n",
       "      <th>...</th>\n",
       "      <td>...</td>\n",
       "      <td>...</td>\n",
       "      <td>...</td>\n",
       "      <td>...</td>\n",
       "      <td>...</td>\n",
       "      <td>...</td>\n",
       "      <td>...</td>\n",
       "      <td>...</td>\n",
       "      <td>...</td>\n",
       "      <td>...</td>\n",
       "      <td>...</td>\n",
       "      <td>...</td>\n",
       "      <td>...</td>\n",
       "      <td>...</td>\n",
       "    </tr>\n",
       "    <tr>\n",
       "      <th>129715</th>\n",
       "      <td>2016</td>\n",
       "      <td>United States of America</td>\n",
       "      <td>Zimbabwe</td>\n",
       "      <td>G / IN</td>\n",
       "      <td>232</td>\n",
       "      <td>NaN</td>\n",
       "      <td>229</td>\n",
       "      <td>16</td>\n",
       "      <td>NaN</td>\n",
       "      <td>*</td>\n",
       "      <td>10</td>\n",
       "      <td>28</td>\n",
       "      <td>435</td>\n",
       "      <td>NaN</td>\n",
       "    </tr>\n",
       "    <tr>\n",
       "      <th>129716</th>\n",
       "      <td>2016</td>\n",
       "      <td>United States of America</td>\n",
       "      <td>Zimbabwe</td>\n",
       "      <td>G / EO</td>\n",
       "      <td>142</td>\n",
       "      <td>NaN</td>\n",
       "      <td>12</td>\n",
       "      <td>*</td>\n",
       "      <td>NaN</td>\n",
       "      <td>*</td>\n",
       "      <td>23</td>\n",
       "      <td>31</td>\n",
       "      <td>138</td>\n",
       "      <td>NaN</td>\n",
       "    </tr>\n",
       "    <tr>\n",
       "      <th>129717</th>\n",
       "      <td>2016</td>\n",
       "      <td>South Africa</td>\n",
       "      <td>Zimbabwe</td>\n",
       "      <td>G / AR</td>\n",
       "      <td>94</td>\n",
       "      <td>9</td>\n",
       "      <td>NaN</td>\n",
       "      <td>NaN</td>\n",
       "      <td>NaN</td>\n",
       "      <td>NaN</td>\n",
       "      <td>94</td>\n",
       "      <td>94</td>\n",
       "      <td>0</td>\n",
       "      <td>NaN</td>\n",
       "    </tr>\n",
       "    <tr>\n",
       "      <th>129718</th>\n",
       "      <td>2016</td>\n",
       "      <td>South Africa</td>\n",
       "      <td>Zimbabwe</td>\n",
       "      <td>G / FI</td>\n",
       "      <td>41238</td>\n",
       "      <td>4124</td>\n",
       "      <td>7964</td>\n",
       "      <td>73</td>\n",
       "      <td>NaN</td>\n",
       "      <td>7869</td>\n",
       "      <td>NaN</td>\n",
       "      <td>7942</td>\n",
       "      <td>41260</td>\n",
       "      <td>NaN</td>\n",
       "    </tr>\n",
       "    <tr>\n",
       "      <th>129719</th>\n",
       "      <td>2016</td>\n",
       "      <td>Zambia</td>\n",
       "      <td>Zimbabwe</td>\n",
       "      <td>G / FI</td>\n",
       "      <td>*</td>\n",
       "      <td>*</td>\n",
       "      <td>*</td>\n",
       "      <td>0</td>\n",
       "      <td>NaN</td>\n",
       "      <td>*</td>\n",
       "      <td>*</td>\n",
       "      <td>*</td>\n",
       "      <td>*</td>\n",
       "      <td>*</td>\n",
       "    </tr>\n",
       "  </tbody>\n",
       "</table>\n",
       "<p>129720 rows × 14 columns</p>\n",
       "</div>"
      ],
      "text/plain": [
       "        Year Country / territory of asylum/residence       Origin  \\\n",
       "0       2000                                Zimbabwe  Afghanistan   \n",
       "1       2000                            South Africa  Afghanistan   \n",
       "2       2000                              Uzbekistan  Afghanistan   \n",
       "3       2000                United States of America  Afghanistan   \n",
       "4       2000                United States of America  Afghanistan   \n",
       "...      ...                                     ...          ...   \n",
       "129715  2016                United States of America     Zimbabwe   \n",
       "129716  2016                United States of America     Zimbabwe   \n",
       "129717  2016                            South Africa     Zimbabwe   \n",
       "129718  2016                            South Africa     Zimbabwe   \n",
       "129719  2016                                  Zambia     Zimbabwe   \n",
       "\n",
       "       RSD procedure type / level Tota pending start-year  \\\n",
       "0                          G / FI                       0   \n",
       "1                          G / FI                       8   \n",
       "2                          U / FI                     265   \n",
       "3                          G / EO                     196   \n",
       "4                          G / IN                     193   \n",
       "...                           ...                     ...   \n",
       "129715                     G / IN                     232   \n",
       "129716                     G / EO                     142   \n",
       "129717                     G / AR                      94   \n",
       "129718                     G / FI                   41238   \n",
       "129719                     G / FI                       *   \n",
       "\n",
       "       of which UNHCR-assisted(start-year) Applied during year  \\\n",
       "0                                        0                   5   \n",
       "1                                        1                   0   \n",
       "2                                      265                2156   \n",
       "3                                        0                 225   \n",
       "4                                        0                 218   \n",
       "...                                    ...                 ...   \n",
       "129715                                 NaN                 229   \n",
       "129716                                 NaN                  12   \n",
       "129717                                   9                 NaN   \n",
       "129718                                4124                7964   \n",
       "129719                                   *                   *   \n",
       "\n",
       "       decisions_recognized decisions_other Rejected Otherwise closed  \\\n",
       "0                         5               0        0                0   \n",
       "1                         0               0        0                0   \n",
       "2                       747               0      112              327   \n",
       "3                       151               0       31               68   \n",
       "4                       182               0       51               40   \n",
       "...                     ...             ...      ...              ...   \n",
       "129715                   16             NaN        *               10   \n",
       "129716                    *             NaN        *               23   \n",
       "129717                  NaN             NaN      NaN               94   \n",
       "129718                   73             NaN     7869              NaN   \n",
       "129719                    0             NaN        *                *   \n",
       "\n",
       "       Total decisions Total pending end-year  \\\n",
       "0                  5.0                      0   \n",
       "1                  NaN                      8   \n",
       "2               1186.0                   1235   \n",
       "3                250.0                    171   \n",
       "4                273.0                    150   \n",
       "...                ...                    ...   \n",
       "129715              28                    435   \n",
       "129716              31                    138   \n",
       "129717              94                      0   \n",
       "129718            7942                  41260   \n",
       "129719               *                      *   \n",
       "\n",
       "       of which UNHCR-assisted(end-year)  \n",
       "0                                      0  \n",
       "1                                      0  \n",
       "2                                   1235  \n",
       "3                                      0  \n",
       "4                                      0  \n",
       "...                                  ...  \n",
       "129715                               NaN  \n",
       "129716                               NaN  \n",
       "129717                               NaN  \n",
       "129718                               NaN  \n",
       "129719                                 *  \n",
       "\n",
       "[129720 rows x 14 columns]"
      ]
     },
     "execution_count": 4,
     "metadata": {},
     "output_type": "execute_result"
    }
   ],
   "source": [
    "df_completo = pd.read_csv('../Projeto-rascunho/asylum_seekers.csv')\n",
    "df_completo"
   ]
  },
  {
   "cell_type": "code",
   "execution_count": 5,
   "id": "23c99a0c",
   "metadata": {},
   "outputs": [
    {
     "data": {
      "text/html": [
       "<div>\n",
       "<style scoped>\n",
       "    .dataframe tbody tr th:only-of-type {\n",
       "        vertical-align: middle;\n",
       "    }\n",
       "\n",
       "    .dataframe tbody tr th {\n",
       "        vertical-align: top;\n",
       "    }\n",
       "\n",
       "    .dataframe thead th {\n",
       "        text-align: right;\n",
       "    }\n",
       "</style>\n",
       "<table border=\"1\" class=\"dataframe\">\n",
       "  <thead>\n",
       "    <tr style=\"text-align: right;\">\n",
       "      <th></th>\n",
       "      <th>destiny</th>\n",
       "      <th>origin</th>\n",
       "      <th>value</th>\n",
       "      <th>rejected</th>\n",
       "      <th>year</th>\n",
       "    </tr>\n",
       "  </thead>\n",
       "  <tbody>\n",
       "    <tr>\n",
       "      <th>0</th>\n",
       "      <td>Zimbabwe</td>\n",
       "      <td>Afghanistan</td>\n",
       "      <td>5</td>\n",
       "      <td>0</td>\n",
       "      <td>2000</td>\n",
       "    </tr>\n",
       "    <tr>\n",
       "      <th>1</th>\n",
       "      <td>South Africa</td>\n",
       "      <td>Afghanistan</td>\n",
       "      <td>0</td>\n",
       "      <td>0</td>\n",
       "      <td>2000</td>\n",
       "    </tr>\n",
       "    <tr>\n",
       "      <th>2</th>\n",
       "      <td>Uzbekistan</td>\n",
       "      <td>Afghanistan</td>\n",
       "      <td>747</td>\n",
       "      <td>112</td>\n",
       "      <td>2000</td>\n",
       "    </tr>\n",
       "    <tr>\n",
       "      <th>3</th>\n",
       "      <td>United States of America</td>\n",
       "      <td>Afghanistan</td>\n",
       "      <td>151</td>\n",
       "      <td>31</td>\n",
       "      <td>2000</td>\n",
       "    </tr>\n",
       "    <tr>\n",
       "      <th>4</th>\n",
       "      <td>United States of America</td>\n",
       "      <td>Afghanistan</td>\n",
       "      <td>182</td>\n",
       "      <td>51</td>\n",
       "      <td>2000</td>\n",
       "    </tr>\n",
       "    <tr>\n",
       "      <th>...</th>\n",
       "      <td>...</td>\n",
       "      <td>...</td>\n",
       "      <td>...</td>\n",
       "      <td>...</td>\n",
       "      <td>...</td>\n",
       "    </tr>\n",
       "    <tr>\n",
       "      <th>129715</th>\n",
       "      <td>United States of America</td>\n",
       "      <td>Zimbabwe</td>\n",
       "      <td>16</td>\n",
       "      <td>*</td>\n",
       "      <td>2016</td>\n",
       "    </tr>\n",
       "    <tr>\n",
       "      <th>129716</th>\n",
       "      <td>United States of America</td>\n",
       "      <td>Zimbabwe</td>\n",
       "      <td>*</td>\n",
       "      <td>*</td>\n",
       "      <td>2016</td>\n",
       "    </tr>\n",
       "    <tr>\n",
       "      <th>129717</th>\n",
       "      <td>South Africa</td>\n",
       "      <td>Zimbabwe</td>\n",
       "      <td>NaN</td>\n",
       "      <td>NaN</td>\n",
       "      <td>2016</td>\n",
       "    </tr>\n",
       "    <tr>\n",
       "      <th>129718</th>\n",
       "      <td>South Africa</td>\n",
       "      <td>Zimbabwe</td>\n",
       "      <td>73</td>\n",
       "      <td>7869</td>\n",
       "      <td>2016</td>\n",
       "    </tr>\n",
       "    <tr>\n",
       "      <th>129719</th>\n",
       "      <td>Zambia</td>\n",
       "      <td>Zimbabwe</td>\n",
       "      <td>0</td>\n",
       "      <td>*</td>\n",
       "      <td>2016</td>\n",
       "    </tr>\n",
       "  </tbody>\n",
       "</table>\n",
       "<p>129720 rows × 5 columns</p>\n",
       "</div>"
      ],
      "text/plain": [
       "                         destiny       origin value rejected  year\n",
       "0                       Zimbabwe  Afghanistan     5        0  2000\n",
       "1                   South Africa  Afghanistan     0        0  2000\n",
       "2                     Uzbekistan  Afghanistan   747      112  2000\n",
       "3       United States of America  Afghanistan   151       31  2000\n",
       "4       United States of America  Afghanistan   182       51  2000\n",
       "...                          ...          ...   ...      ...   ...\n",
       "129715  United States of America     Zimbabwe    16        *  2016\n",
       "129716  United States of America     Zimbabwe     *        *  2016\n",
       "129717              South Africa     Zimbabwe   NaN      NaN  2016\n",
       "129718              South Africa     Zimbabwe    73     7869  2016\n",
       "129719                    Zambia     Zimbabwe     0        *  2016\n",
       "\n",
       "[129720 rows x 5 columns]"
      ]
     },
     "execution_count": 5,
     "metadata": {},
     "output_type": "execute_result"
    }
   ],
   "source": [
    "df_aresta = df_completo.loc[:, ['Country / territory of asylum/residence', 'Origin', 'decisions_recognized', 'Rejected', 'Year']]\n",
    "df_aresta = df_aresta.rename(columns={'Origin': 'origin', 'Country / territory of asylum/residence': 'destiny', 'decisions_recognized': 'value', 'Rejected': 'rejected','Year' : 'year'})\n",
    "df_aresta"
   ]
  },
  {
   "cell_type": "code",
   "execution_count": 6,
   "id": "571dd4ad",
   "metadata": {},
   "outputs": [
    {
     "data": {
      "text/html": [
       "<div>\n",
       "<style scoped>\n",
       "    .dataframe tbody tr th:only-of-type {\n",
       "        vertical-align: middle;\n",
       "    }\n",
       "\n",
       "    .dataframe tbody tr th {\n",
       "        vertical-align: top;\n",
       "    }\n",
       "\n",
       "    .dataframe thead th {\n",
       "        text-align: right;\n",
       "    }\n",
       "</style>\n",
       "<table border=\"1\" class=\"dataframe\">\n",
       "  <thead>\n",
       "    <tr style=\"text-align: right;\">\n",
       "      <th></th>\n",
       "      <th>destiny</th>\n",
       "      <th>origin</th>\n",
       "      <th>value</th>\n",
       "      <th>rejected</th>\n",
       "      <th>year</th>\n",
       "    </tr>\n",
       "  </thead>\n",
       "  <tbody>\n",
       "    <tr>\n",
       "      <th>0</th>\n",
       "      <td>Zimbabwe</td>\n",
       "      <td>Afghanistan</td>\n",
       "      <td>5.0</td>\n",
       "      <td>0</td>\n",
       "      <td>2000</td>\n",
       "    </tr>\n",
       "    <tr>\n",
       "      <th>1</th>\n",
       "      <td>South Africa</td>\n",
       "      <td>Afghanistan</td>\n",
       "      <td>0.0</td>\n",
       "      <td>0</td>\n",
       "      <td>2000</td>\n",
       "    </tr>\n",
       "    <tr>\n",
       "      <th>2</th>\n",
       "      <td>Uzbekistan</td>\n",
       "      <td>Afghanistan</td>\n",
       "      <td>747.0</td>\n",
       "      <td>112</td>\n",
       "      <td>2000</td>\n",
       "    </tr>\n",
       "    <tr>\n",
       "      <th>3</th>\n",
       "      <td>United States of America</td>\n",
       "      <td>Afghanistan</td>\n",
       "      <td>151.0</td>\n",
       "      <td>31</td>\n",
       "      <td>2000</td>\n",
       "    </tr>\n",
       "    <tr>\n",
       "      <th>4</th>\n",
       "      <td>United States of America</td>\n",
       "      <td>Afghanistan</td>\n",
       "      <td>182.0</td>\n",
       "      <td>51</td>\n",
       "      <td>2000</td>\n",
       "    </tr>\n",
       "    <tr>\n",
       "      <th>...</th>\n",
       "      <td>...</td>\n",
       "      <td>...</td>\n",
       "      <td>...</td>\n",
       "      <td>...</td>\n",
       "      <td>...</td>\n",
       "    </tr>\n",
       "    <tr>\n",
       "      <th>129715</th>\n",
       "      <td>United States of America</td>\n",
       "      <td>Zimbabwe</td>\n",
       "      <td>16.0</td>\n",
       "      <td>*</td>\n",
       "      <td>2016</td>\n",
       "    </tr>\n",
       "    <tr>\n",
       "      <th>129716</th>\n",
       "      <td>United States of America</td>\n",
       "      <td>Zimbabwe</td>\n",
       "      <td>0.0</td>\n",
       "      <td>*</td>\n",
       "      <td>2016</td>\n",
       "    </tr>\n",
       "    <tr>\n",
       "      <th>129717</th>\n",
       "      <td>South Africa</td>\n",
       "      <td>Zimbabwe</td>\n",
       "      <td>0.0</td>\n",
       "      <td>NaN</td>\n",
       "      <td>2016</td>\n",
       "    </tr>\n",
       "    <tr>\n",
       "      <th>129718</th>\n",
       "      <td>South Africa</td>\n",
       "      <td>Zimbabwe</td>\n",
       "      <td>73.0</td>\n",
       "      <td>7869</td>\n",
       "      <td>2016</td>\n",
       "    </tr>\n",
       "    <tr>\n",
       "      <th>129719</th>\n",
       "      <td>Zambia</td>\n",
       "      <td>Zimbabwe</td>\n",
       "      <td>0.0</td>\n",
       "      <td>*</td>\n",
       "      <td>2016</td>\n",
       "    </tr>\n",
       "  </tbody>\n",
       "</table>\n",
       "<p>129720 rows × 5 columns</p>\n",
       "</div>"
      ],
      "text/plain": [
       "                         destiny       origin  value rejected  year\n",
       "0                       Zimbabwe  Afghanistan    5.0        0  2000\n",
       "1                   South Africa  Afghanistan    0.0        0  2000\n",
       "2                     Uzbekistan  Afghanistan  747.0      112  2000\n",
       "3       United States of America  Afghanistan  151.0       31  2000\n",
       "4       United States of America  Afghanistan  182.0       51  2000\n",
       "...                          ...          ...    ...      ...   ...\n",
       "129715  United States of America     Zimbabwe   16.0        *  2016\n",
       "129716  United States of America     Zimbabwe    0.0        *  2016\n",
       "129717              South Africa     Zimbabwe    0.0      NaN  2016\n",
       "129718              South Africa     Zimbabwe   73.0     7869  2016\n",
       "129719                    Zambia     Zimbabwe    0.0        *  2016\n",
       "\n",
       "[129720 rows x 5 columns]"
      ]
     },
     "execution_count": 6,
     "metadata": {},
     "output_type": "execute_result"
    }
   ],
   "source": [
    "df_aresta.value = pd.to_numeric(df_aresta['value'], errors = 'coerce').fillna(0)\n",
    "df_aresta"
   ]
  },
  {
   "cell_type": "markdown",
   "id": "dbfecb5d",
   "metadata": {},
   "source": [
    "#### Recorte pelos anos\n",
    "\n",
    "Abaixo, realizamos o recorte da base de dados de acordo com os anos propostos no recorte (2001 a 2003)."
   ]
  },
  {
   "cell_type": "code",
   "execution_count": 7,
   "id": "068d8ec6",
   "metadata": {
    "collapsed": true
   },
   "outputs": [
    {
     "data": {
      "text/html": [
       "<div>\n",
       "<style scoped>\n",
       "    .dataframe tbody tr th:only-of-type {\n",
       "        vertical-align: middle;\n",
       "    }\n",
       "\n",
       "    .dataframe tbody tr th {\n",
       "        vertical-align: top;\n",
       "    }\n",
       "\n",
       "    .dataframe thead th {\n",
       "        text-align: right;\n",
       "    }\n",
       "</style>\n",
       "<table border=\"1\" class=\"dataframe\">\n",
       "  <thead>\n",
       "    <tr style=\"text-align: right;\">\n",
       "      <th></th>\n",
       "      <th>destiny</th>\n",
       "      <th>origin</th>\n",
       "      <th>value</th>\n",
       "      <th>rejected</th>\n",
       "      <th>year</th>\n",
       "    </tr>\n",
       "  </thead>\n",
       "  <tbody>\n",
       "    <tr>\n",
       "      <th>5153</th>\n",
       "      <td>South Africa</td>\n",
       "      <td>Afghanistan</td>\n",
       "      <td>0.0</td>\n",
       "      <td>0</td>\n",
       "      <td>2001</td>\n",
       "    </tr>\n",
       "    <tr>\n",
       "      <th>5154</th>\n",
       "      <td>South Africa</td>\n",
       "      <td>Afghanistan</td>\n",
       "      <td>5.0</td>\n",
       "      <td>2</td>\n",
       "      <td>2001</td>\n",
       "    </tr>\n",
       "    <tr>\n",
       "      <th>5155</th>\n",
       "      <td>Uzbekistan</td>\n",
       "      <td>Afghanistan</td>\n",
       "      <td>1573.0</td>\n",
       "      <td>247</td>\n",
       "      <td>2001</td>\n",
       "    </tr>\n",
       "    <tr>\n",
       "      <th>5156</th>\n",
       "      <td>United States of America</td>\n",
       "      <td>Afghanistan</td>\n",
       "      <td>129.0</td>\n",
       "      <td>27</td>\n",
       "      <td>2001</td>\n",
       "    </tr>\n",
       "    <tr>\n",
       "      <th>5157</th>\n",
       "      <td>United States of America</td>\n",
       "      <td>Afghanistan</td>\n",
       "      <td>212.0</td>\n",
       "      <td>43</td>\n",
       "      <td>2001</td>\n",
       "    </tr>\n",
       "    <tr>\n",
       "      <th>...</th>\n",
       "      <td>...</td>\n",
       "      <td>...</td>\n",
       "      <td>...</td>\n",
       "      <td>...</td>\n",
       "      <td>...</td>\n",
       "    </tr>\n",
       "    <tr>\n",
       "      <th>22911</th>\n",
       "      <td>Ukraine</td>\n",
       "      <td>Zimbabwe</td>\n",
       "      <td>0.0</td>\n",
       "      <td>2</td>\n",
       "      <td>2003</td>\n",
       "    </tr>\n",
       "    <tr>\n",
       "      <th>22912</th>\n",
       "      <td>Ukraine</td>\n",
       "      <td>Zimbabwe</td>\n",
       "      <td>0.0</td>\n",
       "      <td>1</td>\n",
       "      <td>2003</td>\n",
       "    </tr>\n",
       "    <tr>\n",
       "      <th>22913</th>\n",
       "      <td>United States of America</td>\n",
       "      <td>Zimbabwe</td>\n",
       "      <td>115.0</td>\n",
       "      <td>160</td>\n",
       "      <td>2003</td>\n",
       "    </tr>\n",
       "    <tr>\n",
       "      <th>22914</th>\n",
       "      <td>United States of America</td>\n",
       "      <td>Zimbabwe</td>\n",
       "      <td>54.0</td>\n",
       "      <td>72</td>\n",
       "      <td>2003</td>\n",
       "    </tr>\n",
       "    <tr>\n",
       "      <th>22915</th>\n",
       "      <td>South Africa</td>\n",
       "      <td>Zimbabwe</td>\n",
       "      <td>9.0</td>\n",
       "      <td>16</td>\n",
       "      <td>2003</td>\n",
       "    </tr>\n",
       "  </tbody>\n",
       "</table>\n",
       "<p>17763 rows × 5 columns</p>\n",
       "</div>"
      ],
      "text/plain": [
       "                        destiny       origin   value rejected  year\n",
       "5153               South Africa  Afghanistan     0.0        0  2001\n",
       "5154               South Africa  Afghanistan     5.0        2  2001\n",
       "5155                 Uzbekistan  Afghanistan  1573.0      247  2001\n",
       "5156   United States of America  Afghanistan   129.0       27  2001\n",
       "5157   United States of America  Afghanistan   212.0       43  2001\n",
       "...                         ...          ...     ...      ...   ...\n",
       "22911                   Ukraine     Zimbabwe     0.0        2  2003\n",
       "22912                   Ukraine     Zimbabwe     0.0        1  2003\n",
       "22913  United States of America     Zimbabwe   115.0      160  2003\n",
       "22914  United States of America     Zimbabwe    54.0       72  2003\n",
       "22915              South Africa     Zimbabwe     9.0       16  2003\n",
       "\n",
       "[17763 rows x 5 columns]"
      ]
     },
     "execution_count": 7,
     "metadata": {},
     "output_type": "execute_result"
    }
   ],
   "source": [
    "df_aresta_2001_2003 = df_aresta[((df_aresta['year'] == 2001) | (df_aresta['year'] == 2002) | (df_aresta['year'] == 2003))]\n",
    "df_aresta_2001_2003"
   ]
  },
  {
   "cell_type": "code",
   "execution_count": 8,
   "id": "adeba35c",
   "metadata": {},
   "outputs": [],
   "source": [
    "df_aresta_2001_2003 = df_aresta_2001_2003.drop('year', axis=1)"
   ]
  },
  {
   "cell_type": "code",
   "execution_count": 9,
   "id": "99d8160f",
   "metadata": {},
   "outputs": [],
   "source": [
    "df_aresta_2001_2003.value = df_aresta_2001_2003['value'].astype(int)\n",
    "df_aresta_2001_2003.rejected = df_aresta_2001_2003['rejected'].astype(int)"
   ]
  },
  {
   "cell_type": "code",
   "execution_count": 10,
   "id": "7de6656e",
   "metadata": {
    "collapsed": true
   },
   "outputs": [
    {
     "name": "stdout",
     "output_type": "stream",
     "text": [
      "<class 'pandas.core.frame.DataFrame'>\n",
      "Int64Index: 17763 entries, 5153 to 22915\n",
      "Data columns (total 4 columns):\n",
      " #   Column    Non-Null Count  Dtype \n",
      "---  ------    --------------  ----- \n",
      " 0   destiny   17763 non-null  object\n",
      " 1   origin    17763 non-null  object\n",
      " 2   value     17763 non-null  int64 \n",
      " 3   rejected  17763 non-null  int64 \n",
      "dtypes: int64(2), object(2)\n",
      "memory usage: 693.9+ KB\n"
     ]
    }
   ],
   "source": [
    "df_aresta_2001_2003.info()"
   ]
  },
  {
   "cell_type": "code",
   "execution_count": 11,
   "id": "9ec9988d",
   "metadata": {
    "collapsed": true
   },
   "outputs": [
    {
     "data": {
      "text/plain": [
       "['Algeria',\n",
       " 'Angola',\n",
       " 'Benin',\n",
       " 'Botswana',\n",
       " 'Burkina Faso',\n",
       " 'Burundi',\n",
       " 'Cabo Verde',\n",
       " 'Cameroon',\n",
       " 'Central African Rep.',\n",
       " 'Chad',\n",
       " 'Comoros',\n",
       " 'Congo',\n",
       " \"Côte d'Ivoire\",\n",
       " 'Dem. Rep. of the Congo',\n",
       " 'Djibouti',\n",
       " 'Egypt',\n",
       " 'Equatorial Guinea',\n",
       " 'Eritrea',\n",
       " 'Ethiopia',\n",
       " 'Gabon',\n",
       " 'Gambia',\n",
       " 'Ghana',\n",
       " 'Guinea',\n",
       " 'Guinea-Bissau',\n",
       " 'Kenya',\n",
       " 'Lesotho',\n",
       " 'Liberia',\n",
       " 'Libya',\n",
       " 'Madagascar',\n",
       " 'Malawi',\n",
       " 'Mali',\n",
       " 'Mauritania',\n",
       " 'Mauritius',\n",
       " 'Morocco',\n",
       " 'Mozambique',\n",
       " 'Namibia',\n",
       " 'Niger',\n",
       " 'Nigeria',\n",
       " 'Rwanda',\n",
       " 'Sao Tome and Principe',\n",
       " 'Senegal',\n",
       " 'Seychelles',\n",
       " 'Sierra Leone',\n",
       " 'Somalia',\n",
       " 'South Africa',\n",
       " 'South Sudan',\n",
       " 'Sudan',\n",
       " 'Tanzania',\n",
       " 'Togo',\n",
       " 'Tunisia',\n",
       " 'Uganda',\n",
       " 'Zambia',\n",
       " 'Zimbabwe']"
      ]
     },
     "execution_count": 11,
     "metadata": {},
     "output_type": "execute_result"
    }
   ],
   "source": [
    "paises_africa =  pd.read_csv('./african_countries.csv')\n",
    "lista_paises_africa = paises_africa['Afro_countries'].to_list()\n",
    "lista_paises_africa"
   ]
  },
  {
   "cell_type": "markdown",
   "id": "31a731a9",
   "metadata": {},
   "source": [
    "Tabela filtrada com anos de 2001-2003 e países da África em lista."
   ]
  },
  {
   "cell_type": "markdown",
   "id": "8bc125b0",
   "metadata": {},
   "source": [
    "Agora vamos calcular o coreness desse ano e depois analisar para a região da África."
   ]
  },
  {
   "cell_type": "code",
   "execution_count": 12,
   "id": "dd3ef29f",
   "metadata": {},
   "outputs": [
    {
     "name": "stdout",
     "output_type": "stream",
     "text": [
      "225\n"
     ]
    }
   ],
   "source": [
    "listaVertices = []\n",
    "\n",
    "listaVertices = set(df_completo['Country / territory of asylum/residence'].unique().tolist() + df_completo['Origin'].unique().tolist())\n",
    "\n",
    "print(len(listaVertices))"
   ]
  },
  {
   "cell_type": "code",
   "execution_count": 13,
   "id": "aa4a7e34",
   "metadata": {},
   "outputs": [],
   "source": [
    "# Criando um grafo não-dirigido\n",
    "g = Graph(directed=True) \n",
    "g.add_vp('nome')\n",
    "g.add_ep('aceitos')"
   ]
  },
  {
   "cell_type": "code",
   "execution_count": 14,
   "id": "59822844",
   "metadata": {},
   "outputs": [],
   "source": [
    "for vertice in listaVertices:\n",
    "    g.add_vertex(vertice)"
   ]
  },
  {
   "cell_type": "code",
   "execution_count": 15,
   "id": "41e2ae29",
   "metadata": {},
   "outputs": [],
   "source": [
    "for v in g.all_vertices():\n",
    "    v['nome'] = str(v)"
   ]
  },
  {
   "cell_type": "code",
   "execution_count": 16,
   "id": "488ea25a",
   "metadata": {},
   "outputs": [
    {
     "name": "stdout",
     "output_type": "stream",
     "text": [
      "O número de vértices do grafo é : 225\n"
     ]
    }
   ],
   "source": [
    "n = g.num_vertices()\n",
    "print('O número de vértices do grafo é :', n)"
   ]
  },
  {
   "cell_type": "code",
   "execution_count": 17,
   "id": "c712e8cc",
   "metadata": {
    "collapsed": true
   },
   "outputs": [
    {
     "data": {
      "text/html": [
       "<div>\n",
       "<style scoped>\n",
       "    .dataframe tbody tr th:only-of-type {\n",
       "        vertical-align: middle;\n",
       "    }\n",
       "\n",
       "    .dataframe tbody tr th {\n",
       "        vertical-align: top;\n",
       "    }\n",
       "\n",
       "    .dataframe thead th {\n",
       "        text-align: right;\n",
       "    }\n",
       "</style>\n",
       "<table border=\"1\" class=\"dataframe\">\n",
       "  <thead>\n",
       "    <tr style=\"text-align: right;\">\n",
       "      <th></th>\n",
       "      <th>destiny</th>\n",
       "      <th>origin</th>\n",
       "      <th>value</th>\n",
       "      <th>rejected</th>\n",
       "    </tr>\n",
       "  </thead>\n",
       "  <tbody>\n",
       "    <tr>\n",
       "      <th>5153</th>\n",
       "      <td>South Africa</td>\n",
       "      <td>Afghanistan</td>\n",
       "      <td>0</td>\n",
       "      <td>0</td>\n",
       "    </tr>\n",
       "    <tr>\n",
       "      <th>5154</th>\n",
       "      <td>South Africa</td>\n",
       "      <td>Afghanistan</td>\n",
       "      <td>5</td>\n",
       "      <td>2</td>\n",
       "    </tr>\n",
       "    <tr>\n",
       "      <th>5155</th>\n",
       "      <td>Uzbekistan</td>\n",
       "      <td>Afghanistan</td>\n",
       "      <td>1573</td>\n",
       "      <td>247</td>\n",
       "    </tr>\n",
       "    <tr>\n",
       "      <th>5156</th>\n",
       "      <td>United States of America</td>\n",
       "      <td>Afghanistan</td>\n",
       "      <td>129</td>\n",
       "      <td>27</td>\n",
       "    </tr>\n",
       "    <tr>\n",
       "      <th>5157</th>\n",
       "      <td>United States of America</td>\n",
       "      <td>Afghanistan</td>\n",
       "      <td>212</td>\n",
       "      <td>43</td>\n",
       "    </tr>\n",
       "    <tr>\n",
       "      <th>...</th>\n",
       "      <td>...</td>\n",
       "      <td>...</td>\n",
       "      <td>...</td>\n",
       "      <td>...</td>\n",
       "    </tr>\n",
       "    <tr>\n",
       "      <th>22911</th>\n",
       "      <td>Ukraine</td>\n",
       "      <td>Zimbabwe</td>\n",
       "      <td>0</td>\n",
       "      <td>2</td>\n",
       "    </tr>\n",
       "    <tr>\n",
       "      <th>22912</th>\n",
       "      <td>Ukraine</td>\n",
       "      <td>Zimbabwe</td>\n",
       "      <td>0</td>\n",
       "      <td>1</td>\n",
       "    </tr>\n",
       "    <tr>\n",
       "      <th>22913</th>\n",
       "      <td>United States of America</td>\n",
       "      <td>Zimbabwe</td>\n",
       "      <td>115</td>\n",
       "      <td>160</td>\n",
       "    </tr>\n",
       "    <tr>\n",
       "      <th>22914</th>\n",
       "      <td>United States of America</td>\n",
       "      <td>Zimbabwe</td>\n",
       "      <td>54</td>\n",
       "      <td>72</td>\n",
       "    </tr>\n",
       "    <tr>\n",
       "      <th>22915</th>\n",
       "      <td>South Africa</td>\n",
       "      <td>Zimbabwe</td>\n",
       "      <td>9</td>\n",
       "      <td>16</td>\n",
       "    </tr>\n",
       "  </tbody>\n",
       "</table>\n",
       "<p>17744 rows × 4 columns</p>\n",
       "</div>"
      ],
      "text/plain": [
       "                        destiny       origin  value  rejected\n",
       "5153               South Africa  Afghanistan      0         0\n",
       "5154               South Africa  Afghanistan      5         2\n",
       "5155                 Uzbekistan  Afghanistan   1573       247\n",
       "5156   United States of America  Afghanistan    129        27\n",
       "5157   United States of America  Afghanistan    212        43\n",
       "...                         ...          ...    ...       ...\n",
       "22911                   Ukraine     Zimbabwe      0         2\n",
       "22912                   Ukraine     Zimbabwe      0         1\n",
       "22913  United States of America     Zimbabwe    115       160\n",
       "22914  United States of America     Zimbabwe     54        72\n",
       "22915              South Africa     Zimbabwe      9        16\n",
       "\n",
       "[17744 rows x 4 columns]"
      ]
     },
     "execution_count": 17,
     "metadata": {},
     "output_type": "execute_result"
    }
   ],
   "source": [
    "df_aresta_2001_2003 = df_aresta_2001_2003[df_aresta_2001_2003['origin'] != df_aresta_2001_2003['destiny']]\n",
    "df_aresta_2001_2003"
   ]
  },
  {
   "cell_type": "code",
   "execution_count": 18,
   "id": "efc349ac",
   "metadata": {
    "collapsed": true
   },
   "outputs": [
    {
     "data": {
      "text/html": [
       "<div>\n",
       "<style scoped>\n",
       "    .dataframe tbody tr th:only-of-type {\n",
       "        vertical-align: middle;\n",
       "    }\n",
       "\n",
       "    .dataframe tbody tr th {\n",
       "        vertical-align: top;\n",
       "    }\n",
       "\n",
       "    .dataframe thead th {\n",
       "        text-align: right;\n",
       "    }\n",
       "</style>\n",
       "<table border=\"1\" class=\"dataframe\">\n",
       "  <thead>\n",
       "    <tr style=\"text-align: right;\">\n",
       "      <th></th>\n",
       "      <th>origin</th>\n",
       "      <th>destiny</th>\n",
       "      <th>value</th>\n",
       "      <th>rejected</th>\n",
       "    </tr>\n",
       "  </thead>\n",
       "  <tbody>\n",
       "    <tr>\n",
       "      <th>0</th>\n",
       "      <td>Afghanistan</td>\n",
       "      <td>Angola</td>\n",
       "      <td>0</td>\n",
       "      <td>2</td>\n",
       "    </tr>\n",
       "    <tr>\n",
       "      <th>1</th>\n",
       "      <td>Afghanistan</td>\n",
       "      <td>Argentina</td>\n",
       "      <td>0</td>\n",
       "      <td>0</td>\n",
       "    </tr>\n",
       "    <tr>\n",
       "      <th>2</th>\n",
       "      <td>Afghanistan</td>\n",
       "      <td>Armenia</td>\n",
       "      <td>0</td>\n",
       "      <td>4</td>\n",
       "    </tr>\n",
       "    <tr>\n",
       "      <th>3</th>\n",
       "      <td>Afghanistan</td>\n",
       "      <td>Australia</td>\n",
       "      <td>2192</td>\n",
       "      <td>757</td>\n",
       "    </tr>\n",
       "    <tr>\n",
       "      <th>4</th>\n",
       "      <td>Afghanistan</td>\n",
       "      <td>Austria</td>\n",
       "      <td>1034</td>\n",
       "      <td>811</td>\n",
       "    </tr>\n",
       "    <tr>\n",
       "      <th>...</th>\n",
       "      <td>...</td>\n",
       "      <td>...</td>\n",
       "      <td>...</td>\n",
       "      <td>...</td>\n",
       "    </tr>\n",
       "    <tr>\n",
       "      <th>5845</th>\n",
       "      <td>Zimbabwe</td>\n",
       "      <td>Switzerland</td>\n",
       "      <td>0</td>\n",
       "      <td>17</td>\n",
       "    </tr>\n",
       "    <tr>\n",
       "      <th>5846</th>\n",
       "      <td>Zimbabwe</td>\n",
       "      <td>Thailand</td>\n",
       "      <td>0</td>\n",
       "      <td>0</td>\n",
       "    </tr>\n",
       "    <tr>\n",
       "      <th>5847</th>\n",
       "      <td>Zimbabwe</td>\n",
       "      <td>Ukraine</td>\n",
       "      <td>0</td>\n",
       "      <td>3</td>\n",
       "    </tr>\n",
       "    <tr>\n",
       "      <th>5848</th>\n",
       "      <td>Zimbabwe</td>\n",
       "      <td>United Kingdom</td>\n",
       "      <td>5490</td>\n",
       "      <td>12256</td>\n",
       "    </tr>\n",
       "    <tr>\n",
       "      <th>5849</th>\n",
       "      <td>Zimbabwe</td>\n",
       "      <td>United States of America</td>\n",
       "      <td>266</td>\n",
       "      <td>363</td>\n",
       "    </tr>\n",
       "  </tbody>\n",
       "</table>\n",
       "<p>5850 rows × 4 columns</p>\n",
       "</div>"
      ],
      "text/plain": [
       "           origin                   destiny  value  rejected\n",
       "0     Afghanistan                    Angola      0         2\n",
       "1     Afghanistan                 Argentina      0         0\n",
       "2     Afghanistan                   Armenia      0         4\n",
       "3     Afghanistan                 Australia   2192       757\n",
       "4     Afghanistan                   Austria   1034       811\n",
       "...           ...                       ...    ...       ...\n",
       "5845     Zimbabwe               Switzerland      0        17\n",
       "5846     Zimbabwe                  Thailand      0         0\n",
       "5847     Zimbabwe                   Ukraine      0         3\n",
       "5848     Zimbabwe            United Kingdom   5490     12256\n",
       "5849     Zimbabwe  United States of America    266       363\n",
       "\n",
       "[5850 rows x 4 columns]"
      ]
     },
     "execution_count": 18,
     "metadata": {},
     "output_type": "execute_result"
    }
   ],
   "source": [
    "df_aresta_2001_2003 = df_aresta_2001_2003.groupby(['origin', 'destiny']).sum().reset_index()\n",
    "df_aresta_2001_2003"
   ]
  },
  {
   "cell_type": "code",
   "execution_count": 19,
   "id": "154f0d81",
   "metadata": {},
   "outputs": [],
   "source": [
    "for index, row in df_aresta_2001_2003.iterrows():\n",
    "    g.add_edge(row.origin, row.destiny)\n",
    "    g.get_edge(row.origin, row.destiny)['aceitos'] = row.value"
   ]
  },
  {
   "cell_type": "code",
   "execution_count": 20,
   "id": "7b21d53e",
   "metadata": {},
   "outputs": [],
   "source": [
    "gt_save(g, '/grafo_2001_2003.net.gz')"
   ]
  },
  {
   "cell_type": "code",
   "execution_count": 21,
   "id": "5ea8042c",
   "metadata": {},
   "outputs": [],
   "source": [
    "g = gt_load('/grafo_2001_2003.net.gz')"
   ]
  },
  {
   "cell_type": "code",
   "execution_count": 22,
   "id": "496d4584",
   "metadata": {},
   "outputs": [],
   "source": [
    "m = gt_draw.sfdp_layout(g)\n",
    "gt_move(g, m)\n",
    "gt_save(g, 'grafo_2001_2003.net.gz')"
   ]
  },
  {
   "cell_type": "code",
   "execution_count": 38,
   "id": "b7184f35",
   "metadata": {},
   "outputs": [],
   "source": [
    "r = netpixi.render('grafo_2001_2003.net.gz', infinite=True);"
   ]
  },
  {
   "cell_type": "code",
   "execution_count": 24,
   "id": "83c24230",
   "metadata": {},
   "outputs": [
    {
     "data": {
      "text/html": [
       "\n",
       "        <div id=\"RCbTWFmPKMp8PM2MJmjwQn\"></div>\n",
       "        <script>netpixi.call('RCbTWFmPKMp8PM2MJmjwQn', 'LTDvtyqNccN2vK2kg2Dkga', 'setGraph', 'eyJ0eXBlIjogInZlcnRleCIsICJwcm9wcyI6IHsic3JjIjogIm5vbWUiLCAiZHN0IjogIl9rZXkifX0K');</script>\n",
       "    "
      ],
      "text/plain": [
       "<IPython.core.display.HTML object>"
      ]
     },
     "metadata": {},
     "output_type": "display_data"
    },
    {
     "data": {
      "text/html": [
       "\n",
       "        <div id=\"92Zt4sFx3renZY8LohghK8\"></div>\n",
       "        <script>netpixi.call('92Zt4sFx3renZY8LohghK8', 'LTDvtyqNccN2vK2kg2Dkga', 'changeGraph', 'eyJ0eXBlIjogInNldHRpbmdzIiwgInByb3BzIjogeyJ2ZXJ0ZXgiOiB7ImNvbG9yIjogMTY3NzcyMTV9fX0K');</script>\n",
       "    "
      ],
      "text/plain": [
       "<IPython.core.display.HTML object>"
      ]
     },
     "metadata": {},
     "output_type": "display_data"
    },
    {
     "data": {
      "text/html": [
       "\n",
       "        <div id=\"Tm73CxacjYQhL2FHvMfRTf\"></div>\n",
       "        <script>netpixi.call('Tm73CxacjYQhL2FHvMfRTf', 'LTDvtyqNccN2vK2kg2Dkga', 'changeGraph', 'eyJ0eXBlIjogInNldHRpbmdzIiwgInByb3BzIjogeyJlZGdlIjogeyJjb2xvciI6IDIxNDI4OTB9fX0K');</script>\n",
       "    "
      ],
      "text/plain": [
       "<IPython.core.display.HTML object>"
      ]
     },
     "metadata": {},
     "output_type": "display_data"
    }
   ],
   "source": [
    "r.vertex_set_key('nome')\n",
    "\n",
    "r.vertex_default(color=0xffffff)\n",
    "\n",
    "# mudar a cor, a espessura e a curvatura das arestas\n",
    "r.edge_default(color=0x20B2AA)"
   ]
  },
  {
   "cell_type": "code",
   "execution_count": 25,
   "id": "f4a0a46d",
   "metadata": {},
   "outputs": [
    {
     "data": {
      "text/html": [
       "\n",
       "        <div id=\"TWdMKgwHuQZZJXGbdbu7qr\"></div>\n",
       "        <script>netpixi.call('TWdMKgwHuQZZJXGbdbu7qr', 'LTDvtyqNccN2vK2kg2Dkga', 'normalizeGraph', 'eyJ0eXBlIjogImVkZ2UiLCAicHJvcHMiOiB7InNyYyI6ICJhY2VpdG9zIiwgIm1pbiI6IDEsICJtYXgiOiAxMH19Cg==');</script>\n",
       "    "
      ],
      "text/plain": [
       "<IPython.core.display.HTML object>"
      ]
     },
     "metadata": {},
     "output_type": "display_data"
    }
   ],
   "source": [
    "r.edge_scale('aceitos', 1, 10)"
   ]
  },
  {
   "cell_type": "code",
   "execution_count": 26,
   "id": "65598783",
   "metadata": {},
   "outputs": [],
   "source": [
    "m = gt_draw.sfdp_layout(g)\n",
    "gt_move(g, m)\n",
    "gt_save(g, 'centralidadeCoreness20012003.net.gz')"
   ]
  },
  {
   "cell_type": "code",
   "execution_count": 39,
   "id": "53789a55",
   "metadata": {},
   "outputs": [],
   "source": [
    "r = netpixi.render('centralidadeCoreness20012003.net.gz')"
   ]
  },
  {
   "cell_type": "code",
   "execution_count": 28,
   "id": "18d25e13",
   "metadata": {},
   "outputs": [
    {
     "name": "stderr",
     "output_type": "stream",
     "text": [
      "<frozen importlib._bootstrap>:914: ImportWarning: VendorImporter.find_spec() not found; falling back to find_module()\n"
     ]
    },
    {
     "data": {
      "text/html": [
       "\n",
       "        <div id=\"48SZiUhQJ5U7baBVW7hgmz\"></div>\n",
       "        <script>netpixi.call('48SZiUhQJ5U7baBVW7hgmz', 'MiUAfrEVHdQpvYCiSm4k67', 'changeGraph', 'eyJpZCI6ICJVemJla2lzdGFuIiwgInR5cGUiOiAidmVydGV4IiwgInByb3BzIjogeyJjb2xvciI6IDY1MjgwfX0K');</script>\n",
       "    "
      ],
      "text/plain": [
       "<IPython.core.display.HTML object>"
      ]
     },
     "metadata": {},
     "output_type": "display_data"
    },
    {
     "data": {
      "text/html": [
       "\n",
       "        <div id=\"EVERi3yi8nhNqMWeXqUDPz\"></div>\n",
       "        <script>netpixi.call('EVERi3yi8nhNqMWeXqUDPz', 'MiUAfrEVHdQpvYCiSm4k67', 'changeGraph', 'eyJpZCI6ICJCYWhyYWluIiwgInR5cGUiOiAidmVydGV4IiwgInByb3BzIjogeyJjb2xvciI6IDY1MjgwfX0K');</script>\n",
       "    "
      ],
      "text/plain": [
       "<IPython.core.display.HTML object>"
      ]
     },
     "metadata": {},
     "output_type": "display_data"
    },
    {
     "data": {
      "text/html": [
       "\n",
       "        <div id=\"KgtjM9RfsNX7UCineRVdZX\"></div>\n",
       "        <script>netpixi.call('KgtjM9RfsNX7UCineRVdZX', 'MiUAfrEVHdQpvYCiSm4k67', 'changeGraph', 'eyJpZCI6ICJMdXhlbWJvdXJnIiwgInR5cGUiOiAidmVydGV4IiwgInByb3BzIjogeyJjb2xvciI6IDE2NzExNjgwfX0K');</script>\n",
       "    "
      ],
      "text/plain": [
       "<IPython.core.display.HTML object>"
      ]
     },
     "metadata": {},
     "output_type": "display_data"
    },
    {
     "data": {
      "text/html": [
       "\n",
       "        <div id=\"FUPvPiMLZPfmuapm3wtbEZ\"></div>\n",
       "        <script>netpixi.call('FUPvPiMLZPfmuapm3wtbEZ', 'MiUAfrEVHdQpvYCiSm4k67', 'changeGraph', 'eyJpZCI6ICJTb21hbGlhIiwgInR5cGUiOiAidmVydGV4IiwgInByb3BzIjogeyJjb2xvciI6IDY1MjgwfX0K');</script>\n",
       "    "
      ],
      "text/plain": [
       "<IPython.core.display.HTML object>"
      ]
     },
     "metadata": {},
     "output_type": "display_data"
    },
    {
     "data": {
      "text/html": [
       "\n",
       "        <div id=\"SVRu6JzMngrvgR8DQ3cxRt\"></div>\n",
       "        <script>netpixi.call('SVRu6JzMngrvgR8DQ3cxRt', 'MiUAfrEVHdQpvYCiSm4k67', 'changeGraph', 'eyJpZCI6ICJNZXhpY28iLCAidHlwZSI6ICJ2ZXJ0ZXgiLCAicHJvcHMiOiB7ImNvbG9yIjogMTY3MTE2ODB9fQo=');</script>\n",
       "    "
      ],
      "text/plain": [
       "<IPython.core.display.HTML object>"
      ]
     },
     "metadata": {},
     "output_type": "display_data"
    },
    {
     "data": {
      "text/html": [
       "\n",
       "        <div id=\"SPb4mwZTGD9mj2Nq2zcqmR\"></div>\n",
       "        <script>netpixi.call('SPb4mwZTGD9mj2Nq2zcqmR', 'MiUAfrEVHdQpvYCiSm4k67', 'changeGraph', 'eyJpZCI6ICJUaGFpbGFuZCIsICJ0eXBlIjogInZlcnRleCIsICJwcm9wcyI6IHsiY29sb3IiOiAxNjcxMTY4MH19Cg==');</script>\n",
       "    "
      ],
      "text/plain": [
       "<IPython.core.display.HTML object>"
      ]
     },
     "metadata": {},
     "output_type": "display_data"
    },
    {
     "data": {
      "text/html": [
       "\n",
       "        <div id=\"8eayfTzKCcxBr9z9iKdcLJ\"></div>\n",
       "        <script>netpixi.call('8eayfTzKCcxBr9z9iKdcLJ', 'MiUAfrEVHdQpvYCiSm4k67', 'changeGraph', 'eyJpZCI6ICJIb25kdXJhcyIsICJ0eXBlIjogInZlcnRleCIsICJwcm9wcyI6IHsiY29sb3IiOiA2NTI4MH19Cg==');</script>\n",
       "    "
      ],
      "text/plain": [
       "<IPython.core.display.HTML object>"
      ]
     },
     "metadata": {},
     "output_type": "display_data"
    },
    {
     "data": {
      "text/html": [
       "\n",
       "        <div id=\"LfE6TC3oCnszM6YcsEvJmU\"></div>\n",
       "        <script>netpixi.call('LfE6TC3oCnszM6YcsEvJmU', 'MiUAfrEVHdQpvYCiSm4k67', 'changeGraph', 'eyJpZCI6ICJTaWVycmEgTGVvbmUiLCAidHlwZSI6ICJ2ZXJ0ZXgiLCAicHJvcHMiOiB7ImNvbG9yIjogNjUyODB9fQo=');</script>\n",
       "    "
      ],
      "text/plain": [
       "<IPython.core.display.HTML object>"
      ]
     },
     "metadata": {},
     "output_type": "display_data"
    },
    {
     "data": {
      "text/html": [
       "\n",
       "        <div id=\"ZsA5APSosko45vSwLf3c3N\"></div>\n",
       "        <script>netpixi.call('ZsA5APSosko45vSwLf3c3N', 'MiUAfrEVHdQpvYCiSm4k67', 'changeGraph', 'eyJpZCI6ICJDYXltYW4gSXNsYW5kcyIsICJ0eXBlIjogInZlcnRleCIsICJwcm9wcyI6IHsiY29sb3IiOiA2NTI4MH19Cg==');</script>\n",
       "    "
      ],
      "text/plain": [
       "<IPython.core.display.HTML object>"
      ]
     },
     "metadata": {},
     "output_type": "display_data"
    },
    {
     "data": {
      "text/html": [
       "\n",
       "        <div id=\"cTjFJZKG7gChnuKc967nzp\"></div>\n",
       "        <script>netpixi.call('cTjFJZKG7gChnuKc967nzp', 'MiUAfrEVHdQpvYCiSm4k67', 'changeGraph', 'eyJpZCI6ICJQYW5hbWEiLCAidHlwZSI6ICJ2ZXJ0ZXgiLCAicHJvcHMiOiB7ImNvbG9yIjogNjUyODB9fQo=');</script>\n",
       "    "
      ],
      "text/plain": [
       "<IPython.core.display.HTML object>"
      ]
     },
     "metadata": {},
     "output_type": "display_data"
    },
    {
     "data": {
      "text/html": [
       "\n",
       "        <div id=\"nEh2zDQy5QMRYXVMhoAwaT\"></div>\n",
       "        <script>netpixi.call('nEh2zDQy5QMRYXVMhoAwaT', 'MiUAfrEVHdQpvYCiSm4k67', 'changeGraph', 'eyJpZCI6ICJDb25nbyIsICJ0eXBlIjogInZlcnRleCIsICJwcm9wcyI6IHsiY29sb3IiOiAxNjcxMTY4MH19Cg==');</script>\n",
       "    "
      ],
      "text/plain": [
       "<IPython.core.display.HTML object>"
      ]
     },
     "metadata": {},
     "output_type": "display_data"
    },
    {
     "data": {
      "text/html": [
       "\n",
       "        <div id=\"KhWed2LBpNhQUDcjcA5Zfo\"></div>\n",
       "        <script>netpixi.call('KhWed2LBpNhQUDcjcA5Zfo', 'MiUAfrEVHdQpvYCiSm4k67', 'changeGraph', 'eyJpZCI6ICJDdWJhIiwgInR5cGUiOiAidmVydGV4IiwgInByb3BzIjogeyJjb2xvciI6IDE2NzExNjgwfX0K');</script>\n",
       "    "
      ],
      "text/plain": [
       "<IPython.core.display.HTML object>"
      ]
     },
     "metadata": {},
     "output_type": "display_data"
    },
    {
     "data": {
      "text/html": [
       "\n",
       "        <div id=\"ZUhDz54DxAFHb9XmcVFwm2\"></div>\n",
       "        <script>netpixi.call('ZUhDz54DxAFHb9XmcVFwm2', 'MiUAfrEVHdQpvYCiSm4k67', 'changeGraph', 'eyJpZCI6ICJCb2xpdmlhIChQbHVyaW5hdGlvbmFsIFN0YXRlIG9mKSIsICJ0eXBlIjogInZlcnRleCIsICJwcm9wcyI6IHsiY29sb3IiOiA2NTI4MH19Cg==');</script>\n",
       "    "
      ],
      "text/plain": [
       "<IPython.core.display.HTML object>"
      ]
     },
     "metadata": {},
     "output_type": "display_data"
    },
    {
     "data": {
      "text/html": [
       "\n",
       "        <div id=\"NokVcRsaMbj5Fb2i7sjdNY\"></div>\n",
       "        <script>netpixi.call('NokVcRsaMbj5Fb2i7sjdNY', 'MiUAfrEVHdQpvYCiSm4k67', 'changeGraph', 'eyJpZCI6ICJDYW1lcm9vbiIsICJ0eXBlIjogInZlcnRleCIsICJwcm9wcyI6IHsiY29sb3IiOiA2NTI4MH19Cg==');</script>\n",
       "    "
      ],
      "text/plain": [
       "<IPython.core.display.HTML object>"
      ]
     },
     "metadata": {},
     "output_type": "display_data"
    },
    {
     "data": {
      "text/html": [
       "\n",
       "        <div id=\"3ufZqSChLXHcLpUtziduaX\"></div>\n",
       "        <script>netpixi.call('3ufZqSChLXHcLpUtziduaX', 'MiUAfrEVHdQpvYCiSm4k67', 'changeGraph', 'eyJpZCI6ICJTd2VkZW4iLCAidHlwZSI6ICJ2ZXJ0ZXgiLCAicHJvcHMiOiB7ImNvbG9yIjogMTY3MTE2ODB9fQo=');</script>\n",
       "    "
      ],
      "text/plain": [
       "<IPython.core.display.HTML object>"
      ]
     },
     "metadata": {},
     "output_type": "display_data"
    },
    {
     "data": {
      "text/html": [
       "\n",
       "        <div id=\"eDv4pxnbSHsUpYpYKLpn7E\"></div>\n",
       "        <script>netpixi.call('eDv4pxnbSHsUpYpYKLpn7E', 'MiUAfrEVHdQpvYCiSm4k67', 'changeGraph', 'eyJpZCI6ICJHdWluZWEtQmlzc2F1IiwgInR5cGUiOiAidmVydGV4IiwgInByb3BzIjogeyJjb2xvciI6IDY1MjgwfX0K');</script>\n",
       "    "
      ],
      "text/plain": [
       "<IPython.core.display.HTML object>"
      ]
     },
     "metadata": {},
     "output_type": "display_data"
    },
    {
     "data": {
      "text/html": [
       "\n",
       "        <div id=\"njAfvHqTTRyFAtWZn6MAQn\"></div>\n",
       "        <script>netpixi.call('njAfvHqTTRyFAtWZn6MAQn', 'MiUAfrEVHdQpvYCiSm4k67', 'changeGraph', 'eyJpZCI6ICJVa3JhaW5lIiwgInR5cGUiOiAidmVydGV4IiwgInByb3BzIjogeyJjb2xvciI6IDE2NzExNjgwfX0K');</script>\n",
       "    "
      ],
      "text/plain": [
       "<IPython.core.display.HTML object>"
      ]
     },
     "metadata": {},
     "output_type": "display_data"
    },
    {
     "data": {
      "text/html": [
       "\n",
       "        <div id=\"eRVEvuiWMCtmUBoFgc4qsn\"></div>\n",
       "        <script>netpixi.call('eRVEvuiWMCtmUBoFgc4qsn', 'MiUAfrEVHdQpvYCiSm4k67', 'changeGraph', 'eyJpZCI6ICJCdXJraW5hIEZhc28iLCAidHlwZSI6ICJ2ZXJ0ZXgiLCAicHJvcHMiOiB7ImNvbG9yIjogMTY3MTE2ODB9fQo=');</script>\n",
       "    "
      ],
      "text/plain": [
       "<IPython.core.display.HTML object>"
      ]
     },
     "metadata": {},
     "output_type": "display_data"
    },
    {
     "data": {
      "text/html": [
       "\n",
       "        <div id=\"BB2V9MpnEgXxYAuom3fqwd\"></div>\n",
       "        <script>netpixi.call('BB2V9MpnEgXxYAuom3fqwd', 'MiUAfrEVHdQpvYCiSm4k67', 'changeGraph', 'eyJpZCI6ICJJc3JhZWwiLCAidHlwZSI6ICJ2ZXJ0ZXgiLCAicHJvcHMiOiB7ImNvbG9yIjogMTY3MTE2ODB9fQo=');</script>\n",
       "    "
      ],
      "text/plain": [
       "<IPython.core.display.HTML object>"
      ]
     },
     "metadata": {},
     "output_type": "display_data"
    },
    {
     "data": {
      "text/html": [
       "\n",
       "        <div id=\"i8CBsP6PukYTShvtqBwcsg\"></div>\n",
       "        <script>netpixi.call('i8CBsP6PukYTShvtqBwcsg', 'MiUAfrEVHdQpvYCiSm4k67', 'changeGraph', 'eyJpZCI6ICJHdXlhbmEiLCAidHlwZSI6ICJ2ZXJ0ZXgiLCAicHJvcHMiOiB7ImNvbG9yIjogNjUyODB9fQo=');</script>\n",
       "    "
      ],
      "text/plain": [
       "<IPython.core.display.HTML object>"
      ]
     },
     "metadata": {},
     "output_type": "display_data"
    },
    {
     "data": {
      "text/html": [
       "\n",
       "        <div id=\"MHbWABqWoT99dCw7t2xNym\"></div>\n",
       "        <script>netpixi.call('MHbWABqWoT99dCw7t2xNym', 'MiUAfrEVHdQpvYCiSm4k67', 'changeGraph', 'eyJpZCI6ICJCYWhhbWFzIiwgInR5cGUiOiAidmVydGV4IiwgInByb3BzIjogeyJjb2xvciI6IDY1MjgwfX0K');</script>\n",
       "    "
      ],
      "text/plain": [
       "<IPython.core.display.HTML object>"
      ]
     },
     "metadata": {},
     "output_type": "display_data"
    },
    {
     "data": {
      "text/html": [
       "\n",
       "        <div id=\"mQgCcwBspifhuHCrUA2Jq8\"></div>\n",
       "        <script>netpixi.call('mQgCcwBspifhuHCrUA2Jq8', 'MiUAfrEVHdQpvYCiSm4k67', 'changeGraph', 'eyJpZCI6ICJDaGluYSwgSG9uZyBLb25nIFNBUiIsICJ0eXBlIjogInZlcnRleCIsICJwcm9wcyI6IHsiY29sb3IiOiAxNjcxMTY4MH19Cg==');</script>\n",
       "    "
      ],
      "text/plain": [
       "<IPython.core.display.HTML object>"
      ]
     },
     "metadata": {},
     "output_type": "display_data"
    },
    {
     "data": {
      "text/html": [
       "\n",
       "        <div id=\"Xb3HZrh8Famaz49UPqCpLf\"></div>\n",
       "        <script>netpixi.call('Xb3HZrh8Famaz49UPqCpLf', 'MiUAfrEVHdQpvYCiSm4k67', 'changeGraph', 'eyJpZCI6ICJNb3phbWJpcXVlIiwgInR5cGUiOiAidmVydGV4IiwgInByb3BzIjogeyJjb2xvciI6IDE2NzExNjgwfX0K');</script>\n",
       "    "
      ],
      "text/plain": [
       "<IPython.core.display.HTML object>"
      ]
     },
     "metadata": {},
     "output_type": "display_data"
    },
    {
     "data": {
      "text/html": [
       "\n",
       "        <div id=\"fJvCgUFMowfyVTSjX2D4M6\"></div>\n",
       "        <script>netpixi.call('fJvCgUFMowfyVTSjX2D4M6', 'MiUAfrEVHdQpvYCiSm4k67', 'changeGraph', 'eyJpZCI6ICJTYW8gVG9tZSBhbmQgUHJpbmNpcGUiLCAidHlwZSI6ICJ2ZXJ0ZXgiLCAicHJvcHMiOiB7ImNvbG9yIjogNjUyODB9fQo=');</script>\n",
       "    "
      ],
      "text/plain": [
       "<IPython.core.display.HTML object>"
      ]
     },
     "metadata": {},
     "output_type": "display_data"
    },
    {
     "data": {
      "text/html": [
       "\n",
       "        <div id=\"afBBMVcCQ7DWdaUytxmP57\"></div>\n",
       "        <script>netpixi.call('afBBMVcCQ7DWdaUytxmP57', 'MiUAfrEVHdQpvYCiSm4k67', 'changeGraph', 'eyJpZCI6ICJQdWVydG8gUmljbyIsICJ0eXBlIjogInZlcnRleCIsICJwcm9wcyI6IHsiY29sb3IiOiA2NTI4MH19Cg==');</script>\n",
       "    "
      ],
      "text/plain": [
       "<IPython.core.display.HTML object>"
      ]
     },
     "metadata": {},
     "output_type": "display_data"
    },
    {
     "data": {
      "text/html": [
       "\n",
       "        <div id=\"ipyyLmBpjbst8TrMk6qm57\"></div>\n",
       "        <script>netpixi.call('ipyyLmBpjbst8TrMk6qm57', 'MiUAfrEVHdQpvYCiSm4k67', 'changeGraph', 'eyJpZCI6ICJFbCBTYWx2YWRvciIsICJ0eXBlIjogInZlcnRleCIsICJwcm9wcyI6IHsiY29sb3IiOiA2NTI4MH19Cg==');</script>\n",
       "    "
      ],
      "text/plain": [
       "<IPython.core.display.HTML object>"
      ]
     },
     "metadata": {},
     "output_type": "display_data"
    },
    {
     "data": {
      "text/html": [
       "\n",
       "        <div id=\"afjPJyJnjm6QbCAkiBGj7x\"></div>\n",
       "        <script>netpixi.call('afjPJyJnjm6QbCAkiBGj7x', 'MiUAfrEVHdQpvYCiSm4k67', 'changeGraph', 'eyJpZCI6ICJWYXJpb3VzL1Vua25vd24iLCAidHlwZSI6ICJ2ZXJ0ZXgiLCAicHJvcHMiOiB7ImNvbG9yIjogNjUyODB9fQo=');</script>\n",
       "    "
      ],
      "text/plain": [
       "<IPython.core.display.HTML object>"
      ]
     },
     "metadata": {},
     "output_type": "display_data"
    },
    {
     "data": {
      "text/html": [
       "\n",
       "        <div id=\"bZPVa4t8M8YCng3ZsDicQc\"></div>\n",
       "        <script>netpixi.call('bZPVa4t8M8YCng3ZsDicQc', 'MiUAfrEVHdQpvYCiSm4k67', 'changeGraph', 'eyJpZCI6ICJDaGluYSwgTWFjYW8gU0FSIiwgInR5cGUiOiAidmVydGV4IiwgInByb3BzIjogeyJjb2xvciI6IDY1MjgwfX0K');</script>\n",
       "    "
      ],
      "text/plain": [
       "<IPython.core.display.HTML object>"
      ]
     },
     "metadata": {},
     "output_type": "display_data"
    },
    {
     "data": {
      "text/html": [
       "\n",
       "        <div id=\"nmrRqsvmwBFyPJPGbJcxDE\"></div>\n",
       "        <script>netpixi.call('nmrRqsvmwBFyPJPGbJcxDE', 'MiUAfrEVHdQpvYCiSm4k67', 'changeGraph', 'eyJpZCI6ICJEZW0uIFBlb3BsZSdzIFJlcC4gb2YgS29yZWEiLCAidHlwZSI6ICJ2ZXJ0ZXgiLCAicHJvcHMiOiB7ImNvbG9yIjogNjUyODB9fQo=');</script>\n",
       "    "
      ],
      "text/plain": [
       "<IPython.core.display.HTML object>"
      ]
     },
     "metadata": {},
     "output_type": "display_data"
    },
    {
     "data": {
      "text/html": [
       "\n",
       "        <div id=\"gRwfSAsdgGaWHo8KTtXSzY\"></div>\n",
       "        <script>netpixi.call('gRwfSAsdgGaWHo8KTtXSzY', 'MiUAfrEVHdQpvYCiSm4k67', 'changeGraph', 'eyJpZCI6ICJEZW5tYXJrIiwgInR5cGUiOiAidmVydGV4IiwgInByb3BzIjogeyJjb2xvciI6IDE2NzExNjgwfX0K');</script>\n",
       "    "
      ],
      "text/plain": [
       "<IPython.core.display.HTML object>"
      ]
     },
     "metadata": {},
     "output_type": "display_data"
    },
    {
     "data": {
      "text/html": [
       "\n",
       "        <div id=\"XEjzAAes9ZXqBnzgjehSMo\"></div>\n",
       "        <script>netpixi.call('XEjzAAes9ZXqBnzgjehSMo', 'MiUAfrEVHdQpvYCiSm4k67', 'changeGraph', 'eyJpZCI6ICJTYW4gTWFyaW5vIiwgInR5cGUiOiAidmVydGV4IiwgInByb3BzIjogeyJjb2xvciI6IDY1MjgwfX0K');</script>\n",
       "    "
      ],
      "text/plain": [
       "<IPython.core.display.HTML object>"
      ]
     },
     "metadata": {},
     "output_type": "display_data"
    },
    {
     "data": {
      "text/html": [
       "\n",
       "        <div id=\"meV2pFNvmT5pRJcnsGG6wk\"></div>\n",
       "        <script>netpixi.call('meV2pFNvmT5pRJcnsGG6wk', 'MiUAfrEVHdQpvYCiSm4k67', 'changeGraph', 'eyJpZCI6ICJDZW50cmFsIEFmcmljYW4gUmVwLiIsICJ0eXBlIjogInZlcnRleCIsICJwcm9wcyI6IHsiY29sb3IiOiA2NTI4MH19Cg==');</script>\n",
       "    "
      ],
      "text/plain": [
       "<IPython.core.display.HTML object>"
      ]
     },
     "metadata": {},
     "output_type": "display_data"
    },
    {
     "data": {
      "text/html": [
       "\n",
       "        <div id=\"aMp9AQ8cE8SgPow7zhNdFE\"></div>\n",
       "        <script>netpixi.call('aMp9AQ8cE8SgPow7zhNdFE', 'MiUAfrEVHdQpvYCiSm4k67', 'changeGraph', 'eyJpZCI6ICJJbmRvbmVzaWEiLCAidHlwZSI6ICJ2ZXJ0ZXgiLCAicHJvcHMiOiB7ImNvbG9yIjogMTY3MTE2ODB9fQo=');</script>\n",
       "    "
      ],
      "text/plain": [
       "<IPython.core.display.HTML object>"
      ]
     },
     "metadata": {},
     "output_type": "display_data"
    },
    {
     "data": {
      "text/html": [
       "\n",
       "        <div id=\"JA52sV8WY39r6bhAQr2bBv\"></div>\n",
       "        <script>netpixi.call('JA52sV8WY39r6bhAQr2bBv', 'MiUAfrEVHdQpvYCiSm4k67', 'changeGraph', 'eyJpZCI6ICJTd2l0emVybGFuZCIsICJ0eXBlIjogInZlcnRleCIsICJwcm9wcyI6IHsiY29sb3IiOiAxNjcxMTY4MH19Cg==');</script>\n",
       "    "
      ],
      "text/plain": [
       "<IPython.core.display.HTML object>"
      ]
     },
     "metadata": {},
     "output_type": "display_data"
    },
    {
     "data": {
      "text/html": [
       "\n",
       "        <div id=\"3t4fmb2bEAib2QUPoCWNwo\"></div>\n",
       "        <script>netpixi.call('3t4fmb2bEAib2QUPoCWNwo', 'MiUAfrEVHdQpvYCiSm4k67', 'changeGraph', 'eyJpZCI6ICJVbml0ZWQgS2luZ2RvbSIsICJ0eXBlIjogInZlcnRleCIsICJwcm9wcyI6IHsiY29sb3IiOiAxNjcxMTY4MH19Cg==');</script>\n",
       "    "
      ],
      "text/plain": [
       "<IPython.core.display.HTML object>"
      ]
     },
     "metadata": {},
     "output_type": "display_data"
    },
    {
     "data": {
      "text/html": [
       "\n",
       "        <div id=\"hEpz9uCzvkzpmb2U4wapdN\"></div>\n",
       "        <script>netpixi.call('hEpz9uCzvkzpmb2U4wapdN', 'MiUAfrEVHdQpvYCiSm4k67', 'changeGraph', 'eyJpZCI6ICJDdXJhXHUwMGU3YW8iLCAidHlwZSI6ICJ2ZXJ0ZXgiLCAicHJvcHMiOiB7ImNvbG9yIjogNjUyODB9fQo=');</script>\n",
       "    "
      ],
      "text/plain": [
       "<IPython.core.display.HTML object>"
      ]
     },
     "metadata": {},
     "output_type": "display_data"
    },
    {
     "data": {
      "text/html": [
       "\n",
       "        <div id=\"2RX6TuRLWjMWSvixb86Thj\"></div>\n",
       "        <script>netpixi.call('2RX6TuRLWjMWSvixb86Thj', 'MiUAfrEVHdQpvYCiSm4k67', 'changeGraph', 'eyJpZCI6ICJDaGFkIiwgInR5cGUiOiAidmVydGV4IiwgInByb3BzIjogeyJjb2xvciI6IDY1MjgwfX0K');</script>\n",
       "    "
      ],
      "text/plain": [
       "<IPython.core.display.HTML object>"
      ]
     },
     "metadata": {},
     "output_type": "display_data"
    },
    {
     "data": {
      "text/html": [
       "\n",
       "        <div id=\"d428L6LXFwLJ3kD2cgbd9E\"></div>\n",
       "        <script>netpixi.call('d428L6LXFwLJ3kD2cgbd9E', 'MiUAfrEVHdQpvYCiSm4k67', 'changeGraph', 'eyJpZCI6ICJTZXljaGVsbGVzIiwgInR5cGUiOiAidmVydGV4IiwgInByb3BzIjogeyJjb2xvciI6IDY1MjgwfX0K');</script>\n",
       "    "
      ],
      "text/plain": [
       "<IPython.core.display.HTML object>"
      ]
     },
     "metadata": {},
     "output_type": "display_data"
    },
    {
     "data": {
      "text/html": [
       "\n",
       "        <div id=\"3KkF4Jhv2qkAMqSgWXmsvj\"></div>\n",
       "        <script>netpixi.call('3KkF4Jhv2qkAMqSgWXmsvj', 'MiUAfrEVHdQpvYCiSm4k67', 'changeGraph', 'eyJpZCI6ICJCYXJiYWRvcyIsICJ0eXBlIjogInZlcnRleCIsICJwcm9wcyI6IHsiY29sb3IiOiA2NTI4MH19Cg==');</script>\n",
       "    "
      ],
      "text/plain": [
       "<IPython.core.display.HTML object>"
      ]
     },
     "metadata": {},
     "output_type": "display_data"
    },
    {
     "data": {
      "text/html": [
       "\n",
       "        <div id=\"874xbp3WZgik8Hdgj8yUtL\"></div>\n",
       "        <script>netpixi.call('874xbp3WZgik8Hdgj8yUtL', 'MiUAfrEVHdQpvYCiSm4k67', 'changeGraph', 'eyJpZCI6ICJBbnRpZ3VhIGFuZCBCYXJidWRhIiwgInR5cGUiOiAidmVydGV4IiwgInByb3BzIjogeyJjb2xvciI6IDY1MjgwfX0K');</script>\n",
       "    "
      ],
      "text/plain": [
       "<IPython.core.display.HTML object>"
      ]
     },
     "metadata": {},
     "output_type": "display_data"
    },
    {
     "data": {
      "text/html": [
       "\n",
       "        <div id=\"iiUPsYE4qQCC2oVWNFC3Db\"></div>\n",
       "        <script>netpixi.call('iiUPsYE4qQCC2oVWNFC3Db', 'MiUAfrEVHdQpvYCiSm4k67', 'changeGraph', 'eyJpZCI6ICJUYWppa2lzdGFuIiwgInR5cGUiOiAidmVydGV4IiwgInByb3BzIjogeyJjb2xvciI6IDY1MjgwfX0K');</script>\n",
       "    "
      ],
      "text/plain": [
       "<IPython.core.display.HTML object>"
      ]
     },
     "metadata": {},
     "output_type": "display_data"
    },
    {
     "data": {
      "text/html": [
       "\n",
       "        <div id=\"VpNCbNztnRdGpAGajZqUsN\"></div>\n",
       "        <script>netpixi.call('VpNCbNztnRdGpAGajZqUsN', 'MiUAfrEVHdQpvYCiSm4k67', 'changeGraph', 'eyJpZCI6ICJCdWxnYXJpYSIsICJ0eXBlIjogInZlcnRleCIsICJwcm9wcyI6IHsiY29sb3IiOiAxNjcxMTY4MH19Cg==');</script>\n",
       "    "
      ],
      "text/plain": [
       "<IPython.core.display.HTML object>"
      ]
     },
     "metadata": {},
     "output_type": "display_data"
    },
    {
     "data": {
      "text/html": [
       "\n",
       "        <div id=\"9KSVbj5H5MFwD42d5cmzpn\"></div>\n",
       "        <script>netpixi.call('9KSVbj5H5MFwD42d5cmzpn', 'MiUAfrEVHdQpvYCiSm4k67', 'changeGraph', 'eyJpZCI6ICJBdXN0cmlhIiwgInR5cGUiOiAidmVydGV4IiwgInByb3BzIjogeyJjb2xvciI6IDE2NzExNjgwfX0K');</script>\n",
       "    "
      ],
      "text/plain": [
       "<IPython.core.display.HTML object>"
      ]
     },
     "metadata": {},
     "output_type": "display_data"
    },
    {
     "data": {
      "text/html": [
       "\n",
       "        <div id=\"VtF3AFC2Qtw9KfrMVQcs5o\"></div>\n",
       "        <script>netpixi.call('VtF3AFC2Qtw9KfrMVQcs5o', 'MiUAfrEVHdQpvYCiSm4k67', 'changeGraph', 'eyJpZCI6ICJWaWV0IE5hbSIsICJ0eXBlIjogInZlcnRleCIsICJwcm9wcyI6IHsiY29sb3IiOiA2NTI4MH19Cg==');</script>\n",
       "    "
      ],
      "text/plain": [
       "<IPython.core.display.HTML object>"
      ]
     },
     "metadata": {},
     "output_type": "display_data"
    },
    {
     "data": {
      "text/html": [
       "\n",
       "        <div id=\"cNRQ7j6wM3SuF9TWEimLh7\"></div>\n",
       "        <script>netpixi.call('cNRQ7j6wM3SuF9TWEimLh7', 'MiUAfrEVHdQpvYCiSm4k67', 'changeGraph', 'eyJpZCI6ICJHcmVlY2UiLCAidHlwZSI6ICJ2ZXJ0ZXgiLCAicHJvcHMiOiB7ImNvbG9yIjogMTY3MTE2ODB9fQo=');</script>\n",
       "    "
      ],
      "text/plain": [
       "<IPython.core.display.HTML object>"
      ]
     },
     "metadata": {},
     "output_type": "display_data"
    },
    {
     "data": {
      "text/html": [
       "\n",
       "        <div id=\"YKw3mfZPyQtkLcN8NrNMvF\"></div>\n",
       "        <script>netpixi.call('YKw3mfZPyQtkLcN8NrNMvF', 'MiUAfrEVHdQpvYCiSm4k67', 'changeGraph', 'eyJpZCI6ICJBbmdvbGEiLCAidHlwZSI6ICJ2ZXJ0ZXgiLCAicHJvcHMiOiB7ImNvbG9yIjogMTY3MTE2ODB9fQo=');</script>\n",
       "    "
      ],
      "text/plain": [
       "<IPython.core.display.HTML object>"
      ]
     },
     "metadata": {},
     "output_type": "display_data"
    },
    {
     "data": {
      "text/html": [
       "\n",
       "        <div id=\"X9w2aDX7PMaowF9UBPAP8D\"></div>\n",
       "        <script>netpixi.call('X9w2aDX7PMaowF9UBPAP8D', 'MiUAfrEVHdQpvYCiSm4k67', 'changeGraph', 'eyJpZCI6ICJNb3JvY2NvIiwgInR5cGUiOiAidmVydGV4IiwgInByb3BzIjogeyJjb2xvciI6IDE2NzExNjgwfX0K');</script>\n",
       "    "
      ],
      "text/plain": [
       "<IPython.core.display.HTML object>"
      ]
     },
     "metadata": {},
     "output_type": "display_data"
    },
    {
     "data": {
      "text/html": [
       "\n",
       "        <div id=\"aYPhGSfaejb3958ZwAZpar\"></div>\n",
       "        <script>netpixi.call('aYPhGSfaejb3958ZwAZpar', 'MiUAfrEVHdQpvYCiSm4k67', 'changeGraph', 'eyJpZCI6ICJFZ3lwdCIsICJ0eXBlIjogInZlcnRleCIsICJwcm9wcyI6IHsiY29sb3IiOiAxNjcxMTY4MH19Cg==');</script>\n",
       "    "
      ],
      "text/plain": [
       "<IPython.core.display.HTML object>"
      ]
     },
     "metadata": {},
     "output_type": "display_data"
    },
    {
     "data": {
      "text/html": [
       "\n",
       "        <div id=\"cMZP9Dmj6iQ7cRjG4RnMzB\"></div>\n",
       "        <script>netpixi.call('cMZP9Dmj6iQ7cRjG4RnMzB', 'MiUAfrEVHdQpvYCiSm4k67', 'changeGraph', 'eyJpZCI6ICJVbml0ZWQgU3RhdGVzIG9mIEFtZXJpY2EiLCAidHlwZSI6ICJ2ZXJ0ZXgiLCAicHJvcHMiOiB7ImNvbG9yIjogMTY3MTE2ODB9fQo=');</script>\n",
       "    "
      ],
      "text/plain": [
       "<IPython.core.display.HTML object>"
      ]
     },
     "metadata": {},
     "output_type": "display_data"
    },
    {
     "data": {
      "text/html": [
       "\n",
       "        <div id=\"QYh67cGdKFJRSLBZMH3P6Z\"></div>\n",
       "        <script>netpixi.call('QYh67cGdKFJRSLBZMH3P6Z', 'MiUAfrEVHdQpvYCiSm4k67', 'changeGraph', 'eyJpZCI6ICJCcmF6aWwiLCAidHlwZSI6ICJ2ZXJ0ZXgiLCAicHJvcHMiOiB7ImNvbG9yIjogMTY3MTE2ODB9fQo=');</script>\n",
       "    "
      ],
      "text/plain": [
       "<IPython.core.display.HTML object>"
      ]
     },
     "metadata": {},
     "output_type": "display_data"
    },
    {
     "data": {
      "text/html": [
       "\n",
       "        <div id=\"dPpdJHVCviq4yjsdWeTvrA\"></div>\n",
       "        <script>netpixi.call('dPpdJHVCviq4yjsdWeTvrA', 'MiUAfrEVHdQpvYCiSm4k67', 'changeGraph', 'eyJpZCI6ICJTYWludCBLaXR0cyBhbmQgTmV2aXMiLCAidHlwZSI6ICJ2ZXJ0ZXgiLCAicHJvcHMiOiB7ImNvbG9yIjogNjUyODB9fQo=');</script>\n",
       "    "
      ],
      "text/plain": [
       "<IPython.core.display.HTML object>"
      ]
     },
     "metadata": {},
     "output_type": "display_data"
    },
    {
     "data": {
      "text/html": [
       "\n",
       "        <div id=\"nZQfdqMQu7dnAvwbWMg5P8\"></div>\n",
       "        <script>netpixi.call('nZQfdqMQu7dnAvwbWMg5P8', 'MiUAfrEVHdQpvYCiSm4k67', 'changeGraph', 'eyJpZCI6ICJHZW9yZ2lhIiwgInR5cGUiOiAidmVydGV4IiwgInByb3BzIjogeyJjb2xvciI6IDY1MjgwfX0K');</script>\n",
       "    "
      ],
      "text/plain": [
       "<IPython.core.display.HTML object>"
      ]
     },
     "metadata": {},
     "output_type": "display_data"
    },
    {
     "data": {
      "text/html": [
       "\n",
       "        <div id=\"T2zc6FqhWmmK5ssDcEAMu5\"></div>\n",
       "        <script>netpixi.call('T2zc6FqhWmmK5ssDcEAMu5', 'MiUAfrEVHdQpvYCiSm4k67', 'changeGraph', 'eyJpZCI6ICJTaW5nYXBvcmUiLCAidHlwZSI6ICJ2ZXJ0ZXgiLCAicHJvcHMiOiB7ImNvbG9yIjogNjUyODB9fQo=');</script>\n",
       "    "
      ],
      "text/plain": [
       "<IPython.core.display.HTML object>"
      ]
     },
     "metadata": {},
     "output_type": "display_data"
    },
    {
     "data": {
      "text/html": [
       "\n",
       "        <div id=\"C3uCuk5rbnhmzfjXE75dtW\"></div>\n",
       "        <script>netpixi.call('C3uCuk5rbnhmzfjXE75dtW', 'MiUAfrEVHdQpvYCiSm4k67', 'changeGraph', 'eyJpZCI6ICJNb250ZW5lZ3JvIiwgInR5cGUiOiAidmVydGV4IiwgInByb3BzIjogeyJjb2xvciI6IDY1MjgwfX0K');</script>\n",
       "    "
      ],
      "text/plain": [
       "<IPython.core.display.HTML object>"
      ]
     },
     "metadata": {},
     "output_type": "display_data"
    },
    {
     "data": {
      "text/html": [
       "\n",
       "        <div id=\"EPZLcNcvj9kDeJ2Et832xH\"></div>\n",
       "        <script>netpixi.call('EPZLcNcvj9kDeJ2Et832xH', 'MiUAfrEVHdQpvYCiSm4k67', 'changeGraph', 'eyJpZCI6ICJUaGUgZm9ybWVyIFl1Z29zbGF2IFJlcHVibGljIG9mIE1hY2Vkb25pYSIsICJ0eXBlIjogInZlcnRleCIsICJwcm9wcyI6IHsiY29sb3IiOiA2NTI4MH19Cg==');</script>\n",
       "    "
      ],
      "text/plain": [
       "<IPython.core.display.HTML object>"
      ]
     },
     "metadata": {},
     "output_type": "display_data"
    },
    {
     "data": {
      "text/html": [
       "\n",
       "        <div id=\"KVMqJkJutUKVaPHUVEELRf\"></div>\n",
       "        <script>netpixi.call('KVMqJkJutUKVaPHUVEELRf', 'MiUAfrEVHdQpvYCiSm4k67', 'changeGraph', 'eyJpZCI6ICJEb21pbmljYW4gUmVwLiIsICJ0eXBlIjogInZlcnRleCIsICJwcm9wcyI6IHsiY29sb3IiOiA2NTI4MH19Cg==');</script>\n",
       "    "
      ],
      "text/plain": [
       "<IPython.core.display.HTML object>"
      ]
     },
     "metadata": {},
     "output_type": "display_data"
    },
    {
     "data": {
      "text/html": [
       "\n",
       "        <div id=\"MdPrcVH85eBA3swdZ8Jrus\"></div>\n",
       "        <script>netpixi.call('MdPrcVH85eBA3swdZ8Jrus', 'MiUAfrEVHdQpvYCiSm4k67', 'changeGraph', 'eyJpZCI6ICJFdGhpb3BpYSIsICJ0eXBlIjogInZlcnRleCIsICJwcm9wcyI6IHsiY29sb3IiOiA2NTI4MH19Cg==');</script>\n",
       "    "
      ],
      "text/plain": [
       "<IPython.core.display.HTML object>"
      ]
     },
     "metadata": {},
     "output_type": "display_data"
    },
    {
     "data": {
      "text/html": [
       "\n",
       "        <div id=\"BYD8wLXXPd7Djree57RwAh\"></div>\n",
       "        <script>netpixi.call('BYD8wLXXPd7Djree57RwAh', 'MiUAfrEVHdQpvYCiSm4k67', 'changeGraph', 'eyJpZCI6ICJCb25haXJlIiwgInR5cGUiOiAidmVydGV4IiwgInByb3BzIjogeyJjb2xvciI6IDY1MjgwfX0K');</script>\n",
       "    "
      ],
      "text/plain": [
       "<IPython.core.display.HTML object>"
      ]
     },
     "metadata": {},
     "output_type": "display_data"
    },
    {
     "data": {
      "text/html": [
       "\n",
       "        <div id=\"AUYpjyQfPiPzeyzmHtYMwJ\"></div>\n",
       "        <script>netpixi.call('AUYpjyQfPiPzeyzmHtYMwJ', 'MiUAfrEVHdQpvYCiSm4k67', 'changeGraph', 'eyJpZCI6ICJNYWxkaXZlcyIsICJ0eXBlIjogInZlcnRleCIsICJwcm9wcyI6IHsiY29sb3IiOiA2NTI4MH19Cg==');</script>\n",
       "    "
      ],
      "text/plain": [
       "<IPython.core.display.HTML object>"
      ]
     },
     "metadata": {},
     "output_type": "display_data"
    },
    {
     "data": {
      "text/html": [
       "\n",
       "        <div id=\"YGM54arpZB9ejqG8GmRMma\"></div>\n",
       "        <script>netpixi.call('YGM54arpZB9ejqG8GmRMma', 'MiUAfrEVHdQpvYCiSm4k67', 'changeGraph', 'eyJpZCI6ICJVbml0ZWQgQXJhYiBFbWlyYXRlcyIsICJ0eXBlIjogInZlcnRleCIsICJwcm9wcyI6IHsiY29sb3IiOiAxNjcxMTY4MH19Cg==');</script>\n",
       "    "
      ],
      "text/plain": [
       "<IPython.core.display.HTML object>"
      ]
     },
     "metadata": {},
     "output_type": "display_data"
    },
    {
     "data": {
      "text/html": [
       "\n",
       "        <div id=\"iHQ6fyWmF3TwSfWtAK5tcF\"></div>\n",
       "        <script>netpixi.call('iHQ6fyWmF3TwSfWtAK5tcF', 'MiUAfrEVHdQpvYCiSm4k67', 'changeGraph', 'eyJpZCI6ICJTb2xvbW9uIElzbGFuZHMiLCAidHlwZSI6ICJ2ZXJ0ZXgiLCAicHJvcHMiOiB7ImNvbG9yIjogNjUyODB9fQo=');</script>\n",
       "    "
      ],
      "text/plain": [
       "<IPython.core.display.HTML object>"
      ]
     },
     "metadata": {},
     "output_type": "display_data"
    },
    {
     "data": {
      "text/html": [
       "\n",
       "        <div id=\"Pm8js5JpJMmR5xbxfEHoTy\"></div>\n",
       "        <script>netpixi.call('Pm8js5JpJMmR5xbxfEHoTy', 'MiUAfrEVHdQpvYCiSm4k67', 'changeGraph', 'eyJpZCI6ICJTcGFpbiIsICJ0eXBlIjogInZlcnRleCIsICJwcm9wcyI6IHsiY29sb3IiOiAxNjcxMTY4MH19Cg==');</script>\n",
       "    "
      ],
      "text/plain": [
       "<IPython.core.display.HTML object>"
      ]
     },
     "metadata": {},
     "output_type": "display_data"
    },
    {
     "data": {
      "text/html": [
       "\n",
       "        <div id=\"DHudVnokWz2YSJU5AuCc5M\"></div>\n",
       "        <script>netpixi.call('DHudVnokWz2YSJU5AuCc5M', 'MiUAfrEVHdQpvYCiSm4k67', 'changeGraph', 'eyJpZCI6ICJTbG92YWtpYSIsICJ0eXBlIjogInZlcnRleCIsICJwcm9wcyI6IHsiY29sb3IiOiAxNjcxMTY4MH19Cg==');</script>\n",
       "    "
      ],
      "text/plain": [
       "<IPython.core.display.HTML object>"
      ]
     },
     "metadata": {},
     "output_type": "display_data"
    },
    {
     "data": {
      "text/html": [
       "\n",
       "        <div id=\"DbbxERuuC9nTuNJnNSnfpK\"></div>\n",
       "        <script>netpixi.call('DbbxERuuC9nTuNJnNSnfpK', 'MiUAfrEVHdQpvYCiSm4k67', 'changeGraph', 'eyJpZCI6ICJDb2xvbWJpYSIsICJ0eXBlIjogInZlcnRleCIsICJwcm9wcyI6IHsiY29sb3IiOiA2NTI4MH19Cg==');</script>\n",
       "    "
      ],
      "text/plain": [
       "<IPython.core.display.HTML object>"
      ]
     },
     "metadata": {},
     "output_type": "display_data"
    },
    {
     "data": {
      "text/html": [
       "\n",
       "        <div id=\"Cim4UgjLifELsAEd3wMhdS\"></div>\n",
       "        <script>netpixi.call('Cim4UgjLifELsAEd3wMhdS', 'MiUAfrEVHdQpvYCiSm4k67', 'changeGraph', 'eyJpZCI6ICJCZWxhcnVzIiwgInR5cGUiOiAidmVydGV4IiwgInByb3BzIjogeyJjb2xvciI6IDE2NzExNjgwfX0K');</script>\n",
       "    "
      ],
      "text/plain": [
       "<IPython.core.display.HTML object>"
      ]
     },
     "metadata": {},
     "output_type": "display_data"
    },
    {
     "data": {
      "text/html": [
       "\n",
       "        <div id=\"j48Mxa7BBQzs9uqRtHmAC7\"></div>\n",
       "        <script>netpixi.call('j48Mxa7BBQzs9uqRtHmAC7', 'MiUAfrEVHdQpvYCiSm4k67', 'changeGraph', 'eyJpZCI6ICJVbml0ZWQgUmVwLiBvZiBUYW56YW5pYSIsICJ0eXBlIjogInZlcnRleCIsICJwcm9wcyI6IHsiY29sb3IiOiA2NTI4MH19Cg==');</script>\n",
       "    "
      ],
      "text/plain": [
       "<IPython.core.display.HTML object>"
      ]
     },
     "metadata": {},
     "output_type": "display_data"
    },
    {
     "data": {
      "text/html": [
       "\n",
       "        <div id=\"Qr7H8QHEH4gxvmxUsNHSH2\"></div>\n",
       "        <script>netpixi.call('Qr7H8QHEH4gxvmxUsNHSH2', 'MiUAfrEVHdQpvYCiSm4k67', 'changeGraph', 'eyJpZCI6ICJQYXJhZ3VheSIsICJ0eXBlIjogInZlcnRleCIsICJwcm9wcyI6IHsiY29sb3IiOiA2NTI4MH19Cg==');</script>\n",
       "    "
      ],
      "text/plain": [
       "<IPython.core.display.HTML object>"
      ]
     },
     "metadata": {},
     "output_type": "display_data"
    },
    {
     "data": {
      "text/html": [
       "\n",
       "        <div id=\"nv2aeYoGqwT3BbJy3No5Vc\"></div>\n",
       "        <script>netpixi.call('nv2aeYoGqwT3BbJy3No5Vc', 'MiUAfrEVHdQpvYCiSm4k67', 'changeGraph', 'eyJpZCI6ICJTb3V0aCBTdWRhbiIsICJ0eXBlIjogInZlcnRleCIsICJwcm9wcyI6IHsiY29sb3IiOiA2NTI4MH19Cg==');</script>\n",
       "    "
      ],
      "text/plain": [
       "<IPython.core.display.HTML object>"
      ]
     },
     "metadata": {},
     "output_type": "display_data"
    },
    {
     "data": {
      "text/html": [
       "\n",
       "        <div id=\"iNyaSxcTH4QF7FL7VSYgMF\"></div>\n",
       "        <script>netpixi.call('iNyaSxcTH4QF7FL7VSYgMF', 'MiUAfrEVHdQpvYCiSm4k67', 'changeGraph', 'eyJpZCI6ICJCYW5nbGFkZXNoIiwgInR5cGUiOiAidmVydGV4IiwgInByb3BzIjogeyJjb2xvciI6IDY1MjgwfX0K');</script>\n",
       "    "
      ],
      "text/plain": [
       "<IPython.core.display.HTML object>"
      ]
     },
     "metadata": {},
     "output_type": "display_data"
    },
    {
     "data": {
      "text/html": [
       "\n",
       "        <div id=\"PkGoRdcR43yQ9d853SupCE\"></div>\n",
       "        <script>netpixi.call('PkGoRdcR43yQ9d853SupCE', 'MiUAfrEVHdQpvYCiSm4k67', 'changeGraph', 'eyJpZCI6ICJQYWtpc3RhbiIsICJ0eXBlIjogInZlcnRleCIsICJwcm9wcyI6IHsiY29sb3IiOiAxNjcxMTY4MH19Cg==');</script>\n",
       "    "
      ],
      "text/plain": [
       "<IPython.core.display.HTML object>"
      ]
     },
     "metadata": {},
     "output_type": "display_data"
    },
    {
     "data": {
      "text/html": [
       "\n",
       "        <div id=\"9g9sBFpeJFxEtEojT6WKmb\"></div>\n",
       "        <script>netpixi.call('9g9sBFpeJFxEtEojT6WKmb', 'MiUAfrEVHdQpvYCiSm4k67', 'changeGraph', 'eyJpZCI6ICJGcmVuY2ggUG9seW5lc2lhIiwgInR5cGUiOiAidmVydGV4IiwgInByb3BzIjogeyJjb2xvciI6IDY1MjgwfX0K');</script>\n",
       "    "
      ],
      "text/plain": [
       "<IPython.core.display.HTML object>"
      ]
     },
     "metadata": {},
     "output_type": "display_data"
    },
    {
     "data": {
      "text/html": [
       "\n",
       "        <div id=\"G74xRstRdmJgvne4x48qeX\"></div>\n",
       "        <script>netpixi.call('G74xRstRdmJgvne4x48qeX', 'MiUAfrEVHdQpvYCiSm4k67', 'changeGraph', 'eyJpZCI6ICJOZXcgQ2FsZWRvbmlhIiwgInR5cGUiOiAidmVydGV4IiwgInByb3BzIjogeyJjb2xvciI6IDY1MjgwfX0K');</script>\n",
       "    "
      ],
      "text/plain": [
       "<IPython.core.display.HTML object>"
      ]
     },
     "metadata": {},
     "output_type": "display_data"
    },
    {
     "data": {
      "text/html": [
       "\n",
       "        <div id=\"Sx9ygeBaqzdjtGSn34kiPh\"></div>\n",
       "        <script>netpixi.call('Sx9ygeBaqzdjtGSn34kiPh', 'MiUAfrEVHdQpvYCiSm4k67', 'changeGraph', 'eyJpZCI6ICJOaWdlcmlhIiwgInR5cGUiOiAidmVydGV4IiwgInByb3BzIjogeyJjb2xvciI6IDE2NzExNjgwfX0K');</script>\n",
       "    "
      ],
      "text/plain": [
       "<IPython.core.display.HTML object>"
      ]
     },
     "metadata": {},
     "output_type": "display_data"
    },
    {
     "data": {
      "text/html": [
       "\n",
       "        <div id=\"jKKS7zwQTUR2ZruG8QqiKJ\"></div>\n",
       "        <script>netpixi.call('jKKS7zwQTUR2ZruG8QqiKJ', 'MiUAfrEVHdQpvYCiSm4k67', 'changeGraph', 'eyJpZCI6ICJOZXRoZXJsYW5kcyIsICJ0eXBlIjogInZlcnRleCIsICJwcm9wcyI6IHsiY29sb3IiOiAxNjcxMTY4MH19Cg==');</script>\n",
       "    "
      ],
      "text/plain": [
       "<IPython.core.display.HTML object>"
      ]
     },
     "metadata": {},
     "output_type": "display_data"
    },
    {
     "data": {
      "text/html": [
       "\n",
       "        <div id=\"FMo86MkzH39BMgCM4gzLQZ\"></div>\n",
       "        <script>netpixi.call('FMo86MkzH39BMgCM4gzLQZ', 'MiUAfrEVHdQpvYCiSm4k67', 'changeGraph', 'eyJpZCI6ICJOaXVlIiwgInR5cGUiOiAidmVydGV4IiwgInByb3BzIjogeyJjb2xvciI6IDY1MjgwfX0K');</script>\n",
       "    "
      ],
      "text/plain": [
       "<IPython.core.display.HTML object>"
      ]
     },
     "metadata": {},
     "output_type": "display_data"
    },
    {
     "data": {
      "text/html": [
       "\n",
       "        <div id=\"5SpC4X7F88ezVZA4dGEpAv\"></div>\n",
       "        <script>netpixi.call('5SpC4X7F88ezVZA4dGEpAv', 'MiUAfrEVHdQpvYCiSm4k67', 'changeGraph', 'eyJpZCI6ICJJbmRpYSIsICJ0eXBlIjogInZlcnRleCIsICJwcm9wcyI6IHsiY29sb3IiOiAxNjcxMTY4MH19Cg==');</script>\n",
       "    "
      ],
      "text/plain": [
       "<IPython.core.display.HTML object>"
      ]
     },
     "metadata": {},
     "output_type": "display_data"
    },
    {
     "data": {
      "text/html": [
       "\n",
       "        <div id=\"jZtY3YncBFrhUrdf5YS47B\"></div>\n",
       "        <script>netpixi.call('jZtY3YncBFrhUrdf5YS47B', 'MiUAfrEVHdQpvYCiSm4k67', 'changeGraph', 'eyJpZCI6ICJEb21pbmljYSIsICJ0eXBlIjogInZlcnRleCIsICJwcm9wcyI6IHsiY29sb3IiOiA2NTI4MH19Cg==');</script>\n",
       "    "
      ],
      "text/plain": [
       "<IPython.core.display.HTML object>"
      ]
     },
     "metadata": {},
     "output_type": "display_data"
    },
    {
     "data": {
      "text/html": [
       "\n",
       "        <div id=\"9bxsmyu76ZttDhSwJbT2UV\"></div>\n",
       "        <script>netpixi.call('9bxsmyu76ZttDhSwJbT2UV', 'MiUAfrEVHdQpvYCiSm4k67', 'changeGraph', 'eyJpZCI6ICJCZWxnaXVtIiwgInR5cGUiOiAidmVydGV4IiwgInByb3BzIjogeyJjb2xvciI6IDE2NzExNjgwfX0K');</script>\n",
       "    "
      ],
      "text/plain": [
       "<IPython.core.display.HTML object>"
      ]
     },
     "metadata": {},
     "output_type": "display_data"
    },
    {
     "data": {
      "text/html": [
       "\n",
       "        <div id=\"iH6fvLEdAhV4R4Czt2nkkB\"></div>\n",
       "        <script>netpixi.call('iH6fvLEdAhV4R4Czt2nkkB', 'MiUAfrEVHdQpvYCiSm4k67', 'changeGraph', 'eyJpZCI6ICJHZXJtYW55IiwgInR5cGUiOiAidmVydGV4IiwgInByb3BzIjogeyJjb2xvciI6IDE2NzExNjgwfX0K');</script>\n",
       "    "
      ],
      "text/plain": [
       "<IPython.core.display.HTML object>"
      ]
     },
     "metadata": {},
     "output_type": "display_data"
    },
    {
     "data": {
      "text/html": [
       "\n",
       "        <div id=\"GKTTpPEpco9Awe8U6qrBC3\"></div>\n",
       "        <script>netpixi.call('GKTTpPEpco9Awe8U6qrBC3', 'MiUAfrEVHdQpvYCiSm4k67', 'changeGraph', 'eyJpZCI6ICJSd2FuZGEiLCAidHlwZSI6ICJ2ZXJ0ZXgiLCAicHJvcHMiOiB7ImNvbG9yIjogNjUyODB9fQo=');</script>\n",
       "    "
      ],
      "text/plain": [
       "<IPython.core.display.HTML object>"
      ]
     },
     "metadata": {},
     "output_type": "display_data"
    },
    {
     "data": {
      "text/html": [
       "\n",
       "        <div id=\"m8gBUcpcSoAvTeVSg2jnQr\"></div>\n",
       "        <script>netpixi.call('m8gBUcpcSoAvTeVSg2jnQr', 'MiUAfrEVHdQpvYCiSm4k67', 'changeGraph', 'eyJpZCI6ICJUdXZhbHUiLCAidHlwZSI6ICJ2ZXJ0ZXgiLCAicHJvcHMiOiB7ImNvbG9yIjogNjUyODB9fQo=');</script>\n",
       "    "
      ],
      "text/plain": [
       "<IPython.core.display.HTML object>"
      ]
     },
     "metadata": {},
     "output_type": "display_data"
    },
    {
     "data": {
      "text/html": [
       "\n",
       "        <div id=\"EdnWQ5B8ds3EAaEcCde2vG\"></div>\n",
       "        <script>netpixi.call('EdnWQ5B8ds3EAaEcCde2vG', 'MiUAfrEVHdQpvYCiSm4k67', 'changeGraph', 'eyJpZCI6ICJJdGFseSIsICJ0eXBlIjogInZlcnRleCIsICJwcm9wcyI6IHsiY29sb3IiOiAxNjcxMTY4MH19Cg==');</script>\n",
       "    "
      ],
      "text/plain": [
       "<IPython.core.display.HTML object>"
      ]
     },
     "metadata": {},
     "output_type": "display_data"
    },
    {
     "data": {
      "text/html": [
       "\n",
       "        <div id=\"hD3AR8LBdbtck4Lsg8gvff\"></div>\n",
       "        <script>netpixi.call('hD3AR8LBdbtck4Lsg8gvff', 'MiUAfrEVHdQpvYCiSm4k67', 'changeGraph', 'eyJpZCI6ICJMYXR2aWEiLCAidHlwZSI6ICJ2ZXJ0ZXgiLCAicHJvcHMiOiB7ImNvbG9yIjogNjUyODB9fQo=');</script>\n",
       "    "
      ],
      "text/plain": [
       "<IPython.core.display.HTML object>"
      ]
     },
     "metadata": {},
     "output_type": "display_data"
    },
    {
     "data": {
      "text/html": [
       "\n",
       "        <div id=\"aKQFeFSmMeHpfSMRReywcJ\"></div>\n",
       "        <script>netpixi.call('aKQFeFSmMeHpfSMRReywcJ', 'MiUAfrEVHdQpvYCiSm4k67', 'changeGraph', 'eyJpZCI6ICJPbWFuIiwgInR5cGUiOiAidmVydGV4IiwgInByb3BzIjogeyJjb2xvciI6IDY1MjgwfX0K');</script>\n",
       "    "
      ],
      "text/plain": [
       "<IPython.core.display.HTML object>"
      ]
     },
     "metadata": {},
     "output_type": "display_data"
    },
    {
     "data": {
      "text/html": [
       "\n",
       "        <div id=\"RAnNz8EWmA7ZJgU235WU8v\"></div>\n",
       "        <script>netpixi.call('RAnNz8EWmA7ZJgU235WU8v', 'MiUAfrEVHdQpvYCiSm4k67', 'changeGraph', 'eyJpZCI6ICJHdWluZWEiLCAidHlwZSI6ICJ2ZXJ0ZXgiLCAicHJvcHMiOiB7ImNvbG9yIjogNjUyODB9fQo=');</script>\n",
       "    "
      ],
      "text/plain": [
       "<IPython.core.display.HTML object>"
      ]
     },
     "metadata": {},
     "output_type": "display_data"
    },
    {
     "data": {
      "text/html": [
       "\n",
       "        <div id=\"MprWFr9793gAjtdr9UhC3Q\"></div>\n",
       "        <script>netpixi.call('MprWFr9793gAjtdr9UhC3Q', 'MiUAfrEVHdQpvYCiSm4k67', 'changeGraph', 'eyJpZCI6ICJLaXJpYmF0aSIsICJ0eXBlIjogInZlcnRleCIsICJwcm9wcyI6IHsiY29sb3IiOiA2NTI4MH19Cg==');</script>\n",
       "    "
      ],
      "text/plain": [
       "<IPython.core.display.HTML object>"
      ]
     },
     "metadata": {},
     "output_type": "display_data"
    },
    {
     "data": {
      "text/html": [
       "\n",
       "        <div id=\"RLc5MSpwhtnmWHQLe3y7pm\"></div>\n",
       "        <script>netpixi.call('RLc5MSpwhtnmWHQLe3y7pm', 'MiUAfrEVHdQpvYCiSm4k67', 'changeGraph', 'eyJpZCI6ICJNYXJzaGFsbCBJc2xhbmRzIiwgInR5cGUiOiAidmVydGV4IiwgInByb3BzIjogeyJjb2xvciI6IDY1MjgwfX0K');</script>\n",
       "    "
      ],
      "text/plain": [
       "<IPython.core.display.HTML object>"
      ]
     },
     "metadata": {},
     "output_type": "display_data"
    },
    {
     "data": {
      "text/html": [
       "\n",
       "        <div id=\"4VvzbjZpxx6kkBC34PxDYg\"></div>\n",
       "        <script>netpixi.call('4VvzbjZpxx6kkBC34PxDYg', 'MiUAfrEVHdQpvYCiSm4k67', 'changeGraph', 'eyJpZCI6ICJNYXVyaXRpdXMiLCAidHlwZSI6ICJ2ZXJ0ZXgiLCAicHJvcHMiOiB7ImNvbG9yIjogNjUyODB9fQo=');</script>\n",
       "    "
      ],
      "text/plain": [
       "<IPython.core.display.HTML object>"
      ]
     },
     "metadata": {},
     "output_type": "display_data"
    },
    {
     "data": {
      "text/html": [
       "\n",
       "        <div id=\"XTJVaaMWmxL89TXBKbbcvG\"></div>\n",
       "        <script>netpixi.call('XTJVaaMWmxL89TXBKbbcvG', 'MiUAfrEVHdQpvYCiSm4k67', 'changeGraph', 'eyJpZCI6ICJIYWl0aSIsICJ0eXBlIjogInZlcnRleCIsICJwcm9wcyI6IHsiY29sb3IiOiA2NTI4MH19Cg==');</script>\n",
       "    "
      ],
      "text/plain": [
       "<IPython.core.display.HTML object>"
      ]
     },
     "metadata": {},
     "output_type": "display_data"
    },
    {
     "data": {
      "text/html": [
       "\n",
       "        <div id=\"h4fLqvxEmaFvAous9wQWYN\"></div>\n",
       "        <script>netpixi.call('h4fLqvxEmaFvAous9wQWYN', 'MiUAfrEVHdQpvYCiSm4k67', 'changeGraph', 'eyJpZCI6ICJOaWNhcmFndWEiLCAidHlwZSI6ICJ2ZXJ0ZXgiLCAicHJvcHMiOiB7ImNvbG9yIjogNjUyODB9fQo=');</script>\n",
       "    "
      ],
      "text/plain": [
       "<IPython.core.display.HTML object>"
      ]
     },
     "metadata": {},
     "output_type": "display_data"
    },
    {
     "data": {
      "text/html": [
       "\n",
       "        <div id=\"4hYUaEZF5bZpxmE2U5Gga9\"></div>\n",
       "        <script>netpixi.call('4hYUaEZF5bZpxmE2U5Gga9', 'MiUAfrEVHdQpvYCiSm4k67', 'changeGraph', 'eyJpZCI6ICJLYXpha2hzdGFuIiwgInR5cGUiOiAidmVydGV4IiwgInByb3BzIjogeyJjb2xvciI6IDY1MjgwfX0K');</script>\n",
       "    "
      ],
      "text/plain": [
       "<IPython.core.display.HTML object>"
      ]
     },
     "metadata": {},
     "output_type": "display_data"
    },
    {
     "data": {
      "text/html": [
       "\n",
       "        <div id=\"KuerYJ47SGasxGviCazjX4\"></div>\n",
       "        <script>netpixi.call('KuerYJ47SGasxGviCazjX4', 'MiUAfrEVHdQpvYCiSm4k67', 'changeGraph', 'eyJpZCI6ICJFY3VhZG9yIiwgInR5cGUiOiAidmVydGV4IiwgInByb3BzIjogeyJjb2xvciI6IDE2NzExNjgwfX0K');</script>\n",
       "    "
      ],
      "text/plain": [
       "<IPython.core.display.HTML object>"
      ]
     },
     "metadata": {},
     "output_type": "display_data"
    },
    {
     "data": {
      "text/html": [
       "\n",
       "        <div id=\"ZU8JFid7HgTbsVLZ4oqsBE\"></div>\n",
       "        <script>netpixi.call('ZU8JFid7HgTbsVLZ4oqsBE', 'MiUAfrEVHdQpvYCiSm4k67', 'changeGraph', 'eyJpZCI6ICJHdWF0ZW1hbGEiLCAidHlwZSI6ICJ2ZXJ0ZXgiLCAicHJvcHMiOiB7ImNvbG9yIjogNjUyODB9fQo=');</script>\n",
       "    "
      ],
      "text/plain": [
       "<IPython.core.display.HTML object>"
      ]
     },
     "metadata": {},
     "output_type": "display_data"
    },
    {
     "data": {
      "text/html": [
       "\n",
       "        <div id=\"KF3TUJfgLeJiwhyfJ9TLTf\"></div>\n",
       "        <script>netpixi.call('KF3TUJfgLeJiwhyfJ9TLTf', 'MiUAfrEVHdQpvYCiSm4k67', 'changeGraph', 'eyJpZCI6ICJNYWRhZ2FzY2FyIiwgInR5cGUiOiAidmVydGV4IiwgInByb3BzIjogeyJjb2xvciI6IDY1MjgwfX0K');</script>\n",
       "    "
      ],
      "text/plain": [
       "<IPython.core.display.HTML object>"
      ]
     },
     "metadata": {},
     "output_type": "display_data"
    },
    {
     "data": {
      "text/html": [
       "\n",
       "        <div id=\"9WgqFtLi6tmZrjGiffxSY9\"></div>\n",
       "        <script>netpixi.call('9WgqFtLi6tmZrjGiffxSY9', 'MiUAfrEVHdQpvYCiSm4k67', 'changeGraph', 'eyJpZCI6ICJUcmluaWRhZCBhbmQgVG9iYWdvIiwgInR5cGUiOiAidmVydGV4IiwgInByb3BzIjogeyJjb2xvciI6IDY1MjgwfX0K');</script>\n",
       "    "
      ],
      "text/plain": [
       "<IPython.core.display.HTML object>"
      ]
     },
     "metadata": {},
     "output_type": "display_data"
    },
    {
     "data": {
      "text/html": [
       "\n",
       "        <div id=\"hQAecAAGxeUoLqph29HB9o\"></div>\n",
       "        <script>netpixi.call('hQAecAAGxeUoLqph29HB9o', 'MiUAfrEVHdQpvYCiSm4k67', 'changeGraph', 'eyJpZCI6ICJHdWFkZWxvdXBlIiwgInR5cGUiOiAidmVydGV4IiwgInByb3BzIjogeyJjb2xvciI6IDY1MjgwfX0K');</script>\n",
       "    "
      ],
      "text/plain": [
       "<IPython.core.display.HTML object>"
      ]
     },
     "metadata": {},
     "output_type": "display_data"
    },
    {
     "data": {
      "text/html": [
       "\n",
       "        <div id=\"3rsW6bEJiadrvNw8qGQ69V\"></div>\n",
       "        <script>netpixi.call('3rsW6bEJiadrvNw8qGQ69V', 'MiUAfrEVHdQpvYCiSm4k67', 'changeGraph', 'eyJpZCI6ICJDYW5hZGEiLCAidHlwZSI6ICJ2ZXJ0ZXgiLCAicHJvcHMiOiB7ImNvbG9yIjogMTY3MTE2ODB9fQo=');</script>\n",
       "    "
      ],
      "text/plain": [
       "<IPython.core.display.HTML object>"
      ]
     },
     "metadata": {},
     "output_type": "display_data"
    },
    {
     "data": {
      "text/html": [
       "\n",
       "        <div id=\"gC77zUN4Uinp6CP6PSPrD9\"></div>\n",
       "        <script>netpixi.call('gC77zUN4Uinp6CP6PSPrD9', 'MiUAfrEVHdQpvYCiSm4k67', 'changeGraph', 'eyJpZCI6ICJDYW1ib2RpYSIsICJ0eXBlIjogInZlcnRleCIsICJwcm9wcyI6IHsiY29sb3IiOiAxNjcxMTY4MH19Cg==');</script>\n",
       "    "
      ],
      "text/plain": [
       "<IPython.core.display.HTML object>"
      ]
     },
     "metadata": {},
     "output_type": "display_data"
    },
    {
     "data": {
      "text/html": [
       "\n",
       "        <div id=\"bxqZxHEg5VP2Lim27yijnW\"></div>\n",
       "        <script>netpixi.call('bxqZxHEg5VP2Lim27yijnW', 'MiUAfrEVHdQpvYCiSm4k67', 'changeGraph', 'eyJpZCI6ICJUdW5pc2lhIiwgInR5cGUiOiAidmVydGV4IiwgInByb3BzIjogeyJjb2xvciI6IDY1MjgwfX0K');</script>\n",
       "    "
      ],
      "text/plain": [
       "<IPython.core.display.HTML object>"
      ]
     },
     "metadata": {},
     "output_type": "display_data"
    },
    {
     "data": {
      "text/html": [
       "\n",
       "        <div id=\"RLef5MLbxMvXiMVFYpRCQM\"></div>\n",
       "        <script>netpixi.call('RLef5MLbxMvXiMVFYpRCQM', 'MiUAfrEVHdQpvYCiSm4k67', 'changeGraph', 'eyJpZCI6ICJCcnVuZWkgRGFydXNzYWxhbSIsICJ0eXBlIjogInZlcnRleCIsICJwcm9wcyI6IHsiY29sb3IiOiA2NTI4MH19Cg==');</script>\n",
       "    "
      ],
      "text/plain": [
       "<IPython.core.display.HTML object>"
      ]
     },
     "metadata": {},
     "output_type": "display_data"
    },
    {
     "data": {
      "text/html": [
       "\n",
       "        <div id=\"ATDgEXMyZQdqGuXcs8ezcL\"></div>\n",
       "        <script>netpixi.call('ATDgEXMyZQdqGuXcs8ezcL', 'MiUAfrEVHdQpvYCiSm4k67', 'changeGraph', 'eyJpZCI6ICJNYXVyaXRhbmlhIiwgInR5cGUiOiAidmVydGV4IiwgInByb3BzIjogeyJjb2xvciI6IDY1MjgwfX0K');</script>\n",
       "    "
      ],
      "text/plain": [
       "<IPython.core.display.HTML object>"
      ]
     },
     "metadata": {},
     "output_type": "display_data"
    },
    {
     "data": {
      "text/html": [
       "\n",
       "        <div id=\"5s6nCVzjGXtqEh6x6qR7Ei\"></div>\n",
       "        <script>netpixi.call('5s6nCVzjGXtqEh6x6qR7Ei', 'MiUAfrEVHdQpvYCiSm4k67', 'changeGraph', 'eyJpZCI6ICJHYWJvbiIsICJ0eXBlIjogInZlcnRleCIsICJwcm9wcyI6IHsiY29sb3IiOiAxNjcxMTY4MH19Cg==');</script>\n",
       "    "
      ],
      "text/plain": [
       "<IPython.core.display.HTML object>"
      ]
     },
     "metadata": {},
     "output_type": "display_data"
    },
    {
     "data": {
      "text/html": [
       "\n",
       "        <div id=\"dnVhE4TmxnHKLCxiNF6zah\"></div>\n",
       "        <script>netpixi.call('dnVhE4TmxnHKLCxiNF6zah', 'MiUAfrEVHdQpvYCiSm4k67', 'changeGraph', 'eyJpZCI6ICJCb3NuaWEgYW5kIEhlcnplZ292aW5hIiwgInR5cGUiOiAidmVydGV4IiwgInByb3BzIjogeyJjb2xvciI6IDE2NzExNjgwfX0K');</script>\n",
       "    "
      ],
      "text/plain": [
       "<IPython.core.display.HTML object>"
      ]
     },
     "metadata": {},
     "output_type": "display_data"
    },
    {
     "data": {
      "text/html": [
       "\n",
       "        <div id=\"EMXtwzmeZhZQYbmruhWtqG\"></div>\n",
       "        <script>netpixi.call('EMXtwzmeZhZQYbmruhWtqG', 'MiUAfrEVHdQpvYCiSm4k67', 'changeGraph', 'eyJpZCI6ICJGaWppIiwgInR5cGUiOiAidmVydGV4IiwgInByb3BzIjogeyJjb2xvciI6IDY1MjgwfX0K');</script>\n",
       "    "
      ],
      "text/plain": [
       "<IPython.core.display.HTML object>"
      ]
     },
     "metadata": {},
     "output_type": "display_data"
    },
    {
     "data": {
      "text/html": [
       "\n",
       "        <div id=\"Y5zyw2Cwy7wRnqBv9uC5Ah\"></div>\n",
       "        <script>netpixi.call('Y5zyw2Cwy7wRnqBv9uC5Ah', 'MiUAfrEVHdQpvYCiSm4k67', 'changeGraph', 'eyJpZCI6ICJDcm9hdGlhIiwgInR5cGUiOiAidmVydGV4IiwgInByb3BzIjogeyJjb2xvciI6IDE2NzExNjgwfX0K');</script>\n",
       "    "
      ],
      "text/plain": [
       "<IPython.core.display.HTML object>"
      ]
     },
     "metadata": {},
     "output_type": "display_data"
    },
    {
     "data": {
      "text/html": [
       "\n",
       "        <div id=\"5q5dCiimBhwpzYp9My9awm\"></div>\n",
       "        <script>netpixi.call('5q5dCiimBhwpzYp9My9awm', 'MiUAfrEVHdQpvYCiSm4k67', 'changeGraph', 'eyJpZCI6ICJMaXRodWFuaWEiLCAidHlwZSI6ICJ2ZXJ0ZXgiLCAicHJvcHMiOiB7ImNvbG9yIjogNjUyODB9fQo=');</script>\n",
       "    "
      ],
      "text/plain": [
       "<IPython.core.display.HTML object>"
      ]
     },
     "metadata": {},
     "output_type": "display_data"
    },
    {
     "data": {
      "text/html": [
       "\n",
       "        <div id=\"TsWcXTYcRQYtQW6VE7V3hM\"></div>\n",
       "        <script>netpixi.call('TsWcXTYcRQYtQW6VE7V3hM', 'MiUAfrEVHdQpvYCiSm4k67', 'changeGraph', 'eyJpZCI6ICJTaW50IE1hYXJ0ZW4gKER1dGNoIHBhcnQpIiwgInR5cGUiOiAidmVydGV4IiwgInByb3BzIjogeyJjb2xvciI6IDY1MjgwfX0K');</script>\n",
       "    "
      ],
      "text/plain": [
       "<IPython.core.display.HTML object>"
      ]
     },
     "metadata": {},
     "output_type": "display_data"
    },
    {
     "data": {
      "text/html": [
       "\n",
       "        <div id=\"DZVj9r26KhvopFCgBQW6Ed\"></div>\n",
       "        <script>netpixi.call('DZVj9r26KhvopFCgBQW6Ed', 'MiUAfrEVHdQpvYCiSm4k67', 'changeGraph', 'eyJpZCI6ICJTb3V0aCBBZnJpY2EiLCAidHlwZSI6ICJ2ZXJ0ZXgiLCAicHJvcHMiOiB7ImNvbG9yIjogMTY3MTE2ODB9fQo=');</script>\n",
       "    "
      ],
      "text/plain": [
       "<IPython.core.display.HTML object>"
      ]
     },
     "metadata": {},
     "output_type": "display_data"
    },
    {
     "data": {
      "text/html": [
       "\n",
       "        <div id=\"VYhL3YGz3ewsJcA9fi72kG\"></div>\n",
       "        <script>netpixi.call('VYhL3YGz3ewsJcA9fi72kG', 'MiUAfrEVHdQpvYCiSm4k67', 'changeGraph', 'eyJpZCI6ICJKYW1haWNhIiwgInR5cGUiOiAidmVydGV4IiwgInByb3BzIjogeyJjb2xvciI6IDY1MjgwfX0K');</script>\n",
       "    "
      ],
      "text/plain": [
       "<IPython.core.display.HTML object>"
      ]
     },
     "metadata": {},
     "output_type": "display_data"
    },
    {
     "data": {
      "text/html": [
       "\n",
       "        <div id=\"D3DYdVhrjHQHvdLDggKgcX\"></div>\n",
       "        <script>netpixi.call('D3DYdVhrjHQHvdLDggKgcX', 'MiUAfrEVHdQpvYCiSm4k67', 'changeGraph', 'eyJpZCI6ICJQYWxlc3RpbmlhbiIsICJ0eXBlIjogInZlcnRleCIsICJwcm9wcyI6IHsiY29sb3IiOiA2NTI4MH19Cg==');</script>\n",
       "    "
      ],
      "text/plain": [
       "<IPython.core.display.HTML object>"
      ]
     },
     "metadata": {},
     "output_type": "display_data"
    },
    {
     "data": {
      "text/html": [
       "\n",
       "        <div id=\"4cZBrpz8eSo8FTCMMiSRPu\"></div>\n",
       "        <script>netpixi.call('4cZBrpz8eSo8FTCMMiSRPu', 'MiUAfrEVHdQpvYCiSm4k67', 'changeGraph', 'eyJpZCI6ICJHcmVuYWRhIiwgInR5cGUiOiAidmVydGV4IiwgInByb3BzIjogeyJjb2xvciI6IDY1MjgwfX0K');</script>\n",
       "    "
      ],
      "text/plain": [
       "<IPython.core.display.HTML object>"
      ]
     },
     "metadata": {},
     "output_type": "display_data"
    },
    {
     "data": {
      "text/html": [
       "\n",
       "        <div id=\"brYxSbLcaiWHuDLoMcfBvQ\"></div>\n",
       "        <script>netpixi.call('brYxSbLcaiWHuDLoMcfBvQ', 'MiUAfrEVHdQpvYCiSm4k67', 'changeGraph', 'eyJpZCI6ICJFcml0cmVhIiwgInR5cGUiOiAidmVydGV4IiwgInByb3BzIjogeyJjb2xvciI6IDY1MjgwfX0K');</script>\n",
       "    "
      ],
      "text/plain": [
       "<IPython.core.display.HTML object>"
      ]
     },
     "metadata": {},
     "output_type": "display_data"
    },
    {
     "data": {
      "text/html": [
       "\n",
       "        <div id=\"VqEZwQhqYVPSAdvkHP6xQB\"></div>\n",
       "        <script>netpixi.call('VqEZwQhqYVPSAdvkHP6xQB', 'MiUAfrEVHdQpvYCiSm4k67', 'changeGraph', 'eyJpZCI6ICJUdXJrcyBhbmQgQ2FpY29zIElzbGFuZHMiLCAidHlwZSI6ICJ2ZXJ0ZXgiLCAicHJvcHMiOiB7ImNvbG9yIjogNjUyODB9fQo=');</script>\n",
       "    "
      ],
      "text/plain": [
       "<IPython.core.display.HTML object>"
      ]
     },
     "metadata": {},
     "output_type": "display_data"
    },
    {
     "data": {
      "text/html": [
       "\n",
       "        <div id=\"CjawEuPCRyzNBdfW8aC4gf\"></div>\n",
       "        <script>netpixi.call('CjawEuPCRyzNBdfW8aC4gf', 'MiUAfrEVHdQpvYCiSm4k67', 'changeGraph', 'eyJpZCI6ICJHYW1iaWEiLCAidHlwZSI6ICJ2ZXJ0ZXgiLCAicHJvcHMiOiB7ImNvbG9yIjogNjUyODB9fQo=');</script>\n",
       "    "
      ],
      "text/plain": [
       "<IPython.core.display.HTML object>"
      ]
     },
     "metadata": {},
     "output_type": "display_data"
    },
    {
     "data": {
      "text/html": [
       "\n",
       "        <div id=\"ReDxrMyruC9VNQoBk6MVXP\"></div>\n",
       "        <script>netpixi.call('ReDxrMyruC9VNQoBk6MVXP', 'MiUAfrEVHdQpvYCiSm4k67', 'changeGraph', 'eyJpZCI6ICJDXHUwMGY0dGUgZCdJdm9pcmUiLCAidHlwZSI6ICJ2ZXJ0ZXgiLCAicHJvcHMiOiB7ImNvbG9yIjogMTY3MTE2ODB9fQo=');</script>\n",
       "    "
      ],
      "text/plain": [
       "<IPython.core.display.HTML object>"
      ]
     },
     "metadata": {},
     "output_type": "display_data"
    },
    {
     "data": {
      "text/html": [
       "\n",
       "        <div id=\"oFiGJN3RuwYq4P9jh2aEkt\"></div>\n",
       "        <script>netpixi.call('oFiGJN3RuwYq4P9jh2aEkt', 'MiUAfrEVHdQpvYCiSm4k67', 'changeGraph', 'eyJpZCI6ICJOZXcgWmVhbGFuZCIsICJ0eXBlIjogInZlcnRleCIsICJwcm9wcyI6IHsiY29sb3IiOiAxNjcxMTY4MH19Cg==');</script>\n",
       "    "
      ],
      "text/plain": [
       "<IPython.core.display.HTML object>"
      ]
     },
     "metadata": {},
     "output_type": "display_data"
    },
    {
     "data": {
      "text/html": [
       "\n",
       "        <div id=\"SwGjv3wZL7ZtnrVwRBRdA3\"></div>\n",
       "        <script>netpixi.call('SwGjv3wZL7ZtnrVwRBRdA3', 'MiUAfrEVHdQpvYCiSm4k67', 'changeGraph', 'eyJpZCI6ICJGcmVuY2ggR3VpYW5hIiwgInR5cGUiOiAidmVydGV4IiwgInByb3BzIjogeyJjb2xvciI6IDY1MjgwfX0K');</script>\n",
       "    "
      ],
      "text/plain": [
       "<IPython.core.display.HTML object>"
      ]
     },
     "metadata": {},
     "output_type": "display_data"
    },
    {
     "data": {
      "text/html": [
       "\n",
       "        <div id=\"32SMYsKpmbVhfz7Lrr7kML\"></div>\n",
       "        <script>netpixi.call('32SMYsKpmbVhfz7Lrr7kML', 'MiUAfrEVHdQpvYCiSm4k67', 'changeGraph', 'eyJpZCI6ICJaaW1iYWJ3ZSIsICJ0eXBlIjogInZlcnRleCIsICJwcm9wcyI6IHsiY29sb3IiOiAxNjcxMTY4MH19Cg==');</script>\n",
       "    "
      ],
      "text/plain": [
       "<IPython.core.display.HTML object>"
      ]
     },
     "metadata": {},
     "output_type": "display_data"
    },
    {
     "data": {
      "text/html": [
       "\n",
       "        <div id=\"9RpuEF5PSs2FA7LGND2E6V\"></div>\n",
       "        <script>netpixi.call('9RpuEF5PSs2FA7LGND2E6V', 'MiUAfrEVHdQpvYCiSm4k67', 'changeGraph', 'eyJpZCI6ICJNYWxpIiwgInR5cGUiOiAidmVydGV4IiwgInByb3BzIjogeyJjb2xvciI6IDY1MjgwfX0K');</script>\n",
       "    "
      ],
      "text/plain": [
       "<IPython.core.display.HTML object>"
      ]
     },
     "metadata": {},
     "output_type": "display_data"
    },
    {
     "data": {
      "text/html": [
       "\n",
       "        <div id=\"5zT5StuZYXxDLXSyb8Ahg2\"></div>\n",
       "        <script>netpixi.call('5zT5StuZYXxDLXSyb8Ahg2', 'MiUAfrEVHdQpvYCiSm4k67', 'changeGraph', 'eyJpZCI6ICJTYW1vYSIsICJ0eXBlIjogInZlcnRleCIsICJwcm9wcyI6IHsiY29sb3IiOiA2NTI4MH19Cg==');</script>\n",
       "    "
      ],
      "text/plain": [
       "<IPython.core.display.HTML object>"
      ]
     },
     "metadata": {},
     "output_type": "display_data"
    },
    {
     "data": {
      "text/html": [
       "\n",
       "        <div id=\"VUtsLSTNg8gqmhE9gjT8S7\"></div>\n",
       "        <script>netpixi.call('VUtsLSTNg8gqmhE9gjT8S7', 'MiUAfrEVHdQpvYCiSm4k67', 'changeGraph', 'eyJpZCI6ICJTeXJpYW4gQXJhYiBSZXAuIiwgInR5cGUiOiAidmVydGV4IiwgInByb3BzIjogeyJjb2xvciI6IDE2NzExNjgwfX0K');</script>\n",
       "    "
      ],
      "text/plain": [
       "<IPython.core.display.HTML object>"
      ]
     },
     "metadata": {},
     "output_type": "display_data"
    },
    {
     "data": {
      "text/html": [
       "\n",
       "        <div id=\"mKfzvD22x9X8kMP7KJL3id\"></div>\n",
       "        <script>netpixi.call('mKfzvD22x9X8kMP7KJL3id', 'MiUAfrEVHdQpvYCiSm4k67', 'changeGraph', 'eyJpZCI6ICJDeXBydXMiLCAidHlwZSI6ICJ2ZXJ0ZXgiLCAicHJvcHMiOiB7ImNvbG9yIjogMTY3MTE2ODB9fQo=');</script>\n",
       "    "
      ],
      "text/plain": [
       "<IPython.core.display.HTML object>"
      ]
     },
     "metadata": {},
     "output_type": "display_data"
    },
    {
     "data": {
      "text/html": [
       "\n",
       "        <div id=\"PD8t4ECDfHgYueXioMY9Bh\"></div>\n",
       "        <script>netpixi.call('PD8t4ECDfHgYueXioMY9Bh', 'MiUAfrEVHdQpvYCiSm4k67', 'changeGraph', 'eyJpZCI6ICJUb25nYSIsICJ0eXBlIjogInZlcnRleCIsICJwcm9wcyI6IHsiY29sb3IiOiA2NTI4MH19Cg==');</script>\n",
       "    "
      ],
      "text/plain": [
       "<IPython.core.display.HTML object>"
      ]
     },
     "metadata": {},
     "output_type": "display_data"
    },
    {
     "data": {
      "text/html": [
       "\n",
       "        <div id=\"YD5ze4k7a7a9aMrY3xDY88\"></div>\n",
       "        <script>netpixi.call('YD5ze4k7a7a9aMrY3xDY88', 'MiUAfrEVHdQpvYCiSm4k67', 'changeGraph', 'eyJpZCI6ICJLdXdhaXQiLCAidHlwZSI6ICJ2ZXJ0ZXgiLCAicHJvcHMiOiB7ImNvbG9yIjogNjUyODB9fQo=');</script>\n",
       "    "
      ],
      "text/plain": [
       "<IPython.core.display.HTML object>"
      ]
     },
     "metadata": {},
     "output_type": "display_data"
    },
    {
     "data": {
      "text/html": [
       "\n",
       "        <div id=\"Z3bKQuGfAbXzZ3ZkKsEAyY\"></div>\n",
       "        <script>netpixi.call('Z3bKQuGfAbXzZ3ZkKsEAyY', 'MiUAfrEVHdQpvYCiSm4k67', 'changeGraph', 'eyJpZCI6ICJTYWludC1QaWVycmUtZXQtTWlxdWVsb24iLCAidHlwZSI6ICJ2ZXJ0ZXgiLCAicHJvcHMiOiB7ImNvbG9yIjogNjUyODB9fQo=');</script>\n",
       "    "
      ],
      "text/plain": [
       "<IPython.core.display.HTML object>"
      ]
     },
     "metadata": {},
     "output_type": "display_data"
    },
    {
     "data": {
      "text/html": [
       "\n",
       "        <div id=\"h7sfxTPyF8Mf8WXtLFN7S3\"></div>\n",
       "        <script>netpixi.call('h7sfxTPyF8Mf8WXtLFN7S3', 'MiUAfrEVHdQpvYCiSm4k67', 'changeGraph', 'eyJpZCI6ICJBZmdoYW5pc3RhbiIsICJ0eXBlIjogInZlcnRleCIsICJwcm9wcyI6IHsiY29sb3IiOiA2NTI4MH19Cg==');</script>\n",
       "    "
      ],
      "text/plain": [
       "<IPython.core.display.HTML object>"
      ]
     },
     "metadata": {},
     "output_type": "display_data"
    },
    {
     "data": {
      "text/html": [
       "\n",
       "        <div id=\"J2ZDkpKmPDZ63XyGYkHT6i\"></div>\n",
       "        <script>netpixi.call('J2ZDkpKmPDZ63XyGYkHT6i', 'MiUAfrEVHdQpvYCiSm4k67', 'changeGraph', 'eyJpZCI6ICJTbG92ZW5pYSIsICJ0eXBlIjogInZlcnRleCIsICJwcm9wcyI6IHsiY29sb3IiOiAxNjcxMTY4MH19Cg==');</script>\n",
       "    "
      ],
      "text/plain": [
       "<IPython.core.display.HTML object>"
      ]
     },
     "metadata": {},
     "output_type": "display_data"
    },
    {
     "data": {
      "text/html": [
       "\n",
       "        <div id=\"AC5DMAQwXUAVbZKBQ4VyXU\"></div>\n",
       "        <script>netpixi.call('AC5DMAQwXUAVbZKBQ4VyXU', 'MiUAfrEVHdQpvYCiSm4k67', 'changeGraph', 'eyJpZCI6ICJCb3Rzd2FuYSIsICJ0eXBlIjogInZlcnRleCIsICJwcm9wcyI6IHsiY29sb3IiOiA2NTI4MH19Cg==');</script>\n",
       "    "
      ],
      "text/plain": [
       "<IPython.core.display.HTML object>"
      ]
     },
     "metadata": {},
     "output_type": "display_data"
    },
    {
     "data": {
      "text/html": [
       "\n",
       "        <div id=\"bg98vtNVxrf23EDfq53RT7\"></div>\n",
       "        <script>netpixi.call('bg98vtNVxrf23EDfq53RT7', 'MiUAfrEVHdQpvYCiSm4k67', 'changeGraph', 'eyJpZCI6ICJNYWxhd2kiLCAidHlwZSI6ICJ2ZXJ0ZXgiLCAicHJvcHMiOiB7ImNvbG9yIjogNjUyODB9fQo=');</script>\n",
       "    "
      ],
      "text/plain": [
       "<IPython.core.display.HTML object>"
      ]
     },
     "metadata": {},
     "output_type": "display_data"
    },
    {
     "data": {
      "text/html": [
       "\n",
       "        <div id=\"ELGteCC63hKnUMTZonKpVc\"></div>\n",
       "        <script>netpixi.call('ELGteCC63hKnUMTZonKpVc', 'MiUAfrEVHdQpvYCiSm4k67', 'changeGraph', 'eyJpZCI6ICJSZXAuIG9mIEtvcmVhIiwgInR5cGUiOiAidmVydGV4IiwgInByb3BzIjogeyJjb2xvciI6IDE2NzExNjgwfX0K');</script>\n",
       "    "
      ],
      "text/plain": [
       "<IPython.core.display.HTML object>"
      ]
     },
     "metadata": {},
     "output_type": "display_data"
    },
    {
     "data": {
      "text/html": [
       "\n",
       "        <div id=\"WsBxPM42MsLHCnVLEEp5Lh\"></div>\n",
       "        <script>netpixi.call('WsBxPM42MsLHCnVLEEp5Lh', 'MiUAfrEVHdQpvYCiSm4k67', 'changeGraph', 'eyJpZCI6ICJMaWVjaHRlbnN0ZWluIiwgInR5cGUiOiAidmVydGV4IiwgInByb3BzIjogeyJjb2xvciI6IDY1MjgwfX0K');</script>\n",
       "    "
      ],
      "text/plain": [
       "<IPython.core.display.HTML object>"
      ]
     },
     "metadata": {},
     "output_type": "display_data"
    },
    {
     "data": {
      "text/html": [
       "\n",
       "        <div id=\"Gb2Uoc2XdFuATTF2BRUcfk\"></div>\n",
       "        <script>netpixi.call('Gb2Uoc2XdFuATTF2BRUcfk', 'MiUAfrEVHdQpvYCiSm4k67', 'changeGraph', 'eyJpZCI6ICJQaGlsaXBwaW5lcyIsICJ0eXBlIjogInZlcnRleCIsICJwcm9wcyI6IHsiY29sb3IiOiA2NTI4MH19Cg==');</script>\n",
       "    "
      ],
      "text/plain": [
       "<IPython.core.display.HTML object>"
      ]
     },
     "metadata": {},
     "output_type": "display_data"
    },
    {
     "data": {
      "text/html": [
       "\n",
       "        <div id=\"Yw6yUQC3PuKdsZjN3pfuR8\"></div>\n",
       "        <script>netpixi.call('Yw6yUQC3PuKdsZjN3pfuR8', 'MiUAfrEVHdQpvYCiSm4k67', 'changeGraph', 'eyJpZCI6ICJUdXJrbWVuaXN0YW4iLCAidHlwZSI6ICJ2ZXJ0ZXgiLCAicHJvcHMiOiB7ImNvbG9yIjogNjUyODB9fQo=');</script>\n",
       "    "
      ],
      "text/plain": [
       "<IPython.core.display.HTML object>"
      ]
     },
     "metadata": {},
     "output_type": "display_data"
    },
    {
     "data": {
      "text/html": [
       "\n",
       "        <div id=\"jYaf8NNrjdgUeD7hwWNpDe\"></div>\n",
       "        <script>netpixi.call('jYaf8NNrjdgUeD7hwWNpDe', 'MiUAfrEVHdQpvYCiSm4k67', 'changeGraph', 'eyJpZCI6ICJZZW1lbiIsICJ0eXBlIjogInZlcnRleCIsICJwcm9wcyI6IHsiY29sb3IiOiA2NTI4MH19Cg==');</script>\n",
       "    "
      ],
      "text/plain": [
       "<IPython.core.display.HTML object>"
      ]
     },
     "metadata": {},
     "output_type": "display_data"
    },
    {
     "data": {
      "text/html": [
       "\n",
       "        <div id=\"KvUzLxMtR24crzUAJR7oUS\"></div>\n",
       "        <script>netpixi.call('KvUzLxMtR24crzUAJR7oUS', 'MiUAfrEVHdQpvYCiSm4k67', 'changeGraph', 'eyJpZCI6ICJKYXBhbiIsICJ0eXBlIjogInZlcnRleCIsICJwcm9wcyI6IHsiY29sb3IiOiAxNjcxMTY4MH19Cg==');</script>\n",
       "    "
      ],
      "text/plain": [
       "<IPython.core.display.HTML object>"
      ]
     },
     "metadata": {},
     "output_type": "display_data"
    },
    {
     "data": {
      "text/html": [
       "\n",
       "        <div id=\"mBsNaTU3NxMSfAgAk9yQaK\"></div>\n",
       "        <script>netpixi.call('mBsNaTU3NxMSfAgAk9yQaK', 'MiUAfrEVHdQpvYCiSm4k67', 'changeGraph', 'eyJpZCI6ICJBbGdlcmlhIiwgInR5cGUiOiAidmVydGV4IiwgInByb3BzIjogeyJjb2xvciI6IDY1MjgwfX0K');</script>\n",
       "    "
      ],
      "text/plain": [
       "<IPython.core.display.HTML object>"
      ]
     },
     "metadata": {},
     "output_type": "display_data"
    },
    {
     "data": {
      "text/html": [
       "\n",
       "        <div id=\"Gy2QBRdJE84SSFqcRoWXtR\"></div>\n",
       "        <script>netpixi.call('Gy2QBRdJE84SSFqcRoWXtR', 'MiUAfrEVHdQpvYCiSm4k67', 'changeGraph', 'eyJpZCI6ICJCZXJtdWRhIiwgInR5cGUiOiAidmVydGV4IiwgInByb3BzIjogeyJjb2xvciI6IDY1MjgwfX0K');</script>\n",
       "    "
      ],
      "text/plain": [
       "<IPython.core.display.HTML object>"
      ]
     },
     "metadata": {},
     "output_type": "display_data"
    },
    {
     "data": {
      "text/html": [
       "\n",
       "        <div id=\"hecDTdqTHKifHuqJefg9Ay\"></div>\n",
       "        <script>netpixi.call('hecDTdqTHKifHuqJefg9Ay', 'MiUAfrEVHdQpvYCiSm4k67', 'changeGraph', 'eyJpZCI6ICJBbWVyaWNhbiBTYW1vYSIsICJ0eXBlIjogInZlcnRleCIsICJwcm9wcyI6IHsiY29sb3IiOiA2NTI4MH19Cg==');</script>\n",
       "    "
      ],
      "text/plain": [
       "<IPython.core.display.HTML object>"
      ]
     },
     "metadata": {},
     "output_type": "display_data"
    },
    {
     "data": {
      "text/html": [
       "\n",
       "        <div id=\"CucPMXrVgc6KdkUuGJiZE2\"></div>\n",
       "        <script>netpixi.call('CucPMXrVgc6KdkUuGJiZE2', 'MiUAfrEVHdQpvYCiSm4k67', 'changeGraph', 'eyJpZCI6ICJMYW8gUGVvcGxlJ3MgRGVtLiBSZXAuIiwgInR5cGUiOiAidmVydGV4IiwgInByb3BzIjogeyJjb2xvciI6IDY1MjgwfX0K');</script>\n",
       "    "
      ],
      "text/plain": [
       "<IPython.core.display.HTML object>"
      ]
     },
     "metadata": {},
     "output_type": "display_data"
    },
    {
     "data": {
      "text/html": [
       "\n",
       "        <div id=\"bp9ccqKDfajToswp28Q6NX\"></div>\n",
       "        <script>netpixi.call('bp9ccqKDfajToswp28Q6NX', 'MiUAfrEVHdQpvYCiSm4k67', 'changeGraph', 'eyJpZCI6ICJIb2x5IFNlZSAodGhlKSIsICJ0eXBlIjogInZlcnRleCIsICJwcm9wcyI6IHsiY29sb3IiOiA2NTI4MH19Cg==');</script>\n",
       "    "
      ],
      "text/plain": [
       "<IPython.core.display.HTML object>"
      ]
     },
     "metadata": {},
     "output_type": "display_data"
    },
    {
     "data": {
      "text/html": [
       "\n",
       "        <div id=\"XaQa7kydActqHqX6apq8up\"></div>\n",
       "        <script>netpixi.call('XaQa7kydActqHqX6apq8up', 'MiUAfrEVHdQpvYCiSm4k67', 'changeGraph', 'eyJpZCI6ICJTYXVkaSBBcmFiaWEiLCAidHlwZSI6ICJ2ZXJ0ZXgiLCAicHJvcHMiOiB7ImNvbG9yIjogMTY3MTE2ODB9fQo=');</script>\n",
       "    "
      ],
      "text/plain": [
       "<IPython.core.display.HTML object>"
      ]
     },
     "metadata": {},
     "output_type": "display_data"
    },
    {
     "data": {
      "text/html": [
       "\n",
       "        <div id=\"o9uVDj8eAw5o3CQEnSxSNV\"></div>\n",
       "        <script>netpixi.call('o9uVDj8eAw5o3CQEnSxSNV', 'MiUAfrEVHdQpvYCiSm4k67', 'changeGraph', 'eyJpZCI6ICJTdXJpbmFtZSIsICJ0eXBlIjogInZlcnRleCIsICJwcm9wcyI6IHsiY29sb3IiOiA2NTI4MH19Cg==');</script>\n",
       "    "
      ],
      "text/plain": [
       "<IPython.core.display.HTML object>"
      ]
     },
     "metadata": {},
     "output_type": "display_data"
    },
    {
     "data": {
      "text/html": [
       "\n",
       "        <div id=\"QuabKc6YkSZtmu64XcJo5a\"></div>\n",
       "        <script>netpixi.call('QuabKc6YkSZtmu64XcJo5a', 'MiUAfrEVHdQpvYCiSm4k67', 'changeGraph', 'eyJpZCI6ICJCdXJ1bmRpIiwgInR5cGUiOiAidmVydGV4IiwgInByb3BzIjogeyJjb2xvciI6IDY1MjgwfX0K');</script>\n",
       "    "
      ],
      "text/plain": [
       "<IPython.core.display.HTML object>"
      ]
     },
     "metadata": {},
     "output_type": "display_data"
    },
    {
     "data": {
      "text/html": [
       "\n",
       "        <div id=\"Q3GPwhcsYKvBnUSMxzCxE6\"></div>\n",
       "        <script>netpixi.call('Q3GPwhcsYKvBnUSMxzCxE6', 'MiUAfrEVHdQpvYCiSm4k67', 'changeGraph', 'eyJpZCI6ICJOYXVydSIsICJ0eXBlIjogInZlcnRleCIsICJwcm9wcyI6IHsiY29sb3IiOiA2NTI4MH19Cg==');</script>\n",
       "    "
      ],
      "text/plain": [
       "<IPython.core.display.HTML object>"
      ]
     },
     "metadata": {},
     "output_type": "display_data"
    },
    {
     "data": {
      "text/html": [
       "\n",
       "        <div id=\"PfiiStdkhEZZKasewpvryQ\"></div>\n",
       "        <script>netpixi.call('PfiiStdkhEZZKasewpvryQ', 'MiUAfrEVHdQpvYCiSm4k67', 'changeGraph', 'eyJpZCI6ICJDb21vcm9zIiwgInR5cGUiOiAidmVydGV4IiwgInByb3BzIjogeyJjb2xvciI6IDY1MjgwfX0K');</script>\n",
       "    "
      ],
      "text/plain": [
       "<IPython.core.display.HTML object>"
      ]
     },
     "metadata": {},
     "output_type": "display_data"
    },
    {
     "data": {
      "text/html": [
       "\n",
       "        <div id=\"VjHpdFFu6MfKKHsHpWESKA\"></div>\n",
       "        <script>netpixi.call('VjHpdFFu6MfKKHsHpWESKA', 'MiUAfrEVHdQpvYCiSm4k67', 'changeGraph', 'eyJpZCI6ICJMZWJhbm9uIiwgInR5cGUiOiAidmVydGV4IiwgInByb3BzIjogeyJjb2xvciI6IDE2NzExNjgwfX0K');</script>\n",
       "    "
      ],
      "text/plain": [
       "<IPython.core.display.HTML object>"
      ]
     },
     "metadata": {},
     "output_type": "display_data"
    },
    {
     "data": {
      "text/html": [
       "\n",
       "        <div id=\"JhzLQgPEyNEKFsBEcptibf\"></div>\n",
       "        <script>netpixi.call('JhzLQgPEyNEKFsBEcptibf', 'MiUAfrEVHdQpvYCiSm4k67', 'changeGraph', 'eyJpZCI6ICJWZW5lenVlbGEgKEJvbGl2YXJpYW4gUmVwdWJsaWMgb2YpIiwgInR5cGUiOiAidmVydGV4IiwgInByb3BzIjogeyJjb2xvciI6IDY1MjgwfX0K');</script>\n",
       "    "
      ],
      "text/plain": [
       "<IPython.core.display.HTML object>"
      ]
     },
     "metadata": {},
     "output_type": "display_data"
    },
    {
     "data": {
      "text/html": [
       "\n",
       "        <div id=\"a5ZRgx6m82wRPyrXD2s4z4\"></div>\n",
       "        <script>netpixi.call('a5ZRgx6m82wRPyrXD2s4z4', 'MiUAfrEVHdQpvYCiSm4k67', 'changeGraph', 'eyJpZCI6ICJSZXAuIG9mIE1vbGRvdmEiLCAidHlwZSI6ICJ2ZXJ0ZXgiLCAicHJvcHMiOiB7ImNvbG9yIjogMTY3MTE2ODB9fQo=');</script>\n",
       "    "
      ],
      "text/plain": [
       "<IPython.core.display.HTML object>"
      ]
     },
     "metadata": {},
     "output_type": "display_data"
    },
    {
     "data": {
      "text/html": [
       "\n",
       "        <div id=\"YcAZ6ewtHRmNoLjz5vwra9\"></div>\n",
       "        <script>netpixi.call('YcAZ6ewtHRmNoLjz5vwra9', 'MiUAfrEVHdQpvYCiSm4k67', 'changeGraph', 'eyJpZCI6ICJNb250c2VycmF0IiwgInR5cGUiOiAidmVydGV4IiwgInByb3BzIjogeyJjb2xvciI6IDY1MjgwfX0K');</script>\n",
       "    "
      ],
      "text/plain": [
       "<IPython.core.display.HTML object>"
      ]
     },
     "metadata": {},
     "output_type": "display_data"
    },
    {
     "data": {
      "text/html": [
       "\n",
       "        <div id=\"C7xSq942a6wYp3BbyhvWTx\"></div>\n",
       "        <script>netpixi.call('C7xSq942a6wYp3BbyhvWTx', 'MiUAfrEVHdQpvYCiSm4k67', 'changeGraph', 'eyJpZCI6ICJEZW0uIFJlcC4gb2YgdGhlIENvbmdvIiwgInR5cGUiOiAidmVydGV4IiwgInByb3BzIjogeyJjb2xvciI6IDE2NzExNjgwfX0K');</script>\n",
       "    "
      ],
      "text/plain": [
       "<IPython.core.display.HTML object>"
      ]
     },
     "metadata": {},
     "output_type": "display_data"
    },
    {
     "data": {
      "text/html": [
       "\n",
       "        <div id=\"WjhdafetHYJMbfQm2Vxkm7\"></div>\n",
       "        <script>netpixi.call('WjhdafetHYJMbfQm2Vxkm7', 'MiUAfrEVHdQpvYCiSm4k67', 'changeGraph', 'eyJpZCI6ICJHaWJyYWx0YXIiLCAidHlwZSI6ICJ2ZXJ0ZXgiLCAicHJvcHMiOiB7ImNvbG9yIjogNjUyODB9fQo=');</script>\n",
       "    "
      ],
      "text/plain": [
       "<IPython.core.display.HTML object>"
      ]
     },
     "metadata": {},
     "output_type": "display_data"
    },
    {
     "data": {
      "text/html": [
       "\n",
       "        <div id=\"G9JmaTN5XmGNiQG6bYnsST\"></div>\n",
       "        <script>netpixi.call('G9JmaTN5XmGNiQG6bYnsST', 'MiUAfrEVHdQpvYCiSm4k67', 'changeGraph', 'eyJpZCI6ICJVcnVndWF5IiwgInR5cGUiOiAidmVydGV4IiwgInByb3BzIjogeyJjb2xvciI6IDY1MjgwfX0K');</script>\n",
       "    "
      ],
      "text/plain": [
       "<IPython.core.display.HTML object>"
      ]
     },
     "metadata": {},
     "output_type": "display_data"
    },
    {
     "data": {
      "text/html": [
       "\n",
       "        <div id=\"27v5ebgUyp6MHQSq4JHxbz\"></div>\n",
       "        <script>netpixi.call('27v5ebgUyp6MHQSq4JHxbz', 'MiUAfrEVHdQpvYCiSm4k67', 'changeGraph', 'eyJpZCI6ICJTZXJiaWEgYW5kIEtvc292byAoUy9SRVMvMTI0NCAoMTk5OSkpIiwgInR5cGUiOiAidmVydGV4IiwgInByb3BzIjogeyJjb2xvciI6IDE2NzExNjgwfX0K');</script>\n",
       "    "
      ],
      "text/plain": [
       "<IPython.core.display.HTML object>"
      ]
     },
     "metadata": {},
     "output_type": "display_data"
    },
    {
     "data": {
      "text/html": [
       "\n",
       "        <div id=\"fmqKz8fvuB8QHTFQ4FyWeC\"></div>\n",
       "        <script>netpixi.call('fmqKz8fvuB8QHTFQ4FyWeC', 'MiUAfrEVHdQpvYCiSm4k67', 'changeGraph', 'eyJpZCI6ICJCaHV0YW4iLCAidHlwZSI6ICJ2ZXJ0ZXgiLCAicHJvcHMiOiB7ImNvbG9yIjogNjUyODB9fQo=');</script>\n",
       "    "
      ],
      "text/plain": [
       "<IPython.core.display.HTML object>"
      ]
     },
     "metadata": {},
     "output_type": "display_data"
    },
    {
     "data": {
      "text/html": [
       "\n",
       "        <div id=\"XCcdc7vcCgahhym4pyYpYB\"></div>\n",
       "        <script>netpixi.call('XCcdc7vcCgahhym4pyYpYB', 'MiUAfrEVHdQpvYCiSm4k67', 'changeGraph', 'eyJpZCI6ICJRYXRhciIsICJ0eXBlIjogInZlcnRleCIsICJwcm9wcyI6IHsiY29sb3IiOiA2NTI4MH19Cg==');</script>\n",
       "    "
      ],
      "text/plain": [
       "<IPython.core.display.HTML object>"
      ]
     },
     "metadata": {},
     "output_type": "display_data"
    },
    {
     "data": {
      "text/html": [
       "\n",
       "        <div id=\"WZEw5u8LQi9C8GaM2TDSbM\"></div>\n",
       "        <script>netpixi.call('WZEw5u8LQi9C8GaM2TDSbM', 'MiUAfrEVHdQpvYCiSm4k67', 'changeGraph', 'eyJpZCI6ICJQYXB1YSBOZXcgR3VpbmVhIiwgInR5cGUiOiAidmVydGV4IiwgInByb3BzIjogeyJjb2xvciI6IDY1MjgwfX0K');</script>\n",
       "    "
      ],
      "text/plain": [
       "<IPython.core.display.HTML object>"
      ]
     },
     "metadata": {},
     "output_type": "display_data"
    },
    {
     "data": {
      "text/html": [
       "\n",
       "        <div id=\"Dg5rQststr44TtdZtS48Q4\"></div>\n",
       "        <script>netpixi.call('Dg5rQststr44TtdZtS48Q4', 'MiUAfrEVHdQpvYCiSm4k67', 'changeGraph', 'eyJpZCI6ICJBcm1lbmlhIiwgInR5cGUiOiAidmVydGV4IiwgInByb3BzIjogeyJjb2xvciI6IDY1MjgwfX0K');</script>\n",
       "    "
      ],
      "text/plain": [
       "<IPython.core.display.HTML object>"
      ]
     },
     "metadata": {},
     "output_type": "display_data"
    },
    {
     "data": {
      "text/html": [
       "\n",
       "        <div id=\"ZT47GQc9S3Kr4fNFhjGZSZ\"></div>\n",
       "        <script>netpixi.call('ZT47GQc9S3Kr4fNFhjGZSZ', 'MiUAfrEVHdQpvYCiSm4k67', 'changeGraph', 'eyJpZCI6ICJWYW51YXR1IiwgInR5cGUiOiAidmVydGV4IiwgInByb3BzIjogeyJjb2xvciI6IDY1MjgwfX0K');</script>\n",
       "    "
      ],
      "text/plain": [
       "<IPython.core.display.HTML object>"
      ]
     },
     "metadata": {},
     "output_type": "display_data"
    },
    {
     "data": {
      "text/html": [
       "\n",
       "        <div id=\"SMbnZ4Gkx6BzSnwB6vw95R\"></div>\n",
       "        <script>netpixi.call('SMbnZ4Gkx6BzSnwB6vw95R', 'MiUAfrEVHdQpvYCiSm4k67', 'changeGraph', 'eyJpZCI6ICJDYWJvIFZlcmRlIiwgInR5cGUiOiAidmVydGV4IiwgInByb3BzIjogeyJjb2xvciI6IDY1MjgwfX0K');</script>\n",
       "    "
      ],
      "text/plain": [
       "<IPython.core.display.HTML object>"
      ]
     },
     "metadata": {},
     "output_type": "display_data"
    },
    {
     "data": {
      "text/html": [
       "\n",
       "        <div id=\"AfcXavhHA9bCzFrq3MF6xb\"></div>\n",
       "        <script>netpixi.call('AfcXavhHA9bCzFrq3MF6xb', 'MiUAfrEVHdQpvYCiSm4k67', 'changeGraph', 'eyJpZCI6ICJCZWxpemUiLCAidHlwZSI6ICJ2ZXJ0ZXgiLCAicHJvcHMiOiB7ImNvbG9yIjogNjUyODB9fQo=');</script>\n",
       "    "
      ],
      "text/plain": [
       "<IPython.core.display.HTML object>"
      ]
     },
     "metadata": {},
     "output_type": "display_data"
    },
    {
     "data": {
      "text/html": [
       "\n",
       "        <div id=\"SXVr2cX8BPJiWZgnYJ4v38\"></div>\n",
       "        <script>netpixi.call('SXVr2cX8BPJiWZgnYJ4v38', 'MiUAfrEVHdQpvYCiSm4k67', 'changeGraph', 'eyJpZCI6ICJXZXN0ZXJuIFNhaGFyYSIsICJ0eXBlIjogInZlcnRleCIsICJwcm9wcyI6IHsiY29sb3IiOiA2NTI4MH19Cg==');</script>\n",
       "    "
      ],
      "text/plain": [
       "<IPython.core.display.HTML object>"
      ]
     },
     "metadata": {},
     "output_type": "display_data"
    },
    {
     "data": {
      "text/html": [
       "\n",
       "        <div id=\"Pg45ifRztQk9aPxkm9vu2w\"></div>\n",
       "        <script>netpixi.call('Pg45ifRztQk9aPxkm9vu2w', 'MiUAfrEVHdQpvYCiSm4k67', 'changeGraph', 'eyJpZCI6ICJMZXNvdGhvIiwgInR5cGUiOiAidmVydGV4IiwgInByb3BzIjogeyJjb2xvciI6IDY1MjgwfX0K');</script>\n",
       "    "
      ],
      "text/plain": [
       "<IPython.core.display.HTML object>"
      ]
     },
     "metadata": {},
     "output_type": "display_data"
    },
    {
     "data": {
      "text/html": [
       "\n",
       "        <div id=\"TqddQYw2GSs8fJAHfKHgNB\"></div>\n",
       "        <script>netpixi.call('TqddQYw2GSs8fJAHfKHgNB', 'MiUAfrEVHdQpvYCiSm4k67', 'changeGraph', 'eyJpZCI6ICJNeWFubWFyIiwgInR5cGUiOiAidmVydGV4IiwgInByb3BzIjogeyJjb2xvciI6IDY1MjgwfX0K');</script>\n",
       "    "
      ],
      "text/plain": [
       "<IPython.core.display.HTML object>"
      ]
     },
     "metadata": {},
     "output_type": "display_data"
    },
    {
     "data": {
      "text/html": [
       "\n",
       "        <div id=\"ihSnEbndCmUvNncb4HB7h9\"></div>\n",
       "        <script>netpixi.call('ihSnEbndCmUvNncb4HB7h9', 'MiUAfrEVHdQpvYCiSm4k67', 'changeGraph', 'eyJpZCI6ICJTYWludCBWaW5jZW50IGFuZCB0aGUgR3JlbmFkaW5lcyIsICJ0eXBlIjogInZlcnRleCIsICJwcm9wcyI6IHsiY29sb3IiOiA2NTI4MH19Cg==');</script>\n",
       "    "
      ],
      "text/plain": [
       "<IPython.core.display.HTML object>"
      ]
     },
     "metadata": {},
     "output_type": "display_data"
    },
    {
     "data": {
      "text/html": [
       "\n",
       "        <div id=\"ASa2XHSWPphbodEHBWw6kE\"></div>\n",
       "        <script>netpixi.call('ASa2XHSWPphbodEHBWw6kE', 'MiUAfrEVHdQpvYCiSm4k67', 'changeGraph', 'eyJpZCI6ICJaYW1iaWEiLCAidHlwZSI6ICJ2ZXJ0ZXgiLCAicHJvcHMiOiB7ImNvbG9yIjogNjUyODB9fQo=');</script>\n",
       "    "
      ],
      "text/plain": [
       "<IPython.core.display.HTML object>"
      ]
     },
     "metadata": {},
     "output_type": "display_data"
    },
    {
     "data": {
      "text/html": [
       "\n",
       "        <div id=\"nwKt7w7bEZZePB9nPnrDpb\"></div>\n",
       "        <script>netpixi.call('nwKt7w7bEZZePB9nPnrDpb', 'MiUAfrEVHdQpvYCiSm4k67', 'changeGraph', 'eyJpZCI6ICJUaWJldGFuIiwgInR5cGUiOiAidmVydGV4IiwgInByb3BzIjogeyJjb2xvciI6IDY1MjgwfX0K');</script>\n",
       "    "
      ],
      "text/plain": [
       "<IPython.core.display.HTML object>"
      ]
     },
     "metadata": {},
     "output_type": "display_data"
    },
    {
     "data": {
      "text/html": [
       "\n",
       "        <div id=\"UNMVCUNvPWSZx7E8P2F8X7\"></div>\n",
       "        <script>netpixi.call('UNMVCUNvPWSZx7E8P2F8X7', 'MiUAfrEVHdQpvYCiSm4k67', 'changeGraph', 'eyJpZCI6ICJUaW1vci1MZXN0ZSIsICJ0eXBlIjogInZlcnRleCIsICJwcm9wcyI6IHsiY29sb3IiOiA2NTI4MH19Cg==');</script>\n",
       "    "
      ],
      "text/plain": [
       "<IPython.core.display.HTML object>"
      ]
     },
     "metadata": {},
     "output_type": "display_data"
    },
    {
     "data": {
      "text/html": [
       "\n",
       "        <div id=\"oBYovchxVCsTPs2JM6eMPT\"></div>\n",
       "        <script>netpixi.call('oBYovchxVCsTPs2JM6eMPT', 'MiUAfrEVHdQpvYCiSm4k67', 'changeGraph', 'eyJpZCI6ICJJY2VsYW5kIiwgInR5cGUiOiAidmVydGV4IiwgInByb3BzIjogeyJjb2xvciI6IDE2NzExNjgwfX0K');</script>\n",
       "    "
      ],
      "text/plain": [
       "<IPython.core.display.HTML object>"
      ]
     },
     "metadata": {},
     "output_type": "display_data"
    },
    {
     "data": {
      "text/html": [
       "\n",
       "        <div id=\"RPBi7rNzuzTSAY3CymE4qj\"></div>\n",
       "        <script>netpixi.call('RPBi7rNzuzTSAY3CymE4qj', 'MiUAfrEVHdQpvYCiSm4k67', 'changeGraph', 'eyJpZCI6ICJVZ2FuZGEiLCAidHlwZSI6ICJ2ZXJ0ZXgiLCAicHJvcHMiOiB7ImNvbG9yIjogNjUyODB9fQo=');</script>\n",
       "    "
      ],
      "text/plain": [
       "<IPython.core.display.HTML object>"
      ]
     },
     "metadata": {},
     "output_type": "display_data"
    },
    {
     "data": {
      "text/html": [
       "\n",
       "        <div id=\"bfU5fu98WnEVcEdBacSZbA\"></div>\n",
       "        <script>netpixi.call('bfU5fu98WnEVcEdBacSZbA', 'MiUAfrEVHdQpvYCiSm4k67', 'changeGraph', 'eyJpZCI6ICJBbmRvcnJhIiwgInR5cGUiOiAidmVydGV4IiwgInByb3BzIjogeyJjb2xvciI6IDY1MjgwfX0K');</script>\n",
       "    "
      ],
      "text/plain": [
       "<IPython.core.display.HTML object>"
      ]
     },
     "metadata": {},
     "output_type": "display_data"
    },
    {
     "data": {
      "text/html": [
       "\n",
       "        <div id=\"3moNcGrvzz8Du9m843bNdS\"></div>\n",
       "        <script>netpixi.call('3moNcGrvzz8Du9m843bNdS', 'MiUAfrEVHdQpvYCiSm4k67', 'changeGraph', 'eyJpZCI6ICJNYWx0YSIsICJ0eXBlIjogInZlcnRleCIsICJwcm9wcyI6IHsiY29sb3IiOiAxNjcxMTY4MH19Cg==');</script>\n",
       "    "
      ],
      "text/plain": [
       "<IPython.core.display.HTML object>"
      ]
     },
     "metadata": {},
     "output_type": "display_data"
    },
    {
     "data": {
      "text/html": [
       "\n",
       "        <div id=\"Y2HMqydpAoktWM98ZJdtcz\"></div>\n",
       "        <script>netpixi.call('Y2HMqydpAoktWM98ZJdtcz', 'MiUAfrEVHdQpvYCiSm4k67', 'changeGraph', 'eyJpZCI6ICJCcml0aXNoIFZpcmdpbiBJc2xhbmRzIiwgInR5cGUiOiAidmVydGV4IiwgInByb3BzIjogeyJjb2xvciI6IDY1MjgwfX0K');</script>\n",
       "    "
      ],
      "text/plain": [
       "<IPython.core.display.HTML object>"
      ]
     },
     "metadata": {},
     "output_type": "display_data"
    },
    {
     "data": {
      "text/html": [
       "\n",
       "        <div id=\"nNahWvUDue6uVicmE4xVhE\"></div>\n",
       "        <script>netpixi.call('nNahWvUDue6uVicmE4xVhE', 'MiUAfrEVHdQpvYCiSm4k67', 'changeGraph', 'eyJpZCI6ICJTdmFsYmFyZCBhbmQgSmFuIE1heWVuIiwgInR5cGUiOiAidmVydGV4IiwgInByb3BzIjogeyJjb2xvciI6IDY1MjgwfX0K');</script>\n",
       "    "
      ],
      "text/plain": [
       "<IPython.core.display.HTML object>"
      ]
     },
     "metadata": {},
     "output_type": "display_data"
    },
    {
     "data": {
      "text/html": [
       "\n",
       "        <div id=\"hMva2Jd6N8Kt9RurGTaWkJ\"></div>\n",
       "        <script>netpixi.call('hMva2Jd6N8Kt9RurGTaWkJ', 'MiUAfrEVHdQpvYCiSm4k67', 'changeGraph', 'eyJpZCI6ICJJcmFuIChJc2xhbWljIFJlcC4gb2YpIiwgInR5cGUiOiAidmVydGV4IiwgInByb3BzIjogeyJjb2xvciI6IDY1MjgwfX0K');</script>\n",
       "    "
      ],
      "text/plain": [
       "<IPython.core.display.HTML object>"
      ]
     },
     "metadata": {},
     "output_type": "display_data"
    },
    {
     "data": {
      "text/html": [
       "\n",
       "        <div id=\"ZZWA637GXGjBHm5w5uqRgU\"></div>\n",
       "        <script>netpixi.call('ZZWA637GXGjBHm5w5uqRgU', 'MiUAfrEVHdQpvYCiSm4k67', 'changeGraph', 'eyJpZCI6ICJOZXBhbCIsICJ0eXBlIjogInZlcnRleCIsICJwcm9wcyI6IHsiY29sb3IiOiA2NTI4MH19Cg==');</script>\n",
       "    "
      ],
      "text/plain": [
       "<IPython.core.display.HTML object>"
      ]
     },
     "metadata": {},
     "output_type": "display_data"
    },
    {
     "data": {
      "text/html": [
       "\n",
       "        <div id=\"EGAJTMn2nRqCB84mWwXW2P\"></div>\n",
       "        <script>netpixi.call('EGAJTMn2nRqCB84mWwXW2P', 'MiUAfrEVHdQpvYCiSm4k67', 'changeGraph', 'eyJpZCI6ICJUb2dvIiwgInR5cGUiOiAidmVydGV4IiwgInByb3BzIjogeyJjb2xvciI6IDY1MjgwfX0K');</script>\n",
       "    "
      ],
      "text/plain": [
       "<IPython.core.display.HTML object>"
      ]
     },
     "metadata": {},
     "output_type": "display_data"
    },
    {
     "data": {
      "text/html": [
       "\n",
       "        <div id=\"SZ685ui8fJDhwSHvH4t8zZ\"></div>\n",
       "        <script>netpixi.call('SZ685ui8fJDhwSHvH4t8zZ', 'MiUAfrEVHdQpvYCiSm4k67', 'changeGraph', 'eyJpZCI6ICJDb29rIElzbGFuZHMiLCAidHlwZSI6ICJ2ZXJ0ZXgiLCAicHJvcHMiOiB7ImNvbG9yIjogNjUyODB9fQo=');</script>\n",
       "    "
      ],
      "text/plain": [
       "<IPython.core.display.HTML object>"
      ]
     },
     "metadata": {},
     "output_type": "display_data"
    },
    {
     "data": {
      "text/html": [
       "\n",
       "        <div id=\"RZrec5DHVNYaNrBPnYqfBH\"></div>\n",
       "        <script>netpixi.call('RZrec5DHVNYaNrBPnYqfBH', 'MiUAfrEVHdQpvYCiSm4k67', 'changeGraph', 'eyJpZCI6ICJOaWdlciIsICJ0eXBlIjogInZlcnRleCIsICJwcm9wcyI6IHsiY29sb3IiOiAxNjcxMTY4MH19Cg==');</script>\n",
       "    "
      ],
      "text/plain": [
       "<IPython.core.display.HTML object>"
      ]
     },
     "metadata": {},
     "output_type": "display_data"
    },
    {
     "data": {
      "text/html": [
       "\n",
       "        <div id=\"87yZSmG93XRHZ6G2GEop49\"></div>\n",
       "        <script>netpixi.call('87yZSmG93XRHZ6G2GEop49', 'MiUAfrEVHdQpvYCiSm4k67', 'changeGraph', 'eyJpZCI6ICJNb25hY28iLCAidHlwZSI6ICJ2ZXJ0ZXgiLCAicHJvcHMiOiB7ImNvbG9yIjogNjUyODB9fQo=');</script>\n",
       "    "
      ],
      "text/plain": [
       "<IPython.core.display.HTML object>"
      ]
     },
     "metadata": {},
     "output_type": "display_data"
    },
    {
     "data": {
      "text/html": [
       "\n",
       "        <div id=\"4FBA3GbV2HrCQJMUjrMUmb\"></div>\n",
       "        <script>netpixi.call('4FBA3GbV2HrCQJMUjrMUmb', 'MiUAfrEVHdQpvYCiSm4k67', 'changeGraph', 'eyJpZCI6ICJBbmd1aWxsYSIsICJ0eXBlIjogInZlcnRleCIsICJwcm9wcyI6IHsiY29sb3IiOiA2NTI4MH19Cg==');</script>\n",
       "    "
      ],
      "text/plain": [
       "<IPython.core.display.HTML object>"
      ]
     },
     "metadata": {},
     "output_type": "display_data"
    },
    {
     "data": {
      "text/html": [
       "\n",
       "        <div id=\"69NWV2DgUydmsGxiu7feaU\"></div>\n",
       "        <script>netpixi.call('69NWV2DgUydmsGxiu7feaU', 'MiUAfrEVHdQpvYCiSm4k67', 'changeGraph', 'eyJpZCI6ICJEamlib3V0aSIsICJ0eXBlIjogInZlcnRleCIsICJwcm9wcyI6IHsiY29sb3IiOiA2NTI4MH19Cg==');</script>\n",
       "    "
      ],
      "text/plain": [
       "<IPython.core.display.HTML object>"
      ]
     },
     "metadata": {},
     "output_type": "display_data"
    },
    {
     "data": {
      "text/html": [
       "\n",
       "        <div id=\"AtW6uMtPBHLsfZMAuDpnmR\"></div>\n",
       "        <script>netpixi.call('AtW6uMtPBHLsfZMAuDpnmR', 'MiUAfrEVHdQpvYCiSm4k67', 'changeGraph', 'eyJpZCI6ICJSdXNzaWFuIEZlZGVyYXRpb24iLCAidHlwZSI6ICJ2ZXJ0ZXgiLCAicHJvcHMiOiB7ImNvbG9yIjogMTY3MTE2ODB9fQo=');</script>\n",
       "    "
      ],
      "text/plain": [
       "<IPython.core.display.HTML object>"
      ]
     },
     "metadata": {},
     "output_type": "display_data"
    },
    {
     "data": {
      "text/html": [
       "\n",
       "        <div id=\"H35WSzQrMwNyEu8tzYTs7t\"></div>\n",
       "        <script>netpixi.call('H35WSzQrMwNyEu8tzYTs7t', 'MiUAfrEVHdQpvYCiSm4k67', 'changeGraph', 'eyJpZCI6ICJTYWludCBMdWNpYSIsICJ0eXBlIjogInZlcnRleCIsICJwcm9wcyI6IHsiY29sb3IiOiA2NTI4MH19Cg==');</script>\n",
       "    "
      ],
      "text/plain": [
       "<IPython.core.display.HTML object>"
      ]
     },
     "metadata": {},
     "output_type": "display_data"
    },
    {
     "data": {
      "text/html": [
       "\n",
       "        <div id=\"eFpFfVR2cpbMKdT9gVJdUa\"></div>\n",
       "        <script>netpixi.call('eFpFfVR2cpbMKdT9gVJdUa', 'MiUAfrEVHdQpvYCiSm4k67', 'changeGraph', 'eyJpZCI6ICJQb2xhbmQiLCAidHlwZSI6ICJ2ZXJ0ZXgiLCAicHJvcHMiOiB7ImNvbG9yIjogMTY3MTE2ODB9fQo=');</script>\n",
       "    "
      ],
      "text/plain": [
       "<IPython.core.display.HTML object>"
      ]
     },
     "metadata": {},
     "output_type": "display_data"
    },
    {
     "data": {
      "text/html": [
       "\n",
       "        <div id=\"6NjvEZcf9pNUBaziFcYoEG\"></div>\n",
       "        <script>netpixi.call('6NjvEZcf9pNUBaziFcYoEG', 'MiUAfrEVHdQpvYCiSm4k67', 'changeGraph', 'eyJpZCI6ICJBcmdlbnRpbmEiLCAidHlwZSI6ICJ2ZXJ0ZXgiLCAicHJvcHMiOiB7ImNvbG9yIjogMTY3MTE2ODB9fQo=');</script>\n",
       "    "
      ],
      "text/plain": [
       "<IPython.core.display.HTML object>"
      ]
     },
     "metadata": {},
     "output_type": "display_data"
    },
    {
     "data": {
      "text/html": [
       "\n",
       "        <div id=\"PcqfmT5b3wEYiWwn6BFYw3\"></div>\n",
       "        <script>netpixi.call('PcqfmT5b3wEYiWwn6BFYw3', 'MiUAfrEVHdQpvYCiSm4k67', 'changeGraph', 'eyJpZCI6ICJBcnViYSIsICJ0eXBlIjogInZlcnRleCIsICJwcm9wcyI6IHsiY29sb3IiOiA2NTI4MH19Cg==');</script>\n",
       "    "
      ],
      "text/plain": [
       "<IPython.core.display.HTML object>"
      ]
     },
     "metadata": {},
     "output_type": "display_data"
    },
    {
     "data": {
      "text/html": [
       "\n",
       "        <div id=\"Mb5mAwQc622Qi6gVcc2oRu\"></div>\n",
       "        <script>netpixi.call('Mb5mAwQc622Qi6gVcc2oRu', 'MiUAfrEVHdQpvYCiSm4k67', 'changeGraph', 'eyJpZCI6ICJXYWxsaXMgYW5kIEZ1dHVuYSBJc2xhbmRzICIsICJ0eXBlIjogInZlcnRleCIsICJwcm9wcyI6IHsiY29sb3IiOiA2NTI4MH19Cg==');</script>\n",
       "    "
      ],
      "text/plain": [
       "<IPython.core.display.HTML object>"
      ]
     },
     "metadata": {},
     "output_type": "display_data"
    },
    {
     "data": {
      "text/html": [
       "\n",
       "        <div id=\"HU7QqZyRpPkhANeuC4RNkB\"></div>\n",
       "        <script>netpixi.call('HU7QqZyRpPkhANeuC4RNkB', 'MiUAfrEVHdQpvYCiSm4k67', 'changeGraph', 'eyJpZCI6ICJTdWRhbiIsICJ0eXBlIjogInZlcnRleCIsICJwcm9wcyI6IHsiY29sb3IiOiA2NTI4MH19Cg==');</script>\n",
       "    "
      ],
      "text/plain": [
       "<IPython.core.display.HTML object>"
      ]
     },
     "metadata": {},
     "output_type": "display_data"
    },
    {
     "data": {
      "text/html": [
       "\n",
       "        <div id=\"VDmWdjK6qU5iWi5HEPwg8F\"></div>\n",
       "        <script>netpixi.call('VDmWdjK6qU5iWi5HEPwg8F', 'MiUAfrEVHdQpvYCiSm4k67', 'changeGraph', 'eyJpZCI6ICJTd2F6aWxhbmQiLCAidHlwZSI6ICJ2ZXJ0ZXgiLCAicHJvcHMiOiB7ImNvbG9yIjogNjUyODB9fQo=');</script>\n",
       "    "
      ],
      "text/plain": [
       "<IPython.core.display.HTML object>"
      ]
     },
     "metadata": {},
     "output_type": "display_data"
    },
    {
     "data": {
      "text/html": [
       "\n",
       "        <div id=\"2Y3CwkbsZVKczAtj48d9ic\"></div>\n",
       "        <script>netpixi.call('2Y3CwkbsZVKczAtj48d9ic', 'MiUAfrEVHdQpvYCiSm4k67', 'changeGraph', 'eyJpZCI6ICJOYW1pYmlhIiwgInR5cGUiOiAidmVydGV4IiwgInByb3BzIjogeyJjb2xvciI6IDY1MjgwfX0K');</script>\n",
       "    "
      ],
      "text/plain": [
       "<IPython.core.display.HTML object>"
      ]
     },
     "metadata": {},
     "output_type": "display_data"
    },
    {
     "data": {
      "text/html": [
       "\n",
       "        <div id=\"isMe2FD6MudCEAkfy5TJrV\"></div>\n",
       "        <script>netpixi.call('isMe2FD6MudCEAkfy5TJrV', 'MiUAfrEVHdQpvYCiSm4k67', 'changeGraph', 'eyJpZCI6ICJDemVjaCBSZXAuIiwgInR5cGUiOiAidmVydGV4IiwgInByb3BzIjogeyJjb2xvciI6IDE2NzExNjgwfX0K');</script>\n",
       "    "
      ],
      "text/plain": [
       "<IPython.core.display.HTML object>"
      ]
     },
     "metadata": {},
     "output_type": "display_data"
    },
    {
     "data": {
      "text/html": [
       "\n",
       "        <div id=\"A6fYVh4SSV63XQ7uuiKuNu\"></div>\n",
       "        <script>netpixi.call('A6fYVh4SSV63XQ7uuiKuNu', 'MiUAfrEVHdQpvYCiSm4k67', 'changeGraph', 'eyJpZCI6ICJDb3N0YSBSaWNhIiwgInR5cGUiOiAidmVydGV4IiwgInByb3BzIjogeyJjb2xvciI6IDY1MjgwfX0K');</script>\n",
       "    "
      ],
      "text/plain": [
       "<IPython.core.display.HTML object>"
      ]
     },
     "metadata": {},
     "output_type": "display_data"
    },
    {
     "data": {
      "text/html": [
       "\n",
       "        <div id=\"hYXX6fW3ApXmTfv7xavTLE\"></div>\n",
       "        <script>netpixi.call('hYXX6fW3ApXmTfv7xavTLE', 'MiUAfrEVHdQpvYCiSm4k67', 'changeGraph', 'eyJpZCI6ICJFcXVhdG9yaWFsIEd1aW5lYSIsICJ0eXBlIjogInZlcnRleCIsICJwcm9wcyI6IHsiY29sb3IiOiA2NTI4MH19Cg==');</script>\n",
       "    "
      ],
      "text/plain": [
       "<IPython.core.display.HTML object>"
      ]
     },
     "metadata": {},
     "output_type": "display_data"
    },
    {
     "data": {
      "text/html": [
       "\n",
       "        <div id=\"o3fqxyae68GKpiJkkm5vFt\"></div>\n",
       "        <script>netpixi.call('o3fqxyae68GKpiJkkm5vFt', 'MiUAfrEVHdQpvYCiSm4k67', 'changeGraph', 'eyJpZCI6ICJLeXJneXpzdGFuIiwgInR5cGUiOiAidmVydGV4IiwgInByb3BzIjogeyJjb2xvciI6IDY1MjgwfX0K');</script>\n",
       "    "
      ],
      "text/plain": [
       "<IPython.core.display.HTML object>"
      ]
     },
     "metadata": {},
     "output_type": "display_data"
    },
    {
     "data": {
      "text/html": [
       "\n",
       "        <div id=\"iPz48MYQBZf6W3ujrXTj7D\"></div>\n",
       "        <script>netpixi.call('iPz48MYQBZf6W3ujrXTj7D', 'MiUAfrEVHdQpvYCiSm4k67', 'changeGraph', 'eyJpZCI6ICJNYWxheXNpYSIsICJ0eXBlIjogInZlcnRleCIsICJwcm9wcyI6IHsiY29sb3IiOiAxNjcxMTY4MH19Cg==');</script>\n",
       "    "
      ],
      "text/plain": [
       "<IPython.core.display.HTML object>"
      ]
     },
     "metadata": {},
     "output_type": "display_data"
    },
    {
     "data": {
      "text/html": [
       "\n",
       "        <div id=\"WHUmxH3yHBAm593wuvzPLY\"></div>\n",
       "        <script>netpixi.call('WHUmxH3yHBAm593wuvzPLY', 'MiUAfrEVHdQpvYCiSm4k67', 'changeGraph', 'eyJpZCI6ICJNYXJ0aW5pcXVlIiwgInR5cGUiOiAidmVydGV4IiwgInByb3BzIjogeyJjb2xvciI6IDY1MjgwfX0K');</script>\n",
       "    "
      ],
      "text/plain": [
       "<IPython.core.display.HTML object>"
      ]
     },
     "metadata": {},
     "output_type": "display_data"
    },
    {
     "data": {
      "text/html": [
       "\n",
       "        <div id=\"W3BPauLjEuTxwGiNY9QRLz\"></div>\n",
       "        <script>netpixi.call('W3BPauLjEuTxwGiNY9QRLz', 'MiUAfrEVHdQpvYCiSm4k67', 'changeGraph', 'eyJpZCI6ICJTcmkgTGFua2EiLCAidHlwZSI6ICJ2ZXJ0ZXgiLCAicHJvcHMiOiB7ImNvbG9yIjogNjUyODB9fQo=');</script>\n",
       "    "
      ],
      "text/plain": [
       "<IPython.core.display.HTML object>"
      ]
     },
     "metadata": {},
     "output_type": "display_data"
    },
    {
     "data": {
      "text/html": [
       "\n",
       "        <div id=\"9mcCdPtqSLZES87zBvSvTT\"></div>\n",
       "        <script>netpixi.call('9mcCdPtqSLZES87zBvSvTT', 'MiUAfrEVHdQpvYCiSm4k67', 'changeGraph', 'eyJpZCI6ICJUdXJrZXkiLCAidHlwZSI6ICJ2ZXJ0ZXgiLCAicHJvcHMiOiB7ImNvbG9yIjogMTY3MTE2ODB9fQo=');</script>\n",
       "    "
      ],
      "text/plain": [
       "<IPython.core.display.HTML object>"
      ]
     },
     "metadata": {},
     "output_type": "display_data"
    },
    {
     "data": {
      "text/html": [
       "\n",
       "        <div id=\"5sMSQh6f6B9HCfmXDcfGEc\"></div>\n",
       "        <script>netpixi.call('5sMSQh6f6B9HCfmXDcfGEc', 'MiUAfrEVHdQpvYCiSm4k67', 'changeGraph', 'eyJpZCI6ICJCZW5pbiIsICJ0eXBlIjogInZlcnRleCIsICJwcm9wcyI6IHsiY29sb3IiOiAxNjcxMTY4MH19Cg==');</script>\n",
       "    "
      ],
      "text/plain": [
       "<IPython.core.display.HTML object>"
      ]
     },
     "metadata": {},
     "output_type": "display_data"
    },
    {
     "data": {
      "text/html": [
       "\n",
       "        <div id=\"dRnTmoUE9t6i8DG53dDndh\"></div>\n",
       "        <script>netpixi.call('dRnTmoUE9t6i8DG53dDndh', 'MiUAfrEVHdQpvYCiSm4k67', 'changeGraph', 'eyJpZCI6ICJBemVyYmFpamFuIiwgInR5cGUiOiAidmVydGV4IiwgInByb3BzIjogeyJjb2xvciI6IDE2NzExNjgwfX0K');</script>\n",
       "    "
      ],
      "text/plain": [
       "<IPython.core.display.HTML object>"
      ]
     },
     "metadata": {},
     "output_type": "display_data"
    },
    {
     "data": {
      "text/html": [
       "\n",
       "        <div id=\"oYar6h6jMuQzqicy6FQjF5\"></div>\n",
       "        <script>netpixi.call('oYar6h6jMuQzqicy6FQjF5', 'MiUAfrEVHdQpvYCiSm4k67', 'changeGraph', 'eyJpZCI6ICJJcmVsYW5kIiwgInR5cGUiOiAidmVydGV4IiwgInByb3BzIjogeyJjb2xvciI6IDE2NzExNjgwfX0K');</script>\n",
       "    "
      ],
      "text/plain": [
       "<IPython.core.display.HTML object>"
      ]
     },
     "metadata": {},
     "output_type": "display_data"
    },
    {
     "data": {
      "text/html": [
       "\n",
       "        <div id=\"cJaBPvpKHxCWrGemmRbCiG\"></div>\n",
       "        <script>netpixi.call('cJaBPvpKHxCWrGemmRbCiG', 'MiUAfrEVHdQpvYCiSm4k67', 'changeGraph', 'eyJpZCI6ICJTdGF0ZWxlc3MiLCAidHlwZSI6ICJ2ZXJ0ZXgiLCAicHJvcHMiOiB7ImNvbG9yIjogNjUyODB9fQo=');</script>\n",
       "    "
      ],
      "text/plain": [
       "<IPython.core.display.HTML object>"
      ]
     },
     "metadata": {},
     "output_type": "display_data"
    },
    {
     "data": {
      "text/html": [
       "\n",
       "        <div id=\"2Fft7hPCjCv9ui5Gz7tZf2\"></div>\n",
       "        <script>netpixi.call('2Fft7hPCjCv9ui5Gz7tZf2', 'MiUAfrEVHdQpvYCiSm4k67', 'changeGraph', 'eyJpZCI6ICJSb21hbmlhIiwgInR5cGUiOiAidmVydGV4IiwgInByb3BzIjogeyJjb2xvciI6IDE2NzExNjgwfX0K');</script>\n",
       "    "
      ],
      "text/plain": [
       "<IPython.core.display.HTML object>"
      ]
     },
     "metadata": {},
     "output_type": "display_data"
    },
    {
     "data": {
      "text/html": [
       "\n",
       "        <div id=\"9E4aq2zReQ5Cv7mQ7on5NH\"></div>\n",
       "        <script>netpixi.call('9E4aq2zReQ5Cv7mQ7on5NH', 'MiUAfrEVHdQpvYCiSm4k67', 'changeGraph', 'eyJpZCI6ICJOb3J3YXkiLCAidHlwZSI6ICJ2ZXJ0ZXgiLCAicHJvcHMiOiB7ImNvbG9yIjogMTY3MTE2ODB9fQo=');</script>\n",
       "    "
      ],
      "text/plain": [
       "<IPython.core.display.HTML object>"
      ]
     },
     "metadata": {},
     "output_type": "display_data"
    },
    {
     "data": {
      "text/html": [
       "\n",
       "        <div id=\"ntqSLCRR4hx946h5wGfUUy\"></div>\n",
       "        <script>netpixi.call('ntqSLCRR4hx946h5wGfUUy', 'MiUAfrEVHdQpvYCiSm4k67', 'changeGraph', 'eyJpZCI6ICJGcmFuY2UiLCAidHlwZSI6ICJ2ZXJ0ZXgiLCAicHJvcHMiOiB7ImNvbG9yIjogMTY3MTE2ODB9fQo=');</script>\n",
       "    "
      ],
      "text/plain": [
       "<IPython.core.display.HTML object>"
      ]
     },
     "metadata": {},
     "output_type": "display_data"
    },
    {
     "data": {
      "text/html": [
       "\n",
       "        <div id=\"bPUAhcUNKvQWptcfgrfgB2\"></div>\n",
       "        <script>netpixi.call('bPUAhcUNKvQWptcfgrfgB2', 'MiUAfrEVHdQpvYCiSm4k67', 'changeGraph', 'eyJpZCI6ICJNaWNyb25lc2lhIChGZWRlcmF0ZWQgU3RhdGVzIG9mKSIsICJ0eXBlIjogInZlcnRleCIsICJwcm9wcyI6IHsiY29sb3IiOiA2NTI4MH19Cg==');</script>\n",
       "    "
      ],
      "text/plain": [
       "<IPython.core.display.HTML object>"
      ]
     },
     "metadata": {},
     "output_type": "display_data"
    },
    {
     "data": {
      "text/html": [
       "\n",
       "        <div id=\"4BaNfbu5PrB8ogACoMdCBT\"></div>\n",
       "        <script>netpixi.call('4BaNfbu5PrB8ogACoMdCBT', 'MiUAfrEVHdQpvYCiSm4k67', 'changeGraph', 'eyJpZCI6ICJOb3Jmb2xrIElzbGFuZCIsICJ0eXBlIjogInZlcnRleCIsICJwcm9wcyI6IHsiY29sb3IiOiA2NTI4MH19Cg==');</script>\n",
       "    "
      ],
      "text/plain": [
       "<IPython.core.display.HTML object>"
      ]
     },
     "metadata": {},
     "output_type": "display_data"
    },
    {
     "data": {
      "text/html": [
       "\n",
       "        <div id=\"muQ3Gf6dLGBWDkfTcrGjQq\"></div>\n",
       "        <script>netpixi.call('muQ3Gf6dLGBWDkfTcrGjQq', 'MiUAfrEVHdQpvYCiSm4k67', 'changeGraph', 'eyJpZCI6ICJQb3J0dWdhbCIsICJ0eXBlIjogInZlcnRleCIsICJwcm9wcyI6IHsiY29sb3IiOiAxNjcxMTY4MH19Cg==');</script>\n",
       "    "
      ],
      "text/plain": [
       "<IPython.core.display.HTML object>"
      ]
     },
     "metadata": {},
     "output_type": "display_data"
    },
    {
     "data": {
      "text/html": [
       "\n",
       "        <div id=\"6guw6Vat8oXN3fp3dwAk4U\"></div>\n",
       "        <script>netpixi.call('6guw6Vat8oXN3fp3dwAk4U', 'MiUAfrEVHdQpvYCiSm4k67', 'changeGraph', 'eyJpZCI6ICJMaWJ5YSIsICJ0eXBlIjogInZlcnRleCIsICJwcm9wcyI6IHsiY29sb3IiOiAxNjcxMTY4MH19Cg==');</script>\n",
       "    "
      ],
      "text/plain": [
       "<IPython.core.display.HTML object>"
      ]
     },
     "metadata": {},
     "output_type": "display_data"
    },
    {
     "data": {
      "text/html": [
       "\n",
       "        <div id=\"7D9Si7XoXKHQwHcWXtpcVN\"></div>\n",
       "        <script>netpixi.call('7D9Si7XoXKHQwHcWXtpcVN', 'MiUAfrEVHdQpvYCiSm4k67', 'changeGraph', 'eyJpZCI6ICJNb25nb2xpYSIsICJ0eXBlIjogInZlcnRleCIsICJwcm9wcyI6IHsiY29sb3IiOiA2NTI4MH19Cg==');</script>\n",
       "    "
      ],
      "text/plain": [
       "<IPython.core.display.HTML object>"
      ]
     },
     "metadata": {},
     "output_type": "display_data"
    },
    {
     "data": {
      "text/html": [
       "\n",
       "        <div id=\"BVyUmd56Y7BuYJaunhyYVk\"></div>\n",
       "        <script>netpixi.call('BVyUmd56Y7BuYJaunhyYVk', 'MiUAfrEVHdQpvYCiSm4k67', 'changeGraph', 'eyJpZCI6ICJBdXN0cmFsaWEiLCAidHlwZSI6ICJ2ZXJ0ZXgiLCAicHJvcHMiOiB7ImNvbG9yIjogMTY3MTE2ODB9fQo=');</script>\n",
       "    "
      ],
      "text/plain": [
       "<IPython.core.display.HTML object>"
      ]
     },
     "metadata": {},
     "output_type": "display_data"
    },
    {
     "data": {
      "text/html": [
       "\n",
       "        <div id=\"7M4SanLWoEum4DXgZTyHs2\"></div>\n",
       "        <script>netpixi.call('7M4SanLWoEum4DXgZTyHs2', 'MiUAfrEVHdQpvYCiSm4k67', 'changeGraph', 'eyJpZCI6ICJKb3JkYW4iLCAidHlwZSI6ICJ2ZXJ0ZXgiLCAicHJvcHMiOiB7ImNvbG9yIjogMTY3MTE2ODB9fQo=');</script>\n",
       "    "
      ],
      "text/plain": [
       "<IPython.core.display.HTML object>"
      ]
     },
     "metadata": {},
     "output_type": "display_data"
    },
    {
     "data": {
      "text/html": [
       "\n",
       "        <div id=\"dB4ESPxhWPy9UYjEH6E4Sj\"></div>\n",
       "        <script>netpixi.call('dB4ESPxhWPy9UYjEH6E4Sj', 'MiUAfrEVHdQpvYCiSm4k67', 'changeGraph', 'eyJpZCI6ICJBbGJhbmlhIiwgInR5cGUiOiAidmVydGV4IiwgInByb3BzIjogeyJjb2xvciI6IDY1MjgwfX0K');</script>\n",
       "    "
      ],
      "text/plain": [
       "<IPython.core.display.HTML object>"
      ]
     },
     "metadata": {},
     "output_type": "display_data"
    },
    {
     "data": {
      "text/html": [
       "\n",
       "        <div id=\"oHnQiG48ctAM77UPNdxmT8\"></div>\n",
       "        <script>netpixi.call('oHnQiG48ctAM77UPNdxmT8', 'MiUAfrEVHdQpvYCiSm4k67', 'changeGraph', 'eyJpZCI6ICJHaGFuYSIsICJ0eXBlIjogInZlcnRleCIsICJwcm9wcyI6IHsiY29sb3IiOiAxNjcxMTY4MH19Cg==');</script>\n",
       "    "
      ],
      "text/plain": [
       "<IPython.core.display.HTML object>"
      ]
     },
     "metadata": {},
     "output_type": "display_data"
    },
    {
     "data": {
      "text/html": [
       "\n",
       "        <div id=\"3YxgjS8TJSmtXhwmFjCquU\"></div>\n",
       "        <script>netpixi.call('3YxgjS8TJSmtXhwmFjCquU', 'MiUAfrEVHdQpvYCiSm4k67', 'changeGraph', 'eyJpZCI6ICJDaGluYSIsICJ0eXBlIjogInZlcnRleCIsICJwcm9wcyI6IHsiY29sb3IiOiAxNjcxMTY4MH19Cg==');</script>\n",
       "    "
      ],
      "text/plain": [
       "<IPython.core.display.HTML object>"
      ]
     },
     "metadata": {},
     "output_type": "display_data"
    },
    {
     "data": {
      "text/html": [
       "\n",
       "        <div id=\"kjBG4bPxh9WykGF26YQSNe\"></div>\n",
       "        <script>netpixi.call('kjBG4bPxh9WykGF26YQSNe', 'MiUAfrEVHdQpvYCiSm4k67', 'changeGraph', 'eyJpZCI6ICJLZW55YSIsICJ0eXBlIjogInZlcnRleCIsICJwcm9wcyI6IHsiY29sb3IiOiAxNjcxMTY4MH19Cg==');</script>\n",
       "    "
      ],
      "text/plain": [
       "<IPython.core.display.HTML object>"
      ]
     },
     "metadata": {},
     "output_type": "display_data"
    },
    {
     "data": {
      "text/html": [
       "\n",
       "        <div id=\"FRrELVuwhieNWHaGTDbSZR\"></div>\n",
       "        <script>netpixi.call('FRrELVuwhieNWHaGTDbSZR', 'MiUAfrEVHdQpvYCiSm4k67', 'changeGraph', 'eyJpZCI6ICJJcmFxIiwgInR5cGUiOiAidmVydGV4IiwgInByb3BzIjogeyJjb2xvciI6IDY1MjgwfX0K');</script>\n",
       "    "
      ],
      "text/plain": [
       "<IPython.core.display.HTML object>"
      ]
     },
     "metadata": {},
     "output_type": "display_data"
    },
    {
     "data": {
      "text/html": [
       "\n",
       "        <div id=\"TEjHUXCv3mGPwAdgYfuKXV\"></div>\n",
       "        <script>netpixi.call('TEjHUXCv3mGPwAdgYfuKXV', 'MiUAfrEVHdQpvYCiSm4k67', 'changeGraph', 'eyJpZCI6ICJMaWJlcmlhIiwgInR5cGUiOiAidmVydGV4IiwgInByb3BzIjogeyJjb2xvciI6IDY1MjgwfX0K');</script>\n",
       "    "
      ],
      "text/plain": [
       "<IPython.core.display.HTML object>"
      ]
     },
     "metadata": {},
     "output_type": "display_data"
    },
    {
     "data": {
      "text/html": [
       "\n",
       "        <div id=\"CsHzX7iaFsPrD6wthuV4AT\"></div>\n",
       "        <script>netpixi.call('CsHzX7iaFsPrD6wthuV4AT', 'MiUAfrEVHdQpvYCiSm4k67', 'changeGraph', 'eyJpZCI6ICJQZXJ1IiwgInR5cGUiOiAidmVydGV4IiwgInByb3BzIjogeyJjb2xvciI6IDY1MjgwfX0K');</script>\n",
       "    "
      ],
      "text/plain": [
       "<IPython.core.display.HTML object>"
      ]
     },
     "metadata": {},
     "output_type": "display_data"
    },
    {
     "data": {
      "text/html": [
       "\n",
       "        <div id=\"krZtsVXS6pi3uFhixuYv54\"></div>\n",
       "        <script>netpixi.call('krZtsVXS6pi3uFhixuYv54', 'MiUAfrEVHdQpvYCiSm4k67', 'changeGraph', 'eyJpZCI6ICJGaW5sYW5kIiwgInR5cGUiOiAidmVydGV4IiwgInByb3BzIjogeyJjb2xvciI6IDE2NzExNjgwfX0K');</script>\n",
       "    "
      ],
      "text/plain": [
       "<IPython.core.display.HTML object>"
      ]
     },
     "metadata": {},
     "output_type": "display_data"
    },
    {
     "data": {
      "text/html": [
       "\n",
       "        <div id=\"4fXroWzdgNadXM8TcTJUdG\"></div>\n",
       "        <script>netpixi.call('4fXroWzdgNadXM8TcTJUdG', 'MiUAfrEVHdQpvYCiSm4k67', 'changeGraph', 'eyJpZCI6ICJTZW5lZ2FsIiwgInR5cGUiOiAidmVydGV4IiwgInByb3BzIjogeyJjb2xvciI6IDE2NzExNjgwfX0K');</script>\n",
       "    "
      ],
      "text/plain": [
       "<IPython.core.display.HTML object>"
      ]
     },
     "metadata": {},
     "output_type": "display_data"
    },
    {
     "data": {
      "text/html": [
       "\n",
       "        <div id=\"dDaR6zk8RBM6d7ByMLfKoi\"></div>\n",
       "        <script>netpixi.call('dDaR6zk8RBM6d7ByMLfKoi', 'MiUAfrEVHdQpvYCiSm4k67', 'changeGraph', 'eyJpZCI6ICJDaGlsZSIsICJ0eXBlIjogInZlcnRleCIsICJwcm9wcyI6IHsiY29sb3IiOiAxNjcxMTY4MH19Cg==');</script>\n",
       "    "
      ],
      "text/plain": [
       "<IPython.core.display.HTML object>"
      ]
     },
     "metadata": {},
     "output_type": "display_data"
    },
    {
     "data": {
      "text/html": [
       "\n",
       "        <div id=\"7PFCBwwTZsRb7kUj78JK86\"></div>\n",
       "        <script>netpixi.call('7PFCBwwTZsRb7kUj78JK86', 'MiUAfrEVHdQpvYCiSm4k67', 'changeGraph', 'eyJpZCI6ICJFc3RvbmlhIiwgInR5cGUiOiAidmVydGV4IiwgInByb3BzIjogeyJjb2xvciI6IDY1MjgwfX0K');</script>\n",
       "    "
      ],
      "text/plain": [
       "<IPython.core.display.HTML object>"
      ]
     },
     "metadata": {},
     "output_type": "display_data"
    },
    {
     "data": {
      "text/html": [
       "\n",
       "        <div id=\"WQKDdo4jy4omWS6sBwNJjr\"></div>\n",
       "        <script>netpixi.call('WQKDdo4jy4omWS6sBwNJjr', 'MiUAfrEVHdQpvYCiSm4k67', 'changeGraph', 'eyJpZCI6ICJQYWxhdSIsICJ0eXBlIjogInZlcnRleCIsICJwcm9wcyI6IHsiY29sb3IiOiA2NTI4MH19Cg==');</script>\n",
       "    "
      ],
      "text/plain": [
       "<IPython.core.display.HTML object>"
      ]
     },
     "metadata": {},
     "output_type": "display_data"
    },
    {
     "data": {
      "text/html": [
       "\n",
       "        <div id=\"RXdjLogKrqGQpsQr7tTk6F\"></div>\n",
       "        <script>netpixi.call('RXdjLogKrqGQpsQr7tTk6F', 'MiUAfrEVHdQpvYCiSm4k67', 'changeGraph', 'eyJpZCI6ICJIdW5nYXJ5IiwgInR5cGUiOiAidmVydGV4IiwgInByb3BzIjogeyJjb2xvciI6IDE2NzExNjgwfX0K');</script>\n",
       "    "
      ],
      "text/plain": [
       "<IPython.core.display.HTML object>"
      ]
     },
     "metadata": {},
     "output_type": "display_data"
    }
   ],
   "source": [
    "matrix = spectral.adjacency(g)\n",
    "\n",
    "algorithm = cpnet.BE()\n",
    "algorithm.detect(matrix)\n",
    "c = algorithm.get_coreness()\n",
    "\n",
    "g.add_vp('coreness')\n",
    "for i, coreness in c.items():\n",
    "    v = g.get_vertex_by_index(i)\n",
    "    v['coreness'] = int(coreness)\n",
    "    \n",
    "for v in g.all_vertices():\n",
    "    if v['coreness'] == 1:\n",
    "        r.vertex(v['id'], color=0xff0000)\n",
    "    else:\n",
    "        r.vertex(v['id'], color=0x00ff00)\n",
    "\n",
    "# # Quando a execução desta célula terminar,\n",
    "# # veja como ficou a visualização acima."
   ]
  },
  {
   "cell_type": "code",
   "execution_count": 29,
   "id": "85f026af",
   "metadata": {},
   "outputs": [
    {
     "data": {
      "text/html": [
       "\n",
       "        <div id=\"njGaXiWz6nN9hT6uq3f5Nq\"></div>\n",
       "        <script>netpixi.call('njGaXiWz6nN9hT6uq3f5Nq', 'MiUAfrEVHdQpvYCiSm4k67', 'normalizeGraph', 'eyJ0eXBlIjogImVkZ2UiLCAicHJvcHMiOiB7InNyYyI6ICJhY2VpdG9zIiwgIm1pbiI6IDEsICJtYXgiOiAxMH19Cg==');</script>\n",
       "    "
      ],
      "text/plain": [
       "<IPython.core.display.HTML object>"
      ]
     },
     "metadata": {},
     "output_type": "display_data"
    },
    {
     "data": {
      "text/html": [
       "\n",
       "        <div id=\"cwQy2tewznSqTDVt2Jnhub\"></div>\n",
       "        <script>netpixi.call('cwQy2tewznSqTDVt2Jnhub', 'MiUAfrEVHdQpvYCiSm4k67', 'setGraph', 'eyJ0eXBlIjogInZlcnRleCIsICJwcm9wcyI6IHsic3JjIjogIm5vbWUiLCAiZHN0IjogIl9rZXkifX0K');</script>\n",
       "    "
      ],
      "text/plain": [
       "<IPython.core.display.HTML object>"
      ]
     },
     "metadata": {},
     "output_type": "display_data"
    },
    {
     "data": {
      "text/html": [
       "\n",
       "        <div id=\"UeHrKGTDWV5QjADxwLxe9J\"></div>\n",
       "        <script>netpixi.call('UeHrKGTDWV5QjADxwLxe9J', 'MiUAfrEVHdQpvYCiSm4k67', 'normalizeGraph', 'eyJ0eXBlIjogInZlcnRleCIsICJwcm9wcyI6IHsic3JjIjogImNvcmVuZXNzIiwgIm1pbiI6IDUsICJtYXgiOiAyNX19Cg==');</script>\n",
       "    "
      ],
      "text/plain": [
       "<IPython.core.display.HTML object>"
      ]
     },
     "metadata": {},
     "output_type": "display_data"
    }
   ],
   "source": [
    "r.edge_scale('aceitos', 1, 10)\n",
    "\n",
    "r.vertex_set_key('nome')\n",
    "\n",
    "r.vertex_scale('coreness', 5, 25)"
   ]
  },
  {
   "cell_type": "code",
   "execution_count": 30,
   "id": "72e3494f",
   "metadata": {
    "collapsed": true
   },
   "outputs": [
    {
     "data": {
      "text/html": [
       "<div>\n",
       "<style scoped>\n",
       "    .dataframe tbody tr th:only-of-type {\n",
       "        vertical-align: middle;\n",
       "    }\n",
       "\n",
       "    .dataframe tbody tr th {\n",
       "        vertical-align: top;\n",
       "    }\n",
       "\n",
       "    .dataframe thead th {\n",
       "        text-align: right;\n",
       "    }\n",
       "</style>\n",
       "<table border=\"1\" class=\"dataframe\">\n",
       "  <thead>\n",
       "    <tr style=\"text-align: right;\">\n",
       "      <th></th>\n",
       "      <th>nome</th>\n",
       "      <th>coreness</th>\n",
       "    </tr>\n",
       "    <tr>\n",
       "      <th>id</th>\n",
       "      <th></th>\n",
       "      <th></th>\n",
       "    </tr>\n",
       "  </thead>\n",
       "  <tbody>\n",
       "    <tr>\n",
       "      <th>Hungary</th>\n",
       "      <td>Hungary</td>\n",
       "      <td>1</td>\n",
       "    </tr>\n",
       "    <tr>\n",
       "      <th>Malta</th>\n",
       "      <td>Malta</td>\n",
       "      <td>1</td>\n",
       "    </tr>\n",
       "    <tr>\n",
       "      <th>Italy</th>\n",
       "      <td>Italy</td>\n",
       "      <td>1</td>\n",
       "    </tr>\n",
       "    <tr>\n",
       "      <th>Germany</th>\n",
       "      <td>Germany</td>\n",
       "      <td>1</td>\n",
       "    </tr>\n",
       "    <tr>\n",
       "      <th>Belgium</th>\n",
       "      <td>Belgium</td>\n",
       "      <td>1</td>\n",
       "    </tr>\n",
       "    <tr>\n",
       "      <th>...</th>\n",
       "      <td>...</td>\n",
       "      <td>...</td>\n",
       "    </tr>\n",
       "    <tr>\n",
       "      <th>Guadeloupe</th>\n",
       "      <td>Guadeloupe</td>\n",
       "      <td>0</td>\n",
       "    </tr>\n",
       "    <tr>\n",
       "      <th>Tunisia</th>\n",
       "      <td>Tunisia</td>\n",
       "      <td>0</td>\n",
       "    </tr>\n",
       "    <tr>\n",
       "      <th>Brunei Darussalam</th>\n",
       "      <td>Brunei Darussalam</td>\n",
       "      <td>0</td>\n",
       "    </tr>\n",
       "    <tr>\n",
       "      <th>Mauritania</th>\n",
       "      <td>Mauritania</td>\n",
       "      <td>0</td>\n",
       "    </tr>\n",
       "    <tr>\n",
       "      <th>Turks and Caicos Islands</th>\n",
       "      <td>Turks and Caicos Islands</td>\n",
       "      <td>0</td>\n",
       "    </tr>\n",
       "  </tbody>\n",
       "</table>\n",
       "<p>225 rows × 2 columns</p>\n",
       "</div>"
      ],
      "text/plain": [
       "                                              nome  coreness\n",
       "id                                                          \n",
       "Hungary                                    Hungary         1\n",
       "Malta                                        Malta         1\n",
       "Italy                                        Italy         1\n",
       "Germany                                    Germany         1\n",
       "Belgium                                    Belgium         1\n",
       "...                                            ...       ...\n",
       "Guadeloupe                              Guadeloupe         0\n",
       "Tunisia                                    Tunisia         0\n",
       "Brunei Darussalam                Brunei Darussalam         0\n",
       "Mauritania                              Mauritania         0\n",
       "Turks and Caicos Islands  Turks and Caicos Islands         0\n",
       "\n",
       "[225 rows x 2 columns]"
      ]
     },
     "execution_count": 30,
     "metadata": {},
     "output_type": "execute_result"
    }
   ],
   "source": [
    "df_coreness_2001_2003 = gt_data(g).sort_values(\"coreness\", ascending = False)\n",
    "df_coreness_2001_2003"
   ]
  },
  {
   "cell_type": "code",
   "execution_count": 31,
   "id": "ec43a83d",
   "metadata": {
    "collapsed": true
   },
   "outputs": [
    {
     "name": "stderr",
     "output_type": "stream",
     "text": [
      "<frozen importlib._bootstrap>:914: ImportWarning: VendorImporter.find_spec() not found; falling back to find_module()\n"
     ]
    },
    {
     "data": {
      "text/html": [
       "<div>\n",
       "<style scoped>\n",
       "    .dataframe tbody tr th:only-of-type {\n",
       "        vertical-align: middle;\n",
       "    }\n",
       "\n",
       "    .dataframe tbody tr th {\n",
       "        vertical-align: top;\n",
       "    }\n",
       "\n",
       "    .dataframe thead th {\n",
       "        text-align: right;\n",
       "    }\n",
       "</style>\n",
       "<table border=\"1\" class=\"dataframe\">\n",
       "  <thead>\n",
       "    <tr style=\"text-align: right;\">\n",
       "      <th></th>\n",
       "      <th>Unnamed: 0.1</th>\n",
       "      <th>Unnamed: 0</th>\n",
       "      <th>country</th>\n",
       "      <th>idh_2000</th>\n",
       "      <th>idh_2001</th>\n",
       "      <th>idh_2002</th>\n",
       "      <th>idh_2003</th>\n",
       "      <th>idh_2004</th>\n",
       "      <th>idh_2005</th>\n",
       "      <th>idh_2006</th>\n",
       "      <th>...</th>\n",
       "      <th>rejected</th>\n",
       "      <th>betweenness</th>\n",
       "      <th>pop_cont</th>\n",
       "      <th>coreness</th>\n",
       "      <th>in_degree</th>\n",
       "      <th>out_degree</th>\n",
       "      <th>open</th>\n",
       "      <th>coreness_discreto</th>\n",
       "      <th>idh_2008_2012</th>\n",
       "      <th>idh_2001_2003</th>\n",
       "    </tr>\n",
       "  </thead>\n",
       "  <tbody>\n",
       "    <tr>\n",
       "      <th>0</th>\n",
       "      <td>0</td>\n",
       "      <td>0</td>\n",
       "      <td>China, Hong Kong SAR</td>\n",
       "      <td>0.830</td>\n",
       "      <td>0.838</td>\n",
       "      <td>0.845</td>\n",
       "      <td>0.854</td>\n",
       "      <td>0.865</td>\n",
       "      <td>0.874</td>\n",
       "      <td>0.886</td>\n",
       "      <td>...</td>\n",
       "      <td>7767</td>\n",
       "      <td>2.861034e-04</td>\n",
       "      <td>0</td>\n",
       "      <td>0.240278</td>\n",
       "      <td>830</td>\n",
       "      <td>16</td>\n",
       "      <td>9.654531</td>\n",
       "      <td>0</td>\n",
       "      <td>0.9050</td>\n",
       "      <td>0.845667</td>\n",
       "    </tr>\n",
       "    <tr>\n",
       "      <th>1</th>\n",
       "      <td>1</td>\n",
       "      <td>1</td>\n",
       "      <td>China, Macao SAR</td>\n",
       "      <td>0.922</td>\n",
       "      <td>0.922</td>\n",
       "      <td>0.922</td>\n",
       "      <td>0.922</td>\n",
       "      <td>0.922</td>\n",
       "      <td>0.922</td>\n",
       "      <td>0.922</td>\n",
       "      <td>...</td>\n",
       "      <td>7</td>\n",
       "      <td>8.704008e-07</td>\n",
       "      <td>0</td>\n",
       "      <td>0.098611</td>\n",
       "      <td>10</td>\n",
       "      <td>3</td>\n",
       "      <td>58.823529</td>\n",
       "      <td>0</td>\n",
       "      <td>0.9220</td>\n",
       "      <td>0.922000</td>\n",
       "    </tr>\n",
       "    <tr>\n",
       "      <th>2</th>\n",
       "      <td>2</td>\n",
       "      <td>2</td>\n",
       "      <td>Afghanistan</td>\n",
       "      <td>0.350</td>\n",
       "      <td>0.353</td>\n",
       "      <td>0.384</td>\n",
       "      <td>0.393</td>\n",
       "      <td>0.409</td>\n",
       "      <td>0.418</td>\n",
       "      <td>0.429</td>\n",
       "      <td>...</td>\n",
       "      <td>243</td>\n",
       "      <td>2.351135e-03</td>\n",
       "      <td>0</td>\n",
       "      <td>0.120833</td>\n",
       "      <td>249</td>\n",
       "      <td>239198</td>\n",
       "      <td>50.609756</td>\n",
       "      <td>0</td>\n",
       "      <td>0.4690</td>\n",
       "      <td>0.376667</td>\n",
       "    </tr>\n",
       "    <tr>\n",
       "      <th>3</th>\n",
       "      <td>3</td>\n",
       "      <td>3</td>\n",
       "      <td>Albania</td>\n",
       "      <td>0.671</td>\n",
       "      <td>0.678</td>\n",
       "      <td>0.684</td>\n",
       "      <td>0.691</td>\n",
       "      <td>0.696</td>\n",
       "      <td>0.706</td>\n",
       "      <td>0.713</td>\n",
       "      <td>...</td>\n",
       "      <td>64</td>\n",
       "      <td>1.306107e-03</td>\n",
       "      <td>0</td>\n",
       "      <td>0.218056</td>\n",
       "      <td>158</td>\n",
       "      <td>14660</td>\n",
       "      <td>71.171171</td>\n",
       "      <td>0</td>\n",
       "      <td>0.7490</td>\n",
       "      <td>0.684333</td>\n",
       "    </tr>\n",
       "    <tr>\n",
       "      <th>4</th>\n",
       "      <td>4</td>\n",
       "      <td>4</td>\n",
       "      <td>Algeria</td>\n",
       "      <td>0.637</td>\n",
       "      <td>0.647</td>\n",
       "      <td>0.657</td>\n",
       "      <td>0.667</td>\n",
       "      <td>0.677</td>\n",
       "      <td>0.685</td>\n",
       "      <td>0.690</td>\n",
       "      <td>...</td>\n",
       "      <td>5511</td>\n",
       "      <td>5.926680e-03</td>\n",
       "      <td>0</td>\n",
       "      <td>0.222222</td>\n",
       "      <td>404</td>\n",
       "      <td>6174</td>\n",
       "      <td>6.830093</td>\n",
       "      <td>0</td>\n",
       "      <td>0.7180</td>\n",
       "      <td>0.657000</td>\n",
       "    </tr>\n",
       "    <tr>\n",
       "      <th>...</th>\n",
       "      <td>...</td>\n",
       "      <td>...</td>\n",
       "      <td>...</td>\n",
       "      <td>...</td>\n",
       "      <td>...</td>\n",
       "      <td>...</td>\n",
       "      <td>...</td>\n",
       "      <td>...</td>\n",
       "      <td>...</td>\n",
       "      <td>...</td>\n",
       "      <td>...</td>\n",
       "      <td>...</td>\n",
       "      <td>...</td>\n",
       "      <td>...</td>\n",
       "      <td>...</td>\n",
       "      <td>...</td>\n",
       "      <td>...</td>\n",
       "      <td>...</td>\n",
       "      <td>...</td>\n",
       "      <td>...</td>\n",
       "      <td>...</td>\n",
       "    </tr>\n",
       "    <tr>\n",
       "      <th>220</th>\n",
       "      <td>220</td>\n",
       "      <td>220</td>\n",
       "      <td>Wallis and Futuna Islands</td>\n",
       "      <td>0.763</td>\n",
       "      <td>0.763</td>\n",
       "      <td>0.763</td>\n",
       "      <td>0.763</td>\n",
       "      <td>0.763</td>\n",
       "      <td>0.763</td>\n",
       "      <td>0.763</td>\n",
       "      <td>...</td>\n",
       "      <td>0</td>\n",
       "      <td>0.000000e+00</td>\n",
       "      <td>0</td>\n",
       "      <td>0.045833</td>\n",
       "      <td>0</td>\n",
       "      <td>0</td>\n",
       "      <td>0.000000</td>\n",
       "      <td>0</td>\n",
       "      <td>0.7630</td>\n",
       "      <td>0.763000</td>\n",
       "    </tr>\n",
       "    <tr>\n",
       "      <th>221</th>\n",
       "      <td>221</td>\n",
       "      <td>221</td>\n",
       "      <td>Western Sahara</td>\n",
       "      <td>0.000</td>\n",
       "      <td>0.000</td>\n",
       "      <td>0.000</td>\n",
       "      <td>0.000</td>\n",
       "      <td>0.000</td>\n",
       "      <td>0.000</td>\n",
       "      <td>0.000</td>\n",
       "      <td>...</td>\n",
       "      <td>0</td>\n",
       "      <td>0.000000e+00</td>\n",
       "      <td>0</td>\n",
       "      <td>0.004167</td>\n",
       "      <td>0</td>\n",
       "      <td>473</td>\n",
       "      <td>0.000000</td>\n",
       "      <td>0</td>\n",
       "      <td>0.0000</td>\n",
       "      <td>0.000000</td>\n",
       "    </tr>\n",
       "    <tr>\n",
       "      <th>222</th>\n",
       "      <td>222</td>\n",
       "      <td>222</td>\n",
       "      <td>Yemen</td>\n",
       "      <td>0.444</td>\n",
       "      <td>0.453</td>\n",
       "      <td>0.461</td>\n",
       "      <td>0.470</td>\n",
       "      <td>0.477</td>\n",
       "      <td>0.483</td>\n",
       "      <td>0.488</td>\n",
       "      <td>...</td>\n",
       "      <td>5730</td>\n",
       "      <td>5.728203e-03</td>\n",
       "      <td>0</td>\n",
       "      <td>0.194444</td>\n",
       "      <td>11977</td>\n",
       "      <td>10037</td>\n",
       "      <td>67.639916</td>\n",
       "      <td>0</td>\n",
       "      <td>0.5026</td>\n",
       "      <td>0.461333</td>\n",
       "    </tr>\n",
       "    <tr>\n",
       "      <th>223</th>\n",
       "      <td>223</td>\n",
       "      <td>223</td>\n",
       "      <td>Zambia</td>\n",
       "      <td>0.425</td>\n",
       "      <td>0.432</td>\n",
       "      <td>0.441</td>\n",
       "      <td>0.451</td>\n",
       "      <td>0.460</td>\n",
       "      <td>0.471</td>\n",
       "      <td>0.482</td>\n",
       "      <td>...</td>\n",
       "      <td>2454</td>\n",
       "      <td>9.805704e-04</td>\n",
       "      <td>0</td>\n",
       "      <td>0.166667</td>\n",
       "      <td>8280</td>\n",
       "      <td>295</td>\n",
       "      <td>77.138066</td>\n",
       "      <td>0</td>\n",
       "      <td>0.5260</td>\n",
       "      <td>0.441333</td>\n",
       "    </tr>\n",
       "    <tr>\n",
       "      <th>224</th>\n",
       "      <td>224</td>\n",
       "      <td>224</td>\n",
       "      <td>Zimbabwe</td>\n",
       "      <td>0.430</td>\n",
       "      <td>0.431</td>\n",
       "      <td>0.423</td>\n",
       "      <td>0.414</td>\n",
       "      <td>0.411</td>\n",
       "      <td>0.411</td>\n",
       "      <td>0.414</td>\n",
       "      <td>...</td>\n",
       "      <td>1315</td>\n",
       "      <td>2.669126e-03</td>\n",
       "      <td>0</td>\n",
       "      <td>0.156944</td>\n",
       "      <td>15749</td>\n",
       "      <td>25778</td>\n",
       "      <td>92.293718</td>\n",
       "      <td>0</td>\n",
       "      <td>0.4772</td>\n",
       "      <td>0.422667</td>\n",
       "    </tr>\n",
       "  </tbody>\n",
       "</table>\n",
       "<p>225 rows × 33 columns</p>\n",
       "</div>"
      ],
      "text/plain": [
       "     Unnamed: 0.1  Unnamed: 0                     country  idh_2000  idh_2001  \\\n",
       "0               0           0        China, Hong Kong SAR     0.830     0.838   \n",
       "1               1           1            China, Macao SAR     0.922     0.922   \n",
       "2               2           2                 Afghanistan     0.350     0.353   \n",
       "3               3           3                     Albania     0.671     0.678   \n",
       "4               4           4                     Algeria     0.637     0.647   \n",
       "..            ...         ...                         ...       ...       ...   \n",
       "220           220         220  Wallis and Futuna Islands      0.763     0.763   \n",
       "221           221         221              Western Sahara     0.000     0.000   \n",
       "222           222         222                       Yemen     0.444     0.453   \n",
       "223           223         223                      Zambia     0.425     0.432   \n",
       "224           224         224                    Zimbabwe     0.430     0.431   \n",
       "\n",
       "     idh_2002  idh_2003  idh_2004  idh_2005  idh_2006  ...  rejected  \\\n",
       "0       0.845     0.854     0.865     0.874     0.886  ...      7767   \n",
       "1       0.922     0.922     0.922     0.922     0.922  ...         7   \n",
       "2       0.384     0.393     0.409     0.418     0.429  ...       243   \n",
       "3       0.684     0.691     0.696     0.706     0.713  ...        64   \n",
       "4       0.657     0.667     0.677     0.685     0.690  ...      5511   \n",
       "..        ...       ...       ...       ...       ...  ...       ...   \n",
       "220     0.763     0.763     0.763     0.763     0.763  ...         0   \n",
       "221     0.000     0.000     0.000     0.000     0.000  ...         0   \n",
       "222     0.461     0.470     0.477     0.483     0.488  ...      5730   \n",
       "223     0.441     0.451     0.460     0.471     0.482  ...      2454   \n",
       "224     0.423     0.414     0.411     0.411     0.414  ...      1315   \n",
       "\n",
       "      betweenness  pop_cont  coreness  in_degree  out_degree       open  \\\n",
       "0    2.861034e-04         0  0.240278        830          16   9.654531   \n",
       "1    8.704008e-07         0  0.098611         10           3  58.823529   \n",
       "2    2.351135e-03         0  0.120833        249      239198  50.609756   \n",
       "3    1.306107e-03         0  0.218056        158       14660  71.171171   \n",
       "4    5.926680e-03         0  0.222222        404        6174   6.830093   \n",
       "..            ...       ...       ...        ...         ...        ...   \n",
       "220  0.000000e+00         0  0.045833          0           0   0.000000   \n",
       "221  0.000000e+00         0  0.004167          0         473   0.000000   \n",
       "222  5.728203e-03         0  0.194444      11977       10037  67.639916   \n",
       "223  9.805704e-04         0  0.166667       8280         295  77.138066   \n",
       "224  2.669126e-03         0  0.156944      15749       25778  92.293718   \n",
       "\n",
       "     coreness_discreto  idh_2008_2012  idh_2001_2003  \n",
       "0                    0         0.9050       0.845667  \n",
       "1                    0         0.9220       0.922000  \n",
       "2                    0         0.4690       0.376667  \n",
       "3                    0         0.7490       0.684333  \n",
       "4                    0         0.7180       0.657000  \n",
       "..                 ...            ...            ...  \n",
       "220                  0         0.7630       0.763000  \n",
       "221                  0         0.0000       0.000000  \n",
       "222                  0         0.5026       0.461333  \n",
       "223                  0         0.5260       0.441333  \n",
       "224                  0         0.4772       0.422667  \n",
       "\n",
       "[225 rows x 33 columns]"
      ]
     },
     "execution_count": 31,
     "metadata": {},
     "output_type": "execute_result"
    }
   ],
   "source": [
    "data = pd.read_excel('./final_db.xlsx')\n",
    "data"
   ]
  },
  {
   "cell_type": "code",
   "execution_count": 32,
   "id": "eac0ddef",
   "metadata": {
    "collapsed": true
   },
   "outputs": [
    {
     "data": {
      "text/html": [
       "<div>\n",
       "<style scoped>\n",
       "    .dataframe tbody tr th:only-of-type {\n",
       "        vertical-align: middle;\n",
       "    }\n",
       "\n",
       "    .dataframe tbody tr th {\n",
       "        vertical-align: top;\n",
       "    }\n",
       "\n",
       "    .dataframe thead th {\n",
       "        text-align: right;\n",
       "    }\n",
       "</style>\n",
       "<table border=\"1\" class=\"dataframe\">\n",
       "  <thead>\n",
       "    <tr style=\"text-align: right;\">\n",
       "      <th></th>\n",
       "      <th>origin</th>\n",
       "      <th>coreness</th>\n",
       "    </tr>\n",
       "    <tr>\n",
       "      <th>id</th>\n",
       "      <th></th>\n",
       "      <th></th>\n",
       "    </tr>\n",
       "  </thead>\n",
       "  <tbody>\n",
       "    <tr>\n",
       "      <th>Hungary</th>\n",
       "      <td>Hungary</td>\n",
       "      <td>1</td>\n",
       "    </tr>\n",
       "    <tr>\n",
       "      <th>Malta</th>\n",
       "      <td>Malta</td>\n",
       "      <td>1</td>\n",
       "    </tr>\n",
       "    <tr>\n",
       "      <th>Italy</th>\n",
       "      <td>Italy</td>\n",
       "      <td>1</td>\n",
       "    </tr>\n",
       "    <tr>\n",
       "      <th>Germany</th>\n",
       "      <td>Germany</td>\n",
       "      <td>1</td>\n",
       "    </tr>\n",
       "    <tr>\n",
       "      <th>Belgium</th>\n",
       "      <td>Belgium</td>\n",
       "      <td>1</td>\n",
       "    </tr>\n",
       "    <tr>\n",
       "      <th>...</th>\n",
       "      <td>...</td>\n",
       "      <td>...</td>\n",
       "    </tr>\n",
       "    <tr>\n",
       "      <th>Guadeloupe</th>\n",
       "      <td>Guadeloupe</td>\n",
       "      <td>0</td>\n",
       "    </tr>\n",
       "    <tr>\n",
       "      <th>Tunisia</th>\n",
       "      <td>Tunisia</td>\n",
       "      <td>0</td>\n",
       "    </tr>\n",
       "    <tr>\n",
       "      <th>Brunei Darussalam</th>\n",
       "      <td>Brunei Darussalam</td>\n",
       "      <td>0</td>\n",
       "    </tr>\n",
       "    <tr>\n",
       "      <th>Mauritania</th>\n",
       "      <td>Mauritania</td>\n",
       "      <td>0</td>\n",
       "    </tr>\n",
       "    <tr>\n",
       "      <th>Turks and Caicos Islands</th>\n",
       "      <td>Turks and Caicos Islands</td>\n",
       "      <td>0</td>\n",
       "    </tr>\n",
       "  </tbody>\n",
       "</table>\n",
       "<p>225 rows × 2 columns</p>\n",
       "</div>"
      ],
      "text/plain": [
       "                                            origin  coreness\n",
       "id                                                          \n",
       "Hungary                                    Hungary         1\n",
       "Malta                                        Malta         1\n",
       "Italy                                        Italy         1\n",
       "Germany                                    Germany         1\n",
       "Belgium                                    Belgium         1\n",
       "...                                            ...       ...\n",
       "Guadeloupe                              Guadeloupe         0\n",
       "Tunisia                                    Tunisia         0\n",
       "Brunei Darussalam                Brunei Darussalam         0\n",
       "Mauritania                              Mauritania         0\n",
       "Turks and Caicos Islands  Turks and Caicos Islands         0\n",
       "\n",
       "[225 rows x 2 columns]"
      ]
     },
     "execution_count": 32,
     "metadata": {},
     "output_type": "execute_result"
    }
   ],
   "source": [
    "data_neighboors_countries = data.loc[:, ['n_neightbours', 'country']]\n",
    "\n",
    "data_neighboors_countries = data_neighboors_countries.rename(columns={'n_neightbours': 'n_neightbours', 'country': 'origin'})\n",
    "\n",
    "df_coreness_2001_2003 = df_coreness_2001_2003.rename(columns={'nome': 'origin'})\n",
    "df_coreness_2001_2003"
   ]
  },
  {
   "cell_type": "code",
   "execution_count": 33,
   "id": "5ecd4ea6",
   "metadata": {
    "collapsed": true
   },
   "outputs": [
    {
     "data": {
      "text/html": [
       "<div>\n",
       "<style scoped>\n",
       "    .dataframe tbody tr th:only-of-type {\n",
       "        vertical-align: middle;\n",
       "    }\n",
       "\n",
       "    .dataframe tbody tr th {\n",
       "        vertical-align: top;\n",
       "    }\n",
       "\n",
       "    .dataframe thead th {\n",
       "        text-align: right;\n",
       "    }\n",
       "</style>\n",
       "<table border=\"1\" class=\"dataframe\">\n",
       "  <thead>\n",
       "    <tr style=\"text-align: right;\">\n",
       "      <th></th>\n",
       "      <th>origin</th>\n",
       "      <th>coreness</th>\n",
       "      <th>n_neightbours</th>\n",
       "    </tr>\n",
       "  </thead>\n",
       "  <tbody>\n",
       "    <tr>\n",
       "      <th>0</th>\n",
       "      <td>Hungary</td>\n",
       "      <td>1</td>\n",
       "      <td>7</td>\n",
       "    </tr>\n",
       "    <tr>\n",
       "      <th>1</th>\n",
       "      <td>Malta</td>\n",
       "      <td>1</td>\n",
       "      <td>0</td>\n",
       "    </tr>\n",
       "    <tr>\n",
       "      <th>2</th>\n",
       "      <td>Italy</td>\n",
       "      <td>1</td>\n",
       "      <td>6</td>\n",
       "    </tr>\n",
       "    <tr>\n",
       "      <th>3</th>\n",
       "      <td>Germany</td>\n",
       "      <td>1</td>\n",
       "      <td>9</td>\n",
       "    </tr>\n",
       "    <tr>\n",
       "      <th>4</th>\n",
       "      <td>Belgium</td>\n",
       "      <td>1</td>\n",
       "      <td>4</td>\n",
       "    </tr>\n",
       "    <tr>\n",
       "      <th>...</th>\n",
       "      <td>...</td>\n",
       "      <td>...</td>\n",
       "      <td>...</td>\n",
       "    </tr>\n",
       "    <tr>\n",
       "      <th>220</th>\n",
       "      <td>Guadeloupe</td>\n",
       "      <td>0</td>\n",
       "      <td>0</td>\n",
       "    </tr>\n",
       "    <tr>\n",
       "      <th>221</th>\n",
       "      <td>Tunisia</td>\n",
       "      <td>0</td>\n",
       "      <td>2</td>\n",
       "    </tr>\n",
       "    <tr>\n",
       "      <th>222</th>\n",
       "      <td>Brunei Darussalam</td>\n",
       "      <td>0</td>\n",
       "      <td>1</td>\n",
       "    </tr>\n",
       "    <tr>\n",
       "      <th>223</th>\n",
       "      <td>Mauritania</td>\n",
       "      <td>0</td>\n",
       "      <td>4</td>\n",
       "    </tr>\n",
       "    <tr>\n",
       "      <th>224</th>\n",
       "      <td>Turks and Caicos Islands</td>\n",
       "      <td>0</td>\n",
       "      <td>0</td>\n",
       "    </tr>\n",
       "  </tbody>\n",
       "</table>\n",
       "<p>225 rows × 3 columns</p>\n",
       "</div>"
      ],
      "text/plain": [
       "                       origin  coreness  n_neightbours\n",
       "0                     Hungary         1              7\n",
       "1                       Malta         1              0\n",
       "2                       Italy         1              6\n",
       "3                     Germany         1              9\n",
       "4                     Belgium         1              4\n",
       "..                        ...       ...            ...\n",
       "220                Guadeloupe         0              0\n",
       "221                   Tunisia         0              2\n",
       "222         Brunei Darussalam         0              1\n",
       "223                Mauritania         0              4\n",
       "224  Turks and Caicos Islands         0              0\n",
       "\n",
       "[225 rows x 3 columns]"
      ]
     },
     "execution_count": 33,
     "metadata": {},
     "output_type": "execute_result"
    }
   ],
   "source": [
    "df_coreness_2001_2003 = df_coreness_2001_2003.merge(data_neighboors_countries, on=\"origin\", how=\"left\")\n",
    "df_coreness_2001_2003"
   ]
  },
  {
   "cell_type": "code",
   "execution_count": 34,
   "id": "e24c76ce",
   "metadata": {
    "collapsed": true
   },
   "outputs": [
    {
     "data": {
      "text/html": [
       "<div>\n",
       "<style scoped>\n",
       "    .dataframe tbody tr th:only-of-type {\n",
       "        vertical-align: middle;\n",
       "    }\n",
       "\n",
       "    .dataframe tbody tr th {\n",
       "        vertical-align: top;\n",
       "    }\n",
       "\n",
       "    .dataframe thead th {\n",
       "        text-align: right;\n",
       "    }\n",
       "</style>\n",
       "<table border=\"1\" class=\"dataframe\">\n",
       "  <thead>\n",
       "    <tr style=\"text-align: right;\">\n",
       "      <th></th>\n",
       "      <th>origin</th>\n",
       "      <th>coreness</th>\n",
       "      <th>n_neightbours</th>\n",
       "    </tr>\n",
       "  </thead>\n",
       "  <tbody>\n",
       "    <tr>\n",
       "      <th>8</th>\n",
       "      <td>Nigeria</td>\n",
       "      <td>1</td>\n",
       "      <td>4</td>\n",
       "    </tr>\n",
       "    <tr>\n",
       "      <th>18</th>\n",
       "      <td>Benin</td>\n",
       "      <td>1</td>\n",
       "      <td>4</td>\n",
       "    </tr>\n",
       "    <tr>\n",
       "      <th>21</th>\n",
       "      <td>Niger</td>\n",
       "      <td>1</td>\n",
       "      <td>7</td>\n",
       "    </tr>\n",
       "    <tr>\n",
       "      <th>23</th>\n",
       "      <td>Morocco</td>\n",
       "      <td>1</td>\n",
       "      <td>3</td>\n",
       "    </tr>\n",
       "    <tr>\n",
       "      <th>31</th>\n",
       "      <td>Dem. Rep. of the Congo</td>\n",
       "      <td>1</td>\n",
       "      <td>10</td>\n",
       "    </tr>\n",
       "    <tr>\n",
       "      <th>34</th>\n",
       "      <td>Zimbabwe</td>\n",
       "      <td>1</td>\n",
       "      <td>4</td>\n",
       "    </tr>\n",
       "    <tr>\n",
       "      <th>37</th>\n",
       "      <td>Côte d'Ivoire</td>\n",
       "      <td>1</td>\n",
       "      <td>5</td>\n",
       "    </tr>\n",
       "    <tr>\n",
       "      <th>38</th>\n",
       "      <td>South Africa</td>\n",
       "      <td>1</td>\n",
       "      <td>6</td>\n",
       "    </tr>\n",
       "    <tr>\n",
       "      <th>41</th>\n",
       "      <td>Gabon</td>\n",
       "      <td>1</td>\n",
       "      <td>3</td>\n",
       "    </tr>\n",
       "    <tr>\n",
       "      <th>44</th>\n",
       "      <td>Egypt</td>\n",
       "      <td>1</td>\n",
       "      <td>4</td>\n",
       "    </tr>\n",
       "    <tr>\n",
       "      <th>46</th>\n",
       "      <td>Angola</td>\n",
       "      <td>1</td>\n",
       "      <td>4</td>\n",
       "    </tr>\n",
       "    <tr>\n",
       "      <th>49</th>\n",
       "      <td>Libya</td>\n",
       "      <td>1</td>\n",
       "      <td>6</td>\n",
       "    </tr>\n",
       "    <tr>\n",
       "      <th>52</th>\n",
       "      <td>Ghana</td>\n",
       "      <td>1</td>\n",
       "      <td>3</td>\n",
       "    </tr>\n",
       "    <tr>\n",
       "      <th>56</th>\n",
       "      <td>Kenya</td>\n",
       "      <td>1</td>\n",
       "      <td>5</td>\n",
       "    </tr>\n",
       "    <tr>\n",
       "      <th>58</th>\n",
       "      <td>Burkina Faso</td>\n",
       "      <td>1</td>\n",
       "      <td>6</td>\n",
       "    </tr>\n",
       "    <tr>\n",
       "      <th>62</th>\n",
       "      <td>Congo</td>\n",
       "      <td>1</td>\n",
       "      <td>5</td>\n",
       "    </tr>\n",
       "    <tr>\n",
       "      <th>64</th>\n",
       "      <td>Senegal</td>\n",
       "      <td>1</td>\n",
       "      <td>5</td>\n",
       "    </tr>\n",
       "    <tr>\n",
       "      <th>70</th>\n",
       "      <td>Mozambique</td>\n",
       "      <td>1</td>\n",
       "      <td>6</td>\n",
       "    </tr>\n",
       "    <tr>\n",
       "      <th>81</th>\n",
       "      <td>Equatorial Guinea</td>\n",
       "      <td>0</td>\n",
       "      <td>2</td>\n",
       "    </tr>\n",
       "    <tr>\n",
       "      <th>83</th>\n",
       "      <td>Liberia</td>\n",
       "      <td>0</td>\n",
       "      <td>3</td>\n",
       "    </tr>\n",
       "    <tr>\n",
       "      <th>99</th>\n",
       "      <td>Comoros</td>\n",
       "      <td>0</td>\n",
       "      <td>0</td>\n",
       "    </tr>\n",
       "    <tr>\n",
       "      <th>101</th>\n",
       "      <td>Burundi</td>\n",
       "      <td>0</td>\n",
       "      <td>3</td>\n",
       "    </tr>\n",
       "    <tr>\n",
       "      <th>105</th>\n",
       "      <td>Cabo Verde</td>\n",
       "      <td>0</td>\n",
       "      <td>0</td>\n",
       "    </tr>\n",
       "    <tr>\n",
       "      <th>111</th>\n",
       "      <td>Djibouti</td>\n",
       "      <td>0</td>\n",
       "      <td>3</td>\n",
       "    </tr>\n",
       "    <tr>\n",
       "      <th>116</th>\n",
       "      <td>Sudan</td>\n",
       "      <td>0</td>\n",
       "      <td>7</td>\n",
       "    </tr>\n",
       "    <tr>\n",
       "      <th>119</th>\n",
       "      <td>Togo</td>\n",
       "      <td>0</td>\n",
       "      <td>3</td>\n",
       "    </tr>\n",
       "    <tr>\n",
       "      <th>126</th>\n",
       "      <td>Uganda</td>\n",
       "      <td>0</td>\n",
       "      <td>5</td>\n",
       "    </tr>\n",
       "    <tr>\n",
       "      <th>130</th>\n",
       "      <td>Namibia</td>\n",
       "      <td>0</td>\n",
       "      <td>4</td>\n",
       "    </tr>\n",
       "    <tr>\n",
       "      <th>131</th>\n",
       "      <td>Zambia</td>\n",
       "      <td>0</td>\n",
       "      <td>8</td>\n",
       "    </tr>\n",
       "    <tr>\n",
       "      <th>134</th>\n",
       "      <td>Lesotho</td>\n",
       "      <td>0</td>\n",
       "      <td>1</td>\n",
       "    </tr>\n",
       "    <tr>\n",
       "      <th>148</th>\n",
       "      <td>Ethiopia</td>\n",
       "      <td>0</td>\n",
       "      <td>6</td>\n",
       "    </tr>\n",
       "    <tr>\n",
       "      <th>149</th>\n",
       "      <td>Seychelles</td>\n",
       "      <td>0</td>\n",
       "      <td>0</td>\n",
       "    </tr>\n",
       "    <tr>\n",
       "      <th>156</th>\n",
       "      <td>South Sudan</td>\n",
       "      <td>0</td>\n",
       "      <td>6</td>\n",
       "    </tr>\n",
       "    <tr>\n",
       "      <th>159</th>\n",
       "      <td>Chad</td>\n",
       "      <td>0</td>\n",
       "      <td>6</td>\n",
       "    </tr>\n",
       "    <tr>\n",
       "      <th>162</th>\n",
       "      <td>Somalia</td>\n",
       "      <td>0</td>\n",
       "      <td>3</td>\n",
       "    </tr>\n",
       "    <tr>\n",
       "      <th>164</th>\n",
       "      <td>Sierra Leone</td>\n",
       "      <td>0</td>\n",
       "      <td>2</td>\n",
       "    </tr>\n",
       "    <tr>\n",
       "      <th>168</th>\n",
       "      <td>Cameroon</td>\n",
       "      <td>0</td>\n",
       "      <td>6</td>\n",
       "    </tr>\n",
       "    <tr>\n",
       "      <th>169</th>\n",
       "      <td>Guinea-Bissau</td>\n",
       "      <td>0</td>\n",
       "      <td>2</td>\n",
       "    </tr>\n",
       "    <tr>\n",
       "      <th>172</th>\n",
       "      <td>Sao Tome and Principe</td>\n",
       "      <td>0</td>\n",
       "      <td>0</td>\n",
       "    </tr>\n",
       "    <tr>\n",
       "      <th>179</th>\n",
       "      <td>Central African Rep.</td>\n",
       "      <td>0</td>\n",
       "      <td>6</td>\n",
       "    </tr>\n",
       "    <tr>\n",
       "      <th>182</th>\n",
       "      <td>Algeria</td>\n",
       "      <td>0</td>\n",
       "      <td>7</td>\n",
       "    </tr>\n",
       "    <tr>\n",
       "      <th>186</th>\n",
       "      <td>Eritrea</td>\n",
       "      <td>0</td>\n",
       "      <td>3</td>\n",
       "    </tr>\n",
       "    <tr>\n",
       "      <th>188</th>\n",
       "      <td>Gambia</td>\n",
       "      <td>0</td>\n",
       "      <td>1</td>\n",
       "    </tr>\n",
       "    <tr>\n",
       "      <th>190</th>\n",
       "      <td>Mali</td>\n",
       "      <td>0</td>\n",
       "      <td>7</td>\n",
       "    </tr>\n",
       "    <tr>\n",
       "      <th>196</th>\n",
       "      <td>Botswana</td>\n",
       "      <td>0</td>\n",
       "      <td>4</td>\n",
       "    </tr>\n",
       "    <tr>\n",
       "      <th>197</th>\n",
       "      <td>Malawi</td>\n",
       "      <td>0</td>\n",
       "      <td>3</td>\n",
       "    </tr>\n",
       "    <tr>\n",
       "      <th>206</th>\n",
       "      <td>Rwanda</td>\n",
       "      <td>0</td>\n",
       "      <td>4</td>\n",
       "    </tr>\n",
       "    <tr>\n",
       "      <th>210</th>\n",
       "      <td>Guinea</td>\n",
       "      <td>0</td>\n",
       "      <td>6</td>\n",
       "    </tr>\n",
       "    <tr>\n",
       "      <th>213</th>\n",
       "      <td>Mauritius</td>\n",
       "      <td>0</td>\n",
       "      <td>0</td>\n",
       "    </tr>\n",
       "    <tr>\n",
       "      <th>218</th>\n",
       "      <td>Madagascar</td>\n",
       "      <td>0</td>\n",
       "      <td>0</td>\n",
       "    </tr>\n",
       "    <tr>\n",
       "      <th>221</th>\n",
       "      <td>Tunisia</td>\n",
       "      <td>0</td>\n",
       "      <td>2</td>\n",
       "    </tr>\n",
       "    <tr>\n",
       "      <th>223</th>\n",
       "      <td>Mauritania</td>\n",
       "      <td>0</td>\n",
       "      <td>4</td>\n",
       "    </tr>\n",
       "  </tbody>\n",
       "</table>\n",
       "</div>"
      ],
      "text/plain": [
       "                     origin  coreness  n_neightbours\n",
       "8                   Nigeria         1              4\n",
       "18                    Benin         1              4\n",
       "21                    Niger         1              7\n",
       "23                  Morocco         1              3\n",
       "31   Dem. Rep. of the Congo         1             10\n",
       "34                 Zimbabwe         1              4\n",
       "37            Côte d'Ivoire         1              5\n",
       "38             South Africa         1              6\n",
       "41                    Gabon         1              3\n",
       "44                    Egypt         1              4\n",
       "46                   Angola         1              4\n",
       "49                    Libya         1              6\n",
       "52                    Ghana         1              3\n",
       "56                    Kenya         1              5\n",
       "58             Burkina Faso         1              6\n",
       "62                    Congo         1              5\n",
       "64                  Senegal         1              5\n",
       "70               Mozambique         1              6\n",
       "81        Equatorial Guinea         0              2\n",
       "83                  Liberia         0              3\n",
       "99                  Comoros         0              0\n",
       "101                 Burundi         0              3\n",
       "105              Cabo Verde         0              0\n",
       "111                Djibouti         0              3\n",
       "116                   Sudan         0              7\n",
       "119                    Togo         0              3\n",
       "126                  Uganda         0              5\n",
       "130                 Namibia         0              4\n",
       "131                  Zambia         0              8\n",
       "134                 Lesotho         0              1\n",
       "148                Ethiopia         0              6\n",
       "149              Seychelles         0              0\n",
       "156             South Sudan         0              6\n",
       "159                    Chad         0              6\n",
       "162                 Somalia         0              3\n",
       "164            Sierra Leone         0              2\n",
       "168                Cameroon         0              6\n",
       "169           Guinea-Bissau         0              2\n",
       "172   Sao Tome and Principe         0              0\n",
       "179    Central African Rep.         0              6\n",
       "182                 Algeria         0              7\n",
       "186                 Eritrea         0              3\n",
       "188                  Gambia         0              1\n",
       "190                    Mali         0              7\n",
       "196                Botswana         0              4\n",
       "197                  Malawi         0              3\n",
       "206                  Rwanda         0              4\n",
       "210                  Guinea         0              6\n",
       "213               Mauritius         0              0\n",
       "218              Madagascar         0              0\n",
       "221                 Tunisia         0              2\n",
       "223              Mauritania         0              4"
      ]
     },
     "execution_count": 34,
     "metadata": {},
     "output_type": "execute_result"
    }
   ],
   "source": [
    "df_coreness_2001_2003_africa =  df_coreness_2001_2003[(df_coreness_2001_2003['origin'].isin(lista_paises_africa))]\n",
    "df_coreness_2001_2003_africa"
   ]
  },
  {
   "cell_type": "markdown",
   "id": "11e147d8",
   "metadata": {},
   "source": [
    "#### Regressão\n",
    "\n",
    "Com os resultados obtidos no processo acima, obtivemos a tabela logo acima dessa célula, a df_coreness_2001_2003_africa, correlacionando o valor do coreness com o recorte proposto e, para podermos analisar se o recorte realmente faz sentido e faria com que a hipótese não corroborasse mais, precisamos realizar uma regressão logística, uma vez que a variável dependente (coreness) é um valor discreto."
   ]
  },
  {
   "cell_type": "code",
   "execution_count": 35,
   "id": "b408390f",
   "metadata": {
    "collapsed": true
   },
   "outputs": [
    {
     "name": "stdout",
     "output_type": "stream",
     "text": [
      "Optimization terminated successfully.\n",
      "         Current function value: 0.589814\n",
      "         Iterations 5\n"
     ]
    },
    {
     "data": {
      "text/html": [
       "<table class=\"simpletable\">\n",
       "<caption>Logit Regression Results</caption>\n",
       "<tr>\n",
       "  <th>Dep. Variable:</th>       <td>coreness</td>     <th>  No. Observations:  </th>  <td>    52</td> \n",
       "</tr>\n",
       "<tr>\n",
       "  <th>Model:</th>                 <td>Logit</td>      <th>  Df Residuals:      </th>  <td>    50</td> \n",
       "</tr>\n",
       "<tr>\n",
       "  <th>Method:</th>                 <td>MLE</td>       <th>  Df Model:          </th>  <td>     1</td> \n",
       "</tr>\n",
       "<tr>\n",
       "  <th>Date:</th>            <td>Mon, 14 Nov 2022</td> <th>  Pseudo R-squ.:     </th>  <td>0.08561</td>\n",
       "</tr>\n",
       "<tr>\n",
       "  <th>Time:</th>                <td>15:27:34</td>     <th>  Log-Likelihood:    </th> <td> -30.670</td>\n",
       "</tr>\n",
       "<tr>\n",
       "  <th>converged:</th>             <td>True</td>       <th>  LL-Null:           </th> <td> -33.542</td>\n",
       "</tr>\n",
       "<tr>\n",
       "  <th>Covariance Type:</th>     <td>nonrobust</td>    <th>  LLR p-value:       </th>  <td>0.01656</td>\n",
       "</tr>\n",
       "</table>\n",
       "<table class=\"simpletable\">\n",
       "<tr>\n",
       "        <td></td>           <th>coef</th>     <th>std err</th>      <th>z</th>      <th>P>|z|</th>  <th>[0.025</th>    <th>0.975]</th>  \n",
       "</tr>\n",
       "<tr>\n",
       "  <th>Intercept</th>     <td>   -2.0363</td> <td>    0.734</td> <td>   -2.774</td> <td> 0.006</td> <td>   -3.475</td> <td>   -0.597</td>\n",
       "</tr>\n",
       "<tr>\n",
       "  <th>n_neightbours</th> <td>    0.3313</td> <td>    0.150</td> <td>    2.208</td> <td> 0.027</td> <td>    0.037</td> <td>    0.625</td>\n",
       "</tr>\n",
       "</table>"
      ],
      "text/plain": [
       "<class 'statsmodels.iolib.summary.Summary'>\n",
       "\"\"\"\n",
       "                           Logit Regression Results                           \n",
       "==============================================================================\n",
       "Dep. Variable:               coreness   No. Observations:                   52\n",
       "Model:                          Logit   Df Residuals:                       50\n",
       "Method:                           MLE   Df Model:                            1\n",
       "Date:                Mon, 14 Nov 2022   Pseudo R-squ.:                 0.08561\n",
       "Time:                        15:27:34   Log-Likelihood:                -30.670\n",
       "converged:                       True   LL-Null:                       -33.542\n",
       "Covariance Type:            nonrobust   LLR p-value:                   0.01656\n",
       "=================================================================================\n",
       "                    coef    std err          z      P>|z|      [0.025      0.975]\n",
       "---------------------------------------------------------------------------------\n",
       "Intercept        -2.0363      0.734     -2.774      0.006      -3.475      -0.597\n",
       "n_neightbours     0.3313      0.150      2.208      0.027       0.037       0.625\n",
       "=================================================================================\n",
       "\"\"\""
      ]
     },
     "execution_count": 35,
     "metadata": {},
     "output_type": "execute_result"
    }
   ],
   "source": [
    "result_hip2 = reg.logistic(data=df_coreness_2001_2003_africa, formula='coreness ~ n_neightbours')\n",
    "result_hip2.summary()"
   ]
  },
  {
   "cell_type": "code",
   "execution_count": 36,
   "id": "0073c979",
   "metadata": {
    "collapsed": true
   },
   "outputs": [
    {
     "data": {
      "text/html": [
       "<style type=\"text/css\">\n",
       "#T_f153e_row0_col0 {\n",
       "  font-family: monospace;\n",
       "  text-align: left;\n",
       "}\n",
       "</style>\n",
       "<table id=\"T_f153e\">\n",
       "  <thead>\n",
       "  </thead>\n",
       "  <tbody>\n",
       "    <tr>\n",
       "      <td id=\"T_f153e_row0_col0\" class=\"data row0 col0\" >+0.331 (0.150) **</td>\n",
       "    </tr>\n",
       "  </tbody>\n",
       "</table>\n"
      ],
      "text/plain": [
       "<pandas.io.formats.style.Styler at 0x7fa1379f5ff0>"
      ]
     },
     "execution_count": 36,
     "metadata": {},
     "output_type": "execute_result"
    }
   ],
   "source": [
    "result_hip2.nano_summary()"
   ]
  },
  {
   "cell_type": "code",
   "execution_count": 37,
   "id": "a73187c4",
   "metadata": {
    "collapsed": true
   },
   "outputs": [
    {
     "name": "stdout",
     "output_type": "stream",
     "text": [
      "62.5% of average residuals inside\n"
     ]
    },
    {
     "data": {
      "image/png": "[encoded data removed]",
      "text/plain": [
       "<Figure size 640x480 with 1 Axes>"
      ]
     },
     "metadata": {},
     "output_type": "display_data"
    }
   ],
   "source": [
    "result_hip2.plot_residuals()"
   ]
  },
  {
   "cell_type": "markdown",
   "id": "3b423c8c",
   "metadata": {},
   "source": [
    "#### Conclusão\n",
    "\n",
    "A partir dos resultados obtidos acima, podemos concluir que, apesar de ter perdido um pouco de significância, a hipótese continua corroborando e sendo verdadeira para esse recorte.\n",
    "\n",
    "Dessa forma, podemos concluir que o recorte pode não ter dado certo pelo fator de que, apesar de uma maior restrição dos países europeus e outros pelo mundo com relação a entrada de imigrantes em seu país, especialmente refugiados, isso acabou não afetando muito o continente africano, pois além de ser um continente de grande tamanho (o que pode resultar em um alto número de migrações entre o próprio continente), pode-se interpretar que a África ficou, de certa forma, à periferia dos assuntos e problemas geopolíticos mundiais da época, o que acabou por não influenciar muito na sua centralidade na rede. "
   ]
  },
  {
   "cell_type": "markdown",
   "id": "5787cd15",
   "metadata": {},
   "source": [
    "\n",
    "## Hipóteses 4: Desenvolvimento tem relação com vazão de pessoas\n",
    "\n",
    "### C : EXT: DSV, CORE, CONP\n",
    "\n"
   ]
  },
  {
   "cell_type": "markdown",
   "id": "06486de5",
   "metadata": {},
   "source": [
    "#### Explicação:\n",
    "\n",
    "Essa hipótese correlaciona o desenvolvimento socioeconômico do país (medido pelo IDH) com a vazão de pessoas. Ou seja, quanto menor for o desenvolvimento de uma nação, maior é a sua saída de pessoas, uma vez que, visando melhores condições de vida ou a própria sobrevivência, pessoas podem sair de um país, devido ao seu baixo desenvolvimento, em maior quantidade do que em países com um IDH alto. Além disso, a saída de pessoas também está correlacionada com o coreness e a contenção populacional (variáveis de controle), uma vez que quanto maior a vazão de pessoas, mais ao centro esse país está e menor é a sua contenção populacional.\n",
    "\n",
    "#### Recorte: 2008 a 2012 e países da União Europeia (UE) e da América Anglo-saxônica\n",
    "\n",
    "Esse recorte foi pensado pois, ao tratarmos dos anos de 2008 a 2012, pensamos na crise imobiliária dos Estados Unidos que ocorreu em 2008 e, posteriormente, resultou em uma crise econômica global. Além disso, também houve uma pandemia da gripe H1N1 no ano de 2009. Esses dois acontecimentos, juntos, poderiam resultar em uma possível mudança significativa na vazão de pessoas em países com IDH alto, o que deixaria de corroborar com a hipótese 4."
   ]
  },
  {
   "cell_type": "markdown",
   "id": "7df82bf7",
   "metadata": {},
   "source": [
    "2008 - 2012 e países da UE e da América anglo-saxônica"
   ]
  },
  {
   "cell_type": "code",
   "execution_count": 40,
   "id": "18d41c63",
   "metadata": {
    "collapsed": true
   },
   "outputs": [
    {
     "data": {
      "text/html": [
       "<div>\n",
       "<style scoped>\n",
       "    .dataframe tbody tr th:only-of-type {\n",
       "        vertical-align: middle;\n",
       "    }\n",
       "\n",
       "    .dataframe tbody tr th {\n",
       "        vertical-align: top;\n",
       "    }\n",
       "\n",
       "    .dataframe thead th {\n",
       "        text-align: right;\n",
       "    }\n",
       "</style>\n",
       "<table border=\"1\" class=\"dataframe\">\n",
       "  <thead>\n",
       "    <tr style=\"text-align: right;\">\n",
       "      <th></th>\n",
       "      <th>destiny</th>\n",
       "      <th>origin</th>\n",
       "      <th>value</th>\n",
       "      <th>rejected</th>\n",
       "      <th>year</th>\n",
       "    </tr>\n",
       "  </thead>\n",
       "  <tbody>\n",
       "    <tr>\n",
       "      <th>0</th>\n",
       "      <td>Zimbabwe</td>\n",
       "      <td>Afghanistan</td>\n",
       "      <td>5</td>\n",
       "      <td>0</td>\n",
       "      <td>2000</td>\n",
       "    </tr>\n",
       "    <tr>\n",
       "      <th>1</th>\n",
       "      <td>South Africa</td>\n",
       "      <td>Afghanistan</td>\n",
       "      <td>0</td>\n",
       "      <td>0</td>\n",
       "      <td>2000</td>\n",
       "    </tr>\n",
       "    <tr>\n",
       "      <th>2</th>\n",
       "      <td>Uzbekistan</td>\n",
       "      <td>Afghanistan</td>\n",
       "      <td>747</td>\n",
       "      <td>112</td>\n",
       "      <td>2000</td>\n",
       "    </tr>\n",
       "    <tr>\n",
       "      <th>3</th>\n",
       "      <td>United States of America</td>\n",
       "      <td>Afghanistan</td>\n",
       "      <td>151</td>\n",
       "      <td>31</td>\n",
       "      <td>2000</td>\n",
       "    </tr>\n",
       "    <tr>\n",
       "      <th>4</th>\n",
       "      <td>United States of America</td>\n",
       "      <td>Afghanistan</td>\n",
       "      <td>182</td>\n",
       "      <td>51</td>\n",
       "      <td>2000</td>\n",
       "    </tr>\n",
       "    <tr>\n",
       "      <th>...</th>\n",
       "      <td>...</td>\n",
       "      <td>...</td>\n",
       "      <td>...</td>\n",
       "      <td>...</td>\n",
       "      <td>...</td>\n",
       "    </tr>\n",
       "    <tr>\n",
       "      <th>129715</th>\n",
       "      <td>United States of America</td>\n",
       "      <td>Zimbabwe</td>\n",
       "      <td>16</td>\n",
       "      <td>*</td>\n",
       "      <td>2016</td>\n",
       "    </tr>\n",
       "    <tr>\n",
       "      <th>129716</th>\n",
       "      <td>United States of America</td>\n",
       "      <td>Zimbabwe</td>\n",
       "      <td>*</td>\n",
       "      <td>*</td>\n",
       "      <td>2016</td>\n",
       "    </tr>\n",
       "    <tr>\n",
       "      <th>129717</th>\n",
       "      <td>South Africa</td>\n",
       "      <td>Zimbabwe</td>\n",
       "      <td>NaN</td>\n",
       "      <td>NaN</td>\n",
       "      <td>2016</td>\n",
       "    </tr>\n",
       "    <tr>\n",
       "      <th>129718</th>\n",
       "      <td>South Africa</td>\n",
       "      <td>Zimbabwe</td>\n",
       "      <td>73</td>\n",
       "      <td>7869</td>\n",
       "      <td>2016</td>\n",
       "    </tr>\n",
       "    <tr>\n",
       "      <th>129719</th>\n",
       "      <td>Zambia</td>\n",
       "      <td>Zimbabwe</td>\n",
       "      <td>0</td>\n",
       "      <td>*</td>\n",
       "      <td>2016</td>\n",
       "    </tr>\n",
       "  </tbody>\n",
       "</table>\n",
       "<p>129720 rows × 5 columns</p>\n",
       "</div>"
      ],
      "text/plain": [
       "                         destiny       origin value rejected  year\n",
       "0                       Zimbabwe  Afghanistan     5        0  2000\n",
       "1                   South Africa  Afghanistan     0        0  2000\n",
       "2                     Uzbekistan  Afghanistan   747      112  2000\n",
       "3       United States of America  Afghanistan   151       31  2000\n",
       "4       United States of America  Afghanistan   182       51  2000\n",
       "...                          ...          ...   ...      ...   ...\n",
       "129715  United States of America     Zimbabwe    16        *  2016\n",
       "129716  United States of America     Zimbabwe     *        *  2016\n",
       "129717              South Africa     Zimbabwe   NaN      NaN  2016\n",
       "129718              South Africa     Zimbabwe    73     7869  2016\n",
       "129719                    Zambia     Zimbabwe     0        *  2016\n",
       "\n",
       "[129720 rows x 5 columns]"
      ]
     },
     "execution_count": 40,
     "metadata": {},
     "output_type": "execute_result"
    }
   ],
   "source": [
    "df_hip4 = df_completo.loc[:, ['Country / territory of asylum/residence', 'Origin', 'decisions_recognized', 'Rejected', 'Year']]\n",
    "df_hip4 = df_hip4.rename(columns={'Origin': 'origin', 'Country / territory of asylum/residence': 'destiny', 'decisions_recognized': 'value', 'Rejected': 'rejected','Year' : 'year'})\n",
    "df_hip4"
   ]
  },
  {
   "cell_type": "code",
   "execution_count": 41,
   "id": "59e8be45",
   "metadata": {
    "collapsed": true
   },
   "outputs": [
    {
     "data": {
      "text/html": [
       "<div>\n",
       "<style scoped>\n",
       "    .dataframe tbody tr th:only-of-type {\n",
       "        vertical-align: middle;\n",
       "    }\n",
       "\n",
       "    .dataframe tbody tr th {\n",
       "        vertical-align: top;\n",
       "    }\n",
       "\n",
       "    .dataframe thead th {\n",
       "        text-align: right;\n",
       "    }\n",
       "</style>\n",
       "<table border=\"1\" class=\"dataframe\">\n",
       "  <thead>\n",
       "    <tr style=\"text-align: right;\">\n",
       "      <th></th>\n",
       "      <th>destiny</th>\n",
       "      <th>origin</th>\n",
       "      <th>value</th>\n",
       "      <th>rejected</th>\n",
       "      <th>year</th>\n",
       "    </tr>\n",
       "  </thead>\n",
       "  <tbody>\n",
       "    <tr>\n",
       "      <th>0</th>\n",
       "      <td>Zimbabwe</td>\n",
       "      <td>Afghanistan</td>\n",
       "      <td>5.0</td>\n",
       "      <td>0</td>\n",
       "      <td>2000</td>\n",
       "    </tr>\n",
       "    <tr>\n",
       "      <th>1</th>\n",
       "      <td>South Africa</td>\n",
       "      <td>Afghanistan</td>\n",
       "      <td>0.0</td>\n",
       "      <td>0</td>\n",
       "      <td>2000</td>\n",
       "    </tr>\n",
       "    <tr>\n",
       "      <th>2</th>\n",
       "      <td>Uzbekistan</td>\n",
       "      <td>Afghanistan</td>\n",
       "      <td>747.0</td>\n",
       "      <td>112</td>\n",
       "      <td>2000</td>\n",
       "    </tr>\n",
       "    <tr>\n",
       "      <th>3</th>\n",
       "      <td>United States of America</td>\n",
       "      <td>Afghanistan</td>\n",
       "      <td>151.0</td>\n",
       "      <td>31</td>\n",
       "      <td>2000</td>\n",
       "    </tr>\n",
       "    <tr>\n",
       "      <th>4</th>\n",
       "      <td>United States of America</td>\n",
       "      <td>Afghanistan</td>\n",
       "      <td>182.0</td>\n",
       "      <td>51</td>\n",
       "      <td>2000</td>\n",
       "    </tr>\n",
       "    <tr>\n",
       "      <th>...</th>\n",
       "      <td>...</td>\n",
       "      <td>...</td>\n",
       "      <td>...</td>\n",
       "      <td>...</td>\n",
       "      <td>...</td>\n",
       "    </tr>\n",
       "    <tr>\n",
       "      <th>129715</th>\n",
       "      <td>United States of America</td>\n",
       "      <td>Zimbabwe</td>\n",
       "      <td>16.0</td>\n",
       "      <td>*</td>\n",
       "      <td>2016</td>\n",
       "    </tr>\n",
       "    <tr>\n",
       "      <th>129716</th>\n",
       "      <td>United States of America</td>\n",
       "      <td>Zimbabwe</td>\n",
       "      <td>0.0</td>\n",
       "      <td>*</td>\n",
       "      <td>2016</td>\n",
       "    </tr>\n",
       "    <tr>\n",
       "      <th>129717</th>\n",
       "      <td>South Africa</td>\n",
       "      <td>Zimbabwe</td>\n",
       "      <td>0.0</td>\n",
       "      <td>NaN</td>\n",
       "      <td>2016</td>\n",
       "    </tr>\n",
       "    <tr>\n",
       "      <th>129718</th>\n",
       "      <td>South Africa</td>\n",
       "      <td>Zimbabwe</td>\n",
       "      <td>73.0</td>\n",
       "      <td>7869</td>\n",
       "      <td>2016</td>\n",
       "    </tr>\n",
       "    <tr>\n",
       "      <th>129719</th>\n",
       "      <td>Zambia</td>\n",
       "      <td>Zimbabwe</td>\n",
       "      <td>0.0</td>\n",
       "      <td>*</td>\n",
       "      <td>2016</td>\n",
       "    </tr>\n",
       "  </tbody>\n",
       "</table>\n",
       "<p>129720 rows × 5 columns</p>\n",
       "</div>"
      ],
      "text/plain": [
       "                         destiny       origin  value rejected  year\n",
       "0                       Zimbabwe  Afghanistan    5.0        0  2000\n",
       "1                   South Africa  Afghanistan    0.0        0  2000\n",
       "2                     Uzbekistan  Afghanistan  747.0      112  2000\n",
       "3       United States of America  Afghanistan  151.0       31  2000\n",
       "4       United States of America  Afghanistan  182.0       51  2000\n",
       "...                          ...          ...    ...      ...   ...\n",
       "129715  United States of America     Zimbabwe   16.0        *  2016\n",
       "129716  United States of America     Zimbabwe    0.0        *  2016\n",
       "129717              South Africa     Zimbabwe    0.0      NaN  2016\n",
       "129718              South Africa     Zimbabwe   73.0     7869  2016\n",
       "129719                    Zambia     Zimbabwe    0.0        *  2016\n",
       "\n",
       "[129720 rows x 5 columns]"
      ]
     },
     "execution_count": 41,
     "metadata": {},
     "output_type": "execute_result"
    }
   ],
   "source": [
    "df_hip4.value = pd.to_numeric(df_hip4['value'], errors = 'coerce').fillna(0)\n",
    "df_hip4"
   ]
  },
  {
   "cell_type": "markdown",
   "id": "67d9ef28",
   "metadata": {},
   "source": [
    "#### Recorte pelos anos\n",
    "\n",
    "Abaixo, foi realizada o recorte pelos anos de acordo com o recorte proposto (2008 a 2012)."
   ]
  },
  {
   "cell_type": "code",
   "execution_count": 42,
   "id": "7d759157",
   "metadata": {
    "collapsed": true
   },
   "outputs": [
    {
     "data": {
      "text/html": [
       "<div>\n",
       "<style scoped>\n",
       "    .dataframe tbody tr th:only-of-type {\n",
       "        vertical-align: middle;\n",
       "    }\n",
       "\n",
       "    .dataframe tbody tr th {\n",
       "        vertical-align: top;\n",
       "    }\n",
       "\n",
       "    .dataframe thead th {\n",
       "        text-align: right;\n",
       "    }\n",
       "</style>\n",
       "<table border=\"1\" class=\"dataframe\">\n",
       "  <thead>\n",
       "    <tr style=\"text-align: right;\">\n",
       "      <th></th>\n",
       "      <th>destiny</th>\n",
       "      <th>origin</th>\n",
       "      <th>value</th>\n",
       "      <th>rejected</th>\n",
       "      <th>year</th>\n",
       "    </tr>\n",
       "  </thead>\n",
       "  <tbody>\n",
       "    <tr>\n",
       "      <th>49818</th>\n",
       "      <td>Albania</td>\n",
       "      <td>Afghanistan</td>\n",
       "      <td>0.0</td>\n",
       "      <td>0</td>\n",
       "      <td>2008</td>\n",
       "    </tr>\n",
       "    <tr>\n",
       "      <th>49819</th>\n",
       "      <td>Australia</td>\n",
       "      <td>Afghanistan</td>\n",
       "      <td>1.0</td>\n",
       "      <td>1</td>\n",
       "      <td>2008</td>\n",
       "    </tr>\n",
       "    <tr>\n",
       "      <th>49820</th>\n",
       "      <td>Australia</td>\n",
       "      <td>Afghanistan</td>\n",
       "      <td>33.0</td>\n",
       "      <td>3</td>\n",
       "      <td>2008</td>\n",
       "    </tr>\n",
       "    <tr>\n",
       "      <th>49821</th>\n",
       "      <td>Austria</td>\n",
       "      <td>Afghanistan</td>\n",
       "      <td>486.0</td>\n",
       "      <td>217</td>\n",
       "      <td>2008</td>\n",
       "    </tr>\n",
       "    <tr>\n",
       "      <th>49822</th>\n",
       "      <td>Azerbaijan</td>\n",
       "      <td>Afghanistan</td>\n",
       "      <td>0.0</td>\n",
       "      <td>14</td>\n",
       "      <td>2008</td>\n",
       "    </tr>\n",
       "    <tr>\n",
       "      <th>...</th>\n",
       "      <td>...</td>\n",
       "      <td>...</td>\n",
       "      <td>...</td>\n",
       "      <td>...</td>\n",
       "      <td>...</td>\n",
       "    </tr>\n",
       "    <tr>\n",
       "      <th>88862</th>\n",
       "      <td>Switzerland</td>\n",
       "      <td>Zimbabwe</td>\n",
       "      <td>0.0</td>\n",
       "      <td>1</td>\n",
       "      <td>2012</td>\n",
       "    </tr>\n",
       "    <tr>\n",
       "      <th>88863</th>\n",
       "      <td>Costa Rica</td>\n",
       "      <td>Zimbabwe</td>\n",
       "      <td>0.0</td>\n",
       "      <td>0</td>\n",
       "      <td>2012</td>\n",
       "    </tr>\n",
       "    <tr>\n",
       "      <th>88864</th>\n",
       "      <td>Cyprus</td>\n",
       "      <td>Zimbabwe</td>\n",
       "      <td>0.0</td>\n",
       "      <td>2</td>\n",
       "      <td>2012</td>\n",
       "    </tr>\n",
       "    <tr>\n",
       "      <th>88865</th>\n",
       "      <td>Cyprus</td>\n",
       "      <td>Zimbabwe</td>\n",
       "      <td>0.0</td>\n",
       "      <td>0</td>\n",
       "      <td>2012</td>\n",
       "    </tr>\n",
       "    <tr>\n",
       "      <th>88866</th>\n",
       "      <td>Germany</td>\n",
       "      <td>Zimbabwe</td>\n",
       "      <td>0.0</td>\n",
       "      <td>6</td>\n",
       "      <td>2012</td>\n",
       "    </tr>\n",
       "  </tbody>\n",
       "</table>\n",
       "<p>39049 rows × 5 columns</p>\n",
       "</div>"
      ],
      "text/plain": [
       "           destiny       origin  value rejected  year\n",
       "49818      Albania  Afghanistan    0.0        0  2008\n",
       "49819    Australia  Afghanistan    1.0        1  2008\n",
       "49820    Australia  Afghanistan   33.0        3  2008\n",
       "49821      Austria  Afghanistan  486.0      217  2008\n",
       "49822   Azerbaijan  Afghanistan    0.0       14  2008\n",
       "...            ...          ...    ...      ...   ...\n",
       "88862  Switzerland     Zimbabwe    0.0        1  2012\n",
       "88863   Costa Rica     Zimbabwe    0.0        0  2012\n",
       "88864       Cyprus     Zimbabwe    0.0        2  2012\n",
       "88865       Cyprus     Zimbabwe    0.0        0  2012\n",
       "88866      Germany     Zimbabwe    0.0        6  2012\n",
       "\n",
       "[39049 rows x 5 columns]"
      ]
     },
     "execution_count": 42,
     "metadata": {},
     "output_type": "execute_result"
    }
   ],
   "source": [
    "df_hip4_2008_2012 = df_hip4[((df_hip4['year'] == 2008) | (df_hip4['year'] == 2009) | (df_hip4['year'] == 2010) | \n",
    "                   (df_hip4['year'] == 2011) | (df_hip4['year'] == 2012))]\n",
    "df_hip4_2008_2012"
   ]
  },
  {
   "cell_type": "code",
   "execution_count": 43,
   "id": "02e24aff",
   "metadata": {},
   "outputs": [],
   "source": [
    "df_hip4_2008_2012 = df_hip4_2008_2012.drop('year', axis=1)"
   ]
  },
  {
   "cell_type": "code",
   "execution_count": 44,
   "id": "9e9381c5",
   "metadata": {},
   "outputs": [],
   "source": [
    "df_hip4_2008_2012.value = df_hip4_2008_2012['value'].astype(int)\n",
    "df_hip4_2008_2012.rejected = df_hip4_2008_2012['rejected'].astype(int)"
   ]
  },
  {
   "cell_type": "code",
   "execution_count": 45,
   "id": "9df3d9b5",
   "metadata": {
    "collapsed": true
   },
   "outputs": [
    {
     "name": "stdout",
     "output_type": "stream",
     "text": [
      "<class 'pandas.core.frame.DataFrame'>\n",
      "Int64Index: 39049 entries, 49818 to 88866\n",
      "Data columns (total 4 columns):\n",
      " #   Column    Non-Null Count  Dtype \n",
      "---  ------    --------------  ----- \n",
      " 0   destiny   39049 non-null  object\n",
      " 1   origin    39049 non-null  object\n",
      " 2   value     39049 non-null  int64 \n",
      " 3   rejected  39049 non-null  int64 \n",
      "dtypes: int64(2), object(2)\n",
      "memory usage: 1.5+ MB\n"
     ]
    }
   ],
   "source": [
    "df_hip4_2008_2012.info()"
   ]
  },
  {
   "cell_type": "code",
   "execution_count": 46,
   "id": "952aaacc",
   "metadata": {
    "collapsed": true
   },
   "outputs": [
    {
     "name": "stderr",
     "output_type": "stream",
     "text": [
      "/tmp/ipykernel_30/929537874.py:1: FutureWarning: The default value of numeric_only in DataFrameGroupBy.sum is deprecated. In a future version, numeric_only will default to False. Either specify numeric_only or select only columns which should be valid for the function.\n",
      "  df_out_degree_2008_2012 = df_hip4_2008_2012.groupby('origin').sum().reindex(listaVertices).fillna(0)\n"
     ]
    },
    {
     "data": {
      "text/html": [
       "<div>\n",
       "<style scoped>\n",
       "    .dataframe tbody tr th:only-of-type {\n",
       "        vertical-align: middle;\n",
       "    }\n",
       "\n",
       "    .dataframe tbody tr th {\n",
       "        vertical-align: top;\n",
       "    }\n",
       "\n",
       "    .dataframe thead th {\n",
       "        text-align: right;\n",
       "    }\n",
       "</style>\n",
       "<table border=\"1\" class=\"dataframe\">\n",
       "  <thead>\n",
       "    <tr style=\"text-align: right;\">\n",
       "      <th></th>\n",
       "      <th>value</th>\n",
       "      <th>rejected</th>\n",
       "    </tr>\n",
       "    <tr>\n",
       "      <th>origin</th>\n",
       "      <th></th>\n",
       "      <th></th>\n",
       "    </tr>\n",
       "  </thead>\n",
       "  <tbody>\n",
       "    <tr>\n",
       "      <th>Eritrea</th>\n",
       "      <td>107682.0</td>\n",
       "      <td>15104.0</td>\n",
       "    </tr>\n",
       "    <tr>\n",
       "      <th>Myanmar</th>\n",
       "      <td>107568.0</td>\n",
       "      <td>10132.0</td>\n",
       "    </tr>\n",
       "    <tr>\n",
       "      <th>Dem. Rep. of the Congo</th>\n",
       "      <td>77502.0</td>\n",
       "      <td>47213.0</td>\n",
       "    </tr>\n",
       "    <tr>\n",
       "      <th>Iraq</th>\n",
       "      <td>71266.0</td>\n",
       "      <td>70812.0</td>\n",
       "    </tr>\n",
       "    <tr>\n",
       "      <th>Somalia</th>\n",
       "      <td>70458.0</td>\n",
       "      <td>31261.0</td>\n",
       "    </tr>\n",
       "    <tr>\n",
       "      <th>...</th>\n",
       "      <td>...</td>\n",
       "      <td>...</td>\n",
       "    </tr>\n",
       "    <tr>\n",
       "      <th>Martinique</th>\n",
       "      <td>0.0</td>\n",
       "      <td>0.0</td>\n",
       "    </tr>\n",
       "    <tr>\n",
       "      <th>Montserrat</th>\n",
       "      <td>0.0</td>\n",
       "      <td>0.0</td>\n",
       "    </tr>\n",
       "    <tr>\n",
       "      <th>Anguilla</th>\n",
       "      <td>0.0</td>\n",
       "      <td>0.0</td>\n",
       "    </tr>\n",
       "    <tr>\n",
       "      <th>Nauru</th>\n",
       "      <td>0.0</td>\n",
       "      <td>6.0</td>\n",
       "    </tr>\n",
       "    <tr>\n",
       "      <th>French Polynesia</th>\n",
       "      <td>0.0</td>\n",
       "      <td>0.0</td>\n",
       "    </tr>\n",
       "  </tbody>\n",
       "</table>\n",
       "<p>225 rows × 2 columns</p>\n",
       "</div>"
      ],
      "text/plain": [
       "                           value  rejected\n",
       "origin                                    \n",
       "Eritrea                 107682.0   15104.0\n",
       "Myanmar                 107568.0   10132.0\n",
       "Dem. Rep. of the Congo   77502.0   47213.0\n",
       "Iraq                     71266.0   70812.0\n",
       "Somalia                  70458.0   31261.0\n",
       "...                          ...       ...\n",
       "Martinique                   0.0       0.0\n",
       "Montserrat                   0.0       0.0\n",
       "Anguilla                     0.0       0.0\n",
       "Nauru                        0.0       6.0\n",
       "French Polynesia             0.0       0.0\n",
       "\n",
       "[225 rows x 2 columns]"
      ]
     },
     "execution_count": 46,
     "metadata": {},
     "output_type": "execute_result"
    }
   ],
   "source": [
    "df_out_degree_2008_2012 = df_hip4_2008_2012.groupby('origin').sum().reindex(listaVertices).fillna(0)\n",
    "df_out_degree_2008_2012.sort_values(\"value\", ascending = False)"
   ]
  },
  {
   "cell_type": "code",
   "execution_count": 47,
   "id": "d4f8bb06",
   "metadata": {},
   "outputs": [],
   "source": [
    "# Criando um grafo não-dirigido\n",
    "g2 = Graph(directed=True) \n",
    "g2.add_vp('nome')\n",
    "g2.add_ep('aceitos')"
   ]
  },
  {
   "cell_type": "code",
   "execution_count": 48,
   "id": "35c572bb",
   "metadata": {},
   "outputs": [],
   "source": [
    "for vertice in listaVertices:\n",
    "    g2.add_vertex(vertice)"
   ]
  },
  {
   "cell_type": "code",
   "execution_count": 49,
   "id": "fb7363c0",
   "metadata": {},
   "outputs": [],
   "source": [
    "for v in g2.all_vertices():\n",
    "    v['nome'] = str(v)"
   ]
  },
  {
   "cell_type": "code",
   "execution_count": 50,
   "id": "dc99240a",
   "metadata": {},
   "outputs": [
    {
     "name": "stdout",
     "output_type": "stream",
     "text": [
      "O número de vértices do grafo é : 225\n"
     ]
    }
   ],
   "source": [
    "n2 = g2.num_vertices()\n",
    "print('O número de vértices do grafo é :', n2)"
   ]
  },
  {
   "cell_type": "code",
   "execution_count": 51,
   "id": "779f62e4",
   "metadata": {
    "collapsed": true
   },
   "outputs": [
    {
     "data": {
      "text/html": [
       "<div>\n",
       "<style scoped>\n",
       "    .dataframe tbody tr th:only-of-type {\n",
       "        vertical-align: middle;\n",
       "    }\n",
       "\n",
       "    .dataframe tbody tr th {\n",
       "        vertical-align: top;\n",
       "    }\n",
       "\n",
       "    .dataframe thead th {\n",
       "        text-align: right;\n",
       "    }\n",
       "</style>\n",
       "<table border=\"1\" class=\"dataframe\">\n",
       "  <thead>\n",
       "    <tr style=\"text-align: right;\">\n",
       "      <th></th>\n",
       "      <th>destiny</th>\n",
       "      <th>origin</th>\n",
       "      <th>value</th>\n",
       "      <th>rejected</th>\n",
       "    </tr>\n",
       "  </thead>\n",
       "  <tbody>\n",
       "    <tr>\n",
       "      <th>49818</th>\n",
       "      <td>Albania</td>\n",
       "      <td>Afghanistan</td>\n",
       "      <td>0</td>\n",
       "      <td>0</td>\n",
       "    </tr>\n",
       "    <tr>\n",
       "      <th>49819</th>\n",
       "      <td>Australia</td>\n",
       "      <td>Afghanistan</td>\n",
       "      <td>1</td>\n",
       "      <td>1</td>\n",
       "    </tr>\n",
       "    <tr>\n",
       "      <th>49820</th>\n",
       "      <td>Australia</td>\n",
       "      <td>Afghanistan</td>\n",
       "      <td>33</td>\n",
       "      <td>3</td>\n",
       "    </tr>\n",
       "    <tr>\n",
       "      <th>49821</th>\n",
       "      <td>Austria</td>\n",
       "      <td>Afghanistan</td>\n",
       "      <td>486</td>\n",
       "      <td>217</td>\n",
       "    </tr>\n",
       "    <tr>\n",
       "      <th>49822</th>\n",
       "      <td>Azerbaijan</td>\n",
       "      <td>Afghanistan</td>\n",
       "      <td>0</td>\n",
       "      <td>14</td>\n",
       "    </tr>\n",
       "    <tr>\n",
       "      <th>...</th>\n",
       "      <td>...</td>\n",
       "      <td>...</td>\n",
       "      <td>...</td>\n",
       "      <td>...</td>\n",
       "    </tr>\n",
       "    <tr>\n",
       "      <th>88862</th>\n",
       "      <td>Switzerland</td>\n",
       "      <td>Zimbabwe</td>\n",
       "      <td>0</td>\n",
       "      <td>1</td>\n",
       "    </tr>\n",
       "    <tr>\n",
       "      <th>88863</th>\n",
       "      <td>Costa Rica</td>\n",
       "      <td>Zimbabwe</td>\n",
       "      <td>0</td>\n",
       "      <td>0</td>\n",
       "    </tr>\n",
       "    <tr>\n",
       "      <th>88864</th>\n",
       "      <td>Cyprus</td>\n",
       "      <td>Zimbabwe</td>\n",
       "      <td>0</td>\n",
       "      <td>2</td>\n",
       "    </tr>\n",
       "    <tr>\n",
       "      <th>88865</th>\n",
       "      <td>Cyprus</td>\n",
       "      <td>Zimbabwe</td>\n",
       "      <td>0</td>\n",
       "      <td>0</td>\n",
       "    </tr>\n",
       "    <tr>\n",
       "      <th>88866</th>\n",
       "      <td>Germany</td>\n",
       "      <td>Zimbabwe</td>\n",
       "      <td>0</td>\n",
       "      <td>6</td>\n",
       "    </tr>\n",
       "  </tbody>\n",
       "</table>\n",
       "<p>39013 rows × 4 columns</p>\n",
       "</div>"
      ],
      "text/plain": [
       "           destiny       origin  value  rejected\n",
       "49818      Albania  Afghanistan      0         0\n",
       "49819    Australia  Afghanistan      1         1\n",
       "49820    Australia  Afghanistan     33         3\n",
       "49821      Austria  Afghanistan    486       217\n",
       "49822   Azerbaijan  Afghanistan      0        14\n",
       "...            ...          ...    ...       ...\n",
       "88862  Switzerland     Zimbabwe      0         1\n",
       "88863   Costa Rica     Zimbabwe      0         0\n",
       "88864       Cyprus     Zimbabwe      0         2\n",
       "88865       Cyprus     Zimbabwe      0         0\n",
       "88866      Germany     Zimbabwe      0         6\n",
       "\n",
       "[39013 rows x 4 columns]"
      ]
     },
     "execution_count": 51,
     "metadata": {},
     "output_type": "execute_result"
    }
   ],
   "source": [
    "df_hip4_2008_2012 = df_hip4_2008_2012[df_hip4_2008_2012['origin'] != df_hip4_2008_2012['destiny']]\n",
    "df_hip4_2008_2012"
   ]
  },
  {
   "cell_type": "code",
   "execution_count": 52,
   "id": "9756373b",
   "metadata": {
    "collapsed": true
   },
   "outputs": [
    {
     "data": {
      "text/html": [
       "<div>\n",
       "<style scoped>\n",
       "    .dataframe tbody tr th:only-of-type {\n",
       "        vertical-align: middle;\n",
       "    }\n",
       "\n",
       "    .dataframe tbody tr th {\n",
       "        vertical-align: top;\n",
       "    }\n",
       "\n",
       "    .dataframe thead th {\n",
       "        text-align: right;\n",
       "    }\n",
       "</style>\n",
       "<table border=\"1\" class=\"dataframe\">\n",
       "  <thead>\n",
       "    <tr style=\"text-align: right;\">\n",
       "      <th></th>\n",
       "      <th>origin</th>\n",
       "      <th>destiny</th>\n",
       "      <th>value</th>\n",
       "      <th>rejected</th>\n",
       "    </tr>\n",
       "  </thead>\n",
       "  <tbody>\n",
       "    <tr>\n",
       "      <th>0</th>\n",
       "      <td>Afghanistan</td>\n",
       "      <td>Albania</td>\n",
       "      <td>0</td>\n",
       "      <td>0</td>\n",
       "    </tr>\n",
       "    <tr>\n",
       "      <th>1</th>\n",
       "      <td>Afghanistan</td>\n",
       "      <td>Algeria</td>\n",
       "      <td>2</td>\n",
       "      <td>0</td>\n",
       "    </tr>\n",
       "    <tr>\n",
       "      <th>2</th>\n",
       "      <td>Afghanistan</td>\n",
       "      <td>Argentina</td>\n",
       "      <td>1</td>\n",
       "      <td>0</td>\n",
       "    </tr>\n",
       "    <tr>\n",
       "      <th>3</th>\n",
       "      <td>Afghanistan</td>\n",
       "      <td>Armenia</td>\n",
       "      <td>0</td>\n",
       "      <td>0</td>\n",
       "    </tr>\n",
       "    <tr>\n",
       "      <th>4</th>\n",
       "      <td>Afghanistan</td>\n",
       "      <td>Australia</td>\n",
       "      <td>5990</td>\n",
       "      <td>1542</td>\n",
       "    </tr>\n",
       "    <tr>\n",
       "      <th>...</th>\n",
       "      <td>...</td>\n",
       "      <td>...</td>\n",
       "      <td>...</td>\n",
       "      <td>...</td>\n",
       "    </tr>\n",
       "    <tr>\n",
       "      <th>7940</th>\n",
       "      <td>Zimbabwe</td>\n",
       "      <td>Ukraine</td>\n",
       "      <td>2</td>\n",
       "      <td>4</td>\n",
       "    </tr>\n",
       "    <tr>\n",
       "      <th>7941</th>\n",
       "      <td>Zimbabwe</td>\n",
       "      <td>United Kingdom</td>\n",
       "      <td>6505</td>\n",
       "      <td>14829</td>\n",
       "    </tr>\n",
       "    <tr>\n",
       "      <th>7942</th>\n",
       "      <td>Zimbabwe</td>\n",
       "      <td>United States of America</td>\n",
       "      <td>643</td>\n",
       "      <td>344</td>\n",
       "    </tr>\n",
       "    <tr>\n",
       "      <th>7943</th>\n",
       "      <td>Zimbabwe</td>\n",
       "      <td>Uruguay</td>\n",
       "      <td>1</td>\n",
       "      <td>0</td>\n",
       "    </tr>\n",
       "    <tr>\n",
       "      <th>7944</th>\n",
       "      <td>Zimbabwe</td>\n",
       "      <td>Zambia</td>\n",
       "      <td>9</td>\n",
       "      <td>6</td>\n",
       "    </tr>\n",
       "  </tbody>\n",
       "</table>\n",
       "<p>7945 rows × 4 columns</p>\n",
       "</div>"
      ],
      "text/plain": [
       "           origin                   destiny  value  rejected\n",
       "0     Afghanistan                   Albania      0         0\n",
       "1     Afghanistan                   Algeria      2         0\n",
       "2     Afghanistan                 Argentina      1         0\n",
       "3     Afghanistan                   Armenia      0         0\n",
       "4     Afghanistan                 Australia   5990      1542\n",
       "...           ...                       ...    ...       ...\n",
       "7940     Zimbabwe                   Ukraine      2         4\n",
       "7941     Zimbabwe            United Kingdom   6505     14829\n",
       "7942     Zimbabwe  United States of America    643       344\n",
       "7943     Zimbabwe                   Uruguay      1         0\n",
       "7944     Zimbabwe                    Zambia      9         6\n",
       "\n",
       "[7945 rows x 4 columns]"
      ]
     },
     "execution_count": 52,
     "metadata": {},
     "output_type": "execute_result"
    }
   ],
   "source": [
    "df_hip4_2008_2012 = df_hip4_2008_2012.groupby(['origin', 'destiny']).sum().reset_index()\n",
    "df_hip4_2008_2012"
   ]
  },
  {
   "cell_type": "code",
   "execution_count": 53,
   "id": "c1a9b09b",
   "metadata": {},
   "outputs": [],
   "source": [
    "for index, row in df_hip4_2008_2012.iterrows():\n",
    "    g2.add_edge(row.origin, row.destiny)\n",
    "    g2.get_edge(row.origin, row.destiny)['aceitos'] = row.value"
   ]
  },
  {
   "cell_type": "code",
   "execution_count": 54,
   "id": "78d7fce9",
   "metadata": {},
   "outputs": [],
   "source": [
    "gt_save(g2, '/grafo_2008_2012.net.gz')"
   ]
  },
  {
   "cell_type": "code",
   "execution_count": 55,
   "id": "996c0b7f",
   "metadata": {},
   "outputs": [],
   "source": [
    "g2 = gt_load('/grafo_2008_2012.net.gz')"
   ]
  },
  {
   "cell_type": "code",
   "execution_count": 56,
   "id": "2d00d223",
   "metadata": {},
   "outputs": [],
   "source": [
    "g2 = gt_load('/grafo_2008_2012.net.gz')\n",
    "m = gt_draw.sfdp_layout(g2)\n",
    "gt_move(g2, m)\n",
    "gt_save(g2, 'grafo_2008_2012.net.gz')"
   ]
  },
  {
   "cell_type": "code",
   "execution_count": 66,
   "id": "4bc7d666",
   "metadata": {},
   "outputs": [],
   "source": [
    "r2 = netpixi.render('grafo_2008_2012.net.gz', infinite=True);"
   ]
  },
  {
   "cell_type": "code",
   "execution_count": 58,
   "id": "0b61750d",
   "metadata": {},
   "outputs": [
    {
     "data": {
      "text/html": [
       "\n",
       "        <div id=\"X39ZT4hiJ5K5SER3AuxnCL\"></div>\n",
       "        <script>netpixi.call('X39ZT4hiJ5K5SER3AuxnCL', '6VMTmVToxdviXDF2ESgBZ2', 'setGraph', 'eyJ0eXBlIjogInZlcnRleCIsICJwcm9wcyI6IHsic3JjIjogIm5vbWUiLCAiZHN0IjogIl9rZXkifX0K');</script>\n",
       "    "
      ],
      "text/plain": [
       "<IPython.core.display.HTML object>"
      ]
     },
     "metadata": {},
     "output_type": "display_data"
    },
    {
     "data": {
      "text/html": [
       "\n",
       "        <div id=\"CKoMSz5fKWuSBb58PwyucF\"></div>\n",
       "        <script>netpixi.call('CKoMSz5fKWuSBb58PwyucF', '6VMTmVToxdviXDF2ESgBZ2', 'changeGraph', 'eyJ0eXBlIjogInNldHRpbmdzIiwgInByb3BzIjogeyJ2ZXJ0ZXgiOiB7ImNvbG9yIjogMTY3NzcyMTV9fX0K');</script>\n",
       "    "
      ],
      "text/plain": [
       "<IPython.core.display.HTML object>"
      ]
     },
     "metadata": {},
     "output_type": "display_data"
    },
    {
     "data": {
      "text/html": [
       "\n",
       "        <div id=\"SV7aeshFAVxw6j48qBgXku\"></div>\n",
       "        <script>netpixi.call('SV7aeshFAVxw6j48qBgXku', '6VMTmVToxdviXDF2ESgBZ2', 'changeGraph', 'eyJ0eXBlIjogInNldHRpbmdzIiwgInByb3BzIjogeyJlZGdlIjogeyJjb2xvciI6IDIxNDI4OTB9fX0K');</script>\n",
       "    "
      ],
      "text/plain": [
       "<IPython.core.display.HTML object>"
      ]
     },
     "metadata": {},
     "output_type": "display_data"
    }
   ],
   "source": [
    "r2.vertex_set_key('nome')\n",
    "\n",
    "r2.vertex_default(color=0xffffff)\n",
    "\n",
    "# mudar a cor, a espessura e a curvatura das arestas\n",
    "r2.edge_default(color=0x20B2AA)"
   ]
  },
  {
   "cell_type": "code",
   "execution_count": 59,
   "id": "9ff52753",
   "metadata": {},
   "outputs": [
    {
     "data": {
      "text/html": [
       "\n",
       "        <div id=\"gpyhHsJZsWXaN9TRjZrj2A\"></div>\n",
       "        <script>netpixi.call('gpyhHsJZsWXaN9TRjZrj2A', '6VMTmVToxdviXDF2ESgBZ2', 'normalizeGraph', 'eyJ0eXBlIjogImVkZ2UiLCAicHJvcHMiOiB7InNyYyI6ICJhY2VpdG9zIiwgIm1pbiI6IDEsICJtYXgiOiAxMH19Cg==');</script>\n",
       "    "
      ],
      "text/plain": [
       "<IPython.core.display.HTML object>"
      ]
     },
     "metadata": {},
     "output_type": "display_data"
    }
   ],
   "source": [
    "r2.edge_scale('aceitos', 1, 10)"
   ]
  },
  {
   "cell_type": "code",
   "execution_count": 60,
   "id": "8931ad20",
   "metadata": {},
   "outputs": [],
   "source": [
    "g2 =  gt_load('/grafo_2008_2012.net.gz')"
   ]
  },
  {
   "cell_type": "code",
   "execution_count": 61,
   "id": "49400462",
   "metadata": {},
   "outputs": [],
   "source": [
    "m = gt_draw.sfdp_layout(g2)\n",
    "gt_move(g2, m)\n",
    "gt_save(g2, 'centralidadeCoreness20082012.net.gz')"
   ]
  },
  {
   "cell_type": "code",
   "execution_count": 84,
   "id": "bc84ac73",
   "metadata": {},
   "outputs": [],
   "source": [
    "r2 = netpixi.render('centralidadeCoreness20082012.net.gz')"
   ]
  },
  {
   "cell_type": "code",
   "execution_count": 71,
   "id": "0c6c6938",
   "metadata": {},
   "outputs": [
    {
     "data": {
      "text/html": [
       "\n",
       "        <div id=\"YLrDstaczzG9pNmH3xDmBu\"></div>\n",
       "        <script>netpixi.call('YLrDstaczzG9pNmH3xDmBu', '843XDrSYxe3N5sMPEjkbP8', 'changeGraph', 'eyJpZCI6ICJVemJla2lzdGFuIiwgInR5cGUiOiAidmVydGV4IiwgInByb3BzIjogeyJjb2xvciI6IDY1MjgwfX0K');</script>\n",
       "    "
      ],
      "text/plain": [
       "<IPython.core.display.HTML object>"
      ]
     },
     "metadata": {},
     "output_type": "display_data"
    },
    {
     "data": {
      "text/html": [
       "\n",
       "        <div id=\"Zf7biTByLXmD9WWsKCrQT7\"></div>\n",
       "        <script>netpixi.call('Zf7biTByLXmD9WWsKCrQT7', '843XDrSYxe3N5sMPEjkbP8', 'changeGraph', 'eyJpZCI6ICJCYWhyYWluIiwgInR5cGUiOiAidmVydGV4IiwgInByb3BzIjogeyJjb2xvciI6IDY1MjgwfX0K');</script>\n",
       "    "
      ],
      "text/plain": [
       "<IPython.core.display.HTML object>"
      ]
     },
     "metadata": {},
     "output_type": "display_data"
    },
    {
     "data": {
      "text/html": [
       "\n",
       "        <div id=\"2HpGxCCm9CnJUAUfGsT9PM\"></div>\n",
       "        <script>netpixi.call('2HpGxCCm9CnJUAUfGsT9PM', '843XDrSYxe3N5sMPEjkbP8', 'changeGraph', 'eyJpZCI6ICJMdXhlbWJvdXJnIiwgInR5cGUiOiAidmVydGV4IiwgInByb3BzIjogeyJjb2xvciI6IDE2NzExNjgwfX0K');</script>\n",
       "    "
      ],
      "text/plain": [
       "<IPython.core.display.HTML object>"
      ]
     },
     "metadata": {},
     "output_type": "display_data"
    },
    {
     "data": {
      "text/html": [
       "\n",
       "        <div id=\"4TGgQhVGgRPScxYUCC5DwQ\"></div>\n",
       "        <script>netpixi.call('4TGgQhVGgRPScxYUCC5DwQ', '843XDrSYxe3N5sMPEjkbP8', 'changeGraph', 'eyJpZCI6ICJTb21hbGlhIiwgInR5cGUiOiAidmVydGV4IiwgInByb3BzIjogeyJjb2xvciI6IDY1MjgwfX0K');</script>\n",
       "    "
      ],
      "text/plain": [
       "<IPython.core.display.HTML object>"
      ]
     },
     "metadata": {},
     "output_type": "display_data"
    },
    {
     "data": {
      "text/html": [
       "\n",
       "        <div id=\"AU9nwfgeoBVukR8J9KXxwX\"></div>\n",
       "        <script>netpixi.call('AU9nwfgeoBVukR8J9KXxwX', '843XDrSYxe3N5sMPEjkbP8', 'changeGraph', 'eyJpZCI6ICJNZXhpY28iLCAidHlwZSI6ICJ2ZXJ0ZXgiLCAicHJvcHMiOiB7ImNvbG9yIjogMTY3MTE2ODB9fQo=');</script>\n",
       "    "
      ],
      "text/plain": [
       "<IPython.core.display.HTML object>"
      ]
     },
     "metadata": {},
     "output_type": "display_data"
    },
    {
     "data": {
      "text/html": [
       "\n",
       "        <div id=\"TQxGRNgyv4GWAGijiqndgL\"></div>\n",
       "        <script>netpixi.call('TQxGRNgyv4GWAGijiqndgL', '843XDrSYxe3N5sMPEjkbP8', 'changeGraph', 'eyJpZCI6ICJUaGFpbGFuZCIsICJ0eXBlIjogInZlcnRleCIsICJwcm9wcyI6IHsiY29sb3IiOiAxNjcxMTY4MH19Cg==');</script>\n",
       "    "
      ],
      "text/plain": [
       "<IPython.core.display.HTML object>"
      ]
     },
     "metadata": {},
     "output_type": "display_data"
    },
    {
     "data": {
      "text/html": [
       "\n",
       "        <div id=\"Amk2QBpV3Mp6d8oTWLVHzY\"></div>\n",
       "        <script>netpixi.call('Amk2QBpV3Mp6d8oTWLVHzY', '843XDrSYxe3N5sMPEjkbP8', 'changeGraph', 'eyJpZCI6ICJIb25kdXJhcyIsICJ0eXBlIjogInZlcnRleCIsICJwcm9wcyI6IHsiY29sb3IiOiA2NTI4MH19Cg==');</script>\n",
       "    "
      ],
      "text/plain": [
       "<IPython.core.display.HTML object>"
      ]
     },
     "metadata": {},
     "output_type": "display_data"
    },
    {
     "data": {
      "text/html": [
       "\n",
       "        <div id=\"FCywD7RXT87JVDUgqiFpwH\"></div>\n",
       "        <script>netpixi.call('FCywD7RXT87JVDUgqiFpwH', '843XDrSYxe3N5sMPEjkbP8', 'changeGraph', 'eyJpZCI6ICJTaWVycmEgTGVvbmUiLCAidHlwZSI6ICJ2ZXJ0ZXgiLCAicHJvcHMiOiB7ImNvbG9yIjogNjUyODB9fQo=');</script>\n",
       "    "
      ],
      "text/plain": [
       "<IPython.core.display.HTML object>"
      ]
     },
     "metadata": {},
     "output_type": "display_data"
    },
    {
     "data": {
      "text/html": [
       "\n",
       "        <div id=\"Bmcp8D7HpvTZyL8UwBBDCy\"></div>\n",
       "        <script>netpixi.call('Bmcp8D7HpvTZyL8UwBBDCy', '843XDrSYxe3N5sMPEjkbP8', 'changeGraph', 'eyJpZCI6ICJDYXltYW4gSXNsYW5kcyIsICJ0eXBlIjogInZlcnRleCIsICJwcm9wcyI6IHsiY29sb3IiOiA2NTI4MH19Cg==');</script>\n",
       "    "
      ],
      "text/plain": [
       "<IPython.core.display.HTML object>"
      ]
     },
     "metadata": {},
     "output_type": "display_data"
    },
    {
     "data": {
      "text/html": [
       "\n",
       "        <div id=\"QTxxCTfEcUndjjJdTSotUS\"></div>\n",
       "        <script>netpixi.call('QTxxCTfEcUndjjJdTSotUS', '843XDrSYxe3N5sMPEjkbP8', 'changeGraph', 'eyJpZCI6ICJQYW5hbWEiLCAidHlwZSI6ICJ2ZXJ0ZXgiLCAicHJvcHMiOiB7ImNvbG9yIjogMTY3MTE2ODB9fQo=');</script>\n",
       "    "
      ],
      "text/plain": [
       "<IPython.core.display.HTML object>"
      ]
     },
     "metadata": {},
     "output_type": "display_data"
    },
    {
     "data": {
      "text/html": [
       "\n",
       "        <div id=\"Z827mqHuTCKgpWqCKwvgEo\"></div>\n",
       "        <script>netpixi.call('Z827mqHuTCKgpWqCKwvgEo', '843XDrSYxe3N5sMPEjkbP8', 'changeGraph', 'eyJpZCI6ICJDb25nbyIsICJ0eXBlIjogInZlcnRleCIsICJwcm9wcyI6IHsiY29sb3IiOiAxNjcxMTY4MH19Cg==');</script>\n",
       "    "
      ],
      "text/plain": [
       "<IPython.core.display.HTML object>"
      ]
     },
     "metadata": {},
     "output_type": "display_data"
    },
    {
     "data": {
      "text/html": [
       "\n",
       "        <div id=\"6zKYuQDQAJnqcH4pVAk84Z\"></div>\n",
       "        <script>netpixi.call('6zKYuQDQAJnqcH4pVAk84Z', '843XDrSYxe3N5sMPEjkbP8', 'changeGraph', 'eyJpZCI6ICJDdWJhIiwgInR5cGUiOiAidmVydGV4IiwgInByb3BzIjogeyJjb2xvciI6IDY1MjgwfX0K');</script>\n",
       "    "
      ],
      "text/plain": [
       "<IPython.core.display.HTML object>"
      ]
     },
     "metadata": {},
     "output_type": "display_data"
    },
    {
     "data": {
      "text/html": [
       "\n",
       "        <div id=\"ZhPrf2YpnyQPbiaYZ5DBLT\"></div>\n",
       "        <script>netpixi.call('ZhPrf2YpnyQPbiaYZ5DBLT', '843XDrSYxe3N5sMPEjkbP8', 'changeGraph', 'eyJpZCI6ICJCb2xpdmlhIChQbHVyaW5hdGlvbmFsIFN0YXRlIG9mKSIsICJ0eXBlIjogInZlcnRleCIsICJwcm9wcyI6IHsiY29sb3IiOiA2NTI4MH19Cg==');</script>\n",
       "    "
      ],
      "text/plain": [
       "<IPython.core.display.HTML object>"
      ]
     },
     "metadata": {},
     "output_type": "display_data"
    },
    {
     "data": {
      "text/html": [
       "\n",
       "        <div id=\"ciDyqBzw4KFzC48rr4jKQy\"></div>\n",
       "        <script>netpixi.call('ciDyqBzw4KFzC48rr4jKQy', '843XDrSYxe3N5sMPEjkbP8', 'changeGraph', 'eyJpZCI6ICJDYW1lcm9vbiIsICJ0eXBlIjogInZlcnRleCIsICJwcm9wcyI6IHsiY29sb3IiOiAxNjcxMTY4MH19Cg==');</script>\n",
       "    "
      ],
      "text/plain": [
       "<IPython.core.display.HTML object>"
      ]
     },
     "metadata": {},
     "output_type": "display_data"
    },
    {
     "data": {
      "text/html": [
       "\n",
       "        <div id=\"EygqtyxJxSDf4rsQm82odg\"></div>\n",
       "        <script>netpixi.call('EygqtyxJxSDf4rsQm82odg', '843XDrSYxe3N5sMPEjkbP8', 'changeGraph', 'eyJpZCI6ICJTd2VkZW4iLCAidHlwZSI6ICJ2ZXJ0ZXgiLCAicHJvcHMiOiB7ImNvbG9yIjogMTY3MTE2ODB9fQo=');</script>\n",
       "    "
      ],
      "text/plain": [
       "<IPython.core.display.HTML object>"
      ]
     },
     "metadata": {},
     "output_type": "display_data"
    },
    {
     "data": {
      "text/html": [
       "\n",
       "        <div id=\"E99zqKJBzsRziQZ9beoMjf\"></div>\n",
       "        <script>netpixi.call('E99zqKJBzsRziQZ9beoMjf', '843XDrSYxe3N5sMPEjkbP8', 'changeGraph', 'eyJpZCI6ICJHdWluZWEtQmlzc2F1IiwgInR5cGUiOiAidmVydGV4IiwgInByb3BzIjogeyJjb2xvciI6IDY1MjgwfX0K');</script>\n",
       "    "
      ],
      "text/plain": [
       "<IPython.core.display.HTML object>"
      ]
     },
     "metadata": {},
     "output_type": "display_data"
    },
    {
     "data": {
      "text/html": [
       "\n",
       "        <div id=\"V5U72zoJ5NbFaW4qKynyCf\"></div>\n",
       "        <script>netpixi.call('V5U72zoJ5NbFaW4qKynyCf', '843XDrSYxe3N5sMPEjkbP8', 'changeGraph', 'eyJpZCI6ICJVa3JhaW5lIiwgInR5cGUiOiAidmVydGV4IiwgInByb3BzIjogeyJjb2xvciI6IDE2NzExNjgwfX0K');</script>\n",
       "    "
      ],
      "text/plain": [
       "<IPython.core.display.HTML object>"
      ]
     },
     "metadata": {},
     "output_type": "display_data"
    },
    {
     "data": {
      "text/html": [
       "\n",
       "        <div id=\"4rAazGC3cJ7dYvgc3AR2os\"></div>\n",
       "        <script>netpixi.call('4rAazGC3cJ7dYvgc3AR2os', '843XDrSYxe3N5sMPEjkbP8', 'changeGraph', 'eyJpZCI6ICJCdXJraW5hIEZhc28iLCAidHlwZSI6ICJ2ZXJ0ZXgiLCAicHJvcHMiOiB7ImNvbG9yIjogNjUyODB9fQo=');</script>\n",
       "    "
      ],
      "text/plain": [
       "<IPython.core.display.HTML object>"
      ]
     },
     "metadata": {},
     "output_type": "display_data"
    },
    {
     "data": {
      "text/html": [
       "\n",
       "        <div id=\"9zPAmHRR7ZFjmkPyyaVvuV\"></div>\n",
       "        <script>netpixi.call('9zPAmHRR7ZFjmkPyyaVvuV', '843XDrSYxe3N5sMPEjkbP8', 'changeGraph', 'eyJpZCI6ICJJc3JhZWwiLCAidHlwZSI6ICJ2ZXJ0ZXgiLCAicHJvcHMiOiB7ImNvbG9yIjogMTY3MTE2ODB9fQo=');</script>\n",
       "    "
      ],
      "text/plain": [
       "<IPython.core.display.HTML object>"
      ]
     },
     "metadata": {},
     "output_type": "display_data"
    },
    {
     "data": {
      "text/html": [
       "\n",
       "        <div id=\"7XAxoqWQUNEw5YizbDkoKf\"></div>\n",
       "        <script>netpixi.call('7XAxoqWQUNEw5YizbDkoKf', '843XDrSYxe3N5sMPEjkbP8', 'changeGraph', 'eyJpZCI6ICJHdXlhbmEiLCAidHlwZSI6ICJ2ZXJ0ZXgiLCAicHJvcHMiOiB7ImNvbG9yIjogNjUyODB9fQo=');</script>\n",
       "    "
      ],
      "text/plain": [
       "<IPython.core.display.HTML object>"
      ]
     },
     "metadata": {},
     "output_type": "display_data"
    },
    {
     "data": {
      "text/html": [
       "\n",
       "        <div id=\"4qYzVzsvwScLbvghJLafHd\"></div>\n",
       "        <script>netpixi.call('4qYzVzsvwScLbvghJLafHd', '843XDrSYxe3N5sMPEjkbP8', 'changeGraph', 'eyJpZCI6ICJCYWhhbWFzIiwgInR5cGUiOiAidmVydGV4IiwgInByb3BzIjogeyJjb2xvciI6IDY1MjgwfX0K');</script>\n",
       "    "
      ],
      "text/plain": [
       "<IPython.core.display.HTML object>"
      ]
     },
     "metadata": {},
     "output_type": "display_data"
    },
    {
     "data": {
      "text/html": [
       "\n",
       "        <div id=\"5wTiAfUiVEcuvbCEqUVcMT\"></div>\n",
       "        <script>netpixi.call('5wTiAfUiVEcuvbCEqUVcMT', '843XDrSYxe3N5sMPEjkbP8', 'changeGraph', 'eyJpZCI6ICJDaGluYSwgSG9uZyBLb25nIFNBUiIsICJ0eXBlIjogInZlcnRleCIsICJwcm9wcyI6IHsiY29sb3IiOiAxNjcxMTY4MH19Cg==');</script>\n",
       "    "
      ],
      "text/plain": [
       "<IPython.core.display.HTML object>"
      ]
     },
     "metadata": {},
     "output_type": "display_data"
    },
    {
     "data": {
      "text/html": [
       "\n",
       "        <div id=\"6sBuJy47WYKBy2FHCCg6DK\"></div>\n",
       "        <script>netpixi.call('6sBuJy47WYKBy2FHCCg6DK', '843XDrSYxe3N5sMPEjkbP8', 'changeGraph', 'eyJpZCI6ICJNb3phbWJpcXVlIiwgInR5cGUiOiAidmVydGV4IiwgInByb3BzIjogeyJjb2xvciI6IDY1MjgwfX0K');</script>\n",
       "    "
      ],
      "text/plain": [
       "<IPython.core.display.HTML object>"
      ]
     },
     "metadata": {},
     "output_type": "display_data"
    },
    {
     "data": {
      "text/html": [
       "\n",
       "        <div id=\"UJH6BmxDW26rrdcbtedWQK\"></div>\n",
       "        <script>netpixi.call('UJH6BmxDW26rrdcbtedWQK', '843XDrSYxe3N5sMPEjkbP8', 'changeGraph', 'eyJpZCI6ICJTYW8gVG9tZSBhbmQgUHJpbmNpcGUiLCAidHlwZSI6ICJ2ZXJ0ZXgiLCAicHJvcHMiOiB7ImNvbG9yIjogNjUyODB9fQo=');</script>\n",
       "    "
      ],
      "text/plain": [
       "<IPython.core.display.HTML object>"
      ]
     },
     "metadata": {},
     "output_type": "display_data"
    },
    {
     "data": {
      "text/html": [
       "\n",
       "        <div id=\"idxn6tnPTdknRoAupQYRAk\"></div>\n",
       "        <script>netpixi.call('idxn6tnPTdknRoAupQYRAk', '843XDrSYxe3N5sMPEjkbP8', 'changeGraph', 'eyJpZCI6ICJQdWVydG8gUmljbyIsICJ0eXBlIjogInZlcnRleCIsICJwcm9wcyI6IHsiY29sb3IiOiA2NTI4MH19Cg==');</script>\n",
       "    "
      ],
      "text/plain": [
       "<IPython.core.display.HTML object>"
      ]
     },
     "metadata": {},
     "output_type": "display_data"
    },
    {
     "data": {
      "text/html": [
       "\n",
       "        <div id=\"TEc9zgnpuf8KfaXYn7FsmL\"></div>\n",
       "        <script>netpixi.call('TEc9zgnpuf8KfaXYn7FsmL', '843XDrSYxe3N5sMPEjkbP8', 'changeGraph', 'eyJpZCI6ICJFbCBTYWx2YWRvciIsICJ0eXBlIjogInZlcnRleCIsICJwcm9wcyI6IHsiY29sb3IiOiA2NTI4MH19Cg==');</script>\n",
       "    "
      ],
      "text/plain": [
       "<IPython.core.display.HTML object>"
      ]
     },
     "metadata": {},
     "output_type": "display_data"
    },
    {
     "data": {
      "text/html": [
       "\n",
       "        <div id=\"8feWN3UE7ySCEMymLTWkpr\"></div>\n",
       "        <script>netpixi.call('8feWN3UE7ySCEMymLTWkpr', '843XDrSYxe3N5sMPEjkbP8', 'changeGraph', 'eyJpZCI6ICJWYXJpb3VzL1Vua25vd24iLCAidHlwZSI6ICJ2ZXJ0ZXgiLCAicHJvcHMiOiB7ImNvbG9yIjogNjUyODB9fQo=');</script>\n",
       "    "
      ],
      "text/plain": [
       "<IPython.core.display.HTML object>"
      ]
     },
     "metadata": {},
     "output_type": "display_data"
    },
    {
     "data": {
      "text/html": [
       "\n",
       "        <div id=\"BJFp8yktWy9wXDHb3ej4yc\"></div>\n",
       "        <script>netpixi.call('BJFp8yktWy9wXDHb3ej4yc', '843XDrSYxe3N5sMPEjkbP8', 'changeGraph', 'eyJpZCI6ICJDaGluYSwgTWFjYW8gU0FSIiwgInR5cGUiOiAidmVydGV4IiwgInByb3BzIjogeyJjb2xvciI6IDY1MjgwfX0K');</script>\n",
       "    "
      ],
      "text/plain": [
       "<IPython.core.display.HTML object>"
      ]
     },
     "metadata": {},
     "output_type": "display_data"
    },
    {
     "data": {
      "text/html": [
       "\n",
       "        <div id=\"V2aF8wBJypmu76LzGczv7G\"></div>\n",
       "        <script>netpixi.call('V2aF8wBJypmu76LzGczv7G', '843XDrSYxe3N5sMPEjkbP8', 'changeGraph', 'eyJpZCI6ICJEZW0uIFBlb3BsZSdzIFJlcC4gb2YgS29yZWEiLCAidHlwZSI6ICJ2ZXJ0ZXgiLCAicHJvcHMiOiB7ImNvbG9yIjogNjUyODB9fQo=');</script>\n",
       "    "
      ],
      "text/plain": [
       "<IPython.core.display.HTML object>"
      ]
     },
     "metadata": {},
     "output_type": "display_data"
    },
    {
     "data": {
      "text/html": [
       "\n",
       "        <div id=\"XQiBxSQsDnj2EJES4UHZsg\"></div>\n",
       "        <script>netpixi.call('XQiBxSQsDnj2EJES4UHZsg', '843XDrSYxe3N5sMPEjkbP8', 'changeGraph', 'eyJpZCI6ICJEZW5tYXJrIiwgInR5cGUiOiAidmVydGV4IiwgInByb3BzIjogeyJjb2xvciI6IDE2NzExNjgwfX0K');</script>\n",
       "    "
      ],
      "text/plain": [
       "<IPython.core.display.HTML object>"
      ]
     },
     "metadata": {},
     "output_type": "display_data"
    },
    {
     "data": {
      "text/html": [
       "\n",
       "        <div id=\"HNKpu2Abw7faire3T8wdwr\"></div>\n",
       "        <script>netpixi.call('HNKpu2Abw7faire3T8wdwr', '843XDrSYxe3N5sMPEjkbP8', 'changeGraph', 'eyJpZCI6ICJTYW4gTWFyaW5vIiwgInR5cGUiOiAidmVydGV4IiwgInByb3BzIjogeyJjb2xvciI6IDY1MjgwfX0K');</script>\n",
       "    "
      ],
      "text/plain": [
       "<IPython.core.display.HTML object>"
      ]
     },
     "metadata": {},
     "output_type": "display_data"
    },
    {
     "data": {
      "text/html": [
       "\n",
       "        <div id=\"jzM2EZUrpa5RVhCwaMCfDT\"></div>\n",
       "        <script>netpixi.call('jzM2EZUrpa5RVhCwaMCfDT', '843XDrSYxe3N5sMPEjkbP8', 'changeGraph', 'eyJpZCI6ICJDZW50cmFsIEFmcmljYW4gUmVwLiIsICJ0eXBlIjogInZlcnRleCIsICJwcm9wcyI6IHsiY29sb3IiOiA2NTI4MH19Cg==');</script>\n",
       "    "
      ],
      "text/plain": [
       "<IPython.core.display.HTML object>"
      ]
     },
     "metadata": {},
     "output_type": "display_data"
    },
    {
     "data": {
      "text/html": [
       "\n",
       "        <div id=\"XsFuQe4ebHdrUsYUqxgs9x\"></div>\n",
       "        <script>netpixi.call('XsFuQe4ebHdrUsYUqxgs9x', '843XDrSYxe3N5sMPEjkbP8', 'changeGraph', 'eyJpZCI6ICJJbmRvbmVzaWEiLCAidHlwZSI6ICJ2ZXJ0ZXgiLCAicHJvcHMiOiB7ImNvbG9yIjogMTY3MTE2ODB9fQo=');</script>\n",
       "    "
      ],
      "text/plain": [
       "<IPython.core.display.HTML object>"
      ]
     },
     "metadata": {},
     "output_type": "display_data"
    },
    {
     "data": {
      "text/html": [
       "\n",
       "        <div id=\"8BkDxXRPkTmxnJJe5Qsi29\"></div>\n",
       "        <script>netpixi.call('8BkDxXRPkTmxnJJe5Qsi29', '843XDrSYxe3N5sMPEjkbP8', 'changeGraph', 'eyJpZCI6ICJTd2l0emVybGFuZCIsICJ0eXBlIjogInZlcnRleCIsICJwcm9wcyI6IHsiY29sb3IiOiAxNjcxMTY4MH19Cg==');</script>\n",
       "    "
      ],
      "text/plain": [
       "<IPython.core.display.HTML object>"
      ]
     },
     "metadata": {},
     "output_type": "display_data"
    },
    {
     "data": {
      "text/html": [
       "\n",
       "        <div id=\"QT8sTPUpKViqzXvWLZesSx\"></div>\n",
       "        <script>netpixi.call('QT8sTPUpKViqzXvWLZesSx', '843XDrSYxe3N5sMPEjkbP8', 'changeGraph', 'eyJpZCI6ICJVbml0ZWQgS2luZ2RvbSIsICJ0eXBlIjogInZlcnRleCIsICJwcm9wcyI6IHsiY29sb3IiOiAxNjcxMTY4MH19Cg==');</script>\n",
       "    "
      ],
      "text/plain": [
       "<IPython.core.display.HTML object>"
      ]
     },
     "metadata": {},
     "output_type": "display_data"
    },
    {
     "data": {
      "text/html": [
       "\n",
       "        <div id=\"U575ZANLV5jjxStpSxigVL\"></div>\n",
       "        <script>netpixi.call('U575ZANLV5jjxStpSxigVL', '843XDrSYxe3N5sMPEjkbP8', 'changeGraph', 'eyJpZCI6ICJDdXJhXHUwMGU3YW8iLCAidHlwZSI6ICJ2ZXJ0ZXgiLCAicHJvcHMiOiB7ImNvbG9yIjogNjUyODB9fQo=');</script>\n",
       "    "
      ],
      "text/plain": [
       "<IPython.core.display.HTML object>"
      ]
     },
     "metadata": {},
     "output_type": "display_data"
    },
    {
     "data": {
      "text/html": [
       "\n",
       "        <div id=\"i9TUoHJFVFxracFZwJVYLp\"></div>\n",
       "        <script>netpixi.call('i9TUoHJFVFxracFZwJVYLp', '843XDrSYxe3N5sMPEjkbP8', 'changeGraph', 'eyJpZCI6ICJDaGFkIiwgInR5cGUiOiAidmVydGV4IiwgInByb3BzIjogeyJjb2xvciI6IDY1MjgwfX0K');</script>\n",
       "    "
      ],
      "text/plain": [
       "<IPython.core.display.HTML object>"
      ]
     },
     "metadata": {},
     "output_type": "display_data"
    },
    {
     "data": {
      "text/html": [
       "\n",
       "        <div id=\"cnoD8Lik9882Nd5Jk9Y8J3\"></div>\n",
       "        <script>netpixi.call('cnoD8Lik9882Nd5Jk9Y8J3', '843XDrSYxe3N5sMPEjkbP8', 'changeGraph', 'eyJpZCI6ICJTZXljaGVsbGVzIiwgInR5cGUiOiAidmVydGV4IiwgInByb3BzIjogeyJjb2xvciI6IDY1MjgwfX0K');</script>\n",
       "    "
      ],
      "text/plain": [
       "<IPython.core.display.HTML object>"
      ]
     },
     "metadata": {},
     "output_type": "display_data"
    },
    {
     "data": {
      "text/html": [
       "\n",
       "        <div id=\"8dAFdU6GMYuTauaDJuP9Gf\"></div>\n",
       "        <script>netpixi.call('8dAFdU6GMYuTauaDJuP9Gf', '843XDrSYxe3N5sMPEjkbP8', 'changeGraph', 'eyJpZCI6ICJCYXJiYWRvcyIsICJ0eXBlIjogInZlcnRleCIsICJwcm9wcyI6IHsiY29sb3IiOiA2NTI4MH19Cg==');</script>\n",
       "    "
      ],
      "text/plain": [
       "<IPython.core.display.HTML object>"
      ]
     },
     "metadata": {},
     "output_type": "display_data"
    },
    {
     "data": {
      "text/html": [
       "\n",
       "        <div id=\"S5aEQyXd8DS84JzQph3aUM\"></div>\n",
       "        <script>netpixi.call('S5aEQyXd8DS84JzQph3aUM', '843XDrSYxe3N5sMPEjkbP8', 'changeGraph', 'eyJpZCI6ICJBbnRpZ3VhIGFuZCBCYXJidWRhIiwgInR5cGUiOiAidmVydGV4IiwgInByb3BzIjogeyJjb2xvciI6IDY1MjgwfX0K');</script>\n",
       "    "
      ],
      "text/plain": [
       "<IPython.core.display.HTML object>"
      ]
     },
     "metadata": {},
     "output_type": "display_data"
    },
    {
     "data": {
      "text/html": [
       "\n",
       "        <div id=\"NCb8enZhFZj7hUi4prw2gk\"></div>\n",
       "        <script>netpixi.call('NCb8enZhFZj7hUi4prw2gk', '843XDrSYxe3N5sMPEjkbP8', 'changeGraph', 'eyJpZCI6ICJUYWppa2lzdGFuIiwgInR5cGUiOiAidmVydGV4IiwgInByb3BzIjogeyJjb2xvciI6IDY1MjgwfX0K');</script>\n",
       "    "
      ],
      "text/plain": [
       "<IPython.core.display.HTML object>"
      ]
     },
     "metadata": {},
     "output_type": "display_data"
    },
    {
     "data": {
      "text/html": [
       "\n",
       "        <div id=\"EkjHCjwrhAGemJgGyzp2Ji\"></div>\n",
       "        <script>netpixi.call('EkjHCjwrhAGemJgGyzp2Ji', '843XDrSYxe3N5sMPEjkbP8', 'changeGraph', 'eyJpZCI6ICJCdWxnYXJpYSIsICJ0eXBlIjogInZlcnRleCIsICJwcm9wcyI6IHsiY29sb3IiOiAxNjcxMTY4MH19Cg==');</script>\n",
       "    "
      ],
      "text/plain": [
       "<IPython.core.display.HTML object>"
      ]
     },
     "metadata": {},
     "output_type": "display_data"
    },
    {
     "data": {
      "text/html": [
       "\n",
       "        <div id=\"HpgKMhBnaUoXsRuR6qg2E7\"></div>\n",
       "        <script>netpixi.call('HpgKMhBnaUoXsRuR6qg2E7', '843XDrSYxe3N5sMPEjkbP8', 'changeGraph', 'eyJpZCI6ICJBdXN0cmlhIiwgInR5cGUiOiAidmVydGV4IiwgInByb3BzIjogeyJjb2xvciI6IDE2NzExNjgwfX0K');</script>\n",
       "    "
      ],
      "text/plain": [
       "<IPython.core.display.HTML object>"
      ]
     },
     "metadata": {},
     "output_type": "display_data"
    },
    {
     "data": {
      "text/html": [
       "\n",
       "        <div id=\"f857rVnRh6LC9kHno2AjTZ\"></div>\n",
       "        <script>netpixi.call('f857rVnRh6LC9kHno2AjTZ', '843XDrSYxe3N5sMPEjkbP8', 'changeGraph', 'eyJpZCI6ICJWaWV0IE5hbSIsICJ0eXBlIjogInZlcnRleCIsICJwcm9wcyI6IHsiY29sb3IiOiA2NTI4MH19Cg==');</script>\n",
       "    "
      ],
      "text/plain": [
       "<IPython.core.display.HTML object>"
      ]
     },
     "metadata": {},
     "output_type": "display_data"
    },
    {
     "data": {
      "text/html": [
       "\n",
       "        <div id=\"SKbXeX4ZrrAVwoFRenBF9g\"></div>\n",
       "        <script>netpixi.call('SKbXeX4ZrrAVwoFRenBF9g', '843XDrSYxe3N5sMPEjkbP8', 'changeGraph', 'eyJpZCI6ICJHcmVlY2UiLCAidHlwZSI6ICJ2ZXJ0ZXgiLCAicHJvcHMiOiB7ImNvbG9yIjogMTY3MTE2ODB9fQo=');</script>\n",
       "    "
      ],
      "text/plain": [
       "<IPython.core.display.HTML object>"
      ]
     },
     "metadata": {},
     "output_type": "display_data"
    },
    {
     "data": {
      "text/html": [
       "\n",
       "        <div id=\"ZKmgkhXYVCXfQSr2FSJyoq\"></div>\n",
       "        <script>netpixi.call('ZKmgkhXYVCXfQSr2FSJyoq', '843XDrSYxe3N5sMPEjkbP8', 'changeGraph', 'eyJpZCI6ICJBbmdvbGEiLCAidHlwZSI6ICJ2ZXJ0ZXgiLCAicHJvcHMiOiB7ImNvbG9yIjogMTY3MTE2ODB9fQo=');</script>\n",
       "    "
      ],
      "text/plain": [
       "<IPython.core.display.HTML object>"
      ]
     },
     "metadata": {},
     "output_type": "display_data"
    },
    {
     "data": {
      "text/html": [
       "\n",
       "        <div id=\"8LSEU8Htt5TytVnduZNqwg\"></div>\n",
       "        <script>netpixi.call('8LSEU8Htt5TytVnduZNqwg', '843XDrSYxe3N5sMPEjkbP8', 'changeGraph', 'eyJpZCI6ICJNb3JvY2NvIiwgInR5cGUiOiAidmVydGV4IiwgInByb3BzIjogeyJjb2xvciI6IDE2NzExNjgwfX0K');</script>\n",
       "    "
      ],
      "text/plain": [
       "<IPython.core.display.HTML object>"
      ]
     },
     "metadata": {},
     "output_type": "display_data"
    },
    {
     "data": {
      "text/html": [
       "\n",
       "        <div id=\"BwRwYND8uYgLiW4gLxVGTk\"></div>\n",
       "        <script>netpixi.call('BwRwYND8uYgLiW4gLxVGTk', '843XDrSYxe3N5sMPEjkbP8', 'changeGraph', 'eyJpZCI6ICJFZ3lwdCIsICJ0eXBlIjogInZlcnRleCIsICJwcm9wcyI6IHsiY29sb3IiOiAxNjcxMTY4MH19Cg==');</script>\n",
       "    "
      ],
      "text/plain": [
       "<IPython.core.display.HTML object>"
      ]
     },
     "metadata": {},
     "output_type": "display_data"
    },
    {
     "data": {
      "text/html": [
       "\n",
       "        <div id=\"PrY6EeZq29anb66VwDzWQK\"></div>\n",
       "        <script>netpixi.call('PrY6EeZq29anb66VwDzWQK', '843XDrSYxe3N5sMPEjkbP8', 'changeGraph', 'eyJpZCI6ICJVbml0ZWQgU3RhdGVzIG9mIEFtZXJpY2EiLCAidHlwZSI6ICJ2ZXJ0ZXgiLCAicHJvcHMiOiB7ImNvbG9yIjogMTY3MTE2ODB9fQo=');</script>\n",
       "    "
      ],
      "text/plain": [
       "<IPython.core.display.HTML object>"
      ]
     },
     "metadata": {},
     "output_type": "display_data"
    },
    {
     "data": {
      "text/html": [
       "\n",
       "        <div id=\"jmXbuLhC7zQgp9esr7496o\"></div>\n",
       "        <script>netpixi.call('jmXbuLhC7zQgp9esr7496o', '843XDrSYxe3N5sMPEjkbP8', 'changeGraph', 'eyJpZCI6ICJCcmF6aWwiLCAidHlwZSI6ICJ2ZXJ0ZXgiLCAicHJvcHMiOiB7ImNvbG9yIjogMTY3MTE2ODB9fQo=');</script>\n",
       "    "
      ],
      "text/plain": [
       "<IPython.core.display.HTML object>"
      ]
     },
     "metadata": {},
     "output_type": "display_data"
    },
    {
     "data": {
      "text/html": [
       "\n",
       "        <div id=\"5ZVrGVzWn7g8xrf9Dmvq8E\"></div>\n",
       "        <script>netpixi.call('5ZVrGVzWn7g8xrf9Dmvq8E', '843XDrSYxe3N5sMPEjkbP8', 'changeGraph', 'eyJpZCI6ICJTYWludCBLaXR0cyBhbmQgTmV2aXMiLCAidHlwZSI6ICJ2ZXJ0ZXgiLCAicHJvcHMiOiB7ImNvbG9yIjogNjUyODB9fQo=');</script>\n",
       "    "
      ],
      "text/plain": [
       "<IPython.core.display.HTML object>"
      ]
     },
     "metadata": {},
     "output_type": "display_data"
    },
    {
     "data": {
      "text/html": [
       "\n",
       "        <div id=\"fK7R9dV9gDR47EnyuFP3ow\"></div>\n",
       "        <script>netpixi.call('fK7R9dV9gDR47EnyuFP3ow', '843XDrSYxe3N5sMPEjkbP8', 'changeGraph', 'eyJpZCI6ICJHZW9yZ2lhIiwgInR5cGUiOiAidmVydGV4IiwgInByb3BzIjogeyJjb2xvciI6IDY1MjgwfX0K');</script>\n",
       "    "
      ],
      "text/plain": [
       "<IPython.core.display.HTML object>"
      ]
     },
     "metadata": {},
     "output_type": "display_data"
    },
    {
     "data": {
      "text/html": [
       "\n",
       "        <div id=\"BofMNsBHZCa3LVCCybfbXX\"></div>\n",
       "        <script>netpixi.call('BofMNsBHZCa3LVCCybfbXX', '843XDrSYxe3N5sMPEjkbP8', 'changeGraph', 'eyJpZCI6ICJTaW5nYXBvcmUiLCAidHlwZSI6ICJ2ZXJ0ZXgiLCAicHJvcHMiOiB7ImNvbG9yIjogNjUyODB9fQo=');</script>\n",
       "    "
      ],
      "text/plain": [
       "<IPython.core.display.HTML object>"
      ]
     },
     "metadata": {},
     "output_type": "display_data"
    },
    {
     "data": {
      "text/html": [
       "\n",
       "        <div id=\"TLBXXMhUGpLonCyXAwdiZn\"></div>\n",
       "        <script>netpixi.call('TLBXXMhUGpLonCyXAwdiZn', '843XDrSYxe3N5sMPEjkbP8', 'changeGraph', 'eyJpZCI6ICJNb250ZW5lZ3JvIiwgInR5cGUiOiAidmVydGV4IiwgInByb3BzIjogeyJjb2xvciI6IDY1MjgwfX0K');</script>\n",
       "    "
      ],
      "text/plain": [
       "<IPython.core.display.HTML object>"
      ]
     },
     "metadata": {},
     "output_type": "display_data"
    },
    {
     "data": {
      "text/html": [
       "\n",
       "        <div id=\"R9uHgZ8YTVqoYY9gdfXc3P\"></div>\n",
       "        <script>netpixi.call('R9uHgZ8YTVqoYY9gdfXc3P', '843XDrSYxe3N5sMPEjkbP8', 'changeGraph', 'eyJpZCI6ICJUaGUgZm9ybWVyIFl1Z29zbGF2IFJlcHVibGljIG9mIE1hY2Vkb25pYSIsICJ0eXBlIjogInZlcnRleCIsICJwcm9wcyI6IHsiY29sb3IiOiAxNjcxMTY4MH19Cg==');</script>\n",
       "    "
      ],
      "text/plain": [
       "<IPython.core.display.HTML object>"
      ]
     },
     "metadata": {},
     "output_type": "display_data"
    },
    {
     "data": {
      "text/html": [
       "\n",
       "        <div id=\"kXqDPsoB2fmjiGoyoVuD2L\"></div>\n",
       "        <script>netpixi.call('kXqDPsoB2fmjiGoyoVuD2L', '843XDrSYxe3N5sMPEjkbP8', 'changeGraph', 'eyJpZCI6ICJEb21pbmljYW4gUmVwLiIsICJ0eXBlIjogInZlcnRleCIsICJwcm9wcyI6IHsiY29sb3IiOiA2NTI4MH19Cg==');</script>\n",
       "    "
      ],
      "text/plain": [
       "<IPython.core.display.HTML object>"
      ]
     },
     "metadata": {},
     "output_type": "display_data"
    },
    {
     "data": {
      "text/html": [
       "\n",
       "        <div id=\"ifY4zgixcwiCSdSHgK6Qtu\"></div>\n",
       "        <script>netpixi.call('ifY4zgixcwiCSdSHgK6Qtu', '843XDrSYxe3N5sMPEjkbP8', 'changeGraph', 'eyJpZCI6ICJFdGhpb3BpYSIsICJ0eXBlIjogInZlcnRleCIsICJwcm9wcyI6IHsiY29sb3IiOiA2NTI4MH19Cg==');</script>\n",
       "    "
      ],
      "text/plain": [
       "<IPython.core.display.HTML object>"
      ]
     },
     "metadata": {},
     "output_type": "display_data"
    },
    {
     "data": {
      "text/html": [
       "\n",
       "        <div id=\"gMosoAqpf2fdVtRG6Kp44V\"></div>\n",
       "        <script>netpixi.call('gMosoAqpf2fdVtRG6Kp44V', '843XDrSYxe3N5sMPEjkbP8', 'changeGraph', 'eyJpZCI6ICJCb25haXJlIiwgInR5cGUiOiAidmVydGV4IiwgInByb3BzIjogeyJjb2xvciI6IDY1MjgwfX0K');</script>\n",
       "    "
      ],
      "text/plain": [
       "<IPython.core.display.HTML object>"
      ]
     },
     "metadata": {},
     "output_type": "display_data"
    },
    {
     "data": {
      "text/html": [
       "\n",
       "        <div id=\"jm2sCNxRcd4uPnu8G3SvqU\"></div>\n",
       "        <script>netpixi.call('jm2sCNxRcd4uPnu8G3SvqU', '843XDrSYxe3N5sMPEjkbP8', 'changeGraph', 'eyJpZCI6ICJNYWxkaXZlcyIsICJ0eXBlIjogInZlcnRleCIsICJwcm9wcyI6IHsiY29sb3IiOiA2NTI4MH19Cg==');</script>\n",
       "    "
      ],
      "text/plain": [
       "<IPython.core.display.HTML object>"
      ]
     },
     "metadata": {},
     "output_type": "display_data"
    },
    {
     "data": {
      "text/html": [
       "\n",
       "        <div id=\"ig7crU7xvmfw9hmvCEjW3N\"></div>\n",
       "        <script>netpixi.call('ig7crU7xvmfw9hmvCEjW3N', '843XDrSYxe3N5sMPEjkbP8', 'changeGraph', 'eyJpZCI6ICJVbml0ZWQgQXJhYiBFbWlyYXRlcyIsICJ0eXBlIjogInZlcnRleCIsICJwcm9wcyI6IHsiY29sb3IiOiA2NTI4MH19Cg==');</script>\n",
       "    "
      ],
      "text/plain": [
       "<IPython.core.display.HTML object>"
      ]
     },
     "metadata": {},
     "output_type": "display_data"
    },
    {
     "data": {
      "text/html": [
       "\n",
       "        <div id=\"VhgSu6FwB3jfQcEk54CdHK\"></div>\n",
       "        <script>netpixi.call('VhgSu6FwB3jfQcEk54CdHK', '843XDrSYxe3N5sMPEjkbP8', 'changeGraph', 'eyJpZCI6ICJTb2xvbW9uIElzbGFuZHMiLCAidHlwZSI6ICJ2ZXJ0ZXgiLCAicHJvcHMiOiB7ImNvbG9yIjogNjUyODB9fQo=');</script>\n",
       "    "
      ],
      "text/plain": [
       "<IPython.core.display.HTML object>"
      ]
     },
     "metadata": {},
     "output_type": "display_data"
    },
    {
     "data": {
      "text/html": [
       "\n",
       "        <div id=\"gYesWuHDyMxBUDRFBK3iD4\"></div>\n",
       "        <script>netpixi.call('gYesWuHDyMxBUDRFBK3iD4', '843XDrSYxe3N5sMPEjkbP8', 'changeGraph', 'eyJpZCI6ICJTcGFpbiIsICJ0eXBlIjogInZlcnRleCIsICJwcm9wcyI6IHsiY29sb3IiOiAxNjcxMTY4MH19Cg==');</script>\n",
       "    "
      ],
      "text/plain": [
       "<IPython.core.display.HTML object>"
      ]
     },
     "metadata": {},
     "output_type": "display_data"
    },
    {
     "data": {
      "text/html": [
       "\n",
       "        <div id=\"curyDrLSt2S7vgmGpuR8aK\"></div>\n",
       "        <script>netpixi.call('curyDrLSt2S7vgmGpuR8aK', '843XDrSYxe3N5sMPEjkbP8', 'changeGraph', 'eyJpZCI6ICJTbG92YWtpYSIsICJ0eXBlIjogInZlcnRleCIsICJwcm9wcyI6IHsiY29sb3IiOiAxNjcxMTY4MH19Cg==');</script>\n",
       "    "
      ],
      "text/plain": [
       "<IPython.core.display.HTML object>"
      ]
     },
     "metadata": {},
     "output_type": "display_data"
    },
    {
     "data": {
      "text/html": [
       "\n",
       "        <div id=\"KUkF3UvkjPsgs6CpjfQiBM\"></div>\n",
       "        <script>netpixi.call('KUkF3UvkjPsgs6CpjfQiBM', '843XDrSYxe3N5sMPEjkbP8', 'changeGraph', 'eyJpZCI6ICJDb2xvbWJpYSIsICJ0eXBlIjogInZlcnRleCIsICJwcm9wcyI6IHsiY29sb3IiOiAxNjcxMTY4MH19Cg==');</script>\n",
       "    "
      ],
      "text/plain": [
       "<IPython.core.display.HTML object>"
      ]
     },
     "metadata": {},
     "output_type": "display_data"
    },
    {
     "data": {
      "text/html": [
       "\n",
       "        <div id=\"LKhNkyBxjgWjvuJpHg4ohn\"></div>\n",
       "        <script>netpixi.call('LKhNkyBxjgWjvuJpHg4ohn', '843XDrSYxe3N5sMPEjkbP8', 'changeGraph', 'eyJpZCI6ICJCZWxhcnVzIiwgInR5cGUiOiAidmVydGV4IiwgInByb3BzIjogeyJjb2xvciI6IDE2NzExNjgwfX0K');</script>\n",
       "    "
      ],
      "text/plain": [
       "<IPython.core.display.HTML object>"
      ]
     },
     "metadata": {},
     "output_type": "display_data"
    },
    {
     "data": {
      "text/html": [
       "\n",
       "        <div id=\"A9j73asGZwZU9P3Zj6p36L\"></div>\n",
       "        <script>netpixi.call('A9j73asGZwZU9P3Zj6p36L', '843XDrSYxe3N5sMPEjkbP8', 'changeGraph', 'eyJpZCI6ICJVbml0ZWQgUmVwLiBvZiBUYW56YW5pYSIsICJ0eXBlIjogInZlcnRleCIsICJwcm9wcyI6IHsiY29sb3IiOiA2NTI4MH19Cg==');</script>\n",
       "    "
      ],
      "text/plain": [
       "<IPython.core.display.HTML object>"
      ]
     },
     "metadata": {},
     "output_type": "display_data"
    },
    {
     "data": {
      "text/html": [
       "\n",
       "        <div id=\"dNUGYbPmUahQ8KtXbJfKjt\"></div>\n",
       "        <script>netpixi.call('dNUGYbPmUahQ8KtXbJfKjt', '843XDrSYxe3N5sMPEjkbP8', 'changeGraph', 'eyJpZCI6ICJQYXJhZ3VheSIsICJ0eXBlIjogInZlcnRleCIsICJwcm9wcyI6IHsiY29sb3IiOiA2NTI4MH19Cg==');</script>\n",
       "    "
      ],
      "text/plain": [
       "<IPython.core.display.HTML object>"
      ]
     },
     "metadata": {},
     "output_type": "display_data"
    },
    {
     "data": {
      "text/html": [
       "\n",
       "        <div id=\"GcY9wrdkLrVAJLnN4NvSuk\"></div>\n",
       "        <script>netpixi.call('GcY9wrdkLrVAJLnN4NvSuk', '843XDrSYxe3N5sMPEjkbP8', 'changeGraph', 'eyJpZCI6ICJTb3V0aCBTdWRhbiIsICJ0eXBlIjogInZlcnRleCIsICJwcm9wcyI6IHsiY29sb3IiOiA2NTI4MH19Cg==');</script>\n",
       "    "
      ],
      "text/plain": [
       "<IPython.core.display.HTML object>"
      ]
     },
     "metadata": {},
     "output_type": "display_data"
    },
    {
     "data": {
      "text/html": [
       "\n",
       "        <div id=\"FsQzqxfLtgkrJjRuR5eeS6\"></div>\n",
       "        <script>netpixi.call('FsQzqxfLtgkrJjRuR5eeS6', '843XDrSYxe3N5sMPEjkbP8', 'changeGraph', 'eyJpZCI6ICJCYW5nbGFkZXNoIiwgInR5cGUiOiAidmVydGV4IiwgInByb3BzIjogeyJjb2xvciI6IDY1MjgwfX0K');</script>\n",
       "    "
      ],
      "text/plain": [
       "<IPython.core.display.HTML object>"
      ]
     },
     "metadata": {},
     "output_type": "display_data"
    },
    {
     "data": {
      "text/html": [
       "\n",
       "        <div id=\"68DodEpoeQVErAFjJJsne8\"></div>\n",
       "        <script>netpixi.call('68DodEpoeQVErAFjJJsne8', '843XDrSYxe3N5sMPEjkbP8', 'changeGraph', 'eyJpZCI6ICJQYWtpc3RhbiIsICJ0eXBlIjogInZlcnRleCIsICJwcm9wcyI6IHsiY29sb3IiOiAxNjcxMTY4MH19Cg==');</script>\n",
       "    "
      ],
      "text/plain": [
       "<IPython.core.display.HTML object>"
      ]
     },
     "metadata": {},
     "output_type": "display_data"
    },
    {
     "data": {
      "text/html": [
       "\n",
       "        <div id=\"8x6CWvR6y4Y4XebmHvssMi\"></div>\n",
       "        <script>netpixi.call('8x6CWvR6y4Y4XebmHvssMi', '843XDrSYxe3N5sMPEjkbP8', 'changeGraph', 'eyJpZCI6ICJGcmVuY2ggUG9seW5lc2lhIiwgInR5cGUiOiAidmVydGV4IiwgInByb3BzIjogeyJjb2xvciI6IDY1MjgwfX0K');</script>\n",
       "    "
      ],
      "text/plain": [
       "<IPython.core.display.HTML object>"
      ]
     },
     "metadata": {},
     "output_type": "display_data"
    },
    {
     "data": {
      "text/html": [
       "\n",
       "        <div id=\"PxSFbR3hgmAn8oHr4kbnYf\"></div>\n",
       "        <script>netpixi.call('PxSFbR3hgmAn8oHr4kbnYf', '843XDrSYxe3N5sMPEjkbP8', 'changeGraph', 'eyJpZCI6ICJOZXcgQ2FsZWRvbmlhIiwgInR5cGUiOiAidmVydGV4IiwgInByb3BzIjogeyJjb2xvciI6IDY1MjgwfX0K');</script>\n",
       "    "
      ],
      "text/plain": [
       "<IPython.core.display.HTML object>"
      ]
     },
     "metadata": {},
     "output_type": "display_data"
    },
    {
     "data": {
      "text/html": [
       "\n",
       "        <div id=\"BV4UWr9A86GDGaR83sMQMe\"></div>\n",
       "        <script>netpixi.call('BV4UWr9A86GDGaR83sMQMe', '843XDrSYxe3N5sMPEjkbP8', 'changeGraph', 'eyJpZCI6ICJOaWdlcmlhIiwgInR5cGUiOiAidmVydGV4IiwgInByb3BzIjogeyJjb2xvciI6IDY1MjgwfX0K');</script>\n",
       "    "
      ],
      "text/plain": [
       "<IPython.core.display.HTML object>"
      ]
     },
     "metadata": {},
     "output_type": "display_data"
    },
    {
     "data": {
      "text/html": [
       "\n",
       "        <div id=\"JF3QApM4sUwjgTYzSLFV87\"></div>\n",
       "        <script>netpixi.call('JF3QApM4sUwjgTYzSLFV87', '843XDrSYxe3N5sMPEjkbP8', 'changeGraph', 'eyJpZCI6ICJOZXRoZXJsYW5kcyIsICJ0eXBlIjogInZlcnRleCIsICJwcm9wcyI6IHsiY29sb3IiOiAxNjcxMTY4MH19Cg==');</script>\n",
       "    "
      ],
      "text/plain": [
       "<IPython.core.display.HTML object>"
      ]
     },
     "metadata": {},
     "output_type": "display_data"
    },
    {
     "data": {
      "text/html": [
       "\n",
       "        <div id=\"5PzHzTUY4K2Ycop5arKjMY\"></div>\n",
       "        <script>netpixi.call('5PzHzTUY4K2Ycop5arKjMY', '843XDrSYxe3N5sMPEjkbP8', 'changeGraph', 'eyJpZCI6ICJOaXVlIiwgInR5cGUiOiAidmVydGV4IiwgInByb3BzIjogeyJjb2xvciI6IDY1MjgwfX0K');</script>\n",
       "    "
      ],
      "text/plain": [
       "<IPython.core.display.HTML object>"
      ]
     },
     "metadata": {},
     "output_type": "display_data"
    },
    {
     "data": {
      "text/html": [
       "\n",
       "        <div id=\"WatyZhRaFKWSvH77mK45ax\"></div>\n",
       "        <script>netpixi.call('WatyZhRaFKWSvH77mK45ax', '843XDrSYxe3N5sMPEjkbP8', 'changeGraph', 'eyJpZCI6ICJJbmRpYSIsICJ0eXBlIjogInZlcnRleCIsICJwcm9wcyI6IHsiY29sb3IiOiAxNjcxMTY4MH19Cg==');</script>\n",
       "    "
      ],
      "text/plain": [
       "<IPython.core.display.HTML object>"
      ]
     },
     "metadata": {},
     "output_type": "display_data"
    },
    {
     "data": {
      "text/html": [
       "\n",
       "        <div id=\"WfpPfUhzyRZoz5L6V2jvJY\"></div>\n",
       "        <script>netpixi.call('WfpPfUhzyRZoz5L6V2jvJY', '843XDrSYxe3N5sMPEjkbP8', 'changeGraph', 'eyJpZCI6ICJEb21pbmljYSIsICJ0eXBlIjogInZlcnRleCIsICJwcm9wcyI6IHsiY29sb3IiOiA2NTI4MH19Cg==');</script>\n",
       "    "
      ],
      "text/plain": [
       "<IPython.core.display.HTML object>"
      ]
     },
     "metadata": {},
     "output_type": "display_data"
    },
    {
     "data": {
      "text/html": [
       "\n",
       "        <div id=\"Duh86PiWMmMQ7USspACzS4\"></div>\n",
       "        <script>netpixi.call('Duh86PiWMmMQ7USspACzS4', '843XDrSYxe3N5sMPEjkbP8', 'changeGraph', 'eyJpZCI6ICJCZWxnaXVtIiwgInR5cGUiOiAidmVydGV4IiwgInByb3BzIjogeyJjb2xvciI6IDE2NzExNjgwfX0K');</script>\n",
       "    "
      ],
      "text/plain": [
       "<IPython.core.display.HTML object>"
      ]
     },
     "metadata": {},
     "output_type": "display_data"
    },
    {
     "data": {
      "text/html": [
       "\n",
       "        <div id=\"ahoe7c4AHm5WybiffE7hSq\"></div>\n",
       "        <script>netpixi.call('ahoe7c4AHm5WybiffE7hSq', '843XDrSYxe3N5sMPEjkbP8', 'changeGraph', 'eyJpZCI6ICJHZXJtYW55IiwgInR5cGUiOiAidmVydGV4IiwgInByb3BzIjogeyJjb2xvciI6IDE2NzExNjgwfX0K');</script>\n",
       "    "
      ],
      "text/plain": [
       "<IPython.core.display.HTML object>"
      ]
     },
     "metadata": {},
     "output_type": "display_data"
    },
    {
     "data": {
      "text/html": [
       "\n",
       "        <div id=\"JyzprSdWZoXqgQ7weXdMWG\"></div>\n",
       "        <script>netpixi.call('JyzprSdWZoXqgQ7weXdMWG', '843XDrSYxe3N5sMPEjkbP8', 'changeGraph', 'eyJpZCI6ICJSd2FuZGEiLCAidHlwZSI6ICJ2ZXJ0ZXgiLCAicHJvcHMiOiB7ImNvbG9yIjogNjUyODB9fQo=');</script>\n",
       "    "
      ],
      "text/plain": [
       "<IPython.core.display.HTML object>"
      ]
     },
     "metadata": {},
     "output_type": "display_data"
    },
    {
     "data": {
      "text/html": [
       "\n",
       "        <div id=\"QHMRCsNLkZV2rBUQcnDmRu\"></div>\n",
       "        <script>netpixi.call('QHMRCsNLkZV2rBUQcnDmRu', '843XDrSYxe3N5sMPEjkbP8', 'changeGraph', 'eyJpZCI6ICJUdXZhbHUiLCAidHlwZSI6ICJ2ZXJ0ZXgiLCAicHJvcHMiOiB7ImNvbG9yIjogNjUyODB9fQo=');</script>\n",
       "    "
      ],
      "text/plain": [
       "<IPython.core.display.HTML object>"
      ]
     },
     "metadata": {},
     "output_type": "display_data"
    },
    {
     "data": {
      "text/html": [
       "\n",
       "        <div id=\"VT3BatqcLZ2nQxpPkCXa9S\"></div>\n",
       "        <script>netpixi.call('VT3BatqcLZ2nQxpPkCXa9S', '843XDrSYxe3N5sMPEjkbP8', 'changeGraph', 'eyJpZCI6ICJJdGFseSIsICJ0eXBlIjogInZlcnRleCIsICJwcm9wcyI6IHsiY29sb3IiOiAxNjcxMTY4MH19Cg==');</script>\n",
       "    "
      ],
      "text/plain": [
       "<IPython.core.display.HTML object>"
      ]
     },
     "metadata": {},
     "output_type": "display_data"
    },
    {
     "data": {
      "text/html": [
       "\n",
       "        <div id=\"NT5LXJB9KyD8GkHRiCw23o\"></div>\n",
       "        <script>netpixi.call('NT5LXJB9KyD8GkHRiCw23o', '843XDrSYxe3N5sMPEjkbP8', 'changeGraph', 'eyJpZCI6ICJMYXR2aWEiLCAidHlwZSI6ICJ2ZXJ0ZXgiLCAicHJvcHMiOiB7ImNvbG9yIjogMTY3MTE2ODB9fQo=');</script>\n",
       "    "
      ],
      "text/plain": [
       "<IPython.core.display.HTML object>"
      ]
     },
     "metadata": {},
     "output_type": "display_data"
    },
    {
     "data": {
      "text/html": [
       "\n",
       "        <div id=\"4r5ijt88YNQwdSLMW9mFkL\"></div>\n",
       "        <script>netpixi.call('4r5ijt88YNQwdSLMW9mFkL', '843XDrSYxe3N5sMPEjkbP8', 'changeGraph', 'eyJpZCI6ICJPbWFuIiwgInR5cGUiOiAidmVydGV4IiwgInByb3BzIjogeyJjb2xvciI6IDY1MjgwfX0K');</script>\n",
       "    "
      ],
      "text/plain": [
       "<IPython.core.display.HTML object>"
      ]
     },
     "metadata": {},
     "output_type": "display_data"
    },
    {
     "data": {
      "text/html": [
       "\n",
       "        <div id=\"L8UeoWEuhLQYtwzS3t8Lxz\"></div>\n",
       "        <script>netpixi.call('L8UeoWEuhLQYtwzS3t8Lxz', '843XDrSYxe3N5sMPEjkbP8', 'changeGraph', 'eyJpZCI6ICJHdWluZWEiLCAidHlwZSI6ICJ2ZXJ0ZXgiLCAicHJvcHMiOiB7ImNvbG9yIjogNjUyODB9fQo=');</script>\n",
       "    "
      ],
      "text/plain": [
       "<IPython.core.display.HTML object>"
      ]
     },
     "metadata": {},
     "output_type": "display_data"
    },
    {
     "data": {
      "text/html": [
       "\n",
       "        <div id=\"N2YnbFf89ZuvGVk4zw62rd\"></div>\n",
       "        <script>netpixi.call('N2YnbFf89ZuvGVk4zw62rd', '843XDrSYxe3N5sMPEjkbP8', 'changeGraph', 'eyJpZCI6ICJLaXJpYmF0aSIsICJ0eXBlIjogInZlcnRleCIsICJwcm9wcyI6IHsiY29sb3IiOiA2NTI4MH19Cg==');</script>\n",
       "    "
      ],
      "text/plain": [
       "<IPython.core.display.HTML object>"
      ]
     },
     "metadata": {},
     "output_type": "display_data"
    },
    {
     "data": {
      "text/html": [
       "\n",
       "        <div id=\"88Phqj56uCbLykCQj4uQqg\"></div>\n",
       "        <script>netpixi.call('88Phqj56uCbLykCQj4uQqg', '843XDrSYxe3N5sMPEjkbP8', 'changeGraph', 'eyJpZCI6ICJNYXJzaGFsbCBJc2xhbmRzIiwgInR5cGUiOiAidmVydGV4IiwgInByb3BzIjogeyJjb2xvciI6IDY1MjgwfX0K');</script>\n",
       "    "
      ],
      "text/plain": [
       "<IPython.core.display.HTML object>"
      ]
     },
     "metadata": {},
     "output_type": "display_data"
    },
    {
     "data": {
      "text/html": [
       "\n",
       "        <div id=\"RRbdttPhSDjMjoqMqJxhTf\"></div>\n",
       "        <script>netpixi.call('RRbdttPhSDjMjoqMqJxhTf', '843XDrSYxe3N5sMPEjkbP8', 'changeGraph', 'eyJpZCI6ICJNYXVyaXRpdXMiLCAidHlwZSI6ICJ2ZXJ0ZXgiLCAicHJvcHMiOiB7ImNvbG9yIjogNjUyODB9fQo=');</script>\n",
       "    "
      ],
      "text/plain": [
       "<IPython.core.display.HTML object>"
      ]
     },
     "metadata": {},
     "output_type": "display_data"
    },
    {
     "data": {
      "text/html": [
       "\n",
       "        <div id=\"SqBveEbnei7335m64BPx4m\"></div>\n",
       "        <script>netpixi.call('SqBveEbnei7335m64BPx4m', '843XDrSYxe3N5sMPEjkbP8', 'changeGraph', 'eyJpZCI6ICJIYWl0aSIsICJ0eXBlIjogInZlcnRleCIsICJwcm9wcyI6IHsiY29sb3IiOiA2NTI4MH19Cg==');</script>\n",
       "    "
      ],
      "text/plain": [
       "<IPython.core.display.HTML object>"
      ]
     },
     "metadata": {},
     "output_type": "display_data"
    },
    {
     "data": {
      "text/html": [
       "\n",
       "        <div id=\"fCvG8Lc2xUbiduUxQQKLMC\"></div>\n",
       "        <script>netpixi.call('fCvG8Lc2xUbiduUxQQKLMC', '843XDrSYxe3N5sMPEjkbP8', 'changeGraph', 'eyJpZCI6ICJOaWNhcmFndWEiLCAidHlwZSI6ICJ2ZXJ0ZXgiLCAicHJvcHMiOiB7ImNvbG9yIjogNjUyODB9fQo=');</script>\n",
       "    "
      ],
      "text/plain": [
       "<IPython.core.display.HTML object>"
      ]
     },
     "metadata": {},
     "output_type": "display_data"
    },
    {
     "data": {
      "text/html": [
       "\n",
       "        <div id=\"XGetaxbWueEEVnL45LmZDD\"></div>\n",
       "        <script>netpixi.call('XGetaxbWueEEVnL45LmZDD', '843XDrSYxe3N5sMPEjkbP8', 'changeGraph', 'eyJpZCI6ICJLYXpha2hzdGFuIiwgInR5cGUiOiAidmVydGV4IiwgInByb3BzIjogeyJjb2xvciI6IDY1MjgwfX0K');</script>\n",
       "    "
      ],
      "text/plain": [
       "<IPython.core.display.HTML object>"
      ]
     },
     "metadata": {},
     "output_type": "display_data"
    },
    {
     "data": {
      "text/html": [
       "\n",
       "        <div id=\"S9gqYK62dmiZraSfPjhw5K\"></div>\n",
       "        <script>netpixi.call('S9gqYK62dmiZraSfPjhw5K', '843XDrSYxe3N5sMPEjkbP8', 'changeGraph', 'eyJpZCI6ICJFY3VhZG9yIiwgInR5cGUiOiAidmVydGV4IiwgInByb3BzIjogeyJjb2xvciI6IDE2NzExNjgwfX0K');</script>\n",
       "    "
      ],
      "text/plain": [
       "<IPython.core.display.HTML object>"
      ]
     },
     "metadata": {},
     "output_type": "display_data"
    },
    {
     "data": {
      "text/html": [
       "\n",
       "        <div id=\"GDCmSi75BbtQ3xdsseLrgG\"></div>\n",
       "        <script>netpixi.call('GDCmSi75BbtQ3xdsseLrgG', '843XDrSYxe3N5sMPEjkbP8', 'changeGraph', 'eyJpZCI6ICJHdWF0ZW1hbGEiLCAidHlwZSI6ICJ2ZXJ0ZXgiLCAicHJvcHMiOiB7ImNvbG9yIjogNjUyODB9fQo=');</script>\n",
       "    "
      ],
      "text/plain": [
       "<IPython.core.display.HTML object>"
      ]
     },
     "metadata": {},
     "output_type": "display_data"
    },
    {
     "data": {
      "text/html": [
       "\n",
       "        <div id=\"GikgEPkUbTWAjdtJ9R3gJf\"></div>\n",
       "        <script>netpixi.call('GikgEPkUbTWAjdtJ9R3gJf', '843XDrSYxe3N5sMPEjkbP8', 'changeGraph', 'eyJpZCI6ICJNYWRhZ2FzY2FyIiwgInR5cGUiOiAidmVydGV4IiwgInByb3BzIjogeyJjb2xvciI6IDY1MjgwfX0K');</script>\n",
       "    "
      ],
      "text/plain": [
       "<IPython.core.display.HTML object>"
      ]
     },
     "metadata": {},
     "output_type": "display_data"
    },
    {
     "data": {
      "text/html": [
       "\n",
       "        <div id=\"HieZmnbVZdPyWgEJFyPkAr\"></div>\n",
       "        <script>netpixi.call('HieZmnbVZdPyWgEJFyPkAr', '843XDrSYxe3N5sMPEjkbP8', 'changeGraph', 'eyJpZCI6ICJUcmluaWRhZCBhbmQgVG9iYWdvIiwgInR5cGUiOiAidmVydGV4IiwgInByb3BzIjogeyJjb2xvciI6IDE2NzExNjgwfX0K');</script>\n",
       "    "
      ],
      "text/plain": [
       "<IPython.core.display.HTML object>"
      ]
     },
     "metadata": {},
     "output_type": "display_data"
    },
    {
     "data": {
      "text/html": [
       "\n",
       "        <div id=\"UEKBRpgNG8uuHDaA6X4XjU\"></div>\n",
       "        <script>netpixi.call('UEKBRpgNG8uuHDaA6X4XjU', '843XDrSYxe3N5sMPEjkbP8', 'changeGraph', 'eyJpZCI6ICJHdWFkZWxvdXBlIiwgInR5cGUiOiAidmVydGV4IiwgInByb3BzIjogeyJjb2xvciI6IDY1MjgwfX0K');</script>\n",
       "    "
      ],
      "text/plain": [
       "<IPython.core.display.HTML object>"
      ]
     },
     "metadata": {},
     "output_type": "display_data"
    },
    {
     "data": {
      "text/html": [
       "\n",
       "        <div id=\"9czpfcPgVLkofkubo8T3pU\"></div>\n",
       "        <script>netpixi.call('9czpfcPgVLkofkubo8T3pU', '843XDrSYxe3N5sMPEjkbP8', 'changeGraph', 'eyJpZCI6ICJDYW5hZGEiLCAidHlwZSI6ICJ2ZXJ0ZXgiLCAicHJvcHMiOiB7ImNvbG9yIjogMTY3MTE2ODB9fQo=');</script>\n",
       "    "
      ],
      "text/plain": [
       "<IPython.core.display.HTML object>"
      ]
     },
     "metadata": {},
     "output_type": "display_data"
    },
    {
     "data": {
      "text/html": [
       "\n",
       "        <div id=\"AAtf8e2coTjW3d4iBwafXa\"></div>\n",
       "        <script>netpixi.call('AAtf8e2coTjW3d4iBwafXa', '843XDrSYxe3N5sMPEjkbP8', 'changeGraph', 'eyJpZCI6ICJDYW1ib2RpYSIsICJ0eXBlIjogInZlcnRleCIsICJwcm9wcyI6IHsiY29sb3IiOiA2NTI4MH19Cg==');</script>\n",
       "    "
      ],
      "text/plain": [
       "<IPython.core.display.HTML object>"
      ]
     },
     "metadata": {},
     "output_type": "display_data"
    },
    {
     "data": {
      "text/html": [
       "\n",
       "        <div id=\"DKCfe5ofkU2e7pvsSqcoW9\"></div>\n",
       "        <script>netpixi.call('DKCfe5ofkU2e7pvsSqcoW9', '843XDrSYxe3N5sMPEjkbP8', 'changeGraph', 'eyJpZCI6ICJUdW5pc2lhIiwgInR5cGUiOiAidmVydGV4IiwgInByb3BzIjogeyJjb2xvciI6IDE2NzExNjgwfX0K');</script>\n",
       "    "
      ],
      "text/plain": [
       "<IPython.core.display.HTML object>"
      ]
     },
     "metadata": {},
     "output_type": "display_data"
    },
    {
     "data": {
      "text/html": [
       "\n",
       "        <div id=\"JZnHdhXJL7KE4omsebfhvs\"></div>\n",
       "        <script>netpixi.call('JZnHdhXJL7KE4omsebfhvs', '843XDrSYxe3N5sMPEjkbP8', 'changeGraph', 'eyJpZCI6ICJCcnVuZWkgRGFydXNzYWxhbSIsICJ0eXBlIjogInZlcnRleCIsICJwcm9wcyI6IHsiY29sb3IiOiA2NTI4MH19Cg==');</script>\n",
       "    "
      ],
      "text/plain": [
       "<IPython.core.display.HTML object>"
      ]
     },
     "metadata": {},
     "output_type": "display_data"
    },
    {
     "data": {
      "text/html": [
       "\n",
       "        <div id=\"m9xrPaLTL7nAMWGft8J5bJ\"></div>\n",
       "        <script>netpixi.call('m9xrPaLTL7nAMWGft8J5bJ', '843XDrSYxe3N5sMPEjkbP8', 'changeGraph', 'eyJpZCI6ICJNYXVyaXRhbmlhIiwgInR5cGUiOiAidmVydGV4IiwgInByb3BzIjogeyJjb2xvciI6IDE2NzExNjgwfX0K');</script>\n",
       "    "
      ],
      "text/plain": [
       "<IPython.core.display.HTML object>"
      ]
     },
     "metadata": {},
     "output_type": "display_data"
    },
    {
     "data": {
      "text/html": [
       "\n",
       "        <div id=\"RGAPs6LDvZGTrBJkd7GmRA\"></div>\n",
       "        <script>netpixi.call('RGAPs6LDvZGTrBJkd7GmRA', '843XDrSYxe3N5sMPEjkbP8', 'changeGraph', 'eyJpZCI6ICJHYWJvbiIsICJ0eXBlIjogInZlcnRleCIsICJwcm9wcyI6IHsiY29sb3IiOiA2NTI4MH19Cg==');</script>\n",
       "    "
      ],
      "text/plain": [
       "<IPython.core.display.HTML object>"
      ]
     },
     "metadata": {},
     "output_type": "display_data"
    },
    {
     "data": {
      "text/html": [
       "\n",
       "        <div id=\"o3kxZozArff673Zph6Ekwy\"></div>\n",
       "        <script>netpixi.call('o3kxZozArff673Zph6Ekwy', '843XDrSYxe3N5sMPEjkbP8', 'changeGraph', 'eyJpZCI6ICJCb3NuaWEgYW5kIEhlcnplZ292aW5hIiwgInR5cGUiOiAidmVydGV4IiwgInByb3BzIjogeyJjb2xvciI6IDY1MjgwfX0K');</script>\n",
       "    "
      ],
      "text/plain": [
       "<IPython.core.display.HTML object>"
      ]
     },
     "metadata": {},
     "output_type": "display_data"
    },
    {
     "data": {
      "text/html": [
       "\n",
       "        <div id=\"c5jHfHV6Y9aS89HUqRbFLr\"></div>\n",
       "        <script>netpixi.call('c5jHfHV6Y9aS89HUqRbFLr', '843XDrSYxe3N5sMPEjkbP8', 'changeGraph', 'eyJpZCI6ICJGaWppIiwgInR5cGUiOiAidmVydGV4IiwgInByb3BzIjogeyJjb2xvciI6IDY1MjgwfX0K');</script>\n",
       "    "
      ],
      "text/plain": [
       "<IPython.core.display.HTML object>"
      ]
     },
     "metadata": {},
     "output_type": "display_data"
    },
    {
     "data": {
      "text/html": [
       "\n",
       "        <div id=\"YaRpxpvtP7jX7gepXB3mSY\"></div>\n",
       "        <script>netpixi.call('YaRpxpvtP7jX7gepXB3mSY', '843XDrSYxe3N5sMPEjkbP8', 'changeGraph', 'eyJpZCI6ICJDcm9hdGlhIiwgInR5cGUiOiAidmVydGV4IiwgInByb3BzIjogeyJjb2xvciI6IDE2NzExNjgwfX0K');</script>\n",
       "    "
      ],
      "text/plain": [
       "<IPython.core.display.HTML object>"
      ]
     },
     "metadata": {},
     "output_type": "display_data"
    },
    {
     "data": {
      "text/html": [
       "\n",
       "        <div id=\"hmutxERuCy9KVyNiDNiKNe\"></div>\n",
       "        <script>netpixi.call('hmutxERuCy9KVyNiDNiKNe', '843XDrSYxe3N5sMPEjkbP8', 'changeGraph', 'eyJpZCI6ICJMaXRodWFuaWEiLCAidHlwZSI6ICJ2ZXJ0ZXgiLCAicHJvcHMiOiB7ImNvbG9yIjogMTY3MTE2ODB9fQo=');</script>\n",
       "    "
      ],
      "text/plain": [
       "<IPython.core.display.HTML object>"
      ]
     },
     "metadata": {},
     "output_type": "display_data"
    },
    {
     "data": {
      "text/html": [
       "\n",
       "        <div id=\"9Z3NRUN5yhF79QZQo549co\"></div>\n",
       "        <script>netpixi.call('9Z3NRUN5yhF79QZQo549co', '843XDrSYxe3N5sMPEjkbP8', 'changeGraph', 'eyJpZCI6ICJTaW50IE1hYXJ0ZW4gKER1dGNoIHBhcnQpIiwgInR5cGUiOiAidmVydGV4IiwgInByb3BzIjogeyJjb2xvciI6IDY1MjgwfX0K');</script>\n",
       "    "
      ],
      "text/plain": [
       "<IPython.core.display.HTML object>"
      ]
     },
     "metadata": {},
     "output_type": "display_data"
    },
    {
     "data": {
      "text/html": [
       "\n",
       "        <div id=\"H6NMthmjpACQzCCUkGeGDG\"></div>\n",
       "        <script>netpixi.call('H6NMthmjpACQzCCUkGeGDG', '843XDrSYxe3N5sMPEjkbP8', 'changeGraph', 'eyJpZCI6ICJTb3V0aCBBZnJpY2EiLCAidHlwZSI6ICJ2ZXJ0ZXgiLCAicHJvcHMiOiB7ImNvbG9yIjogMTY3MTE2ODB9fQo=');</script>\n",
       "    "
      ],
      "text/plain": [
       "<IPython.core.display.HTML object>"
      ]
     },
     "metadata": {},
     "output_type": "display_data"
    },
    {
     "data": {
      "text/html": [
       "\n",
       "        <div id=\"Yr8tNSMJudJyXGx7MsKfxS\"></div>\n",
       "        <script>netpixi.call('Yr8tNSMJudJyXGx7MsKfxS', '843XDrSYxe3N5sMPEjkbP8', 'changeGraph', 'eyJpZCI6ICJKYW1haWNhIiwgInR5cGUiOiAidmVydGV4IiwgInByb3BzIjogeyJjb2xvciI6IDY1MjgwfX0K');</script>\n",
       "    "
      ],
      "text/plain": [
       "<IPython.core.display.HTML object>"
      ]
     },
     "metadata": {},
     "output_type": "display_data"
    },
    {
     "data": {
      "text/html": [
       "\n",
       "        <div id=\"c3TqKkvxp9fKzNGLjR7cCA\"></div>\n",
       "        <script>netpixi.call('c3TqKkvxp9fKzNGLjR7cCA', '843XDrSYxe3N5sMPEjkbP8', 'changeGraph', 'eyJpZCI6ICJQYWxlc3RpbmlhbiIsICJ0eXBlIjogInZlcnRleCIsICJwcm9wcyI6IHsiY29sb3IiOiA2NTI4MH19Cg==');</script>\n",
       "    "
      ],
      "text/plain": [
       "<IPython.core.display.HTML object>"
      ]
     },
     "metadata": {},
     "output_type": "display_data"
    },
    {
     "data": {
      "text/html": [
       "\n",
       "        <div id=\"CrXKjm3Ue87eV8DvXnM6Wm\"></div>\n",
       "        <script>netpixi.call('CrXKjm3Ue87eV8DvXnM6Wm', '843XDrSYxe3N5sMPEjkbP8', 'changeGraph', 'eyJpZCI6ICJHcmVuYWRhIiwgInR5cGUiOiAidmVydGV4IiwgInByb3BzIjogeyJjb2xvciI6IDY1MjgwfX0K');</script>\n",
       "    "
      ],
      "text/plain": [
       "<IPython.core.display.HTML object>"
      ]
     },
     "metadata": {},
     "output_type": "display_data"
    },
    {
     "data": {
      "text/html": [
       "\n",
       "        <div id=\"HBXXF4JD3pechnQype5dcg\"></div>\n",
       "        <script>netpixi.call('HBXXF4JD3pechnQype5dcg', '843XDrSYxe3N5sMPEjkbP8', 'changeGraph', 'eyJpZCI6ICJFcml0cmVhIiwgInR5cGUiOiAidmVydGV4IiwgInByb3BzIjogeyJjb2xvciI6IDY1MjgwfX0K');</script>\n",
       "    "
      ],
      "text/plain": [
       "<IPython.core.display.HTML object>"
      ]
     },
     "metadata": {},
     "output_type": "display_data"
    },
    {
     "data": {
      "text/html": [
       "\n",
       "        <div id=\"PR2NYWi42B5d9dPoNWWJs5\"></div>\n",
       "        <script>netpixi.call('PR2NYWi42B5d9dPoNWWJs5', '843XDrSYxe3N5sMPEjkbP8', 'changeGraph', 'eyJpZCI6ICJUdXJrcyBhbmQgQ2FpY29zIElzbGFuZHMiLCAidHlwZSI6ICJ2ZXJ0ZXgiLCAicHJvcHMiOiB7ImNvbG9yIjogNjUyODB9fQo=');</script>\n",
       "    "
      ],
      "text/plain": [
       "<IPython.core.display.HTML object>"
      ]
     },
     "metadata": {},
     "output_type": "display_data"
    },
    {
     "data": {
      "text/html": [
       "\n",
       "        <div id=\"42TLLXGsF6XZbH422RLoeM\"></div>\n",
       "        <script>netpixi.call('42TLLXGsF6XZbH422RLoeM', '843XDrSYxe3N5sMPEjkbP8', 'changeGraph', 'eyJpZCI6ICJHYW1iaWEiLCAidHlwZSI6ICJ2ZXJ0ZXgiLCAicHJvcHMiOiB7ImNvbG9yIjogNjUyODB9fQo=');</script>\n",
       "    "
      ],
      "text/plain": [
       "<IPython.core.display.HTML object>"
      ]
     },
     "metadata": {},
     "output_type": "display_data"
    },
    {
     "data": {
      "text/html": [
       "\n",
       "        <div id=\"5Knec4SbcjVwiCgNA6quGD\"></div>\n",
       "        <script>netpixi.call('5Knec4SbcjVwiCgNA6quGD', '843XDrSYxe3N5sMPEjkbP8', 'changeGraph', 'eyJpZCI6ICJDXHUwMGY0dGUgZCdJdm9pcmUiLCAidHlwZSI6ICJ2ZXJ0ZXgiLCAicHJvcHMiOiB7ImNvbG9yIjogMTY3MTE2ODB9fQo=');</script>\n",
       "    "
      ],
      "text/plain": [
       "<IPython.core.display.HTML object>"
      ]
     },
     "metadata": {},
     "output_type": "display_data"
    },
    {
     "data": {
      "text/html": [
       "\n",
       "        <div id=\"STbm8g8dFDAPsn3dQFkEeF\"></div>\n",
       "        <script>netpixi.call('STbm8g8dFDAPsn3dQFkEeF', '843XDrSYxe3N5sMPEjkbP8', 'changeGraph', 'eyJpZCI6ICJOZXcgWmVhbGFuZCIsICJ0eXBlIjogInZlcnRleCIsICJwcm9wcyI6IHsiY29sb3IiOiAxNjcxMTY4MH19Cg==');</script>\n",
       "    "
      ],
      "text/plain": [
       "<IPython.core.display.HTML object>"
      ]
     },
     "metadata": {},
     "output_type": "display_data"
    },
    {
     "data": {
      "text/html": [
       "\n",
       "        <div id=\"8BiqwXZQwzHuyhjJdn9gxh\"></div>\n",
       "        <script>netpixi.call('8BiqwXZQwzHuyhjJdn9gxh', '843XDrSYxe3N5sMPEjkbP8', 'changeGraph', 'eyJpZCI6ICJGcmVuY2ggR3VpYW5hIiwgInR5cGUiOiAidmVydGV4IiwgInByb3BzIjogeyJjb2xvciI6IDY1MjgwfX0K');</script>\n",
       "    "
      ],
      "text/plain": [
       "<IPython.core.display.HTML object>"
      ]
     },
     "metadata": {},
     "output_type": "display_data"
    },
    {
     "data": {
      "text/html": [
       "\n",
       "        <div id=\"hAosZYxrmPCbCNmMDYeciA\"></div>\n",
       "        <script>netpixi.call('hAosZYxrmPCbCNmMDYeciA', '843XDrSYxe3N5sMPEjkbP8', 'changeGraph', 'eyJpZCI6ICJaaW1iYWJ3ZSIsICJ0eXBlIjogInZlcnRleCIsICJwcm9wcyI6IHsiY29sb3IiOiA2NTI4MH19Cg==');</script>\n",
       "    "
      ],
      "text/plain": [
       "<IPython.core.display.HTML object>"
      ]
     },
     "metadata": {},
     "output_type": "display_data"
    },
    {
     "data": {
      "text/html": [
       "\n",
       "        <div id=\"jpPzqBg4Gip9h9QZAStf7R\"></div>\n",
       "        <script>netpixi.call('jpPzqBg4Gip9h9QZAStf7R', '843XDrSYxe3N5sMPEjkbP8', 'changeGraph', 'eyJpZCI6ICJNYWxpIiwgInR5cGUiOiAidmVydGV4IiwgInByb3BzIjogeyJjb2xvciI6IDY1MjgwfX0K');</script>\n",
       "    "
      ],
      "text/plain": [
       "<IPython.core.display.HTML object>"
      ]
     },
     "metadata": {},
     "output_type": "display_data"
    },
    {
     "data": {
      "text/html": [
       "\n",
       "        <div id=\"FxoCjXtB2U4UnFsTaxTqE5\"></div>\n",
       "        <script>netpixi.call('FxoCjXtB2U4UnFsTaxTqE5', '843XDrSYxe3N5sMPEjkbP8', 'changeGraph', 'eyJpZCI6ICJTYW1vYSIsICJ0eXBlIjogInZlcnRleCIsICJwcm9wcyI6IHsiY29sb3IiOiA2NTI4MH19Cg==');</script>\n",
       "    "
      ],
      "text/plain": [
       "<IPython.core.display.HTML object>"
      ]
     },
     "metadata": {},
     "output_type": "display_data"
    },
    {
     "data": {
      "text/html": [
       "\n",
       "        <div id=\"LzKSDdc8kt9Czdc3hpJJEb\"></div>\n",
       "        <script>netpixi.call('LzKSDdc8kt9Czdc3hpJJEb', '843XDrSYxe3N5sMPEjkbP8', 'changeGraph', 'eyJpZCI6ICJTeXJpYW4gQXJhYiBSZXAuIiwgInR5cGUiOiAidmVydGV4IiwgInByb3BzIjogeyJjb2xvciI6IDE2NzExNjgwfX0K');</script>\n",
       "    "
      ],
      "text/plain": [
       "<IPython.core.display.HTML object>"
      ]
     },
     "metadata": {},
     "output_type": "display_data"
    },
    {
     "data": {
      "text/html": [
       "\n",
       "        <div id=\"dr8muXSf8NBD5jA5uBb8Ad\"></div>\n",
       "        <script>netpixi.call('dr8muXSf8NBD5jA5uBb8Ad', '843XDrSYxe3N5sMPEjkbP8', 'changeGraph', 'eyJpZCI6ICJDeXBydXMiLCAidHlwZSI6ICJ2ZXJ0ZXgiLCAicHJvcHMiOiB7ImNvbG9yIjogMTY3MTE2ODB9fQo=');</script>\n",
       "    "
      ],
      "text/plain": [
       "<IPython.core.display.HTML object>"
      ]
     },
     "metadata": {},
     "output_type": "display_data"
    },
    {
     "data": {
      "text/html": [
       "\n",
       "        <div id=\"HwfrEQGYG89XGheNSDKt56\"></div>\n",
       "        <script>netpixi.call('HwfrEQGYG89XGheNSDKt56', '843XDrSYxe3N5sMPEjkbP8', 'changeGraph', 'eyJpZCI6ICJUb25nYSIsICJ0eXBlIjogInZlcnRleCIsICJwcm9wcyI6IHsiY29sb3IiOiA2NTI4MH19Cg==');</script>\n",
       "    "
      ],
      "text/plain": [
       "<IPython.core.display.HTML object>"
      ]
     },
     "metadata": {},
     "output_type": "display_data"
    },
    {
     "data": {
      "text/html": [
       "\n",
       "        <div id=\"AW8Wr7BikVFD4vSDxYfV6z\"></div>\n",
       "        <script>netpixi.call('AW8Wr7BikVFD4vSDxYfV6z', '843XDrSYxe3N5sMPEjkbP8', 'changeGraph', 'eyJpZCI6ICJLdXdhaXQiLCAidHlwZSI6ICJ2ZXJ0ZXgiLCAicHJvcHMiOiB7ImNvbG9yIjogNjUyODB9fQo=');</script>\n",
       "    "
      ],
      "text/plain": [
       "<IPython.core.display.HTML object>"
      ]
     },
     "metadata": {},
     "output_type": "display_data"
    },
    {
     "data": {
      "text/html": [
       "\n",
       "        <div id=\"jVhhH6jZwtoxvhifZjF5vZ\"></div>\n",
       "        <script>netpixi.call('jVhhH6jZwtoxvhifZjF5vZ', '843XDrSYxe3N5sMPEjkbP8', 'changeGraph', 'eyJpZCI6ICJTYWludC1QaWVycmUtZXQtTWlxdWVsb24iLCAidHlwZSI6ICJ2ZXJ0ZXgiLCAicHJvcHMiOiB7ImNvbG9yIjogNjUyODB9fQo=');</script>\n",
       "    "
      ],
      "text/plain": [
       "<IPython.core.display.HTML object>"
      ]
     },
     "metadata": {},
     "output_type": "display_data"
    },
    {
     "data": {
      "text/html": [
       "\n",
       "        <div id=\"HNbhsZb3vexEhKGd8ivKUT\"></div>\n",
       "        <script>netpixi.call('HNbhsZb3vexEhKGd8ivKUT', '843XDrSYxe3N5sMPEjkbP8', 'changeGraph', 'eyJpZCI6ICJBZmdoYW5pc3RhbiIsICJ0eXBlIjogInZlcnRleCIsICJwcm9wcyI6IHsiY29sb3IiOiA2NTI4MH19Cg==');</script>\n",
       "    "
      ],
      "text/plain": [
       "<IPython.core.display.HTML object>"
      ]
     },
     "metadata": {},
     "output_type": "display_data"
    },
    {
     "data": {
      "text/html": [
       "\n",
       "        <div id=\"BJqncSevaJzbBqg82TxE5E\"></div>\n",
       "        <script>netpixi.call('BJqncSevaJzbBqg82TxE5E', '843XDrSYxe3N5sMPEjkbP8', 'changeGraph', 'eyJpZCI6ICJTbG92ZW5pYSIsICJ0eXBlIjogInZlcnRleCIsICJwcm9wcyI6IHsiY29sb3IiOiAxNjcxMTY4MH19Cg==');</script>\n",
       "    "
      ],
      "text/plain": [
       "<IPython.core.display.HTML object>"
      ]
     },
     "metadata": {},
     "output_type": "display_data"
    },
    {
     "data": {
      "text/html": [
       "\n",
       "        <div id=\"KiGVJqZ4eWUbkLPCyXu4P5\"></div>\n",
       "        <script>netpixi.call('KiGVJqZ4eWUbkLPCyXu4P5', '843XDrSYxe3N5sMPEjkbP8', 'changeGraph', 'eyJpZCI6ICJCb3Rzd2FuYSIsICJ0eXBlIjogInZlcnRleCIsICJwcm9wcyI6IHsiY29sb3IiOiA2NTI4MH19Cg==');</script>\n",
       "    "
      ],
      "text/plain": [
       "<IPython.core.display.HTML object>"
      ]
     },
     "metadata": {},
     "output_type": "display_data"
    },
    {
     "data": {
      "text/html": [
       "\n",
       "        <div id=\"mbxCpdEztqX9ExT47pkx5e\"></div>\n",
       "        <script>netpixi.call('mbxCpdEztqX9ExT47pkx5e', '843XDrSYxe3N5sMPEjkbP8', 'changeGraph', 'eyJpZCI6ICJNYWxhd2kiLCAidHlwZSI6ICJ2ZXJ0ZXgiLCAicHJvcHMiOiB7ImNvbG9yIjogNjUyODB9fQo=');</script>\n",
       "    "
      ],
      "text/plain": [
       "<IPython.core.display.HTML object>"
      ]
     },
     "metadata": {},
     "output_type": "display_data"
    },
    {
     "data": {
      "text/html": [
       "\n",
       "        <div id=\"jj2FRsCaUt9ZGiU9Gm6LNG\"></div>\n",
       "        <script>netpixi.call('jj2FRsCaUt9ZGiU9Gm6LNG', '843XDrSYxe3N5sMPEjkbP8', 'changeGraph', 'eyJpZCI6ICJSZXAuIG9mIEtvcmVhIiwgInR5cGUiOiAidmVydGV4IiwgInByb3BzIjogeyJjb2xvciI6IDE2NzExNjgwfX0K');</script>\n",
       "    "
      ],
      "text/plain": [
       "<IPython.core.display.HTML object>"
      ]
     },
     "metadata": {},
     "output_type": "display_data"
    },
    {
     "data": {
      "text/html": [
       "\n",
       "        <div id=\"ggTgramkUsyXnfC7aQQHVR\"></div>\n",
       "        <script>netpixi.call('ggTgramkUsyXnfC7aQQHVR', '843XDrSYxe3N5sMPEjkbP8', 'changeGraph', 'eyJpZCI6ICJMaWVjaHRlbnN0ZWluIiwgInR5cGUiOiAidmVydGV4IiwgInByb3BzIjogeyJjb2xvciI6IDE2NzExNjgwfX0K');</script>\n",
       "    "
      ],
      "text/plain": [
       "<IPython.core.display.HTML object>"
      ]
     },
     "metadata": {},
     "output_type": "display_data"
    },
    {
     "data": {
      "text/html": [
       "\n",
       "        <div id=\"WaLATX5gjf2KRPaPuVnJqm\"></div>\n",
       "        <script>netpixi.call('WaLATX5gjf2KRPaPuVnJqm', '843XDrSYxe3N5sMPEjkbP8', 'changeGraph', 'eyJpZCI6ICJQaGlsaXBwaW5lcyIsICJ0eXBlIjogInZlcnRleCIsICJwcm9wcyI6IHsiY29sb3IiOiAxNjcxMTY4MH19Cg==');</script>\n",
       "    "
      ],
      "text/plain": [
       "<IPython.core.display.HTML object>"
      ]
     },
     "metadata": {},
     "output_type": "display_data"
    },
    {
     "data": {
      "text/html": [
       "\n",
       "        <div id=\"2hjG6wG2fK7pL3NAU5m7dL\"></div>\n",
       "        <script>netpixi.call('2hjG6wG2fK7pL3NAU5m7dL', '843XDrSYxe3N5sMPEjkbP8', 'changeGraph', 'eyJpZCI6ICJUdXJrbWVuaXN0YW4iLCAidHlwZSI6ICJ2ZXJ0ZXgiLCAicHJvcHMiOiB7ImNvbG9yIjogNjUyODB9fQo=');</script>\n",
       "    "
      ],
      "text/plain": [
       "<IPython.core.display.HTML object>"
      ]
     },
     "metadata": {},
     "output_type": "display_data"
    },
    {
     "data": {
      "text/html": [
       "\n",
       "        <div id=\"3JYQE7pKqwTwahe6nZRfBE\"></div>\n",
       "        <script>netpixi.call('3JYQE7pKqwTwahe6nZRfBE', '843XDrSYxe3N5sMPEjkbP8', 'changeGraph', 'eyJpZCI6ICJZZW1lbiIsICJ0eXBlIjogInZlcnRleCIsICJwcm9wcyI6IHsiY29sb3IiOiAxNjcxMTY4MH19Cg==');</script>\n",
       "    "
      ],
      "text/plain": [
       "<IPython.core.display.HTML object>"
      ]
     },
     "metadata": {},
     "output_type": "display_data"
    },
    {
     "data": {
      "text/html": [
       "\n",
       "        <div id=\"Jr4bkABxN96gFeDAzNY6fT\"></div>\n",
       "        <script>netpixi.call('Jr4bkABxN96gFeDAzNY6fT', '843XDrSYxe3N5sMPEjkbP8', 'changeGraph', 'eyJpZCI6ICJKYXBhbiIsICJ0eXBlIjogInZlcnRleCIsICJwcm9wcyI6IHsiY29sb3IiOiAxNjcxMTY4MH19Cg==');</script>\n",
       "    "
      ],
      "text/plain": [
       "<IPython.core.display.HTML object>"
      ]
     },
     "metadata": {},
     "output_type": "display_data"
    },
    {
     "data": {
      "text/html": [
       "\n",
       "        <div id=\"mnDy5gtB4GrWSB7y6nxQhu\"></div>\n",
       "        <script>netpixi.call('mnDy5gtB4GrWSB7y6nxQhu', '843XDrSYxe3N5sMPEjkbP8', 'changeGraph', 'eyJpZCI6ICJBbGdlcmlhIiwgInR5cGUiOiAidmVydGV4IiwgInByb3BzIjogeyJjb2xvciI6IDE2NzExNjgwfX0K');</script>\n",
       "    "
      ],
      "text/plain": [
       "<IPython.core.display.HTML object>"
      ]
     },
     "metadata": {},
     "output_type": "display_data"
    },
    {
     "data": {
      "text/html": [
       "\n",
       "        <div id=\"EqEeHJeAbt8gaX7H44A6AP\"></div>\n",
       "        <script>netpixi.call('EqEeHJeAbt8gaX7H44A6AP', '843XDrSYxe3N5sMPEjkbP8', 'changeGraph', 'eyJpZCI6ICJCZXJtdWRhIiwgInR5cGUiOiAidmVydGV4IiwgInByb3BzIjogeyJjb2xvciI6IDY1MjgwfX0K');</script>\n",
       "    "
      ],
      "text/plain": [
       "<IPython.core.display.HTML object>"
      ]
     },
     "metadata": {},
     "output_type": "display_data"
    },
    {
     "data": {
      "text/html": [
       "\n",
       "        <div id=\"CUKmMKC3aUtvK7D8Sq2zgG\"></div>\n",
       "        <script>netpixi.call('CUKmMKC3aUtvK7D8Sq2zgG', '843XDrSYxe3N5sMPEjkbP8', 'changeGraph', 'eyJpZCI6ICJBbWVyaWNhbiBTYW1vYSIsICJ0eXBlIjogInZlcnRleCIsICJwcm9wcyI6IHsiY29sb3IiOiA2NTI4MH19Cg==');</script>\n",
       "    "
      ],
      "text/plain": [
       "<IPython.core.display.HTML object>"
      ]
     },
     "metadata": {},
     "output_type": "display_data"
    },
    {
     "data": {
      "text/html": [
       "\n",
       "        <div id=\"6pdaQntRaxk7v6ycSftjqr\"></div>\n",
       "        <script>netpixi.call('6pdaQntRaxk7v6ycSftjqr', '843XDrSYxe3N5sMPEjkbP8', 'changeGraph', 'eyJpZCI6ICJMYW8gUGVvcGxlJ3MgRGVtLiBSZXAuIiwgInR5cGUiOiAidmVydGV4IiwgInByb3BzIjogeyJjb2xvciI6IDY1MjgwfX0K');</script>\n",
       "    "
      ],
      "text/plain": [
       "<IPython.core.display.HTML object>"
      ]
     },
     "metadata": {},
     "output_type": "display_data"
    },
    {
     "data": {
      "text/html": [
       "\n",
       "        <div id=\"4k978fFyFXnnnWBwbnQkoD\"></div>\n",
       "        <script>netpixi.call('4k978fFyFXnnnWBwbnQkoD', '843XDrSYxe3N5sMPEjkbP8', 'changeGraph', 'eyJpZCI6ICJIb2x5IFNlZSAodGhlKSIsICJ0eXBlIjogInZlcnRleCIsICJwcm9wcyI6IHsiY29sb3IiOiA2NTI4MH19Cg==');</script>\n",
       "    "
      ],
      "text/plain": [
       "<IPython.core.display.HTML object>"
      ]
     },
     "metadata": {},
     "output_type": "display_data"
    },
    {
     "data": {
      "text/html": [
       "\n",
       "        <div id=\"M8WQbANbWUU7ino4vaDBRm\"></div>\n",
       "        <script>netpixi.call('M8WQbANbWUU7ino4vaDBRm', '843XDrSYxe3N5sMPEjkbP8', 'changeGraph', 'eyJpZCI6ICJTYXVkaSBBcmFiaWEiLCAidHlwZSI6ICJ2ZXJ0ZXgiLCAicHJvcHMiOiB7ImNvbG9yIjogNjUyODB9fQo=');</script>\n",
       "    "
      ],
      "text/plain": [
       "<IPython.core.display.HTML object>"
      ]
     },
     "metadata": {},
     "output_type": "display_data"
    },
    {
     "data": {
      "text/html": [
       "\n",
       "        <div id=\"4wgxGf5vAmkgHk29ywwG5r\"></div>\n",
       "        <script>netpixi.call('4wgxGf5vAmkgHk29ywwG5r', '843XDrSYxe3N5sMPEjkbP8', 'changeGraph', 'eyJpZCI6ICJTdXJpbmFtZSIsICJ0eXBlIjogInZlcnRleCIsICJwcm9wcyI6IHsiY29sb3IiOiA2NTI4MH19Cg==');</script>\n",
       "    "
      ],
      "text/plain": [
       "<IPython.core.display.HTML object>"
      ]
     },
     "metadata": {},
     "output_type": "display_data"
    },
    {
     "data": {
      "text/html": [
       "\n",
       "        <div id=\"c6zkK5DQLag6pjMGCJwpQP\"></div>\n",
       "        <script>netpixi.call('c6zkK5DQLag6pjMGCJwpQP', '843XDrSYxe3N5sMPEjkbP8', 'changeGraph', 'eyJpZCI6ICJCdXJ1bmRpIiwgInR5cGUiOiAidmVydGV4IiwgInByb3BzIjogeyJjb2xvciI6IDY1MjgwfX0K');</script>\n",
       "    "
      ],
      "text/plain": [
       "<IPython.core.display.HTML object>"
      ]
     },
     "metadata": {},
     "output_type": "display_data"
    },
    {
     "data": {
      "text/html": [
       "\n",
       "        <div id=\"P9yRBumVTR2TmRJ3itZdmt\"></div>\n",
       "        <script>netpixi.call('P9yRBumVTR2TmRJ3itZdmt', '843XDrSYxe3N5sMPEjkbP8', 'changeGraph', 'eyJpZCI6ICJOYXVydSIsICJ0eXBlIjogInZlcnRleCIsICJwcm9wcyI6IHsiY29sb3IiOiA2NTI4MH19Cg==');</script>\n",
       "    "
      ],
      "text/plain": [
       "<IPython.core.display.HTML object>"
      ]
     },
     "metadata": {},
     "output_type": "display_data"
    },
    {
     "data": {
      "text/html": [
       "\n",
       "        <div id=\"MCEHYaaKhfy9VZTfQw7rZE\"></div>\n",
       "        <script>netpixi.call('MCEHYaaKhfy9VZTfQw7rZE', '843XDrSYxe3N5sMPEjkbP8', 'changeGraph', 'eyJpZCI6ICJDb21vcm9zIiwgInR5cGUiOiAidmVydGV4IiwgInByb3BzIjogeyJjb2xvciI6IDY1MjgwfX0K');</script>\n",
       "    "
      ],
      "text/plain": [
       "<IPython.core.display.HTML object>"
      ]
     },
     "metadata": {},
     "output_type": "display_data"
    },
    {
     "data": {
      "text/html": [
       "\n",
       "        <div id=\"7gBs3qvL52wmpQ4xikEnD2\"></div>\n",
       "        <script>netpixi.call('7gBs3qvL52wmpQ4xikEnD2', '843XDrSYxe3N5sMPEjkbP8', 'changeGraph', 'eyJpZCI6ICJMZWJhbm9uIiwgInR5cGUiOiAidmVydGV4IiwgInByb3BzIjogeyJjb2xvciI6IDE2NzExNjgwfX0K');</script>\n",
       "    "
      ],
      "text/plain": [
       "<IPython.core.display.HTML object>"
      ]
     },
     "metadata": {},
     "output_type": "display_data"
    },
    {
     "data": {
      "text/html": [
       "\n",
       "        <div id=\"FrY6H2HC7kNoSKk5REojQu\"></div>\n",
       "        <script>netpixi.call('FrY6H2HC7kNoSKk5REojQu', '843XDrSYxe3N5sMPEjkbP8', 'changeGraph', 'eyJpZCI6ICJWZW5lenVlbGEgKEJvbGl2YXJpYW4gUmVwdWJsaWMgb2YpIiwgInR5cGUiOiAidmVydGV4IiwgInByb3BzIjogeyJjb2xvciI6IDE2NzExNjgwfX0K');</script>\n",
       "    "
      ],
      "text/plain": [
       "<IPython.core.display.HTML object>"
      ]
     },
     "metadata": {},
     "output_type": "display_data"
    },
    {
     "data": {
      "text/html": [
       "\n",
       "        <div id=\"XcSVFMnBokqQ6CbvCoTmvM\"></div>\n",
       "        <script>netpixi.call('XcSVFMnBokqQ6CbvCoTmvM', '843XDrSYxe3N5sMPEjkbP8', 'changeGraph', 'eyJpZCI6ICJSZXAuIG9mIE1vbGRvdmEiLCAidHlwZSI6ICJ2ZXJ0ZXgiLCAicHJvcHMiOiB7ImNvbG9yIjogMTY3MTE2ODB9fQo=');</script>\n",
       "    "
      ],
      "text/plain": [
       "<IPython.core.display.HTML object>"
      ]
     },
     "metadata": {},
     "output_type": "display_data"
    },
    {
     "data": {
      "text/html": [
       "\n",
       "        <div id=\"5NEnqBdax4xLQWstpJDhco\"></div>\n",
       "        <script>netpixi.call('5NEnqBdax4xLQWstpJDhco', '843XDrSYxe3N5sMPEjkbP8', 'changeGraph', 'eyJpZCI6ICJNb250c2VycmF0IiwgInR5cGUiOiAidmVydGV4IiwgInByb3BzIjogeyJjb2xvciI6IDY1MjgwfX0K');</script>\n",
       "    "
      ],
      "text/plain": [
       "<IPython.core.display.HTML object>"
      ]
     },
     "metadata": {},
     "output_type": "display_data"
    },
    {
     "data": {
      "text/html": [
       "\n",
       "        <div id=\"fXUQmuu7VDDbhbBfWeTUTE\"></div>\n",
       "        <script>netpixi.call('fXUQmuu7VDDbhbBfWeTUTE', '843XDrSYxe3N5sMPEjkbP8', 'changeGraph', 'eyJpZCI6ICJEZW0uIFJlcC4gb2YgdGhlIENvbmdvIiwgInR5cGUiOiAidmVydGV4IiwgInByb3BzIjogeyJjb2xvciI6IDY1MjgwfX0K');</script>\n",
       "    "
      ],
      "text/plain": [
       "<IPython.core.display.HTML object>"
      ]
     },
     "metadata": {},
     "output_type": "display_data"
    },
    {
     "data": {
      "text/html": [
       "\n",
       "        <div id=\"Ej5WFQsJPZcg7Qm4zfj5c4\"></div>\n",
       "        <script>netpixi.call('Ej5WFQsJPZcg7Qm4zfj5c4', '843XDrSYxe3N5sMPEjkbP8', 'changeGraph', 'eyJpZCI6ICJHaWJyYWx0YXIiLCAidHlwZSI6ICJ2ZXJ0ZXgiLCAicHJvcHMiOiB7ImNvbG9yIjogNjUyODB9fQo=');</script>\n",
       "    "
      ],
      "text/plain": [
       "<IPython.core.display.HTML object>"
      ]
     },
     "metadata": {},
     "output_type": "display_data"
    },
    {
     "data": {
      "text/html": [
       "\n",
       "        <div id=\"EouVbmsoCoZcofX4DBtwp5\"></div>\n",
       "        <script>netpixi.call('EouVbmsoCoZcofX4DBtwp5', '843XDrSYxe3N5sMPEjkbP8', 'changeGraph', 'eyJpZCI6ICJVcnVndWF5IiwgInR5cGUiOiAidmVydGV4IiwgInByb3BzIjogeyJjb2xvciI6IDY1MjgwfX0K');</script>\n",
       "    "
      ],
      "text/plain": [
       "<IPython.core.display.HTML object>"
      ]
     },
     "metadata": {},
     "output_type": "display_data"
    },
    {
     "data": {
      "text/html": [
       "\n",
       "        <div id=\"H2hp4tzM7g3gA97iZAeD6r\"></div>\n",
       "        <script>netpixi.call('H2hp4tzM7g3gA97iZAeD6r', '843XDrSYxe3N5sMPEjkbP8', 'changeGraph', 'eyJpZCI6ICJTZXJiaWEgYW5kIEtvc292byAoUy9SRVMvMTI0NCAoMTk5OSkpIiwgInR5cGUiOiAidmVydGV4IiwgInByb3BzIjogeyJjb2xvciI6IDE2NzExNjgwfX0K');</script>\n",
       "    "
      ],
      "text/plain": [
       "<IPython.core.display.HTML object>"
      ]
     },
     "metadata": {},
     "output_type": "display_data"
    },
    {
     "data": {
      "text/html": [
       "\n",
       "        <div id=\"hvtXPjSamsXQgaCtYRs8Et\"></div>\n",
       "        <script>netpixi.call('hvtXPjSamsXQgaCtYRs8Et', '843XDrSYxe3N5sMPEjkbP8', 'changeGraph', 'eyJpZCI6ICJCaHV0YW4iLCAidHlwZSI6ICJ2ZXJ0ZXgiLCAicHJvcHMiOiB7ImNvbG9yIjogNjUyODB9fQo=');</script>\n",
       "    "
      ],
      "text/plain": [
       "<IPython.core.display.HTML object>"
      ]
     },
     "metadata": {},
     "output_type": "display_data"
    },
    {
     "data": {
      "text/html": [
       "\n",
       "        <div id=\"mHwSJt52eQjY7YrhzfKEEj\"></div>\n",
       "        <script>netpixi.call('mHwSJt52eQjY7YrhzfKEEj', '843XDrSYxe3N5sMPEjkbP8', 'changeGraph', 'eyJpZCI6ICJRYXRhciIsICJ0eXBlIjogInZlcnRleCIsICJwcm9wcyI6IHsiY29sb3IiOiA2NTI4MH19Cg==');</script>\n",
       "    "
      ],
      "text/plain": [
       "<IPython.core.display.HTML object>"
      ]
     },
     "metadata": {},
     "output_type": "display_data"
    },
    {
     "data": {
      "text/html": [
       "\n",
       "        <div id=\"P9gmoGqpEBunrDqsAqQhDY\"></div>\n",
       "        <script>netpixi.call('P9gmoGqpEBunrDqsAqQhDY', '843XDrSYxe3N5sMPEjkbP8', 'changeGraph', 'eyJpZCI6ICJQYXB1YSBOZXcgR3VpbmVhIiwgInR5cGUiOiAidmVydGV4IiwgInByb3BzIjogeyJjb2xvciI6IDY1MjgwfX0K');</script>\n",
       "    "
      ],
      "text/plain": [
       "<IPython.core.display.HTML object>"
      ]
     },
     "metadata": {},
     "output_type": "display_data"
    },
    {
     "data": {
      "text/html": [
       "\n",
       "        <div id=\"XrwSpboKtXELUrAH3gUNLE\"></div>\n",
       "        <script>netpixi.call('XrwSpboKtXELUrAH3gUNLE', '843XDrSYxe3N5sMPEjkbP8', 'changeGraph', 'eyJpZCI6ICJBcm1lbmlhIiwgInR5cGUiOiAidmVydGV4IiwgInByb3BzIjogeyJjb2xvciI6IDY1MjgwfX0K');</script>\n",
       "    "
      ],
      "text/plain": [
       "<IPython.core.display.HTML object>"
      ]
     },
     "metadata": {},
     "output_type": "display_data"
    },
    {
     "data": {
      "text/html": [
       "\n",
       "        <div id=\"PDRTjnKBRvB4xHs9N3Ucaj\"></div>\n",
       "        <script>netpixi.call('PDRTjnKBRvB4xHs9N3Ucaj', '843XDrSYxe3N5sMPEjkbP8', 'changeGraph', 'eyJpZCI6ICJWYW51YXR1IiwgInR5cGUiOiAidmVydGV4IiwgInByb3BzIjogeyJjb2xvciI6IDY1MjgwfX0K');</script>\n",
       "    "
      ],
      "text/plain": [
       "<IPython.core.display.HTML object>"
      ]
     },
     "metadata": {},
     "output_type": "display_data"
    },
    {
     "data": {
      "text/html": [
       "\n",
       "        <div id=\"h99o97rDhLFXSMa85xpEJq\"></div>\n",
       "        <script>netpixi.call('h99o97rDhLFXSMa85xpEJq', '843XDrSYxe3N5sMPEjkbP8', 'changeGraph', 'eyJpZCI6ICJDYWJvIFZlcmRlIiwgInR5cGUiOiAidmVydGV4IiwgInByb3BzIjogeyJjb2xvciI6IDY1MjgwfX0K');</script>\n",
       "    "
      ],
      "text/plain": [
       "<IPython.core.display.HTML object>"
      ]
     },
     "metadata": {},
     "output_type": "display_data"
    },
    {
     "data": {
      "text/html": [
       "\n",
       "        <div id=\"dUid3ymFCxuohrDzCFp5jz\"></div>\n",
       "        <script>netpixi.call('dUid3ymFCxuohrDzCFp5jz', '843XDrSYxe3N5sMPEjkbP8', 'changeGraph', 'eyJpZCI6ICJCZWxpemUiLCAidHlwZSI6ICJ2ZXJ0ZXgiLCAicHJvcHMiOiB7ImNvbG9yIjogNjUyODB9fQo=');</script>\n",
       "    "
      ],
      "text/plain": [
       "<IPython.core.display.HTML object>"
      ]
     },
     "metadata": {},
     "output_type": "display_data"
    },
    {
     "data": {
      "text/html": [
       "\n",
       "        <div id=\"hK5qZuCP8WdEEkMEVYYifH\"></div>\n",
       "        <script>netpixi.call('hK5qZuCP8WdEEkMEVYYifH', '843XDrSYxe3N5sMPEjkbP8', 'changeGraph', 'eyJpZCI6ICJXZXN0ZXJuIFNhaGFyYSIsICJ0eXBlIjogInZlcnRleCIsICJwcm9wcyI6IHsiY29sb3IiOiA2NTI4MH19Cg==');</script>\n",
       "    "
      ],
      "text/plain": [
       "<IPython.core.display.HTML object>"
      ]
     },
     "metadata": {},
     "output_type": "display_data"
    },
    {
     "data": {
      "text/html": [
       "\n",
       "        <div id=\"kmJioNRvCKGTMnnZsxe9xW\"></div>\n",
       "        <script>netpixi.call('kmJioNRvCKGTMnnZsxe9xW', '843XDrSYxe3N5sMPEjkbP8', 'changeGraph', 'eyJpZCI6ICJMZXNvdGhvIiwgInR5cGUiOiAidmVydGV4IiwgInByb3BzIjogeyJjb2xvciI6IDY1MjgwfX0K');</script>\n",
       "    "
      ],
      "text/plain": [
       "<IPython.core.display.HTML object>"
      ]
     },
     "metadata": {},
     "output_type": "display_data"
    },
    {
     "data": {
      "text/html": [
       "\n",
       "        <div id=\"47NoW5MBCJBqYBeAVWEUB6\"></div>\n",
       "        <script>netpixi.call('47NoW5MBCJBqYBeAVWEUB6', '843XDrSYxe3N5sMPEjkbP8', 'changeGraph', 'eyJpZCI6ICJNeWFubWFyIiwgInR5cGUiOiAidmVydGV4IiwgInByb3BzIjogeyJjb2xvciI6IDY1MjgwfX0K');</script>\n",
       "    "
      ],
      "text/plain": [
       "<IPython.core.display.HTML object>"
      ]
     },
     "metadata": {},
     "output_type": "display_data"
    },
    {
     "data": {
      "text/html": [
       "\n",
       "        <div id=\"PZXYu2kKjJU45fPT4ehUDf\"></div>\n",
       "        <script>netpixi.call('PZXYu2kKjJU45fPT4ehUDf', '843XDrSYxe3N5sMPEjkbP8', 'changeGraph', 'eyJpZCI6ICJTYWludCBWaW5jZW50IGFuZCB0aGUgR3JlbmFkaW5lcyIsICJ0eXBlIjogInZlcnRleCIsICJwcm9wcyI6IHsiY29sb3IiOiA2NTI4MH19Cg==');</script>\n",
       "    "
      ],
      "text/plain": [
       "<IPython.core.display.HTML object>"
      ]
     },
     "metadata": {},
     "output_type": "display_data"
    },
    {
     "data": {
      "text/html": [
       "\n",
       "        <div id=\"ULdUZYfqYKKZzonE4LDJ3e\"></div>\n",
       "        <script>netpixi.call('ULdUZYfqYKKZzonE4LDJ3e', '843XDrSYxe3N5sMPEjkbP8', 'changeGraph', 'eyJpZCI6ICJaYW1iaWEiLCAidHlwZSI6ICJ2ZXJ0ZXgiLCAicHJvcHMiOiB7ImNvbG9yIjogNjUyODB9fQo=');</script>\n",
       "    "
      ],
      "text/plain": [
       "<IPython.core.display.HTML object>"
      ]
     },
     "metadata": {},
     "output_type": "display_data"
    },
    {
     "data": {
      "text/html": [
       "\n",
       "        <div id=\"29CEy7Fpz4NgJUJKnJFhxc\"></div>\n",
       "        <script>netpixi.call('29CEy7Fpz4NgJUJKnJFhxc', '843XDrSYxe3N5sMPEjkbP8', 'changeGraph', 'eyJpZCI6ICJUaWJldGFuIiwgInR5cGUiOiAidmVydGV4IiwgInByb3BzIjogeyJjb2xvciI6IDY1MjgwfX0K');</script>\n",
       "    "
      ],
      "text/plain": [
       "<IPython.core.display.HTML object>"
      ]
     },
     "metadata": {},
     "output_type": "display_data"
    },
    {
     "data": {
      "text/html": [
       "\n",
       "        <div id=\"YYFqpcAvBJJhAc4SEe8UYF\"></div>\n",
       "        <script>netpixi.call('YYFqpcAvBJJhAc4SEe8UYF', '843XDrSYxe3N5sMPEjkbP8', 'changeGraph', 'eyJpZCI6ICJUaW1vci1MZXN0ZSIsICJ0eXBlIjogInZlcnRleCIsICJwcm9wcyI6IHsiY29sb3IiOiA2NTI4MH19Cg==');</script>\n",
       "    "
      ],
      "text/plain": [
       "<IPython.core.display.HTML object>"
      ]
     },
     "metadata": {},
     "output_type": "display_data"
    },
    {
     "data": {
      "text/html": [
       "\n",
       "        <div id=\"8Phn3ZZMKtSh45NMfaq2Dh\"></div>\n",
       "        <script>netpixi.call('8Phn3ZZMKtSh45NMfaq2Dh', '843XDrSYxe3N5sMPEjkbP8', 'changeGraph', 'eyJpZCI6ICJJY2VsYW5kIiwgInR5cGUiOiAidmVydGV4IiwgInByb3BzIjogeyJjb2xvciI6IDE2NzExNjgwfX0K');</script>\n",
       "    "
      ],
      "text/plain": [
       "<IPython.core.display.HTML object>"
      ]
     },
     "metadata": {},
     "output_type": "display_data"
    },
    {
     "data": {
      "text/html": [
       "\n",
       "        <div id=\"Wqve6Aeb3FGzjLfwusZT3c\"></div>\n",
       "        <script>netpixi.call('Wqve6Aeb3FGzjLfwusZT3c', '843XDrSYxe3N5sMPEjkbP8', 'changeGraph', 'eyJpZCI6ICJVZ2FuZGEiLCAidHlwZSI6ICJ2ZXJ0ZXgiLCAicHJvcHMiOiB7ImNvbG9yIjogNjUyODB9fQo=');</script>\n",
       "    "
      ],
      "text/plain": [
       "<IPython.core.display.HTML object>"
      ]
     },
     "metadata": {},
     "output_type": "display_data"
    },
    {
     "data": {
      "text/html": [
       "\n",
       "        <div id=\"QBJfGgVYioaH8eqUax2dEm\"></div>\n",
       "        <script>netpixi.call('QBJfGgVYioaH8eqUax2dEm', '843XDrSYxe3N5sMPEjkbP8', 'changeGraph', 'eyJpZCI6ICJBbmRvcnJhIiwgInR5cGUiOiAidmVydGV4IiwgInByb3BzIjogeyJjb2xvciI6IDY1MjgwfX0K');</script>\n",
       "    "
      ],
      "text/plain": [
       "<IPython.core.display.HTML object>"
      ]
     },
     "metadata": {},
     "output_type": "display_data"
    },
    {
     "data": {
      "text/html": [
       "\n",
       "        <div id=\"dZRz4Hzan4SFcSrssedqBW\"></div>\n",
       "        <script>netpixi.call('dZRz4Hzan4SFcSrssedqBW', '843XDrSYxe3N5sMPEjkbP8', 'changeGraph', 'eyJpZCI6ICJNYWx0YSIsICJ0eXBlIjogInZlcnRleCIsICJwcm9wcyI6IHsiY29sb3IiOiAxNjcxMTY4MH19Cg==');</script>\n",
       "    "
      ],
      "text/plain": [
       "<IPython.core.display.HTML object>"
      ]
     },
     "metadata": {},
     "output_type": "display_data"
    },
    {
     "data": {
      "text/html": [
       "\n",
       "        <div id=\"Uo6rJGbWfJizE3QZn5mVr6\"></div>\n",
       "        <script>netpixi.call('Uo6rJGbWfJizE3QZn5mVr6', '843XDrSYxe3N5sMPEjkbP8', 'changeGraph', 'eyJpZCI6ICJCcml0aXNoIFZpcmdpbiBJc2xhbmRzIiwgInR5cGUiOiAidmVydGV4IiwgInByb3BzIjogeyJjb2xvciI6IDY1MjgwfX0K');</script>\n",
       "    "
      ],
      "text/plain": [
       "<IPython.core.display.HTML object>"
      ]
     },
     "metadata": {},
     "output_type": "display_data"
    },
    {
     "data": {
      "text/html": [
       "\n",
       "        <div id=\"HgU9LMgriz5sXptMRqyi8H\"></div>\n",
       "        <script>netpixi.call('HgU9LMgriz5sXptMRqyi8H', '843XDrSYxe3N5sMPEjkbP8', 'changeGraph', 'eyJpZCI6ICJTdmFsYmFyZCBhbmQgSmFuIE1heWVuIiwgInR5cGUiOiAidmVydGV4IiwgInByb3BzIjogeyJjb2xvciI6IDY1MjgwfX0K');</script>\n",
       "    "
      ],
      "text/plain": [
       "<IPython.core.display.HTML object>"
      ]
     },
     "metadata": {},
     "output_type": "display_data"
    },
    {
     "data": {
      "text/html": [
       "\n",
       "        <div id=\"B6CLtRKDKzktXtrKpfCt2s\"></div>\n",
       "        <script>netpixi.call('B6CLtRKDKzktXtrKpfCt2s', '843XDrSYxe3N5sMPEjkbP8', 'changeGraph', 'eyJpZCI6ICJJcmFuIChJc2xhbWljIFJlcC4gb2YpIiwgInR5cGUiOiAidmVydGV4IiwgInByb3BzIjogeyJjb2xvciI6IDY1MjgwfX0K');</script>\n",
       "    "
      ],
      "text/plain": [
       "<IPython.core.display.HTML object>"
      ]
     },
     "metadata": {},
     "output_type": "display_data"
    },
    {
     "data": {
      "text/html": [
       "\n",
       "        <div id=\"Bwmg58oWkHWjM4hjMwqVg8\"></div>\n",
       "        <script>netpixi.call('Bwmg58oWkHWjM4hjMwqVg8', '843XDrSYxe3N5sMPEjkbP8', 'changeGraph', 'eyJpZCI6ICJOZXBhbCIsICJ0eXBlIjogInZlcnRleCIsICJwcm9wcyI6IHsiY29sb3IiOiA2NTI4MH19Cg==');</script>\n",
       "    "
      ],
      "text/plain": [
       "<IPython.core.display.HTML object>"
      ]
     },
     "metadata": {},
     "output_type": "display_data"
    },
    {
     "data": {
      "text/html": [
       "\n",
       "        <div id=\"75gT6q3meFVDkJvWP2Mtsk\"></div>\n",
       "        <script>netpixi.call('75gT6q3meFVDkJvWP2Mtsk', '843XDrSYxe3N5sMPEjkbP8', 'changeGraph', 'eyJpZCI6ICJUb2dvIiwgInR5cGUiOiAidmVydGV4IiwgInByb3BzIjogeyJjb2xvciI6IDY1MjgwfX0K');</script>\n",
       "    "
      ],
      "text/plain": [
       "<IPython.core.display.HTML object>"
      ]
     },
     "metadata": {},
     "output_type": "display_data"
    },
    {
     "data": {
      "text/html": [
       "\n",
       "        <div id=\"iJoHs27h4zpuHeMW6Zke7C\"></div>\n",
       "        <script>netpixi.call('iJoHs27h4zpuHeMW6Zke7C', '843XDrSYxe3N5sMPEjkbP8', 'changeGraph', 'eyJpZCI6ICJDb29rIElzbGFuZHMiLCAidHlwZSI6ICJ2ZXJ0ZXgiLCAicHJvcHMiOiB7ImNvbG9yIjogNjUyODB9fQo=');</script>\n",
       "    "
      ],
      "text/plain": [
       "<IPython.core.display.HTML object>"
      ]
     },
     "metadata": {},
     "output_type": "display_data"
    },
    {
     "data": {
      "text/html": [
       "\n",
       "        <div id=\"FVHEqFeY9SQaDqDk5qo2rB\"></div>\n",
       "        <script>netpixi.call('FVHEqFeY9SQaDqDk5qo2rB', '843XDrSYxe3N5sMPEjkbP8', 'changeGraph', 'eyJpZCI6ICJOaWdlciIsICJ0eXBlIjogInZlcnRleCIsICJwcm9wcyI6IHsiY29sb3IiOiA2NTI4MH19Cg==');</script>\n",
       "    "
      ],
      "text/plain": [
       "<IPython.core.display.HTML object>"
      ]
     },
     "metadata": {},
     "output_type": "display_data"
    },
    {
     "data": {
      "text/html": [
       "\n",
       "        <div id=\"TqGggyGRt4CQoSGAVQJmUp\"></div>\n",
       "        <script>netpixi.call('TqGggyGRt4CQoSGAVQJmUp', '843XDrSYxe3N5sMPEjkbP8', 'changeGraph', 'eyJpZCI6ICJNb25hY28iLCAidHlwZSI6ICJ2ZXJ0ZXgiLCAicHJvcHMiOiB7ImNvbG9yIjogNjUyODB9fQo=');</script>\n",
       "    "
      ],
      "text/plain": [
       "<IPython.core.display.HTML object>"
      ]
     },
     "metadata": {},
     "output_type": "display_data"
    },
    {
     "data": {
      "text/html": [
       "\n",
       "        <div id=\"eZkADLwiqGRRWufr5aZSXS\"></div>\n",
       "        <script>netpixi.call('eZkADLwiqGRRWufr5aZSXS', '843XDrSYxe3N5sMPEjkbP8', 'changeGraph', 'eyJpZCI6ICJBbmd1aWxsYSIsICJ0eXBlIjogInZlcnRleCIsICJwcm9wcyI6IHsiY29sb3IiOiA2NTI4MH19Cg==');</script>\n",
       "    "
      ],
      "text/plain": [
       "<IPython.core.display.HTML object>"
      ]
     },
     "metadata": {},
     "output_type": "display_data"
    },
    {
     "data": {
      "text/html": [
       "\n",
       "        <div id=\"3pwDHt2zcFSCxbV5StUbdS\"></div>\n",
       "        <script>netpixi.call('3pwDHt2zcFSCxbV5StUbdS', '843XDrSYxe3N5sMPEjkbP8', 'changeGraph', 'eyJpZCI6ICJEamlib3V0aSIsICJ0eXBlIjogInZlcnRleCIsICJwcm9wcyI6IHsiY29sb3IiOiA2NTI4MH19Cg==');</script>\n",
       "    "
      ],
      "text/plain": [
       "<IPython.core.display.HTML object>"
      ]
     },
     "metadata": {},
     "output_type": "display_data"
    },
    {
     "data": {
      "text/html": [
       "\n",
       "        <div id=\"anE8bTU9TEPQKVUpCiZ9bG\"></div>\n",
       "        <script>netpixi.call('anE8bTU9TEPQKVUpCiZ9bG', '843XDrSYxe3N5sMPEjkbP8', 'changeGraph', 'eyJpZCI6ICJSdXNzaWFuIEZlZGVyYXRpb24iLCAidHlwZSI6ICJ2ZXJ0ZXgiLCAicHJvcHMiOiB7ImNvbG9yIjogMTY3MTE2ODB9fQo=');</script>\n",
       "    "
      ],
      "text/plain": [
       "<IPython.core.display.HTML object>"
      ]
     },
     "metadata": {},
     "output_type": "display_data"
    },
    {
     "data": {
      "text/html": [
       "\n",
       "        <div id=\"Efz253okwumNzCmToxtWUn\"></div>\n",
       "        <script>netpixi.call('Efz253okwumNzCmToxtWUn', '843XDrSYxe3N5sMPEjkbP8', 'changeGraph', 'eyJpZCI6ICJTYWludCBMdWNpYSIsICJ0eXBlIjogInZlcnRleCIsICJwcm9wcyI6IHsiY29sb3IiOiA2NTI4MH19Cg==');</script>\n",
       "    "
      ],
      "text/plain": [
       "<IPython.core.display.HTML object>"
      ]
     },
     "metadata": {},
     "output_type": "display_data"
    },
    {
     "data": {
      "text/html": [
       "\n",
       "        <div id=\"oELgrytQsZqCyKFDWu5RQH\"></div>\n",
       "        <script>netpixi.call('oELgrytQsZqCyKFDWu5RQH', '843XDrSYxe3N5sMPEjkbP8', 'changeGraph', 'eyJpZCI6ICJQb2xhbmQiLCAidHlwZSI6ICJ2ZXJ0ZXgiLCAicHJvcHMiOiB7ImNvbG9yIjogMTY3MTE2ODB9fQo=');</script>\n",
       "    "
      ],
      "text/plain": [
       "<IPython.core.display.HTML object>"
      ]
     },
     "metadata": {},
     "output_type": "display_data"
    },
    {
     "data": {
      "text/html": [
       "\n",
       "        <div id=\"U4waouZn7ATJmvxkZeUtiw\"></div>\n",
       "        <script>netpixi.call('U4waouZn7ATJmvxkZeUtiw', '843XDrSYxe3N5sMPEjkbP8', 'changeGraph', 'eyJpZCI6ICJBcmdlbnRpbmEiLCAidHlwZSI6ICJ2ZXJ0ZXgiLCAicHJvcHMiOiB7ImNvbG9yIjogMTY3MTE2ODB9fQo=');</script>\n",
       "    "
      ],
      "text/plain": [
       "<IPython.core.display.HTML object>"
      ]
     },
     "metadata": {},
     "output_type": "display_data"
    },
    {
     "data": {
      "text/html": [
       "\n",
       "        <div id=\"XsEoftEWNfznQsonjF25yH\"></div>\n",
       "        <script>netpixi.call('XsEoftEWNfznQsonjF25yH', '843XDrSYxe3N5sMPEjkbP8', 'changeGraph', 'eyJpZCI6ICJBcnViYSIsICJ0eXBlIjogInZlcnRleCIsICJwcm9wcyI6IHsiY29sb3IiOiA2NTI4MH19Cg==');</script>\n",
       "    "
      ],
      "text/plain": [
       "<IPython.core.display.HTML object>"
      ]
     },
     "metadata": {},
     "output_type": "display_data"
    },
    {
     "data": {
      "text/html": [
       "\n",
       "        <div id=\"muygHiB2sc8hPHEdwYFRrD\"></div>\n",
       "        <script>netpixi.call('muygHiB2sc8hPHEdwYFRrD', '843XDrSYxe3N5sMPEjkbP8', 'changeGraph', 'eyJpZCI6ICJXYWxsaXMgYW5kIEZ1dHVuYSBJc2xhbmRzICIsICJ0eXBlIjogInZlcnRleCIsICJwcm9wcyI6IHsiY29sb3IiOiA2NTI4MH19Cg==');</script>\n",
       "    "
      ],
      "text/plain": [
       "<IPython.core.display.HTML object>"
      ]
     },
     "metadata": {},
     "output_type": "display_data"
    },
    {
     "data": {
      "text/html": [
       "\n",
       "        <div id=\"faN8uhbTXQPwmm2zgYBMNR\"></div>\n",
       "        <script>netpixi.call('faN8uhbTXQPwmm2zgYBMNR', '843XDrSYxe3N5sMPEjkbP8', 'changeGraph', 'eyJpZCI6ICJTdWRhbiIsICJ0eXBlIjogInZlcnRleCIsICJwcm9wcyI6IHsiY29sb3IiOiAxNjcxMTY4MH19Cg==');</script>\n",
       "    "
      ],
      "text/plain": [
       "<IPython.core.display.HTML object>"
      ]
     },
     "metadata": {},
     "output_type": "display_data"
    },
    {
     "data": {
      "text/html": [
       "\n",
       "        <div id=\"RzVhukizrZ3mxPdgWa3BT5\"></div>\n",
       "        <script>netpixi.call('RzVhukizrZ3mxPdgWa3BT5', '843XDrSYxe3N5sMPEjkbP8', 'changeGraph', 'eyJpZCI6ICJTd2F6aWxhbmQiLCAidHlwZSI6ICJ2ZXJ0ZXgiLCAicHJvcHMiOiB7ImNvbG9yIjogNjUyODB9fQo=');</script>\n",
       "    "
      ],
      "text/plain": [
       "<IPython.core.display.HTML object>"
      ]
     },
     "metadata": {},
     "output_type": "display_data"
    },
    {
     "data": {
      "text/html": [
       "\n",
       "        <div id=\"56w4ZRDBdKJMrVeUbfqgWF\"></div>\n",
       "        <script>netpixi.call('56w4ZRDBdKJMrVeUbfqgWF', '843XDrSYxe3N5sMPEjkbP8', 'changeGraph', 'eyJpZCI6ICJOYW1pYmlhIiwgInR5cGUiOiAidmVydGV4IiwgInByb3BzIjogeyJjb2xvciI6IDE2NzExNjgwfX0K');</script>\n",
       "    "
      ],
      "text/plain": [
       "<IPython.core.display.HTML object>"
      ]
     },
     "metadata": {},
     "output_type": "display_data"
    },
    {
     "data": {
      "text/html": [
       "\n",
       "        <div id=\"Db2VGzAQEgswTMqkLQJ8fb\"></div>\n",
       "        <script>netpixi.call('Db2VGzAQEgswTMqkLQJ8fb', '843XDrSYxe3N5sMPEjkbP8', 'changeGraph', 'eyJpZCI6ICJDemVjaCBSZXAuIiwgInR5cGUiOiAidmVydGV4IiwgInByb3BzIjogeyJjb2xvciI6IDE2NzExNjgwfX0K');</script>\n",
       "    "
      ],
      "text/plain": [
       "<IPython.core.display.HTML object>"
      ]
     },
     "metadata": {},
     "output_type": "display_data"
    },
    {
     "data": {
      "text/html": [
       "\n",
       "        <div id=\"Z63bQtqr3s4aSvU7PrCkTN\"></div>\n",
       "        <script>netpixi.call('Z63bQtqr3s4aSvU7PrCkTN', '843XDrSYxe3N5sMPEjkbP8', 'changeGraph', 'eyJpZCI6ICJDb3N0YSBSaWNhIiwgInR5cGUiOiAidmVydGV4IiwgInByb3BzIjogeyJjb2xvciI6IDE2NzExNjgwfX0K');</script>\n",
       "    "
      ],
      "text/plain": [
       "<IPython.core.display.HTML object>"
      ]
     },
     "metadata": {},
     "output_type": "display_data"
    },
    {
     "data": {
      "text/html": [
       "\n",
       "        <div id=\"EMQgFvZTrBdsupH6ATjc3u\"></div>\n",
       "        <script>netpixi.call('EMQgFvZTrBdsupH6ATjc3u', '843XDrSYxe3N5sMPEjkbP8', 'changeGraph', 'eyJpZCI6ICJFcXVhdG9yaWFsIEd1aW5lYSIsICJ0eXBlIjogInZlcnRleCIsICJwcm9wcyI6IHsiY29sb3IiOiA2NTI4MH19Cg==');</script>\n",
       "    "
      ],
      "text/plain": [
       "<IPython.core.display.HTML object>"
      ]
     },
     "metadata": {},
     "output_type": "display_data"
    },
    {
     "data": {
      "text/html": [
       "\n",
       "        <div id=\"EuAhgC2xRunUfFRW4HtYKV\"></div>\n",
       "        <script>netpixi.call('EuAhgC2xRunUfFRW4HtYKV', '843XDrSYxe3N5sMPEjkbP8', 'changeGraph', 'eyJpZCI6ICJLeXJneXpzdGFuIiwgInR5cGUiOiAidmVydGV4IiwgInByb3BzIjogeyJjb2xvciI6IDY1MjgwfX0K');</script>\n",
       "    "
      ],
      "text/plain": [
       "<IPython.core.display.HTML object>"
      ]
     },
     "metadata": {},
     "output_type": "display_data"
    },
    {
     "data": {
      "text/html": [
       "\n",
       "        <div id=\"6szSMMFr7Uw36UVTRqDjE5\"></div>\n",
       "        <script>netpixi.call('6szSMMFr7Uw36UVTRqDjE5', '843XDrSYxe3N5sMPEjkbP8', 'changeGraph', 'eyJpZCI6ICJNYWxheXNpYSIsICJ0eXBlIjogInZlcnRleCIsICJwcm9wcyI6IHsiY29sb3IiOiAxNjcxMTY4MH19Cg==');</script>\n",
       "    "
      ],
      "text/plain": [
       "<IPython.core.display.HTML object>"
      ]
     },
     "metadata": {},
     "output_type": "display_data"
    },
    {
     "data": {
      "text/html": [
       "\n",
       "        <div id=\"musYfmFAjFyQqGSiGKjaJQ\"></div>\n",
       "        <script>netpixi.call('musYfmFAjFyQqGSiGKjaJQ', '843XDrSYxe3N5sMPEjkbP8', 'changeGraph', 'eyJpZCI6ICJNYXJ0aW5pcXVlIiwgInR5cGUiOiAidmVydGV4IiwgInByb3BzIjogeyJjb2xvciI6IDY1MjgwfX0K');</script>\n",
       "    "
      ],
      "text/plain": [
       "<IPython.core.display.HTML object>"
      ]
     },
     "metadata": {},
     "output_type": "display_data"
    },
    {
     "data": {
      "text/html": [
       "\n",
       "        <div id=\"CBty9BDEA7DWmT7wVnQ3aA\"></div>\n",
       "        <script>netpixi.call('CBty9BDEA7DWmT7wVnQ3aA', '843XDrSYxe3N5sMPEjkbP8', 'changeGraph', 'eyJpZCI6ICJTcmkgTGFua2EiLCAidHlwZSI6ICJ2ZXJ0ZXgiLCAicHJvcHMiOiB7ImNvbG9yIjogNjUyODB9fQo=');</script>\n",
       "    "
      ],
      "text/plain": [
       "<IPython.core.display.HTML object>"
      ]
     },
     "metadata": {},
     "output_type": "display_data"
    },
    {
     "data": {
      "text/html": [
       "\n",
       "        <div id=\"ZwzAQ5xsnAXvxnJd42arDq\"></div>\n",
       "        <script>netpixi.call('ZwzAQ5xsnAXvxnJd42arDq', '843XDrSYxe3N5sMPEjkbP8', 'changeGraph', 'eyJpZCI6ICJUdXJrZXkiLCAidHlwZSI6ICJ2ZXJ0ZXgiLCAicHJvcHMiOiB7ImNvbG9yIjogMTY3MTE2ODB9fQo=');</script>\n",
       "    "
      ],
      "text/plain": [
       "<IPython.core.display.HTML object>"
      ]
     },
     "metadata": {},
     "output_type": "display_data"
    },
    {
     "data": {
      "text/html": [
       "\n",
       "        <div id=\"jM8YnQ7JM5jeVVufpjr7GZ\"></div>\n",
       "        <script>netpixi.call('jM8YnQ7JM5jeVVufpjr7GZ', '843XDrSYxe3N5sMPEjkbP8', 'changeGraph', 'eyJpZCI6ICJCZW5pbiIsICJ0eXBlIjogInZlcnRleCIsICJwcm9wcyI6IHsiY29sb3IiOiAxNjcxMTY4MH19Cg==');</script>\n",
       "    "
      ],
      "text/plain": [
       "<IPython.core.display.HTML object>"
      ]
     },
     "metadata": {},
     "output_type": "display_data"
    },
    {
     "data": {
      "text/html": [
       "\n",
       "        <div id=\"5JSFFXD3ncJ66ScAqje7Zs\"></div>\n",
       "        <script>netpixi.call('5JSFFXD3ncJ66ScAqje7Zs', '843XDrSYxe3N5sMPEjkbP8', 'changeGraph', 'eyJpZCI6ICJBemVyYmFpamFuIiwgInR5cGUiOiAidmVydGV4IiwgInByb3BzIjogeyJjb2xvciI6IDY1MjgwfX0K');</script>\n",
       "    "
      ],
      "text/plain": [
       "<IPython.core.display.HTML object>"
      ]
     },
     "metadata": {},
     "output_type": "display_data"
    },
    {
     "data": {
      "text/html": [
       "\n",
       "        <div id=\"azQSjx55jsjbVCSFvnRQ5K\"></div>\n",
       "        <script>netpixi.call('azQSjx55jsjbVCSFvnRQ5K', '843XDrSYxe3N5sMPEjkbP8', 'changeGraph', 'eyJpZCI6ICJJcmVsYW5kIiwgInR5cGUiOiAidmVydGV4IiwgInByb3BzIjogeyJjb2xvciI6IDE2NzExNjgwfX0K');</script>\n",
       "    "
      ],
      "text/plain": [
       "<IPython.core.display.HTML object>"
      ]
     },
     "metadata": {},
     "output_type": "display_data"
    },
    {
     "data": {
      "text/html": [
       "\n",
       "        <div id=\"EnGix3yKU7drpDxNHhVW64\"></div>\n",
       "        <script>netpixi.call('EnGix3yKU7drpDxNHhVW64', '843XDrSYxe3N5sMPEjkbP8', 'changeGraph', 'eyJpZCI6ICJTdGF0ZWxlc3MiLCAidHlwZSI6ICJ2ZXJ0ZXgiLCAicHJvcHMiOiB7ImNvbG9yIjogNjUyODB9fQo=');</script>\n",
       "    "
      ],
      "text/plain": [
       "<IPython.core.display.HTML object>"
      ]
     },
     "metadata": {},
     "output_type": "display_data"
    },
    {
     "data": {
      "text/html": [
       "\n",
       "        <div id=\"Pfa5xS6tHxXGCnzQDZVaKZ\"></div>\n",
       "        <script>netpixi.call('Pfa5xS6tHxXGCnzQDZVaKZ', '843XDrSYxe3N5sMPEjkbP8', 'changeGraph', 'eyJpZCI6ICJSb21hbmlhIiwgInR5cGUiOiAidmVydGV4IiwgInByb3BzIjogeyJjb2xvciI6IDE2NzExNjgwfX0K');</script>\n",
       "    "
      ],
      "text/plain": [
       "<IPython.core.display.HTML object>"
      ]
     },
     "metadata": {},
     "output_type": "display_data"
    },
    {
     "data": {
      "text/html": [
       "\n",
       "        <div id=\"XNqLjw9CnqPAQGr3Qg2s39\"></div>\n",
       "        <script>netpixi.call('XNqLjw9CnqPAQGr3Qg2s39', '843XDrSYxe3N5sMPEjkbP8', 'changeGraph', 'eyJpZCI6ICJOb3J3YXkiLCAidHlwZSI6ICJ2ZXJ0ZXgiLCAicHJvcHMiOiB7ImNvbG9yIjogMTY3MTE2ODB9fQo=');</script>\n",
       "    "
      ],
      "text/plain": [
       "<IPython.core.display.HTML object>"
      ]
     },
     "metadata": {},
     "output_type": "display_data"
    },
    {
     "data": {
      "text/html": [
       "\n",
       "        <div id=\"gfTmsJsSucXCVbDn3CyQnt\"></div>\n",
       "        <script>netpixi.call('gfTmsJsSucXCVbDn3CyQnt', '843XDrSYxe3N5sMPEjkbP8', 'changeGraph', 'eyJpZCI6ICJGcmFuY2UiLCAidHlwZSI6ICJ2ZXJ0ZXgiLCAicHJvcHMiOiB7ImNvbG9yIjogMTY3MTE2ODB9fQo=');</script>\n",
       "    "
      ],
      "text/plain": [
       "<IPython.core.display.HTML object>"
      ]
     },
     "metadata": {},
     "output_type": "display_data"
    },
    {
     "data": {
      "text/html": [
       "\n",
       "        <div id=\"mZ2oQiZCduQmqKyXQBJ6iw\"></div>\n",
       "        <script>netpixi.call('mZ2oQiZCduQmqKyXQBJ6iw', '843XDrSYxe3N5sMPEjkbP8', 'changeGraph', 'eyJpZCI6ICJNaWNyb25lc2lhIChGZWRlcmF0ZWQgU3RhdGVzIG9mKSIsICJ0eXBlIjogInZlcnRleCIsICJwcm9wcyI6IHsiY29sb3IiOiA2NTI4MH19Cg==');</script>\n",
       "    "
      ],
      "text/plain": [
       "<IPython.core.display.HTML object>"
      ]
     },
     "metadata": {},
     "output_type": "display_data"
    },
    {
     "data": {
      "text/html": [
       "\n",
       "        <div id=\"5eSahnpNbVK9kSKqrL3MaC\"></div>\n",
       "        <script>netpixi.call('5eSahnpNbVK9kSKqrL3MaC', '843XDrSYxe3N5sMPEjkbP8', 'changeGraph', 'eyJpZCI6ICJOb3Jmb2xrIElzbGFuZCIsICJ0eXBlIjogInZlcnRleCIsICJwcm9wcyI6IHsiY29sb3IiOiA2NTI4MH19Cg==');</script>\n",
       "    "
      ],
      "text/plain": [
       "<IPython.core.display.HTML object>"
      ]
     },
     "metadata": {},
     "output_type": "display_data"
    },
    {
     "data": {
      "text/html": [
       "\n",
       "        <div id=\"ipJ8EvVAUqTGa4H7RWAphq\"></div>\n",
       "        <script>netpixi.call('ipJ8EvVAUqTGa4H7RWAphq', '843XDrSYxe3N5sMPEjkbP8', 'changeGraph', 'eyJpZCI6ICJQb3J0dWdhbCIsICJ0eXBlIjogInZlcnRleCIsICJwcm9wcyI6IHsiY29sb3IiOiAxNjcxMTY4MH19Cg==');</script>\n",
       "    "
      ],
      "text/plain": [
       "<IPython.core.display.HTML object>"
      ]
     },
     "metadata": {},
     "output_type": "display_data"
    },
    {
     "data": {
      "text/html": [
       "\n",
       "        <div id=\"HhA9vZ3eneu3dvv8McceYC\"></div>\n",
       "        <script>netpixi.call('HhA9vZ3eneu3dvv8McceYC', '843XDrSYxe3N5sMPEjkbP8', 'changeGraph', 'eyJpZCI6ICJMaWJ5YSIsICJ0eXBlIjogInZlcnRleCIsICJwcm9wcyI6IHsiY29sb3IiOiAxNjcxMTY4MH19Cg==');</script>\n",
       "    "
      ],
      "text/plain": [
       "<IPython.core.display.HTML object>"
      ]
     },
     "metadata": {},
     "output_type": "display_data"
    },
    {
     "data": {
      "text/html": [
       "\n",
       "        <div id=\"4SfdEXPBXGsHL2QsLtspgF\"></div>\n",
       "        <script>netpixi.call('4SfdEXPBXGsHL2QsLtspgF', '843XDrSYxe3N5sMPEjkbP8', 'changeGraph', 'eyJpZCI6ICJNb25nb2xpYSIsICJ0eXBlIjogInZlcnRleCIsICJwcm9wcyI6IHsiY29sb3IiOiA2NTI4MH19Cg==');</script>\n",
       "    "
      ],
      "text/plain": [
       "<IPython.core.display.HTML object>"
      ]
     },
     "metadata": {},
     "output_type": "display_data"
    },
    {
     "data": {
      "text/html": [
       "\n",
       "        <div id=\"PzuXKVXBwfusG9NZ7f86xK\"></div>\n",
       "        <script>netpixi.call('PzuXKVXBwfusG9NZ7f86xK', '843XDrSYxe3N5sMPEjkbP8', 'changeGraph', 'eyJpZCI6ICJBdXN0cmFsaWEiLCAidHlwZSI6ICJ2ZXJ0ZXgiLCAicHJvcHMiOiB7ImNvbG9yIjogMTY3MTE2ODB9fQo=');</script>\n",
       "    "
      ],
      "text/plain": [
       "<IPython.core.display.HTML object>"
      ]
     },
     "metadata": {},
     "output_type": "display_data"
    },
    {
     "data": {
      "text/html": [
       "\n",
       "        <div id=\"6r3mK2vr3CjXeM7mwduLNW\"></div>\n",
       "        <script>netpixi.call('6r3mK2vr3CjXeM7mwduLNW', '843XDrSYxe3N5sMPEjkbP8', 'changeGraph', 'eyJpZCI6ICJKb3JkYW4iLCAidHlwZSI6ICJ2ZXJ0ZXgiLCAicHJvcHMiOiB7ImNvbG9yIjogMTY3MTE2ODB9fQo=');</script>\n",
       "    "
      ],
      "text/plain": [
       "<IPython.core.display.HTML object>"
      ]
     },
     "metadata": {},
     "output_type": "display_data"
    },
    {
     "data": {
      "text/html": [
       "\n",
       "        <div id=\"dkbNghgKsguguUNm8sV9Ub\"></div>\n",
       "        <script>netpixi.call('dkbNghgKsguguUNm8sV9Ub', '843XDrSYxe3N5sMPEjkbP8', 'changeGraph', 'eyJpZCI6ICJBbGJhbmlhIiwgInR5cGUiOiAidmVydGV4IiwgInByb3BzIjogeyJjb2xvciI6IDY1MjgwfX0K');</script>\n",
       "    "
      ],
      "text/plain": [
       "<IPython.core.display.HTML object>"
      ]
     },
     "metadata": {},
     "output_type": "display_data"
    },
    {
     "data": {
      "text/html": [
       "\n",
       "        <div id=\"bLVb3ERYQjqW5Xc9JtVwr6\"></div>\n",
       "        <script>netpixi.call('bLVb3ERYQjqW5Xc9JtVwr6', '843XDrSYxe3N5sMPEjkbP8', 'changeGraph', 'eyJpZCI6ICJHaGFuYSIsICJ0eXBlIjogInZlcnRleCIsICJwcm9wcyI6IHsiY29sb3IiOiAxNjcxMTY4MH19Cg==');</script>\n",
       "    "
      ],
      "text/plain": [
       "<IPython.core.display.HTML object>"
      ]
     },
     "metadata": {},
     "output_type": "display_data"
    },
    {
     "data": {
      "text/html": [
       "\n",
       "        <div id=\"ZYpiZoAyMt4Po42f66TYFB\"></div>\n",
       "        <script>netpixi.call('ZYpiZoAyMt4Po42f66TYFB', '843XDrSYxe3N5sMPEjkbP8', 'changeGraph', 'eyJpZCI6ICJDaGluYSIsICJ0eXBlIjogInZlcnRleCIsICJwcm9wcyI6IHsiY29sb3IiOiAxNjcxMTY4MH19Cg==');</script>\n",
       "    "
      ],
      "text/plain": [
       "<IPython.core.display.HTML object>"
      ]
     },
     "metadata": {},
     "output_type": "display_data"
    },
    {
     "data": {
      "text/html": [
       "\n",
       "        <div id=\"d7DFqQ7EzFMZ992xuerAtV\"></div>\n",
       "        <script>netpixi.call('d7DFqQ7EzFMZ992xuerAtV', '843XDrSYxe3N5sMPEjkbP8', 'changeGraph', 'eyJpZCI6ICJLZW55YSIsICJ0eXBlIjogInZlcnRleCIsICJwcm9wcyI6IHsiY29sb3IiOiAxNjcxMTY4MH19Cg==');</script>\n",
       "    "
      ],
      "text/plain": [
       "<IPython.core.display.HTML object>"
      ]
     },
     "metadata": {},
     "output_type": "display_data"
    },
    {
     "data": {
      "text/html": [
       "\n",
       "        <div id=\"bSnr4JBfonPcRd7FUA3Ktm\"></div>\n",
       "        <script>netpixi.call('bSnr4JBfonPcRd7FUA3Ktm', '843XDrSYxe3N5sMPEjkbP8', 'changeGraph', 'eyJpZCI6ICJJcmFxIiwgInR5cGUiOiAidmVydGV4IiwgInByb3BzIjogeyJjb2xvciI6IDY1MjgwfX0K');</script>\n",
       "    "
      ],
      "text/plain": [
       "<IPython.core.display.HTML object>"
      ]
     },
     "metadata": {},
     "output_type": "display_data"
    },
    {
     "data": {
      "text/html": [
       "\n",
       "        <div id=\"oM33iYe7pjbEK4oNDYaYSt\"></div>\n",
       "        <script>netpixi.call('oM33iYe7pjbEK4oNDYaYSt', '843XDrSYxe3N5sMPEjkbP8', 'changeGraph', 'eyJpZCI6ICJMaWJlcmlhIiwgInR5cGUiOiAidmVydGV4IiwgInByb3BzIjogeyJjb2xvciI6IDY1MjgwfX0K');</script>\n",
       "    "
      ],
      "text/plain": [
       "<IPython.core.display.HTML object>"
      ]
     },
     "metadata": {},
     "output_type": "display_data"
    },
    {
     "data": {
      "text/html": [
       "\n",
       "        <div id=\"bHhtHLfFi8GP9KdjYBYCkh\"></div>\n",
       "        <script>netpixi.call('bHhtHLfFi8GP9KdjYBYCkh', '843XDrSYxe3N5sMPEjkbP8', 'changeGraph', 'eyJpZCI6ICJQZXJ1IiwgInR5cGUiOiAidmVydGV4IiwgInByb3BzIjogeyJjb2xvciI6IDE2NzExNjgwfX0K');</script>\n",
       "    "
      ],
      "text/plain": [
       "<IPython.core.display.HTML object>"
      ]
     },
     "metadata": {},
     "output_type": "display_data"
    },
    {
     "data": {
      "text/html": [
       "\n",
       "        <div id=\"mi4apqMgAmahTVRWghDDxM\"></div>\n",
       "        <script>netpixi.call('mi4apqMgAmahTVRWghDDxM', '843XDrSYxe3N5sMPEjkbP8', 'changeGraph', 'eyJpZCI6ICJGaW5sYW5kIiwgInR5cGUiOiAidmVydGV4IiwgInByb3BzIjogeyJjb2xvciI6IDE2NzExNjgwfX0K');</script>\n",
       "    "
      ],
      "text/plain": [
       "<IPython.core.display.HTML object>"
      ]
     },
     "metadata": {},
     "output_type": "display_data"
    },
    {
     "data": {
      "text/html": [
       "\n",
       "        <div id=\"Dmb9AYeRezHU9bUKb5CJaD\"></div>\n",
       "        <script>netpixi.call('Dmb9AYeRezHU9bUKb5CJaD', '843XDrSYxe3N5sMPEjkbP8', 'changeGraph', 'eyJpZCI6ICJTZW5lZ2FsIiwgInR5cGUiOiAidmVydGV4IiwgInByb3BzIjogeyJjb2xvciI6IDE2NzExNjgwfX0K');</script>\n",
       "    "
      ],
      "text/plain": [
       "<IPython.core.display.HTML object>"
      ]
     },
     "metadata": {},
     "output_type": "display_data"
    },
    {
     "data": {
      "text/html": [
       "\n",
       "        <div id=\"j6UkVPgJhEeTm7AVp4X4hu\"></div>\n",
       "        <script>netpixi.call('j6UkVPgJhEeTm7AVp4X4hu', '843XDrSYxe3N5sMPEjkbP8', 'changeGraph', 'eyJpZCI6ICJDaGlsZSIsICJ0eXBlIjogInZlcnRleCIsICJwcm9wcyI6IHsiY29sb3IiOiA2NTI4MH19Cg==');</script>\n",
       "    "
      ],
      "text/plain": [
       "<IPython.core.display.HTML object>"
      ]
     },
     "metadata": {},
     "output_type": "display_data"
    },
    {
     "data": {
      "text/html": [
       "\n",
       "        <div id=\"UKc8BjyPYRA69jwaVt9gJj\"></div>\n",
       "        <script>netpixi.call('UKc8BjyPYRA69jwaVt9gJj', '843XDrSYxe3N5sMPEjkbP8', 'changeGraph', 'eyJpZCI6ICJFc3RvbmlhIiwgInR5cGUiOiAidmVydGV4IiwgInByb3BzIjogeyJjb2xvciI6IDE2NzExNjgwfX0K');</script>\n",
       "    "
      ],
      "text/plain": [
       "<IPython.core.display.HTML object>"
      ]
     },
     "metadata": {},
     "output_type": "display_data"
    },
    {
     "data": {
      "text/html": [
       "\n",
       "        <div id=\"S9vpnevdJHGiLCqmgTPKzV\"></div>\n",
       "        <script>netpixi.call('S9vpnevdJHGiLCqmgTPKzV', '843XDrSYxe3N5sMPEjkbP8', 'changeGraph', 'eyJpZCI6ICJQYWxhdSIsICJ0eXBlIjogInZlcnRleCIsICJwcm9wcyI6IHsiY29sb3IiOiA2NTI4MH19Cg==');</script>\n",
       "    "
      ],
      "text/plain": [
       "<IPython.core.display.HTML object>"
      ]
     },
     "metadata": {},
     "output_type": "display_data"
    },
    {
     "data": {
      "text/html": [
       "\n",
       "        <div id=\"bMbrfXSkhHEoALVehN68eA\"></div>\n",
       "        <script>netpixi.call('bMbrfXSkhHEoALVehN68eA', '843XDrSYxe3N5sMPEjkbP8', 'changeGraph', 'eyJpZCI6ICJIdW5nYXJ5IiwgInR5cGUiOiAidmVydGV4IiwgInByb3BzIjogeyJjb2xvciI6IDE2NzExNjgwfX0K');</script>\n",
       "    "
      ],
      "text/plain": [
       "<IPython.core.display.HTML object>"
      ]
     },
     "metadata": {},
     "output_type": "display_data"
    }
   ],
   "source": [
    "matrix = spectral.adjacency(g2)\n",
    "\n",
    "algorithm = cpnet.BE()\n",
    "algorithm.detect(matrix)\n",
    "c = algorithm.get_coreness()\n",
    "\n",
    "g2.add_vp('coreness')\n",
    "for i, coreness in c.items():\n",
    "    v = g2.get_vertex_by_index(i)\n",
    "    v['coreness'] = int(coreness)\n",
    "    \n",
    "for v in g2.all_vertices():\n",
    "    if v['coreness'] == 1:\n",
    "        r2.vertex(v['id'], color=0xff0000)\n",
    "    else:\n",
    "        r2.vertex(v['id'], color=0x00ff00)\n",
    "\n",
    "# # Quando a execução desta célula terminar,\n",
    "# # veja como ficou a visualização acima."
   ]
  },
  {
   "cell_type": "code",
   "execution_count": 72,
   "id": "16cec3a9",
   "metadata": {},
   "outputs": [
    {
     "data": {
      "text/html": [
       "\n",
       "        <div id=\"99d9WjcAbynx6VQjKmhQzH\"></div>\n",
       "        <script>netpixi.call('99d9WjcAbynx6VQjKmhQzH', '843XDrSYxe3N5sMPEjkbP8', 'normalizeGraph', 'eyJ0eXBlIjogImVkZ2UiLCAicHJvcHMiOiB7InNyYyI6ICJhY2VpdG9zIiwgIm1pbiI6IDEsICJtYXgiOiAxMH19Cg==');</script>\n",
       "    "
      ],
      "text/plain": [
       "<IPython.core.display.HTML object>"
      ]
     },
     "metadata": {},
     "output_type": "display_data"
    },
    {
     "data": {
      "text/html": [
       "\n",
       "        <div id=\"QpsWYbZEWqMkXTazkSZhyU\"></div>\n",
       "        <script>netpixi.call('QpsWYbZEWqMkXTazkSZhyU', '843XDrSYxe3N5sMPEjkbP8', 'setGraph', 'eyJ0eXBlIjogInZlcnRleCIsICJwcm9wcyI6IHsic3JjIjogIm5vbWUiLCAiZHN0IjogIl9rZXkifX0K');</script>\n",
       "    "
      ],
      "text/plain": [
       "<IPython.core.display.HTML object>"
      ]
     },
     "metadata": {},
     "output_type": "display_data"
    },
    {
     "data": {
      "text/html": [
       "\n",
       "        <div id=\"oXKQ8xdFLQB3mJkjvn49zK\"></div>\n",
       "        <script>netpixi.call('oXKQ8xdFLQB3mJkjvn49zK', '843XDrSYxe3N5sMPEjkbP8', 'normalizeGraph', 'eyJ0eXBlIjogInZlcnRleCIsICJwcm9wcyI6IHsic3JjIjogImNvcmVuZXNzIiwgIm1pbiI6IDUsICJtYXgiOiAyNX19Cg==');</script>\n",
       "    "
      ],
      "text/plain": [
       "<IPython.core.display.HTML object>"
      ]
     },
     "metadata": {},
     "output_type": "display_data"
    }
   ],
   "source": [
    "r2.edge_scale('aceitos', 1, 10)\n",
    "\n",
    "r2.vertex_set_key('nome')\n",
    "\n",
    "r2.vertex_scale('coreness', 5, 25)"
   ]
  },
  {
   "cell_type": "code",
   "execution_count": 73,
   "id": "82fa769f",
   "metadata": {
    "collapsed": true
   },
   "outputs": [
    {
     "data": {
      "text/html": [
       "<div>\n",
       "<style scoped>\n",
       "    .dataframe tbody tr th:only-of-type {\n",
       "        vertical-align: middle;\n",
       "    }\n",
       "\n",
       "    .dataframe tbody tr th {\n",
       "        vertical-align: top;\n",
       "    }\n",
       "\n",
       "    .dataframe thead th {\n",
       "        text-align: right;\n",
       "    }\n",
       "</style>\n",
       "<table border=\"1\" class=\"dataframe\">\n",
       "  <thead>\n",
       "    <tr style=\"text-align: right;\">\n",
       "      <th></th>\n",
       "      <th>nome</th>\n",
       "      <th>coreness</th>\n",
       "    </tr>\n",
       "    <tr>\n",
       "      <th>id</th>\n",
       "      <th></th>\n",
       "      <th></th>\n",
       "    </tr>\n",
       "  </thead>\n",
       "  <tbody>\n",
       "    <tr>\n",
       "      <th>Hungary</th>\n",
       "      <td>Hungary</td>\n",
       "      <td>1</td>\n",
       "    </tr>\n",
       "    <tr>\n",
       "      <th>United States of America</th>\n",
       "      <td>United States of America</td>\n",
       "      <td>1</td>\n",
       "    </tr>\n",
       "    <tr>\n",
       "      <th>Malta</th>\n",
       "      <td>Malta</td>\n",
       "      <td>1</td>\n",
       "    </tr>\n",
       "    <tr>\n",
       "      <th>Latvia</th>\n",
       "      <td>Latvia</td>\n",
       "      <td>1</td>\n",
       "    </tr>\n",
       "    <tr>\n",
       "      <th>Italy</th>\n",
       "      <td>Italy</td>\n",
       "      <td>1</td>\n",
       "    </tr>\n",
       "    <tr>\n",
       "      <th>...</th>\n",
       "      <td>...</td>\n",
       "      <td>...</td>\n",
       "    </tr>\n",
       "    <tr>\n",
       "      <th>Madagascar</th>\n",
       "      <td>Madagascar</td>\n",
       "      <td>0</td>\n",
       "    </tr>\n",
       "    <tr>\n",
       "      <th>Guadeloupe</th>\n",
       "      <td>Guadeloupe</td>\n",
       "      <td>0</td>\n",
       "    </tr>\n",
       "    <tr>\n",
       "      <th>Cambodia</th>\n",
       "      <td>Cambodia</td>\n",
       "      <td>0</td>\n",
       "    </tr>\n",
       "    <tr>\n",
       "      <th>Brunei Darussalam</th>\n",
       "      <td>Brunei Darussalam</td>\n",
       "      <td>0</td>\n",
       "    </tr>\n",
       "    <tr>\n",
       "      <th>Turks and Caicos Islands</th>\n",
       "      <td>Turks and Caicos Islands</td>\n",
       "      <td>0</td>\n",
       "    </tr>\n",
       "  </tbody>\n",
       "</table>\n",
       "<p>225 rows × 2 columns</p>\n",
       "</div>"
      ],
      "text/plain": [
       "                                              nome  coreness\n",
       "id                                                          \n",
       "Hungary                                    Hungary         1\n",
       "United States of America  United States of America         1\n",
       "Malta                                        Malta         1\n",
       "Latvia                                      Latvia         1\n",
       "Italy                                        Italy         1\n",
       "...                                            ...       ...\n",
       "Madagascar                              Madagascar         0\n",
       "Guadeloupe                              Guadeloupe         0\n",
       "Cambodia                                  Cambodia         0\n",
       "Brunei Darussalam                Brunei Darussalam         0\n",
       "Turks and Caicos Islands  Turks and Caicos Islands         0\n",
       "\n",
       "[225 rows x 2 columns]"
      ]
     },
     "execution_count": 73,
     "metadata": {},
     "output_type": "execute_result"
    }
   ],
   "source": [
    "df_coreness_2008_2012 = gt_data(g2).sort_values(\"coreness\", ascending = False)\n",
    "df_coreness_2008_2012"
   ]
  },
  {
   "cell_type": "code",
   "execution_count": 74,
   "id": "a09c52ae",
   "metadata": {},
   "outputs": [
    {
     "data": {
      "text/html": [
       "\n",
       "        <div id=\"4wB2F6QSJeQnVEBYNF5zsT\"></div>\n",
       "        <script>netpixi.call('4wB2F6QSJeQnVEBYNF5zsT', '843XDrSYxe3N5sMPEjkbP8', 'setGraph', 'eyJ0eXBlIjogInZlcnRleCIsICJwcm9wcyI6IHsic3JjIjogIm5vbWUiLCAiZHN0IjogIl9rZXkifX0K');</script>\n",
       "    "
      ],
      "text/plain": [
       "<IPython.core.display.HTML object>"
      ]
     },
     "metadata": {},
     "output_type": "display_data"
    },
    {
     "data": {
      "text/html": [
       "\n",
       "        <div id=\"d7DPszycC5TbrDGL28SnKu\"></div>\n",
       "        <script>netpixi.call('d7DPszycC5TbrDGL28SnKu', '843XDrSYxe3N5sMPEjkbP8', 'changeGraph', 'eyJ0eXBlIjogInNldHRpbmdzIiwgInByb3BzIjogeyJ2ZXJ0ZXgiOiB7ImNvbG9yIjogMTY3NzcyMTV9fX0K');</script>\n",
       "    "
      ],
      "text/plain": [
       "<IPython.core.display.HTML object>"
      ]
     },
     "metadata": {},
     "output_type": "display_data"
    },
    {
     "data": {
      "text/html": [
       "\n",
       "        <div id=\"2iFTL98D9EGzvk4pB7kVHn\"></div>\n",
       "        <script>netpixi.call('2iFTL98D9EGzvk4pB7kVHn', '843XDrSYxe3N5sMPEjkbP8', 'changeGraph', 'eyJ0eXBlIjogInNldHRpbmdzIiwgInByb3BzIjogeyJlZGdlIjogeyJjb2xvciI6IDIxNDI4OTB9fX0K');</script>\n",
       "    "
      ],
      "text/plain": [
       "<IPython.core.display.HTML object>"
      ]
     },
     "metadata": {},
     "output_type": "display_data"
    }
   ],
   "source": [
    "r2.vertex_set_key('nome')\n",
    "\n",
    "r2.vertex_default(color=0xffffff)\n",
    "\n",
    "# mudar a cor, a espessura e a curvatura das arestas\n",
    "r2.edge_default(color=0x20B2AA)"
   ]
  },
  {
   "cell_type": "code",
   "execution_count": 75,
   "id": "81768283",
   "metadata": {},
   "outputs": [
    {
     "data": {
      "text/html": [
       "\n",
       "        <div id=\"HNSmiRDgTgXtEZQHNvBzy2\"></div>\n",
       "        <script>netpixi.call('HNSmiRDgTgXtEZQHNvBzy2', '843XDrSYxe3N5sMPEjkbP8', 'normalizeGraph', 'eyJ0eXBlIjogImVkZ2UiLCAicHJvcHMiOiB7InNyYyI6ICJhY2VpdG9zIiwgIm1pbiI6IDEsICJtYXgiOiAxMH19Cg==');</script>\n",
       "    "
      ],
      "text/plain": [
       "<IPython.core.display.HTML object>"
      ]
     },
     "metadata": {},
     "output_type": "display_data"
    }
   ],
   "source": [
    "r2.edge_scale('aceitos', 1, 10)"
   ]
  },
  {
   "cell_type": "code",
   "execution_count": 76,
   "id": "32989e63",
   "metadata": {
    "collapsed": true
   },
   "outputs": [
    {
     "data": {
      "text/html": [
       "<div>\n",
       "<style scoped>\n",
       "    .dataframe tbody tr th:only-of-type {\n",
       "        vertical-align: middle;\n",
       "    }\n",
       "\n",
       "    .dataframe tbody tr th {\n",
       "        vertical-align: top;\n",
       "    }\n",
       "\n",
       "    .dataframe thead th {\n",
       "        text-align: right;\n",
       "    }\n",
       "</style>\n",
       "<table border=\"1\" class=\"dataframe\">\n",
       "  <thead>\n",
       "    <tr style=\"text-align: right;\">\n",
       "      <th></th>\n",
       "      <th>origin</th>\n",
       "      <th>coreness</th>\n",
       "    </tr>\n",
       "    <tr>\n",
       "      <th>id</th>\n",
       "      <th></th>\n",
       "      <th></th>\n",
       "    </tr>\n",
       "  </thead>\n",
       "  <tbody>\n",
       "    <tr>\n",
       "      <th>Hungary</th>\n",
       "      <td>Hungary</td>\n",
       "      <td>1</td>\n",
       "    </tr>\n",
       "    <tr>\n",
       "      <th>United States of America</th>\n",
       "      <td>United States of America</td>\n",
       "      <td>1</td>\n",
       "    </tr>\n",
       "    <tr>\n",
       "      <th>Malta</th>\n",
       "      <td>Malta</td>\n",
       "      <td>1</td>\n",
       "    </tr>\n",
       "    <tr>\n",
       "      <th>Latvia</th>\n",
       "      <td>Latvia</td>\n",
       "      <td>1</td>\n",
       "    </tr>\n",
       "    <tr>\n",
       "      <th>Italy</th>\n",
       "      <td>Italy</td>\n",
       "      <td>1</td>\n",
       "    </tr>\n",
       "    <tr>\n",
       "      <th>...</th>\n",
       "      <td>...</td>\n",
       "      <td>...</td>\n",
       "    </tr>\n",
       "    <tr>\n",
       "      <th>Madagascar</th>\n",
       "      <td>Madagascar</td>\n",
       "      <td>0</td>\n",
       "    </tr>\n",
       "    <tr>\n",
       "      <th>Guadeloupe</th>\n",
       "      <td>Guadeloupe</td>\n",
       "      <td>0</td>\n",
       "    </tr>\n",
       "    <tr>\n",
       "      <th>Cambodia</th>\n",
       "      <td>Cambodia</td>\n",
       "      <td>0</td>\n",
       "    </tr>\n",
       "    <tr>\n",
       "      <th>Brunei Darussalam</th>\n",
       "      <td>Brunei Darussalam</td>\n",
       "      <td>0</td>\n",
       "    </tr>\n",
       "    <tr>\n",
       "      <th>Turks and Caicos Islands</th>\n",
       "      <td>Turks and Caicos Islands</td>\n",
       "      <td>0</td>\n",
       "    </tr>\n",
       "  </tbody>\n",
       "</table>\n",
       "<p>225 rows × 2 columns</p>\n",
       "</div>"
      ],
      "text/plain": [
       "                                            origin  coreness\n",
       "id                                                          \n",
       "Hungary                                    Hungary         1\n",
       "United States of America  United States of America         1\n",
       "Malta                                        Malta         1\n",
       "Latvia                                      Latvia         1\n",
       "Italy                                        Italy         1\n",
       "...                                            ...       ...\n",
       "Madagascar                              Madagascar         0\n",
       "Guadeloupe                              Guadeloupe         0\n",
       "Cambodia                                  Cambodia         0\n",
       "Brunei Darussalam                Brunei Darussalam         0\n",
       "Turks and Caicos Islands  Turks and Caicos Islands         0\n",
       "\n",
       "[225 rows x 2 columns]"
      ]
     },
     "execution_count": 76,
     "metadata": {},
     "output_type": "execute_result"
    }
   ],
   "source": [
    "data_idh_2008_2012 = data.loc[:, ['idh_2008_2012', 'country', 'pop_cont']]\n",
    "\n",
    "data_idh_2008_2012 = data_idh_2008_2012.rename(columns={'idh_2008_2012': 'idh_2008_2012', 'country': 'origin'})\n",
    "df_coreness_2008_2012 = df_coreness_2008_2012.rename(columns={'nome':'origin'})\n",
    "\n",
    "df_coreness_2008_2012"
   ]
  },
  {
   "cell_type": "code",
   "execution_count": 77,
   "id": "ea78a57f",
   "metadata": {
    "collapsed": true
   },
   "outputs": [
    {
     "data": {
      "text/html": [
       "<div>\n",
       "<style scoped>\n",
       "    .dataframe tbody tr th:only-of-type {\n",
       "        vertical-align: middle;\n",
       "    }\n",
       "\n",
       "    .dataframe tbody tr th {\n",
       "        vertical-align: top;\n",
       "    }\n",
       "\n",
       "    .dataframe thead th {\n",
       "        text-align: right;\n",
       "    }\n",
       "</style>\n",
       "<table border=\"1\" class=\"dataframe\">\n",
       "  <thead>\n",
       "    <tr style=\"text-align: right;\">\n",
       "      <th></th>\n",
       "      <th>origin</th>\n",
       "      <th>coreness</th>\n",
       "      <th>idh_2008_2012</th>\n",
       "      <th>pop_cont</th>\n",
       "    </tr>\n",
       "  </thead>\n",
       "  <tbody>\n",
       "    <tr>\n",
       "      <th>0</th>\n",
       "      <td>Hungary</td>\n",
       "      <td>1</td>\n",
       "      <td>0.8280</td>\n",
       "      <td>0</td>\n",
       "    </tr>\n",
       "    <tr>\n",
       "      <th>1</th>\n",
       "      <td>United States of America</td>\n",
       "      <td>1</td>\n",
       "      <td>0.9156</td>\n",
       "      <td>0</td>\n",
       "    </tr>\n",
       "    <tr>\n",
       "      <th>2</th>\n",
       "      <td>Malta</td>\n",
       "      <td>1</td>\n",
       "      <td>0.8490</td>\n",
       "      <td>0</td>\n",
       "    </tr>\n",
       "    <tr>\n",
       "      <th>3</th>\n",
       "      <td>Latvia</td>\n",
       "      <td>1</td>\n",
       "      <td>0.8278</td>\n",
       "      <td>0</td>\n",
       "    </tr>\n",
       "    <tr>\n",
       "      <th>4</th>\n",
       "      <td>Italy</td>\n",
       "      <td>1</td>\n",
       "      <td>0.8792</td>\n",
       "      <td>0</td>\n",
       "    </tr>\n",
       "    <tr>\n",
       "      <th>...</th>\n",
       "      <td>...</td>\n",
       "      <td>...</td>\n",
       "      <td>...</td>\n",
       "      <td>...</td>\n",
       "    </tr>\n",
       "    <tr>\n",
       "      <th>220</th>\n",
       "      <td>Madagascar</td>\n",
       "      <td>0</td>\n",
       "      <td>0.5106</td>\n",
       "      <td>0</td>\n",
       "    </tr>\n",
       "    <tr>\n",
       "      <th>221</th>\n",
       "      <td>Guadeloupe</td>\n",
       "      <td>0</td>\n",
       "      <td>0.8530</td>\n",
       "      <td>0</td>\n",
       "    </tr>\n",
       "    <tr>\n",
       "      <th>222</th>\n",
       "      <td>Cambodia</td>\n",
       "      <td>0</td>\n",
       "      <td>0.5380</td>\n",
       "      <td>0</td>\n",
       "    </tr>\n",
       "    <tr>\n",
       "      <th>223</th>\n",
       "      <td>Brunei Darussalam</td>\n",
       "      <td>0</td>\n",
       "      <td>0.8298</td>\n",
       "      <td>0</td>\n",
       "    </tr>\n",
       "    <tr>\n",
       "      <th>224</th>\n",
       "      <td>Turks and Caicos Islands</td>\n",
       "      <td>0</td>\n",
       "      <td>0.8730</td>\n",
       "      <td>0</td>\n",
       "    </tr>\n",
       "  </tbody>\n",
       "</table>\n",
       "<p>225 rows × 4 columns</p>\n",
       "</div>"
      ],
      "text/plain": [
       "                       origin  coreness  idh_2008_2012  pop_cont\n",
       "0                     Hungary         1         0.8280         0\n",
       "1    United States of America         1         0.9156         0\n",
       "2                       Malta         1         0.8490         0\n",
       "3                      Latvia         1         0.8278         0\n",
       "4                       Italy         1         0.8792         0\n",
       "..                        ...       ...            ...       ...\n",
       "220                Madagascar         0         0.5106         0\n",
       "221                Guadeloupe         0         0.8530         0\n",
       "222                  Cambodia         0         0.5380         0\n",
       "223         Brunei Darussalam         0         0.8298         0\n",
       "224  Turks and Caicos Islands         0         0.8730         0\n",
       "\n",
       "[225 rows x 4 columns]"
      ]
     },
     "execution_count": 77,
     "metadata": {},
     "output_type": "execute_result"
    }
   ],
   "source": [
    "df_intermediario = df_coreness_2008_2012.merge(data_idh_2008_2012, on=\"origin\", how=\"left\")\n",
    "df_intermediario"
   ]
  },
  {
   "cell_type": "code",
   "execution_count": 78,
   "id": "d7b3afde",
   "metadata": {
    "collapsed": true
   },
   "outputs": [
    {
     "data": {
      "text/html": [
       "<div>\n",
       "<style scoped>\n",
       "    .dataframe tbody tr th:only-of-type {\n",
       "        vertical-align: middle;\n",
       "    }\n",
       "\n",
       "    .dataframe tbody tr th {\n",
       "        vertical-align: top;\n",
       "    }\n",
       "\n",
       "    .dataframe thead th {\n",
       "        text-align: right;\n",
       "    }\n",
       "</style>\n",
       "<table border=\"1\" class=\"dataframe\">\n",
       "  <thead>\n",
       "    <tr style=\"text-align: right;\">\n",
       "      <th></th>\n",
       "      <th>origin</th>\n",
       "      <th>coreness</th>\n",
       "      <th>idh_2008_2012</th>\n",
       "      <th>pop_cont</th>\n",
       "      <th>value</th>\n",
       "      <th>rejected</th>\n",
       "    </tr>\n",
       "  </thead>\n",
       "  <tbody>\n",
       "    <tr>\n",
       "      <th>0</th>\n",
       "      <td>Hungary</td>\n",
       "      <td>1</td>\n",
       "      <td>0.8280</td>\n",
       "      <td>0</td>\n",
       "      <td>675.0</td>\n",
       "      <td>3363.0</td>\n",
       "    </tr>\n",
       "    <tr>\n",
       "      <th>1</th>\n",
       "      <td>United States of America</td>\n",
       "      <td>1</td>\n",
       "      <td>0.9156</td>\n",
       "      <td>0</td>\n",
       "      <td>50.0</td>\n",
       "      <td>2765.0</td>\n",
       "    </tr>\n",
       "    <tr>\n",
       "      <th>2</th>\n",
       "      <td>Malta</td>\n",
       "      <td>1</td>\n",
       "      <td>0.8490</td>\n",
       "      <td>0</td>\n",
       "      <td>0.0</td>\n",
       "      <td>7.0</td>\n",
       "    </tr>\n",
       "    <tr>\n",
       "      <th>3</th>\n",
       "      <td>Latvia</td>\n",
       "      <td>1</td>\n",
       "      <td>0.8278</td>\n",
       "      <td>0</td>\n",
       "      <td>66.0</td>\n",
       "      <td>206.0</td>\n",
       "    </tr>\n",
       "    <tr>\n",
       "      <th>4</th>\n",
       "      <td>Italy</td>\n",
       "      <td>1</td>\n",
       "      <td>0.8792</td>\n",
       "      <td>0</td>\n",
       "      <td>19.0</td>\n",
       "      <td>147.0</td>\n",
       "    </tr>\n",
       "    <tr>\n",
       "      <th>...</th>\n",
       "      <td>...</td>\n",
       "      <td>...</td>\n",
       "      <td>...</td>\n",
       "      <td>...</td>\n",
       "      <td>...</td>\n",
       "      <td>...</td>\n",
       "    </tr>\n",
       "    <tr>\n",
       "      <th>220</th>\n",
       "      <td>Madagascar</td>\n",
       "      <td>0</td>\n",
       "      <td>0.5106</td>\n",
       "      <td>0</td>\n",
       "      <td>84.0</td>\n",
       "      <td>657.0</td>\n",
       "    </tr>\n",
       "    <tr>\n",
       "      <th>221</th>\n",
       "      <td>Guadeloupe</td>\n",
       "      <td>0</td>\n",
       "      <td>0.8530</td>\n",
       "      <td>0</td>\n",
       "      <td>0.0</td>\n",
       "      <td>0.0</td>\n",
       "    </tr>\n",
       "    <tr>\n",
       "      <th>222</th>\n",
       "      <td>Cambodia</td>\n",
       "      <td>0</td>\n",
       "      <td>0.5380</td>\n",
       "      <td>0</td>\n",
       "      <td>328.0</td>\n",
       "      <td>567.0</td>\n",
       "    </tr>\n",
       "    <tr>\n",
       "      <th>223</th>\n",
       "      <td>Brunei Darussalam</td>\n",
       "      <td>0</td>\n",
       "      <td>0.8298</td>\n",
       "      <td>0</td>\n",
       "      <td>0.0</td>\n",
       "      <td>2.0</td>\n",
       "    </tr>\n",
       "    <tr>\n",
       "      <th>224</th>\n",
       "      <td>Turks and Caicos Islands</td>\n",
       "      <td>0</td>\n",
       "      <td>0.8730</td>\n",
       "      <td>0</td>\n",
       "      <td>2.0</td>\n",
       "      <td>2.0</td>\n",
       "    </tr>\n",
       "  </tbody>\n",
       "</table>\n",
       "<p>225 rows × 6 columns</p>\n",
       "</div>"
      ],
      "text/plain": [
       "                       origin  coreness  idh_2008_2012  pop_cont  value  \\\n",
       "0                     Hungary         1         0.8280         0  675.0   \n",
       "1    United States of America         1         0.9156         0   50.0   \n",
       "2                       Malta         1         0.8490         0    0.0   \n",
       "3                      Latvia         1         0.8278         0   66.0   \n",
       "4                       Italy         1         0.8792         0   19.0   \n",
       "..                        ...       ...            ...       ...    ...   \n",
       "220                Madagascar         0         0.5106         0   84.0   \n",
       "221                Guadeloupe         0         0.8530         0    0.0   \n",
       "222                  Cambodia         0         0.5380         0  328.0   \n",
       "223         Brunei Darussalam         0         0.8298         0    0.0   \n",
       "224  Turks and Caicos Islands         0         0.8730         0    2.0   \n",
       "\n",
       "     rejected  \n",
       "0      3363.0  \n",
       "1      2765.0  \n",
       "2         7.0  \n",
       "3       206.0  \n",
       "4       147.0  \n",
       "..        ...  \n",
       "220     657.0  \n",
       "221       0.0  \n",
       "222     567.0  \n",
       "223       2.0  \n",
       "224       2.0  \n",
       "\n",
       "[225 rows x 6 columns]"
      ]
     },
     "execution_count": 78,
     "metadata": {},
     "output_type": "execute_result"
    }
   ],
   "source": [
    "df_intermediario = df_intermediario.merge(df_out_degree_2008_2012, on=\"origin\", how=\"left\")\n",
    "df_intermediario"
   ]
  },
  {
   "cell_type": "code",
   "execution_count": 79,
   "id": "673724d8",
   "metadata": {
    "collapsed": true
   },
   "outputs": [
    {
     "data": {
      "text/plain": [
       "['Austria',\n",
       " 'Belgium',\n",
       " 'Bulgaria',\n",
       " 'Canada',\n",
       " 'Czech Rep.',\n",
       " 'Cyprus',\n",
       " 'Denmark',\n",
       " 'Estonia',\n",
       " 'Finland',\n",
       " 'France',\n",
       " 'Germany',\n",
       " 'Greece',\n",
       " 'Hungary',\n",
       " 'Ireland',\n",
       " 'Italy',\n",
       " 'Latvia',\n",
       " 'Lithuania',\n",
       " 'Luxembourg',\n",
       " 'Malta',\n",
       " 'Netherlands',\n",
       " 'Poland',\n",
       " 'Portugal',\n",
       " 'Romania',\n",
       " 'Slovakia',\n",
       " 'Slovenia',\n",
       " 'Spain',\n",
       " 'Sweden',\n",
       " 'United States of America']"
      ]
     },
     "execution_count": 79,
     "metadata": {},
     "output_type": "execute_result"
    }
   ],
   "source": [
    "paises_eu_america =  pd.read_csv('./eu_america.csv')\n",
    "lista_paises_eu_america = paises_eu_america['EU_North_America'].to_list()\n",
    "lista_paises_eu_america"
   ]
  },
  {
   "cell_type": "code",
   "execution_count": 80,
   "id": "1f947d71",
   "metadata": {
    "collapsed": true
   },
   "outputs": [
    {
     "data": {
      "text/html": [
       "<div>\n",
       "<style scoped>\n",
       "    .dataframe tbody tr th:only-of-type {\n",
       "        vertical-align: middle;\n",
       "    }\n",
       "\n",
       "    .dataframe tbody tr th {\n",
       "        vertical-align: top;\n",
       "    }\n",
       "\n",
       "    .dataframe thead th {\n",
       "        text-align: right;\n",
       "    }\n",
       "</style>\n",
       "<table border=\"1\" class=\"dataframe\">\n",
       "  <thead>\n",
       "    <tr style=\"text-align: right;\">\n",
       "      <th></th>\n",
       "      <th>origin</th>\n",
       "      <th>coreness</th>\n",
       "      <th>idh_2008_2012</th>\n",
       "      <th>pop_cont</th>\n",
       "      <th>value</th>\n",
       "      <th>rejected</th>\n",
       "    </tr>\n",
       "  </thead>\n",
       "  <tbody>\n",
       "    <tr>\n",
       "      <th>0</th>\n",
       "      <td>Hungary</td>\n",
       "      <td>1</td>\n",
       "      <td>0.8280</td>\n",
       "      <td>0</td>\n",
       "      <td>675.0</td>\n",
       "      <td>3363.0</td>\n",
       "    </tr>\n",
       "    <tr>\n",
       "      <th>1</th>\n",
       "      <td>United States of America</td>\n",
       "      <td>1</td>\n",
       "      <td>0.9156</td>\n",
       "      <td>0</td>\n",
       "      <td>50.0</td>\n",
       "      <td>2765.0</td>\n",
       "    </tr>\n",
       "    <tr>\n",
       "      <th>2</th>\n",
       "      <td>Malta</td>\n",
       "      <td>1</td>\n",
       "      <td>0.8490</td>\n",
       "      <td>0</td>\n",
       "      <td>0.0</td>\n",
       "      <td>7.0</td>\n",
       "    </tr>\n",
       "    <tr>\n",
       "      <th>3</th>\n",
       "      <td>Latvia</td>\n",
       "      <td>1</td>\n",
       "      <td>0.8278</td>\n",
       "      <td>0</td>\n",
       "      <td>66.0</td>\n",
       "      <td>206.0</td>\n",
       "    </tr>\n",
       "    <tr>\n",
       "      <th>4</th>\n",
       "      <td>Italy</td>\n",
       "      <td>1</td>\n",
       "      <td>0.8792</td>\n",
       "      <td>0</td>\n",
       "      <td>19.0</td>\n",
       "      <td>147.0</td>\n",
       "    </tr>\n",
       "    <tr>\n",
       "      <th>5</th>\n",
       "      <td>Germany</td>\n",
       "      <td>1</td>\n",
       "      <td>0.9284</td>\n",
       "      <td>0</td>\n",
       "      <td>31.0</td>\n",
       "      <td>223.0</td>\n",
       "    </tr>\n",
       "    <tr>\n",
       "      <th>6</th>\n",
       "      <td>Belgium</td>\n",
       "      <td>1</td>\n",
       "      <td>0.9094</td>\n",
       "      <td>0</td>\n",
       "      <td>31.0</td>\n",
       "      <td>47.0</td>\n",
       "    </tr>\n",
       "    <tr>\n",
       "      <th>8</th>\n",
       "      <td>Netherlands</td>\n",
       "      <td>1</td>\n",
       "      <td>0.9196</td>\n",
       "      <td>0</td>\n",
       "      <td>9.0</td>\n",
       "      <td>105.0</td>\n",
       "    </tr>\n",
       "    <tr>\n",
       "      <th>10</th>\n",
       "      <td>Poland</td>\n",
       "      <td>1</td>\n",
       "      <td>0.8380</td>\n",
       "      <td>0</td>\n",
       "      <td>109.0</td>\n",
       "      <td>427.0</td>\n",
       "    </tr>\n",
       "    <tr>\n",
       "      <th>15</th>\n",
       "      <td>Slovakia</td>\n",
       "      <td>1</td>\n",
       "      <td>0.8320</td>\n",
       "      <td>0</td>\n",
       "      <td>35.0</td>\n",
       "      <td>1189.0</td>\n",
       "    </tr>\n",
       "    <tr>\n",
       "      <th>16</th>\n",
       "      <td>Spain</td>\n",
       "      <td>1</td>\n",
       "      <td>0.8718</td>\n",
       "      <td>0</td>\n",
       "      <td>16.0</td>\n",
       "      <td>147.0</td>\n",
       "    </tr>\n",
       "    <tr>\n",
       "      <th>18</th>\n",
       "      <td>Czech Rep.</td>\n",
       "      <td>1</td>\n",
       "      <td>0.8694</td>\n",
       "      <td>1</td>\n",
       "      <td>291.0</td>\n",
       "      <td>1372.0</td>\n",
       "    </tr>\n",
       "    <tr>\n",
       "      <th>34</th>\n",
       "      <td>Slovenia</td>\n",
       "      <td>1</td>\n",
       "      <td>0.8870</td>\n",
       "      <td>0</td>\n",
       "      <td>8.0</td>\n",
       "      <td>24.0</td>\n",
       "    </tr>\n",
       "    <tr>\n",
       "      <th>36</th>\n",
       "      <td>Cyprus</td>\n",
       "      <td>1</td>\n",
       "      <td>0.8590</td>\n",
       "      <td>0</td>\n",
       "      <td>1.0</td>\n",
       "      <td>12.0</td>\n",
       "    </tr>\n",
       "    <tr>\n",
       "      <th>37</th>\n",
       "      <td>Canada</td>\n",
       "      <td>1</td>\n",
       "      <td>0.9012</td>\n",
       "      <td>0</td>\n",
       "      <td>38.0</td>\n",
       "      <td>110.0</td>\n",
       "    </tr>\n",
       "    <tr>\n",
       "      <th>43</th>\n",
       "      <td>Lithuania</td>\n",
       "      <td>1</td>\n",
       "      <td>0.8352</td>\n",
       "      <td>0</td>\n",
       "      <td>33.0</td>\n",
       "      <td>203.0</td>\n",
       "    </tr>\n",
       "    <tr>\n",
       "      <th>54</th>\n",
       "      <td>Finland</td>\n",
       "      <td>1</td>\n",
       "      <td>0.9172</td>\n",
       "      <td>0</td>\n",
       "      <td>4.0</td>\n",
       "      <td>5.0</td>\n",
       "    </tr>\n",
       "    <tr>\n",
       "      <th>56</th>\n",
       "      <td>Denmark</td>\n",
       "      <td>1</td>\n",
       "      <td>0.9218</td>\n",
       "      <td>0</td>\n",
       "      <td>0.0</td>\n",
       "      <td>22.0</td>\n",
       "    </tr>\n",
       "    <tr>\n",
       "      <th>58</th>\n",
       "      <td>Portugal</td>\n",
       "      <td>1</td>\n",
       "      <td>0.8276</td>\n",
       "      <td>0</td>\n",
       "      <td>6.0</td>\n",
       "      <td>211.0</td>\n",
       "    </tr>\n",
       "    <tr>\n",
       "      <th>61</th>\n",
       "      <td>Sweden</td>\n",
       "      <td>1</td>\n",
       "      <td>0.9098</td>\n",
       "      <td>0</td>\n",
       "      <td>9.0</td>\n",
       "      <td>43.0</td>\n",
       "    </tr>\n",
       "    <tr>\n",
       "      <th>72</th>\n",
       "      <td>Ireland</td>\n",
       "      <td>1</td>\n",
       "      <td>0.9056</td>\n",
       "      <td>0</td>\n",
       "      <td>1.0</td>\n",
       "      <td>24.0</td>\n",
       "    </tr>\n",
       "    <tr>\n",
       "      <th>75</th>\n",
       "      <td>Austria</td>\n",
       "      <td>1</td>\n",
       "      <td>0.9012</td>\n",
       "      <td>0</td>\n",
       "      <td>1.0</td>\n",
       "      <td>13.0</td>\n",
       "    </tr>\n",
       "    <tr>\n",
       "      <th>76</th>\n",
       "      <td>Bulgaria</td>\n",
       "      <td>1</td>\n",
       "      <td>0.7872</td>\n",
       "      <td>0</td>\n",
       "      <td>337.0</td>\n",
       "      <td>904.0</td>\n",
       "    </tr>\n",
       "    <tr>\n",
       "      <th>77</th>\n",
       "      <td>Luxembourg</td>\n",
       "      <td>1</td>\n",
       "      <td>0.8960</td>\n",
       "      <td>0</td>\n",
       "      <td>0.0</td>\n",
       "      <td>1.0</td>\n",
       "    </tr>\n",
       "    <tr>\n",
       "      <th>80</th>\n",
       "      <td>Romania</td>\n",
       "      <td>1</td>\n",
       "      <td>0.8046</td>\n",
       "      <td>0</td>\n",
       "      <td>299.0</td>\n",
       "      <td>1020.0</td>\n",
       "    </tr>\n",
       "    <tr>\n",
       "      <th>82</th>\n",
       "      <td>Estonia</td>\n",
       "      <td>1</td>\n",
       "      <td>0.8542</td>\n",
       "      <td>0</td>\n",
       "      <td>253.0</td>\n",
       "      <td>121.0</td>\n",
       "    </tr>\n",
       "    <tr>\n",
       "      <th>83</th>\n",
       "      <td>France</td>\n",
       "      <td>1</td>\n",
       "      <td>0.8794</td>\n",
       "      <td>0</td>\n",
       "      <td>14.0</td>\n",
       "      <td>139.0</td>\n",
       "    </tr>\n",
       "    <tr>\n",
       "      <th>84</th>\n",
       "      <td>Greece</td>\n",
       "      <td>1</td>\n",
       "      <td>0.8648</td>\n",
       "      <td>0</td>\n",
       "      <td>10.0</td>\n",
       "      <td>96.0</td>\n",
       "    </tr>\n",
       "  </tbody>\n",
       "</table>\n",
       "</div>"
      ],
      "text/plain": [
       "                      origin  coreness  idh_2008_2012  pop_cont  value  \\\n",
       "0                    Hungary         1         0.8280         0  675.0   \n",
       "1   United States of America         1         0.9156         0   50.0   \n",
       "2                      Malta         1         0.8490         0    0.0   \n",
       "3                     Latvia         1         0.8278         0   66.0   \n",
       "4                      Italy         1         0.8792         0   19.0   \n",
       "5                    Germany         1         0.9284         0   31.0   \n",
       "6                    Belgium         1         0.9094         0   31.0   \n",
       "8                Netherlands         1         0.9196         0    9.0   \n",
       "10                    Poland         1         0.8380         0  109.0   \n",
       "15                  Slovakia         1         0.8320         0   35.0   \n",
       "16                     Spain         1         0.8718         0   16.0   \n",
       "18                Czech Rep.         1         0.8694         1  291.0   \n",
       "34                  Slovenia         1         0.8870         0    8.0   \n",
       "36                    Cyprus         1         0.8590         0    1.0   \n",
       "37                    Canada         1         0.9012         0   38.0   \n",
       "43                 Lithuania         1         0.8352         0   33.0   \n",
       "54                   Finland         1         0.9172         0    4.0   \n",
       "56                   Denmark         1         0.9218         0    0.0   \n",
       "58                  Portugal         1         0.8276         0    6.0   \n",
       "61                    Sweden         1         0.9098         0    9.0   \n",
       "72                   Ireland         1         0.9056         0    1.0   \n",
       "75                   Austria         1         0.9012         0    1.0   \n",
       "76                  Bulgaria         1         0.7872         0  337.0   \n",
       "77                Luxembourg         1         0.8960         0    0.0   \n",
       "80                   Romania         1         0.8046         0  299.0   \n",
       "82                   Estonia         1         0.8542         0  253.0   \n",
       "83                    France         1         0.8794         0   14.0   \n",
       "84                    Greece         1         0.8648         0   10.0   \n",
       "\n",
       "    rejected  \n",
       "0     3363.0  \n",
       "1     2765.0  \n",
       "2        7.0  \n",
       "3      206.0  \n",
       "4      147.0  \n",
       "5      223.0  \n",
       "6       47.0  \n",
       "8      105.0  \n",
       "10     427.0  \n",
       "15    1189.0  \n",
       "16     147.0  \n",
       "18    1372.0  \n",
       "34      24.0  \n",
       "36      12.0  \n",
       "37     110.0  \n",
       "43     203.0  \n",
       "54       5.0  \n",
       "56      22.0  \n",
       "58     211.0  \n",
       "61      43.0  \n",
       "72      24.0  \n",
       "75      13.0  \n",
       "76     904.0  \n",
       "77       1.0  \n",
       "80    1020.0  \n",
       "82     121.0  \n",
       "83     139.0  \n",
       "84      96.0  "
      ]
     },
     "execution_count": 80,
     "metadata": {},
     "output_type": "execute_result"
    }
   ],
   "source": [
    "df_filtrado_idh_2008_2012 = df_intermediario[(df_intermediario['origin'].isin(lista_paises_eu_america))]\n",
    "df_filtrado_idh_2008_2012"
   ]
  },
  {
   "cell_type": "markdown",
   "id": "6435cca1",
   "metadata": {},
   "source": [
    "#### Regressão\n",
    "\n",
    "Com os resultados obtidos no processo acima, obtivemos a tabela logo acima dessa célula, a df_filtrado_idh_2008_2012, correlacionando o valor da saída de pessoas com o recorte proposto e, para podermos analisar se o recorte realmente faz sentido e faria com que a hipótese não corroborasse mais, precisamos realizar uma regressão linear, uma vez que a variável dependente (value) é um valor contínuo."
   ]
  },
  {
   "cell_type": "code",
   "execution_count": 81,
   "id": "60ee6a67",
   "metadata": {
    "collapsed": true
   },
   "outputs": [
    {
     "data": {
      "text/html": [
       "<table class=\"simpletable\">\n",
       "<caption>OLS Regression Results</caption>\n",
       "<tr>\n",
       "  <th>Dep. Variable:</th>     <td>np.log1p(value)</td> <th>  R-squared:         </th> <td>   0.344</td>\n",
       "</tr>\n",
       "<tr>\n",
       "  <th>Model:</th>                   <td>OLS</td>       <th>  Adj. R-squared:    </th> <td>   0.291</td>\n",
       "</tr>\n",
       "<tr>\n",
       "  <th>Method:</th>             <td>Least Squares</td>  <th>  F-statistic:       </th> <td>   6.549</td>\n",
       "</tr>\n",
       "<tr>\n",
       "  <th>Date:</th>             <td>Mon, 14 Nov 2022</td> <th>  Prob (F-statistic):</th>  <td>0.00516</td>\n",
       "</tr>\n",
       "<tr>\n",
       "  <th>Time:</th>                 <td>15:30:08</td>     <th>  Log-Likelihood:    </th> <td> -51.086</td>\n",
       "</tr>\n",
       "<tr>\n",
       "  <th>No. Observations:</th>      <td>    28</td>      <th>  AIC:               </th> <td>   108.2</td>\n",
       "</tr>\n",
       "<tr>\n",
       "  <th>Df Residuals:</th>          <td>    25</td>      <th>  BIC:               </th> <td>   112.2</td>\n",
       "</tr>\n",
       "<tr>\n",
       "  <th>Df Model:</th>              <td>     2</td>      <th>                     </th>     <td> </td>   \n",
       "</tr>\n",
       "<tr>\n",
       "  <th>Covariance Type:</th>      <td>nonrobust</td>    <th>                     </th>     <td> </td>   \n",
       "</tr>\n",
       "</table>\n",
       "<table class=\"simpletable\">\n",
       "<tr>\n",
       "        <td></td>           <th>coef</th>     <th>std err</th>      <th>t</th>      <th>P>|t|</th>  <th>[0.025</th>    <th>0.975]</th>  \n",
       "</tr>\n",
       "<tr>\n",
       "  <th>Intercept</th>     <td>   12.2665</td> <td>    3.414</td> <td>    3.593</td> <td> 0.001</td> <td>    5.235</td> <td>   19.298</td>\n",
       "</tr>\n",
       "<tr>\n",
       "  <th>idh_2008_2012</th> <td>  -24.8358</td> <td>    7.821</td> <td>   -3.176</td> <td> 0.004</td> <td>  -40.943</td> <td>   -8.729</td>\n",
       "</tr>\n",
       "<tr>\n",
       "  <th>coreness</th>      <td>   12.2665</td> <td>    3.414</td> <td>    3.593</td> <td> 0.001</td> <td>    5.235</td> <td>   19.298</td>\n",
       "</tr>\n",
       "<tr>\n",
       "  <th>pop_cont</th>      <td>    2.7359</td> <td>    1.617</td> <td>    1.692</td> <td> 0.103</td> <td>   -0.594</td> <td>    6.066</td>\n",
       "</tr>\n",
       "</table>\n",
       "<table class=\"simpletable\">\n",
       "<tr>\n",
       "  <th>Omnibus:</th>       <td> 0.771</td> <th>  Durbin-Watson:     </th> <td>   1.892</td>\n",
       "</tr>\n",
       "<tr>\n",
       "  <th>Prob(Omnibus):</th> <td> 0.680</td> <th>  Jarque-Bera (JB):  </th> <td>   0.801</td>\n",
       "</tr>\n",
       "<tr>\n",
       "  <th>Skew:</th>          <td>-0.337</td> <th>  Prob(JB):          </th> <td>   0.670</td>\n",
       "</tr>\n",
       "<tr>\n",
       "  <th>Kurtosis:</th>      <td> 2.517</td> <th>  Cond. No.          </th> <td>1.25e+16</td>\n",
       "</tr>\n",
       "</table><br/><br/>Notes:<br/>[1] Standard Errors assume that the covariance matrix of the errors is correctly specified.<br/>[2] The smallest eigenvalue is 4.94e-31. This might indicate that there are<br/>strong multicollinearity problems or that the design matrix is singular."
      ],
      "text/plain": [
       "<class 'statsmodels.iolib.summary.Summary'>\n",
       "\"\"\"\n",
       "                            OLS Regression Results                            \n",
       "==============================================================================\n",
       "Dep. Variable:        np.log1p(value)   R-squared:                       0.344\n",
       "Model:                            OLS   Adj. R-squared:                  0.291\n",
       "Method:                 Least Squares   F-statistic:                     6.549\n",
       "Date:                Mon, 14 Nov 2022   Prob (F-statistic):            0.00516\n",
       "Time:                        15:30:08   Log-Likelihood:                -51.086\n",
       "No. Observations:                  28   AIC:                             108.2\n",
       "Df Residuals:                      25   BIC:                             112.2\n",
       "Df Model:                           2                                         \n",
       "Covariance Type:            nonrobust                                         \n",
       "=================================================================================\n",
       "                    coef    std err          t      P>|t|      [0.025      0.975]\n",
       "---------------------------------------------------------------------------------\n",
       "Intercept        12.2665      3.414      3.593      0.001       5.235      19.298\n",
       "idh_2008_2012   -24.8358      7.821     -3.176      0.004     -40.943      -8.729\n",
       "coreness         12.2665      3.414      3.593      0.001       5.235      19.298\n",
       "pop_cont          2.7359      1.617      1.692      0.103      -0.594       6.066\n",
       "==============================================================================\n",
       "Omnibus:                        0.771   Durbin-Watson:                   1.892\n",
       "Prob(Omnibus):                  0.680   Jarque-Bera (JB):                0.801\n",
       "Skew:                          -0.337   Prob(JB):                        0.670\n",
       "Kurtosis:                       2.517   Cond. No.                     1.25e+16\n",
       "==============================================================================\n",
       "\n",
       "Notes:\n",
       "[1] Standard Errors assume that the covariance matrix of the errors is correctly specified.\n",
       "[2] The smallest eigenvalue is 4.94e-31. This might indicate that there are\n",
       "strong multicollinearity problems or that the design matrix is singular.\n",
       "\"\"\""
      ]
     },
     "execution_count": 81,
     "metadata": {},
     "output_type": "execute_result"
    }
   ],
   "source": [
    "result_hip4 = reg.linear(data=df_filtrado_idh_2008_2012, formula='np.log1p(value) ~ idh_2008_2012 + coreness + pop_cont')\n",
    "result_hip4.summary()"
   ]
  },
  {
   "cell_type": "code",
   "execution_count": 82,
   "id": "82d4cf2d",
   "metadata": {
    "collapsed": true
   },
   "outputs": [
    {
     "data": {
      "text/html": [
       "<style type=\"text/css\">\n",
       "#T_f4ab1_row0_col0, #T_f4ab1_row1_col0, #T_f4ab1_row2_col0 {\n",
       "  font-family: monospace;\n",
       "  text-align: left;\n",
       "}\n",
       "</style>\n",
       "<table id=\"T_f4ab1\">\n",
       "  <thead>\n",
       "  </thead>\n",
       "  <tbody>\n",
       "    <tr>\n",
       "      <td id=\"T_f4ab1_row0_col0\" class=\"data row0 col0\" >-24.836 (7.821) ***</td>\n",
       "    </tr>\n",
       "    <tr>\n",
       "      <td id=\"T_f4ab1_row1_col0\" class=\"data row1 col0\" >+12.267 (3.414) ***</td>\n",
       "    </tr>\n",
       "    <tr>\n",
       "      <td id=\"T_f4ab1_row2_col0\" class=\"data row2 col0\" >+02.736 (1.617)</td>\n",
       "    </tr>\n",
       "  </tbody>\n",
       "</table>\n"
      ],
      "text/plain": [
       "<pandas.io.formats.style.Styler at 0x7fa1228b12a0>"
      ]
     },
     "execution_count": 82,
     "metadata": {},
     "output_type": "execute_result"
    }
   ],
   "source": [
    "result_hip4.nano_summary()"
   ]
  },
  {
   "cell_type": "code",
   "execution_count": 83,
   "id": "7bf36e6d",
   "metadata": {
    "collapsed": true
   },
   "outputs": [
    {
     "data": {
      "image/png": "[encoded data removed]",
      "text/plain": [
       "<Figure size 1280x480 with 2 Axes>"
      ]
     },
     "metadata": {},
     "output_type": "display_data"
    }
   ],
   "source": [
    "result_hip4.plot_residuals()"
   ]
  },
  {
   "cell_type": "markdown",
   "id": "c8a95626",
   "metadata": {},
   "source": [
    "#### Conclusão\n",
    "\n",
    "A partir dos resultados obtidos acima, podemos concluir que a hipótese continua corroborando e sendo verdadeira para esse recorte, sem perder nenhuma significância.\n",
    "\n",
    "Dessa forma, podemos concluir que o recorte pode não ter dado certo pelo fator de que, apesar da crise econômica mundial em 2008, seguida pela pandemia da H1N1, os países com alto IDH não foram tão afetados ao ponto de alterar significativamente a saída de pessoas daquela nação, o que faria com que a hipótese deixasse de corroborar, uma vez que teríamos países com alto IDH e alta vazão de pessoas. Portanto, a hipótese continua corroborando mesmo para esse recorte."
   ]
  },
  {
   "cell_type": "markdown",
   "id": "70798645",
   "metadata": {},
   "source": [
    "\n",
    "## Hipótese 3: Localização tem relação com intermediação\n",
    "\n",
    "### G : BW: GEO"
   ]
  },
  {
   "cell_type": "markdown",
   "id": "e3e8f90f",
   "metadata": {},
   "source": [
    "#### Explicação:\n",
    "\n",
    "Essa hipótese correlaciona o fato de possuir um alto betweenness (intermediação) com o número de países que fazem fronteira com o país em questão. Sendo assim, essa hipótese diz que quanto mais próximo de outros países é uma nação, ou seja, quanto maior o número de países com os qual faz fronteira, maior é o seu betweenness, indicando uma possibilidade de, por ser um país que faz divisa entre diversos outros, ele pode possuir um betweenness alto já que diversas pessoas iriam passar por ele para ir para outros países. \n",
    "\n",
    "#### Recorte:2001 a 2003 e países da União Europeia (UE) e da América Anglo-saxônica\n",
    "\n",
    "Esse recorte foi pensado pois, ao analisarmos os anos de 2001 a 2003, com o ataque às Torres Gêmeas nos Estados Unidos, diversos países do planeta acabaram restrigindo o acesso às suas fronteiras, dificultando a entrada de pessoas, especialmente os países da UE e da América Anglo-saxônica. Com isso, com um acesso mais restrito às suas fronteiras, isso pode resultar numa diminuição do seu betweenness, mesmo que os países em questão tenham um alto número de vizinhos (GEO), deixando de corroborar com a hipótese 3."
   ]
  },
  {
   "cell_type": "markdown",
   "id": "e00a883f",
   "metadata": {},
   "source": [
    "2001 - 2003 e países da UE e da América anglo-saxônica"
   ]
  },
  {
   "cell_type": "code",
   "execution_count": 85,
   "id": "bef7fa3b",
   "metadata": {
    "collapsed": true
   },
   "outputs": [
    {
     "data": {
      "text/html": [
       "<div>\n",
       "<style scoped>\n",
       "    .dataframe tbody tr th:only-of-type {\n",
       "        vertical-align: middle;\n",
       "    }\n",
       "\n",
       "    .dataframe tbody tr th {\n",
       "        vertical-align: top;\n",
       "    }\n",
       "\n",
       "    .dataframe thead th {\n",
       "        text-align: right;\n",
       "    }\n",
       "</style>\n",
       "<table border=\"1\" class=\"dataframe\">\n",
       "  <thead>\n",
       "    <tr style=\"text-align: right;\">\n",
       "      <th></th>\n",
       "      <th>origin</th>\n",
       "      <th>destiny</th>\n",
       "      <th>value</th>\n",
       "      <th>rejected</th>\n",
       "    </tr>\n",
       "  </thead>\n",
       "  <tbody>\n",
       "    <tr>\n",
       "      <th>0</th>\n",
       "      <td>Afghanistan</td>\n",
       "      <td>Angola</td>\n",
       "      <td>0</td>\n",
       "      <td>2</td>\n",
       "    </tr>\n",
       "    <tr>\n",
       "      <th>1</th>\n",
       "      <td>Afghanistan</td>\n",
       "      <td>Argentina</td>\n",
       "      <td>0</td>\n",
       "      <td>0</td>\n",
       "    </tr>\n",
       "    <tr>\n",
       "      <th>2</th>\n",
       "      <td>Afghanistan</td>\n",
       "      <td>Armenia</td>\n",
       "      <td>0</td>\n",
       "      <td>4</td>\n",
       "    </tr>\n",
       "    <tr>\n",
       "      <th>3</th>\n",
       "      <td>Afghanistan</td>\n",
       "      <td>Australia</td>\n",
       "      <td>2192</td>\n",
       "      <td>757</td>\n",
       "    </tr>\n",
       "    <tr>\n",
       "      <th>4</th>\n",
       "      <td>Afghanistan</td>\n",
       "      <td>Austria</td>\n",
       "      <td>1034</td>\n",
       "      <td>811</td>\n",
       "    </tr>\n",
       "    <tr>\n",
       "      <th>...</th>\n",
       "      <td>...</td>\n",
       "      <td>...</td>\n",
       "      <td>...</td>\n",
       "      <td>...</td>\n",
       "    </tr>\n",
       "    <tr>\n",
       "      <th>5845</th>\n",
       "      <td>Zimbabwe</td>\n",
       "      <td>Switzerland</td>\n",
       "      <td>0</td>\n",
       "      <td>17</td>\n",
       "    </tr>\n",
       "    <tr>\n",
       "      <th>5846</th>\n",
       "      <td>Zimbabwe</td>\n",
       "      <td>Thailand</td>\n",
       "      <td>0</td>\n",
       "      <td>0</td>\n",
       "    </tr>\n",
       "    <tr>\n",
       "      <th>5847</th>\n",
       "      <td>Zimbabwe</td>\n",
       "      <td>Ukraine</td>\n",
       "      <td>0</td>\n",
       "      <td>3</td>\n",
       "    </tr>\n",
       "    <tr>\n",
       "      <th>5848</th>\n",
       "      <td>Zimbabwe</td>\n",
       "      <td>United Kingdom</td>\n",
       "      <td>5490</td>\n",
       "      <td>12256</td>\n",
       "    </tr>\n",
       "    <tr>\n",
       "      <th>5849</th>\n",
       "      <td>Zimbabwe</td>\n",
       "      <td>United States of America</td>\n",
       "      <td>266</td>\n",
       "      <td>363</td>\n",
       "    </tr>\n",
       "  </tbody>\n",
       "</table>\n",
       "<p>5850 rows × 4 columns</p>\n",
       "</div>"
      ],
      "text/plain": [
       "           origin                   destiny  value  rejected\n",
       "0     Afghanistan                    Angola      0         2\n",
       "1     Afghanistan                 Argentina      0         0\n",
       "2     Afghanistan                   Armenia      0         4\n",
       "3     Afghanistan                 Australia   2192       757\n",
       "4     Afghanistan                   Austria   1034       811\n",
       "...           ...                       ...    ...       ...\n",
       "5845     Zimbabwe               Switzerland      0        17\n",
       "5846     Zimbabwe                  Thailand      0         0\n",
       "5847     Zimbabwe                   Ukraine      0         3\n",
       "5848     Zimbabwe            United Kingdom   5490     12256\n",
       "5849     Zimbabwe  United States of America    266       363\n",
       "\n",
       "[5850 rows x 4 columns]"
      ]
     },
     "execution_count": 85,
     "metadata": {},
     "output_type": "execute_result"
    }
   ],
   "source": [
    "df_aresta_2001_2003"
   ]
  },
  {
   "cell_type": "code",
   "execution_count": 86,
   "id": "43b36ddb",
   "metadata": {},
   "outputs": [],
   "source": [
    "g3 =  gt_load('/grafo_2001_2003.net.gz')"
   ]
  },
  {
   "cell_type": "code",
   "execution_count": 87,
   "id": "d631b46a",
   "metadata": {},
   "outputs": [],
   "source": [
    "m = gt_draw.sfdp_layout(g3)\n",
    "gt_move(g3, m)\n",
    "gt_save(g3, 'grafo_2001_2003.net.gz')"
   ]
  },
  {
   "cell_type": "code",
   "execution_count": 104,
   "id": "e1f091e1",
   "metadata": {},
   "outputs": [],
   "source": [
    "r3 = netpixi.render('grafo_2001_2003.net.gz', infinite=True);"
   ]
  },
  {
   "cell_type": "code",
   "execution_count": 89,
   "id": "22e924d8",
   "metadata": {},
   "outputs": [
    {
     "data": {
      "text/html": [
       "\n",
       "        <div id=\"WAYVpG8nQBzukeeMaJM6mV\"></div>\n",
       "        <script>netpixi.call('WAYVpG8nQBzukeeMaJM6mV', 'cqLLgtXonpEDiTHfiyDADw', 'setGraph', 'eyJ0eXBlIjogInZlcnRleCIsICJwcm9wcyI6IHsic3JjIjogIm5vbWUiLCAiZHN0IjogIl9rZXkifX0K');</script>\n",
       "    "
      ],
      "text/plain": [
       "<IPython.core.display.HTML object>"
      ]
     },
     "metadata": {},
     "output_type": "display_data"
    },
    {
     "data": {
      "text/html": [
       "\n",
       "        <div id=\"UCo4CimXxJGJ4ehv8HBWFa\"></div>\n",
       "        <script>netpixi.call('UCo4CimXxJGJ4ehv8HBWFa', 'cqLLgtXonpEDiTHfiyDADw', 'changeGraph', 'eyJ0eXBlIjogInNldHRpbmdzIiwgInByb3BzIjogeyJ2ZXJ0ZXgiOiB7ImNvbG9yIjogMTY3NzcyMTV9fX0K');</script>\n",
       "    "
      ],
      "text/plain": [
       "<IPython.core.display.HTML object>"
      ]
     },
     "metadata": {},
     "output_type": "display_data"
    },
    {
     "data": {
      "text/html": [
       "\n",
       "        <div id=\"QQSdgRFrBsDKHy25wJegPa\"></div>\n",
       "        <script>netpixi.call('QQSdgRFrBsDKHy25wJegPa', 'cqLLgtXonpEDiTHfiyDADw', 'changeGraph', 'eyJ0eXBlIjogInNldHRpbmdzIiwgInByb3BzIjogeyJlZGdlIjogeyJjb2xvciI6IDIxNDI4OTB9fX0K');</script>\n",
       "    "
      ],
      "text/plain": [
       "<IPython.core.display.HTML object>"
      ]
     },
     "metadata": {},
     "output_type": "display_data"
    },
    {
     "data": {
      "text/html": [
       "\n",
       "        <div id=\"T7WiwonRLmc63xFDSV9rUJ\"></div>\n",
       "        <script>netpixi.call('T7WiwonRLmc63xFDSV9rUJ', 'cqLLgtXonpEDiTHfiyDADw', 'normalizeGraph', 'eyJ0eXBlIjogImVkZ2UiLCAicHJvcHMiOiB7InNyYyI6ICJhY2VpdG9zIiwgIm1pbiI6IDEsICJtYXgiOiAxMH19Cg==');</script>\n",
       "    "
      ],
      "text/plain": [
       "<IPython.core.display.HTML object>"
      ]
     },
     "metadata": {},
     "output_type": "display_data"
    }
   ],
   "source": [
    "r3.vertex_set_key('nome')\n",
    "\n",
    "r3.vertex_default(color=0xffffff)\n",
    "\n",
    "# mudar a cor, a espessura e a curvatura das arestas\n",
    "r3.edge_default(color=0x20B2AA)\n",
    "\n",
    "r3.edge_scale('aceitos', 1, 10)"
   ]
  },
  {
   "cell_type": "code",
   "execution_count": 90,
   "id": "9cfe0f9b",
   "metadata": {},
   "outputs": [],
   "source": [
    "bc_completo, _ = centrality.betweenness(g3)\n",
    "g3.add_vp('betweenness', bc_completo)"
   ]
  },
  {
   "cell_type": "code",
   "execution_count": 91,
   "id": "739fa402",
   "metadata": {
    "collapsed": true
   },
   "outputs": [
    {
     "data": {
      "text/html": [
       "<div>\n",
       "<style scoped>\n",
       "    .dataframe tbody tr th:only-of-type {\n",
       "        vertical-align: middle;\n",
       "    }\n",
       "\n",
       "    .dataframe tbody tr th {\n",
       "        vertical-align: top;\n",
       "    }\n",
       "\n",
       "    .dataframe thead th {\n",
       "        text-align: right;\n",
       "    }\n",
       "</style>\n",
       "<table border=\"1\" class=\"dataframe\">\n",
       "  <thead>\n",
       "    <tr style=\"text-align: right;\">\n",
       "      <th></th>\n",
       "      <th>nome</th>\n",
       "      <th>betweenness</th>\n",
       "    </tr>\n",
       "    <tr>\n",
       "      <th>id</th>\n",
       "      <th></th>\n",
       "      <th></th>\n",
       "    </tr>\n",
       "  </thead>\n",
       "  <tbody>\n",
       "    <tr>\n",
       "      <th>United States of America</th>\n",
       "      <td>United States of America</td>\n",
       "      <td>0.105584</td>\n",
       "    </tr>\n",
       "    <tr>\n",
       "      <th>China</th>\n",
       "      <td>China</td>\n",
       "      <td>0.073186</td>\n",
       "    </tr>\n",
       "    <tr>\n",
       "      <th>Kenya</th>\n",
       "      <td>Kenya</td>\n",
       "      <td>0.035235</td>\n",
       "    </tr>\n",
       "    <tr>\n",
       "      <th>Australia</th>\n",
       "      <td>Australia</td>\n",
       "      <td>0.033659</td>\n",
       "    </tr>\n",
       "    <tr>\n",
       "      <th>Spain</th>\n",
       "      <td>Spain</td>\n",
       "      <td>0.027726</td>\n",
       "    </tr>\n",
       "    <tr>\n",
       "      <th>...</th>\n",
       "      <td>...</td>\n",
       "      <td>...</td>\n",
       "    </tr>\n",
       "    <tr>\n",
       "      <th>Malta</th>\n",
       "      <td>Malta</td>\n",
       "      <td>0.000000</td>\n",
       "    </tr>\n",
       "    <tr>\n",
       "      <th>Andorra</th>\n",
       "      <td>Andorra</td>\n",
       "      <td>0.000000</td>\n",
       "    </tr>\n",
       "    <tr>\n",
       "      <th>San Marino</th>\n",
       "      <td>San Marino</td>\n",
       "      <td>0.000000</td>\n",
       "    </tr>\n",
       "    <tr>\n",
       "      <th>Iceland</th>\n",
       "      <td>Iceland</td>\n",
       "      <td>0.000000</td>\n",
       "    </tr>\n",
       "    <tr>\n",
       "      <th>Turks and Caicos Islands</th>\n",
       "      <td>Turks and Caicos Islands</td>\n",
       "      <td>0.000000</td>\n",
       "    </tr>\n",
       "  </tbody>\n",
       "</table>\n",
       "<p>225 rows × 2 columns</p>\n",
       "</div>"
      ],
      "text/plain": [
       "                                              nome  betweenness\n",
       "id                                                             \n",
       "United States of America  United States of America     0.105584\n",
       "China                                        China     0.073186\n",
       "Kenya                                        Kenya     0.035235\n",
       "Australia                                Australia     0.033659\n",
       "Spain                                        Spain     0.027726\n",
       "...                                            ...          ...\n",
       "Malta                                        Malta     0.000000\n",
       "Andorra                                    Andorra     0.000000\n",
       "San Marino                              San Marino     0.000000\n",
       "Iceland                                    Iceland     0.000000\n",
       "Turks and Caicos Islands  Turks and Caicos Islands     0.000000\n",
       "\n",
       "[225 rows x 2 columns]"
      ]
     },
     "execution_count": 91,
     "metadata": {},
     "output_type": "execute_result"
    }
   ],
   "source": [
    "df_betweenness_2001_2003 = gt_data(g3).sort_values(\"betweenness\", ascending = False)\n",
    "df_betweenness_2001_2003"
   ]
  },
  {
   "cell_type": "code",
   "execution_count": 92,
   "id": "40dc57e3",
   "metadata": {},
   "outputs": [],
   "source": [
    "m = gt_draw.sfdp_layout(g3)\n",
    "gt_move(g3, m)\n",
    "gt_save(g3, 'centralidadeBetweeness20012003.net.gz')"
   ]
  },
  {
   "cell_type": "code",
   "execution_count": 94,
   "id": "0ea2c896",
   "metadata": {},
   "outputs": [
    {
     "data": {
      "text/html": [
       "\n",
       "        <div id=\"GQvgBgjMJBQ94R7jNH3PdM\"></div>\n",
       "        <script>netpixi.call('GQvgBgjMJBQ94R7jNH3PdM', 'cqLLgtXonpEDiTHfiyDADw', 'normalizeGraph', 'eyJ0eXBlIjogInZlcnRleCIsICJwcm9wcyI6IHsic3JjIjogImJldHdlZW5uZXNzIiwgIm1pbiI6IDUsICJtYXgiOiAyNX19Cg==');</script>\n",
       "    "
      ],
      "text/plain": [
       "<IPython.core.display.HTML object>"
      ]
     },
     "metadata": {},
     "output_type": "display_data"
    }
   ],
   "source": [
    "r3.vertex_scale('betweenness', 5, 25)"
   ]
  },
  {
   "cell_type": "code",
   "execution_count": 105,
   "id": "2a94d546",
   "metadata": {},
   "outputs": [],
   "source": [
    "r3 = netpixi.render('centralidadeBetweeness20012003.net.gz', infinite=True);"
   ]
  },
  {
   "cell_type": "code",
   "execution_count": 96,
   "id": "f8a17453",
   "metadata": {},
   "outputs": [
    {
     "data": {
      "text/html": [
       "\n",
       "        <div id=\"Vag4RJaVAWV8c6aK2782Bx\"></div>\n",
       "        <script>netpixi.call('Vag4RJaVAWV8c6aK2782Bx', 'ZwwTK4LEDxUJzSJPWoyAPE', 'normalizeGraph', 'eyJ0eXBlIjogImVkZ2UiLCAicHJvcHMiOiB7InNyYyI6ICJhY2VpdG9zIiwgIm1pbiI6IDEsICJtYXgiOiAxMH19Cg==');</script>\n",
       "    "
      ],
      "text/plain": [
       "<IPython.core.display.HTML object>"
      ]
     },
     "metadata": {},
     "output_type": "display_data"
    },
    {
     "data": {
      "text/html": [
       "\n",
       "        <div id=\"JJQjN9gM9dRmQ3GPHB9Zxp\"></div>\n",
       "        <script>netpixi.call('JJQjN9gM9dRmQ3GPHB9Zxp', 'ZwwTK4LEDxUJzSJPWoyAPE', 'setGraph', 'eyJ0eXBlIjogInZlcnRleCIsICJwcm9wcyI6IHsic3JjIjogIm5vbWUiLCAiZHN0IjogIl9rZXkifX0K');</script>\n",
       "    "
      ],
      "text/plain": [
       "<IPython.core.display.HTML object>"
      ]
     },
     "metadata": {},
     "output_type": "display_data"
    },
    {
     "data": {
      "text/html": [
       "\n",
       "        <div id=\"SLsur5W53WvLSTy2dqLuzH\"></div>\n",
       "        <script>netpixi.call('SLsur5W53WvLSTy2dqLuzH', 'ZwwTK4LEDxUJzSJPWoyAPE', 'normalizeGraph', 'eyJ0eXBlIjogInZlcnRleCIsICJwcm9wcyI6IHsic3JjIjogImJldHdlZW5uZXNzIiwgIm1pbiI6IDUsICJtYXgiOiAyNX19Cg==');</script>\n",
       "    "
      ],
      "text/plain": [
       "<IPython.core.display.HTML object>"
      ]
     },
     "metadata": {},
     "output_type": "display_data"
    }
   ],
   "source": [
    "r3.edge_scale('aceitos', 1, 10)\n",
    "\n",
    "r3.vertex_set_key('nome')\n",
    "\n",
    "r3.vertex_scale('betweenness', 5, 25)"
   ]
  },
  {
   "cell_type": "code",
   "execution_count": 97,
   "id": "be16674a",
   "metadata": {
    "collapsed": true
   },
   "outputs": [
    {
     "data": {
      "text/html": [
       "<div>\n",
       "<style scoped>\n",
       "    .dataframe tbody tr th:only-of-type {\n",
       "        vertical-align: middle;\n",
       "    }\n",
       "\n",
       "    .dataframe tbody tr th {\n",
       "        vertical-align: top;\n",
       "    }\n",
       "\n",
       "    .dataframe thead th {\n",
       "        text-align: right;\n",
       "    }\n",
       "</style>\n",
       "<table border=\"1\" class=\"dataframe\">\n",
       "  <thead>\n",
       "    <tr style=\"text-align: right;\">\n",
       "      <th></th>\n",
       "      <th>idh_2001_2003</th>\n",
       "      <th>country</th>\n",
       "      <th>n_neightbours</th>\n",
       "    </tr>\n",
       "  </thead>\n",
       "  <tbody>\n",
       "    <tr>\n",
       "      <th>0</th>\n",
       "      <td>0.845667</td>\n",
       "      <td>China, Hong Kong SAR</td>\n",
       "      <td>1</td>\n",
       "    </tr>\n",
       "    <tr>\n",
       "      <th>1</th>\n",
       "      <td>0.922000</td>\n",
       "      <td>China, Macao SAR</td>\n",
       "      <td>1</td>\n",
       "    </tr>\n",
       "    <tr>\n",
       "      <th>2</th>\n",
       "      <td>0.376667</td>\n",
       "      <td>Afghanistan</td>\n",
       "      <td>6</td>\n",
       "    </tr>\n",
       "    <tr>\n",
       "      <th>3</th>\n",
       "      <td>0.684333</td>\n",
       "      <td>Albania</td>\n",
       "      <td>4</td>\n",
       "    </tr>\n",
       "    <tr>\n",
       "      <th>4</th>\n",
       "      <td>0.657000</td>\n",
       "      <td>Algeria</td>\n",
       "      <td>7</td>\n",
       "    </tr>\n",
       "    <tr>\n",
       "      <th>...</th>\n",
       "      <td>...</td>\n",
       "      <td>...</td>\n",
       "      <td>...</td>\n",
       "    </tr>\n",
       "    <tr>\n",
       "      <th>220</th>\n",
       "      <td>0.763000</td>\n",
       "      <td>Wallis and Futuna Islands</td>\n",
       "      <td>0</td>\n",
       "    </tr>\n",
       "    <tr>\n",
       "      <th>221</th>\n",
       "      <td>0.000000</td>\n",
       "      <td>Western Sahara</td>\n",
       "      <td>3</td>\n",
       "    </tr>\n",
       "    <tr>\n",
       "      <th>222</th>\n",
       "      <td>0.461333</td>\n",
       "      <td>Yemen</td>\n",
       "      <td>2</td>\n",
       "    </tr>\n",
       "    <tr>\n",
       "      <th>223</th>\n",
       "      <td>0.441333</td>\n",
       "      <td>Zambia</td>\n",
       "      <td>8</td>\n",
       "    </tr>\n",
       "    <tr>\n",
       "      <th>224</th>\n",
       "      <td>0.422667</td>\n",
       "      <td>Zimbabwe</td>\n",
       "      <td>4</td>\n",
       "    </tr>\n",
       "  </tbody>\n",
       "</table>\n",
       "<p>225 rows × 3 columns</p>\n",
       "</div>"
      ],
      "text/plain": [
       "     idh_2001_2003                     country  n_neightbours\n",
       "0         0.845667        China, Hong Kong SAR              1\n",
       "1         0.922000            China, Macao SAR              1\n",
       "2         0.376667                 Afghanistan              6\n",
       "3         0.684333                     Albania              4\n",
       "4         0.657000                     Algeria              7\n",
       "..             ...                         ...            ...\n",
       "220       0.763000  Wallis and Futuna Islands               0\n",
       "221       0.000000              Western Sahara              3\n",
       "222       0.461333                       Yemen              2\n",
       "223       0.441333                      Zambia              8\n",
       "224       0.422667                    Zimbabwe              4\n",
       "\n",
       "[225 rows x 3 columns]"
      ]
     },
     "execution_count": 97,
     "metadata": {},
     "output_type": "execute_result"
    }
   ],
   "source": [
    "data_idh_2001_2003 = data.loc[:, ['idh_2001_2003', 'country', 'n_neightbours']]\n",
    "data_idh_2001_2003"
   ]
  },
  {
   "cell_type": "code",
   "execution_count": 98,
   "id": "28b417df",
   "metadata": {
    "collapsed": true
   },
   "outputs": [
    {
     "data": {
      "text/html": [
       "<div>\n",
       "<style scoped>\n",
       "    .dataframe tbody tr th:only-of-type {\n",
       "        vertical-align: middle;\n",
       "    }\n",
       "\n",
       "    .dataframe tbody tr th {\n",
       "        vertical-align: top;\n",
       "    }\n",
       "\n",
       "    .dataframe thead th {\n",
       "        text-align: right;\n",
       "    }\n",
       "</style>\n",
       "<table border=\"1\" class=\"dataframe\">\n",
       "  <thead>\n",
       "    <tr style=\"text-align: right;\">\n",
       "      <th></th>\n",
       "      <th>origin</th>\n",
       "      <th>betweenness</th>\n",
       "    </tr>\n",
       "    <tr>\n",
       "      <th>id</th>\n",
       "      <th></th>\n",
       "      <th></th>\n",
       "    </tr>\n",
       "  </thead>\n",
       "  <tbody>\n",
       "    <tr>\n",
       "      <th>United States of America</th>\n",
       "      <td>United States of America</td>\n",
       "      <td>0.105584</td>\n",
       "    </tr>\n",
       "    <tr>\n",
       "      <th>China</th>\n",
       "      <td>China</td>\n",
       "      <td>0.073186</td>\n",
       "    </tr>\n",
       "    <tr>\n",
       "      <th>Kenya</th>\n",
       "      <td>Kenya</td>\n",
       "      <td>0.035235</td>\n",
       "    </tr>\n",
       "    <tr>\n",
       "      <th>Australia</th>\n",
       "      <td>Australia</td>\n",
       "      <td>0.033659</td>\n",
       "    </tr>\n",
       "    <tr>\n",
       "      <th>Spain</th>\n",
       "      <td>Spain</td>\n",
       "      <td>0.027726</td>\n",
       "    </tr>\n",
       "    <tr>\n",
       "      <th>...</th>\n",
       "      <td>...</td>\n",
       "      <td>...</td>\n",
       "    </tr>\n",
       "    <tr>\n",
       "      <th>Malta</th>\n",
       "      <td>Malta</td>\n",
       "      <td>0.000000</td>\n",
       "    </tr>\n",
       "    <tr>\n",
       "      <th>Andorra</th>\n",
       "      <td>Andorra</td>\n",
       "      <td>0.000000</td>\n",
       "    </tr>\n",
       "    <tr>\n",
       "      <th>San Marino</th>\n",
       "      <td>San Marino</td>\n",
       "      <td>0.000000</td>\n",
       "    </tr>\n",
       "    <tr>\n",
       "      <th>Iceland</th>\n",
       "      <td>Iceland</td>\n",
       "      <td>0.000000</td>\n",
       "    </tr>\n",
       "    <tr>\n",
       "      <th>Turks and Caicos Islands</th>\n",
       "      <td>Turks and Caicos Islands</td>\n",
       "      <td>0.000000</td>\n",
       "    </tr>\n",
       "  </tbody>\n",
       "</table>\n",
       "<p>225 rows × 2 columns</p>\n",
       "</div>"
      ],
      "text/plain": [
       "                                            origin  betweenness\n",
       "id                                                             \n",
       "United States of America  United States of America     0.105584\n",
       "China                                        China     0.073186\n",
       "Kenya                                        Kenya     0.035235\n",
       "Australia                                Australia     0.033659\n",
       "Spain                                        Spain     0.027726\n",
       "...                                            ...          ...\n",
       "Malta                                        Malta     0.000000\n",
       "Andorra                                    Andorra     0.000000\n",
       "San Marino                              San Marino     0.000000\n",
       "Iceland                                    Iceland     0.000000\n",
       "Turks and Caicos Islands  Turks and Caicos Islands     0.000000\n",
       "\n",
       "[225 rows x 2 columns]"
      ]
     },
     "execution_count": 98,
     "metadata": {},
     "output_type": "execute_result"
    }
   ],
   "source": [
    "data_idh_2001_2003 = data_idh_2001_2003.rename(columns={'idh_2001_2003': 'idh_2001_2003', 'country': 'origin'})\n",
    "df_betweenness_2001_2003 = df_betweenness_2001_2003.rename(columns={'nome':'origin'})\n",
    "df_betweenness_2001_2003"
   ]
  },
  {
   "cell_type": "code",
   "execution_count": 99,
   "id": "3ffecf23",
   "metadata": {
    "collapsed": true
   },
   "outputs": [
    {
     "data": {
      "text/html": [
       "<div>\n",
       "<style scoped>\n",
       "    .dataframe tbody tr th:only-of-type {\n",
       "        vertical-align: middle;\n",
       "    }\n",
       "\n",
       "    .dataframe tbody tr th {\n",
       "        vertical-align: top;\n",
       "    }\n",
       "\n",
       "    .dataframe thead th {\n",
       "        text-align: right;\n",
       "    }\n",
       "</style>\n",
       "<table border=\"1\" class=\"dataframe\">\n",
       "  <thead>\n",
       "    <tr style=\"text-align: right;\">\n",
       "      <th></th>\n",
       "      <th>origin</th>\n",
       "      <th>betweenness</th>\n",
       "      <th>idh_2001_2003</th>\n",
       "      <th>n_neightbours</th>\n",
       "    </tr>\n",
       "  </thead>\n",
       "  <tbody>\n",
       "    <tr>\n",
       "      <th>0</th>\n",
       "      <td>United States of America</td>\n",
       "      <td>0.105584</td>\n",
       "      <td>0.891333</td>\n",
       "      <td>2</td>\n",
       "    </tr>\n",
       "    <tr>\n",
       "      <th>1</th>\n",
       "      <td>China</td>\n",
       "      <td>0.073186</td>\n",
       "      <td>0.606667</td>\n",
       "      <td>16</td>\n",
       "    </tr>\n",
       "    <tr>\n",
       "      <th>2</th>\n",
       "      <td>Kenya</td>\n",
       "      <td>0.035235</td>\n",
       "      <td>0.469333</td>\n",
       "      <td>5</td>\n",
       "    </tr>\n",
       "    <tr>\n",
       "      <th>3</th>\n",
       "      <td>Australia</td>\n",
       "      <td>0.033659</td>\n",
       "      <td>0.907000</td>\n",
       "      <td>0</td>\n",
       "    </tr>\n",
       "    <tr>\n",
       "      <th>4</th>\n",
       "      <td>Spain</td>\n",
       "      <td>0.027726</td>\n",
       "      <td>0.837333</td>\n",
       "      <td>5</td>\n",
       "    </tr>\n",
       "    <tr>\n",
       "      <th>...</th>\n",
       "      <td>...</td>\n",
       "      <td>...</td>\n",
       "      <td>...</td>\n",
       "      <td>...</td>\n",
       "    </tr>\n",
       "    <tr>\n",
       "      <th>220</th>\n",
       "      <td>Malta</td>\n",
       "      <td>0.000000</td>\n",
       "      <td>0.805000</td>\n",
       "      <td>0</td>\n",
       "    </tr>\n",
       "    <tr>\n",
       "      <th>221</th>\n",
       "      <td>Andorra</td>\n",
       "      <td>0.000000</td>\n",
       "      <td>0.820667</td>\n",
       "      <td>2</td>\n",
       "    </tr>\n",
       "    <tr>\n",
       "      <th>222</th>\n",
       "      <td>San Marino</td>\n",
       "      <td>0.000000</td>\n",
       "      <td>0.853000</td>\n",
       "      <td>1</td>\n",
       "    </tr>\n",
       "    <tr>\n",
       "      <th>223</th>\n",
       "      <td>Iceland</td>\n",
       "      <td>0.000000</td>\n",
       "      <td>0.880000</td>\n",
       "      <td>0</td>\n",
       "    </tr>\n",
       "    <tr>\n",
       "      <th>224</th>\n",
       "      <td>Turks and Caicos Islands</td>\n",
       "      <td>0.000000</td>\n",
       "      <td>0.873000</td>\n",
       "      <td>0</td>\n",
       "    </tr>\n",
       "  </tbody>\n",
       "</table>\n",
       "<p>225 rows × 4 columns</p>\n",
       "</div>"
      ],
      "text/plain": [
       "                       origin  betweenness  idh_2001_2003  n_neightbours\n",
       "0    United States of America     0.105584       0.891333              2\n",
       "1                       China     0.073186       0.606667             16\n",
       "2                       Kenya     0.035235       0.469333              5\n",
       "3                   Australia     0.033659       0.907000              0\n",
       "4                       Spain     0.027726       0.837333              5\n",
       "..                        ...          ...            ...            ...\n",
       "220                     Malta     0.000000       0.805000              0\n",
       "221                   Andorra     0.000000       0.820667              2\n",
       "222                San Marino     0.000000       0.853000              1\n",
       "223                   Iceland     0.000000       0.880000              0\n",
       "224  Turks and Caicos Islands     0.000000       0.873000              0\n",
       "\n",
       "[225 rows x 4 columns]"
      ]
     },
     "execution_count": 99,
     "metadata": {},
     "output_type": "execute_result"
    }
   ],
   "source": [
    "df_betweenness_2001_2003 = df_betweenness_2001_2003.merge(data_idh_2001_2003, on=\"origin\", how=\"left\")\n",
    "df_betweenness_2001_2003"
   ]
  },
  {
   "cell_type": "code",
   "execution_count": 100,
   "id": "96707097",
   "metadata": {
    "collapsed": true
   },
   "outputs": [
    {
     "data": {
      "text/html": [
       "<div>\n",
       "<style scoped>\n",
       "    .dataframe tbody tr th:only-of-type {\n",
       "        vertical-align: middle;\n",
       "    }\n",
       "\n",
       "    .dataframe tbody tr th {\n",
       "        vertical-align: top;\n",
       "    }\n",
       "\n",
       "    .dataframe thead th {\n",
       "        text-align: right;\n",
       "    }\n",
       "</style>\n",
       "<table border=\"1\" class=\"dataframe\">\n",
       "  <thead>\n",
       "    <tr style=\"text-align: right;\">\n",
       "      <th></th>\n",
       "      <th>origin</th>\n",
       "      <th>betweenness</th>\n",
       "      <th>idh_2001_2003</th>\n",
       "      <th>n_neightbours</th>\n",
       "    </tr>\n",
       "  </thead>\n",
       "  <tbody>\n",
       "    <tr>\n",
       "      <th>0</th>\n",
       "      <td>United States of America</td>\n",
       "      <td>0.105584</td>\n",
       "      <td>0.891333</td>\n",
       "      <td>2</td>\n",
       "    </tr>\n",
       "    <tr>\n",
       "      <th>4</th>\n",
       "      <td>Spain</td>\n",
       "      <td>0.027726</td>\n",
       "      <td>0.837333</td>\n",
       "      <td>5</td>\n",
       "    </tr>\n",
       "    <tr>\n",
       "      <th>8</th>\n",
       "      <td>Romania</td>\n",
       "      <td>0.020640</td>\n",
       "      <td>0.730667</td>\n",
       "      <td>5</td>\n",
       "    </tr>\n",
       "    <tr>\n",
       "      <th>17</th>\n",
       "      <td>Canada</td>\n",
       "      <td>0.012983</td>\n",
       "      <td>0.876667</td>\n",
       "      <td>1</td>\n",
       "    </tr>\n",
       "    <tr>\n",
       "      <th>20</th>\n",
       "      <td>Germany</td>\n",
       "      <td>0.010186</td>\n",
       "      <td>0.890000</td>\n",
       "      <td>9</td>\n",
       "    </tr>\n",
       "    <tr>\n",
       "      <th>25</th>\n",
       "      <td>Portugal</td>\n",
       "      <td>0.008837</td>\n",
       "      <td>0.800667</td>\n",
       "      <td>1</td>\n",
       "    </tr>\n",
       "    <tr>\n",
       "      <th>28</th>\n",
       "      <td>Lithuania</td>\n",
       "      <td>0.008325</td>\n",
       "      <td>0.785333</td>\n",
       "      <td>4</td>\n",
       "    </tr>\n",
       "    <tr>\n",
       "      <th>32</th>\n",
       "      <td>Bulgaria</td>\n",
       "      <td>0.007595</td>\n",
       "      <td>0.737000</td>\n",
       "      <td>5</td>\n",
       "    </tr>\n",
       "    <tr>\n",
       "      <th>33</th>\n",
       "      <td>Hungary</td>\n",
       "      <td>0.007172</td>\n",
       "      <td>0.788667</td>\n",
       "      <td>7</td>\n",
       "    </tr>\n",
       "    <tr>\n",
       "      <th>34</th>\n",
       "      <td>Netherlands</td>\n",
       "      <td>0.006945</td>\n",
       "      <td>0.887000</td>\n",
       "      <td>2</td>\n",
       "    </tr>\n",
       "    <tr>\n",
       "      <th>36</th>\n",
       "      <td>Sweden</td>\n",
       "      <td>0.006608</td>\n",
       "      <td>0.908667</td>\n",
       "      <td>2</td>\n",
       "    </tr>\n",
       "    <tr>\n",
       "      <th>38</th>\n",
       "      <td>Poland</td>\n",
       "      <td>0.006322</td>\n",
       "      <td>0.803000</td>\n",
       "      <td>7</td>\n",
       "    </tr>\n",
       "    <tr>\n",
       "      <th>39</th>\n",
       "      <td>Italy</td>\n",
       "      <td>0.005897</td>\n",
       "      <td>0.850000</td>\n",
       "      <td>6</td>\n",
       "    </tr>\n",
       "    <tr>\n",
       "      <th>43</th>\n",
       "      <td>Belgium</td>\n",
       "      <td>0.005499</td>\n",
       "      <td>0.886000</td>\n",
       "      <td>4</td>\n",
       "    </tr>\n",
       "    <tr>\n",
       "      <th>50</th>\n",
       "      <td>France</td>\n",
       "      <td>0.004757</td>\n",
       "      <td>0.852667</td>\n",
       "      <td>8</td>\n",
       "    </tr>\n",
       "    <tr>\n",
       "      <th>68</th>\n",
       "      <td>Slovakia</td>\n",
       "      <td>0.002263</td>\n",
       "      <td>0.772333</td>\n",
       "      <td>5</td>\n",
       "    </tr>\n",
       "    <tr>\n",
       "      <th>80</th>\n",
       "      <td>Greece</td>\n",
       "      <td>0.001366</td>\n",
       "      <td>0.824333</td>\n",
       "      <td>4</td>\n",
       "    </tr>\n",
       "    <tr>\n",
       "      <th>87</th>\n",
       "      <td>Ireland</td>\n",
       "      <td>0.001022</td>\n",
       "      <td>0.881000</td>\n",
       "      <td>1</td>\n",
       "    </tr>\n",
       "    <tr>\n",
       "      <th>94</th>\n",
       "      <td>Slovenia</td>\n",
       "      <td>0.000832</td>\n",
       "      <td>0.850000</td>\n",
       "      <td>4</td>\n",
       "    </tr>\n",
       "    <tr>\n",
       "      <th>100</th>\n",
       "      <td>Austria</td>\n",
       "      <td>0.000543</td>\n",
       "      <td>0.851667</td>\n",
       "      <td>8</td>\n",
       "    </tr>\n",
       "    <tr>\n",
       "      <th>106</th>\n",
       "      <td>Latvia</td>\n",
       "      <td>0.000348</td>\n",
       "      <td>0.767000</td>\n",
       "      <td>4</td>\n",
       "    </tr>\n",
       "    <tr>\n",
       "      <th>112</th>\n",
       "      <td>Denmark</td>\n",
       "      <td>0.000222</td>\n",
       "      <td>0.891333</td>\n",
       "      <td>1</td>\n",
       "    </tr>\n",
       "    <tr>\n",
       "      <th>118</th>\n",
       "      <td>Finland</td>\n",
       "      <td>0.000156</td>\n",
       "      <td>0.874000</td>\n",
       "      <td>3</td>\n",
       "    </tr>\n",
       "    <tr>\n",
       "      <th>120</th>\n",
       "      <td>Czech Rep.</td>\n",
       "      <td>0.000141</td>\n",
       "      <td>0.821667</td>\n",
       "      <td>4</td>\n",
       "    </tr>\n",
       "    <tr>\n",
       "      <th>123</th>\n",
       "      <td>Estonia</td>\n",
       "      <td>0.000126</td>\n",
       "      <td>0.805000</td>\n",
       "      <td>2</td>\n",
       "    </tr>\n",
       "    <tr>\n",
       "      <th>135</th>\n",
       "      <td>Luxembourg</td>\n",
       "      <td>0.000014</td>\n",
       "      <td>0.869000</td>\n",
       "      <td>3</td>\n",
       "    </tr>\n",
       "    <tr>\n",
       "      <th>140</th>\n",
       "      <td>Cyprus</td>\n",
       "      <td>0.000009</td>\n",
       "      <td>0.819000</td>\n",
       "      <td>0</td>\n",
       "    </tr>\n",
       "    <tr>\n",
       "      <th>220</th>\n",
       "      <td>Malta</td>\n",
       "      <td>0.000000</td>\n",
       "      <td>0.805000</td>\n",
       "      <td>0</td>\n",
       "    </tr>\n",
       "  </tbody>\n",
       "</table>\n",
       "</div>"
      ],
      "text/plain": [
       "                       origin  betweenness  idh_2001_2003  n_neightbours\n",
       "0    United States of America     0.105584       0.891333              2\n",
       "4                       Spain     0.027726       0.837333              5\n",
       "8                     Romania     0.020640       0.730667              5\n",
       "17                     Canada     0.012983       0.876667              1\n",
       "20                    Germany     0.010186       0.890000              9\n",
       "25                   Portugal     0.008837       0.800667              1\n",
       "28                  Lithuania     0.008325       0.785333              4\n",
       "32                   Bulgaria     0.007595       0.737000              5\n",
       "33                    Hungary     0.007172       0.788667              7\n",
       "34                Netherlands     0.006945       0.887000              2\n",
       "36                     Sweden     0.006608       0.908667              2\n",
       "38                     Poland     0.006322       0.803000              7\n",
       "39                      Italy     0.005897       0.850000              6\n",
       "43                    Belgium     0.005499       0.886000              4\n",
       "50                     France     0.004757       0.852667              8\n",
       "68                   Slovakia     0.002263       0.772333              5\n",
       "80                     Greece     0.001366       0.824333              4\n",
       "87                    Ireland     0.001022       0.881000              1\n",
       "94                   Slovenia     0.000832       0.850000              4\n",
       "100                   Austria     0.000543       0.851667              8\n",
       "106                    Latvia     0.000348       0.767000              4\n",
       "112                   Denmark     0.000222       0.891333              1\n",
       "118                   Finland     0.000156       0.874000              3\n",
       "120                Czech Rep.     0.000141       0.821667              4\n",
       "123                   Estonia     0.000126       0.805000              2\n",
       "135                Luxembourg     0.000014       0.869000              3\n",
       "140                    Cyprus     0.000009       0.819000              0\n",
       "220                     Malta     0.000000       0.805000              0"
      ]
     },
     "execution_count": 100,
     "metadata": {},
     "output_type": "execute_result"
    }
   ],
   "source": [
    "df_filtrado_idh_2001_2003 = df_betweenness_2001_2003[(df_betweenness_2001_2003['origin'].isin(lista_paises_eu_america))]\n",
    "df_filtrado_idh_2001_2003"
   ]
  },
  {
   "cell_type": "markdown",
   "id": "2d753d2e",
   "metadata": {},
   "source": [
    "#### Regressão\n",
    "\n",
    "Com os resultados obtidos no processo acima, obtivemos a tabela logo acima dessa célula, a df_filtrado_idh_2001_2003, correlacionando o valor do betweenness com o recorte proposto e, para podermos analisar se o recorte realmente faz sentido e faria com que a hipótese não corroborasse mais, precisamos realizar uma regressão linear, uma vez que a variável dependente (betweenness) é um valor contínuo (métrica)."
   ]
  },
  {
   "cell_type": "code",
   "execution_count": 101,
   "id": "3a55517b",
   "metadata": {
    "collapsed": true
   },
   "outputs": [
    {
     "data": {
      "text/html": [
       "<table class=\"simpletable\">\n",
       "<caption>OLS Regression Results</caption>\n",
       "<tr>\n",
       "  <th>Dep. Variable:</th>       <td>betweenness</td>   <th>  R-squared:         </th> <td>   0.004</td>\n",
       "</tr>\n",
       "<tr>\n",
       "  <th>Model:</th>                   <td>OLS</td>       <th>  Adj. R-squared:    </th> <td>  -0.035</td>\n",
       "</tr>\n",
       "<tr>\n",
       "  <th>Method:</th>             <td>Least Squares</td>  <th>  F-statistic:       </th> <td> 0.09234</td>\n",
       "</tr>\n",
       "<tr>\n",
       "  <th>Date:</th>             <td>Mon, 14 Nov 2022</td> <th>  Prob (F-statistic):</th>  <td> 0.764</td> \n",
       "</tr>\n",
       "<tr>\n",
       "  <th>Time:</th>                 <td>15:31:54</td>     <th>  Log-Likelihood:    </th> <td>  70.326</td>\n",
       "</tr>\n",
       "<tr>\n",
       "  <th>No. Observations:</th>      <td>    28</td>      <th>  AIC:               </th> <td>  -136.7</td>\n",
       "</tr>\n",
       "<tr>\n",
       "  <th>Df Residuals:</th>          <td>    26</td>      <th>  BIC:               </th> <td>  -134.0</td>\n",
       "</tr>\n",
       "<tr>\n",
       "  <th>Df Model:</th>              <td>     1</td>      <th>                     </th>     <td> </td>   \n",
       "</tr>\n",
       "<tr>\n",
       "  <th>Covariance Type:</th>      <td>nonrobust</td>    <th>                     </th>     <td> </td>   \n",
       "</tr>\n",
       "</table>\n",
       "<table class=\"simpletable\">\n",
       "<tr>\n",
       "        <td></td>           <th>coef</th>     <th>std err</th>      <th>t</th>      <th>P>|t|</th>  <th>[0.025</th>    <th>0.975]</th>  \n",
       "</tr>\n",
       "<tr>\n",
       "  <th>Intercept</th>     <td>    0.0108</td> <td>    0.007</td> <td>    1.518</td> <td> 0.141</td> <td>   -0.004</td> <td>    0.025</td>\n",
       "</tr>\n",
       "<tr>\n",
       "  <th>n_neightbours</th> <td>   -0.0005</td> <td>    0.002</td> <td>   -0.304</td> <td> 0.764</td> <td>   -0.004</td> <td>    0.003</td>\n",
       "</tr>\n",
       "</table>\n",
       "<table class=\"simpletable\">\n",
       "<tr>\n",
       "  <th>Omnibus:</th>       <td>58.176</td> <th>  Durbin-Watson:     </th> <td>   0.562</td>\n",
       "</tr>\n",
       "<tr>\n",
       "  <th>Prob(Omnibus):</th> <td> 0.000</td> <th>  Jarque-Bera (JB):  </th> <td> 426.319</td>\n",
       "</tr>\n",
       "<tr>\n",
       "  <th>Skew:</th>          <td> 4.134</td> <th>  Prob(JB):          </th> <td>2.67e-93</td>\n",
       "</tr>\n",
       "<tr>\n",
       "  <th>Kurtosis:</th>      <td>20.235</td> <th>  Cond. No.          </th> <td>    8.70</td>\n",
       "</tr>\n",
       "</table><br/><br/>Notes:<br/>[1] Standard Errors assume that the covariance matrix of the errors is correctly specified."
      ],
      "text/plain": [
       "<class 'statsmodels.iolib.summary.Summary'>\n",
       "\"\"\"\n",
       "                            OLS Regression Results                            \n",
       "==============================================================================\n",
       "Dep. Variable:            betweenness   R-squared:                       0.004\n",
       "Model:                            OLS   Adj. R-squared:                 -0.035\n",
       "Method:                 Least Squares   F-statistic:                   0.09234\n",
       "Date:                Mon, 14 Nov 2022   Prob (F-statistic):              0.764\n",
       "Time:                        15:31:54   Log-Likelihood:                 70.326\n",
       "No. Observations:                  28   AIC:                            -136.7\n",
       "Df Residuals:                      26   BIC:                            -134.0\n",
       "Df Model:                           1                                         \n",
       "Covariance Type:            nonrobust                                         \n",
       "=================================================================================\n",
       "                    coef    std err          t      P>|t|      [0.025      0.975]\n",
       "---------------------------------------------------------------------------------\n",
       "Intercept         0.0108      0.007      1.518      0.141      -0.004       0.025\n",
       "n_neightbours    -0.0005      0.002     -0.304      0.764      -0.004       0.003\n",
       "==============================================================================\n",
       "Omnibus:                       58.176   Durbin-Watson:                   0.562\n",
       "Prob(Omnibus):                  0.000   Jarque-Bera (JB):              426.319\n",
       "Skew:                           4.134   Prob(JB):                     2.67e-93\n",
       "Kurtosis:                      20.235   Cond. No.                         8.70\n",
       "==============================================================================\n",
       "\n",
       "Notes:\n",
       "[1] Standard Errors assume that the covariance matrix of the errors is correctly specified.\n",
       "\"\"\""
      ]
     },
     "execution_count": 101,
     "metadata": {},
     "output_type": "execute_result"
    }
   ],
   "source": [
    "result_hip3 = reg.linear(data=df_filtrado_idh_2001_2003, formula='betweenness ~ n_neightbours')\n",
    "result_hip3.summary()"
   ]
  },
  {
   "cell_type": "code",
   "execution_count": 102,
   "id": "40ba5b93",
   "metadata": {
    "collapsed": true
   },
   "outputs": [
    {
     "data": {
      "text/html": [
       "<style type=\"text/css\">\n",
       "#T_f5efd_row0_col0 {\n",
       "  font-family: monospace;\n",
       "  text-align: left;\n",
       "}\n",
       "</style>\n",
       "<table id=\"T_f5efd\">\n",
       "  <thead>\n",
       "  </thead>\n",
       "  <tbody>\n",
       "    <tr>\n",
       "      <td id=\"T_f5efd_row0_col0\" class=\"data row0 col0\" >-0.000 (0.002)</td>\n",
       "    </tr>\n",
       "  </tbody>\n",
       "</table>\n"
      ],
      "text/plain": [
       "<pandas.io.formats.style.Styler at 0x7fa1228515a0>"
      ]
     },
     "execution_count": 102,
     "metadata": {},
     "output_type": "execute_result"
    }
   ],
   "source": [
    "result_hip3.nano_summary()"
   ]
  },
  {
   "cell_type": "code",
   "execution_count": 103,
   "id": "5e2bfd68",
   "metadata": {
    "collapsed": true
   },
   "outputs": [
    {
     "data": {
      "image/png": "[encoded data removed]",
      "text/plain": [
       "<Figure size 1280x480 with 2 Axes>"
      ]
     },
     "metadata": {},
     "output_type": "display_data"
    }
   ],
   "source": [
    "result_hip3.plot_residuals()"
   ]
  },
  {
   "cell_type": "markdown",
   "id": "4419426f",
   "metadata": {},
   "source": [
    "#### Conclusão:\n",
    "\n",
    "A partir dos resultados obtidos acima, podemos concluir que a hipótese deixou de corroborar para o recorte proposto, perdendo totalmente significância (valor-p).\n",
    "\n",
    "Dessa forma, podemos concluir que o recorte fez com que a hipótese deixasse de corroborar por conta justamente do pensamento apresentado no início do recorte proposto. Ou seja, com o ataque às Torres Gêmeas em 2001, os países da UE e da América Anglo-Saxônica restrigiram muito as suas fronteiras, resultando em uma grande diminuição da sua intermediação/betweenness e, assim, deixando de corroborar com a hipótese 3."
   ]
  },
  {
   "cell_type": "markdown",
   "id": "2bfca5bb",
   "metadata": {},
   "source": [
    "\n",
    "## Hipóteses 5: Abertura tem relação com chegada de pessoas\n",
    "\n",
    "### H : IN: OPEN, EXT, CORE\n"
   ]
  },
  {
   "cell_type": "markdown",
   "id": "ecea07c1",
   "metadata": {},
   "source": [
    "#### Explicação:\n",
    "\n",
    "Essa hipótese correlaciona a abertura de um país com a entrada de pessoas. Ou seja, quanto maior for a abertura de um país, mais pessoas chegam até ele. Ou seja, quanto mais fácil for de entrar nas fronteiras de uma nação, maior será o número de pessoas capazes de buscar refúgio nesses países. Além disso, a chegada de pessoas também está relacionada com a saída de pessoas e o coreness (variáveis de controle), uma vez que quanto maior a saída de pessoas de um país, mais pessoas chegarão em outros países, além de que quanto maior a entrada de pessoas, maior é o seu coreness. \n",
    "\n",
    "\n",
    "#### Recorte: 2008 a 2012 e países da África\n",
    "\n",
    "Esse recorte foi pensado pois, ao tratarmos dos anos de 2008 a 2012, pensamos na crise imobiliária dos Estados Unidos que ocorreu em 2008 e, posteriormente, resultou em uma crise econômica global. Além disso, também houve uma pandemia da gripe H1N1 no ano de 2009. Esses dois acontecimentos, juntos, poderiam resultar em uma possível mudança significativa na chegada de pessoas em países com uma menor abertura (como são alguns países da África), o que deixaria de corroborar com a hipótese 5, já que teriam mais pessoas entrando nos países africanos, mesmo tendo um OPEN menor, já que esses países, por terem menos condições de receberem e sustentarem refugiados (baixo desenvolvimento socioeconômico), acabam tendo uma abertura menor."
   ]
  },
  {
   "cell_type": "markdown",
   "id": "f592fbe4",
   "metadata": {},
   "source": [
    "2008 - 2012 e países da África"
   ]
  },
  {
   "cell_type": "code",
   "execution_count": 106,
   "id": "0059e019",
   "metadata": {
    "collapsed": true
   },
   "outputs": [
    {
     "name": "stderr",
     "output_type": "stream",
     "text": [
      "/tmp/ipykernel_30/3417367393.py:1: FutureWarning: The default value of numeric_only in DataFrameGroupBy.sum is deprecated. In a future version, numeric_only will default to False. Either specify numeric_only or select only columns which should be valid for the function.\n",
      "  df_indegree_2008_2012  = df_hip4_2008_2012.groupby('destiny').sum().reindex(listaVertices).fillna(0)\n"
     ]
    },
    {
     "data": {
      "text/html": [
       "<div>\n",
       "<style scoped>\n",
       "    .dataframe tbody tr th:only-of-type {\n",
       "        vertical-align: middle;\n",
       "    }\n",
       "\n",
       "    .dataframe tbody tr th {\n",
       "        vertical-align: top;\n",
       "    }\n",
       "\n",
       "    .dataframe thead th {\n",
       "        text-align: right;\n",
       "    }\n",
       "</style>\n",
       "<table border=\"1\" class=\"dataframe\">\n",
       "  <thead>\n",
       "    <tr style=\"text-align: right;\">\n",
       "      <th></th>\n",
       "      <th>country</th>\n",
       "      <th>in_degree</th>\n",
       "      <th>rejected</th>\n",
       "    </tr>\n",
       "  </thead>\n",
       "  <tbody>\n",
       "    <tr>\n",
       "      <th>0</th>\n",
       "      <td>United States of America</td>\n",
       "      <td>104356.0</td>\n",
       "      <td>74546.0</td>\n",
       "    </tr>\n",
       "    <tr>\n",
       "      <th>1</th>\n",
       "      <td>Malaysia</td>\n",
       "      <td>93752.0</td>\n",
       "      <td>4685.0</td>\n",
       "    </tr>\n",
       "    <tr>\n",
       "      <th>2</th>\n",
       "      <td>France</td>\n",
       "      <td>54791.0</td>\n",
       "      <td>267437.0</td>\n",
       "    </tr>\n",
       "    <tr>\n",
       "      <th>3</th>\n",
       "      <td>Canada</td>\n",
       "      <td>54290.0</td>\n",
       "      <td>60789.0</td>\n",
       "    </tr>\n",
       "    <tr>\n",
       "      <th>4</th>\n",
       "      <td>Sudan</td>\n",
       "      <td>51213.0</td>\n",
       "      <td>845.0</td>\n",
       "    </tr>\n",
       "    <tr>\n",
       "      <th>...</th>\n",
       "      <td>...</td>\n",
       "      <td>...</td>\n",
       "      <td>...</td>\n",
       "    </tr>\n",
       "    <tr>\n",
       "      <th>220</th>\n",
       "      <td>Samoa</td>\n",
       "      <td>0.0</td>\n",
       "      <td>0.0</td>\n",
       "    </tr>\n",
       "    <tr>\n",
       "      <th>221</th>\n",
       "      <td>French Guiana</td>\n",
       "      <td>0.0</td>\n",
       "      <td>0.0</td>\n",
       "    </tr>\n",
       "    <tr>\n",
       "      <th>222</th>\n",
       "      <td>Eritrea</td>\n",
       "      <td>0.0</td>\n",
       "      <td>0.0</td>\n",
       "    </tr>\n",
       "    <tr>\n",
       "      <th>223</th>\n",
       "      <td>Palestinian</td>\n",
       "      <td>0.0</td>\n",
       "      <td>0.0</td>\n",
       "    </tr>\n",
       "    <tr>\n",
       "      <th>224</th>\n",
       "      <td>Turks and Caicos Islands</td>\n",
       "      <td>0.0</td>\n",
       "      <td>5.0</td>\n",
       "    </tr>\n",
       "  </tbody>\n",
       "</table>\n",
       "<p>225 rows × 3 columns</p>\n",
       "</div>"
      ],
      "text/plain": [
       "                      country  in_degree  rejected\n",
       "0    United States of America   104356.0   74546.0\n",
       "1                    Malaysia    93752.0    4685.0\n",
       "2                      France    54791.0  267437.0\n",
       "3                      Canada    54290.0   60789.0\n",
       "4                       Sudan    51213.0     845.0\n",
       "..                        ...        ...       ...\n",
       "220                     Samoa        0.0       0.0\n",
       "221             French Guiana        0.0       0.0\n",
       "222                   Eritrea        0.0       0.0\n",
       "223               Palestinian        0.0       0.0\n",
       "224  Turks and Caicos Islands        0.0       5.0\n",
       "\n",
       "[225 rows x 3 columns]"
      ]
     },
     "execution_count": 106,
     "metadata": {},
     "output_type": "execute_result"
    }
   ],
   "source": [
    "df_indegree_2008_2012  = df_hip4_2008_2012.groupby('destiny').sum().reindex(listaVertices).fillna(0)\n",
    "df_indegree_2008_2012 = df_indegree_2008_2012.sort_values(\"value\", ascending = False)\n",
    "df_indegree_2008_2012 = df_indegree_2008_2012.reset_index()\n",
    "df_indegree_2008_2012 = df_indegree_2008_2012.rename(columns={'destiny': 'country', 'value':'in_degree'})\n",
    "df_indegree_2008_2012"
   ]
  },
  {
   "cell_type": "code",
   "execution_count": 107,
   "id": "72a831e0",
   "metadata": {},
   "outputs": [],
   "source": [
    "df_intermediario = df_intermediario.drop('rejected', axis=1)"
   ]
  },
  {
   "cell_type": "code",
   "execution_count": 108,
   "id": "960691ba",
   "metadata": {
    "collapsed": true
   },
   "outputs": [
    {
     "data": {
      "text/html": [
       "<div>\n",
       "<style scoped>\n",
       "    .dataframe tbody tr th:only-of-type {\n",
       "        vertical-align: middle;\n",
       "    }\n",
       "\n",
       "    .dataframe tbody tr th {\n",
       "        vertical-align: top;\n",
       "    }\n",
       "\n",
       "    .dataframe thead th {\n",
       "        text-align: right;\n",
       "    }\n",
       "</style>\n",
       "<table border=\"1\" class=\"dataframe\">\n",
       "  <thead>\n",
       "    <tr style=\"text-align: right;\">\n",
       "      <th></th>\n",
       "      <th>country</th>\n",
       "      <th>coreness</th>\n",
       "      <th>idh_2008_2012</th>\n",
       "      <th>pop_cont</th>\n",
       "      <th>out_degree</th>\n",
       "      <th>in_degree</th>\n",
       "      <th>rejected</th>\n",
       "    </tr>\n",
       "  </thead>\n",
       "  <tbody>\n",
       "    <tr>\n",
       "      <th>0</th>\n",
       "      <td>Hungary</td>\n",
       "      <td>1</td>\n",
       "      <td>0.8280</td>\n",
       "      <td>0</td>\n",
       "      <td>675.0</td>\n",
       "      <td>514.0</td>\n",
       "      <td>3470.0</td>\n",
       "    </tr>\n",
       "    <tr>\n",
       "      <th>1</th>\n",
       "      <td>United States of America</td>\n",
       "      <td>1</td>\n",
       "      <td>0.9156</td>\n",
       "      <td>0</td>\n",
       "      <td>50.0</td>\n",
       "      <td>104356.0</td>\n",
       "      <td>74546.0</td>\n",
       "    </tr>\n",
       "    <tr>\n",
       "      <th>2</th>\n",
       "      <td>Malta</td>\n",
       "      <td>1</td>\n",
       "      <td>0.8490</td>\n",
       "      <td>0</td>\n",
       "      <td>0.0</td>\n",
       "      <td>1418.0</td>\n",
       "      <td>4330.0</td>\n",
       "    </tr>\n",
       "    <tr>\n",
       "      <th>3</th>\n",
       "      <td>Latvia</td>\n",
       "      <td>1</td>\n",
       "      <td>0.8278</td>\n",
       "      <td>0</td>\n",
       "      <td>66.0</td>\n",
       "      <td>33.0</td>\n",
       "      <td>184.0</td>\n",
       "    </tr>\n",
       "    <tr>\n",
       "      <th>4</th>\n",
       "      <td>Italy</td>\n",
       "      <td>1</td>\n",
       "      <td>0.8792</td>\n",
       "      <td>0</td>\n",
       "      <td>19.0</td>\n",
       "      <td>9352.0</td>\n",
       "      <td>60698.0</td>\n",
       "    </tr>\n",
       "    <tr>\n",
       "      <th>...</th>\n",
       "      <td>...</td>\n",
       "      <td>...</td>\n",
       "      <td>...</td>\n",
       "      <td>...</td>\n",
       "      <td>...</td>\n",
       "      <td>...</td>\n",
       "      <td>...</td>\n",
       "    </tr>\n",
       "    <tr>\n",
       "      <th>220</th>\n",
       "      <td>Madagascar</td>\n",
       "      <td>0</td>\n",
       "      <td>0.5106</td>\n",
       "      <td>0</td>\n",
       "      <td>84.0</td>\n",
       "      <td>0.0</td>\n",
       "      <td>0.0</td>\n",
       "    </tr>\n",
       "    <tr>\n",
       "      <th>221</th>\n",
       "      <td>Guadeloupe</td>\n",
       "      <td>0</td>\n",
       "      <td>0.8530</td>\n",
       "      <td>0</td>\n",
       "      <td>0.0</td>\n",
       "      <td>0.0</td>\n",
       "      <td>0.0</td>\n",
       "    </tr>\n",
       "    <tr>\n",
       "      <th>222</th>\n",
       "      <td>Cambodia</td>\n",
       "      <td>0</td>\n",
       "      <td>0.5380</td>\n",
       "      <td>0</td>\n",
       "      <td>328.0</td>\n",
       "      <td>99.0</td>\n",
       "      <td>675.0</td>\n",
       "    </tr>\n",
       "    <tr>\n",
       "      <th>223</th>\n",
       "      <td>Brunei Darussalam</td>\n",
       "      <td>0</td>\n",
       "      <td>0.8298</td>\n",
       "      <td>0</td>\n",
       "      <td>0.0</td>\n",
       "      <td>0.0</td>\n",
       "      <td>0.0</td>\n",
       "    </tr>\n",
       "    <tr>\n",
       "      <th>224</th>\n",
       "      <td>Turks and Caicos Islands</td>\n",
       "      <td>0</td>\n",
       "      <td>0.8730</td>\n",
       "      <td>0</td>\n",
       "      <td>2.0</td>\n",
       "      <td>0.0</td>\n",
       "      <td>5.0</td>\n",
       "    </tr>\n",
       "  </tbody>\n",
       "</table>\n",
       "<p>225 rows × 7 columns</p>\n",
       "</div>"
      ],
      "text/plain": [
       "                      country  coreness  idh_2008_2012  pop_cont  out_degree  \\\n",
       "0                     Hungary         1         0.8280         0       675.0   \n",
       "1    United States of America         1         0.9156         0        50.0   \n",
       "2                       Malta         1         0.8490         0         0.0   \n",
       "3                      Latvia         1         0.8278         0        66.0   \n",
       "4                       Italy         1         0.8792         0        19.0   \n",
       "..                        ...       ...            ...       ...         ...   \n",
       "220                Madagascar         0         0.5106         0        84.0   \n",
       "221                Guadeloupe         0         0.8530         0         0.0   \n",
       "222                  Cambodia         0         0.5380         0       328.0   \n",
       "223         Brunei Darussalam         0         0.8298         0         0.0   \n",
       "224  Turks and Caicos Islands         0         0.8730         0         2.0   \n",
       "\n",
       "     in_degree  rejected  \n",
       "0        514.0    3470.0  \n",
       "1     104356.0   74546.0  \n",
       "2       1418.0    4330.0  \n",
       "3         33.0     184.0  \n",
       "4       9352.0   60698.0  \n",
       "..         ...       ...  \n",
       "220        0.0       0.0  \n",
       "221        0.0       0.0  \n",
       "222       99.0     675.0  \n",
       "223        0.0       0.0  \n",
       "224        0.0       5.0  \n",
       "\n",
       "[225 rows x 7 columns]"
      ]
     },
     "execution_count": 108,
     "metadata": {},
     "output_type": "execute_result"
    }
   ],
   "source": [
    "df_intermediario = df_intermediario.rename(columns={'origin': 'country', 'value':'out_degree'})\n",
    "df_intermediario = df_intermediario.merge(df_indegree_2008_2012, on=\"country\", how=\"left\")\n",
    "df_intermediario"
   ]
  },
  {
   "cell_type": "code",
   "execution_count": 109,
   "id": "c7d70153",
   "metadata": {
    "collapsed": true
   },
   "outputs": [
    {
     "data": {
      "text/html": [
       "<div>\n",
       "<style scoped>\n",
       "    .dataframe tbody tr th:only-of-type {\n",
       "        vertical-align: middle;\n",
       "    }\n",
       "\n",
       "    .dataframe tbody tr th {\n",
       "        vertical-align: top;\n",
       "    }\n",
       "\n",
       "    .dataframe thead th {\n",
       "        text-align: right;\n",
       "    }\n",
       "</style>\n",
       "<table border=\"1\" class=\"dataframe\">\n",
       "  <thead>\n",
       "    <tr style=\"text-align: right;\">\n",
       "      <th></th>\n",
       "      <th>country</th>\n",
       "      <th>coreness</th>\n",
       "      <th>out_degree</th>\n",
       "      <th>in_degree</th>\n",
       "      <th>rejected</th>\n",
       "    </tr>\n",
       "  </thead>\n",
       "  <tbody>\n",
       "    <tr>\n",
       "      <th>0</th>\n",
       "      <td>Hungary</td>\n",
       "      <td>1</td>\n",
       "      <td>675.0</td>\n",
       "      <td>514.0</td>\n",
       "      <td>3470.0</td>\n",
       "    </tr>\n",
       "    <tr>\n",
       "      <th>1</th>\n",
       "      <td>United States of America</td>\n",
       "      <td>1</td>\n",
       "      <td>50.0</td>\n",
       "      <td>104356.0</td>\n",
       "      <td>74546.0</td>\n",
       "    </tr>\n",
       "    <tr>\n",
       "      <th>2</th>\n",
       "      <td>Malta</td>\n",
       "      <td>1</td>\n",
       "      <td>0.0</td>\n",
       "      <td>1418.0</td>\n",
       "      <td>4330.0</td>\n",
       "    </tr>\n",
       "    <tr>\n",
       "      <th>3</th>\n",
       "      <td>Latvia</td>\n",
       "      <td>1</td>\n",
       "      <td>66.0</td>\n",
       "      <td>33.0</td>\n",
       "      <td>184.0</td>\n",
       "    </tr>\n",
       "    <tr>\n",
       "      <th>4</th>\n",
       "      <td>Italy</td>\n",
       "      <td>1</td>\n",
       "      <td>19.0</td>\n",
       "      <td>9352.0</td>\n",
       "      <td>60698.0</td>\n",
       "    </tr>\n",
       "    <tr>\n",
       "      <th>...</th>\n",
       "      <td>...</td>\n",
       "      <td>...</td>\n",
       "      <td>...</td>\n",
       "      <td>...</td>\n",
       "      <td>...</td>\n",
       "    </tr>\n",
       "    <tr>\n",
       "      <th>220</th>\n",
       "      <td>Madagascar</td>\n",
       "      <td>0</td>\n",
       "      <td>84.0</td>\n",
       "      <td>0.0</td>\n",
       "      <td>0.0</td>\n",
       "    </tr>\n",
       "    <tr>\n",
       "      <th>221</th>\n",
       "      <td>Guadeloupe</td>\n",
       "      <td>0</td>\n",
       "      <td>0.0</td>\n",
       "      <td>0.0</td>\n",
       "      <td>0.0</td>\n",
       "    </tr>\n",
       "    <tr>\n",
       "      <th>222</th>\n",
       "      <td>Cambodia</td>\n",
       "      <td>0</td>\n",
       "      <td>328.0</td>\n",
       "      <td>99.0</td>\n",
       "      <td>675.0</td>\n",
       "    </tr>\n",
       "    <tr>\n",
       "      <th>223</th>\n",
       "      <td>Brunei Darussalam</td>\n",
       "      <td>0</td>\n",
       "      <td>0.0</td>\n",
       "      <td>0.0</td>\n",
       "      <td>0.0</td>\n",
       "    </tr>\n",
       "    <tr>\n",
       "      <th>224</th>\n",
       "      <td>Turks and Caicos Islands</td>\n",
       "      <td>0</td>\n",
       "      <td>2.0</td>\n",
       "      <td>0.0</td>\n",
       "      <td>5.0</td>\n",
       "    </tr>\n",
       "  </tbody>\n",
       "</table>\n",
       "<p>225 rows × 5 columns</p>\n",
       "</div>"
      ],
      "text/plain": [
       "                      country  coreness  out_degree  in_degree  rejected\n",
       "0                     Hungary         1       675.0      514.0    3470.0\n",
       "1    United States of America         1        50.0   104356.0   74546.0\n",
       "2                       Malta         1         0.0     1418.0    4330.0\n",
       "3                      Latvia         1        66.0       33.0     184.0\n",
       "4                       Italy         1        19.0     9352.0   60698.0\n",
       "..                        ...       ...         ...        ...       ...\n",
       "220                Madagascar         0        84.0        0.0       0.0\n",
       "221                Guadeloupe         0         0.0        0.0       0.0\n",
       "222                  Cambodia         0       328.0       99.0     675.0\n",
       "223         Brunei Darussalam         0         0.0        0.0       0.0\n",
       "224  Turks and Caicos Islands         0         2.0        0.0       5.0\n",
       "\n",
       "[225 rows x 5 columns]"
      ]
     },
     "execution_count": 109,
     "metadata": {},
     "output_type": "execute_result"
    }
   ],
   "source": [
    "df_2008_2012_inout = df_intermediario.drop(['pop_cont','idh_2008_2012'], axis=1)\n",
    "df_2008_2012_inout"
   ]
  },
  {
   "cell_type": "code",
   "execution_count": 110,
   "id": "ee11856d",
   "metadata": {
    "collapsed": true
   },
   "outputs": [
    {
     "data": {
      "text/html": [
       "<div>\n",
       "<style scoped>\n",
       "    .dataframe tbody tr th:only-of-type {\n",
       "        vertical-align: middle;\n",
       "    }\n",
       "\n",
       "    .dataframe tbody tr th {\n",
       "        vertical-align: top;\n",
       "    }\n",
       "\n",
       "    .dataframe thead th {\n",
       "        text-align: right;\n",
       "    }\n",
       "</style>\n",
       "<table border=\"1\" class=\"dataframe\">\n",
       "  <thead>\n",
       "    <tr style=\"text-align: right;\">\n",
       "      <th></th>\n",
       "      <th>country</th>\n",
       "      <th>coreness</th>\n",
       "      <th>out_degree</th>\n",
       "      <th>in_degree</th>\n",
       "      <th>rejected</th>\n",
       "      <th>open</th>\n",
       "    </tr>\n",
       "  </thead>\n",
       "  <tbody>\n",
       "    <tr>\n",
       "      <th>0</th>\n",
       "      <td>Hungary</td>\n",
       "      <td>1</td>\n",
       "      <td>675.0</td>\n",
       "      <td>514.0</td>\n",
       "      <td>3470.0</td>\n",
       "      <td>12.901606</td>\n",
       "    </tr>\n",
       "    <tr>\n",
       "      <th>1</th>\n",
       "      <td>United States of America</td>\n",
       "      <td>1</td>\n",
       "      <td>50.0</td>\n",
       "      <td>104356.0</td>\n",
       "      <td>74546.0</td>\n",
       "      <td>58.331377</td>\n",
       "    </tr>\n",
       "    <tr>\n",
       "      <th>2</th>\n",
       "      <td>Malta</td>\n",
       "      <td>1</td>\n",
       "      <td>0.0</td>\n",
       "      <td>1418.0</td>\n",
       "      <td>4330.0</td>\n",
       "      <td>24.669450</td>\n",
       "    </tr>\n",
       "    <tr>\n",
       "      <th>3</th>\n",
       "      <td>Latvia</td>\n",
       "      <td>1</td>\n",
       "      <td>66.0</td>\n",
       "      <td>33.0</td>\n",
       "      <td>184.0</td>\n",
       "      <td>15.207373</td>\n",
       "    </tr>\n",
       "    <tr>\n",
       "      <th>4</th>\n",
       "      <td>Italy</td>\n",
       "      <td>1</td>\n",
       "      <td>19.0</td>\n",
       "      <td>9352.0</td>\n",
       "      <td>60698.0</td>\n",
       "      <td>13.350464</td>\n",
       "    </tr>\n",
       "    <tr>\n",
       "      <th>...</th>\n",
       "      <td>...</td>\n",
       "      <td>...</td>\n",
       "      <td>...</td>\n",
       "      <td>...</td>\n",
       "      <td>...</td>\n",
       "      <td>...</td>\n",
       "    </tr>\n",
       "    <tr>\n",
       "      <th>220</th>\n",
       "      <td>Madagascar</td>\n",
       "      <td>0</td>\n",
       "      <td>84.0</td>\n",
       "      <td>0.0</td>\n",
       "      <td>0.0</td>\n",
       "      <td>0.000000</td>\n",
       "    </tr>\n",
       "    <tr>\n",
       "      <th>221</th>\n",
       "      <td>Guadeloupe</td>\n",
       "      <td>0</td>\n",
       "      <td>0.0</td>\n",
       "      <td>0.0</td>\n",
       "      <td>0.0</td>\n",
       "      <td>0.000000</td>\n",
       "    </tr>\n",
       "    <tr>\n",
       "      <th>222</th>\n",
       "      <td>Cambodia</td>\n",
       "      <td>0</td>\n",
       "      <td>328.0</td>\n",
       "      <td>99.0</td>\n",
       "      <td>675.0</td>\n",
       "      <td>12.790698</td>\n",
       "    </tr>\n",
       "    <tr>\n",
       "      <th>223</th>\n",
       "      <td>Brunei Darussalam</td>\n",
       "      <td>0</td>\n",
       "      <td>0.0</td>\n",
       "      <td>0.0</td>\n",
       "      <td>0.0</td>\n",
       "      <td>0.000000</td>\n",
       "    </tr>\n",
       "    <tr>\n",
       "      <th>224</th>\n",
       "      <td>Turks and Caicos Islands</td>\n",
       "      <td>0</td>\n",
       "      <td>2.0</td>\n",
       "      <td>0.0</td>\n",
       "      <td>5.0</td>\n",
       "      <td>0.000000</td>\n",
       "    </tr>\n",
       "  </tbody>\n",
       "</table>\n",
       "<p>225 rows × 6 columns</p>\n",
       "</div>"
      ],
      "text/plain": [
       "                      country  coreness  out_degree  in_degree  rejected  \\\n",
       "0                     Hungary         1       675.0      514.0    3470.0   \n",
       "1    United States of America         1        50.0   104356.0   74546.0   \n",
       "2                       Malta         1         0.0     1418.0    4330.0   \n",
       "3                      Latvia         1        66.0       33.0     184.0   \n",
       "4                       Italy         1        19.0     9352.0   60698.0   \n",
       "..                        ...       ...         ...        ...       ...   \n",
       "220                Madagascar         0        84.0        0.0       0.0   \n",
       "221                Guadeloupe         0         0.0        0.0       0.0   \n",
       "222                  Cambodia         0       328.0       99.0     675.0   \n",
       "223         Brunei Darussalam         0         0.0        0.0       0.0   \n",
       "224  Turks and Caicos Islands         0         2.0        0.0       5.0   \n",
       "\n",
       "          open  \n",
       "0    12.901606  \n",
       "1    58.331377  \n",
       "2    24.669450  \n",
       "3    15.207373  \n",
       "4    13.350464  \n",
       "..         ...  \n",
       "220   0.000000  \n",
       "221   0.000000  \n",
       "222  12.790698  \n",
       "223   0.000000  \n",
       "224   0.000000  \n",
       "\n",
       "[225 rows x 6 columns]"
      ]
     },
     "execution_count": 110,
     "metadata": {},
     "output_type": "execute_result"
    }
   ],
   "source": [
    "df_2008_2012_inout['open'] = (df_2008_2012_inout['in_degree']/(df_2008_2012_inout['in_degree'] + df_2008_2012_inout['rejected']))*100\n",
    "df_2008_2012_inout['open'] = df_2008_2012_inout['open'].fillna(0)\n",
    "df_2008_2012_inout"
   ]
  },
  {
   "cell_type": "code",
   "execution_count": 111,
   "id": "4e7767e9",
   "metadata": {
    "collapsed": true
   },
   "outputs": [
    {
     "data": {
      "text/html": [
       "<div>\n",
       "<style scoped>\n",
       "    .dataframe tbody tr th:only-of-type {\n",
       "        vertical-align: middle;\n",
       "    }\n",
       "\n",
       "    .dataframe tbody tr th {\n",
       "        vertical-align: top;\n",
       "    }\n",
       "\n",
       "    .dataframe thead th {\n",
       "        text-align: right;\n",
       "    }\n",
       "</style>\n",
       "<table border=\"1\" class=\"dataframe\">\n",
       "  <thead>\n",
       "    <tr style=\"text-align: right;\">\n",
       "      <th></th>\n",
       "      <th>country</th>\n",
       "      <th>coreness</th>\n",
       "      <th>out_degree</th>\n",
       "      <th>in_degree</th>\n",
       "      <th>rejected</th>\n",
       "      <th>open</th>\n",
       "    </tr>\n",
       "  </thead>\n",
       "  <tbody>\n",
       "    <tr>\n",
       "      <th>12</th>\n",
       "      <td>Sudan</td>\n",
       "      <td>1</td>\n",
       "      <td>24449.0</td>\n",
       "      <td>51213.0</td>\n",
       "      <td>845.0</td>\n",
       "      <td>98.376810</td>\n",
       "    </tr>\n",
       "    <tr>\n",
       "      <th>17</th>\n",
       "      <td>Namibia</td>\n",
       "      <td>1</td>\n",
       "      <td>288.0</td>\n",
       "      <td>432.0</td>\n",
       "      <td>501.0</td>\n",
       "      <td>46.302251</td>\n",
       "    </tr>\n",
       "    <tr>\n",
       "      <th>27</th>\n",
       "      <td>Algeria</td>\n",
       "      <td>1</td>\n",
       "      <td>780.0</td>\n",
       "      <td>112.0</td>\n",
       "      <td>1702.0</td>\n",
       "      <td>6.174201</td>\n",
       "    </tr>\n",
       "    <tr>\n",
       "      <th>41</th>\n",
       "      <td>Côte d'Ivoire</td>\n",
       "      <td>1</td>\n",
       "      <td>12827.0</td>\n",
       "      <td>159.0</td>\n",
       "      <td>940.0</td>\n",
       "      <td>14.467698</td>\n",
       "    </tr>\n",
       "    <tr>\n",
       "      <th>42</th>\n",
       "      <td>South Africa</td>\n",
       "      <td>1</td>\n",
       "      <td>131.0</td>\n",
       "      <td>36451.0</td>\n",
       "      <td>309145.0</td>\n",
       "      <td>10.547286</td>\n",
       "    </tr>\n",
       "    <tr>\n",
       "      <th>45</th>\n",
       "      <td>Mauritania</td>\n",
       "      <td>1</td>\n",
       "      <td>1852.0</td>\n",
       "      <td>230.0</td>\n",
       "      <td>606.0</td>\n",
       "      <td>27.511962</td>\n",
       "    </tr>\n",
       "    <tr>\n",
       "      <th>46</th>\n",
       "      <td>Tunisia</td>\n",
       "      <td>1</td>\n",
       "      <td>297.0</td>\n",
       "      <td>3941.0</td>\n",
       "      <td>596.0</td>\n",
       "      <td>86.863566</td>\n",
       "    </tr>\n",
       "    <tr>\n",
       "      <th>49</th>\n",
       "      <td>Egypt</td>\n",
       "      <td>1</td>\n",
       "      <td>5581.0</td>\n",
       "      <td>7406.0</td>\n",
       "      <td>3197.0</td>\n",
       "      <td>69.848156</td>\n",
       "    </tr>\n",
       "    <tr>\n",
       "      <th>50</th>\n",
       "      <td>Libya</td>\n",
       "      <td>1</td>\n",
       "      <td>952.0</td>\n",
       "      <td>5328.0</td>\n",
       "      <td>340.0</td>\n",
       "      <td>94.001411</td>\n",
       "    </tr>\n",
       "    <tr>\n",
       "      <th>53</th>\n",
       "      <td>Congo</td>\n",
       "      <td>1</td>\n",
       "      <td>3048.0</td>\n",
       "      <td>290.0</td>\n",
       "      <td>1246.0</td>\n",
       "      <td>18.880208</td>\n",
       "    </tr>\n",
       "    <tr>\n",
       "      <th>59</th>\n",
       "      <td>Cameroon</td>\n",
       "      <td>1</td>\n",
       "      <td>3796.0</td>\n",
       "      <td>4968.0</td>\n",
       "      <td>3687.0</td>\n",
       "      <td>57.400347</td>\n",
       "    </tr>\n",
       "    <tr>\n",
       "      <th>60</th>\n",
       "      <td>Senegal</td>\n",
       "      <td>1</td>\n",
       "      <td>830.0</td>\n",
       "      <td>32.0</td>\n",
       "      <td>455.0</td>\n",
       "      <td>6.570842</td>\n",
       "    </tr>\n",
       "    <tr>\n",
       "      <th>65</th>\n",
       "      <td>Morocco</td>\n",
       "      <td>1</td>\n",
       "      <td>383.0</td>\n",
       "      <td>546.0</td>\n",
       "      <td>3698.0</td>\n",
       "      <td>12.865221</td>\n",
       "    </tr>\n",
       "    <tr>\n",
       "      <th>66</th>\n",
       "      <td>Ghana</td>\n",
       "      <td>1</td>\n",
       "      <td>440.0</td>\n",
       "      <td>9363.0</td>\n",
       "      <td>148.0</td>\n",
       "      <td>98.443907</td>\n",
       "    </tr>\n",
       "    <tr>\n",
       "      <th>70</th>\n",
       "      <td>Kenya</td>\n",
       "      <td>1</td>\n",
       "      <td>2422.0</td>\n",
       "      <td>23677.0</td>\n",
       "      <td>7029.0</td>\n",
       "      <td>77.108708</td>\n",
       "    </tr>\n",
       "    <tr>\n",
       "      <th>73</th>\n",
       "      <td>Angola</td>\n",
       "      <td>1</td>\n",
       "      <td>1049.0</td>\n",
       "      <td>1590.0</td>\n",
       "      <td>765.0</td>\n",
       "      <td>67.515924</td>\n",
       "    </tr>\n",
       "    <tr>\n",
       "      <th>74</th>\n",
       "      <td>Benin</td>\n",
       "      <td>1</td>\n",
       "      <td>89.0</td>\n",
       "      <td>508.0</td>\n",
       "      <td>1331.0</td>\n",
       "      <td>27.623709</td>\n",
       "    </tr>\n",
       "    <tr>\n",
       "      <th>88</th>\n",
       "      <td>Cabo Verde</td>\n",
       "      <td>0</td>\n",
       "      <td>1.0</td>\n",
       "      <td>0.0</td>\n",
       "      <td>0.0</td>\n",
       "      <td>0.000000</td>\n",
       "    </tr>\n",
       "    <tr>\n",
       "      <th>89</th>\n",
       "      <td>Burundi</td>\n",
       "      <td>0</td>\n",
       "      <td>8941.0</td>\n",
       "      <td>22458.0</td>\n",
       "      <td>619.0</td>\n",
       "      <td>97.317676</td>\n",
       "    </tr>\n",
       "    <tr>\n",
       "      <th>93</th>\n",
       "      <td>Liberia</td>\n",
       "      <td>0</td>\n",
       "      <td>858.0</td>\n",
       "      <td>295.0</td>\n",
       "      <td>889.0</td>\n",
       "      <td>24.915541</td>\n",
       "    </tr>\n",
       "    <tr>\n",
       "      <th>97</th>\n",
       "      <td>Comoros</td>\n",
       "      <td>0</td>\n",
       "      <td>384.0</td>\n",
       "      <td>0.0</td>\n",
       "      <td>0.0</td>\n",
       "      <td>0.000000</td>\n",
       "    </tr>\n",
       "    <tr>\n",
       "      <th>102</th>\n",
       "      <td>Dem. Rep. of the Congo</td>\n",
       "      <td>0</td>\n",
       "      <td>77502.0</td>\n",
       "      <td>67.0</td>\n",
       "      <td>62.0</td>\n",
       "      <td>51.937984</td>\n",
       "    </tr>\n",
       "    <tr>\n",
       "      <th>106</th>\n",
       "      <td>Lesotho</td>\n",
       "      <td>0</td>\n",
       "      <td>6.0</td>\n",
       "      <td>12.0</td>\n",
       "      <td>0.0</td>\n",
       "      <td>100.000000</td>\n",
       "    </tr>\n",
       "    <tr>\n",
       "      <th>111</th>\n",
       "      <td>Equatorial Guinea</td>\n",
       "      <td>0</td>\n",
       "      <td>53.0</td>\n",
       "      <td>0.0</td>\n",
       "      <td>0.0</td>\n",
       "      <td>0.000000</td>\n",
       "    </tr>\n",
       "    <tr>\n",
       "      <th>119</th>\n",
       "      <td>Djibouti</td>\n",
       "      <td>0</td>\n",
       "      <td>493.0</td>\n",
       "      <td>563.0</td>\n",
       "      <td>30.0</td>\n",
       "      <td>94.940978</td>\n",
       "    </tr>\n",
       "    <tr>\n",
       "      <th>124</th>\n",
       "      <td>Niger</td>\n",
       "      <td>0</td>\n",
       "      <td>221.0</td>\n",
       "      <td>15.0</td>\n",
       "      <td>62.0</td>\n",
       "      <td>19.480519</td>\n",
       "    </tr>\n",
       "    <tr>\n",
       "      <th>126</th>\n",
       "      <td>Togo</td>\n",
       "      <td>0</td>\n",
       "      <td>1198.0</td>\n",
       "      <td>280.0</td>\n",
       "      <td>276.0</td>\n",
       "      <td>50.359712</td>\n",
       "    </tr>\n",
       "    <tr>\n",
       "      <th>133</th>\n",
       "      <td>Uganda</td>\n",
       "      <td>0</td>\n",
       "      <td>1813.0</td>\n",
       "      <td>42501.0</td>\n",
       "      <td>5668.0</td>\n",
       "      <td>88.233096</td>\n",
       "    </tr>\n",
       "    <tr>\n",
       "      <th>136</th>\n",
       "      <td>Zambia</td>\n",
       "      <td>0</td>\n",
       "      <td>86.0</td>\n",
       "      <td>1198.0</td>\n",
       "      <td>226.0</td>\n",
       "      <td>84.129213</td>\n",
       "    </tr>\n",
       "    <tr>\n",
       "      <th>142</th>\n",
       "      <td>Seychelles</td>\n",
       "      <td>0</td>\n",
       "      <td>4.0</td>\n",
       "      <td>0.0</td>\n",
       "      <td>0.0</td>\n",
       "      <td>0.000000</td>\n",
       "    </tr>\n",
       "    <tr>\n",
       "      <th>152</th>\n",
       "      <td>Ethiopia</td>\n",
       "      <td>0</td>\n",
       "      <td>38344.0</td>\n",
       "      <td>40677.0</td>\n",
       "      <td>4104.0</td>\n",
       "      <td>90.835399</td>\n",
       "    </tr>\n",
       "    <tr>\n",
       "      <th>159</th>\n",
       "      <td>South Sudan</td>\n",
       "      <td>0</td>\n",
       "      <td>291.0</td>\n",
       "      <td>12.0</td>\n",
       "      <td>134.0</td>\n",
       "      <td>8.219178</td>\n",
       "    </tr>\n",
       "    <tr>\n",
       "      <th>160</th>\n",
       "      <td>Chad</td>\n",
       "      <td>0</td>\n",
       "      <td>2957.0</td>\n",
       "      <td>9849.0</td>\n",
       "      <td>233.0</td>\n",
       "      <td>97.688951</td>\n",
       "    </tr>\n",
       "    <tr>\n",
       "      <th>162</th>\n",
       "      <td>Central African Rep.</td>\n",
       "      <td>0</td>\n",
       "      <td>6329.0</td>\n",
       "      <td>785.0</td>\n",
       "      <td>60.0</td>\n",
       "      <td>92.899408</td>\n",
       "    </tr>\n",
       "    <tr>\n",
       "      <th>164</th>\n",
       "      <td>Somalia</td>\n",
       "      <td>0</td>\n",
       "      <td>70458.0</td>\n",
       "      <td>1235.0</td>\n",
       "      <td>949.0</td>\n",
       "      <td>56.547619</td>\n",
       "    </tr>\n",
       "    <tr>\n",
       "      <th>166</th>\n",
       "      <td>Sierra Leone</td>\n",
       "      <td>0</td>\n",
       "      <td>1031.0</td>\n",
       "      <td>0.0</td>\n",
       "      <td>55.0</td>\n",
       "      <td>0.000000</td>\n",
       "    </tr>\n",
       "    <tr>\n",
       "      <th>170</th>\n",
       "      <td>Guinea-Bissau</td>\n",
       "      <td>0</td>\n",
       "      <td>111.0</td>\n",
       "      <td>58.0</td>\n",
       "      <td>129.0</td>\n",
       "      <td>31.016043</td>\n",
       "    </tr>\n",
       "    <tr>\n",
       "      <th>171</th>\n",
       "      <td>Burkina Faso</td>\n",
       "      <td>0</td>\n",
       "      <td>547.0</td>\n",
       "      <td>67.0</td>\n",
       "      <td>71.0</td>\n",
       "      <td>48.550725</td>\n",
       "    </tr>\n",
       "    <tr>\n",
       "      <th>174</th>\n",
       "      <td>Mozambique</td>\n",
       "      <td>0</td>\n",
       "      <td>6.0</td>\n",
       "      <td>2327.0</td>\n",
       "      <td>945.0</td>\n",
       "      <td>71.118582</td>\n",
       "    </tr>\n",
       "    <tr>\n",
       "      <th>175</th>\n",
       "      <td>Sao Tome and Principe</td>\n",
       "      <td>0</td>\n",
       "      <td>0.0</td>\n",
       "      <td>0.0</td>\n",
       "      <td>0.0</td>\n",
       "      <td>0.000000</td>\n",
       "    </tr>\n",
       "    <tr>\n",
       "      <th>184</th>\n",
       "      <td>Mali</td>\n",
       "      <td>0</td>\n",
       "      <td>1637.0</td>\n",
       "      <td>129.0</td>\n",
       "      <td>71.0</td>\n",
       "      <td>64.500000</td>\n",
       "    </tr>\n",
       "    <tr>\n",
       "      <th>188</th>\n",
       "      <td>Eritrea</td>\n",
       "      <td>0</td>\n",
       "      <td>107682.0</td>\n",
       "      <td>0.0</td>\n",
       "      <td>0.0</td>\n",
       "      <td>0.000000</td>\n",
       "    </tr>\n",
       "    <tr>\n",
       "      <th>190</th>\n",
       "      <td>Gambia</td>\n",
       "      <td>0</td>\n",
       "      <td>1390.0</td>\n",
       "      <td>30.0</td>\n",
       "      <td>0.0</td>\n",
       "      <td>100.000000</td>\n",
       "    </tr>\n",
       "    <tr>\n",
       "      <th>192</th>\n",
       "      <td>Zimbabwe</td>\n",
       "      <td>0</td>\n",
       "      <td>10653.0</td>\n",
       "      <td>1502.0</td>\n",
       "      <td>524.0</td>\n",
       "      <td>74.136229</td>\n",
       "    </tr>\n",
       "    <tr>\n",
       "      <th>194</th>\n",
       "      <td>Nigeria</td>\n",
       "      <td>0</td>\n",
       "      <td>4352.0</td>\n",
       "      <td>353.0</td>\n",
       "      <td>376.0</td>\n",
       "      <td>48.422497</td>\n",
       "    </tr>\n",
       "    <tr>\n",
       "      <th>199</th>\n",
       "      <td>Botswana</td>\n",
       "      <td>0</td>\n",
       "      <td>230.0</td>\n",
       "      <td>1048.0</td>\n",
       "      <td>94.0</td>\n",
       "      <td>91.768827</td>\n",
       "    </tr>\n",
       "    <tr>\n",
       "      <th>200</th>\n",
       "      <td>Malawi</td>\n",
       "      <td>0</td>\n",
       "      <td>105.0</td>\n",
       "      <td>3054.0</td>\n",
       "      <td>1295.0</td>\n",
       "      <td>70.223040</td>\n",
       "    </tr>\n",
       "    <tr>\n",
       "      <th>206</th>\n",
       "      <td>Gabon</td>\n",
       "      <td>0</td>\n",
       "      <td>59.0</td>\n",
       "      <td>16.0</td>\n",
       "      <td>33.0</td>\n",
       "      <td>32.653061</td>\n",
       "    </tr>\n",
       "    <tr>\n",
       "      <th>209</th>\n",
       "      <td>Rwanda</td>\n",
       "      <td>0</td>\n",
       "      <td>5751.0</td>\n",
       "      <td>15131.0</td>\n",
       "      <td>931.0</td>\n",
       "      <td>94.203711</td>\n",
       "    </tr>\n",
       "    <tr>\n",
       "      <th>212</th>\n",
       "      <td>Guinea</td>\n",
       "      <td>0</td>\n",
       "      <td>6564.0</td>\n",
       "      <td>273.0</td>\n",
       "      <td>456.0</td>\n",
       "      <td>37.448560</td>\n",
       "    </tr>\n",
       "    <tr>\n",
       "      <th>215</th>\n",
       "      <td>Mauritius</td>\n",
       "      <td>0</td>\n",
       "      <td>29.0</td>\n",
       "      <td>0.0</td>\n",
       "      <td>0.0</td>\n",
       "      <td>0.000000</td>\n",
       "    </tr>\n",
       "    <tr>\n",
       "      <th>220</th>\n",
       "      <td>Madagascar</td>\n",
       "      <td>0</td>\n",
       "      <td>84.0</td>\n",
       "      <td>0.0</td>\n",
       "      <td>0.0</td>\n",
       "      <td>0.000000</td>\n",
       "    </tr>\n",
       "  </tbody>\n",
       "</table>\n",
       "</div>"
      ],
      "text/plain": [
       "                    country  coreness  out_degree  in_degree  rejected  \\\n",
       "12                    Sudan         1     24449.0    51213.0     845.0   \n",
       "17                  Namibia         1       288.0      432.0     501.0   \n",
       "27                  Algeria         1       780.0      112.0    1702.0   \n",
       "41            Côte d'Ivoire         1     12827.0      159.0     940.0   \n",
       "42             South Africa         1       131.0    36451.0  309145.0   \n",
       "45               Mauritania         1      1852.0      230.0     606.0   \n",
       "46                  Tunisia         1       297.0     3941.0     596.0   \n",
       "49                    Egypt         1      5581.0     7406.0    3197.0   \n",
       "50                    Libya         1       952.0     5328.0     340.0   \n",
       "53                    Congo         1      3048.0      290.0    1246.0   \n",
       "59                 Cameroon         1      3796.0     4968.0    3687.0   \n",
       "60                  Senegal         1       830.0       32.0     455.0   \n",
       "65                  Morocco         1       383.0      546.0    3698.0   \n",
       "66                    Ghana         1       440.0     9363.0     148.0   \n",
       "70                    Kenya         1      2422.0    23677.0    7029.0   \n",
       "73                   Angola         1      1049.0     1590.0     765.0   \n",
       "74                    Benin         1        89.0      508.0    1331.0   \n",
       "88               Cabo Verde         0         1.0        0.0       0.0   \n",
       "89                  Burundi         0      8941.0    22458.0     619.0   \n",
       "93                  Liberia         0       858.0      295.0     889.0   \n",
       "97                  Comoros         0       384.0        0.0       0.0   \n",
       "102  Dem. Rep. of the Congo         0     77502.0       67.0      62.0   \n",
       "106                 Lesotho         0         6.0       12.0       0.0   \n",
       "111       Equatorial Guinea         0        53.0        0.0       0.0   \n",
       "119                Djibouti         0       493.0      563.0      30.0   \n",
       "124                   Niger         0       221.0       15.0      62.0   \n",
       "126                    Togo         0      1198.0      280.0     276.0   \n",
       "133                  Uganda         0      1813.0    42501.0    5668.0   \n",
       "136                  Zambia         0        86.0     1198.0     226.0   \n",
       "142              Seychelles         0         4.0        0.0       0.0   \n",
       "152                Ethiopia         0     38344.0    40677.0    4104.0   \n",
       "159             South Sudan         0       291.0       12.0     134.0   \n",
       "160                    Chad         0      2957.0     9849.0     233.0   \n",
       "162    Central African Rep.         0      6329.0      785.0      60.0   \n",
       "164                 Somalia         0     70458.0     1235.0     949.0   \n",
       "166            Sierra Leone         0      1031.0        0.0      55.0   \n",
       "170           Guinea-Bissau         0       111.0       58.0     129.0   \n",
       "171            Burkina Faso         0       547.0       67.0      71.0   \n",
       "174              Mozambique         0         6.0     2327.0     945.0   \n",
       "175   Sao Tome and Principe         0         0.0        0.0       0.0   \n",
       "184                    Mali         0      1637.0      129.0      71.0   \n",
       "188                 Eritrea         0    107682.0        0.0       0.0   \n",
       "190                  Gambia         0      1390.0       30.0       0.0   \n",
       "192                Zimbabwe         0     10653.0     1502.0     524.0   \n",
       "194                 Nigeria         0      4352.0      353.0     376.0   \n",
       "199                Botswana         0       230.0     1048.0      94.0   \n",
       "200                  Malawi         0       105.0     3054.0    1295.0   \n",
       "206                   Gabon         0        59.0       16.0      33.0   \n",
       "209                  Rwanda         0      5751.0    15131.0     931.0   \n",
       "212                  Guinea         0      6564.0      273.0     456.0   \n",
       "215               Mauritius         0        29.0        0.0       0.0   \n",
       "220              Madagascar         0        84.0        0.0       0.0   \n",
       "\n",
       "           open  \n",
       "12    98.376810  \n",
       "17    46.302251  \n",
       "27     6.174201  \n",
       "41    14.467698  \n",
       "42    10.547286  \n",
       "45    27.511962  \n",
       "46    86.863566  \n",
       "49    69.848156  \n",
       "50    94.001411  \n",
       "53    18.880208  \n",
       "59    57.400347  \n",
       "60     6.570842  \n",
       "65    12.865221  \n",
       "66    98.443907  \n",
       "70    77.108708  \n",
       "73    67.515924  \n",
       "74    27.623709  \n",
       "88     0.000000  \n",
       "89    97.317676  \n",
       "93    24.915541  \n",
       "97     0.000000  \n",
       "102   51.937984  \n",
       "106  100.000000  \n",
       "111    0.000000  \n",
       "119   94.940978  \n",
       "124   19.480519  \n",
       "126   50.359712  \n",
       "133   88.233096  \n",
       "136   84.129213  \n",
       "142    0.000000  \n",
       "152   90.835399  \n",
       "159    8.219178  \n",
       "160   97.688951  \n",
       "162   92.899408  \n",
       "164   56.547619  \n",
       "166    0.000000  \n",
       "170   31.016043  \n",
       "171   48.550725  \n",
       "174   71.118582  \n",
       "175    0.000000  \n",
       "184   64.500000  \n",
       "188    0.000000  \n",
       "190  100.000000  \n",
       "192   74.136229  \n",
       "194   48.422497  \n",
       "199   91.768827  \n",
       "200   70.223040  \n",
       "206   32.653061  \n",
       "209   94.203711  \n",
       "212   37.448560  \n",
       "215    0.000000  \n",
       "220    0.000000  "
      ]
     },
     "execution_count": 111,
     "metadata": {},
     "output_type": "execute_result"
    }
   ],
   "source": [
    "df_2008_2012_inout_africa =  df_2008_2012_inout[(df_2008_2012_inout['country'].isin(lista_paises_africa))]\n",
    "df_2008_2012_inout_africa"
   ]
  },
  {
   "cell_type": "markdown",
   "id": "6bccd6f3",
   "metadata": {},
   "source": [
    "#### Regressão\n",
    "\n",
    "Com os resultados obtidos no processo acima, obtivemos a tabela logo acima dessa célula, a df_2008_2012_inout_africa, correlacionando o valor do in_degree com o recorte proposto e, para podermos analisar se o recorte realmente faz sentido e faria com que a hipótese não corroborasse mais, precisamos realizar uma regressão linear, uma vez que a variável dependente (in_degree) é um valor contínuo (métrica)."
   ]
  },
  {
   "cell_type": "code",
   "execution_count": 112,
   "id": "001c56e6",
   "metadata": {
    "collapsed": true
   },
   "outputs": [
    {
     "data": {
      "text/html": [
       "<table class=\"simpletable\">\n",
       "<caption>OLS Regression Results</caption>\n",
       "<tr>\n",
       "  <th>Dep. Variable:</th>    <td>np.log1p(in_degree)</td> <th>  R-squared:         </th> <td>   0.695</td>\n",
       "</tr>\n",
       "<tr>\n",
       "  <th>Model:</th>                    <td>OLS</td>         <th>  Adj. R-squared:    </th> <td>   0.675</td>\n",
       "</tr>\n",
       "<tr>\n",
       "  <th>Method:</th>              <td>Least Squares</td>    <th>  F-statistic:       </th> <td>   36.37</td>\n",
       "</tr>\n",
       "<tr>\n",
       "  <th>Date:</th>              <td>Mon, 14 Nov 2022</td>   <th>  Prob (F-statistic):</th> <td>2.06e-12</td>\n",
       "</tr>\n",
       "<tr>\n",
       "  <th>Time:</th>                  <td>15:34:00</td>       <th>  Log-Likelihood:    </th> <td> -105.55</td>\n",
       "</tr>\n",
       "<tr>\n",
       "  <th>No. Observations:</th>       <td>    52</td>        <th>  AIC:               </th> <td>   219.1</td>\n",
       "</tr>\n",
       "<tr>\n",
       "  <th>Df Residuals:</th>           <td>    48</td>        <th>  BIC:               </th> <td>   226.9</td>\n",
       "</tr>\n",
       "<tr>\n",
       "  <th>Df Model:</th>               <td>     3</td>        <th>                     </th>     <td> </td>   \n",
       "</tr>\n",
       "<tr>\n",
       "  <th>Covariance Type:</th>       <td>nonrobust</td>      <th>                     </th>     <td> </td>   \n",
       "</tr>\n",
       "</table>\n",
       "<table class=\"simpletable\">\n",
       "<tr>\n",
       "       <td></td>         <th>coef</th>     <th>std err</th>      <th>t</th>      <th>P>|t|</th>  <th>[0.025</th>    <th>0.975]</th>  \n",
       "</tr>\n",
       "<tr>\n",
       "  <th>Intercept</th>  <td>    1.2385</td> <td>    0.503</td> <td>    2.464</td> <td> 0.017</td> <td>    0.228</td> <td>    2.249</td>\n",
       "</tr>\n",
       "<tr>\n",
       "  <th>open</th>       <td>    0.0675</td> <td>    0.007</td> <td>    9.249</td> <td> 0.000</td> <td>    0.053</td> <td>    0.082</td>\n",
       "</tr>\n",
       "<tr>\n",
       "  <th>coreness</th>   <td>    2.8495</td> <td>    0.573</td> <td>    4.971</td> <td> 0.000</td> <td>    1.697</td> <td>    4.002</td>\n",
       "</tr>\n",
       "<tr>\n",
       "  <th>out_degree</th> <td> 6.314e-06</td> <td> 1.31e-05</td> <td>    0.483</td> <td> 0.631</td> <td>   -2e-05</td> <td> 3.26e-05</td>\n",
       "</tr>\n",
       "</table>\n",
       "<table class=\"simpletable\">\n",
       "<tr>\n",
       "  <th>Omnibus:</th>       <td> 4.932</td> <th>  Durbin-Watson:     </th> <td>   1.921</td>\n",
       "</tr>\n",
       "<tr>\n",
       "  <th>Prob(Omnibus):</th> <td> 0.085</td> <th>  Jarque-Bera (JB):  </th> <td>   6.144</td>\n",
       "</tr>\n",
       "<tr>\n",
       "  <th>Skew:</th>          <td> 0.080</td> <th>  Prob(JB):          </th> <td>  0.0463</td>\n",
       "</tr>\n",
       "<tr>\n",
       "  <th>Kurtosis:</th>      <td> 4.676</td> <th>  Cond. No.          </th> <td>5.34e+04</td>\n",
       "</tr>\n",
       "</table><br/><br/>Notes:<br/>[1] Standard Errors assume that the covariance matrix of the errors is correctly specified.<br/>[2] The condition number is large, 5.34e+04. This might indicate that there are<br/>strong multicollinearity or other numerical problems."
      ],
      "text/plain": [
       "<class 'statsmodels.iolib.summary.Summary'>\n",
       "\"\"\"\n",
       "                             OLS Regression Results                            \n",
       "===============================================================================\n",
       "Dep. Variable:     np.log1p(in_degree)   R-squared:                       0.695\n",
       "Model:                             OLS   Adj. R-squared:                  0.675\n",
       "Method:                  Least Squares   F-statistic:                     36.37\n",
       "Date:                 Mon, 14 Nov 2022   Prob (F-statistic):           2.06e-12\n",
       "Time:                         15:34:00   Log-Likelihood:                -105.55\n",
       "No. Observations:                   52   AIC:                             219.1\n",
       "Df Residuals:                       48   BIC:                             226.9\n",
       "Df Model:                            3                                         \n",
       "Covariance Type:             nonrobust                                         \n",
       "==============================================================================\n",
       "                 coef    std err          t      P>|t|      [0.025      0.975]\n",
       "------------------------------------------------------------------------------\n",
       "Intercept      1.2385      0.503      2.464      0.017       0.228       2.249\n",
       "open           0.0675      0.007      9.249      0.000       0.053       0.082\n",
       "coreness       2.8495      0.573      4.971      0.000       1.697       4.002\n",
       "out_degree  6.314e-06   1.31e-05      0.483      0.631      -2e-05    3.26e-05\n",
       "==============================================================================\n",
       "Omnibus:                        4.932   Durbin-Watson:                   1.921\n",
       "Prob(Omnibus):                  0.085   Jarque-Bera (JB):                6.144\n",
       "Skew:                           0.080   Prob(JB):                       0.0463\n",
       "Kurtosis:                       4.676   Cond. No.                     5.34e+04\n",
       "==============================================================================\n",
       "\n",
       "Notes:\n",
       "[1] Standard Errors assume that the covariance matrix of the errors is correctly specified.\n",
       "[2] The condition number is large, 5.34e+04. This might indicate that there are\n",
       "strong multicollinearity or other numerical problems.\n",
       "\"\"\""
      ]
     },
     "execution_count": 112,
     "metadata": {},
     "output_type": "execute_result"
    }
   ],
   "source": [
    "result_hip5 = reg.linear(data=df_2008_2012_inout_africa, formula='np.log1p(in_degree) ~ open + coreness + out_degree')\n",
    "result_hip5.summary()"
   ]
  },
  {
   "cell_type": "code",
   "execution_count": 113,
   "id": "bf4584df",
   "metadata": {},
   "outputs": [
    {
     "data": {
      "text/html": [
       "<style type=\"text/css\">\n",
       "#T_f5ea0_row0_col0, #T_f5ea0_row1_col0, #T_f5ea0_row2_col0 {\n",
       "  font-family: monospace;\n",
       "  text-align: left;\n",
       "}\n",
       "</style>\n",
       "<table id=\"T_f5ea0\">\n",
       "  <thead>\n",
       "  </thead>\n",
       "  <tbody>\n",
       "    <tr>\n",
       "      <td id=\"T_f5ea0_row0_col0\" class=\"data row0 col0\" >+0.067 (0.007) ***</td>\n",
       "    </tr>\n",
       "    <tr>\n",
       "      <td id=\"T_f5ea0_row1_col0\" class=\"data row1 col0\" >+2.850 (0.573) ***</td>\n",
       "    </tr>\n",
       "    <tr>\n",
       "      <td id=\"T_f5ea0_row2_col0\" class=\"data row2 col0\" >+0.000 (0.000)</td>\n",
       "    </tr>\n",
       "  </tbody>\n",
       "</table>\n"
      ],
      "text/plain": [
       "<pandas.io.formats.style.Styler at 0x7fa1229a97b0>"
      ]
     },
     "execution_count": 113,
     "metadata": {},
     "output_type": "execute_result"
    }
   ],
   "source": [
    "result_hip5.nano_summary()"
   ]
  },
  {
   "cell_type": "code",
   "execution_count": 114,
   "id": "05ee2cd4",
   "metadata": {
    "collapsed": true
   },
   "outputs": [
    {
     "data": {
      "image/png": "[encoded data removed]",
      "text/plain": [
       "<Figure size 1280x480 with 2 Axes>"
      ]
     },
     "metadata": {},
     "output_type": "display_data"
    }
   ],
   "source": [
    "result_hip5.plot_residuals()"
   ]
  },
  {
   "cell_type": "markdown",
   "id": "c842e044",
   "metadata": {},
   "source": [
    "#### Conclusão\n",
    "\n",
    "A partir dos resultados obtidos acima, podemos concluir que a hipótese continua corroborando e sendo verdadeira para esse recorte, sem perder nenhuma significância.\n",
    "\n",
    "Dessa forma, podemos concluir que o recorte pode não ter dado certo pelo fator de que, apesar da crise econômica mundial em 2008, seguida pela pandemia da H1N1, os países africanos não foram tão afetados ao ponto de alterar significativamente a entrada naquele continente, o que faria com que a hipótese deixasse de corroborar, uma vez que teríamos países com baixo OPEN e alta chegada de pessoas. Portanto, a hipótese continua corroborando mesmo para esse recorte."
   ]
  }
 ],
 "metadata": {
  "kernelspec": {
   "display_name": "Python 3 (ipykernel)",
   "language": "python",
   "name": "python3"
  },
  "language_info": {
   "codemirror_mode": {
    "name": "ipython",
    "version": 3
   },
   "file_extension": ".py",
   "mimetype": "text/x-python",
   "name": "python",
   "nbconvert_exporter": "python",
   "pygments_lexer": "ipython3",
   "version": "3.10.6"
  }
 },
 "nbformat": 4,
 "nbformat_minor": 5
}
