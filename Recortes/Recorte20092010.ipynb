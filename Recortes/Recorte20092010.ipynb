{
 "cells": [
  {
   "cell_type": "code",
   "execution_count": 3,
   "id": "8f2ab64f",
   "metadata": {},
   "outputs": [],
   "source": [
    "import numpy as np\n",
    "import pandas as pd\n",
    "import seaborn as sns\n",
    "\n",
    "from scipy import stats\n",
    "from matplotlib import pyplot as plt\n",
    "\n",
    "import openpyxl"
   ]
  },
  {
   "cell_type": "code",
   "execution_count": 4,
   "id": "48180d5a",
   "metadata": {},
   "outputs": [
    {
     "name": "stdout",
     "output_type": "stream",
     "text": [
      "225\n"
     ]
    },
    {
     "name": "stderr",
     "output_type": "stream",
     "text": [
      "/tmp/ipykernel_12/3264878743.py:1: DtypeWarning: Columns (4,5,6,7,8,9,10,11,12,13) have mixed types. Specify dtype option on import or set low_memory=False.\n",
      "  df_completo = pd.read_csv('./asylum_seekers.csv')\n"
     ]
    }
   ],
   "source": [
    "df_completo = pd.read_csv('./asylum_seekers.csv')\n",
    "\n",
    "listaVertices = []\n",
    "\n",
    "listaVertices = set(df_completo['Country / territory of asylum/residence'].unique().tolist() + df_completo['Origin'].unique().tolist())\n",
    "\n",
    "print(len(listaVertices))"
   ]
  },
  {
   "cell_type": "code",
   "execution_count": 5,
   "id": "11bf99cf",
   "metadata": {},
   "outputs": [
    {
     "data": {
      "text/html": [
       "<div>\n",
       "<style scoped>\n",
       "    .dataframe tbody tr th:only-of-type {\n",
       "        vertical-align: middle;\n",
       "    }\n",
       "\n",
       "    .dataframe tbody tr th {\n",
       "        vertical-align: top;\n",
       "    }\n",
       "\n",
       "    .dataframe thead th {\n",
       "        text-align: right;\n",
       "    }\n",
       "</style>\n",
       "<table border=\"1\" class=\"dataframe\">\n",
       "  <thead>\n",
       "    <tr style=\"text-align: right;\">\n",
       "      <th></th>\n",
       "      <th>Year</th>\n",
       "      <th>Country / territory of asylum/residence</th>\n",
       "      <th>Origin</th>\n",
       "      <th>RSD procedure type / level</th>\n",
       "      <th>Tota pending start-year</th>\n",
       "      <th>of which UNHCR-assisted(start-year)</th>\n",
       "      <th>Applied during year</th>\n",
       "      <th>decisions_recognized</th>\n",
       "      <th>decisions_other</th>\n",
       "      <th>Rejected</th>\n",
       "      <th>Otherwise closed</th>\n",
       "      <th>Total decisions</th>\n",
       "      <th>Total pending end-year</th>\n",
       "      <th>of which UNHCR-assisted(end-year)</th>\n",
       "    </tr>\n",
       "  </thead>\n",
       "  <tbody>\n",
       "    <tr>\n",
       "      <th>0</th>\n",
       "      <td>2000</td>\n",
       "      <td>Zimbabwe</td>\n",
       "      <td>Afghanistan</td>\n",
       "      <td>G / FI</td>\n",
       "      <td>0</td>\n",
       "      <td>0</td>\n",
       "      <td>5</td>\n",
       "      <td>5</td>\n",
       "      <td>0</td>\n",
       "      <td>0</td>\n",
       "      <td>0</td>\n",
       "      <td>5.0</td>\n",
       "      <td>0</td>\n",
       "      <td>0</td>\n",
       "    </tr>\n",
       "    <tr>\n",
       "      <th>1</th>\n",
       "      <td>2000</td>\n",
       "      <td>South Africa</td>\n",
       "      <td>Afghanistan</td>\n",
       "      <td>G / FI</td>\n",
       "      <td>8</td>\n",
       "      <td>1</td>\n",
       "      <td>0</td>\n",
       "      <td>0</td>\n",
       "      <td>0</td>\n",
       "      <td>0</td>\n",
       "      <td>0</td>\n",
       "      <td>NaN</td>\n",
       "      <td>8</td>\n",
       "      <td>0</td>\n",
       "    </tr>\n",
       "    <tr>\n",
       "      <th>2</th>\n",
       "      <td>2000</td>\n",
       "      <td>Uzbekistan</td>\n",
       "      <td>Afghanistan</td>\n",
       "      <td>U / FI</td>\n",
       "      <td>265</td>\n",
       "      <td>265</td>\n",
       "      <td>2156</td>\n",
       "      <td>747</td>\n",
       "      <td>0</td>\n",
       "      <td>112</td>\n",
       "      <td>327</td>\n",
       "      <td>1186.0</td>\n",
       "      <td>1235</td>\n",
       "      <td>1235</td>\n",
       "    </tr>\n",
       "    <tr>\n",
       "      <th>3</th>\n",
       "      <td>2000</td>\n",
       "      <td>United States of America</td>\n",
       "      <td>Afghanistan</td>\n",
       "      <td>G / EO</td>\n",
       "      <td>196</td>\n",
       "      <td>0</td>\n",
       "      <td>225</td>\n",
       "      <td>151</td>\n",
       "      <td>0</td>\n",
       "      <td>31</td>\n",
       "      <td>68</td>\n",
       "      <td>250.0</td>\n",
       "      <td>171</td>\n",
       "      <td>0</td>\n",
       "    </tr>\n",
       "    <tr>\n",
       "      <th>4</th>\n",
       "      <td>2000</td>\n",
       "      <td>United States of America</td>\n",
       "      <td>Afghanistan</td>\n",
       "      <td>G / IN</td>\n",
       "      <td>193</td>\n",
       "      <td>0</td>\n",
       "      <td>218</td>\n",
       "      <td>182</td>\n",
       "      <td>0</td>\n",
       "      <td>51</td>\n",
       "      <td>40</td>\n",
       "      <td>273.0</td>\n",
       "      <td>150</td>\n",
       "      <td>0</td>\n",
       "    </tr>\n",
       "    <tr>\n",
       "      <th>...</th>\n",
       "      <td>...</td>\n",
       "      <td>...</td>\n",
       "      <td>...</td>\n",
       "      <td>...</td>\n",
       "      <td>...</td>\n",
       "      <td>...</td>\n",
       "      <td>...</td>\n",
       "      <td>...</td>\n",
       "      <td>...</td>\n",
       "      <td>...</td>\n",
       "      <td>...</td>\n",
       "      <td>...</td>\n",
       "      <td>...</td>\n",
       "      <td>...</td>\n",
       "    </tr>\n",
       "    <tr>\n",
       "      <th>129715</th>\n",
       "      <td>2016</td>\n",
       "      <td>United States of America</td>\n",
       "      <td>Zimbabwe</td>\n",
       "      <td>G / IN</td>\n",
       "      <td>232</td>\n",
       "      <td>NaN</td>\n",
       "      <td>229</td>\n",
       "      <td>16</td>\n",
       "      <td>NaN</td>\n",
       "      <td>*</td>\n",
       "      <td>10</td>\n",
       "      <td>28</td>\n",
       "      <td>435</td>\n",
       "      <td>NaN</td>\n",
       "    </tr>\n",
       "    <tr>\n",
       "      <th>129716</th>\n",
       "      <td>2016</td>\n",
       "      <td>United States of America</td>\n",
       "      <td>Zimbabwe</td>\n",
       "      <td>G / EO</td>\n",
       "      <td>142</td>\n",
       "      <td>NaN</td>\n",
       "      <td>12</td>\n",
       "      <td>*</td>\n",
       "      <td>NaN</td>\n",
       "      <td>*</td>\n",
       "      <td>23</td>\n",
       "      <td>31</td>\n",
       "      <td>138</td>\n",
       "      <td>NaN</td>\n",
       "    </tr>\n",
       "    <tr>\n",
       "      <th>129717</th>\n",
       "      <td>2016</td>\n",
       "      <td>South Africa</td>\n",
       "      <td>Zimbabwe</td>\n",
       "      <td>G / AR</td>\n",
       "      <td>94</td>\n",
       "      <td>9</td>\n",
       "      <td>NaN</td>\n",
       "      <td>NaN</td>\n",
       "      <td>NaN</td>\n",
       "      <td>NaN</td>\n",
       "      <td>94</td>\n",
       "      <td>94</td>\n",
       "      <td>0</td>\n",
       "      <td>NaN</td>\n",
       "    </tr>\n",
       "    <tr>\n",
       "      <th>129718</th>\n",
       "      <td>2016</td>\n",
       "      <td>South Africa</td>\n",
       "      <td>Zimbabwe</td>\n",
       "      <td>G / FI</td>\n",
       "      <td>41238</td>\n",
       "      <td>4124</td>\n",
       "      <td>7964</td>\n",
       "      <td>73</td>\n",
       "      <td>NaN</td>\n",
       "      <td>7869</td>\n",
       "      <td>NaN</td>\n",
       "      <td>7942</td>\n",
       "      <td>41260</td>\n",
       "      <td>NaN</td>\n",
       "    </tr>\n",
       "    <tr>\n",
       "      <th>129719</th>\n",
       "      <td>2016</td>\n",
       "      <td>Zambia</td>\n",
       "      <td>Zimbabwe</td>\n",
       "      <td>G / FI</td>\n",
       "      <td>*</td>\n",
       "      <td>*</td>\n",
       "      <td>*</td>\n",
       "      <td>0</td>\n",
       "      <td>NaN</td>\n",
       "      <td>*</td>\n",
       "      <td>*</td>\n",
       "      <td>*</td>\n",
       "      <td>*</td>\n",
       "      <td>*</td>\n",
       "    </tr>\n",
       "  </tbody>\n",
       "</table>\n",
       "<p>129720 rows × 14 columns</p>\n",
       "</div>"
      ],
      "text/plain": [
       "        Year Country / territory of asylum/residence       Origin  \\\n",
       "0       2000                                Zimbabwe  Afghanistan   \n",
       "1       2000                            South Africa  Afghanistan   \n",
       "2       2000                              Uzbekistan  Afghanistan   \n",
       "3       2000                United States of America  Afghanistan   \n",
       "4       2000                United States of America  Afghanistan   \n",
       "...      ...                                     ...          ...   \n",
       "129715  2016                United States of America     Zimbabwe   \n",
       "129716  2016                United States of America     Zimbabwe   \n",
       "129717  2016                            South Africa     Zimbabwe   \n",
       "129718  2016                            South Africa     Zimbabwe   \n",
       "129719  2016                                  Zambia     Zimbabwe   \n",
       "\n",
       "       RSD procedure type / level Tota pending start-year  \\\n",
       "0                          G / FI                       0   \n",
       "1                          G / FI                       8   \n",
       "2                          U / FI                     265   \n",
       "3                          G / EO                     196   \n",
       "4                          G / IN                     193   \n",
       "...                           ...                     ...   \n",
       "129715                     G / IN                     232   \n",
       "129716                     G / EO                     142   \n",
       "129717                     G / AR                      94   \n",
       "129718                     G / FI                   41238   \n",
       "129719                     G / FI                       *   \n",
       "\n",
       "       of which UNHCR-assisted(start-year) Applied during year  \\\n",
       "0                                        0                   5   \n",
       "1                                        1                   0   \n",
       "2                                      265                2156   \n",
       "3                                        0                 225   \n",
       "4                                        0                 218   \n",
       "...                                    ...                 ...   \n",
       "129715                                 NaN                 229   \n",
       "129716                                 NaN                  12   \n",
       "129717                                   9                 NaN   \n",
       "129718                                4124                7964   \n",
       "129719                                   *                   *   \n",
       "\n",
       "       decisions_recognized decisions_other Rejected Otherwise closed  \\\n",
       "0                         5               0        0                0   \n",
       "1                         0               0        0                0   \n",
       "2                       747               0      112              327   \n",
       "3                       151               0       31               68   \n",
       "4                       182               0       51               40   \n",
       "...                     ...             ...      ...              ...   \n",
       "129715                   16             NaN        *               10   \n",
       "129716                    *             NaN        *               23   \n",
       "129717                  NaN             NaN      NaN               94   \n",
       "129718                   73             NaN     7869              NaN   \n",
       "129719                    0             NaN        *                *   \n",
       "\n",
       "       Total decisions Total pending end-year  \\\n",
       "0                  5.0                      0   \n",
       "1                  NaN                      8   \n",
       "2               1186.0                   1235   \n",
       "3                250.0                    171   \n",
       "4                273.0                    150   \n",
       "...                ...                    ...   \n",
       "129715              28                    435   \n",
       "129716              31                    138   \n",
       "129717              94                      0   \n",
       "129718            7942                  41260   \n",
       "129719               *                      *   \n",
       "\n",
       "       of which UNHCR-assisted(end-year)  \n",
       "0                                      0  \n",
       "1                                      0  \n",
       "2                                   1235  \n",
       "3                                      0  \n",
       "4                                      0  \n",
       "...                                  ...  \n",
       "129715                               NaN  \n",
       "129716                               NaN  \n",
       "129717                               NaN  \n",
       "129718                               NaN  \n",
       "129719                                 *  \n",
       "\n",
       "[129720 rows x 14 columns]"
      ]
     },
     "execution_count": 5,
     "metadata": {},
     "output_type": "execute_result"
    }
   ],
   "source": [
    "df_completo"
   ]
  },
  {
   "cell_type": "code",
   "execution_count": 6,
   "id": "f9b3818f",
   "metadata": {},
   "outputs": [
    {
     "data": {
      "text/html": [
       "<div>\n",
       "<style scoped>\n",
       "    .dataframe tbody tr th:only-of-type {\n",
       "        vertical-align: middle;\n",
       "    }\n",
       "\n",
       "    .dataframe tbody tr th {\n",
       "        vertical-align: top;\n",
       "    }\n",
       "\n",
       "    .dataframe thead th {\n",
       "        text-align: right;\n",
       "    }\n",
       "</style>\n",
       "<table border=\"1\" class=\"dataframe\">\n",
       "  <thead>\n",
       "    <tr style=\"text-align: right;\">\n",
       "      <th></th>\n",
       "      <th>Year</th>\n",
       "      <th>Country / territory of asylum/residence</th>\n",
       "      <th>Origin</th>\n",
       "      <th>RSD procedure type / level</th>\n",
       "      <th>Tota pending start-year</th>\n",
       "      <th>of which UNHCR-assisted(start-year)</th>\n",
       "      <th>Applied during year</th>\n",
       "      <th>decisions_recognized</th>\n",
       "      <th>decisions_other</th>\n",
       "      <th>Rejected</th>\n",
       "      <th>Otherwise closed</th>\n",
       "      <th>Total decisions</th>\n",
       "      <th>Total pending end-year</th>\n",
       "      <th>of which UNHCR-assisted(end-year)</th>\n",
       "    </tr>\n",
       "  </thead>\n",
       "  <tbody>\n",
       "    <tr>\n",
       "      <th>56860</th>\n",
       "      <td>2009</td>\n",
       "      <td>Pakistan</td>\n",
       "      <td>Afghanistan</td>\n",
       "      <td>U / FA</td>\n",
       "      <td>2535</td>\n",
       "      <td>2535</td>\n",
       "      <td>1178</td>\n",
       "      <td>380</td>\n",
       "      <td>0</td>\n",
       "      <td>122</td>\n",
       "      <td>1022</td>\n",
       "      <td>1524.0</td>\n",
       "      <td>2189</td>\n",
       "      <td>2189</td>\n",
       "    </tr>\n",
       "    <tr>\n",
       "      <th>56861</th>\n",
       "      <td>2009</td>\n",
       "      <td>Panama</td>\n",
       "      <td>Afghanistan</td>\n",
       "      <td>G / FI</td>\n",
       "      <td>0</td>\n",
       "      <td>0</td>\n",
       "      <td>4</td>\n",
       "      <td>0</td>\n",
       "      <td>0</td>\n",
       "      <td>0</td>\n",
       "      <td>0</td>\n",
       "      <td>NaN</td>\n",
       "      <td>4</td>\n",
       "      <td>4</td>\n",
       "    </tr>\n",
       "    <tr>\n",
       "      <th>56862</th>\n",
       "      <td>2009</td>\n",
       "      <td>Philippines</td>\n",
       "      <td>Afghanistan</td>\n",
       "      <td>G / FI</td>\n",
       "      <td>0</td>\n",
       "      <td>0</td>\n",
       "      <td>2</td>\n",
       "      <td>0</td>\n",
       "      <td>0</td>\n",
       "      <td>0</td>\n",
       "      <td>0</td>\n",
       "      <td>NaN</td>\n",
       "      <td>2</td>\n",
       "      <td>0</td>\n",
       "    </tr>\n",
       "    <tr>\n",
       "      <th>56863</th>\n",
       "      <td>2009</td>\n",
       "      <td>Papua New Guinea</td>\n",
       "      <td>Afghanistan</td>\n",
       "      <td>J / FA</td>\n",
       "      <td>1</td>\n",
       "      <td>1</td>\n",
       "      <td>2</td>\n",
       "      <td>2</td>\n",
       "      <td>0</td>\n",
       "      <td>0</td>\n",
       "      <td>1</td>\n",
       "      <td>3.0</td>\n",
       "      <td>0</td>\n",
       "      <td>0</td>\n",
       "    </tr>\n",
       "    <tr>\n",
       "      <th>56864</th>\n",
       "      <td>2009</td>\n",
       "      <td>Poland</td>\n",
       "      <td>Afghanistan</td>\n",
       "      <td>G / FI</td>\n",
       "      <td>1</td>\n",
       "      <td>0</td>\n",
       "      <td>14</td>\n",
       "      <td>0</td>\n",
       "      <td>3</td>\n",
       "      <td>4</td>\n",
       "      <td>4</td>\n",
       "      <td>11.0</td>\n",
       "      <td>10</td>\n",
       "      <td>0</td>\n",
       "    </tr>\n",
       "    <tr>\n",
       "      <th>...</th>\n",
       "      <td>...</td>\n",
       "      <td>...</td>\n",
       "      <td>...</td>\n",
       "      <td>...</td>\n",
       "      <td>...</td>\n",
       "      <td>...</td>\n",
       "      <td>...</td>\n",
       "      <td>...</td>\n",
       "      <td>...</td>\n",
       "      <td>...</td>\n",
       "      <td>...</td>\n",
       "      <td>...</td>\n",
       "      <td>...</td>\n",
       "      <td>...</td>\n",
       "    </tr>\n",
       "    <tr>\n",
       "      <th>71919</th>\n",
       "      <td>2010</td>\n",
       "      <td>Ukraine</td>\n",
       "      <td>Zimbabwe</td>\n",
       "      <td>G / AR</td>\n",
       "      <td>2</td>\n",
       "      <td>1</td>\n",
       "      <td>1</td>\n",
       "      <td>0</td>\n",
       "      <td>0</td>\n",
       "      <td>0</td>\n",
       "      <td>0</td>\n",
       "      <td>NaN</td>\n",
       "      <td>3</td>\n",
       "      <td>3</td>\n",
       "    </tr>\n",
       "    <tr>\n",
       "      <th>71920</th>\n",
       "      <td>2010</td>\n",
       "      <td>United States of America</td>\n",
       "      <td>Zimbabwe</td>\n",
       "      <td>G / IN</td>\n",
       "      <td>26</td>\n",
       "      <td>0</td>\n",
       "      <td>106</td>\n",
       "      <td>50</td>\n",
       "      <td>0</td>\n",
       "      <td>11</td>\n",
       "      <td>58</td>\n",
       "      <td>119</td>\n",
       "      <td>15</td>\n",
       "      <td>0</td>\n",
       "    </tr>\n",
       "    <tr>\n",
       "      <th>71921</th>\n",
       "      <td>2010</td>\n",
       "      <td>United States of America</td>\n",
       "      <td>Zimbabwe</td>\n",
       "      <td>G / EO</td>\n",
       "      <td>202</td>\n",
       "      <td>0</td>\n",
       "      <td>31</td>\n",
       "      <td>52</td>\n",
       "      <td>0</td>\n",
       "      <td>48</td>\n",
       "      <td>54</td>\n",
       "      <td>154</td>\n",
       "      <td>0</td>\n",
       "      <td>0</td>\n",
       "    </tr>\n",
       "    <tr>\n",
       "      <th>71922</th>\n",
       "      <td>2010</td>\n",
       "      <td>South Africa</td>\n",
       "      <td>Zimbabwe</td>\n",
       "      <td>G / FI</td>\n",
       "      <td>0</td>\n",
       "      <td>0</td>\n",
       "      <td>146566</td>\n",
       "      <td>429</td>\n",
       "      <td>0</td>\n",
       "      <td>32750</td>\n",
       "      <td>0</td>\n",
       "      <td>33179</td>\n",
       "      <td>0</td>\n",
       "      <td>0</td>\n",
       "    </tr>\n",
       "    <tr>\n",
       "      <th>71923</th>\n",
       "      <td>2010</td>\n",
       "      <td>Zambia</td>\n",
       "      <td>Zimbabwe</td>\n",
       "      <td>G / FA</td>\n",
       "      <td>0</td>\n",
       "      <td>0</td>\n",
       "      <td>2</td>\n",
       "      <td>0</td>\n",
       "      <td>0</td>\n",
       "      <td>2</td>\n",
       "      <td>0</td>\n",
       "      <td>2</td>\n",
       "      <td>0</td>\n",
       "      <td>0</td>\n",
       "    </tr>\n",
       "  </tbody>\n",
       "</table>\n",
       "<p>15064 rows × 14 columns</p>\n",
       "</div>"
      ],
      "text/plain": [
       "       Year Country / territory of asylum/residence       Origin  \\\n",
       "56860  2009                                Pakistan  Afghanistan   \n",
       "56861  2009                                  Panama  Afghanistan   \n",
       "56862  2009                             Philippines  Afghanistan   \n",
       "56863  2009                        Papua New Guinea  Afghanistan   \n",
       "56864  2009                                  Poland  Afghanistan   \n",
       "...     ...                                     ...          ...   \n",
       "71919  2010                                 Ukraine     Zimbabwe   \n",
       "71920  2010                United States of America     Zimbabwe   \n",
       "71921  2010                United States of America     Zimbabwe   \n",
       "71922  2010                            South Africa     Zimbabwe   \n",
       "71923  2010                                  Zambia     Zimbabwe   \n",
       "\n",
       "      RSD procedure type / level Tota pending start-year  \\\n",
       "56860                     U / FA                    2535   \n",
       "56861                     G / FI                       0   \n",
       "56862                     G / FI                       0   \n",
       "56863                     J / FA                       1   \n",
       "56864                     G / FI                       1   \n",
       "...                          ...                     ...   \n",
       "71919                     G / AR                       2   \n",
       "71920                     G / IN                      26   \n",
       "71921                     G / EO                     202   \n",
       "71922                     G / FI                       0   \n",
       "71923                     G / FA                       0   \n",
       "\n",
       "      of which UNHCR-assisted(start-year) Applied during year  \\\n",
       "56860                                2535                1178   \n",
       "56861                                   0                   4   \n",
       "56862                                   0                   2   \n",
       "56863                                   1                   2   \n",
       "56864                                   0                  14   \n",
       "...                                   ...                 ...   \n",
       "71919                                   1                   1   \n",
       "71920                                   0                 106   \n",
       "71921                                   0                  31   \n",
       "71922                                   0              146566   \n",
       "71923                                   0                   2   \n",
       "\n",
       "      decisions_recognized decisions_other Rejected Otherwise closed  \\\n",
       "56860                  380               0      122             1022   \n",
       "56861                    0               0        0                0   \n",
       "56862                    0               0        0                0   \n",
       "56863                    2               0        0                1   \n",
       "56864                    0               3        4                4   \n",
       "...                    ...             ...      ...              ...   \n",
       "71919                    0               0        0                0   \n",
       "71920                   50               0       11               58   \n",
       "71921                   52               0       48               54   \n",
       "71922                  429               0    32750                0   \n",
       "71923                    0               0        2                0   \n",
       "\n",
       "      Total decisions Total pending end-year of which UNHCR-assisted(end-year)  \n",
       "56860          1524.0                   2189                              2189  \n",
       "56861             NaN                      4                                 4  \n",
       "56862             NaN                      2                                 0  \n",
       "56863             3.0                      0                                 0  \n",
       "56864            11.0                     10                                 0  \n",
       "...               ...                    ...                               ...  \n",
       "71919             NaN                      3                                 3  \n",
       "71920             119                     15                                 0  \n",
       "71921             154                      0                                 0  \n",
       "71922           33179                      0                                 0  \n",
       "71923               2                      0                                 0  \n",
       "\n",
       "[15064 rows x 14 columns]"
      ]
     },
     "execution_count": 6,
     "metadata": {},
     "output_type": "execute_result"
    }
   ],
   "source": [
    "df_2009_2010 = df_completo.loc[(df_completo['Year'] == 2009) | (df_completo['Year'] == 2010)]\n",
    "df_2009_2010"
   ]
  },
  {
   "cell_type": "code",
   "execution_count": 7,
   "id": "330011eb",
   "metadata": {},
   "outputs": [
    {
     "data": {
      "text/html": [
       "\n",
       "    <script src=\"/files/netpixi.min.js\"></script>\n"
      ],
      "text/plain": [
       "<IPython.core.display.HTML object>"
      ]
     },
     "metadata": {},
     "output_type": "display_data"
    }
   ],
   "source": [
    "# Importando a biblioteca netpixi\n",
    "from netpixi.integration.gt import Graph\n",
    "\n",
    "# Criando um grafo não-dirigido\n",
    "g = Graph(directed=True) \n",
    "g.add_vp('nome')\n",
    "g.add_ep('aceitos')"
   ]
  },
  {
   "cell_type": "code",
   "execution_count": 8,
   "id": "59877799",
   "metadata": {},
   "outputs": [],
   "source": [
    "for vertice in listaVertices:\n",
    "    g.add_vertex(vertice)"
   ]
  },
  {
   "cell_type": "code",
   "execution_count": 9,
   "id": "30064f2a",
   "metadata": {},
   "outputs": [],
   "source": [
    "for v in g.all_vertices():\n",
    "    v['nome'] = str(v)"
   ]
  },
  {
   "cell_type": "code",
   "execution_count": 10,
   "id": "1252471b",
   "metadata": {},
   "outputs": [
    {
     "name": "stdout",
     "output_type": "stream",
     "text": [
      "O número de vértices do grafo é : 225\n"
     ]
    }
   ],
   "source": [
    "n = g.num_vertices()\n",
    "print('O número de vértices do grafo é :', n)"
   ]
  },
  {
   "cell_type": "code",
   "execution_count": 15,
   "id": "47509607",
   "metadata": {},
   "outputs": [
    {
     "data": {
      "text/html": [
       "<div>\n",
       "<style scoped>\n",
       "    .dataframe tbody tr th:only-of-type {\n",
       "        vertical-align: middle;\n",
       "    }\n",
       "\n",
       "    .dataframe tbody tr th {\n",
       "        vertical-align: top;\n",
       "    }\n",
       "\n",
       "    .dataframe thead th {\n",
       "        text-align: right;\n",
       "    }\n",
       "</style>\n",
       "<table border=\"1\" class=\"dataframe\">\n",
       "  <thead>\n",
       "    <tr style=\"text-align: right;\">\n",
       "      <th></th>\n",
       "      <th>destiny</th>\n",
       "      <th>origin</th>\n",
       "      <th>value</th>\n",
       "    </tr>\n",
       "  </thead>\n",
       "  <tbody>\n",
       "    <tr>\n",
       "      <th>56860</th>\n",
       "      <td>Pakistan</td>\n",
       "      <td>Afghanistan</td>\n",
       "      <td>380</td>\n",
       "    </tr>\n",
       "    <tr>\n",
       "      <th>56861</th>\n",
       "      <td>Panama</td>\n",
       "      <td>Afghanistan</td>\n",
       "      <td>0</td>\n",
       "    </tr>\n",
       "    <tr>\n",
       "      <th>56862</th>\n",
       "      <td>Philippines</td>\n",
       "      <td>Afghanistan</td>\n",
       "      <td>0</td>\n",
       "    </tr>\n",
       "    <tr>\n",
       "      <th>56863</th>\n",
       "      <td>Papua New Guinea</td>\n",
       "      <td>Afghanistan</td>\n",
       "      <td>2</td>\n",
       "    </tr>\n",
       "    <tr>\n",
       "      <th>56864</th>\n",
       "      <td>Poland</td>\n",
       "      <td>Afghanistan</td>\n",
       "      <td>0</td>\n",
       "    </tr>\n",
       "    <tr>\n",
       "      <th>...</th>\n",
       "      <td>...</td>\n",
       "      <td>...</td>\n",
       "      <td>...</td>\n",
       "    </tr>\n",
       "    <tr>\n",
       "      <th>71919</th>\n",
       "      <td>Ukraine</td>\n",
       "      <td>Zimbabwe</td>\n",
       "      <td>0</td>\n",
       "    </tr>\n",
       "    <tr>\n",
       "      <th>71920</th>\n",
       "      <td>United States of America</td>\n",
       "      <td>Zimbabwe</td>\n",
       "      <td>50</td>\n",
       "    </tr>\n",
       "    <tr>\n",
       "      <th>71921</th>\n",
       "      <td>United States of America</td>\n",
       "      <td>Zimbabwe</td>\n",
       "      <td>52</td>\n",
       "    </tr>\n",
       "    <tr>\n",
       "      <th>71922</th>\n",
       "      <td>South Africa</td>\n",
       "      <td>Zimbabwe</td>\n",
       "      <td>429</td>\n",
       "    </tr>\n",
       "    <tr>\n",
       "      <th>71923</th>\n",
       "      <td>Zambia</td>\n",
       "      <td>Zimbabwe</td>\n",
       "      <td>0</td>\n",
       "    </tr>\n",
       "  </tbody>\n",
       "</table>\n",
       "<p>15064 rows × 3 columns</p>\n",
       "</div>"
      ],
      "text/plain": [
       "                        destiny       origin value\n",
       "56860                  Pakistan  Afghanistan   380\n",
       "56861                    Panama  Afghanistan     0\n",
       "56862               Philippines  Afghanistan     0\n",
       "56863          Papua New Guinea  Afghanistan     2\n",
       "56864                    Poland  Afghanistan     0\n",
       "...                         ...          ...   ...\n",
       "71919                   Ukraine     Zimbabwe     0\n",
       "71920  United States of America     Zimbabwe    50\n",
       "71921  United States of America     Zimbabwe    52\n",
       "71922              South Africa     Zimbabwe   429\n",
       "71923                    Zambia     Zimbabwe     0\n",
       "\n",
       "[15064 rows x 3 columns]"
      ]
     },
     "execution_count": 15,
     "metadata": {},
     "output_type": "execute_result"
    }
   ],
   "source": [
    "df_aresta = df_2009_2010.loc[:, ['Country / territory of asylum/residence', 'Origin', 'decisions_recognized']]\n",
    "df_aresta = df_aresta.rename(columns={'Origin': 'origin', 'Country / territory of asylum/residence': 'destiny', 'decisions_recognized': 'value'})\n",
    "df_aresta"
   ]
  },
  {
   "cell_type": "code",
   "execution_count": 16,
   "id": "df2dc0e4",
   "metadata": {},
   "outputs": [
    {
     "data": {
      "text/html": [
       "<div>\n",
       "<style scoped>\n",
       "    .dataframe tbody tr th:only-of-type {\n",
       "        vertical-align: middle;\n",
       "    }\n",
       "\n",
       "    .dataframe tbody tr th {\n",
       "        vertical-align: top;\n",
       "    }\n",
       "\n",
       "    .dataframe thead th {\n",
       "        text-align: right;\n",
       "    }\n",
       "</style>\n",
       "<table border=\"1\" class=\"dataframe\">\n",
       "  <thead>\n",
       "    <tr style=\"text-align: right;\">\n",
       "      <th></th>\n",
       "      <th>destiny</th>\n",
       "      <th>origin</th>\n",
       "      <th>value</th>\n",
       "    </tr>\n",
       "  </thead>\n",
       "  <tbody>\n",
       "    <tr>\n",
       "      <th>56860</th>\n",
       "      <td>Pakistan</td>\n",
       "      <td>Afghanistan</td>\n",
       "      <td>380</td>\n",
       "    </tr>\n",
       "    <tr>\n",
       "      <th>56861</th>\n",
       "      <td>Panama</td>\n",
       "      <td>Afghanistan</td>\n",
       "      <td>0</td>\n",
       "    </tr>\n",
       "    <tr>\n",
       "      <th>56862</th>\n",
       "      <td>Philippines</td>\n",
       "      <td>Afghanistan</td>\n",
       "      <td>0</td>\n",
       "    </tr>\n",
       "    <tr>\n",
       "      <th>56863</th>\n",
       "      <td>Papua New Guinea</td>\n",
       "      <td>Afghanistan</td>\n",
       "      <td>2</td>\n",
       "    </tr>\n",
       "    <tr>\n",
       "      <th>56864</th>\n",
       "      <td>Poland</td>\n",
       "      <td>Afghanistan</td>\n",
       "      <td>0</td>\n",
       "    </tr>\n",
       "    <tr>\n",
       "      <th>...</th>\n",
       "      <td>...</td>\n",
       "      <td>...</td>\n",
       "      <td>...</td>\n",
       "    </tr>\n",
       "    <tr>\n",
       "      <th>71919</th>\n",
       "      <td>Ukraine</td>\n",
       "      <td>Zimbabwe</td>\n",
       "      <td>0</td>\n",
       "    </tr>\n",
       "    <tr>\n",
       "      <th>71920</th>\n",
       "      <td>United States of America</td>\n",
       "      <td>Zimbabwe</td>\n",
       "      <td>50</td>\n",
       "    </tr>\n",
       "    <tr>\n",
       "      <th>71921</th>\n",
       "      <td>United States of America</td>\n",
       "      <td>Zimbabwe</td>\n",
       "      <td>52</td>\n",
       "    </tr>\n",
       "    <tr>\n",
       "      <th>71922</th>\n",
       "      <td>South Africa</td>\n",
       "      <td>Zimbabwe</td>\n",
       "      <td>429</td>\n",
       "    </tr>\n",
       "    <tr>\n",
       "      <th>71923</th>\n",
       "      <td>Zambia</td>\n",
       "      <td>Zimbabwe</td>\n",
       "      <td>0</td>\n",
       "    </tr>\n",
       "  </tbody>\n",
       "</table>\n",
       "<p>15064 rows × 3 columns</p>\n",
       "</div>"
      ],
      "text/plain": [
       "                        destiny       origin  value\n",
       "56860                  Pakistan  Afghanistan    380\n",
       "56861                    Panama  Afghanistan      0\n",
       "56862               Philippines  Afghanistan      0\n",
       "56863          Papua New Guinea  Afghanistan      2\n",
       "56864                    Poland  Afghanistan      0\n",
       "...                         ...          ...    ...\n",
       "71919                   Ukraine     Zimbabwe      0\n",
       "71920  United States of America     Zimbabwe     50\n",
       "71921  United States of America     Zimbabwe     52\n",
       "71922              South Africa     Zimbabwe    429\n",
       "71923                    Zambia     Zimbabwe      0\n",
       "\n",
       "[15064 rows x 3 columns]"
      ]
     },
     "execution_count": 16,
     "metadata": {},
     "output_type": "execute_result"
    }
   ],
   "source": [
    "df_aresta.value = pd.to_numeric(df_aresta['value'], errors = 'coerce').fillna(0)\n",
    "df_aresta"
   ]
  },
  {
   "cell_type": "code",
   "execution_count": 17,
   "id": "460c4bce",
   "metadata": {},
   "outputs": [
    {
     "data": {
      "text/html": [
       "<div>\n",
       "<style scoped>\n",
       "    .dataframe tbody tr th:only-of-type {\n",
       "        vertical-align: middle;\n",
       "    }\n",
       "\n",
       "    .dataframe tbody tr th {\n",
       "        vertical-align: top;\n",
       "    }\n",
       "\n",
       "    .dataframe thead th {\n",
       "        text-align: right;\n",
       "    }\n",
       "</style>\n",
       "<table border=\"1\" class=\"dataframe\">\n",
       "  <thead>\n",
       "    <tr style=\"text-align: right;\">\n",
       "      <th></th>\n",
       "      <th>origin</th>\n",
       "      <th>destiny</th>\n",
       "      <th>value</th>\n",
       "    </tr>\n",
       "  </thead>\n",
       "  <tbody>\n",
       "    <tr>\n",
       "      <th>0</th>\n",
       "      <td>Afghanistan</td>\n",
       "      <td>Argentina</td>\n",
       "      <td>0</td>\n",
       "    </tr>\n",
       "    <tr>\n",
       "      <th>1</th>\n",
       "      <td>Afghanistan</td>\n",
       "      <td>Armenia</td>\n",
       "      <td>0</td>\n",
       "    </tr>\n",
       "    <tr>\n",
       "      <th>2</th>\n",
       "      <td>Afghanistan</td>\n",
       "      <td>Australia</td>\n",
       "      <td>2132</td>\n",
       "    </tr>\n",
       "    <tr>\n",
       "      <th>3</th>\n",
       "      <td>Afghanistan</td>\n",
       "      <td>Austria</td>\n",
       "      <td>1171</td>\n",
       "    </tr>\n",
       "    <tr>\n",
       "      <th>4</th>\n",
       "      <td>Afghanistan</td>\n",
       "      <td>Azerbaijan</td>\n",
       "      <td>154</td>\n",
       "    </tr>\n",
       "    <tr>\n",
       "      <th>...</th>\n",
       "      <td>...</td>\n",
       "      <td>...</td>\n",
       "      <td>...</td>\n",
       "    </tr>\n",
       "    <tr>\n",
       "      <th>6293</th>\n",
       "      <td>Zimbabwe</td>\n",
       "      <td>Trinidad and Tobago</td>\n",
       "      <td>0</td>\n",
       "    </tr>\n",
       "    <tr>\n",
       "      <th>6294</th>\n",
       "      <td>Zimbabwe</td>\n",
       "      <td>Ukraine</td>\n",
       "      <td>0</td>\n",
       "    </tr>\n",
       "    <tr>\n",
       "      <th>6295</th>\n",
       "      <td>Zimbabwe</td>\n",
       "      <td>United Kingdom</td>\n",
       "      <td>4603</td>\n",
       "    </tr>\n",
       "    <tr>\n",
       "      <th>6296</th>\n",
       "      <td>Zimbabwe</td>\n",
       "      <td>United States of America</td>\n",
       "      <td>285</td>\n",
       "    </tr>\n",
       "    <tr>\n",
       "      <th>6297</th>\n",
       "      <td>Zimbabwe</td>\n",
       "      <td>Zambia</td>\n",
       "      <td>0</td>\n",
       "    </tr>\n",
       "  </tbody>\n",
       "</table>\n",
       "<p>6298 rows × 3 columns</p>\n",
       "</div>"
      ],
      "text/plain": [
       "           origin                   destiny  value\n",
       "0     Afghanistan                 Argentina      0\n",
       "1     Afghanistan                   Armenia      0\n",
       "2     Afghanistan                 Australia   2132\n",
       "3     Afghanistan                   Austria   1171\n",
       "4     Afghanistan                Azerbaijan    154\n",
       "...           ...                       ...    ...\n",
       "6293     Zimbabwe       Trinidad and Tobago      0\n",
       "6294     Zimbabwe                   Ukraine      0\n",
       "6295     Zimbabwe            United Kingdom   4603\n",
       "6296     Zimbabwe  United States of America    285\n",
       "6297     Zimbabwe                    Zambia      0\n",
       "\n",
       "[6298 rows x 3 columns]"
      ]
     },
     "execution_count": 17,
     "metadata": {},
     "output_type": "execute_result"
    }
   ],
   "source": [
    "df_aresta = df_aresta.groupby(['origin', 'destiny']).sum().reset_index()\n",
    "df_aresta"
   ]
  },
  {
   "cell_type": "code",
   "execution_count": 18,
   "id": "e0533072",
   "metadata": {},
   "outputs": [
    {
     "data": {
      "text/html": [
       "<div>\n",
       "<style scoped>\n",
       "    .dataframe tbody tr th:only-of-type {\n",
       "        vertical-align: middle;\n",
       "    }\n",
       "\n",
       "    .dataframe tbody tr th {\n",
       "        vertical-align: top;\n",
       "    }\n",
       "\n",
       "    .dataframe thead th {\n",
       "        text-align: right;\n",
       "    }\n",
       "</style>\n",
       "<table border=\"1\" class=\"dataframe\">\n",
       "  <thead>\n",
       "    <tr style=\"text-align: right;\">\n",
       "      <th></th>\n",
       "      <th>origin</th>\n",
       "      <th>destiny</th>\n",
       "      <th>value</th>\n",
       "    </tr>\n",
       "  </thead>\n",
       "  <tbody>\n",
       "    <tr>\n",
       "      <th>0</th>\n",
       "      <td>Afghanistan</td>\n",
       "      <td>Argentina</td>\n",
       "      <td>0</td>\n",
       "    </tr>\n",
       "    <tr>\n",
       "      <th>1</th>\n",
       "      <td>Afghanistan</td>\n",
       "      <td>Armenia</td>\n",
       "      <td>0</td>\n",
       "    </tr>\n",
       "    <tr>\n",
       "      <th>2</th>\n",
       "      <td>Afghanistan</td>\n",
       "      <td>Australia</td>\n",
       "      <td>2132</td>\n",
       "    </tr>\n",
       "    <tr>\n",
       "      <th>3</th>\n",
       "      <td>Afghanistan</td>\n",
       "      <td>Austria</td>\n",
       "      <td>1171</td>\n",
       "    </tr>\n",
       "    <tr>\n",
       "      <th>4</th>\n",
       "      <td>Afghanistan</td>\n",
       "      <td>Azerbaijan</td>\n",
       "      <td>154</td>\n",
       "    </tr>\n",
       "    <tr>\n",
       "      <th>...</th>\n",
       "      <td>...</td>\n",
       "      <td>...</td>\n",
       "      <td>...</td>\n",
       "    </tr>\n",
       "    <tr>\n",
       "      <th>6293</th>\n",
       "      <td>Zimbabwe</td>\n",
       "      <td>Trinidad and Tobago</td>\n",
       "      <td>0</td>\n",
       "    </tr>\n",
       "    <tr>\n",
       "      <th>6294</th>\n",
       "      <td>Zimbabwe</td>\n",
       "      <td>Ukraine</td>\n",
       "      <td>0</td>\n",
       "    </tr>\n",
       "    <tr>\n",
       "      <th>6295</th>\n",
       "      <td>Zimbabwe</td>\n",
       "      <td>United Kingdom</td>\n",
       "      <td>4603</td>\n",
       "    </tr>\n",
       "    <tr>\n",
       "      <th>6296</th>\n",
       "      <td>Zimbabwe</td>\n",
       "      <td>United States of America</td>\n",
       "      <td>285</td>\n",
       "    </tr>\n",
       "    <tr>\n",
       "      <th>6297</th>\n",
       "      <td>Zimbabwe</td>\n",
       "      <td>Zambia</td>\n",
       "      <td>0</td>\n",
       "    </tr>\n",
       "  </tbody>\n",
       "</table>\n",
       "<p>6287 rows × 3 columns</p>\n",
       "</div>"
      ],
      "text/plain": [
       "           origin                   destiny  value\n",
       "0     Afghanistan                 Argentina      0\n",
       "1     Afghanistan                   Armenia      0\n",
       "2     Afghanistan                 Australia   2132\n",
       "3     Afghanistan                   Austria   1171\n",
       "4     Afghanistan                Azerbaijan    154\n",
       "...           ...                       ...    ...\n",
       "6293     Zimbabwe       Trinidad and Tobago      0\n",
       "6294     Zimbabwe                   Ukraine      0\n",
       "6295     Zimbabwe            United Kingdom   4603\n",
       "6296     Zimbabwe  United States of America    285\n",
       "6297     Zimbabwe                    Zambia      0\n",
       "\n",
       "[6287 rows x 3 columns]"
      ]
     },
     "execution_count": 18,
     "metadata": {},
     "output_type": "execute_result"
    }
   ],
   "source": [
    "df_aresta = df_aresta[df_aresta['origin'] != df_aresta['destiny']]\n",
    "df_aresta"
   ]
  },
  {
   "cell_type": "code",
   "execution_count": 19,
   "id": "8a8ccc29",
   "metadata": {},
   "outputs": [],
   "source": [
    "for index, row in df_aresta.iterrows():\n",
    "    g.add_edge(row.origin, row.destiny)\n",
    "    g.get_edge(row.origin, row.destiny)['aceitos'] = row.value"
   ]
  },
  {
   "cell_type": "code",
   "execution_count": 56,
   "id": "d4072a94",
   "metadata": {},
   "outputs": [],
   "source": [
    "from netpixi.integration.gt import *"
   ]
  },
  {
   "cell_type": "code",
   "execution_count": 57,
   "id": "8178bbf4",
   "metadata": {},
   "outputs": [],
   "source": [
    "gt_save(g, '/grafo_20092010.net.gz')"
   ]
  },
  {
   "cell_type": "code",
   "execution_count": 58,
   "id": "7705a880",
   "metadata": {},
   "outputs": [],
   "source": [
    "g = gt_load('/grafo_20092010.net.gz')"
   ]
  },
  {
   "cell_type": "code",
   "execution_count": 59,
   "id": "dd3f1206",
   "metadata": {},
   "outputs": [],
   "source": [
    "import netpixi\n",
    "m = gt_draw.sfdp_layout(g)\n",
    "gt_move(g, m)\n",
    "gt_save(g, 'grafo_20092010.net.gz')"
   ]
  },
  {
   "cell_type": "code",
   "execution_count": 60,
   "id": "df9ddeed",
   "metadata": {},
   "outputs": [
    {
     "data": {
      "text/html": [
       "\n",
       "        <div id=\"YYxXweTy8QaMAZB3sNcZGA\"></div>\n",
       "        <script>netpixi.render('YYxXweTy8QaMAZB3sNcZGA', 'grafo_20092010.net.gz', 1.7777777777777777, true, true, false);</script>\n",
       "    "
      ],
      "text/plain": [
       "<IPython.core.display.HTML object>"
      ]
     },
     "metadata": {},
     "output_type": "display_data"
    }
   ],
   "source": [
    "r = netpixi.render('grafo_20092010.net.gz', infinite=True);"
   ]
  },
  {
   "cell_type": "code",
   "execution_count": 61,
   "id": "3223982a",
   "metadata": {},
   "outputs": [
    {
     "data": {
      "text/html": [
       "\n",
       "        <div id=\"Nrnggvx3Tia8pLttNsUW5G\"></div>\n",
       "        <script>netpixi.call('Nrnggvx3Tia8pLttNsUW5G', 'YYxXweTy8QaMAZB3sNcZGA', 'setGraph', 'eyJ0eXBlIjogInZlcnRleCIsICJwcm9wcyI6IHsic3JjIjogIm5vbWUiLCAiZHN0IjogIl9rZXkifX0K');</script>\n",
       "    "
      ],
      "text/plain": [
       "<IPython.core.display.HTML object>"
      ]
     },
     "metadata": {},
     "output_type": "display_data"
    },
    {
     "data": {
      "text/html": [
       "\n",
       "        <div id=\"EpxieQ5PcnZrgpBPJibjHK\"></div>\n",
       "        <script>netpixi.call('EpxieQ5PcnZrgpBPJibjHK', 'YYxXweTy8QaMAZB3sNcZGA', 'changeGraph', 'eyJ0eXBlIjogInNldHRpbmdzIiwgInByb3BzIjogeyJ2ZXJ0ZXgiOiB7ImNvbG9yIjogMTY3NzcyMTV9fX0K');</script>\n",
       "    "
      ],
      "text/plain": [
       "<IPython.core.display.HTML object>"
      ]
     },
     "metadata": {},
     "output_type": "display_data"
    },
    {
     "data": {
      "text/html": [
       "\n",
       "        <div id=\"Ns54v36naKgNrtYhaWQqwr\"></div>\n",
       "        <script>netpixi.call('Ns54v36naKgNrtYhaWQqwr', 'YYxXweTy8QaMAZB3sNcZGA', 'changeGraph', 'eyJ0eXBlIjogInNldHRpbmdzIiwgInByb3BzIjogeyJlZGdlIjogeyJjb2xvciI6IDIxNDI4OTB9fX0K');</script>\n",
       "    "
      ],
      "text/plain": [
       "<IPython.core.display.HTML object>"
      ]
     },
     "metadata": {},
     "output_type": "display_data"
    }
   ],
   "source": [
    "r.vertex_set_key('nome')\n",
    "\n",
    "r.vertex_default(color=0xffffff)\n",
    "\n",
    "# mudar a cor, a espessura e a curvatura das arestas\n",
    "r.edge_default(color=0x20B2AA)"
   ]
  },
  {
   "cell_type": "code",
   "execution_count": 62,
   "id": "217f9844",
   "metadata": {},
   "outputs": [
    {
     "data": {
      "text/html": [
       "\n",
       "        <div id=\"XZGVX5rXgJhbxVJJpXUGQw\"></div>\n",
       "        <script>netpixi.call('XZGVX5rXgJhbxVJJpXUGQw', 'YYxXweTy8QaMAZB3sNcZGA', 'normalizeGraph', 'eyJ0eXBlIjogImVkZ2UiLCAicHJvcHMiOiB7InNyYyI6ICJhY2VpdG9zIiwgIm1pbiI6IDEsICJtYXgiOiAxMH19Cg==');</script>\n",
       "    "
      ],
      "text/plain": [
       "<IPython.core.display.HTML object>"
      ]
     },
     "metadata": {},
     "output_type": "display_data"
    }
   ],
   "source": [
    "r.edge_scale('aceitos', 1, 10)"
   ]
  },
  {
   "cell_type": "markdown",
   "id": "910019b4",
   "metadata": {},
   "source": [
    "## Coreness"
   ]
  },
  {
   "cell_type": "code",
   "execution_count": 63,
   "id": "cc2ca8b3",
   "metadata": {},
   "outputs": [],
   "source": [
    "import netpixi\n",
    "import cpnet\n",
    "\n",
    "from graph_tool import spectral\n",
    "from netpixi.integration.gt import *\n",
    "from regression.integration.gt import *"
   ]
  },
  {
   "cell_type": "code",
   "execution_count": 64,
   "id": "2ae911b2",
   "metadata": {},
   "outputs": [],
   "source": [
    "g =  gt_load('/grafo_20092010.net.gz')"
   ]
  },
  {
   "cell_type": "code",
   "execution_count": 69,
   "id": "c35f98ac",
   "metadata": {},
   "outputs": [],
   "source": [
    "m = gt_draw.sfdp_layout(g)\n",
    "gt_move(g, m)\n",
    "gt_save(g, 'centralidadeCoreness20092010.net.gz')"
   ]
  },
  {
   "cell_type": "code",
   "execution_count": 70,
   "id": "1541ea5e",
   "metadata": {},
   "outputs": [
    {
     "data": {
      "text/html": [
       "\n",
       "        <div id=\"FiBrqCMcA6f277x2Zu2n23\"></div>\n",
       "        <script>netpixi.render('FiBrqCMcA6f277x2Zu2n23', 'centralidadeCoreness20092010.net.gz', 1.7777777777777777, true, false, false);</script>\n",
       "    "
      ],
      "text/plain": [
       "<IPython.core.display.HTML object>"
      ]
     },
     "metadata": {},
     "output_type": "display_data"
    }
   ],
   "source": [
    "r = netpixi.render('centralidadeCoreness20092010.net.gz')"
   ]
  },
  {
   "cell_type": "code",
   "execution_count": 73,
   "id": "61c3a610",
   "metadata": {},
   "outputs": [
    {
     "name": "stderr",
     "output_type": "stream",
     "text": [
      "<frozen importlib._bootstrap>:914: ImportWarning: VendorImporter.find_spec() not found; falling back to find_module()\n"
     ]
    },
    {
     "data": {
      "text/html": [
       "\n",
       "        <div id=\"66nuHWNUhG2Gh5Vvr6kJPv\"></div>\n",
       "        <script>netpixi.call('66nuHWNUhG2Gh5Vvr6kJPv', 'FiBrqCMcA6f277x2Zu2n23', 'changeGraph', 'eyJpZCI6ICJCYWhhbWFzIiwgInR5cGUiOiAidmVydGV4IiwgInByb3BzIjogeyJzaXplIjogMTIuNTU1NTU1NTU1NTU1NTU1fX0K');</script>\n",
       "    "
      ],
      "text/plain": [
       "<IPython.core.display.HTML object>"
      ]
     },
     "metadata": {},
     "output_type": "display_data"
    },
    {
     "data": {
      "text/html": [
       "\n",
       "        <div id=\"B5SavxxztSq7KvuLBqDTsc\"></div>\n",
       "        <script>netpixi.call('B5SavxxztSq7KvuLBqDTsc', 'FiBrqCMcA6f277x2Zu2n23', 'changeGraph', 'eyJpZCI6ICJEZW0uIFJlcC4gb2YgdGhlIENvbmdvIiwgInR5cGUiOiAidmVydGV4IiwgInByb3BzIjogeyJzaXplIjogMTQuNX19Cg==');</script>\n",
       "    "
      ],
      "text/plain": [
       "<IPython.core.display.HTML object>"
      ]
     },
     "metadata": {},
     "output_type": "display_data"
    },
    {
     "data": {
      "text/html": [
       "\n",
       "        <div id=\"nsxqcsBf2my5kDWA4y6etr\"></div>\n",
       "        <script>netpixi.call('nsxqcsBf2my5kDWA4y6etr', 'FiBrqCMcA6f277x2Zu2n23', 'changeGraph', 'eyJpZCI6ICJNYWxpIiwgInR5cGUiOiAidmVydGV4IiwgInByb3BzIjogeyJzaXplIjogMTcuODg4ODg4ODg4ODg4ODl9fQo=');</script>\n",
       "    "
      ],
      "text/plain": [
       "<IPython.core.display.HTML object>"
      ]
     },
     "metadata": {},
     "output_type": "display_data"
    },
    {
     "data": {
      "text/html": [
       "\n",
       "        <div id=\"iKB7o77z44dUoFSDmQLd27\"></div>\n",
       "        <script>netpixi.call('iKB7o77z44dUoFSDmQLd27', 'FiBrqCMcA6f277x2Zu2n23', 'changeGraph', 'eyJpZCI6ICJCZWxpemUiLCAidHlwZSI6ICJ2ZXJ0ZXgiLCAicHJvcHMiOiB7InNpemUiOiAxNi4xMTExMTExMTExMTExMX19Cg==');</script>\n",
       "    "
      ],
      "text/plain": [
       "<IPython.core.display.HTML object>"
      ]
     },
     "metadata": {},
     "output_type": "display_data"
    },
    {
     "data": {
      "text/html": [
       "\n",
       "        <div id=\"iDp6R3YHCFELcqTnChT7Ea\"></div>\n",
       "        <script>netpixi.call('iDp6R3YHCFELcqTnChT7Ea', 'FiBrqCMcA6f277x2Zu2n23', 'changeGraph', 'eyJpZCI6ICJNb3JvY2NvIiwgInR5cGUiOiAidmVydGV4IiwgInByb3BzIjogeyJzaXplIjogMTcuOTQ0NDQ0NDQ0NDQ0NDQzfX0K');</script>\n",
       "    "
      ],
      "text/plain": [
       "<IPython.core.display.HTML object>"
      ]
     },
     "metadata": {},
     "output_type": "display_data"
    },
    {
     "data": {
      "text/html": [
       "\n",
       "        <div id=\"KMP9bQxRdZuPF3pdycrxsj\"></div>\n",
       "        <script>netpixi.call('KMP9bQxRdZuPF3pdycrxsj', 'FiBrqCMcA6f277x2Zu2n23', 'changeGraph', 'eyJpZCI6ICJSb21hbmlhIiwgInR5cGUiOiAidmVydGV4IiwgInByb3BzIjogeyJzaXplIjogNDYuMH19Cg==');</script>\n",
       "    "
      ],
      "text/plain": [
       "<IPython.core.display.HTML object>"
      ]
     },
     "metadata": {},
     "output_type": "display_data"
    },
    {
     "data": {
      "text/html": [
       "\n",
       "        <div id=\"Rp4ofZZq7rYFpv4oeYo6o6\"></div>\n",
       "        <script>netpixi.call('Rp4ofZZq7rYFpv4oeYo6o6', 'FiBrqCMcA6f277x2Zu2n23', 'changeGraph', 'eyJpZCI6ICJUaWJldGFuIiwgInR5cGUiOiAidmVydGV4IiwgInByb3BzIjogeyJzaXplIjogMTAuMzMzMzMzMzMzMzMzMzM0fX0K');</script>\n",
       "    "
      ],
      "text/plain": [
       "<IPython.core.display.HTML object>"
      ]
     },
     "metadata": {},
     "output_type": "display_data"
    },
    {
     "data": {
      "text/html": [
       "\n",
       "        <div id=\"6FreGghv5EJkE4iM2BFbgC\"></div>\n",
       "        <script>netpixi.call('6FreGghv5EJkE4iM2BFbgC', 'FiBrqCMcA6f277x2Zu2n23', 'changeGraph', 'eyJpZCI6ICJCYW5nbGFkZXNoIiwgInR5cGUiOiAidmVydGV4IiwgInByb3BzIjogeyJzaXplIjogMTUuOTQ0NDQ0NDQ0NDQ0NDQ1fX0K');</script>\n",
       "    "
      ],
      "text/plain": [
       "<IPython.core.display.HTML object>"
      ]
     },
     "metadata": {},
     "output_type": "display_data"
    },
    {
     "data": {
      "text/html": [
       "\n",
       "        <div id=\"3wTfD7TnMh5qzDiXSkoBk9\"></div>\n",
       "        <script>netpixi.call('3wTfD7TnMh5qzDiXSkoBk9', 'FiBrqCMcA6f277x2Zu2n23', 'changeGraph', 'eyJpZCI6ICJWZW5lenVlbGEgKEJvbGl2YXJpYW4gUmVwdWJsaWMgb2YpIiwgInR5cGUiOiAidmVydGV4IiwgInByb3BzIjogeyJzaXplIjogMTguODMzMzMzMzMzMzMzMzM2fX0K');</script>\n",
       "    "
      ],
      "text/plain": [
       "<IPython.core.display.HTML object>"
      ]
     },
     "metadata": {},
     "output_type": "display_data"
    },
    {
     "data": {
      "text/html": [
       "\n",
       "        <div id=\"Wk8NMT3G55Ws49943w2DiD\"></div>\n",
       "        <script>netpixi.call('Wk8NMT3G55Ws49943w2DiD', 'FiBrqCMcA6f277x2Zu2n23', 'changeGraph', 'eyJpZCI6ICJDYWJvIFZlcmRlIiwgInR5cGUiOiAidmVydGV4IiwgInByb3BzIjogeyJzaXplIjogMTAuMTY2NjY2NjY2NjY2NjY2fX0K');</script>\n",
       "    "
      ],
      "text/plain": [
       "<IPython.core.display.HTML object>"
      ]
     },
     "metadata": {},
     "output_type": "display_data"
    },
    {
     "data": {
      "text/html": [
       "\n",
       "        <div id=\"AMqogHb7HMBRTSYrHN6ZuH\"></div>\n",
       "        <script>netpixi.call('AMqogHb7HMBRTSYrHN6ZuH', 'FiBrqCMcA6f277x2Zu2n23', 'changeGraph', 'eyJpZCI6ICJJcmFuIChJc2xhbWljIFJlcC4gb2YpIiwgInR5cGUiOiAidmVydGV4IiwgInByb3BzIjogeyJzaXplIjogMTYuOTQ0NDQ0NDQ0NDQ0NDQzfX0K');</script>\n",
       "    "
      ],
      "text/plain": [
       "<IPython.core.display.HTML object>"
      ]
     },
     "metadata": {},
     "output_type": "display_data"
    },
    {
     "data": {
      "text/html": [
       "\n",
       "        <div id=\"mWcafkHvUQfJMYHgRHYH8Q\"></div>\n",
       "        <script>netpixi.call('mWcafkHvUQfJMYHgRHYH8Q', 'FiBrqCMcA6f277x2Zu2n23', 'changeGraph', 'eyJpZCI6ICJVbml0ZWQgU3RhdGVzIG9mIEFtZXJpY2EiLCAidHlwZSI6ICJ2ZXJ0ZXgiLCAicHJvcHMiOiB7InNpemUiOiA0OS41NTU1NTU1NTU1NTU1Nn19Cg==');</script>\n",
       "    "
      ],
      "text/plain": [
       "<IPython.core.display.HTML object>"
      ]
     },
     "metadata": {},
     "output_type": "display_data"
    },
    {
     "data": {
      "text/html": [
       "\n",
       "        <div id=\"gMAsVy9rwRtxC3Tj3PwdiR\"></div>\n",
       "        <script>netpixi.call('gMAsVy9rwRtxC3Tj3PwdiR', 'FiBrqCMcA6f277x2Zu2n23', 'changeGraph', 'eyJpZCI6ICJFbCBTYWx2YWRvciIsICJ0eXBlIjogInZlcnRleCIsICJwcm9wcyI6IHsic2l6ZSI6IDE4LjY2NjY2NjY2NjY2NjY2OH19Cg==');</script>\n",
       "    "
      ],
      "text/plain": [
       "<IPython.core.display.HTML object>"
      ]
     },
     "metadata": {},
     "output_type": "display_data"
    },
    {
     "data": {
      "text/html": [
       "\n",
       "        <div id=\"P8FtwAGwGdGtMysXFgeCPb\"></div>\n",
       "        <script>netpixi.call('P8FtwAGwGdGtMysXFgeCPb', 'FiBrqCMcA6f277x2Zu2n23', 'changeGraph', 'eyJpZCI6ICJNYWxkaXZlcyIsICJ0eXBlIjogInZlcnRleCIsICJwcm9wcyI6IHsic2l6ZSI6IDEwLjI3Nzc3Nzc3Nzc3Nzc3OX19Cg==');</script>\n",
       "    "
      ],
      "text/plain": [
       "<IPython.core.display.HTML object>"
      ]
     },
     "metadata": {},
     "output_type": "display_data"
    },
    {
     "data": {
      "text/html": [
       "\n",
       "        <div id=\"5F8vUPzb5Hg96X5qsvpbNt\"></div>\n",
       "        <script>netpixi.call('5F8vUPzb5Hg96X5qsvpbNt', 'FiBrqCMcA6f277x2Zu2n23', 'changeGraph', 'eyJpZCI6ICJMaXRodWFuaWEiLCAidHlwZSI6ICJ2ZXJ0ZXgiLCAicHJvcHMiOiB7InNpemUiOiAxNy44MzMzMzMzMzMzMzMzMzJ9fQo=');</script>\n",
       "    "
      ],
      "text/plain": [
       "<IPython.core.display.HTML object>"
      ]
     },
     "metadata": {},
     "output_type": "display_data"
    },
    {
     "data": {
      "text/html": [
       "\n",
       "        <div id=\"VTUcf6fPa8NmBatQmB9sCw\"></div>\n",
       "        <script>netpixi.call('VTUcf6fPa8NmBatQmB9sCw', 'FiBrqCMcA6f277x2Zu2n23', 'changeGraph', 'eyJpZCI6ICJLdXdhaXQiLCAidHlwZSI6ICJ2ZXJ0ZXgiLCAicHJvcHMiOiB7InNpemUiOiAxNi44ODg4ODg4ODg4ODg4OX19Cg==');</script>\n",
       "    "
      ],
      "text/plain": [
       "<IPython.core.display.HTML object>"
      ]
     },
     "metadata": {},
     "output_type": "display_data"
    },
    {
     "data": {
      "text/html": [
       "\n",
       "        <div id=\"bKof6czB4Mi2nbsJ2gBW8u\"></div>\n",
       "        <script>netpixi.call('bKof6czB4Mi2nbsJ2gBW8u', 'FiBrqCMcA6f277x2Zu2n23', 'changeGraph', 'eyJpZCI6ICJDYW1ib2RpYSIsICJ0eXBlIjogInZlcnRleCIsICJwcm9wcyI6IHsic2l6ZSI6IDE1LjV9fQo=');</script>\n",
       "    "
      ],
      "text/plain": [
       "<IPython.core.display.HTML object>"
      ]
     },
     "metadata": {},
     "output_type": "display_data"
    },
    {
     "data": {
      "text/html": [
       "\n",
       "        <div id=\"7TymQXwvfcXXcxBhwdniDa\"></div>\n",
       "        <script>netpixi.call('7TymQXwvfcXXcxBhwdniDa', 'FiBrqCMcA6f277x2Zu2n23', 'changeGraph', 'eyJpZCI6ICJHdWF0ZW1hbGEiLCAidHlwZSI6ICJ2ZXJ0ZXgiLCAicHJvcHMiOiB7InNpemUiOiAxNi43Nzc3Nzc3Nzc3Nzc3OH19Cg==');</script>\n",
       "    "
      ],
      "text/plain": [
       "<IPython.core.display.HTML object>"
      ]
     },
     "metadata": {},
     "output_type": "display_data"
    },
    {
     "data": {
      "text/html": [
       "\n",
       "        <div id=\"WTXNrEXikztTHF9Dxpkr6N\"></div>\n",
       "        <script>netpixi.call('WTXNrEXikztTHF9Dxpkr6N', 'FiBrqCMcA6f277x2Zu2n23', 'changeGraph', 'eyJpZCI6ICJMaWJlcmlhIiwgInR5cGUiOiAidmVydGV4IiwgInByb3BzIjogeyJzaXplIjogMTYuMzMzMzMzMzMzMzMzMzMyfX0K');</script>\n",
       "    "
      ],
      "text/plain": [
       "<IPython.core.display.HTML object>"
      ]
     },
     "metadata": {},
     "output_type": "display_data"
    },
    {
     "data": {
      "text/html": [
       "\n",
       "        <div id=\"7UtZu2CoDBU49KVCvrr4QP\"></div>\n",
       "        <script>netpixi.call('7UtZu2CoDBU49KVCvrr4QP', 'FiBrqCMcA6f277x2Zu2n23', 'changeGraph', 'eyJpZCI6ICJNb250ZW5lZ3JvIiwgInR5cGUiOiAidmVydGV4IiwgInByb3BzIjogeyJzaXplIjogMTcuMzMzMzMzMzMzMzMzMzM2fX0K');</script>\n",
       "    "
      ],
      "text/plain": [
       "<IPython.core.display.HTML object>"
      ]
     },
     "metadata": {},
     "output_type": "display_data"
    },
    {
     "data": {
      "text/html": [
       "\n",
       "        <div id=\"Uqn4xYsQS5GwEoY9Shp5zm\"></div>\n",
       "        <script>netpixi.call('Uqn4xYsQS5GwEoY9Shp5zm', 'FiBrqCMcA6f277x2Zu2n23', 'changeGraph', 'eyJpZCI6ICJNYXVyaXRhbmlhIiwgInR5cGUiOiAidmVydGV4IiwgInByb3BzIjogeyJzaXplIjogMTYuNjExMTExMTExMTExMTF9fQo=');</script>\n",
       "    "
      ],
      "text/plain": [
       "<IPython.core.display.HTML object>"
      ]
     },
     "metadata": {},
     "output_type": "display_data"
    },
    {
     "data": {
      "text/html": [
       "\n",
       "        <div id=\"ADCsyUFYLKXZzUasYV9SNu\"></div>\n",
       "        <script>netpixi.call('ADCsyUFYLKXZzUasYV9SNu', 'FiBrqCMcA6f277x2Zu2n23', 'changeGraph', 'eyJpZCI6ICJJdGFseSIsICJ0eXBlIjogInZlcnRleCIsICJwcm9wcyI6IHsic2l6ZSI6IDQ1LjU1NTU1NTU1NTU1NTU2fX0K');</script>\n",
       "    "
      ],
      "text/plain": [
       "<IPython.core.display.HTML object>"
      ]
     },
     "metadata": {},
     "output_type": "display_data"
    },
    {
     "data": {
      "text/html": [
       "\n",
       "        <div id=\"MvoMmxCFvBpDjmJiGdEjvS\"></div>\n",
       "        <script>netpixi.call('MvoMmxCFvBpDjmJiGdEjvS', 'FiBrqCMcA6f277x2Zu2n23', 'changeGraph', 'eyJpZCI6ICJUaGUgZm9ybWVyIFl1Z29zbGF2IFJlcHVibGljIG9mIE1hY2Vkb25pYSIsICJ0eXBlIjogInZlcnRleCIsICJwcm9wcyI6IHsic2l6ZSI6IDE5LjQ0NDQ0NDQ0NDQ0NDQ0M319Cg==');</script>\n",
       "    "
      ],
      "text/plain": [
       "<IPython.core.display.HTML object>"
      ]
     },
     "metadata": {},
     "output_type": "display_data"
    },
    {
     "data": {
      "text/html": [
       "\n",
       "        <div id=\"ZkiXJvdW3WFeDMW46bPBDu\"></div>\n",
       "        <script>netpixi.call('ZkiXJvdW3WFeDMW46bPBDu', 'FiBrqCMcA6f277x2Zu2n23', 'changeGraph', 'eyJpZCI6ICJBbmdvbGEiLCAidHlwZSI6ICJ2ZXJ0ZXgiLCAicHJvcHMiOiB7InNpemUiOiAxOS4wNTU1NTU1NTU1NTU1NTd9fQo=');</script>\n",
       "    "
      ],
      "text/plain": [
       "<IPython.core.display.HTML object>"
      ]
     },
     "metadata": {},
     "output_type": "display_data"
    },
    {
     "data": {
      "text/html": [
       "\n",
       "        <div id=\"YbPwpZLQBVghu45cMV3Kn9\"></div>\n",
       "        <script>netpixi.call('YbPwpZLQBVghu45cMV3Kn9', 'FiBrqCMcA6f277x2Zu2n23', 'changeGraph', 'eyJpZCI6ICJUdW5pc2lhIiwgInR5cGUiOiAidmVydGV4IiwgInByb3BzIjogeyJzaXplIjogMTYuNTU1NTU1NTU1NTU1NTU3fX0K');</script>\n",
       "    "
      ],
      "text/plain": [
       "<IPython.core.display.HTML object>"
      ]
     },
     "metadata": {},
     "output_type": "display_data"
    },
    {
     "data": {
      "text/html": [
       "\n",
       "        <div id=\"Lj5cfNv7MFDBGvygDM92cC\"></div>\n",
       "        <script>netpixi.call('Lj5cfNv7MFDBGvygDM92cC', 'FiBrqCMcA6f277x2Zu2n23', 'changeGraph', 'eyJpZCI6ICJTb2xvbW9uIElzbGFuZHMiLCAidHlwZSI6ICJ2ZXJ0ZXgiLCAicHJvcHMiOiB7InNpemUiOiAxMC41NTU1NTU1NTU1NTU1NTV9fQo=');</script>\n",
       "    "
      ],
      "text/plain": [
       "<IPython.core.display.HTML object>"
      ]
     },
     "metadata": {},
     "output_type": "display_data"
    },
    {
     "data": {
      "text/html": [
       "\n",
       "        <div id=\"EpBNw5k64FqbJMJTr9Mwg7\"></div>\n",
       "        <script>netpixi.call('EpBNw5k64FqbJMJTr9Mwg7', 'FiBrqCMcA6f277x2Zu2n23', 'changeGraph', 'eyJpZCI6ICJDb25nbyIsICJ0eXBlIjogInZlcnRleCIsICJwcm9wcyI6IHsic2l6ZSI6IDE5LjMzMzMzMzMzMzMzMzMzNn19Cg==');</script>\n",
       "    "
      ],
      "text/plain": [
       "<IPython.core.display.HTML object>"
      ]
     },
     "metadata": {},
     "output_type": "display_data"
    },
    {
     "data": {
      "text/html": [
       "\n",
       "        <div id=\"LdRXfQoTbVhj89TTSqj4iB\"></div>\n",
       "        <script>netpixi.call('LdRXfQoTbVhj89TTSqj4iB', 'FiBrqCMcA6f277x2Zu2n23', 'changeGraph', 'eyJpZCI6ICJQYXJhZ3VheSIsICJ0eXBlIjogInZlcnRleCIsICJwcm9wcyI6IHsic2l6ZSI6IDE0Ljk0NDQ0NDQ0NDQ0NDQ0NX19Cg==');</script>\n",
       "    "
      ],
      "text/plain": [
       "<IPython.core.display.HTML object>"
      ]
     },
     "metadata": {},
     "output_type": "display_data"
    },
    {
     "data": {
      "text/html": [
       "\n",
       "        <div id=\"ae6TRLHtsijAQaEM54EEgh\"></div>\n",
       "        <script>netpixi.call('ae6TRLHtsijAQaEM54EEgh', 'FiBrqCMcA6f277x2Zu2n23', 'changeGraph', 'eyJpZCI6ICJTdmFsYmFyZCBhbmQgSmFuIE1heWVuIiwgInR5cGUiOiAidmVydGV4IiwgInByb3BzIjogeyJzaXplIjogMTAuMTExMTExMTExMTExMTF9fQo=');</script>\n",
       "    "
      ],
      "text/plain": [
       "<IPython.core.display.HTML object>"
      ]
     },
     "metadata": {},
     "output_type": "display_data"
    },
    {
     "data": {
      "text/html": [
       "\n",
       "        <div id=\"AWNVbz4tmJPxjLMa2kBXeC\"></div>\n",
       "        <script>netpixi.call('AWNVbz4tmJPxjLMa2kBXeC', 'FiBrqCMcA6f277x2Zu2n23', 'changeGraph', 'eyJpZCI6ICJTb3V0aCBBZnJpY2EiLCAidHlwZSI6ICJ2ZXJ0ZXgiLCAicHJvcHMiOiB7InNpemUiOiA0NS4zMzMzMzMzMzMzMzMzM319Cg==');</script>\n",
       "    "
      ],
      "text/plain": [
       "<IPython.core.display.HTML object>"
      ]
     },
     "metadata": {},
     "output_type": "display_data"
    },
    {
     "data": {
      "text/html": [
       "\n",
       "        <div id=\"W5Pt8kyjPHdiPNtStnfG4K\"></div>\n",
       "        <script>netpixi.call('W5Pt8kyjPHdiPNtStnfG4K', 'FiBrqCMcA6f277x2Zu2n23', 'changeGraph', 'eyJpZCI6ICJMaWJ5YSIsICJ0eXBlIjogInZlcnRleCIsICJwcm9wcyI6IHsic2l6ZSI6IDE5LjYxMTExMTExMTExMTExfX0K');</script>\n",
       "    "
      ],
      "text/plain": [
       "<IPython.core.display.HTML object>"
      ]
     },
     "metadata": {},
     "output_type": "display_data"
    },
    {
     "data": {
      "text/html": [
       "\n",
       "        <div id=\"3bBiRPQciNojw7UHrw9Xx8\"></div>\n",
       "        <script>netpixi.call('3bBiRPQciNojw7UHrw9Xx8', 'FiBrqCMcA6f277x2Zu2n23', 'changeGraph', 'eyJpZCI6ICJEamlib3V0aSIsICJ0eXBlIjogInZlcnRleCIsICJwcm9wcyI6IHsic2l6ZSI6IDE1Ljg4ODg4ODg4ODg4ODg5fX0K');</script>\n",
       "    "
      ],
      "text/plain": [
       "<IPython.core.display.HTML object>"
      ]
     },
     "metadata": {},
     "output_type": "display_data"
    },
    {
     "data": {
      "text/html": [
       "\n",
       "        <div id=\"J67ERCvKm7Va5XtNMsEGHk\"></div>\n",
       "        <script>netpixi.call('J67ERCvKm7Va5XtNMsEGHk', 'FiBrqCMcA6f277x2Zu2n23', 'changeGraph', 'eyJpZCI6ICJNb25nb2xpYSIsICJ0eXBlIjogInZlcnRleCIsICJwcm9wcyI6IHsic2l6ZSI6IDE0LjYxMTExMTExMTExMTExfX0K');</script>\n",
       "    "
      ],
      "text/plain": [
       "<IPython.core.display.HTML object>"
      ]
     },
     "metadata": {},
     "output_type": "display_data"
    },
    {
     "data": {
      "text/html": [
       "\n",
       "        <div id=\"EArPLm8FX9KaTk3GeNahVF\"></div>\n",
       "        <script>netpixi.call('EArPLm8FX9KaTk3GeNahVF', 'FiBrqCMcA6f277x2Zu2n23', 'changeGraph', 'eyJpZCI6ICJKYW1haWNhIiwgInR5cGUiOiAidmVydGV4IiwgInByb3BzIjogeyJzaXplIjogMTMuNjY2NjY2NjY2NjY2NjY4fX0K');</script>\n",
       "    "
      ],
      "text/plain": [
       "<IPython.core.display.HTML object>"
      ]
     },
     "metadata": {},
     "output_type": "display_data"
    },
    {
     "data": {
      "text/html": [
       "\n",
       "        <div id=\"PMeQWsWKZ2qaVKmgRzyaz7\"></div>\n",
       "        <script>netpixi.call('PMeQWsWKZ2qaVKmgRzyaz7', 'FiBrqCMcA6f277x2Zu2n23', 'changeGraph', 'eyJpZCI6ICJBbnRpZ3VhIGFuZCBCYXJidWRhIiwgInR5cGUiOiAidmVydGV4IiwgInByb3BzIjogeyJzaXplIjogMTEuNTU1NTU1NTU1NTU1NTU1fX0K');</script>\n",
       "    "
      ],
      "text/plain": [
       "<IPython.core.display.HTML object>"
      ]
     },
     "metadata": {},
     "output_type": "display_data"
    },
    {
     "data": {
      "text/html": [
       "\n",
       "        <div id=\"BX2G4r3UUSFaNQ6BLXj3Kt\"></div>\n",
       "        <script>netpixi.call('BX2G4r3UUSFaNQ6BLXj3Kt', 'FiBrqCMcA6f277x2Zu2n23', 'changeGraph', 'eyJpZCI6ICJIYWl0aSIsICJ0eXBlIjogInZlcnRleCIsICJwcm9wcyI6IHsic2l6ZSI6IDEzLjI3Nzc3Nzc3Nzc3Nzc3OX19Cg==');</script>\n",
       "    "
      ],
      "text/plain": [
       "<IPython.core.display.HTML object>"
      ]
     },
     "metadata": {},
     "output_type": "display_data"
    },
    {
     "data": {
      "text/html": [
       "\n",
       "        <div id=\"BtN3Z4B6xsRDe9GTfTT5wP\"></div>\n",
       "        <script>netpixi.call('BtN3Z4B6xsRDe9GTfTT5wP', 'FiBrqCMcA6f277x2Zu2n23', 'changeGraph', 'eyJpZCI6ICJBcnViYSIsICJ0eXBlIjogInZlcnRleCIsICJwcm9wcyI6IHsic2l6ZSI6IDEyLjM4ODg4ODg4ODg4ODg5fX0K');</script>\n",
       "    "
      ],
      "text/plain": [
       "<IPython.core.display.HTML object>"
      ]
     },
     "metadata": {},
     "output_type": "display_data"
    },
    {
     "data": {
      "text/html": [
       "\n",
       "        <div id=\"Xeg7ayxYpUq4ebzZtuXgEX\"></div>\n",
       "        <script>netpixi.call('Xeg7ayxYpUq4ebzZtuXgEX', 'FiBrqCMcA6f277x2Zu2n23', 'changeGraph', 'eyJpZCI6ICJBbGdlcmlhIiwgInR5cGUiOiAidmVydGV4IiwgInByb3BzIjogeyJzaXplIjogMTguMTY2NjY2NjY2NjY2NjY0fX0K');</script>\n",
       "    "
      ],
      "text/plain": [
       "<IPython.core.display.HTML object>"
      ]
     },
     "metadata": {},
     "output_type": "display_data"
    },
    {
     "data": {
      "text/html": [
       "\n",
       "        <div id=\"k5nf2XJUSkcSnE5BPdgEKw\"></div>\n",
       "        <script>netpixi.call('k5nf2XJUSkcSnE5BPdgEKw', 'FiBrqCMcA6f277x2Zu2n23', 'changeGraph', 'eyJpZCI6ICJCdXJraW5hIEZhc28iLCAidHlwZSI6ICJ2ZXJ0ZXgiLCAicHJvcHMiOiB7InNpemUiOiAxNi4xNjY2NjY2NjY2NjY2Njh9fQo=');</script>\n",
       "    "
      ],
      "text/plain": [
       "<IPython.core.display.HTML object>"
      ]
     },
     "metadata": {},
     "output_type": "display_data"
    },
    {
     "data": {
      "text/html": [
       "\n",
       "        <div id=\"7RPU9hFP4LzMjcNywgjkCu\"></div>\n",
       "        <script>netpixi.call('7RPU9hFP4LzMjcNywgjkCu', 'FiBrqCMcA6f277x2Zu2n23', 'changeGraph', 'eyJpZCI6ICJNaWNyb25lc2lhIChGZWRlcmF0ZWQgU3RhdGVzIG9mKSIsICJ0eXBlIjogInZlcnRleCIsICJwcm9wcyI6IHsic2l6ZSI6IDExLjcyMjIyMjIyMjIyMjIyMX19Cg==');</script>\n",
       "    "
      ],
      "text/plain": [
       "<IPython.core.display.HTML object>"
      ]
     },
     "metadata": {},
     "output_type": "display_data"
    },
    {
     "data": {
      "text/html": [
       "\n",
       "        <div id=\"3nmY9uekvH7viWcBUjFdo8\"></div>\n",
       "        <script>netpixi.call('3nmY9uekvH7viWcBUjFdo8', 'FiBrqCMcA6f277x2Zu2n23', 'changeGraph', 'eyJpZCI6ICJVemJla2lzdGFuIiwgInR5cGUiOiAidmVydGV4IiwgInByb3BzIjogeyJzaXplIjogMTEuOTQ0NDQ0NDQ0NDQ0NDQ1fX0K');</script>\n",
       "    "
      ],
      "text/plain": [
       "<IPython.core.display.HTML object>"
      ]
     },
     "metadata": {},
     "output_type": "display_data"
    },
    {
     "data": {
      "text/html": [
       "\n",
       "        <div id=\"NagTDukAh6RXKpYdWkZFBB\"></div>\n",
       "        <script>netpixi.call('NagTDukAh6RXKpYdWkZFBB', 'FiBrqCMcA6f277x2Zu2n23', 'changeGraph', 'eyJpZCI6ICJXZXN0ZXJuIFNhaGFyYSIsICJ0eXBlIjogInZlcnRleCIsICJwcm9wcyI6IHsic2l6ZSI6IDExLjV9fQo=');</script>\n",
       "    "
      ],
      "text/plain": [
       "<IPython.core.display.HTML object>"
      ]
     },
     "metadata": {},
     "output_type": "display_data"
    },
    {
     "data": {
      "text/html": [
       "\n",
       "        <div id=\"3EFTZK3sLuogXo5ZCEmQBP\"></div>\n",
       "        <script>netpixi.call('3EFTZK3sLuogXo5ZCEmQBP', 'FiBrqCMcA6f277x2Zu2n23', 'changeGraph', 'eyJpZCI6ICJBdXN0cmlhIiwgInR5cGUiOiAidmVydGV4IiwgInByb3BzIjogeyJzaXplIjogNDguNDQ0NDQ0NDQ0NDQ0NDR9fQo=');</script>\n",
       "    "
      ],
      "text/plain": [
       "<IPython.core.display.HTML object>"
      ]
     },
     "metadata": {},
     "output_type": "display_data"
    },
    {
     "data": {
      "text/html": [
       "\n",
       "        <div id=\"YAMZqPbedj99WMRJn8S6QJ\"></div>\n",
       "        <script>netpixi.call('YAMZqPbedj99WMRJn8S6QJ', 'FiBrqCMcA6f277x2Zu2n23', 'changeGraph', 'eyJpZCI6ICJOZXBhbCIsICJ0eXBlIjogInZlcnRleCIsICJwcm9wcyI6IHsic2l6ZSI6IDE1LjgzMzMzMzMzMzMzMzMzNH19Cg==');</script>\n",
       "    "
      ],
      "text/plain": [
       "<IPython.core.display.HTML object>"
      ]
     },
     "metadata": {},
     "output_type": "display_data"
    },
    {
     "data": {
      "text/html": [
       "\n",
       "        <div id=\"SQeKK6ALs4rythiziHnbX5\"></div>\n",
       "        <script>netpixi.call('SQeKK6ALs4rythiziHnbX5', 'FiBrqCMcA6f277x2Zu2n23', 'changeGraph', 'eyJpZCI6ICJOaXVlIiwgInR5cGUiOiAidmVydGV4IiwgInByb3BzIjogeyJzaXplIjogMTAuNDQ0NDQ0NDQ0NDQ0NDQ1fX0K');</script>\n",
       "    "
      ],
      "text/plain": [
       "<IPython.core.display.HTML object>"
      ]
     },
     "metadata": {},
     "output_type": "display_data"
    },
    {
     "data": {
      "text/html": [
       "\n",
       "        <div id=\"YP3bWhYaaRSRXEwgrMyiCJ\"></div>\n",
       "        <script>netpixi.call('YP3bWhYaaRSRXEwgrMyiCJ', 'FiBrqCMcA6f277x2Zu2n23', 'changeGraph', 'eyJpZCI6ICJEb21pbmljYSIsICJ0eXBlIjogInZlcnRleCIsICJwcm9wcyI6IHsic2l6ZSI6IDExLjM4ODg4ODg4ODg4ODg5fX0K');</script>\n",
       "    "
      ],
      "text/plain": [
       "<IPython.core.display.HTML object>"
      ]
     },
     "metadata": {},
     "output_type": "display_data"
    },
    {
     "data": {
      "text/html": [
       "\n",
       "        <div id=\"BpRcR3QeJhUqDQshp72Pqq\"></div>\n",
       "        <script>netpixi.call('BpRcR3QeJhUqDQshp72Pqq', 'FiBrqCMcA6f277x2Zu2n23', 'changeGraph', 'eyJpZCI6ICJHdWFkZWxvdXBlIiwgInR5cGUiOiAidmVydGV4IiwgInByb3BzIjogeyJzaXplIjogMTAuOTQ0NDQ0NDQ0NDQ0NDQ1fX0K');</script>\n",
       "    "
      ],
      "text/plain": [
       "<IPython.core.display.HTML object>"
      ]
     },
     "metadata": {},
     "output_type": "display_data"
    },
    {
     "data": {
      "text/html": [
       "\n",
       "        <div id=\"GFQTAQnUozmp8tqtxFgKpM\"></div>\n",
       "        <script>netpixi.call('GFQTAQnUozmp8tqtxFgKpM', 'FiBrqCMcA6f277x2Zu2n23', 'changeGraph', 'eyJpZCI6ICJGaW5sYW5kIiwgInR5cGUiOiAidmVydGV4IiwgInByb3BzIjogeyJzaXplIjogNDcuMzMzMzMzMzMzMzMzMzM2fX0K');</script>\n",
       "    "
      ],
      "text/plain": [
       "<IPython.core.display.HTML object>"
      ]
     },
     "metadata": {},
     "output_type": "display_data"
    },
    {
     "data": {
      "text/html": [
       "\n",
       "        <div id=\"LdGVvhsHdJ3Pj22c2oTfeh\"></div>\n",
       "        <script>netpixi.call('LdGVvhsHdJ3Pj22c2oTfeh', 'FiBrqCMcA6f277x2Zu2n23', 'changeGraph', 'eyJpZCI6ICJBZmdoYW5pc3RhbiIsICJ0eXBlIjogInZlcnRleCIsICJwcm9wcyI6IHsic2l6ZSI6IDE2LjQ0NDQ0NDQ0NDQ0NDQ0M319Cg==');</script>\n",
       "    "
      ],
      "text/plain": [
       "<IPython.core.display.HTML object>"
      ]
     },
     "metadata": {},
     "output_type": "display_data"
    },
    {
     "data": {
      "text/html": [
       "\n",
       "        <div id=\"7RvhvvaWeThL49wJArg5oq\"></div>\n",
       "        <script>netpixi.call('7RvhvvaWeThL49wJArg5oq', 'FiBrqCMcA6f277x2Zu2n23', 'changeGraph', 'eyJpZCI6ICJCb3NuaWEgYW5kIEhlcnplZ292aW5hIiwgInR5cGUiOiAidmVydGV4IiwgInByb3BzIjogeyJzaXplIjogMTguMzg4ODg4ODg4ODg4ODl9fQo=');</script>\n",
       "    "
      ],
      "text/plain": [
       "<IPython.core.display.HTML object>"
      ]
     },
     "metadata": {},
     "output_type": "display_data"
    },
    {
     "data": {
      "text/html": [
       "\n",
       "        <div id=\"dh3sfEYG3d8ZzJNnCDLQ7Q\"></div>\n",
       "        <script>netpixi.call('dh3sfEYG3d8ZzJNnCDLQ7Q', 'FiBrqCMcA6f277x2Zu2n23', 'changeGraph', 'eyJpZCI6ICJHZXJtYW55IiwgInR5cGUiOiAidmVydGV4IiwgInByb3BzIjogeyJzaXplIjogNDcuNzc3Nzc3Nzc3Nzc3Nzh9fQo=');</script>\n",
       "    "
      ],
      "text/plain": [
       "<IPython.core.display.HTML object>"
      ]
     },
     "metadata": {},
     "output_type": "display_data"
    },
    {
     "data": {
      "text/html": [
       "\n",
       "        <div id=\"YJLzq5uuvpHpKMh3HDBHWH\"></div>\n",
       "        <script>netpixi.call('YJLzq5uuvpHpKMh3HDBHWH', 'FiBrqCMcA6f277x2Zu2n23', 'changeGraph', 'eyJpZCI6ICJDaGFkIiwgInR5cGUiOiAidmVydGV4IiwgInByb3BzIjogeyJzaXplIjogMTcuMH19Cg==');</script>\n",
       "    "
      ],
      "text/plain": [
       "<IPython.core.display.HTML object>"
      ]
     },
     "metadata": {},
     "output_type": "display_data"
    },
    {
     "data": {
      "text/html": [
       "\n",
       "        <div id=\"S2f3ZiTm3KrJKmQkZzogMR\"></div>\n",
       "        <script>netpixi.call('S2f3ZiTm3KrJKmQkZzogMR', 'FiBrqCMcA6f277x2Zu2n23', 'changeGraph', 'eyJpZCI6ICJOZXcgQ2FsZWRvbmlhIiwgInR5cGUiOiAidmVydGV4IiwgInByb3BzIjogeyJzaXplIjogMTAuODMzMzMzMzMzMzMzMzM0fX0K');</script>\n",
       "    "
      ],
      "text/plain": [
       "<IPython.core.display.HTML object>"
      ]
     },
     "metadata": {},
     "output_type": "display_data"
    },
    {
     "data": {
      "text/html": [
       "\n",
       "        <div id=\"ajkwUVps6yPt9HubJ2r24n\"></div>\n",
       "        <script>netpixi.call('ajkwUVps6yPt9HubJ2r24n', 'FiBrqCMcA6f277x2Zu2n23', 'changeGraph', 'eyJpZCI6ICJZZW1lbiIsICJ0eXBlIjogInZlcnRleCIsICJwcm9wcyI6IHsic2l6ZSI6IDE5LjExMTExMTExMTExMTExfX0K');</script>\n",
       "    "
      ],
      "text/plain": [
       "<IPython.core.display.HTML object>"
      ]
     },
     "metadata": {},
     "output_type": "display_data"
    },
    {
     "data": {
      "text/html": [
       "\n",
       "        <div id=\"ToMABPQLtyiixcmZM5LFsi\"></div>\n",
       "        <script>netpixi.call('ToMABPQLtyiixcmZM5LFsi', 'FiBrqCMcA6f277x2Zu2n23', 'changeGraph', 'eyJpZCI6ICJUdXJrbWVuaXN0YW4iLCAidHlwZSI6ICJ2ZXJ0ZXgiLCAicHJvcHMiOiB7InNpemUiOiAxMS4xMTExMTExMTExMTExMX19Cg==');</script>\n",
       "    "
      ],
      "text/plain": [
       "<IPython.core.display.HTML object>"
      ]
     },
     "metadata": {},
     "output_type": "display_data"
    },
    {
     "data": {
      "text/html": [
       "\n",
       "        <div id=\"c4STDJbQBnAy59VULnNke2\"></div>\n",
       "        <script>netpixi.call('c4STDJbQBnAy59VULnNke2', 'FiBrqCMcA6f277x2Zu2n23', 'changeGraph', 'eyJpZCI6ICJIb25kdXJhcyIsICJ0eXBlIjogInZlcnRleCIsICJwcm9wcyI6IHsic2l6ZSI6IDE2LjY2NjY2NjY2NjY2NjY2OH19Cg==');</script>\n",
       "    "
      ],
      "text/plain": [
       "<IPython.core.display.HTML object>"
      ]
     },
     "metadata": {},
     "output_type": "display_data"
    },
    {
     "data": {
      "text/html": [
       "\n",
       "        <div id=\"SmETZnbFHutJyKhQevkPAh\"></div>\n",
       "        <script>netpixi.call('SmETZnbFHutJyKhQevkPAh', 'FiBrqCMcA6f277x2Zu2n23', 'changeGraph', 'eyJpZCI6ICJBbGJhbmlhIiwgInR5cGUiOiAidmVydGV4IiwgInByb3BzIjogeyJzaXplIjogMTUuNjExMTExMTExMTExMTF9fQo=');</script>\n",
       "    "
      ],
      "text/plain": [
       "<IPython.core.display.HTML object>"
      ]
     },
     "metadata": {},
     "output_type": "display_data"
    },
    {
     "data": {
      "text/html": [
       "\n",
       "        <div id=\"RA5jpyx9QmAYb7gYMRyrjb\"></div>\n",
       "        <script>netpixi.call('RA5jpyx9QmAYb7gYMRyrjb', 'FiBrqCMcA6f277x2Zu2n23', 'changeGraph', 'eyJpZCI6ICJTZW5lZ2FsIiwgInR5cGUiOiAidmVydGV4IiwgInByb3BzIjogeyJzaXplIjogMTguNX19Cg==');</script>\n",
       "    "
      ],
      "text/plain": [
       "<IPython.core.display.HTML object>"
      ]
     },
     "metadata": {},
     "output_type": "display_data"
    },
    {
     "data": {
      "text/html": [
       "\n",
       "        <div id=\"ahWzNba6CUzYv75UQ9HESQ\"></div>\n",
       "        <script>netpixi.call('ahWzNba6CUzYv75UQ9HESQ', 'FiBrqCMcA6f277x2Zu2n23', 'changeGraph', 'eyJpZCI6ICJHYWJvbiIsICJ0eXBlIjogInZlcnRleCIsICJwcm9wcyI6IHsic2l6ZSI6IDE4LjU1NTU1NTU1NTU1NTU1N319Cg==');</script>\n",
       "    "
      ],
      "text/plain": [
       "<IPython.core.display.HTML object>"
      ]
     },
     "metadata": {},
     "output_type": "display_data"
    },
    {
     "data": {
      "text/html": [
       "\n",
       "        <div id=\"7cUWLQCDX5eecz7EYP7D7o\"></div>\n",
       "        <script>netpixi.call('7cUWLQCDX5eecz7EYP7D7o', 'FiBrqCMcA6f277x2Zu2n23', 'changeGraph', 'eyJpZCI6ICJUcmluaWRhZCBhbmQgVG9iYWdvIiwgInR5cGUiOiAidmVydGV4IiwgInByb3BzIjogeyJzaXplIjogMTYuMH19Cg==');</script>\n",
       "    "
      ],
      "text/plain": [
       "<IPython.core.display.HTML object>"
      ]
     },
     "metadata": {},
     "output_type": "display_data"
    },
    {
     "data": {
      "text/html": [
       "\n",
       "        <div id=\"FFJCnrNoJKFqCvtYS5LUkV\"></div>\n",
       "        <script>netpixi.call('FFJCnrNoJKFqCvtYS5LUkV', 'FiBrqCMcA6f277x2Zu2n23', 'changeGraph', 'eyJpZCI6ICJJc3JhZWwiLCAidHlwZSI6ICJ2ZXJ0ZXgiLCAicHJvcHMiOiB7InNpemUiOiA0NS43Nzc3Nzc3Nzc3Nzc3N319Cg==');</script>\n",
       "    "
      ],
      "text/plain": [
       "<IPython.core.display.HTML object>"
      ]
     },
     "metadata": {},
     "output_type": "display_data"
    },
    {
     "data": {
      "text/html": [
       "\n",
       "        <div id=\"W96jWhw5NuNApNKc2nJfxe\"></div>\n",
       "        <script>netpixi.call('W96jWhw5NuNApNKc2nJfxe', 'FiBrqCMcA6f277x2Zu2n23', 'changeGraph', 'eyJpZCI6ICJHdWluZWEtQmlzc2F1IiwgInR5cGUiOiAidmVydGV4IiwgInByb3BzIjogeyJzaXplIjogMTguNjExMTExMTExMTExMTF9fQo=');</script>\n",
       "    "
      ],
      "text/plain": [
       "<IPython.core.display.HTML object>"
      ]
     },
     "metadata": {},
     "output_type": "display_data"
    },
    {
     "data": {
      "text/html": [
       "\n",
       "        <div id=\"GRydtxK7i5dq6cK2aXpZ29\"></div>\n",
       "        <script>netpixi.call('GRydtxK7i5dq6cK2aXpZ29', 'FiBrqCMcA6f277x2Zu2n23', 'changeGraph', 'eyJpZCI6ICJMZXNvdGhvIiwgInR5cGUiOiAidmVydGV4IiwgInByb3BzIjogeyJzaXplIjogMTIuMDU1NTU1NTU1NTU1NTU1fX0K');</script>\n",
       "    "
      ],
      "text/plain": [
       "<IPython.core.display.HTML object>"
      ]
     },
     "metadata": {},
     "output_type": "display_data"
    },
    {
     "data": {
      "text/html": [
       "\n",
       "        <div id=\"LfsMnyREDvNKzf4buktNk6\"></div>\n",
       "        <script>netpixi.call('LfsMnyREDvNKzf4buktNk6', 'FiBrqCMcA6f277x2Zu2n23', 'changeGraph', 'eyJpZCI6ICJNeWFubWFyIiwgInR5cGUiOiAidmVydGV4IiwgInByb3BzIjogeyJzaXplIjogMTIuNX19Cg==');</script>\n",
       "    "
      ],
      "text/plain": [
       "<IPython.core.display.HTML object>"
      ]
     },
     "metadata": {},
     "output_type": "display_data"
    },
    {
     "data": {
      "text/html": [
       "\n",
       "        <div id=\"6ht8E3JSXSJ4F8HPbM5hHE\"></div>\n",
       "        <script>netpixi.call('6ht8E3JSXSJ4F8HPbM5hHE', 'FiBrqCMcA6f277x2Zu2n23', 'changeGraph', 'eyJpZCI6ICJQYWtpc3RhbiIsICJ0eXBlIjogInZlcnRleCIsICJwcm9wcyI6IHsic2l6ZSI6IDE4Ljg4ODg4ODg4ODg4ODg5fX0K');</script>\n",
       "    "
      ],
      "text/plain": [
       "<IPython.core.display.HTML object>"
      ]
     },
     "metadata": {},
     "output_type": "display_data"
    },
    {
     "data": {
      "text/html": [
       "\n",
       "        <div id=\"ZLskUdo4nZ8GmSfi2A5r3N\"></div>\n",
       "        <script>netpixi.call('ZLskUdo4nZ8GmSfi2A5r3N', 'FiBrqCMcA6f277x2Zu2n23', 'changeGraph', 'eyJpZCI6ICJaaW1iYWJ3ZSIsICJ0eXBlIjogInZlcnRleCIsICJwcm9wcyI6IHsic2l6ZSI6IDE1LjcyMjIyMjIyMjIyMjIyM319Cg==');</script>\n",
       "    "
      ],
      "text/plain": [
       "<IPython.core.display.HTML object>"
      ]
     },
     "metadata": {},
     "output_type": "display_data"
    },
    {
     "data": {
      "text/html": [
       "\n",
       "        <div id=\"fkBvPnY3Vx56vMFTA68Mc6\"></div>\n",
       "        <script>netpixi.call('fkBvPnY3Vx56vMFTA68Mc6', 'FiBrqCMcA6f277x2Zu2n23', 'changeGraph', 'eyJpZCI6ICJCYWhyYWluIiwgInR5cGUiOiAidmVydGV4IiwgInByb3BzIjogeyJzaXplIjogMTYuMDU1NTU1NTU1NTU1NTU3fX0K');</script>\n",
       "    "
      ],
      "text/plain": [
       "<IPython.core.display.HTML object>"
      ]
     },
     "metadata": {},
     "output_type": "display_data"
    },
    {
     "data": {
      "text/html": [
       "\n",
       "        <div id=\"ai8PGVTZJoYGAwW6hFfw5W\"></div>\n",
       "        <script>netpixi.call('ai8PGVTZJoYGAwW6hFfw5W', 'FiBrqCMcA6f277x2Zu2n23', 'changeGraph', 'eyJpZCI6ICJWaWV0IE5hbSIsICJ0eXBlIjogInZlcnRleCIsICJwcm9wcyI6IHsic2l6ZSI6IDExLjg4ODg4ODg4ODg4ODg5fX0K');</script>\n",
       "    "
      ],
      "text/plain": [
       "<IPython.core.display.HTML object>"
      ]
     },
     "metadata": {},
     "output_type": "display_data"
    },
    {
     "data": {
      "text/html": [
       "\n",
       "        <div id=\"hPD9fcthUTizgb996ZrzUX\"></div>\n",
       "        <script>netpixi.call('hPD9fcthUTizgb996ZrzUX', 'FiBrqCMcA6f277x2Zu2n23', 'changeGraph', 'eyJpZCI6ICJQdWVydG8gUmljbyIsICJ0eXBlIjogInZlcnRleCIsICJwcm9wcyI6IHsic2l6ZSI6IDEyLjE2NjY2NjY2NjY2NjY2OH19Cg==');</script>\n",
       "    "
      ],
      "text/plain": [
       "<IPython.core.display.HTML object>"
      ]
     },
     "metadata": {},
     "output_type": "display_data"
    },
    {
     "data": {
      "text/html": [
       "\n",
       "        <div id=\"JPzrHJH5mL6rym3KD7EifP\"></div>\n",
       "        <script>netpixi.call('JPzrHJH5mL6rym3KD7EifP', 'FiBrqCMcA6f277x2Zu2n23', 'changeGraph', 'eyJpZCI6ICJBemVyYmFpamFuIiwgInR5cGUiOiAidmVydGV4IiwgInByb3BzIjogeyJzaXplIjogMTUuMDU1NTU1NTU1NTU1NTU1fX0K');</script>\n",
       "    "
      ],
      "text/plain": [
       "<IPython.core.display.HTML object>"
      ]
     },
     "metadata": {},
     "output_type": "display_data"
    },
    {
     "data": {
      "text/html": [
       "\n",
       "        <div id=\"WJ3eSq5ZbvgsDTAFcPqSgX\"></div>\n",
       "        <script>netpixi.call('WJ3eSq5ZbvgsDTAFcPqSgX', 'FiBrqCMcA6f277x2Zu2n23', 'changeGraph', 'eyJpZCI6ICJTYW1vYSIsICJ0eXBlIjogInZlcnRleCIsICJwcm9wcyI6IHsic2l6ZSI6IDEyLjQ0NDQ0NDQ0NDQ0NDQ0NX19Cg==');</script>\n",
       "    "
      ],
      "text/plain": [
       "<IPython.core.display.HTML object>"
      ]
     },
     "metadata": {},
     "output_type": "display_data"
    },
    {
     "data": {
      "text/html": [
       "\n",
       "        <div id=\"My3RWA2DKiHvN7fqKYbsAA\"></div>\n",
       "        <script>netpixi.call('My3RWA2DKiHvN7fqKYbsAA', 'FiBrqCMcA6f277x2Zu2n23', 'changeGraph', 'eyJpZCI6ICJUaGFpbGFuZCIsICJ0eXBlIjogInZlcnRleCIsICJwcm9wcyI6IHsic2l6ZSI6IDE4LjIyMjIyMjIyMjIyMjIyfX0K');</script>\n",
       "    "
      ],
      "text/plain": [
       "<IPython.core.display.HTML object>"
      ]
     },
     "metadata": {},
     "output_type": "display_data"
    },
    {
     "data": {
      "text/html": [
       "\n",
       "        <div id=\"kDTNsvNBrBz684pbCBLGx6\"></div>\n",
       "        <script>netpixi.call('kDTNsvNBrBz684pbCBLGx6', 'FiBrqCMcA6f277x2Zu2n23', 'changeGraph', 'eyJpZCI6ICJTbG92YWtpYSIsICJ0eXBlIjogInZlcnRleCIsICJwcm9wcyI6IHsic2l6ZSI6IDQwLjQ0NDQ0NDQ0NDQ0NDQ0fX0K');</script>\n",
       "    "
      ],
      "text/plain": [
       "<IPython.core.display.HTML object>"
      ]
     },
     "metadata": {},
     "output_type": "display_data"
    },
    {
     "data": {
      "text/html": [
       "\n",
       "        <div id=\"MKrx6mg7ewZ5bpuFTnrr7X\"></div>\n",
       "        <script>netpixi.call('MKrx6mg7ewZ5bpuFTnrr7X', 'FiBrqCMcA6f277x2Zu2n23', 'changeGraph', 'eyJpZCI6ICJVa3JhaW5lIiwgInR5cGUiOiAidmVydGV4IiwgInByb3BzIjogeyJzaXplIjogNDYuNDQ0NDQ0NDQ0NDQ0NDR9fQo=');</script>\n",
       "    "
      ],
      "text/plain": [
       "<IPython.core.display.HTML object>"
      ]
     },
     "metadata": {},
     "output_type": "display_data"
    },
    {
     "data": {
      "text/html": [
       "\n",
       "        <div id=\"HhLbNybzfRiPzpKUBrWpU2\"></div>\n",
       "        <script>netpixi.call('HhLbNybzfRiPzpKUBrWpU2', 'FiBrqCMcA6f277x2Zu2n23', 'changeGraph', 'eyJpZCI6ICJSd2FuZGEiLCAidHlwZSI6ICJ2ZXJ0ZXgiLCAicHJvcHMiOiB7InNpemUiOiAxMy43Nzc3Nzc3Nzc3Nzc3Nzl9fQo=');</script>\n",
       "    "
      ],
      "text/plain": [
       "<IPython.core.display.HTML object>"
      ]
     },
     "metadata": {},
     "output_type": "display_data"
    },
    {
     "data": {
      "text/html": [
       "\n",
       "        <div id=\"grKWkTCJNbTCxYZR5vFBT6\"></div>\n",
       "        <script>netpixi.call('grKWkTCJNbTCxYZR5vFBT6', 'FiBrqCMcA6f277x2Zu2n23', 'changeGraph', 'eyJpZCI6ICJKYXBhbiIsICJ0eXBlIjogInZlcnRleCIsICJwcm9wcyI6IHsic2l6ZSI6IDQ0LjQ0NDQ0NDQ0NDQ0NDQ0fX0K');</script>\n",
       "    "
      ],
      "text/plain": [
       "<IPython.core.display.HTML object>"
      ]
     },
     "metadata": {},
     "output_type": "display_data"
    },
    {
     "data": {
      "text/html": [
       "\n",
       "        <div id=\"gRWjL8FYPhM9k5beJ2tyvL\"></div>\n",
       "        <script>netpixi.call('gRWjL8FYPhM9k5beJ2tyvL', 'FiBrqCMcA6f277x2Zu2n23', 'changeGraph', 'eyJpZCI6ICJCYXJiYWRvcyIsICJ0eXBlIjogInZlcnRleCIsICJwcm9wcyI6IHsic2l6ZSI6IDExLjQ0NDQ0NDQ0NDQ0NDQ0NX19Cg==');</script>\n",
       "    "
      ],
      "text/plain": [
       "<IPython.core.display.HTML object>"
      ]
     },
     "metadata": {},
     "output_type": "display_data"
    },
    {
     "data": {
      "text/html": [
       "\n",
       "        <div id=\"VSKFvLJ2yCXH9bdiy2qBTJ\"></div>\n",
       "        <script>netpixi.call('VSKFvLJ2yCXH9bdiy2qBTJ', 'FiBrqCMcA6f277x2Zu2n23', 'changeGraph', 'eyJpZCI6ICJDaGluYSwgSG9uZyBLb25nIFNBUiIsICJ0eXBlIjogInZlcnRleCIsICJwcm9wcyI6IHsic2l6ZSI6IDQzLjExMTExMTExMTExMTExfX0K');</script>\n",
       "    "
      ],
      "text/plain": [
       "<IPython.core.display.HTML object>"
      ]
     },
     "metadata": {},
     "output_type": "display_data"
    },
    {
     "data": {
      "text/html": [
       "\n",
       "        <div id=\"8wWDqQZkDweAzsmVLscwCw\"></div>\n",
       "        <script>netpixi.call('8wWDqQZkDweAzsmVLscwCw', 'FiBrqCMcA6f277x2Zu2n23', 'changeGraph', 'eyJpZCI6ICJJbmRpYSIsICJ0eXBlIjogInZlcnRleCIsICJwcm9wcyI6IHsic2l6ZSI6IDE5Ljk0NDQ0NDQ0NDQ0NDQ0M319Cg==');</script>\n",
       "    "
      ],
      "text/plain": [
       "<IPython.core.display.HTML object>"
      ]
     },
     "metadata": {},
     "output_type": "display_data"
    },
    {
     "data": {
      "text/html": [
       "\n",
       "        <div id=\"Dkj34bR6ad7qrAK4aWMLFv\"></div>\n",
       "        <script>netpixi.call('Dkj34bR6ad7qrAK4aWMLFv', 'FiBrqCMcA6f277x2Zu2n23', 'changeGraph', 'eyJpZCI6ICJMaWVjaHRlbnN0ZWluIiwgInR5cGUiOiAidmVydGV4IiwgInByb3BzIjogeyJzaXplIjogNDEuNTU1NTU1NTU1NTU1NTZ9fQo=');</script>\n",
       "    "
      ],
      "text/plain": [
       "<IPython.core.display.HTML object>"
      ]
     },
     "metadata": {},
     "output_type": "display_data"
    },
    {
     "data": {
      "text/html": [
       "\n",
       "        <div id=\"7KsR3vWCEHSWcFRoK3uiAY\"></div>\n",
       "        <script>netpixi.call('7KsR3vWCEHSWcFRoK3uiAY', 'FiBrqCMcA6f277x2Zu2n23', 'changeGraph', 'eyJpZCI6ICJCdWxnYXJpYSIsICJ0eXBlIjogInZlcnRleCIsICJwcm9wcyI6IHsic2l6ZSI6IDQ0LjY2NjY2NjY2NjY2NjY3fX0K');</script>\n",
       "    "
      ],
      "text/plain": [
       "<IPython.core.display.HTML object>"
      ]
     },
     "metadata": {},
     "output_type": "display_data"
    },
    {
     "data": {
      "text/html": [
       "\n",
       "        <div id=\"gqJajSSCJGxT665B7eNVpE\"></div>\n",
       "        <script>netpixi.call('gqJajSSCJGxT665B7eNVpE', 'FiBrqCMcA6f277x2Zu2n23', 'changeGraph', 'eyJpZCI6ICJDYW1lcm9vbiIsICJ0eXBlIjogInZlcnRleCIsICJwcm9wcyI6IHsic2l6ZSI6IDE5Ljg4ODg4ODg4ODg4ODg5fX0K');</script>\n",
       "    "
      ],
      "text/plain": [
       "<IPython.core.display.HTML object>"
      ]
     },
     "metadata": {},
     "output_type": "display_data"
    },
    {
     "data": {
      "text/html": [
       "\n",
       "        <div id=\"P46yfGiMPgagw5zYMZANH3\"></div>\n",
       "        <script>netpixi.call('P46yfGiMPgagw5zYMZANH3', 'FiBrqCMcA6f277x2Zu2n23', 'changeGraph', 'eyJpZCI6ICJOb3Jmb2xrIElzbGFuZCIsICJ0eXBlIjogInZlcnRleCIsICJwcm9wcyI6IHsic2l6ZSI6IDEyLjc3Nzc3Nzc3Nzc3Nzc3OX19Cg==');</script>\n",
       "    "
      ],
      "text/plain": [
       "<IPython.core.display.HTML object>"
      ]
     },
     "metadata": {},
     "output_type": "display_data"
    },
    {
     "data": {
      "text/html": [
       "\n",
       "        <div id=\"4eYpqkmVBzK3vPXar497rP\"></div>\n",
       "        <script>netpixi.call('4eYpqkmVBzK3vPXar497rP', 'FiBrqCMcA6f277x2Zu2n23', 'changeGraph', 'eyJpZCI6ICJDb2xvbWJpYSIsICJ0eXBlIjogInZlcnRleCIsICJwcm9wcyI6IHsic2l6ZSI6IDE5LjE2NjY2NjY2NjY2NjY2OH19Cg==');</script>\n",
       "    "
      ],
      "text/plain": [
       "<IPython.core.display.HTML object>"
      ]
     },
     "metadata": {},
     "output_type": "display_data"
    },
    {
     "data": {
      "text/html": [
       "\n",
       "        <div id=\"ZvejtoPvsKG4V3NP9vjJtR\"></div>\n",
       "        <script>netpixi.call('ZvejtoPvsKG4V3NP9vjJtR', 'FiBrqCMcA6f277x2Zu2n23', 'changeGraph', 'eyJpZCI6ICJTdXJpbmFtZSIsICJ0eXBlIjogInZlcnRleCIsICJwcm9wcyI6IHsic2l6ZSI6IDEzLjIyMjIyMjIyMjIyMjIyMX19Cg==');</script>\n",
       "    "
      ],
      "text/plain": [
       "<IPython.core.display.HTML object>"
      ]
     },
     "metadata": {},
     "output_type": "display_data"
    },
    {
     "data": {
      "text/html": [
       "\n",
       "        <div id=\"3p4hUa3AV7Vho2KLH7rgA7\"></div>\n",
       "        <script>netpixi.call('3p4hUa3AV7Vho2KLH7rgA7', 'FiBrqCMcA6f277x2Zu2n23', 'changeGraph', 'eyJpZCI6ICJCcnVuZWkgRGFydXNzYWxhbSIsICJ0eXBlIjogInZlcnRleCIsICJwcm9wcyI6IHsic2l6ZSI6IDEyLjg4ODg4ODg4ODg4ODg5fX0K');</script>\n",
       "    "
      ],
      "text/plain": [
       "<IPython.core.display.HTML object>"
      ]
     },
     "metadata": {},
     "output_type": "display_data"
    },
    {
     "data": {
      "text/html": [
       "\n",
       "        <div id=\"9nWPAfBZmY5LJwLSUw78vv\"></div>\n",
       "        <script>netpixi.call('9nWPAfBZmY5LJwLSUw78vv', 'FiBrqCMcA6f277x2Zu2n23', 'changeGraph', 'eyJpZCI6ICJXYWxsaXMgYW5kIEZ1dHVuYSBJc2xhbmRzICIsICJ0eXBlIjogInZlcnRleCIsICJwcm9wcyI6IHsic2l6ZSI6IDEzLjE2NjY2NjY2NjY2NjY2Nn19Cg==');</script>\n",
       "    "
      ],
      "text/plain": [
       "<IPython.core.display.HTML object>"
      ]
     },
     "metadata": {},
     "output_type": "display_data"
    },
    {
     "data": {
      "text/html": [
       "\n",
       "        <div id=\"HZgBVrMarPtwGs8yTtZFc5\"></div>\n",
       "        <script>netpixi.call('HZgBVrMarPtwGs8yTtZFc5', 'FiBrqCMcA6f277x2Zu2n23', 'changeGraph', 'eyJpZCI6ICJBbmRvcnJhIiwgInR5cGUiOiAidmVydGV4IiwgInByb3BzIjogeyJzaXplIjogMTEuMjc3Nzc3Nzc3Nzc3Nzc5fX0K');</script>\n",
       "    "
      ],
      "text/plain": [
       "<IPython.core.display.HTML object>"
      ]
     },
     "metadata": {},
     "output_type": "display_data"
    },
    {
     "data": {
      "text/html": [
       "\n",
       "        <div id=\"XbNYJ3RnLw5BDDrRdZQrra\"></div>\n",
       "        <script>netpixi.call('XbNYJ3RnLw5BDDrRdZQrra', 'FiBrqCMcA6f277x2Zu2n23', 'changeGraph', 'eyJpZCI6ICJCZWxnaXVtIiwgInR5cGUiOiAidmVydGV4IiwgInByb3BzIjogeyJzaXplIjogNDguMjIyMjIyMjIyMjIyMjJ9fQo=');</script>\n",
       "    "
      ],
      "text/plain": [
       "<IPython.core.display.HTML object>"
      ]
     },
     "metadata": {},
     "output_type": "display_data"
    },
    {
     "data": {
      "text/html": [
       "\n",
       "        <div id=\"38fgnuNMD4bDtGWDd3fUFG\"></div>\n",
       "        <script>netpixi.call('38fgnuNMD4bDtGWDd3fUFG', 'FiBrqCMcA6f277x2Zu2n23', 'changeGraph', 'eyJpZCI6ICJOZXRoZXJsYW5kcyIsICJ0eXBlIjogInZlcnRleCIsICJwcm9wcyI6IHsic2l6ZSI6IDQ4LjB9fQo=');</script>\n",
       "    "
      ],
      "text/plain": [
       "<IPython.core.display.HTML object>"
      ]
     },
     "metadata": {},
     "output_type": "display_data"
    },
    {
     "data": {
      "text/html": [
       "\n",
       "        <div id=\"KYgeHR8GBFDnEJH4UgkJRG\"></div>\n",
       "        <script>netpixi.call('KYgeHR8GBFDnEJH4UgkJRG', 'FiBrqCMcA6f277x2Zu2n23', 'changeGraph', 'eyJpZCI6ICJTd2l0emVybGFuZCIsICJ0eXBlIjogInZlcnRleCIsICJwcm9wcyI6IHsic2l6ZSI6IDQ5LjMzMzMzMzMzMzMzMzMzNn19Cg==');</script>\n",
       "    "
      ],
      "text/plain": [
       "<IPython.core.display.HTML object>"
      ]
     },
     "metadata": {},
     "output_type": "display_data"
    },
    {
     "data": {
      "text/html": [
       "\n",
       "        <div id=\"ibzVQiDSATiLWG7fqXLQim\"></div>\n",
       "        <script>netpixi.call('ibzVQiDSATiLWG7fqXLQim', 'FiBrqCMcA6f277x2Zu2n23', 'changeGraph', 'eyJpZCI6ICJKb3JkYW4iLCAidHlwZSI6ICJ2ZXJ0ZXgiLCAicHJvcHMiOiB7InNpemUiOiAxOC43MjIyMjIyMjIyMjIyMn19Cg==');</script>\n",
       "    "
      ],
      "text/plain": [
       "<IPython.core.display.HTML object>"
      ]
     },
     "metadata": {},
     "output_type": "display_data"
    },
    {
     "data": {
      "text/html": [
       "\n",
       "        <div id=\"Ha3q8pCZSchg5QJsc667Rw\"></div>\n",
       "        <script>netpixi.call('Ha3q8pCZSchg5QJsc667Rw', 'FiBrqCMcA6f277x2Zu2n23', 'changeGraph', 'eyJpZCI6ICJDZW50cmFsIEFmcmljYW4gUmVwLiIsICJ0eXBlIjogInZlcnRleCIsICJwcm9wcyI6IHsic2l6ZSI6IDE3LjIyMjIyMjIyMjIyMjIyfX0K');</script>\n",
       "    "
      ],
      "text/plain": [
       "<IPython.core.display.HTML object>"
      ]
     },
     "metadata": {},
     "output_type": "display_data"
    },
    {
     "data": {
      "text/html": [
       "\n",
       "        <div id=\"RUZUuMHffkDkDbUjU3cjVt\"></div>\n",
       "        <script>netpixi.call('RUZUuMHffkDkDbUjU3cjVt', 'FiBrqCMcA6f277x2Zu2n23', 'changeGraph', 'eyJpZCI6ICJDeXBydXMiLCAidHlwZSI6ICJ2ZXJ0ZXgiLCAicHJvcHMiOiB7InNpemUiOiA0My4zMzMzMzMzMzMzMzMzMzZ9fQo=');</script>\n",
       "    "
      ],
      "text/plain": [
       "<IPython.core.display.HTML object>"
      ]
     },
     "metadata": {},
     "output_type": "display_data"
    },
    {
     "data": {
      "text/html": [
       "\n",
       "        <div id=\"bLNHYghjzh5JgiFmj3vm7z\"></div>\n",
       "        <script>netpixi.call('bLNHYghjzh5JgiFmj3vm7z', 'FiBrqCMcA6f277x2Zu2n23', 'changeGraph', 'eyJpZCI6ICJJbmRvbmVzaWEiLCAidHlwZSI6ICJ2ZXJ0ZXgiLCAicHJvcHMiOiB7InNpemUiOiAxOS43Nzc3Nzc3Nzc3Nzc3OH19Cg==');</script>\n",
       "    "
      ],
      "text/plain": [
       "<IPython.core.display.HTML object>"
      ]
     },
     "metadata": {},
     "output_type": "display_data"
    },
    {
     "data": {
      "text/html": [
       "\n",
       "        <div id=\"iLn2BA3hW4VfkMQXiyEqXY\"></div>\n",
       "        <script>netpixi.call('iLn2BA3hW4VfkMQXiyEqXY', 'FiBrqCMcA6f277x2Zu2n23', 'changeGraph', 'eyJpZCI6ICJDdWJhIiwgInR5cGUiOiAidmVydGV4IiwgInByb3BzIjogeyJzaXplIjogMTUuMjIyMjIyMjIyMjIyMjIxfX0K');</script>\n",
       "    "
      ],
      "text/plain": [
       "<IPython.core.display.HTML object>"
      ]
     },
     "metadata": {},
     "output_type": "display_data"
    },
    {
     "data": {
      "text/html": [
       "\n",
       "        <div id=\"hquTftqY7gWWmiDAZnobbh\"></div>\n",
       "        <script>netpixi.call('hquTftqY7gWWmiDAZnobbh', 'FiBrqCMcA6f277x2Zu2n23', 'changeGraph', 'eyJpZCI6ICJNYWx0YSIsICJ0eXBlIjogInZlcnRleCIsICJwcm9wcyI6IHsic2l6ZSI6IDIwLjB9fQo=');</script>\n",
       "    "
      ],
      "text/plain": [
       "<IPython.core.display.HTML object>"
      ]
     },
     "metadata": {},
     "output_type": "display_data"
    },
    {
     "data": {
      "text/html": [
       "\n",
       "        <div id=\"BRYqYYXvbYugAYBDH885aU\"></div>\n",
       "        <script>netpixi.call('BRYqYYXvbYugAYBDH885aU', 'FiBrqCMcA6f277x2Zu2n23', 'changeGraph', 'eyJpZCI6ICJBbmd1aWxsYSIsICJ0eXBlIjogInZlcnRleCIsICJwcm9wcyI6IHsic2l6ZSI6IDEyLjYxMTExMTExMTExMTExfX0K');</script>\n",
       "    "
      ],
      "text/plain": [
       "<IPython.core.display.HTML object>"
      ]
     },
     "metadata": {},
     "output_type": "display_data"
    },
    {
     "data": {
      "text/html": [
       "\n",
       "        <div id=\"RLjtmsKb9ZcHVEKfnRPQPv\"></div>\n",
       "        <script>netpixi.call('RLjtmsKb9ZcHVEKfnRPQPv', 'FiBrqCMcA6f277x2Zu2n23', 'changeGraph', 'eyJpZCI6ICJLYXpha2hzdGFuIiwgInR5cGUiOiAidmVydGV4IiwgInByb3BzIjogeyJzaXplIjogMTQuNzc3Nzc3Nzc3Nzc3Nzc5fX0K');</script>\n",
       "    "
      ],
      "text/plain": [
       "<IPython.core.display.HTML object>"
      ]
     },
     "metadata": {},
     "output_type": "display_data"
    },
    {
     "data": {
      "text/html": [
       "\n",
       "        <div id=\"fituSnTRQqsQahsFL4Vx2n\"></div>\n",
       "        <script>netpixi.call('fituSnTRQqsQahsFL4Vx2n', 'FiBrqCMcA6f277x2Zu2n23', 'changeGraph', 'eyJpZCI6ICJTYWludCBWaW5jZW50IGFuZCB0aGUgR3JlbmFkaW5lcyIsICJ0eXBlIjogInZlcnRleCIsICJwcm9wcyI6IHsic2l6ZSI6IDEyLjB9fQo=');</script>\n",
       "    "
      ],
      "text/plain": [
       "<IPython.core.display.HTML object>"
      ]
     },
     "metadata": {},
     "output_type": "display_data"
    },
    {
     "data": {
      "text/html": [
       "\n",
       "        <div id=\"jpWwyX2s8cxtDZyK5dzQj6\"></div>\n",
       "        <script>netpixi.call('jpWwyX2s8cxtDZyK5dzQj6', 'FiBrqCMcA6f277x2Zu2n23', 'changeGraph', 'eyJpZCI6ICJDb29rIElzbGFuZHMiLCAidHlwZSI6ICJ2ZXJ0ZXgiLCAicHJvcHMiOiB7InNpemUiOiAxMC42NjY2NjY2NjY2NjY2NjZ9fQo=');</script>\n",
       "    "
      ],
      "text/plain": [
       "<IPython.core.display.HTML object>"
      ]
     },
     "metadata": {},
     "output_type": "display_data"
    },
    {
     "data": {
      "text/html": [
       "\n",
       "        <div id=\"braFS6F4nJLkHzZ63JDQG5\"></div>\n",
       "        <script>netpixi.call('braFS6F4nJLkHzZ63JDQG5', 'FiBrqCMcA6f277x2Zu2n23', 'changeGraph', 'eyJpZCI6ICJCb3Rzd2FuYSIsICJ0eXBlIjogInZlcnRleCIsICJwcm9wcyI6IHsic2l6ZSI6IDE0LjI3Nzc3Nzc3Nzc3Nzc3OX19Cg==');</script>\n",
       "    "
      ],
      "text/plain": [
       "<IPython.core.display.HTML object>"
      ]
     },
     "metadata": {},
     "output_type": "display_data"
    },
    {
     "data": {
      "text/html": [
       "\n",
       "        <div id=\"oUTPTGhpboedMuJpnHCc4A\"></div>\n",
       "        <script>netpixi.call('oUTPTGhpboedMuJpnHCc4A', 'FiBrqCMcA6f277x2Zu2n23', 'changeGraph', 'eyJpZCI6ICJCcmF6aWwiLCAidHlwZSI6ICJ2ZXJ0ZXgiLCAicHJvcHMiOiB7InNpemUiOiA0MS43Nzc3Nzc3Nzc3Nzc3N319Cg==');</script>\n",
       "    "
      ],
      "text/plain": [
       "<IPython.core.display.HTML object>"
      ]
     },
     "metadata": {},
     "output_type": "display_data"
    },
    {
     "data": {
      "text/html": [
       "\n",
       "        <div id=\"6mYXK9X7wdpJB9vrGtDdoy\"></div>\n",
       "        <script>netpixi.call('6mYXK9X7wdpJB9vrGtDdoy', 'FiBrqCMcA6f277x2Zu2n23', 'changeGraph', 'eyJpZCI6ICJLZW55YSIsICJ0eXBlIjogInZlcnRleCIsICJwcm9wcyI6IHsic2l6ZSI6IDE3LjI3Nzc3Nzc3Nzc3Nzc4fX0K');</script>\n",
       "    "
      ],
      "text/plain": [
       "<IPython.core.display.HTML object>"
      ]
     },
     "metadata": {},
     "output_type": "display_data"
    },
    {
     "data": {
      "text/html": [
       "\n",
       "        <div id=\"WCWGx9ykjmbhcmuKTJUdAX\"></div>\n",
       "        <script>netpixi.call('WCWGx9ykjmbhcmuKTJUdAX', 'FiBrqCMcA6f277x2Zu2n23', 'changeGraph', 'eyJpZCI6ICJQZXJ1IiwgInR5cGUiOiAidmVydGV4IiwgInByb3BzIjogeyJzaXplIjogNDIuNjY2NjY2NjY2NjY2NjY0fX0K');</script>\n",
       "    "
      ],
      "text/plain": [
       "<IPython.core.display.HTML object>"
      ]
     },
     "metadata": {},
     "output_type": "display_data"
    },
    {
     "data": {
      "text/html": [
       "\n",
       "        <div id=\"fCxHzvbFbJTvLwpZNskhLB\"></div>\n",
       "        <script>netpixi.call('fCxHzvbFbJTvLwpZNskhLB', 'FiBrqCMcA6f277x2Zu2n23', 'changeGraph', 'eyJpZCI6ICJCdXJ1bmRpIiwgInR5cGUiOiAidmVydGV4IiwgInByb3BzIjogeyJzaXplIjogMTQuMTExMTExMTExMTExMTF9fQo=');</script>\n",
       "    "
      ],
      "text/plain": [
       "<IPython.core.display.HTML object>"
      ]
     },
     "metadata": {},
     "output_type": "display_data"
    },
    {
     "data": {
      "text/html": [
       "\n",
       "        <div id=\"d9GYYayLFBtgewxmHKtA5a\"></div>\n",
       "        <script>netpixi.call('d9GYYayLFBtgewxmHKtA5a', 'FiBrqCMcA6f277x2Zu2n23', 'changeGraph', 'eyJpZCI6ICJOZXcgWmVhbGFuZCIsICJ0eXBlIjogInZlcnRleCIsICJwcm9wcyI6IHsic2l6ZSI6IDQ3LjU1NTU1NTU1NTU1NTU2fX0K');</script>\n",
       "    "
      ],
      "text/plain": [
       "<IPython.core.display.HTML object>"
      ]
     },
     "metadata": {},
     "output_type": "display_data"
    },
    {
     "data": {
      "text/html": [
       "\n",
       "        <div id=\"RcuNxu4UdYAPwr3nYhRvch\"></div>\n",
       "        <script>netpixi.call('RcuNxu4UdYAPwr3nYhRvch', 'FiBrqCMcA6f277x2Zu2n23', 'changeGraph', 'eyJpZCI6ICJHZW9yZ2lhIiwgInR5cGUiOiAidmVydGV4IiwgInByb3BzIjogeyJzaXplIjogMTYuMjc3Nzc3Nzc3Nzc3Nzh9fQo=');</script>\n",
       "    "
      ],
      "text/plain": [
       "<IPython.core.display.HTML object>"
      ]
     },
     "metadata": {},
     "output_type": "display_data"
    },
    {
     "data": {
      "text/html": [
       "\n",
       "        <div id=\"JCvBYGzZkuzcLzghD8Gwsc\"></div>\n",
       "        <script>netpixi.call('JCvBYGzZkuzcLzghD8Gwsc', 'FiBrqCMcA6f277x2Zu2n23', 'changeGraph', 'eyJpZCI6ICJGcmVuY2ggUG9seW5lc2lhIiwgInR5cGUiOiAidmVydGV4IiwgInByb3BzIjogeyJzaXplIjogMTMuOTQ0NDQ0NDQ0NDQ0NDQ1fX0K');</script>\n",
       "    "
      ],
      "text/plain": [
       "<IPython.core.display.HTML object>"
      ]
     },
     "metadata": {},
     "output_type": "display_data"
    },
    {
     "data": {
      "text/html": [
       "\n",
       "        <div id=\"XwwU74EDAUEg3NjGLva53A\"></div>\n",
       "        <script>netpixi.call('XwwU74EDAUEg3NjGLva53A', 'FiBrqCMcA6f277x2Zu2n23', 'changeGraph', 'eyJpZCI6ICJGcmVuY2ggR3VpYW5hIiwgInR5cGUiOiAidmVydGV4IiwgInByb3BzIjogeyJzaXplIjogMTEuMzMzMzMzMzMzMzMzMzM0fX0K');</script>\n",
       "    "
      ],
      "text/plain": [
       "<IPython.core.display.HTML object>"
      ]
     },
     "metadata": {},
     "output_type": "display_data"
    },
    {
     "data": {
      "text/html": [
       "\n",
       "        <div id=\"YixHfhh6mtJu8YMSQX8ztA\"></div>\n",
       "        <script>netpixi.call('YixHfhh6mtJu8YMSQX8ztA', 'FiBrqCMcA6f277x2Zu2n23', 'changeGraph', 'eyJpZCI6ICJPbWFuIiwgInR5cGUiOiAidmVydGV4IiwgInByb3BzIjogeyJzaXplIjogMTMuNTU1NTU1NTU1NTU1NTU1fX0K');</script>\n",
       "    "
      ],
      "text/plain": [
       "<IPython.core.display.HTML object>"
      ]
     },
     "metadata": {},
     "output_type": "display_data"
    },
    {
     "data": {
      "text/html": [
       "\n",
       "        <div id=\"hQUUNe9Py4MvBocUSWsaov\"></div>\n",
       "        <script>netpixi.call('hQUUNe9Py4MvBocUSWsaov', 'FiBrqCMcA6f277x2Zu2n23', 'changeGraph', 'eyJpZCI6ICJBbWVyaWNhbiBTYW1vYSIsICJ0eXBlIjogInZlcnRleCIsICJwcm9wcyI6IHsic2l6ZSI6IDEzLjM4ODg4ODg4ODg4ODg5fX0K');</script>\n",
       "    "
      ],
      "text/plain": [
       "<IPython.core.display.HTML object>"
      ]
     },
     "metadata": {},
     "output_type": "display_data"
    },
    {
     "data": {
      "text/html": [
       "\n",
       "        <div id=\"Yi7idJYd5HoWgwLMditxyo\"></div>\n",
       "        <script>netpixi.call('Yi7idJYd5HoWgwLMditxyo', 'FiBrqCMcA6f277x2Zu2n23', 'changeGraph', 'eyJpZCI6ICJCaHV0YW4iLCAidHlwZSI6ICJ2ZXJ0ZXgiLCAicHJvcHMiOiB7InNpemUiOiAxMy4xMTExMTExMTExMTExMX19Cg==');</script>\n",
       "    "
      ],
      "text/plain": [
       "<IPython.core.display.HTML object>"
      ]
     },
     "metadata": {},
     "output_type": "display_data"
    },
    {
     "data": {
      "text/html": [
       "\n",
       "        <div id=\"nALF7uJaBw6APFaXPzETLD\"></div>\n",
       "        <script>netpixi.call('nALF7uJaBw6APFaXPzETLD', 'FiBrqCMcA6f277x2Zu2n23', 'changeGraph', 'eyJpZCI6ICJTYWludC1QaWVycmUtZXQtTWlxdWVsb24iLCAidHlwZSI6ICJ2ZXJ0ZXgiLCAicHJvcHMiOiB7InNpemUiOiAxMi45NDQ0NDQ0NDQ0NDQ0NDV9fQo=');</script>\n",
       "    "
      ],
      "text/plain": [
       "<IPython.core.display.HTML object>"
      ]
     },
     "metadata": {},
     "output_type": "display_data"
    },
    {
     "data": {
      "text/html": [
       "\n",
       "        <div id=\"exc3AatKUmxroWVibRZVG4\"></div>\n",
       "        <script>netpixi.call('exc3AatKUmxroWVibRZVG4', 'FiBrqCMcA6f277x2Zu2n23', 'changeGraph', 'eyJpZCI6ICJWYW51YXR1IiwgInR5cGUiOiAidmVydGV4IiwgInByb3BzIjogeyJzaXplIjogMTMuMDU1NTU1NTU1NTU1NTU1fX0K');</script>\n",
       "    "
      ],
      "text/plain": [
       "<IPython.core.display.HTML object>"
      ]
     },
     "metadata": {},
     "output_type": "display_data"
    },
    {
     "data": {
      "text/html": [
       "\n",
       "        <div id=\"e8tSXmP5nUsK8vK9CLF8T9\"></div>\n",
       "        <script>netpixi.call('e8tSXmP5nUsK8vK9CLF8T9', 'FiBrqCMcA6f277x2Zu2n23', 'changeGraph', 'eyJpZCI6ICJNYXJzaGFsbCBJc2xhbmRzIiwgInR5cGUiOiAidmVydGV4IiwgInByb3BzIjogeyJzaXplIjogMTAuNjExMTExMTExMTExMTF9fQo=');</script>\n",
       "    "
      ],
      "text/plain": [
       "<IPython.core.display.HTML object>"
      ]
     },
     "metadata": {},
     "output_type": "display_data"
    },
    {
     "data": {
      "text/html": [
       "\n",
       "        <div id=\"7YpueJQz8tTzPE7pFML9Z2\"></div>\n",
       "        <script>netpixi.call('7YpueJQz8tTzPE7pFML9Z2', 'FiBrqCMcA6f277x2Zu2n23', 'changeGraph', 'eyJpZCI6ICJHdXlhbmEiLCAidHlwZSI6ICJ2ZXJ0ZXgiLCAicHJvcHMiOiB7InNpemUiOiAxMC41fX0K');</script>\n",
       "    "
      ],
      "text/plain": [
       "<IPython.core.display.HTML object>"
      ]
     },
     "metadata": {},
     "output_type": "display_data"
    },
    {
     "data": {
      "text/html": [
       "\n",
       "        <div id=\"AdGPH47fXdWScKdytxYnA5\"></div>\n",
       "        <script>netpixi.call('AdGPH47fXdWScKdytxYnA5', 'FiBrqCMcA6f277x2Zu2n23', 'changeGraph', 'eyJpZCI6ICJSdXNzaWFuIEZlZGVyYXRpb24iLCAidHlwZSI6ICJ2ZXJ0ZXgiLCAicHJvcHMiOiB7InNpemUiOiA0MS4zMzMzMzMzMzMzMzMzM319Cg==');</script>\n",
       "    "
      ],
      "text/plain": [
       "<IPython.core.display.HTML object>"
      ]
     },
     "metadata": {},
     "output_type": "display_data"
    },
    {
     "data": {
      "text/html": [
       "\n",
       "        <div id=\"2YysjzZtGzaPqBJsUxLNgY\"></div>\n",
       "        <script>netpixi.call('2YysjzZtGzaPqBJsUxLNgY', 'FiBrqCMcA6f277x2Zu2n23', 'changeGraph', 'eyJpZCI6ICJEb21pbmljYW4gUmVwLiIsICJ0eXBlIjogInZlcnRleCIsICJwcm9wcyI6IHsic2l6ZSI6IDE0LjA1NTU1NTU1NTU1NTU1NX19Cg==');</script>\n",
       "    "
      ],
      "text/plain": [
       "<IPython.core.display.HTML object>"
      ]
     },
     "metadata": {},
     "output_type": "display_data"
    },
    {
     "data": {
      "text/html": [
       "\n",
       "        <div id=\"NySG7VTB8Nurz28eqM5PmR\"></div>\n",
       "        <script>netpixi.call('NySG7VTB8Nurz28eqM5PmR', 'FiBrqCMcA6f277x2Zu2n23', 'changeGraph', 'eyJpZCI6ICJRYXRhciIsICJ0eXBlIjogInZlcnRleCIsICJwcm9wcyI6IHsic2l6ZSI6IDE0LjIyMjIyMjIyMjIyMjIyMX19Cg==');</script>\n",
       "    "
      ],
      "text/plain": [
       "<IPython.core.display.HTML object>"
      ]
     },
     "metadata": {},
     "output_type": "display_data"
    },
    {
     "data": {
      "text/html": [
       "\n",
       "        <div id=\"YD3HFZkjpCVNVtHLcuoNAc\"></div>\n",
       "        <script>netpixi.call('YD3HFZkjpCVNVtHLcuoNAc', 'FiBrqCMcA6f277x2Zu2n23', 'changeGraph', 'eyJpZCI6ICJTdWRhbiIsICJ0eXBlIjogInZlcnRleCIsICJwcm9wcyI6IHsic2l6ZSI6IDE5LjM4ODg4ODg4ODg4ODg5fX0K');</script>\n",
       "    "
      ],
      "text/plain": [
       "<IPython.core.display.HTML object>"
      ]
     },
     "metadata": {},
     "output_type": "display_data"
    },
    {
     "data": {
      "text/html": [
       "\n",
       "        <div id=\"GrjQjGSbssYUwnbPkHi3H8\"></div>\n",
       "        <script>netpixi.call('GrjQjGSbssYUwnbPkHi3H8', 'FiBrqCMcA6f277x2Zu2n23', 'changeGraph', 'eyJpZCI6ICJNYXJ0aW5pcXVlIiwgInR5cGUiOiAidmVydGV4IiwgInByb3BzIjogeyJzaXplIjogMTAuNzIyMjIyMjIyMjIyMjIxfX0K');</script>\n",
       "    "
      ],
      "text/plain": [
       "<IPython.core.display.HTML object>"
      ]
     },
     "metadata": {},
     "output_type": "display_data"
    },
    {
     "data": {
      "text/html": [
       "\n",
       "        <div id=\"Vps3vAfTSFdnzk4wc7oujH\"></div>\n",
       "        <script>netpixi.call('Vps3vAfTSFdnzk4wc7oujH', 'FiBrqCMcA6f277x2Zu2n23', 'changeGraph', 'eyJpZCI6ICJCb2xpdmlhIChQbHVyaW5hdGlvbmFsIFN0YXRlIG9mKSIsICJ0eXBlIjogInZlcnRleCIsICJwcm9wcyI6IHsic2l6ZSI6IDE4LjI3Nzc3Nzc3Nzc3Nzc4fX0K');</script>\n",
       "    "
      ],
      "text/plain": [
       "<IPython.core.display.HTML object>"
      ]
     },
     "metadata": {},
     "output_type": "display_data"
    },
    {
     "data": {
      "text/html": [
       "\n",
       "        <div id=\"DGWqpuKCV9sK2zPZpnzCCq\"></div>\n",
       "        <script>netpixi.call('DGWqpuKCV9sK2zPZpnzCCq', 'FiBrqCMcA6f277x2Zu2n23', 'changeGraph', 'eyJpZCI6ICJOaWNhcmFndWEiLCAidHlwZSI6ICJ2ZXJ0ZXgiLCAicHJvcHMiOiB7InNpemUiOiAxOS41NTU1NTU1NTU1NTU1NTd9fQo=');</script>\n",
       "    "
      ],
      "text/plain": [
       "<IPython.core.display.HTML object>"
      ]
     },
     "metadata": {},
     "output_type": "display_data"
    },
    {
     "data": {
      "text/html": [
       "\n",
       "        <div id=\"mLcJEGVJhh3UX6Uk2cit8J\"></div>\n",
       "        <script>netpixi.call('mLcJEGVJhh3UX6Uk2cit8J', 'FiBrqCMcA6f277x2Zu2n23', 'changeGraph', 'eyJpZCI6ICJDaGluYSIsICJ0eXBlIjogInZlcnRleCIsICJwcm9wcyI6IHsic2l6ZSI6IDE5LjI3Nzc3Nzc3Nzc3Nzc4fX0K');</script>\n",
       "    "
      ],
      "text/plain": [
       "<IPython.core.display.HTML object>"
      ]
     },
     "metadata": {},
     "output_type": "display_data"
    },
    {
     "data": {
      "text/html": [
       "\n",
       "        <div id=\"VzrCJn8yviqqMuiFwwdVFZ\"></div>\n",
       "        <script>netpixi.call('VzrCJn8yviqqMuiFwwdVFZ', 'FiBrqCMcA6f277x2Zu2n23', 'changeGraph', 'eyJpZCI6ICJUdXJrcyBhbmQgQ2FpY29zIElzbGFuZHMiLCAidHlwZSI6ICJ2ZXJ0ZXgiLCAicHJvcHMiOiB7InNpemUiOiAxMS4xNjY2NjY2NjY2NjY2NjZ9fQo=');</script>\n",
       "    "
      ],
      "text/plain": [
       "<IPython.core.display.HTML object>"
      ]
     },
     "metadata": {},
     "output_type": "display_data"
    },
    {
     "data": {
      "text/html": [
       "\n",
       "        <div id=\"MCcwGt6KyxFZ2xxHMezEuF\"></div>\n",
       "        <script>netpixi.call('MCcwGt6KyxFZ2xxHMezEuF', 'FiBrqCMcA6f277x2Zu2n23', 'changeGraph', 'eyJpZCI6ICJDYXltYW4gSXNsYW5kcyIsICJ0eXBlIjogInZlcnRleCIsICJwcm9wcyI6IHsic2l6ZSI6IDE1LjExMTExMTExMTExMTExfX0K');</script>\n",
       "    "
      ],
      "text/plain": [
       "<IPython.core.display.HTML object>"
      ]
     },
     "metadata": {},
     "output_type": "display_data"
    },
    {
     "data": {
      "text/html": [
       "\n",
       "        <div id=\"8cs8qdZB8FiJwR2TkHHS2q\"></div>\n",
       "        <script>netpixi.call('8cs8qdZB8FiJwR2TkHHS2q', 'FiBrqCMcA6f277x2Zu2n23', 'changeGraph', 'eyJpZCI6ICJCcml0aXNoIFZpcmdpbiBJc2xhbmRzIiwgInR5cGUiOiAidmVydGV4IiwgInByb3BzIjogeyJzaXplIjogMTEuNzc3Nzc3Nzc3Nzc3Nzc5fX0K');</script>\n",
       "    "
      ],
      "text/plain": [
       "<IPython.core.display.HTML object>"
      ]
     },
     "metadata": {},
     "output_type": "display_data"
    },
    {
     "data": {
      "text/html": [
       "\n",
       "        <div id=\"ZeRNLy5tF86RE9LeceBxDw\"></div>\n",
       "        <script>netpixi.call('ZeRNLy5tF86RE9LeceBxDw', 'FiBrqCMcA6f277x2Zu2n23', 'changeGraph', 'eyJpZCI6ICJBcm1lbmlhIiwgInR5cGUiOiAidmVydGV4IiwgInByb3BzIjogeyJzaXplIjogMTYuMjIyMjIyMjIyMjIyMjJ9fQo=');</script>\n",
       "    "
      ],
      "text/plain": [
       "<IPython.core.display.HTML object>"
      ]
     },
     "metadata": {},
     "output_type": "display_data"
    },
    {
     "data": {
      "text/html": [
       "\n",
       "        <div id=\"WAHeEQMyGWVynVmTF4zrPM\"></div>\n",
       "        <script>netpixi.call('WAHeEQMyGWVynVmTF4zrPM', 'FiBrqCMcA6f277x2Zu2n23', 'changeGraph', 'eyJpZCI6ICJDb21vcm9zIiwgInR5cGUiOiAidmVydGV4IiwgInByb3BzIjogeyJzaXplIjogMTIuMjc3Nzc3Nzc3Nzc3Nzc5fX0K');</script>\n",
       "    "
      ],
      "text/plain": [
       "<IPython.core.display.HTML object>"
      ]
     },
     "metadata": {},
     "output_type": "display_data"
    },
    {
     "data": {
      "text/html": [
       "\n",
       "        <div id=\"Ljueq8XjkGkAcmjptuRJf5\"></div>\n",
       "        <script>netpixi.call('Ljueq8XjkGkAcmjptuRJf5', 'FiBrqCMcA6f277x2Zu2n23', 'changeGraph', 'eyJpZCI6ICJTaWVycmEgTGVvbmUiLCAidHlwZSI6ICJ2ZXJ0ZXgiLCAicHJvcHMiOiB7InNpemUiOiAxNC44MzMzMzMzMzMzMzMzMzJ9fQo=');</script>\n",
       "    "
      ],
      "text/plain": [
       "<IPython.core.display.HTML object>"
      ]
     },
     "metadata": {},
     "output_type": "display_data"
    },
    {
     "data": {
      "text/html": [
       "\n",
       "        <div id=\"MJCnrVLjkVLU78pzJZs3Er\"></div>\n",
       "        <script>netpixi.call('MJCnrVLjkVLU78pzJZs3Er', 'FiBrqCMcA6f277x2Zu2n23', 'changeGraph', 'eyJpZCI6ICJMYXR2aWEiLCAidHlwZSI6ICJ2ZXJ0ZXgiLCAicHJvcHMiOiB7InNpemUiOiAxOS42NjY2NjY2NjY2NjY2NjR9fQo=');</script>\n",
       "    "
      ],
      "text/plain": [
       "<IPython.core.display.HTML object>"
      ]
     },
     "metadata": {},
     "output_type": "display_data"
    },
    {
     "data": {
      "text/html": [
       "\n",
       "        <div id=\"kMzLi67kqB3iTX6Cz9QfUT\"></div>\n",
       "        <script>netpixi.call('kMzLi67kqB3iTX6Cz9QfUT', 'FiBrqCMcA6f277x2Zu2n23', 'changeGraph', 'eyJpZCI6ICJQb3J0dWdhbCIsICJ0eXBlIjogInZlcnRleCIsICJwcm9wcyI6IHsic2l6ZSI6IDE4LjMzMzMzMzMzMzMzMzMzNn19Cg==');</script>\n",
       "    "
      ],
      "text/plain": [
       "<IPython.core.display.HTML object>"
      ]
     },
     "metadata": {},
     "output_type": "display_data"
    },
    {
     "data": {
      "text/html": [
       "\n",
       "        <div id=\"aRzGMy4Dz6KJMJvz5qdapv\"></div>\n",
       "        <script>netpixi.call('aRzGMy4Dz6KJMJvz5qdapv', 'FiBrqCMcA6f277x2Zu2n23', 'changeGraph', 'eyJpZCI6ICJMYW8gUGVvcGxlJ3MgRGVtLiBSZXAuIiwgInR5cGUiOiAidmVydGV4IiwgInByb3BzIjogeyJzaXplIjogMTQuNDQ0NDQ0NDQ0NDQ0NDQ1fX0K');</script>\n",
       "    "
      ],
      "text/plain": [
       "<IPython.core.display.HTML object>"
      ]
     },
     "metadata": {},
     "output_type": "display_data"
    },
    {
     "data": {
      "text/html": [
       "\n",
       "        <div id=\"PkcQg2nDiHwsjyss9T29oA\"></div>\n",
       "        <script>netpixi.call('PkcQg2nDiHwsjyss9T29oA', 'FiBrqCMcA6f277x2Zu2n23', 'changeGraph', 'eyJpZCI6ICJDb3N0YSBSaWNhIiwgInR5cGUiOiAidmVydGV4IiwgInByb3BzIjogeyJzaXplIjogNDEuMTExMTExMTExMTExMTE0fX0K');</script>\n",
       "    "
      ],
      "text/plain": [
       "<IPython.core.display.HTML object>"
      ]
     },
     "metadata": {},
     "output_type": "display_data"
    },
    {
     "data": {
      "text/html": [
       "\n",
       "        <div id=\"VjVhhV6hYnkmkE5Y2cFHKM\"></div>\n",
       "        <script>netpixi.call('VjVhhV6hYnkmkE5Y2cFHKM', 'FiBrqCMcA6f277x2Zu2n23', 'changeGraph', 'eyJpZCI6ICJOaWdlciIsICJ0eXBlIjogInZlcnRleCIsICJwcm9wcyI6IHsic2l6ZSI6IDE1LjB9fQo=');</script>\n",
       "    "
      ],
      "text/plain": [
       "<IPython.core.display.HTML object>"
      ]
     },
     "metadata": {},
     "output_type": "display_data"
    },
    {
     "data": {
      "text/html": [
       "\n",
       "        <div id=\"PrKxpmz8KWeykJd4APxDgf\"></div>\n",
       "        <script>netpixi.call('PrKxpmz8KWeykJd4APxDgf', 'FiBrqCMcA6f277x2Zu2n23', 'changeGraph', 'eyJpZCI6ICJBdXN0cmFsaWEiLCAidHlwZSI6ICJ2ZXJ0ZXgiLCAicHJvcHMiOiB7InNpemUiOiA0OC42NjY2NjY2NjY2NjY2NjR9fQo=');</script>\n",
       "    "
      ],
      "text/plain": [
       "<IPython.core.display.HTML object>"
      ]
     },
     "metadata": {},
     "output_type": "display_data"
    },
    {
     "data": {
      "text/html": [
       "\n",
       "        <div id=\"imTjscZzu4XJ6DRTyi9Cj5\"></div>\n",
       "        <script>netpixi.call('imTjscZzu4XJ6DRTyi9Cj5', 'FiBrqCMcA6f277x2Zu2n23', 'changeGraph', 'eyJpZCI6ICJVbml0ZWQgUmVwLiBvZiBUYW56YW5pYSIsICJ0eXBlIjogInZlcnRleCIsICJwcm9wcyI6IHsic2l6ZSI6IDE0LjM4ODg4ODg4ODg4ODg5fX0K');</script>\n",
       "    "
      ],
      "text/plain": [
       "<IPython.core.display.HTML object>"
      ]
     },
     "metadata": {},
     "output_type": "display_data"
    },
    {
     "data": {
      "text/html": [
       "\n",
       "        <div id=\"R4DQnFxLq9nC5ymgdREvXL\"></div>\n",
       "        <script>netpixi.call('R4DQnFxLq9nC5ymgdREvXL', 'FiBrqCMcA6f277x2Zu2n23', 'changeGraph', 'eyJpZCI6ICJQYWxhdSIsICJ0eXBlIjogInZlcnRleCIsICJwcm9wcyI6IHsic2l6ZSI6IDE0LjE2NjY2NjY2NjY2NjY2OH19Cg==');</script>\n",
       "    "
      ],
      "text/plain": [
       "<IPython.core.display.HTML object>"
      ]
     },
     "metadata": {},
     "output_type": "display_data"
    },
    {
     "data": {
      "text/html": [
       "\n",
       "        <div id=\"CntFjJTureGC3pGa3mDH6X\"></div>\n",
       "        <script>netpixi.call('CntFjJTureGC3pGa3mDH6X', 'FiBrqCMcA6f277x2Zu2n23', 'changeGraph', 'eyJpZCI6ICJMdXhlbWJvdXJnIiwgInR5cGUiOiAidmVydGV4IiwgInByb3BzIjogeyJzaXplIjogNDAuNjY2NjY2NjY2NjY2Njd9fQo=');</script>\n",
       "    "
      ],
      "text/plain": [
       "<IPython.core.display.HTML object>"
      ]
     },
     "metadata": {},
     "output_type": "display_data"
    },
    {
     "data": {
      "text/html": [
       "\n",
       "        <div id=\"3ALwgmwssjFuymvQskFzy2\"></div>\n",
       "        <script>netpixi.call('3ALwgmwssjFuymvQskFzy2', 'FiBrqCMcA6f277x2Zu2n23', 'changeGraph', 'eyJpZCI6ICJNYXVyaXRpdXMiLCAidHlwZSI6ICJ2ZXJ0ZXgiLCAicHJvcHMiOiB7InNpemUiOiAxMS42MTExMTExMTExMTExMX19Cg==');</script>\n",
       "    "
      ],
      "text/plain": [
       "<IPython.core.display.HTML object>"
      ]
     },
     "metadata": {},
     "output_type": "display_data"
    },
    {
     "data": {
      "text/html": [
       "\n",
       "        <div id=\"o8HXaj632Wr44D4JV2SRdT\"></div>\n",
       "        <script>netpixi.call('o8HXaj632Wr44D4JV2SRdT', 'FiBrqCMcA6f277x2Zu2n23', 'changeGraph', 'eyJpZCI6ICJTZXJiaWEgYW5kIEtvc292byAoUy9SRVMvMTI0NCAoMTk5OSkpIiwgInR5cGUiOiAidmVydGV4IiwgInByb3BzIjogeyJzaXplIjogNDMuNTU1NTU1NTU1NTU1NTZ9fQo=');</script>\n",
       "    "
      ],
      "text/plain": [
       "<IPython.core.display.HTML object>"
      ]
     },
     "metadata": {},
     "output_type": "display_data"
    },
    {
     "data": {
      "text/html": [
       "\n",
       "        <div id=\"JjpDLRWE6282X9aHD3ma2N\"></div>\n",
       "        <script>netpixi.call('JjpDLRWE6282X9aHD3ma2N', 'FiBrqCMcA6f277x2Zu2n23', 'changeGraph', 'eyJpZCI6ICJQYWxlc3RpbmlhbiIsICJ0eXBlIjogInZlcnRleCIsICJwcm9wcyI6IHsic2l6ZSI6IDE0LjY2NjY2NjY2NjY2NjY2OH19Cg==');</script>\n",
       "    "
      ],
      "text/plain": [
       "<IPython.core.display.HTML object>"
      ]
     },
     "metadata": {},
     "output_type": "display_data"
    },
    {
     "data": {
      "text/html": [
       "\n",
       "        <div id=\"9vEezKpAc7V2HX8TdgSfZD\"></div>\n",
       "        <script>netpixi.call('9vEezKpAc7V2HX8TdgSfZD', 'FiBrqCMcA6f277x2Zu2n23', 'changeGraph', 'eyJpZCI6ICJDaGlsZSIsICJ0eXBlIjogInZlcnRleCIsICJwcm9wcyI6IHsic2l6ZSI6IDE2LjcyMjIyMjIyMjIyMjIyfX0K');</script>\n",
       "    "
      ],
      "text/plain": [
       "<IPython.core.display.HTML object>"
      ]
     },
     "metadata": {},
     "output_type": "display_data"
    },
    {
     "data": {
      "text/html": [
       "\n",
       "        <div id=\"H7LYiwsNQ8YqyRQoRUEEoo\"></div>\n",
       "        <script>netpixi.call('H7LYiwsNQ8YqyRQoRUEEoo', 'FiBrqCMcA6f277x2Zu2n23', 'changeGraph', 'eyJpZCI6ICJDaGluYSwgTWFjYW8gU0FSIiwgInR5cGUiOiAidmVydGV4IiwgInByb3BzIjogeyJzaXplIjogMTQuMzMzMzMzMzMzMzMzMzM0fX0K');</script>\n",
       "    "
      ],
      "text/plain": [
       "<IPython.core.display.HTML object>"
      ]
     },
     "metadata": {},
     "output_type": "display_data"
    },
    {
     "data": {
      "text/html": [
       "\n",
       "        <div id=\"j55L67h8UKqvphZ646hvMg\"></div>\n",
       "        <script>netpixi.call('j55L67h8UKqvphZ646hvMg', 'FiBrqCMcA6f277x2Zu2n23', 'changeGraph', 'eyJpZCI6ICJFcml0cmVhIiwgInR5cGUiOiAidmVydGV4IiwgInByb3BzIjogeyJzaXplIjogMTIuMzMzMzMzMzMzMzMzMzM0fX0K');</script>\n",
       "    "
      ],
      "text/plain": [
       "<IPython.core.display.HTML object>"
      ]
     },
     "metadata": {},
     "output_type": "display_data"
    },
    {
     "data": {
      "text/html": [
       "\n",
       "        <div id=\"i6REjAgy93hFdpbaGNZnYw\"></div>\n",
       "        <script>netpixi.call('i6REjAgy93hFdpbaGNZnYw', 'FiBrqCMcA6f277x2Zu2n23', 'changeGraph', 'eyJpZCI6ICJNb25hY28iLCAidHlwZSI6ICJ2ZXJ0ZXgiLCAicHJvcHMiOiB7InNpemUiOiAxNC4wfX0K');</script>\n",
       "    "
      ],
      "text/plain": [
       "<IPython.core.display.HTML object>"
      ]
     },
     "metadata": {},
     "output_type": "display_data"
    },
    {
     "data": {
      "text/html": [
       "\n",
       "        <div id=\"94Z6UDMM49uKtYxLmGFk2K\"></div>\n",
       "        <script>netpixi.call('94Z6UDMM49uKtYxLmGFk2K', 'FiBrqCMcA6f277x2Zu2n23', 'changeGraph', 'eyJpZCI6ICJUb25nYSIsICJ0eXBlIjogInZlcnRleCIsICJwcm9wcyI6IHsic2l6ZSI6IDEzLjB9fQo=');</script>\n",
       "    "
      ],
      "text/plain": [
       "<IPython.core.display.HTML object>"
      ]
     },
     "metadata": {},
     "output_type": "display_data"
    },
    {
     "data": {
      "text/html": [
       "\n",
       "        <div id=\"Dko7whcNREgnBYSt3mdWD8\"></div>\n",
       "        <script>netpixi.call('Dko7whcNREgnBYSt3mdWD8', 'FiBrqCMcA6f277x2Zu2n23', 'changeGraph', 'eyJpZCI6ICJQYXB1YSBOZXcgR3VpbmVhIiwgInR5cGUiOiAidmVydGV4IiwgInByb3BzIjogeyJzaXplIjogMTYuNX19Cg==');</script>\n",
       "    "
      ],
      "text/plain": [
       "<IPython.core.display.HTML object>"
      ]
     },
     "metadata": {},
     "output_type": "display_data"
    },
    {
     "data": {
      "text/html": [
       "\n",
       "        <div id=\"d8YSwNkomQA4tNBCB979nT\"></div>\n",
       "        <script>netpixi.call('d8YSwNkomQA4tNBCB979nT', 'FiBrqCMcA6f277x2Zu2n23', 'changeGraph', 'eyJpZCI6ICJNZXhpY28iLCAidHlwZSI6ICJ2ZXJ0ZXgiLCAicHJvcHMiOiB7InNpemUiOiA0NC4wfX0K');</script>\n",
       "    "
      ],
      "text/plain": [
       "<IPython.core.display.HTML object>"
      ]
     },
     "metadata": {},
     "output_type": "display_data"
    },
    {
     "data": {
      "text/html": [
       "\n",
       "        <div id=\"DairoEvDZEd79hUHQXL48T\"></div>\n",
       "        <script>netpixi.call('DairoEvDZEd79hUHQXL48T', 'FiBrqCMcA6f277x2Zu2n23', 'changeGraph', 'eyJpZCI6ICJaYW1iaWEiLCAidHlwZSI6ICJ2ZXJ0ZXgiLCAicHJvcHMiOiB7InNpemUiOiAxNS4xNjY2NjY2NjY2NjY2Njh9fQo=');</script>\n",
       "    "
      ],
      "text/plain": [
       "<IPython.core.display.HTML object>"
      ]
     },
     "metadata": {},
     "output_type": "display_data"
    },
    {
     "data": {
      "text/html": [
       "\n",
       "        <div id=\"UdiNwT4SdhKnnkNMptq5A4\"></div>\n",
       "        <script>netpixi.call('UdiNwT4SdhKnnkNMptq5A4', 'FiBrqCMcA6f277x2Zu2n23', 'changeGraph', 'eyJpZCI6ICJCb25haXJlIiwgInR5cGUiOiAidmVydGV4IiwgInByb3BzIjogeyJzaXplIjogMTMuNjExMTExMTExMTExMTF9fQo=');</script>\n",
       "    "
      ],
      "text/plain": [
       "<IPython.core.display.HTML object>"
      ]
     },
     "metadata": {},
     "output_type": "display_data"
    },
    {
     "data": {
      "text/html": [
       "\n",
       "        <div id=\"AiwfKJG54NBpMHg5RHP3QJ\"></div>\n",
       "        <script>netpixi.call('AiwfKJG54NBpMHg5RHP3QJ', 'FiBrqCMcA6f277x2Zu2n23', 'changeGraph', 'eyJpZCI6ICJDcm9hdGlhIiwgInR5cGUiOiAidmVydGV4IiwgInByb3BzIjogeyJzaXplIjogNDAuODg4ODg4ODg4ODg4ODg2fX0K');</script>\n",
       "    "
      ],
      "text/plain": [
       "<IPython.core.display.HTML object>"
      ]
     },
     "metadata": {},
     "output_type": "display_data"
    },
    {
     "data": {
      "text/html": [
       "\n",
       "        <div id=\"jqJTC9jY4pRSGEo877sav2\"></div>\n",
       "        <script>netpixi.call('jqJTC9jY4pRSGEo877sav2', 'FiBrqCMcA6f277x2Zu2n23', 'changeGraph', 'eyJpZCI6ICJVbml0ZWQgS2luZ2RvbSIsICJ0eXBlIjogInZlcnRleCIsICJwcm9wcyI6IHsic2l6ZSI6IDQ5LjExMTExMTExMTExMTExfX0K');</script>\n",
       "    "
      ],
      "text/plain": [
       "<IPython.core.display.HTML object>"
      ]
     },
     "metadata": {},
     "output_type": "display_data"
    },
    {
     "data": {
      "text/html": [
       "\n",
       "        <div id=\"RptBAMGsYQSrADhcohicLB\"></div>\n",
       "        <script>netpixi.call('RptBAMGsYQSrADhcohicLB', 'FiBrqCMcA6f277x2Zu2n23', 'changeGraph', 'eyJpZCI6ICJLaXJpYmF0aSIsICJ0eXBlIjogInZlcnRleCIsICJwcm9wcyI6IHsic2l6ZSI6IDExLjIyMjIyMjIyMjIyMjIyMX19Cg==');</script>\n",
       "    "
      ],
      "text/plain": [
       "<IPython.core.display.HTML object>"
      ]
     },
     "metadata": {},
     "output_type": "display_data"
    },
    {
     "data": {
      "text/html": [
       "\n",
       "        <div id=\"CRunNruwag8GuUsXXoYVW9\"></div>\n",
       "        <script>netpixi.call('CRunNruwag8GuUsXXoYVW9', 'FiBrqCMcA6f277x2Zu2n23', 'changeGraph', 'eyJpZCI6ICJTaW5nYXBvcmUiLCAidHlwZSI6ICJ2ZXJ0ZXgiLCAicHJvcHMiOiB7InNpemUiOiAxMS4wfX0K');</script>\n",
       "    "
      ],
      "text/plain": [
       "<IPython.core.display.HTML object>"
      ]
     },
     "metadata": {},
     "output_type": "display_data"
    },
    {
     "data": {
      "text/html": [
       "\n",
       "        <div id=\"jxDB4p3AWXB2YZjStdiQaS\"></div>\n",
       "        <script>netpixi.call('jxDB4p3AWXB2YZjStdiQaS', 'FiBrqCMcA6f277x2Zu2n23', 'changeGraph', 'eyJpZCI6ICJUYWppa2lzdGFuIiwgInR5cGUiOiAidmVydGV4IiwgInByb3BzIjogeyJzaXplIjogMTUuMzMzMzMzMzMzMzMzMzMyfX0K');</script>\n",
       "    "
      ],
      "text/plain": [
       "<IPython.core.display.HTML object>"
      ]
     },
     "metadata": {},
     "output_type": "display_data"
    },
    {
     "data": {
      "text/html": [
       "\n",
       "        <div id=\"5Tnp6LmhGLYHSsyqCcab5K\"></div>\n",
       "        <script>netpixi.call('5Tnp6LmhGLYHSsyqCcab5K', 'FiBrqCMcA6f277x2Zu2n23', 'changeGraph', 'eyJpZCI6ICJJcmFxIiwgInR5cGUiOiAidmVydGV4IiwgInByb3BzIjogeyJzaXplIjogMTcuMzg4ODg4ODg4ODg4ODl9fQo=');</script>\n",
       "    "
      ],
      "text/plain": [
       "<IPython.core.display.HTML object>"
      ]
     },
     "metadata": {},
     "output_type": "display_data"
    },
    {
     "data": {
      "text/html": [
       "\n",
       "        <div id=\"Wbt2gWCL2DgQ3xqUaLNX29\"></div>\n",
       "        <script>netpixi.call('Wbt2gWCL2DgQ3xqUaLNX29', 'FiBrqCMcA6f277x2Zu2n23', 'changeGraph', 'eyJpZCI6ICJTd2VkZW4iLCAidHlwZSI6ICJ2ZXJ0ZXgiLCAicHJvcHMiOiB7InNpemUiOiA0Ny4xMTExMTExMTExMTExMTR9fQo=');</script>\n",
       "    "
      ],
      "text/plain": [
       "<IPython.core.display.HTML object>"
      ]
     },
     "metadata": {},
     "output_type": "display_data"
    },
    {
     "data": {
      "text/html": [
       "\n",
       "        <div id=\"Jo2nBSBRxdVCAYJHaAn7Y2\"></div>\n",
       "        <script>netpixi.call('Jo2nBSBRxdVCAYJHaAn7Y2', 'FiBrqCMcA6f277x2Zu2n23', 'changeGraph', 'eyJpZCI6ICJUdXJrZXkiLCAidHlwZSI6ICJ2ZXJ0ZXgiLCAicHJvcHMiOiB7InNpemUiOiA0NC4yMjIyMjIyMjIyMjIyMn19Cg==');</script>\n",
       "    "
      ],
      "text/plain": [
       "<IPython.core.display.HTML object>"
      ]
     },
     "metadata": {},
     "output_type": "display_data"
    },
    {
     "data": {
      "text/html": [
       "\n",
       "        <div id=\"cfXxcixMZtFyBA5bkMfv3o\"></div>\n",
       "        <script>netpixi.call('cfXxcixMZtFyBA5bkMfv3o', 'FiBrqCMcA6f277x2Zu2n23', 'changeGraph', 'eyJpZCI6ICJSZXAuIG9mIE1vbGRvdmEiLCAidHlwZSI6ICJ2ZXJ0ZXgiLCAicHJvcHMiOiB7InNpemUiOiAxOS44MzMzMzMzMzMzMzMzMzZ9fQo=');</script>\n",
       "    "
      ],
      "text/plain": [
       "<IPython.core.display.HTML object>"
      ]
     },
     "metadata": {},
     "output_type": "display_data"
    },
    {
     "data": {
      "text/html": [
       "\n",
       "        <div id=\"maULL4RcQQsG4mkPEsnP5H\"></div>\n",
       "        <script>netpixi.call('maULL4RcQQsG4mkPEsnP5H', 'FiBrqCMcA6f277x2Zu2n23', 'changeGraph', 'eyJpZCI6ICJHdWluZWEiLCAidHlwZSI6ICJ2ZXJ0ZXgiLCAicHJvcHMiOiB7InNpemUiOiAxNS4zODg4ODg4ODg4ODg4OX19Cg==');</script>\n",
       "    "
      ],
      "text/plain": [
       "<IPython.core.display.HTML object>"
      ]
     },
     "metadata": {},
     "output_type": "display_data"
    },
    {
     "data": {
      "text/html": [
       "\n",
       "        <div id=\"jQEmheGirJ8vxaREVPzRPx\"></div>\n",
       "        <script>netpixi.call('jQEmheGirJ8vxaREVPzRPx', 'FiBrqCMcA6f277x2Zu2n23', 'changeGraph', 'eyJpZCI6ICJHaWJyYWx0YXIiLCAidHlwZSI6ICJ2ZXJ0ZXgiLCAicHJvcHMiOiB7InNpemUiOiAxMC44ODg4ODg4ODg4ODg4OX19Cg==');</script>\n",
       "    "
      ],
      "text/plain": [
       "<IPython.core.display.HTML object>"
      ]
     },
     "metadata": {},
     "output_type": "display_data"
    },
    {
     "data": {
      "text/html": [
       "\n",
       "        <div id=\"8SNuDZvY4HGagBzRNg9nNL\"></div>\n",
       "        <script>netpixi.call('8SNuDZvY4HGagBzRNg9nNL', 'FiBrqCMcA6f277x2Zu2n23', 'changeGraph', 'eyJpZCI6ICJOYW1pYmlhIiwgInR5cGUiOiAidmVydGV4IiwgInByb3BzIjogeyJzaXplIjogMTcuNjY2NjY2NjY2NjY2NjY4fX0K');</script>\n",
       "    "
      ],
      "text/plain": [
       "<IPython.core.display.HTML object>"
      ]
     },
     "metadata": {},
     "output_type": "display_data"
    },
    {
     "data": {
      "text/html": [
       "\n",
       "        <div id=\"TQhbGsbfnZHgFXNXvYuTut\"></div>\n",
       "        <script>netpixi.call('TQhbGsbfnZHgFXNXvYuTut', 'FiBrqCMcA6f277x2Zu2n23', 'changeGraph', 'eyJpZCI6ICJTd2F6aWxhbmQiLCAidHlwZSI6ICJ2ZXJ0ZXgiLCAicHJvcHMiOiB7InNpemUiOiAxNi44MzMzMzMzMzMzMzMzMzZ9fQo=');</script>\n",
       "    "
      ],
      "text/plain": [
       "<IPython.core.display.HTML object>"
      ]
     },
     "metadata": {},
     "output_type": "display_data"
    },
    {
     "data": {
      "text/html": [
       "\n",
       "        <div id=\"BY7XqFnfwUeQsX6RFZjbeS\"></div>\n",
       "        <script>netpixi.call('BY7XqFnfwUeQsX6RFZjbeS', 'FiBrqCMcA6f277x2Zu2n23', 'changeGraph', 'eyJpZCI6ICJHaGFuYSIsICJ0eXBlIjogInZlcnRleCIsICJwcm9wcyI6IHsic2l6ZSI6IDE3LjcyMjIyMjIyMjIyMjIyfX0K');</script>\n",
       "    "
      ],
      "text/plain": [
       "<IPython.core.display.HTML object>"
      ]
     },
     "metadata": {},
     "output_type": "display_data"
    },
    {
     "data": {
      "text/html": [
       "\n",
       "        <div id=\"iqNdd7NjLJFhF6Mzrdc8zj\"></div>\n",
       "        <script>netpixi.call('iqNdd7NjLJFhF6Mzrdc8zj', 'FiBrqCMcA6f277x2Zu2n23', 'changeGraph', 'eyJpZCI6ICJNYWxhd2kiLCAidHlwZSI6ICJ2ZXJ0ZXgiLCAicHJvcHMiOiB7InNpemUiOiAxNi4zODg4ODg4ODg4ODg4OX19Cg==');</script>\n",
       "    "
      ],
      "text/plain": [
       "<IPython.core.display.HTML object>"
      ]
     },
     "metadata": {},
     "output_type": "display_data"
    },
    {
     "data": {
      "text/html": [
       "\n",
       "        <div id=\"Lsb7YW6M6hyZ7JZVgxz4YE\"></div>\n",
       "        <script>netpixi.call('Lsb7YW6M6hyZ7JZVgxz4YE', 'FiBrqCMcA6f277x2Zu2n23', 'changeGraph', 'eyJpZCI6ICJUaW1vci1MZXN0ZSIsICJ0eXBlIjogInZlcnRleCIsICJwcm9wcyI6IHsic2l6ZSI6IDE1LjU1NTU1NTU1NTU1NTU1NX19Cg==');</script>\n",
       "    "
      ],
      "text/plain": [
       "<IPython.core.display.HTML object>"
      ]
     },
     "metadata": {},
     "output_type": "display_data"
    },
    {
     "data": {
      "text/html": [
       "\n",
       "        <div id=\"NDsAuhRLHsw7cCu9V6FMFd\"></div>\n",
       "        <script>netpixi.call('NDsAuhRLHsw7cCu9V6FMFd', 'FiBrqCMcA6f277x2Zu2n23', 'changeGraph', 'eyJpZCI6ICJGaWppIiwgInR5cGUiOiAidmVydGV4IiwgInByb3BzIjogeyJzaXplIjogMTQuNTU1NTU1NTU1NTU1NTU1fX0K');</script>\n",
       "    "
      ],
      "text/plain": [
       "<IPython.core.display.HTML object>"
      ]
     },
     "metadata": {},
     "output_type": "display_data"
    },
    {
     "data": {
      "text/html": [
       "\n",
       "        <div id=\"kq2nHDJq7AQbjn3pumr5GF\"></div>\n",
       "        <script>netpixi.call('kq2nHDJq7AQbjn3pumr5GF', 'FiBrqCMcA6f277x2Zu2n23', 'changeGraph', 'eyJpZCI6ICJTYW8gVG9tZSBhbmQgUHJpbmNpcGUiLCAidHlwZSI6ICJ2ZXJ0ZXgiLCAicHJvcHMiOiB7InNpemUiOiAxMi4yMjIyMjIyMjIyMjIyMjF9fQo=');</script>\n",
       "    "
      ],
      "text/plain": [
       "<IPython.core.display.HTML object>"
      ]
     },
     "metadata": {},
     "output_type": "display_data"
    },
    {
     "data": {
      "text/html": [
       "\n",
       "        <div id=\"KU6jCLAeLbaKFxFji9B7dE\"></div>\n",
       "        <script>netpixi.call('KU6jCLAeLbaKFxFji9B7dE', 'FiBrqCMcA6f277x2Zu2n23', 'changeGraph', 'eyJpZCI6ICJTaW50IE1hYXJ0ZW4gKER1dGNoIHBhcnQpIiwgInR5cGUiOiAidmVydGV4IiwgInByb3BzIjogeyJzaXplIjogMTQuNzIyMjIyMjIyMjIyMjIxfX0K');</script>\n",
       "    "
      ],
      "text/plain": [
       "<IPython.core.display.HTML object>"
      ]
     },
     "metadata": {},
     "output_type": "display_data"
    },
    {
     "data": {
      "text/html": [
       "\n",
       "        <div id=\"dUvoAvUoBMrcUnpeWxmVQq\"></div>\n",
       "        <script>netpixi.call('dUvoAvUoBMrcUnpeWxmVQq', 'FiBrqCMcA6f277x2Zu2n23', 'changeGraph', 'eyJpZCI6ICJDXHUwMGY0dGUgZCdJdm9pcmUiLCAidHlwZSI6ICJ2ZXJ0ZXgiLCAicHJvcHMiOiB7InNpemUiOiAxOC40NDQ0NDQ0NDQ0NDQ0NDN9fQo=');</script>\n",
       "    "
      ],
      "text/plain": [
       "<IPython.core.display.HTML object>"
      ]
     },
     "metadata": {},
     "output_type": "display_data"
    },
    {
     "data": {
      "text/html": [
       "\n",
       "        <div id=\"bPV6ojiMQEWVFG32gTJzeq\"></div>\n",
       "        <script>netpixi.call('bPV6ojiMQEWVFG32gTJzeq', 'FiBrqCMcA6f277x2Zu2n23', 'changeGraph', 'eyJpZCI6ICJFc3RvbmlhIiwgInR5cGUiOiAidmVydGV4IiwgInByb3BzIjogeyJzaXplIjogMTcuNjExMTExMTExMTExMTF9fQo=');</script>\n",
       "    "
      ],
      "text/plain": [
       "<IPython.core.display.HTML object>"
      ]
     },
     "metadata": {},
     "output_type": "display_data"
    },
    {
     "data": {
      "text/html": [
       "\n",
       "        <div id=\"Rxnf6XZUBRXuSVtDxJA2uK\"></div>\n",
       "        <script>netpixi.call('Rxnf6XZUBRXuSVtDxJA2uK', 'FiBrqCMcA6f277x2Zu2n23', 'changeGraph', 'eyJpZCI6ICJUb2dvIiwgInR5cGUiOiAidmVydGV4IiwgInByb3BzIjogeyJzaXplIjogMTcuNDQ0NDQ0NDQ0NDQ0NDQzfX0K');</script>\n",
       "    "
      ],
      "text/plain": [
       "<IPython.core.display.HTML object>"
      ]
     },
     "metadata": {},
     "output_type": "display_data"
    },
    {
     "data": {
      "text/html": [
       "\n",
       "        <div id=\"9ErBTLUeTY4HcZ5LyjusJx\"></div>\n",
       "        <script>netpixi.call('9ErBTLUeTY4HcZ5LyjusJx', 'FiBrqCMcA6f277x2Zu2n23', 'changeGraph', 'eyJpZCI6ICJHcmVuYWRhIiwgInR5cGUiOiAidmVydGV4IiwgInByb3BzIjogeyJzaXplIjogMTIuODMzMzMzMzMzMzMzMzMyfX0K');</script>\n",
       "    "
      ],
      "text/plain": [
       "<IPython.core.display.HTML object>"
      ]
     },
     "metadata": {},
     "output_type": "display_data"
    },
    {
     "data": {
      "text/html": [
       "\n",
       "        <div id=\"6m9MQgQfacYEGvDPTcn3wA\"></div>\n",
       "        <script>netpixi.call('6m9MQgQfacYEGvDPTcn3wA', 'FiBrqCMcA6f277x2Zu2n23', 'changeGraph', 'eyJpZCI6ICJNYWRhZ2FzY2FyIiwgInR5cGUiOiAidmVydGV4IiwgInByb3BzIjogeyJzaXplIjogMTAuMH19Cg==');</script>\n",
       "    "
      ],
      "text/plain": [
       "<IPython.core.display.HTML object>"
      ]
     },
     "metadata": {},
     "output_type": "display_data"
    },
    {
     "data": {
      "text/html": [
       "\n",
       "        <div id=\"kryLugfvEWh2qVvLkjXfVz\"></div>\n",
       "        <script>netpixi.call('kryLugfvEWh2qVvLkjXfVz', 'FiBrqCMcA6f277x2Zu2n23', 'changeGraph', 'eyJpZCI6ICJQb2xhbmQiLCAidHlwZSI6ICJ2ZXJ0ZXgiLCAicHJvcHMiOiB7InNpemUiOiA0Mi40NDQ0NDQ0NDQ0NDQ0NH19Cg==');</script>\n",
       "    "
      ],
      "text/plain": [
       "<IPython.core.display.HTML object>"
      ]
     },
     "metadata": {},
     "output_type": "display_data"
    },
    {
     "data": {
      "text/html": [
       "\n",
       "        <div id=\"bBHcBUYvo2ZnSswR5m2JSb\"></div>\n",
       "        <script>netpixi.call('bBHcBUYvo2ZnSswR5m2JSb', 'FiBrqCMcA6f277x2Zu2n23', 'changeGraph', 'eyJpZCI6ICJBcmdlbnRpbmEiLCAidHlwZSI6ICJ2ZXJ0ZXgiLCAicHJvcHMiOiB7InNpemUiOiA0Mi44ODg4ODg4ODg4ODg4ODZ9fQo=');</script>\n",
       "    "
      ],
      "text/plain": [
       "<IPython.core.display.HTML object>"
      ]
     },
     "metadata": {},
     "output_type": "display_data"
    },
    {
     "data": {
      "text/html": [
       "\n",
       "        <div id=\"5xhC5P9Gjrdf8ZcLnPHn2p\"></div>\n",
       "        <script>netpixi.call('5xhC5P9Gjrdf8ZcLnPHn2p', 'FiBrqCMcA6f277x2Zu2n23', 'changeGraph', 'eyJpZCI6ICJDYW5hZGEiLCAidHlwZSI6ICJ2ZXJ0ZXgiLCAicHJvcHMiOiB7InNpemUiOiA0OS43Nzc3Nzc3Nzc3Nzc3OH19Cg==');</script>\n",
       "    "
      ],
      "text/plain": [
       "<IPython.core.display.HTML object>"
      ]
     },
     "metadata": {},
     "output_type": "display_data"
    },
    {
     "data": {
      "text/html": [
       "\n",
       "        <div id=\"kESS4tRoQdGwctUzMQAhWV\"></div>\n",
       "        <script>netpixi.call('kESS4tRoQdGwctUzMQAhWV', 'FiBrqCMcA6f277x2Zu2n23', 'changeGraph', 'eyJpZCI6ICJLeXJneXpzdGFuIiwgInR5cGUiOiAidmVydGV4IiwgInByb3BzIjogeyJzaXplIjogMTcuNX19Cg==');</script>\n",
       "    "
      ],
      "text/plain": [
       "<IPython.core.display.HTML object>"
      ]
     },
     "metadata": {},
     "output_type": "display_data"
    },
    {
     "data": {
      "text/html": [
       "\n",
       "        <div id=\"Yezw2xX3bYEF5swQmG2XKG\"></div>\n",
       "        <script>netpixi.call('Yezw2xX3bYEF5swQmG2XKG', 'FiBrqCMcA6f277x2Zu2n23', 'changeGraph', 'eyJpZCI6ICJTZXljaGVsbGVzIiwgInR5cGUiOiAidmVydGV4IiwgInByb3BzIjogeyJzaXplIjogMTAuMzg4ODg4ODg4ODg4ODl9fQo=');</script>\n",
       "    "
      ],
      "text/plain": [
       "<IPython.core.display.HTML object>"
      ]
     },
     "metadata": {},
     "output_type": "display_data"
    },
    {
     "data": {
      "text/html": [
       "\n",
       "        <div id=\"GMaKUNRawUuawizQPZwkP3\"></div>\n",
       "        <script>netpixi.call('GMaKUNRawUuawizQPZwkP3', 'FiBrqCMcA6f277x2Zu2n23', 'changeGraph', 'eyJpZCI6ICJFZ3lwdCIsICJ0eXBlIjogInZlcnRleCIsICJwcm9wcyI6IHsic2l6ZSI6IDE4LjB9fQo=');</script>\n",
       "    "
      ],
      "text/plain": [
       "<IPython.core.display.HTML object>"
      ]
     },
     "metadata": {},
     "output_type": "display_data"
    },
    {
     "data": {
      "text/html": [
       "\n",
       "        <div id=\"THPoH6tQCck4MuTv9zyoMb\"></div>\n",
       "        <script>netpixi.call('THPoH6tQCck4MuTv9zyoMb', 'FiBrqCMcA6f277x2Zu2n23', 'changeGraph', 'eyJpZCI6ICJEZW0uIFBlb3BsZSdzIFJlcC4gb2YgS29yZWEiLCAidHlwZSI6ICJ2ZXJ0ZXgiLCAicHJvcHMiOiB7InNpemUiOiAxMi4xMTExMTExMTExMTExMX19Cg==');</script>\n",
       "    "
      ],
      "text/plain": [
       "<IPython.core.display.HTML object>"
      ]
     },
     "metadata": {},
     "output_type": "display_data"
    },
    {
     "data": {
      "text/html": [
       "\n",
       "        <div id=\"GtF3gJZYLhS7TKffNsvN7w\"></div>\n",
       "        <script>netpixi.call('GtF3gJZYLhS7TKffNsvN7w', 'FiBrqCMcA6f277x2Zu2n23', 'changeGraph', 'eyJpZCI6ICJOb3J3YXkiLCAidHlwZSI6ICJ2ZXJ0ZXgiLCAicHJvcHMiOiB7InNpemUiOiA0OC44ODg4ODg4ODg4ODg4ODZ9fQo=');</script>\n",
       "    "
      ],
      "text/plain": [
       "<IPython.core.display.HTML object>"
      ]
     },
     "metadata": {},
     "output_type": "display_data"
    },
    {
     "data": {
      "text/html": [
       "\n",
       "        <div id=\"fMgLFBD3wUsxQYmFTiZA8Y\"></div>\n",
       "        <script>netpixi.call('fMgLFBD3wUsxQYmFTiZA8Y', 'FiBrqCMcA6f277x2Zu2n23', 'changeGraph', 'eyJpZCI6ICJNYWxheXNpYSIsICJ0eXBlIjogInZlcnRleCIsICJwcm9wcyI6IHsic2l6ZSI6IDE5LjV9fQo=');</script>\n",
       "    "
      ],
      "text/plain": [
       "<IPython.core.display.HTML object>"
      ]
     },
     "metadata": {},
     "output_type": "display_data"
    },
    {
     "data": {
      "text/html": [
       "\n",
       "        <div id=\"dAQ9nqcb3iDjojKTmLz2r8\"></div>\n",
       "        <script>netpixi.call('dAQ9nqcb3iDjojKTmLz2r8', 'FiBrqCMcA6f277x2Zu2n23', 'changeGraph', 'eyJpZCI6ICJWYXJpb3VzL1Vua25vd24iLCAidHlwZSI6ICJ2ZXJ0ZXgiLCAicHJvcHMiOiB7InNpemUiOiAxMC4wNTU1NTU1NTU1NTU1NTV9fQo=');</script>\n",
       "    "
      ],
      "text/plain": [
       "<IPython.core.display.HTML object>"
      ]
     },
     "metadata": {},
     "output_type": "display_data"
    },
    {
     "data": {
      "text/html": [
       "\n",
       "        <div id=\"S6tzXXZDhQS2TVv27DmNiJ\"></div>\n",
       "        <script>netpixi.call('S6tzXXZDhQS2TVv27DmNiJ', 'FiBrqCMcA6f277x2Zu2n23', 'changeGraph', 'eyJpZCI6ICJFdGhpb3BpYSIsICJ0eXBlIjogInZlcnRleCIsICJwcm9wcyI6IHsic2l6ZSI6IDE3Ljc3Nzc3Nzc3Nzc3Nzc4fX0K');</script>\n",
       "    "
      ],
      "text/plain": [
       "<IPython.core.display.HTML object>"
      ]
     },
     "metadata": {},
     "output_type": "display_data"
    },
    {
     "data": {
      "text/html": [
       "\n",
       "        <div id=\"J993GU73PpHmtsqcDQ9VGC\"></div>\n",
       "        <script>netpixi.call('J993GU73PpHmtsqcDQ9VGC', 'FiBrqCMcA6f277x2Zu2n23', 'changeGraph', 'eyJpZCI6ICJGcmFuY2UiLCAidHlwZSI6ICJ2ZXJ0ZXgiLCAicHJvcHMiOiB7InNpemUiOiA0NS4xMTExMTExMTExMTExMTR9fQo=');</script>\n",
       "    "
      ],
      "text/plain": [
       "<IPython.core.display.HTML object>"
      ]
     },
     "metadata": {},
     "output_type": "display_data"
    },
    {
     "data": {
      "text/html": [
       "\n",
       "        <div id=\"Ji3MfG3ndpJrv8ouTSPhhW\"></div>\n",
       "        <script>netpixi.call('Ji3MfG3ndpJrv8ouTSPhhW', 'FiBrqCMcA6f277x2Zu2n23', 'changeGraph', 'eyJpZCI6ICJJcmVsYW5kIiwgInR5cGUiOiAidmVydGV4IiwgInByb3BzIjogeyJzaXplIjogNDYuNjY2NjY2NjY2NjY2NjY0fX0K');</script>\n",
       "    "
      ],
      "text/plain": [
       "<IPython.core.display.HTML object>"
      ]
     },
     "metadata": {},
     "output_type": "display_data"
    },
    {
     "data": {
      "text/html": [
       "\n",
       "        <div id=\"mvrVsmjHLkhSM2HuTRzDei\"></div>\n",
       "        <script>netpixi.call('mvrVsmjHLkhSM2HuTRzDei', 'FiBrqCMcA6f277x2Zu2n23', 'changeGraph', 'eyJpZCI6ICJMZWJhbm9uIiwgInR5cGUiOiAidmVydGV4IiwgInByb3BzIjogeyJzaXplIjogMTguMDU1NTU1NTU1NTU1NTU3fX0K');</script>\n",
       "    "
      ],
      "text/plain": [
       "<IPython.core.display.HTML object>"
      ]
     },
     "metadata": {},
     "output_type": "display_data"
    },
    {
     "data": {
      "text/html": [
       "\n",
       "        <div id=\"cPDk3zsqwX9tifgqvRKGU7\"></div>\n",
       "        <script>netpixi.call('cPDk3zsqwX9tifgqvRKGU7', 'FiBrqCMcA6f277x2Zu2n23', 'changeGraph', 'eyJpZCI6ICJVcnVndWF5IiwgInR5cGUiOiAidmVydGV4IiwgInByb3BzIjogeyJzaXplIjogMTguNzc3Nzc3Nzc3Nzc3Nzh9fQo=');</script>\n",
       "    "
      ],
      "text/plain": [
       "<IPython.core.display.HTML object>"
      ]
     },
     "metadata": {},
     "output_type": "display_data"
    },
    {
     "data": {
      "text/html": [
       "\n",
       "        <div id=\"FQoicKnops3t2hB8w2Vpcf\"></div>\n",
       "        <script>netpixi.call('FQoicKnops3t2hB8w2Vpcf', 'FiBrqCMcA6f277x2Zu2n23', 'changeGraph', 'eyJpZCI6ICJNb250c2VycmF0IiwgInR5cGUiOiAidmVydGV4IiwgInByb3BzIjogeyJzaXplIjogMTMuODMzMzMzMzMzMzMzMzM0fX0K');</script>\n",
       "    "
      ],
      "text/plain": [
       "<IPython.core.display.HTML object>"
      ]
     },
     "metadata": {},
     "output_type": "display_data"
    },
    {
     "data": {
      "text/html": [
       "\n",
       "        <div id=\"X9p2RXvDEjLVgByryCmQwA\"></div>\n",
       "        <script>netpixi.call('X9p2RXvDEjLVgByryCmQwA', 'FiBrqCMcA6f277x2Zu2n23', 'changeGraph', 'eyJpZCI6ICJTYW4gTWFyaW5vIiwgInR5cGUiOiAidmVydGV4IiwgInByb3BzIjogeyJzaXplIjogMTMuMzMzMzMzMzMzMzMzMzM0fX0K');</script>\n",
       "    "
      ],
      "text/plain": [
       "<IPython.core.display.HTML object>"
      ]
     },
     "metadata": {},
     "output_type": "display_data"
    },
    {
     "data": {
      "text/html": [
       "\n",
       "        <div id=\"RthdBrwiuafL4QJLbvGtCB\"></div>\n",
       "        <script>netpixi.call('RthdBrwiuafL4QJLbvGtCB', 'FiBrqCMcA6f277x2Zu2n23', 'changeGraph', 'eyJpZCI6ICJTcGFpbiIsICJ0eXBlIjogInZlcnRleCIsICJwcm9wcyI6IHsic2l6ZSI6IDQzLjc3Nzc3Nzc3Nzc3Nzc4fX0K');</script>\n",
       "    "
      ],
      "text/plain": [
       "<IPython.core.display.HTML object>"
      ]
     },
     "metadata": {},
     "output_type": "display_data"
    },
    {
     "data": {
      "text/html": [
       "\n",
       "        <div id=\"acjudSgpjwtLJ3aC8WM4J5\"></div>\n",
       "        <script>netpixi.call('acjudSgpjwtLJ3aC8WM4J5', 'FiBrqCMcA6f277x2Zu2n23', 'changeGraph', 'eyJpZCI6ICJTbG92ZW5pYSIsICJ0eXBlIjogInZlcnRleCIsICJwcm9wcyI6IHsic2l6ZSI6IDE4Ljk0NDQ0NDQ0NDQ0NDQ0M319Cg==');</script>\n",
       "    "
      ],
      "text/plain": [
       "<IPython.core.display.HTML object>"
      ]
     },
     "metadata": {},
     "output_type": "display_data"
    },
    {
     "data": {
      "text/html": [
       "\n",
       "        <div id=\"eq9JzmxuKVj732zwhWzKAx\"></div>\n",
       "        <script>netpixi.call('eq9JzmxuKVj732zwhWzKAx', 'FiBrqCMcA6f277x2Zu2n23', 'changeGraph', 'eyJpZCI6ICJHcmVlY2UiLCAidHlwZSI6ICJ2ZXJ0ZXgiLCAicHJvcHMiOiB7InNpemUiOiA0Ni4yMjIyMjIyMjIyMjIyMn19Cg==');</script>\n",
       "    "
      ],
      "text/plain": [
       "<IPython.core.display.HTML object>"
      ]
     },
     "metadata": {},
     "output_type": "display_data"
    },
    {
     "data": {
      "text/html": [
       "\n",
       "        <div id=\"cosyPq7EgAuCybc4ZcepZm\"></div>\n",
       "        <script>netpixi.call('cosyPq7EgAuCybc4ZcepZm', 'FiBrqCMcA6f277x2Zu2n23', 'changeGraph', 'eyJpZCI6ICJFcXVhdG9yaWFsIEd1aW5lYSIsICJ0eXBlIjogInZlcnRleCIsICJwcm9wcyI6IHsic2l6ZSI6IDE0Ljg4ODg4ODg4ODg4ODg5fX0K');</script>\n",
       "    "
      ],
      "text/plain": [
       "<IPython.core.display.HTML object>"
      ]
     },
     "metadata": {},
     "output_type": "display_data"
    },
    {
     "data": {
      "text/html": [
       "\n",
       "        <div id=\"doMvbDgRaMqXvfUU75eqiq\"></div>\n",
       "        <script>netpixi.call('doMvbDgRaMqXvfUU75eqiq', 'FiBrqCMcA6f277x2Zu2n23', 'changeGraph', 'eyJpZCI6ICJTeXJpYW4gQXJhYiBSZXAuIiwgInR5cGUiOiAidmVydGV4IiwgInByb3BzIjogeyJzaXplIjogNDAuMjIyMjIyMjIyMjIyMjJ9fQo=');</script>\n",
       "    "
      ],
      "text/plain": [
       "<IPython.core.display.HTML object>"
      ]
     },
     "metadata": {},
     "output_type": "display_data"
    },
    {
     "data": {
      "text/html": [
       "\n",
       "        <div id=\"9gdDznSHkaxG2kTMN3N8E2\"></div>\n",
       "        <script>netpixi.call('9gdDznSHkaxG2kTMN3N8E2', 'FiBrqCMcA6f277x2Zu2n23', 'changeGraph', 'eyJpZCI6ICJCZWxhcnVzIiwgInR5cGUiOiAidmVydGV4IiwgInByb3BzIjogeyJzaXplIjogMTkuNzIyMjIyMjIyMjIyMjJ9fQo=');</script>\n",
       "    "
      ],
      "text/plain": [
       "<IPython.core.display.HTML object>"
      ]
     },
     "metadata": {},
     "output_type": "display_data"
    },
    {
     "data": {
      "text/html": [
       "\n",
       "        <div id=\"7DjVamWdNygachXobd7eLq\"></div>\n",
       "        <script>netpixi.call('7DjVamWdNygachXobd7eLq', 'FiBrqCMcA6f277x2Zu2n23', 'changeGraph', 'eyJpZCI6ICJVZ2FuZGEiLCAidHlwZSI6ICJ2ZXJ0ZXgiLCAicHJvcHMiOiB7InNpemUiOiAxNy4wNTU1NTU1NTU1NTU1NTd9fQo=');</script>\n",
       "    "
      ],
      "text/plain": [
       "<IPython.core.display.HTML object>"
      ]
     },
     "metadata": {},
     "output_type": "display_data"
    },
    {
     "data": {
      "text/html": [
       "\n",
       "        <div id=\"mutzazgwxTpEnGigeKDVww\"></div>\n",
       "        <script>netpixi.call('mutzazgwxTpEnGigeKDVww', 'FiBrqCMcA6f277x2Zu2n23', 'changeGraph', 'eyJpZCI6ICJEZW5tYXJrIiwgInR5cGUiOiAidmVydGV4IiwgInByb3BzIjogeyJzaXplIjogNDYuODg4ODg4ODg4ODg4ODl9fQo=');</script>\n",
       "    "
      ],
      "text/plain": [
       "<IPython.core.display.HTML object>"
      ]
     },
     "metadata": {},
     "output_type": "display_data"
    },
    {
     "data": {
      "text/html": [
       "\n",
       "        <div id=\"4F9PzitRMx9WvFiKJeuDGM\"></div>\n",
       "        <script>netpixi.call('4F9PzitRMx9WvFiKJeuDGM', 'FiBrqCMcA6f277x2Zu2n23', 'changeGraph', 'eyJpZCI6ICJTb21hbGlhIiwgInR5cGUiOiAidmVydGV4IiwgInByb3BzIjogeyJzaXplIjogMTMuNDQ0NDQ0NDQ0NDQ0NDQ1fX0K');</script>\n",
       "    "
      ],
      "text/plain": [
       "<IPython.core.display.HTML object>"
      ]
     },
     "metadata": {},
     "output_type": "display_data"
    },
    {
     "data": {
      "text/html": [
       "\n",
       "        <div id=\"KQJdPobXXENPSwddZFLZpG\"></div>\n",
       "        <script>netpixi.call('KQJdPobXXENPSwddZFLZpG', 'FiBrqCMcA6f277x2Zu2n23', 'changeGraph', 'eyJpZCI6ICJDemVjaCBSZXAuIiwgInR5cGUiOiAidmVydGV4IiwgInByb3BzIjogeyJzaXplIjogNDIuMjIyMjIyMjIyMjIyMjJ9fQo=');</script>\n",
       "    "
      ],
      "text/plain": [
       "<IPython.core.display.HTML object>"
      ]
     },
     "metadata": {},
     "output_type": "display_data"
    },
    {
     "data": {
      "text/html": [
       "\n",
       "        <div id=\"WWpNLWy7C2V5NCEUYdzQRp\"></div>\n",
       "        <script>netpixi.call('WWpNLWy7C2V5NCEUYdzQRp', 'FiBrqCMcA6f277x2Zu2n23', 'changeGraph', 'eyJpZCI6ICJTYWludCBLaXR0cyBhbmQgTmV2aXMiLCAidHlwZSI6ICJ2ZXJ0ZXgiLCAicHJvcHMiOiB7InNpemUiOiAxMi42NjY2NjY2NjY2NjY2NjZ9fQo=');</script>\n",
       "    "
      ],
      "text/plain": [
       "<IPython.core.display.HTML object>"
      ]
     },
     "metadata": {},
     "output_type": "display_data"
    },
    {
     "data": {
      "text/html": [
       "\n",
       "        <div id=\"7376NSRAfAXhRQiK959Lzo\"></div>\n",
       "        <script>netpixi.call('7376NSRAfAXhRQiK959Lzo', 'FiBrqCMcA6f277x2Zu2n23', 'changeGraph', 'eyJpZCI6ICJQaGlsaXBwaW5lcyIsICJ0eXBlIjogInZlcnRleCIsICJwcm9wcyI6IHsic2l6ZSI6IDE3LjE2NjY2NjY2NjY2NjY2OH19Cg==');</script>\n",
       "    "
      ],
      "text/plain": [
       "<IPython.core.display.HTML object>"
      ]
     },
     "metadata": {},
     "output_type": "display_data"
    },
    {
     "data": {
      "text/html": [
       "\n",
       "        <div id=\"Tzpsue9GZsJMHyzpSz9wP4\"></div>\n",
       "        <script>netpixi.call('Tzpsue9GZsJMHyzpSz9wP4', 'FiBrqCMcA6f277x2Zu2n23', 'changeGraph', 'eyJpZCI6ICJNb3phbWJpcXVlIiwgInR5cGUiOiAidmVydGV4IiwgInByb3BzIjogeyJzaXplIjogMTUuNDQ0NDQ0NDQ0NDQ0NDQ1fX0K');</script>\n",
       "    "
      ],
      "text/plain": [
       "<IPython.core.display.HTML object>"
      ]
     },
     "metadata": {},
     "output_type": "display_data"
    },
    {
     "data": {
      "text/html": [
       "\n",
       "        <div id=\"HYmw43MqMsHAFNmP9tMVGV\"></div>\n",
       "        <script>netpixi.call('HYmw43MqMsHAFNmP9tMVGV', 'FiBrqCMcA6f277x2Zu2n23', 'changeGraph', 'eyJpZCI6ICJOaWdlcmlhIiwgInR5cGUiOiAidmVydGV4IiwgInByb3BzIjogeyJzaXplIjogMTcuNTU1NTU1NTU1NTU1NTU3fX0K');</script>\n",
       "    "
      ],
      "text/plain": [
       "<IPython.core.display.HTML object>"
      ]
     },
     "metadata": {},
     "output_type": "display_data"
    },
    {
     "data": {
      "text/html": [
       "\n",
       "        <div id=\"G6HGE9QNCmFb3QwdMSWMnt\"></div>\n",
       "        <script>netpixi.call('G6HGE9QNCmFb3QwdMSWMnt', 'FiBrqCMcA6f277x2Zu2n23', 'changeGraph', 'eyJpZCI6ICJTYWludCBMdWNpYSIsICJ0eXBlIjogInZlcnRleCIsICJwcm9wcyI6IHsic2l6ZSI6IDEyLjcyMjIyMjIyMjIyMjIyMX19Cg==');</script>\n",
       "    "
      ],
      "text/plain": [
       "<IPython.core.display.HTML object>"
      ]
     },
     "metadata": {},
     "output_type": "display_data"
    },
    {
     "data": {
      "text/html": [
       "\n",
       "        <div id=\"Z2t3Gi3Ue2q3aS76Sed9dV\"></div>\n",
       "        <script>netpixi.call('Z2t3Gi3Ue2q3aS76Sed9dV', 'FiBrqCMcA6f277x2Zu2n23', 'changeGraph', 'eyJpZCI6ICJOYXVydSIsICJ0eXBlIjogInZlcnRleCIsICJwcm9wcyI6IHsic2l6ZSI6IDEwLjc3Nzc3Nzc3Nzc3Nzc3OX19Cg==');</script>\n",
       "    "
      ],
      "text/plain": [
       "<IPython.core.display.HTML object>"
      ]
     },
     "metadata": {},
     "output_type": "display_data"
    },
    {
     "data": {
      "text/html": [
       "\n",
       "        <div id=\"K4mSBZx5UgvvzDZTSrF9ks\"></div>\n",
       "        <script>netpixi.call('K4mSBZx5UgvvzDZTSrF9ks', 'FiBrqCMcA6f277x2Zu2n23', 'changeGraph', 'eyJpZCI6ICJDdXJhXHUwMGU3YW8iLCAidHlwZSI6ICJ2ZXJ0ZXgiLCAicHJvcHMiOiB7InNpemUiOiAxNS42NjY2NjY2NjY2NjY2NjZ9fQo=');</script>\n",
       "    "
      ],
      "text/plain": [
       "<IPython.core.display.HTML object>"
      ]
     },
     "metadata": {},
     "output_type": "display_data"
    },
    {
     "data": {
      "text/html": [
       "\n",
       "        <div id=\"o7v68KrH2D4A4yCgkVd3Vn\"></div>\n",
       "        <script>netpixi.call('o7v68KrH2D4A4yCgkVd3Vn', 'FiBrqCMcA6f277x2Zu2n23', 'changeGraph', 'eyJpZCI6ICJQYW5hbWEiLCAidHlwZSI6ICJ2ZXJ0ZXgiLCAicHJvcHMiOiB7InNpemUiOiAxOC4xMTExMTExMTExMTExMX19Cg==');</script>\n",
       "    "
      ],
      "text/plain": [
       "<IPython.core.display.HTML object>"
      ]
     },
     "metadata": {},
     "output_type": "display_data"
    },
    {
     "data": {
      "text/html": [
       "\n",
       "        <div id=\"D2WD4eqcDG55mJtGzDsppq\"></div>\n",
       "        <script>netpixi.call('D2WD4eqcDG55mJtGzDsppq', 'FiBrqCMcA6f277x2Zu2n23', 'changeGraph', 'eyJpZCI6ICJTdGF0ZWxlc3MiLCAidHlwZSI6ICJ2ZXJ0ZXgiLCAicHJvcHMiOiB7InNpemUiOiAxMS44MzMzMzMzMzMzMzMzMzR9fQo=');</script>\n",
       "    "
      ],
      "text/plain": [
       "<IPython.core.display.HTML object>"
      ]
     },
     "metadata": {},
     "output_type": "display_data"
    },
    {
     "data": {
      "text/html": [
       "\n",
       "        <div id=\"hLesufoLE4nwXLuH7Yg9ai\"></div>\n",
       "        <script>netpixi.call('hLesufoLE4nwXLuH7Yg9ai', 'FiBrqCMcA6f277x2Zu2n23', 'changeGraph', 'eyJpZCI6ICJTYXVkaSBBcmFiaWEiLCAidHlwZSI6ICJ2ZXJ0ZXgiLCAicHJvcHMiOiB7InNpemUiOiAxNy4xMTExMTExMTExMTExMX19Cg==');</script>\n",
       "    "
      ],
      "text/plain": [
       "<IPython.core.display.HTML object>"
      ]
     },
     "metadata": {},
     "output_type": "display_data"
    },
    {
     "data": {
      "text/html": [
       "\n",
       "        <div id=\"SBsxJnRLRnfUVuJZjKB8DF\"></div>\n",
       "        <script>netpixi.call('SBsxJnRLRnfUVuJZjKB8DF', 'FiBrqCMcA6f277x2Zu2n23', 'changeGraph', 'eyJpZCI6ICJIb2x5IFNlZSAodGhlKSIsICJ0eXBlIjogInZlcnRleCIsICJwcm9wcyI6IHsic2l6ZSI6IDExLjY2NjY2NjY2NjY2NjY2OH19Cg==');</script>\n",
       "    "
      ],
      "text/plain": [
       "<IPython.core.display.HTML object>"
      ]
     },
     "metadata": {},
     "output_type": "display_data"
    },
    {
     "data": {
      "text/html": [
       "\n",
       "        <div id=\"Go2XGUaP6toLixwEAaHEyN\"></div>\n",
       "        <script>netpixi.call('Go2XGUaP6toLixwEAaHEyN', 'FiBrqCMcA6f277x2Zu2n23', 'changeGraph', 'eyJpZCI6ICJIdW5nYXJ5IiwgInR5cGUiOiAidmVydGV4IiwgInByb3BzIjogeyJzaXplIjogNDIuMH19Cg==');</script>\n",
       "    "
      ],
      "text/plain": [
       "<IPython.core.display.HTML object>"
      ]
     },
     "metadata": {},
     "output_type": "display_data"
    },
    {
     "data": {
      "text/html": [
       "\n",
       "        <div id=\"SF3SwVTrLuzCmSCDpXbQmd\"></div>\n",
       "        <script>netpixi.call('SF3SwVTrLuzCmSCDpXbQmd', 'FiBrqCMcA6f277x2Zu2n23', 'changeGraph', 'eyJpZCI6ICJVbml0ZWQgQXJhYiBFbWlyYXRlcyIsICJ0eXBlIjogInZlcnRleCIsICJwcm9wcyI6IHsic2l6ZSI6IDE1Ljc3Nzc3Nzc3Nzc3Nzc3OX19Cg==');</script>\n",
       "    "
      ],
      "text/plain": [
       "<IPython.core.display.HTML object>"
      ]
     },
     "metadata": {},
     "output_type": "display_data"
    },
    {
     "data": {
      "text/html": [
       "\n",
       "        <div id=\"8Xqa8QfWVnqt5e2xQTV4ZQ\"></div>\n",
       "        <script>netpixi.call('8Xqa8QfWVnqt5e2xQTV4ZQ', 'FiBrqCMcA6f277x2Zu2n23', 'changeGraph', 'eyJpZCI6ICJTb3V0aCBTdWRhbiIsICJ0eXBlIjogInZlcnRleCIsICJwcm9wcyI6IHsic2l6ZSI6IDEzLjcyMjIyMjIyMjIyMjIyMX19Cg==');</script>\n",
       "    "
      ],
      "text/plain": [
       "<IPython.core.display.HTML object>"
      ]
     },
     "metadata": {},
     "output_type": "display_data"
    },
    {
     "data": {
      "text/html": [
       "\n",
       "        <div id=\"XpzNUmUAoujApMfGdU4B9m\"></div>\n",
       "        <script>netpixi.call('XpzNUmUAoujApMfGdU4B9m', 'FiBrqCMcA6f277x2Zu2n23', 'changeGraph', 'eyJpZCI6ICJCZW5pbiIsICJ0eXBlIjogInZlcnRleCIsICJwcm9wcyI6IHsic2l6ZSI6IDE1LjI3Nzc3Nzc3Nzc3Nzc3OX19Cg==');</script>\n",
       "    "
      ],
      "text/plain": [
       "<IPython.core.display.HTML object>"
      ]
     },
     "metadata": {},
     "output_type": "display_data"
    },
    {
     "data": {
      "text/html": [
       "\n",
       "        <div id=\"fgErSLwFQRZnAxJzLjUcDb\"></div>\n",
       "        <script>netpixi.call('fgErSLwFQRZnAxJzLjUcDb', 'FiBrqCMcA6f277x2Zu2n23', 'changeGraph', 'eyJpZCI6ICJHYW1iaWEiLCAidHlwZSI6ICJ2ZXJ0ZXgiLCAicHJvcHMiOiB7InNpemUiOiAxMy44ODg4ODg4ODg4ODg4OX19Cg==');</script>\n",
       "    "
      ],
      "text/plain": [
       "<IPython.core.display.HTML object>"
      ]
     },
     "metadata": {},
     "output_type": "display_data"
    },
    {
     "data": {
      "text/html": [
       "\n",
       "        <div id=\"mpMaGE4AjfLVJpyBNLLQFG\"></div>\n",
       "        <script>netpixi.call('mpMaGE4AjfLVJpyBNLLQFG', 'FiBrqCMcA6f277x2Zu2n23', 'changeGraph', 'eyJpZCI6ICJUdXZhbHUiLCAidHlwZSI6ICJ2ZXJ0ZXgiLCAicHJvcHMiOiB7InNpemUiOiAxMC4yMjIyMjIyMjIyMjIyMjF9fQo=');</script>\n",
       "    "
      ],
      "text/plain": [
       "<IPython.core.display.HTML object>"
      ]
     },
     "metadata": {},
     "output_type": "display_data"
    },
    {
     "data": {
      "text/html": [
       "\n",
       "        <div id=\"KcJcwP6rD94t8qgXG2KrhP\"></div>\n",
       "        <script>netpixi.call('KcJcwP6rD94t8qgXG2KrhP', 'FiBrqCMcA6f277x2Zu2n23', 'changeGraph', 'eyJpZCI6ICJTcmkgTGFua2EiLCAidHlwZSI6ICJ2ZXJ0ZXgiLCAicHJvcHMiOiB7InNpemUiOiAxMy41fX0K');</script>\n",
       "    "
      ],
      "text/plain": [
       "<IPython.core.display.HTML object>"
      ]
     },
     "metadata": {},
     "output_type": "display_data"
    },
    {
     "data": {
      "text/html": [
       "\n",
       "        <div id=\"iYybmdYnSHKyBkEUDrCkhx\"></div>\n",
       "        <script>netpixi.call('iYybmdYnSHKyBkEUDrCkhx', 'FiBrqCMcA6f277x2Zu2n23', 'changeGraph', 'eyJpZCI6ICJCZXJtdWRhIiwgInR5cGUiOiAidmVydGV4IiwgInByb3BzIjogeyJzaXplIjogMTEuMDU1NTU1NTU1NTU1NTU1fX0K');</script>\n",
       "    "
      ],
      "text/plain": [
       "<IPython.core.display.HTML object>"
      ]
     },
     "metadata": {},
     "output_type": "display_data"
    },
    {
     "data": {
      "text/html": [
       "\n",
       "        <div id=\"kA79zyjFKkbg5U7TUoenBN\"></div>\n",
       "        <script>netpixi.call('kA79zyjFKkbg5U7TUoenBN', 'FiBrqCMcA6f277x2Zu2n23', 'changeGraph', 'eyJpZCI6ICJJY2VsYW5kIiwgInR5cGUiOiAidmVydGV4IiwgInByb3BzIjogeyJzaXplIjogMTkuMH19Cg==');</script>\n",
       "    "
      ],
      "text/plain": [
       "<IPython.core.display.HTML object>"
      ]
     },
     "metadata": {},
     "output_type": "display_data"
    },
    {
     "data": {
      "text/html": [
       "\n",
       "        <div id=\"e5SL3VjwmRkCLAi97bopts\"></div>\n",
       "        <script>netpixi.call('e5SL3VjwmRkCLAi97bopts', 'FiBrqCMcA6f277x2Zu2n23', 'changeGraph', 'eyJpZCI6ICJSZXAuIG9mIEtvcmVhIiwgInR5cGUiOiAidmVydGV4IiwgInByb3BzIjogeyJzaXplIjogMTkuMjIyMjIyMjIyMjIyMjJ9fQo=');</script>\n",
       "    "
      ],
      "text/plain": [
       "<IPython.core.display.HTML object>"
      ]
     },
     "metadata": {},
     "output_type": "display_data"
    },
    {
     "data": {
      "text/html": [
       "\n",
       "        <div id=\"VxhDdg5DFagucx9hJZLM4B\"></div>\n",
       "        <script>netpixi.call('VxhDdg5DFagucx9hJZLM4B', 'FiBrqCMcA6f277x2Zu2n23', 'changeGraph', 'eyJpZCI6ICJFY3VhZG9yIiwgInR5cGUiOiAidmVydGV4IiwgInByb3BzIjogeyJzaXplIjogNDQuODg4ODg4ODg4ODg4ODg2fX0K');</script>\n",
       "    "
      ],
      "text/plain": [
       "<IPython.core.display.HTML object>"
      ]
     },
     "metadata": {},
     "output_type": "display_data"
    }
   ],
   "source": [
    "matrix = spectral.adjacency(g)\n",
    "\n",
    "# Além de cpnet.Rombach, há outras\n",
    "# opções de algoritmos contínuos:\n",
    "# cpnet.MINRES\n",
    "# cpnet.Rossa\n",
    "\n",
    "algorithm = cpnet.Rombach()\n",
    "algorithm.detect(matrix)\n",
    "c = algorithm.get_coreness()\n",
    "\n",
    "# Depois do código acima, c é um dicionário\n",
    "# em que as chaves são índices de vértices e\n",
    "# valores são os atribuídos pelo algoritmo.\n",
    "\n",
    "g.add_vp('coreness')\n",
    "for i, coreness in c.items():\n",
    "    v = g.get_vertex_by_index(i)\n",
    "    v['coreness'] = float(coreness)\n",
    "\n",
    "# Vamos usar coreness como referência para\n",
    "# o tamanho dos vértices. Estabelecemos 10\n",
    "# como o menor tamanho possível e 40 como\n",
    "# o maior tamanho possível. Como o coreness\n",
    "# está entre 0 e 1, a conta é bem simples.\n",
    "\n",
    "for v in g.all_vertices():\n",
    "    r.vertex(v['id'], size=(10 + 40 * v['coreness']))\n",
    "\n",
    "# Quando a execução desta célula terminar,\n",
    "# veja como ficou a visualização acima."
   ]
  },
  {
   "cell_type": "code",
   "execution_count": 74,
   "id": "eded6e6c",
   "metadata": {},
   "outputs": [
    {
     "data": {
      "text/html": [
       "\n",
       "        <div id=\"dAdpePoBAQCsm2e9LsCBCN\"></div>\n",
       "        <script>netpixi.call('dAdpePoBAQCsm2e9LsCBCN', 'FiBrqCMcA6f277x2Zu2n23', 'normalizeGraph', 'eyJ0eXBlIjogImVkZ2UiLCAicHJvcHMiOiB7InNyYyI6ICJhY2VpdG9zIiwgIm1pbiI6IDEsICJtYXgiOiAxMH19Cg==');</script>\n",
       "    "
      ],
      "text/plain": [
       "<IPython.core.display.HTML object>"
      ]
     },
     "metadata": {},
     "output_type": "display_data"
    },
    {
     "data": {
      "text/html": [
       "\n",
       "        <div id=\"f2kcnADHx4rKNacWJqWQTk\"></div>\n",
       "        <script>netpixi.call('f2kcnADHx4rKNacWJqWQTk', 'FiBrqCMcA6f277x2Zu2n23', 'setGraph', 'eyJ0eXBlIjogInZlcnRleCIsICJwcm9wcyI6IHsic3JjIjogIm5vbWUiLCAiZHN0IjogIl9rZXkifX0K');</script>\n",
       "    "
      ],
      "text/plain": [
       "<IPython.core.display.HTML object>"
      ]
     },
     "metadata": {},
     "output_type": "display_data"
    },
    {
     "data": {
      "text/html": [
       "\n",
       "        <div id=\"CeXzyWgyFkpYoqg6VHpz9V\"></div>\n",
       "        <script>netpixi.call('CeXzyWgyFkpYoqg6VHpz9V', 'FiBrqCMcA6f277x2Zu2n23', 'normalizeGraph', 'eyJ0eXBlIjogInZlcnRleCIsICJwcm9wcyI6IHsic3JjIjogImNvcmVuZXNzIiwgIm1pbiI6IDUsICJtYXgiOiAyNX19Cg==');</script>\n",
       "    "
      ],
      "text/plain": [
       "<IPython.core.display.HTML object>"
      ]
     },
     "metadata": {},
     "output_type": "display_data"
    }
   ],
   "source": [
    "r.edge_scale('aceitos', 1, 10)\n",
    "\n",
    "r.vertex_set_key('nome')\n",
    "\n",
    "r.vertex_scale('coreness', 5, 25)"
   ]
  },
  {
   "cell_type": "code",
   "execution_count": 75,
   "id": "41708db7",
   "metadata": {},
   "outputs": [
    {
     "data": {
      "text/html": [
       "<div>\n",
       "<style scoped>\n",
       "    .dataframe tbody tr th:only-of-type {\n",
       "        vertical-align: middle;\n",
       "    }\n",
       "\n",
       "    .dataframe tbody tr th {\n",
       "        vertical-align: top;\n",
       "    }\n",
       "\n",
       "    .dataframe thead th {\n",
       "        text-align: right;\n",
       "    }\n",
       "</style>\n",
       "<table border=\"1\" class=\"dataframe\">\n",
       "  <thead>\n",
       "    <tr style=\"text-align: right;\">\n",
       "      <th></th>\n",
       "      <th>nome</th>\n",
       "      <th>coreness</th>\n",
       "    </tr>\n",
       "    <tr>\n",
       "      <th>id</th>\n",
       "      <th></th>\n",
       "      <th></th>\n",
       "    </tr>\n",
       "  </thead>\n",
       "  <tbody>\n",
       "    <tr>\n",
       "      <th>Canada</th>\n",
       "      <td>Canada</td>\n",
       "      <td>0.994444</td>\n",
       "    </tr>\n",
       "    <tr>\n",
       "      <th>United States of America</th>\n",
       "      <td>United States of America</td>\n",
       "      <td>0.988889</td>\n",
       "    </tr>\n",
       "    <tr>\n",
       "      <th>Switzerland</th>\n",
       "      <td>Switzerland</td>\n",
       "      <td>0.983333</td>\n",
       "    </tr>\n",
       "    <tr>\n",
       "      <th>United Kingdom</th>\n",
       "      <td>United Kingdom</td>\n",
       "      <td>0.977778</td>\n",
       "    </tr>\n",
       "    <tr>\n",
       "      <th>Norway</th>\n",
       "      <td>Norway</td>\n",
       "      <td>0.972222</td>\n",
       "    </tr>\n",
       "    <tr>\n",
       "      <th>...</th>\n",
       "      <td>...</td>\n",
       "      <td>...</td>\n",
       "    </tr>\n",
       "    <tr>\n",
       "      <th>Tuvalu</th>\n",
       "      <td>Tuvalu</td>\n",
       "      <td>0.005556</td>\n",
       "    </tr>\n",
       "    <tr>\n",
       "      <th>Cabo Verde</th>\n",
       "      <td>Cabo Verde</td>\n",
       "      <td>0.004167</td>\n",
       "    </tr>\n",
       "    <tr>\n",
       "      <th>Svalbard and Jan Mayen</th>\n",
       "      <td>Svalbard and Jan Mayen</td>\n",
       "      <td>0.002778</td>\n",
       "    </tr>\n",
       "    <tr>\n",
       "      <th>Various/Unknown</th>\n",
       "      <td>Various/Unknown</td>\n",
       "      <td>0.001389</td>\n",
       "    </tr>\n",
       "    <tr>\n",
       "      <th>Madagascar</th>\n",
       "      <td>Madagascar</td>\n",
       "      <td>0.000000</td>\n",
       "    </tr>\n",
       "  </tbody>\n",
       "</table>\n",
       "<p>225 rows × 2 columns</p>\n",
       "</div>"
      ],
      "text/plain": [
       "                                              nome  coreness\n",
       "id                                                          \n",
       "Canada                                      Canada  0.994444\n",
       "United States of America  United States of America  0.988889\n",
       "Switzerland                            Switzerland  0.983333\n",
       "United Kingdom                      United Kingdom  0.977778\n",
       "Norway                                      Norway  0.972222\n",
       "...                                            ...       ...\n",
       "Tuvalu                                      Tuvalu  0.005556\n",
       "Cabo Verde                              Cabo Verde  0.004167\n",
       "Svalbard and Jan Mayen      Svalbard and Jan Mayen  0.002778\n",
       "Various/Unknown                    Various/Unknown  0.001389\n",
       "Madagascar                              Madagascar  0.000000\n",
       "\n",
       "[225 rows x 2 columns]"
      ]
     },
     "execution_count": 75,
     "metadata": {},
     "output_type": "execute_result"
    }
   ],
   "source": [
    "df_coreness = gt_data(g).sort_values(\"coreness\", ascending = False)\n",
    "df_coreness"
   ]
  },
  {
   "cell_type": "code",
   "execution_count": 76,
   "id": "69a12b8c",
   "metadata": {},
   "outputs": [
    {
     "name": "stderr",
     "output_type": "stream",
     "text": [
      "<frozen importlib._bootstrap>:914: ImportWarning: VendorImporter.find_spec() not found; falling back to find_module()\n"
     ]
    }
   ],
   "source": [
    "import openpyxl\n",
    "\n",
    "df_coreness.to_excel('./coreness_2009_2010.xlsx')"
   ]
  },
  {
   "cell_type": "markdown",
   "id": "64dbd368",
   "metadata": {},
   "source": [
    "## OUT e IN degree"
   ]
  },
  {
   "cell_type": "code",
   "execution_count": 77,
   "id": "1db50e06",
   "metadata": {},
   "outputs": [
    {
     "name": "stderr",
     "output_type": "stream",
     "text": [
      "/tmp/ipykernel_12/3734551133.py:1: FutureWarning: The default value of numeric_only in DataFrameGroupBy.sum is deprecated. In a future version, numeric_only will default to False. Either specify numeric_only or select only columns which should be valid for the function.\n",
      "  df_out_degree  = df_aresta.groupby('origin').sum().reindex(listaVertices).fillna(0)\n"
     ]
    },
    {
     "data": {
      "text/html": [
       "<div>\n",
       "<style scoped>\n",
       "    .dataframe tbody tr th:only-of-type {\n",
       "        vertical-align: middle;\n",
       "    }\n",
       "\n",
       "    .dataframe tbody tr th {\n",
       "        vertical-align: top;\n",
       "    }\n",
       "\n",
       "    .dataframe thead th {\n",
       "        text-align: right;\n",
       "    }\n",
       "</style>\n",
       "<table border=\"1\" class=\"dataframe\">\n",
       "  <thead>\n",
       "    <tr style=\"text-align: right;\">\n",
       "      <th></th>\n",
       "      <th>value</th>\n",
       "    </tr>\n",
       "    <tr>\n",
       "      <th>origin</th>\n",
       "      <th></th>\n",
       "    </tr>\n",
       "  </thead>\n",
       "  <tbody>\n",
       "    <tr>\n",
       "      <th>Myanmar</th>\n",
       "      <td>66947.0</td>\n",
       "    </tr>\n",
       "    <tr>\n",
       "      <th>Eritrea</th>\n",
       "      <td>53315.0</td>\n",
       "    </tr>\n",
       "    <tr>\n",
       "      <th>Colombia</th>\n",
       "      <td>33917.0</td>\n",
       "    </tr>\n",
       "    <tr>\n",
       "      <th>Somalia</th>\n",
       "      <td>27493.0</td>\n",
       "    </tr>\n",
       "    <tr>\n",
       "      <th>Dem. Rep. of the Congo</th>\n",
       "      <td>25745.0</td>\n",
       "    </tr>\n",
       "    <tr>\n",
       "      <th>...</th>\n",
       "      <td>...</td>\n",
       "    </tr>\n",
       "    <tr>\n",
       "      <th>Anguilla</th>\n",
       "      <td>0.0</td>\n",
       "    </tr>\n",
       "    <tr>\n",
       "      <th>Guadeloupe</th>\n",
       "      <td>0.0</td>\n",
       "    </tr>\n",
       "    <tr>\n",
       "      <th>Montserrat</th>\n",
       "      <td>0.0</td>\n",
       "    </tr>\n",
       "    <tr>\n",
       "      <th>Cook Islands</th>\n",
       "      <td>0.0</td>\n",
       "    </tr>\n",
       "    <tr>\n",
       "      <th>American Samoa</th>\n",
       "      <td>0.0</td>\n",
       "    </tr>\n",
       "  </tbody>\n",
       "</table>\n",
       "<p>225 rows × 1 columns</p>\n",
       "</div>"
      ],
      "text/plain": [
       "                          value\n",
       "origin                         \n",
       "Myanmar                 66947.0\n",
       "Eritrea                 53315.0\n",
       "Colombia                33917.0\n",
       "Somalia                 27493.0\n",
       "Dem. Rep. of the Congo  25745.0\n",
       "...                         ...\n",
       "Anguilla                    0.0\n",
       "Guadeloupe                  0.0\n",
       "Montserrat                  0.0\n",
       "Cook Islands                0.0\n",
       "American Samoa              0.0\n",
       "\n",
       "[225 rows x 1 columns]"
      ]
     },
     "execution_count": 77,
     "metadata": {},
     "output_type": "execute_result"
    }
   ],
   "source": [
    "df_out_degree  = df_aresta.groupby('origin').sum().reindex(listaVertices).fillna(0)\n",
    "df_out_degree.sort_values(\"value\", ascending = False)"
   ]
  },
  {
   "cell_type": "code",
   "execution_count": 78,
   "id": "060f2196",
   "metadata": {},
   "outputs": [
    {
     "name": "stderr",
     "output_type": "stream",
     "text": [
      "/tmp/ipykernel_12/823782808.py:1: FutureWarning: The default value of numeric_only in DataFrameGroupBy.sum is deprecated. In a future version, numeric_only will default to False. Either specify numeric_only or select only columns which should be valid for the function.\n",
      "  df_in_degree  = df_aresta.groupby('destiny').sum().reindex(listaVertices).fillna(0)\n"
     ]
    },
    {
     "data": {
      "text/html": [
       "<div>\n",
       "<style scoped>\n",
       "    .dataframe tbody tr th:only-of-type {\n",
       "        vertical-align: middle;\n",
       "    }\n",
       "\n",
       "    .dataframe tbody tr th {\n",
       "        vertical-align: top;\n",
       "    }\n",
       "\n",
       "    .dataframe thead th {\n",
       "        text-align: right;\n",
       "    }\n",
       "</style>\n",
       "<table border=\"1\" class=\"dataframe\">\n",
       "  <thead>\n",
       "    <tr style=\"text-align: right;\">\n",
       "      <th></th>\n",
       "      <th>value</th>\n",
       "    </tr>\n",
       "    <tr>\n",
       "      <th>destiny</th>\n",
       "      <th></th>\n",
       "    </tr>\n",
       "  </thead>\n",
       "  <tbody>\n",
       "    <tr>\n",
       "      <th>Malaysia</th>\n",
       "      <td>57574.0</td>\n",
       "    </tr>\n",
       "    <tr>\n",
       "      <th>United States of America</th>\n",
       "      <td>38834.0</td>\n",
       "    </tr>\n",
       "    <tr>\n",
       "      <th>Ecuador</th>\n",
       "      <td>27729.0</td>\n",
       "    </tr>\n",
       "    <tr>\n",
       "      <th>France</th>\n",
       "      <td>24370.0</td>\n",
       "    </tr>\n",
       "    <tr>\n",
       "      <th>Canada</th>\n",
       "      <td>23459.0</td>\n",
       "    </tr>\n",
       "    <tr>\n",
       "      <th>...</th>\n",
       "      <td>...</td>\n",
       "    </tr>\n",
       "    <tr>\n",
       "      <th>Cook Islands</th>\n",
       "      <td>0.0</td>\n",
       "    </tr>\n",
       "    <tr>\n",
       "      <th>Saint Vincent and the Grenadines</th>\n",
       "      <td>0.0</td>\n",
       "    </tr>\n",
       "    <tr>\n",
       "      <th>Anguilla</th>\n",
       "      <td>0.0</td>\n",
       "    </tr>\n",
       "    <tr>\n",
       "      <th>Andorra</th>\n",
       "      <td>0.0</td>\n",
       "    </tr>\n",
       "    <tr>\n",
       "      <th>Bhutan</th>\n",
       "      <td>0.0</td>\n",
       "    </tr>\n",
       "  </tbody>\n",
       "</table>\n",
       "<p>225 rows × 1 columns</p>\n",
       "</div>"
      ],
      "text/plain": [
       "                                    value\n",
       "destiny                                  \n",
       "Malaysia                          57574.0\n",
       "United States of America          38834.0\n",
       "Ecuador                           27729.0\n",
       "France                            24370.0\n",
       "Canada                            23459.0\n",
       "...                                   ...\n",
       "Cook Islands                          0.0\n",
       "Saint Vincent and the Grenadines      0.0\n",
       "Anguilla                              0.0\n",
       "Andorra                               0.0\n",
       "Bhutan                                0.0\n",
       "\n",
       "[225 rows x 1 columns]"
      ]
     },
     "execution_count": 78,
     "metadata": {},
     "output_type": "execute_result"
    }
   ],
   "source": [
    "df_in_degree  = df_aresta.groupby('destiny').sum().reindex(listaVertices).fillna(0)\n",
    "df_in_degree.sort_values(\"value\", ascending = False)"
   ]
  },
  {
   "cell_type": "code",
   "execution_count": 79,
   "id": "54fb8fb9",
   "metadata": {},
   "outputs": [
    {
     "name": "stderr",
     "output_type": "stream",
     "text": [
      "<frozen importlib._bootstrap>:914: ImportWarning: VendorImporter.find_spec() not found; falling back to find_module()\n"
     ]
    }
   ],
   "source": [
    "df_out_degree.to_excel('./fluxo_saida_2009_2010.xlsx')\n",
    "df_in_degree.to_excel('./fluxo_entrada_2009_2010.xlsx')"
   ]
  },
  {
   "cell_type": "code",
   "execution_count": 89,
   "id": "07ba2341",
   "metadata": {},
   "outputs": [
    {
     "data": {
      "text/html": [
       "<div>\n",
       "<style scoped>\n",
       "    .dataframe tbody tr th:only-of-type {\n",
       "        vertical-align: middle;\n",
       "    }\n",
       "\n",
       "    .dataframe tbody tr th {\n",
       "        vertical-align: top;\n",
       "    }\n",
       "\n",
       "    .dataframe thead th {\n",
       "        text-align: right;\n",
       "    }\n",
       "</style>\n",
       "<table border=\"1\" class=\"dataframe\">\n",
       "  <thead>\n",
       "    <tr style=\"text-align: right;\">\n",
       "      <th></th>\n",
       "      <th>destiny</th>\n",
       "      <th>value</th>\n",
       "    </tr>\n",
       "  </thead>\n",
       "  <tbody>\n",
       "    <tr>\n",
       "      <th>0</th>\n",
       "      <td>Bahamas</td>\n",
       "      <td>0.0</td>\n",
       "    </tr>\n",
       "    <tr>\n",
       "      <th>1</th>\n",
       "      <td>Dem. Rep. of the Congo</td>\n",
       "      <td>2.0</td>\n",
       "    </tr>\n",
       "    <tr>\n",
       "      <th>2</th>\n",
       "      <td>Mali</td>\n",
       "      <td>40.0</td>\n",
       "    </tr>\n",
       "    <tr>\n",
       "      <th>3</th>\n",
       "      <td>Belize</td>\n",
       "      <td>0.0</td>\n",
       "    </tr>\n",
       "    <tr>\n",
       "      <th>4</th>\n",
       "      <td>Morocco</td>\n",
       "      <td>283.0</td>\n",
       "    </tr>\n",
       "    <tr>\n",
       "      <th>...</th>\n",
       "      <td>...</td>\n",
       "      <td>...</td>\n",
       "    </tr>\n",
       "    <tr>\n",
       "      <th>220</th>\n",
       "      <td>Sri Lanka</td>\n",
       "      <td>114.0</td>\n",
       "    </tr>\n",
       "    <tr>\n",
       "      <th>221</th>\n",
       "      <td>Bermuda</td>\n",
       "      <td>0.0</td>\n",
       "    </tr>\n",
       "    <tr>\n",
       "      <th>222</th>\n",
       "      <td>Iceland</td>\n",
       "      <td>9.0</td>\n",
       "    </tr>\n",
       "    <tr>\n",
       "      <th>223</th>\n",
       "      <td>Rep. of Korea</td>\n",
       "      <td>121.0</td>\n",
       "    </tr>\n",
       "    <tr>\n",
       "      <th>224</th>\n",
       "      <td>Ecuador</td>\n",
       "      <td>27729.0</td>\n",
       "    </tr>\n",
       "  </tbody>\n",
       "</table>\n",
       "<p>225 rows × 2 columns</p>\n",
       "</div>"
      ],
      "text/plain": [
       "                    destiny    value\n",
       "0                   Bahamas      0.0\n",
       "1    Dem. Rep. of the Congo      2.0\n",
       "2                      Mali     40.0\n",
       "3                    Belize      0.0\n",
       "4                   Morocco    283.0\n",
       "..                      ...      ...\n",
       "220               Sri Lanka    114.0\n",
       "221                 Bermuda      0.0\n",
       "222                 Iceland      9.0\n",
       "223           Rep. of Korea    121.0\n",
       "224                 Ecuador  27729.0\n",
       "\n",
       "[225 rows x 2 columns]"
      ]
     },
     "execution_count": 89,
     "metadata": {},
     "output_type": "execute_result"
    }
   ],
   "source": [
    "df_paises_in_out = df_in_degree.reset_index()\n",
    "df_paises_in_out"
   ]
  },
  {
   "cell_type": "code",
   "execution_count": 92,
   "id": "8da15fb5",
   "metadata": {},
   "outputs": [
    {
     "data": {
      "text/html": [
       "<div>\n",
       "<style scoped>\n",
       "    .dataframe tbody tr th:only-of-type {\n",
       "        vertical-align: middle;\n",
       "    }\n",
       "\n",
       "    .dataframe tbody tr th {\n",
       "        vertical-align: top;\n",
       "    }\n",
       "\n",
       "    .dataframe thead th {\n",
       "        text-align: right;\n",
       "    }\n",
       "</style>\n",
       "<table border=\"1\" class=\"dataframe\">\n",
       "  <thead>\n",
       "    <tr style=\"text-align: right;\">\n",
       "      <th></th>\n",
       "      <th>origin</th>\n",
       "      <th>value_x</th>\n",
       "      <th>value_y</th>\n",
       "    </tr>\n",
       "  </thead>\n",
       "  <tbody>\n",
       "    <tr>\n",
       "      <th>0</th>\n",
       "      <td>Bahamas</td>\n",
       "      <td>0.0</td>\n",
       "      <td>9.0</td>\n",
       "    </tr>\n",
       "    <tr>\n",
       "      <th>1</th>\n",
       "      <td>Dem. Rep. of the Congo</td>\n",
       "      <td>2.0</td>\n",
       "      <td>25745.0</td>\n",
       "    </tr>\n",
       "    <tr>\n",
       "      <th>2</th>\n",
       "      <td>Mali</td>\n",
       "      <td>40.0</td>\n",
       "      <td>345.0</td>\n",
       "    </tr>\n",
       "    <tr>\n",
       "      <th>3</th>\n",
       "      <td>Belize</td>\n",
       "      <td>0.0</td>\n",
       "      <td>10.0</td>\n",
       "    </tr>\n",
       "    <tr>\n",
       "      <th>4</th>\n",
       "      <td>Morocco</td>\n",
       "      <td>283.0</td>\n",
       "      <td>120.0</td>\n",
       "    </tr>\n",
       "    <tr>\n",
       "      <th>...</th>\n",
       "      <td>...</td>\n",
       "      <td>...</td>\n",
       "      <td>...</td>\n",
       "    </tr>\n",
       "    <tr>\n",
       "      <th>220</th>\n",
       "      <td>Sri Lanka</td>\n",
       "      <td>114.0</td>\n",
       "      <td>10155.0</td>\n",
       "    </tr>\n",
       "    <tr>\n",
       "      <th>221</th>\n",
       "      <td>Bermuda</td>\n",
       "      <td>0.0</td>\n",
       "      <td>0.0</td>\n",
       "    </tr>\n",
       "    <tr>\n",
       "      <th>222</th>\n",
       "      <td>Iceland</td>\n",
       "      <td>9.0</td>\n",
       "      <td>0.0</td>\n",
       "    </tr>\n",
       "    <tr>\n",
       "      <th>223</th>\n",
       "      <td>Rep. of Korea</td>\n",
       "      <td>121.0</td>\n",
       "      <td>64.0</td>\n",
       "    </tr>\n",
       "    <tr>\n",
       "      <th>224</th>\n",
       "      <td>Ecuador</td>\n",
       "      <td>27729.0</td>\n",
       "      <td>44.0</td>\n",
       "    </tr>\n",
       "  </tbody>\n",
       "</table>\n",
       "<p>225 rows × 3 columns</p>\n",
       "</div>"
      ],
      "text/plain": [
       "                     origin  value_x  value_y\n",
       "0                   Bahamas      0.0      9.0\n",
       "1    Dem. Rep. of the Congo      2.0  25745.0\n",
       "2                      Mali     40.0    345.0\n",
       "3                    Belize      0.0     10.0\n",
       "4                   Morocco    283.0    120.0\n",
       "..                      ...      ...      ...\n",
       "220               Sri Lanka    114.0  10155.0\n",
       "221                 Bermuda      0.0      0.0\n",
       "222                 Iceland      9.0      0.0\n",
       "223           Rep. of Korea    121.0     64.0\n",
       "224                 Ecuador  27729.0     44.0\n",
       "\n",
       "[225 rows x 3 columns]"
      ]
     },
     "execution_count": 92,
     "metadata": {},
     "output_type": "execute_result"
    }
   ],
   "source": [
    "df_paises_in_out = df_in_degree.reset_index()\n",
    "df_paises_in_out = df_paises_in_out.rename(columns={'destiny': 'origin', 'value' : 'value'})\n",
    "df_in_out = df_paises_in_out.merge(df_out_degree, on=\"origin\", how=\"left\")\n",
    "df_in_out"
   ]
  },
  {
   "cell_type": "code",
   "execution_count": 95,
   "id": "8991213a",
   "metadata": {},
   "outputs": [],
   "source": [
    "df_in_out = df_in_out.rename(columns={'value_x': 'in_degree', 'value_y' : 'out_degree'})"
   ]
  },
  {
   "cell_type": "code",
   "execution_count": 96,
   "id": "737fd355",
   "metadata": {},
   "outputs": [
    {
     "name": "stderr",
     "output_type": "stream",
     "text": [
      "<frozen importlib._bootstrap>:914: ImportWarning: VendorImporter.find_spec() not found; falling back to find_module()\n"
     ]
    }
   ],
   "source": [
    "df_in_out.to_excel('./fluxo_total_2009_2010.xlsx')"
   ]
  },
  {
   "cell_type": "markdown",
   "id": "5c7cc8f0",
   "metadata": {},
   "source": [
    "## OPEN"
   ]
  },
  {
   "cell_type": "markdown",
   "id": "4b1517ea",
   "metadata": {},
   "source": []
  }
 ],
 "metadata": {
  "kernelspec": {
   "display_name": "Python 3 (ipykernel)",
   "language": "python",
   "name": "python3"
  },
  "language_info": {
   "codemirror_mode": {
    "name": "ipython",
    "version": 3
   },
   "file_extension": ".py",
   "mimetype": "text/x-python",
   "name": "python",
   "nbconvert_exporter": "python",
   "pygments_lexer": "ipython3",
   "version": "3.10.6"
  }
 },
 "nbformat": 4,
 "nbformat_minor": 5
}
