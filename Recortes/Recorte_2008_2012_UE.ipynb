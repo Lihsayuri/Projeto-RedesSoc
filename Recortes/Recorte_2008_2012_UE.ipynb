{
 "cells": [
  {
   "cell_type": "markdown",
   "id": "18b8cd06",
   "metadata": {},
   "source": [
    "# Recortes para os anos de 2008 a 2012\n",
    "## Países da União Europeia e América Anglo-Saxônica"
   ]
  },
  {
   "cell_type": "code",
   "execution_count": 103,
   "id": "d4a07a16",
   "metadata": {},
   "outputs": [],
   "source": [
    "import numpy as np\n",
    "import pandas as pd\n",
    "import seaborn as sns\n",
    "import regression as reg\n",
    "\n",
    "from scipy import stats\n",
    "from matplotlib import pyplot as plt\n",
    "\n",
    "import openpyxl\n",
    "\n",
    "import netpixi\n",
    "import cpnet\n",
    "\n",
    "from graph_tool import spectral, centrality\n",
    "from netpixi.integration.gt import *\n",
    "from netpixi.integration.gt import Graph\n",
    "from regression.integration.gt import *"
   ]
  },
  {
   "cell_type": "code",
   "execution_count": 104,
   "id": "dc7f7db0",
   "metadata": {
    "collapsed": true
   },
   "outputs": [
    {
     "name": "stderr",
     "output_type": "stream",
     "text": [
      "<frozen importlib._bootstrap>:914: ImportWarning: VendorImporter.find_spec() not found; falling back to find_module()\n"
     ]
    },
    {
     "data": {
      "text/html": [
       "<div>\n",
       "<style scoped>\n",
       "    .dataframe tbody tr th:only-of-type {\n",
       "        vertical-align: middle;\n",
       "    }\n",
       "\n",
       "    .dataframe tbody tr th {\n",
       "        vertical-align: top;\n",
       "    }\n",
       "\n",
       "    .dataframe thead th {\n",
       "        text-align: right;\n",
       "    }\n",
       "</style>\n",
       "<table border=\"1\" class=\"dataframe\">\n",
       "  <thead>\n",
       "    <tr style=\"text-align: right;\">\n",
       "      <th></th>\n",
       "      <th>Unnamed: 0.1</th>\n",
       "      <th>Unnamed: 0</th>\n",
       "      <th>country</th>\n",
       "      <th>idh_2000</th>\n",
       "      <th>idh_2001</th>\n",
       "      <th>idh_2002</th>\n",
       "      <th>idh_2003</th>\n",
       "      <th>idh_2004</th>\n",
       "      <th>idh_2005</th>\n",
       "      <th>idh_2006</th>\n",
       "      <th>...</th>\n",
       "      <th>rejected</th>\n",
       "      <th>betweenness</th>\n",
       "      <th>pop_cont</th>\n",
       "      <th>coreness</th>\n",
       "      <th>in_degree</th>\n",
       "      <th>out_degree</th>\n",
       "      <th>open</th>\n",
       "      <th>coreness_discreto</th>\n",
       "      <th>idh_2008_2012</th>\n",
       "      <th>idh_2001_2003</th>\n",
       "    </tr>\n",
       "  </thead>\n",
       "  <tbody>\n",
       "    <tr>\n",
       "      <th>0</th>\n",
       "      <td>0</td>\n",
       "      <td>0</td>\n",
       "      <td>China, Hong Kong SAR</td>\n",
       "      <td>0.830</td>\n",
       "      <td>0.838</td>\n",
       "      <td>0.845</td>\n",
       "      <td>0.854</td>\n",
       "      <td>0.865</td>\n",
       "      <td>0.874</td>\n",
       "      <td>0.886</td>\n",
       "      <td>...</td>\n",
       "      <td>7767</td>\n",
       "      <td>2.861034e-04</td>\n",
       "      <td>0</td>\n",
       "      <td>0.240278</td>\n",
       "      <td>830</td>\n",
       "      <td>16</td>\n",
       "      <td>9.654531</td>\n",
       "      <td>0</td>\n",
       "      <td>0.9050</td>\n",
       "      <td>0.845667</td>\n",
       "    </tr>\n",
       "    <tr>\n",
       "      <th>1</th>\n",
       "      <td>1</td>\n",
       "      <td>1</td>\n",
       "      <td>China, Macao SAR</td>\n",
       "      <td>0.922</td>\n",
       "      <td>0.922</td>\n",
       "      <td>0.922</td>\n",
       "      <td>0.922</td>\n",
       "      <td>0.922</td>\n",
       "      <td>0.922</td>\n",
       "      <td>0.922</td>\n",
       "      <td>...</td>\n",
       "      <td>7</td>\n",
       "      <td>8.704008e-07</td>\n",
       "      <td>0</td>\n",
       "      <td>0.098611</td>\n",
       "      <td>10</td>\n",
       "      <td>3</td>\n",
       "      <td>58.823529</td>\n",
       "      <td>0</td>\n",
       "      <td>0.9220</td>\n",
       "      <td>0.922000</td>\n",
       "    </tr>\n",
       "    <tr>\n",
       "      <th>2</th>\n",
       "      <td>2</td>\n",
       "      <td>2</td>\n",
       "      <td>Afghanistan</td>\n",
       "      <td>0.350</td>\n",
       "      <td>0.353</td>\n",
       "      <td>0.384</td>\n",
       "      <td>0.393</td>\n",
       "      <td>0.409</td>\n",
       "      <td>0.418</td>\n",
       "      <td>0.429</td>\n",
       "      <td>...</td>\n",
       "      <td>243</td>\n",
       "      <td>2.351135e-03</td>\n",
       "      <td>0</td>\n",
       "      <td>0.120833</td>\n",
       "      <td>249</td>\n",
       "      <td>239198</td>\n",
       "      <td>50.609756</td>\n",
       "      <td>0</td>\n",
       "      <td>0.4690</td>\n",
       "      <td>0.376667</td>\n",
       "    </tr>\n",
       "    <tr>\n",
       "      <th>3</th>\n",
       "      <td>3</td>\n",
       "      <td>3</td>\n",
       "      <td>Albania</td>\n",
       "      <td>0.671</td>\n",
       "      <td>0.678</td>\n",
       "      <td>0.684</td>\n",
       "      <td>0.691</td>\n",
       "      <td>0.696</td>\n",
       "      <td>0.706</td>\n",
       "      <td>0.713</td>\n",
       "      <td>...</td>\n",
       "      <td>64</td>\n",
       "      <td>1.306107e-03</td>\n",
       "      <td>0</td>\n",
       "      <td>0.218056</td>\n",
       "      <td>158</td>\n",
       "      <td>14660</td>\n",
       "      <td>71.171171</td>\n",
       "      <td>0</td>\n",
       "      <td>0.7490</td>\n",
       "      <td>0.684333</td>\n",
       "    </tr>\n",
       "    <tr>\n",
       "      <th>4</th>\n",
       "      <td>4</td>\n",
       "      <td>4</td>\n",
       "      <td>Algeria</td>\n",
       "      <td>0.637</td>\n",
       "      <td>0.647</td>\n",
       "      <td>0.657</td>\n",
       "      <td>0.667</td>\n",
       "      <td>0.677</td>\n",
       "      <td>0.685</td>\n",
       "      <td>0.690</td>\n",
       "      <td>...</td>\n",
       "      <td>5511</td>\n",
       "      <td>5.926680e-03</td>\n",
       "      <td>0</td>\n",
       "      <td>0.222222</td>\n",
       "      <td>404</td>\n",
       "      <td>6174</td>\n",
       "      <td>6.830093</td>\n",
       "      <td>0</td>\n",
       "      <td>0.7180</td>\n",
       "      <td>0.657000</td>\n",
       "    </tr>\n",
       "    <tr>\n",
       "      <th>...</th>\n",
       "      <td>...</td>\n",
       "      <td>...</td>\n",
       "      <td>...</td>\n",
       "      <td>...</td>\n",
       "      <td>...</td>\n",
       "      <td>...</td>\n",
       "      <td>...</td>\n",
       "      <td>...</td>\n",
       "      <td>...</td>\n",
       "      <td>...</td>\n",
       "      <td>...</td>\n",
       "      <td>...</td>\n",
       "      <td>...</td>\n",
       "      <td>...</td>\n",
       "      <td>...</td>\n",
       "      <td>...</td>\n",
       "      <td>...</td>\n",
       "      <td>...</td>\n",
       "      <td>...</td>\n",
       "      <td>...</td>\n",
       "      <td>...</td>\n",
       "    </tr>\n",
       "    <tr>\n",
       "      <th>220</th>\n",
       "      <td>220</td>\n",
       "      <td>220</td>\n",
       "      <td>Wallis and Futuna Islands</td>\n",
       "      <td>0.763</td>\n",
       "      <td>0.763</td>\n",
       "      <td>0.763</td>\n",
       "      <td>0.763</td>\n",
       "      <td>0.763</td>\n",
       "      <td>0.763</td>\n",
       "      <td>0.763</td>\n",
       "      <td>...</td>\n",
       "      <td>0</td>\n",
       "      <td>0.000000e+00</td>\n",
       "      <td>0</td>\n",
       "      <td>0.045833</td>\n",
       "      <td>0</td>\n",
       "      <td>0</td>\n",
       "      <td>0.000000</td>\n",
       "      <td>0</td>\n",
       "      <td>0.7630</td>\n",
       "      <td>0.763000</td>\n",
       "    </tr>\n",
       "    <tr>\n",
       "      <th>221</th>\n",
       "      <td>221</td>\n",
       "      <td>221</td>\n",
       "      <td>Western Sahara</td>\n",
       "      <td>0.000</td>\n",
       "      <td>0.000</td>\n",
       "      <td>0.000</td>\n",
       "      <td>0.000</td>\n",
       "      <td>0.000</td>\n",
       "      <td>0.000</td>\n",
       "      <td>0.000</td>\n",
       "      <td>...</td>\n",
       "      <td>0</td>\n",
       "      <td>0.000000e+00</td>\n",
       "      <td>0</td>\n",
       "      <td>0.004167</td>\n",
       "      <td>0</td>\n",
       "      <td>473</td>\n",
       "      <td>0.000000</td>\n",
       "      <td>0</td>\n",
       "      <td>0.0000</td>\n",
       "      <td>0.000000</td>\n",
       "    </tr>\n",
       "    <tr>\n",
       "      <th>222</th>\n",
       "      <td>222</td>\n",
       "      <td>222</td>\n",
       "      <td>Yemen</td>\n",
       "      <td>0.444</td>\n",
       "      <td>0.453</td>\n",
       "      <td>0.461</td>\n",
       "      <td>0.470</td>\n",
       "      <td>0.477</td>\n",
       "      <td>0.483</td>\n",
       "      <td>0.488</td>\n",
       "      <td>...</td>\n",
       "      <td>5730</td>\n",
       "      <td>5.728203e-03</td>\n",
       "      <td>0</td>\n",
       "      <td>0.194444</td>\n",
       "      <td>11977</td>\n",
       "      <td>10037</td>\n",
       "      <td>67.639916</td>\n",
       "      <td>0</td>\n",
       "      <td>0.5026</td>\n",
       "      <td>0.461333</td>\n",
       "    </tr>\n",
       "    <tr>\n",
       "      <th>223</th>\n",
       "      <td>223</td>\n",
       "      <td>223</td>\n",
       "      <td>Zambia</td>\n",
       "      <td>0.425</td>\n",
       "      <td>0.432</td>\n",
       "      <td>0.441</td>\n",
       "      <td>0.451</td>\n",
       "      <td>0.460</td>\n",
       "      <td>0.471</td>\n",
       "      <td>0.482</td>\n",
       "      <td>...</td>\n",
       "      <td>2454</td>\n",
       "      <td>9.805704e-04</td>\n",
       "      <td>0</td>\n",
       "      <td>0.166667</td>\n",
       "      <td>8280</td>\n",
       "      <td>295</td>\n",
       "      <td>77.138066</td>\n",
       "      <td>0</td>\n",
       "      <td>0.5260</td>\n",
       "      <td>0.441333</td>\n",
       "    </tr>\n",
       "    <tr>\n",
       "      <th>224</th>\n",
       "      <td>224</td>\n",
       "      <td>224</td>\n",
       "      <td>Zimbabwe</td>\n",
       "      <td>0.430</td>\n",
       "      <td>0.431</td>\n",
       "      <td>0.423</td>\n",
       "      <td>0.414</td>\n",
       "      <td>0.411</td>\n",
       "      <td>0.411</td>\n",
       "      <td>0.414</td>\n",
       "      <td>...</td>\n",
       "      <td>1315</td>\n",
       "      <td>2.669126e-03</td>\n",
       "      <td>0</td>\n",
       "      <td>0.156944</td>\n",
       "      <td>15749</td>\n",
       "      <td>25778</td>\n",
       "      <td>92.293718</td>\n",
       "      <td>0</td>\n",
       "      <td>0.4772</td>\n",
       "      <td>0.422667</td>\n",
       "    </tr>\n",
       "  </tbody>\n",
       "</table>\n",
       "<p>225 rows × 33 columns</p>\n",
       "</div>"
      ],
      "text/plain": [
       "     Unnamed: 0.1  Unnamed: 0                     country  idh_2000  idh_2001  \\\n",
       "0               0           0        China, Hong Kong SAR     0.830     0.838   \n",
       "1               1           1            China, Macao SAR     0.922     0.922   \n",
       "2               2           2                 Afghanistan     0.350     0.353   \n",
       "3               3           3                     Albania     0.671     0.678   \n",
       "4               4           4                     Algeria     0.637     0.647   \n",
       "..            ...         ...                         ...       ...       ...   \n",
       "220           220         220  Wallis and Futuna Islands      0.763     0.763   \n",
       "221           221         221              Western Sahara     0.000     0.000   \n",
       "222           222         222                       Yemen     0.444     0.453   \n",
       "223           223         223                      Zambia     0.425     0.432   \n",
       "224           224         224                    Zimbabwe     0.430     0.431   \n",
       "\n",
       "     idh_2002  idh_2003  idh_2004  idh_2005  idh_2006  ...  rejected  \\\n",
       "0       0.845     0.854     0.865     0.874     0.886  ...      7767   \n",
       "1       0.922     0.922     0.922     0.922     0.922  ...         7   \n",
       "2       0.384     0.393     0.409     0.418     0.429  ...       243   \n",
       "3       0.684     0.691     0.696     0.706     0.713  ...        64   \n",
       "4       0.657     0.667     0.677     0.685     0.690  ...      5511   \n",
       "..        ...       ...       ...       ...       ...  ...       ...   \n",
       "220     0.763     0.763     0.763     0.763     0.763  ...         0   \n",
       "221     0.000     0.000     0.000     0.000     0.000  ...         0   \n",
       "222     0.461     0.470     0.477     0.483     0.488  ...      5730   \n",
       "223     0.441     0.451     0.460     0.471     0.482  ...      2454   \n",
       "224     0.423     0.414     0.411     0.411     0.414  ...      1315   \n",
       "\n",
       "      betweenness  pop_cont  coreness  in_degree  out_degree       open  \\\n",
       "0    2.861034e-04         0  0.240278        830          16   9.654531   \n",
       "1    8.704008e-07         0  0.098611         10           3  58.823529   \n",
       "2    2.351135e-03         0  0.120833        249      239198  50.609756   \n",
       "3    1.306107e-03         0  0.218056        158       14660  71.171171   \n",
       "4    5.926680e-03         0  0.222222        404        6174   6.830093   \n",
       "..            ...       ...       ...        ...         ...        ...   \n",
       "220  0.000000e+00         0  0.045833          0           0   0.000000   \n",
       "221  0.000000e+00         0  0.004167          0         473   0.000000   \n",
       "222  5.728203e-03         0  0.194444      11977       10037  67.639916   \n",
       "223  9.805704e-04         0  0.166667       8280         295  77.138066   \n",
       "224  2.669126e-03         0  0.156944      15749       25778  92.293718   \n",
       "\n",
       "     coreness_discreto  idh_2008_2012  idh_2001_2003  \n",
       "0                    0         0.9050       0.845667  \n",
       "1                    0         0.9220       0.922000  \n",
       "2                    0         0.4690       0.376667  \n",
       "3                    0         0.7490       0.684333  \n",
       "4                    0         0.7180       0.657000  \n",
       "..                 ...            ...            ...  \n",
       "220                  0         0.7630       0.763000  \n",
       "221                  0         0.0000       0.000000  \n",
       "222                  0         0.5026       0.461333  \n",
       "223                  0         0.5260       0.441333  \n",
       "224                  0         0.4772       0.422667  \n",
       "\n",
       "[225 rows x 33 columns]"
      ]
     },
     "execution_count": 104,
     "metadata": {},
     "output_type": "execute_result"
    }
   ],
   "source": [
    "data = pd.read_excel('./final_db.xlsx')\n",
    "data"
   ]
  },
  {
   "cell_type": "code",
   "execution_count": 105,
   "id": "34112075",
   "metadata": {
    "collapsed": true
   },
   "outputs": [
    {
     "data": {
      "text/plain": [
       "['Austria',\n",
       " 'Belgium',\n",
       " 'Bulgaria',\n",
       " 'Canada',\n",
       " 'Czech Rep.',\n",
       " 'Cyprus',\n",
       " 'Denmark',\n",
       " 'Estonia',\n",
       " 'Finland',\n",
       " 'France',\n",
       " 'Germany',\n",
       " 'Greece',\n",
       " 'Hungary',\n",
       " 'Ireland',\n",
       " 'Italy',\n",
       " 'Latvia',\n",
       " 'Lithuania',\n",
       " 'Luxembourg',\n",
       " 'Malta',\n",
       " 'Netherlands',\n",
       " 'Poland',\n",
       " 'Portugal',\n",
       " 'Romania',\n",
       " 'Slovakia',\n",
       " 'Slovenia',\n",
       " 'Spain',\n",
       " 'Sweden',\n",
       " 'United States of America']"
      ]
     },
     "execution_count": 105,
     "metadata": {},
     "output_type": "execute_result"
    }
   ],
   "source": [
    "paises_eu_america =  pd.read_csv('./eu_america.csv')\n",
    "lista_paises_eu_america = paises_eu_america['EU_North_America'].to_list()\n",
    "lista_paises_eu_america"
   ]
  },
  {
   "cell_type": "code",
   "execution_count": 7,
   "id": "46700356",
   "metadata": {
    "collapsed": true
   },
   "outputs": [
    {
     "name": "stderr",
     "output_type": "stream",
     "text": [
      "/tmp/ipykernel_12/1764240694.py:1: DtypeWarning: Columns (4,5,6,7,8,9,10,11,12,13) have mixed types. Specify dtype option on import or set low_memory=False.\n",
      "  df_completo = pd.read_csv('../Projeto-rascunho/asylum_seekers.csv')\n"
     ]
    },
    {
     "data": {
      "text/html": [
       "<div>\n",
       "<style scoped>\n",
       "    .dataframe tbody tr th:only-of-type {\n",
       "        vertical-align: middle;\n",
       "    }\n",
       "\n",
       "    .dataframe tbody tr th {\n",
       "        vertical-align: top;\n",
       "    }\n",
       "\n",
       "    .dataframe thead th {\n",
       "        text-align: right;\n",
       "    }\n",
       "</style>\n",
       "<table border=\"1\" class=\"dataframe\">\n",
       "  <thead>\n",
       "    <tr style=\"text-align: right;\">\n",
       "      <th></th>\n",
       "      <th>Year</th>\n",
       "      <th>Country / territory of asylum/residence</th>\n",
       "      <th>Origin</th>\n",
       "      <th>RSD procedure type / level</th>\n",
       "      <th>Tota pending start-year</th>\n",
       "      <th>of which UNHCR-assisted(start-year)</th>\n",
       "      <th>Applied during year</th>\n",
       "      <th>decisions_recognized</th>\n",
       "      <th>decisions_other</th>\n",
       "      <th>Rejected</th>\n",
       "      <th>Otherwise closed</th>\n",
       "      <th>Total decisions</th>\n",
       "      <th>Total pending end-year</th>\n",
       "      <th>of which UNHCR-assisted(end-year)</th>\n",
       "    </tr>\n",
       "  </thead>\n",
       "  <tbody>\n",
       "    <tr>\n",
       "      <th>0</th>\n",
       "      <td>2000</td>\n",
       "      <td>Zimbabwe</td>\n",
       "      <td>Afghanistan</td>\n",
       "      <td>G / FI</td>\n",
       "      <td>0</td>\n",
       "      <td>0</td>\n",
       "      <td>5</td>\n",
       "      <td>5</td>\n",
       "      <td>0</td>\n",
       "      <td>0</td>\n",
       "      <td>0</td>\n",
       "      <td>5.0</td>\n",
       "      <td>0</td>\n",
       "      <td>0</td>\n",
       "    </tr>\n",
       "    <tr>\n",
       "      <th>1</th>\n",
       "      <td>2000</td>\n",
       "      <td>South Africa</td>\n",
       "      <td>Afghanistan</td>\n",
       "      <td>G / FI</td>\n",
       "      <td>8</td>\n",
       "      <td>1</td>\n",
       "      <td>0</td>\n",
       "      <td>0</td>\n",
       "      <td>0</td>\n",
       "      <td>0</td>\n",
       "      <td>0</td>\n",
       "      <td>NaN</td>\n",
       "      <td>8</td>\n",
       "      <td>0</td>\n",
       "    </tr>\n",
       "    <tr>\n",
       "      <th>2</th>\n",
       "      <td>2000</td>\n",
       "      <td>Uzbekistan</td>\n",
       "      <td>Afghanistan</td>\n",
       "      <td>U / FI</td>\n",
       "      <td>265</td>\n",
       "      <td>265</td>\n",
       "      <td>2156</td>\n",
       "      <td>747</td>\n",
       "      <td>0</td>\n",
       "      <td>112</td>\n",
       "      <td>327</td>\n",
       "      <td>1186.0</td>\n",
       "      <td>1235</td>\n",
       "      <td>1235</td>\n",
       "    </tr>\n",
       "    <tr>\n",
       "      <th>3</th>\n",
       "      <td>2000</td>\n",
       "      <td>United States of America</td>\n",
       "      <td>Afghanistan</td>\n",
       "      <td>G / EO</td>\n",
       "      <td>196</td>\n",
       "      <td>0</td>\n",
       "      <td>225</td>\n",
       "      <td>151</td>\n",
       "      <td>0</td>\n",
       "      <td>31</td>\n",
       "      <td>68</td>\n",
       "      <td>250.0</td>\n",
       "      <td>171</td>\n",
       "      <td>0</td>\n",
       "    </tr>\n",
       "    <tr>\n",
       "      <th>4</th>\n",
       "      <td>2000</td>\n",
       "      <td>United States of America</td>\n",
       "      <td>Afghanistan</td>\n",
       "      <td>G / IN</td>\n",
       "      <td>193</td>\n",
       "      <td>0</td>\n",
       "      <td>218</td>\n",
       "      <td>182</td>\n",
       "      <td>0</td>\n",
       "      <td>51</td>\n",
       "      <td>40</td>\n",
       "      <td>273.0</td>\n",
       "      <td>150</td>\n",
       "      <td>0</td>\n",
       "    </tr>\n",
       "    <tr>\n",
       "      <th>...</th>\n",
       "      <td>...</td>\n",
       "      <td>...</td>\n",
       "      <td>...</td>\n",
       "      <td>...</td>\n",
       "      <td>...</td>\n",
       "      <td>...</td>\n",
       "      <td>...</td>\n",
       "      <td>...</td>\n",
       "      <td>...</td>\n",
       "      <td>...</td>\n",
       "      <td>...</td>\n",
       "      <td>...</td>\n",
       "      <td>...</td>\n",
       "      <td>...</td>\n",
       "    </tr>\n",
       "    <tr>\n",
       "      <th>129715</th>\n",
       "      <td>2016</td>\n",
       "      <td>United States of America</td>\n",
       "      <td>Zimbabwe</td>\n",
       "      <td>G / IN</td>\n",
       "      <td>232</td>\n",
       "      <td>NaN</td>\n",
       "      <td>229</td>\n",
       "      <td>16</td>\n",
       "      <td>NaN</td>\n",
       "      <td>*</td>\n",
       "      <td>10</td>\n",
       "      <td>28</td>\n",
       "      <td>435</td>\n",
       "      <td>NaN</td>\n",
       "    </tr>\n",
       "    <tr>\n",
       "      <th>129716</th>\n",
       "      <td>2016</td>\n",
       "      <td>United States of America</td>\n",
       "      <td>Zimbabwe</td>\n",
       "      <td>G / EO</td>\n",
       "      <td>142</td>\n",
       "      <td>NaN</td>\n",
       "      <td>12</td>\n",
       "      <td>*</td>\n",
       "      <td>NaN</td>\n",
       "      <td>*</td>\n",
       "      <td>23</td>\n",
       "      <td>31</td>\n",
       "      <td>138</td>\n",
       "      <td>NaN</td>\n",
       "    </tr>\n",
       "    <tr>\n",
       "      <th>129717</th>\n",
       "      <td>2016</td>\n",
       "      <td>South Africa</td>\n",
       "      <td>Zimbabwe</td>\n",
       "      <td>G / AR</td>\n",
       "      <td>94</td>\n",
       "      <td>9</td>\n",
       "      <td>NaN</td>\n",
       "      <td>NaN</td>\n",
       "      <td>NaN</td>\n",
       "      <td>NaN</td>\n",
       "      <td>94</td>\n",
       "      <td>94</td>\n",
       "      <td>0</td>\n",
       "      <td>NaN</td>\n",
       "    </tr>\n",
       "    <tr>\n",
       "      <th>129718</th>\n",
       "      <td>2016</td>\n",
       "      <td>South Africa</td>\n",
       "      <td>Zimbabwe</td>\n",
       "      <td>G / FI</td>\n",
       "      <td>41238</td>\n",
       "      <td>4124</td>\n",
       "      <td>7964</td>\n",
       "      <td>73</td>\n",
       "      <td>NaN</td>\n",
       "      <td>7869</td>\n",
       "      <td>NaN</td>\n",
       "      <td>7942</td>\n",
       "      <td>41260</td>\n",
       "      <td>NaN</td>\n",
       "    </tr>\n",
       "    <tr>\n",
       "      <th>129719</th>\n",
       "      <td>2016</td>\n",
       "      <td>Zambia</td>\n",
       "      <td>Zimbabwe</td>\n",
       "      <td>G / FI</td>\n",
       "      <td>*</td>\n",
       "      <td>*</td>\n",
       "      <td>*</td>\n",
       "      <td>0</td>\n",
       "      <td>NaN</td>\n",
       "      <td>*</td>\n",
       "      <td>*</td>\n",
       "      <td>*</td>\n",
       "      <td>*</td>\n",
       "      <td>*</td>\n",
       "    </tr>\n",
       "  </tbody>\n",
       "</table>\n",
       "<p>129720 rows × 14 columns</p>\n",
       "</div>"
      ],
      "text/plain": [
       "        Year Country / territory of asylum/residence       Origin  \\\n",
       "0       2000                                Zimbabwe  Afghanistan   \n",
       "1       2000                            South Africa  Afghanistan   \n",
       "2       2000                              Uzbekistan  Afghanistan   \n",
       "3       2000                United States of America  Afghanistan   \n",
       "4       2000                United States of America  Afghanistan   \n",
       "...      ...                                     ...          ...   \n",
       "129715  2016                United States of America     Zimbabwe   \n",
       "129716  2016                United States of America     Zimbabwe   \n",
       "129717  2016                            South Africa     Zimbabwe   \n",
       "129718  2016                            South Africa     Zimbabwe   \n",
       "129719  2016                                  Zambia     Zimbabwe   \n",
       "\n",
       "       RSD procedure type / level Tota pending start-year  \\\n",
       "0                          G / FI                       0   \n",
       "1                          G / FI                       8   \n",
       "2                          U / FI                     265   \n",
       "3                          G / EO                     196   \n",
       "4                          G / IN                     193   \n",
       "...                           ...                     ...   \n",
       "129715                     G / IN                     232   \n",
       "129716                     G / EO                     142   \n",
       "129717                     G / AR                      94   \n",
       "129718                     G / FI                   41238   \n",
       "129719                     G / FI                       *   \n",
       "\n",
       "       of which UNHCR-assisted(start-year) Applied during year  \\\n",
       "0                                        0                   5   \n",
       "1                                        1                   0   \n",
       "2                                      265                2156   \n",
       "3                                        0                 225   \n",
       "4                                        0                 218   \n",
       "...                                    ...                 ...   \n",
       "129715                                 NaN                 229   \n",
       "129716                                 NaN                  12   \n",
       "129717                                   9                 NaN   \n",
       "129718                                4124                7964   \n",
       "129719                                   *                   *   \n",
       "\n",
       "       decisions_recognized decisions_other Rejected Otherwise closed  \\\n",
       "0                         5               0        0                0   \n",
       "1                         0               0        0                0   \n",
       "2                       747               0      112              327   \n",
       "3                       151               0       31               68   \n",
       "4                       182               0       51               40   \n",
       "...                     ...             ...      ...              ...   \n",
       "129715                   16             NaN        *               10   \n",
       "129716                    *             NaN        *               23   \n",
       "129717                  NaN             NaN      NaN               94   \n",
       "129718                   73             NaN     7869              NaN   \n",
       "129719                    0             NaN        *                *   \n",
       "\n",
       "       Total decisions Total pending end-year  \\\n",
       "0                  5.0                      0   \n",
       "1                  NaN                      8   \n",
       "2               1186.0                   1235   \n",
       "3                250.0                    171   \n",
       "4                273.0                    150   \n",
       "...                ...                    ...   \n",
       "129715              28                    435   \n",
       "129716              31                    138   \n",
       "129717              94                      0   \n",
       "129718            7942                  41260   \n",
       "129719               *                      *   \n",
       "\n",
       "       of which UNHCR-assisted(end-year)  \n",
       "0                                      0  \n",
       "1                                      0  \n",
       "2                                   1235  \n",
       "3                                      0  \n",
       "4                                      0  \n",
       "...                                  ...  \n",
       "129715                               NaN  \n",
       "129716                               NaN  \n",
       "129717                               NaN  \n",
       "129718                               NaN  \n",
       "129719                                 *  \n",
       "\n",
       "[129720 rows x 14 columns]"
      ]
     },
     "execution_count": 7,
     "metadata": {},
     "output_type": "execute_result"
    }
   ],
   "source": [
    "df_completo = pd.read_csv('../Projeto-rascunho/asylum_seekers.csv')\n",
    "df_completo"
   ]
  },
  {
   "cell_type": "code",
   "execution_count": 106,
   "id": "3146b261",
   "metadata": {
    "collapsed": true
   },
   "outputs": [
    {
     "data": {
      "text/html": [
       "<div>\n",
       "<style scoped>\n",
       "    .dataframe tbody tr th:only-of-type {\n",
       "        vertical-align: middle;\n",
       "    }\n",
       "\n",
       "    .dataframe tbody tr th {\n",
       "        vertical-align: top;\n",
       "    }\n",
       "\n",
       "    .dataframe thead th {\n",
       "        text-align: right;\n",
       "    }\n",
       "</style>\n",
       "<table border=\"1\" class=\"dataframe\">\n",
       "  <thead>\n",
       "    <tr style=\"text-align: right;\">\n",
       "      <th></th>\n",
       "      <th>destiny</th>\n",
       "      <th>origin</th>\n",
       "      <th>value</th>\n",
       "      <th>rejected</th>\n",
       "      <th>year</th>\n",
       "    </tr>\n",
       "  </thead>\n",
       "  <tbody>\n",
       "    <tr>\n",
       "      <th>0</th>\n",
       "      <td>Zimbabwe</td>\n",
       "      <td>Afghanistan</td>\n",
       "      <td>5</td>\n",
       "      <td>0</td>\n",
       "      <td>2000</td>\n",
       "    </tr>\n",
       "    <tr>\n",
       "      <th>1</th>\n",
       "      <td>South Africa</td>\n",
       "      <td>Afghanistan</td>\n",
       "      <td>0</td>\n",
       "      <td>0</td>\n",
       "      <td>2000</td>\n",
       "    </tr>\n",
       "    <tr>\n",
       "      <th>2</th>\n",
       "      <td>Uzbekistan</td>\n",
       "      <td>Afghanistan</td>\n",
       "      <td>747</td>\n",
       "      <td>112</td>\n",
       "      <td>2000</td>\n",
       "    </tr>\n",
       "    <tr>\n",
       "      <th>3</th>\n",
       "      <td>United States of America</td>\n",
       "      <td>Afghanistan</td>\n",
       "      <td>151</td>\n",
       "      <td>31</td>\n",
       "      <td>2000</td>\n",
       "    </tr>\n",
       "    <tr>\n",
       "      <th>4</th>\n",
       "      <td>United States of America</td>\n",
       "      <td>Afghanistan</td>\n",
       "      <td>182</td>\n",
       "      <td>51</td>\n",
       "      <td>2000</td>\n",
       "    </tr>\n",
       "    <tr>\n",
       "      <th>...</th>\n",
       "      <td>...</td>\n",
       "      <td>...</td>\n",
       "      <td>...</td>\n",
       "      <td>...</td>\n",
       "      <td>...</td>\n",
       "    </tr>\n",
       "    <tr>\n",
       "      <th>129715</th>\n",
       "      <td>United States of America</td>\n",
       "      <td>Zimbabwe</td>\n",
       "      <td>16</td>\n",
       "      <td>*</td>\n",
       "      <td>2016</td>\n",
       "    </tr>\n",
       "    <tr>\n",
       "      <th>129716</th>\n",
       "      <td>United States of America</td>\n",
       "      <td>Zimbabwe</td>\n",
       "      <td>*</td>\n",
       "      <td>*</td>\n",
       "      <td>2016</td>\n",
       "    </tr>\n",
       "    <tr>\n",
       "      <th>129717</th>\n",
       "      <td>South Africa</td>\n",
       "      <td>Zimbabwe</td>\n",
       "      <td>NaN</td>\n",
       "      <td>NaN</td>\n",
       "      <td>2016</td>\n",
       "    </tr>\n",
       "    <tr>\n",
       "      <th>129718</th>\n",
       "      <td>South Africa</td>\n",
       "      <td>Zimbabwe</td>\n",
       "      <td>73</td>\n",
       "      <td>7869</td>\n",
       "      <td>2016</td>\n",
       "    </tr>\n",
       "    <tr>\n",
       "      <th>129719</th>\n",
       "      <td>Zambia</td>\n",
       "      <td>Zimbabwe</td>\n",
       "      <td>0</td>\n",
       "      <td>*</td>\n",
       "      <td>2016</td>\n",
       "    </tr>\n",
       "  </tbody>\n",
       "</table>\n",
       "<p>129720 rows × 5 columns</p>\n",
       "</div>"
      ],
      "text/plain": [
       "                         destiny       origin value rejected  year\n",
       "0                       Zimbabwe  Afghanistan     5        0  2000\n",
       "1                   South Africa  Afghanistan     0        0  2000\n",
       "2                     Uzbekistan  Afghanistan   747      112  2000\n",
       "3       United States of America  Afghanistan   151       31  2000\n",
       "4       United States of America  Afghanistan   182       51  2000\n",
       "...                          ...          ...   ...      ...   ...\n",
       "129715  United States of America     Zimbabwe    16        *  2016\n",
       "129716  United States of America     Zimbabwe     *        *  2016\n",
       "129717              South Africa     Zimbabwe   NaN      NaN  2016\n",
       "129718              South Africa     Zimbabwe    73     7869  2016\n",
       "129719                    Zambia     Zimbabwe     0        *  2016\n",
       "\n",
       "[129720 rows x 5 columns]"
      ]
     },
     "execution_count": 106,
     "metadata": {},
     "output_type": "execute_result"
    }
   ],
   "source": [
    "df_aresta = df_completo.loc[:, ['Country / territory of asylum/residence', 'Origin', 'decisions_recognized', 'Rejected', 'Year']]\n",
    "df_aresta = df_aresta.rename(columns={'Origin': 'origin', 'Country / territory of asylum/residence': 'destiny', 'decisions_recognized': 'value', 'Rejected': 'rejected','Year' : 'year'})\n",
    "df_aresta"
   ]
  },
  {
   "cell_type": "code",
   "execution_count": 107,
   "id": "854f2c3d",
   "metadata": {
    "collapsed": true
   },
   "outputs": [
    {
     "data": {
      "text/html": [
       "<div>\n",
       "<style scoped>\n",
       "    .dataframe tbody tr th:only-of-type {\n",
       "        vertical-align: middle;\n",
       "    }\n",
       "\n",
       "    .dataframe tbody tr th {\n",
       "        vertical-align: top;\n",
       "    }\n",
       "\n",
       "    .dataframe thead th {\n",
       "        text-align: right;\n",
       "    }\n",
       "</style>\n",
       "<table border=\"1\" class=\"dataframe\">\n",
       "  <thead>\n",
       "    <tr style=\"text-align: right;\">\n",
       "      <th></th>\n",
       "      <th>destiny</th>\n",
       "      <th>origin</th>\n",
       "      <th>value</th>\n",
       "      <th>rejected</th>\n",
       "      <th>year</th>\n",
       "    </tr>\n",
       "  </thead>\n",
       "  <tbody>\n",
       "    <tr>\n",
       "      <th>0</th>\n",
       "      <td>Zimbabwe</td>\n",
       "      <td>Afghanistan</td>\n",
       "      <td>5.0</td>\n",
       "      <td>0</td>\n",
       "      <td>2000</td>\n",
       "    </tr>\n",
       "    <tr>\n",
       "      <th>1</th>\n",
       "      <td>South Africa</td>\n",
       "      <td>Afghanistan</td>\n",
       "      <td>0.0</td>\n",
       "      <td>0</td>\n",
       "      <td>2000</td>\n",
       "    </tr>\n",
       "    <tr>\n",
       "      <th>2</th>\n",
       "      <td>Uzbekistan</td>\n",
       "      <td>Afghanistan</td>\n",
       "      <td>747.0</td>\n",
       "      <td>112</td>\n",
       "      <td>2000</td>\n",
       "    </tr>\n",
       "    <tr>\n",
       "      <th>3</th>\n",
       "      <td>United States of America</td>\n",
       "      <td>Afghanistan</td>\n",
       "      <td>151.0</td>\n",
       "      <td>31</td>\n",
       "      <td>2000</td>\n",
       "    </tr>\n",
       "    <tr>\n",
       "      <th>4</th>\n",
       "      <td>United States of America</td>\n",
       "      <td>Afghanistan</td>\n",
       "      <td>182.0</td>\n",
       "      <td>51</td>\n",
       "      <td>2000</td>\n",
       "    </tr>\n",
       "    <tr>\n",
       "      <th>...</th>\n",
       "      <td>...</td>\n",
       "      <td>...</td>\n",
       "      <td>...</td>\n",
       "      <td>...</td>\n",
       "      <td>...</td>\n",
       "    </tr>\n",
       "    <tr>\n",
       "      <th>129715</th>\n",
       "      <td>United States of America</td>\n",
       "      <td>Zimbabwe</td>\n",
       "      <td>16.0</td>\n",
       "      <td>*</td>\n",
       "      <td>2016</td>\n",
       "    </tr>\n",
       "    <tr>\n",
       "      <th>129716</th>\n",
       "      <td>United States of America</td>\n",
       "      <td>Zimbabwe</td>\n",
       "      <td>0.0</td>\n",
       "      <td>*</td>\n",
       "      <td>2016</td>\n",
       "    </tr>\n",
       "    <tr>\n",
       "      <th>129717</th>\n",
       "      <td>South Africa</td>\n",
       "      <td>Zimbabwe</td>\n",
       "      <td>0.0</td>\n",
       "      <td>NaN</td>\n",
       "      <td>2016</td>\n",
       "    </tr>\n",
       "    <tr>\n",
       "      <th>129718</th>\n",
       "      <td>South Africa</td>\n",
       "      <td>Zimbabwe</td>\n",
       "      <td>73.0</td>\n",
       "      <td>7869</td>\n",
       "      <td>2016</td>\n",
       "    </tr>\n",
       "    <tr>\n",
       "      <th>129719</th>\n",
       "      <td>Zambia</td>\n",
       "      <td>Zimbabwe</td>\n",
       "      <td>0.0</td>\n",
       "      <td>*</td>\n",
       "      <td>2016</td>\n",
       "    </tr>\n",
       "  </tbody>\n",
       "</table>\n",
       "<p>129720 rows × 5 columns</p>\n",
       "</div>"
      ],
      "text/plain": [
       "                         destiny       origin  value rejected  year\n",
       "0                       Zimbabwe  Afghanistan    5.0        0  2000\n",
       "1                   South Africa  Afghanistan    0.0        0  2000\n",
       "2                     Uzbekistan  Afghanistan  747.0      112  2000\n",
       "3       United States of America  Afghanistan  151.0       31  2000\n",
       "4       United States of America  Afghanistan  182.0       51  2000\n",
       "...                          ...          ...    ...      ...   ...\n",
       "129715  United States of America     Zimbabwe   16.0        *  2016\n",
       "129716  United States of America     Zimbabwe    0.0        *  2016\n",
       "129717              South Africa     Zimbabwe    0.0      NaN  2016\n",
       "129718              South Africa     Zimbabwe   73.0     7869  2016\n",
       "129719                    Zambia     Zimbabwe    0.0        *  2016\n",
       "\n",
       "[129720 rows x 5 columns]"
      ]
     },
     "execution_count": 107,
     "metadata": {},
     "output_type": "execute_result"
    }
   ],
   "source": [
    "df_aresta.value = pd.to_numeric(df_aresta['value'], errors = 'coerce').fillna(0)\n",
    "df_aresta"
   ]
  },
  {
   "cell_type": "code",
   "execution_count": 108,
   "id": "baa64225",
   "metadata": {
    "collapsed": true
   },
   "outputs": [
    {
     "data": {
      "text/html": [
       "<div>\n",
       "<style scoped>\n",
       "    .dataframe tbody tr th:only-of-type {\n",
       "        vertical-align: middle;\n",
       "    }\n",
       "\n",
       "    .dataframe tbody tr th {\n",
       "        vertical-align: top;\n",
       "    }\n",
       "\n",
       "    .dataframe thead th {\n",
       "        text-align: right;\n",
       "    }\n",
       "</style>\n",
       "<table border=\"1\" class=\"dataframe\">\n",
       "  <thead>\n",
       "    <tr style=\"text-align: right;\">\n",
       "      <th></th>\n",
       "      <th>destiny</th>\n",
       "      <th>origin</th>\n",
       "      <th>value</th>\n",
       "      <th>rejected</th>\n",
       "      <th>year</th>\n",
       "    </tr>\n",
       "  </thead>\n",
       "  <tbody>\n",
       "    <tr>\n",
       "      <th>0</th>\n",
       "      <td>Zimbabwe</td>\n",
       "      <td>Afghanistan</td>\n",
       "      <td>5</td>\n",
       "      <td>0</td>\n",
       "      <td>2000</td>\n",
       "    </tr>\n",
       "    <tr>\n",
       "      <th>1</th>\n",
       "      <td>South Africa</td>\n",
       "      <td>Afghanistan</td>\n",
       "      <td>0</td>\n",
       "      <td>0</td>\n",
       "      <td>2000</td>\n",
       "    </tr>\n",
       "    <tr>\n",
       "      <th>2</th>\n",
       "      <td>Uzbekistan</td>\n",
       "      <td>Afghanistan</td>\n",
       "      <td>747</td>\n",
       "      <td>112</td>\n",
       "      <td>2000</td>\n",
       "    </tr>\n",
       "    <tr>\n",
       "      <th>3</th>\n",
       "      <td>United States of America</td>\n",
       "      <td>Afghanistan</td>\n",
       "      <td>151</td>\n",
       "      <td>31</td>\n",
       "      <td>2000</td>\n",
       "    </tr>\n",
       "    <tr>\n",
       "      <th>4</th>\n",
       "      <td>United States of America</td>\n",
       "      <td>Afghanistan</td>\n",
       "      <td>182</td>\n",
       "      <td>51</td>\n",
       "      <td>2000</td>\n",
       "    </tr>\n",
       "    <tr>\n",
       "      <th>...</th>\n",
       "      <td>...</td>\n",
       "      <td>...</td>\n",
       "      <td>...</td>\n",
       "      <td>...</td>\n",
       "      <td>...</td>\n",
       "    </tr>\n",
       "    <tr>\n",
       "      <th>129715</th>\n",
       "      <td>United States of America</td>\n",
       "      <td>Zimbabwe</td>\n",
       "      <td>16</td>\n",
       "      <td>*</td>\n",
       "      <td>2016</td>\n",
       "    </tr>\n",
       "    <tr>\n",
       "      <th>129716</th>\n",
       "      <td>United States of America</td>\n",
       "      <td>Zimbabwe</td>\n",
       "      <td>*</td>\n",
       "      <td>*</td>\n",
       "      <td>2016</td>\n",
       "    </tr>\n",
       "    <tr>\n",
       "      <th>129717</th>\n",
       "      <td>South Africa</td>\n",
       "      <td>Zimbabwe</td>\n",
       "      <td>NaN</td>\n",
       "      <td>NaN</td>\n",
       "      <td>2016</td>\n",
       "    </tr>\n",
       "    <tr>\n",
       "      <th>129718</th>\n",
       "      <td>South Africa</td>\n",
       "      <td>Zimbabwe</td>\n",
       "      <td>73</td>\n",
       "      <td>7869</td>\n",
       "      <td>2016</td>\n",
       "    </tr>\n",
       "    <tr>\n",
       "      <th>129719</th>\n",
       "      <td>Zambia</td>\n",
       "      <td>Zimbabwe</td>\n",
       "      <td>0</td>\n",
       "      <td>*</td>\n",
       "      <td>2016</td>\n",
       "    </tr>\n",
       "  </tbody>\n",
       "</table>\n",
       "<p>129720 rows × 5 columns</p>\n",
       "</div>"
      ],
      "text/plain": [
       "                         destiny       origin value rejected  year\n",
       "0                       Zimbabwe  Afghanistan     5        0  2000\n",
       "1                   South Africa  Afghanistan     0        0  2000\n",
       "2                     Uzbekistan  Afghanistan   747      112  2000\n",
       "3       United States of America  Afghanistan   151       31  2000\n",
       "4       United States of America  Afghanistan   182       51  2000\n",
       "...                          ...          ...   ...      ...   ...\n",
       "129715  United States of America     Zimbabwe    16        *  2016\n",
       "129716  United States of America     Zimbabwe     *        *  2016\n",
       "129717              South Africa     Zimbabwe   NaN      NaN  2016\n",
       "129718              South Africa     Zimbabwe    73     7869  2016\n",
       "129719                    Zambia     Zimbabwe     0        *  2016\n",
       "\n",
       "[129720 rows x 5 columns]"
      ]
     },
     "execution_count": 108,
     "metadata": {},
     "output_type": "execute_result"
    }
   ],
   "source": [
    "df_rec_1 = df_completo.loc[:, ['Country / territory of asylum/residence', 'Origin', 'decisions_recognized', 'Rejected', 'Year']]\n",
    "df_rec_1 = df_rec_1.rename(columns={'Origin': 'origin', 'Country / territory of asylum/residence': 'destiny', 'decisions_recognized': 'value', 'Rejected': 'rejected','Year' : 'year'})\n",
    "df_rec_1"
   ]
  },
  {
   "cell_type": "code",
   "execution_count": 109,
   "id": "7c580273",
   "metadata": {
    "collapsed": true
   },
   "outputs": [
    {
     "data": {
      "text/html": [
       "<div>\n",
       "<style scoped>\n",
       "    .dataframe tbody tr th:only-of-type {\n",
       "        vertical-align: middle;\n",
       "    }\n",
       "\n",
       "    .dataframe tbody tr th {\n",
       "        vertical-align: top;\n",
       "    }\n",
       "\n",
       "    .dataframe thead th {\n",
       "        text-align: right;\n",
       "    }\n",
       "</style>\n",
       "<table border=\"1\" class=\"dataframe\">\n",
       "  <thead>\n",
       "    <tr style=\"text-align: right;\">\n",
       "      <th></th>\n",
       "      <th>destiny</th>\n",
       "      <th>origin</th>\n",
       "      <th>value</th>\n",
       "      <th>rejected</th>\n",
       "      <th>year</th>\n",
       "    </tr>\n",
       "  </thead>\n",
       "  <tbody>\n",
       "    <tr>\n",
       "      <th>0</th>\n",
       "      <td>Zimbabwe</td>\n",
       "      <td>Afghanistan</td>\n",
       "      <td>5.0</td>\n",
       "      <td>0</td>\n",
       "      <td>2000</td>\n",
       "    </tr>\n",
       "    <tr>\n",
       "      <th>1</th>\n",
       "      <td>South Africa</td>\n",
       "      <td>Afghanistan</td>\n",
       "      <td>0.0</td>\n",
       "      <td>0</td>\n",
       "      <td>2000</td>\n",
       "    </tr>\n",
       "    <tr>\n",
       "      <th>2</th>\n",
       "      <td>Uzbekistan</td>\n",
       "      <td>Afghanistan</td>\n",
       "      <td>747.0</td>\n",
       "      <td>112</td>\n",
       "      <td>2000</td>\n",
       "    </tr>\n",
       "    <tr>\n",
       "      <th>3</th>\n",
       "      <td>United States of America</td>\n",
       "      <td>Afghanistan</td>\n",
       "      <td>151.0</td>\n",
       "      <td>31</td>\n",
       "      <td>2000</td>\n",
       "    </tr>\n",
       "    <tr>\n",
       "      <th>4</th>\n",
       "      <td>United States of America</td>\n",
       "      <td>Afghanistan</td>\n",
       "      <td>182.0</td>\n",
       "      <td>51</td>\n",
       "      <td>2000</td>\n",
       "    </tr>\n",
       "    <tr>\n",
       "      <th>...</th>\n",
       "      <td>...</td>\n",
       "      <td>...</td>\n",
       "      <td>...</td>\n",
       "      <td>...</td>\n",
       "      <td>...</td>\n",
       "    </tr>\n",
       "    <tr>\n",
       "      <th>129715</th>\n",
       "      <td>United States of America</td>\n",
       "      <td>Zimbabwe</td>\n",
       "      <td>16.0</td>\n",
       "      <td>*</td>\n",
       "      <td>2016</td>\n",
       "    </tr>\n",
       "    <tr>\n",
       "      <th>129716</th>\n",
       "      <td>United States of America</td>\n",
       "      <td>Zimbabwe</td>\n",
       "      <td>0.0</td>\n",
       "      <td>*</td>\n",
       "      <td>2016</td>\n",
       "    </tr>\n",
       "    <tr>\n",
       "      <th>129717</th>\n",
       "      <td>South Africa</td>\n",
       "      <td>Zimbabwe</td>\n",
       "      <td>0.0</td>\n",
       "      <td>NaN</td>\n",
       "      <td>2016</td>\n",
       "    </tr>\n",
       "    <tr>\n",
       "      <th>129718</th>\n",
       "      <td>South Africa</td>\n",
       "      <td>Zimbabwe</td>\n",
       "      <td>73.0</td>\n",
       "      <td>7869</td>\n",
       "      <td>2016</td>\n",
       "    </tr>\n",
       "    <tr>\n",
       "      <th>129719</th>\n",
       "      <td>Zambia</td>\n",
       "      <td>Zimbabwe</td>\n",
       "      <td>0.0</td>\n",
       "      <td>*</td>\n",
       "      <td>2016</td>\n",
       "    </tr>\n",
       "  </tbody>\n",
       "</table>\n",
       "<p>129720 rows × 5 columns</p>\n",
       "</div>"
      ],
      "text/plain": [
       "                         destiny       origin  value rejected  year\n",
       "0                       Zimbabwe  Afghanistan    5.0        0  2000\n",
       "1                   South Africa  Afghanistan    0.0        0  2000\n",
       "2                     Uzbekistan  Afghanistan  747.0      112  2000\n",
       "3       United States of America  Afghanistan  151.0       31  2000\n",
       "4       United States of America  Afghanistan  182.0       51  2000\n",
       "...                          ...          ...    ...      ...   ...\n",
       "129715  United States of America     Zimbabwe   16.0        *  2016\n",
       "129716  United States of America     Zimbabwe    0.0        *  2016\n",
       "129717              South Africa     Zimbabwe    0.0      NaN  2016\n",
       "129718              South Africa     Zimbabwe   73.0     7869  2016\n",
       "129719                    Zambia     Zimbabwe    0.0        *  2016\n",
       "\n",
       "[129720 rows x 5 columns]"
      ]
     },
     "execution_count": 109,
     "metadata": {},
     "output_type": "execute_result"
    }
   ],
   "source": [
    "df_rec_1.value = pd.to_numeric(df_rec_1['value'], errors = 'coerce').fillna(0)\n",
    "df_rec_1"
   ]
  },
  {
   "cell_type": "markdown",
   "id": "950d4bdd",
   "metadata": {},
   "source": [
    "2008 - 2012 e países da UE e da América anglo-saxônica"
   ]
  },
  {
   "cell_type": "code",
   "execution_count": 110,
   "id": "d665fe90",
   "metadata": {
    "collapsed": true
   },
   "outputs": [
    {
     "data": {
      "text/html": [
       "<div>\n",
       "<style scoped>\n",
       "    .dataframe tbody tr th:only-of-type {\n",
       "        vertical-align: middle;\n",
       "    }\n",
       "\n",
       "    .dataframe tbody tr th {\n",
       "        vertical-align: top;\n",
       "    }\n",
       "\n",
       "    .dataframe thead th {\n",
       "        text-align: right;\n",
       "    }\n",
       "</style>\n",
       "<table border=\"1\" class=\"dataframe\">\n",
       "  <thead>\n",
       "    <tr style=\"text-align: right;\">\n",
       "      <th></th>\n",
       "      <th>origin</th>\n",
       "      <th>destiny</th>\n",
       "      <th>value</th>\n",
       "      <th>rejected</th>\n",
       "    </tr>\n",
       "  </thead>\n",
       "  <tbody>\n",
       "    <tr>\n",
       "      <th>0</th>\n",
       "      <td>Afghanistan</td>\n",
       "      <td>Albania</td>\n",
       "      <td>0</td>\n",
       "      <td>0</td>\n",
       "    </tr>\n",
       "    <tr>\n",
       "      <th>1</th>\n",
       "      <td>Afghanistan</td>\n",
       "      <td>Algeria</td>\n",
       "      <td>2</td>\n",
       "      <td>0</td>\n",
       "    </tr>\n",
       "    <tr>\n",
       "      <th>2</th>\n",
       "      <td>Afghanistan</td>\n",
       "      <td>Argentina</td>\n",
       "      <td>1</td>\n",
       "      <td>0</td>\n",
       "    </tr>\n",
       "    <tr>\n",
       "      <th>3</th>\n",
       "      <td>Afghanistan</td>\n",
       "      <td>Armenia</td>\n",
       "      <td>0</td>\n",
       "      <td>0</td>\n",
       "    </tr>\n",
       "    <tr>\n",
       "      <th>4</th>\n",
       "      <td>Afghanistan</td>\n",
       "      <td>Australia</td>\n",
       "      <td>5990</td>\n",
       "      <td>1542</td>\n",
       "    </tr>\n",
       "    <tr>\n",
       "      <th>...</th>\n",
       "      <td>...</td>\n",
       "      <td>...</td>\n",
       "      <td>...</td>\n",
       "      <td>...</td>\n",
       "    </tr>\n",
       "    <tr>\n",
       "      <th>7940</th>\n",
       "      <td>Zimbabwe</td>\n",
       "      <td>Ukraine</td>\n",
       "      <td>2</td>\n",
       "      <td>4</td>\n",
       "    </tr>\n",
       "    <tr>\n",
       "      <th>7941</th>\n",
       "      <td>Zimbabwe</td>\n",
       "      <td>United Kingdom</td>\n",
       "      <td>6505</td>\n",
       "      <td>14829</td>\n",
       "    </tr>\n",
       "    <tr>\n",
       "      <th>7942</th>\n",
       "      <td>Zimbabwe</td>\n",
       "      <td>United States of America</td>\n",
       "      <td>643</td>\n",
       "      <td>344</td>\n",
       "    </tr>\n",
       "    <tr>\n",
       "      <th>7943</th>\n",
       "      <td>Zimbabwe</td>\n",
       "      <td>Uruguay</td>\n",
       "      <td>1</td>\n",
       "      <td>0</td>\n",
       "    </tr>\n",
       "    <tr>\n",
       "      <th>7944</th>\n",
       "      <td>Zimbabwe</td>\n",
       "      <td>Zambia</td>\n",
       "      <td>9</td>\n",
       "      <td>6</td>\n",
       "    </tr>\n",
       "  </tbody>\n",
       "</table>\n",
       "<p>7945 rows × 4 columns</p>\n",
       "</div>"
      ],
      "text/plain": [
       "           origin                   destiny  value  rejected\n",
       "0     Afghanistan                   Albania      0         0\n",
       "1     Afghanistan                   Algeria      2         0\n",
       "2     Afghanistan                 Argentina      1         0\n",
       "3     Afghanistan                   Armenia      0         0\n",
       "4     Afghanistan                 Australia   5990      1542\n",
       "...           ...                       ...    ...       ...\n",
       "7940     Zimbabwe                   Ukraine      2         4\n",
       "7941     Zimbabwe            United Kingdom   6505     14829\n",
       "7942     Zimbabwe  United States of America    643       344\n",
       "7943     Zimbabwe                   Uruguay      1         0\n",
       "7944     Zimbabwe                    Zambia      9         6\n",
       "\n",
       "[7945 rows x 4 columns]"
      ]
     },
     "execution_count": 110,
     "metadata": {},
     "output_type": "execute_result"
    }
   ],
   "source": [
    "df_2008_2012 = df_rec_1[((df_rec_1['year'] == 2008) | (df_rec_1['year'] == 2009) | (df_rec_1['year'] == 2010) | \n",
    "                   (df_rec_1['year'] == 2011) | (df_rec_1['year'] == 2012))]\n",
    "df_2008_2012 = df_2008_2012.drop('year', axis=1)\n",
    "df_2008_2012.value = df_2008_2012['value'].astype(int)\n",
    "df_2008_2012.rejected = df_2008_2012['rejected'].astype(int)\n",
    "df_2008_2012 = df_2008_2012[df_2008_2012['origin'] != df_2008_2012['destiny']]\n",
    "df_2008_2012 = df_2008_2012.groupby(['origin', 'destiny']).sum().reset_index()\n",
    "df_2008_2012"
   ]
  },
  {
   "cell_type": "code",
   "execution_count": 111,
   "id": "a2c438c8",
   "metadata": {
    "collapsed": true
   },
   "outputs": [
    {
     "name": "stdout",
     "output_type": "stream",
     "text": [
      "<class 'pandas.core.frame.DataFrame'>\n",
      "RangeIndex: 7945 entries, 0 to 7944\n",
      "Data columns (total 4 columns):\n",
      " #   Column    Non-Null Count  Dtype \n",
      "---  ------    --------------  ----- \n",
      " 0   origin    7945 non-null   object\n",
      " 1   destiny   7945 non-null   object\n",
      " 2   value     7945 non-null   int64 \n",
      " 3   rejected  7945 non-null   int64 \n",
      "dtypes: int64(2), object(2)\n",
      "memory usage: 248.4+ KB\n"
     ]
    }
   ],
   "source": [
    "df_2008_2012.info()"
   ]
  },
  {
   "cell_type": "code",
   "execution_count": 112,
   "id": "4a672f4c",
   "metadata": {},
   "outputs": [
    {
     "name": "stdout",
     "output_type": "stream",
     "text": [
      "225\n"
     ]
    }
   ],
   "source": [
    "listaVertices = []\n",
    "\n",
    "listaVertices = set(df_completo['Country / territory of asylum/residence'].unique().tolist() + df_completo['Origin'].unique().tolist())\n",
    "\n",
    "print(len(listaVertices))"
   ]
  },
  {
   "cell_type": "markdown",
   "id": "c9b7c670",
   "metadata": {},
   "source": [
    "\n",
    "## Hipótese 3: Localização tem relação com intermediação\n",
    "\n",
    "### G : BW: GEO"
   ]
  },
  {
   "cell_type": "markdown",
   "id": "3c267009",
   "metadata": {},
   "source": [
    "#### Explicação:\n",
    "\n",
    "Essa hipótese correlaciona o fato de possuir um alto betweenness (intermediação) com o número de países que fazem fronteira com o país em questão. Sendo assim, essa hipótese diz que quanto mais próximo de outros países é uma nação, ou seja, quanto maior o número de países com os qual faz fronteira, maior é o seu betweenness, indicando uma possibilidade de, por ser um país que faz divisa entre diversos outros, ele pode possuir um betweenness alto já que diversas pessoas iriam passar por ele para ir para outros países. \n",
    "\n",
    "#### Recorte: 2008 a 2012 e países da União Europeia (UE) e da América Anglo-saxônica\n",
    "\n",
    "Esse recorte foi pensado pois, ao tratarmos dos anos de 2008 a 2012, pensamos na crise imobiliária dos Estados Unidos que ocorreu em 2008 e, posteriormente, resultou em uma crise econômica global. Além disso, também houve uma pandemia da gripe H1N1 no ano de 2009. Esses dois acontecimentos, juntos, poderiam resultar em uma possível mudança significativa na entrada e saída de pessoas nos países da UE e América Anglo-Saxônica, o que deixaria de corroborar com a hipótese 3, já que, com isso, a abertura desses países foi restringida e, consequentemente, limitando oa cesso a estes."
   ]
  },
  {
   "cell_type": "code",
   "execution_count": 123,
   "id": "8cea15de",
   "metadata": {
    "collapsed": true
   },
   "outputs": [
    {
     "name": "stderr",
     "output_type": "stream",
     "text": [
      "/tmp/ipykernel_12/2163053283.py:1: FutureWarning: The default value of numeric_only in DataFrameGroupBy.sum is deprecated. In a future version, numeric_only will default to False. Either specify numeric_only or select only columns which should be valid for the function.\n",
      "  df_2008_2012_out = df_2008_2012.groupby('origin').sum().reindex(listaVertices).fillna(0)\n"
     ]
    },
    {
     "data": {
      "text/html": [
       "<div>\n",
       "<style scoped>\n",
       "    .dataframe tbody tr th:only-of-type {\n",
       "        vertical-align: middle;\n",
       "    }\n",
       "\n",
       "    .dataframe tbody tr th {\n",
       "        vertical-align: top;\n",
       "    }\n",
       "\n",
       "    .dataframe thead th {\n",
       "        text-align: right;\n",
       "    }\n",
       "</style>\n",
       "<table border=\"1\" class=\"dataframe\">\n",
       "  <thead>\n",
       "    <tr style=\"text-align: right;\">\n",
       "      <th></th>\n",
       "      <th>value</th>\n",
       "      <th>rejected</th>\n",
       "    </tr>\n",
       "    <tr>\n",
       "      <th>origin</th>\n",
       "      <th></th>\n",
       "      <th></th>\n",
       "    </tr>\n",
       "  </thead>\n",
       "  <tbody>\n",
       "    <tr>\n",
       "      <th>Eritrea</th>\n",
       "      <td>107682.0</td>\n",
       "      <td>15104.0</td>\n",
       "    </tr>\n",
       "    <tr>\n",
       "      <th>Myanmar</th>\n",
       "      <td>107568.0</td>\n",
       "      <td>10132.0</td>\n",
       "    </tr>\n",
       "    <tr>\n",
       "      <th>Dem. Rep. of the Congo</th>\n",
       "      <td>77502.0</td>\n",
       "      <td>47213.0</td>\n",
       "    </tr>\n",
       "    <tr>\n",
       "      <th>Iraq</th>\n",
       "      <td>71266.0</td>\n",
       "      <td>70812.0</td>\n",
       "    </tr>\n",
       "    <tr>\n",
       "      <th>Somalia</th>\n",
       "      <td>70458.0</td>\n",
       "      <td>31256.0</td>\n",
       "    </tr>\n",
       "    <tr>\n",
       "      <th>...</th>\n",
       "      <td>...</td>\n",
       "      <td>...</td>\n",
       "    </tr>\n",
       "    <tr>\n",
       "      <th>Tuvalu</th>\n",
       "      <td>0.0</td>\n",
       "      <td>1.0</td>\n",
       "    </tr>\n",
       "    <tr>\n",
       "      <th>Bermuda</th>\n",
       "      <td>0.0</td>\n",
       "      <td>1.0</td>\n",
       "    </tr>\n",
       "    <tr>\n",
       "      <th>Norfolk Island</th>\n",
       "      <td>0.0</td>\n",
       "      <td>0.0</td>\n",
       "    </tr>\n",
       "    <tr>\n",
       "      <th>Malta</th>\n",
       "      <td>0.0</td>\n",
       "      <td>7.0</td>\n",
       "    </tr>\n",
       "    <tr>\n",
       "      <th>Puerto Rico</th>\n",
       "      <td>0.0</td>\n",
       "      <td>1.0</td>\n",
       "    </tr>\n",
       "  </tbody>\n",
       "</table>\n",
       "<p>225 rows × 2 columns</p>\n",
       "</div>"
      ],
      "text/plain": [
       "                           value  rejected\n",
       "origin                                    \n",
       "Eritrea                 107682.0   15104.0\n",
       "Myanmar                 107568.0   10132.0\n",
       "Dem. Rep. of the Congo   77502.0   47213.0\n",
       "Iraq                     71266.0   70812.0\n",
       "Somalia                  70458.0   31256.0\n",
       "...                          ...       ...\n",
       "Tuvalu                       0.0       1.0\n",
       "Bermuda                      0.0       1.0\n",
       "Norfolk Island               0.0       0.0\n",
       "Malta                        0.0       7.0\n",
       "Puerto Rico                  0.0       1.0\n",
       "\n",
       "[225 rows x 2 columns]"
      ]
     },
     "execution_count": 123,
     "metadata": {},
     "output_type": "execute_result"
    }
   ],
   "source": [
    "df_2008_2012_out = df_2008_2012.groupby('origin').sum().reindex(listaVertices).fillna(0)\n",
    "df_2008_2012_out.sort_values(\"value\", ascending = False)"
   ]
  },
  {
   "cell_type": "code",
   "execution_count": 124,
   "id": "162960c7",
   "metadata": {},
   "outputs": [],
   "source": [
    "# Criando um grafo não-dirigido\n",
    "g3 = Graph(directed=True) \n",
    "g3.add_vp('nome')\n",
    "g3.add_ep('aceitos')"
   ]
  },
  {
   "cell_type": "code",
   "execution_count": 125,
   "id": "a4b9840d",
   "metadata": {},
   "outputs": [],
   "source": [
    "for vertice in listaVertices:\n",
    "    g3.add_vertex(vertice)"
   ]
  },
  {
   "cell_type": "code",
   "execution_count": 126,
   "id": "d0fc72cf",
   "metadata": {},
   "outputs": [],
   "source": [
    "for v in g3.all_vertices():\n",
    "    v['nome'] = str(v)"
   ]
  },
  {
   "cell_type": "code",
   "execution_count": 127,
   "id": "32329b80",
   "metadata": {},
   "outputs": [
    {
     "name": "stdout",
     "output_type": "stream",
     "text": [
      "O número de vértices do grafo é : 225\n"
     ]
    }
   ],
   "source": [
    "n2 = g3.num_vertices()\n",
    "print('O número de vértices do grafo é :', n2)"
   ]
  },
  {
   "cell_type": "code",
   "execution_count": 129,
   "id": "d4a45b26",
   "metadata": {},
   "outputs": [],
   "source": [
    "for index, row in df_2008_2012.iterrows():\n",
    "    g3.add_edge(row.origin, row.destiny)\n",
    "    g3.get_edge(row.origin, row.destiny)['aceitos'] = row.value"
   ]
  },
  {
   "cell_type": "code",
   "execution_count": 130,
   "id": "d898a472",
   "metadata": {},
   "outputs": [],
   "source": [
    "gt_save(g3, '/grafo_2008_2012.net.gz')"
   ]
  },
  {
   "cell_type": "code",
   "execution_count": 131,
   "id": "0c21226f",
   "metadata": {},
   "outputs": [],
   "source": [
    "g3 =  gt_load('/grafo_2008_2012.net.gz')"
   ]
  },
  {
   "cell_type": "code",
   "execution_count": 132,
   "id": "833f99c8",
   "metadata": {},
   "outputs": [],
   "source": [
    "m = gt_draw.sfdp_layout(g3)\n",
    "gt_move(g3, m)\n",
    "gt_save(g3, 'grafo_2008_2012.net.gz')"
   ]
  },
  {
   "cell_type": "code",
   "execution_count": 133,
   "id": "26f6768a",
   "metadata": {
    "collapsed": true
   },
   "outputs": [
    {
     "data": {
      "text/html": [
       "\n",
       "        <div id=\"DWupW6AbSVZyMAvEWNJGeL\"></div>\n",
       "        <script>netpixi.render('DWupW6AbSVZyMAvEWNJGeL', 'grafo_2008_2012.net.gz', 1.7777777777777777, true, true, false);</script>\n",
       "    "
      ],
      "text/plain": [
       "<IPython.core.display.HTML object>"
      ]
     },
     "metadata": {},
     "output_type": "display_data"
    }
   ],
   "source": [
    "r3 = netpixi.render('grafo_2008_2012.net.gz', infinite=True);"
   ]
  },
  {
   "cell_type": "code",
   "execution_count": 134,
   "id": "ccd700af",
   "metadata": {},
   "outputs": [
    {
     "data": {
      "text/html": [
       "\n",
       "        <div id=\"jwoxKLyKmhW58PpUBQ67ca\"></div>\n",
       "        <script>netpixi.call('jwoxKLyKmhW58PpUBQ67ca', 'DWupW6AbSVZyMAvEWNJGeL', 'setGraph', 'eyJ0eXBlIjogInZlcnRleCIsICJwcm9wcyI6IHsic3JjIjogIm5vbWUiLCAiZHN0IjogIl9rZXkifX0K');</script>\n",
       "    "
      ],
      "text/plain": [
       "<IPython.core.display.HTML object>"
      ]
     },
     "metadata": {},
     "output_type": "display_data"
    },
    {
     "data": {
      "text/html": [
       "\n",
       "        <div id=\"L7xGk5vvDFsmHsJMXZpnFt\"></div>\n",
       "        <script>netpixi.call('L7xGk5vvDFsmHsJMXZpnFt', 'DWupW6AbSVZyMAvEWNJGeL', 'changeGraph', 'eyJ0eXBlIjogInNldHRpbmdzIiwgInByb3BzIjogeyJ2ZXJ0ZXgiOiB7ImNvbG9yIjogMTY3NzcyMTV9fX0K');</script>\n",
       "    "
      ],
      "text/plain": [
       "<IPython.core.display.HTML object>"
      ]
     },
     "metadata": {},
     "output_type": "display_data"
    },
    {
     "data": {
      "text/html": [
       "\n",
       "        <div id=\"baJDKvNc5Z8tAShtJRCV6u\"></div>\n",
       "        <script>netpixi.call('baJDKvNc5Z8tAShtJRCV6u', 'DWupW6AbSVZyMAvEWNJGeL', 'changeGraph', 'eyJ0eXBlIjogInNldHRpbmdzIiwgInByb3BzIjogeyJlZGdlIjogeyJjb2xvciI6IDIxNDI4OTB9fX0K');</script>\n",
       "    "
      ],
      "text/plain": [
       "<IPython.core.display.HTML object>"
      ]
     },
     "metadata": {},
     "output_type": "display_data"
    },
    {
     "data": {
      "text/html": [
       "\n",
       "        <div id=\"eeg2YpmnyNcGnjdB22n4Ae\"></div>\n",
       "        <script>netpixi.call('eeg2YpmnyNcGnjdB22n4Ae', 'DWupW6AbSVZyMAvEWNJGeL', 'normalizeGraph', 'eyJ0eXBlIjogImVkZ2UiLCAicHJvcHMiOiB7InNyYyI6ICJhY2VpdG9zIiwgIm1pbiI6IDEsICJtYXgiOiAxMH19Cg==');</script>\n",
       "    "
      ],
      "text/plain": [
       "<IPython.core.display.HTML object>"
      ]
     },
     "metadata": {},
     "output_type": "display_data"
    }
   ],
   "source": [
    "r3.vertex_set_key('nome')\n",
    "\n",
    "r3.vertex_default(color=0xffffff)\n",
    "\n",
    "# mudar a cor, a espessura e a curvatura das arestas\n",
    "r3.edge_default(color=0x20B2AA)\n",
    "\n",
    "r3.edge_scale('aceitos', 1, 10)"
   ]
  },
  {
   "cell_type": "code",
   "execution_count": 135,
   "id": "d5250725",
   "metadata": {},
   "outputs": [],
   "source": [
    "bc_completo, _ = centrality.betweenness(g3)\n",
    "g3.add_vp('betweenness', bc_completo)"
   ]
  },
  {
   "cell_type": "code",
   "execution_count": 136,
   "id": "184ade39",
   "metadata": {
    "collapsed": true
   },
   "outputs": [
    {
     "data": {
      "text/html": [
       "<div>\n",
       "<style scoped>\n",
       "    .dataframe tbody tr th:only-of-type {\n",
       "        vertical-align: middle;\n",
       "    }\n",
       "\n",
       "    .dataframe tbody tr th {\n",
       "        vertical-align: top;\n",
       "    }\n",
       "\n",
       "    .dataframe thead th {\n",
       "        text-align: right;\n",
       "    }\n",
       "</style>\n",
       "<table border=\"1\" class=\"dataframe\">\n",
       "  <thead>\n",
       "    <tr style=\"text-align: right;\">\n",
       "      <th></th>\n",
       "      <th>nome</th>\n",
       "      <th>betweenness</th>\n",
       "    </tr>\n",
       "    <tr>\n",
       "      <th>id</th>\n",
       "      <th></th>\n",
       "      <th></th>\n",
       "    </tr>\n",
       "  </thead>\n",
       "  <tbody>\n",
       "    <tr>\n",
       "      <th>United States of America</th>\n",
       "      <td>United States of America</td>\n",
       "      <td>0.129169</td>\n",
       "    </tr>\n",
       "    <tr>\n",
       "      <th>Syrian Arab Rep.</th>\n",
       "      <td>Syrian Arab Rep.</td>\n",
       "      <td>0.062048</td>\n",
       "    </tr>\n",
       "    <tr>\n",
       "      <th>South Africa</th>\n",
       "      <td>South Africa</td>\n",
       "      <td>0.036638</td>\n",
       "    </tr>\n",
       "    <tr>\n",
       "      <th>Cuba</th>\n",
       "      <td>Cuba</td>\n",
       "      <td>0.033585</td>\n",
       "    </tr>\n",
       "    <tr>\n",
       "      <th>Canada</th>\n",
       "      <td>Canada</td>\n",
       "      <td>0.030156</td>\n",
       "    </tr>\n",
       "    <tr>\n",
       "      <th>...</th>\n",
       "      <td>...</td>\n",
       "      <td>...</td>\n",
       "    </tr>\n",
       "    <tr>\n",
       "      <th>Wallis and Futuna Islands</th>\n",
       "      <td>Wallis and Futuna Islands</td>\n",
       "      <td>0.000000</td>\n",
       "    </tr>\n",
       "    <tr>\n",
       "      <th>Marshall Islands</th>\n",
       "      <td>Marshall Islands</td>\n",
       "      <td>0.000000</td>\n",
       "    </tr>\n",
       "    <tr>\n",
       "      <th>Svalbard and Jan Mayen</th>\n",
       "      <td>Svalbard and Jan Mayen</td>\n",
       "      <td>0.000000</td>\n",
       "    </tr>\n",
       "    <tr>\n",
       "      <th>Stateless</th>\n",
       "      <td>Stateless</td>\n",
       "      <td>0.000000</td>\n",
       "    </tr>\n",
       "    <tr>\n",
       "      <th>Puerto Rico</th>\n",
       "      <td>Puerto Rico</td>\n",
       "      <td>0.000000</td>\n",
       "    </tr>\n",
       "  </tbody>\n",
       "</table>\n",
       "<p>225 rows × 2 columns</p>\n",
       "</div>"
      ],
      "text/plain": [
       "                                                  nome  betweenness\n",
       "id                                                                 \n",
       "United States of America      United States of America     0.129169\n",
       "Syrian Arab Rep.                      Syrian Arab Rep.     0.062048\n",
       "South Africa                              South Africa     0.036638\n",
       "Cuba                                              Cuba     0.033585\n",
       "Canada                                          Canada     0.030156\n",
       "...                                                ...          ...\n",
       "Wallis and Futuna Islands   Wallis and Futuna Islands      0.000000\n",
       "Marshall Islands                      Marshall Islands     0.000000\n",
       "Svalbard and Jan Mayen          Svalbard and Jan Mayen     0.000000\n",
       "Stateless                                    Stateless     0.000000\n",
       "Puerto Rico                                Puerto Rico     0.000000\n",
       "\n",
       "[225 rows x 2 columns]"
      ]
     },
     "execution_count": 136,
     "metadata": {},
     "output_type": "execute_result"
    }
   ],
   "source": [
    "df_betweenness_2008_2012 = gt_data(g3).sort_values(\"betweenness\", ascending = False)\n",
    "df_betweenness_2008_2012"
   ]
  },
  {
   "cell_type": "code",
   "execution_count": 137,
   "id": "bc10cb72",
   "metadata": {},
   "outputs": [],
   "source": [
    "m = gt_draw.sfdp_layout(g3)\n",
    "gt_move(g3, m)\n",
    "gt_save(g3, 'centralidadeBetweeness20082012.net.gz')"
   ]
  },
  {
   "cell_type": "code",
   "execution_count": 138,
   "id": "a6db287f",
   "metadata": {},
   "outputs": [
    {
     "data": {
      "text/html": [
       "\n",
       "        <div id=\"T5BPHS37KynGVxBpdLPxma\"></div>\n",
       "        <script>netpixi.call('T5BPHS37KynGVxBpdLPxma', 'DWupW6AbSVZyMAvEWNJGeL', 'normalizeGraph', 'eyJ0eXBlIjogInZlcnRleCIsICJwcm9wcyI6IHsic3JjIjogImJldHdlZW5uZXNzIiwgIm1pbiI6IDUsICJtYXgiOiAyNX19Cg==');</script>\n",
       "    "
      ],
      "text/plain": [
       "<IPython.core.display.HTML object>"
      ]
     },
     "metadata": {},
     "output_type": "display_data"
    }
   ],
   "source": [
    "r3.vertex_scale('betweenness', 5, 25)"
   ]
  },
  {
   "cell_type": "code",
   "execution_count": 139,
   "id": "f2bee19e",
   "metadata": {
    "collapsed": true
   },
   "outputs": [
    {
     "data": {
      "text/html": [
       "\n",
       "        <div id=\"Y7uAqwWdidqBZ2yf6swRzt\"></div>\n",
       "        <script>netpixi.render('Y7uAqwWdidqBZ2yf6swRzt', 'centralidadeBetweeness20082012.net.gz', 1.7777777777777777, true, true, false);</script>\n",
       "    "
      ],
      "text/plain": [
       "<IPython.core.display.HTML object>"
      ]
     },
     "metadata": {},
     "output_type": "display_data"
    }
   ],
   "source": [
    "r3 = netpixi.render('centralidadeBetweeness20082012.net.gz', infinite=True);"
   ]
  },
  {
   "cell_type": "code",
   "execution_count": 140,
   "id": "6d4c81a9",
   "metadata": {},
   "outputs": [
    {
     "data": {
      "text/html": [
       "\n",
       "        <div id=\"9HbpgBSf4FSSGiReHNsxSw\"></div>\n",
       "        <script>netpixi.call('9HbpgBSf4FSSGiReHNsxSw', 'Y7uAqwWdidqBZ2yf6swRzt', 'normalizeGraph', 'eyJ0eXBlIjogImVkZ2UiLCAicHJvcHMiOiB7InNyYyI6ICJhY2VpdG9zIiwgIm1pbiI6IDEsICJtYXgiOiAxMH19Cg==');</script>\n",
       "    "
      ],
      "text/plain": [
       "<IPython.core.display.HTML object>"
      ]
     },
     "metadata": {},
     "output_type": "display_data"
    },
    {
     "data": {
      "text/html": [
       "\n",
       "        <div id=\"KwPiSUvGFNBcNgp7VD8yDf\"></div>\n",
       "        <script>netpixi.call('KwPiSUvGFNBcNgp7VD8yDf', 'Y7uAqwWdidqBZ2yf6swRzt', 'setGraph', 'eyJ0eXBlIjogInZlcnRleCIsICJwcm9wcyI6IHsic3JjIjogIm5vbWUiLCAiZHN0IjogIl9rZXkifX0K');</script>\n",
       "    "
      ],
      "text/plain": [
       "<IPython.core.display.HTML object>"
      ]
     },
     "metadata": {},
     "output_type": "display_data"
    },
    {
     "data": {
      "text/html": [
       "\n",
       "        <div id=\"K29XFbiftUKdHQQA9U4GX2\"></div>\n",
       "        <script>netpixi.call('K29XFbiftUKdHQQA9U4GX2', 'Y7uAqwWdidqBZ2yf6swRzt', 'normalizeGraph', 'eyJ0eXBlIjogInZlcnRleCIsICJwcm9wcyI6IHsic3JjIjogImJldHdlZW5uZXNzIiwgIm1pbiI6IDUsICJtYXgiOiAyNX19Cg==');</script>\n",
       "    "
      ],
      "text/plain": [
       "<IPython.core.display.HTML object>"
      ]
     },
     "metadata": {},
     "output_type": "display_data"
    }
   ],
   "source": [
    "r3.edge_scale('aceitos', 1, 10)\n",
    "\n",
    "r3.vertex_set_key('nome')\n",
    "\n",
    "r3.vertex_scale('betweenness', 5, 25)"
   ]
  },
  {
   "cell_type": "code",
   "execution_count": 141,
   "id": "011a4d48",
   "metadata": {
    "collapsed": true
   },
   "outputs": [
    {
     "data": {
      "text/html": [
       "<div>\n",
       "<style scoped>\n",
       "    .dataframe tbody tr th:only-of-type {\n",
       "        vertical-align: middle;\n",
       "    }\n",
       "\n",
       "    .dataframe tbody tr th {\n",
       "        vertical-align: top;\n",
       "    }\n",
       "\n",
       "    .dataframe thead th {\n",
       "        text-align: right;\n",
       "    }\n",
       "</style>\n",
       "<table border=\"1\" class=\"dataframe\">\n",
       "  <thead>\n",
       "    <tr style=\"text-align: right;\">\n",
       "      <th></th>\n",
       "      <th>country</th>\n",
       "      <th>n_neightbours</th>\n",
       "    </tr>\n",
       "  </thead>\n",
       "  <tbody>\n",
       "    <tr>\n",
       "      <th>0</th>\n",
       "      <td>China, Hong Kong SAR</td>\n",
       "      <td>1</td>\n",
       "    </tr>\n",
       "    <tr>\n",
       "      <th>1</th>\n",
       "      <td>China, Macao SAR</td>\n",
       "      <td>1</td>\n",
       "    </tr>\n",
       "    <tr>\n",
       "      <th>2</th>\n",
       "      <td>Afghanistan</td>\n",
       "      <td>6</td>\n",
       "    </tr>\n",
       "    <tr>\n",
       "      <th>3</th>\n",
       "      <td>Albania</td>\n",
       "      <td>4</td>\n",
       "    </tr>\n",
       "    <tr>\n",
       "      <th>4</th>\n",
       "      <td>Algeria</td>\n",
       "      <td>7</td>\n",
       "    </tr>\n",
       "    <tr>\n",
       "      <th>...</th>\n",
       "      <td>...</td>\n",
       "      <td>...</td>\n",
       "    </tr>\n",
       "    <tr>\n",
       "      <th>220</th>\n",
       "      <td>Wallis and Futuna Islands</td>\n",
       "      <td>0</td>\n",
       "    </tr>\n",
       "    <tr>\n",
       "      <th>221</th>\n",
       "      <td>Western Sahara</td>\n",
       "      <td>3</td>\n",
       "    </tr>\n",
       "    <tr>\n",
       "      <th>222</th>\n",
       "      <td>Yemen</td>\n",
       "      <td>2</td>\n",
       "    </tr>\n",
       "    <tr>\n",
       "      <th>223</th>\n",
       "      <td>Zambia</td>\n",
       "      <td>8</td>\n",
       "    </tr>\n",
       "    <tr>\n",
       "      <th>224</th>\n",
       "      <td>Zimbabwe</td>\n",
       "      <td>4</td>\n",
       "    </tr>\n",
       "  </tbody>\n",
       "</table>\n",
       "<p>225 rows × 2 columns</p>\n",
       "</div>"
      ],
      "text/plain": [
       "                        country  n_neightbours\n",
       "0          China, Hong Kong SAR              1\n",
       "1              China, Macao SAR              1\n",
       "2                   Afghanistan              6\n",
       "3                       Albania              4\n",
       "4                       Algeria              7\n",
       "..                          ...            ...\n",
       "220  Wallis and Futuna Islands               0\n",
       "221              Western Sahara              3\n",
       "222                       Yemen              2\n",
       "223                      Zambia              8\n",
       "224                    Zimbabwe              4\n",
       "\n",
       "[225 rows x 2 columns]"
      ]
     },
     "execution_count": 141,
     "metadata": {},
     "output_type": "execute_result"
    }
   ],
   "source": [
    "data_2008_2012_geo = data.loc[:, ['country', 'n_neightbours']]\n",
    "data_2008_2012_geo"
   ]
  },
  {
   "cell_type": "code",
   "execution_count": 142,
   "id": "31f9e07a",
   "metadata": {
    "collapsed": true
   },
   "outputs": [
    {
     "data": {
      "text/html": [
       "<div>\n",
       "<style scoped>\n",
       "    .dataframe tbody tr th:only-of-type {\n",
       "        vertical-align: middle;\n",
       "    }\n",
       "\n",
       "    .dataframe tbody tr th {\n",
       "        vertical-align: top;\n",
       "    }\n",
       "\n",
       "    .dataframe thead th {\n",
       "        text-align: right;\n",
       "    }\n",
       "</style>\n",
       "<table border=\"1\" class=\"dataframe\">\n",
       "  <thead>\n",
       "    <tr style=\"text-align: right;\">\n",
       "      <th></th>\n",
       "      <th>origin</th>\n",
       "      <th>betweenness</th>\n",
       "    </tr>\n",
       "    <tr>\n",
       "      <th>id</th>\n",
       "      <th></th>\n",
       "      <th></th>\n",
       "    </tr>\n",
       "  </thead>\n",
       "  <tbody>\n",
       "    <tr>\n",
       "      <th>United States of America</th>\n",
       "      <td>United States of America</td>\n",
       "      <td>0.129169</td>\n",
       "    </tr>\n",
       "    <tr>\n",
       "      <th>Syrian Arab Rep.</th>\n",
       "      <td>Syrian Arab Rep.</td>\n",
       "      <td>0.062048</td>\n",
       "    </tr>\n",
       "    <tr>\n",
       "      <th>South Africa</th>\n",
       "      <td>South Africa</td>\n",
       "      <td>0.036638</td>\n",
       "    </tr>\n",
       "    <tr>\n",
       "      <th>Cuba</th>\n",
       "      <td>Cuba</td>\n",
       "      <td>0.033585</td>\n",
       "    </tr>\n",
       "    <tr>\n",
       "      <th>Canada</th>\n",
       "      <td>Canada</td>\n",
       "      <td>0.030156</td>\n",
       "    </tr>\n",
       "    <tr>\n",
       "      <th>...</th>\n",
       "      <td>...</td>\n",
       "      <td>...</td>\n",
       "    </tr>\n",
       "    <tr>\n",
       "      <th>Wallis and Futuna Islands</th>\n",
       "      <td>Wallis and Futuna Islands</td>\n",
       "      <td>0.000000</td>\n",
       "    </tr>\n",
       "    <tr>\n",
       "      <th>Marshall Islands</th>\n",
       "      <td>Marshall Islands</td>\n",
       "      <td>0.000000</td>\n",
       "    </tr>\n",
       "    <tr>\n",
       "      <th>Svalbard and Jan Mayen</th>\n",
       "      <td>Svalbard and Jan Mayen</td>\n",
       "      <td>0.000000</td>\n",
       "    </tr>\n",
       "    <tr>\n",
       "      <th>Stateless</th>\n",
       "      <td>Stateless</td>\n",
       "      <td>0.000000</td>\n",
       "    </tr>\n",
       "    <tr>\n",
       "      <th>Puerto Rico</th>\n",
       "      <td>Puerto Rico</td>\n",
       "      <td>0.000000</td>\n",
       "    </tr>\n",
       "  </tbody>\n",
       "</table>\n",
       "<p>225 rows × 2 columns</p>\n",
       "</div>"
      ],
      "text/plain": [
       "                                                origin  betweenness\n",
       "id                                                                 \n",
       "United States of America      United States of America     0.129169\n",
       "Syrian Arab Rep.                      Syrian Arab Rep.     0.062048\n",
       "South Africa                              South Africa     0.036638\n",
       "Cuba                                              Cuba     0.033585\n",
       "Canada                                          Canada     0.030156\n",
       "...                                                ...          ...\n",
       "Wallis and Futuna Islands   Wallis and Futuna Islands      0.000000\n",
       "Marshall Islands                      Marshall Islands     0.000000\n",
       "Svalbard and Jan Mayen          Svalbard and Jan Mayen     0.000000\n",
       "Stateless                                    Stateless     0.000000\n",
       "Puerto Rico                                Puerto Rico     0.000000\n",
       "\n",
       "[225 rows x 2 columns]"
      ]
     },
     "execution_count": 142,
     "metadata": {},
     "output_type": "execute_result"
    }
   ],
   "source": [
    "data_2008_2012_geo = data_2008_2012_geo.rename(columns={'country': 'origin'})\n",
    "df_betweenness_2008_2012 = df_betweenness_2008_2012.rename(columns={'nome':'origin'})\n",
    "df_betweenness_2008_2012"
   ]
  },
  {
   "cell_type": "code",
   "execution_count": 143,
   "id": "7947d858",
   "metadata": {
    "collapsed": true
   },
   "outputs": [
    {
     "data": {
      "text/html": [
       "<div>\n",
       "<style scoped>\n",
       "    .dataframe tbody tr th:only-of-type {\n",
       "        vertical-align: middle;\n",
       "    }\n",
       "\n",
       "    .dataframe tbody tr th {\n",
       "        vertical-align: top;\n",
       "    }\n",
       "\n",
       "    .dataframe thead th {\n",
       "        text-align: right;\n",
       "    }\n",
       "</style>\n",
       "<table border=\"1\" class=\"dataframe\">\n",
       "  <thead>\n",
       "    <tr style=\"text-align: right;\">\n",
       "      <th></th>\n",
       "      <th>origin</th>\n",
       "      <th>betweenness</th>\n",
       "      <th>n_neightbours</th>\n",
       "    </tr>\n",
       "  </thead>\n",
       "  <tbody>\n",
       "    <tr>\n",
       "      <th>0</th>\n",
       "      <td>United States of America</td>\n",
       "      <td>0.129169</td>\n",
       "      <td>2</td>\n",
       "    </tr>\n",
       "    <tr>\n",
       "      <th>4</th>\n",
       "      <td>Canada</td>\n",
       "      <td>0.030156</td>\n",
       "      <td>1</td>\n",
       "    </tr>\n",
       "    <tr>\n",
       "      <th>8</th>\n",
       "      <td>France</td>\n",
       "      <td>0.020260</td>\n",
       "      <td>8</td>\n",
       "    </tr>\n",
       "    <tr>\n",
       "      <th>14</th>\n",
       "      <td>Belgium</td>\n",
       "      <td>0.016598</td>\n",
       "      <td>4</td>\n",
       "    </tr>\n",
       "    <tr>\n",
       "      <th>15</th>\n",
       "      <td>Germany</td>\n",
       "      <td>0.015891</td>\n",
       "      <td>9</td>\n",
       "    </tr>\n",
       "    <tr>\n",
       "      <th>34</th>\n",
       "      <td>Greece</td>\n",
       "      <td>0.006709</td>\n",
       "      <td>4</td>\n",
       "    </tr>\n",
       "    <tr>\n",
       "      <th>40</th>\n",
       "      <td>Netherlands</td>\n",
       "      <td>0.005977</td>\n",
       "      <td>2</td>\n",
       "    </tr>\n",
       "    <tr>\n",
       "      <th>41</th>\n",
       "      <td>Romania</td>\n",
       "      <td>0.005909</td>\n",
       "      <td>5</td>\n",
       "    </tr>\n",
       "    <tr>\n",
       "      <th>42</th>\n",
       "      <td>Italy</td>\n",
       "      <td>0.005645</td>\n",
       "      <td>6</td>\n",
       "    </tr>\n",
       "    <tr>\n",
       "      <th>45</th>\n",
       "      <td>Denmark</td>\n",
       "      <td>0.005308</td>\n",
       "      <td>1</td>\n",
       "    </tr>\n",
       "    <tr>\n",
       "      <th>55</th>\n",
       "      <td>Hungary</td>\n",
       "      <td>0.003688</td>\n",
       "      <td>7</td>\n",
       "    </tr>\n",
       "    <tr>\n",
       "      <th>58</th>\n",
       "      <td>Ireland</td>\n",
       "      <td>0.002846</td>\n",
       "      <td>1</td>\n",
       "    </tr>\n",
       "    <tr>\n",
       "      <th>65</th>\n",
       "      <td>Sweden</td>\n",
       "      <td>0.002093</td>\n",
       "      <td>2</td>\n",
       "    </tr>\n",
       "    <tr>\n",
       "      <th>67</th>\n",
       "      <td>Czech Rep.</td>\n",
       "      <td>0.001977</td>\n",
       "      <td>4</td>\n",
       "    </tr>\n",
       "    <tr>\n",
       "      <th>78</th>\n",
       "      <td>Cyprus</td>\n",
       "      <td>0.001512</td>\n",
       "      <td>0</td>\n",
       "    </tr>\n",
       "    <tr>\n",
       "      <th>79</th>\n",
       "      <td>Bulgaria</td>\n",
       "      <td>0.001492</td>\n",
       "      <td>5</td>\n",
       "    </tr>\n",
       "    <tr>\n",
       "      <th>80</th>\n",
       "      <td>Poland</td>\n",
       "      <td>0.001446</td>\n",
       "      <td>7</td>\n",
       "    </tr>\n",
       "    <tr>\n",
       "      <th>81</th>\n",
       "      <td>Spain</td>\n",
       "      <td>0.001443</td>\n",
       "      <td>5</td>\n",
       "    </tr>\n",
       "    <tr>\n",
       "      <th>86</th>\n",
       "      <td>Slovakia</td>\n",
       "      <td>0.001216</td>\n",
       "      <td>5</td>\n",
       "    </tr>\n",
       "    <tr>\n",
       "      <th>108</th>\n",
       "      <td>Austria</td>\n",
       "      <td>0.000610</td>\n",
       "      <td>8</td>\n",
       "    </tr>\n",
       "    <tr>\n",
       "      <th>119</th>\n",
       "      <td>Portugal</td>\n",
       "      <td>0.000344</td>\n",
       "      <td>1</td>\n",
       "    </tr>\n",
       "    <tr>\n",
       "      <th>128</th>\n",
       "      <td>Lithuania</td>\n",
       "      <td>0.000186</td>\n",
       "      <td>4</td>\n",
       "    </tr>\n",
       "    <tr>\n",
       "      <th>129</th>\n",
       "      <td>Latvia</td>\n",
       "      <td>0.000181</td>\n",
       "      <td>4</td>\n",
       "    </tr>\n",
       "    <tr>\n",
       "      <th>131</th>\n",
       "      <td>Estonia</td>\n",
       "      <td>0.000177</td>\n",
       "      <td>2</td>\n",
       "    </tr>\n",
       "    <tr>\n",
       "      <th>137</th>\n",
       "      <td>Finland</td>\n",
       "      <td>0.000060</td>\n",
       "      <td>3</td>\n",
       "    </tr>\n",
       "    <tr>\n",
       "      <th>141</th>\n",
       "      <td>Slovenia</td>\n",
       "      <td>0.000032</td>\n",
       "      <td>4</td>\n",
       "    </tr>\n",
       "    <tr>\n",
       "      <th>151</th>\n",
       "      <td>Malta</td>\n",
       "      <td>0.000012</td>\n",
       "      <td>0</td>\n",
       "    </tr>\n",
       "    <tr>\n",
       "      <th>158</th>\n",
       "      <td>Luxembourg</td>\n",
       "      <td>0.000003</td>\n",
       "      <td>3</td>\n",
       "    </tr>\n",
       "  </tbody>\n",
       "</table>\n",
       "</div>"
      ],
      "text/plain": [
       "                       origin  betweenness  n_neightbours\n",
       "0    United States of America     0.129169              2\n",
       "4                      Canada     0.030156              1\n",
       "8                      France     0.020260              8\n",
       "14                    Belgium     0.016598              4\n",
       "15                    Germany     0.015891              9\n",
       "34                     Greece     0.006709              4\n",
       "40                Netherlands     0.005977              2\n",
       "41                    Romania     0.005909              5\n",
       "42                      Italy     0.005645              6\n",
       "45                    Denmark     0.005308              1\n",
       "55                    Hungary     0.003688              7\n",
       "58                    Ireland     0.002846              1\n",
       "65                     Sweden     0.002093              2\n",
       "67                 Czech Rep.     0.001977              4\n",
       "78                     Cyprus     0.001512              0\n",
       "79                   Bulgaria     0.001492              5\n",
       "80                     Poland     0.001446              7\n",
       "81                      Spain     0.001443              5\n",
       "86                   Slovakia     0.001216              5\n",
       "108                   Austria     0.000610              8\n",
       "119                  Portugal     0.000344              1\n",
       "128                 Lithuania     0.000186              4\n",
       "129                    Latvia     0.000181              4\n",
       "131                   Estonia     0.000177              2\n",
       "137                   Finland     0.000060              3\n",
       "141                  Slovenia     0.000032              4\n",
       "151                     Malta     0.000012              0\n",
       "158                Luxembourg     0.000003              3"
      ]
     },
     "execution_count": 143,
     "metadata": {},
     "output_type": "execute_result"
    }
   ],
   "source": [
    "df_betweenness_2008_2012 = df_betweenness_2008_2012.merge(data_2008_2012_geo, on=\"origin\", how=\"left\")\n",
    "df_filtrado_bw_geo_2008_2012 = df_betweenness_2008_2012[(df_betweenness_2008_2012['origin'].isin(lista_paises_eu_america))]\n",
    "df_filtrado_bw_geo_2008_2012"
   ]
  },
  {
   "cell_type": "markdown",
   "id": "dcb6cbb8",
   "metadata": {},
   "source": [
    "#### Regressão\n",
    "\n",
    "Com os resultados obtidos no processo acima, obtivemos a tabela logo acima dessa célula, a df_filtrado_bw_geo_2008_2012, correlacionando o valor do betweenness com o recorte proposto e, para podermos analisar se o recorte realmente faz sentido e faria com que a hipótese não corroborasse mais, precisamos realizar uma regressão linear, uma vez que a variável dependente (betweenness) é um valor contínuo (métrica)."
   ]
  },
  {
   "cell_type": "code",
   "execution_count": 144,
   "id": "b146082e",
   "metadata": {
    "collapsed": true
   },
   "outputs": [
    {
     "data": {
      "text/html": [
       "<table class=\"simpletable\">\n",
       "<caption>OLS Regression Results</caption>\n",
       "<tr>\n",
       "  <th>Dep. Variable:</th>       <td>betweenness</td>   <th>  R-squared:         </th> <td>   0.008</td>\n",
       "</tr>\n",
       "<tr>\n",
       "  <th>Model:</th>                   <td>OLS</td>       <th>  Adj. R-squared:    </th> <td>  -0.030</td>\n",
       "</tr>\n",
       "<tr>\n",
       "  <th>Method:</th>             <td>Least Squares</td>  <th>  F-statistic:       </th> <td>  0.2170</td>\n",
       "</tr>\n",
       "<tr>\n",
       "  <th>Date:</th>             <td>Sun, 20 Nov 2022</td> <th>  Prob (F-statistic):</th>  <td> 0.645</td> \n",
       "</tr>\n",
       "<tr>\n",
       "  <th>Time:</th>                 <td>05:39:18</td>     <th>  Log-Likelihood:    </th> <td>  64.655</td>\n",
       "</tr>\n",
       "<tr>\n",
       "  <th>No. Observations:</th>      <td>    28</td>      <th>  AIC:               </th> <td>  -125.3</td>\n",
       "</tr>\n",
       "<tr>\n",
       "  <th>Df Residuals:</th>          <td>    26</td>      <th>  BIC:               </th> <td>  -122.6</td>\n",
       "</tr>\n",
       "<tr>\n",
       "  <th>Df Model:</th>              <td>     1</td>      <th>                     </th>     <td> </td>   \n",
       "</tr>\n",
       "<tr>\n",
       "  <th>Covariance Type:</th>      <td>nonrobust</td>    <th>                     </th>     <td> </td>   \n",
       "</tr>\n",
       "</table>\n",
       "<table class=\"simpletable\">\n",
       "<tr>\n",
       "        <td></td>           <th>coef</th>     <th>std err</th>      <th>t</th>      <th>P>|t|</th>  <th>[0.025</th>    <th>0.975]</th>  \n",
       "</tr>\n",
       "<tr>\n",
       "  <th>Intercept</th>     <td>    0.0127</td> <td>    0.009</td> <td>    1.459</td> <td> 0.157</td> <td>   -0.005</td> <td>    0.031</td>\n",
       "</tr>\n",
       "<tr>\n",
       "  <th>n_neightbours</th> <td>   -0.0009</td> <td>    0.002</td> <td>   -0.466</td> <td> 0.645</td> <td>   -0.005</td> <td>    0.003</td>\n",
       "</tr>\n",
       "</table>\n",
       "<table class=\"simpletable\">\n",
       "<tr>\n",
       "  <th>Omnibus:</th>       <td>59.460</td> <th>  Durbin-Watson:     </th> <td>   0.647</td> \n",
       "</tr>\n",
       "<tr>\n",
       "  <th>Prob(Omnibus):</th> <td> 0.000</td> <th>  Jarque-Bera (JB):  </th> <td> 458.433</td> \n",
       "</tr>\n",
       "<tr>\n",
       "  <th>Skew:</th>          <td> 4.240</td> <th>  Prob(JB):          </th> <td>2.84e-100</td>\n",
       "</tr>\n",
       "<tr>\n",
       "  <th>Kurtosis:</th>      <td>20.918</td> <th>  Cond. No.          </th> <td>    8.70</td> \n",
       "</tr>\n",
       "</table><br/><br/>Notes:<br/>[1] Standard Errors assume that the covariance matrix of the errors is correctly specified."
      ],
      "text/plain": [
       "<class 'statsmodels.iolib.summary.Summary'>\n",
       "\"\"\"\n",
       "                            OLS Regression Results                            \n",
       "==============================================================================\n",
       "Dep. Variable:            betweenness   R-squared:                       0.008\n",
       "Model:                            OLS   Adj. R-squared:                 -0.030\n",
       "Method:                 Least Squares   F-statistic:                    0.2170\n",
       "Date:                Sun, 20 Nov 2022   Prob (F-statistic):              0.645\n",
       "Time:                        05:39:18   Log-Likelihood:                 64.655\n",
       "No. Observations:                  28   AIC:                            -125.3\n",
       "Df Residuals:                      26   BIC:                            -122.6\n",
       "Df Model:                           1                                         \n",
       "Covariance Type:            nonrobust                                         \n",
       "=================================================================================\n",
       "                    coef    std err          t      P>|t|      [0.025      0.975]\n",
       "---------------------------------------------------------------------------------\n",
       "Intercept         0.0127      0.009      1.459      0.157      -0.005       0.031\n",
       "n_neightbours    -0.0009      0.002     -0.466      0.645      -0.005       0.003\n",
       "==============================================================================\n",
       "Omnibus:                       59.460   Durbin-Watson:                   0.647\n",
       "Prob(Omnibus):                  0.000   Jarque-Bera (JB):              458.433\n",
       "Skew:                           4.240   Prob(JB):                    2.84e-100\n",
       "Kurtosis:                      20.918   Cond. No.                         8.70\n",
       "==============================================================================\n",
       "\n",
       "Notes:\n",
       "[1] Standard Errors assume that the covariance matrix of the errors is correctly specified.\n",
       "\"\"\""
      ]
     },
     "execution_count": 144,
     "metadata": {},
     "output_type": "execute_result"
    }
   ],
   "source": [
    "result_hip3 = reg.linear(data=df_filtrado_bw_geo_2008_2012, formula='betweenness ~ n_neightbours')\n",
    "result_hip3.summary()"
   ]
  },
  {
   "cell_type": "code",
   "execution_count": 145,
   "id": "7cdd379b",
   "metadata": {
    "collapsed": true
   },
   "outputs": [
    {
     "data": {
      "text/html": [
       "<style type=\"text/css\">\n",
       "#T_6b2b2_row0_col0 {\n",
       "  font-family: monospace;\n",
       "  text-align: left;\n",
       "}\n",
       "</style>\n",
       "<table id=\"T_6b2b2\">\n",
       "  <thead>\n",
       "  </thead>\n",
       "  <tbody>\n",
       "    <tr>\n",
       "      <td id=\"T_6b2b2_row0_col0\" class=\"data row0 col0\" >-0.001 (0.002)</td>\n",
       "    </tr>\n",
       "  </tbody>\n",
       "</table>\n"
      ],
      "text/plain": [
       "<pandas.io.formats.style.Styler at 0x7f0dac6abbe0>"
      ]
     },
     "execution_count": 145,
     "metadata": {},
     "output_type": "execute_result"
    }
   ],
   "source": [
    "result_hip3.nano_summary()"
   ]
  },
  {
   "cell_type": "code",
   "execution_count": 146,
   "id": "a2eef83b",
   "metadata": {
    "collapsed": true
   },
   "outputs": [
    {
     "data": {
      "image/png": "[encoded data removed]",
      "text/plain": [
       "<Figure size 1280x480 with 2 Axes>"
      ]
     },
     "metadata": {},
     "output_type": "display_data"
    }
   ],
   "source": [
    "result_hip3.plot_residuals()"
   ]
  },
  {
   "cell_type": "markdown",
   "id": "34628e13",
   "metadata": {},
   "source": [
    "\n",
    "## Hipóteses 4: Desenvolvimento tem relação com vazão de pessoas\n",
    "\n",
    "### C : EXT: DSV, CORE, CONP\n"
   ]
  },
  {
   "cell_type": "markdown",
   "id": "4ee0ebb6",
   "metadata": {},
   "source": [
    "#### Explicação:\n",
    "\n",
    "Essa hipótese correlaciona o desenvolvimento socioeconômico do país (medido pelo IDH) com a vazão de pessoas. Ou seja, quanto menor for o desenvolvimento de uma nação, maior é a sua saída de pessoas, uma vez que, visando melhores condições de vida ou a própria sobrevivência, pessoas podem sair de um país, devido ao seu baixo desenvolvimento, em maior quantidade do que em países com um IDH alto. Além disso, a saída de pessoas também está correlacionada com o coreness e a contenção populacional (variáveis de controle), uma vez que quanto maior a vazão de pessoas, mais ao centro esse país está e menor é a sua contenção populacional.\n",
    "\n",
    "#### Recorte: 2008 a 2012 e países da União Europeia (UE) e da América Anglo-saxônica\n",
    "\n",
    "Esse recorte foi pensado pois, ao tratarmos dos anos de 2008 a 2012, pensamos na crise imobiliária dos Estados Unidos que ocorreu em 2008 e, posteriormente, resultou em uma crise econômica global. Além disso, também houve uma pandemia da gripe H1N1 no ano de 2009. Esses dois acontecimentos, juntos, poderiam resultar em uma possível mudança significativa na vazão de pessoas em países com IDH alto, o que deixaria de corroborar com a hipótese 4."
   ]
  },
  {
   "cell_type": "code",
   "execution_count": 147,
   "id": "ebdc69b3",
   "metadata": {
    "collapsed": true
   },
   "outputs": [
    {
     "name": "stderr",
     "output_type": "stream",
     "text": [
      "/tmp/ipykernel_12/2163053283.py:1: FutureWarning: The default value of numeric_only in DataFrameGroupBy.sum is deprecated. In a future version, numeric_only will default to False. Either specify numeric_only or select only columns which should be valid for the function.\n",
      "  df_2008_2012_out = df_2008_2012.groupby('origin').sum().reindex(listaVertices).fillna(0)\n"
     ]
    },
    {
     "data": {
      "text/html": [
       "<div>\n",
       "<style scoped>\n",
       "    .dataframe tbody tr th:only-of-type {\n",
       "        vertical-align: middle;\n",
       "    }\n",
       "\n",
       "    .dataframe tbody tr th {\n",
       "        vertical-align: top;\n",
       "    }\n",
       "\n",
       "    .dataframe thead th {\n",
       "        text-align: right;\n",
       "    }\n",
       "</style>\n",
       "<table border=\"1\" class=\"dataframe\">\n",
       "  <thead>\n",
       "    <tr style=\"text-align: right;\">\n",
       "      <th></th>\n",
       "      <th>value</th>\n",
       "      <th>rejected</th>\n",
       "    </tr>\n",
       "    <tr>\n",
       "      <th>origin</th>\n",
       "      <th></th>\n",
       "      <th></th>\n",
       "    </tr>\n",
       "  </thead>\n",
       "  <tbody>\n",
       "    <tr>\n",
       "      <th>Eritrea</th>\n",
       "      <td>107682.0</td>\n",
       "      <td>15104.0</td>\n",
       "    </tr>\n",
       "    <tr>\n",
       "      <th>Myanmar</th>\n",
       "      <td>107568.0</td>\n",
       "      <td>10132.0</td>\n",
       "    </tr>\n",
       "    <tr>\n",
       "      <th>Dem. Rep. of the Congo</th>\n",
       "      <td>77502.0</td>\n",
       "      <td>47213.0</td>\n",
       "    </tr>\n",
       "    <tr>\n",
       "      <th>Iraq</th>\n",
       "      <td>71266.0</td>\n",
       "      <td>70812.0</td>\n",
       "    </tr>\n",
       "    <tr>\n",
       "      <th>Somalia</th>\n",
       "      <td>70458.0</td>\n",
       "      <td>31256.0</td>\n",
       "    </tr>\n",
       "    <tr>\n",
       "      <th>...</th>\n",
       "      <td>...</td>\n",
       "      <td>...</td>\n",
       "    </tr>\n",
       "    <tr>\n",
       "      <th>Tuvalu</th>\n",
       "      <td>0.0</td>\n",
       "      <td>1.0</td>\n",
       "    </tr>\n",
       "    <tr>\n",
       "      <th>Bermuda</th>\n",
       "      <td>0.0</td>\n",
       "      <td>1.0</td>\n",
       "    </tr>\n",
       "    <tr>\n",
       "      <th>Norfolk Island</th>\n",
       "      <td>0.0</td>\n",
       "      <td>0.0</td>\n",
       "    </tr>\n",
       "    <tr>\n",
       "      <th>Malta</th>\n",
       "      <td>0.0</td>\n",
       "      <td>7.0</td>\n",
       "    </tr>\n",
       "    <tr>\n",
       "      <th>Puerto Rico</th>\n",
       "      <td>0.0</td>\n",
       "      <td>1.0</td>\n",
       "    </tr>\n",
       "  </tbody>\n",
       "</table>\n",
       "<p>225 rows × 2 columns</p>\n",
       "</div>"
      ],
      "text/plain": [
       "                           value  rejected\n",
       "origin                                    \n",
       "Eritrea                 107682.0   15104.0\n",
       "Myanmar                 107568.0   10132.0\n",
       "Dem. Rep. of the Congo   77502.0   47213.0\n",
       "Iraq                     71266.0   70812.0\n",
       "Somalia                  70458.0   31256.0\n",
       "...                          ...       ...\n",
       "Tuvalu                       0.0       1.0\n",
       "Bermuda                      0.0       1.0\n",
       "Norfolk Island               0.0       0.0\n",
       "Malta                        0.0       7.0\n",
       "Puerto Rico                  0.0       1.0\n",
       "\n",
       "[225 rows x 2 columns]"
      ]
     },
     "execution_count": 147,
     "metadata": {},
     "output_type": "execute_result"
    }
   ],
   "source": [
    "df_2008_2012_out = df_2008_2012.groupby('origin').sum().reindex(listaVertices).fillna(0)\n",
    "df_2008_2012_out.sort_values(\"value\", ascending = False)"
   ]
  },
  {
   "cell_type": "code",
   "execution_count": 148,
   "id": "d316cf35",
   "metadata": {},
   "outputs": [],
   "source": [
    "g2 = gt_load('/grafo_2008_2012.net.gz')"
   ]
  },
  {
   "cell_type": "code",
   "execution_count": 149,
   "id": "a33c7e0e",
   "metadata": {},
   "outputs": [],
   "source": [
    "m = gt_draw.sfdp_layout(g2)\n",
    "gt_move(g2, m)\n",
    "gt_save(g2, 'grafo_2008_2012.net.gz')"
   ]
  },
  {
   "cell_type": "code",
   "execution_count": 150,
   "id": "02b6235c",
   "metadata": {
    "collapsed": true
   },
   "outputs": [
    {
     "data": {
      "text/html": [
       "\n",
       "        <div id=\"YZxEmNoafjpwzExcMxAtaP\"></div>\n",
       "        <script>netpixi.render('YZxEmNoafjpwzExcMxAtaP', 'grafo_2008_2012.net.gz', 1.7777777777777777, true, true, false);</script>\n",
       "    "
      ],
      "text/plain": [
       "<IPython.core.display.HTML object>"
      ]
     },
     "metadata": {},
     "output_type": "display_data"
    }
   ],
   "source": [
    "r2 = netpixi.render('grafo_2008_2012.net.gz', infinite=True);"
   ]
  },
  {
   "cell_type": "code",
   "execution_count": 152,
   "id": "17e8aaf1",
   "metadata": {},
   "outputs": [
    {
     "data": {
      "text/html": [
       "\n",
       "        <div id=\"T9FiBp5scn39JsX7Ss3G8q\"></div>\n",
       "        <script>netpixi.call('T9FiBp5scn39JsX7Ss3G8q', 'YZxEmNoafjpwzExcMxAtaP', 'setGraph', 'eyJ0eXBlIjogInZlcnRleCIsICJwcm9wcyI6IHsic3JjIjogIm5vbWUiLCAiZHN0IjogIl9rZXkifX0K');</script>\n",
       "    "
      ],
      "text/plain": [
       "<IPython.core.display.HTML object>"
      ]
     },
     "metadata": {},
     "output_type": "display_data"
    },
    {
     "data": {
      "text/html": [
       "\n",
       "        <div id=\"eRQg54mvxpuQ3aoJpyPsUU\"></div>\n",
       "        <script>netpixi.call('eRQg54mvxpuQ3aoJpyPsUU', 'YZxEmNoafjpwzExcMxAtaP', 'changeGraph', 'eyJ0eXBlIjogInNldHRpbmdzIiwgInByb3BzIjogeyJ2ZXJ0ZXgiOiB7ImNvbG9yIjogMTY3NzcyMTV9fX0K');</script>\n",
       "    "
      ],
      "text/plain": [
       "<IPython.core.display.HTML object>"
      ]
     },
     "metadata": {},
     "output_type": "display_data"
    },
    {
     "data": {
      "text/html": [
       "\n",
       "        <div id=\"KdemXC5jjkTNv2Gt6ywWC5\"></div>\n",
       "        <script>netpixi.call('KdemXC5jjkTNv2Gt6ywWC5', 'YZxEmNoafjpwzExcMxAtaP', 'changeGraph', 'eyJ0eXBlIjogInNldHRpbmdzIiwgInByb3BzIjogeyJlZGdlIjogeyJjb2xvciI6IDIxNDI4OTB9fX0K');</script>\n",
       "    "
      ],
      "text/plain": [
       "<IPython.core.display.HTML object>"
      ]
     },
     "metadata": {},
     "output_type": "display_data"
    }
   ],
   "source": [
    "r2.vertex_set_key('nome')\n",
    "\n",
    "r2.vertex_default(color=0xffffff)\n",
    "\n",
    "# mudar a cor, a espessura e a curvatura das arestas\n",
    "r2.edge_default(color=0x20B2AA)"
   ]
  },
  {
   "cell_type": "code",
   "execution_count": 153,
   "id": "04418a3e",
   "metadata": {},
   "outputs": [
    {
     "data": {
      "text/html": [
       "\n",
       "        <div id=\"B38buWDMHZg3cgBzY9S22w\"></div>\n",
       "        <script>netpixi.call('B38buWDMHZg3cgBzY9S22w', 'YZxEmNoafjpwzExcMxAtaP', 'normalizeGraph', 'eyJ0eXBlIjogImVkZ2UiLCAicHJvcHMiOiB7InNyYyI6ICJhY2VpdG9zIiwgIm1pbiI6IDEsICJtYXgiOiAxMH19Cg==');</script>\n",
       "    "
      ],
      "text/plain": [
       "<IPython.core.display.HTML object>"
      ]
     },
     "metadata": {},
     "output_type": "display_data"
    }
   ],
   "source": [
    "r2.edge_scale('aceitos', 1, 10)"
   ]
  },
  {
   "cell_type": "code",
   "execution_count": 154,
   "id": "1b6c5db8",
   "metadata": {},
   "outputs": [],
   "source": [
    "g2 =  gt_load('/grafo_2008_2012.net.gz')"
   ]
  },
  {
   "cell_type": "code",
   "execution_count": 155,
   "id": "ac6452c8",
   "metadata": {},
   "outputs": [],
   "source": [
    "m = gt_draw.sfdp_layout(g2)\n",
    "gt_move(g2, m)\n",
    "gt_save(g2, 'centralidadeCoreness20082012.net.gz')"
   ]
  },
  {
   "cell_type": "code",
   "execution_count": 156,
   "id": "1e7f2761",
   "metadata": {
    "collapsed": true
   },
   "outputs": [
    {
     "data": {
      "text/html": [
       "\n",
       "        <div id=\"3xexZtubfK4Mb8EXWP5qoy\"></div>\n",
       "        <script>netpixi.render('3xexZtubfK4Mb8EXWP5qoy', 'centralidadeCoreness20082012.net.gz', 1.7777777777777777, true, false, false);</script>\n",
       "    "
      ],
      "text/plain": [
       "<IPython.core.display.HTML object>"
      ]
     },
     "metadata": {},
     "output_type": "display_data"
    }
   ],
   "source": [
    "r2 = netpixi.render('centralidadeCoreness20082012.net.gz')"
   ]
  },
  {
   "cell_type": "code",
   "execution_count": 157,
   "id": "301c8979",
   "metadata": {},
   "outputs": [
    {
     "data": {
      "text/html": [
       "\n",
       "        <div id=\"T8afHdiEAXCQ5NJ58bQAED\"></div>\n",
       "        <script>netpixi.call('T8afHdiEAXCQ5NJ58bQAED', '3xexZtubfK4Mb8EXWP5qoy', 'changeGraph', 'eyJpZCI6ICJBbWVyaWNhbiBTYW1vYSIsICJ0eXBlIjogInZlcnRleCIsICJwcm9wcyI6IHsiY29sb3IiOiA2NTI4MH19Cg==');</script>\n",
       "    "
      ],
      "text/plain": [
       "<IPython.core.display.HTML object>"
      ]
     },
     "metadata": {},
     "output_type": "display_data"
    },
    {
     "data": {
      "text/html": [
       "\n",
       "        <div id=\"9B6fmwnvyrDGUoQKQoBiFi\"></div>\n",
       "        <script>netpixi.call('9B6fmwnvyrDGUoQKQoBiFi', '3xexZtubfK4Mb8EXWP5qoy', 'changeGraph', 'eyJpZCI6ICJSb21hbmlhIiwgInR5cGUiOiAidmVydGV4IiwgInByb3BzIjogeyJjb2xvciI6IDY1MjgwfX0K');</script>\n",
       "    "
      ],
      "text/plain": [
       "<IPython.core.display.HTML object>"
      ]
     },
     "metadata": {},
     "output_type": "display_data"
    },
    {
     "data": {
      "text/html": [
       "\n",
       "        <div id=\"9T443jredRhmq3TGqmzaMS\"></div>\n",
       "        <script>netpixi.call('9T443jredRhmq3TGqmzaMS', '3xexZtubfK4Mb8EXWP5qoy', 'changeGraph', 'eyJpZCI6ICJIb2x5IFNlZSAodGhlKSIsICJ0eXBlIjogInZlcnRleCIsICJwcm9wcyI6IHsiY29sb3IiOiA2NTI4MH19Cg==');</script>\n",
       "    "
      ],
      "text/plain": [
       "<IPython.core.display.HTML object>"
      ]
     },
     "metadata": {},
     "output_type": "display_data"
    },
    {
     "data": {
      "text/html": [
       "\n",
       "        <div id=\"DLK56VFjRVhtXosCbaSNRs\"></div>\n",
       "        <script>netpixi.call('DLK56VFjRVhtXosCbaSNRs', '3xexZtubfK4Mb8EXWP5qoy', 'changeGraph', 'eyJpZCI6ICJBdXN0cmlhIiwgInR5cGUiOiAidmVydGV4IiwgInByb3BzIjogeyJjb2xvciI6IDE2NzExNjgwfX0K');</script>\n",
       "    "
      ],
      "text/plain": [
       "<IPython.core.display.HTML object>"
      ]
     },
     "metadata": {},
     "output_type": "display_data"
    },
    {
     "data": {
      "text/html": [
       "\n",
       "        <div id=\"eQvVZdzTT7LxuoVrU394pM\"></div>\n",
       "        <script>netpixi.call('eQvVZdzTT7LxuoVrU394pM', '3xexZtubfK4Mb8EXWP5qoy', 'changeGraph', 'eyJpZCI6ICJQb2xhbmQiLCAidHlwZSI6ICJ2ZXJ0ZXgiLCAicHJvcHMiOiB7ImNvbG9yIjogNjUyODB9fQo=');</script>\n",
       "    "
      ],
      "text/plain": [
       "<IPython.core.display.HTML object>"
      ]
     },
     "metadata": {},
     "output_type": "display_data"
    },
    {
     "data": {
      "text/html": [
       "\n",
       "        <div id=\"NHQJCxZPCparMNVWsMqXMn\"></div>\n",
       "        <script>netpixi.call('NHQJCxZPCparMNVWsMqXMn', '3xexZtubfK4Mb8EXWP5qoy', 'changeGraph', 'eyJpZCI6ICJCb3Rzd2FuYSIsICJ0eXBlIjogInZlcnRleCIsICJwcm9wcyI6IHsiY29sb3IiOiA2NTI4MH19Cg==');</script>\n",
       "    "
      ],
      "text/plain": [
       "<IPython.core.display.HTML object>"
      ]
     },
     "metadata": {},
     "output_type": "display_data"
    },
    {
     "data": {
      "text/html": [
       "\n",
       "        <div id=\"CXHWYn3pWHiobLMUaakLy9\"></div>\n",
       "        <script>netpixi.call('CXHWYn3pWHiobLMUaakLy9', '3xexZtubfK4Mb8EXWP5qoy', 'changeGraph', 'eyJpZCI6ICJHdWluZWEtQmlzc2F1IiwgInR5cGUiOiAidmVydGV4IiwgInByb3BzIjogeyJjb2xvciI6IDY1MjgwfX0K');</script>\n",
       "    "
      ],
      "text/plain": [
       "<IPython.core.display.HTML object>"
      ]
     },
     "metadata": {},
     "output_type": "display_data"
    },
    {
     "data": {
      "text/html": [
       "\n",
       "        <div id=\"UDC7EovLY6sMASL5ogjDuw\"></div>\n",
       "        <script>netpixi.call('UDC7EovLY6sMASL5ogjDuw', '3xexZtubfK4Mb8EXWP5qoy', 'changeGraph', 'eyJpZCI6ICJTaW50IE1hYXJ0ZW4gKER1dGNoIHBhcnQpIiwgInR5cGUiOiAidmVydGV4IiwgInByb3BzIjogeyJjb2xvciI6IDY1MjgwfX0K');</script>\n",
       "    "
      ],
      "text/plain": [
       "<IPython.core.display.HTML object>"
      ]
     },
     "metadata": {},
     "output_type": "display_data"
    },
    {
     "data": {
      "text/html": [
       "\n",
       "        <div id=\"Csphos6egWu2hCu6CFMPyT\"></div>\n",
       "        <script>netpixi.call('Csphos6egWu2hCu6CFMPyT', '3xexZtubfK4Mb8EXWP5qoy', 'changeGraph', 'eyJpZCI6ICJNaWNyb25lc2lhIChGZWRlcmF0ZWQgU3RhdGVzIG9mKSIsICJ0eXBlIjogInZlcnRleCIsICJwcm9wcyI6IHsiY29sb3IiOiA2NTI4MH19Cg==');</script>\n",
       "    "
      ],
      "text/plain": [
       "<IPython.core.display.HTML object>"
      ]
     },
     "metadata": {},
     "output_type": "display_data"
    },
    {
     "data": {
      "text/html": [
       "\n",
       "        <div id=\"JT5x7Be5o76ycTERmvSfwx\"></div>\n",
       "        <script>netpixi.call('JT5x7Be5o76ycTERmvSfwx', '3xexZtubfK4Mb8EXWP5qoy', 'changeGraph', 'eyJpZCI6ICJFZ3lwdCIsICJ0eXBlIjogInZlcnRleCIsICJwcm9wcyI6IHsiY29sb3IiOiA2NTI4MH19Cg==');</script>\n",
       "    "
      ],
      "text/plain": [
       "<IPython.core.display.HTML object>"
      ]
     },
     "metadata": {},
     "output_type": "display_data"
    },
    {
     "data": {
      "text/html": [
       "\n",
       "        <div id=\"g7xUdyVQikdURKBRiVY8bx\"></div>\n",
       "        <script>netpixi.call('g7xUdyVQikdURKBRiVY8bx', '3xexZtubfK4Mb8EXWP5qoy', 'changeGraph', 'eyJpZCI6ICJGcmVuY2ggUG9seW5lc2lhIiwgInR5cGUiOiAidmVydGV4IiwgInByb3BzIjogeyJjb2xvciI6IDY1MjgwfX0K');</script>\n",
       "    "
      ],
      "text/plain": [
       "<IPython.core.display.HTML object>"
      ]
     },
     "metadata": {},
     "output_type": "display_data"
    },
    {
     "data": {
      "text/html": [
       "\n",
       "        <div id=\"jYyDQRfwnFtxqataYhzyy6\"></div>\n",
       "        <script>netpixi.call('jYyDQRfwnFtxqataYhzyy6', '3xexZtubfK4Mb8EXWP5qoy', 'changeGraph', 'eyJpZCI6ICJaaW1iYWJ3ZSIsICJ0eXBlIjogInZlcnRleCIsICJwcm9wcyI6IHsiY29sb3IiOiA2NTI4MH19Cg==');</script>\n",
       "    "
      ],
      "text/plain": [
       "<IPython.core.display.HTML object>"
      ]
     },
     "metadata": {},
     "output_type": "display_data"
    },
    {
     "data": {
      "text/html": [
       "\n",
       "        <div id=\"kVHPmD88nXRhVGJyPHp5pC\"></div>\n",
       "        <script>netpixi.call('kVHPmD88nXRhVGJyPHp5pC', '3xexZtubfK4Mb8EXWP5qoy', 'changeGraph', 'eyJpZCI6ICJFdGhpb3BpYSIsICJ0eXBlIjogInZlcnRleCIsICJwcm9wcyI6IHsiY29sb3IiOiA2NTI4MH19Cg==');</script>\n",
       "    "
      ],
      "text/plain": [
       "<IPython.core.display.HTML object>"
      ]
     },
     "metadata": {},
     "output_type": "display_data"
    },
    {
     "data": {
      "text/html": [
       "\n",
       "        <div id=\"3xBCFMsMCKpvRZEMqoMMXr\"></div>\n",
       "        <script>netpixi.call('3xBCFMsMCKpvRZEMqoMMXr', '3xexZtubfK4Mb8EXWP5qoy', 'changeGraph', 'eyJpZCI6ICJBemVyYmFpamFuIiwgInR5cGUiOiAidmVydGV4IiwgInByb3BzIjogeyJjb2xvciI6IDY1MjgwfX0K');</script>\n",
       "    "
      ],
      "text/plain": [
       "<IPython.core.display.HTML object>"
      ]
     },
     "metadata": {},
     "output_type": "display_data"
    },
    {
     "data": {
      "text/html": [
       "\n",
       "        <div id=\"8ThTenTiGLFM4mjYDLLpLx\"></div>\n",
       "        <script>netpixi.call('8ThTenTiGLFM4mjYDLLpLx', '3xexZtubfK4Mb8EXWP5qoy', 'changeGraph', 'eyJpZCI6ICJCZWxnaXVtIiwgInR5cGUiOiAidmVydGV4IiwgInByb3BzIjogeyJjb2xvciI6IDE2NzExNjgwfX0K');</script>\n",
       "    "
      ],
      "text/plain": [
       "<IPython.core.display.HTML object>"
      ]
     },
     "metadata": {},
     "output_type": "display_data"
    },
    {
     "data": {
      "text/html": [
       "\n",
       "        <div id=\"fNFQZjJJiWqU6hL2vy5mAg\"></div>\n",
       "        <script>netpixi.call('fNFQZjJJiWqU6hL2vy5mAg', '3xexZtubfK4Mb8EXWP5qoy', 'changeGraph', 'eyJpZCI6ICJTb3V0aCBBZnJpY2EiLCAidHlwZSI6ICJ2ZXJ0ZXgiLCAicHJvcHMiOiB7ImNvbG9yIjogMTY3MTE2ODB9fQo=');</script>\n",
       "    "
      ],
      "text/plain": [
       "<IPython.core.display.HTML object>"
      ]
     },
     "metadata": {},
     "output_type": "display_data"
    },
    {
     "data": {
      "text/html": [
       "\n",
       "        <div id=\"6kaViQzCK8pV4AiKYL5ZoW\"></div>\n",
       "        <script>netpixi.call('6kaViQzCK8pV4AiKYL5ZoW', '3xexZtubfK4Mb8EXWP5qoy', 'changeGraph', 'eyJpZCI6ICJDYXltYW4gSXNsYW5kcyIsICJ0eXBlIjogInZlcnRleCIsICJwcm9wcyI6IHsiY29sb3IiOiA2NTI4MH19Cg==');</script>\n",
       "    "
      ],
      "text/plain": [
       "<IPython.core.display.HTML object>"
      ]
     },
     "metadata": {},
     "output_type": "display_data"
    },
    {
     "data": {
      "text/html": [
       "\n",
       "        <div id=\"MC8X8uYNMbywg6euADXhCS\"></div>\n",
       "        <script>netpixi.call('MC8X8uYNMbywg6euADXhCS', '3xexZtubfK4Mb8EXWP5qoy', 'changeGraph', 'eyJpZCI6ICJMZXNvdGhvIiwgInR5cGUiOiAidmVydGV4IiwgInByb3BzIjogeyJjb2xvciI6IDY1MjgwfX0K');</script>\n",
       "    "
      ],
      "text/plain": [
       "<IPython.core.display.HTML object>"
      ]
     },
     "metadata": {},
     "output_type": "display_data"
    },
    {
     "data": {
      "text/html": [
       "\n",
       "        <div id=\"dVrJTvyz9nX7gYvpWjQrT4\"></div>\n",
       "        <script>netpixi.call('dVrJTvyz9nX7gYvpWjQrT4', '3xexZtubfK4Mb8EXWP5qoy', 'changeGraph', 'eyJpZCI6ICJBcm1lbmlhIiwgInR5cGUiOiAidmVydGV4IiwgInByb3BzIjogeyJjb2xvciI6IDY1MjgwfX0K');</script>\n",
       "    "
      ],
      "text/plain": [
       "<IPython.core.display.HTML object>"
      ]
     },
     "metadata": {},
     "output_type": "display_data"
    },
    {
     "data": {
      "text/html": [
       "\n",
       "        <div id=\"UCsZKyBxpfEP22kU3aqjYF\"></div>\n",
       "        <script>netpixi.call('UCsZKyBxpfEP22kU3aqjYF', '3xexZtubfK4Mb8EXWP5qoy', 'changeGraph', 'eyJpZCI6ICJNYXVyaXRpdXMiLCAidHlwZSI6ICJ2ZXJ0ZXgiLCAicHJvcHMiOiB7ImNvbG9yIjogNjUyODB9fQo=');</script>\n",
       "    "
      ],
      "text/plain": [
       "<IPython.core.display.HTML object>"
      ]
     },
     "metadata": {},
     "output_type": "display_data"
    },
    {
     "data": {
      "text/html": [
       "\n",
       "        <div id=\"GGeV8MfYZLVF9vuCTmoPFB\"></div>\n",
       "        <script>netpixi.call('GGeV8MfYZLVF9vuCTmoPFB', '3xexZtubfK4Mb8EXWP5qoy', 'changeGraph', 'eyJpZCI6ICJMaXRodWFuaWEiLCAidHlwZSI6ICJ2ZXJ0ZXgiLCAicHJvcHMiOiB7ImNvbG9yIjogNjUyODB9fQo=');</script>\n",
       "    "
      ],
      "text/plain": [
       "<IPython.core.display.HTML object>"
      ]
     },
     "metadata": {},
     "output_type": "display_data"
    },
    {
     "data": {
      "text/html": [
       "\n",
       "        <div id=\"N25RK9sr6tM52McVnVjN7v\"></div>\n",
       "        <script>netpixi.call('N25RK9sr6tM52McVnVjN7v', '3xexZtubfK4Mb8EXWP5qoy', 'changeGraph', 'eyJpZCI6ICJTYWludC1QaWVycmUtZXQtTWlxdWVsb24iLCAidHlwZSI6ICJ2ZXJ0ZXgiLCAicHJvcHMiOiB7ImNvbG9yIjogNjUyODB9fQo=');</script>\n",
       "    "
      ],
      "text/plain": [
       "<IPython.core.display.HTML object>"
      ]
     },
     "metadata": {},
     "output_type": "display_data"
    },
    {
     "data": {
      "text/html": [
       "\n",
       "        <div id=\"BCNoLHhv8rowbaxSxUe9pT\"></div>\n",
       "        <script>netpixi.call('BCNoLHhv8rowbaxSxUe9pT', '3xexZtubfK4Mb8EXWP5qoy', 'changeGraph', 'eyJpZCI6ICJDdXJhXHUwMGU3YW8iLCAidHlwZSI6ICJ2ZXJ0ZXgiLCAicHJvcHMiOiB7ImNvbG9yIjogNjUyODB9fQo=');</script>\n",
       "    "
      ],
      "text/plain": [
       "<IPython.core.display.HTML object>"
      ]
     },
     "metadata": {},
     "output_type": "display_data"
    },
    {
     "data": {
      "text/html": [
       "\n",
       "        <div id=\"DcWDB8QrYuXtgguYeRpduL\"></div>\n",
       "        <script>netpixi.call('DcWDB8QrYuXtgguYeRpduL', '3xexZtubfK4Mb8EXWP5qoy', 'changeGraph', 'eyJpZCI6ICJUYWppa2lzdGFuIiwgInR5cGUiOiAidmVydGV4IiwgInByb3BzIjogeyJjb2xvciI6IDY1MjgwfX0K');</script>\n",
       "    "
      ],
      "text/plain": [
       "<IPython.core.display.HTML object>"
      ]
     },
     "metadata": {},
     "output_type": "display_data"
    },
    {
     "data": {
      "text/html": [
       "\n",
       "        <div id=\"j3eR3FUtyiiJFuBpmuYXyy\"></div>\n",
       "        <script>netpixi.call('j3eR3FUtyiiJFuBpmuYXyy', '3xexZtubfK4Mb8EXWP5qoy', 'changeGraph', 'eyJpZCI6ICJTaW5nYXBvcmUiLCAidHlwZSI6ICJ2ZXJ0ZXgiLCAicHJvcHMiOiB7ImNvbG9yIjogNjUyODB9fQo=');</script>\n",
       "    "
      ],
      "text/plain": [
       "<IPython.core.display.HTML object>"
      ]
     },
     "metadata": {},
     "output_type": "display_data"
    },
    {
     "data": {
      "text/html": [
       "\n",
       "        <div id=\"Fyj7JMeQeQYKmdUZrtEf4K\"></div>\n",
       "        <script>netpixi.call('Fyj7JMeQeQYKmdUZrtEf4K', '3xexZtubfK4Mb8EXWP5qoy', 'changeGraph', 'eyJpZCI6ICJCYWhhbWFzIiwgInR5cGUiOiAidmVydGV4IiwgInByb3BzIjogeyJjb2xvciI6IDY1MjgwfX0K');</script>\n",
       "    "
      ],
      "text/plain": [
       "<IPython.core.display.HTML object>"
      ]
     },
     "metadata": {},
     "output_type": "display_data"
    },
    {
     "data": {
      "text/html": [
       "\n",
       "        <div id=\"Ub4X2wNRZmxhrLnABRFEzC\"></div>\n",
       "        <script>netpixi.call('Ub4X2wNRZmxhrLnABRFEzC', '3xexZtubfK4Mb8EXWP5qoy', 'changeGraph', 'eyJpZCI6ICJKYXBhbiIsICJ0eXBlIjogInZlcnRleCIsICJwcm9wcyI6IHsiY29sb3IiOiA2NTI4MH19Cg==');</script>\n",
       "    "
      ],
      "text/plain": [
       "<IPython.core.display.HTML object>"
      ]
     },
     "metadata": {},
     "output_type": "display_data"
    },
    {
     "data": {
      "text/html": [
       "\n",
       "        <div id=\"EkAbF7bA5do8kQrxBMYjyf\"></div>\n",
       "        <script>netpixi.call('EkAbF7bA5do8kQrxBMYjyf', '3xexZtubfK4Mb8EXWP5qoy', 'changeGraph', 'eyJpZCI6ICJTd2l0emVybGFuZCIsICJ0eXBlIjogInZlcnRleCIsICJwcm9wcyI6IHsiY29sb3IiOiAxNjcxMTY4MH19Cg==');</script>\n",
       "    "
      ],
      "text/plain": [
       "<IPython.core.display.HTML object>"
      ]
     },
     "metadata": {},
     "output_type": "display_data"
    },
    {
     "data": {
      "text/html": [
       "\n",
       "        <div id=\"LCNnJUAMQcwqVsebPmdTwT\"></div>\n",
       "        <script>netpixi.call('LCNnJUAMQcwqVsebPmdTwT', '3xexZtubfK4Mb8EXWP5qoy', 'changeGraph', 'eyJpZCI6ICJJY2VsYW5kIiwgInR5cGUiOiAidmVydGV4IiwgInByb3BzIjogeyJjb2xvciI6IDY1MjgwfX0K');</script>\n",
       "    "
      ],
      "text/plain": [
       "<IPython.core.display.HTML object>"
      ]
     },
     "metadata": {},
     "output_type": "display_data"
    },
    {
     "data": {
      "text/html": [
       "\n",
       "        <div id=\"Ug4YpGtFFC3Vk2qgaoLyia\"></div>\n",
       "        <script>netpixi.call('Ug4YpGtFFC3Vk2qgaoLyia', '3xexZtubfK4Mb8EXWP5qoy', 'changeGraph', 'eyJpZCI6ICJNb3JvY2NvIiwgInR5cGUiOiAidmVydGV4IiwgInByb3BzIjogeyJjb2xvciI6IDY1MjgwfX0K');</script>\n",
       "    "
      ],
      "text/plain": [
       "<IPython.core.display.HTML object>"
      ]
     },
     "metadata": {},
     "output_type": "display_data"
    },
    {
     "data": {
      "text/html": [
       "\n",
       "        <div id=\"MSfXBZjGyZHzbQ6AKpSuNN\"></div>\n",
       "        <script>netpixi.call('MSfXBZjGyZHzbQ6AKpSuNN', '3xexZtubfK4Mb8EXWP5qoy', 'changeGraph', 'eyJpZCI6ICJHdWF0ZW1hbGEiLCAidHlwZSI6ICJ2ZXJ0ZXgiLCAicHJvcHMiOiB7ImNvbG9yIjogNjUyODB9fQo=');</script>\n",
       "    "
      ],
      "text/plain": [
       "<IPython.core.display.HTML object>"
      ]
     },
     "metadata": {},
     "output_type": "display_data"
    },
    {
     "data": {
      "text/html": [
       "\n",
       "        <div id=\"hTbuws66vaETq9V7ReHQCF\"></div>\n",
       "        <script>netpixi.call('hTbuws66vaETq9V7ReHQCF', '3xexZtubfK4Mb8EXWP5qoy', 'changeGraph', 'eyJpZCI6ICJDeXBydXMiLCAidHlwZSI6ICJ2ZXJ0ZXgiLCAicHJvcHMiOiB7ImNvbG9yIjogNjUyODB9fQo=');</script>\n",
       "    "
      ],
      "text/plain": [
       "<IPython.core.display.HTML object>"
      ]
     },
     "metadata": {},
     "output_type": "display_data"
    },
    {
     "data": {
      "text/html": [
       "\n",
       "        <div id=\"8o7U8Jrrk7t5Wa3QTarE8G\"></div>\n",
       "        <script>netpixi.call('8o7U8Jrrk7t5Wa3QTarE8G', '3xexZtubfK4Mb8EXWP5qoy', 'changeGraph', 'eyJpZCI6ICJFcml0cmVhIiwgInR5cGUiOiAidmVydGV4IiwgInByb3BzIjogeyJjb2xvciI6IDY1MjgwfX0K');</script>\n",
       "    "
      ],
      "text/plain": [
       "<IPython.core.display.HTML object>"
      ]
     },
     "metadata": {},
     "output_type": "display_data"
    },
    {
     "data": {
      "text/html": [
       "\n",
       "        <div id=\"PsK3JUw7zUDVsexYsHTsE8\"></div>\n",
       "        <script>netpixi.call('PsK3JUw7zUDVsexYsHTsE8', '3xexZtubfK4Mb8EXWP5qoy', 'changeGraph', 'eyJpZCI6ICJJbmRvbmVzaWEiLCAidHlwZSI6ICJ2ZXJ0ZXgiLCAicHJvcHMiOiB7ImNvbG9yIjogNjUyODB9fQo=');</script>\n",
       "    "
      ],
      "text/plain": [
       "<IPython.core.display.HTML object>"
      ]
     },
     "metadata": {},
     "output_type": "display_data"
    },
    {
     "data": {
      "text/html": [
       "\n",
       "        <div id=\"QMRTCftbzHir8VziRddSKm\"></div>\n",
       "        <script>netpixi.call('QMRTCftbzHir8VziRddSKm', '3xexZtubfK4Mb8EXWP5qoy', 'changeGraph', 'eyJpZCI6ICJSd2FuZGEiLCAidHlwZSI6ICJ2ZXJ0ZXgiLCAicHJvcHMiOiB7ImNvbG9yIjogNjUyODB9fQo=');</script>\n",
       "    "
      ],
      "text/plain": [
       "<IPython.core.display.HTML object>"
      ]
     },
     "metadata": {},
     "output_type": "display_data"
    },
    {
     "data": {
      "text/html": [
       "\n",
       "        <div id=\"BnkzCxibdoSUscV2wxTEC5\"></div>\n",
       "        <script>netpixi.call('BnkzCxibdoSUscV2wxTEC5', '3xexZtubfK4Mb8EXWP5qoy', 'changeGraph', 'eyJpZCI6ICJPbWFuIiwgInR5cGUiOiAidmVydGV4IiwgInByb3BzIjogeyJjb2xvciI6IDY1MjgwfX0K');</script>\n",
       "    "
      ],
      "text/plain": [
       "<IPython.core.display.HTML object>"
      ]
     },
     "metadata": {},
     "output_type": "display_data"
    },
    {
     "data": {
      "text/html": [
       "\n",
       "        <div id=\"jhNpAHLP5ziwSABUMMtL44\"></div>\n",
       "        <script>netpixi.call('jhNpAHLP5ziwSABUMMtL44', '3xexZtubfK4Mb8EXWP5qoy', 'changeGraph', 'eyJpZCI6ICJNeWFubWFyIiwgInR5cGUiOiAidmVydGV4IiwgInByb3BzIjogeyJjb2xvciI6IDY1MjgwfX0K');</script>\n",
       "    "
      ],
      "text/plain": [
       "<IPython.core.display.HTML object>"
      ]
     },
     "metadata": {},
     "output_type": "display_data"
    },
    {
     "data": {
      "text/html": [
       "\n",
       "        <div id=\"TpRSM28eHakfVT8bLnkbgc\"></div>\n",
       "        <script>netpixi.call('TpRSM28eHakfVT8bLnkbgc', '3xexZtubfK4Mb8EXWP5qoy', 'changeGraph', 'eyJpZCI6ICJUaWJldGFuIiwgInR5cGUiOiAidmVydGV4IiwgInByb3BzIjogeyJjb2xvciI6IDY1MjgwfX0K');</script>\n",
       "    "
      ],
      "text/plain": [
       "<IPython.core.display.HTML object>"
      ]
     },
     "metadata": {},
     "output_type": "display_data"
    },
    {
     "data": {
      "text/html": [
       "\n",
       "        <div id=\"iFQmpuLpCLuTKSi8HSuS9W\"></div>\n",
       "        <script>netpixi.call('iFQmpuLpCLuTKSi8HSuS9W', '3xexZtubfK4Mb8EXWP5qoy', 'changeGraph', 'eyJpZCI6ICJTb2xvbW9uIElzbGFuZHMiLCAidHlwZSI6ICJ2ZXJ0ZXgiLCAicHJvcHMiOiB7ImNvbG9yIjogNjUyODB9fQo=');</script>\n",
       "    "
      ],
      "text/plain": [
       "<IPython.core.display.HTML object>"
      ]
     },
     "metadata": {},
     "output_type": "display_data"
    },
    {
     "data": {
      "text/html": [
       "\n",
       "        <div id=\"Xvr6zUvrgzNPhzvEcM9dmw\"></div>\n",
       "        <script>netpixi.call('Xvr6zUvrgzNPhzvEcM9dmw', '3xexZtubfK4Mb8EXWP5qoy', 'changeGraph', 'eyJpZCI6ICJDb29rIElzbGFuZHMiLCAidHlwZSI6ICJ2ZXJ0ZXgiLCAicHJvcHMiOiB7ImNvbG9yIjogNjUyODB9fQo=');</script>\n",
       "    "
      ],
      "text/plain": [
       "<IPython.core.display.HTML object>"
      ]
     },
     "metadata": {},
     "output_type": "display_data"
    },
    {
     "data": {
      "text/html": [
       "\n",
       "        <div id=\"W4XqCZ74uCKCF5mdNDyEmi\"></div>\n",
       "        <script>netpixi.call('W4XqCZ74uCKCF5mdNDyEmi', '3xexZtubfK4Mb8EXWP5qoy', 'changeGraph', 'eyJpZCI6ICJNYWxkaXZlcyIsICJ0eXBlIjogInZlcnRleCIsICJwcm9wcyI6IHsiY29sb3IiOiA2NTI4MH19Cg==');</script>\n",
       "    "
      ],
      "text/plain": [
       "<IPython.core.display.HTML object>"
      ]
     },
     "metadata": {},
     "output_type": "display_data"
    },
    {
     "data": {
      "text/html": [
       "\n",
       "        <div id=\"nrM3sB6HxNjTJu2TTjH3zX\"></div>\n",
       "        <script>netpixi.call('nrM3sB6HxNjTJu2TTjH3zX', '3xexZtubfK4Mb8EXWP5qoy', 'changeGraph', 'eyJpZCI6ICJXZXN0ZXJuIFNhaGFyYSIsICJ0eXBlIjogInZlcnRleCIsICJwcm9wcyI6IHsiY29sb3IiOiA2NTI4MH19Cg==');</script>\n",
       "    "
      ],
      "text/plain": [
       "<IPython.core.display.HTML object>"
      ]
     },
     "metadata": {},
     "output_type": "display_data"
    },
    {
     "data": {
      "text/html": [
       "\n",
       "        <div id=\"jrZLtB7X5xC8xqokC359Ht\"></div>\n",
       "        <script>netpixi.call('jrZLtB7X5xC8xqokC359Ht', '3xexZtubfK4Mb8EXWP5qoy', 'changeGraph', 'eyJpZCI6ICJRYXRhciIsICJ0eXBlIjogInZlcnRleCIsICJwcm9wcyI6IHsiY29sb3IiOiA2NTI4MH19Cg==');</script>\n",
       "    "
      ],
      "text/plain": [
       "<IPython.core.display.HTML object>"
      ]
     },
     "metadata": {},
     "output_type": "display_data"
    },
    {
     "data": {
      "text/html": [
       "\n",
       "        <div id=\"aBr9sqgQawMVYPByFzzDBX\"></div>\n",
       "        <script>netpixi.call('aBr9sqgQawMVYPByFzzDBX', '3xexZtubfK4Mb8EXWP5qoy', 'changeGraph', 'eyJpZCI6ICJJcmVsYW5kIiwgInR5cGUiOiAidmVydGV4IiwgInByb3BzIjogeyJjb2xvciI6IDE2NzExNjgwfX0K');</script>\n",
       "    "
      ],
      "text/plain": [
       "<IPython.core.display.HTML object>"
      ]
     },
     "metadata": {},
     "output_type": "display_data"
    },
    {
     "data": {
      "text/html": [
       "\n",
       "        <div id=\"kuWLQc5vwfyY3SakdE7HCn\"></div>\n",
       "        <script>netpixi.call('kuWLQc5vwfyY3SakdE7HCn', '3xexZtubfK4Mb8EXWP5qoy', 'changeGraph', 'eyJpZCI6ICJEZW5tYXJrIiwgInR5cGUiOiAidmVydGV4IiwgInByb3BzIjogeyJjb2xvciI6IDE2NzExNjgwfX0K');</script>\n",
       "    "
      ],
      "text/plain": [
       "<IPython.core.display.HTML object>"
      ]
     },
     "metadata": {},
     "output_type": "display_data"
    },
    {
     "data": {
      "text/html": [
       "\n",
       "        <div id=\"5NmuVQbJM8SRPFxcQTSJYZ\"></div>\n",
       "        <script>netpixi.call('5NmuVQbJM8SRPFxcQTSJYZ', '3xexZtubfK4Mb8EXWP5qoy', 'changeGraph', 'eyJpZCI6ICJNb250c2VycmF0IiwgInR5cGUiOiAidmVydGV4IiwgInByb3BzIjogeyJjb2xvciI6IDY1MjgwfX0K');</script>\n",
       "    "
      ],
      "text/plain": [
       "<IPython.core.display.HTML object>"
      ]
     },
     "metadata": {},
     "output_type": "display_data"
    },
    {
     "data": {
      "text/html": [
       "\n",
       "        <div id=\"P2SYCDoqVJBftsiZweq2oq\"></div>\n",
       "        <script>netpixi.call('P2SYCDoqVJBftsiZweq2oq', '3xexZtubfK4Mb8EXWP5qoy', 'changeGraph', 'eyJpZCI6ICJHdXlhbmEiLCAidHlwZSI6ICJ2ZXJ0ZXgiLCAicHJvcHMiOiB7ImNvbG9yIjogNjUyODB9fQo=');</script>\n",
       "    "
      ],
      "text/plain": [
       "<IPython.core.display.HTML object>"
      ]
     },
     "metadata": {},
     "output_type": "display_data"
    },
    {
     "data": {
      "text/html": [
       "\n",
       "        <div id=\"bqfjEsmbmKW2xG6E7Sv22C\"></div>\n",
       "        <script>netpixi.call('bqfjEsmbmKW2xG6E7Sv22C', '3xexZtubfK4Mb8EXWP5qoy', 'changeGraph', 'eyJpZCI6ICJGaWppIiwgInR5cGUiOiAidmVydGV4IiwgInByb3BzIjogeyJjb2xvciI6IDY1MjgwfX0K');</script>\n",
       "    "
      ],
      "text/plain": [
       "<IPython.core.display.HTML object>"
      ]
     },
     "metadata": {},
     "output_type": "display_data"
    },
    {
     "data": {
      "text/html": [
       "\n",
       "        <div id=\"g8DQHE7ELg95eaCYQtKVDK\"></div>\n",
       "        <script>netpixi.call('g8DQHE7ELg95eaCYQtKVDK', '3xexZtubfK4Mb8EXWP5qoy', 'changeGraph', 'eyJpZCI6ICJLYXpha2hzdGFuIiwgInR5cGUiOiAidmVydGV4IiwgInByb3BzIjogeyJjb2xvciI6IDY1MjgwfX0K');</script>\n",
       "    "
      ],
      "text/plain": [
       "<IPython.core.display.HTML object>"
      ]
     },
     "metadata": {},
     "output_type": "display_data"
    },
    {
     "data": {
      "text/html": [
       "\n",
       "        <div id=\"LjBNysGj6eDv3XvqMUWRWw\"></div>\n",
       "        <script>netpixi.call('LjBNysGj6eDv3XvqMUWRWw', '3xexZtubfK4Mb8EXWP5qoy', 'changeGraph', 'eyJpZCI6ICJDYW5hZGEiLCAidHlwZSI6ICJ2ZXJ0ZXgiLCAicHJvcHMiOiB7ImNvbG9yIjogMTY3MTE2ODB9fQo=');</script>\n",
       "    "
      ],
      "text/plain": [
       "<IPython.core.display.HTML object>"
      ]
     },
     "metadata": {},
     "output_type": "display_data"
    },
    {
     "data": {
      "text/html": [
       "\n",
       "        <div id=\"aNattQhQWFv3SwkwyeVWxa\"></div>\n",
       "        <script>netpixi.call('aNattQhQWFv3SwkwyeVWxa', '3xexZtubfK4Mb8EXWP5qoy', 'changeGraph', 'eyJpZCI6ICJTcGFpbiIsICJ0eXBlIjogInZlcnRleCIsICJwcm9wcyI6IHsiY29sb3IiOiAxNjcxMTY4MH19Cg==');</script>\n",
       "    "
      ],
      "text/plain": [
       "<IPython.core.display.HTML object>"
      ]
     },
     "metadata": {},
     "output_type": "display_data"
    },
    {
     "data": {
      "text/html": [
       "\n",
       "        <div id=\"9cgdg9nGeeCSTdPFVt6qx2\"></div>\n",
       "        <script>netpixi.call('9cgdg9nGeeCSTdPFVt6qx2', '3xexZtubfK4Mb8EXWP5qoy', 'changeGraph', 'eyJpZCI6ICJTYW8gVG9tZSBhbmQgUHJpbmNpcGUiLCAidHlwZSI6ICJ2ZXJ0ZXgiLCAicHJvcHMiOiB7ImNvbG9yIjogNjUyODB9fQo=');</script>\n",
       "    "
      ],
      "text/plain": [
       "<IPython.core.display.HTML object>"
      ]
     },
     "metadata": {},
     "output_type": "display_data"
    },
    {
     "data": {
      "text/html": [
       "\n",
       "        <div id=\"R6JRZKfcjft9ozfWj8KtZV\"></div>\n",
       "        <script>netpixi.call('R6JRZKfcjft9ozfWj8KtZV', '3xexZtubfK4Mb8EXWP5qoy', 'changeGraph', 'eyJpZCI6ICJTdWRhbiIsICJ0eXBlIjogInZlcnRleCIsICJwcm9wcyI6IHsiY29sb3IiOiA2NTI4MH19Cg==');</script>\n",
       "    "
      ],
      "text/plain": [
       "<IPython.core.display.HTML object>"
      ]
     },
     "metadata": {},
     "output_type": "display_data"
    },
    {
     "data": {
      "text/html": [
       "\n",
       "        <div id=\"ZV8JDCzN9fSHnnE6Li8pRr\"></div>\n",
       "        <script>netpixi.call('ZV8JDCzN9fSHnnE6Li8pRr', '3xexZtubfK4Mb8EXWP5qoy', 'changeGraph', 'eyJpZCI6ICJBcnViYSIsICJ0eXBlIjogInZlcnRleCIsICJwcm9wcyI6IHsiY29sb3IiOiA2NTI4MH19Cg==');</script>\n",
       "    "
      ],
      "text/plain": [
       "<IPython.core.display.HTML object>"
      ]
     },
     "metadata": {},
     "output_type": "display_data"
    },
    {
     "data": {
      "text/html": [
       "\n",
       "        <div id=\"AU8xQQV2JEQShRTtVmxY2c\"></div>\n",
       "        <script>netpixi.call('AU8xQQV2JEQShRTtVmxY2c', '3xexZtubfK4Mb8EXWP5qoy', 'changeGraph', 'eyJpZCI6ICJJc3JhZWwiLCAidHlwZSI6ICJ2ZXJ0ZXgiLCAicHJvcHMiOiB7ImNvbG9yIjogNjUyODB9fQo=');</script>\n",
       "    "
      ],
      "text/plain": [
       "<IPython.core.display.HTML object>"
      ]
     },
     "metadata": {},
     "output_type": "display_data"
    },
    {
     "data": {
      "text/html": [
       "\n",
       "        <div id=\"ZiPh7V6HPyb7w96oXzSQqM\"></div>\n",
       "        <script>netpixi.call('ZiPh7V6HPyb7w96oXzSQqM', '3xexZtubfK4Mb8EXWP5qoy', 'changeGraph', 'eyJpZCI6ICJOZXcgQ2FsZWRvbmlhIiwgInR5cGUiOiAidmVydGV4IiwgInByb3BzIjogeyJjb2xvciI6IDY1MjgwfX0K');</script>\n",
       "    "
      ],
      "text/plain": [
       "<IPython.core.display.HTML object>"
      ]
     },
     "metadata": {},
     "output_type": "display_data"
    },
    {
     "data": {
      "text/html": [
       "\n",
       "        <div id=\"3v9Htz269VwrTM7s5dXFYg\"></div>\n",
       "        <script>netpixi.call('3v9Htz269VwrTM7s5dXFYg', '3xexZtubfK4Mb8EXWP5qoy', 'changeGraph', 'eyJpZCI6ICJVZ2FuZGEiLCAidHlwZSI6ICJ2ZXJ0ZXgiLCAicHJvcHMiOiB7ImNvbG9yIjogNjUyODB9fQo=');</script>\n",
       "    "
      ],
      "text/plain": [
       "<IPython.core.display.HTML object>"
      ]
     },
     "metadata": {},
     "output_type": "display_data"
    },
    {
     "data": {
      "text/html": [
       "\n",
       "        <div id=\"CDzyjxeVpN26HPt7b8udDA\"></div>\n",
       "        <script>netpixi.call('CDzyjxeVpN26HPt7b8udDA', '3xexZtubfK4Mb8EXWP5qoy', 'changeGraph', 'eyJpZCI6ICJDb2xvbWJpYSIsICJ0eXBlIjogInZlcnRleCIsICJwcm9wcyI6IHsiY29sb3IiOiA2NTI4MH19Cg==');</script>\n",
       "    "
      ],
      "text/plain": [
       "<IPython.core.display.HTML object>"
      ]
     },
     "metadata": {},
     "output_type": "display_data"
    },
    {
     "data": {
      "text/html": [
       "\n",
       "        <div id=\"2zVe8jATsXpX77Jh2B5e3y\"></div>\n",
       "        <script>netpixi.call('2zVe8jATsXpX77Jh2B5e3y', '3xexZtubfK4Mb8EXWP5qoy', 'changeGraph', 'eyJpZCI6ICJNb3phbWJpcXVlIiwgInR5cGUiOiAidmVydGV4IiwgInByb3BzIjogeyJjb2xvciI6IDY1MjgwfX0K');</script>\n",
       "    "
      ],
      "text/plain": [
       "<IPython.core.display.HTML object>"
      ]
     },
     "metadata": {},
     "output_type": "display_data"
    },
    {
     "data": {
      "text/html": [
       "\n",
       "        <div id=\"2bxztJCbsiCErMjQyAAJHE\"></div>\n",
       "        <script>netpixi.call('2bxztJCbsiCErMjQyAAJHE', '3xexZtubfK4Mb8EXWP5qoy', 'changeGraph', 'eyJpZCI6ICJKYW1haWNhIiwgInR5cGUiOiAidmVydGV4IiwgInByb3BzIjogeyJjb2xvciI6IDY1MjgwfX0K');</script>\n",
       "    "
      ],
      "text/plain": [
       "<IPython.core.display.HTML object>"
      ]
     },
     "metadata": {},
     "output_type": "display_data"
    },
    {
     "data": {
      "text/html": [
       "\n",
       "        <div id=\"GEJMkkZbYhvvq5uCMPNVrj\"></div>\n",
       "        <script>netpixi.call('GEJMkkZbYhvvq5uCMPNVrj', '3xexZtubfK4Mb8EXWP5qoy', 'changeGraph', 'eyJpZCI6ICJDaGlsZSIsICJ0eXBlIjogInZlcnRleCIsICJwcm9wcyI6IHsiY29sb3IiOiA2NTI4MH19Cg==');</script>\n",
       "    "
      ],
      "text/plain": [
       "<IPython.core.display.HTML object>"
      ]
     },
     "metadata": {},
     "output_type": "display_data"
    },
    {
     "data": {
      "text/html": [
       "\n",
       "        <div id=\"XZCaNQiSB46KStZNsdALB4\"></div>\n",
       "        <script>netpixi.call('XZCaNQiSB46KStZNsdALB4', '3xexZtubfK4Mb8EXWP5qoy', 'changeGraph', 'eyJpZCI6ICJCaHV0YW4iLCAidHlwZSI6ICJ2ZXJ0ZXgiLCAicHJvcHMiOiB7ImNvbG9yIjogNjUyODB9fQo=');</script>\n",
       "    "
      ],
      "text/plain": [
       "<IPython.core.display.HTML object>"
      ]
     },
     "metadata": {},
     "output_type": "display_data"
    },
    {
     "data": {
      "text/html": [
       "\n",
       "        <div id=\"bFnXD4axTAe8u8dnywjhaz\"></div>\n",
       "        <script>netpixi.call('bFnXD4axTAe8u8dnywjhaz', '3xexZtubfK4Mb8EXWP5qoy', 'changeGraph', 'eyJpZCI6ICJUdXJrcyBhbmQgQ2FpY29zIElzbGFuZHMiLCAidHlwZSI6ICJ2ZXJ0ZXgiLCAicHJvcHMiOiB7ImNvbG9yIjogNjUyODB9fQo=');</script>\n",
       "    "
      ],
      "text/plain": [
       "<IPython.core.display.HTML object>"
      ]
     },
     "metadata": {},
     "output_type": "display_data"
    },
    {
     "data": {
      "text/html": [
       "\n",
       "        <div id=\"AH4qmzvLijdBucgzUrRkBw\"></div>\n",
       "        <script>netpixi.call('AH4qmzvLijdBucgzUrRkBw', '3xexZtubfK4Mb8EXWP5qoy', 'changeGraph', 'eyJpZCI6ICJGcmVuY2ggR3VpYW5hIiwgInR5cGUiOiAidmVydGV4IiwgInByb3BzIjogeyJjb2xvciI6IDY1MjgwfX0K');</script>\n",
       "    "
      ],
      "text/plain": [
       "<IPython.core.display.HTML object>"
      ]
     },
     "metadata": {},
     "output_type": "display_data"
    },
    {
     "data": {
      "text/html": [
       "\n",
       "        <div id=\"XHP4frz9QL7PNM99rTr4nc\"></div>\n",
       "        <script>netpixi.call('XHP4frz9QL7PNM99rTr4nc', '3xexZtubfK4Mb8EXWP5qoy', 'changeGraph', 'eyJpZCI6ICJNYWxpIiwgInR5cGUiOiAidmVydGV4IiwgInByb3BzIjogeyJjb2xvciI6IDY1MjgwfX0K');</script>\n",
       "    "
      ],
      "text/plain": [
       "<IPython.core.display.HTML object>"
      ]
     },
     "metadata": {},
     "output_type": "display_data"
    },
    {
     "data": {
      "text/html": [
       "\n",
       "        <div id=\"MNGTXetVAH2B2rZwbNa4bm\"></div>\n",
       "        <script>netpixi.call('MNGTXetVAH2B2rZwbNa4bm', '3xexZtubfK4Mb8EXWP5qoy', 'changeGraph', 'eyJpZCI6ICJNYWxhd2kiLCAidHlwZSI6ICJ2ZXJ0ZXgiLCAicHJvcHMiOiB7ImNvbG9yIjogNjUyODB9fQo=');</script>\n",
       "    "
      ],
      "text/plain": [
       "<IPython.core.display.HTML object>"
      ]
     },
     "metadata": {},
     "output_type": "display_data"
    },
    {
     "data": {
      "text/html": [
       "\n",
       "        <div id=\"4o8SEQxedvBz5WW5y7DCFh\"></div>\n",
       "        <script>netpixi.call('4o8SEQxedvBz5WW5y7DCFh', '3xexZtubfK4Mb8EXWP5qoy', 'changeGraph', 'eyJpZCI6ICJVcnVndWF5IiwgInR5cGUiOiAidmVydGV4IiwgInByb3BzIjogeyJjb2xvciI6IDY1MjgwfX0K');</script>\n",
       "    "
      ],
      "text/plain": [
       "<IPython.core.display.HTML object>"
      ]
     },
     "metadata": {},
     "output_type": "display_data"
    },
    {
     "data": {
      "text/html": [
       "\n",
       "        <div id=\"6D7cuyasXm6U7MsESN2iwC\"></div>\n",
       "        <script>netpixi.call('6D7cuyasXm6U7MsESN2iwC', '3xexZtubfK4Mb8EXWP5qoy', 'changeGraph', 'eyJpZCI6ICJTYWludCBMdWNpYSIsICJ0eXBlIjogInZlcnRleCIsICJwcm9wcyI6IHsiY29sb3IiOiA2NTI4MH19Cg==');</script>\n",
       "    "
      ],
      "text/plain": [
       "<IPython.core.display.HTML object>"
      ]
     },
     "metadata": {},
     "output_type": "display_data"
    },
    {
     "data": {
      "text/html": [
       "\n",
       "        <div id=\"DZqbpybrp8Mvcyy5jiN6a2\"></div>\n",
       "        <script>netpixi.call('DZqbpybrp8Mvcyy5jiN6a2', '3xexZtubfK4Mb8EXWP5qoy', 'changeGraph', 'eyJpZCI6ICJTYW1vYSIsICJ0eXBlIjogInZlcnRleCIsICJwcm9wcyI6IHsiY29sb3IiOiA2NTI4MH19Cg==');</script>\n",
       "    "
      ],
      "text/plain": [
       "<IPython.core.display.HTML object>"
      ]
     },
     "metadata": {},
     "output_type": "display_data"
    },
    {
     "data": {
      "text/html": [
       "\n",
       "        <div id=\"PZCgHuPjwsGBf7p4ymPi68\"></div>\n",
       "        <script>netpixi.call('PZCgHuPjwsGBf7p4ymPi68', '3xexZtubfK4Mb8EXWP5qoy', 'changeGraph', 'eyJpZCI6ICJTYW4gTWFyaW5vIiwgInR5cGUiOiAidmVydGV4IiwgInByb3BzIjogeyJjb2xvciI6IDY1MjgwfX0K');</script>\n",
       "    "
      ],
      "text/plain": [
       "<IPython.core.display.HTML object>"
      ]
     },
     "metadata": {},
     "output_type": "display_data"
    },
    {
     "data": {
      "text/html": [
       "\n",
       "        <div id=\"KFJfpTii3M8D5LYWZgMqUa\"></div>\n",
       "        <script>netpixi.call('KFJfpTii3M8D5LYWZgMqUa', '3xexZtubfK4Mb8EXWP5qoy', 'changeGraph', 'eyJpZCI6ICJDb25nbyIsICJ0eXBlIjogInZlcnRleCIsICJwcm9wcyI6IHsiY29sb3IiOiA2NTI4MH19Cg==');</script>\n",
       "    "
      ],
      "text/plain": [
       "<IPython.core.display.HTML object>"
      ]
     },
     "metadata": {},
     "output_type": "display_data"
    },
    {
     "data": {
      "text/html": [
       "\n",
       "        <div id=\"MpxxiJGBYZtAvrUPHdwczh\"></div>\n",
       "        <script>netpixi.call('MpxxiJGBYZtAvrUPHdwczh', '3xexZtubfK4Mb8EXWP5qoy', 'changeGraph', 'eyJpZCI6ICJDaGluYSwgSG9uZyBLb25nIFNBUiIsICJ0eXBlIjogInZlcnRleCIsICJwcm9wcyI6IHsiY29sb3IiOiA2NTI4MH19Cg==');</script>\n",
       "    "
      ],
      "text/plain": [
       "<IPython.core.display.HTML object>"
      ]
     },
     "metadata": {},
     "output_type": "display_data"
    },
    {
     "data": {
      "text/html": [
       "\n",
       "        <div id=\"99Pf26uefPi8fxhThemSHY\"></div>\n",
       "        <script>netpixi.call('99Pf26uefPi8fxhThemSHY', '3xexZtubfK4Mb8EXWP5qoy', 'changeGraph', 'eyJpZCI6ICJCcml0aXNoIFZpcmdpbiBJc2xhbmRzIiwgInR5cGUiOiAidmVydGV4IiwgInByb3BzIjogeyJjb2xvciI6IDY1MjgwfX0K');</script>\n",
       "    "
      ],
      "text/plain": [
       "<IPython.core.display.HTML object>"
      ]
     },
     "metadata": {},
     "output_type": "display_data"
    },
    {
     "data": {
      "text/html": [
       "\n",
       "        <div id=\"jijy2Pzam5bZbJ6ZaKjUmc\"></div>\n",
       "        <script>netpixi.call('jijy2Pzam5bZbJ6ZaKjUmc', '3xexZtubfK4Mb8EXWP5qoy', 'changeGraph', 'eyJpZCI6ICJNYWRhZ2FzY2FyIiwgInR5cGUiOiAidmVydGV4IiwgInByb3BzIjogeyJjb2xvciI6IDY1MjgwfX0K');</script>\n",
       "    "
      ],
      "text/plain": [
       "<IPython.core.display.HTML object>"
      ]
     },
     "metadata": {},
     "output_type": "display_data"
    },
    {
     "data": {
      "text/html": [
       "\n",
       "        <div id=\"b5hwrQLVwPkRsHYJCoKjBP\"></div>\n",
       "        <script>netpixi.call('b5hwrQLVwPkRsHYJCoKjBP', '3xexZtubfK4Mb8EXWP5qoy', 'changeGraph', 'eyJpZCI6ICJCcnVuZWkgRGFydXNzYWxhbSIsICJ0eXBlIjogInZlcnRleCIsICJwcm9wcyI6IHsiY29sb3IiOiA2NTI4MH19Cg==');</script>\n",
       "    "
      ],
      "text/plain": [
       "<IPython.core.display.HTML object>"
      ]
     },
     "metadata": {},
     "output_type": "display_data"
    },
    {
     "data": {
      "text/html": [
       "\n",
       "        <div id=\"mcHsYuvysAioXHg5oZRb66\"></div>\n",
       "        <script>netpixi.call('mcHsYuvysAioXHg5oZRb66', '3xexZtubfK4Mb8EXWP5qoy', 'changeGraph', 'eyJpZCI6ICJLZW55YSIsICJ0eXBlIjogInZlcnRleCIsICJwcm9wcyI6IHsiY29sb3IiOiA2NTI4MH19Cg==');</script>\n",
       "    "
      ],
      "text/plain": [
       "<IPython.core.display.HTML object>"
      ]
     },
     "metadata": {},
     "output_type": "display_data"
    },
    {
     "data": {
      "text/html": [
       "\n",
       "        <div id=\"XnWnLGfaaiKMhwwRpKUzYP\"></div>\n",
       "        <script>netpixi.call('XnWnLGfaaiKMhwwRpKUzYP', '3xexZtubfK4Mb8EXWP5qoy', 'changeGraph', 'eyJpZCI6ICJDcm9hdGlhIiwgInR5cGUiOiAidmVydGV4IiwgInByb3BzIjogeyJjb2xvciI6IDY1MjgwfX0K');</script>\n",
       "    "
      ],
      "text/plain": [
       "<IPython.core.display.HTML object>"
      ]
     },
     "metadata": {},
     "output_type": "display_data"
    },
    {
     "data": {
      "text/html": [
       "\n",
       "        <div id=\"RNKEa9Km57DH5GfCTFUqPB\"></div>\n",
       "        <script>netpixi.call('RNKEa9Km57DH5GfCTFUqPB', '3xexZtubfK4Mb8EXWP5qoy', 'changeGraph', 'eyJpZCI6ICJFbCBTYWx2YWRvciIsICJ0eXBlIjogInZlcnRleCIsICJwcm9wcyI6IHsiY29sb3IiOiA2NTI4MH19Cg==');</script>\n",
       "    "
      ],
      "text/plain": [
       "<IPython.core.display.HTML object>"
      ]
     },
     "metadata": {},
     "output_type": "display_data"
    },
    {
     "data": {
      "text/html": [
       "\n",
       "        <div id=\"67W89qDERvrzMGHThBoL2M\"></div>\n",
       "        <script>netpixi.call('67W89qDERvrzMGHThBoL2M', '3xexZtubfK4Mb8EXWP5qoy', 'changeGraph', 'eyJpZCI6ICJVa3JhaW5lIiwgInR5cGUiOiAidmVydGV4IiwgInByb3BzIjogeyJjb2xvciI6IDY1MjgwfX0K');</script>\n",
       "    "
      ],
      "text/plain": [
       "<IPython.core.display.HTML object>"
      ]
     },
     "metadata": {},
     "output_type": "display_data"
    },
    {
     "data": {
      "text/html": [
       "\n",
       "        <div id=\"CcTGwhGSxEQn7KU9AebNq2\"></div>\n",
       "        <script>netpixi.call('CcTGwhGSxEQn7KU9AebNq2', '3xexZtubfK4Mb8EXWP5qoy', 'changeGraph', 'eyJpZCI6ICJNYXVyaXRhbmlhIiwgInR5cGUiOiAidmVydGV4IiwgInByb3BzIjogeyJjb2xvciI6IDY1MjgwfX0K');</script>\n",
       "    "
      ],
      "text/plain": [
       "<IPython.core.display.HTML object>"
      ]
     },
     "metadata": {},
     "output_type": "display_data"
    },
    {
     "data": {
      "text/html": [
       "\n",
       "        <div id=\"nFqyxgM9V7fjxBRayxUm7L\"></div>\n",
       "        <script>netpixi.call('nFqyxgM9V7fjxBRayxUm7L', '3xexZtubfK4Mb8EXWP5qoy', 'changeGraph', 'eyJpZCI6ICJHZW9yZ2lhIiwgInR5cGUiOiAidmVydGV4IiwgInByb3BzIjogeyJjb2xvciI6IDY1MjgwfX0K');</script>\n",
       "    "
      ],
      "text/plain": [
       "<IPython.core.display.HTML object>"
      ]
     },
     "metadata": {},
     "output_type": "display_data"
    },
    {
     "data": {
      "text/html": [
       "\n",
       "        <div id=\"aaMrqjFGYFztt4XkA66Q6F\"></div>\n",
       "        <script>netpixi.call('aaMrqjFGYFztt4XkA66Q6F', '3xexZtubfK4Mb8EXWP5qoy', 'changeGraph', 'eyJpZCI6ICJLeXJneXpzdGFuIiwgInR5cGUiOiAidmVydGV4IiwgInByb3BzIjogeyJjb2xvciI6IDY1MjgwfX0K');</script>\n",
       "    "
      ],
      "text/plain": [
       "<IPython.core.display.HTML object>"
      ]
     },
     "metadata": {},
     "output_type": "display_data"
    },
    {
     "data": {
      "text/html": [
       "\n",
       "        <div id=\"Wf5pbCTsg5HXb68E9dZ2p3\"></div>\n",
       "        <script>netpixi.call('Wf5pbCTsg5HXb68E9dZ2p3', '3xexZtubfK4Mb8EXWP5qoy', 'changeGraph', 'eyJpZCI6ICJTdGF0ZWxlc3MiLCAidHlwZSI6ICJ2ZXJ0ZXgiLCAicHJvcHMiOiB7ImNvbG9yIjogNjUyODB9fQo=');</script>\n",
       "    "
      ],
      "text/plain": [
       "<IPython.core.display.HTML object>"
      ]
     },
     "metadata": {},
     "output_type": "display_data"
    },
    {
     "data": {
      "text/html": [
       "\n",
       "        <div id=\"Cb4W5SBW9ZGtS893gy3XMW\"></div>\n",
       "        <script>netpixi.call('Cb4W5SBW9ZGtS893gy3XMW', '3xexZtubfK4Mb8EXWP5qoy', 'changeGraph', 'eyJpZCI6ICJBdXN0cmFsaWEiLCAidHlwZSI6ICJ2ZXJ0ZXgiLCAicHJvcHMiOiB7ImNvbG9yIjogMTY3MTE2ODB9fQo=');</script>\n",
       "    "
      ],
      "text/plain": [
       "<IPython.core.display.HTML object>"
      ]
     },
     "metadata": {},
     "output_type": "display_data"
    },
    {
     "data": {
      "text/html": [
       "\n",
       "        <div id=\"azWXramHCETwE9DRgkidTb\"></div>\n",
       "        <script>netpixi.call('azWXramHCETwE9DRgkidTb', '3xexZtubfK4Mb8EXWP5qoy', 'changeGraph', 'eyJpZCI6ICJVbml0ZWQgUmVwLiBvZiBUYW56YW5pYSIsICJ0eXBlIjogInZlcnRleCIsICJwcm9wcyI6IHsiY29sb3IiOiA2NTI4MH19Cg==');</script>\n",
       "    "
      ],
      "text/plain": [
       "<IPython.core.display.HTML object>"
      ]
     },
     "metadata": {},
     "output_type": "display_data"
    },
    {
     "data": {
      "text/html": [
       "\n",
       "        <div id=\"JZxpnCJxx5Ed2Xg8HYnvPP\"></div>\n",
       "        <script>netpixi.call('JZxpnCJxx5Ed2Xg8HYnvPP', '3xexZtubfK4Mb8EXWP5qoy', 'changeGraph', 'eyJpZCI6ICJTdmFsYmFyZCBhbmQgSmFuIE1heWVuIiwgInR5cGUiOiAidmVydGV4IiwgInByb3BzIjogeyJjb2xvciI6IDY1MjgwfX0K');</script>\n",
       "    "
      ],
      "text/plain": [
       "<IPython.core.display.HTML object>"
      ]
     },
     "metadata": {},
     "output_type": "display_data"
    },
    {
     "data": {
      "text/html": [
       "\n",
       "        <div id=\"Bp26UHAWHJiSxSYtwJnZcH\"></div>\n",
       "        <script>netpixi.call('Bp26UHAWHJiSxSYtwJnZcH', '3xexZtubfK4Mb8EXWP5qoy', 'changeGraph', 'eyJpZCI6ICJSdXNzaWFuIEZlZGVyYXRpb24iLCAidHlwZSI6ICJ2ZXJ0ZXgiLCAicHJvcHMiOiB7ImNvbG9yIjogNjUyODB9fQo=');</script>\n",
       "    "
      ],
      "text/plain": [
       "<IPython.core.display.HTML object>"
      ]
     },
     "metadata": {},
     "output_type": "display_data"
    },
    {
     "data": {
      "text/html": [
       "\n",
       "        <div id=\"M5nioS6xSWvR53saJu9N5X\"></div>\n",
       "        <script>netpixi.call('M5nioS6xSWvR53saJu9N5X', '3xexZtubfK4Mb8EXWP5qoy', 'changeGraph', 'eyJpZCI6ICJMZWJhbm9uIiwgInR5cGUiOiAidmVydGV4IiwgInByb3BzIjogeyJjb2xvciI6IDY1MjgwfX0K');</script>\n",
       "    "
      ],
      "text/plain": [
       "<IPython.core.display.HTML object>"
      ]
     },
     "metadata": {},
     "output_type": "display_data"
    },
    {
     "data": {
      "text/html": [
       "\n",
       "        <div id=\"2QGWkETfBW68RbgksfPqjm\"></div>\n",
       "        <script>netpixi.call('2QGWkETfBW68RbgksfPqjm', '3xexZtubfK4Mb8EXWP5qoy', 'changeGraph', 'eyJpZCI6ICJIYWl0aSIsICJ0eXBlIjogInZlcnRleCIsICJwcm9wcyI6IHsiY29sb3IiOiA2NTI4MH19Cg==');</script>\n",
       "    "
      ],
      "text/plain": [
       "<IPython.core.display.HTML object>"
      ]
     },
     "metadata": {},
     "output_type": "display_data"
    },
    {
     "data": {
      "text/html": [
       "\n",
       "        <div id=\"LTxrJuviLzQR2jr7TtbZCE\"></div>\n",
       "        <script>netpixi.call('LTxrJuviLzQR2jr7TtbZCE', '3xexZtubfK4Mb8EXWP5qoy', 'changeGraph', 'eyJpZCI6ICJOYW1pYmlhIiwgInR5cGUiOiAidmVydGV4IiwgInByb3BzIjogeyJjb2xvciI6IDY1MjgwfX0K');</script>\n",
       "    "
      ],
      "text/plain": [
       "<IPython.core.display.HTML object>"
      ]
     },
     "metadata": {},
     "output_type": "display_data"
    },
    {
     "data": {
      "text/html": [
       "\n",
       "        <div id=\"ZJZDwUZCbhuqFajCF9QLgA\"></div>\n",
       "        <script>netpixi.call('ZJZDwUZCbhuqFajCF9QLgA', '3xexZtubfK4Mb8EXWP5qoy', 'changeGraph', 'eyJpZCI6ICJKb3JkYW4iLCAidHlwZSI6ICJ2ZXJ0ZXgiLCAicHJvcHMiOiB7ImNvbG9yIjogNjUyODB9fQo=');</script>\n",
       "    "
      ],
      "text/plain": [
       "<IPython.core.display.HTML object>"
      ]
     },
     "metadata": {},
     "output_type": "display_data"
    },
    {
     "data": {
      "text/html": [
       "\n",
       "        <div id=\"C4ZVatNnAb6X3d5uCgZHPm\"></div>\n",
       "        <script>netpixi.call('C4ZVatNnAb6X3d5uCgZHPm', '3xexZtubfK4Mb8EXWP5qoy', 'changeGraph', 'eyJpZCI6ICJCb3NuaWEgYW5kIEhlcnplZ292aW5hIiwgInR5cGUiOiAidmVydGV4IiwgInByb3BzIjogeyJjb2xvciI6IDY1MjgwfX0K');</script>\n",
       "    "
      ],
      "text/plain": [
       "<IPython.core.display.HTML object>"
      ]
     },
     "metadata": {},
     "output_type": "display_data"
    },
    {
     "data": {
      "text/html": [
       "\n",
       "        <div id=\"br236ntbALA9SbM9J6QgtN\"></div>\n",
       "        <script>netpixi.call('br236ntbALA9SbM9J6QgtN', '3xexZtubfK4Mb8EXWP5qoy', 'changeGraph', 'eyJpZCI6ICJOZXBhbCIsICJ0eXBlIjogInZlcnRleCIsICJwcm9wcyI6IHsiY29sb3IiOiA2NTI4MH19Cg==');</script>\n",
       "    "
      ],
      "text/plain": [
       "<IPython.core.display.HTML object>"
      ]
     },
     "metadata": {},
     "output_type": "display_data"
    },
    {
     "data": {
      "text/html": [
       "\n",
       "        <div id=\"EXUXK4fHNSqPk8MxEvQWRY\"></div>\n",
       "        <script>netpixi.call('EXUXK4fHNSqPk8MxEvQWRY', '3xexZtubfK4Mb8EXWP5qoy', 'changeGraph', 'eyJpZCI6ICJVbml0ZWQgQXJhYiBFbWlyYXRlcyIsICJ0eXBlIjogInZlcnRleCIsICJwcm9wcyI6IHsiY29sb3IiOiA2NTI4MH19Cg==');</script>\n",
       "    "
      ],
      "text/plain": [
       "<IPython.core.display.HTML object>"
      ]
     },
     "metadata": {},
     "output_type": "display_data"
    },
    {
     "data": {
      "text/html": [
       "\n",
       "        <div id=\"7TgAT6HtdjAx8CBBTzmcU4\"></div>\n",
       "        <script>netpixi.call('7TgAT6HtdjAx8CBBTzmcU4', '3xexZtubfK4Mb8EXWP5qoy', 'changeGraph', 'eyJpZCI6ICJNYXJzaGFsbCBJc2xhbmRzIiwgInR5cGUiOiAidmVydGV4IiwgInByb3BzIjogeyJjb2xvciI6IDY1MjgwfX0K');</script>\n",
       "    "
      ],
      "text/plain": [
       "<IPython.core.display.HTML object>"
      ]
     },
     "metadata": {},
     "output_type": "display_data"
    },
    {
     "data": {
      "text/html": [
       "\n",
       "        <div id=\"hiiqHSCmvouAq3GxYpSLJY\"></div>\n",
       "        <script>netpixi.call('hiiqHSCmvouAq3GxYpSLJY', '3xexZtubfK4Mb8EXWP5qoy', 'changeGraph', 'eyJpZCI6ICJIdW5nYXJ5IiwgInR5cGUiOiAidmVydGV4IiwgInByb3BzIjogeyJjb2xvciI6IDY1MjgwfX0K');</script>\n",
       "    "
      ],
      "text/plain": [
       "<IPython.core.display.HTML object>"
      ]
     },
     "metadata": {},
     "output_type": "display_data"
    },
    {
     "data": {
      "text/html": [
       "\n",
       "        <div id=\"2WFVQFpXK2Y2STQg5zEUQz\"></div>\n",
       "        <script>netpixi.call('2WFVQFpXK2Y2STQg5zEUQz', '3xexZtubfK4Mb8EXWP5qoy', 'changeGraph', 'eyJpZCI6ICJSZXAuIG9mIEtvcmVhIiwgInR5cGUiOiAidmVydGV4IiwgInByb3BzIjogeyJjb2xvciI6IDY1MjgwfX0K');</script>\n",
       "    "
      ],
      "text/plain": [
       "<IPython.core.display.HTML object>"
      ]
     },
     "metadata": {},
     "output_type": "display_data"
    },
    {
     "data": {
      "text/html": [
       "\n",
       "        <div id=\"Uiooa5aZiwEbKWSseFhUGb\"></div>\n",
       "        <script>netpixi.call('Uiooa5aZiwEbKWSseFhUGb', '3xexZtubfK4Mb8EXWP5qoy', 'changeGraph', 'eyJpZCI6ICJBbGdlcmlhIiwgInR5cGUiOiAidmVydGV4IiwgInByb3BzIjogeyJjb2xvciI6IDY1MjgwfX0K');</script>\n",
       "    "
      ],
      "text/plain": [
       "<IPython.core.display.HTML object>"
      ]
     },
     "metadata": {},
     "output_type": "display_data"
    },
    {
     "data": {
      "text/html": [
       "\n",
       "        <div id=\"dzLcLpxP3JiFf7XZ7REHJT\"></div>\n",
       "        <script>netpixi.call('dzLcLpxP3JiFf7XZ7REHJT', '3xexZtubfK4Mb8EXWP5qoy', 'changeGraph', 'eyJpZCI6ICJXYWxsaXMgYW5kIEZ1dHVuYSBJc2xhbmRzICIsICJ0eXBlIjogInZlcnRleCIsICJwcm9wcyI6IHsiY29sb3IiOiA2NTI4MH19Cg==');</script>\n",
       "    "
      ],
      "text/plain": [
       "<IPython.core.display.HTML object>"
      ]
     },
     "metadata": {},
     "output_type": "display_data"
    },
    {
     "data": {
      "text/html": [
       "\n",
       "        <div id=\"VZ8wKZR77iAzojEszih6GX\"></div>\n",
       "        <script>netpixi.call('VZ8wKZR77iAzojEszih6GX', '3xexZtubfK4Mb8EXWP5qoy', 'changeGraph', 'eyJpZCI6ICJDaGFkIiwgInR5cGUiOiAidmVydGV4IiwgInByb3BzIjogeyJjb2xvciI6IDY1MjgwfX0K');</script>\n",
       "    "
      ],
      "text/plain": [
       "<IPython.core.display.HTML object>"
      ]
     },
     "metadata": {},
     "output_type": "display_data"
    },
    {
     "data": {
      "text/html": [
       "\n",
       "        <div id=\"F2Eh3kqnXLyVhPUJhoFXux\"></div>\n",
       "        <script>netpixi.call('F2Eh3kqnXLyVhPUJhoFXux', '3xexZtubfK4Mb8EXWP5qoy', 'changeGraph', 'eyJpZCI6ICJOaWdlciIsICJ0eXBlIjogInZlcnRleCIsICJwcm9wcyI6IHsiY29sb3IiOiA2NTI4MH19Cg==');</script>\n",
       "    "
      ],
      "text/plain": [
       "<IPython.core.display.HTML object>"
      ]
     },
     "metadata": {},
     "output_type": "display_data"
    },
    {
     "data": {
      "text/html": [
       "\n",
       "        <div id=\"L9SXVetc6j6ut43jcXwbab\"></div>\n",
       "        <script>netpixi.call('L9SXVetc6j6ut43jcXwbab', '3xexZtubfK4Mb8EXWP5qoy', 'changeGraph', 'eyJpZCI6ICJUdXJrbWVuaXN0YW4iLCAidHlwZSI6ICJ2ZXJ0ZXgiLCAicHJvcHMiOiB7ImNvbG9yIjogNjUyODB9fQo=');</script>\n",
       "    "
      ],
      "text/plain": [
       "<IPython.core.display.HTML object>"
      ]
     },
     "metadata": {},
     "output_type": "display_data"
    },
    {
     "data": {
      "text/html": [
       "\n",
       "        <div id=\"QxXDBDKSrGaKbTa99po6Ha\"></div>\n",
       "        <script>netpixi.call('QxXDBDKSrGaKbTa99po6Ha', '3xexZtubfK4Mb8EXWP5qoy', 'changeGraph', 'eyJpZCI6ICJTbG92ZW5pYSIsICJ0eXBlIjogInZlcnRleCIsICJwcm9wcyI6IHsiY29sb3IiOiA2NTI4MH19Cg==');</script>\n",
       "    "
      ],
      "text/plain": [
       "<IPython.core.display.HTML object>"
      ]
     },
     "metadata": {},
     "output_type": "display_data"
    },
    {
     "data": {
      "text/html": [
       "\n",
       "        <div id=\"cgfsygWJLrgwAxK7Qre9A6\"></div>\n",
       "        <script>netpixi.call('cgfsygWJLrgwAxK7Qre9A6', '3xexZtubfK4Mb8EXWP5qoy', 'changeGraph', 'eyJpZCI6ICJDemVjaCBSZXAuIiwgInR5cGUiOiAidmVydGV4IiwgInByb3BzIjogeyJjb2xvciI6IDY1MjgwfX0K');</script>\n",
       "    "
      ],
      "text/plain": [
       "<IPython.core.display.HTML object>"
      ]
     },
     "metadata": {},
     "output_type": "display_data"
    },
    {
     "data": {
      "text/html": [
       "\n",
       "        <div id=\"fvs72MdjjbjtND6eFQwyzg\"></div>\n",
       "        <script>netpixi.call('fvs72MdjjbjtND6eFQwyzg', '3xexZtubfK4Mb8EXWP5qoy', 'changeGraph', 'eyJpZCI6ICJUdXJrZXkiLCAidHlwZSI6ICJ2ZXJ0ZXgiLCAicHJvcHMiOiB7ImNvbG9yIjogNjUyODB9fQo=');</script>\n",
       "    "
      ],
      "text/plain": [
       "<IPython.core.display.HTML object>"
      ]
     },
     "metadata": {},
     "output_type": "display_data"
    },
    {
     "data": {
      "text/html": [
       "\n",
       "        <div id=\"cXB2ALDw4fJXEJSUkZv7pN\"></div>\n",
       "        <script>netpixi.call('cXB2ALDw4fJXEJSUkZv7pN', '3xexZtubfK4Mb8EXWP5qoy', 'changeGraph', 'eyJpZCI6ICJQYWtpc3RhbiIsICJ0eXBlIjogInZlcnRleCIsICJwcm9wcyI6IHsiY29sb3IiOiA2NTI4MH19Cg==');</script>\n",
       "    "
      ],
      "text/plain": [
       "<IPython.core.display.HTML object>"
      ]
     },
     "metadata": {},
     "output_type": "display_data"
    },
    {
     "data": {
      "text/html": [
       "\n",
       "        <div id=\"X4Mggb6nXdimMtpUAHY2Cy\"></div>\n",
       "        <script>netpixi.call('X4Mggb6nXdimMtpUAHY2Cy', '3xexZtubfK4Mb8EXWP5qoy', 'changeGraph', 'eyJpZCI6ICJJcmFxIiwgInR5cGUiOiAidmVydGV4IiwgInByb3BzIjogeyJjb2xvciI6IDY1MjgwfX0K');</script>\n",
       "    "
      ],
      "text/plain": [
       "<IPython.core.display.HTML object>"
      ]
     },
     "metadata": {},
     "output_type": "display_data"
    },
    {
     "data": {
      "text/html": [
       "\n",
       "        <div id=\"hJu28RhrmbfXhv8echZVt5\"></div>\n",
       "        <script>netpixi.call('hJu28RhrmbfXhv8echZVt5', '3xexZtubfK4Mb8EXWP5qoy', 'changeGraph', 'eyJpZCI6ICJCYWhyYWluIiwgInR5cGUiOiAidmVydGV4IiwgInByb3BzIjogeyJjb2xvciI6IDY1MjgwfX0K');</script>\n",
       "    "
      ],
      "text/plain": [
       "<IPython.core.display.HTML object>"
      ]
     },
     "metadata": {},
     "output_type": "display_data"
    },
    {
     "data": {
      "text/html": [
       "\n",
       "        <div id=\"YgnfU5XnVeiUcp3CCnTXVe\"></div>\n",
       "        <script>netpixi.call('YgnfU5XnVeiUcp3CCnTXVe', '3xexZtubfK4Mb8EXWP5qoy', 'changeGraph', 'eyJpZCI6ICJOZXcgWmVhbGFuZCIsICJ0eXBlIjogInZlcnRleCIsICJwcm9wcyI6IHsiY29sb3IiOiA2NTI4MH19Cg==');</script>\n",
       "    "
      ],
      "text/plain": [
       "<IPython.core.display.HTML object>"
      ]
     },
     "metadata": {},
     "output_type": "display_data"
    },
    {
     "data": {
      "text/html": [
       "\n",
       "        <div id=\"cvEcBcrNfcissXfHopEyUv\"></div>\n",
       "        <script>netpixi.call('cvEcBcrNfcissXfHopEyUv', '3xexZtubfK4Mb8EXWP5qoy', 'changeGraph', 'eyJpZCI6ICJWZW5lenVlbGEgKEJvbGl2YXJpYW4gUmVwdWJsaWMgb2YpIiwgInR5cGUiOiAidmVydGV4IiwgInByb3BzIjogeyJjb2xvciI6IDY1MjgwfX0K');</script>\n",
       "    "
      ],
      "text/plain": [
       "<IPython.core.display.HTML object>"
      ]
     },
     "metadata": {},
     "output_type": "display_data"
    },
    {
     "data": {
      "text/html": [
       "\n",
       "        <div id=\"2EEwdbJaffTuLDkNdTNQp4\"></div>\n",
       "        <script>netpixi.call('2EEwdbJaffTuLDkNdTNQp4', '3xexZtubfK4Mb8EXWP5qoy', 'changeGraph', 'eyJpZCI6ICJOYXVydSIsICJ0eXBlIjogInZlcnRleCIsICJwcm9wcyI6IHsiY29sb3IiOiA2NTI4MH19Cg==');</script>\n",
       "    "
      ],
      "text/plain": [
       "<IPython.core.display.HTML object>"
      ]
     },
     "metadata": {},
     "output_type": "display_data"
    },
    {
     "data": {
      "text/html": [
       "\n",
       "        <div id=\"avtZDPXqNBj35CTXSSFGZE\"></div>\n",
       "        <script>netpixi.call('avtZDPXqNBj35CTXSSFGZE', '3xexZtubfK4Mb8EXWP5qoy', 'changeGraph', 'eyJpZCI6ICJCYXJiYWRvcyIsICJ0eXBlIjogInZlcnRleCIsICJwcm9wcyI6IHsiY29sb3IiOiA2NTI4MH19Cg==');</script>\n",
       "    "
      ],
      "text/plain": [
       "<IPython.core.display.HTML object>"
      ]
     },
     "metadata": {},
     "output_type": "display_data"
    },
    {
     "data": {
      "text/html": [
       "\n",
       "        <div id=\"nZvt2YceXL5bYzpVZfzeNK\"></div>\n",
       "        <script>netpixi.call('nZvt2YceXL5bYzpVZfzeNK', '3xexZtubfK4Mb8EXWP5qoy', 'changeGraph', 'eyJpZCI6ICJQdWVydG8gUmljbyIsICJ0eXBlIjogInZlcnRleCIsICJwcm9wcyI6IHsiY29sb3IiOiA2NTI4MH19Cg==');</script>\n",
       "    "
      ],
      "text/plain": [
       "<IPython.core.display.HTML object>"
      ]
     },
     "metadata": {},
     "output_type": "display_data"
    },
    {
     "data": {
      "text/html": [
       "\n",
       "        <div id=\"9dJrpMGR6997ADHawyEvNf\"></div>\n",
       "        <script>netpixi.call('9dJrpMGR6997ADHawyEvNf', '3xexZtubfK4Mb8EXWP5qoy', 'changeGraph', 'eyJpZCI6ICJDYWJvIFZlcmRlIiwgInR5cGUiOiAidmVydGV4IiwgInByb3BzIjogeyJjb2xvciI6IDY1MjgwfX0K');</script>\n",
       "    "
      ],
      "text/plain": [
       "<IPython.core.display.HTML object>"
      ]
     },
     "metadata": {},
     "output_type": "display_data"
    },
    {
     "data": {
      "text/html": [
       "\n",
       "        <div id=\"B9C69mL633qLJiDyJBri4k\"></div>\n",
       "        <script>netpixi.call('B9C69mL633qLJiDyJBri4k', '3xexZtubfK4Mb8EXWP5qoy', 'changeGraph', 'eyJpZCI6ICJCYW5nbGFkZXNoIiwgInR5cGUiOiAidmVydGV4IiwgInByb3BzIjogeyJjb2xvciI6IDY1MjgwfX0K');</script>\n",
       "    "
      ],
      "text/plain": [
       "<IPython.core.display.HTML object>"
      ]
     },
     "metadata": {},
     "output_type": "display_data"
    },
    {
     "data": {
      "text/html": [
       "\n",
       "        <div id=\"FCeYhQeYBksMDNfvoraket\"></div>\n",
       "        <script>netpixi.call('FCeYhQeYBksMDNfvoraket', '3xexZtubfK4Mb8EXWP5qoy', 'changeGraph', 'eyJpZCI6ICJQYWxlc3RpbmlhbiIsICJ0eXBlIjogInZlcnRleCIsICJwcm9wcyI6IHsiY29sb3IiOiA2NTI4MH19Cg==');</script>\n",
       "    "
      ],
      "text/plain": [
       "<IPython.core.display.HTML object>"
      ]
     },
     "metadata": {},
     "output_type": "display_data"
    },
    {
     "data": {
      "text/html": [
       "\n",
       "        <div id=\"ZufuDjAnhrBsAyTYmNukBm\"></div>\n",
       "        <script>netpixi.call('ZufuDjAnhrBsAyTYmNukBm', '3xexZtubfK4Mb8EXWP5qoy', 'changeGraph', 'eyJpZCI6ICJDb3N0YSBSaWNhIiwgInR5cGUiOiAidmVydGV4IiwgInByb3BzIjogeyJjb2xvciI6IDY1MjgwfX0K');</script>\n",
       "    "
      ],
      "text/plain": [
       "<IPython.core.display.HTML object>"
      ]
     },
     "metadata": {},
     "output_type": "display_data"
    },
    {
     "data": {
      "text/html": [
       "\n",
       "        <div id=\"ReBC87o3ykqTFPuCbcBD6W\"></div>\n",
       "        <script>netpixi.call('ReBC87o3ykqTFPuCbcBD6W', '3xexZtubfK4Mb8EXWP5qoy', 'changeGraph', 'eyJpZCI6ICJDb21vcm9zIiwgInR5cGUiOiAidmVydGV4IiwgInByb3BzIjogeyJjb2xvciI6IDY1MjgwfX0K');</script>\n",
       "    "
      ],
      "text/plain": [
       "<IPython.core.display.HTML object>"
      ]
     },
     "metadata": {},
     "output_type": "display_data"
    },
    {
     "data": {
      "text/html": [
       "\n",
       "        <div id=\"hP5DUuof3TUubbBW6kZaCA\"></div>\n",
       "        <script>netpixi.call('hP5DUuof3TUubbBW6kZaCA', '3xexZtubfK4Mb8EXWP5qoy', 'changeGraph', 'eyJpZCI6ICJQYXB1YSBOZXcgR3VpbmVhIiwgInR5cGUiOiAidmVydGV4IiwgInByb3BzIjogeyJjb2xvciI6IDY1MjgwfX0K');</script>\n",
       "    "
      ],
      "text/plain": [
       "<IPython.core.display.HTML object>"
      ]
     },
     "metadata": {},
     "output_type": "display_data"
    },
    {
     "data": {
      "text/html": [
       "\n",
       "        <div id=\"8iVK8t8QUuAmnt8d5bfL8M\"></div>\n",
       "        <script>netpixi.call('8iVK8t8QUuAmnt8d5bfL8M', '3xexZtubfK4Mb8EXWP5qoy', 'changeGraph', 'eyJpZCI6ICJBcmdlbnRpbmEiLCAidHlwZSI6ICJ2ZXJ0ZXgiLCAicHJvcHMiOiB7ImNvbG9yIjogNjUyODB9fQo=');</script>\n",
       "    "
      ],
      "text/plain": [
       "<IPython.core.display.HTML object>"
      ]
     },
     "metadata": {},
     "output_type": "display_data"
    },
    {
     "data": {
      "text/html": [
       "\n",
       "        <div id=\"9ZsohrFsuHnevvtzwrMnuK\"></div>\n",
       "        <script>netpixi.call('9ZsohrFsuHnevvtzwrMnuK', '3xexZtubfK4Mb8EXWP5qoy', 'changeGraph', 'eyJpZCI6ICJOZXRoZXJsYW5kcyIsICJ0eXBlIjogInZlcnRleCIsICJwcm9wcyI6IHsiY29sb3IiOiAxNjcxMTY4MH19Cg==');</script>\n",
       "    "
      ],
      "text/plain": [
       "<IPython.core.display.HTML object>"
      ]
     },
     "metadata": {},
     "output_type": "display_data"
    },
    {
     "data": {
      "text/html": [
       "\n",
       "        <div id=\"ex8B5KgYQNm8kgPNFx6Aqo\"></div>\n",
       "        <script>netpixi.call('ex8B5KgYQNm8kgPNFx6Aqo', '3xexZtubfK4Mb8EXWP5qoy', 'changeGraph', 'eyJpZCI6ICJQYXJhZ3VheSIsICJ0eXBlIjogInZlcnRleCIsICJwcm9wcyI6IHsiY29sb3IiOiA2NTI4MH19Cg==');</script>\n",
       "    "
      ],
      "text/plain": [
       "<IPython.core.display.HTML object>"
      ]
     },
     "metadata": {},
     "output_type": "display_data"
    },
    {
     "data": {
      "text/html": [
       "\n",
       "        <div id=\"7tgQG2gRwhQ5SSEx8mZCcz\"></div>\n",
       "        <script>netpixi.call('7tgQG2gRwhQ5SSEx8mZCcz', '3xexZtubfK4Mb8EXWP5qoy', 'changeGraph', 'eyJpZCI6ICJLdXdhaXQiLCAidHlwZSI6ICJ2ZXJ0ZXgiLCAicHJvcHMiOiB7ImNvbG9yIjogNjUyODB9fQo=');</script>\n",
       "    "
      ],
      "text/plain": [
       "<IPython.core.display.HTML object>"
      ]
     },
     "metadata": {},
     "output_type": "display_data"
    },
    {
     "data": {
      "text/html": [
       "\n",
       "        <div id=\"3nXrkfRrBunJyRuCAdtUob\"></div>\n",
       "        <script>netpixi.call('3nXrkfRrBunJyRuCAdtUob', '3xexZtubfK4Mb8EXWP5qoy', 'changeGraph', 'eyJpZCI6ICJTd2F6aWxhbmQiLCAidHlwZSI6ICJ2ZXJ0ZXgiLCAicHJvcHMiOiB7ImNvbG9yIjogNjUyODB9fQo=');</script>\n",
       "    "
      ],
      "text/plain": [
       "<IPython.core.display.HTML object>"
      ]
     },
     "metadata": {},
     "output_type": "display_data"
    },
    {
     "data": {
      "text/html": [
       "\n",
       "        <div id=\"n9FATmXd7TWYyufHTZi5wa\"></div>\n",
       "        <script>netpixi.call('n9FATmXd7TWYyufHTZi5wa', '3xexZtubfK4Mb8EXWP5qoy', 'changeGraph', 'eyJpZCI6ICJHdWluZWEiLCAidHlwZSI6ICJ2ZXJ0ZXgiLCAicHJvcHMiOiB7ImNvbG9yIjogNjUyODB9fQo=');</script>\n",
       "    "
      ],
      "text/plain": [
       "<IPython.core.display.HTML object>"
      ]
     },
     "metadata": {},
     "output_type": "display_data"
    },
    {
     "data": {
      "text/html": [
       "\n",
       "        <div id=\"2PxxENCPDVPLy8NdZDEjdz\"></div>\n",
       "        <script>netpixi.call('2PxxENCPDVPLy8NdZDEjdz', '3xexZtubfK4Mb8EXWP5qoy', 'changeGraph', 'eyJpZCI6ICJHYW1iaWEiLCAidHlwZSI6ICJ2ZXJ0ZXgiLCAicHJvcHMiOiB7ImNvbG9yIjogNjUyODB9fQo=');</script>\n",
       "    "
      ],
      "text/plain": [
       "<IPython.core.display.HTML object>"
      ]
     },
     "metadata": {},
     "output_type": "display_data"
    },
    {
     "data": {
      "text/html": [
       "\n",
       "        <div id=\"nEc2E49WjqcGYMs8ncFHS9\"></div>\n",
       "        <script>netpixi.call('nEc2E49WjqcGYMs8ncFHS9', '3xexZtubfK4Mb8EXWP5qoy', 'changeGraph', 'eyJpZCI6ICJDXHUwMGY0dGUgZCdJdm9pcmUiLCAidHlwZSI6ICJ2ZXJ0ZXgiLCAicHJvcHMiOiB7ImNvbG9yIjogNjUyODB9fQo=');</script>\n",
       "    "
      ],
      "text/plain": [
       "<IPython.core.display.HTML object>"
      ]
     },
     "metadata": {},
     "output_type": "display_data"
    },
    {
     "data": {
      "text/html": [
       "\n",
       "        <div id=\"5Lz7t62SAtqBk5dVky9oN7\"></div>\n",
       "        <script>netpixi.call('5Lz7t62SAtqBk5dVky9oN7', '3xexZtubfK4Mb8EXWP5qoy', 'changeGraph', 'eyJpZCI6ICJGaW5sYW5kIiwgInR5cGUiOiAidmVydGV4IiwgInByb3BzIjogeyJjb2xvciI6IDE2NzExNjgwfX0K');</script>\n",
       "    "
      ],
      "text/plain": [
       "<IPython.core.display.HTML object>"
      ]
     },
     "metadata": {},
     "output_type": "display_data"
    },
    {
     "data": {
      "text/html": [
       "\n",
       "        <div id=\"BHFJZ4GXiovTXSeAjVi8nB\"></div>\n",
       "        <script>netpixi.call('BHFJZ4GXiovTXSeAjVi8nB', '3xexZtubfK4Mb8EXWP5qoy', 'changeGraph', 'eyJpZCI6ICJEb21pbmljYW4gUmVwLiIsICJ0eXBlIjogInZlcnRleCIsICJwcm9wcyI6IHsiY29sb3IiOiA2NTI4MH19Cg==');</script>\n",
       "    "
      ],
      "text/plain": [
       "<IPython.core.display.HTML object>"
      ]
     },
     "metadata": {},
     "output_type": "display_data"
    },
    {
     "data": {
      "text/html": [
       "\n",
       "        <div id=\"cmv673Ks4omspKBR5iVXrg\"></div>\n",
       "        <script>netpixi.call('cmv673Ks4omspKBR5iVXrg', '3xexZtubfK4Mb8EXWP5qoy', 'changeGraph', 'eyJpZCI6ICJDaGluYSwgTWFjYW8gU0FSIiwgInR5cGUiOiAidmVydGV4IiwgInByb3BzIjogeyJjb2xvciI6IDY1MjgwfX0K');</script>\n",
       "    "
      ],
      "text/plain": [
       "<IPython.core.display.HTML object>"
      ]
     },
     "metadata": {},
     "output_type": "display_data"
    },
    {
     "data": {
      "text/html": [
       "\n",
       "        <div id=\"NGtiFgczJ8SeEwTMS9gfcX\"></div>\n",
       "        <script>netpixi.call('NGtiFgczJ8SeEwTMS9gfcX', '3xexZtubfK4Mb8EXWP5qoy', 'changeGraph', 'eyJpZCI6ICJUaGUgZm9ybWVyIFl1Z29zbGF2IFJlcHVibGljIG9mIE1hY2Vkb25pYSIsICJ0eXBlIjogInZlcnRleCIsICJwcm9wcyI6IHsiY29sb3IiOiA2NTI4MH19Cg==');</script>\n",
       "    "
      ],
      "text/plain": [
       "<IPython.core.display.HTML object>"
      ]
     },
     "metadata": {},
     "output_type": "display_data"
    },
    {
     "data": {
      "text/html": [
       "\n",
       "        <div id=\"ZVGgNpSETyHeuxzgtWryqg\"></div>\n",
       "        <script>netpixi.call('ZVGgNpSETyHeuxzgtWryqg', '3xexZtubfK4Mb8EXWP5qoy', 'changeGraph', 'eyJpZCI6ICJHcmVlY2UiLCAidHlwZSI6ICJ2ZXJ0ZXgiLCAicHJvcHMiOiB7ImNvbG9yIjogMTY3MTE2ODB9fQo=');</script>\n",
       "    "
      ],
      "text/plain": [
       "<IPython.core.display.HTML object>"
      ]
     },
     "metadata": {},
     "output_type": "display_data"
    },
    {
     "data": {
      "text/html": [
       "\n",
       "        <div id=\"cqv3XQjXDF53PdbyURBqrM\"></div>\n",
       "        <script>netpixi.call('cqv3XQjXDF53PdbyURBqrM', '3xexZtubfK4Mb8EXWP5qoy', 'changeGraph', 'eyJpZCI6ICJBbGJhbmlhIiwgInR5cGUiOiAidmVydGV4IiwgInByb3BzIjogeyJjb2xvciI6IDY1MjgwfX0K');</script>\n",
       "    "
      ],
      "text/plain": [
       "<IPython.core.display.HTML object>"
      ]
     },
     "metadata": {},
     "output_type": "display_data"
    },
    {
     "data": {
      "text/html": [
       "\n",
       "        <div id=\"TDFHeqPPmJagCLSr74R5s4\"></div>\n",
       "        <script>netpixi.call('TDFHeqPPmJagCLSr74R5s4', '3xexZtubfK4Mb8EXWP5qoy', 'changeGraph', 'eyJpZCI6ICJTb3V0aCBTdWRhbiIsICJ0eXBlIjogInZlcnRleCIsICJwcm9wcyI6IHsiY29sb3IiOiA2NTI4MH19Cg==');</script>\n",
       "    "
      ],
      "text/plain": [
       "<IPython.core.display.HTML object>"
      ]
     },
     "metadata": {},
     "output_type": "display_data"
    },
    {
     "data": {
      "text/html": [
       "\n",
       "        <div id=\"LMp4rNXh7pssWpeS8NY6AL\"></div>\n",
       "        <script>netpixi.call('LMp4rNXh7pssWpeS8NY6AL', '3xexZtubfK4Mb8EXWP5qoy', 'changeGraph', 'eyJpZCI6ICJBbmd1aWxsYSIsICJ0eXBlIjogInZlcnRleCIsICJwcm9wcyI6IHsiY29sb3IiOiA2NTI4MH19Cg==');</script>\n",
       "    "
      ],
      "text/plain": [
       "<IPython.core.display.HTML object>"
      ]
     },
     "metadata": {},
     "output_type": "display_data"
    },
    {
     "data": {
      "text/html": [
       "\n",
       "        <div id=\"Sx7FKT88bbwiw9GC8JbF3t\"></div>\n",
       "        <script>netpixi.call('Sx7FKT88bbwiw9GC8JbF3t', '3xexZtubfK4Mb8EXWP5qoy', 'changeGraph', 'eyJpZCI6ICJLaXJpYmF0aSIsICJ0eXBlIjogInZlcnRleCIsICJwcm9wcyI6IHsiY29sb3IiOiA2NTI4MH19Cg==');</script>\n",
       "    "
      ],
      "text/plain": [
       "<IPython.core.display.HTML object>"
      ]
     },
     "metadata": {},
     "output_type": "display_data"
    },
    {
     "data": {
      "text/html": [
       "\n",
       "        <div id=\"R5ddHz4a5LG28VvCGZBbmN\"></div>\n",
       "        <script>netpixi.call('R5ddHz4a5LG28VvCGZBbmN', '3xexZtubfK4Mb8EXWP5qoy', 'changeGraph', 'eyJpZCI6ICJDYW1ib2RpYSIsICJ0eXBlIjogInZlcnRleCIsICJwcm9wcyI6IHsiY29sb3IiOiA2NTI4MH19Cg==');</script>\n",
       "    "
      ],
      "text/plain": [
       "<IPython.core.display.HTML object>"
      ]
     },
     "metadata": {},
     "output_type": "display_data"
    },
    {
     "data": {
      "text/html": [
       "\n",
       "        <div id=\"fYa3wEJetqpb9jsxm3d6Z3\"></div>\n",
       "        <script>netpixi.call('fYa3wEJetqpb9jsxm3d6Z3', '3xexZtubfK4Mb8EXWP5qoy', 'changeGraph', 'eyJpZCI6ICJDaGluYSIsICJ0eXBlIjogInZlcnRleCIsICJwcm9wcyI6IHsiY29sb3IiOiA2NTI4MH19Cg==');</script>\n",
       "    "
      ],
      "text/plain": [
       "<IPython.core.display.HTML object>"
      ]
     },
     "metadata": {},
     "output_type": "display_data"
    },
    {
     "data": {
      "text/html": [
       "\n",
       "        <div id=\"6f7sPXezViMzzT3QPmSBKv\"></div>\n",
       "        <script>netpixi.call('6f7sPXezViMzzT3QPmSBKv', '3xexZtubfK4Mb8EXWP5qoy', 'changeGraph', 'eyJpZCI6ICJNYXJ0aW5pcXVlIiwgInR5cGUiOiAidmVydGV4IiwgInByb3BzIjogeyJjb2xvciI6IDY1MjgwfX0K');</script>\n",
       "    "
      ],
      "text/plain": [
       "<IPython.core.display.HTML object>"
      ]
     },
     "metadata": {},
     "output_type": "display_data"
    },
    {
     "data": {
      "text/html": [
       "\n",
       "        <div id=\"bfPwEePgcGrYGSwr7yWHgv\"></div>\n",
       "        <script>netpixi.call('bfPwEePgcGrYGSwr7yWHgv', '3xexZtubfK4Mb8EXWP5qoy', 'changeGraph', 'eyJpZCI6ICJWaWV0IE5hbSIsICJ0eXBlIjogInZlcnRleCIsICJwcm9wcyI6IHsiY29sb3IiOiA2NTI4MH19Cg==');</script>\n",
       "    "
      ],
      "text/plain": [
       "<IPython.core.display.HTML object>"
      ]
     },
     "metadata": {},
     "output_type": "display_data"
    },
    {
     "data": {
      "text/html": [
       "\n",
       "        <div id=\"59NBjNdDU5AA5gg6qeDMmR\"></div>\n",
       "        <script>netpixi.call('59NBjNdDU5AA5gg6qeDMmR', '3xexZtubfK4Mb8EXWP5qoy', 'changeGraph', 'eyJpZCI6ICJOaWdlcmlhIiwgInR5cGUiOiAidmVydGV4IiwgInByb3BzIjogeyJjb2xvciI6IDY1MjgwfX0K');</script>\n",
       "    "
      ],
      "text/plain": [
       "<IPython.core.display.HTML object>"
      ]
     },
     "metadata": {},
     "output_type": "display_data"
    },
    {
     "data": {
      "text/html": [
       "\n",
       "        <div id=\"YSmdk7NhMD4YaCviJgywBr\"></div>\n",
       "        <script>netpixi.call('YSmdk7NhMD4YaCviJgywBr', '3xexZtubfK4Mb8EXWP5qoy', 'changeGraph', 'eyJpZCI6ICJBbmRvcnJhIiwgInR5cGUiOiAidmVydGV4IiwgInByb3BzIjogeyJjb2xvciI6IDY1MjgwfX0K');</script>\n",
       "    "
      ],
      "text/plain": [
       "<IPython.core.display.HTML object>"
      ]
     },
     "metadata": {},
     "output_type": "display_data"
    },
    {
     "data": {
      "text/html": [
       "\n",
       "        <div id=\"E7MCUVqVUN2A9z8TvSUQeN\"></div>\n",
       "        <script>netpixi.call('E7MCUVqVUN2A9z8TvSUQeN', '3xexZtubfK4Mb8EXWP5qoy', 'changeGraph', 'eyJpZCI6ICJQaGlsaXBwaW5lcyIsICJ0eXBlIjogInZlcnRleCIsICJwcm9wcyI6IHsiY29sb3IiOiA2NTI4MH19Cg==');</script>\n",
       "    "
      ],
      "text/plain": [
       "<IPython.core.display.HTML object>"
      ]
     },
     "metadata": {},
     "output_type": "display_data"
    },
    {
     "data": {
      "text/html": [
       "\n",
       "        <div id=\"VYHeNQvspzAUL9DavRUT37\"></div>\n",
       "        <script>netpixi.call('VYHeNQvspzAUL9DavRUT37', '3xexZtubfK4Mb8EXWP5qoy', 'changeGraph', 'eyJpZCI6ICJCZWxpemUiLCAidHlwZSI6ICJ2ZXJ0ZXgiLCAicHJvcHMiOiB7ImNvbG9yIjogNjUyODB9fQo=');</script>\n",
       "    "
      ],
      "text/plain": [
       "<IPython.core.display.HTML object>"
      ]
     },
     "metadata": {},
     "output_type": "display_data"
    },
    {
     "data": {
      "text/html": [
       "\n",
       "        <div id=\"6gHNL8dxqigzS6S26C5Kyt\"></div>\n",
       "        <script>netpixi.call('6gHNL8dxqigzS6S26C5Kyt', '3xexZtubfK4Mb8EXWP5qoy', 'changeGraph', 'eyJpZCI6ICJUdXZhbHUiLCAidHlwZSI6ICJ2ZXJ0ZXgiLCAicHJvcHMiOiB7ImNvbG9yIjogNjUyODB9fQo=');</script>\n",
       "    "
      ],
      "text/plain": [
       "<IPython.core.display.HTML object>"
      ]
     },
     "metadata": {},
     "output_type": "display_data"
    },
    {
     "data": {
      "text/html": [
       "\n",
       "        <div id=\"9BsbKzFUdLHMEbLP6sth6E\"></div>\n",
       "        <script>netpixi.call('9BsbKzFUdLHMEbLP6sth6E', '3xexZtubfK4Mb8EXWP5qoy', 'changeGraph', 'eyJpZCI6ICJEZW0uIFBlb3BsZSdzIFJlcC4gb2YgS29yZWEiLCAidHlwZSI6ICJ2ZXJ0ZXgiLCAicHJvcHMiOiB7ImNvbG9yIjogNjUyODB9fQo=');</script>\n",
       "    "
      ],
      "text/plain": [
       "<IPython.core.display.HTML object>"
      ]
     },
     "metadata": {},
     "output_type": "display_data"
    },
    {
     "data": {
      "text/html": [
       "\n",
       "        <div id=\"6qE3jpmwg45P8LtougRmzf\"></div>\n",
       "        <script>netpixi.call('6qE3jpmwg45P8LtougRmzf', '3xexZtubfK4Mb8EXWP5qoy', 'changeGraph', 'eyJpZCI6ICJTb21hbGlhIiwgInR5cGUiOiAidmVydGV4IiwgInByb3BzIjogeyJjb2xvciI6IDY1MjgwfX0K');</script>\n",
       "    "
      ],
      "text/plain": [
       "<IPython.core.display.HTML object>"
      ]
     },
     "metadata": {},
     "output_type": "display_data"
    },
    {
     "data": {
      "text/html": [
       "\n",
       "        <div id=\"VY4WmpKF76pfgNCKkVmPhZ\"></div>\n",
       "        <script>netpixi.call('VY4WmpKF76pfgNCKkVmPhZ', '3xexZtubfK4Mb8EXWP5qoy', 'changeGraph', 'eyJpZCI6ICJCZWxhcnVzIiwgInR5cGUiOiAidmVydGV4IiwgInByb3BzIjogeyJjb2xvciI6IDY1MjgwfX0K');</script>\n",
       "    "
      ],
      "text/plain": [
       "<IPython.core.display.HTML object>"
      ]
     },
     "metadata": {},
     "output_type": "display_data"
    },
    {
     "data": {
      "text/html": [
       "\n",
       "        <div id=\"HJthD4azLi93DY5ssAmnfE\"></div>\n",
       "        <script>netpixi.call('HJthD4azLi93DY5ssAmnfE', '3xexZtubfK4Mb8EXWP5qoy', 'changeGraph', 'eyJpZCI6ICJTdXJpbmFtZSIsICJ0eXBlIjogInZlcnRleCIsICJwcm9wcyI6IHsiY29sb3IiOiA2NTI4MH19Cg==');</script>\n",
       "    "
      ],
      "text/plain": [
       "<IPython.core.display.HTML object>"
      ]
     },
     "metadata": {},
     "output_type": "display_data"
    },
    {
     "data": {
      "text/html": [
       "\n",
       "        <div id=\"3cBebqwrtEP2Xf28KFypnr\"></div>\n",
       "        <script>netpixi.call('3cBebqwrtEP2Xf28KFypnr', '3xexZtubfK4Mb8EXWP5qoy', 'changeGraph', 'eyJpZCI6ICJCZXJtdWRhIiwgInR5cGUiOiAidmVydGV4IiwgInByb3BzIjogeyJjb2xvciI6IDY1MjgwfX0K');</script>\n",
       "    "
      ],
      "text/plain": [
       "<IPython.core.display.HTML object>"
      ]
     },
     "metadata": {},
     "output_type": "display_data"
    },
    {
     "data": {
      "text/html": [
       "\n",
       "        <div id=\"WBeQ2jkLyr9ospgChgQj7m\"></div>\n",
       "        <script>netpixi.call('WBeQ2jkLyr9ospgChgQj7m', '3xexZtubfK4Mb8EXWP5qoy', 'changeGraph', 'eyJpZCI6ICJZZW1lbiIsICJ0eXBlIjogInZlcnRleCIsICJwcm9wcyI6IHsiY29sb3IiOiA2NTI4MH19Cg==');</script>\n",
       "    "
      ],
      "text/plain": [
       "<IPython.core.display.HTML object>"
      ]
     },
     "metadata": {},
     "output_type": "display_data"
    },
    {
     "data": {
      "text/html": [
       "\n",
       "        <div id=\"YTbLpC8rCZ6iVJLQNPRgVx\"></div>\n",
       "        <script>netpixi.call('YTbLpC8rCZ6iVJLQNPRgVx', '3xexZtubfK4Mb8EXWP5qoy', 'changeGraph', 'eyJpZCI6ICJTZXljaGVsbGVzIiwgInR5cGUiOiAidmVydGV4IiwgInByb3BzIjogeyJjb2xvciI6IDY1MjgwfX0K');</script>\n",
       "    "
      ],
      "text/plain": [
       "<IPython.core.display.HTML object>"
      ]
     },
     "metadata": {},
     "output_type": "display_data"
    },
    {
     "data": {
      "text/html": [
       "\n",
       "        <div id=\"AXnaT9RvSKeMST8hamE2CJ\"></div>\n",
       "        <script>netpixi.call('AXnaT9RvSKeMST8hamE2CJ', '3xexZtubfK4Mb8EXWP5qoy', 'changeGraph', 'eyJpZCI6ICJHcmVuYWRhIiwgInR5cGUiOiAidmVydGV4IiwgInByb3BzIjogeyJjb2xvciI6IDY1MjgwfX0K');</script>\n",
       "    "
      ],
      "text/plain": [
       "<IPython.core.display.HTML object>"
      ]
     },
     "metadata": {},
     "output_type": "display_data"
    },
    {
     "data": {
      "text/html": [
       "\n",
       "        <div id=\"CgFobqgh9U4dRb85hPChWX\"></div>\n",
       "        <script>netpixi.call('CgFobqgh9U4dRb85hPChWX', '3xexZtubfK4Mb8EXWP5qoy', 'changeGraph', 'eyJpZCI6ICJNYWxheXNpYSIsICJ0eXBlIjogInZlcnRleCIsICJwcm9wcyI6IHsiY29sb3IiOiA2NTI4MH19Cg==');</script>\n",
       "    "
      ],
      "text/plain": [
       "<IPython.core.display.HTML object>"
      ]
     },
     "metadata": {},
     "output_type": "display_data"
    },
    {
     "data": {
      "text/html": [
       "\n",
       "        <div id=\"JYYPxX2jcSfWtQLNkyA34u\"></div>\n",
       "        <script>netpixi.call('JYYPxX2jcSfWtQLNkyA34u', '3xexZtubfK4Mb8EXWP5qoy', 'changeGraph', 'eyJpZCI6ICJCcmF6aWwiLCAidHlwZSI6ICJ2ZXJ0ZXgiLCAicHJvcHMiOiB7ImNvbG9yIjogNjUyODB9fQo=');</script>\n",
       "    "
      ],
      "text/plain": [
       "<IPython.core.display.HTML object>"
      ]
     },
     "metadata": {},
     "output_type": "display_data"
    },
    {
     "data": {
      "text/html": [
       "\n",
       "        <div id=\"BDwwJEH679FcDL8pjG8gcA\"></div>\n",
       "        <script>netpixi.call('BDwwJEH679FcDL8pjG8gcA', '3xexZtubfK4Mb8EXWP5qoy', 'changeGraph', 'eyJpZCI6ICJBbnRpZ3VhIGFuZCBCYXJidWRhIiwgInR5cGUiOiAidmVydGV4IiwgInByb3BzIjogeyJjb2xvciI6IDY1MjgwfX0K');</script>\n",
       "    "
      ],
      "text/plain": [
       "<IPython.core.display.HTML object>"
      ]
     },
     "metadata": {},
     "output_type": "display_data"
    },
    {
     "data": {
      "text/html": [
       "\n",
       "        <div id=\"C4WYJwFdRgxqXdeGsRitZx\"></div>\n",
       "        <script>netpixi.call('C4WYJwFdRgxqXdeGsRitZx', '3xexZtubfK4Mb8EXWP5qoy', 'changeGraph', 'eyJpZCI6ICJDdWJhIiwgInR5cGUiOiAidmVydGV4IiwgInByb3BzIjogeyJjb2xvciI6IDY1MjgwfX0K');</script>\n",
       "    "
      ],
      "text/plain": [
       "<IPython.core.display.HTML object>"
      ]
     },
     "metadata": {},
     "output_type": "display_data"
    },
    {
     "data": {
      "text/html": [
       "\n",
       "        <div id=\"PNdZMyDZPdFVEojgNnGC72\"></div>\n",
       "        <script>netpixi.call('PNdZMyDZPdFVEojgNnGC72', '3xexZtubfK4Mb8EXWP5qoy', 'changeGraph', 'eyJpZCI6ICJTZW5lZ2FsIiwgInR5cGUiOiAidmVydGV4IiwgInByb3BzIjogeyJjb2xvciI6IDY1MjgwfX0K');</script>\n",
       "    "
      ],
      "text/plain": [
       "<IPython.core.display.HTML object>"
      ]
     },
     "metadata": {},
     "output_type": "display_data"
    },
    {
     "data": {
      "text/html": [
       "\n",
       "        <div id=\"f8RUAhfqoPQ9cCKhsvwYFG\"></div>\n",
       "        <script>netpixi.call('f8RUAhfqoPQ9cCKhsvwYFG', '3xexZtubfK4Mb8EXWP5qoy', 'changeGraph', 'eyJpZCI6ICJUcmluaWRhZCBhbmQgVG9iYWdvIiwgInR5cGUiOiAidmVydGV4IiwgInByb3BzIjogeyJjb2xvciI6IDY1MjgwfX0K');</script>\n",
       "    "
      ],
      "text/plain": [
       "<IPython.core.display.HTML object>"
      ]
     },
     "metadata": {},
     "output_type": "display_data"
    },
    {
     "data": {
      "text/html": [
       "\n",
       "        <div id=\"nALRb4CzHyum8o8fBbw5qy\"></div>\n",
       "        <script>netpixi.call('nALRb4CzHyum8o8fBbw5qy', '3xexZtubfK4Mb8EXWP5qoy', 'changeGraph', 'eyJpZCI6ICJDYW1lcm9vbiIsICJ0eXBlIjogInZlcnRleCIsICJwcm9wcyI6IHsiY29sb3IiOiA2NTI4MH19Cg==');</script>\n",
       "    "
      ],
      "text/plain": [
       "<IPython.core.display.HTML object>"
      ]
     },
     "metadata": {},
     "output_type": "display_data"
    },
    {
     "data": {
      "text/html": [
       "\n",
       "        <div id=\"LioqNFDTNpxA2tguaVBcjX\"></div>\n",
       "        <script>netpixi.call('LioqNFDTNpxA2tguaVBcjX', '3xexZtubfK4Mb8EXWP5qoy', 'changeGraph', 'eyJpZCI6ICJCZW5pbiIsICJ0eXBlIjogInZlcnRleCIsICJwcm9wcyI6IHsiY29sb3IiOiA2NTI4MH19Cg==');</script>\n",
       "    "
      ],
      "text/plain": [
       "<IPython.core.display.HTML object>"
      ]
     },
     "metadata": {},
     "output_type": "display_data"
    },
    {
     "data": {
      "text/html": [
       "\n",
       "        <div id=\"5nD2B5WZ9KtuYuC6zxNkDc\"></div>\n",
       "        <script>netpixi.call('5nD2B5WZ9KtuYuC6zxNkDc', '3xexZtubfK4Mb8EXWP5qoy', 'changeGraph', 'eyJpZCI6ICJMaWJ5YSIsICJ0eXBlIjogInZlcnRleCIsICJwcm9wcyI6IHsiY29sb3IiOiA2NTI4MH19Cg==');</script>\n",
       "    "
      ],
      "text/plain": [
       "<IPython.core.display.HTML object>"
      ]
     },
     "metadata": {},
     "output_type": "display_data"
    },
    {
     "data": {
      "text/html": [
       "\n",
       "        <div id=\"28z7iMCmNQBHAChoT5gyfh\"></div>\n",
       "        <script>netpixi.call('28z7iMCmNQBHAChoT5gyfh', '3xexZtubfK4Mb8EXWP5qoy', 'changeGraph', 'eyJpZCI6ICJGcmFuY2UiLCAidHlwZSI6ICJ2ZXJ0ZXgiLCAicHJvcHMiOiB7ImNvbG9yIjogMTY3MTE2ODB9fQo=');</script>\n",
       "    "
      ],
      "text/plain": [
       "<IPython.core.display.HTML object>"
      ]
     },
     "metadata": {},
     "output_type": "display_data"
    },
    {
     "data": {
      "text/html": [
       "\n",
       "        <div id=\"QwsKdaju4u23kUcw4bufZE\"></div>\n",
       "        <script>netpixi.call('QwsKdaju4u23kUcw4bufZE', '3xexZtubfK4Mb8EXWP5qoy', 'changeGraph', 'eyJpZCI6ICJUdW5pc2lhIiwgInR5cGUiOiAidmVydGV4IiwgInByb3BzIjogeyJjb2xvciI6IDY1MjgwfX0K');</script>\n",
       "    "
      ],
      "text/plain": [
       "<IPython.core.display.HTML object>"
      ]
     },
     "metadata": {},
     "output_type": "display_data"
    },
    {
     "data": {
      "text/html": [
       "\n",
       "        <div id=\"65Pyvq8PcYoNoRKTScM9o7\"></div>\n",
       "        <script>netpixi.call('65Pyvq8PcYoNoRKTScM9o7', '3xexZtubfK4Mb8EXWP5qoy', 'changeGraph', 'eyJpZCI6ICJHYWJvbiIsICJ0eXBlIjogInZlcnRleCIsICJwcm9wcyI6IHsiY29sb3IiOiA2NTI4MH19Cg==');</script>\n",
       "    "
      ],
      "text/plain": [
       "<IPython.core.display.HTML object>"
      ]
     },
     "metadata": {},
     "output_type": "display_data"
    },
    {
     "data": {
      "text/html": [
       "\n",
       "        <div id=\"WMtcJsR3yQwVEbWrqCRXbj\"></div>\n",
       "        <script>netpixi.call('WMtcJsR3yQwVEbWrqCRXbj', '3xexZtubfK4Mb8EXWP5qoy', 'changeGraph', 'eyJpZCI6ICJWYW51YXR1IiwgInR5cGUiOiAidmVydGV4IiwgInByb3BzIjogeyJjb2xvciI6IDY1MjgwfX0K');</script>\n",
       "    "
      ],
      "text/plain": [
       "<IPython.core.display.HTML object>"
      ]
     },
     "metadata": {},
     "output_type": "display_data"
    },
    {
     "data": {
      "text/html": [
       "\n",
       "        <div id=\"RkmHJ3JQ23hPsAq2FnRZyW\"></div>\n",
       "        <script>netpixi.call('RkmHJ3JQ23hPsAq2FnRZyW', '3xexZtubfK4Mb8EXWP5qoy', 'changeGraph', 'eyJpZCI6ICJOaXVlIiwgInR5cGUiOiAidmVydGV4IiwgInByb3BzIjogeyJjb2xvciI6IDY1MjgwfX0K');</script>\n",
       "    "
      ],
      "text/plain": [
       "<IPython.core.display.HTML object>"
      ]
     },
     "metadata": {},
     "output_type": "display_data"
    },
    {
     "data": {
      "text/html": [
       "\n",
       "        <div id=\"Yi6f2aZ45eBCgvZWgWT7d5\"></div>\n",
       "        <script>netpixi.call('Yi6f2aZ45eBCgvZWgWT7d5', '3xexZtubfK4Mb8EXWP5qoy', 'changeGraph', 'eyJpZCI6ICJQZXJ1IiwgInR5cGUiOiAidmVydGV4IiwgInByb3BzIjogeyJjb2xvciI6IDY1MjgwfX0K');</script>\n",
       "    "
      ],
      "text/plain": [
       "<IPython.core.display.HTML object>"
      ]
     },
     "metadata": {},
     "output_type": "display_data"
    },
    {
     "data": {
      "text/html": [
       "\n",
       "        <div id=\"VUkEgNa9sBttV8mCfFMRoZ\"></div>\n",
       "        <script>netpixi.call('VUkEgNa9sBttV8mCfFMRoZ', '3xexZtubfK4Mb8EXWP5qoy', 'changeGraph', 'eyJpZCI6ICJOaWNhcmFndWEiLCAidHlwZSI6ICJ2ZXJ0ZXgiLCAicHJvcHMiOiB7ImNvbG9yIjogNjUyODB9fQo=');</script>\n",
       "    "
      ],
      "text/plain": [
       "<IPython.core.display.HTML object>"
      ]
     },
     "metadata": {},
     "output_type": "display_data"
    },
    {
     "data": {
      "text/html": [
       "\n",
       "        <div id=\"mJWdHYfr6B5CfSt4mhSbAy\"></div>\n",
       "        <script>netpixi.call('mJWdHYfr6B5CfSt4mhSbAy', '3xexZtubfK4Mb8EXWP5qoy', 'changeGraph', 'eyJpZCI6ICJSZXAuIG9mIE1vbGRvdmEiLCAidHlwZSI6ICJ2ZXJ0ZXgiLCAicHJvcHMiOiB7ImNvbG9yIjogNjUyODB9fQo=');</script>\n",
       "    "
      ],
      "text/plain": [
       "<IPython.core.display.HTML object>"
      ]
     },
     "metadata": {},
     "output_type": "display_data"
    },
    {
     "data": {
      "text/html": [
       "\n",
       "        <div id=\"PmjXsmpzpAepVEncHGPfQU\"></div>\n",
       "        <script>netpixi.call('PmjXsmpzpAepVEncHGPfQU', '3xexZtubfK4Mb8EXWP5qoy', 'changeGraph', 'eyJpZCI6ICJVbml0ZWQgS2luZ2RvbSIsICJ0eXBlIjogInZlcnRleCIsICJwcm9wcyI6IHsiY29sb3IiOiAxNjcxMTY4MH19Cg==');</script>\n",
       "    "
      ],
      "text/plain": [
       "<IPython.core.display.HTML object>"
      ]
     },
     "metadata": {},
     "output_type": "display_data"
    },
    {
     "data": {
      "text/html": [
       "\n",
       "        <div id=\"KC5MVcyonUe43cj3ugFsM9\"></div>\n",
       "        <script>netpixi.call('KC5MVcyonUe43cj3ugFsM9', '3xexZtubfK4Mb8EXWP5qoy', 'changeGraph', 'eyJpZCI6ICJMYW8gUGVvcGxlJ3MgRGVtLiBSZXAuIiwgInR5cGUiOiAidmVydGV4IiwgInByb3BzIjogeyJjb2xvciI6IDY1MjgwfX0K');</script>\n",
       "    "
      ],
      "text/plain": [
       "<IPython.core.display.HTML object>"
      ]
     },
     "metadata": {},
     "output_type": "display_data"
    },
    {
     "data": {
      "text/html": [
       "\n",
       "        <div id=\"CZHUDVgpD5PAvf5wQM43pt\"></div>\n",
       "        <script>netpixi.call('CZHUDVgpD5PAvf5wQM43pt', '3xexZtubfK4Mb8EXWP5qoy', 'changeGraph', 'eyJpZCI6ICJUaW1vci1MZXN0ZSIsICJ0eXBlIjogInZlcnRleCIsICJwcm9wcyI6IHsiY29sb3IiOiA2NTI4MH19Cg==');</script>\n",
       "    "
      ],
      "text/plain": [
       "<IPython.core.display.HTML object>"
      ]
     },
     "metadata": {},
     "output_type": "display_data"
    },
    {
     "data": {
      "text/html": [
       "\n",
       "        <div id=\"mKL5oZi6a6rwUnKWrWna6a\"></div>\n",
       "        <script>netpixi.call('mKL5oZi6a6rwUnKWrWna6a', '3xexZtubfK4Mb8EXWP5qoy', 'changeGraph', 'eyJpZCI6ICJTeXJpYW4gQXJhYiBSZXAuIiwgInR5cGUiOiAidmVydGV4IiwgInByb3BzIjogeyJjb2xvciI6IDY1MjgwfX0K');</script>\n",
       "    "
      ],
      "text/plain": [
       "<IPython.core.display.HTML object>"
      ]
     },
     "metadata": {},
     "output_type": "display_data"
    },
    {
     "data": {
      "text/html": [
       "\n",
       "        <div id=\"mrxZwpARPpSFoQ88UZzRtw\"></div>\n",
       "        <script>netpixi.call('mrxZwpARPpSFoQ88UZzRtw', '3xexZtubfK4Mb8EXWP5qoy', 'changeGraph', 'eyJpZCI6ICJCdWxnYXJpYSIsICJ0eXBlIjogInZlcnRleCIsICJwcm9wcyI6IHsiY29sb3IiOiA2NTI4MH19Cg==');</script>\n",
       "    "
      ],
      "text/plain": [
       "<IPython.core.display.HTML object>"
      ]
     },
     "metadata": {},
     "output_type": "display_data"
    },
    {
     "data": {
      "text/html": [
       "\n",
       "        <div id=\"U5QkC6w2Wicny2BGRzEQj6\"></div>\n",
       "        <script>netpixi.call('U5QkC6w2Wicny2BGRzEQj6', '3xexZtubfK4Mb8EXWP5qoy', 'changeGraph', 'eyJpZCI6ICJOb3Jmb2xrIElzbGFuZCIsICJ0eXBlIjogInZlcnRleCIsICJwcm9wcyI6IHsiY29sb3IiOiA2NTI4MH19Cg==');</script>\n",
       "    "
      ],
      "text/plain": [
       "<IPython.core.display.HTML object>"
      ]
     },
     "metadata": {},
     "output_type": "display_data"
    },
    {
     "data": {
      "text/html": [
       "\n",
       "        <div id=\"eWMirRYFJDf24EKc5fdZnp\"></div>\n",
       "        <script>netpixi.call('eWMirRYFJDf24EKc5fdZnp', '3xexZtubfK4Mb8EXWP5qoy', 'changeGraph', 'eyJpZCI6ICJFc3RvbmlhIiwgInR5cGUiOiAidmVydGV4IiwgInByb3BzIjogeyJjb2xvciI6IDY1MjgwfX0K');</script>\n",
       "    "
      ],
      "text/plain": [
       "<IPython.core.display.HTML object>"
      ]
     },
     "metadata": {},
     "output_type": "display_data"
    },
    {
     "data": {
      "text/html": [
       "\n",
       "        <div id=\"CDVvdnX2T4oFwdh6TRaJjV\"></div>\n",
       "        <script>netpixi.call('CDVvdnX2T4oFwdh6TRaJjV', '3xexZtubfK4Mb8EXWP5qoy', 'changeGraph', 'eyJpZCI6ICJCdXJ1bmRpIiwgInR5cGUiOiAidmVydGV4IiwgInByb3BzIjogeyJjb2xvciI6IDY1MjgwfX0K');</script>\n",
       "    "
      ],
      "text/plain": [
       "<IPython.core.display.HTML object>"
      ]
     },
     "metadata": {},
     "output_type": "display_data"
    },
    {
     "data": {
      "text/html": [
       "\n",
       "        <div id=\"SMs55eTwXAyFD98GD7vhft\"></div>\n",
       "        <script>netpixi.call('SMs55eTwXAyFD98GD7vhft', '3xexZtubfK4Mb8EXWP5qoy', 'changeGraph', 'eyJpZCI6ICJUb25nYSIsICJ0eXBlIjogInZlcnRleCIsICJwcm9wcyI6IHsiY29sb3IiOiA2NTI4MH19Cg==');</script>\n",
       "    "
      ],
      "text/plain": [
       "<IPython.core.display.HTML object>"
      ]
     },
     "metadata": {},
     "output_type": "display_data"
    },
    {
     "data": {
      "text/html": [
       "\n",
       "        <div id=\"37bc2Eoy6jkPXBW3PYUj2u\"></div>\n",
       "        <script>netpixi.call('37bc2Eoy6jkPXBW3PYUj2u', '3xexZtubfK4Mb8EXWP5qoy', 'changeGraph', 'eyJpZCI6ICJVemJla2lzdGFuIiwgInR5cGUiOiAidmVydGV4IiwgInByb3BzIjogeyJjb2xvciI6IDY1MjgwfX0K');</script>\n",
       "    "
      ],
      "text/plain": [
       "<IPython.core.display.HTML object>"
      ]
     },
     "metadata": {},
     "output_type": "display_data"
    },
    {
     "data": {
      "text/html": [
       "\n",
       "        <div id=\"nVqBovBYtQHTnWMVrHvgpV\"></div>\n",
       "        <script>netpixi.call('nVqBovBYtQHTnWMVrHvgpV', '3xexZtubfK4Mb8EXWP5qoy', 'changeGraph', 'eyJpZCI6ICJQYW5hbWEiLCAidHlwZSI6ICJ2ZXJ0ZXgiLCAicHJvcHMiOiB7ImNvbG9yIjogNjUyODB9fQo=');</script>\n",
       "    "
      ],
      "text/plain": [
       "<IPython.core.display.HTML object>"
      ]
     },
     "metadata": {},
     "output_type": "display_data"
    },
    {
     "data": {
      "text/html": [
       "\n",
       "        <div id=\"5GkvTk8VfZNs58G2WbxujJ\"></div>\n",
       "        <script>netpixi.call('5GkvTk8VfZNs58G2WbxujJ', '3xexZtubfK4Mb8EXWP5qoy', 'changeGraph', 'eyJpZCI6ICJNYWx0YSIsICJ0eXBlIjogInZlcnRleCIsICJwcm9wcyI6IHsiY29sb3IiOiA2NTI4MH19Cg==');</script>\n",
       "    "
      ],
      "text/plain": [
       "<IPython.core.display.HTML object>"
      ]
     },
     "metadata": {},
     "output_type": "display_data"
    },
    {
     "data": {
      "text/html": [
       "\n",
       "        <div id=\"hnyGjvmZ4ZkxokAjhx6nHx\"></div>\n",
       "        <script>netpixi.call('hnyGjvmZ4ZkxokAjhx6nHx', '3xexZtubfK4Mb8EXWP5qoy', 'changeGraph', 'eyJpZCI6ICJCb2xpdmlhIChQbHVyaW5hdGlvbmFsIFN0YXRlIG9mKSIsICJ0eXBlIjogInZlcnRleCIsICJwcm9wcyI6IHsiY29sb3IiOiA2NTI4MH19Cg==');</script>\n",
       "    "
      ],
      "text/plain": [
       "<IPython.core.display.HTML object>"
      ]
     },
     "metadata": {},
     "output_type": "display_data"
    },
    {
     "data": {
      "text/html": [
       "\n",
       "        <div id=\"4eSx9fPjxA7xbjHuYd8mdB\"></div>\n",
       "        <script>netpixi.call('4eSx9fPjxA7xbjHuYd8mdB', '3xexZtubfK4Mb8EXWP5qoy', 'changeGraph', 'eyJpZCI6ICJUaGFpbGFuZCIsICJ0eXBlIjogInZlcnRleCIsICJwcm9wcyI6IHsiY29sb3IiOiA2NTI4MH19Cg==');</script>\n",
       "    "
      ],
      "text/plain": [
       "<IPython.core.display.HTML object>"
      ]
     },
     "metadata": {},
     "output_type": "display_data"
    },
    {
     "data": {
      "text/html": [
       "\n",
       "        <div id=\"gCsYmuE9MrP8YYKW5amDPC\"></div>\n",
       "        <script>netpixi.call('gCsYmuE9MrP8YYKW5amDPC', '3xexZtubfK4Mb8EXWP5qoy', 'changeGraph', 'eyJpZCI6ICJTZXJiaWEgYW5kIEtvc292byAoUy9SRVMvMTI0NCAoMTk5OSkpIiwgInR5cGUiOiAidmVydGV4IiwgInByb3BzIjogeyJjb2xvciI6IDY1MjgwfX0K');</script>\n",
       "    "
      ],
      "text/plain": [
       "<IPython.core.display.HTML object>"
      ]
     },
     "metadata": {},
     "output_type": "display_data"
    },
    {
     "data": {
      "text/html": [
       "\n",
       "        <div id=\"FmwVs8hHytkMxdSwYoXz6C\"></div>\n",
       "        <script>netpixi.call('FmwVs8hHytkMxdSwYoXz6C', '3xexZtubfK4Mb8EXWP5qoy', 'changeGraph', 'eyJpZCI6ICJOb3J3YXkiLCAidHlwZSI6ICJ2ZXJ0ZXgiLCAicHJvcHMiOiB7ImNvbG9yIjogMTY3MTE2ODB9fQo=');</script>\n",
       "    "
      ],
      "text/plain": [
       "<IPython.core.display.HTML object>"
      ]
     },
     "metadata": {},
     "output_type": "display_data"
    },
    {
     "data": {
      "text/html": [
       "\n",
       "        <div id=\"eZwZFeXRjRzMH7V3nyRsF4\"></div>\n",
       "        <script>netpixi.call('eZwZFeXRjRzMH7V3nyRsF4', '3xexZtubfK4Mb8EXWP5qoy', 'changeGraph', 'eyJpZCI6ICJFY3VhZG9yIiwgInR5cGUiOiAidmVydGV4IiwgInByb3BzIjogeyJjb2xvciI6IDE2NzExNjgwfX0K');</script>\n",
       "    "
      ],
      "text/plain": [
       "<IPython.core.display.HTML object>"
      ]
     },
     "metadata": {},
     "output_type": "display_data"
    },
    {
     "data": {
      "text/html": [
       "\n",
       "        <div id=\"LEU4fWTQSvHToTz34nDHEE\"></div>\n",
       "        <script>netpixi.call('LEU4fWTQSvHToTz34nDHEE', '3xexZtubfK4Mb8EXWP5qoy', 'changeGraph', 'eyJpZCI6ICJWYXJpb3VzL1Vua25vd24iLCAidHlwZSI6ICJ2ZXJ0ZXgiLCAicHJvcHMiOiB7ImNvbG9yIjogNjUyODB9fQo=');</script>\n",
       "    "
      ],
      "text/plain": [
       "<IPython.core.display.HTML object>"
      ]
     },
     "metadata": {},
     "output_type": "display_data"
    },
    {
     "data": {
      "text/html": [
       "\n",
       "        <div id=\"RwkE97Ar5eDfbuKQNHk4rg\"></div>\n",
       "        <script>netpixi.call('RwkE97Ar5eDfbuKQNHk4rg', '3xexZtubfK4Mb8EXWP5qoy', 'changeGraph', 'eyJpZCI6ICJQb3J0dWdhbCIsICJ0eXBlIjogInZlcnRleCIsICJwcm9wcyI6IHsiY29sb3IiOiA2NTI4MH19Cg==');</script>\n",
       "    "
      ],
      "text/plain": [
       "<IPython.core.display.HTML object>"
      ]
     },
     "metadata": {},
     "output_type": "display_data"
    },
    {
     "data": {
      "text/html": [
       "\n",
       "        <div id=\"LA75dJyoEVV75JJvFYt7ME\"></div>\n",
       "        <script>netpixi.call('LA75dJyoEVV75JJvFYt7ME', '3xexZtubfK4Mb8EXWP5qoy', 'changeGraph', 'eyJpZCI6ICJBbmdvbGEiLCAidHlwZSI6ICJ2ZXJ0ZXgiLCAicHJvcHMiOiB7ImNvbG9yIjogNjUyODB9fQo=');</script>\n",
       "    "
      ],
      "text/plain": [
       "<IPython.core.display.HTML object>"
      ]
     },
     "metadata": {},
     "output_type": "display_data"
    },
    {
     "data": {
      "text/html": [
       "\n",
       "        <div id=\"2CzmY8wbA5TT9mFC4pGqYe\"></div>\n",
       "        <script>netpixi.call('2CzmY8wbA5TT9mFC4pGqYe', '3xexZtubfK4Mb8EXWP5qoy', 'changeGraph', 'eyJpZCI6ICJCb25haXJlIiwgInR5cGUiOiAidmVydGV4IiwgInByb3BzIjogeyJjb2xvciI6IDY1MjgwfX0K');</script>\n",
       "    "
      ],
      "text/plain": [
       "<IPython.core.display.HTML object>"
      ]
     },
     "metadata": {},
     "output_type": "display_data"
    },
    {
     "data": {
      "text/html": [
       "\n",
       "        <div id=\"ABYPJ9meUBi7xC3pbW3QGu\"></div>\n",
       "        <script>netpixi.call('ABYPJ9meUBi7xC3pbW3QGu', '3xexZtubfK4Mb8EXWP5qoy', 'changeGraph', 'eyJpZCI6ICJVbml0ZWQgU3RhdGVzIG9mIEFtZXJpY2EiLCAidHlwZSI6ICJ2ZXJ0ZXgiLCAicHJvcHMiOiB7ImNvbG9yIjogMTY3MTE2ODB9fQo=');</script>\n",
       "    "
      ],
      "text/plain": [
       "<IPython.core.display.HTML object>"
      ]
     },
     "metadata": {},
     "output_type": "display_data"
    },
    {
     "data": {
      "text/html": [
       "\n",
       "        <div id=\"j5EPim92PPtbf8LB35s7NF\"></div>\n",
       "        <script>netpixi.call('j5EPim92PPtbf8LB35s7NF', '3xexZtubfK4Mb8EXWP5qoy', 'changeGraph', 'eyJpZCI6ICJNb25nb2xpYSIsICJ0eXBlIjogInZlcnRleCIsICJwcm9wcyI6IHsiY29sb3IiOiA2NTI4MH19Cg==');</script>\n",
       "    "
      ],
      "text/plain": [
       "<IPython.core.display.HTML object>"
      ]
     },
     "metadata": {},
     "output_type": "display_data"
    },
    {
     "data": {
      "text/html": [
       "\n",
       "        <div id=\"2jwUhSgtnsEDCgZYv44ivC\"></div>\n",
       "        <script>netpixi.call('2jwUhSgtnsEDCgZYv44ivC', '3xexZtubfK4Mb8EXWP5qoy', 'changeGraph', 'eyJpZCI6ICJTcmkgTGFua2EiLCAidHlwZSI6ICJ2ZXJ0ZXgiLCAicHJvcHMiOiB7ImNvbG9yIjogNjUyODB9fQo=');</script>\n",
       "    "
      ],
      "text/plain": [
       "<IPython.core.display.HTML object>"
      ]
     },
     "metadata": {},
     "output_type": "display_data"
    },
    {
     "data": {
      "text/html": [
       "\n",
       "        <div id=\"2Wx3nR4353tMhcQ6rc7KwC\"></div>\n",
       "        <script>netpixi.call('2Wx3nR4353tMhcQ6rc7KwC', '3xexZtubfK4Mb8EXWP5qoy', 'changeGraph', 'eyJpZCI6ICJHZXJtYW55IiwgInR5cGUiOiAidmVydGV4IiwgInByb3BzIjogeyJjb2xvciI6IDE2NzExNjgwfX0K');</script>\n",
       "    "
      ],
      "text/plain": [
       "<IPython.core.display.HTML object>"
      ]
     },
     "metadata": {},
     "output_type": "display_data"
    },
    {
     "data": {
      "text/html": [
       "\n",
       "        <div id=\"fTkaL82GfBfsCRKqxsuDhT\"></div>\n",
       "        <script>netpixi.call('fTkaL82GfBfsCRKqxsuDhT', '3xexZtubfK4Mb8EXWP5qoy', 'changeGraph', 'eyJpZCI6ICJMaWVjaHRlbnN0ZWluIiwgInR5cGUiOiAidmVydGV4IiwgInByb3BzIjogeyJjb2xvciI6IDY1MjgwfX0K');</script>\n",
       "    "
      ],
      "text/plain": [
       "<IPython.core.display.HTML object>"
      ]
     },
     "metadata": {},
     "output_type": "display_data"
    },
    {
     "data": {
      "text/html": [
       "\n",
       "        <div id=\"5MPiENR3pVkbzcCkpLjTxk\"></div>\n",
       "        <script>netpixi.call('5MPiENR3pVkbzcCkpLjTxk', '3xexZtubfK4Mb8EXWP5qoy', 'changeGraph', 'eyJpZCI6ICJNZXhpY28iLCAidHlwZSI6ICJ2ZXJ0ZXgiLCAicHJvcHMiOiB7ImNvbG9yIjogNjUyODB9fQo=');</script>\n",
       "    "
      ],
      "text/plain": [
       "<IPython.core.display.HTML object>"
      ]
     },
     "metadata": {},
     "output_type": "display_data"
    },
    {
     "data": {
      "text/html": [
       "\n",
       "        <div id=\"WQantD7kipLLEH4CtF4HLH\"></div>\n",
       "        <script>netpixi.call('WQantD7kipLLEH4CtF4HLH', '3xexZtubfK4Mb8EXWP5qoy', 'changeGraph', 'eyJpZCI6ICJHdWFkZWxvdXBlIiwgInR5cGUiOiAidmVydGV4IiwgInByb3BzIjogeyJjb2xvciI6IDY1MjgwfX0K');</script>\n",
       "    "
      ],
      "text/plain": [
       "<IPython.core.display.HTML object>"
      ]
     },
     "metadata": {},
     "output_type": "display_data"
    },
    {
     "data": {
      "text/html": [
       "\n",
       "        <div id=\"m8X9DWL25DE9LXy86VRyfy\"></div>\n",
       "        <script>netpixi.call('m8X9DWL25DE9LXy86VRyfy', '3xexZtubfK4Mb8EXWP5qoy', 'changeGraph', 'eyJpZCI6ICJTYWludCBLaXR0cyBhbmQgTmV2aXMiLCAidHlwZSI6ICJ2ZXJ0ZXgiLCAicHJvcHMiOiB7ImNvbG9yIjogNjUyODB9fQo=');</script>\n",
       "    "
      ],
      "text/plain": [
       "<IPython.core.display.HTML object>"
      ]
     },
     "metadata": {},
     "output_type": "display_data"
    },
    {
     "data": {
      "text/html": [
       "\n",
       "        <div id=\"XB6aABN3fMLiyLHxvLwgeZ\"></div>\n",
       "        <script>netpixi.call('XB6aABN3fMLiyLHxvLwgeZ', '3xexZtubfK4Mb8EXWP5qoy', 'changeGraph', 'eyJpZCI6ICJTYWludCBWaW5jZW50IGFuZCB0aGUgR3JlbmFkaW5lcyIsICJ0eXBlIjogInZlcnRleCIsICJwcm9wcyI6IHsiY29sb3IiOiA2NTI4MH19Cg==');</script>\n",
       "    "
      ],
      "text/plain": [
       "<IPython.core.display.HTML object>"
      ]
     },
     "metadata": {},
     "output_type": "display_data"
    },
    {
     "data": {
      "text/html": [
       "\n",
       "        <div id=\"DAjNvE8BvagLMnSfGQMPro\"></div>\n",
       "        <script>netpixi.call('DAjNvE8BvagLMnSfGQMPro', '3xexZtubfK4Mb8EXWP5qoy', 'changeGraph', 'eyJpZCI6ICJJdGFseSIsICJ0eXBlIjogInZlcnRleCIsICJwcm9wcyI6IHsiY29sb3IiOiAxNjcxMTY4MH19Cg==');</script>\n",
       "    "
      ],
      "text/plain": [
       "<IPython.core.display.HTML object>"
      ]
     },
     "metadata": {},
     "output_type": "display_data"
    },
    {
     "data": {
      "text/html": [
       "\n",
       "        <div id=\"bhnAxzfG8Usabe7pvMSLLa\"></div>\n",
       "        <script>netpixi.call('bhnAxzfG8Usabe7pvMSLLa', '3xexZtubfK4Mb8EXWP5qoy', 'changeGraph', 'eyJpZCI6ICJBZmdoYW5pc3RhbiIsICJ0eXBlIjogInZlcnRleCIsICJwcm9wcyI6IHsiY29sb3IiOiA2NTI4MH19Cg==');</script>\n",
       "    "
      ],
      "text/plain": [
       "<IPython.core.display.HTML object>"
      ]
     },
     "metadata": {},
     "output_type": "display_data"
    },
    {
     "data": {
      "text/html": [
       "\n",
       "        <div id=\"ML5breeqSXx5oPQXwuUdUq\"></div>\n",
       "        <script>netpixi.call('ML5breeqSXx5oPQXwuUdUq', '3xexZtubfK4Mb8EXWP5qoy', 'changeGraph', 'eyJpZCI6ICJQYWxhdSIsICJ0eXBlIjogInZlcnRleCIsICJwcm9wcyI6IHsiY29sb3IiOiA2NTI4MH19Cg==');</script>\n",
       "    "
      ],
      "text/plain": [
       "<IPython.core.display.HTML object>"
      ]
     },
     "metadata": {},
     "output_type": "display_data"
    },
    {
     "data": {
      "text/html": [
       "\n",
       "        <div id=\"hrsDKe8PChcQRb6BBxqini\"></div>\n",
       "        <script>netpixi.call('hrsDKe8PChcQRb6BBxqini', '3xexZtubfK4Mb8EXWP5qoy', 'changeGraph', 'eyJpZCI6ICJTYXVkaSBBcmFiaWEiLCAidHlwZSI6ICJ2ZXJ0ZXgiLCAicHJvcHMiOiB7ImNvbG9yIjogNjUyODB9fQo=');</script>\n",
       "    "
      ],
      "text/plain": [
       "<IPython.core.display.HTML object>"
      ]
     },
     "metadata": {},
     "output_type": "display_data"
    },
    {
     "data": {
      "text/html": [
       "\n",
       "        <div id=\"6uMS9YCeFPgXotvVzwuWZj\"></div>\n",
       "        <script>netpixi.call('6uMS9YCeFPgXotvVzwuWZj', '3xexZtubfK4Mb8EXWP5qoy', 'changeGraph', 'eyJpZCI6ICJNb25hY28iLCAidHlwZSI6ICJ2ZXJ0ZXgiLCAicHJvcHMiOiB7ImNvbG9yIjogNjUyODB9fQo=');</script>\n",
       "    "
      ],
      "text/plain": [
       "<IPython.core.display.HTML object>"
      ]
     },
     "metadata": {},
     "output_type": "display_data"
    },
    {
     "data": {
      "text/html": [
       "\n",
       "        <div id=\"EYoyyohntwZ2m6iM2WBawU\"></div>\n",
       "        <script>netpixi.call('EYoyyohntwZ2m6iM2WBawU', '3xexZtubfK4Mb8EXWP5qoy', 'changeGraph', 'eyJpZCI6ICJTbG92YWtpYSIsICJ0eXBlIjogInZlcnRleCIsICJwcm9wcyI6IHsiY29sb3IiOiA2NTI4MH19Cg==');</script>\n",
       "    "
      ],
      "text/plain": [
       "<IPython.core.display.HTML object>"
      ]
     },
     "metadata": {},
     "output_type": "display_data"
    },
    {
     "data": {
      "text/html": [
       "\n",
       "        <div id=\"TpSY52uJbsnTXKSsCMwSVZ\"></div>\n",
       "        <script>netpixi.call('TpSY52uJbsnTXKSsCMwSVZ', '3xexZtubfK4Mb8EXWP5qoy', 'changeGraph', 'eyJpZCI6ICJMYXR2aWEiLCAidHlwZSI6ICJ2ZXJ0ZXgiLCAicHJvcHMiOiB7ImNvbG9yIjogNjUyODB9fQo=');</script>\n",
       "    "
      ],
      "text/plain": [
       "<IPython.core.display.HTML object>"
      ]
     },
     "metadata": {},
     "output_type": "display_data"
    },
    {
     "data": {
      "text/html": [
       "\n",
       "        <div id=\"Xu2Ej3tvPBmPrMXWfTKcAH\"></div>\n",
       "        <script>netpixi.call('Xu2Ej3tvPBmPrMXWfTKcAH', '3xexZtubfK4Mb8EXWP5qoy', 'changeGraph', 'eyJpZCI6ICJTd2VkZW4iLCAidHlwZSI6ICJ2ZXJ0ZXgiLCAicHJvcHMiOiB7ImNvbG9yIjogMTY3MTE2ODB9fQo=');</script>\n",
       "    "
      ],
      "text/plain": [
       "<IPython.core.display.HTML object>"
      ]
     },
     "metadata": {},
     "output_type": "display_data"
    },
    {
     "data": {
      "text/html": [
       "\n",
       "        <div id=\"PZcUrFaJAdQNhvCcvvqCJx\"></div>\n",
       "        <script>netpixi.call('PZcUrFaJAdQNhvCcvvqCJx', '3xexZtubfK4Mb8EXWP5qoy', 'changeGraph', 'eyJpZCI6ICJJbmRpYSIsICJ0eXBlIjogInZlcnRleCIsICJwcm9wcyI6IHsiY29sb3IiOiA2NTI4MH19Cg==');</script>\n",
       "    "
      ],
      "text/plain": [
       "<IPython.core.display.HTML object>"
      ]
     },
     "metadata": {},
     "output_type": "display_data"
    },
    {
     "data": {
      "text/html": [
       "\n",
       "        <div id=\"UcebSadM8q2Qba4GHLrnWJ\"></div>\n",
       "        <script>netpixi.call('UcebSadM8q2Qba4GHLrnWJ', '3xexZtubfK4Mb8EXWP5qoy', 'changeGraph', 'eyJpZCI6ICJHaGFuYSIsICJ0eXBlIjogInZlcnRleCIsICJwcm9wcyI6IHsiY29sb3IiOiA2NTI4MH19Cg==');</script>\n",
       "    "
      ],
      "text/plain": [
       "<IPython.core.display.HTML object>"
      ]
     },
     "metadata": {},
     "output_type": "display_data"
    },
    {
     "data": {
      "text/html": [
       "\n",
       "        <div id=\"RBPcDyccB9GwAyFPa7tURT\"></div>\n",
       "        <script>netpixi.call('RBPcDyccB9GwAyFPa7tURT', '3xexZtubfK4Mb8EXWP5qoy', 'changeGraph', 'eyJpZCI6ICJHaWJyYWx0YXIiLCAidHlwZSI6ICJ2ZXJ0ZXgiLCAicHJvcHMiOiB7ImNvbG9yIjogNjUyODB9fQo=');</script>\n",
       "    "
      ],
      "text/plain": [
       "<IPython.core.display.HTML object>"
      ]
     },
     "metadata": {},
     "output_type": "display_data"
    },
    {
     "data": {
      "text/html": [
       "\n",
       "        <div id=\"ZxSBK9i6bKUaE2eLHTWs2v\"></div>\n",
       "        <script>netpixi.call('ZxSBK9i6bKUaE2eLHTWs2v', '3xexZtubfK4Mb8EXWP5qoy', 'changeGraph', 'eyJpZCI6ICJFcXVhdG9yaWFsIEd1aW5lYSIsICJ0eXBlIjogInZlcnRleCIsICJwcm9wcyI6IHsiY29sb3IiOiA2NTI4MH19Cg==');</script>\n",
       "    "
      ],
      "text/plain": [
       "<IPython.core.display.HTML object>"
      ]
     },
     "metadata": {},
     "output_type": "display_data"
    },
    {
     "data": {
      "text/html": [
       "\n",
       "        <div id=\"CokmTeP3fitkhY6vbXmY64\"></div>\n",
       "        <script>netpixi.call('CokmTeP3fitkhY6vbXmY64', '3xexZtubfK4Mb8EXWP5qoy', 'changeGraph', 'eyJpZCI6ICJEb21pbmljYSIsICJ0eXBlIjogInZlcnRleCIsICJwcm9wcyI6IHsiY29sb3IiOiA2NTI4MH19Cg==');</script>\n",
       "    "
      ],
      "text/plain": [
       "<IPython.core.display.HTML object>"
      ]
     },
     "metadata": {},
     "output_type": "display_data"
    },
    {
     "data": {
      "text/html": [
       "\n",
       "        <div id=\"JqCcHH9JTwqNYjPocEQJuY\"></div>\n",
       "        <script>netpixi.call('JqCcHH9JTwqNYjPocEQJuY', '3xexZtubfK4Mb8EXWP5qoy', 'changeGraph', 'eyJpZCI6ICJCdXJraW5hIEZhc28iLCAidHlwZSI6ICJ2ZXJ0ZXgiLCAicHJvcHMiOiB7ImNvbG9yIjogNjUyODB9fQo=');</script>\n",
       "    "
      ],
      "text/plain": [
       "<IPython.core.display.HTML object>"
      ]
     },
     "metadata": {},
     "output_type": "display_data"
    },
    {
     "data": {
      "text/html": [
       "\n",
       "        <div id=\"SBnV63QkmegAfvDkVUTTsH\"></div>\n",
       "        <script>netpixi.call('SBnV63QkmegAfvDkVUTTsH', '3xexZtubfK4Mb8EXWP5qoy', 'changeGraph', 'eyJpZCI6ICJTaWVycmEgTGVvbmUiLCAidHlwZSI6ICJ2ZXJ0ZXgiLCAicHJvcHMiOiB7ImNvbG9yIjogNjUyODB9fQo=');</script>\n",
       "    "
      ],
      "text/plain": [
       "<IPython.core.display.HTML object>"
      ]
     },
     "metadata": {},
     "output_type": "display_data"
    },
    {
     "data": {
      "text/html": [
       "\n",
       "        <div id=\"Yo73qVuktSyqpZkGgWL8WN\"></div>\n",
       "        <script>netpixi.call('Yo73qVuktSyqpZkGgWL8WN', '3xexZtubfK4Mb8EXWP5qoy', 'changeGraph', 'eyJpZCI6ICJaYW1iaWEiLCAidHlwZSI6ICJ2ZXJ0ZXgiLCAicHJvcHMiOiB7ImNvbG9yIjogNjUyODB9fQo=');</script>\n",
       "    "
      ],
      "text/plain": [
       "<IPython.core.display.HTML object>"
      ]
     },
     "metadata": {},
     "output_type": "display_data"
    },
    {
     "data": {
      "text/html": [
       "\n",
       "        <div id=\"ZozuJy4bTxRQATJSP3Esyh\"></div>\n",
       "        <script>netpixi.call('ZozuJy4bTxRQATJSP3Esyh', '3xexZtubfK4Mb8EXWP5qoy', 'changeGraph', 'eyJpZCI6ICJIb25kdXJhcyIsICJ0eXBlIjogInZlcnRleCIsICJwcm9wcyI6IHsiY29sb3IiOiA2NTI4MH19Cg==');</script>\n",
       "    "
      ],
      "text/plain": [
       "<IPython.core.display.HTML object>"
      ]
     },
     "metadata": {},
     "output_type": "display_data"
    },
    {
     "data": {
      "text/html": [
       "\n",
       "        <div id=\"NNkmXrfMDM9z2HKDt4ESJt\"></div>\n",
       "        <script>netpixi.call('NNkmXrfMDM9z2HKDt4ESJt', '3xexZtubfK4Mb8EXWP5qoy', 'changeGraph', 'eyJpZCI6ICJDZW50cmFsIEFmcmljYW4gUmVwLiIsICJ0eXBlIjogInZlcnRleCIsICJwcm9wcyI6IHsiY29sb3IiOiA2NTI4MH19Cg==');</script>\n",
       "    "
      ],
      "text/plain": [
       "<IPython.core.display.HTML object>"
      ]
     },
     "metadata": {},
     "output_type": "display_data"
    },
    {
     "data": {
      "text/html": [
       "\n",
       "        <div id=\"U3bjz2kqtK3zGSANpNAcDg\"></div>\n",
       "        <script>netpixi.call('U3bjz2kqtK3zGSANpNAcDg', '3xexZtubfK4Mb8EXWP5qoy', 'changeGraph', 'eyJpZCI6ICJMaWJlcmlhIiwgInR5cGUiOiAidmVydGV4IiwgInByb3BzIjogeyJjb2xvciI6IDY1MjgwfX0K');</script>\n",
       "    "
      ],
      "text/plain": [
       "<IPython.core.display.HTML object>"
      ]
     },
     "metadata": {},
     "output_type": "display_data"
    },
    {
     "data": {
      "text/html": [
       "\n",
       "        <div id=\"VMe9Tuv2jNCNrbmi2ZDNmG\"></div>\n",
       "        <script>netpixi.call('VMe9Tuv2jNCNrbmi2ZDNmG', '3xexZtubfK4Mb8EXWP5qoy', 'changeGraph', 'eyJpZCI6ICJEZW0uIFJlcC4gb2YgdGhlIENvbmdvIiwgInR5cGUiOiAidmVydGV4IiwgInByb3BzIjogeyJjb2xvciI6IDY1MjgwfX0K');</script>\n",
       "    "
      ],
      "text/plain": [
       "<IPython.core.display.HTML object>"
      ]
     },
     "metadata": {},
     "output_type": "display_data"
    },
    {
     "data": {
      "text/html": [
       "\n",
       "        <div id=\"889mJeddN5Mqg7Lf5fFFY8\"></div>\n",
       "        <script>netpixi.call('889mJeddN5Mqg7Lf5fFFY8', '3xexZtubfK4Mb8EXWP5qoy', 'changeGraph', 'eyJpZCI6ICJEamlib3V0aSIsICJ0eXBlIjogInZlcnRleCIsICJwcm9wcyI6IHsiY29sb3IiOiA2NTI4MH19Cg==');</script>\n",
       "    "
      ],
      "text/plain": [
       "<IPython.core.display.HTML object>"
      ]
     },
     "metadata": {},
     "output_type": "display_data"
    },
    {
     "data": {
      "text/html": [
       "\n",
       "        <div id=\"WHV3GCZXSeDPeWsu77D47E\"></div>\n",
       "        <script>netpixi.call('WHV3GCZXSeDPeWsu77D47E', '3xexZtubfK4Mb8EXWP5qoy', 'changeGraph', 'eyJpZCI6ICJNb250ZW5lZ3JvIiwgInR5cGUiOiAidmVydGV4IiwgInByb3BzIjogeyJjb2xvciI6IDY1MjgwfX0K');</script>\n",
       "    "
      ],
      "text/plain": [
       "<IPython.core.display.HTML object>"
      ]
     },
     "metadata": {},
     "output_type": "display_data"
    },
    {
     "data": {
      "text/html": [
       "\n",
       "        <div id=\"VxfiPrJkX4RBNJfdqmKCyZ\"></div>\n",
       "        <script>netpixi.call('VxfiPrJkX4RBNJfdqmKCyZ', '3xexZtubfK4Mb8EXWP5qoy', 'changeGraph', 'eyJpZCI6ICJMdXhlbWJvdXJnIiwgInR5cGUiOiAidmVydGV4IiwgInByb3BzIjogeyJjb2xvciI6IDY1MjgwfX0K');</script>\n",
       "    "
      ],
      "text/plain": [
       "<IPython.core.display.HTML object>"
      ]
     },
     "metadata": {},
     "output_type": "display_data"
    },
    {
     "data": {
      "text/html": [
       "\n",
       "        <div id=\"G9xa79Jf9HBdQSy9YWwHrj\"></div>\n",
       "        <script>netpixi.call('G9xa79Jf9HBdQSy9YWwHrj', '3xexZtubfK4Mb8EXWP5qoy', 'changeGraph', 'eyJpZCI6ICJUb2dvIiwgInR5cGUiOiAidmVydGV4IiwgInByb3BzIjogeyJjb2xvciI6IDY1MjgwfX0K');</script>\n",
       "    "
      ],
      "text/plain": [
       "<IPython.core.display.HTML object>"
      ]
     },
     "metadata": {},
     "output_type": "display_data"
    },
    {
     "data": {
      "text/html": [
       "\n",
       "        <div id=\"LoLM6Bru6sjHwLpcmDXfDp\"></div>\n",
       "        <script>netpixi.call('LoLM6Bru6sjHwLpcmDXfDp', '3xexZtubfK4Mb8EXWP5qoy', 'changeGraph', 'eyJpZCI6ICJJcmFuIChJc2xhbWljIFJlcC4gb2YpIiwgInR5cGUiOiAidmVydGV4IiwgInByb3BzIjogeyJjb2xvciI6IDY1MjgwfX0K');</script>\n",
       "    "
      ],
      "text/plain": [
       "<IPython.core.display.HTML object>"
      ]
     },
     "metadata": {},
     "output_type": "display_data"
    }
   ],
   "source": [
    "matrix = spectral.adjacency(g2)\n",
    "\n",
    "# # Além de cpnet.Surprise, há outras\n",
    "# # opções de algoritmos discretos:\n",
    "# # cpnet.BE\n",
    "# # cpnet.Lip\n",
    "# # cpnet.LapCore\n",
    "# # cpnet.LapSgnCore\n",
    "# # cpnet.LowRankCore\n",
    "\n",
    "algorithm = cpnet.BE()\n",
    "algorithm.detect(matrix)\n",
    "c = algorithm.get_coreness()\n",
    "\n",
    "# # Depois do código acima, c é um dicionário\n",
    "# # em que as chaves são índices de vértices e\n",
    "# # valores são os atribuídos pelo algoritmo.\n",
    "\n",
    "g2.add_vp('coreness')\n",
    "for i, coreness in c.items():\n",
    "    v = g2.get_vertex_by_index(i)\n",
    "    v['coreness'] = int(coreness)\n",
    "    \n",
    "# # Vamos pintar de vermelho todos os vértices\n",
    "# # identificados como centro e de verde todos\n",
    "# # os vértices identificados como periferia.\n",
    "    \n",
    "for v in g2.all_vertices():\n",
    "    if v['coreness'] == 1:\n",
    "        r2.vertex(v['id'], color=0xff0000)\n",
    "    else:\n",
    "        r2.vertex(v['id'], color=0x00ff00)\n",
    "\n",
    "# # Quando a execução desta célula terminar,\n",
    "# # veja como ficou a visualização acima."
   ]
  },
  {
   "cell_type": "code",
   "execution_count": 158,
   "id": "8de94300",
   "metadata": {},
   "outputs": [
    {
     "data": {
      "text/html": [
       "\n",
       "        <div id=\"NYECp6EtHd4K7PKYimY8sf\"></div>\n",
       "        <script>netpixi.call('NYECp6EtHd4K7PKYimY8sf', '3xexZtubfK4Mb8EXWP5qoy', 'normalizeGraph', 'eyJ0eXBlIjogImVkZ2UiLCAicHJvcHMiOiB7InNyYyI6ICJhY2VpdG9zIiwgIm1pbiI6IDEsICJtYXgiOiAxMH19Cg==');</script>\n",
       "    "
      ],
      "text/plain": [
       "<IPython.core.display.HTML object>"
      ]
     },
     "metadata": {},
     "output_type": "display_data"
    },
    {
     "data": {
      "text/html": [
       "\n",
       "        <div id=\"PF7qMDfzUbCCxpkMDAArz3\"></div>\n",
       "        <script>netpixi.call('PF7qMDfzUbCCxpkMDAArz3', '3xexZtubfK4Mb8EXWP5qoy', 'setGraph', 'eyJ0eXBlIjogInZlcnRleCIsICJwcm9wcyI6IHsic3JjIjogIm5vbWUiLCAiZHN0IjogIl9rZXkifX0K');</script>\n",
       "    "
      ],
      "text/plain": [
       "<IPython.core.display.HTML object>"
      ]
     },
     "metadata": {},
     "output_type": "display_data"
    },
    {
     "data": {
      "text/html": [
       "\n",
       "        <div id=\"CVZLBEtTEMknXyEyKjCnEt\"></div>\n",
       "        <script>netpixi.call('CVZLBEtTEMknXyEyKjCnEt', '3xexZtubfK4Mb8EXWP5qoy', 'normalizeGraph', 'eyJ0eXBlIjogInZlcnRleCIsICJwcm9wcyI6IHsic3JjIjogImNvcmVuZXNzIiwgIm1pbiI6IDUsICJtYXgiOiAyNX19Cg==');</script>\n",
       "    "
      ],
      "text/plain": [
       "<IPython.core.display.HTML object>"
      ]
     },
     "metadata": {},
     "output_type": "display_data"
    }
   ],
   "source": [
    "r2.edge_scale('aceitos', 1, 10)\n",
    "\n",
    "r2.vertex_set_key('nome')\n",
    "\n",
    "r2.vertex_scale('coreness', 5, 25)"
   ]
  },
  {
   "cell_type": "code",
   "execution_count": 159,
   "id": "e834a4d7",
   "metadata": {
    "collapsed": true
   },
   "outputs": [
    {
     "data": {
      "text/html": [
       "<div>\n",
       "<style scoped>\n",
       "    .dataframe tbody tr th:only-of-type {\n",
       "        vertical-align: middle;\n",
       "    }\n",
       "\n",
       "    .dataframe tbody tr th {\n",
       "        vertical-align: top;\n",
       "    }\n",
       "\n",
       "    .dataframe thead th {\n",
       "        text-align: right;\n",
       "    }\n",
       "</style>\n",
       "<table border=\"1\" class=\"dataframe\">\n",
       "  <thead>\n",
       "    <tr style=\"text-align: right;\">\n",
       "      <th></th>\n",
       "      <th>nome</th>\n",
       "      <th>coreness</th>\n",
       "    </tr>\n",
       "    <tr>\n",
       "      <th>id</th>\n",
       "      <th></th>\n",
       "      <th></th>\n",
       "    </tr>\n",
       "  </thead>\n",
       "  <tbody>\n",
       "    <tr>\n",
       "      <th>Denmark</th>\n",
       "      <td>Denmark</td>\n",
       "      <td>1</td>\n",
       "    </tr>\n",
       "    <tr>\n",
       "      <th>Ecuador</th>\n",
       "      <td>Ecuador</td>\n",
       "      <td>1</td>\n",
       "    </tr>\n",
       "    <tr>\n",
       "      <th>Spain</th>\n",
       "      <td>Spain</td>\n",
       "      <td>1</td>\n",
       "    </tr>\n",
       "    <tr>\n",
       "      <th>Sweden</th>\n",
       "      <td>Sweden</td>\n",
       "      <td>1</td>\n",
       "    </tr>\n",
       "    <tr>\n",
       "      <th>Switzerland</th>\n",
       "      <td>Switzerland</td>\n",
       "      <td>1</td>\n",
       "    </tr>\n",
       "    <tr>\n",
       "      <th>...</th>\n",
       "      <td>...</td>\n",
       "      <td>...</td>\n",
       "    </tr>\n",
       "    <tr>\n",
       "      <th>United Rep. of Tanzania</th>\n",
       "      <td>United Rep. of Tanzania</td>\n",
       "      <td>0</td>\n",
       "    </tr>\n",
       "    <tr>\n",
       "      <th>Svalbard and Jan Mayen</th>\n",
       "      <td>Svalbard and Jan Mayen</td>\n",
       "      <td>0</td>\n",
       "    </tr>\n",
       "    <tr>\n",
       "      <th>Russian Federation</th>\n",
       "      <td>Russian Federation</td>\n",
       "      <td>0</td>\n",
       "    </tr>\n",
       "    <tr>\n",
       "      <th>Lebanon</th>\n",
       "      <td>Lebanon</td>\n",
       "      <td>0</td>\n",
       "    </tr>\n",
       "    <tr>\n",
       "      <th>Iran (Islamic Rep. of)</th>\n",
       "      <td>Iran (Islamic Rep. of)</td>\n",
       "      <td>0</td>\n",
       "    </tr>\n",
       "  </tbody>\n",
       "</table>\n",
       "<p>225 rows × 2 columns</p>\n",
       "</div>"
      ],
      "text/plain": [
       "                                            nome  coreness\n",
       "id                                                        \n",
       "Denmark                                  Denmark         1\n",
       "Ecuador                                  Ecuador         1\n",
       "Spain                                      Spain         1\n",
       "Sweden                                    Sweden         1\n",
       "Switzerland                          Switzerland         1\n",
       "...                                          ...       ...\n",
       "United Rep. of Tanzania  United Rep. of Tanzania         0\n",
       "Svalbard and Jan Mayen    Svalbard and Jan Mayen         0\n",
       "Russian Federation            Russian Federation         0\n",
       "Lebanon                                  Lebanon         0\n",
       "Iran (Islamic Rep. of)    Iran (Islamic Rep. of)         0\n",
       "\n",
       "[225 rows x 2 columns]"
      ]
     },
     "execution_count": 159,
     "metadata": {},
     "output_type": "execute_result"
    }
   ],
   "source": [
    "df_coreness_2008_2012 = gt_data(g2).sort_values(\"coreness\", ascending = False)\n",
    "df_coreness_2008_2012"
   ]
  },
  {
   "cell_type": "code",
   "execution_count": 160,
   "id": "ecab3f4d",
   "metadata": {},
   "outputs": [
    {
     "data": {
      "text/html": [
       "\n",
       "        <div id=\"ktVEELfZmxgNJ53EShuuPR\"></div>\n",
       "        <script>netpixi.call('ktVEELfZmxgNJ53EShuuPR', '3xexZtubfK4Mb8EXWP5qoy', 'setGraph', 'eyJ0eXBlIjogInZlcnRleCIsICJwcm9wcyI6IHsic3JjIjogIm5vbWUiLCAiZHN0IjogIl9rZXkifX0K');</script>\n",
       "    "
      ],
      "text/plain": [
       "<IPython.core.display.HTML object>"
      ]
     },
     "metadata": {},
     "output_type": "display_data"
    },
    {
     "data": {
      "text/html": [
       "\n",
       "        <div id=\"mrNznb5z4ZbMz437Ygpebv\"></div>\n",
       "        <script>netpixi.call('mrNznb5z4ZbMz437Ygpebv', '3xexZtubfK4Mb8EXWP5qoy', 'changeGraph', 'eyJ0eXBlIjogInNldHRpbmdzIiwgInByb3BzIjogeyJ2ZXJ0ZXgiOiB7ImNvbG9yIjogMTY3NzcyMTV9fX0K');</script>\n",
       "    "
      ],
      "text/plain": [
       "<IPython.core.display.HTML object>"
      ]
     },
     "metadata": {},
     "output_type": "display_data"
    },
    {
     "data": {
      "text/html": [
       "\n",
       "        <div id=\"LENUXkxn2rXfiV848n6dQg\"></div>\n",
       "        <script>netpixi.call('LENUXkxn2rXfiV848n6dQg', '3xexZtubfK4Mb8EXWP5qoy', 'changeGraph', 'eyJ0eXBlIjogInNldHRpbmdzIiwgInByb3BzIjogeyJlZGdlIjogeyJjb2xvciI6IDIxNDI4OTB9fX0K');</script>\n",
       "    "
      ],
      "text/plain": [
       "<IPython.core.display.HTML object>"
      ]
     },
     "metadata": {},
     "output_type": "display_data"
    }
   ],
   "source": [
    "r2.vertex_set_key('nome')\n",
    "\n",
    "r2.vertex_default(color=0xffffff)\n",
    "\n",
    "# mudar a cor, a espessura e a curvatura das arestas\n",
    "r2.edge_default(color=0x20B2AA)"
   ]
  },
  {
   "cell_type": "code",
   "execution_count": 161,
   "id": "c3d4ed26",
   "metadata": {},
   "outputs": [
    {
     "data": {
      "text/html": [
       "\n",
       "        <div id=\"hJnSaeRYMHPFpUNXXX8EER\"></div>\n",
       "        <script>netpixi.call('hJnSaeRYMHPFpUNXXX8EER', '3xexZtubfK4Mb8EXWP5qoy', 'normalizeGraph', 'eyJ0eXBlIjogImVkZ2UiLCAicHJvcHMiOiB7InNyYyI6ICJhY2VpdG9zIiwgIm1pbiI6IDEsICJtYXgiOiAxMH19Cg==');</script>\n",
       "    "
      ],
      "text/plain": [
       "<IPython.core.display.HTML object>"
      ]
     },
     "metadata": {},
     "output_type": "display_data"
    }
   ],
   "source": [
    "r2.edge_scale('aceitos', 1, 10)"
   ]
  },
  {
   "cell_type": "code",
   "execution_count": 162,
   "id": "2b6bbbcd",
   "metadata": {
    "collapsed": true
   },
   "outputs": [
    {
     "data": {
      "text/html": [
       "<div>\n",
       "<style scoped>\n",
       "    .dataframe tbody tr th:only-of-type {\n",
       "        vertical-align: middle;\n",
       "    }\n",
       "\n",
       "    .dataframe tbody tr th {\n",
       "        vertical-align: top;\n",
       "    }\n",
       "\n",
       "    .dataframe thead th {\n",
       "        text-align: right;\n",
       "    }\n",
       "</style>\n",
       "<table border=\"1\" class=\"dataframe\">\n",
       "  <thead>\n",
       "    <tr style=\"text-align: right;\">\n",
       "      <th></th>\n",
       "      <th>origin</th>\n",
       "      <th>coreness</th>\n",
       "    </tr>\n",
       "    <tr>\n",
       "      <th>id</th>\n",
       "      <th></th>\n",
       "      <th></th>\n",
       "    </tr>\n",
       "  </thead>\n",
       "  <tbody>\n",
       "    <tr>\n",
       "      <th>Denmark</th>\n",
       "      <td>Denmark</td>\n",
       "      <td>1</td>\n",
       "    </tr>\n",
       "    <tr>\n",
       "      <th>Ecuador</th>\n",
       "      <td>Ecuador</td>\n",
       "      <td>1</td>\n",
       "    </tr>\n",
       "    <tr>\n",
       "      <th>Spain</th>\n",
       "      <td>Spain</td>\n",
       "      <td>1</td>\n",
       "    </tr>\n",
       "    <tr>\n",
       "      <th>Sweden</th>\n",
       "      <td>Sweden</td>\n",
       "      <td>1</td>\n",
       "    </tr>\n",
       "    <tr>\n",
       "      <th>Switzerland</th>\n",
       "      <td>Switzerland</td>\n",
       "      <td>1</td>\n",
       "    </tr>\n",
       "    <tr>\n",
       "      <th>...</th>\n",
       "      <td>...</td>\n",
       "      <td>...</td>\n",
       "    </tr>\n",
       "    <tr>\n",
       "      <th>United Rep. of Tanzania</th>\n",
       "      <td>United Rep. of Tanzania</td>\n",
       "      <td>0</td>\n",
       "    </tr>\n",
       "    <tr>\n",
       "      <th>Svalbard and Jan Mayen</th>\n",
       "      <td>Svalbard and Jan Mayen</td>\n",
       "      <td>0</td>\n",
       "    </tr>\n",
       "    <tr>\n",
       "      <th>Russian Federation</th>\n",
       "      <td>Russian Federation</td>\n",
       "      <td>0</td>\n",
       "    </tr>\n",
       "    <tr>\n",
       "      <th>Lebanon</th>\n",
       "      <td>Lebanon</td>\n",
       "      <td>0</td>\n",
       "    </tr>\n",
       "    <tr>\n",
       "      <th>Iran (Islamic Rep. of)</th>\n",
       "      <td>Iran (Islamic Rep. of)</td>\n",
       "      <td>0</td>\n",
       "    </tr>\n",
       "  </tbody>\n",
       "</table>\n",
       "<p>225 rows × 2 columns</p>\n",
       "</div>"
      ],
      "text/plain": [
       "                                          origin  coreness\n",
       "id                                                        \n",
       "Denmark                                  Denmark         1\n",
       "Ecuador                                  Ecuador         1\n",
       "Spain                                      Spain         1\n",
       "Sweden                                    Sweden         1\n",
       "Switzerland                          Switzerland         1\n",
       "...                                          ...       ...\n",
       "United Rep. of Tanzania  United Rep. of Tanzania         0\n",
       "Svalbard and Jan Mayen    Svalbard and Jan Mayen         0\n",
       "Russian Federation            Russian Federation         0\n",
       "Lebanon                                  Lebanon         0\n",
       "Iran (Islamic Rep. of)    Iran (Islamic Rep. of)         0\n",
       "\n",
       "[225 rows x 2 columns]"
      ]
     },
     "execution_count": 162,
     "metadata": {},
     "output_type": "execute_result"
    }
   ],
   "source": [
    "data_idh_2008_2012 = data.loc[:, ['idh_2008_2012', 'country', 'pop_cont']]\n",
    "\n",
    "data_idh_2008_2012 = data_idh_2008_2012.rename(columns={'idh_2008_2012': 'idh_2008_2012', 'country': 'origin'})\n",
    "df_coreness_2008_2012 = df_coreness_2008_2012.rename(columns={'nome':'origin'})\n",
    "\n",
    "df_coreness_2008_2012"
   ]
  },
  {
   "cell_type": "code",
   "execution_count": 163,
   "id": "031404d0",
   "metadata": {
    "collapsed": true
   },
   "outputs": [
    {
     "data": {
      "text/html": [
       "<div>\n",
       "<style scoped>\n",
       "    .dataframe tbody tr th:only-of-type {\n",
       "        vertical-align: middle;\n",
       "    }\n",
       "\n",
       "    .dataframe tbody tr th {\n",
       "        vertical-align: top;\n",
       "    }\n",
       "\n",
       "    .dataframe thead th {\n",
       "        text-align: right;\n",
       "    }\n",
       "</style>\n",
       "<table border=\"1\" class=\"dataframe\">\n",
       "  <thead>\n",
       "    <tr style=\"text-align: right;\">\n",
       "      <th></th>\n",
       "      <th>origin</th>\n",
       "      <th>coreness</th>\n",
       "      <th>idh_2008_2012</th>\n",
       "      <th>pop_cont</th>\n",
       "      <th>value</th>\n",
       "      <th>rejected</th>\n",
       "    </tr>\n",
       "  </thead>\n",
       "  <tbody>\n",
       "    <tr>\n",
       "      <th>0</th>\n",
       "      <td>Denmark</td>\n",
       "      <td>1</td>\n",
       "      <td>0.9218</td>\n",
       "      <td>0</td>\n",
       "      <td>0.0</td>\n",
       "      <td>22.0</td>\n",
       "    </tr>\n",
       "    <tr>\n",
       "      <th>1</th>\n",
       "      <td>Ecuador</td>\n",
       "      <td>1</td>\n",
       "      <td>0.7290</td>\n",
       "      <td>0</td>\n",
       "      <td>163.0</td>\n",
       "      <td>631.0</td>\n",
       "    </tr>\n",
       "    <tr>\n",
       "      <th>2</th>\n",
       "      <td>Spain</td>\n",
       "      <td>1</td>\n",
       "      <td>0.8718</td>\n",
       "      <td>0</td>\n",
       "      <td>16.0</td>\n",
       "      <td>147.0</td>\n",
       "    </tr>\n",
       "    <tr>\n",
       "      <th>3</th>\n",
       "      <td>Sweden</td>\n",
       "      <td>1</td>\n",
       "      <td>0.9098</td>\n",
       "      <td>0</td>\n",
       "      <td>9.0</td>\n",
       "      <td>37.0</td>\n",
       "    </tr>\n",
       "    <tr>\n",
       "      <th>4</th>\n",
       "      <td>Switzerland</td>\n",
       "      <td>1</td>\n",
       "      <td>0.9372</td>\n",
       "      <td>0</td>\n",
       "      <td>2.0</td>\n",
       "      <td>20.0</td>\n",
       "    </tr>\n",
       "    <tr>\n",
       "      <th>...</th>\n",
       "      <td>...</td>\n",
       "      <td>...</td>\n",
       "      <td>...</td>\n",
       "      <td>...</td>\n",
       "      <td>...</td>\n",
       "      <td>...</td>\n",
       "    </tr>\n",
       "    <tr>\n",
       "      <th>220</th>\n",
       "      <td>United Rep. of Tanzania</td>\n",
       "      <td>0</td>\n",
       "      <td>0.4806</td>\n",
       "      <td>0</td>\n",
       "      <td>225.0</td>\n",
       "      <td>2659.0</td>\n",
       "    </tr>\n",
       "    <tr>\n",
       "      <th>221</th>\n",
       "      <td>Svalbard and Jan Mayen</td>\n",
       "      <td>0</td>\n",
       "      <td>0.0000</td>\n",
       "      <td>0</td>\n",
       "      <td>0.0</td>\n",
       "      <td>0.0</td>\n",
       "    </tr>\n",
       "    <tr>\n",
       "      <th>222</th>\n",
       "      <td>Russian Federation</td>\n",
       "      <td>0</td>\n",
       "      <td>0.7834</td>\n",
       "      <td>1</td>\n",
       "      <td>20428.0</td>\n",
       "      <td>60294.0</td>\n",
       "    </tr>\n",
       "    <tr>\n",
       "      <th>223</th>\n",
       "      <td>Lebanon</td>\n",
       "      <td>0</td>\n",
       "      <td>0.7628</td>\n",
       "      <td>1</td>\n",
       "      <td>1068.0</td>\n",
       "      <td>7442.0</td>\n",
       "    </tr>\n",
       "    <tr>\n",
       "      <th>224</th>\n",
       "      <td>Iran (Islamic Rep. of)</td>\n",
       "      <td>0</td>\n",
       "      <td>0.7450</td>\n",
       "      <td>1</td>\n",
       "      <td>35972.0</td>\n",
       "      <td>39022.0</td>\n",
       "    </tr>\n",
       "  </tbody>\n",
       "</table>\n",
       "<p>225 rows × 6 columns</p>\n",
       "</div>"
      ],
      "text/plain": [
       "                      origin  coreness  idh_2008_2012  pop_cont    value  \\\n",
       "0                    Denmark         1         0.9218         0      0.0   \n",
       "1                    Ecuador         1         0.7290         0    163.0   \n",
       "2                      Spain         1         0.8718         0     16.0   \n",
       "3                     Sweden         1         0.9098         0      9.0   \n",
       "4                Switzerland         1         0.9372         0      2.0   \n",
       "..                       ...       ...            ...       ...      ...   \n",
       "220  United Rep. of Tanzania         0         0.4806         0    225.0   \n",
       "221   Svalbard and Jan Mayen         0         0.0000         0      0.0   \n",
       "222       Russian Federation         0         0.7834         1  20428.0   \n",
       "223                  Lebanon         0         0.7628         1   1068.0   \n",
       "224   Iran (Islamic Rep. of)         0         0.7450         1  35972.0   \n",
       "\n",
       "     rejected  \n",
       "0        22.0  \n",
       "1       631.0  \n",
       "2       147.0  \n",
       "3        37.0  \n",
       "4        20.0  \n",
       "..        ...  \n",
       "220    2659.0  \n",
       "221       0.0  \n",
       "222   60294.0  \n",
       "223    7442.0  \n",
       "224   39022.0  \n",
       "\n",
       "[225 rows x 6 columns]"
      ]
     },
     "execution_count": 163,
     "metadata": {},
     "output_type": "execute_result"
    }
   ],
   "source": [
    "df_intermediario = df_coreness_2008_2012.merge(data_idh_2008_2012, on=\"origin\", how=\"left\")\n",
    "df_intermediario = df_intermediario.merge(df_2008_2012_out, on=\"origin\", how=\"left\")\n",
    "df_intermediario"
   ]
  },
  {
   "cell_type": "code",
   "execution_count": 164,
   "id": "9cc96bf7",
   "metadata": {
    "collapsed": true
   },
   "outputs": [
    {
     "data": {
      "text/html": [
       "<div>\n",
       "<style scoped>\n",
       "    .dataframe tbody tr th:only-of-type {\n",
       "        vertical-align: middle;\n",
       "    }\n",
       "\n",
       "    .dataframe tbody tr th {\n",
       "        vertical-align: top;\n",
       "    }\n",
       "\n",
       "    .dataframe thead th {\n",
       "        text-align: right;\n",
       "    }\n",
       "</style>\n",
       "<table border=\"1\" class=\"dataframe\">\n",
       "  <thead>\n",
       "    <tr style=\"text-align: right;\">\n",
       "      <th></th>\n",
       "      <th>origin</th>\n",
       "      <th>coreness</th>\n",
       "      <th>idh_2008_2012</th>\n",
       "      <th>pop_cont</th>\n",
       "      <th>value</th>\n",
       "      <th>rejected</th>\n",
       "    </tr>\n",
       "  </thead>\n",
       "  <tbody>\n",
       "    <tr>\n",
       "      <th>0</th>\n",
       "      <td>Denmark</td>\n",
       "      <td>1</td>\n",
       "      <td>0.9218</td>\n",
       "      <td>0</td>\n",
       "      <td>0.0</td>\n",
       "      <td>22.0</td>\n",
       "    </tr>\n",
       "    <tr>\n",
       "      <th>2</th>\n",
       "      <td>Spain</td>\n",
       "      <td>1</td>\n",
       "      <td>0.8718</td>\n",
       "      <td>0</td>\n",
       "      <td>16.0</td>\n",
       "      <td>147.0</td>\n",
       "    </tr>\n",
       "    <tr>\n",
       "      <th>3</th>\n",
       "      <td>Sweden</td>\n",
       "      <td>1</td>\n",
       "      <td>0.9098</td>\n",
       "      <td>0</td>\n",
       "      <td>9.0</td>\n",
       "      <td>37.0</td>\n",
       "    </tr>\n",
       "    <tr>\n",
       "      <th>5</th>\n",
       "      <td>United States of America</td>\n",
       "      <td>1</td>\n",
       "      <td>0.9156</td>\n",
       "      <td>0</td>\n",
       "      <td>50.0</td>\n",
       "      <td>2765.0</td>\n",
       "    </tr>\n",
       "    <tr>\n",
       "      <th>7</th>\n",
       "      <td>Greece</td>\n",
       "      <td>1</td>\n",
       "      <td>0.8648</td>\n",
       "      <td>0</td>\n",
       "      <td>10.0</td>\n",
       "      <td>96.0</td>\n",
       "    </tr>\n",
       "    <tr>\n",
       "      <th>8</th>\n",
       "      <td>Italy</td>\n",
       "      <td>1</td>\n",
       "      <td>0.8792</td>\n",
       "      <td>0</td>\n",
       "      <td>19.0</td>\n",
       "      <td>147.0</td>\n",
       "    </tr>\n",
       "    <tr>\n",
       "      <th>10</th>\n",
       "      <td>Belgium</td>\n",
       "      <td>1</td>\n",
       "      <td>0.9094</td>\n",
       "      <td>0</td>\n",
       "      <td>31.0</td>\n",
       "      <td>47.0</td>\n",
       "    </tr>\n",
       "    <tr>\n",
       "      <th>11</th>\n",
       "      <td>Canada</td>\n",
       "      <td>1</td>\n",
       "      <td>0.9012</td>\n",
       "      <td>0</td>\n",
       "      <td>38.0</td>\n",
       "      <td>110.0</td>\n",
       "    </tr>\n",
       "    <tr>\n",
       "      <th>12</th>\n",
       "      <td>Finland</td>\n",
       "      <td>1</td>\n",
       "      <td>0.9172</td>\n",
       "      <td>0</td>\n",
       "      <td>4.0</td>\n",
       "      <td>5.0</td>\n",
       "    </tr>\n",
       "    <tr>\n",
       "      <th>13</th>\n",
       "      <td>Ireland</td>\n",
       "      <td>1</td>\n",
       "      <td>0.9056</td>\n",
       "      <td>0</td>\n",
       "      <td>1.0</td>\n",
       "      <td>24.0</td>\n",
       "    </tr>\n",
       "    <tr>\n",
       "      <th>15</th>\n",
       "      <td>France</td>\n",
       "      <td>1</td>\n",
       "      <td>0.8794</td>\n",
       "      <td>0</td>\n",
       "      <td>14.0</td>\n",
       "      <td>139.0</td>\n",
       "    </tr>\n",
       "    <tr>\n",
       "      <th>16</th>\n",
       "      <td>Germany</td>\n",
       "      <td>1</td>\n",
       "      <td>0.9284</td>\n",
       "      <td>0</td>\n",
       "      <td>31.0</td>\n",
       "      <td>223.0</td>\n",
       "    </tr>\n",
       "    <tr>\n",
       "      <th>18</th>\n",
       "      <td>Netherlands</td>\n",
       "      <td>1</td>\n",
       "      <td>0.9196</td>\n",
       "      <td>0</td>\n",
       "      <td>9.0</td>\n",
       "      <td>105.0</td>\n",
       "    </tr>\n",
       "    <tr>\n",
       "      <th>19</th>\n",
       "      <td>Austria</td>\n",
       "      <td>1</td>\n",
       "      <td>0.9012</td>\n",
       "      <td>0</td>\n",
       "      <td>1.0</td>\n",
       "      <td>13.0</td>\n",
       "    </tr>\n",
       "    <tr>\n",
       "      <th>73</th>\n",
       "      <td>Slovakia</td>\n",
       "      <td>0</td>\n",
       "      <td>0.8320</td>\n",
       "      <td>0</td>\n",
       "      <td>35.0</td>\n",
       "      <td>1189.0</td>\n",
       "    </tr>\n",
       "    <tr>\n",
       "      <th>74</th>\n",
       "      <td>Latvia</td>\n",
       "      <td>0</td>\n",
       "      <td>0.8278</td>\n",
       "      <td>0</td>\n",
       "      <td>66.0</td>\n",
       "      <td>206.0</td>\n",
       "    </tr>\n",
       "    <tr>\n",
       "      <th>89</th>\n",
       "      <td>Luxembourg</td>\n",
       "      <td>0</td>\n",
       "      <td>0.8960</td>\n",
       "      <td>0</td>\n",
       "      <td>0.0</td>\n",
       "      <td>1.0</td>\n",
       "    </tr>\n",
       "    <tr>\n",
       "      <th>98</th>\n",
       "      <td>Bulgaria</td>\n",
       "      <td>0</td>\n",
       "      <td>0.7872</td>\n",
       "      <td>0</td>\n",
       "      <td>337.0</td>\n",
       "      <td>904.0</td>\n",
       "    </tr>\n",
       "    <tr>\n",
       "      <th>100</th>\n",
       "      <td>Estonia</td>\n",
       "      <td>0</td>\n",
       "      <td>0.8542</td>\n",
       "      <td>0</td>\n",
       "      <td>253.0</td>\n",
       "      <td>121.0</td>\n",
       "    </tr>\n",
       "    <tr>\n",
       "      <th>105</th>\n",
       "      <td>Malta</td>\n",
       "      <td>0</td>\n",
       "      <td>0.8490</td>\n",
       "      <td>0</td>\n",
       "      <td>0.0</td>\n",
       "      <td>7.0</td>\n",
       "    </tr>\n",
       "    <tr>\n",
       "      <th>110</th>\n",
       "      <td>Portugal</td>\n",
       "      <td>0</td>\n",
       "      <td>0.8276</td>\n",
       "      <td>0</td>\n",
       "      <td>6.0</td>\n",
       "      <td>211.0</td>\n",
       "    </tr>\n",
       "    <tr>\n",
       "      <th>119</th>\n",
       "      <td>Cyprus</td>\n",
       "      <td>0</td>\n",
       "      <td>0.8590</td>\n",
       "      <td>0</td>\n",
       "      <td>1.0</td>\n",
       "      <td>12.0</td>\n",
       "    </tr>\n",
       "    <tr>\n",
       "      <th>148</th>\n",
       "      <td>Poland</td>\n",
       "      <td>0</td>\n",
       "      <td>0.8380</td>\n",
       "      <td>0</td>\n",
       "      <td>109.0</td>\n",
       "      <td>427.0</td>\n",
       "    </tr>\n",
       "    <tr>\n",
       "      <th>162</th>\n",
       "      <td>Lithuania</td>\n",
       "      <td>0</td>\n",
       "      <td>0.8352</td>\n",
       "      <td>0</td>\n",
       "      <td>33.0</td>\n",
       "      <td>203.0</td>\n",
       "    </tr>\n",
       "    <tr>\n",
       "      <th>177</th>\n",
       "      <td>Hungary</td>\n",
       "      <td>0</td>\n",
       "      <td>0.8280</td>\n",
       "      <td>0</td>\n",
       "      <td>675.0</td>\n",
       "      <td>3363.0</td>\n",
       "    </tr>\n",
       "    <tr>\n",
       "      <th>184</th>\n",
       "      <td>Slovenia</td>\n",
       "      <td>0</td>\n",
       "      <td>0.8870</td>\n",
       "      <td>0</td>\n",
       "      <td>8.0</td>\n",
       "      <td>24.0</td>\n",
       "    </tr>\n",
       "    <tr>\n",
       "      <th>185</th>\n",
       "      <td>Czech Rep.</td>\n",
       "      <td>0</td>\n",
       "      <td>0.8694</td>\n",
       "      <td>1</td>\n",
       "      <td>291.0</td>\n",
       "      <td>1372.0</td>\n",
       "    </tr>\n",
       "    <tr>\n",
       "      <th>194</th>\n",
       "      <td>Romania</td>\n",
       "      <td>0</td>\n",
       "      <td>0.8046</td>\n",
       "      <td>0</td>\n",
       "      <td>299.0</td>\n",
       "      <td>1020.0</td>\n",
       "    </tr>\n",
       "  </tbody>\n",
       "</table>\n",
       "</div>"
      ],
      "text/plain": [
       "                       origin  coreness  idh_2008_2012  pop_cont  value  \\\n",
       "0                     Denmark         1         0.9218         0    0.0   \n",
       "2                       Spain         1         0.8718         0   16.0   \n",
       "3                      Sweden         1         0.9098         0    9.0   \n",
       "5    United States of America         1         0.9156         0   50.0   \n",
       "7                      Greece         1         0.8648         0   10.0   \n",
       "8                       Italy         1         0.8792         0   19.0   \n",
       "10                    Belgium         1         0.9094         0   31.0   \n",
       "11                     Canada         1         0.9012         0   38.0   \n",
       "12                    Finland         1         0.9172         0    4.0   \n",
       "13                    Ireland         1         0.9056         0    1.0   \n",
       "15                     France         1         0.8794         0   14.0   \n",
       "16                    Germany         1         0.9284         0   31.0   \n",
       "18                Netherlands         1         0.9196         0    9.0   \n",
       "19                    Austria         1         0.9012         0    1.0   \n",
       "73                   Slovakia         0         0.8320         0   35.0   \n",
       "74                     Latvia         0         0.8278         0   66.0   \n",
       "89                 Luxembourg         0         0.8960         0    0.0   \n",
       "98                   Bulgaria         0         0.7872         0  337.0   \n",
       "100                   Estonia         0         0.8542         0  253.0   \n",
       "105                     Malta         0         0.8490         0    0.0   \n",
       "110                  Portugal         0         0.8276         0    6.0   \n",
       "119                    Cyprus         0         0.8590         0    1.0   \n",
       "148                    Poland         0         0.8380         0  109.0   \n",
       "162                 Lithuania         0         0.8352         0   33.0   \n",
       "177                   Hungary         0         0.8280         0  675.0   \n",
       "184                  Slovenia         0         0.8870         0    8.0   \n",
       "185                Czech Rep.         0         0.8694         1  291.0   \n",
       "194                   Romania         0         0.8046         0  299.0   \n",
       "\n",
       "     rejected  \n",
       "0        22.0  \n",
       "2       147.0  \n",
       "3        37.0  \n",
       "5      2765.0  \n",
       "7        96.0  \n",
       "8       147.0  \n",
       "10       47.0  \n",
       "11      110.0  \n",
       "12        5.0  \n",
       "13       24.0  \n",
       "15      139.0  \n",
       "16      223.0  \n",
       "18      105.0  \n",
       "19       13.0  \n",
       "73     1189.0  \n",
       "74      206.0  \n",
       "89        1.0  \n",
       "98      904.0  \n",
       "100     121.0  \n",
       "105       7.0  \n",
       "110     211.0  \n",
       "119      12.0  \n",
       "148     427.0  \n",
       "162     203.0  \n",
       "177    3363.0  \n",
       "184      24.0  \n",
       "185    1372.0  \n",
       "194    1020.0  "
      ]
     },
     "execution_count": 164,
     "metadata": {},
     "output_type": "execute_result"
    }
   ],
   "source": [
    "df_filtrado_idh_2008_2012 = df_intermediario[(df_intermediario['origin'].isin(lista_paises_eu_america))]\n",
    "df_filtrado_idh_2008_2012"
   ]
  },
  {
   "cell_type": "markdown",
   "id": "3fb26cf6",
   "metadata": {},
   "source": [
    "#### Regressão\n",
    "\n",
    "Com os resultados obtidos no processo acima, obtivemos a tabela logo acima dessa célula, a df_filtrado_idh_2008_2012, correlacionando o valor da saída de pessoas com o recorte proposto e, para podermos analisar se o recorte realmente faz sentido e faria com que a hipótese não corroborasse mais, precisamos realizar uma regressão linear, uma vez que a variável dependente (value) é um valor contínuo."
   ]
  },
  {
   "cell_type": "code",
   "execution_count": 168,
   "id": "b3cb556d",
   "metadata": {
    "collapsed": true
   },
   "outputs": [
    {
     "data": {
      "text/html": [
       "<table class=\"simpletable\">\n",
       "<caption>OLS Regression Results</caption>\n",
       "<tr>\n",
       "  <th>Dep. Variable:</th>     <td>np.log1p(value)</td> <th>  R-squared:         </th> <td>   0.384</td>\n",
       "</tr>\n",
       "<tr>\n",
       "  <th>Model:</th>                   <td>OLS</td>       <th>  Adj. R-squared:    </th> <td>   0.307</td>\n",
       "</tr>\n",
       "<tr>\n",
       "  <th>Method:</th>             <td>Least Squares</td>  <th>  F-statistic:       </th> <td>   4.982</td>\n",
       "</tr>\n",
       "<tr>\n",
       "  <th>Date:</th>             <td>Sun, 20 Nov 2022</td> <th>  Prob (F-statistic):</th>  <td>0.00793</td>\n",
       "</tr>\n",
       "<tr>\n",
       "  <th>Time:</th>                 <td>05:41:01</td>     <th>  Log-Likelihood:    </th> <td> -50.207</td>\n",
       "</tr>\n",
       "<tr>\n",
       "  <th>No. Observations:</th>      <td>    28</td>      <th>  AIC:               </th> <td>   108.4</td>\n",
       "</tr>\n",
       "<tr>\n",
       "  <th>Df Residuals:</th>          <td>    24</td>      <th>  BIC:               </th> <td>   113.7</td>\n",
       "</tr>\n",
       "<tr>\n",
       "  <th>Df Model:</th>              <td>     3</td>      <th>                     </th>     <td> </td>   \n",
       "</tr>\n",
       "<tr>\n",
       "  <th>Covariance Type:</th>      <td>nonrobust</td>    <th>                     </th>     <td> </td>   \n",
       "</tr>\n",
       "</table>\n",
       "<table class=\"simpletable\">\n",
       "<tr>\n",
       "        <td></td>           <th>coef</th>     <th>std err</th>      <th>t</th>      <th>P>|t|</th>  <th>[0.025</th>    <th>0.975]</th>  \n",
       "</tr>\n",
       "<tr>\n",
       "  <th>Intercept</th>     <td>   34.5542</td> <td>   10.496</td> <td>    3.292</td> <td> 0.003</td> <td>   12.891</td> <td>   56.217</td>\n",
       "</tr>\n",
       "<tr>\n",
       "  <th>idh_2008_2012</th> <td>  -37.0481</td> <td>   12.478</td> <td>   -2.969</td> <td> 0.007</td> <td>  -62.802</td> <td>  -11.294</td>\n",
       "</tr>\n",
       "<tr>\n",
       "  <th>coreness</th>      <td>    1.2169</td> <td>    0.976</td> <td>    1.247</td> <td> 0.224</td> <td>   -0.797</td> <td>    3.231</td>\n",
       "</tr>\n",
       "<tr>\n",
       "  <th>pop_cont</th>      <td>    3.3322</td> <td>    1.669</td> <td>    1.996</td> <td> 0.057</td> <td>   -0.113</td> <td>    6.777</td>\n",
       "</tr>\n",
       "</table>\n",
       "<table class=\"simpletable\">\n",
       "<tr>\n",
       "  <th>Omnibus:</th>       <td> 0.310</td> <th>  Durbin-Watson:     </th> <td>   1.902</td>\n",
       "</tr>\n",
       "<tr>\n",
       "  <th>Prob(Omnibus):</th> <td> 0.857</td> <th>  Jarque-Bera (JB):  </th> <td>   0.482</td>\n",
       "</tr>\n",
       "<tr>\n",
       "  <th>Skew:</th>          <td>-0.012</td> <th>  Prob(JB):          </th> <td>   0.786</td>\n",
       "</tr>\n",
       "<tr>\n",
       "  <th>Kurtosis:</th>      <td> 2.358</td> <th>  Cond. No.          </th> <td>    78.8</td>\n",
       "</tr>\n",
       "</table><br/><br/>Notes:<br/>[1] Standard Errors assume that the covariance matrix of the errors is correctly specified."
      ],
      "text/plain": [
       "<class 'statsmodels.iolib.summary.Summary'>\n",
       "\"\"\"\n",
       "                            OLS Regression Results                            \n",
       "==============================================================================\n",
       "Dep. Variable:        np.log1p(value)   R-squared:                       0.384\n",
       "Model:                            OLS   Adj. R-squared:                  0.307\n",
       "Method:                 Least Squares   F-statistic:                     4.982\n",
       "Date:                Sun, 20 Nov 2022   Prob (F-statistic):            0.00793\n",
       "Time:                        05:41:01   Log-Likelihood:                -50.207\n",
       "No. Observations:                  28   AIC:                             108.4\n",
       "Df Residuals:                      24   BIC:                             113.7\n",
       "Df Model:                           3                                         \n",
       "Covariance Type:            nonrobust                                         \n",
       "=================================================================================\n",
       "                    coef    std err          t      P>|t|      [0.025      0.975]\n",
       "---------------------------------------------------------------------------------\n",
       "Intercept        34.5542     10.496      3.292      0.003      12.891      56.217\n",
       "idh_2008_2012   -37.0481     12.478     -2.969      0.007     -62.802     -11.294\n",
       "coreness          1.2169      0.976      1.247      0.224      -0.797       3.231\n",
       "pop_cont          3.3322      1.669      1.996      0.057      -0.113       6.777\n",
       "==============================================================================\n",
       "Omnibus:                        0.310   Durbin-Watson:                   1.902\n",
       "Prob(Omnibus):                  0.857   Jarque-Bera (JB):                0.482\n",
       "Skew:                          -0.012   Prob(JB):                        0.786\n",
       "Kurtosis:                       2.358   Cond. No.                         78.8\n",
       "==============================================================================\n",
       "\n",
       "Notes:\n",
       "[1] Standard Errors assume that the covariance matrix of the errors is correctly specified.\n",
       "\"\"\""
      ]
     },
     "execution_count": 168,
     "metadata": {},
     "output_type": "execute_result"
    }
   ],
   "source": [
    "result_hip4 = reg.linear(data=df_filtrado_idh_2008_2012, formula='np.log1p(value) ~ idh_2008_2012 + coreness + pop_cont')\n",
    "result_hip4.summary()"
   ]
  },
  {
   "cell_type": "code",
   "execution_count": 169,
   "id": "de6bfab1",
   "metadata": {
    "collapsed": true
   },
   "outputs": [
    {
     "data": {
      "text/html": [
       "<style type=\"text/css\">\n",
       "#T_d5310_row0_col0, #T_d5310_row1_col0, #T_d5310_row2_col0 {\n",
       "  font-family: monospace;\n",
       "  text-align: left;\n",
       "}\n",
       "</style>\n",
       "<table id=\"T_d5310\">\n",
       "  <thead>\n",
       "  </thead>\n",
       "  <tbody>\n",
       "    <tr>\n",
       "      <td id=\"T_d5310_row0_col0\" class=\"data row0 col0\" >-37.048 (12.478) ***</td>\n",
       "    </tr>\n",
       "    <tr>\n",
       "      <td id=\"T_d5310_row1_col0\" class=\"data row1 col0\" >+01.217 (0.976)</td>\n",
       "    </tr>\n",
       "    <tr>\n",
       "      <td id=\"T_d5310_row2_col0\" class=\"data row2 col0\" >+03.332 (1.669) *</td>\n",
       "    </tr>\n",
       "  </tbody>\n",
       "</table>\n"
      ],
      "text/plain": [
       "<pandas.io.formats.style.Styler at 0x7f0dac5ad2d0>"
      ]
     },
     "execution_count": 169,
     "metadata": {},
     "output_type": "execute_result"
    }
   ],
   "source": [
    "result_hip4.nano_summary()"
   ]
  },
  {
   "cell_type": "code",
   "execution_count": 170,
   "id": "0e438fa8",
   "metadata": {
    "collapsed": true
   },
   "outputs": [
    {
     "data": {
      "image/png": "[encoded data removed]",
      "text/plain": [
       "<Figure size 1280x480 with 2 Axes>"
      ]
     },
     "metadata": {},
     "output_type": "display_data"
    }
   ],
   "source": [
    "result_hip4.plot_residuals()"
   ]
  },
  {
   "cell_type": "markdown",
   "id": "bbee33d3",
   "metadata": {},
   "source": [
    "\n",
    "## Hipóteses 5: Abertura tem relação com chegada de pessoas\n",
    "\n",
    "### H : IN: OPEN, EXT, CORE"
   ]
  },
  {
   "cell_type": "markdown",
   "id": "52631d5c",
   "metadata": {},
   "source": [
    "#### Explicação:\n",
    "\n",
    "Essa hipótese correlaciona a abertura de um país com a entrada de pessoas. Ou seja, quanto maior for a abertura de um país, mais pessoas chegam até ele. Ou seja, quanto mais fácil for de entrar nas fronteiras de uma nação, maior será o número de pessoas capazes de buscar refúgio nesses países. Além disso, a chegada de pessoas também está relacionada com a saída de pessoas e o coreness (variáveis de controle), uma vez que quanto maior a saída de pessoas de um país, mais pessoas chegarão em outros países, além de que quanto maior a entrada de pessoas, maior é o seu coreness. \n",
    "\n",
    "\n",
    "#### Recorte: 2008 a 2012 e países da União Europeia e América Anglo-Saxônica\n",
    "\n",
    "Esse recorte foi pensado pois, ao tratarmos dos anos de 2008 a 2012, pensamos na crise imobiliária dos Estados Unidos que ocorreu em 2008 e, posteriormente, resultou em uma crise econômica global. Além disso, também houve uma pandemia da gripe H1N1 no ano de 2009. Esses dois acontecimentos, juntos, poderiam resultar em uma possível mudança significativa na abertura de países que foram mais afetados geopoliticamente com essas crises, como foram os casos de países da Europa e da América do Norte, chegando a uma menor abertura desses países, já que houve uma maior restrição na entrada de pessoas por conta do aumento do risco de contaminação da H1N1 e por também não estarem em condições financeiras favoráveis a entrada de ainda mais pessoas em seu território."
   ]
  },
  {
   "cell_type": "code",
   "execution_count": 171,
   "id": "3e994333",
   "metadata": {
    "collapsed": true
   },
   "outputs": [
    {
     "name": "stderr",
     "output_type": "stream",
     "text": [
      "/tmp/ipykernel_12/3610552243.py:1: FutureWarning: The default value of numeric_only in DataFrameGroupBy.sum is deprecated. In a future version, numeric_only will default to False. Either specify numeric_only or select only columns which should be valid for the function.\n",
      "  df_indegree_2008_2012 = df_2008_2012.groupby('destiny').sum().reindex(listaVertices).fillna(0)\n"
     ]
    },
    {
     "data": {
      "text/html": [
       "<div>\n",
       "<style scoped>\n",
       "    .dataframe tbody tr th:only-of-type {\n",
       "        vertical-align: middle;\n",
       "    }\n",
       "\n",
       "    .dataframe tbody tr th {\n",
       "        vertical-align: top;\n",
       "    }\n",
       "\n",
       "    .dataframe thead th {\n",
       "        text-align: right;\n",
       "    }\n",
       "</style>\n",
       "<table border=\"1\" class=\"dataframe\">\n",
       "  <thead>\n",
       "    <tr style=\"text-align: right;\">\n",
       "      <th></th>\n",
       "      <th>country</th>\n",
       "      <th>in_degree</th>\n",
       "      <th>rejected</th>\n",
       "    </tr>\n",
       "  </thead>\n",
       "  <tbody>\n",
       "    <tr>\n",
       "      <th>0</th>\n",
       "      <td>United States of America</td>\n",
       "      <td>104356.0</td>\n",
       "      <td>74546.0</td>\n",
       "    </tr>\n",
       "    <tr>\n",
       "      <th>1</th>\n",
       "      <td>Malaysia</td>\n",
       "      <td>93752.0</td>\n",
       "      <td>4685.0</td>\n",
       "    </tr>\n",
       "    <tr>\n",
       "      <th>2</th>\n",
       "      <td>France</td>\n",
       "      <td>54791.0</td>\n",
       "      <td>267437.0</td>\n",
       "    </tr>\n",
       "    <tr>\n",
       "      <th>3</th>\n",
       "      <td>Canada</td>\n",
       "      <td>54290.0</td>\n",
       "      <td>60789.0</td>\n",
       "    </tr>\n",
       "    <tr>\n",
       "      <th>4</th>\n",
       "      <td>Sudan</td>\n",
       "      <td>51213.0</td>\n",
       "      <td>845.0</td>\n",
       "    </tr>\n",
       "    <tr>\n",
       "      <th>...</th>\n",
       "      <td>...</td>\n",
       "      <td>...</td>\n",
       "      <td>...</td>\n",
       "    </tr>\n",
       "    <tr>\n",
       "      <th>220</th>\n",
       "      <td>Wallis and Futuna Islands</td>\n",
       "      <td>0.0</td>\n",
       "      <td>0.0</td>\n",
       "    </tr>\n",
       "    <tr>\n",
       "      <th>221</th>\n",
       "      <td>Marshall Islands</td>\n",
       "      <td>0.0</td>\n",
       "      <td>0.0</td>\n",
       "    </tr>\n",
       "    <tr>\n",
       "      <th>222</th>\n",
       "      <td>Svalbard and Jan Mayen</td>\n",
       "      <td>0.0</td>\n",
       "      <td>0.0</td>\n",
       "    </tr>\n",
       "    <tr>\n",
       "      <th>223</th>\n",
       "      <td>Stateless</td>\n",
       "      <td>0.0</td>\n",
       "      <td>0.0</td>\n",
       "    </tr>\n",
       "    <tr>\n",
       "      <th>224</th>\n",
       "      <td>Puerto Rico</td>\n",
       "      <td>0.0</td>\n",
       "      <td>0.0</td>\n",
       "    </tr>\n",
       "  </tbody>\n",
       "</table>\n",
       "<p>225 rows × 3 columns</p>\n",
       "</div>"
      ],
      "text/plain": [
       "                        country  in_degree  rejected\n",
       "0      United States of America   104356.0   74546.0\n",
       "1                      Malaysia    93752.0    4685.0\n",
       "2                        France    54791.0  267437.0\n",
       "3                        Canada    54290.0   60789.0\n",
       "4                         Sudan    51213.0     845.0\n",
       "..                          ...        ...       ...\n",
       "220  Wallis and Futuna Islands         0.0       0.0\n",
       "221            Marshall Islands        0.0       0.0\n",
       "222      Svalbard and Jan Mayen        0.0       0.0\n",
       "223                   Stateless        0.0       0.0\n",
       "224                 Puerto Rico        0.0       0.0\n",
       "\n",
       "[225 rows x 3 columns]"
      ]
     },
     "execution_count": 171,
     "metadata": {},
     "output_type": "execute_result"
    }
   ],
   "source": [
    "df_indegree_2008_2012 = df_2008_2012.groupby('destiny').sum().reindex(listaVertices).fillna(0)\n",
    "df_indegree_2008_2012 = df_indegree_2008_2012.sort_values(\"value\", ascending = False)\n",
    "df_indegree_2008_2012 = df_indegree_2008_2012.reset_index()\n",
    "df_indegree_2008_2012 = df_indegree_2008_2012.rename(columns={'destiny': 'country', 'value':'in_degree'})\n",
    "df_indegree_2008_2012"
   ]
  },
  {
   "cell_type": "code",
   "execution_count": 172,
   "id": "23205628",
   "metadata": {
    "collapsed": true
   },
   "outputs": [
    {
     "data": {
      "text/html": [
       "<div>\n",
       "<style scoped>\n",
       "    .dataframe tbody tr th:only-of-type {\n",
       "        vertical-align: middle;\n",
       "    }\n",
       "\n",
       "    .dataframe tbody tr th {\n",
       "        vertical-align: top;\n",
       "    }\n",
       "\n",
       "    .dataframe thead th {\n",
       "        text-align: right;\n",
       "    }\n",
       "</style>\n",
       "<table border=\"1\" class=\"dataframe\">\n",
       "  <thead>\n",
       "    <tr style=\"text-align: right;\">\n",
       "      <th></th>\n",
       "      <th>country</th>\n",
       "      <th>coreness</th>\n",
       "      <th>idh_2008_2012</th>\n",
       "      <th>pop_cont</th>\n",
       "      <th>out_degree</th>\n",
       "      <th>in_degree</th>\n",
       "      <th>rejected</th>\n",
       "    </tr>\n",
       "  </thead>\n",
       "  <tbody>\n",
       "    <tr>\n",
       "      <th>0</th>\n",
       "      <td>Denmark</td>\n",
       "      <td>1</td>\n",
       "      <td>0.9218</td>\n",
       "      <td>0</td>\n",
       "      <td>0.0</td>\n",
       "      <td>3685.0</td>\n",
       "      <td>10179.0</td>\n",
       "    </tr>\n",
       "    <tr>\n",
       "      <th>1</th>\n",
       "      <td>Ecuador</td>\n",
       "      <td>1</td>\n",
       "      <td>0.7290</td>\n",
       "      <td>0</td>\n",
       "      <td>163.0</td>\n",
       "      <td>31987.0</td>\n",
       "      <td>38839.0</td>\n",
       "    </tr>\n",
       "    <tr>\n",
       "      <th>2</th>\n",
       "      <td>Spain</td>\n",
       "      <td>1</td>\n",
       "      <td>0.8718</td>\n",
       "      <td>0</td>\n",
       "      <td>16.0</td>\n",
       "      <td>1137.0</td>\n",
       "      <td>11965.0</td>\n",
       "    </tr>\n",
       "    <tr>\n",
       "      <th>3</th>\n",
       "      <td>Sweden</td>\n",
       "      <td>1</td>\n",
       "      <td>0.9098</td>\n",
       "      <td>0</td>\n",
       "      <td>9.0</td>\n",
       "      <td>13548.0</td>\n",
       "      <td>139848.0</td>\n",
       "    </tr>\n",
       "    <tr>\n",
       "      <th>4</th>\n",
       "      <td>Switzerland</td>\n",
       "      <td>1</td>\n",
       "      <td>0.9372</td>\n",
       "      <td>0</td>\n",
       "      <td>2.0</td>\n",
       "      <td>14535.0</td>\n",
       "      <td>18415.0</td>\n",
       "    </tr>\n",
       "    <tr>\n",
       "      <th>...</th>\n",
       "      <td>...</td>\n",
       "      <td>...</td>\n",
       "      <td>...</td>\n",
       "      <td>...</td>\n",
       "      <td>...</td>\n",
       "      <td>...</td>\n",
       "      <td>...</td>\n",
       "    </tr>\n",
       "    <tr>\n",
       "      <th>220</th>\n",
       "      <td>United Rep. of Tanzania</td>\n",
       "      <td>0</td>\n",
       "      <td>0.4806</td>\n",
       "      <td>0</td>\n",
       "      <td>225.0</td>\n",
       "      <td>162.0</td>\n",
       "      <td>27.0</td>\n",
       "    </tr>\n",
       "    <tr>\n",
       "      <th>221</th>\n",
       "      <td>Svalbard and Jan Mayen</td>\n",
       "      <td>0</td>\n",
       "      <td>0.0000</td>\n",
       "      <td>0</td>\n",
       "      <td>0.0</td>\n",
       "      <td>0.0</td>\n",
       "      <td>0.0</td>\n",
       "    </tr>\n",
       "    <tr>\n",
       "      <th>222</th>\n",
       "      <td>Russian Federation</td>\n",
       "      <td>0</td>\n",
       "      <td>0.7834</td>\n",
       "      <td>1</td>\n",
       "      <td>20428.0</td>\n",
       "      <td>2182.0</td>\n",
       "      <td>13537.0</td>\n",
       "    </tr>\n",
       "    <tr>\n",
       "      <th>223</th>\n",
       "      <td>Lebanon</td>\n",
       "      <td>0</td>\n",
       "      <td>0.7628</td>\n",
       "      <td>1</td>\n",
       "      <td>1068.0</td>\n",
       "      <td>1331.0</td>\n",
       "      <td>2119.0</td>\n",
       "    </tr>\n",
       "    <tr>\n",
       "      <th>224</th>\n",
       "      <td>Iran (Islamic Rep. of)</td>\n",
       "      <td>0</td>\n",
       "      <td>0.7450</td>\n",
       "      <td>1</td>\n",
       "      <td>35972.0</td>\n",
       "      <td>471.0</td>\n",
       "      <td>580.0</td>\n",
       "    </tr>\n",
       "  </tbody>\n",
       "</table>\n",
       "<p>225 rows × 7 columns</p>\n",
       "</div>"
      ],
      "text/plain": [
       "                     country  coreness  idh_2008_2012  pop_cont  out_degree  \\\n",
       "0                    Denmark         1         0.9218         0         0.0   \n",
       "1                    Ecuador         1         0.7290         0       163.0   \n",
       "2                      Spain         1         0.8718         0        16.0   \n",
       "3                     Sweden         1         0.9098         0         9.0   \n",
       "4                Switzerland         1         0.9372         0         2.0   \n",
       "..                       ...       ...            ...       ...         ...   \n",
       "220  United Rep. of Tanzania         0         0.4806         0       225.0   \n",
       "221   Svalbard and Jan Mayen         0         0.0000         0         0.0   \n",
       "222       Russian Federation         0         0.7834         1     20428.0   \n",
       "223                  Lebanon         0         0.7628         1      1068.0   \n",
       "224   Iran (Islamic Rep. of)         0         0.7450         1     35972.0   \n",
       "\n",
       "     in_degree  rejected  \n",
       "0       3685.0   10179.0  \n",
       "1      31987.0   38839.0  \n",
       "2       1137.0   11965.0  \n",
       "3      13548.0  139848.0  \n",
       "4      14535.0   18415.0  \n",
       "..         ...       ...  \n",
       "220      162.0      27.0  \n",
       "221        0.0       0.0  \n",
       "222     2182.0   13537.0  \n",
       "223     1331.0    2119.0  \n",
       "224      471.0     580.0  \n",
       "\n",
       "[225 rows x 7 columns]"
      ]
     },
     "execution_count": 172,
     "metadata": {},
     "output_type": "execute_result"
    }
   ],
   "source": [
    "df_intermediario = df_intermediario.drop('rejected', axis=1)\n",
    "df_intermediario = df_intermediario.rename(columns={'origin': 'country', 'value':'out_degree'})\n",
    "df_intermediario = df_intermediario.merge(df_indegree_2008_2012, on=\"country\", how=\"left\")\n",
    "df_intermediario"
   ]
  },
  {
   "cell_type": "code",
   "execution_count": 173,
   "id": "45465b70",
   "metadata": {
    "collapsed": true
   },
   "outputs": [
    {
     "data": {
      "text/html": [
       "<div>\n",
       "<style scoped>\n",
       "    .dataframe tbody tr th:only-of-type {\n",
       "        vertical-align: middle;\n",
       "    }\n",
       "\n",
       "    .dataframe tbody tr th {\n",
       "        vertical-align: top;\n",
       "    }\n",
       "\n",
       "    .dataframe thead th {\n",
       "        text-align: right;\n",
       "    }\n",
       "</style>\n",
       "<table border=\"1\" class=\"dataframe\">\n",
       "  <thead>\n",
       "    <tr style=\"text-align: right;\">\n",
       "      <th></th>\n",
       "      <th>country</th>\n",
       "      <th>coreness</th>\n",
       "      <th>out_degree</th>\n",
       "      <th>in_degree</th>\n",
       "      <th>rejected</th>\n",
       "      <th>open</th>\n",
       "    </tr>\n",
       "  </thead>\n",
       "  <tbody>\n",
       "    <tr>\n",
       "      <th>0</th>\n",
       "      <td>Denmark</td>\n",
       "      <td>1</td>\n",
       "      <td>0.0</td>\n",
       "      <td>3685.0</td>\n",
       "      <td>10179.0</td>\n",
       "      <td>26.579631</td>\n",
       "    </tr>\n",
       "    <tr>\n",
       "      <th>1</th>\n",
       "      <td>Ecuador</td>\n",
       "      <td>1</td>\n",
       "      <td>163.0</td>\n",
       "      <td>31987.0</td>\n",
       "      <td>38839.0</td>\n",
       "      <td>45.162793</td>\n",
       "    </tr>\n",
       "    <tr>\n",
       "      <th>2</th>\n",
       "      <td>Spain</td>\n",
       "      <td>1</td>\n",
       "      <td>16.0</td>\n",
       "      <td>1137.0</td>\n",
       "      <td>11965.0</td>\n",
       "      <td>8.678064</td>\n",
       "    </tr>\n",
       "    <tr>\n",
       "      <th>3</th>\n",
       "      <td>Sweden</td>\n",
       "      <td>1</td>\n",
       "      <td>9.0</td>\n",
       "      <td>13548.0</td>\n",
       "      <td>139848.0</td>\n",
       "      <td>8.832043</td>\n",
       "    </tr>\n",
       "    <tr>\n",
       "      <th>4</th>\n",
       "      <td>Switzerland</td>\n",
       "      <td>1</td>\n",
       "      <td>2.0</td>\n",
       "      <td>14535.0</td>\n",
       "      <td>18415.0</td>\n",
       "      <td>44.112291</td>\n",
       "    </tr>\n",
       "    <tr>\n",
       "      <th>...</th>\n",
       "      <td>...</td>\n",
       "      <td>...</td>\n",
       "      <td>...</td>\n",
       "      <td>...</td>\n",
       "      <td>...</td>\n",
       "      <td>...</td>\n",
       "    </tr>\n",
       "    <tr>\n",
       "      <th>220</th>\n",
       "      <td>United Rep. of Tanzania</td>\n",
       "      <td>0</td>\n",
       "      <td>225.0</td>\n",
       "      <td>162.0</td>\n",
       "      <td>27.0</td>\n",
       "      <td>85.714286</td>\n",
       "    </tr>\n",
       "    <tr>\n",
       "      <th>221</th>\n",
       "      <td>Svalbard and Jan Mayen</td>\n",
       "      <td>0</td>\n",
       "      <td>0.0</td>\n",
       "      <td>0.0</td>\n",
       "      <td>0.0</td>\n",
       "      <td>0.000000</td>\n",
       "    </tr>\n",
       "    <tr>\n",
       "      <th>222</th>\n",
       "      <td>Russian Federation</td>\n",
       "      <td>0</td>\n",
       "      <td>20428.0</td>\n",
       "      <td>2182.0</td>\n",
       "      <td>13537.0</td>\n",
       "      <td>13.881290</td>\n",
       "    </tr>\n",
       "    <tr>\n",
       "      <th>223</th>\n",
       "      <td>Lebanon</td>\n",
       "      <td>0</td>\n",
       "      <td>1068.0</td>\n",
       "      <td>1331.0</td>\n",
       "      <td>2119.0</td>\n",
       "      <td>38.579710</td>\n",
       "    </tr>\n",
       "    <tr>\n",
       "      <th>224</th>\n",
       "      <td>Iran (Islamic Rep. of)</td>\n",
       "      <td>0</td>\n",
       "      <td>35972.0</td>\n",
       "      <td>471.0</td>\n",
       "      <td>580.0</td>\n",
       "      <td>44.814462</td>\n",
       "    </tr>\n",
       "  </tbody>\n",
       "</table>\n",
       "<p>225 rows × 6 columns</p>\n",
       "</div>"
      ],
      "text/plain": [
       "                     country  coreness  out_degree  in_degree  rejected  \\\n",
       "0                    Denmark         1         0.0     3685.0   10179.0   \n",
       "1                    Ecuador         1       163.0    31987.0   38839.0   \n",
       "2                      Spain         1        16.0     1137.0   11965.0   \n",
       "3                     Sweden         1         9.0    13548.0  139848.0   \n",
       "4                Switzerland         1         2.0    14535.0   18415.0   \n",
       "..                       ...       ...         ...        ...       ...   \n",
       "220  United Rep. of Tanzania         0       225.0      162.0      27.0   \n",
       "221   Svalbard and Jan Mayen         0         0.0        0.0       0.0   \n",
       "222       Russian Federation         0     20428.0     2182.0   13537.0   \n",
       "223                  Lebanon         0      1068.0     1331.0    2119.0   \n",
       "224   Iran (Islamic Rep. of)         0     35972.0      471.0     580.0   \n",
       "\n",
       "          open  \n",
       "0    26.579631  \n",
       "1    45.162793  \n",
       "2     8.678064  \n",
       "3     8.832043  \n",
       "4    44.112291  \n",
       "..         ...  \n",
       "220  85.714286  \n",
       "221   0.000000  \n",
       "222  13.881290  \n",
       "223  38.579710  \n",
       "224  44.814462  \n",
       "\n",
       "[225 rows x 6 columns]"
      ]
     },
     "execution_count": 173,
     "metadata": {},
     "output_type": "execute_result"
    }
   ],
   "source": [
    "df_2008_2012_inout = df_intermediario.drop(['pop_cont','idh_2008_2012'], axis=1)\n",
    "df_2008_2012_inout['open'] = (df_2008_2012_inout['in_degree']/(df_2008_2012_inout['in_degree'] + df_2008_2012_inout['rejected']))*100\n",
    "df_2008_2012_inout['open'] = df_2008_2012_inout['open'].fillna(0)\n",
    "df_2008_2012_inout"
   ]
  },
  {
   "cell_type": "code",
   "execution_count": 174,
   "id": "3d3eb194",
   "metadata": {
    "collapsed": true
   },
   "outputs": [
    {
     "data": {
      "text/html": [
       "<div>\n",
       "<style scoped>\n",
       "    .dataframe tbody tr th:only-of-type {\n",
       "        vertical-align: middle;\n",
       "    }\n",
       "\n",
       "    .dataframe tbody tr th {\n",
       "        vertical-align: top;\n",
       "    }\n",
       "\n",
       "    .dataframe thead th {\n",
       "        text-align: right;\n",
       "    }\n",
       "</style>\n",
       "<table border=\"1\" class=\"dataframe\">\n",
       "  <thead>\n",
       "    <tr style=\"text-align: right;\">\n",
       "      <th></th>\n",
       "      <th>country</th>\n",
       "      <th>coreness</th>\n",
       "      <th>out_degree</th>\n",
       "      <th>in_degree</th>\n",
       "      <th>rejected</th>\n",
       "      <th>open</th>\n",
       "    </tr>\n",
       "  </thead>\n",
       "  <tbody>\n",
       "    <tr>\n",
       "      <th>0</th>\n",
       "      <td>Denmark</td>\n",
       "      <td>1</td>\n",
       "      <td>0.0</td>\n",
       "      <td>3685.0</td>\n",
       "      <td>10179.0</td>\n",
       "      <td>26.579631</td>\n",
       "    </tr>\n",
       "    <tr>\n",
       "      <th>2</th>\n",
       "      <td>Spain</td>\n",
       "      <td>1</td>\n",
       "      <td>16.0</td>\n",
       "      <td>1137.0</td>\n",
       "      <td>11965.0</td>\n",
       "      <td>8.678064</td>\n",
       "    </tr>\n",
       "    <tr>\n",
       "      <th>3</th>\n",
       "      <td>Sweden</td>\n",
       "      <td>1</td>\n",
       "      <td>9.0</td>\n",
       "      <td>13548.0</td>\n",
       "      <td>139848.0</td>\n",
       "      <td>8.832043</td>\n",
       "    </tr>\n",
       "    <tr>\n",
       "      <th>5</th>\n",
       "      <td>United States of America</td>\n",
       "      <td>1</td>\n",
       "      <td>50.0</td>\n",
       "      <td>104356.0</td>\n",
       "      <td>74546.0</td>\n",
       "      <td>58.331377</td>\n",
       "    </tr>\n",
       "    <tr>\n",
       "      <th>7</th>\n",
       "      <td>Greece</td>\n",
       "      <td>1</td>\n",
       "      <td>10.0</td>\n",
       "      <td>905.0</td>\n",
       "      <td>63158.0</td>\n",
       "      <td>1.412672</td>\n",
       "    </tr>\n",
       "    <tr>\n",
       "      <th>8</th>\n",
       "      <td>Italy</td>\n",
       "      <td>1</td>\n",
       "      <td>19.0</td>\n",
       "      <td>9352.0</td>\n",
       "      <td>60698.0</td>\n",
       "      <td>13.350464</td>\n",
       "    </tr>\n",
       "    <tr>\n",
       "      <th>10</th>\n",
       "      <td>Belgium</td>\n",
       "      <td>1</td>\n",
       "      <td>31.0</td>\n",
       "      <td>16714.0</td>\n",
       "      <td>91631.0</td>\n",
       "      <td>15.426646</td>\n",
       "    </tr>\n",
       "    <tr>\n",
       "      <th>11</th>\n",
       "      <td>Canada</td>\n",
       "      <td>1</td>\n",
       "      <td>38.0</td>\n",
       "      <td>54290.0</td>\n",
       "      <td>60789.0</td>\n",
       "      <td>47.176288</td>\n",
       "    </tr>\n",
       "    <tr>\n",
       "      <th>12</th>\n",
       "      <td>Finland</td>\n",
       "      <td>1</td>\n",
       "      <td>4.0</td>\n",
       "      <td>1105.0</td>\n",
       "      <td>3525.0</td>\n",
       "      <td>23.866091</td>\n",
       "    </tr>\n",
       "    <tr>\n",
       "      <th>13</th>\n",
       "      <td>Ireland</td>\n",
       "      <td>1</td>\n",
       "      <td>1.0</td>\n",
       "      <td>1348.0</td>\n",
       "      <td>20082.0</td>\n",
       "      <td>6.290247</td>\n",
       "    </tr>\n",
       "    <tr>\n",
       "      <th>15</th>\n",
       "      <td>France</td>\n",
       "      <td>1</td>\n",
       "      <td>14.0</td>\n",
       "      <td>54791.0</td>\n",
       "      <td>267437.0</td>\n",
       "      <td>17.003799</td>\n",
       "    </tr>\n",
       "    <tr>\n",
       "      <th>16</th>\n",
       "      <td>Germany</td>\n",
       "      <td>1</td>\n",
       "      <td>31.0</td>\n",
       "      <td>38971.0</td>\n",
       "      <td>95846.0</td>\n",
       "      <td>28.906592</td>\n",
       "    </tr>\n",
       "    <tr>\n",
       "      <th>18</th>\n",
       "      <td>Netherlands</td>\n",
       "      <td>1</td>\n",
       "      <td>9.0</td>\n",
       "      <td>3644.0</td>\n",
       "      <td>42702.0</td>\n",
       "      <td>7.862599</td>\n",
       "    </tr>\n",
       "    <tr>\n",
       "      <th>19</th>\n",
       "      <td>Austria</td>\n",
       "      <td>1</td>\n",
       "      <td>1.0</td>\n",
       "      <td>17229.0</td>\n",
       "      <td>57087.0</td>\n",
       "      <td>23.183433</td>\n",
       "    </tr>\n",
       "    <tr>\n",
       "      <th>73</th>\n",
       "      <td>Slovakia</td>\n",
       "      <td>0</td>\n",
       "      <td>35.0</td>\n",
       "      <td>89.0</td>\n",
       "      <td>1185.0</td>\n",
       "      <td>6.985871</td>\n",
       "    </tr>\n",
       "    <tr>\n",
       "      <th>74</th>\n",
       "      <td>Latvia</td>\n",
       "      <td>0</td>\n",
       "      <td>66.0</td>\n",
       "      <td>33.0</td>\n",
       "      <td>184.0</td>\n",
       "      <td>15.207373</td>\n",
       "    </tr>\n",
       "    <tr>\n",
       "      <th>89</th>\n",
       "      <td>Luxembourg</td>\n",
       "      <td>0</td>\n",
       "      <td>0.0</td>\n",
       "      <td>339.0</td>\n",
       "      <td>4182.0</td>\n",
       "      <td>7.498341</td>\n",
       "    </tr>\n",
       "    <tr>\n",
       "      <th>98</th>\n",
       "      <td>Bulgaria</td>\n",
       "      <td>0</td>\n",
       "      <td>337.0</td>\n",
       "      <td>114.0</td>\n",
       "      <td>1956.0</td>\n",
       "      <td>5.507246</td>\n",
       "    </tr>\n",
       "    <tr>\n",
       "      <th>100</th>\n",
       "      <td>Estonia</td>\n",
       "      <td>0</td>\n",
       "      <td>253.0</td>\n",
       "      <td>31.0</td>\n",
       "      <td>146.0</td>\n",
       "      <td>17.514124</td>\n",
       "    </tr>\n",
       "    <tr>\n",
       "      <th>105</th>\n",
       "      <td>Malta</td>\n",
       "      <td>0</td>\n",
       "      <td>0.0</td>\n",
       "      <td>1418.0</td>\n",
       "      <td>4330.0</td>\n",
       "      <td>24.669450</td>\n",
       "    </tr>\n",
       "    <tr>\n",
       "      <th>110</th>\n",
       "      <td>Portugal</td>\n",
       "      <td>0</td>\n",
       "      <td>6.0</td>\n",
       "      <td>55.0</td>\n",
       "      <td>93.0</td>\n",
       "      <td>37.162162</td>\n",
       "    </tr>\n",
       "    <tr>\n",
       "      <th>119</th>\n",
       "      <td>Cyprus</td>\n",
       "      <td>0</td>\n",
       "      <td>1.0</td>\n",
       "      <td>356.0</td>\n",
       "      <td>24613.0</td>\n",
       "      <td>1.425768</td>\n",
       "    </tr>\n",
       "    <tr>\n",
       "      <th>148</th>\n",
       "      <td>Poland</td>\n",
       "      <td>0</td>\n",
       "      <td>109.0</td>\n",
       "      <td>693.0</td>\n",
       "      <td>12938.0</td>\n",
       "      <td>5.084000</td>\n",
       "    </tr>\n",
       "    <tr>\n",
       "      <th>162</th>\n",
       "      <td>Lithuania</td>\n",
       "      <td>0</td>\n",
       "      <td>33.0</td>\n",
       "      <td>42.0</td>\n",
       "      <td>868.0</td>\n",
       "      <td>4.615385</td>\n",
       "    </tr>\n",
       "    <tr>\n",
       "      <th>177</th>\n",
       "      <td>Hungary</td>\n",
       "      <td>0</td>\n",
       "      <td>675.0</td>\n",
       "      <td>514.0</td>\n",
       "      <td>3470.0</td>\n",
       "      <td>12.901606</td>\n",
       "    </tr>\n",
       "    <tr>\n",
       "      <th>184</th>\n",
       "      <td>Slovenia</td>\n",
       "      <td>0</td>\n",
       "      <td>8.0</td>\n",
       "      <td>76.0</td>\n",
       "      <td>598.0</td>\n",
       "      <td>11.275964</td>\n",
       "    </tr>\n",
       "    <tr>\n",
       "      <th>185</th>\n",
       "      <td>Czech Rep.</td>\n",
       "      <td>0</td>\n",
       "      <td>291.0</td>\n",
       "      <td>839.0</td>\n",
       "      <td>3674.0</td>\n",
       "      <td>18.590738</td>\n",
       "    </tr>\n",
       "    <tr>\n",
       "      <th>194</th>\n",
       "      <td>Romania</td>\n",
       "      <td>0</td>\n",
       "      <td>299.0</td>\n",
       "      <td>517.0</td>\n",
       "      <td>5761.0</td>\n",
       "      <td>8.235107</td>\n",
       "    </tr>\n",
       "  </tbody>\n",
       "</table>\n",
       "</div>"
      ],
      "text/plain": [
       "                      country  coreness  out_degree  in_degree  rejected  \\\n",
       "0                     Denmark         1         0.0     3685.0   10179.0   \n",
       "2                       Spain         1        16.0     1137.0   11965.0   \n",
       "3                      Sweden         1         9.0    13548.0  139848.0   \n",
       "5    United States of America         1        50.0   104356.0   74546.0   \n",
       "7                      Greece         1        10.0      905.0   63158.0   \n",
       "8                       Italy         1        19.0     9352.0   60698.0   \n",
       "10                    Belgium         1        31.0    16714.0   91631.0   \n",
       "11                     Canada         1        38.0    54290.0   60789.0   \n",
       "12                    Finland         1         4.0     1105.0    3525.0   \n",
       "13                    Ireland         1         1.0     1348.0   20082.0   \n",
       "15                     France         1        14.0    54791.0  267437.0   \n",
       "16                    Germany         1        31.0    38971.0   95846.0   \n",
       "18                Netherlands         1         9.0     3644.0   42702.0   \n",
       "19                    Austria         1         1.0    17229.0   57087.0   \n",
       "73                   Slovakia         0        35.0       89.0    1185.0   \n",
       "74                     Latvia         0        66.0       33.0     184.0   \n",
       "89                 Luxembourg         0         0.0      339.0    4182.0   \n",
       "98                   Bulgaria         0       337.0      114.0    1956.0   \n",
       "100                   Estonia         0       253.0       31.0     146.0   \n",
       "105                     Malta         0         0.0     1418.0    4330.0   \n",
       "110                  Portugal         0         6.0       55.0      93.0   \n",
       "119                    Cyprus         0         1.0      356.0   24613.0   \n",
       "148                    Poland         0       109.0      693.0   12938.0   \n",
       "162                 Lithuania         0        33.0       42.0     868.0   \n",
       "177                   Hungary         0       675.0      514.0    3470.0   \n",
       "184                  Slovenia         0         8.0       76.0     598.0   \n",
       "185                Czech Rep.         0       291.0      839.0    3674.0   \n",
       "194                   Romania         0       299.0      517.0    5761.0   \n",
       "\n",
       "          open  \n",
       "0    26.579631  \n",
       "2     8.678064  \n",
       "3     8.832043  \n",
       "5    58.331377  \n",
       "7     1.412672  \n",
       "8    13.350464  \n",
       "10   15.426646  \n",
       "11   47.176288  \n",
       "12   23.866091  \n",
       "13    6.290247  \n",
       "15   17.003799  \n",
       "16   28.906592  \n",
       "18    7.862599  \n",
       "19   23.183433  \n",
       "73    6.985871  \n",
       "74   15.207373  \n",
       "89    7.498341  \n",
       "98    5.507246  \n",
       "100  17.514124  \n",
       "105  24.669450  \n",
       "110  37.162162  \n",
       "119   1.425768  \n",
       "148   5.084000  \n",
       "162   4.615385  \n",
       "177  12.901606  \n",
       "184  11.275964  \n",
       "185  18.590738  \n",
       "194   8.235107  "
      ]
     },
     "execution_count": 174,
     "metadata": {},
     "output_type": "execute_result"
    }
   ],
   "source": [
    "df_2008_2012_inout_eu_america =  df_2008_2012_inout[(df_2008_2012_inout['country'].isin(lista_paises_eu_america))]\n",
    "df_2008_2012_inout_eu_america"
   ]
  },
  {
   "cell_type": "markdown",
   "id": "c159104a",
   "metadata": {},
   "source": [
    "#### Regressão\n",
    "\n",
    "Com os resultados obtidos no processo acima, obtivemos a tabela logo acima dessa célula, a df_2008_2012_inout_eu_america, correlacionando o valor do in_degree com o recorte proposto e, para podermos analisar se o recorte realmente faz sentido e faria com que a hipótese não corroborasse mais, precisamos realizar uma regressão linear, uma vez que a variável dependente (in_degree) é um valor contínuo (métrica)."
   ]
  },
  {
   "cell_type": "code",
   "execution_count": 178,
   "id": "d2631e5a",
   "metadata": {
    "collapsed": true
   },
   "outputs": [
    {
     "data": {
      "text/html": [
       "<table class=\"simpletable\">\n",
       "<caption>OLS Regression Results</caption>\n",
       "<tr>\n",
       "  <th>Dep. Variable:</th>    <td>np.log1p(in_degree)</td> <th>  R-squared:         </th> <td>   0.722</td>\n",
       "</tr>\n",
       "<tr>\n",
       "  <th>Model:</th>                    <td>OLS</td>         <th>  Adj. R-squared:    </th> <td>   0.687</td>\n",
       "</tr>\n",
       "<tr>\n",
       "  <th>Method:</th>              <td>Least Squares</td>    <th>  F-statistic:       </th> <td>   20.74</td>\n",
       "</tr>\n",
       "<tr>\n",
       "  <th>Date:</th>              <td>Sun, 20 Nov 2022</td>   <th>  Prob (F-statistic):</th> <td>7.52e-07</td>\n",
       "</tr>\n",
       "<tr>\n",
       "  <th>Time:</th>                  <td>05:42:21</td>       <th>  Log-Likelihood:    </th> <td> -46.129</td>\n",
       "</tr>\n",
       "<tr>\n",
       "  <th>No. Observations:</th>       <td>    28</td>        <th>  AIC:               </th> <td>   100.3</td>\n",
       "</tr>\n",
       "<tr>\n",
       "  <th>Df Residuals:</th>           <td>    24</td>        <th>  BIC:               </th> <td>   105.6</td>\n",
       "</tr>\n",
       "<tr>\n",
       "  <th>Df Model:</th>               <td>     3</td>        <th>                     </th>     <td> </td>   \n",
       "</tr>\n",
       "<tr>\n",
       "  <th>Covariance Type:</th>       <td>nonrobust</td>      <th>                     </th>     <td> </td>   \n",
       "</tr>\n",
       "</table>\n",
       "<table class=\"simpletable\">\n",
       "<tr>\n",
       "       <td></td>         <th>coef</th>     <th>std err</th>      <th>t</th>      <th>P>|t|</th>  <th>[0.025</th>    <th>0.975]</th>  \n",
       "</tr>\n",
       "<tr>\n",
       "  <th>Intercept</th>  <td>    4.3242</td> <td>    0.526</td> <td>    8.226</td> <td> 0.000</td> <td>    3.239</td> <td>    5.409</td>\n",
       "</tr>\n",
       "<tr>\n",
       "  <th>open</th>       <td>    0.0483</td> <td>    0.020</td> <td>    2.402</td> <td> 0.024</td> <td>    0.007</td> <td>    0.090</td>\n",
       "</tr>\n",
       "<tr>\n",
       "  <th>coreness</th>   <td>    3.6927</td> <td>    0.596</td> <td>    6.200</td> <td> 0.000</td> <td>    2.464</td> <td>    4.922</td>\n",
       "</tr>\n",
       "<tr>\n",
       "  <th>out_degree</th> <td>    0.0019</td> <td>    0.002</td> <td>    1.001</td> <td> 0.327</td> <td>   -0.002</td> <td>    0.006</td>\n",
       "</tr>\n",
       "</table>\n",
       "<table class=\"simpletable\">\n",
       "<tr>\n",
       "  <th>Omnibus:</th>       <td> 3.944</td> <th>  Durbin-Watson:     </th> <td>   2.367</td>\n",
       "</tr>\n",
       "<tr>\n",
       "  <th>Prob(Omnibus):</th> <td> 0.139</td> <th>  Jarque-Bera (JB):  </th> <td>   1.739</td>\n",
       "</tr>\n",
       "<tr>\n",
       "  <th>Skew:</th>          <td>-0.243</td> <th>  Prob(JB):          </th> <td>   0.419</td>\n",
       "</tr>\n",
       "<tr>\n",
       "  <th>Kurtosis:</th>      <td> 1.880</td> <th>  Cond. No.          </th> <td>    468.</td>\n",
       "</tr>\n",
       "</table><br/><br/>Notes:<br/>[1] Standard Errors assume that the covariance matrix of the errors is correctly specified."
      ],
      "text/plain": [
       "<class 'statsmodels.iolib.summary.Summary'>\n",
       "\"\"\"\n",
       "                             OLS Regression Results                            \n",
       "===============================================================================\n",
       "Dep. Variable:     np.log1p(in_degree)   R-squared:                       0.722\n",
       "Model:                             OLS   Adj. R-squared:                  0.687\n",
       "Method:                  Least Squares   F-statistic:                     20.74\n",
       "Date:                 Sun, 20 Nov 2022   Prob (F-statistic):           7.52e-07\n",
       "Time:                         05:42:21   Log-Likelihood:                -46.129\n",
       "No. Observations:                   28   AIC:                             100.3\n",
       "Df Residuals:                       24   BIC:                             105.6\n",
       "Df Model:                            3                                         \n",
       "Covariance Type:             nonrobust                                         \n",
       "==============================================================================\n",
       "                 coef    std err          t      P>|t|      [0.025      0.975]\n",
       "------------------------------------------------------------------------------\n",
       "Intercept      4.3242      0.526      8.226      0.000       3.239       5.409\n",
       "open           0.0483      0.020      2.402      0.024       0.007       0.090\n",
       "coreness       3.6927      0.596      6.200      0.000       2.464       4.922\n",
       "out_degree     0.0019      0.002      1.001      0.327      -0.002       0.006\n",
       "==============================================================================\n",
       "Omnibus:                        3.944   Durbin-Watson:                   2.367\n",
       "Prob(Omnibus):                  0.139   Jarque-Bera (JB):                1.739\n",
       "Skew:                          -0.243   Prob(JB):                        0.419\n",
       "Kurtosis:                       1.880   Cond. No.                         468.\n",
       "==============================================================================\n",
       "\n",
       "Notes:\n",
       "[1] Standard Errors assume that the covariance matrix of the errors is correctly specified.\n",
       "\"\"\""
      ]
     },
     "execution_count": 178,
     "metadata": {},
     "output_type": "execute_result"
    }
   ],
   "source": [
    "result_hip5 = reg.linear(data=df_2008_2012_inout_eu_america, formula='np.log1p(in_degree) ~ open + coreness + out_degree')\n",
    "result_hip5.summary()"
   ]
  },
  {
   "cell_type": "code",
   "execution_count": 179,
   "id": "f2f31946",
   "metadata": {
    "scrolled": true
   },
   "outputs": [
    {
     "data": {
      "text/html": [
       "<style type=\"text/css\">\n",
       "#T_9a35b_row0_col0, #T_9a35b_row1_col0, #T_9a35b_row2_col0 {\n",
       "  font-family: monospace;\n",
       "  text-align: left;\n",
       "}\n",
       "</style>\n",
       "<table id=\"T_9a35b\">\n",
       "  <thead>\n",
       "  </thead>\n",
       "  <tbody>\n",
       "    <tr>\n",
       "      <td id=\"T_9a35b_row0_col0\" class=\"data row0 col0\" >+0.048 (0.020) **</td>\n",
       "    </tr>\n",
       "    <tr>\n",
       "      <td id=\"T_9a35b_row1_col0\" class=\"data row1 col0\" >+3.693 (0.596) ***</td>\n",
       "    </tr>\n",
       "    <tr>\n",
       "      <td id=\"T_9a35b_row2_col0\" class=\"data row2 col0\" >+0.002 (0.002)</td>\n",
       "    </tr>\n",
       "  </tbody>\n",
       "</table>\n"
      ],
      "text/plain": [
       "<pandas.io.formats.style.Styler at 0x7f0dac1e8310>"
      ]
     },
     "execution_count": 179,
     "metadata": {},
     "output_type": "execute_result"
    }
   ],
   "source": [
    "result_hip5.nano_summary()"
   ]
  },
  {
   "cell_type": "code",
   "execution_count": 180,
   "id": "b37b0e8e",
   "metadata": {
    "collapsed": true
   },
   "outputs": [
    {
     "data": {
      "image/png": "[encoded data removed]",
      "text/plain": [
       "<Figure size 1280x480 with 2 Axes>"
      ]
     },
     "metadata": {},
     "output_type": "display_data"
    }
   ],
   "source": [
    "result_hip5.plot_residuals()"
   ]
  },
  {
   "cell_type": "markdown",
   "id": "3c75f9de",
   "metadata": {},
   "source": [
    "\n",
    "# Países da União Europeia e América Anglo-Saxônica\n",
    "\n",
    "## Sem recortes de ano"
   ]
  },
  {
   "cell_type": "markdown",
   "id": "e4f4eb22",
   "metadata": {},
   "source": [
    "-------------------------------------------------------------------------------------------------------------------------------"
   ]
  },
  {
   "cell_type": "markdown",
   "id": "31549533",
   "metadata": {},
   "source": [
    "\n",
    "## Hipótese 3: Localização tem relação com intermediação\n",
    "\n",
    "### G : BW: GEO"
   ]
  },
  {
   "cell_type": "markdown",
   "id": "be3bc595",
   "metadata": {},
   "source": [
    "#### Explicação:\n",
    "\n",
    "Essa hipótese correlaciona o fato de possuir um alto betweenness (intermediação) com o número de países que fazem fronteira com o país em questão. Sendo assim, essa hipótese diz que quanto mais próximo de outros países é uma nação, ou seja, quanto maior o número de países com os qual faz fronteira, maior é o seu betweenness, indicando uma possibilidade de, por ser um país que faz divisa entre diversos outros, ele pode possuir um betweenness alto já que diversas pessoas iriam passar por ele para ir para outros países. \n",
    "\n",
    "#### Recorte: Países da União Europeia (UE) e da América Anglo-saxônica\n",
    "\n",
    "Esse recorte foi pensado pois, ao tratarmos dos países da UE e da América Anglo-Saxônica, é possível perceber que, ao longo dos anos, especialmente nos séculos 20 e 21, são os países que mais representam uma importância política muito grande nos problemas globais, o que acaba resultando em uma possível correlação entre a sua localização no planeta com a sua capacidade de intermediação, ou seja, nesse recorte, com o passar dos anos, com as diversas crises econômicas e pandemias, é possível que tenham restringido suas fronteiras e dificultado o acesso a estrangeiros, principalmente refugiados, resultando em um betweenness menor para o mesmo número de países vizinhos ao redor, o que deixaria de corroborar com a hipótese 3. "
   ]
  },
  {
   "cell_type": "code",
   "execution_count": 181,
   "id": "cc310879",
   "metadata": {
    "collapsed": true
   },
   "outputs": [
    {
     "data": {
      "text/html": [
       "<div>\n",
       "<style scoped>\n",
       "    .dataframe tbody tr th:only-of-type {\n",
       "        vertical-align: middle;\n",
       "    }\n",
       "\n",
       "    .dataframe tbody tr th {\n",
       "        vertical-align: top;\n",
       "    }\n",
       "\n",
       "    .dataframe thead th {\n",
       "        text-align: right;\n",
       "    }\n",
       "</style>\n",
       "<table border=\"1\" class=\"dataframe\">\n",
       "  <thead>\n",
       "    <tr style=\"text-align: right;\">\n",
       "      <th></th>\n",
       "      <th>destiny</th>\n",
       "      <th>origin</th>\n",
       "      <th>value</th>\n",
       "      <th>rejected</th>\n",
       "    </tr>\n",
       "  </thead>\n",
       "  <tbody>\n",
       "    <tr>\n",
       "      <th>0</th>\n",
       "      <td>Zimbabwe</td>\n",
       "      <td>Afghanistan</td>\n",
       "      <td>5.0</td>\n",
       "      <td>0</td>\n",
       "    </tr>\n",
       "    <tr>\n",
       "      <th>1</th>\n",
       "      <td>South Africa</td>\n",
       "      <td>Afghanistan</td>\n",
       "      <td>0.0</td>\n",
       "      <td>0</td>\n",
       "    </tr>\n",
       "    <tr>\n",
       "      <th>2</th>\n",
       "      <td>Uzbekistan</td>\n",
       "      <td>Afghanistan</td>\n",
       "      <td>747.0</td>\n",
       "      <td>112</td>\n",
       "    </tr>\n",
       "    <tr>\n",
       "      <th>3</th>\n",
       "      <td>United States of America</td>\n",
       "      <td>Afghanistan</td>\n",
       "      <td>151.0</td>\n",
       "      <td>31</td>\n",
       "    </tr>\n",
       "    <tr>\n",
       "      <th>4</th>\n",
       "      <td>United States of America</td>\n",
       "      <td>Afghanistan</td>\n",
       "      <td>182.0</td>\n",
       "      <td>51</td>\n",
       "    </tr>\n",
       "    <tr>\n",
       "      <th>...</th>\n",
       "      <td>...</td>\n",
       "      <td>...</td>\n",
       "      <td>...</td>\n",
       "      <td>...</td>\n",
       "    </tr>\n",
       "    <tr>\n",
       "      <th>129715</th>\n",
       "      <td>United States of America</td>\n",
       "      <td>Zimbabwe</td>\n",
       "      <td>16.0</td>\n",
       "      <td>*</td>\n",
       "    </tr>\n",
       "    <tr>\n",
       "      <th>129716</th>\n",
       "      <td>United States of America</td>\n",
       "      <td>Zimbabwe</td>\n",
       "      <td>0.0</td>\n",
       "      <td>*</td>\n",
       "    </tr>\n",
       "    <tr>\n",
       "      <th>129717</th>\n",
       "      <td>South Africa</td>\n",
       "      <td>Zimbabwe</td>\n",
       "      <td>0.0</td>\n",
       "      <td>NaN</td>\n",
       "    </tr>\n",
       "    <tr>\n",
       "      <th>129718</th>\n",
       "      <td>South Africa</td>\n",
       "      <td>Zimbabwe</td>\n",
       "      <td>73.0</td>\n",
       "      <td>7869</td>\n",
       "    </tr>\n",
       "    <tr>\n",
       "      <th>129719</th>\n",
       "      <td>Zambia</td>\n",
       "      <td>Zimbabwe</td>\n",
       "      <td>0.0</td>\n",
       "      <td>*</td>\n",
       "    </tr>\n",
       "  </tbody>\n",
       "</table>\n",
       "<p>129720 rows × 4 columns</p>\n",
       "</div>"
      ],
      "text/plain": [
       "                         destiny       origin  value rejected\n",
       "0                       Zimbabwe  Afghanistan    5.0        0\n",
       "1                   South Africa  Afghanistan    0.0        0\n",
       "2                     Uzbekistan  Afghanistan  747.0      112\n",
       "3       United States of America  Afghanistan  151.0       31\n",
       "4       United States of America  Afghanistan  182.0       51\n",
       "...                          ...          ...    ...      ...\n",
       "129715  United States of America     Zimbabwe   16.0        *\n",
       "129716  United States of America     Zimbabwe    0.0        *\n",
       "129717              South Africa     Zimbabwe    0.0      NaN\n",
       "129718              South Africa     Zimbabwe   73.0     7869\n",
       "129719                    Zambia     Zimbabwe    0.0        *\n",
       "\n",
       "[129720 rows x 4 columns]"
      ]
     },
     "execution_count": 181,
     "metadata": {},
     "output_type": "execute_result"
    }
   ],
   "source": [
    "df_sem_rec = df_rec_1.drop('year', axis=1)\n",
    "df_sem_rec"
   ]
  },
  {
   "cell_type": "code",
   "execution_count": 182,
   "id": "1e60875e",
   "metadata": {
    "collapsed": true
   },
   "outputs": [
    {
     "name": "stderr",
     "output_type": "stream",
     "text": [
      "/tmp/ipykernel_12/3087019097.py:2: FutureWarning: The default value of numeric_only in DataFrameGroupBy.sum is deprecated. In a future version, numeric_only will default to False. Either specify numeric_only or select only columns which should be valid for the function.\n",
      "  df_sem_rec = df_sem_rec.groupby(['origin', 'destiny']).sum().reset_index()\n"
     ]
    },
    {
     "data": {
      "text/html": [
       "<div>\n",
       "<style scoped>\n",
       "    .dataframe tbody tr th:only-of-type {\n",
       "        vertical-align: middle;\n",
       "    }\n",
       "\n",
       "    .dataframe tbody tr th {\n",
       "        vertical-align: top;\n",
       "    }\n",
       "\n",
       "    .dataframe thead th {\n",
       "        text-align: right;\n",
       "    }\n",
       "</style>\n",
       "<table border=\"1\" class=\"dataframe\">\n",
       "  <thead>\n",
       "    <tr style=\"text-align: right;\">\n",
       "      <th></th>\n",
       "      <th>origin</th>\n",
       "      <th>destiny</th>\n",
       "      <th>value</th>\n",
       "    </tr>\n",
       "  </thead>\n",
       "  <tbody>\n",
       "    <tr>\n",
       "      <th>0</th>\n",
       "      <td>Afghanistan</td>\n",
       "      <td>Albania</td>\n",
       "      <td>3.0</td>\n",
       "    </tr>\n",
       "    <tr>\n",
       "      <th>1</th>\n",
       "      <td>Afghanistan</td>\n",
       "      <td>Algeria</td>\n",
       "      <td>2.0</td>\n",
       "    </tr>\n",
       "    <tr>\n",
       "      <th>2</th>\n",
       "      <td>Afghanistan</td>\n",
       "      <td>Angola</td>\n",
       "      <td>0.0</td>\n",
       "    </tr>\n",
       "    <tr>\n",
       "      <th>3</th>\n",
       "      <td>Afghanistan</td>\n",
       "      <td>Argentina</td>\n",
       "      <td>5.0</td>\n",
       "    </tr>\n",
       "    <tr>\n",
       "      <th>4</th>\n",
       "      <td>Afghanistan</td>\n",
       "      <td>Armenia</td>\n",
       "      <td>0.0</td>\n",
       "    </tr>\n",
       "    <tr>\n",
       "      <th>...</th>\n",
       "      <td>...</td>\n",
       "      <td>...</td>\n",
       "      <td>...</td>\n",
       "    </tr>\n",
       "    <tr>\n",
       "      <th>11058</th>\n",
       "      <td>Zimbabwe</td>\n",
       "      <td>United Kingdom</td>\n",
       "      <td>15429.0</td>\n",
       "    </tr>\n",
       "    <tr>\n",
       "      <th>11059</th>\n",
       "      <td>Zimbabwe</td>\n",
       "      <td>United Rep. of Tanzania</td>\n",
       "      <td>1.0</td>\n",
       "    </tr>\n",
       "    <tr>\n",
       "      <th>11060</th>\n",
       "      <td>Zimbabwe</td>\n",
       "      <td>United States of America</td>\n",
       "      <td>1722.0</td>\n",
       "    </tr>\n",
       "    <tr>\n",
       "      <th>11061</th>\n",
       "      <td>Zimbabwe</td>\n",
       "      <td>Uruguay</td>\n",
       "      <td>1.0</td>\n",
       "    </tr>\n",
       "    <tr>\n",
       "      <th>11062</th>\n",
       "      <td>Zimbabwe</td>\n",
       "      <td>Zambia</td>\n",
       "      <td>9.0</td>\n",
       "    </tr>\n",
       "  </tbody>\n",
       "</table>\n",
       "<p>11063 rows × 3 columns</p>\n",
       "</div>"
      ],
      "text/plain": [
       "            origin                   destiny    value\n",
       "0      Afghanistan                   Albania      3.0\n",
       "1      Afghanistan                   Algeria      2.0\n",
       "2      Afghanistan                    Angola      0.0\n",
       "3      Afghanistan                 Argentina      5.0\n",
       "4      Afghanistan                   Armenia      0.0\n",
       "...            ...                       ...      ...\n",
       "11058     Zimbabwe            United Kingdom  15429.0\n",
       "11059     Zimbabwe   United Rep. of Tanzania      1.0\n",
       "11060     Zimbabwe  United States of America   1722.0\n",
       "11061     Zimbabwe                   Uruguay      1.0\n",
       "11062     Zimbabwe                    Zambia      9.0\n",
       "\n",
       "[11063 rows x 3 columns]"
      ]
     },
     "execution_count": 182,
     "metadata": {},
     "output_type": "execute_result"
    }
   ],
   "source": [
    "df_sem_rec = df_sem_rec[df_sem_rec['origin'] != df_sem_rec['destiny']]\n",
    "df_sem_rec = df_sem_rec.groupby(['origin', 'destiny']).sum().reset_index()\n",
    "df_rec_1.value = pd.to_numeric(df_rec_1['value'], errors = 'coerce').fillna(0)\n",
    "df_sem_rec"
   ]
  },
  {
   "cell_type": "code",
   "execution_count": 183,
   "id": "7a6f6332",
   "metadata": {},
   "outputs": [],
   "source": [
    "# Criando um grafo não-dirigido\n",
    "g4 = Graph(directed=True) \n",
    "g4.add_vp('nome')\n",
    "g4.add_ep('aceitos')"
   ]
  },
  {
   "cell_type": "code",
   "execution_count": 184,
   "id": "d8ae1bbe",
   "metadata": {},
   "outputs": [],
   "source": [
    "for vertice in listaVertices:\n",
    "    g4.add_vertex(vertice)"
   ]
  },
  {
   "cell_type": "code",
   "execution_count": 185,
   "id": "f8fa8fa8",
   "metadata": {},
   "outputs": [],
   "source": [
    "for v in g4.all_vertices():\n",
    "    v['nome'] = str(v)"
   ]
  },
  {
   "cell_type": "code",
   "execution_count": 186,
   "id": "4eda0789",
   "metadata": {},
   "outputs": [
    {
     "name": "stdout",
     "output_type": "stream",
     "text": [
      "O número de vértices do grafo é : 225\n"
     ]
    }
   ],
   "source": [
    "n2 = g4.num_vertices()\n",
    "print('O número de vértices do grafo é :', n2)"
   ]
  },
  {
   "cell_type": "code",
   "execution_count": 187,
   "id": "f9e3f806",
   "metadata": {},
   "outputs": [],
   "source": [
    "for index, row in df_sem_rec.iterrows():\n",
    "    g4.add_edge(row.origin, row.destiny)\n",
    "    g4.get_edge(row.origin, row.destiny)['aceitos'] = row.value"
   ]
  },
  {
   "cell_type": "code",
   "execution_count": 188,
   "id": "37313a3d",
   "metadata": {},
   "outputs": [],
   "source": [
    "gt_save(g4, '/grafo_sem_rec_ue.net.gz')"
   ]
  },
  {
   "cell_type": "code",
   "execution_count": 189,
   "id": "ab6eabcc",
   "metadata": {},
   "outputs": [],
   "source": [
    "g4 =  gt_load('/grafo_sem_rec_ue.net.gz')"
   ]
  },
  {
   "cell_type": "code",
   "execution_count": 58,
   "id": "ad034ce3",
   "metadata": {},
   "outputs": [],
   "source": [
    "m = gt_draw.sfdp_layout(g4)\n",
    "gt_move(g4, m)\n",
    "gt_save(g4, 'grafo_sem_rec_ue.net.gz')"
   ]
  },
  {
   "cell_type": "code",
   "execution_count": 59,
   "id": "5866f315",
   "metadata": {
    "collapsed": true
   },
   "outputs": [
    {
     "data": {
      "text/html": [
       "\n",
       "        <div id=\"nJjda5kFqpwne5WXeGiacu\"></div>\n",
       "        <script>netpixi.render('nJjda5kFqpwne5WXeGiacu', 'grafo_sem_rec_ue.net.gz', 1.7777777777777777, true, true, false);</script>\n",
       "    "
      ],
      "text/plain": [
       "<IPython.core.display.HTML object>"
      ]
     },
     "metadata": {},
     "output_type": "display_data"
    }
   ],
   "source": [
    "r4 = netpixi.render('grafo_sem_rec_ue.net.gz', infinite=True);"
   ]
  },
  {
   "cell_type": "code",
   "execution_count": 60,
   "id": "7982a493",
   "metadata": {},
   "outputs": [
    {
     "data": {
      "text/html": [
       "\n",
       "        <div id=\"QPgLFZLMwAcBYQY9wgNk7D\"></div>\n",
       "        <script>netpixi.call('QPgLFZLMwAcBYQY9wgNk7D', 'nJjda5kFqpwne5WXeGiacu', 'setGraph', 'eyJ0eXBlIjogInZlcnRleCIsICJwcm9wcyI6IHsic3JjIjogIm5vbWUiLCAiZHN0IjogIl9rZXkifX0K');</script>\n",
       "    "
      ],
      "text/plain": [
       "<IPython.core.display.HTML object>"
      ]
     },
     "metadata": {},
     "output_type": "display_data"
    },
    {
     "data": {
      "text/html": [
       "\n",
       "        <div id=\"5oKNfxTGmFEhWpcwdu5oMt\"></div>\n",
       "        <script>netpixi.call('5oKNfxTGmFEhWpcwdu5oMt', 'nJjda5kFqpwne5WXeGiacu', 'changeGraph', 'eyJ0eXBlIjogInNldHRpbmdzIiwgInByb3BzIjogeyJ2ZXJ0ZXgiOiB7ImNvbG9yIjogMTY3NzcyMTV9fX0K');</script>\n",
       "    "
      ],
      "text/plain": [
       "<IPython.core.display.HTML object>"
      ]
     },
     "metadata": {},
     "output_type": "display_data"
    },
    {
     "data": {
      "text/html": [
       "\n",
       "        <div id=\"7SdH9USMuVkemDZYwPMv7n\"></div>\n",
       "        <script>netpixi.call('7SdH9USMuVkemDZYwPMv7n', 'nJjda5kFqpwne5WXeGiacu', 'changeGraph', 'eyJ0eXBlIjogInNldHRpbmdzIiwgInByb3BzIjogeyJlZGdlIjogeyJjb2xvciI6IDIxNDI4OTB9fX0K');</script>\n",
       "    "
      ],
      "text/plain": [
       "<IPython.core.display.HTML object>"
      ]
     },
     "metadata": {},
     "output_type": "display_data"
    },
    {
     "data": {
      "text/html": [
       "\n",
       "        <div id=\"NJ8e3dyEoB369VQqp69vaD\"></div>\n",
       "        <script>netpixi.call('NJ8e3dyEoB369VQqp69vaD', 'nJjda5kFqpwne5WXeGiacu', 'normalizeGraph', 'eyJ0eXBlIjogImVkZ2UiLCAicHJvcHMiOiB7InNyYyI6ICJhY2VpdG9zIiwgIm1pbiI6IDEsICJtYXgiOiAxMH19Cg==');</script>\n",
       "    "
      ],
      "text/plain": [
       "<IPython.core.display.HTML object>"
      ]
     },
     "metadata": {},
     "output_type": "display_data"
    }
   ],
   "source": [
    "r4.vertex_set_key('nome')\n",
    "r4.vertex_default(color=0xffffff)\n",
    "# mudar a cor, a espessura e a curvatura das arestas\n",
    "r4.edge_default(color=0x20B2AA)\n",
    "r4.edge_scale('aceitos', 1, 10)"
   ]
  },
  {
   "cell_type": "code",
   "execution_count": 61,
   "id": "d7ad43b3",
   "metadata": {},
   "outputs": [],
   "source": [
    "bc_completo_no_rec, _ = centrality.betweenness(g4)\n",
    "g4.add_vp('betweenness', bc_completo_no_rec)"
   ]
  },
  {
   "cell_type": "code",
   "execution_count": 62,
   "id": "6cde34a8",
   "metadata": {
    "collapsed": true
   },
   "outputs": [
    {
     "data": {
      "text/html": [
       "<div>\n",
       "<style scoped>\n",
       "    .dataframe tbody tr th:only-of-type {\n",
       "        vertical-align: middle;\n",
       "    }\n",
       "\n",
       "    .dataframe tbody tr th {\n",
       "        vertical-align: top;\n",
       "    }\n",
       "\n",
       "    .dataframe thead th {\n",
       "        text-align: right;\n",
       "    }\n",
       "</style>\n",
       "<table border=\"1\" class=\"dataframe\">\n",
       "  <thead>\n",
       "    <tr style=\"text-align: right;\">\n",
       "      <th></th>\n",
       "      <th>nome</th>\n",
       "      <th>betweenness</th>\n",
       "    </tr>\n",
       "    <tr>\n",
       "      <th>id</th>\n",
       "      <th></th>\n",
       "      <th></th>\n",
       "    </tr>\n",
       "  </thead>\n",
       "  <tbody>\n",
       "    <tr>\n",
       "      <th>United States of America</th>\n",
       "      <td>United States of America</td>\n",
       "      <td>0.088410</td>\n",
       "    </tr>\n",
       "    <tr>\n",
       "      <th>Syrian Arab Rep.</th>\n",
       "      <td>Syrian Arab Rep.</td>\n",
       "      <td>0.066462</td>\n",
       "    </tr>\n",
       "    <tr>\n",
       "      <th>United Kingdom</th>\n",
       "      <td>United Kingdom</td>\n",
       "      <td>0.038188</td>\n",
       "    </tr>\n",
       "    <tr>\n",
       "      <th>South Africa</th>\n",
       "      <td>South Africa</td>\n",
       "      <td>0.032442</td>\n",
       "    </tr>\n",
       "    <tr>\n",
       "      <th>Russian Federation</th>\n",
       "      <td>Russian Federation</td>\n",
       "      <td>0.025242</td>\n",
       "    </tr>\n",
       "    <tr>\n",
       "      <th>...</th>\n",
       "      <td>...</td>\n",
       "      <td>...</td>\n",
       "    </tr>\n",
       "    <tr>\n",
       "      <th>Cabo Verde</th>\n",
       "      <td>Cabo Verde</td>\n",
       "      <td>0.000000</td>\n",
       "    </tr>\n",
       "    <tr>\n",
       "      <th>Wallis and Futuna Islands</th>\n",
       "      <td>Wallis and Futuna Islands</td>\n",
       "      <td>0.000000</td>\n",
       "    </tr>\n",
       "    <tr>\n",
       "      <th>Marshall Islands</th>\n",
       "      <td>Marshall Islands</td>\n",
       "      <td>0.000000</td>\n",
       "    </tr>\n",
       "    <tr>\n",
       "      <th>Svalbard and Jan Mayen</th>\n",
       "      <td>Svalbard and Jan Mayen</td>\n",
       "      <td>0.000000</td>\n",
       "    </tr>\n",
       "    <tr>\n",
       "      <th>Puerto Rico</th>\n",
       "      <td>Puerto Rico</td>\n",
       "      <td>0.000000</td>\n",
       "    </tr>\n",
       "  </tbody>\n",
       "</table>\n",
       "<p>225 rows × 2 columns</p>\n",
       "</div>"
      ],
      "text/plain": [
       "                                                  nome  betweenness\n",
       "id                                                                 \n",
       "United States of America      United States of America     0.088410\n",
       "Syrian Arab Rep.                      Syrian Arab Rep.     0.066462\n",
       "United Kingdom                          United Kingdom     0.038188\n",
       "South Africa                              South Africa     0.032442\n",
       "Russian Federation                  Russian Federation     0.025242\n",
       "...                                                ...          ...\n",
       "Cabo Verde                                  Cabo Verde     0.000000\n",
       "Wallis and Futuna Islands   Wallis and Futuna Islands      0.000000\n",
       "Marshall Islands                      Marshall Islands     0.000000\n",
       "Svalbard and Jan Mayen          Svalbard and Jan Mayen     0.000000\n",
       "Puerto Rico                                Puerto Rico     0.000000\n",
       "\n",
       "[225 rows x 2 columns]"
      ]
     },
     "execution_count": 62,
     "metadata": {},
     "output_type": "execute_result"
    }
   ],
   "source": [
    "df_betweenness_sem_rec = gt_data(g4).sort_values(\"betweenness\", ascending = False)\n",
    "df_betweenness_sem_rec"
   ]
  },
  {
   "cell_type": "code",
   "execution_count": 63,
   "id": "90ace81f",
   "metadata": {},
   "outputs": [],
   "source": [
    "m = gt_draw.sfdp_layout(g4)\n",
    "gt_move(g4, m)\n",
    "gt_save(g4, 'centralidadeBetweenessSemAno.net.gz')"
   ]
  },
  {
   "cell_type": "code",
   "execution_count": 64,
   "id": "87dbb450",
   "metadata": {},
   "outputs": [
    {
     "data": {
      "text/html": [
       "\n",
       "        <div id=\"33JByZdN7ks6bsJTgYcurL\"></div>\n",
       "        <script>netpixi.call('33JByZdN7ks6bsJTgYcurL', 'nJjda5kFqpwne5WXeGiacu', 'normalizeGraph', 'eyJ0eXBlIjogInZlcnRleCIsICJwcm9wcyI6IHsic3JjIjogImJldHdlZW5uZXNzIiwgIm1pbiI6IDUsICJtYXgiOiAyNX19Cg==');</script>\n",
       "    "
      ],
      "text/plain": [
       "<IPython.core.display.HTML object>"
      ]
     },
     "metadata": {},
     "output_type": "display_data"
    }
   ],
   "source": [
    "r4.vertex_scale('betweenness', 5, 25)"
   ]
  },
  {
   "cell_type": "code",
   "execution_count": 65,
   "id": "62f12902",
   "metadata": {
    "collapsed": true
   },
   "outputs": [
    {
     "data": {
      "text/html": [
       "\n",
       "        <div id=\"T5chERdxsYJvNzR3zwm4VF\"></div>\n",
       "        <script>netpixi.render('T5chERdxsYJvNzR3zwm4VF', 'centralidadeBetweenessSemAno.net.gz', 1.7777777777777777, true, true, false);</script>\n",
       "    "
      ],
      "text/plain": [
       "<IPython.core.display.HTML object>"
      ]
     },
     "metadata": {},
     "output_type": "display_data"
    }
   ],
   "source": [
    "r4 = netpixi.render('centralidadeBetweenessSemAno.net.gz', infinite=True);"
   ]
  },
  {
   "cell_type": "code",
   "execution_count": 66,
   "id": "af401aff",
   "metadata": {},
   "outputs": [
    {
     "data": {
      "text/html": [
       "\n",
       "        <div id=\"o2iB5PoFaKeG7gRv4Bs2Xz\"></div>\n",
       "        <script>netpixi.call('o2iB5PoFaKeG7gRv4Bs2Xz', 'T5chERdxsYJvNzR3zwm4VF', 'normalizeGraph', 'eyJ0eXBlIjogImVkZ2UiLCAicHJvcHMiOiB7InNyYyI6ICJhY2VpdG9zIiwgIm1pbiI6IDEsICJtYXgiOiAxMH19Cg==');</script>\n",
       "    "
      ],
      "text/plain": [
       "<IPython.core.display.HTML object>"
      ]
     },
     "metadata": {},
     "output_type": "display_data"
    },
    {
     "data": {
      "text/html": [
       "\n",
       "        <div id=\"HjtC28Y5tCZkGEVoMf54SS\"></div>\n",
       "        <script>netpixi.call('HjtC28Y5tCZkGEVoMf54SS', 'T5chERdxsYJvNzR3zwm4VF', 'setGraph', 'eyJ0eXBlIjogInZlcnRleCIsICJwcm9wcyI6IHsic3JjIjogIm5vbWUiLCAiZHN0IjogIl9rZXkifX0K');</script>\n",
       "    "
      ],
      "text/plain": [
       "<IPython.core.display.HTML object>"
      ]
     },
     "metadata": {},
     "output_type": "display_data"
    },
    {
     "data": {
      "text/html": [
       "\n",
       "        <div id=\"4ECxP4vhcCh57UKH5PwFne\"></div>\n",
       "        <script>netpixi.call('4ECxP4vhcCh57UKH5PwFne', 'T5chERdxsYJvNzR3zwm4VF', 'normalizeGraph', 'eyJ0eXBlIjogInZlcnRleCIsICJwcm9wcyI6IHsic3JjIjogImJldHdlZW5uZXNzIiwgIm1pbiI6IDUsICJtYXgiOiAyNX19Cg==');</script>\n",
       "    "
      ],
      "text/plain": [
       "<IPython.core.display.HTML object>"
      ]
     },
     "metadata": {},
     "output_type": "display_data"
    }
   ],
   "source": [
    "r4.edge_scale('aceitos', 1, 10)\n",
    "r4.vertex_set_key('nome')\n",
    "r4.vertex_scale('betweenness', 5, 25)"
   ]
  },
  {
   "cell_type": "code",
   "execution_count": 67,
   "id": "9af80e3f",
   "metadata": {
    "collapsed": true
   },
   "outputs": [
    {
     "data": {
      "text/html": [
       "<div>\n",
       "<style scoped>\n",
       "    .dataframe tbody tr th:only-of-type {\n",
       "        vertical-align: middle;\n",
       "    }\n",
       "\n",
       "    .dataframe tbody tr th {\n",
       "        vertical-align: top;\n",
       "    }\n",
       "\n",
       "    .dataframe thead th {\n",
       "        text-align: right;\n",
       "    }\n",
       "</style>\n",
       "<table border=\"1\" class=\"dataframe\">\n",
       "  <thead>\n",
       "    <tr style=\"text-align: right;\">\n",
       "      <th></th>\n",
       "      <th>country</th>\n",
       "      <th>n_neightbours</th>\n",
       "    </tr>\n",
       "  </thead>\n",
       "  <tbody>\n",
       "    <tr>\n",
       "      <th>0</th>\n",
       "      <td>China, Hong Kong SAR</td>\n",
       "      <td>1</td>\n",
       "    </tr>\n",
       "    <tr>\n",
       "      <th>1</th>\n",
       "      <td>China, Macao SAR</td>\n",
       "      <td>1</td>\n",
       "    </tr>\n",
       "    <tr>\n",
       "      <th>2</th>\n",
       "      <td>Afghanistan</td>\n",
       "      <td>6</td>\n",
       "    </tr>\n",
       "    <tr>\n",
       "      <th>3</th>\n",
       "      <td>Albania</td>\n",
       "      <td>4</td>\n",
       "    </tr>\n",
       "    <tr>\n",
       "      <th>4</th>\n",
       "      <td>Algeria</td>\n",
       "      <td>7</td>\n",
       "    </tr>\n",
       "    <tr>\n",
       "      <th>...</th>\n",
       "      <td>...</td>\n",
       "      <td>...</td>\n",
       "    </tr>\n",
       "    <tr>\n",
       "      <th>220</th>\n",
       "      <td>Wallis and Futuna Islands</td>\n",
       "      <td>0</td>\n",
       "    </tr>\n",
       "    <tr>\n",
       "      <th>221</th>\n",
       "      <td>Western Sahara</td>\n",
       "      <td>3</td>\n",
       "    </tr>\n",
       "    <tr>\n",
       "      <th>222</th>\n",
       "      <td>Yemen</td>\n",
       "      <td>2</td>\n",
       "    </tr>\n",
       "    <tr>\n",
       "      <th>223</th>\n",
       "      <td>Zambia</td>\n",
       "      <td>8</td>\n",
       "    </tr>\n",
       "    <tr>\n",
       "      <th>224</th>\n",
       "      <td>Zimbabwe</td>\n",
       "      <td>4</td>\n",
       "    </tr>\n",
       "  </tbody>\n",
       "</table>\n",
       "<p>225 rows × 2 columns</p>\n",
       "</div>"
      ],
      "text/plain": [
       "                        country  n_neightbours\n",
       "0          China, Hong Kong SAR              1\n",
       "1              China, Macao SAR              1\n",
       "2                   Afghanistan              6\n",
       "3                       Albania              4\n",
       "4                       Algeria              7\n",
       "..                          ...            ...\n",
       "220  Wallis and Futuna Islands               0\n",
       "221              Western Sahara              3\n",
       "222                       Yemen              2\n",
       "223                      Zambia              8\n",
       "224                    Zimbabwe              4\n",
       "\n",
       "[225 rows x 2 columns]"
      ]
     },
     "execution_count": 67,
     "metadata": {},
     "output_type": "execute_result"
    }
   ],
   "source": [
    "data_sem_recorte_geo = data.loc[:, ['country', 'n_neightbours']]\n",
    "data_sem_recorte_geo"
   ]
  },
  {
   "cell_type": "code",
   "execution_count": 69,
   "id": "3a9008ec",
   "metadata": {
    "collapsed": true
   },
   "outputs": [
    {
     "data": {
      "text/html": [
       "<div>\n",
       "<style scoped>\n",
       "    .dataframe tbody tr th:only-of-type {\n",
       "        vertical-align: middle;\n",
       "    }\n",
       "\n",
       "    .dataframe tbody tr th {\n",
       "        vertical-align: top;\n",
       "    }\n",
       "\n",
       "    .dataframe thead th {\n",
       "        text-align: right;\n",
       "    }\n",
       "</style>\n",
       "<table border=\"1\" class=\"dataframe\">\n",
       "  <thead>\n",
       "    <tr style=\"text-align: right;\">\n",
       "      <th></th>\n",
       "      <th>origin</th>\n",
       "      <th>betweenness</th>\n",
       "    </tr>\n",
       "    <tr>\n",
       "      <th>id</th>\n",
       "      <th></th>\n",
       "      <th></th>\n",
       "    </tr>\n",
       "  </thead>\n",
       "  <tbody>\n",
       "    <tr>\n",
       "      <th>United States of America</th>\n",
       "      <td>United States of America</td>\n",
       "      <td>0.088410</td>\n",
       "    </tr>\n",
       "    <tr>\n",
       "      <th>Syrian Arab Rep.</th>\n",
       "      <td>Syrian Arab Rep.</td>\n",
       "      <td>0.066462</td>\n",
       "    </tr>\n",
       "    <tr>\n",
       "      <th>United Kingdom</th>\n",
       "      <td>United Kingdom</td>\n",
       "      <td>0.038188</td>\n",
       "    </tr>\n",
       "    <tr>\n",
       "      <th>South Africa</th>\n",
       "      <td>South Africa</td>\n",
       "      <td>0.032442</td>\n",
       "    </tr>\n",
       "    <tr>\n",
       "      <th>Russian Federation</th>\n",
       "      <td>Russian Federation</td>\n",
       "      <td>0.025242</td>\n",
       "    </tr>\n",
       "    <tr>\n",
       "      <th>...</th>\n",
       "      <td>...</td>\n",
       "      <td>...</td>\n",
       "    </tr>\n",
       "    <tr>\n",
       "      <th>Cabo Verde</th>\n",
       "      <td>Cabo Verde</td>\n",
       "      <td>0.000000</td>\n",
       "    </tr>\n",
       "    <tr>\n",
       "      <th>Wallis and Futuna Islands</th>\n",
       "      <td>Wallis and Futuna Islands</td>\n",
       "      <td>0.000000</td>\n",
       "    </tr>\n",
       "    <tr>\n",
       "      <th>Marshall Islands</th>\n",
       "      <td>Marshall Islands</td>\n",
       "      <td>0.000000</td>\n",
       "    </tr>\n",
       "    <tr>\n",
       "      <th>Svalbard and Jan Mayen</th>\n",
       "      <td>Svalbard and Jan Mayen</td>\n",
       "      <td>0.000000</td>\n",
       "    </tr>\n",
       "    <tr>\n",
       "      <th>Puerto Rico</th>\n",
       "      <td>Puerto Rico</td>\n",
       "      <td>0.000000</td>\n",
       "    </tr>\n",
       "  </tbody>\n",
       "</table>\n",
       "<p>225 rows × 2 columns</p>\n",
       "</div>"
      ],
      "text/plain": [
       "                                                origin  betweenness\n",
       "id                                                                 \n",
       "United States of America      United States of America     0.088410\n",
       "Syrian Arab Rep.                      Syrian Arab Rep.     0.066462\n",
       "United Kingdom                          United Kingdom     0.038188\n",
       "South Africa                              South Africa     0.032442\n",
       "Russian Federation                  Russian Federation     0.025242\n",
       "...                                                ...          ...\n",
       "Cabo Verde                                  Cabo Verde     0.000000\n",
       "Wallis and Futuna Islands   Wallis and Futuna Islands      0.000000\n",
       "Marshall Islands                      Marshall Islands     0.000000\n",
       "Svalbard and Jan Mayen          Svalbard and Jan Mayen     0.000000\n",
       "Puerto Rico                                Puerto Rico     0.000000\n",
       "\n",
       "[225 rows x 2 columns]"
      ]
     },
     "execution_count": 69,
     "metadata": {},
     "output_type": "execute_result"
    }
   ],
   "source": [
    "data_sem_recorte_geo = data_sem_recorte_geo.rename(columns={'country': 'origin'})\n",
    "df_betweenness_sem_rec = df_betweenness_sem_rec.rename(columns={'nome':'origin'})\n",
    "df_betweenness_sem_rec"
   ]
  },
  {
   "cell_type": "code",
   "execution_count": 70,
   "id": "f3fc1045",
   "metadata": {
    "collapsed": true
   },
   "outputs": [
    {
     "data": {
      "text/html": [
       "<div>\n",
       "<style scoped>\n",
       "    .dataframe tbody tr th:only-of-type {\n",
       "        vertical-align: middle;\n",
       "    }\n",
       "\n",
       "    .dataframe tbody tr th {\n",
       "        vertical-align: top;\n",
       "    }\n",
       "\n",
       "    .dataframe thead th {\n",
       "        text-align: right;\n",
       "    }\n",
       "</style>\n",
       "<table border=\"1\" class=\"dataframe\">\n",
       "  <thead>\n",
       "    <tr style=\"text-align: right;\">\n",
       "      <th></th>\n",
       "      <th>origin</th>\n",
       "      <th>betweenness</th>\n",
       "      <th>n_neightbours</th>\n",
       "    </tr>\n",
       "  </thead>\n",
       "  <tbody>\n",
       "    <tr>\n",
       "      <th>0</th>\n",
       "      <td>United States of America</td>\n",
       "      <td>0.088410</td>\n",
       "      <td>2</td>\n",
       "    </tr>\n",
       "    <tr>\n",
       "      <th>7</th>\n",
       "      <td>Canada</td>\n",
       "      <td>0.021672</td>\n",
       "      <td>1</td>\n",
       "    </tr>\n",
       "    <tr>\n",
       "      <th>11</th>\n",
       "      <td>Germany</td>\n",
       "      <td>0.016420</td>\n",
       "      <td>9</td>\n",
       "    </tr>\n",
       "    <tr>\n",
       "      <th>13</th>\n",
       "      <td>France</td>\n",
       "      <td>0.015673</td>\n",
       "      <td>8</td>\n",
       "    </tr>\n",
       "    <tr>\n",
       "      <th>15</th>\n",
       "      <td>Italy</td>\n",
       "      <td>0.012157</td>\n",
       "      <td>6</td>\n",
       "    </tr>\n",
       "    <tr>\n",
       "      <th>16</th>\n",
       "      <td>Belgium</td>\n",
       "      <td>0.012111</td>\n",
       "      <td>4</td>\n",
       "    </tr>\n",
       "    <tr>\n",
       "      <th>22</th>\n",
       "      <td>Latvia</td>\n",
       "      <td>0.009413</td>\n",
       "      <td>4</td>\n",
       "    </tr>\n",
       "    <tr>\n",
       "      <th>30</th>\n",
       "      <td>Netherlands</td>\n",
       "      <td>0.007397</td>\n",
       "      <td>2</td>\n",
       "    </tr>\n",
       "    <tr>\n",
       "      <th>42</th>\n",
       "      <td>Romania</td>\n",
       "      <td>0.005401</td>\n",
       "      <td>5</td>\n",
       "    </tr>\n",
       "    <tr>\n",
       "      <th>47</th>\n",
       "      <td>Greece</td>\n",
       "      <td>0.004380</td>\n",
       "      <td>4</td>\n",
       "    </tr>\n",
       "    <tr>\n",
       "      <th>51</th>\n",
       "      <td>Spain</td>\n",
       "      <td>0.003725</td>\n",
       "      <td>5</td>\n",
       "    </tr>\n",
       "    <tr>\n",
       "      <th>53</th>\n",
       "      <td>Sweden</td>\n",
       "      <td>0.003626</td>\n",
       "      <td>2</td>\n",
       "    </tr>\n",
       "    <tr>\n",
       "      <th>56</th>\n",
       "      <td>Ireland</td>\n",
       "      <td>0.003192</td>\n",
       "      <td>1</td>\n",
       "    </tr>\n",
       "    <tr>\n",
       "      <th>61</th>\n",
       "      <td>Hungary</td>\n",
       "      <td>0.002899</td>\n",
       "      <td>7</td>\n",
       "    </tr>\n",
       "    <tr>\n",
       "      <th>63</th>\n",
       "      <td>Denmark</td>\n",
       "      <td>0.002699</td>\n",
       "      <td>1</td>\n",
       "    </tr>\n",
       "    <tr>\n",
       "      <th>66</th>\n",
       "      <td>Bulgaria</td>\n",
       "      <td>0.002594</td>\n",
       "      <td>5</td>\n",
       "    </tr>\n",
       "    <tr>\n",
       "      <th>78</th>\n",
       "      <td>Slovakia</td>\n",
       "      <td>0.001686</td>\n",
       "      <td>5</td>\n",
       "    </tr>\n",
       "    <tr>\n",
       "      <th>79</th>\n",
       "      <td>Poland</td>\n",
       "      <td>0.001613</td>\n",
       "      <td>7</td>\n",
       "    </tr>\n",
       "    <tr>\n",
       "      <th>83</th>\n",
       "      <td>Czech Rep.</td>\n",
       "      <td>0.001388</td>\n",
       "      <td>4</td>\n",
       "    </tr>\n",
       "    <tr>\n",
       "      <th>88</th>\n",
       "      <td>Portugal</td>\n",
       "      <td>0.001205</td>\n",
       "      <td>1</td>\n",
       "    </tr>\n",
       "    <tr>\n",
       "      <th>101</th>\n",
       "      <td>Austria</td>\n",
       "      <td>0.000894</td>\n",
       "      <td>8</td>\n",
       "    </tr>\n",
       "    <tr>\n",
       "      <th>102</th>\n",
       "      <td>Cyprus</td>\n",
       "      <td>0.000844</td>\n",
       "      <td>0</td>\n",
       "    </tr>\n",
       "    <tr>\n",
       "      <th>119</th>\n",
       "      <td>Finland</td>\n",
       "      <td>0.000469</td>\n",
       "      <td>3</td>\n",
       "    </tr>\n",
       "    <tr>\n",
       "      <th>123</th>\n",
       "      <td>Luxembourg</td>\n",
       "      <td>0.000381</td>\n",
       "      <td>3</td>\n",
       "    </tr>\n",
       "    <tr>\n",
       "      <th>127</th>\n",
       "      <td>Slovenia</td>\n",
       "      <td>0.000330</td>\n",
       "      <td>4</td>\n",
       "    </tr>\n",
       "    <tr>\n",
       "      <th>128</th>\n",
       "      <td>Lithuania</td>\n",
       "      <td>0.000327</td>\n",
       "      <td>4</td>\n",
       "    </tr>\n",
       "    <tr>\n",
       "      <th>132</th>\n",
       "      <td>Malta</td>\n",
       "      <td>0.000271</td>\n",
       "      <td>0</td>\n",
       "    </tr>\n",
       "    <tr>\n",
       "      <th>141</th>\n",
       "      <td>Estonia</td>\n",
       "      <td>0.000148</td>\n",
       "      <td>2</td>\n",
       "    </tr>\n",
       "  </tbody>\n",
       "</table>\n",
       "</div>"
      ],
      "text/plain": [
       "                       origin  betweenness  n_neightbours\n",
       "0    United States of America     0.088410              2\n",
       "7                      Canada     0.021672              1\n",
       "11                    Germany     0.016420              9\n",
       "13                     France     0.015673              8\n",
       "15                      Italy     0.012157              6\n",
       "16                    Belgium     0.012111              4\n",
       "22                     Latvia     0.009413              4\n",
       "30                Netherlands     0.007397              2\n",
       "42                    Romania     0.005401              5\n",
       "47                     Greece     0.004380              4\n",
       "51                      Spain     0.003725              5\n",
       "53                     Sweden     0.003626              2\n",
       "56                    Ireland     0.003192              1\n",
       "61                    Hungary     0.002899              7\n",
       "63                    Denmark     0.002699              1\n",
       "66                   Bulgaria     0.002594              5\n",
       "78                   Slovakia     0.001686              5\n",
       "79                     Poland     0.001613              7\n",
       "83                 Czech Rep.     0.001388              4\n",
       "88                   Portugal     0.001205              1\n",
       "101                   Austria     0.000894              8\n",
       "102                    Cyprus     0.000844              0\n",
       "119                   Finland     0.000469              3\n",
       "123                Luxembourg     0.000381              3\n",
       "127                  Slovenia     0.000330              4\n",
       "128                 Lithuania     0.000327              4\n",
       "132                     Malta     0.000271              0\n",
       "141                   Estonia     0.000148              2"
      ]
     },
     "execution_count": 70,
     "metadata": {},
     "output_type": "execute_result"
    }
   ],
   "source": [
    "df_betweenness_sem_rec = df_betweenness_sem_rec.merge(data_sem_recorte_geo, on=\"origin\", how=\"left\")\n",
    "df_filtrado_sem_rec_ano = df_betweenness_sem_rec[(df_betweenness_sem_rec['origin'].isin(lista_paises_eu_america))]\n",
    "df_filtrado_sem_rec_ano"
   ]
  },
  {
   "cell_type": "markdown",
   "id": "b457842e",
   "metadata": {},
   "source": [
    "#### Regressão\n",
    "\n",
    "Com os resultados obtidos no processo acima, obtivemos a tabela logo acima dessa célula, a df_filtrado_sem_rec_ano, correlacionando o valor do betweenness com o recorte proposto e, para podermos analisar se o recorte realmente faz sentido e faria com que a hipótese não corroborasse mais, precisamos realizar uma regressão linear, uma vez que a variável dependente (betweenness) é um valor contínuo (métrica)."
   ]
  },
  {
   "cell_type": "code",
   "execution_count": 71,
   "id": "88a0f589",
   "metadata": {
    "collapsed": true
   },
   "outputs": [
    {
     "data": {
      "text/html": [
       "<table class=\"simpletable\">\n",
       "<caption>OLS Regression Results</caption>\n",
       "<tr>\n",
       "  <th>Dep. Variable:</th>       <td>betweenness</td>   <th>  R-squared:         </th> <td>   0.002</td>\n",
       "</tr>\n",
       "<tr>\n",
       "  <th>Model:</th>                   <td>OLS</td>       <th>  Adj. R-squared:    </th> <td>  -0.036</td>\n",
       "</tr>\n",
       "<tr>\n",
       "  <th>Method:</th>             <td>Least Squares</td>  <th>  F-statistic:       </th> <td> 0.05430</td>\n",
       "</tr>\n",
       "<tr>\n",
       "  <th>Date:</th>             <td>Sun, 20 Nov 2022</td> <th>  Prob (F-statistic):</th>  <td> 0.818</td> \n",
       "</tr>\n",
       "<tr>\n",
       "  <th>Time:</th>                 <td>05:15:14</td>     <th>  Log-Likelihood:    </th> <td>  75.248</td>\n",
       "</tr>\n",
       "<tr>\n",
       "  <th>No. Observations:</th>      <td>    28</td>      <th>  AIC:               </th> <td>  -146.5</td>\n",
       "</tr>\n",
       "<tr>\n",
       "  <th>Df Residuals:</th>          <td>    26</td>      <th>  BIC:               </th> <td>  -143.8</td>\n",
       "</tr>\n",
       "<tr>\n",
       "  <th>Df Model:</th>              <td>     1</td>      <th>                     </th>     <td> </td>   \n",
       "</tr>\n",
       "<tr>\n",
       "  <th>Covariance Type:</th>      <td>nonrobust</td>    <th>                     </th>     <td> </td>   \n",
       "</tr>\n",
       "</table>\n",
       "<table class=\"simpletable\">\n",
       "<tr>\n",
       "        <td></td>           <th>coef</th>     <th>std err</th>      <th>t</th>      <th>P>|t|</th>  <th>[0.025</th>    <th>0.975]</th>  \n",
       "</tr>\n",
       "<tr>\n",
       "  <th>Intercept</th>     <td>    0.0091</td> <td>    0.006</td> <td>    1.517</td> <td> 0.141</td> <td>   -0.003</td> <td>    0.021</td>\n",
       "</tr>\n",
       "<tr>\n",
       "  <th>n_neightbours</th> <td>   -0.0003</td> <td>    0.001</td> <td>   -0.233</td> <td> 0.818</td> <td>   -0.003</td> <td>    0.002</td>\n",
       "</tr>\n",
       "</table>\n",
       "<table class=\"simpletable\">\n",
       "<tr>\n",
       "  <th>Omnibus:</th>       <td>57.457</td> <th>  Durbin-Watson:     </th> <td>   0.601</td>\n",
       "</tr>\n",
       "<tr>\n",
       "  <th>Prob(Omnibus):</th> <td> 0.000</td> <th>  Jarque-Bera (JB):  </th> <td> 410.012</td>\n",
       "</tr>\n",
       "<tr>\n",
       "  <th>Skew:</th>          <td> 4.075</td> <th>  Prob(JB):          </th> <td>9.27e-90</td>\n",
       "</tr>\n",
       "<tr>\n",
       "  <th>Kurtosis:</th>      <td>19.883</td> <th>  Cond. No.          </th> <td>    8.70</td>\n",
       "</tr>\n",
       "</table><br/><br/>Notes:<br/>[1] Standard Errors assume that the covariance matrix of the errors is correctly specified."
      ],
      "text/plain": [
       "<class 'statsmodels.iolib.summary.Summary'>\n",
       "\"\"\"\n",
       "                            OLS Regression Results                            \n",
       "==============================================================================\n",
       "Dep. Variable:            betweenness   R-squared:                       0.002\n",
       "Model:                            OLS   Adj. R-squared:                 -0.036\n",
       "Method:                 Least Squares   F-statistic:                   0.05430\n",
       "Date:                Sun, 20 Nov 2022   Prob (F-statistic):              0.818\n",
       "Time:                        05:15:14   Log-Likelihood:                 75.248\n",
       "No. Observations:                  28   AIC:                            -146.5\n",
       "Df Residuals:                      26   BIC:                            -143.8\n",
       "Df Model:                           1                                         \n",
       "Covariance Type:            nonrobust                                         \n",
       "=================================================================================\n",
       "                    coef    std err          t      P>|t|      [0.025      0.975]\n",
       "---------------------------------------------------------------------------------\n",
       "Intercept         0.0091      0.006      1.517      0.141      -0.003       0.021\n",
       "n_neightbours    -0.0003      0.001     -0.233      0.818      -0.003       0.002\n",
       "==============================================================================\n",
       "Omnibus:                       57.457   Durbin-Watson:                   0.601\n",
       "Prob(Omnibus):                  0.000   Jarque-Bera (JB):              410.012\n",
       "Skew:                           4.075   Prob(JB):                     9.27e-90\n",
       "Kurtosis:                      19.883   Cond. No.                         8.70\n",
       "==============================================================================\n",
       "\n",
       "Notes:\n",
       "[1] Standard Errors assume that the covariance matrix of the errors is correctly specified.\n",
       "\"\"\""
      ]
     },
     "execution_count": 71,
     "metadata": {},
     "output_type": "execute_result"
    }
   ],
   "source": [
    "result_hip3_sem_rec = reg.linear(data=df_filtrado_sem_rec_ano, formula='betweenness ~ n_neightbours')\n",
    "result_hip3_sem_rec.summary()"
   ]
  },
  {
   "cell_type": "code",
   "execution_count": 73,
   "id": "1299088a",
   "metadata": {},
   "outputs": [
    {
     "data": {
      "text/html": [
       "<style type=\"text/css\">\n",
       "#T_9bd93_row0_col0 {\n",
       "  font-family: monospace;\n",
       "  text-align: left;\n",
       "}\n",
       "</style>\n",
       "<table id=\"T_9bd93\">\n",
       "  <thead>\n",
       "  </thead>\n",
       "  <tbody>\n",
       "    <tr>\n",
       "      <td id=\"T_9bd93_row0_col0\" class=\"data row0 col0\" >-0.000 (0.001)</td>\n",
       "    </tr>\n",
       "  </tbody>\n",
       "</table>\n"
      ],
      "text/plain": [
       "<pandas.io.formats.style.Styler at 0x7f0dc3ee37f0>"
      ]
     },
     "execution_count": 73,
     "metadata": {},
     "output_type": "execute_result"
    }
   ],
   "source": [
    "result_hip3_sem_rec.nano_summary()"
   ]
  },
  {
   "cell_type": "code",
   "execution_count": 74,
   "id": "dc7db55a",
   "metadata": {
    "collapsed": true
   },
   "outputs": [
    {
     "data": {
      "image/png": "[encoded data removed]",
      "text/plain": [
       "<Figure size 1280x480 with 2 Axes>"
      ]
     },
     "metadata": {},
     "output_type": "display_data"
    }
   ],
   "source": [
    "result_hip3_sem_rec.plot_residuals()"
   ]
  },
  {
   "cell_type": "markdown",
   "id": "69c1763f",
   "metadata": {},
   "source": [
    "\n",
    "## Hipóteses 4: Desenvolvimento tem relação com vazão de pessoas\n",
    "\n",
    "### C : EXT: DSV, CORE, CONP"
   ]
  },
  {
   "cell_type": "markdown",
   "id": "62d1500f",
   "metadata": {},
   "source": [
    "#### Explicação:\n",
    "\n",
    "Essa hipótese correlaciona o desenvolvimento socioeconômico do país (medido pelo IDH) com a vazão de pessoas. Ou seja, quanto menor for o desenvolvimento de uma nação, maior é a sua saída de pessoas, uma vez que, visando melhores condições de vida ou a própria sobrevivência, pessoas podem sair de um país, devido ao seu baixo desenvolvimento, em maior quantidade do que em países com um IDH alto. Além disso, a saída de pessoas também está correlacionada com o coreness e a contenção populacional (variáveis de controle), uma vez que quanto maior a vazão de pessoas, mais ao centro esse país está e menor é a sua contenção populacional.\n",
    "\n",
    "#### Recorte: Países da União Europeia (UE) e da América Anglo-saxônica\n",
    "\n",
    "Esse recorte foi pensado pois, ao tratarmos dos países da UE e da América Anglo-Saxônica, a saída de pessoas foi onde mais se alterou com o passar dos anos durante o século 21, além de ter seu IDH variando durante épocas de crise e pandemias durante esses anos de 2000 a 2016, o que pode resultar em países com alto IDH e, mesmo assim, uma alta vazão de pessoas, deixando de corroborar com a hipótese 4."
   ]
  },
  {
   "cell_type": "code",
   "execution_count": 79,
   "id": "a1ce454e",
   "metadata": {
    "collapsed": true
   },
   "outputs": [
    {
     "name": "stderr",
     "output_type": "stream",
     "text": [
      "/tmp/ipykernel_12/1617968471.py:1: FutureWarning: The default value of numeric_only in DataFrameGroupBy.sum is deprecated. In a future version, numeric_only will default to False. Either specify numeric_only or select only columns which should be valid for the function.\n",
      "  df_sem_rec_out = df_sem_rec.groupby('origin').sum().reindex(listaVertices).fillna(0)\n"
     ]
    },
    {
     "data": {
      "text/html": [
       "<div>\n",
       "<style scoped>\n",
       "    .dataframe tbody tr th:only-of-type {\n",
       "        vertical-align: middle;\n",
       "    }\n",
       "\n",
       "    .dataframe tbody tr th {\n",
       "        vertical-align: top;\n",
       "    }\n",
       "\n",
       "    .dataframe thead th {\n",
       "        text-align: right;\n",
       "    }\n",
       "</style>\n",
       "<table border=\"1\" class=\"dataframe\">\n",
       "  <thead>\n",
       "    <tr style=\"text-align: right;\">\n",
       "      <th></th>\n",
       "      <th>value</th>\n",
       "    </tr>\n",
       "    <tr>\n",
       "      <th>origin</th>\n",
       "      <th></th>\n",
       "    </tr>\n",
       "  </thead>\n",
       "  <tbody>\n",
       "    <tr>\n",
       "      <th>American Samoa</th>\n",
       "      <td>0.0</td>\n",
       "    </tr>\n",
       "    <tr>\n",
       "      <th>Romania</th>\n",
       "      <td>2478.0</td>\n",
       "    </tr>\n",
       "    <tr>\n",
       "      <th>Holy See (the)</th>\n",
       "      <td>0.0</td>\n",
       "    </tr>\n",
       "    <tr>\n",
       "      <th>Austria</th>\n",
       "      <td>5.0</td>\n",
       "    </tr>\n",
       "    <tr>\n",
       "      <th>Poland</th>\n",
       "      <td>817.0</td>\n",
       "    </tr>\n",
       "    <tr>\n",
       "      <th>...</th>\n",
       "      <td>...</td>\n",
       "    </tr>\n",
       "    <tr>\n",
       "      <th>Djibouti</th>\n",
       "      <td>1780.0</td>\n",
       "    </tr>\n",
       "    <tr>\n",
       "      <th>Montenegro</th>\n",
       "      <td>225.0</td>\n",
       "    </tr>\n",
       "    <tr>\n",
       "      <th>Luxembourg</th>\n",
       "      <td>0.0</td>\n",
       "    </tr>\n",
       "    <tr>\n",
       "      <th>Togo</th>\n",
       "      <td>6732.0</td>\n",
       "    </tr>\n",
       "    <tr>\n",
       "      <th>Iran (Islamic Rep. of)</th>\n",
       "      <td>126215.0</td>\n",
       "    </tr>\n",
       "  </tbody>\n",
       "</table>\n",
       "<p>225 rows × 1 columns</p>\n",
       "</div>"
      ],
      "text/plain": [
       "                           value\n",
       "origin                          \n",
       "American Samoa               0.0\n",
       "Romania                   2478.0\n",
       "Holy See (the)               0.0\n",
       "Austria                      5.0\n",
       "Poland                     817.0\n",
       "...                          ...\n",
       "Djibouti                  1780.0\n",
       "Montenegro                 225.0\n",
       "Luxembourg                   0.0\n",
       "Togo                      6732.0\n",
       "Iran (Islamic Rep. of)  126215.0\n",
       "\n",
       "[225 rows x 1 columns]"
      ]
     },
     "execution_count": 79,
     "metadata": {},
     "output_type": "execute_result"
    }
   ],
   "source": [
    "df_sem_rec_out = df_sem_rec.groupby('origin').sum().reindex(listaVertices).fillna(0)\n",
    "df_sem_rec_out.sort_values(\"value\", ascending = False)\n",
    "df_sem_rec_out"
   ]
  },
  {
   "cell_type": "code",
   "execution_count": 80,
   "id": "e7a04f91",
   "metadata": {},
   "outputs": [],
   "source": [
    "g5 = gt_load('/grafo_sem_rec_ue.net.gz')"
   ]
  },
  {
   "cell_type": "code",
   "execution_count": 81,
   "id": "cc41a8ad",
   "metadata": {},
   "outputs": [],
   "source": [
    "m = gt_draw.sfdp_layout(g5)\n",
    "gt_move(g5, m)\n",
    "gt_save(g5, 'grafo_sem_rec_ue.net.gz')"
   ]
  },
  {
   "cell_type": "code",
   "execution_count": 82,
   "id": "6bc9ac5f",
   "metadata": {
    "collapsed": true
   },
   "outputs": [
    {
     "data": {
      "text/html": [
       "\n",
       "        <div id=\"m4b6DTuqEE52F9DDC23qDW\"></div>\n",
       "        <script>netpixi.render('m4b6DTuqEE52F9DDC23qDW', 'grafo_sem_rec_ue.net.gz', 1.7777777777777777, true, true, false);</script>\n",
       "    "
      ],
      "text/plain": [
       "<IPython.core.display.HTML object>"
      ]
     },
     "metadata": {},
     "output_type": "display_data"
    }
   ],
   "source": [
    "r5 = netpixi.render('grafo_sem_rec_ue.net.gz', infinite=True);"
   ]
  },
  {
   "cell_type": "code",
   "execution_count": 83,
   "id": "9b060dcd",
   "metadata": {},
   "outputs": [
    {
     "data": {
      "text/html": [
       "\n",
       "        <div id=\"2FmypARWvYxmEmYjTJH52g\"></div>\n",
       "        <script>netpixi.call('2FmypARWvYxmEmYjTJH52g', 'm4b6DTuqEE52F9DDC23qDW', 'setGraph', 'eyJ0eXBlIjogInZlcnRleCIsICJwcm9wcyI6IHsic3JjIjogIm5vbWUiLCAiZHN0IjogIl9rZXkifX0K');</script>\n",
       "    "
      ],
      "text/plain": [
       "<IPython.core.display.HTML object>"
      ]
     },
     "metadata": {},
     "output_type": "display_data"
    },
    {
     "data": {
      "text/html": [
       "\n",
       "        <div id=\"V2sf2PxEgxvtZnXyP5UiDg\"></div>\n",
       "        <script>netpixi.call('V2sf2PxEgxvtZnXyP5UiDg', 'm4b6DTuqEE52F9DDC23qDW', 'changeGraph', 'eyJ0eXBlIjogInNldHRpbmdzIiwgInByb3BzIjogeyJ2ZXJ0ZXgiOiB7ImNvbG9yIjogMTY3NzcyMTV9fX0K');</script>\n",
       "    "
      ],
      "text/plain": [
       "<IPython.core.display.HTML object>"
      ]
     },
     "metadata": {},
     "output_type": "display_data"
    },
    {
     "data": {
      "text/html": [
       "\n",
       "        <div id=\"YuRjXXnvCyBc5WiGfjHYTK\"></div>\n",
       "        <script>netpixi.call('YuRjXXnvCyBc5WiGfjHYTK', 'm4b6DTuqEE52F9DDC23qDW', 'changeGraph', 'eyJ0eXBlIjogInNldHRpbmdzIiwgInByb3BzIjogeyJlZGdlIjogeyJjb2xvciI6IDIxNDI4OTB9fX0K');</script>\n",
       "    "
      ],
      "text/plain": [
       "<IPython.core.display.HTML object>"
      ]
     },
     "metadata": {},
     "output_type": "display_data"
    }
   ],
   "source": [
    "r5.vertex_set_key('nome')\n",
    "r5.vertex_default(color=0xffffff)\n",
    "# mudar a cor, a espessura e a curvatura das arestas\n",
    "r5.edge_default(color=0x20B2AA)"
   ]
  },
  {
   "cell_type": "code",
   "execution_count": 84,
   "id": "210ca40d",
   "metadata": {},
   "outputs": [
    {
     "data": {
      "text/html": [
       "\n",
       "        <div id=\"Z5WSWjoaiUgdGaZGaXcssN\"></div>\n",
       "        <script>netpixi.call('Z5WSWjoaiUgdGaZGaXcssN', 'm4b6DTuqEE52F9DDC23qDW', 'normalizeGraph', 'eyJ0eXBlIjogImVkZ2UiLCAicHJvcHMiOiB7InNyYyI6ICJhY2VpdG9zIiwgIm1pbiI6IDEsICJtYXgiOiAxMH19Cg==');</script>\n",
       "    "
      ],
      "text/plain": [
       "<IPython.core.display.HTML object>"
      ]
     },
     "metadata": {},
     "output_type": "display_data"
    }
   ],
   "source": [
    "r5.edge_scale('aceitos', 1, 10)"
   ]
  },
  {
   "cell_type": "code",
   "execution_count": 85,
   "id": "5c183df2",
   "metadata": {},
   "outputs": [],
   "source": [
    "g5 =  gt_load('/grafo_sem_rec_ue.net.gz')"
   ]
  },
  {
   "cell_type": "code",
   "execution_count": 86,
   "id": "26cdddea",
   "metadata": {},
   "outputs": [],
   "source": [
    "m = gt_draw.sfdp_layout(g5)\n",
    "gt_move(g5, m)\n",
    "gt_save(g5, 'centralidadeCorenessSemRecAno.net.gz')"
   ]
  },
  {
   "cell_type": "code",
   "execution_count": 99,
   "id": "285f496c",
   "metadata": {},
   "outputs": [],
   "source": [
    "r5 = netpixi.render('centralidadeCorenessSemRecAno.net.gz')"
   ]
  },
  {
   "cell_type": "code",
   "execution_count": 88,
   "id": "1ff976cb",
   "metadata": {},
   "outputs": [
    {
     "name": "stderr",
     "output_type": "stream",
     "text": [
      "<frozen importlib._bootstrap>:914: ImportWarning: VendorImporter.find_spec() not found; falling back to find_module()\n"
     ]
    },
    {
     "data": {
      "text/html": [
       "\n",
       "        <div id=\"8VShDVRrRbtX3f99bxw3xv\"></div>\n",
       "        <script>netpixi.call('8VShDVRrRbtX3f99bxw3xv', 'Eaz8F2YQinWczTHUBAqaYt', 'changeGraph', 'eyJpZCI6ICJBbWVyaWNhbiBTYW1vYSIsICJ0eXBlIjogInZlcnRleCIsICJwcm9wcyI6IHsiY29sb3IiOiA2NTI4MH19Cg==');</script>\n",
       "    "
      ],
      "text/plain": [
       "<IPython.core.display.HTML object>"
      ]
     },
     "metadata": {},
     "output_type": "display_data"
    },
    {
     "data": {
      "text/html": [
       "\n",
       "        <div id=\"YGask3oqCzsJfsNmPeXA3x\"></div>\n",
       "        <script>netpixi.call('YGask3oqCzsJfsNmPeXA3x', 'Eaz8F2YQinWczTHUBAqaYt', 'changeGraph', 'eyJpZCI6ICJSb21hbmlhIiwgInR5cGUiOiAidmVydGV4IiwgInByb3BzIjogeyJjb2xvciI6IDE2NzExNjgwfX0K');</script>\n",
       "    "
      ],
      "text/plain": [
       "<IPython.core.display.HTML object>"
      ]
     },
     "metadata": {},
     "output_type": "display_data"
    },
    {
     "data": {
      "text/html": [
       "\n",
       "        <div id=\"TxzYSyFQKp4ZLw3U6VU8jV\"></div>\n",
       "        <script>netpixi.call('TxzYSyFQKp4ZLw3U6VU8jV', 'Eaz8F2YQinWczTHUBAqaYt', 'changeGraph', 'eyJpZCI6ICJIb2x5IFNlZSAodGhlKSIsICJ0eXBlIjogInZlcnRleCIsICJwcm9wcyI6IHsiY29sb3IiOiA2NTI4MH19Cg==');</script>\n",
       "    "
      ],
      "text/plain": [
       "<IPython.core.display.HTML object>"
      ]
     },
     "metadata": {},
     "output_type": "display_data"
    },
    {
     "data": {
      "text/html": [
       "\n",
       "        <div id=\"ZprF2cLAASuMGBZBTJ2R3V\"></div>\n",
       "        <script>netpixi.call('ZprF2cLAASuMGBZBTJ2R3V', 'Eaz8F2YQinWczTHUBAqaYt', 'changeGraph', 'eyJpZCI6ICJBdXN0cmlhIiwgInR5cGUiOiAidmVydGV4IiwgInByb3BzIjogeyJjb2xvciI6IDE2NzExNjgwfX0K');</script>\n",
       "    "
      ],
      "text/plain": [
       "<IPython.core.display.HTML object>"
      ]
     },
     "metadata": {},
     "output_type": "display_data"
    },
    {
     "data": {
      "text/html": [
       "\n",
       "        <div id=\"SrPpDDRSNYJZRRAShyKdhS\"></div>\n",
       "        <script>netpixi.call('SrPpDDRSNYJZRRAShyKdhS', 'Eaz8F2YQinWczTHUBAqaYt', 'changeGraph', 'eyJpZCI6ICJQb2xhbmQiLCAidHlwZSI6ICJ2ZXJ0ZXgiLCAicHJvcHMiOiB7ImNvbG9yIjogMTY3MTE2ODB9fQo=');</script>\n",
       "    "
      ],
      "text/plain": [
       "<IPython.core.display.HTML object>"
      ]
     },
     "metadata": {},
     "output_type": "display_data"
    },
    {
     "data": {
      "text/html": [
       "\n",
       "        <div id=\"4NqELUHsWX5iJSUkUWhTN9\"></div>\n",
       "        <script>netpixi.call('4NqELUHsWX5iJSUkUWhTN9', 'Eaz8F2YQinWczTHUBAqaYt', 'changeGraph', 'eyJpZCI6ICJCb3Rzd2FuYSIsICJ0eXBlIjogInZlcnRleCIsICJwcm9wcyI6IHsiY29sb3IiOiA2NTI4MH19Cg==');</script>\n",
       "    "
      ],
      "text/plain": [
       "<IPython.core.display.HTML object>"
      ]
     },
     "metadata": {},
     "output_type": "display_data"
    },
    {
     "data": {
      "text/html": [
       "\n",
       "        <div id=\"QLYNEqtHNW3k3A9r9yNAjg\"></div>\n",
       "        <script>netpixi.call('QLYNEqtHNW3k3A9r9yNAjg', 'Eaz8F2YQinWczTHUBAqaYt', 'changeGraph', 'eyJpZCI6ICJHdWluZWEtQmlzc2F1IiwgInR5cGUiOiAidmVydGV4IiwgInByb3BzIjogeyJjb2xvciI6IDY1MjgwfX0K');</script>\n",
       "    "
      ],
      "text/plain": [
       "<IPython.core.display.HTML object>"
      ]
     },
     "metadata": {},
     "output_type": "display_data"
    },
    {
     "data": {
      "text/html": [
       "\n",
       "        <div id=\"66XbCsCAmfxjMEmBBzvCiW\"></div>\n",
       "        <script>netpixi.call('66XbCsCAmfxjMEmBBzvCiW', 'Eaz8F2YQinWczTHUBAqaYt', 'changeGraph', 'eyJpZCI6ICJTaW50IE1hYXJ0ZW4gKER1dGNoIHBhcnQpIiwgInR5cGUiOiAidmVydGV4IiwgInByb3BzIjogeyJjb2xvciI6IDY1MjgwfX0K');</script>\n",
       "    "
      ],
      "text/plain": [
       "<IPython.core.display.HTML object>"
      ]
     },
     "metadata": {},
     "output_type": "display_data"
    },
    {
     "data": {
      "text/html": [
       "\n",
       "        <div id=\"LdQvNvV4AwCydVi33AUSSv\"></div>\n",
       "        <script>netpixi.call('LdQvNvV4AwCydVi33AUSSv', 'Eaz8F2YQinWczTHUBAqaYt', 'changeGraph', 'eyJpZCI6ICJNaWNyb25lc2lhIChGZWRlcmF0ZWQgU3RhdGVzIG9mKSIsICJ0eXBlIjogInZlcnRleCIsICJwcm9wcyI6IHsiY29sb3IiOiA2NTI4MH19Cg==');</script>\n",
       "    "
      ],
      "text/plain": [
       "<IPython.core.display.HTML object>"
      ]
     },
     "metadata": {},
     "output_type": "display_data"
    },
    {
     "data": {
      "text/html": [
       "\n",
       "        <div id=\"AZfLJVWUHST2HLq5dZb5Et\"></div>\n",
       "        <script>netpixi.call('AZfLJVWUHST2HLq5dZb5Et', 'Eaz8F2YQinWczTHUBAqaYt', 'changeGraph', 'eyJpZCI6ICJFZ3lwdCIsICJ0eXBlIjogInZlcnRleCIsICJwcm9wcyI6IHsiY29sb3IiOiAxNjcxMTY4MH19Cg==');</script>\n",
       "    "
      ],
      "text/plain": [
       "<IPython.core.display.HTML object>"
      ]
     },
     "metadata": {},
     "output_type": "display_data"
    },
    {
     "data": {
      "text/html": [
       "\n",
       "        <div id=\"4ScFuJwdFLQQMmYDDCmSQS\"></div>\n",
       "        <script>netpixi.call('4ScFuJwdFLQQMmYDDCmSQS', 'Eaz8F2YQinWczTHUBAqaYt', 'changeGraph', 'eyJpZCI6ICJGcmVuY2ggUG9seW5lc2lhIiwgInR5cGUiOiAidmVydGV4IiwgInByb3BzIjogeyJjb2xvciI6IDY1MjgwfX0K');</script>\n",
       "    "
      ],
      "text/plain": [
       "<IPython.core.display.HTML object>"
      ]
     },
     "metadata": {},
     "output_type": "display_data"
    },
    {
     "data": {
      "text/html": [
       "\n",
       "        <div id=\"RWYFwmHNCm9J9wSj4wd8Vd\"></div>\n",
       "        <script>netpixi.call('RWYFwmHNCm9J9wSj4wd8Vd', 'Eaz8F2YQinWczTHUBAqaYt', 'changeGraph', 'eyJpZCI6ICJaaW1iYWJ3ZSIsICJ0eXBlIjogInZlcnRleCIsICJwcm9wcyI6IHsiY29sb3IiOiA2NTI4MH19Cg==');</script>\n",
       "    "
      ],
      "text/plain": [
       "<IPython.core.display.HTML object>"
      ]
     },
     "metadata": {},
     "output_type": "display_data"
    },
    {
     "data": {
      "text/html": [
       "\n",
       "        <div id=\"EuRqRtWXPcs7TDsy8ztLug\"></div>\n",
       "        <script>netpixi.call('EuRqRtWXPcs7TDsy8ztLug', 'Eaz8F2YQinWczTHUBAqaYt', 'changeGraph', 'eyJpZCI6ICJFdGhpb3BpYSIsICJ0eXBlIjogInZlcnRleCIsICJwcm9wcyI6IHsiY29sb3IiOiA2NTI4MH19Cg==');</script>\n",
       "    "
      ],
      "text/plain": [
       "<IPython.core.display.HTML object>"
      ]
     },
     "metadata": {},
     "output_type": "display_data"
    },
    {
     "data": {
      "text/html": [
       "\n",
       "        <div id=\"XGfXqLaePmPinsTRFv6nWU\"></div>\n",
       "        <script>netpixi.call('XGfXqLaePmPinsTRFv6nWU', 'Eaz8F2YQinWczTHUBAqaYt', 'changeGraph', 'eyJpZCI6ICJBemVyYmFpamFuIiwgInR5cGUiOiAidmVydGV4IiwgInByb3BzIjogeyJjb2xvciI6IDY1MjgwfX0K');</script>\n",
       "    "
      ],
      "text/plain": [
       "<IPython.core.display.HTML object>"
      ]
     },
     "metadata": {},
     "output_type": "display_data"
    },
    {
     "data": {
      "text/html": [
       "\n",
       "        <div id=\"94vKfMpmZCAtrsHN5wezYL\"></div>\n",
       "        <script>netpixi.call('94vKfMpmZCAtrsHN5wezYL', 'Eaz8F2YQinWczTHUBAqaYt', 'changeGraph', 'eyJpZCI6ICJCZWxnaXVtIiwgInR5cGUiOiAidmVydGV4IiwgInByb3BzIjogeyJjb2xvciI6IDE2NzExNjgwfX0K');</script>\n",
       "    "
      ],
      "text/plain": [
       "<IPython.core.display.HTML object>"
      ]
     },
     "metadata": {},
     "output_type": "display_data"
    },
    {
     "data": {
      "text/html": [
       "\n",
       "        <div id=\"KNP6tLRSiZBa58x6FeuZXy\"></div>\n",
       "        <script>netpixi.call('KNP6tLRSiZBa58x6FeuZXy', 'Eaz8F2YQinWczTHUBAqaYt', 'changeGraph', 'eyJpZCI6ICJTb3V0aCBBZnJpY2EiLCAidHlwZSI6ICJ2ZXJ0ZXgiLCAicHJvcHMiOiB7ImNvbG9yIjogMTY3MTE2ODB9fQo=');</script>\n",
       "    "
      ],
      "text/plain": [
       "<IPython.core.display.HTML object>"
      ]
     },
     "metadata": {},
     "output_type": "display_data"
    },
    {
     "data": {
      "text/html": [
       "\n",
       "        <div id=\"eithCNbChRn7UXm3HPt8eT\"></div>\n",
       "        <script>netpixi.call('eithCNbChRn7UXm3HPt8eT', 'Eaz8F2YQinWczTHUBAqaYt', 'changeGraph', 'eyJpZCI6ICJDYXltYW4gSXNsYW5kcyIsICJ0eXBlIjogInZlcnRleCIsICJwcm9wcyI6IHsiY29sb3IiOiA2NTI4MH19Cg==');</script>\n",
       "    "
      ],
      "text/plain": [
       "<IPython.core.display.HTML object>"
      ]
     },
     "metadata": {},
     "output_type": "display_data"
    },
    {
     "data": {
      "text/html": [
       "\n",
       "        <div id=\"7ic2U4uEwrSfJFFwk9Wqyx\"></div>\n",
       "        <script>netpixi.call('7ic2U4uEwrSfJFFwk9Wqyx', 'Eaz8F2YQinWczTHUBAqaYt', 'changeGraph', 'eyJpZCI6ICJMZXNvdGhvIiwgInR5cGUiOiAidmVydGV4IiwgInByb3BzIjogeyJjb2xvciI6IDY1MjgwfX0K');</script>\n",
       "    "
      ],
      "text/plain": [
       "<IPython.core.display.HTML object>"
      ]
     },
     "metadata": {},
     "output_type": "display_data"
    },
    {
     "data": {
      "text/html": [
       "\n",
       "        <div id=\"in3Kei5QM3KQaiaFajZXaN\"></div>\n",
       "        <script>netpixi.call('in3Kei5QM3KQaiaFajZXaN', 'Eaz8F2YQinWczTHUBAqaYt', 'changeGraph', 'eyJpZCI6ICJBcm1lbmlhIiwgInR5cGUiOiAidmVydGV4IiwgInByb3BzIjogeyJjb2xvciI6IDY1MjgwfX0K');</script>\n",
       "    "
      ],
      "text/plain": [
       "<IPython.core.display.HTML object>"
      ]
     },
     "metadata": {},
     "output_type": "display_data"
    },
    {
     "data": {
      "text/html": [
       "\n",
       "        <div id=\"kJMV8robU5coEaSnQuRVL3\"></div>\n",
       "        <script>netpixi.call('kJMV8robU5coEaSnQuRVL3', 'Eaz8F2YQinWczTHUBAqaYt', 'changeGraph', 'eyJpZCI6ICJNYXVyaXRpdXMiLCAidHlwZSI6ICJ2ZXJ0ZXgiLCAicHJvcHMiOiB7ImNvbG9yIjogNjUyODB9fQo=');</script>\n",
       "    "
      ],
      "text/plain": [
       "<IPython.core.display.HTML object>"
      ]
     },
     "metadata": {},
     "output_type": "display_data"
    },
    {
     "data": {
      "text/html": [
       "\n",
       "        <div id=\"ndsac7hFrQnPQ24s2BAReM\"></div>\n",
       "        <script>netpixi.call('ndsac7hFrQnPQ24s2BAReM', 'Eaz8F2YQinWczTHUBAqaYt', 'changeGraph', 'eyJpZCI6ICJMaXRodWFuaWEiLCAidHlwZSI6ICJ2ZXJ0ZXgiLCAicHJvcHMiOiB7ImNvbG9yIjogMTY3MTE2ODB9fQo=');</script>\n",
       "    "
      ],
      "text/plain": [
       "<IPython.core.display.HTML object>"
      ]
     },
     "metadata": {},
     "output_type": "display_data"
    },
    {
     "data": {
      "text/html": [
       "\n",
       "        <div id=\"nQMjuBrq9oiaeU5WR3vzn8\"></div>\n",
       "        <script>netpixi.call('nQMjuBrq9oiaeU5WR3vzn8', 'Eaz8F2YQinWczTHUBAqaYt', 'changeGraph', 'eyJpZCI6ICJTYWludC1QaWVycmUtZXQtTWlxdWVsb24iLCAidHlwZSI6ICJ2ZXJ0ZXgiLCAicHJvcHMiOiB7ImNvbG9yIjogNjUyODB9fQo=');</script>\n",
       "    "
      ],
      "text/plain": [
       "<IPython.core.display.HTML object>"
      ]
     },
     "metadata": {},
     "output_type": "display_data"
    },
    {
     "data": {
      "text/html": [
       "\n",
       "        <div id=\"KFQzuQUX3ySkReGg5XdaeS\"></div>\n",
       "        <script>netpixi.call('KFQzuQUX3ySkReGg5XdaeS', 'Eaz8F2YQinWczTHUBAqaYt', 'changeGraph', 'eyJpZCI6ICJDdXJhXHUwMGU3YW8iLCAidHlwZSI6ICJ2ZXJ0ZXgiLCAicHJvcHMiOiB7ImNvbG9yIjogNjUyODB9fQo=');</script>\n",
       "    "
      ],
      "text/plain": [
       "<IPython.core.display.HTML object>"
      ]
     },
     "metadata": {},
     "output_type": "display_data"
    },
    {
     "data": {
      "text/html": [
       "\n",
       "        <div id=\"RdrLC7EfAUtPP27aZpiAsR\"></div>\n",
       "        <script>netpixi.call('RdrLC7EfAUtPP27aZpiAsR', 'Eaz8F2YQinWczTHUBAqaYt', 'changeGraph', 'eyJpZCI6ICJUYWppa2lzdGFuIiwgInR5cGUiOiAidmVydGV4IiwgInByb3BzIjogeyJjb2xvciI6IDY1MjgwfX0K');</script>\n",
       "    "
      ],
      "text/plain": [
       "<IPython.core.display.HTML object>"
      ]
     },
     "metadata": {},
     "output_type": "display_data"
    },
    {
     "data": {
      "text/html": [
       "\n",
       "        <div id=\"GCP3kByKWC42wZLQpMSUYn\"></div>\n",
       "        <script>netpixi.call('GCP3kByKWC42wZLQpMSUYn', 'Eaz8F2YQinWczTHUBAqaYt', 'changeGraph', 'eyJpZCI6ICJTaW5nYXBvcmUiLCAidHlwZSI6ICJ2ZXJ0ZXgiLCAicHJvcHMiOiB7ImNvbG9yIjogNjUyODB9fQo=');</script>\n",
       "    "
      ],
      "text/plain": [
       "<IPython.core.display.HTML object>"
      ]
     },
     "metadata": {},
     "output_type": "display_data"
    },
    {
     "data": {
      "text/html": [
       "\n",
       "        <div id=\"E3YPMaMx2T5aKYottZyqGZ\"></div>\n",
       "        <script>netpixi.call('E3YPMaMx2T5aKYottZyqGZ', 'Eaz8F2YQinWczTHUBAqaYt', 'changeGraph', 'eyJpZCI6ICJCYWhhbWFzIiwgInR5cGUiOiAidmVydGV4IiwgInByb3BzIjogeyJjb2xvciI6IDY1MjgwfX0K');</script>\n",
       "    "
      ],
      "text/plain": [
       "<IPython.core.display.HTML object>"
      ]
     },
     "metadata": {},
     "output_type": "display_data"
    },
    {
     "data": {
      "text/html": [
       "\n",
       "        <div id=\"mjgMyhB9sSaPanibwyK2jo\"></div>\n",
       "        <script>netpixi.call('mjgMyhB9sSaPanibwyK2jo', 'Eaz8F2YQinWczTHUBAqaYt', 'changeGraph', 'eyJpZCI6ICJKYXBhbiIsICJ0eXBlIjogInZlcnRleCIsICJwcm9wcyI6IHsiY29sb3IiOiAxNjcxMTY4MH19Cg==');</script>\n",
       "    "
      ],
      "text/plain": [
       "<IPython.core.display.HTML object>"
      ]
     },
     "metadata": {},
     "output_type": "display_data"
    },
    {
     "data": {
      "text/html": [
       "\n",
       "        <div id=\"NEYWsZ7p9VdCwn9sgzeYcM\"></div>\n",
       "        <script>netpixi.call('NEYWsZ7p9VdCwn9sgzeYcM', 'Eaz8F2YQinWczTHUBAqaYt', 'changeGraph', 'eyJpZCI6ICJTd2l0emVybGFuZCIsICJ0eXBlIjogInZlcnRleCIsICJwcm9wcyI6IHsiY29sb3IiOiAxNjcxMTY4MH19Cg==');</script>\n",
       "    "
      ],
      "text/plain": [
       "<IPython.core.display.HTML object>"
      ]
     },
     "metadata": {},
     "output_type": "display_data"
    },
    {
     "data": {
      "text/html": [
       "\n",
       "        <div id=\"NRdsoCC9KVa6qz69vs4SPf\"></div>\n",
       "        <script>netpixi.call('NRdsoCC9KVa6qz69vs4SPf', 'Eaz8F2YQinWczTHUBAqaYt', 'changeGraph', 'eyJpZCI6ICJJY2VsYW5kIiwgInR5cGUiOiAidmVydGV4IiwgInByb3BzIjogeyJjb2xvciI6IDE2NzExNjgwfX0K');</script>\n",
       "    "
      ],
      "text/plain": [
       "<IPython.core.display.HTML object>"
      ]
     },
     "metadata": {},
     "output_type": "display_data"
    },
    {
     "data": {
      "text/html": [
       "\n",
       "        <div id=\"henrwwa3x2ceyBXbYvTygk\"></div>\n",
       "        <script>netpixi.call('henrwwa3x2ceyBXbYvTygk', 'Eaz8F2YQinWczTHUBAqaYt', 'changeGraph', 'eyJpZCI6ICJNb3JvY2NvIiwgInR5cGUiOiAidmVydGV4IiwgInByb3BzIjogeyJjb2xvciI6IDE2NzExNjgwfX0K');</script>\n",
       "    "
      ],
      "text/plain": [
       "<IPython.core.display.HTML object>"
      ]
     },
     "metadata": {},
     "output_type": "display_data"
    },
    {
     "data": {
      "text/html": [
       "\n",
       "        <div id=\"a3gjBZpYzcz6aLgE2gaDe3\"></div>\n",
       "        <script>netpixi.call('a3gjBZpYzcz6aLgE2gaDe3', 'Eaz8F2YQinWczTHUBAqaYt', 'changeGraph', 'eyJpZCI6ICJHdWF0ZW1hbGEiLCAidHlwZSI6ICJ2ZXJ0ZXgiLCAicHJvcHMiOiB7ImNvbG9yIjogNjUyODB9fQo=');</script>\n",
       "    "
      ],
      "text/plain": [
       "<IPython.core.display.HTML object>"
      ]
     },
     "metadata": {},
     "output_type": "display_data"
    },
    {
     "data": {
      "text/html": [
       "\n",
       "        <div id=\"JBZADJL3PVdXftAE8cdX3n\"></div>\n",
       "        <script>netpixi.call('JBZADJL3PVdXftAE8cdX3n', 'Eaz8F2YQinWczTHUBAqaYt', 'changeGraph', 'eyJpZCI6ICJDeXBydXMiLCAidHlwZSI6ICJ2ZXJ0ZXgiLCAicHJvcHMiOiB7ImNvbG9yIjogMTY3MTE2ODB9fQo=');</script>\n",
       "    "
      ],
      "text/plain": [
       "<IPython.core.display.HTML object>"
      ]
     },
     "metadata": {},
     "output_type": "display_data"
    },
    {
     "data": {
      "text/html": [
       "\n",
       "        <div id=\"kPindFNFUZoDUzbaVQsUqn\"></div>\n",
       "        <script>netpixi.call('kPindFNFUZoDUzbaVQsUqn', 'Eaz8F2YQinWczTHUBAqaYt', 'changeGraph', 'eyJpZCI6ICJFcml0cmVhIiwgInR5cGUiOiAidmVydGV4IiwgInByb3BzIjogeyJjb2xvciI6IDY1MjgwfX0K');</script>\n",
       "    "
      ],
      "text/plain": [
       "<IPython.core.display.HTML object>"
      ]
     },
     "metadata": {},
     "output_type": "display_data"
    },
    {
     "data": {
      "text/html": [
       "\n",
       "        <div id=\"fxr7xXogt9bAnpZ6egGydM\"></div>\n",
       "        <script>netpixi.call('fxr7xXogt9bAnpZ6egGydM', 'Eaz8F2YQinWczTHUBAqaYt', 'changeGraph', 'eyJpZCI6ICJJbmRvbmVzaWEiLCAidHlwZSI6ICJ2ZXJ0ZXgiLCAicHJvcHMiOiB7ImNvbG9yIjogMTY3MTE2ODB9fQo=');</script>\n",
       "    "
      ],
      "text/plain": [
       "<IPython.core.display.HTML object>"
      ]
     },
     "metadata": {},
     "output_type": "display_data"
    },
    {
     "data": {
      "text/html": [
       "\n",
       "        <div id=\"i88X9ydRjSEntudx64aoRC\"></div>\n",
       "        <script>netpixi.call('i88X9ydRjSEntudx64aoRC', 'Eaz8F2YQinWczTHUBAqaYt', 'changeGraph', 'eyJpZCI6ICJSd2FuZGEiLCAidHlwZSI6ICJ2ZXJ0ZXgiLCAicHJvcHMiOiB7ImNvbG9yIjogNjUyODB9fQo=');</script>\n",
       "    "
      ],
      "text/plain": [
       "<IPython.core.display.HTML object>"
      ]
     },
     "metadata": {},
     "output_type": "display_data"
    },
    {
     "data": {
      "text/html": [
       "\n",
       "        <div id=\"SsJ9HUcKDLUMbTG9jp8Cf7\"></div>\n",
       "        <script>netpixi.call('SsJ9HUcKDLUMbTG9jp8Cf7', 'Eaz8F2YQinWczTHUBAqaYt', 'changeGraph', 'eyJpZCI6ICJPbWFuIiwgInR5cGUiOiAidmVydGV4IiwgInByb3BzIjogeyJjb2xvciI6IDY1MjgwfX0K');</script>\n",
       "    "
      ],
      "text/plain": [
       "<IPython.core.display.HTML object>"
      ]
     },
     "metadata": {},
     "output_type": "display_data"
    },
    {
     "data": {
      "text/html": [
       "\n",
       "        <div id=\"ZMpkcHFRH3pZrGCgN8Wzxv\"></div>\n",
       "        <script>netpixi.call('ZMpkcHFRH3pZrGCgN8Wzxv', 'Eaz8F2YQinWczTHUBAqaYt', 'changeGraph', 'eyJpZCI6ICJNeWFubWFyIiwgInR5cGUiOiAidmVydGV4IiwgInByb3BzIjogeyJjb2xvciI6IDY1MjgwfX0K');</script>\n",
       "    "
      ],
      "text/plain": [
       "<IPython.core.display.HTML object>"
      ]
     },
     "metadata": {},
     "output_type": "display_data"
    },
    {
     "data": {
      "text/html": [
       "\n",
       "        <div id=\"c8GsapovPV54JshaL5RiKi\"></div>\n",
       "        <script>netpixi.call('c8GsapovPV54JshaL5RiKi', 'Eaz8F2YQinWczTHUBAqaYt', 'changeGraph', 'eyJpZCI6ICJUaWJldGFuIiwgInR5cGUiOiAidmVydGV4IiwgInByb3BzIjogeyJjb2xvciI6IDY1MjgwfX0K');</script>\n",
       "    "
      ],
      "text/plain": [
       "<IPython.core.display.HTML object>"
      ]
     },
     "metadata": {},
     "output_type": "display_data"
    },
    {
     "data": {
      "text/html": [
       "\n",
       "        <div id=\"UHCo93UNJQZegSZsZg3KdY\"></div>\n",
       "        <script>netpixi.call('UHCo93UNJQZegSZsZg3KdY', 'Eaz8F2YQinWczTHUBAqaYt', 'changeGraph', 'eyJpZCI6ICJTb2xvbW9uIElzbGFuZHMiLCAidHlwZSI6ICJ2ZXJ0ZXgiLCAicHJvcHMiOiB7ImNvbG9yIjogNjUyODB9fQo=');</script>\n",
       "    "
      ],
      "text/plain": [
       "<IPython.core.display.HTML object>"
      ]
     },
     "metadata": {},
     "output_type": "display_data"
    },
    {
     "data": {
      "text/html": [
       "\n",
       "        <div id=\"5MN4Nkz326wRyhUYqdg343\"></div>\n",
       "        <script>netpixi.call('5MN4Nkz326wRyhUYqdg343', 'Eaz8F2YQinWczTHUBAqaYt', 'changeGraph', 'eyJpZCI6ICJDb29rIElzbGFuZHMiLCAidHlwZSI6ICJ2ZXJ0ZXgiLCAicHJvcHMiOiB7ImNvbG9yIjogNjUyODB9fQo=');</script>\n",
       "    "
      ],
      "text/plain": [
       "<IPython.core.display.HTML object>"
      ]
     },
     "metadata": {},
     "output_type": "display_data"
    },
    {
     "data": {
      "text/html": [
       "\n",
       "        <div id=\"fwRTmeXtjsPuFwotTSwPEg\"></div>\n",
       "        <script>netpixi.call('fwRTmeXtjsPuFwotTSwPEg', 'Eaz8F2YQinWczTHUBAqaYt', 'changeGraph', 'eyJpZCI6ICJNYWxkaXZlcyIsICJ0eXBlIjogInZlcnRleCIsICJwcm9wcyI6IHsiY29sb3IiOiA2NTI4MH19Cg==');</script>\n",
       "    "
      ],
      "text/plain": [
       "<IPython.core.display.HTML object>"
      ]
     },
     "metadata": {},
     "output_type": "display_data"
    },
    {
     "data": {
      "text/html": [
       "\n",
       "        <div id=\"nyPLoqvkVWN8ZNGw3QXTiz\"></div>\n",
       "        <script>netpixi.call('nyPLoqvkVWN8ZNGw3QXTiz', 'Eaz8F2YQinWczTHUBAqaYt', 'changeGraph', 'eyJpZCI6ICJXZXN0ZXJuIFNhaGFyYSIsICJ0eXBlIjogInZlcnRleCIsICJwcm9wcyI6IHsiY29sb3IiOiA2NTI4MH19Cg==');</script>\n",
       "    "
      ],
      "text/plain": [
       "<IPython.core.display.HTML object>"
      ]
     },
     "metadata": {},
     "output_type": "display_data"
    },
    {
     "data": {
      "text/html": [
       "\n",
       "        <div id=\"FUuMKqxJQ3byK4p4KPGPgd\"></div>\n",
       "        <script>netpixi.call('FUuMKqxJQ3byK4p4KPGPgd', 'Eaz8F2YQinWczTHUBAqaYt', 'changeGraph', 'eyJpZCI6ICJRYXRhciIsICJ0eXBlIjogInZlcnRleCIsICJwcm9wcyI6IHsiY29sb3IiOiA2NTI4MH19Cg==');</script>\n",
       "    "
      ],
      "text/plain": [
       "<IPython.core.display.HTML object>"
      ]
     },
     "metadata": {},
     "output_type": "display_data"
    },
    {
     "data": {
      "text/html": [
       "\n",
       "        <div id=\"ML3Wb4qzHYgeMKzWovHsAW\"></div>\n",
       "        <script>netpixi.call('ML3Wb4qzHYgeMKzWovHsAW', 'Eaz8F2YQinWczTHUBAqaYt', 'changeGraph', 'eyJpZCI6ICJJcmVsYW5kIiwgInR5cGUiOiAidmVydGV4IiwgInByb3BzIjogeyJjb2xvciI6IDE2NzExNjgwfX0K');</script>\n",
       "    "
      ],
      "text/plain": [
       "<IPython.core.display.HTML object>"
      ]
     },
     "metadata": {},
     "output_type": "display_data"
    },
    {
     "data": {
      "text/html": [
       "\n",
       "        <div id=\"Pe9uvKTPVKMpuf2r5rsZ6v\"></div>\n",
       "        <script>netpixi.call('Pe9uvKTPVKMpuf2r5rsZ6v', 'Eaz8F2YQinWczTHUBAqaYt', 'changeGraph', 'eyJpZCI6ICJEZW5tYXJrIiwgInR5cGUiOiAidmVydGV4IiwgInByb3BzIjogeyJjb2xvciI6IDE2NzExNjgwfX0K');</script>\n",
       "    "
      ],
      "text/plain": [
       "<IPython.core.display.HTML object>"
      ]
     },
     "metadata": {},
     "output_type": "display_data"
    },
    {
     "data": {
      "text/html": [
       "\n",
       "        <div id=\"BYgRTHEbcFq9bN5MKeTV8S\"></div>\n",
       "        <script>netpixi.call('BYgRTHEbcFq9bN5MKeTV8S', 'Eaz8F2YQinWczTHUBAqaYt', 'changeGraph', 'eyJpZCI6ICJNb250c2VycmF0IiwgInR5cGUiOiAidmVydGV4IiwgInByb3BzIjogeyJjb2xvciI6IDY1MjgwfX0K');</script>\n",
       "    "
      ],
      "text/plain": [
       "<IPython.core.display.HTML object>"
      ]
     },
     "metadata": {},
     "output_type": "display_data"
    },
    {
     "data": {
      "text/html": [
       "\n",
       "        <div id=\"BqPwgBZn6rNVDWvGx3mpP2\"></div>\n",
       "        <script>netpixi.call('BqPwgBZn6rNVDWvGx3mpP2', 'Eaz8F2YQinWczTHUBAqaYt', 'changeGraph', 'eyJpZCI6ICJHdXlhbmEiLCAidHlwZSI6ICJ2ZXJ0ZXgiLCAicHJvcHMiOiB7ImNvbG9yIjogNjUyODB9fQo=');</script>\n",
       "    "
      ],
      "text/plain": [
       "<IPython.core.display.HTML object>"
      ]
     },
     "metadata": {},
     "output_type": "display_data"
    },
    {
     "data": {
      "text/html": [
       "\n",
       "        <div id=\"64iuW5yZhdhLaTvpEPx6Dj\"></div>\n",
       "        <script>netpixi.call('64iuW5yZhdhLaTvpEPx6Dj', 'Eaz8F2YQinWczTHUBAqaYt', 'changeGraph', 'eyJpZCI6ICJGaWppIiwgInR5cGUiOiAidmVydGV4IiwgInByb3BzIjogeyJjb2xvciI6IDY1MjgwfX0K');</script>\n",
       "    "
      ],
      "text/plain": [
       "<IPython.core.display.HTML object>"
      ]
     },
     "metadata": {},
     "output_type": "display_data"
    },
    {
     "data": {
      "text/html": [
       "\n",
       "        <div id=\"JqiegdQdC89sPxfojLk5j3\"></div>\n",
       "        <script>netpixi.call('JqiegdQdC89sPxfojLk5j3', 'Eaz8F2YQinWczTHUBAqaYt', 'changeGraph', 'eyJpZCI6ICJLYXpha2hzdGFuIiwgInR5cGUiOiAidmVydGV4IiwgInByb3BzIjogeyJjb2xvciI6IDY1MjgwfX0K');</script>\n",
       "    "
      ],
      "text/plain": [
       "<IPython.core.display.HTML object>"
      ]
     },
     "metadata": {},
     "output_type": "display_data"
    },
    {
     "data": {
      "text/html": [
       "\n",
       "        <div id=\"59cLs6RRu3e8CyHHxYWR4c\"></div>\n",
       "        <script>netpixi.call('59cLs6RRu3e8CyHHxYWR4c', 'Eaz8F2YQinWczTHUBAqaYt', 'changeGraph', 'eyJpZCI6ICJDYW5hZGEiLCAidHlwZSI6ICJ2ZXJ0ZXgiLCAicHJvcHMiOiB7ImNvbG9yIjogMTY3MTE2ODB9fQo=');</script>\n",
       "    "
      ],
      "text/plain": [
       "<IPython.core.display.HTML object>"
      ]
     },
     "metadata": {},
     "output_type": "display_data"
    },
    {
     "data": {
      "text/html": [
       "\n",
       "        <div id=\"hh8FFeU4qmYeWwZFsF89P5\"></div>\n",
       "        <script>netpixi.call('hh8FFeU4qmYeWwZFsF89P5', 'Eaz8F2YQinWczTHUBAqaYt', 'changeGraph', 'eyJpZCI6ICJTcGFpbiIsICJ0eXBlIjogInZlcnRleCIsICJwcm9wcyI6IHsiY29sb3IiOiAxNjcxMTY4MH19Cg==');</script>\n",
       "    "
      ],
      "text/plain": [
       "<IPython.core.display.HTML object>"
      ]
     },
     "metadata": {},
     "output_type": "display_data"
    },
    {
     "data": {
      "text/html": [
       "\n",
       "        <div id=\"Mvco6JNyhqgAuWaNNc5LEM\"></div>\n",
       "        <script>netpixi.call('Mvco6JNyhqgAuWaNNc5LEM', 'Eaz8F2YQinWczTHUBAqaYt', 'changeGraph', 'eyJpZCI6ICJTYW8gVG9tZSBhbmQgUHJpbmNpcGUiLCAidHlwZSI6ICJ2ZXJ0ZXgiLCAicHJvcHMiOiB7ImNvbG9yIjogNjUyODB9fQo=');</script>\n",
       "    "
      ],
      "text/plain": [
       "<IPython.core.display.HTML object>"
      ]
     },
     "metadata": {},
     "output_type": "display_data"
    },
    {
     "data": {
      "text/html": [
       "\n",
       "        <div id=\"HkCBjaJVcEjyLqRmqVDADn\"></div>\n",
       "        <script>netpixi.call('HkCBjaJVcEjyLqRmqVDADn', 'Eaz8F2YQinWczTHUBAqaYt', 'changeGraph', 'eyJpZCI6ICJTdWRhbiIsICJ0eXBlIjogInZlcnRleCIsICJwcm9wcyI6IHsiY29sb3IiOiAxNjcxMTY4MH19Cg==');</script>\n",
       "    "
      ],
      "text/plain": [
       "<IPython.core.display.HTML object>"
      ]
     },
     "metadata": {},
     "output_type": "display_data"
    },
    {
     "data": {
      "text/html": [
       "\n",
       "        <div id=\"jRBKoSGsGbr8X4QceFCgSC\"></div>\n",
       "        <script>netpixi.call('jRBKoSGsGbr8X4QceFCgSC', 'Eaz8F2YQinWczTHUBAqaYt', 'changeGraph', 'eyJpZCI6ICJBcnViYSIsICJ0eXBlIjogInZlcnRleCIsICJwcm9wcyI6IHsiY29sb3IiOiA2NTI4MH19Cg==');</script>\n",
       "    "
      ],
      "text/plain": [
       "<IPython.core.display.HTML object>"
      ]
     },
     "metadata": {},
     "output_type": "display_data"
    },
    {
     "data": {
      "text/html": [
       "\n",
       "        <div id=\"Xa2Jp3ukUZJtu6XUHhwJb7\"></div>\n",
       "        <script>netpixi.call('Xa2Jp3ukUZJtu6XUHhwJb7', 'Eaz8F2YQinWczTHUBAqaYt', 'changeGraph', 'eyJpZCI6ICJJc3JhZWwiLCAidHlwZSI6ICJ2ZXJ0ZXgiLCAicHJvcHMiOiB7ImNvbG9yIjogMTY3MTE2ODB9fQo=');</script>\n",
       "    "
      ],
      "text/plain": [
       "<IPython.core.display.HTML object>"
      ]
     },
     "metadata": {},
     "output_type": "display_data"
    },
    {
     "data": {
      "text/html": [
       "\n",
       "        <div id=\"dfTk6yqyjYNcJASpB4b5GD\"></div>\n",
       "        <script>netpixi.call('dfTk6yqyjYNcJASpB4b5GD', 'Eaz8F2YQinWczTHUBAqaYt', 'changeGraph', 'eyJpZCI6ICJOZXcgQ2FsZWRvbmlhIiwgInR5cGUiOiAidmVydGV4IiwgInByb3BzIjogeyJjb2xvciI6IDY1MjgwfX0K');</script>\n",
       "    "
      ],
      "text/plain": [
       "<IPython.core.display.HTML object>"
      ]
     },
     "metadata": {},
     "output_type": "display_data"
    },
    {
     "data": {
      "text/html": [
       "\n",
       "        <div id=\"nGba7HTfbDrzFUVnqZnCMp\"></div>\n",
       "        <script>netpixi.call('nGba7HTfbDrzFUVnqZnCMp', 'Eaz8F2YQinWczTHUBAqaYt', 'changeGraph', 'eyJpZCI6ICJVZ2FuZGEiLCAidHlwZSI6ICJ2ZXJ0ZXgiLCAicHJvcHMiOiB7ImNvbG9yIjogMTY3MTE2ODB9fQo=');</script>\n",
       "    "
      ],
      "text/plain": [
       "<IPython.core.display.HTML object>"
      ]
     },
     "metadata": {},
     "output_type": "display_data"
    },
    {
     "data": {
      "text/html": [
       "\n",
       "        <div id=\"8srWBof5dd3JkwqcyaFj99\"></div>\n",
       "        <script>netpixi.call('8srWBof5dd3JkwqcyaFj99', 'Eaz8F2YQinWczTHUBAqaYt', 'changeGraph', 'eyJpZCI6ICJDb2xvbWJpYSIsICJ0eXBlIjogInZlcnRleCIsICJwcm9wcyI6IHsiY29sb3IiOiAxNjcxMTY4MH19Cg==');</script>\n",
       "    "
      ],
      "text/plain": [
       "<IPython.core.display.HTML object>"
      ]
     },
     "metadata": {},
     "output_type": "display_data"
    },
    {
     "data": {
      "text/html": [
       "\n",
       "        <div id=\"Td8iqhdvj3go5FNYDNEQg9\"></div>\n",
       "        <script>netpixi.call('Td8iqhdvj3go5FNYDNEQg9', 'Eaz8F2YQinWczTHUBAqaYt', 'changeGraph', 'eyJpZCI6ICJNb3phbWJpcXVlIiwgInR5cGUiOiAidmVydGV4IiwgInByb3BzIjogeyJjb2xvciI6IDE2NzExNjgwfX0K');</script>\n",
       "    "
      ],
      "text/plain": [
       "<IPython.core.display.HTML object>"
      ]
     },
     "metadata": {},
     "output_type": "display_data"
    },
    {
     "data": {
      "text/html": [
       "\n",
       "        <div id=\"LXCZXp79DcEp7Unn2Tcgb7\"></div>\n",
       "        <script>netpixi.call('LXCZXp79DcEp7Unn2Tcgb7', 'Eaz8F2YQinWczTHUBAqaYt', 'changeGraph', 'eyJpZCI6ICJKYW1haWNhIiwgInR5cGUiOiAidmVydGV4IiwgInByb3BzIjogeyJjb2xvciI6IDY1MjgwfX0K');</script>\n",
       "    "
      ],
      "text/plain": [
       "<IPython.core.display.HTML object>"
      ]
     },
     "metadata": {},
     "output_type": "display_data"
    },
    {
     "data": {
      "text/html": [
       "\n",
       "        <div id=\"RHjjLRacGiUMpALfSxjQj7\"></div>\n",
       "        <script>netpixi.call('RHjjLRacGiUMpALfSxjQj7', 'Eaz8F2YQinWczTHUBAqaYt', 'changeGraph', 'eyJpZCI6ICJDaGlsZSIsICJ0eXBlIjogInZlcnRleCIsICJwcm9wcyI6IHsiY29sb3IiOiAxNjcxMTY4MH19Cg==');</script>\n",
       "    "
      ],
      "text/plain": [
       "<IPython.core.display.HTML object>"
      ]
     },
     "metadata": {},
     "output_type": "display_data"
    },
    {
     "data": {
      "text/html": [
       "\n",
       "        <div id=\"UVHzdQaFZCacpY3nNXkVgL\"></div>\n",
       "        <script>netpixi.call('UVHzdQaFZCacpY3nNXkVgL', 'Eaz8F2YQinWczTHUBAqaYt', 'changeGraph', 'eyJpZCI6ICJCaHV0YW4iLCAidHlwZSI6ICJ2ZXJ0ZXgiLCAicHJvcHMiOiB7ImNvbG9yIjogNjUyODB9fQo=');</script>\n",
       "    "
      ],
      "text/plain": [
       "<IPython.core.display.HTML object>"
      ]
     },
     "metadata": {},
     "output_type": "display_data"
    },
    {
     "data": {
      "text/html": [
       "\n",
       "        <div id=\"2e3eevMimq9DXbryZDtGqn\"></div>\n",
       "        <script>netpixi.call('2e3eevMimq9DXbryZDtGqn', 'Eaz8F2YQinWczTHUBAqaYt', 'changeGraph', 'eyJpZCI6ICJUdXJrcyBhbmQgQ2FpY29zIElzbGFuZHMiLCAidHlwZSI6ICJ2ZXJ0ZXgiLCAicHJvcHMiOiB7ImNvbG9yIjogNjUyODB9fQo=');</script>\n",
       "    "
      ],
      "text/plain": [
       "<IPython.core.display.HTML object>"
      ]
     },
     "metadata": {},
     "output_type": "display_data"
    },
    {
     "data": {
      "text/html": [
       "\n",
       "        <div id=\"J5ZEbh6p3oBbJTXmGDEy5W\"></div>\n",
       "        <script>netpixi.call('J5ZEbh6p3oBbJTXmGDEy5W', 'Eaz8F2YQinWczTHUBAqaYt', 'changeGraph', 'eyJpZCI6ICJGcmVuY2ggR3VpYW5hIiwgInR5cGUiOiAidmVydGV4IiwgInByb3BzIjogeyJjb2xvciI6IDY1MjgwfX0K');</script>\n",
       "    "
      ],
      "text/plain": [
       "<IPython.core.display.HTML object>"
      ]
     },
     "metadata": {},
     "output_type": "display_data"
    },
    {
     "data": {
      "text/html": [
       "\n",
       "        <div id=\"NAzXFoe7VLkQmhc4pHHWMH\"></div>\n",
       "        <script>netpixi.call('NAzXFoe7VLkQmhc4pHHWMH', 'Eaz8F2YQinWczTHUBAqaYt', 'changeGraph', 'eyJpZCI6ICJNYWxpIiwgInR5cGUiOiAidmVydGV4IiwgInByb3BzIjogeyJjb2xvciI6IDY1MjgwfX0K');</script>\n",
       "    "
      ],
      "text/plain": [
       "<IPython.core.display.HTML object>"
      ]
     },
     "metadata": {},
     "output_type": "display_data"
    },
    {
     "data": {
      "text/html": [
       "\n",
       "        <div id=\"CMwPMh8tfijqwCdknvJt2u\"></div>\n",
       "        <script>netpixi.call('CMwPMh8tfijqwCdknvJt2u', 'Eaz8F2YQinWczTHUBAqaYt', 'changeGraph', 'eyJpZCI6ICJNYWxhd2kiLCAidHlwZSI6ICJ2ZXJ0ZXgiLCAicHJvcHMiOiB7ImNvbG9yIjogNjUyODB9fQo=');</script>\n",
       "    "
      ],
      "text/plain": [
       "<IPython.core.display.HTML object>"
      ]
     },
     "metadata": {},
     "output_type": "display_data"
    },
    {
     "data": {
      "text/html": [
       "\n",
       "        <div id=\"VkVrVKyY4UxqRRJrPeBhvz\"></div>\n",
       "        <script>netpixi.call('VkVrVKyY4UxqRRJrPeBhvz', 'Eaz8F2YQinWczTHUBAqaYt', 'changeGraph', 'eyJpZCI6ICJVcnVndWF5IiwgInR5cGUiOiAidmVydGV4IiwgInByb3BzIjogeyJjb2xvciI6IDE2NzExNjgwfX0K');</script>\n",
       "    "
      ],
      "text/plain": [
       "<IPython.core.display.HTML object>"
      ]
     },
     "metadata": {},
     "output_type": "display_data"
    },
    {
     "data": {
      "text/html": [
       "\n",
       "        <div id=\"ZoZajoAjeataQ9FutLuxMd\"></div>\n",
       "        <script>netpixi.call('ZoZajoAjeataQ9FutLuxMd', 'Eaz8F2YQinWczTHUBAqaYt', 'changeGraph', 'eyJpZCI6ICJTYWludCBMdWNpYSIsICJ0eXBlIjogInZlcnRleCIsICJwcm9wcyI6IHsiY29sb3IiOiA2NTI4MH19Cg==');</script>\n",
       "    "
      ],
      "text/plain": [
       "<IPython.core.display.HTML object>"
      ]
     },
     "metadata": {},
     "output_type": "display_data"
    },
    {
     "data": {
      "text/html": [
       "\n",
       "        <div id=\"3X9yx8xxN6X8FpyL8SaoB3\"></div>\n",
       "        <script>netpixi.call('3X9yx8xxN6X8FpyL8SaoB3', 'Eaz8F2YQinWczTHUBAqaYt', 'changeGraph', 'eyJpZCI6ICJTYW1vYSIsICJ0eXBlIjogInZlcnRleCIsICJwcm9wcyI6IHsiY29sb3IiOiA2NTI4MH19Cg==');</script>\n",
       "    "
      ],
      "text/plain": [
       "<IPython.core.display.HTML object>"
      ]
     },
     "metadata": {},
     "output_type": "display_data"
    },
    {
     "data": {
      "text/html": [
       "\n",
       "        <div id=\"UqzKBmfabueJxJaRfd32Tj\"></div>\n",
       "        <script>netpixi.call('UqzKBmfabueJxJaRfd32Tj', 'Eaz8F2YQinWczTHUBAqaYt', 'changeGraph', 'eyJpZCI6ICJTYW4gTWFyaW5vIiwgInR5cGUiOiAidmVydGV4IiwgInByb3BzIjogeyJjb2xvciI6IDY1MjgwfX0K');</script>\n",
       "    "
      ],
      "text/plain": [
       "<IPython.core.display.HTML object>"
      ]
     },
     "metadata": {},
     "output_type": "display_data"
    },
    {
     "data": {
      "text/html": [
       "\n",
       "        <div id=\"Sc4Y7n9MvrcRwbmKBFzCKz\"></div>\n",
       "        <script>netpixi.call('Sc4Y7n9MvrcRwbmKBFzCKz', 'Eaz8F2YQinWczTHUBAqaYt', 'changeGraph', 'eyJpZCI6ICJDb25nbyIsICJ0eXBlIjogInZlcnRleCIsICJwcm9wcyI6IHsiY29sb3IiOiA2NTI4MH19Cg==');</script>\n",
       "    "
      ],
      "text/plain": [
       "<IPython.core.display.HTML object>"
      ]
     },
     "metadata": {},
     "output_type": "display_data"
    },
    {
     "data": {
      "text/html": [
       "\n",
       "        <div id=\"YwW6NMrpF3cCsEwY7phBQE\"></div>\n",
       "        <script>netpixi.call('YwW6NMrpF3cCsEwY7phBQE', 'Eaz8F2YQinWczTHUBAqaYt', 'changeGraph', 'eyJpZCI6ICJDaGluYSwgSG9uZyBLb25nIFNBUiIsICJ0eXBlIjogInZlcnRleCIsICJwcm9wcyI6IHsiY29sb3IiOiAxNjcxMTY4MH19Cg==');</script>\n",
       "    "
      ],
      "text/plain": [
       "<IPython.core.display.HTML object>"
      ]
     },
     "metadata": {},
     "output_type": "display_data"
    },
    {
     "data": {
      "text/html": [
       "\n",
       "        <div id=\"ZQE4nMT8bJTQpsvs7HuJu2\"></div>\n",
       "        <script>netpixi.call('ZQE4nMT8bJTQpsvs7HuJu2', 'Eaz8F2YQinWczTHUBAqaYt', 'changeGraph', 'eyJpZCI6ICJCcml0aXNoIFZpcmdpbiBJc2xhbmRzIiwgInR5cGUiOiAidmVydGV4IiwgInByb3BzIjogeyJjb2xvciI6IDY1MjgwfX0K');</script>\n",
       "    "
      ],
      "text/plain": [
       "<IPython.core.display.HTML object>"
      ]
     },
     "metadata": {},
     "output_type": "display_data"
    },
    {
     "data": {
      "text/html": [
       "\n",
       "        <div id=\"UPmauHSumSGoqJGTmtaDTB\"></div>\n",
       "        <script>netpixi.call('UPmauHSumSGoqJGTmtaDTB', 'Eaz8F2YQinWczTHUBAqaYt', 'changeGraph', 'eyJpZCI6ICJNYWRhZ2FzY2FyIiwgInR5cGUiOiAidmVydGV4IiwgInByb3BzIjogeyJjb2xvciI6IDY1MjgwfX0K');</script>\n",
       "    "
      ],
      "text/plain": [
       "<IPython.core.display.HTML object>"
      ]
     },
     "metadata": {},
     "output_type": "display_data"
    },
    {
     "data": {
      "text/html": [
       "\n",
       "        <div id=\"WjSBvUhSz3nLN3myq9cs2E\"></div>\n",
       "        <script>netpixi.call('WjSBvUhSz3nLN3myq9cs2E', 'Eaz8F2YQinWczTHUBAqaYt', 'changeGraph', 'eyJpZCI6ICJCcnVuZWkgRGFydXNzYWxhbSIsICJ0eXBlIjogInZlcnRleCIsICJwcm9wcyI6IHsiY29sb3IiOiA2NTI4MH19Cg==');</script>\n",
       "    "
      ],
      "text/plain": [
       "<IPython.core.display.HTML object>"
      ]
     },
     "metadata": {},
     "output_type": "display_data"
    },
    {
     "data": {
      "text/html": [
       "\n",
       "        <div id=\"5fHAVqyqoAodhBr9TFUxGh\"></div>\n",
       "        <script>netpixi.call('5fHAVqyqoAodhBr9TFUxGh', 'Eaz8F2YQinWczTHUBAqaYt', 'changeGraph', 'eyJpZCI6ICJLZW55YSIsICJ0eXBlIjogInZlcnRleCIsICJwcm9wcyI6IHsiY29sb3IiOiAxNjcxMTY4MH19Cg==');</script>\n",
       "    "
      ],
      "text/plain": [
       "<IPython.core.display.HTML object>"
      ]
     },
     "metadata": {},
     "output_type": "display_data"
    },
    {
     "data": {
      "text/html": [
       "\n",
       "        <div id=\"Rg3ckukKRbizjztV2zNbV3\"></div>\n",
       "        <script>netpixi.call('Rg3ckukKRbizjztV2zNbV3', 'Eaz8F2YQinWczTHUBAqaYt', 'changeGraph', 'eyJpZCI6ICJDcm9hdGlhIiwgInR5cGUiOiAidmVydGV4IiwgInByb3BzIjogeyJjb2xvciI6IDE2NzExNjgwfX0K');</script>\n",
       "    "
      ],
      "text/plain": [
       "<IPython.core.display.HTML object>"
      ]
     },
     "metadata": {},
     "output_type": "display_data"
    },
    {
     "data": {
      "text/html": [
       "\n",
       "        <div id=\"oAbjRCx6mgRSp3fAgNZkj7\"></div>\n",
       "        <script>netpixi.call('oAbjRCx6mgRSp3fAgNZkj7', 'Eaz8F2YQinWczTHUBAqaYt', 'changeGraph', 'eyJpZCI6ICJFbCBTYWx2YWRvciIsICJ0eXBlIjogInZlcnRleCIsICJwcm9wcyI6IHsiY29sb3IiOiA2NTI4MH19Cg==');</script>\n",
       "    "
      ],
      "text/plain": [
       "<IPython.core.display.HTML object>"
      ]
     },
     "metadata": {},
     "output_type": "display_data"
    },
    {
     "data": {
      "text/html": [
       "\n",
       "        <div id=\"FTRyUnWMZUxDJRmc46nen3\"></div>\n",
       "        <script>netpixi.call('FTRyUnWMZUxDJRmc46nen3', 'Eaz8F2YQinWczTHUBAqaYt', 'changeGraph', 'eyJpZCI6ICJVa3JhaW5lIiwgInR5cGUiOiAidmVydGV4IiwgInByb3BzIjogeyJjb2xvciI6IDE2NzExNjgwfX0K');</script>\n",
       "    "
      ],
      "text/plain": [
       "<IPython.core.display.HTML object>"
      ]
     },
     "metadata": {},
     "output_type": "display_data"
    },
    {
     "data": {
      "text/html": [
       "\n",
       "        <div id=\"QS5RSyECo5Z2ADdBpMcoE6\"></div>\n",
       "        <script>netpixi.call('QS5RSyECo5Z2ADdBpMcoE6', 'Eaz8F2YQinWczTHUBAqaYt', 'changeGraph', 'eyJpZCI6ICJNYXVyaXRhbmlhIiwgInR5cGUiOiAidmVydGV4IiwgInByb3BzIjogeyJjb2xvciI6IDE2NzExNjgwfX0K');</script>\n",
       "    "
      ],
      "text/plain": [
       "<IPython.core.display.HTML object>"
      ]
     },
     "metadata": {},
     "output_type": "display_data"
    },
    {
     "data": {
      "text/html": [
       "\n",
       "        <div id=\"RsUNqeDQDX8ujDXs9qySbv\"></div>\n",
       "        <script>netpixi.call('RsUNqeDQDX8ujDXs9qySbv', 'Eaz8F2YQinWczTHUBAqaYt', 'changeGraph', 'eyJpZCI6ICJHZW9yZ2lhIiwgInR5cGUiOiAidmVydGV4IiwgInByb3BzIjogeyJjb2xvciI6IDE2NzExNjgwfX0K');</script>\n",
       "    "
      ],
      "text/plain": [
       "<IPython.core.display.HTML object>"
      ]
     },
     "metadata": {},
     "output_type": "display_data"
    },
    {
     "data": {
      "text/html": [
       "\n",
       "        <div id=\"CAx3TNj6FR3hrEcP9zsYEG\"></div>\n",
       "        <script>netpixi.call('CAx3TNj6FR3hrEcP9zsYEG', 'Eaz8F2YQinWczTHUBAqaYt', 'changeGraph', 'eyJpZCI6ICJLeXJneXpzdGFuIiwgInR5cGUiOiAidmVydGV4IiwgInByb3BzIjogeyJjb2xvciI6IDY1MjgwfX0K');</script>\n",
       "    "
      ],
      "text/plain": [
       "<IPython.core.display.HTML object>"
      ]
     },
     "metadata": {},
     "output_type": "display_data"
    },
    {
     "data": {
      "text/html": [
       "\n",
       "        <div id=\"EZjRVLdEEcvWaiSqohS5zL\"></div>\n",
       "        <script>netpixi.call('EZjRVLdEEcvWaiSqohS5zL', 'Eaz8F2YQinWczTHUBAqaYt', 'changeGraph', 'eyJpZCI6ICJTdGF0ZWxlc3MiLCAidHlwZSI6ICJ2ZXJ0ZXgiLCAicHJvcHMiOiB7ImNvbG9yIjogNjUyODB9fQo=');</script>\n",
       "    "
      ],
      "text/plain": [
       "<IPython.core.display.HTML object>"
      ]
     },
     "metadata": {},
     "output_type": "display_data"
    },
    {
     "data": {
      "text/html": [
       "\n",
       "        <div id=\"DtyrSJFyAgGuXzoNQuHAzw\"></div>\n",
       "        <script>netpixi.call('DtyrSJFyAgGuXzoNQuHAzw', 'Eaz8F2YQinWczTHUBAqaYt', 'changeGraph', 'eyJpZCI6ICJBdXN0cmFsaWEiLCAidHlwZSI6ICJ2ZXJ0ZXgiLCAicHJvcHMiOiB7ImNvbG9yIjogMTY3MTE2ODB9fQo=');</script>\n",
       "    "
      ],
      "text/plain": [
       "<IPython.core.display.HTML object>"
      ]
     },
     "metadata": {},
     "output_type": "display_data"
    },
    {
     "data": {
      "text/html": [
       "\n",
       "        <div id=\"iE66AgFSoANq7ux3nJsKLS\"></div>\n",
       "        <script>netpixi.call('iE66AgFSoANq7ux3nJsKLS', 'Eaz8F2YQinWczTHUBAqaYt', 'changeGraph', 'eyJpZCI6ICJVbml0ZWQgUmVwLiBvZiBUYW56YW5pYSIsICJ0eXBlIjogInZlcnRleCIsICJwcm9wcyI6IHsiY29sb3IiOiA2NTI4MH19Cg==');</script>\n",
       "    "
      ],
      "text/plain": [
       "<IPython.core.display.HTML object>"
      ]
     },
     "metadata": {},
     "output_type": "display_data"
    },
    {
     "data": {
      "text/html": [
       "\n",
       "        <div id=\"HqVR28yZsmytUJ2oHYzfhs\"></div>\n",
       "        <script>netpixi.call('HqVR28yZsmytUJ2oHYzfhs', 'Eaz8F2YQinWczTHUBAqaYt', 'changeGraph', 'eyJpZCI6ICJTdmFsYmFyZCBhbmQgSmFuIE1heWVuIiwgInR5cGUiOiAidmVydGV4IiwgInByb3BzIjogeyJjb2xvciI6IDY1MjgwfX0K');</script>\n",
       "    "
      ],
      "text/plain": [
       "<IPython.core.display.HTML object>"
      ]
     },
     "metadata": {},
     "output_type": "display_data"
    },
    {
     "data": {
      "text/html": [
       "\n",
       "        <div id=\"jVvHVbpZGAXxCteWMGLfg6\"></div>\n",
       "        <script>netpixi.call('jVvHVbpZGAXxCteWMGLfg6', 'Eaz8F2YQinWczTHUBAqaYt', 'changeGraph', 'eyJpZCI6ICJSdXNzaWFuIEZlZGVyYXRpb24iLCAidHlwZSI6ICJ2ZXJ0ZXgiLCAicHJvcHMiOiB7ImNvbG9yIjogMTY3MTE2ODB9fQo=');</script>\n",
       "    "
      ],
      "text/plain": [
       "<IPython.core.display.HTML object>"
      ]
     },
     "metadata": {},
     "output_type": "display_data"
    },
    {
     "data": {
      "text/html": [
       "\n",
       "        <div id=\"EFxpYhhxCHBMuRiphrgZf4\"></div>\n",
       "        <script>netpixi.call('EFxpYhhxCHBMuRiphrgZf4', 'Eaz8F2YQinWczTHUBAqaYt', 'changeGraph', 'eyJpZCI6ICJMZWJhbm9uIiwgInR5cGUiOiAidmVydGV4IiwgInByb3BzIjogeyJjb2xvciI6IDE2NzExNjgwfX0K');</script>\n",
       "    "
      ],
      "text/plain": [
       "<IPython.core.display.HTML object>"
      ]
     },
     "metadata": {},
     "output_type": "display_data"
    },
    {
     "data": {
      "text/html": [
       "\n",
       "        <div id=\"RcweXYd9d2z8nMNZwGKhxg\"></div>\n",
       "        <script>netpixi.call('RcweXYd9d2z8nMNZwGKhxg', 'Eaz8F2YQinWczTHUBAqaYt', 'changeGraph', 'eyJpZCI6ICJIYWl0aSIsICJ0eXBlIjogInZlcnRleCIsICJwcm9wcyI6IHsiY29sb3IiOiA2NTI4MH19Cg==');</script>\n",
       "    "
      ],
      "text/plain": [
       "<IPython.core.display.HTML object>"
      ]
     },
     "metadata": {},
     "output_type": "display_data"
    },
    {
     "data": {
      "text/html": [
       "\n",
       "        <div id=\"bsdZMZuzfKzJrmouoP5ajh\"></div>\n",
       "        <script>netpixi.call('bsdZMZuzfKzJrmouoP5ajh', 'Eaz8F2YQinWczTHUBAqaYt', 'changeGraph', 'eyJpZCI6ICJOYW1pYmlhIiwgInR5cGUiOiAidmVydGV4IiwgInByb3BzIjogeyJjb2xvciI6IDE2NzExNjgwfX0K');</script>\n",
       "    "
      ],
      "text/plain": [
       "<IPython.core.display.HTML object>"
      ]
     },
     "metadata": {},
     "output_type": "display_data"
    },
    {
     "data": {
      "text/html": [
       "\n",
       "        <div id=\"7Ru3MrqxWKrKwecmADgraD\"></div>\n",
       "        <script>netpixi.call('7Ru3MrqxWKrKwecmADgraD', 'Eaz8F2YQinWczTHUBAqaYt', 'changeGraph', 'eyJpZCI6ICJKb3JkYW4iLCAidHlwZSI6ICJ2ZXJ0ZXgiLCAicHJvcHMiOiB7ImNvbG9yIjogMTY3MTE2ODB9fQo=');</script>\n",
       "    "
      ],
      "text/plain": [
       "<IPython.core.display.HTML object>"
      ]
     },
     "metadata": {},
     "output_type": "display_data"
    },
    {
     "data": {
      "text/html": [
       "\n",
       "        <div id=\"JmQtVMDDjLFKcVC8HvGn2F\"></div>\n",
       "        <script>netpixi.call('JmQtVMDDjLFKcVC8HvGn2F', 'Eaz8F2YQinWczTHUBAqaYt', 'changeGraph', 'eyJpZCI6ICJCb3NuaWEgYW5kIEhlcnplZ292aW5hIiwgInR5cGUiOiAidmVydGV4IiwgInByb3BzIjogeyJjb2xvciI6IDY1MjgwfX0K');</script>\n",
       "    "
      ],
      "text/plain": [
       "<IPython.core.display.HTML object>"
      ]
     },
     "metadata": {},
     "output_type": "display_data"
    },
    {
     "data": {
      "text/html": [
       "\n",
       "        <div id=\"VeWjKMLqjPxEZMrEMhNuNR\"></div>\n",
       "        <script>netpixi.call('VeWjKMLqjPxEZMrEMhNuNR', 'Eaz8F2YQinWczTHUBAqaYt', 'changeGraph', 'eyJpZCI6ICJOZXBhbCIsICJ0eXBlIjogInZlcnRleCIsICJwcm9wcyI6IHsiY29sb3IiOiA2NTI4MH19Cg==');</script>\n",
       "    "
      ],
      "text/plain": [
       "<IPython.core.display.HTML object>"
      ]
     },
     "metadata": {},
     "output_type": "display_data"
    },
    {
     "data": {
      "text/html": [
       "\n",
       "        <div id=\"hzNKZD35Y26skPSyBCnA7a\"></div>\n",
       "        <script>netpixi.call('hzNKZD35Y26skPSyBCnA7a', 'Eaz8F2YQinWczTHUBAqaYt', 'changeGraph', 'eyJpZCI6ICJVbml0ZWQgQXJhYiBFbWlyYXRlcyIsICJ0eXBlIjogInZlcnRleCIsICJwcm9wcyI6IHsiY29sb3IiOiA2NTI4MH19Cg==');</script>\n",
       "    "
      ],
      "text/plain": [
       "<IPython.core.display.HTML object>"
      ]
     },
     "metadata": {},
     "output_type": "display_data"
    },
    {
     "data": {
      "text/html": [
       "\n",
       "        <div id=\"FfWnfpHjjkizj9jPWK3ZQD\"></div>\n",
       "        <script>netpixi.call('FfWnfpHjjkizj9jPWK3ZQD', 'Eaz8F2YQinWczTHUBAqaYt', 'changeGraph', 'eyJpZCI6ICJNYXJzaGFsbCBJc2xhbmRzIiwgInR5cGUiOiAidmVydGV4IiwgInByb3BzIjogeyJjb2xvciI6IDY1MjgwfX0K');</script>\n",
       "    "
      ],
      "text/plain": [
       "<IPython.core.display.HTML object>"
      ]
     },
     "metadata": {},
     "output_type": "display_data"
    },
    {
     "data": {
      "text/html": [
       "\n",
       "        <div id=\"KzdjNE9xsfMU8Z7hTvgzyc\"></div>\n",
       "        <script>netpixi.call('KzdjNE9xsfMU8Z7hTvgzyc', 'Eaz8F2YQinWczTHUBAqaYt', 'changeGraph', 'eyJpZCI6ICJIdW5nYXJ5IiwgInR5cGUiOiAidmVydGV4IiwgInByb3BzIjogeyJjb2xvciI6IDE2NzExNjgwfX0K');</script>\n",
       "    "
      ],
      "text/plain": [
       "<IPython.core.display.HTML object>"
      ]
     },
     "metadata": {},
     "output_type": "display_data"
    },
    {
     "data": {
      "text/html": [
       "\n",
       "        <div id=\"4ih5fC7AT7QHVCuBf36jVW\"></div>\n",
       "        <script>netpixi.call('4ih5fC7AT7QHVCuBf36jVW', 'Eaz8F2YQinWczTHUBAqaYt', 'changeGraph', 'eyJpZCI6ICJSZXAuIG9mIEtvcmVhIiwgInR5cGUiOiAidmVydGV4IiwgInByb3BzIjogeyJjb2xvciI6IDE2NzExNjgwfX0K');</script>\n",
       "    "
      ],
      "text/plain": [
       "<IPython.core.display.HTML object>"
      ]
     },
     "metadata": {},
     "output_type": "display_data"
    },
    {
     "data": {
      "text/html": [
       "\n",
       "        <div id=\"XYb96zgr55q5PZbb4NaYVA\"></div>\n",
       "        <script>netpixi.call('XYb96zgr55q5PZbb4NaYVA', 'Eaz8F2YQinWczTHUBAqaYt', 'changeGraph', 'eyJpZCI6ICJBbGdlcmlhIiwgInR5cGUiOiAidmVydGV4IiwgInByb3BzIjogeyJjb2xvciI6IDE2NzExNjgwfX0K');</script>\n",
       "    "
      ],
      "text/plain": [
       "<IPython.core.display.HTML object>"
      ]
     },
     "metadata": {},
     "output_type": "display_data"
    },
    {
     "data": {
      "text/html": [
       "\n",
       "        <div id=\"Ze5MxhU2NtzpRZJ6Ak5YSp\"></div>\n",
       "        <script>netpixi.call('Ze5MxhU2NtzpRZJ6Ak5YSp', 'Eaz8F2YQinWczTHUBAqaYt', 'changeGraph', 'eyJpZCI6ICJXYWxsaXMgYW5kIEZ1dHVuYSBJc2xhbmRzICIsICJ0eXBlIjogInZlcnRleCIsICJwcm9wcyI6IHsiY29sb3IiOiA2NTI4MH19Cg==');</script>\n",
       "    "
      ],
      "text/plain": [
       "<IPython.core.display.HTML object>"
      ]
     },
     "metadata": {},
     "output_type": "display_data"
    },
    {
     "data": {
      "text/html": [
       "\n",
       "        <div id=\"NgXo5eTssLjtSppameohXg\"></div>\n",
       "        <script>netpixi.call('NgXo5eTssLjtSppameohXg', 'Eaz8F2YQinWczTHUBAqaYt', 'changeGraph', 'eyJpZCI6ICJDaGFkIiwgInR5cGUiOiAidmVydGV4IiwgInByb3BzIjogeyJjb2xvciI6IDY1MjgwfX0K');</script>\n",
       "    "
      ],
      "text/plain": [
       "<IPython.core.display.HTML object>"
      ]
     },
     "metadata": {},
     "output_type": "display_data"
    },
    {
     "data": {
      "text/html": [
       "\n",
       "        <div id=\"9UAAqtUVMXS9WqYAkfWv9L\"></div>\n",
       "        <script>netpixi.call('9UAAqtUVMXS9WqYAkfWv9L', 'Eaz8F2YQinWczTHUBAqaYt', 'changeGraph', 'eyJpZCI6ICJOaWdlciIsICJ0eXBlIjogInZlcnRleCIsICJwcm9wcyI6IHsiY29sb3IiOiA2NTI4MH19Cg==');</script>\n",
       "    "
      ],
      "text/plain": [
       "<IPython.core.display.HTML object>"
      ]
     },
     "metadata": {},
     "output_type": "display_data"
    },
    {
     "data": {
      "text/html": [
       "\n",
       "        <div id=\"JhRXC2BXDxBtHmgMXZLVGJ\"></div>\n",
       "        <script>netpixi.call('JhRXC2BXDxBtHmgMXZLVGJ', 'Eaz8F2YQinWczTHUBAqaYt', 'changeGraph', 'eyJpZCI6ICJUdXJrbWVuaXN0YW4iLCAidHlwZSI6ICJ2ZXJ0ZXgiLCAicHJvcHMiOiB7ImNvbG9yIjogNjUyODB9fQo=');</script>\n",
       "    "
      ],
      "text/plain": [
       "<IPython.core.display.HTML object>"
      ]
     },
     "metadata": {},
     "output_type": "display_data"
    },
    {
     "data": {
      "text/html": [
       "\n",
       "        <div id=\"8CmuTP2pCxGAGqsxrF5koU\"></div>\n",
       "        <script>netpixi.call('8CmuTP2pCxGAGqsxrF5koU', 'Eaz8F2YQinWczTHUBAqaYt', 'changeGraph', 'eyJpZCI6ICJTbG92ZW5pYSIsICJ0eXBlIjogInZlcnRleCIsICJwcm9wcyI6IHsiY29sb3IiOiAxNjcxMTY4MH19Cg==');</script>\n",
       "    "
      ],
      "text/plain": [
       "<IPython.core.display.HTML object>"
      ]
     },
     "metadata": {},
     "output_type": "display_data"
    },
    {
     "data": {
      "text/html": [
       "\n",
       "        <div id=\"jEKgFBp5QcqrngSo72wmVe\"></div>\n",
       "        <script>netpixi.call('jEKgFBp5QcqrngSo72wmVe', 'Eaz8F2YQinWczTHUBAqaYt', 'changeGraph', 'eyJpZCI6ICJDemVjaCBSZXAuIiwgInR5cGUiOiAidmVydGV4IiwgInByb3BzIjogeyJjb2xvciI6IDE2NzExNjgwfX0K');</script>\n",
       "    "
      ],
      "text/plain": [
       "<IPython.core.display.HTML object>"
      ]
     },
     "metadata": {},
     "output_type": "display_data"
    },
    {
     "data": {
      "text/html": [
       "\n",
       "        <div id=\"CGdqreiyGA3gFCHovCQnAH\"></div>\n",
       "        <script>netpixi.call('CGdqreiyGA3gFCHovCQnAH', 'Eaz8F2YQinWczTHUBAqaYt', 'changeGraph', 'eyJpZCI6ICJUdXJrZXkiLCAidHlwZSI6ICJ2ZXJ0ZXgiLCAicHJvcHMiOiB7ImNvbG9yIjogMTY3MTE2ODB9fQo=');</script>\n",
       "    "
      ],
      "text/plain": [
       "<IPython.core.display.HTML object>"
      ]
     },
     "metadata": {},
     "output_type": "display_data"
    },
    {
     "data": {
      "text/html": [
       "\n",
       "        <div id=\"GgqJnZ9EXSE5nxuumd8PLE\"></div>\n",
       "        <script>netpixi.call('GgqJnZ9EXSE5nxuumd8PLE', 'Eaz8F2YQinWczTHUBAqaYt', 'changeGraph', 'eyJpZCI6ICJQYWtpc3RhbiIsICJ0eXBlIjogInZlcnRleCIsICJwcm9wcyI6IHsiY29sb3IiOiAxNjcxMTY4MH19Cg==');</script>\n",
       "    "
      ],
      "text/plain": [
       "<IPython.core.display.HTML object>"
      ]
     },
     "metadata": {},
     "output_type": "display_data"
    },
    {
     "data": {
      "text/html": [
       "\n",
       "        <div id=\"iAr5D5A7V83jrdT2UpyHUn\"></div>\n",
       "        <script>netpixi.call('iAr5D5A7V83jrdT2UpyHUn', 'Eaz8F2YQinWczTHUBAqaYt', 'changeGraph', 'eyJpZCI6ICJJcmFxIiwgInR5cGUiOiAidmVydGV4IiwgInByb3BzIjogeyJjb2xvciI6IDY1MjgwfX0K');</script>\n",
       "    "
      ],
      "text/plain": [
       "<IPython.core.display.HTML object>"
      ]
     },
     "metadata": {},
     "output_type": "display_data"
    },
    {
     "data": {
      "text/html": [
       "\n",
       "        <div id=\"NnKuQGGagVmhHcQAHLxGL5\"></div>\n",
       "        <script>netpixi.call('NnKuQGGagVmhHcQAHLxGL5', 'Eaz8F2YQinWczTHUBAqaYt', 'changeGraph', 'eyJpZCI6ICJCYWhyYWluIiwgInR5cGUiOiAidmVydGV4IiwgInByb3BzIjogeyJjb2xvciI6IDY1MjgwfX0K');</script>\n",
       "    "
      ],
      "text/plain": [
       "<IPython.core.display.HTML object>"
      ]
     },
     "metadata": {},
     "output_type": "display_data"
    },
    {
     "data": {
      "text/html": [
       "\n",
       "        <div id=\"eQFfUKJT7dSx9tqX9RbMBR\"></div>\n",
       "        <script>netpixi.call('eQFfUKJT7dSx9tqX9RbMBR', 'Eaz8F2YQinWczTHUBAqaYt', 'changeGraph', 'eyJpZCI6ICJOZXcgWmVhbGFuZCIsICJ0eXBlIjogInZlcnRleCIsICJwcm9wcyI6IHsiY29sb3IiOiAxNjcxMTY4MH19Cg==');</script>\n",
       "    "
      ],
      "text/plain": [
       "<IPython.core.display.HTML object>"
      ]
     },
     "metadata": {},
     "output_type": "display_data"
    },
    {
     "data": {
      "text/html": [
       "\n",
       "        <div id=\"AeCvgt6sLGdrM6vKRF9JYq\"></div>\n",
       "        <script>netpixi.call('AeCvgt6sLGdrM6vKRF9JYq', 'Eaz8F2YQinWczTHUBAqaYt', 'changeGraph', 'eyJpZCI6ICJWZW5lenVlbGEgKEJvbGl2YXJpYW4gUmVwdWJsaWMgb2YpIiwgInR5cGUiOiAidmVydGV4IiwgInByb3BzIjogeyJjb2xvciI6IDE2NzExNjgwfX0K');</script>\n",
       "    "
      ],
      "text/plain": [
       "<IPython.core.display.HTML object>"
      ]
     },
     "metadata": {},
     "output_type": "display_data"
    },
    {
     "data": {
      "text/html": [
       "\n",
       "        <div id=\"oL2NCZQTDJdvKkxUHBGD7N\"></div>\n",
       "        <script>netpixi.call('oL2NCZQTDJdvKkxUHBGD7N', 'Eaz8F2YQinWczTHUBAqaYt', 'changeGraph', 'eyJpZCI6ICJOYXVydSIsICJ0eXBlIjogInZlcnRleCIsICJwcm9wcyI6IHsiY29sb3IiOiA2NTI4MH19Cg==');</script>\n",
       "    "
      ],
      "text/plain": [
       "<IPython.core.display.HTML object>"
      ]
     },
     "metadata": {},
     "output_type": "display_data"
    },
    {
     "data": {
      "text/html": [
       "\n",
       "        <div id=\"4uQ9pumDFT7eVzJNVz4h8M\"></div>\n",
       "        <script>netpixi.call('4uQ9pumDFT7eVzJNVz4h8M', 'Eaz8F2YQinWczTHUBAqaYt', 'changeGraph', 'eyJpZCI6ICJCYXJiYWRvcyIsICJ0eXBlIjogInZlcnRleCIsICJwcm9wcyI6IHsiY29sb3IiOiA2NTI4MH19Cg==');</script>\n",
       "    "
      ],
      "text/plain": [
       "<IPython.core.display.HTML object>"
      ]
     },
     "metadata": {},
     "output_type": "display_data"
    },
    {
     "data": {
      "text/html": [
       "\n",
       "        <div id=\"CfMCS3SMn4QCcTZ43HmH9a\"></div>\n",
       "        <script>netpixi.call('CfMCS3SMn4QCcTZ43HmH9a', 'Eaz8F2YQinWczTHUBAqaYt', 'changeGraph', 'eyJpZCI6ICJQdWVydG8gUmljbyIsICJ0eXBlIjogInZlcnRleCIsICJwcm9wcyI6IHsiY29sb3IiOiA2NTI4MH19Cg==');</script>\n",
       "    "
      ],
      "text/plain": [
       "<IPython.core.display.HTML object>"
      ]
     },
     "metadata": {},
     "output_type": "display_data"
    },
    {
     "data": {
      "text/html": [
       "\n",
       "        <div id=\"ab4u8jLoM4FRgLmGMtngKd\"></div>\n",
       "        <script>netpixi.call('ab4u8jLoM4FRgLmGMtngKd', 'Eaz8F2YQinWczTHUBAqaYt', 'changeGraph', 'eyJpZCI6ICJDYWJvIFZlcmRlIiwgInR5cGUiOiAidmVydGV4IiwgInByb3BzIjogeyJjb2xvciI6IDY1MjgwfX0K');</script>\n",
       "    "
      ],
      "text/plain": [
       "<IPython.core.display.HTML object>"
      ]
     },
     "metadata": {},
     "output_type": "display_data"
    },
    {
     "data": {
      "text/html": [
       "\n",
       "        <div id=\"XfX479VVxcAHjtd67Xfon2\"></div>\n",
       "        <script>netpixi.call('XfX479VVxcAHjtd67Xfon2', 'Eaz8F2YQinWczTHUBAqaYt', 'changeGraph', 'eyJpZCI6ICJCYW5nbGFkZXNoIiwgInR5cGUiOiAidmVydGV4IiwgInByb3BzIjogeyJjb2xvciI6IDY1MjgwfX0K');</script>\n",
       "    "
      ],
      "text/plain": [
       "<IPython.core.display.HTML object>"
      ]
     },
     "metadata": {},
     "output_type": "display_data"
    },
    {
     "data": {
      "text/html": [
       "\n",
       "        <div id=\"DHr3PxToqj6LNwekgieYMi\"></div>\n",
       "        <script>netpixi.call('DHr3PxToqj6LNwekgieYMi', 'Eaz8F2YQinWczTHUBAqaYt', 'changeGraph', 'eyJpZCI6ICJQYWxlc3RpbmlhbiIsICJ0eXBlIjogInZlcnRleCIsICJwcm9wcyI6IHsiY29sb3IiOiA2NTI4MH19Cg==');</script>\n",
       "    "
      ],
      "text/plain": [
       "<IPython.core.display.HTML object>"
      ]
     },
     "metadata": {},
     "output_type": "display_data"
    },
    {
     "data": {
      "text/html": [
       "\n",
       "        <div id=\"ZtLyGEHyeHpk8e5k6z6XDB\"></div>\n",
       "        <script>netpixi.call('ZtLyGEHyeHpk8e5k6z6XDB', 'Eaz8F2YQinWczTHUBAqaYt', 'changeGraph', 'eyJpZCI6ICJDb3N0YSBSaWNhIiwgInR5cGUiOiAidmVydGV4IiwgInByb3BzIjogeyJjb2xvciI6IDE2NzExNjgwfX0K');</script>\n",
       "    "
      ],
      "text/plain": [
       "<IPython.core.display.HTML object>"
      ]
     },
     "metadata": {},
     "output_type": "display_data"
    },
    {
     "data": {
      "text/html": [
       "\n",
       "        <div id=\"SuThWNGopHTQoRpEiZZJ4Y\"></div>\n",
       "        <script>netpixi.call('SuThWNGopHTQoRpEiZZJ4Y', 'Eaz8F2YQinWczTHUBAqaYt', 'changeGraph', 'eyJpZCI6ICJDb21vcm9zIiwgInR5cGUiOiAidmVydGV4IiwgInByb3BzIjogeyJjb2xvciI6IDY1MjgwfX0K');</script>\n",
       "    "
      ],
      "text/plain": [
       "<IPython.core.display.HTML object>"
      ]
     },
     "metadata": {},
     "output_type": "display_data"
    },
    {
     "data": {
      "text/html": [
       "\n",
       "        <div id=\"NsGPioKdD6vgMwbNYzQf7b\"></div>\n",
       "        <script>netpixi.call('NsGPioKdD6vgMwbNYzQf7b', 'Eaz8F2YQinWczTHUBAqaYt', 'changeGraph', 'eyJpZCI6ICJQYXB1YSBOZXcgR3VpbmVhIiwgInR5cGUiOiAidmVydGV4IiwgInByb3BzIjogeyJjb2xvciI6IDY1MjgwfX0K');</script>\n",
       "    "
      ],
      "text/plain": [
       "<IPython.core.display.HTML object>"
      ]
     },
     "metadata": {},
     "output_type": "display_data"
    },
    {
     "data": {
      "text/html": [
       "\n",
       "        <div id=\"Cm5XJKFT5UL77GTmS3aB2p\"></div>\n",
       "        <script>netpixi.call('Cm5XJKFT5UL77GTmS3aB2p', 'Eaz8F2YQinWczTHUBAqaYt', 'changeGraph', 'eyJpZCI6ICJBcmdlbnRpbmEiLCAidHlwZSI6ICJ2ZXJ0ZXgiLCAicHJvcHMiOiB7ImNvbG9yIjogMTY3MTE2ODB9fQo=');</script>\n",
       "    "
      ],
      "text/plain": [
       "<IPython.core.display.HTML object>"
      ]
     },
     "metadata": {},
     "output_type": "display_data"
    },
    {
     "data": {
      "text/html": [
       "\n",
       "        <div id=\"hUwGJZ5bUUKm6b4QXRSPwo\"></div>\n",
       "        <script>netpixi.call('hUwGJZ5bUUKm6b4QXRSPwo', 'Eaz8F2YQinWczTHUBAqaYt', 'changeGraph', 'eyJpZCI6ICJOZXRoZXJsYW5kcyIsICJ0eXBlIjogInZlcnRleCIsICJwcm9wcyI6IHsiY29sb3IiOiAxNjcxMTY4MH19Cg==');</script>\n",
       "    "
      ],
      "text/plain": [
       "<IPython.core.display.HTML object>"
      ]
     },
     "metadata": {},
     "output_type": "display_data"
    },
    {
     "data": {
      "text/html": [
       "\n",
       "        <div id=\"jN84E3zFJ3bwr7ZG4bJgFY\"></div>\n",
       "        <script>netpixi.call('jN84E3zFJ3bwr7ZG4bJgFY', 'Eaz8F2YQinWczTHUBAqaYt', 'changeGraph', 'eyJpZCI6ICJQYXJhZ3VheSIsICJ0eXBlIjogInZlcnRleCIsICJwcm9wcyI6IHsiY29sb3IiOiA2NTI4MH19Cg==');</script>\n",
       "    "
      ],
      "text/plain": [
       "<IPython.core.display.HTML object>"
      ]
     },
     "metadata": {},
     "output_type": "display_data"
    },
    {
     "data": {
      "text/html": [
       "\n",
       "        <div id=\"meafZiBuMvxaxN4ZuePXRC\"></div>\n",
       "        <script>netpixi.call('meafZiBuMvxaxN4ZuePXRC', 'Eaz8F2YQinWczTHUBAqaYt', 'changeGraph', 'eyJpZCI6ICJLdXdhaXQiLCAidHlwZSI6ICJ2ZXJ0ZXgiLCAicHJvcHMiOiB7ImNvbG9yIjogNjUyODB9fQo=');</script>\n",
       "    "
      ],
      "text/plain": [
       "<IPython.core.display.HTML object>"
      ]
     },
     "metadata": {},
     "output_type": "display_data"
    },
    {
     "data": {
      "text/html": [
       "\n",
       "        <div id=\"baJjGuT6faAE6sFf8oS2Nm\"></div>\n",
       "        <script>netpixi.call('baJjGuT6faAE6sFf8oS2Nm', 'Eaz8F2YQinWczTHUBAqaYt', 'changeGraph', 'eyJpZCI6ICJTd2F6aWxhbmQiLCAidHlwZSI6ICJ2ZXJ0ZXgiLCAicHJvcHMiOiB7ImNvbG9yIjogNjUyODB9fQo=');</script>\n",
       "    "
      ],
      "text/plain": [
       "<IPython.core.display.HTML object>"
      ]
     },
     "metadata": {},
     "output_type": "display_data"
    },
    {
     "data": {
      "text/html": [
       "\n",
       "        <div id=\"JLgjWpzPaxUmvKFQZiH7ZY\"></div>\n",
       "        <script>netpixi.call('JLgjWpzPaxUmvKFQZiH7ZY', 'Eaz8F2YQinWczTHUBAqaYt', 'changeGraph', 'eyJpZCI6ICJHdWluZWEiLCAidHlwZSI6ICJ2ZXJ0ZXgiLCAicHJvcHMiOiB7ImNvbG9yIjogNjUyODB9fQo=');</script>\n",
       "    "
      ],
      "text/plain": [
       "<IPython.core.display.HTML object>"
      ]
     },
     "metadata": {},
     "output_type": "display_data"
    },
    {
     "data": {
      "text/html": [
       "\n",
       "        <div id=\"hDku3XBK4e3MJD6eZVLCGx\"></div>\n",
       "        <script>netpixi.call('hDku3XBK4e3MJD6eZVLCGx', 'Eaz8F2YQinWczTHUBAqaYt', 'changeGraph', 'eyJpZCI6ICJHYW1iaWEiLCAidHlwZSI6ICJ2ZXJ0ZXgiLCAicHJvcHMiOiB7ImNvbG9yIjogNjUyODB9fQo=');</script>\n",
       "    "
      ],
      "text/plain": [
       "<IPython.core.display.HTML object>"
      ]
     },
     "metadata": {},
     "output_type": "display_data"
    },
    {
     "data": {
      "text/html": [
       "\n",
       "        <div id=\"4XpPQhqEmkuEoeYGsQY4nf\"></div>\n",
       "        <script>netpixi.call('4XpPQhqEmkuEoeYGsQY4nf', 'Eaz8F2YQinWczTHUBAqaYt', 'changeGraph', 'eyJpZCI6ICJDXHUwMGY0dGUgZCdJdm9pcmUiLCAidHlwZSI6ICJ2ZXJ0ZXgiLCAicHJvcHMiOiB7ImNvbG9yIjogMTY3MTE2ODB9fQo=');</script>\n",
       "    "
      ],
      "text/plain": [
       "<IPython.core.display.HTML object>"
      ]
     },
     "metadata": {},
     "output_type": "display_data"
    },
    {
     "data": {
      "text/html": [
       "\n",
       "        <div id=\"7xTJmjqBMuTgjQcvEXLav3\"></div>\n",
       "        <script>netpixi.call('7xTJmjqBMuTgjQcvEXLav3', 'Eaz8F2YQinWczTHUBAqaYt', 'changeGraph', 'eyJpZCI6ICJGaW5sYW5kIiwgInR5cGUiOiAidmVydGV4IiwgInByb3BzIjogeyJjb2xvciI6IDE2NzExNjgwfX0K');</script>\n",
       "    "
      ],
      "text/plain": [
       "<IPython.core.display.HTML object>"
      ]
     },
     "metadata": {},
     "output_type": "display_data"
    },
    {
     "data": {
      "text/html": [
       "\n",
       "        <div id=\"dY2uT3tB4eGtK4sznbeGhv\"></div>\n",
       "        <script>netpixi.call('dY2uT3tB4eGtK4sznbeGhv', 'Eaz8F2YQinWczTHUBAqaYt', 'changeGraph', 'eyJpZCI6ICJEb21pbmljYW4gUmVwLiIsICJ0eXBlIjogInZlcnRleCIsICJwcm9wcyI6IHsiY29sb3IiOiA2NTI4MH19Cg==');</script>\n",
       "    "
      ],
      "text/plain": [
       "<IPython.core.display.HTML object>"
      ]
     },
     "metadata": {},
     "output_type": "display_data"
    },
    {
     "data": {
      "text/html": [
       "\n",
       "        <div id=\"QWuG8yVMqaGkXS3JsNuWeC\"></div>\n",
       "        <script>netpixi.call('QWuG8yVMqaGkXS3JsNuWeC', 'Eaz8F2YQinWczTHUBAqaYt', 'changeGraph', 'eyJpZCI6ICJDaGluYSwgTWFjYW8gU0FSIiwgInR5cGUiOiAidmVydGV4IiwgInByb3BzIjogeyJjb2xvciI6IDY1MjgwfX0K');</script>\n",
       "    "
      ],
      "text/plain": [
       "<IPython.core.display.HTML object>"
      ]
     },
     "metadata": {},
     "output_type": "display_data"
    },
    {
     "data": {
      "text/html": [
       "\n",
       "        <div id=\"MWzmsK2NtgT2Pa4UuhWYuY\"></div>\n",
       "        <script>netpixi.call('MWzmsK2NtgT2Pa4UuhWYuY', 'Eaz8F2YQinWczTHUBAqaYt', 'changeGraph', 'eyJpZCI6ICJUaGUgZm9ybWVyIFl1Z29zbGF2IFJlcHVibGljIG9mIE1hY2Vkb25pYSIsICJ0eXBlIjogInZlcnRleCIsICJwcm9wcyI6IHsiY29sb3IiOiAxNjcxMTY4MH19Cg==');</script>\n",
       "    "
      ],
      "text/plain": [
       "<IPython.core.display.HTML object>"
      ]
     },
     "metadata": {},
     "output_type": "display_data"
    },
    {
     "data": {
      "text/html": [
       "\n",
       "        <div id=\"nXMVaeaphoispTZeehvtDn\"></div>\n",
       "        <script>netpixi.call('nXMVaeaphoispTZeehvtDn', 'Eaz8F2YQinWczTHUBAqaYt', 'changeGraph', 'eyJpZCI6ICJHcmVlY2UiLCAidHlwZSI6ICJ2ZXJ0ZXgiLCAicHJvcHMiOiB7ImNvbG9yIjogMTY3MTE2ODB9fQo=');</script>\n",
       "    "
      ],
      "text/plain": [
       "<IPython.core.display.HTML object>"
      ]
     },
     "metadata": {},
     "output_type": "display_data"
    },
    {
     "data": {
      "text/html": [
       "\n",
       "        <div id=\"9JTGxJManf837cwb95PZTs\"></div>\n",
       "        <script>netpixi.call('9JTGxJManf837cwb95PZTs', 'Eaz8F2YQinWczTHUBAqaYt', 'changeGraph', 'eyJpZCI6ICJBbGJhbmlhIiwgInR5cGUiOiAidmVydGV4IiwgInByb3BzIjogeyJjb2xvciI6IDY1MjgwfX0K');</script>\n",
       "    "
      ],
      "text/plain": [
       "<IPython.core.display.HTML object>"
      ]
     },
     "metadata": {},
     "output_type": "display_data"
    },
    {
     "data": {
      "text/html": [
       "\n",
       "        <div id=\"F9F7xubqFe8JS99Gg4KTXC\"></div>\n",
       "        <script>netpixi.call('F9F7xubqFe8JS99Gg4KTXC', 'Eaz8F2YQinWczTHUBAqaYt', 'changeGraph', 'eyJpZCI6ICJTb3V0aCBTdWRhbiIsICJ0eXBlIjogInZlcnRleCIsICJwcm9wcyI6IHsiY29sb3IiOiA2NTI4MH19Cg==');</script>\n",
       "    "
      ],
      "text/plain": [
       "<IPython.core.display.HTML object>"
      ]
     },
     "metadata": {},
     "output_type": "display_data"
    },
    {
     "data": {
      "text/html": [
       "\n",
       "        <div id=\"i3iSGJ9FZ6GZBfwwPMxpum\"></div>\n",
       "        <script>netpixi.call('i3iSGJ9FZ6GZBfwwPMxpum', 'Eaz8F2YQinWczTHUBAqaYt', 'changeGraph', 'eyJpZCI6ICJBbmd1aWxsYSIsICJ0eXBlIjogInZlcnRleCIsICJwcm9wcyI6IHsiY29sb3IiOiA2NTI4MH19Cg==');</script>\n",
       "    "
      ],
      "text/plain": [
       "<IPython.core.display.HTML object>"
      ]
     },
     "metadata": {},
     "output_type": "display_data"
    },
    {
     "data": {
      "text/html": [
       "\n",
       "        <div id=\"QqWn2W75chb8YnpZKWnuAn\"></div>\n",
       "        <script>netpixi.call('QqWn2W75chb8YnpZKWnuAn', 'Eaz8F2YQinWczTHUBAqaYt', 'changeGraph', 'eyJpZCI6ICJLaXJpYmF0aSIsICJ0eXBlIjogInZlcnRleCIsICJwcm9wcyI6IHsiY29sb3IiOiA2NTI4MH19Cg==');</script>\n",
       "    "
      ],
      "text/plain": [
       "<IPython.core.display.HTML object>"
      ]
     },
     "metadata": {},
     "output_type": "display_data"
    },
    {
     "data": {
      "text/html": [
       "\n",
       "        <div id=\"hF6jotwh8dVrK73rXmCxQV\"></div>\n",
       "        <script>netpixi.call('hF6jotwh8dVrK73rXmCxQV', 'Eaz8F2YQinWczTHUBAqaYt', 'changeGraph', 'eyJpZCI6ICJDYW1ib2RpYSIsICJ0eXBlIjogInZlcnRleCIsICJwcm9wcyI6IHsiY29sb3IiOiA2NTI4MH19Cg==');</script>\n",
       "    "
      ],
      "text/plain": [
       "<IPython.core.display.HTML object>"
      ]
     },
     "metadata": {},
     "output_type": "display_data"
    },
    {
     "data": {
      "text/html": [
       "\n",
       "        <div id=\"cPDy9LSE2qW7oEzxpCD3MB\"></div>\n",
       "        <script>netpixi.call('cPDy9LSE2qW7oEzxpCD3MB', 'Eaz8F2YQinWczTHUBAqaYt', 'changeGraph', 'eyJpZCI6ICJDaGluYSIsICJ0eXBlIjogInZlcnRleCIsICJwcm9wcyI6IHsiY29sb3IiOiAxNjcxMTY4MH19Cg==');</script>\n",
       "    "
      ],
      "text/plain": [
       "<IPython.core.display.HTML object>"
      ]
     },
     "metadata": {},
     "output_type": "display_data"
    },
    {
     "data": {
      "text/html": [
       "\n",
       "        <div id=\"oLbWck6zAttLrAjRT4QCQ8\"></div>\n",
       "        <script>netpixi.call('oLbWck6zAttLrAjRT4QCQ8', 'Eaz8F2YQinWczTHUBAqaYt', 'changeGraph', 'eyJpZCI6ICJNYXJ0aW5pcXVlIiwgInR5cGUiOiAidmVydGV4IiwgInByb3BzIjogeyJjb2xvciI6IDY1MjgwfX0K');</script>\n",
       "    "
      ],
      "text/plain": [
       "<IPython.core.display.HTML object>"
      ]
     },
     "metadata": {},
     "output_type": "display_data"
    },
    {
     "data": {
      "text/html": [
       "\n",
       "        <div id=\"Z38aTeTJG49MD3eYTtpzZe\"></div>\n",
       "        <script>netpixi.call('Z38aTeTJG49MD3eYTtpzZe', 'Eaz8F2YQinWczTHUBAqaYt', 'changeGraph', 'eyJpZCI6ICJWaWV0IE5hbSIsICJ0eXBlIjogInZlcnRleCIsICJwcm9wcyI6IHsiY29sb3IiOiA2NTI4MH19Cg==');</script>\n",
       "    "
      ],
      "text/plain": [
       "<IPython.core.display.HTML object>"
      ]
     },
     "metadata": {},
     "output_type": "display_data"
    },
    {
     "data": {
      "text/html": [
       "\n",
       "        <div id=\"23Xxx4ewRQrTvFDWxWDmgm\"></div>\n",
       "        <script>netpixi.call('23Xxx4ewRQrTvFDWxWDmgm', 'Eaz8F2YQinWczTHUBAqaYt', 'changeGraph', 'eyJpZCI6ICJOaWdlcmlhIiwgInR5cGUiOiAidmVydGV4IiwgInByb3BzIjogeyJjb2xvciI6IDE2NzExNjgwfX0K');</script>\n",
       "    "
      ],
      "text/plain": [
       "<IPython.core.display.HTML object>"
      ]
     },
     "metadata": {},
     "output_type": "display_data"
    },
    {
     "data": {
      "text/html": [
       "\n",
       "        <div id=\"mBxDBpjub85cYQaD4KC3gb\"></div>\n",
       "        <script>netpixi.call('mBxDBpjub85cYQaD4KC3gb', 'Eaz8F2YQinWczTHUBAqaYt', 'changeGraph', 'eyJpZCI6ICJBbmRvcnJhIiwgInR5cGUiOiAidmVydGV4IiwgInByb3BzIjogeyJjb2xvciI6IDY1MjgwfX0K');</script>\n",
       "    "
      ],
      "text/plain": [
       "<IPython.core.display.HTML object>"
      ]
     },
     "metadata": {},
     "output_type": "display_data"
    },
    {
     "data": {
      "text/html": [
       "\n",
       "        <div id=\"89ypyt4MU9KqQekaXmTyqq\"></div>\n",
       "        <script>netpixi.call('89ypyt4MU9KqQekaXmTyqq', 'Eaz8F2YQinWczTHUBAqaYt', 'changeGraph', 'eyJpZCI6ICJQaGlsaXBwaW5lcyIsICJ0eXBlIjogInZlcnRleCIsICJwcm9wcyI6IHsiY29sb3IiOiAxNjcxMTY4MH19Cg==');</script>\n",
       "    "
      ],
      "text/plain": [
       "<IPython.core.display.HTML object>"
      ]
     },
     "metadata": {},
     "output_type": "display_data"
    },
    {
     "data": {
      "text/html": [
       "\n",
       "        <div id=\"mPcumyozSnC6KQHWpGLXyZ\"></div>\n",
       "        <script>netpixi.call('mPcumyozSnC6KQHWpGLXyZ', 'Eaz8F2YQinWczTHUBAqaYt', 'changeGraph', 'eyJpZCI6ICJCZWxpemUiLCAidHlwZSI6ICJ2ZXJ0ZXgiLCAicHJvcHMiOiB7ImNvbG9yIjogNjUyODB9fQo=');</script>\n",
       "    "
      ],
      "text/plain": [
       "<IPython.core.display.HTML object>"
      ]
     },
     "metadata": {},
     "output_type": "display_data"
    },
    {
     "data": {
      "text/html": [
       "\n",
       "        <div id=\"7eo8cy8UicgwTZT6CbcaZf\"></div>\n",
       "        <script>netpixi.call('7eo8cy8UicgwTZT6CbcaZf', 'Eaz8F2YQinWczTHUBAqaYt', 'changeGraph', 'eyJpZCI6ICJUdXZhbHUiLCAidHlwZSI6ICJ2ZXJ0ZXgiLCAicHJvcHMiOiB7ImNvbG9yIjogNjUyODB9fQo=');</script>\n",
       "    "
      ],
      "text/plain": [
       "<IPython.core.display.HTML object>"
      ]
     },
     "metadata": {},
     "output_type": "display_data"
    },
    {
     "data": {
      "text/html": [
       "\n",
       "        <div id=\"EPUcdJZVojnEhX4brVNUFm\"></div>\n",
       "        <script>netpixi.call('EPUcdJZVojnEhX4brVNUFm', 'Eaz8F2YQinWczTHUBAqaYt', 'changeGraph', 'eyJpZCI6ICJEZW0uIFBlb3BsZSdzIFJlcC4gb2YgS29yZWEiLCAidHlwZSI6ICJ2ZXJ0ZXgiLCAicHJvcHMiOiB7ImNvbG9yIjogNjUyODB9fQo=');</script>\n",
       "    "
      ],
      "text/plain": [
       "<IPython.core.display.HTML object>"
      ]
     },
     "metadata": {},
     "output_type": "display_data"
    },
    {
     "data": {
      "text/html": [
       "\n",
       "        <div id=\"nxqYLABUnCMzhbhZQMUPri\"></div>\n",
       "        <script>netpixi.call('nxqYLABUnCMzhbhZQMUPri', 'Eaz8F2YQinWczTHUBAqaYt', 'changeGraph', 'eyJpZCI6ICJTb21hbGlhIiwgInR5cGUiOiAidmVydGV4IiwgInByb3BzIjogeyJjb2xvciI6IDY1MjgwfX0K');</script>\n",
       "    "
      ],
      "text/plain": [
       "<IPython.core.display.HTML object>"
      ]
     },
     "metadata": {},
     "output_type": "display_data"
    },
    {
     "data": {
      "text/html": [
       "\n",
       "        <div id=\"Ucjpw6gAaFtpogop7QeYUr\"></div>\n",
       "        <script>netpixi.call('Ucjpw6gAaFtpogop7QeYUr', 'Eaz8F2YQinWczTHUBAqaYt', 'changeGraph', 'eyJpZCI6ICJCZWxhcnVzIiwgInR5cGUiOiAidmVydGV4IiwgInByb3BzIjogeyJjb2xvciI6IDE2NzExNjgwfX0K');</script>\n",
       "    "
      ],
      "text/plain": [
       "<IPython.core.display.HTML object>"
      ]
     },
     "metadata": {},
     "output_type": "display_data"
    },
    {
     "data": {
      "text/html": [
       "\n",
       "        <div id=\"HMN5qvMCkSVWAhura2NRpo\"></div>\n",
       "        <script>netpixi.call('HMN5qvMCkSVWAhura2NRpo', 'Eaz8F2YQinWczTHUBAqaYt', 'changeGraph', 'eyJpZCI6ICJTdXJpbmFtZSIsICJ0eXBlIjogInZlcnRleCIsICJwcm9wcyI6IHsiY29sb3IiOiA2NTI4MH19Cg==');</script>\n",
       "    "
      ],
      "text/plain": [
       "<IPython.core.display.HTML object>"
      ]
     },
     "metadata": {},
     "output_type": "display_data"
    },
    {
     "data": {
      "text/html": [
       "\n",
       "        <div id=\"MFKySVj9zRh4QpvPJBEkFc\"></div>\n",
       "        <script>netpixi.call('MFKySVj9zRh4QpvPJBEkFc', 'Eaz8F2YQinWczTHUBAqaYt', 'changeGraph', 'eyJpZCI6ICJCZXJtdWRhIiwgInR5cGUiOiAidmVydGV4IiwgInByb3BzIjogeyJjb2xvciI6IDY1MjgwfX0K');</script>\n",
       "    "
      ],
      "text/plain": [
       "<IPython.core.display.HTML object>"
      ]
     },
     "metadata": {},
     "output_type": "display_data"
    },
    {
     "data": {
      "text/html": [
       "\n",
       "        <div id=\"UYpn6UG6iG4NKAVa5UwMeT\"></div>\n",
       "        <script>netpixi.call('UYpn6UG6iG4NKAVa5UwMeT', 'Eaz8F2YQinWczTHUBAqaYt', 'changeGraph', 'eyJpZCI6ICJZZW1lbiIsICJ0eXBlIjogInZlcnRleCIsICJwcm9wcyI6IHsiY29sb3IiOiAxNjcxMTY4MH19Cg==');</script>\n",
       "    "
      ],
      "text/plain": [
       "<IPython.core.display.HTML object>"
      ]
     },
     "metadata": {},
     "output_type": "display_data"
    },
    {
     "data": {
      "text/html": [
       "\n",
       "        <div id=\"2GBcZpCMTtxEs2g3fguKqP\"></div>\n",
       "        <script>netpixi.call('2GBcZpCMTtxEs2g3fguKqP', 'Eaz8F2YQinWczTHUBAqaYt', 'changeGraph', 'eyJpZCI6ICJTZXljaGVsbGVzIiwgInR5cGUiOiAidmVydGV4IiwgInByb3BzIjogeyJjb2xvciI6IDY1MjgwfX0K');</script>\n",
       "    "
      ],
      "text/plain": [
       "<IPython.core.display.HTML object>"
      ]
     },
     "metadata": {},
     "output_type": "display_data"
    },
    {
     "data": {
      "text/html": [
       "\n",
       "        <div id=\"iWbUiMhRpa3AcjQG6aanSf\"></div>\n",
       "        <script>netpixi.call('iWbUiMhRpa3AcjQG6aanSf', 'Eaz8F2YQinWczTHUBAqaYt', 'changeGraph', 'eyJpZCI6ICJHcmVuYWRhIiwgInR5cGUiOiAidmVydGV4IiwgInByb3BzIjogeyJjb2xvciI6IDY1MjgwfX0K');</script>\n",
       "    "
      ],
      "text/plain": [
       "<IPython.core.display.HTML object>"
      ]
     },
     "metadata": {},
     "output_type": "display_data"
    },
    {
     "data": {
      "text/html": [
       "\n",
       "        <div id=\"iixJnZCWbFBSPBGvHNYhPy\"></div>\n",
       "        <script>netpixi.call('iixJnZCWbFBSPBGvHNYhPy', 'Eaz8F2YQinWczTHUBAqaYt', 'changeGraph', 'eyJpZCI6ICJNYWxheXNpYSIsICJ0eXBlIjogInZlcnRleCIsICJwcm9wcyI6IHsiY29sb3IiOiAxNjcxMTY4MH19Cg==');</script>\n",
       "    "
      ],
      "text/plain": [
       "<IPython.core.display.HTML object>"
      ]
     },
     "metadata": {},
     "output_type": "display_data"
    },
    {
     "data": {
      "text/html": [
       "\n",
       "        <div id=\"9qoc5vWjCSfKbRwmZ2okrF\"></div>\n",
       "        <script>netpixi.call('9qoc5vWjCSfKbRwmZ2okrF', 'Eaz8F2YQinWczTHUBAqaYt', 'changeGraph', 'eyJpZCI6ICJCcmF6aWwiLCAidHlwZSI6ICJ2ZXJ0ZXgiLCAicHJvcHMiOiB7ImNvbG9yIjogMTY3MTE2ODB9fQo=');</script>\n",
       "    "
      ],
      "text/plain": [
       "<IPython.core.display.HTML object>"
      ]
     },
     "metadata": {},
     "output_type": "display_data"
    },
    {
     "data": {
      "text/html": [
       "\n",
       "        <div id=\"VrJ6j3kqo4LdPD9MxMoWkg\"></div>\n",
       "        <script>netpixi.call('VrJ6j3kqo4LdPD9MxMoWkg', 'Eaz8F2YQinWczTHUBAqaYt', 'changeGraph', 'eyJpZCI6ICJBbnRpZ3VhIGFuZCBCYXJidWRhIiwgInR5cGUiOiAidmVydGV4IiwgInByb3BzIjogeyJjb2xvciI6IDY1MjgwfX0K');</script>\n",
       "    "
      ],
      "text/plain": [
       "<IPython.core.display.HTML object>"
      ]
     },
     "metadata": {},
     "output_type": "display_data"
    },
    {
     "data": {
      "text/html": [
       "\n",
       "        <div id=\"oNmSMoSBqpQmGakbQsSY6L\"></div>\n",
       "        <script>netpixi.call('oNmSMoSBqpQmGakbQsSY6L', 'Eaz8F2YQinWczTHUBAqaYt', 'changeGraph', 'eyJpZCI6ICJDdWJhIiwgInR5cGUiOiAidmVydGV4IiwgInByb3BzIjogeyJjb2xvciI6IDE2NzExNjgwfX0K');</script>\n",
       "    "
      ],
      "text/plain": [
       "<IPython.core.display.HTML object>"
      ]
     },
     "metadata": {},
     "output_type": "display_data"
    },
    {
     "data": {
      "text/html": [
       "\n",
       "        <div id=\"igM9Go4FXjqwvN6tugZTA7\"></div>\n",
       "        <script>netpixi.call('igM9Go4FXjqwvN6tugZTA7', 'Eaz8F2YQinWczTHUBAqaYt', 'changeGraph', 'eyJpZCI6ICJTZW5lZ2FsIiwgInR5cGUiOiAidmVydGV4IiwgInByb3BzIjogeyJjb2xvciI6IDE2NzExNjgwfX0K');</script>\n",
       "    "
      ],
      "text/plain": [
       "<IPython.core.display.HTML object>"
      ]
     },
     "metadata": {},
     "output_type": "display_data"
    },
    {
     "data": {
      "text/html": [
       "\n",
       "        <div id=\"cfEj9YNVQvVjNQ5cxbcqor\"></div>\n",
       "        <script>netpixi.call('cfEj9YNVQvVjNQ5cxbcqor', 'Eaz8F2YQinWczTHUBAqaYt', 'changeGraph', 'eyJpZCI6ICJUcmluaWRhZCBhbmQgVG9iYWdvIiwgInR5cGUiOiAidmVydGV4IiwgInByb3BzIjogeyJjb2xvciI6IDE2NzExNjgwfX0K');</script>\n",
       "    "
      ],
      "text/plain": [
       "<IPython.core.display.HTML object>"
      ]
     },
     "metadata": {},
     "output_type": "display_data"
    },
    {
     "data": {
      "text/html": [
       "\n",
       "        <div id=\"kePPsPZSbi5Bhr7Gmnq7kz\"></div>\n",
       "        <script>netpixi.call('kePPsPZSbi5Bhr7Gmnq7kz', 'Eaz8F2YQinWczTHUBAqaYt', 'changeGraph', 'eyJpZCI6ICJDYW1lcm9vbiIsICJ0eXBlIjogInZlcnRleCIsICJwcm9wcyI6IHsiY29sb3IiOiAxNjcxMTY4MH19Cg==');</script>\n",
       "    "
      ],
      "text/plain": [
       "<IPython.core.display.HTML object>"
      ]
     },
     "metadata": {},
     "output_type": "display_data"
    },
    {
     "data": {
      "text/html": [
       "\n",
       "        <div id=\"7urrXYh92pQ3B7ZudcDT4e\"></div>\n",
       "        <script>netpixi.call('7urrXYh92pQ3B7ZudcDT4e', 'Eaz8F2YQinWczTHUBAqaYt', 'changeGraph', 'eyJpZCI6ICJCZW5pbiIsICJ0eXBlIjogInZlcnRleCIsICJwcm9wcyI6IHsiY29sb3IiOiAxNjcxMTY4MH19Cg==');</script>\n",
       "    "
      ],
      "text/plain": [
       "<IPython.core.display.HTML object>"
      ]
     },
     "metadata": {},
     "output_type": "display_data"
    },
    {
     "data": {
      "text/html": [
       "\n",
       "        <div id=\"k8nKDguebm8kdXtmrNnNPM\"></div>\n",
       "        <script>netpixi.call('k8nKDguebm8kdXtmrNnNPM', 'Eaz8F2YQinWczTHUBAqaYt', 'changeGraph', 'eyJpZCI6ICJMaWJ5YSIsICJ0eXBlIjogInZlcnRleCIsICJwcm9wcyI6IHsiY29sb3IiOiAxNjcxMTY4MH19Cg==');</script>\n",
       "    "
      ],
      "text/plain": [
       "<IPython.core.display.HTML object>"
      ]
     },
     "metadata": {},
     "output_type": "display_data"
    },
    {
     "data": {
      "text/html": [
       "\n",
       "        <div id=\"ajKToYrrxVRbUwU46xLHHu\"></div>\n",
       "        <script>netpixi.call('ajKToYrrxVRbUwU46xLHHu', 'Eaz8F2YQinWczTHUBAqaYt', 'changeGraph', 'eyJpZCI6ICJGcmFuY2UiLCAidHlwZSI6ICJ2ZXJ0ZXgiLCAicHJvcHMiOiB7ImNvbG9yIjogMTY3MTE2ODB9fQo=');</script>\n",
       "    "
      ],
      "text/plain": [
       "<IPython.core.display.HTML object>"
      ]
     },
     "metadata": {},
     "output_type": "display_data"
    },
    {
     "data": {
      "text/html": [
       "\n",
       "        <div id=\"XxteWbkDe5gR7dEvk76QUq\"></div>\n",
       "        <script>netpixi.call('XxteWbkDe5gR7dEvk76QUq', 'Eaz8F2YQinWczTHUBAqaYt', 'changeGraph', 'eyJpZCI6ICJUdW5pc2lhIiwgInR5cGUiOiAidmVydGV4IiwgInByb3BzIjogeyJjb2xvciI6IDE2NzExNjgwfX0K');</script>\n",
       "    "
      ],
      "text/plain": [
       "<IPython.core.display.HTML object>"
      ]
     },
     "metadata": {},
     "output_type": "display_data"
    },
    {
     "data": {
      "text/html": [
       "\n",
       "        <div id=\"5CxuPa6rVYvLcFghwxhX7S\"></div>\n",
       "        <script>netpixi.call('5CxuPa6rVYvLcFghwxhX7S', 'Eaz8F2YQinWczTHUBAqaYt', 'changeGraph', 'eyJpZCI6ICJHYWJvbiIsICJ0eXBlIjogInZlcnRleCIsICJwcm9wcyI6IHsiY29sb3IiOiA2NTI4MH19Cg==');</script>\n",
       "    "
      ],
      "text/plain": [
       "<IPython.core.display.HTML object>"
      ]
     },
     "metadata": {},
     "output_type": "display_data"
    },
    {
     "data": {
      "text/html": [
       "\n",
       "        <div id=\"EXtRWCKue4CHQ3UAuMBBTp\"></div>\n",
       "        <script>netpixi.call('EXtRWCKue4CHQ3UAuMBBTp', 'Eaz8F2YQinWczTHUBAqaYt', 'changeGraph', 'eyJpZCI6ICJWYW51YXR1IiwgInR5cGUiOiAidmVydGV4IiwgInByb3BzIjogeyJjb2xvciI6IDY1MjgwfX0K');</script>\n",
       "    "
      ],
      "text/plain": [
       "<IPython.core.display.HTML object>"
      ]
     },
     "metadata": {},
     "output_type": "display_data"
    },
    {
     "data": {
      "text/html": [
       "\n",
       "        <div id=\"c5HSnneLwmD5FEq4hz8A2P\"></div>\n",
       "        <script>netpixi.call('c5HSnneLwmD5FEq4hz8A2P', 'Eaz8F2YQinWczTHUBAqaYt', 'changeGraph', 'eyJpZCI6ICJOaXVlIiwgInR5cGUiOiAidmVydGV4IiwgInByb3BzIjogeyJjb2xvciI6IDY1MjgwfX0K');</script>\n",
       "    "
      ],
      "text/plain": [
       "<IPython.core.display.HTML object>"
      ]
     },
     "metadata": {},
     "output_type": "display_data"
    },
    {
     "data": {
      "text/html": [
       "\n",
       "        <div id=\"ETZjLnpWGb5VKX2z5MuFzA\"></div>\n",
       "        <script>netpixi.call('ETZjLnpWGb5VKX2z5MuFzA', 'Eaz8F2YQinWczTHUBAqaYt', 'changeGraph', 'eyJpZCI6ICJQZXJ1IiwgInR5cGUiOiAidmVydGV4IiwgInByb3BzIjogeyJjb2xvciI6IDE2NzExNjgwfX0K');</script>\n",
       "    "
      ],
      "text/plain": [
       "<IPython.core.display.HTML object>"
      ]
     },
     "metadata": {},
     "output_type": "display_data"
    },
    {
     "data": {
      "text/html": [
       "\n",
       "        <div id=\"M4KjvTUVSsfdYEwmQchzka\"></div>\n",
       "        <script>netpixi.call('M4KjvTUVSsfdYEwmQchzka', 'Eaz8F2YQinWczTHUBAqaYt', 'changeGraph', 'eyJpZCI6ICJOaWNhcmFndWEiLCAidHlwZSI6ICJ2ZXJ0ZXgiLCAicHJvcHMiOiB7ImNvbG9yIjogMTY3MTE2ODB9fQo=');</script>\n",
       "    "
      ],
      "text/plain": [
       "<IPython.core.display.HTML object>"
      ]
     },
     "metadata": {},
     "output_type": "display_data"
    },
    {
     "data": {
      "text/html": [
       "\n",
       "        <div id=\"MCrLwTwta6RNSB6mu8zJSz\"></div>\n",
       "        <script>netpixi.call('MCrLwTwta6RNSB6mu8zJSz', 'Eaz8F2YQinWczTHUBAqaYt', 'changeGraph', 'eyJpZCI6ICJSZXAuIG9mIE1vbGRvdmEiLCAidHlwZSI6ICJ2ZXJ0ZXgiLCAicHJvcHMiOiB7ImNvbG9yIjogMTY3MTE2ODB9fQo=');</script>\n",
       "    "
      ],
      "text/plain": [
       "<IPython.core.display.HTML object>"
      ]
     },
     "metadata": {},
     "output_type": "display_data"
    },
    {
     "data": {
      "text/html": [
       "\n",
       "        <div id=\"XBmEiE3wruyh8D8KsXnZrg\"></div>\n",
       "        <script>netpixi.call('XBmEiE3wruyh8D8KsXnZrg', 'Eaz8F2YQinWczTHUBAqaYt', 'changeGraph', 'eyJpZCI6ICJVbml0ZWQgS2luZ2RvbSIsICJ0eXBlIjogInZlcnRleCIsICJwcm9wcyI6IHsiY29sb3IiOiAxNjcxMTY4MH19Cg==');</script>\n",
       "    "
      ],
      "text/plain": [
       "<IPython.core.display.HTML object>"
      ]
     },
     "metadata": {},
     "output_type": "display_data"
    },
    {
     "data": {
      "text/html": [
       "\n",
       "        <div id=\"mpYWAnG8fXKojS2tCDLYfn\"></div>\n",
       "        <script>netpixi.call('mpYWAnG8fXKojS2tCDLYfn', 'Eaz8F2YQinWczTHUBAqaYt', 'changeGraph', 'eyJpZCI6ICJMYW8gUGVvcGxlJ3MgRGVtLiBSZXAuIiwgInR5cGUiOiAidmVydGV4IiwgInByb3BzIjogeyJjb2xvciI6IDY1MjgwfX0K');</script>\n",
       "    "
      ],
      "text/plain": [
       "<IPython.core.display.HTML object>"
      ]
     },
     "metadata": {},
     "output_type": "display_data"
    },
    {
     "data": {
      "text/html": [
       "\n",
       "        <div id=\"GysLoi8fwWMuTCdh8bqMbv\"></div>\n",
       "        <script>netpixi.call('GysLoi8fwWMuTCdh8bqMbv', 'Eaz8F2YQinWczTHUBAqaYt', 'changeGraph', 'eyJpZCI6ICJUaW1vci1MZXN0ZSIsICJ0eXBlIjogInZlcnRleCIsICJwcm9wcyI6IHsiY29sb3IiOiA2NTI4MH19Cg==');</script>\n",
       "    "
      ],
      "text/plain": [
       "<IPython.core.display.HTML object>"
      ]
     },
     "metadata": {},
     "output_type": "display_data"
    },
    {
     "data": {
      "text/html": [
       "\n",
       "        <div id=\"FDEAY2cYqUE3sNDa7EojHW\"></div>\n",
       "        <script>netpixi.call('FDEAY2cYqUE3sNDa7EojHW', 'Eaz8F2YQinWczTHUBAqaYt', 'changeGraph', 'eyJpZCI6ICJTeXJpYW4gQXJhYiBSZXAuIiwgInR5cGUiOiAidmVydGV4IiwgInByb3BzIjogeyJjb2xvciI6IDE2NzExNjgwfX0K');</script>\n",
       "    "
      ],
      "text/plain": [
       "<IPython.core.display.HTML object>"
      ]
     },
     "metadata": {},
     "output_type": "display_data"
    },
    {
     "data": {
      "text/html": [
       "\n",
       "        <div id=\"Ko6LGD5oheQhtxsQNEdhxt\"></div>\n",
       "        <script>netpixi.call('Ko6LGD5oheQhtxsQNEdhxt', 'Eaz8F2YQinWczTHUBAqaYt', 'changeGraph', 'eyJpZCI6ICJCdWxnYXJpYSIsICJ0eXBlIjogInZlcnRleCIsICJwcm9wcyI6IHsiY29sb3IiOiAxNjcxMTY4MH19Cg==');</script>\n",
       "    "
      ],
      "text/plain": [
       "<IPython.core.display.HTML object>"
      ]
     },
     "metadata": {},
     "output_type": "display_data"
    },
    {
     "data": {
      "text/html": [
       "\n",
       "        <div id=\"QUUYecQMKNKUC3ke5YwWHZ\"></div>\n",
       "        <script>netpixi.call('QUUYecQMKNKUC3ke5YwWHZ', 'Eaz8F2YQinWczTHUBAqaYt', 'changeGraph', 'eyJpZCI6ICJOb3Jmb2xrIElzbGFuZCIsICJ0eXBlIjogInZlcnRleCIsICJwcm9wcyI6IHsiY29sb3IiOiA2NTI4MH19Cg==');</script>\n",
       "    "
      ],
      "text/plain": [
       "<IPython.core.display.HTML object>"
      ]
     },
     "metadata": {},
     "output_type": "display_data"
    },
    {
     "data": {
      "text/html": [
       "\n",
       "        <div id=\"b3uBHMnaH2TQoDmQ7GzsQ7\"></div>\n",
       "        <script>netpixi.call('b3uBHMnaH2TQoDmQ7GzsQ7', 'Eaz8F2YQinWczTHUBAqaYt', 'changeGraph', 'eyJpZCI6ICJFc3RvbmlhIiwgInR5cGUiOiAidmVydGV4IiwgInByb3BzIjogeyJjb2xvciI6IDE2NzExNjgwfX0K');</script>\n",
       "    "
      ],
      "text/plain": [
       "<IPython.core.display.HTML object>"
      ]
     },
     "metadata": {},
     "output_type": "display_data"
    },
    {
     "data": {
      "text/html": [
       "\n",
       "        <div id=\"noHjpW62Ck7MQ6X4NVrRdd\"></div>\n",
       "        <script>netpixi.call('noHjpW62Ck7MQ6X4NVrRdd', 'Eaz8F2YQinWczTHUBAqaYt', 'changeGraph', 'eyJpZCI6ICJCdXJ1bmRpIiwgInR5cGUiOiAidmVydGV4IiwgInByb3BzIjogeyJjb2xvciI6IDY1MjgwfX0K');</script>\n",
       "    "
      ],
      "text/plain": [
       "<IPython.core.display.HTML object>"
      ]
     },
     "metadata": {},
     "output_type": "display_data"
    },
    {
     "data": {
      "text/html": [
       "\n",
       "        <div id=\"5petxvraaa5ba5sZnwCRzZ\"></div>\n",
       "        <script>netpixi.call('5petxvraaa5ba5sZnwCRzZ', 'Eaz8F2YQinWczTHUBAqaYt', 'changeGraph', 'eyJpZCI6ICJUb25nYSIsICJ0eXBlIjogInZlcnRleCIsICJwcm9wcyI6IHsiY29sb3IiOiA2NTI4MH19Cg==');</script>\n",
       "    "
      ],
      "text/plain": [
       "<IPython.core.display.HTML object>"
      ]
     },
     "metadata": {},
     "output_type": "display_data"
    },
    {
     "data": {
      "text/html": [
       "\n",
       "        <div id=\"VfcTA5ZcsFWzWxdXUcoR9m\"></div>\n",
       "        <script>netpixi.call('VfcTA5ZcsFWzWxdXUcoR9m', 'Eaz8F2YQinWczTHUBAqaYt', 'changeGraph', 'eyJpZCI6ICJVemJla2lzdGFuIiwgInR5cGUiOiAidmVydGV4IiwgInByb3BzIjogeyJjb2xvciI6IDY1MjgwfX0K');</script>\n",
       "    "
      ],
      "text/plain": [
       "<IPython.core.display.HTML object>"
      ]
     },
     "metadata": {},
     "output_type": "display_data"
    },
    {
     "data": {
      "text/html": [
       "\n",
       "        <div id=\"dHxkNu2QkhP6eMhcyocdSR\"></div>\n",
       "        <script>netpixi.call('dHxkNu2QkhP6eMhcyocdSR', 'Eaz8F2YQinWczTHUBAqaYt', 'changeGraph', 'eyJpZCI6ICJQYW5hbWEiLCAidHlwZSI6ICJ2ZXJ0ZXgiLCAicHJvcHMiOiB7ImNvbG9yIjogMTY3MTE2ODB9fQo=');</script>\n",
       "    "
      ],
      "text/plain": [
       "<IPython.core.display.HTML object>"
      ]
     },
     "metadata": {},
     "output_type": "display_data"
    },
    {
     "data": {
      "text/html": [
       "\n",
       "        <div id=\"BvdjXKcFLuN3cVmLkZ4Z95\"></div>\n",
       "        <script>netpixi.call('BvdjXKcFLuN3cVmLkZ4Z95', 'Eaz8F2YQinWczTHUBAqaYt', 'changeGraph', 'eyJpZCI6ICJNYWx0YSIsICJ0eXBlIjogInZlcnRleCIsICJwcm9wcyI6IHsiY29sb3IiOiAxNjcxMTY4MH19Cg==');</script>\n",
       "    "
      ],
      "text/plain": [
       "<IPython.core.display.HTML object>"
      ]
     },
     "metadata": {},
     "output_type": "display_data"
    },
    {
     "data": {
      "text/html": [
       "\n",
       "        <div id=\"RpuJKaAcHP5kbLwe5aiNV7\"></div>\n",
       "        <script>netpixi.call('RpuJKaAcHP5kbLwe5aiNV7', 'Eaz8F2YQinWczTHUBAqaYt', 'changeGraph', 'eyJpZCI6ICJCb2xpdmlhIChQbHVyaW5hdGlvbmFsIFN0YXRlIG9mKSIsICJ0eXBlIjogInZlcnRleCIsICJwcm9wcyI6IHsiY29sb3IiOiA2NTI4MH19Cg==');</script>\n",
       "    "
      ],
      "text/plain": [
       "<IPython.core.display.HTML object>"
      ]
     },
     "metadata": {},
     "output_type": "display_data"
    },
    {
     "data": {
      "text/html": [
       "\n",
       "        <div id=\"j6SHyWJhWWqkxbKpjy4TZj\"></div>\n",
       "        <script>netpixi.call('j6SHyWJhWWqkxbKpjy4TZj', 'Eaz8F2YQinWczTHUBAqaYt', 'changeGraph', 'eyJpZCI6ICJUaGFpbGFuZCIsICJ0eXBlIjogInZlcnRleCIsICJwcm9wcyI6IHsiY29sb3IiOiAxNjcxMTY4MH19Cg==');</script>\n",
       "    "
      ],
      "text/plain": [
       "<IPython.core.display.HTML object>"
      ]
     },
     "metadata": {},
     "output_type": "display_data"
    },
    {
     "data": {
      "text/html": [
       "\n",
       "        <div id=\"PhchxKySqzxuKuAwxw5uUe\"></div>\n",
       "        <script>netpixi.call('PhchxKySqzxuKuAwxw5uUe', 'Eaz8F2YQinWczTHUBAqaYt', 'changeGraph', 'eyJpZCI6ICJTZXJiaWEgYW5kIEtvc292byAoUy9SRVMvMTI0NCAoMTk5OSkpIiwgInR5cGUiOiAidmVydGV4IiwgInByb3BzIjogeyJjb2xvciI6IDE2NzExNjgwfX0K');</script>\n",
       "    "
      ],
      "text/plain": [
       "<IPython.core.display.HTML object>"
      ]
     },
     "metadata": {},
     "output_type": "display_data"
    },
    {
     "data": {
      "text/html": [
       "\n",
       "        <div id=\"dY6AeGxPoRknLDHHRd4G6Z\"></div>\n",
       "        <script>netpixi.call('dY6AeGxPoRknLDHHRd4G6Z', 'Eaz8F2YQinWczTHUBAqaYt', 'changeGraph', 'eyJpZCI6ICJOb3J3YXkiLCAidHlwZSI6ICJ2ZXJ0ZXgiLCAicHJvcHMiOiB7ImNvbG9yIjogMTY3MTE2ODB9fQo=');</script>\n",
       "    "
      ],
      "text/plain": [
       "<IPython.core.display.HTML object>"
      ]
     },
     "metadata": {},
     "output_type": "display_data"
    },
    {
     "data": {
      "text/html": [
       "\n",
       "        <div id=\"8C2Xy4DDTtX5ngvFXuxaZT\"></div>\n",
       "        <script>netpixi.call('8C2Xy4DDTtX5ngvFXuxaZT', 'Eaz8F2YQinWczTHUBAqaYt', 'changeGraph', 'eyJpZCI6ICJFY3VhZG9yIiwgInR5cGUiOiAidmVydGV4IiwgInByb3BzIjogeyJjb2xvciI6IDE2NzExNjgwfX0K');</script>\n",
       "    "
      ],
      "text/plain": [
       "<IPython.core.display.HTML object>"
      ]
     },
     "metadata": {},
     "output_type": "display_data"
    },
    {
     "data": {
      "text/html": [
       "\n",
       "        <div id=\"n5pZuQYgsHZGENz9oq62sP\"></div>\n",
       "        <script>netpixi.call('n5pZuQYgsHZGENz9oq62sP', 'Eaz8F2YQinWczTHUBAqaYt', 'changeGraph', 'eyJpZCI6ICJWYXJpb3VzL1Vua25vd24iLCAidHlwZSI6ICJ2ZXJ0ZXgiLCAicHJvcHMiOiB7ImNvbG9yIjogNjUyODB9fQo=');</script>\n",
       "    "
      ],
      "text/plain": [
       "<IPython.core.display.HTML object>"
      ]
     },
     "metadata": {},
     "output_type": "display_data"
    },
    {
     "data": {
      "text/html": [
       "\n",
       "        <div id=\"eXZJLw3RfDDFaAFTkrayXP\"></div>\n",
       "        <script>netpixi.call('eXZJLw3RfDDFaAFTkrayXP', 'Eaz8F2YQinWczTHUBAqaYt', 'changeGraph', 'eyJpZCI6ICJQb3J0dWdhbCIsICJ0eXBlIjogInZlcnRleCIsICJwcm9wcyI6IHsiY29sb3IiOiAxNjcxMTY4MH19Cg==');</script>\n",
       "    "
      ],
      "text/plain": [
       "<IPython.core.display.HTML object>"
      ]
     },
     "metadata": {},
     "output_type": "display_data"
    },
    {
     "data": {
      "text/html": [
       "\n",
       "        <div id=\"ZzRPEERCLHTMpzALJNfu9v\"></div>\n",
       "        <script>netpixi.call('ZzRPEERCLHTMpzALJNfu9v', 'Eaz8F2YQinWczTHUBAqaYt', 'changeGraph', 'eyJpZCI6ICJBbmdvbGEiLCAidHlwZSI6ICJ2ZXJ0ZXgiLCAicHJvcHMiOiB7ImNvbG9yIjogMTY3MTE2ODB9fQo=');</script>\n",
       "    "
      ],
      "text/plain": [
       "<IPython.core.display.HTML object>"
      ]
     },
     "metadata": {},
     "output_type": "display_data"
    },
    {
     "data": {
      "text/html": [
       "\n",
       "        <div id=\"Zo8tHw54PbwetXvoG564e4\"></div>\n",
       "        <script>netpixi.call('Zo8tHw54PbwetXvoG564e4', 'Eaz8F2YQinWczTHUBAqaYt', 'changeGraph', 'eyJpZCI6ICJCb25haXJlIiwgInR5cGUiOiAidmVydGV4IiwgInByb3BzIjogeyJjb2xvciI6IDY1MjgwfX0K');</script>\n",
       "    "
      ],
      "text/plain": [
       "<IPython.core.display.HTML object>"
      ]
     },
     "metadata": {},
     "output_type": "display_data"
    },
    {
     "data": {
      "text/html": [
       "\n",
       "        <div id=\"V9aMJCpJvhGxmGraHyYWkw\"></div>\n",
       "        <script>netpixi.call('V9aMJCpJvhGxmGraHyYWkw', 'Eaz8F2YQinWczTHUBAqaYt', 'changeGraph', 'eyJpZCI6ICJVbml0ZWQgU3RhdGVzIG9mIEFtZXJpY2EiLCAidHlwZSI6ICJ2ZXJ0ZXgiLCAicHJvcHMiOiB7ImNvbG9yIjogMTY3MTE2ODB9fQo=');</script>\n",
       "    "
      ],
      "text/plain": [
       "<IPython.core.display.HTML object>"
      ]
     },
     "metadata": {},
     "output_type": "display_data"
    },
    {
     "data": {
      "text/html": [
       "\n",
       "        <div id=\"dDeLp2VwNQJPckW3yYMMH5\"></div>\n",
       "        <script>netpixi.call('dDeLp2VwNQJPckW3yYMMH5', 'Eaz8F2YQinWczTHUBAqaYt', 'changeGraph', 'eyJpZCI6ICJNb25nb2xpYSIsICJ0eXBlIjogInZlcnRleCIsICJwcm9wcyI6IHsiY29sb3IiOiA2NTI4MH19Cg==');</script>\n",
       "    "
      ],
      "text/plain": [
       "<IPython.core.display.HTML object>"
      ]
     },
     "metadata": {},
     "output_type": "display_data"
    },
    {
     "data": {
      "text/html": [
       "\n",
       "        <div id=\"Tb2JqqTraCr5PPGUDbf6Qb\"></div>\n",
       "        <script>netpixi.call('Tb2JqqTraCr5PPGUDbf6Qb', 'Eaz8F2YQinWczTHUBAqaYt', 'changeGraph', 'eyJpZCI6ICJTcmkgTGFua2EiLCAidHlwZSI6ICJ2ZXJ0ZXgiLCAicHJvcHMiOiB7ImNvbG9yIjogNjUyODB9fQo=');</script>\n",
       "    "
      ],
      "text/plain": [
       "<IPython.core.display.HTML object>"
      ]
     },
     "metadata": {},
     "output_type": "display_data"
    },
    {
     "data": {
      "text/html": [
       "\n",
       "        <div id=\"mx5qErPLyKgBegZFiZN98d\"></div>\n",
       "        <script>netpixi.call('mx5qErPLyKgBegZFiZN98d', 'Eaz8F2YQinWczTHUBAqaYt', 'changeGraph', 'eyJpZCI6ICJHZXJtYW55IiwgInR5cGUiOiAidmVydGV4IiwgInByb3BzIjogeyJjb2xvciI6IDE2NzExNjgwfX0K');</script>\n",
       "    "
      ],
      "text/plain": [
       "<IPython.core.display.HTML object>"
      ]
     },
     "metadata": {},
     "output_type": "display_data"
    },
    {
     "data": {
      "text/html": [
       "\n",
       "        <div id=\"i3SZHG8c8UC2RBN3qD8tAU\"></div>\n",
       "        <script>netpixi.call('i3SZHG8c8UC2RBN3qD8tAU', 'Eaz8F2YQinWczTHUBAqaYt', 'changeGraph', 'eyJpZCI6ICJMaWVjaHRlbnN0ZWluIiwgInR5cGUiOiAidmVydGV4IiwgInByb3BzIjogeyJjb2xvciI6IDE2NzExNjgwfX0K');</script>\n",
       "    "
      ],
      "text/plain": [
       "<IPython.core.display.HTML object>"
      ]
     },
     "metadata": {},
     "output_type": "display_data"
    },
    {
     "data": {
      "text/html": [
       "\n",
       "        <div id=\"6AmjxGH5WAxsP4DTBds9n7\"></div>\n",
       "        <script>netpixi.call('6AmjxGH5WAxsP4DTBds9n7', 'Eaz8F2YQinWczTHUBAqaYt', 'changeGraph', 'eyJpZCI6ICJNZXhpY28iLCAidHlwZSI6ICJ2ZXJ0ZXgiLCAicHJvcHMiOiB7ImNvbG9yIjogMTY3MTE2ODB9fQo=');</script>\n",
       "    "
      ],
      "text/plain": [
       "<IPython.core.display.HTML object>"
      ]
     },
     "metadata": {},
     "output_type": "display_data"
    },
    {
     "data": {
      "text/html": [
       "\n",
       "        <div id=\"WvKQ6heWe9JutnggJtXJVE\"></div>\n",
       "        <script>netpixi.call('WvKQ6heWe9JutnggJtXJVE', 'Eaz8F2YQinWczTHUBAqaYt', 'changeGraph', 'eyJpZCI6ICJHdWFkZWxvdXBlIiwgInR5cGUiOiAidmVydGV4IiwgInByb3BzIjogeyJjb2xvciI6IDY1MjgwfX0K');</script>\n",
       "    "
      ],
      "text/plain": [
       "<IPython.core.display.HTML object>"
      ]
     },
     "metadata": {},
     "output_type": "display_data"
    },
    {
     "data": {
      "text/html": [
       "\n",
       "        <div id=\"D9WhmmNKS4k36nWeKuHiJ6\"></div>\n",
       "        <script>netpixi.call('D9WhmmNKS4k36nWeKuHiJ6', 'Eaz8F2YQinWczTHUBAqaYt', 'changeGraph', 'eyJpZCI6ICJTYWludCBLaXR0cyBhbmQgTmV2aXMiLCAidHlwZSI6ICJ2ZXJ0ZXgiLCAicHJvcHMiOiB7ImNvbG9yIjogNjUyODB9fQo=');</script>\n",
       "    "
      ],
      "text/plain": [
       "<IPython.core.display.HTML object>"
      ]
     },
     "metadata": {},
     "output_type": "display_data"
    },
    {
     "data": {
      "text/html": [
       "\n",
       "        <div id=\"DRCBzigJotDvT3UQAQ4wgR\"></div>\n",
       "        <script>netpixi.call('DRCBzigJotDvT3UQAQ4wgR', 'Eaz8F2YQinWczTHUBAqaYt', 'changeGraph', 'eyJpZCI6ICJTYWludCBWaW5jZW50IGFuZCB0aGUgR3JlbmFkaW5lcyIsICJ0eXBlIjogInZlcnRleCIsICJwcm9wcyI6IHsiY29sb3IiOiA2NTI4MH19Cg==');</script>\n",
       "    "
      ],
      "text/plain": [
       "<IPython.core.display.HTML object>"
      ]
     },
     "metadata": {},
     "output_type": "display_data"
    },
    {
     "data": {
      "text/html": [
       "\n",
       "        <div id=\"Fhypnkhrqv9ZT6Q7sfkeJU\"></div>\n",
       "        <script>netpixi.call('Fhypnkhrqv9ZT6Q7sfkeJU', 'Eaz8F2YQinWczTHUBAqaYt', 'changeGraph', 'eyJpZCI6ICJJdGFseSIsICJ0eXBlIjogInZlcnRleCIsICJwcm9wcyI6IHsiY29sb3IiOiAxNjcxMTY4MH19Cg==');</script>\n",
       "    "
      ],
      "text/plain": [
       "<IPython.core.display.HTML object>"
      ]
     },
     "metadata": {},
     "output_type": "display_data"
    },
    {
     "data": {
      "text/html": [
       "\n",
       "        <div id=\"f3b2QaGUwdoUJZwstSKmQp\"></div>\n",
       "        <script>netpixi.call('f3b2QaGUwdoUJZwstSKmQp', 'Eaz8F2YQinWczTHUBAqaYt', 'changeGraph', 'eyJpZCI6ICJBZmdoYW5pc3RhbiIsICJ0eXBlIjogInZlcnRleCIsICJwcm9wcyI6IHsiY29sb3IiOiA2NTI4MH19Cg==');</script>\n",
       "    "
      ],
      "text/plain": [
       "<IPython.core.display.HTML object>"
      ]
     },
     "metadata": {},
     "output_type": "display_data"
    },
    {
     "data": {
      "text/html": [
       "\n",
       "        <div id=\"YQxzFVPDXUAuxZ3rSZC2ec\"></div>\n",
       "        <script>netpixi.call('YQxzFVPDXUAuxZ3rSZC2ec', 'Eaz8F2YQinWczTHUBAqaYt', 'changeGraph', 'eyJpZCI6ICJQYWxhdSIsICJ0eXBlIjogInZlcnRleCIsICJwcm9wcyI6IHsiY29sb3IiOiA2NTI4MH19Cg==');</script>\n",
       "    "
      ],
      "text/plain": [
       "<IPython.core.display.HTML object>"
      ]
     },
     "metadata": {},
     "output_type": "display_data"
    },
    {
     "data": {
      "text/html": [
       "\n",
       "        <div id=\"b97NTtASC2bywEbYJ8Gm37\"></div>\n",
       "        <script>netpixi.call('b97NTtASC2bywEbYJ8Gm37', 'Eaz8F2YQinWczTHUBAqaYt', 'changeGraph', 'eyJpZCI6ICJTYXVkaSBBcmFiaWEiLCAidHlwZSI6ICJ2ZXJ0ZXgiLCAicHJvcHMiOiB7ImNvbG9yIjogNjUyODB9fQo=');</script>\n",
       "    "
      ],
      "text/plain": [
       "<IPython.core.display.HTML object>"
      ]
     },
     "metadata": {},
     "output_type": "display_data"
    },
    {
     "data": {
      "text/html": [
       "\n",
       "        <div id=\"J3KLpShQThhg9ScosVQ7Zt\"></div>\n",
       "        <script>netpixi.call('J3KLpShQThhg9ScosVQ7Zt', 'Eaz8F2YQinWczTHUBAqaYt', 'changeGraph', 'eyJpZCI6ICJNb25hY28iLCAidHlwZSI6ICJ2ZXJ0ZXgiLCAicHJvcHMiOiB7ImNvbG9yIjogNjUyODB9fQo=');</script>\n",
       "    "
      ],
      "text/plain": [
       "<IPython.core.display.HTML object>"
      ]
     },
     "metadata": {},
     "output_type": "display_data"
    },
    {
     "data": {
      "text/html": [
       "\n",
       "        <div id=\"cwMLjpH57vj53eg76gnG79\"></div>\n",
       "        <script>netpixi.call('cwMLjpH57vj53eg76gnG79', 'Eaz8F2YQinWczTHUBAqaYt', 'changeGraph', 'eyJpZCI6ICJTbG92YWtpYSIsICJ0eXBlIjogInZlcnRleCIsICJwcm9wcyI6IHsiY29sb3IiOiAxNjcxMTY4MH19Cg==');</script>\n",
       "    "
      ],
      "text/plain": [
       "<IPython.core.display.HTML object>"
      ]
     },
     "metadata": {},
     "output_type": "display_data"
    },
    {
     "data": {
      "text/html": [
       "\n",
       "        <div id=\"KTrBqZYs3G9axsAv4nqPTP\"></div>\n",
       "        <script>netpixi.call('KTrBqZYs3G9axsAv4nqPTP', 'Eaz8F2YQinWczTHUBAqaYt', 'changeGraph', 'eyJpZCI6ICJMYXR2aWEiLCAidHlwZSI6ICJ2ZXJ0ZXgiLCAicHJvcHMiOiB7ImNvbG9yIjogMTY3MTE2ODB9fQo=');</script>\n",
       "    "
      ],
      "text/plain": [
       "<IPython.core.display.HTML object>"
      ]
     },
     "metadata": {},
     "output_type": "display_data"
    },
    {
     "data": {
      "text/html": [
       "\n",
       "        <div id=\"92XbP2mZ3WNYaRLvVahpjT\"></div>\n",
       "        <script>netpixi.call('92XbP2mZ3WNYaRLvVahpjT', 'Eaz8F2YQinWczTHUBAqaYt', 'changeGraph', 'eyJpZCI6ICJTd2VkZW4iLCAidHlwZSI6ICJ2ZXJ0ZXgiLCAicHJvcHMiOiB7ImNvbG9yIjogMTY3MTE2ODB9fQo=');</script>\n",
       "    "
      ],
      "text/plain": [
       "<IPython.core.display.HTML object>"
      ]
     },
     "metadata": {},
     "output_type": "display_data"
    },
    {
     "data": {
      "text/html": [
       "\n",
       "        <div id=\"Q8SpdiKbjTL9h9rvmAAoxk\"></div>\n",
       "        <script>netpixi.call('Q8SpdiKbjTL9h9rvmAAoxk', 'Eaz8F2YQinWczTHUBAqaYt', 'changeGraph', 'eyJpZCI6ICJJbmRpYSIsICJ0eXBlIjogInZlcnRleCIsICJwcm9wcyI6IHsiY29sb3IiOiAxNjcxMTY4MH19Cg==');</script>\n",
       "    "
      ],
      "text/plain": [
       "<IPython.core.display.HTML object>"
      ]
     },
     "metadata": {},
     "output_type": "display_data"
    },
    {
     "data": {
      "text/html": [
       "\n",
       "        <div id=\"co2CgwVTRHEwvV5sxu495r\"></div>\n",
       "        <script>netpixi.call('co2CgwVTRHEwvV5sxu495r', 'Eaz8F2YQinWczTHUBAqaYt', 'changeGraph', 'eyJpZCI6ICJHaGFuYSIsICJ0eXBlIjogInZlcnRleCIsICJwcm9wcyI6IHsiY29sb3IiOiAxNjcxMTY4MH19Cg==');</script>\n",
       "    "
      ],
      "text/plain": [
       "<IPython.core.display.HTML object>"
      ]
     },
     "metadata": {},
     "output_type": "display_data"
    },
    {
     "data": {
      "text/html": [
       "\n",
       "        <div id=\"gtyUtVAG2ZuwUn2TKUNYmk\"></div>\n",
       "        <script>netpixi.call('gtyUtVAG2ZuwUn2TKUNYmk', 'Eaz8F2YQinWczTHUBAqaYt', 'changeGraph', 'eyJpZCI6ICJHaWJyYWx0YXIiLCAidHlwZSI6ICJ2ZXJ0ZXgiLCAicHJvcHMiOiB7ImNvbG9yIjogNjUyODB9fQo=');</script>\n",
       "    "
      ],
      "text/plain": [
       "<IPython.core.display.HTML object>"
      ]
     },
     "metadata": {},
     "output_type": "display_data"
    },
    {
     "data": {
      "text/html": [
       "\n",
       "        <div id=\"gwYPHGdFWtc7JuWRr7n2u7\"></div>\n",
       "        <script>netpixi.call('gwYPHGdFWtc7JuWRr7n2u7', 'Eaz8F2YQinWczTHUBAqaYt', 'changeGraph', 'eyJpZCI6ICJFcXVhdG9yaWFsIEd1aW5lYSIsICJ0eXBlIjogInZlcnRleCIsICJwcm9wcyI6IHsiY29sb3IiOiA2NTI4MH19Cg==');</script>\n",
       "    "
      ],
      "text/plain": [
       "<IPython.core.display.HTML object>"
      ]
     },
     "metadata": {},
     "output_type": "display_data"
    },
    {
     "data": {
      "text/html": [
       "\n",
       "        <div id=\"GWGbncJi7NGmHTsjAhbxtS\"></div>\n",
       "        <script>netpixi.call('GWGbncJi7NGmHTsjAhbxtS', 'Eaz8F2YQinWczTHUBAqaYt', 'changeGraph', 'eyJpZCI6ICJEb21pbmljYSIsICJ0eXBlIjogInZlcnRleCIsICJwcm9wcyI6IHsiY29sb3IiOiA2NTI4MH19Cg==');</script>\n",
       "    "
      ],
      "text/plain": [
       "<IPython.core.display.HTML object>"
      ]
     },
     "metadata": {},
     "output_type": "display_data"
    },
    {
     "data": {
      "text/html": [
       "\n",
       "        <div id=\"jaGU5nMGQMvszbV9tZZyRA\"></div>\n",
       "        <script>netpixi.call('jaGU5nMGQMvszbV9tZZyRA', 'Eaz8F2YQinWczTHUBAqaYt', 'changeGraph', 'eyJpZCI6ICJCdXJraW5hIEZhc28iLCAidHlwZSI6ICJ2ZXJ0ZXgiLCAicHJvcHMiOiB7ImNvbG9yIjogNjUyODB9fQo=');</script>\n",
       "    "
      ],
      "text/plain": [
       "<IPython.core.display.HTML object>"
      ]
     },
     "metadata": {},
     "output_type": "display_data"
    },
    {
     "data": {
      "text/html": [
       "\n",
       "        <div id=\"gHhiKdLFaf5XfqsshQnzRH\"></div>\n",
       "        <script>netpixi.call('gHhiKdLFaf5XfqsshQnzRH', 'Eaz8F2YQinWczTHUBAqaYt', 'changeGraph', 'eyJpZCI6ICJTaWVycmEgTGVvbmUiLCAidHlwZSI6ICJ2ZXJ0ZXgiLCAicHJvcHMiOiB7ImNvbG9yIjogNjUyODB9fQo=');</script>\n",
       "    "
      ],
      "text/plain": [
       "<IPython.core.display.HTML object>"
      ]
     },
     "metadata": {},
     "output_type": "display_data"
    },
    {
     "data": {
      "text/html": [
       "\n",
       "        <div id=\"2YMMxsCyfkbvpqFZPgNzXQ\"></div>\n",
       "        <script>netpixi.call('2YMMxsCyfkbvpqFZPgNzXQ', 'Eaz8F2YQinWczTHUBAqaYt', 'changeGraph', 'eyJpZCI6ICJaYW1iaWEiLCAidHlwZSI6ICJ2ZXJ0ZXgiLCAicHJvcHMiOiB7ImNvbG9yIjogNjUyODB9fQo=');</script>\n",
       "    "
      ],
      "text/plain": [
       "<IPython.core.display.HTML object>"
      ]
     },
     "metadata": {},
     "output_type": "display_data"
    },
    {
     "data": {
      "text/html": [
       "\n",
       "        <div id=\"8R547Am7Ht5H5N5kwVx8CL\"></div>\n",
       "        <script>netpixi.call('8R547Am7Ht5H5N5kwVx8CL', 'Eaz8F2YQinWczTHUBAqaYt', 'changeGraph', 'eyJpZCI6ICJIb25kdXJhcyIsICJ0eXBlIjogInZlcnRleCIsICJwcm9wcyI6IHsiY29sb3IiOiA2NTI4MH19Cg==');</script>\n",
       "    "
      ],
      "text/plain": [
       "<IPython.core.display.HTML object>"
      ]
     },
     "metadata": {},
     "output_type": "display_data"
    },
    {
     "data": {
      "text/html": [
       "\n",
       "        <div id=\"CF7V5C5jHXWTL9bo4bdsZR\"></div>\n",
       "        <script>netpixi.call('CF7V5C5jHXWTL9bo4bdsZR', 'Eaz8F2YQinWczTHUBAqaYt', 'changeGraph', 'eyJpZCI6ICJDZW50cmFsIEFmcmljYW4gUmVwLiIsICJ0eXBlIjogInZlcnRleCIsICJwcm9wcyI6IHsiY29sb3IiOiA2NTI4MH19Cg==');</script>\n",
       "    "
      ],
      "text/plain": [
       "<IPython.core.display.HTML object>"
      ]
     },
     "metadata": {},
     "output_type": "display_data"
    },
    {
     "data": {
      "text/html": [
       "\n",
       "        <div id=\"ek5R3TwDJqT8Hoiu2rrpej\"></div>\n",
       "        <script>netpixi.call('ek5R3TwDJqT8Hoiu2rrpej', 'Eaz8F2YQinWczTHUBAqaYt', 'changeGraph', 'eyJpZCI6ICJMaWJlcmlhIiwgInR5cGUiOiAidmVydGV4IiwgInByb3BzIjogeyJjb2xvciI6IDY1MjgwfX0K');</script>\n",
       "    "
      ],
      "text/plain": [
       "<IPython.core.display.HTML object>"
      ]
     },
     "metadata": {},
     "output_type": "display_data"
    },
    {
     "data": {
      "text/html": [
       "\n",
       "        <div id=\"WySKvQq9ZNT87R9E97WBwW\"></div>\n",
       "        <script>netpixi.call('WySKvQq9ZNT87R9E97WBwW', 'Eaz8F2YQinWczTHUBAqaYt', 'changeGraph', 'eyJpZCI6ICJEZW0uIFJlcC4gb2YgdGhlIENvbmdvIiwgInR5cGUiOiAidmVydGV4IiwgInByb3BzIjogeyJjb2xvciI6IDE2NzExNjgwfX0K');</script>\n",
       "    "
      ],
      "text/plain": [
       "<IPython.core.display.HTML object>"
      ]
     },
     "metadata": {},
     "output_type": "display_data"
    },
    {
     "data": {
      "text/html": [
       "\n",
       "        <div id=\"im6WvEPhRH65BQTejX2R7p\"></div>\n",
       "        <script>netpixi.call('im6WvEPhRH65BQTejX2R7p', 'Eaz8F2YQinWczTHUBAqaYt', 'changeGraph', 'eyJpZCI6ICJEamlib3V0aSIsICJ0eXBlIjogInZlcnRleCIsICJwcm9wcyI6IHsiY29sb3IiOiA2NTI4MH19Cg==');</script>\n",
       "    "
      ],
      "text/plain": [
       "<IPython.core.display.HTML object>"
      ]
     },
     "metadata": {},
     "output_type": "display_data"
    },
    {
     "data": {
      "text/html": [
       "\n",
       "        <div id=\"oWcPWc5odd93rroEjpBXfN\"></div>\n",
       "        <script>netpixi.call('oWcPWc5odd93rroEjpBXfN', 'Eaz8F2YQinWczTHUBAqaYt', 'changeGraph', 'eyJpZCI6ICJNb250ZW5lZ3JvIiwgInR5cGUiOiAidmVydGV4IiwgInByb3BzIjogeyJjb2xvciI6IDE2NzExNjgwfX0K');</script>\n",
       "    "
      ],
      "text/plain": [
       "<IPython.core.display.HTML object>"
      ]
     },
     "metadata": {},
     "output_type": "display_data"
    },
    {
     "data": {
      "text/html": [
       "\n",
       "        <div id=\"XoUmLE85cRetjNXVGvfhgb\"></div>\n",
       "        <script>netpixi.call('XoUmLE85cRetjNXVGvfhgb', 'Eaz8F2YQinWczTHUBAqaYt', 'changeGraph', 'eyJpZCI6ICJMdXhlbWJvdXJnIiwgInR5cGUiOiAidmVydGV4IiwgInByb3BzIjogeyJjb2xvciI6IDE2NzExNjgwfX0K');</script>\n",
       "    "
      ],
      "text/plain": [
       "<IPython.core.display.HTML object>"
      ]
     },
     "metadata": {},
     "output_type": "display_data"
    },
    {
     "data": {
      "text/html": [
       "\n",
       "        <div id=\"4GjXZwbih3DdDdyQdTqwTW\"></div>\n",
       "        <script>netpixi.call('4GjXZwbih3DdDdyQdTqwTW', 'Eaz8F2YQinWczTHUBAqaYt', 'changeGraph', 'eyJpZCI6ICJUb2dvIiwgInR5cGUiOiAidmVydGV4IiwgInByb3BzIjogeyJjb2xvciI6IDY1MjgwfX0K');</script>\n",
       "    "
      ],
      "text/plain": [
       "<IPython.core.display.HTML object>"
      ]
     },
     "metadata": {},
     "output_type": "display_data"
    },
    {
     "data": {
      "text/html": [
       "\n",
       "        <div id=\"a6eNg5yxgTSBoYKCQAjh5B\"></div>\n",
       "        <script>netpixi.call('a6eNg5yxgTSBoYKCQAjh5B', 'Eaz8F2YQinWczTHUBAqaYt', 'changeGraph', 'eyJpZCI6ICJJcmFuIChJc2xhbWljIFJlcC4gb2YpIiwgInR5cGUiOiAidmVydGV4IiwgInByb3BzIjogeyJjb2xvciI6IDY1MjgwfX0K');</script>\n",
       "    "
      ],
      "text/plain": [
       "<IPython.core.display.HTML object>"
      ]
     },
     "metadata": {},
     "output_type": "display_data"
    }
   ],
   "source": [
    "matrix = spectral.adjacency(g5)\n",
    "\n",
    "# # Além de cpnet.Surprise, há outras\n",
    "# # opções de algoritmos discretos:\n",
    "# # cpnet.BE\n",
    "# # cpnet.Lip\n",
    "# # cpnet.LapCore\n",
    "# # cpnet.LapSgnCore\n",
    "# # cpnet.LowRankCore\n",
    "\n",
    "algorithm = cpnet.BE()\n",
    "algorithm.detect(matrix)\n",
    "c = algorithm.get_coreness()\n",
    "\n",
    "# # Depois do código acima, c é um dicionário\n",
    "# # em que as chaves são índices de vértices e\n",
    "# # valores são os atribuídos pelo algoritmo.\n",
    "\n",
    "g5.add_vp('coreness')\n",
    "for i, coreness in c.items():\n",
    "    v = g5.get_vertex_by_index(i)\n",
    "    v['coreness'] = int(coreness)\n",
    "    \n",
    "# # Vamos pintar de vermelho todos os vértices\n",
    "# # identificados como centro e de verde todos\n",
    "# # os vértices identificados como periferia.\n",
    "    \n",
    "for v in g5.all_vertices():\n",
    "    if v['coreness'] == 1:\n",
    "        r5.vertex(v['id'], color=0xff0000)\n",
    "    else:\n",
    "        r5.vertex(v['id'], color=0x00ff00)\n",
    "\n",
    "# # Quando a execução desta célula terminar,\n",
    "# # veja como ficou a visualização acima."
   ]
  },
  {
   "cell_type": "code",
   "execution_count": 89,
   "id": "f615326b",
   "metadata": {},
   "outputs": [
    {
     "data": {
      "text/html": [
       "\n",
       "        <div id=\"nJCRpLSJwy3Lo4oefPZytq\"></div>\n",
       "        <script>netpixi.call('nJCRpLSJwy3Lo4oefPZytq', 'Eaz8F2YQinWczTHUBAqaYt', 'normalizeGraph', 'eyJ0eXBlIjogImVkZ2UiLCAicHJvcHMiOiB7InNyYyI6ICJhY2VpdG9zIiwgIm1pbiI6IDEsICJtYXgiOiAxMH19Cg==');</script>\n",
       "    "
      ],
      "text/plain": [
       "<IPython.core.display.HTML object>"
      ]
     },
     "metadata": {},
     "output_type": "display_data"
    },
    {
     "data": {
      "text/html": [
       "\n",
       "        <div id=\"AEN3XR73cjhCvkV8867t24\"></div>\n",
       "        <script>netpixi.call('AEN3XR73cjhCvkV8867t24', 'Eaz8F2YQinWczTHUBAqaYt', 'setGraph', 'eyJ0eXBlIjogInZlcnRleCIsICJwcm9wcyI6IHsic3JjIjogIm5vbWUiLCAiZHN0IjogIl9rZXkifX0K');</script>\n",
       "    "
      ],
      "text/plain": [
       "<IPython.core.display.HTML object>"
      ]
     },
     "metadata": {},
     "output_type": "display_data"
    },
    {
     "data": {
      "text/html": [
       "\n",
       "        <div id=\"hJYVGzVUUkBAPVx8dHhttc\"></div>\n",
       "        <script>netpixi.call('hJYVGzVUUkBAPVx8dHhttc', 'Eaz8F2YQinWczTHUBAqaYt', 'normalizeGraph', 'eyJ0eXBlIjogInZlcnRleCIsICJwcm9wcyI6IHsic3JjIjogImNvcmVuZXNzIiwgIm1pbiI6IDUsICJtYXgiOiAyNX19Cg==');</script>\n",
       "    "
      ],
      "text/plain": [
       "<IPython.core.display.HTML object>"
      ]
     },
     "metadata": {},
     "output_type": "display_data"
    }
   ],
   "source": [
    "r5.edge_scale('aceitos', 1, 10)\n",
    "r5.vertex_set_key('nome')\n",
    "r5.vertex_scale('coreness', 5, 25)"
   ]
  },
  {
   "cell_type": "code",
   "execution_count": 90,
   "id": "393bc503",
   "metadata": {
    "collapsed": true
   },
   "outputs": [
    {
     "data": {
      "text/html": [
       "<div>\n",
       "<style scoped>\n",
       "    .dataframe tbody tr th:only-of-type {\n",
       "        vertical-align: middle;\n",
       "    }\n",
       "\n",
       "    .dataframe tbody tr th {\n",
       "        vertical-align: top;\n",
       "    }\n",
       "\n",
       "    .dataframe thead th {\n",
       "        text-align: right;\n",
       "    }\n",
       "</style>\n",
       "<table border=\"1\" class=\"dataframe\">\n",
       "  <thead>\n",
       "    <tr style=\"text-align: right;\">\n",
       "      <th></th>\n",
       "      <th>nome</th>\n",
       "      <th>coreness</th>\n",
       "    </tr>\n",
       "    <tr>\n",
       "      <th>id</th>\n",
       "      <th></th>\n",
       "      <th></th>\n",
       "    </tr>\n",
       "  </thead>\n",
       "  <tbody>\n",
       "    <tr>\n",
       "      <th>China</th>\n",
       "      <td>China</td>\n",
       "      <td>1</td>\n",
       "    </tr>\n",
       "    <tr>\n",
       "      <th>Uruguay</th>\n",
       "      <td>Uruguay</td>\n",
       "      <td>1</td>\n",
       "    </tr>\n",
       "    <tr>\n",
       "      <th>Croatia</th>\n",
       "      <td>Croatia</td>\n",
       "      <td>1</td>\n",
       "    </tr>\n",
       "    <tr>\n",
       "      <th>Kenya</th>\n",
       "      <td>Kenya</td>\n",
       "      <td>1</td>\n",
       "    </tr>\n",
       "    <tr>\n",
       "      <th>Trinidad and Tobago</th>\n",
       "      <td>Trinidad and Tobago</td>\n",
       "      <td>1</td>\n",
       "    </tr>\n",
       "    <tr>\n",
       "      <th>...</th>\n",
       "      <td>...</td>\n",
       "      <td>...</td>\n",
       "    </tr>\n",
       "    <tr>\n",
       "      <th>United Arab Emirates</th>\n",
       "      <td>United Arab Emirates</td>\n",
       "      <td>0</td>\n",
       "    </tr>\n",
       "    <tr>\n",
       "      <th>Marshall Islands</th>\n",
       "      <td>Marshall Islands</td>\n",
       "      <td>0</td>\n",
       "    </tr>\n",
       "    <tr>\n",
       "      <th>Wallis and Futuna Islands</th>\n",
       "      <td>Wallis and Futuna Islands</td>\n",
       "      <td>0</td>\n",
       "    </tr>\n",
       "    <tr>\n",
       "      <th>Chad</th>\n",
       "      <td>Chad</td>\n",
       "      <td>0</td>\n",
       "    </tr>\n",
       "    <tr>\n",
       "      <th>Iran (Islamic Rep. of)</th>\n",
       "      <td>Iran (Islamic Rep. of)</td>\n",
       "      <td>0</td>\n",
       "    </tr>\n",
       "  </tbody>\n",
       "</table>\n",
       "<p>225 rows × 2 columns</p>\n",
       "</div>"
      ],
      "text/plain": [
       "                                                  nome  coreness\n",
       "id                                                              \n",
       "China                                            China         1\n",
       "Uruguay                                        Uruguay         1\n",
       "Croatia                                        Croatia         1\n",
       "Kenya                                            Kenya         1\n",
       "Trinidad and Tobago                Trinidad and Tobago         1\n",
       "...                                                ...       ...\n",
       "United Arab Emirates              United Arab Emirates         0\n",
       "Marshall Islands                      Marshall Islands         0\n",
       "Wallis and Futuna Islands   Wallis and Futuna Islands          0\n",
       "Chad                                              Chad         0\n",
       "Iran (Islamic Rep. of)          Iran (Islamic Rep. of)         0\n",
       "\n",
       "[225 rows x 2 columns]"
      ]
     },
     "execution_count": 90,
     "metadata": {},
     "output_type": "execute_result"
    }
   ],
   "source": [
    "df_coreness_sem_rec_ano = gt_data(g5).sort_values(\"coreness\", ascending = False)\n",
    "df_coreness_sem_rec_ano"
   ]
  },
  {
   "cell_type": "code",
   "execution_count": 91,
   "id": "3e6c6273",
   "metadata": {},
   "outputs": [
    {
     "data": {
      "text/html": [
       "\n",
       "        <div id=\"2KuBwXzgn65Ty35uGLBe73\"></div>\n",
       "        <script>netpixi.call('2KuBwXzgn65Ty35uGLBe73', 'Eaz8F2YQinWczTHUBAqaYt', 'setGraph', 'eyJ0eXBlIjogInZlcnRleCIsICJwcm9wcyI6IHsic3JjIjogIm5vbWUiLCAiZHN0IjogIl9rZXkifX0K');</script>\n",
       "    "
      ],
      "text/plain": [
       "<IPython.core.display.HTML object>"
      ]
     },
     "metadata": {},
     "output_type": "display_data"
    },
    {
     "data": {
      "text/html": [
       "\n",
       "        <div id=\"HEgNRQjrVXrUrvbkx5GuyY\"></div>\n",
       "        <script>netpixi.call('HEgNRQjrVXrUrvbkx5GuyY', 'Eaz8F2YQinWczTHUBAqaYt', 'changeGraph', 'eyJ0eXBlIjogInNldHRpbmdzIiwgInByb3BzIjogeyJ2ZXJ0ZXgiOiB7ImNvbG9yIjogMTY3NzcyMTV9fX0K');</script>\n",
       "    "
      ],
      "text/plain": [
       "<IPython.core.display.HTML object>"
      ]
     },
     "metadata": {},
     "output_type": "display_data"
    },
    {
     "data": {
      "text/html": [
       "\n",
       "        <div id=\"Rop78GkVDzsEd2pi3uBuab\"></div>\n",
       "        <script>netpixi.call('Rop78GkVDzsEd2pi3uBuab', 'Eaz8F2YQinWczTHUBAqaYt', 'changeGraph', 'eyJ0eXBlIjogInNldHRpbmdzIiwgInByb3BzIjogeyJlZGdlIjogeyJjb2xvciI6IDIxNDI4OTB9fX0K');</script>\n",
       "    "
      ],
      "text/plain": [
       "<IPython.core.display.HTML object>"
      ]
     },
     "metadata": {},
     "output_type": "display_data"
    }
   ],
   "source": [
    "r5.vertex_set_key('nome')\n",
    "r5.vertex_default(color=0xffffff)\n",
    "# mudar a cor, a espessura e a curvatura das arestas\n",
    "r5.edge_default(color=0x20B2AA)"
   ]
  },
  {
   "cell_type": "code",
   "execution_count": 92,
   "id": "b925b076",
   "metadata": {},
   "outputs": [
    {
     "data": {
      "text/html": [
       "\n",
       "        <div id=\"dnu92ZneLKSpuY6N46parY\"></div>\n",
       "        <script>netpixi.call('dnu92ZneLKSpuY6N46parY', 'Eaz8F2YQinWczTHUBAqaYt', 'normalizeGraph', 'eyJ0eXBlIjogImVkZ2UiLCAicHJvcHMiOiB7InNyYyI6ICJhY2VpdG9zIiwgIm1pbiI6IDEsICJtYXgiOiAxMH19Cg==');</script>\n",
       "    "
      ],
      "text/plain": [
       "<IPython.core.display.HTML object>"
      ]
     },
     "metadata": {},
     "output_type": "display_data"
    }
   ],
   "source": [
    "r5.edge_scale('aceitos', 1, 10)"
   ]
  },
  {
   "cell_type": "code",
   "execution_count": 93,
   "id": "4be4811c",
   "metadata": {
    "collapsed": true
   },
   "outputs": [
    {
     "data": {
      "text/html": [
       "<div>\n",
       "<style scoped>\n",
       "    .dataframe tbody tr th:only-of-type {\n",
       "        vertical-align: middle;\n",
       "    }\n",
       "\n",
       "    .dataframe tbody tr th {\n",
       "        vertical-align: top;\n",
       "    }\n",
       "\n",
       "    .dataframe thead th {\n",
       "        text-align: right;\n",
       "    }\n",
       "</style>\n",
       "<table border=\"1\" class=\"dataframe\">\n",
       "  <thead>\n",
       "    <tr style=\"text-align: right;\">\n",
       "      <th></th>\n",
       "      <th>origin</th>\n",
       "      <th>coreness</th>\n",
       "    </tr>\n",
       "    <tr>\n",
       "      <th>id</th>\n",
       "      <th></th>\n",
       "      <th></th>\n",
       "    </tr>\n",
       "  </thead>\n",
       "  <tbody>\n",
       "    <tr>\n",
       "      <th>China</th>\n",
       "      <td>China</td>\n",
       "      <td>1</td>\n",
       "    </tr>\n",
       "    <tr>\n",
       "      <th>Uruguay</th>\n",
       "      <td>Uruguay</td>\n",
       "      <td>1</td>\n",
       "    </tr>\n",
       "    <tr>\n",
       "      <th>Croatia</th>\n",
       "      <td>Croatia</td>\n",
       "      <td>1</td>\n",
       "    </tr>\n",
       "    <tr>\n",
       "      <th>Kenya</th>\n",
       "      <td>Kenya</td>\n",
       "      <td>1</td>\n",
       "    </tr>\n",
       "    <tr>\n",
       "      <th>Trinidad and Tobago</th>\n",
       "      <td>Trinidad and Tobago</td>\n",
       "      <td>1</td>\n",
       "    </tr>\n",
       "    <tr>\n",
       "      <th>...</th>\n",
       "      <td>...</td>\n",
       "      <td>...</td>\n",
       "    </tr>\n",
       "    <tr>\n",
       "      <th>United Arab Emirates</th>\n",
       "      <td>United Arab Emirates</td>\n",
       "      <td>0</td>\n",
       "    </tr>\n",
       "    <tr>\n",
       "      <th>Marshall Islands</th>\n",
       "      <td>Marshall Islands</td>\n",
       "      <td>0</td>\n",
       "    </tr>\n",
       "    <tr>\n",
       "      <th>Wallis and Futuna Islands</th>\n",
       "      <td>Wallis and Futuna Islands</td>\n",
       "      <td>0</td>\n",
       "    </tr>\n",
       "    <tr>\n",
       "      <th>Chad</th>\n",
       "      <td>Chad</td>\n",
       "      <td>0</td>\n",
       "    </tr>\n",
       "    <tr>\n",
       "      <th>Iran (Islamic Rep. of)</th>\n",
       "      <td>Iran (Islamic Rep. of)</td>\n",
       "      <td>0</td>\n",
       "    </tr>\n",
       "  </tbody>\n",
       "</table>\n",
       "<p>225 rows × 2 columns</p>\n",
       "</div>"
      ],
      "text/plain": [
       "                                                origin  coreness\n",
       "id                                                              \n",
       "China                                            China         1\n",
       "Uruguay                                        Uruguay         1\n",
       "Croatia                                        Croatia         1\n",
       "Kenya                                            Kenya         1\n",
       "Trinidad and Tobago                Trinidad and Tobago         1\n",
       "...                                                ...       ...\n",
       "United Arab Emirates              United Arab Emirates         0\n",
       "Marshall Islands                      Marshall Islands         0\n",
       "Wallis and Futuna Islands   Wallis and Futuna Islands          0\n",
       "Chad                                              Chad         0\n",
       "Iran (Islamic Rep. of)          Iran (Islamic Rep. of)         0\n",
       "\n",
       "[225 rows x 2 columns]"
      ]
     },
     "execution_count": 93,
     "metadata": {},
     "output_type": "execute_result"
    }
   ],
   "source": [
    "data_idh_sem_rec = data.loc[:, ['idh_avg', 'country', 'pop_cont']]\n",
    "\n",
    "data_idh_sem_rec = data_idh_sem_rec.rename(columns={'idh_2008_2012': 'idh_2008_2012', 'country': 'origin'})\n",
    "df_coreness_sem_rec_ano = df_coreness_sem_rec_ano.rename(columns={'nome':'origin'})\n",
    "\n",
    "df_coreness_sem_rec_ano"
   ]
  },
  {
   "cell_type": "code",
   "execution_count": 94,
   "id": "16eb4274",
   "metadata": {
    "collapsed": true
   },
   "outputs": [
    {
     "data": {
      "text/html": [
       "<div>\n",
       "<style scoped>\n",
       "    .dataframe tbody tr th:only-of-type {\n",
       "        vertical-align: middle;\n",
       "    }\n",
       "\n",
       "    .dataframe tbody tr th {\n",
       "        vertical-align: top;\n",
       "    }\n",
       "\n",
       "    .dataframe thead th {\n",
       "        text-align: right;\n",
       "    }\n",
       "</style>\n",
       "<table border=\"1\" class=\"dataframe\">\n",
       "  <thead>\n",
       "    <tr style=\"text-align: right;\">\n",
       "      <th></th>\n",
       "      <th>origin</th>\n",
       "      <th>coreness</th>\n",
       "      <th>idh_avg</th>\n",
       "      <th>pop_cont</th>\n",
       "      <th>value</th>\n",
       "    </tr>\n",
       "  </thead>\n",
       "  <tbody>\n",
       "    <tr>\n",
       "      <th>0</th>\n",
       "      <td>China</td>\n",
       "      <td>1</td>\n",
       "      <td>0.671941</td>\n",
       "      <td>0</td>\n",
       "      <td>122284.0</td>\n",
       "    </tr>\n",
       "    <tr>\n",
       "      <th>1</th>\n",
       "      <td>Uruguay</td>\n",
       "      <td>1</td>\n",
       "      <td>0.774059</td>\n",
       "      <td>0</td>\n",
       "      <td>143.0</td>\n",
       "    </tr>\n",
       "    <tr>\n",
       "      <th>2</th>\n",
       "      <td>Croatia</td>\n",
       "      <td>1</td>\n",
       "      <td>0.805706</td>\n",
       "      <td>0</td>\n",
       "      <td>718.0</td>\n",
       "    </tr>\n",
       "    <tr>\n",
       "      <th>3</th>\n",
       "      <td>Kenya</td>\n",
       "      <td>1</td>\n",
       "      <td>0.528059</td>\n",
       "      <td>0</td>\n",
       "      <td>8382.0</td>\n",
       "    </tr>\n",
       "    <tr>\n",
       "      <th>4</th>\n",
       "      <td>Trinidad and Tobago</td>\n",
       "      <td>1</td>\n",
       "      <td>0.764588</td>\n",
       "      <td>0</td>\n",
       "      <td>405.0</td>\n",
       "    </tr>\n",
       "    <tr>\n",
       "      <th>...</th>\n",
       "      <td>...</td>\n",
       "      <td>...</td>\n",
       "      <td>...</td>\n",
       "      <td>...</td>\n",
       "      <td>...</td>\n",
       "    </tr>\n",
       "    <tr>\n",
       "      <th>220</th>\n",
       "      <td>United Arab Emirates</td>\n",
       "      <td>0</td>\n",
       "      <td>0.819412</td>\n",
       "      <td>1</td>\n",
       "      <td>120.0</td>\n",
       "    </tr>\n",
       "    <tr>\n",
       "      <th>221</th>\n",
       "      <td>Marshall Islands</td>\n",
       "      <td>0</td>\n",
       "      <td>0.000000</td>\n",
       "      <td>0</td>\n",
       "      <td>3.0</td>\n",
       "    </tr>\n",
       "    <tr>\n",
       "      <th>222</th>\n",
       "      <td>Wallis and Futuna Islands</td>\n",
       "      <td>0</td>\n",
       "      <td>0.763000</td>\n",
       "      <td>0</td>\n",
       "      <td>0.0</td>\n",
       "    </tr>\n",
       "    <tr>\n",
       "      <th>223</th>\n",
       "      <td>Chad</td>\n",
       "      <td>0</td>\n",
       "      <td>0.350412</td>\n",
       "      <td>0</td>\n",
       "      <td>6545.0</td>\n",
       "    </tr>\n",
       "    <tr>\n",
       "      <th>224</th>\n",
       "      <td>Iran (Islamic Rep. of)</td>\n",
       "      <td>0</td>\n",
       "      <td>0.723588</td>\n",
       "      <td>1</td>\n",
       "      <td>126215.0</td>\n",
       "    </tr>\n",
       "  </tbody>\n",
       "</table>\n",
       "<p>225 rows × 5 columns</p>\n",
       "</div>"
      ],
      "text/plain": [
       "                         origin  coreness   idh_avg  pop_cont     value\n",
       "0                         China         1  0.671941         0  122284.0\n",
       "1                       Uruguay         1  0.774059         0     143.0\n",
       "2                       Croatia         1  0.805706         0     718.0\n",
       "3                         Kenya         1  0.528059         0    8382.0\n",
       "4           Trinidad and Tobago         1  0.764588         0     405.0\n",
       "..                          ...       ...       ...       ...       ...\n",
       "220        United Arab Emirates         0  0.819412         1     120.0\n",
       "221            Marshall Islands         0  0.000000         0       3.0\n",
       "222  Wallis and Futuna Islands          0  0.763000         0       0.0\n",
       "223                        Chad         0  0.350412         0    6545.0\n",
       "224      Iran (Islamic Rep. of)         0  0.723588         1  126215.0\n",
       "\n",
       "[225 rows x 5 columns]"
      ]
     },
     "execution_count": 94,
     "metadata": {},
     "output_type": "execute_result"
    }
   ],
   "source": [
    "df_intermediario_sem_rec = df_coreness_sem_rec_ano.merge(data_idh_sem_rec, on=\"origin\", how=\"left\")\n",
    "df_intermediario_sem_rec = df_intermediario_sem_rec.merge(df_sem_rec_out, on=\"origin\", how=\"left\")\n",
    "df_intermediario_sem_rec"
   ]
  },
  {
   "cell_type": "code",
   "execution_count": 95,
   "id": "4db35885",
   "metadata": {
    "collapsed": true
   },
   "outputs": [
    {
     "data": {
      "text/html": [
       "<div>\n",
       "<style scoped>\n",
       "    .dataframe tbody tr th:only-of-type {\n",
       "        vertical-align: middle;\n",
       "    }\n",
       "\n",
       "    .dataframe tbody tr th {\n",
       "        vertical-align: top;\n",
       "    }\n",
       "\n",
       "    .dataframe thead th {\n",
       "        text-align: right;\n",
       "    }\n",
       "</style>\n",
       "<table border=\"1\" class=\"dataframe\">\n",
       "  <thead>\n",
       "    <tr style=\"text-align: right;\">\n",
       "      <th></th>\n",
       "      <th>origin</th>\n",
       "      <th>coreness</th>\n",
       "      <th>idh_avg</th>\n",
       "      <th>pop_cont</th>\n",
       "      <th>value</th>\n",
       "    </tr>\n",
       "  </thead>\n",
       "  <tbody>\n",
       "    <tr>\n",
       "      <th>5</th>\n",
       "      <td>Estonia</td>\n",
       "      <td>1</td>\n",
       "      <td>0.841706</td>\n",
       "      <td>0</td>\n",
       "      <td>375.0</td>\n",
       "    </tr>\n",
       "    <tr>\n",
       "      <th>8</th>\n",
       "      <td>Romania</td>\n",
       "      <td>1</td>\n",
       "      <td>0.780118</td>\n",
       "      <td>0</td>\n",
       "      <td>2478.0</td>\n",
       "    </tr>\n",
       "    <tr>\n",
       "      <th>11</th>\n",
       "      <td>Malta</td>\n",
       "      <td>1</td>\n",
       "      <td>0.840176</td>\n",
       "      <td>0</td>\n",
       "      <td>4.0</td>\n",
       "    </tr>\n",
       "    <tr>\n",
       "      <th>22</th>\n",
       "      <td>Portugal</td>\n",
       "      <td>1</td>\n",
       "      <td>0.822059</td>\n",
       "      <td>0</td>\n",
       "      <td>26.0</td>\n",
       "    </tr>\n",
       "    <tr>\n",
       "      <th>24</th>\n",
       "      <td>Bulgaria</td>\n",
       "      <td>1</td>\n",
       "      <td>0.773059</td>\n",
       "      <td>0</td>\n",
       "      <td>1943.0</td>\n",
       "    </tr>\n",
       "    <tr>\n",
       "      <th>28</th>\n",
       "      <td>Slovenia</td>\n",
       "      <td>1</td>\n",
       "      <td>0.875706</td>\n",
       "      <td>0</td>\n",
       "      <td>28.0</td>\n",
       "    </tr>\n",
       "    <tr>\n",
       "      <th>30</th>\n",
       "      <td>France</td>\n",
       "      <td>1</td>\n",
       "      <td>0.873235</td>\n",
       "      <td>0</td>\n",
       "      <td>58.0</td>\n",
       "    </tr>\n",
       "    <tr>\n",
       "      <th>35</th>\n",
       "      <td>Hungary</td>\n",
       "      <td>1</td>\n",
       "      <td>0.816353</td>\n",
       "      <td>0</td>\n",
       "      <td>3697.0</td>\n",
       "    </tr>\n",
       "    <tr>\n",
       "      <th>54</th>\n",
       "      <td>Spain</td>\n",
       "      <td>1</td>\n",
       "      <td>0.863412</td>\n",
       "      <td>0</td>\n",
       "      <td>28.0</td>\n",
       "    </tr>\n",
       "    <tr>\n",
       "      <th>55</th>\n",
       "      <td>Latvia</td>\n",
       "      <td>1</td>\n",
       "      <td>0.812176</td>\n",
       "      <td>0</td>\n",
       "      <td>290.0</td>\n",
       "    </tr>\n",
       "    <tr>\n",
       "      <th>56</th>\n",
       "      <td>Sweden</td>\n",
       "      <td>1</td>\n",
       "      <td>0.914529</td>\n",
       "      <td>0</td>\n",
       "      <td>15.0</td>\n",
       "    </tr>\n",
       "    <tr>\n",
       "      <th>60</th>\n",
       "      <td>Lithuania</td>\n",
       "      <td>1</td>\n",
       "      <td>0.824118</td>\n",
       "      <td>0</td>\n",
       "      <td>246.0</td>\n",
       "    </tr>\n",
       "    <tr>\n",
       "      <th>61</th>\n",
       "      <td>Finland</td>\n",
       "      <td>1</td>\n",
       "      <td>0.907588</td>\n",
       "      <td>0</td>\n",
       "      <td>6.0</td>\n",
       "    </tr>\n",
       "    <tr>\n",
       "      <th>63</th>\n",
       "      <td>Belgium</td>\n",
       "      <td>1</td>\n",
       "      <td>0.903882</td>\n",
       "      <td>0</td>\n",
       "      <td>63.0</td>\n",
       "    </tr>\n",
       "    <tr>\n",
       "      <th>65</th>\n",
       "      <td>Greece</td>\n",
       "      <td>1</td>\n",
       "      <td>0.853294</td>\n",
       "      <td>0</td>\n",
       "      <td>70.0</td>\n",
       "    </tr>\n",
       "    <tr>\n",
       "      <th>70</th>\n",
       "      <td>Luxembourg</td>\n",
       "      <td>1</td>\n",
       "      <td>0.887882</td>\n",
       "      <td>0</td>\n",
       "      <td>0.0</td>\n",
       "    </tr>\n",
       "    <tr>\n",
       "      <th>71</th>\n",
       "      <td>Poland</td>\n",
       "      <td>1</td>\n",
       "      <td>0.829294</td>\n",
       "      <td>0</td>\n",
       "      <td>817.0</td>\n",
       "    </tr>\n",
       "    <tr>\n",
       "      <th>72</th>\n",
       "      <td>Austria</td>\n",
       "      <td>1</td>\n",
       "      <td>0.884647</td>\n",
       "      <td>0</td>\n",
       "      <td>5.0</td>\n",
       "    </tr>\n",
       "    <tr>\n",
       "      <th>77</th>\n",
       "      <td>Netherlands</td>\n",
       "      <td>1</td>\n",
       "      <td>0.910294</td>\n",
       "      <td>0</td>\n",
       "      <td>24.0</td>\n",
       "    </tr>\n",
       "    <tr>\n",
       "      <th>78</th>\n",
       "      <td>Canada</td>\n",
       "      <td>1</td>\n",
       "      <td>0.897294</td>\n",
       "      <td>0</td>\n",
       "      <td>75.0</td>\n",
       "    </tr>\n",
       "    <tr>\n",
       "      <th>79</th>\n",
       "      <td>United States of America</td>\n",
       "      <td>1</td>\n",
       "      <td>0.907353</td>\n",
       "      <td>0</td>\n",
       "      <td>140.0</td>\n",
       "    </tr>\n",
       "    <tr>\n",
       "      <th>81</th>\n",
       "      <td>Germany</td>\n",
       "      <td>1</td>\n",
       "      <td>0.917235</td>\n",
       "      <td>0</td>\n",
       "      <td>106.0</td>\n",
       "    </tr>\n",
       "    <tr>\n",
       "      <th>82</th>\n",
       "      <td>Denmark</td>\n",
       "      <td>1</td>\n",
       "      <td>0.913353</td>\n",
       "      <td>0</td>\n",
       "      <td>10.0</td>\n",
       "    </tr>\n",
       "    <tr>\n",
       "      <th>83</th>\n",
       "      <td>Ireland</td>\n",
       "      <td>1</td>\n",
       "      <td>0.904588</td>\n",
       "      <td>0</td>\n",
       "      <td>5.0</td>\n",
       "    </tr>\n",
       "    <tr>\n",
       "      <th>86</th>\n",
       "      <td>Slovakia</td>\n",
       "      <td>1</td>\n",
       "      <td>0.814118</td>\n",
       "      <td>0</td>\n",
       "      <td>742.0</td>\n",
       "    </tr>\n",
       "    <tr>\n",
       "      <th>88</th>\n",
       "      <td>Italy</td>\n",
       "      <td>1</td>\n",
       "      <td>0.869529</td>\n",
       "      <td>0</td>\n",
       "      <td>38.0</td>\n",
       "    </tr>\n",
       "    <tr>\n",
       "      <th>92</th>\n",
       "      <td>Cyprus</td>\n",
       "      <td>1</td>\n",
       "      <td>0.845529</td>\n",
       "      <td>0</td>\n",
       "      <td>4.0</td>\n",
       "    </tr>\n",
       "    <tr>\n",
       "      <th>93</th>\n",
       "      <td>Czech Rep.</td>\n",
       "      <td>1</td>\n",
       "      <td>0.856294</td>\n",
       "      <td>1</td>\n",
       "      <td>839.0</td>\n",
       "    </tr>\n",
       "  </tbody>\n",
       "</table>\n",
       "</div>"
      ],
      "text/plain": [
       "                      origin  coreness   idh_avg  pop_cont   value\n",
       "5                    Estonia         1  0.841706         0   375.0\n",
       "8                    Romania         1  0.780118         0  2478.0\n",
       "11                     Malta         1  0.840176         0     4.0\n",
       "22                  Portugal         1  0.822059         0    26.0\n",
       "24                  Bulgaria         1  0.773059         0  1943.0\n",
       "28                  Slovenia         1  0.875706         0    28.0\n",
       "30                    France         1  0.873235         0    58.0\n",
       "35                   Hungary         1  0.816353         0  3697.0\n",
       "54                     Spain         1  0.863412         0    28.0\n",
       "55                    Latvia         1  0.812176         0   290.0\n",
       "56                    Sweden         1  0.914529         0    15.0\n",
       "60                 Lithuania         1  0.824118         0   246.0\n",
       "61                   Finland         1  0.907588         0     6.0\n",
       "63                   Belgium         1  0.903882         0    63.0\n",
       "65                    Greece         1  0.853294         0    70.0\n",
       "70                Luxembourg         1  0.887882         0     0.0\n",
       "71                    Poland         1  0.829294         0   817.0\n",
       "72                   Austria         1  0.884647         0     5.0\n",
       "77               Netherlands         1  0.910294         0    24.0\n",
       "78                    Canada         1  0.897294         0    75.0\n",
       "79  United States of America         1  0.907353         0   140.0\n",
       "81                   Germany         1  0.917235         0   106.0\n",
       "82                   Denmark         1  0.913353         0    10.0\n",
       "83                   Ireland         1  0.904588         0     5.0\n",
       "86                  Slovakia         1  0.814118         0   742.0\n",
       "88                     Italy         1  0.869529         0    38.0\n",
       "92                    Cyprus         1  0.845529         0     4.0\n",
       "93                Czech Rep.         1  0.856294         1   839.0"
      ]
     },
     "execution_count": 95,
     "metadata": {},
     "output_type": "execute_result"
    }
   ],
   "source": [
    "df_filtrado_idh_sem_rec_ano = df_intermediario_sem_rec[(df_intermediario_sem_rec['origin'].isin(lista_paises_eu_america))]\n",
    "df_filtrado_idh_sem_rec_ano"
   ]
  },
  {
   "cell_type": "markdown",
   "id": "71f82927",
   "metadata": {},
   "source": [
    "#### Regressão\n",
    "\n",
    "Com os resultados obtidos no processo acima, obtivemos a tabela logo acima dessa célula, a df_filtrado_idh_sem_rec_ano, correlacionando o valor da saída de pessoas com o recorte proposto e, para podermos analisar se o recorte realmente faz sentido e faria com que a hipótese não corroborasse mais, precisamos realizar uma regressão linear, uma vez que a variável dependente (value) é um valor contínuo."
   ]
  },
  {
   "cell_type": "code",
   "execution_count": 96,
   "id": "7e6b8a5e",
   "metadata": {
    "collapsed": true
   },
   "outputs": [
    {
     "data": {
      "text/html": [
       "<table class=\"simpletable\">\n",
       "<caption>OLS Regression Results</caption>\n",
       "<tr>\n",
       "  <th>Dep. Variable:</th>     <td>np.log1p(value)</td> <th>  R-squared:         </th> <td>   0.452</td>\n",
       "</tr>\n",
       "<tr>\n",
       "  <th>Model:</th>                   <td>OLS</td>       <th>  Adj. R-squared:    </th> <td>   0.409</td>\n",
       "</tr>\n",
       "<tr>\n",
       "  <th>Method:</th>             <td>Least Squares</td>  <th>  F-statistic:       </th> <td>   10.32</td>\n",
       "</tr>\n",
       "<tr>\n",
       "  <th>Date:</th>             <td>Sun, 20 Nov 2022</td> <th>  Prob (F-statistic):</th> <td>0.000539</td>\n",
       "</tr>\n",
       "<tr>\n",
       "  <th>Time:</th>                 <td>05:30:14</td>     <th>  Log-Likelihood:    </th> <td> -52.050</td>\n",
       "</tr>\n",
       "<tr>\n",
       "  <th>No. Observations:</th>      <td>    28</td>      <th>  AIC:               </th> <td>   110.1</td>\n",
       "</tr>\n",
       "<tr>\n",
       "  <th>Df Residuals:</th>          <td>    25</td>      <th>  BIC:               </th> <td>   114.1</td>\n",
       "</tr>\n",
       "<tr>\n",
       "  <th>Df Model:</th>              <td>     2</td>      <th>                     </th>     <td> </td>   \n",
       "</tr>\n",
       "<tr>\n",
       "  <th>Covariance Type:</th>      <td>nonrobust</td>    <th>                     </th>     <td> </td>   \n",
       "</tr>\n",
       "</table>\n",
       "<table class=\"simpletable\">\n",
       "<tr>\n",
       "      <td></td>         <th>coef</th>     <th>std err</th>      <th>t</th>      <th>P>|t|</th>  <th>[0.025</th>    <th>0.975]</th>  \n",
       "</tr>\n",
       "<tr>\n",
       "  <th>Intercept</th> <td>   15.8497</td> <td>    3.235</td> <td>    4.900</td> <td> 0.000</td> <td>    9.188</td> <td>   22.511</td>\n",
       "</tr>\n",
       "<tr>\n",
       "  <th>idh_avg</th>   <td>  -31.9796</td> <td>    7.493</td> <td>   -4.268</td> <td> 0.000</td> <td>  -47.412</td> <td>  -16.547</td>\n",
       "</tr>\n",
       "<tr>\n",
       "  <th>coreness</th>  <td>   15.8497</td> <td>    3.235</td> <td>    4.900</td> <td> 0.000</td> <td>    9.188</td> <td>   22.511</td>\n",
       "</tr>\n",
       "<tr>\n",
       "  <th>pop_cont</th>  <td>    2.4180</td> <td>    1.674</td> <td>    1.444</td> <td> 0.161</td> <td>   -1.030</td> <td>    5.866</td>\n",
       "</tr>\n",
       "</table>\n",
       "<table class=\"simpletable\">\n",
       "<tr>\n",
       "  <th>Omnibus:</th>       <td> 1.984</td> <th>  Durbin-Watson:     </th> <td>   1.946</td>\n",
       "</tr>\n",
       "<tr>\n",
       "  <th>Prob(Omnibus):</th> <td> 0.371</td> <th>  Jarque-Bera (JB):  </th> <td>   1.507</td>\n",
       "</tr>\n",
       "<tr>\n",
       "  <th>Skew:</th>          <td>-0.562</td> <th>  Prob(JB):          </th> <td>   0.471</td>\n",
       "</tr>\n",
       "<tr>\n",
       "  <th>Kurtosis:</th>      <td> 2.827</td> <th>  Cond. No.          </th> <td>1.15e+16</td>\n",
       "</tr>\n",
       "</table><br/><br/>Notes:<br/>[1] Standard Errors assume that the covariance matrix of the errors is correctly specified.<br/>[2] The smallest eigenvalue is 5.79e-31. This might indicate that there are<br/>strong multicollinearity problems or that the design matrix is singular."
      ],
      "text/plain": [
       "<class 'statsmodels.iolib.summary.Summary'>\n",
       "\"\"\"\n",
       "                            OLS Regression Results                            \n",
       "==============================================================================\n",
       "Dep. Variable:        np.log1p(value)   R-squared:                       0.452\n",
       "Model:                            OLS   Adj. R-squared:                  0.409\n",
       "Method:                 Least Squares   F-statistic:                     10.32\n",
       "Date:                Sun, 20 Nov 2022   Prob (F-statistic):           0.000539\n",
       "Time:                        05:30:14   Log-Likelihood:                -52.050\n",
       "No. Observations:                  28   AIC:                             110.1\n",
       "Df Residuals:                      25   BIC:                             114.1\n",
       "Df Model:                           2                                         \n",
       "Covariance Type:            nonrobust                                         \n",
       "==============================================================================\n",
       "                 coef    std err          t      P>|t|      [0.025      0.975]\n",
       "------------------------------------------------------------------------------\n",
       "Intercept     15.8497      3.235      4.900      0.000       9.188      22.511\n",
       "idh_avg      -31.9796      7.493     -4.268      0.000     -47.412     -16.547\n",
       "coreness      15.8497      3.235      4.900      0.000       9.188      22.511\n",
       "pop_cont       2.4180      1.674      1.444      0.161      -1.030       5.866\n",
       "==============================================================================\n",
       "Omnibus:                        1.984   Durbin-Watson:                   1.946\n",
       "Prob(Omnibus):                  0.371   Jarque-Bera (JB):                1.507\n",
       "Skew:                          -0.562   Prob(JB):                        0.471\n",
       "Kurtosis:                       2.827   Cond. No.                     1.15e+16\n",
       "==============================================================================\n",
       "\n",
       "Notes:\n",
       "[1] Standard Errors assume that the covariance matrix of the errors is correctly specified.\n",
       "[2] The smallest eigenvalue is 5.79e-31. This might indicate that there are\n",
       "strong multicollinearity problems or that the design matrix is singular.\n",
       "\"\"\""
      ]
     },
     "execution_count": 96,
     "metadata": {},
     "output_type": "execute_result"
    }
   ],
   "source": [
    "result_hip4_sem_rec = reg.linear(data=df_filtrado_idh_sem_rec_ano, formula='np.log1p(value) ~ idh_avg + coreness + pop_cont')\n",
    "result_hip4_sem_rec.summary()"
   ]
  },
  {
   "cell_type": "code",
   "execution_count": 97,
   "id": "46941ac2",
   "metadata": {},
   "outputs": [
    {
     "data": {
      "text/html": [
       "<style type=\"text/css\">\n",
       "#T_31946_row0_col0, #T_31946_row1_col0, #T_31946_row2_col0 {\n",
       "  font-family: monospace;\n",
       "  text-align: left;\n",
       "}\n",
       "</style>\n",
       "<table id=\"T_31946\">\n",
       "  <thead>\n",
       "  </thead>\n",
       "  <tbody>\n",
       "    <tr>\n",
       "      <td id=\"T_31946_row0_col0\" class=\"data row0 col0\" >-31.980 (7.493) ***</td>\n",
       "    </tr>\n",
       "    <tr>\n",
       "      <td id=\"T_31946_row1_col0\" class=\"data row1 col0\" >+15.850 (3.235) ***</td>\n",
       "    </tr>\n",
       "    <tr>\n",
       "      <td id=\"T_31946_row2_col0\" class=\"data row2 col0\" >+02.418 (1.674)</td>\n",
       "    </tr>\n",
       "  </tbody>\n",
       "</table>\n"
      ],
      "text/plain": [
       "<pandas.io.formats.style.Styler at 0x7f0dac7b0760>"
      ]
     },
     "execution_count": 97,
     "metadata": {},
     "output_type": "execute_result"
    }
   ],
   "source": [
    "result_hip4_sem_rec.nano_summary()"
   ]
  },
  {
   "cell_type": "code",
   "execution_count": 98,
   "id": "5b698c13",
   "metadata": {
    "collapsed": true
   },
   "outputs": [
    {
     "data": {
      "image/png": "[encoded data removed]",
      "text/plain": [
       "<Figure size 1280x480 with 2 Axes>"
      ]
     },
     "metadata": {},
     "output_type": "display_data"
    }
   ],
   "source": [
    "result_hip4_sem_rec.plot_residuals()"
   ]
  },
  {
   "cell_type": "markdown",
   "id": "c1583fa7",
   "metadata": {},
   "source": [
    "\n",
    "# Anos de 2008 a 2012\n",
    "\n",
    "## Sem recortes de países"
   ]
  },
  {
   "cell_type": "markdown",
   "id": "57be623f",
   "metadata": {},
   "source": [
    "-------------------------------------------------------------------------------------------------------------------------------"
   ]
  },
  {
   "cell_type": "markdown",
   "id": "4061391c",
   "metadata": {},
   "source": [
    "\n",
    "## Hipóteses 4: Desenvolvimento tem relação com vazão de pessoas\n",
    "\n",
    "### C : EXT: DSV, CORE, CONP"
   ]
  },
  {
   "cell_type": "markdown",
   "id": "95a14ec4",
   "metadata": {},
   "source": [
    "#### Explicação:\n",
    "\n",
    "Essa hipótese correlaciona o desenvolvimento socioeconômico do país (medido pelo IDH) com a vazão de pessoas. Ou seja, quanto menor for o desenvolvimento de uma nação, maior é a sua saída de pessoas, uma vez que, visando melhores condições de vida ou a própria sobrevivência, pessoas podem sair de um país, devido ao seu baixo desenvolvimento, em maior quantidade do que em países com um IDH alto. Além disso, a saída de pessoas também está correlacionada com o coreness e a contenção populacional (variáveis de controle), uma vez que quanto maior a vazão de pessoas, mais ao centro esse país está e menor é a sua contenção populacional.\n",
    "\n",
    "#### Recorte: Países da União Europeia (UE) e da América Anglo-saxônica\n",
    "\n",
    "Esse recorte foi pensado pois, ao tratarmos dos anos de 2008 a 2012, com a crise imobiliária dos EUA em 2008 que resultou em uma crise mundial, diversos países por todo o globo foram afetados e, com isso, a saída de pessoas pode ter sido muito afetada em países com alto IDH, podendo resultar em uma alta vazão de pessoas desses países, o que deixaria de corroborar com a hipótese 4."
   ]
  },
  {
   "cell_type": "code",
   "execution_count": 192,
   "id": "8fd84862",
   "metadata": {
    "collapsed": true
   },
   "outputs": [
    {
     "data": {
      "text/html": [
       "<div>\n",
       "<style scoped>\n",
       "    .dataframe tbody tr th:only-of-type {\n",
       "        vertical-align: middle;\n",
       "    }\n",
       "\n",
       "    .dataframe tbody tr th {\n",
       "        vertical-align: top;\n",
       "    }\n",
       "\n",
       "    .dataframe thead th {\n",
       "        text-align: right;\n",
       "    }\n",
       "</style>\n",
       "<table border=\"1\" class=\"dataframe\">\n",
       "  <thead>\n",
       "    <tr style=\"text-align: right;\">\n",
       "      <th></th>\n",
       "      <th>country</th>\n",
       "      <th>coreness</th>\n",
       "      <th>idh_2008_2012</th>\n",
       "      <th>pop_cont</th>\n",
       "      <th>out_degree</th>\n",
       "      <th>in_degree</th>\n",
       "      <th>rejected</th>\n",
       "    </tr>\n",
       "  </thead>\n",
       "  <tbody>\n",
       "    <tr>\n",
       "      <th>0</th>\n",
       "      <td>Denmark</td>\n",
       "      <td>1</td>\n",
       "      <td>0.9218</td>\n",
       "      <td>0</td>\n",
       "      <td>0.0</td>\n",
       "      <td>3685.0</td>\n",
       "      <td>10179.0</td>\n",
       "    </tr>\n",
       "    <tr>\n",
       "      <th>1</th>\n",
       "      <td>Ecuador</td>\n",
       "      <td>1</td>\n",
       "      <td>0.7290</td>\n",
       "      <td>0</td>\n",
       "      <td>163.0</td>\n",
       "      <td>31987.0</td>\n",
       "      <td>38839.0</td>\n",
       "    </tr>\n",
       "    <tr>\n",
       "      <th>2</th>\n",
       "      <td>Spain</td>\n",
       "      <td>1</td>\n",
       "      <td>0.8718</td>\n",
       "      <td>0</td>\n",
       "      <td>16.0</td>\n",
       "      <td>1137.0</td>\n",
       "      <td>11965.0</td>\n",
       "    </tr>\n",
       "    <tr>\n",
       "      <th>3</th>\n",
       "      <td>Sweden</td>\n",
       "      <td>1</td>\n",
       "      <td>0.9098</td>\n",
       "      <td>0</td>\n",
       "      <td>9.0</td>\n",
       "      <td>13548.0</td>\n",
       "      <td>139848.0</td>\n",
       "    </tr>\n",
       "    <tr>\n",
       "      <th>4</th>\n",
       "      <td>Switzerland</td>\n",
       "      <td>1</td>\n",
       "      <td>0.9372</td>\n",
       "      <td>0</td>\n",
       "      <td>2.0</td>\n",
       "      <td>14535.0</td>\n",
       "      <td>18415.0</td>\n",
       "    </tr>\n",
       "    <tr>\n",
       "      <th>...</th>\n",
       "      <td>...</td>\n",
       "      <td>...</td>\n",
       "      <td>...</td>\n",
       "      <td>...</td>\n",
       "      <td>...</td>\n",
       "      <td>...</td>\n",
       "      <td>...</td>\n",
       "    </tr>\n",
       "    <tr>\n",
       "      <th>220</th>\n",
       "      <td>United Rep. of Tanzania</td>\n",
       "      <td>0</td>\n",
       "      <td>0.4806</td>\n",
       "      <td>0</td>\n",
       "      <td>225.0</td>\n",
       "      <td>162.0</td>\n",
       "      <td>27.0</td>\n",
       "    </tr>\n",
       "    <tr>\n",
       "      <th>221</th>\n",
       "      <td>Svalbard and Jan Mayen</td>\n",
       "      <td>0</td>\n",
       "      <td>0.0000</td>\n",
       "      <td>0</td>\n",
       "      <td>0.0</td>\n",
       "      <td>0.0</td>\n",
       "      <td>0.0</td>\n",
       "    </tr>\n",
       "    <tr>\n",
       "      <th>222</th>\n",
       "      <td>Russian Federation</td>\n",
       "      <td>0</td>\n",
       "      <td>0.7834</td>\n",
       "      <td>1</td>\n",
       "      <td>20428.0</td>\n",
       "      <td>2182.0</td>\n",
       "      <td>13537.0</td>\n",
       "    </tr>\n",
       "    <tr>\n",
       "      <th>223</th>\n",
       "      <td>Lebanon</td>\n",
       "      <td>0</td>\n",
       "      <td>0.7628</td>\n",
       "      <td>1</td>\n",
       "      <td>1068.0</td>\n",
       "      <td>1331.0</td>\n",
       "      <td>2119.0</td>\n",
       "    </tr>\n",
       "    <tr>\n",
       "      <th>224</th>\n",
       "      <td>Iran (Islamic Rep. of)</td>\n",
       "      <td>0</td>\n",
       "      <td>0.7450</td>\n",
       "      <td>1</td>\n",
       "      <td>35972.0</td>\n",
       "      <td>471.0</td>\n",
       "      <td>580.0</td>\n",
       "    </tr>\n",
       "  </tbody>\n",
       "</table>\n",
       "<p>225 rows × 7 columns</p>\n",
       "</div>"
      ],
      "text/plain": [
       "                     country  coreness  idh_2008_2012  pop_cont  out_degree  \\\n",
       "0                    Denmark         1         0.9218         0         0.0   \n",
       "1                    Ecuador         1         0.7290         0       163.0   \n",
       "2                      Spain         1         0.8718         0        16.0   \n",
       "3                     Sweden         1         0.9098         0         9.0   \n",
       "4                Switzerland         1         0.9372         0         2.0   \n",
       "..                       ...       ...            ...       ...         ...   \n",
       "220  United Rep. of Tanzania         0         0.4806         0       225.0   \n",
       "221   Svalbard and Jan Mayen         0         0.0000         0         0.0   \n",
       "222       Russian Federation         0         0.7834         1     20428.0   \n",
       "223                  Lebanon         0         0.7628         1      1068.0   \n",
       "224   Iran (Islamic Rep. of)         0         0.7450         1     35972.0   \n",
       "\n",
       "     in_degree  rejected  \n",
       "0       3685.0   10179.0  \n",
       "1      31987.0   38839.0  \n",
       "2       1137.0   11965.0  \n",
       "3      13548.0  139848.0  \n",
       "4      14535.0   18415.0  \n",
       "..         ...       ...  \n",
       "220      162.0      27.0  \n",
       "221        0.0       0.0  \n",
       "222     2182.0   13537.0  \n",
       "223     1331.0    2119.0  \n",
       "224      471.0     580.0  \n",
       "\n",
       "[225 rows x 7 columns]"
      ]
     },
     "execution_count": 192,
     "metadata": {},
     "output_type": "execute_result"
    }
   ],
   "source": [
    "df_soano = df_intermediario\n",
    "df_soano"
   ]
  },
  {
   "cell_type": "markdown",
   "id": "f2a59809",
   "metadata": {},
   "source": [
    "#### Regressão\n",
    "\n",
    "Com os resultados obtidos no processo acima, obtivemos a tabela logo acima dessa célula, a df_soano, correlacionando o valor da saída de pessoas com o recorte proposto e, para podermos analisar se o recorte realmente faz sentido e faria com que a hipótese não corroborasse mais, precisamos realizar uma regressão linear, uma vez que a variável dependente (value) é um valor contínuo."
   ]
  },
  {
   "cell_type": "code",
   "execution_count": 194,
   "id": "b8052e3d",
   "metadata": {
    "collapsed": true
   },
   "outputs": [
    {
     "data": {
      "text/html": [
       "<table class=\"simpletable\">\n",
       "<caption>OLS Regression Results</caption>\n",
       "<tr>\n",
       "  <th>Dep. Variable:</th>    <td>np.log1p(out_degree)</td> <th>  R-squared:         </th> <td>   0.121</td>\n",
       "</tr>\n",
       "<tr>\n",
       "  <th>Model:</th>                     <td>OLS</td>         <th>  Adj. R-squared:    </th> <td>   0.110</td>\n",
       "</tr>\n",
       "<tr>\n",
       "  <th>Method:</th>               <td>Least Squares</td>    <th>  F-statistic:       </th> <td>   10.19</td>\n",
       "</tr>\n",
       "<tr>\n",
       "  <th>Date:</th>               <td>Sun, 20 Nov 2022</td>   <th>  Prob (F-statistic):</th> <td>2.60e-06</td>\n",
       "</tr>\n",
       "<tr>\n",
       "  <th>Time:</th>                   <td>05:45:57</td>       <th>  Log-Likelihood:    </th> <td> -565.96</td>\n",
       "</tr>\n",
       "<tr>\n",
       "  <th>No. Observations:</th>        <td>   225</td>        <th>  AIC:               </th> <td>   1140.</td>\n",
       "</tr>\n",
       "<tr>\n",
       "  <th>Df Residuals:</th>            <td>   221</td>        <th>  BIC:               </th> <td>   1154.</td>\n",
       "</tr>\n",
       "<tr>\n",
       "  <th>Df Model:</th>                <td>     3</td>        <th>                     </th>     <td> </td>   \n",
       "</tr>\n",
       "<tr>\n",
       "  <th>Covariance Type:</th>        <td>nonrobust</td>      <th>                     </th>     <td> </td>   \n",
       "</tr>\n",
       "</table>\n",
       "<table class=\"simpletable\">\n",
       "<tr>\n",
       "        <td></td>           <th>coef</th>     <th>std err</th>      <th>t</th>      <th>P>|t|</th>  <th>[0.025</th>    <th>0.975]</th>  \n",
       "</tr>\n",
       "<tr>\n",
       "  <th>Intercept</th>     <td>    6.5358</td> <td>    0.631</td> <td>   10.356</td> <td> 0.000</td> <td>    5.292</td> <td>    7.780</td>\n",
       "</tr>\n",
       "<tr>\n",
       "  <th>idh_2008_2012</th> <td>   -2.9657</td> <td>    0.940</td> <td>   -3.154</td> <td> 0.002</td> <td>   -4.819</td> <td>   -1.113</td>\n",
       "</tr>\n",
       "<tr>\n",
       "  <th>coreness</th>      <td>   -1.4661</td> <td>    0.751</td> <td>   -1.953</td> <td> 0.052</td> <td>   -2.945</td> <td>    0.013</td>\n",
       "</tr>\n",
       "<tr>\n",
       "  <th>pop_cont</th>      <td>    2.6116</td> <td>    0.772</td> <td>    3.383</td> <td> 0.001</td> <td>    1.090</td> <td>    4.133</td>\n",
       "</tr>\n",
       "</table>\n",
       "<table class=\"simpletable\">\n",
       "<tr>\n",
       "  <th>Omnibus:</th>       <td> 8.945</td> <th>  Durbin-Watson:     </th> <td>   2.166</td>\n",
       "</tr>\n",
       "<tr>\n",
       "  <th>Prob(Omnibus):</th> <td> 0.011</td> <th>  Jarque-Bera (JB):  </th> <td>   5.067</td>\n",
       "</tr>\n",
       "<tr>\n",
       "  <th>Skew:</th>          <td>-0.172</td> <th>  Prob(JB):          </th> <td>  0.0794</td>\n",
       "</tr>\n",
       "<tr>\n",
       "  <th>Kurtosis:</th>      <td> 2.350</td> <th>  Cond. No.          </th> <td>    6.97</td>\n",
       "</tr>\n",
       "</table><br/><br/>Notes:<br/>[1] Standard Errors assume that the covariance matrix of the errors is correctly specified."
      ],
      "text/plain": [
       "<class 'statsmodels.iolib.summary.Summary'>\n",
       "\"\"\"\n",
       "                             OLS Regression Results                             \n",
       "================================================================================\n",
       "Dep. Variable:     np.log1p(out_degree)   R-squared:                       0.121\n",
       "Model:                              OLS   Adj. R-squared:                  0.110\n",
       "Method:                   Least Squares   F-statistic:                     10.19\n",
       "Date:                  Sun, 20 Nov 2022   Prob (F-statistic):           2.60e-06\n",
       "Time:                          05:45:57   Log-Likelihood:                -565.96\n",
       "No. Observations:                   225   AIC:                             1140.\n",
       "Df Residuals:                       221   BIC:                             1154.\n",
       "Df Model:                             3                                         \n",
       "Covariance Type:              nonrobust                                         \n",
       "=================================================================================\n",
       "                    coef    std err          t      P>|t|      [0.025      0.975]\n",
       "---------------------------------------------------------------------------------\n",
       "Intercept         6.5358      0.631     10.356      0.000       5.292       7.780\n",
       "idh_2008_2012    -2.9657      0.940     -3.154      0.002      -4.819      -1.113\n",
       "coreness         -1.4661      0.751     -1.953      0.052      -2.945       0.013\n",
       "pop_cont          2.6116      0.772      3.383      0.001       1.090       4.133\n",
       "==============================================================================\n",
       "Omnibus:                        8.945   Durbin-Watson:                   2.166\n",
       "Prob(Omnibus):                  0.011   Jarque-Bera (JB):                5.067\n",
       "Skew:                          -0.172   Prob(JB):                       0.0794\n",
       "Kurtosis:                       2.350   Cond. No.                         6.97\n",
       "==============================================================================\n",
       "\n",
       "Notes:\n",
       "[1] Standard Errors assume that the covariance matrix of the errors is correctly specified.\n",
       "\"\"\""
      ]
     },
     "execution_count": 194,
     "metadata": {},
     "output_type": "execute_result"
    }
   ],
   "source": [
    "result_hip4_so_ano = reg.linear(data=df_soano, formula='np.log1p(out_degree) ~ idh_2008_2012 + coreness + pop_cont')\n",
    "result_hip4_so_ano.summary()"
   ]
  },
  {
   "cell_type": "code",
   "execution_count": 195,
   "id": "3d60be3e",
   "metadata": {},
   "outputs": [
    {
     "data": {
      "text/html": [
       "<style type=\"text/css\">\n",
       "#T_a33c9_row0_col0, #T_a33c9_row1_col0, #T_a33c9_row2_col0 {\n",
       "  font-family: monospace;\n",
       "  text-align: left;\n",
       "}\n",
       "</style>\n",
       "<table id=\"T_a33c9\">\n",
       "  <thead>\n",
       "  </thead>\n",
       "  <tbody>\n",
       "    <tr>\n",
       "      <td id=\"T_a33c9_row0_col0\" class=\"data row0 col0\" >-2.966 (0.940) ***</td>\n",
       "    </tr>\n",
       "    <tr>\n",
       "      <td id=\"T_a33c9_row1_col0\" class=\"data row1 col0\" >-1.466 (0.751) *</td>\n",
       "    </tr>\n",
       "    <tr>\n",
       "      <td id=\"T_a33c9_row2_col0\" class=\"data row2 col0\" >+2.612 (0.772) ***</td>\n",
       "    </tr>\n",
       "  </tbody>\n",
       "</table>\n"
      ],
      "text/plain": [
       "<pandas.io.formats.style.Styler at 0x7f0dac4f2710>"
      ]
     },
     "execution_count": 195,
     "metadata": {},
     "output_type": "execute_result"
    }
   ],
   "source": [
    "result_hip4_so_ano.nano_summary()"
   ]
  },
  {
   "cell_type": "code",
   "execution_count": 196,
   "id": "485ea2b1",
   "metadata": {
    "collapsed": true
   },
   "outputs": [
    {
     "data": {
      "image/png": "[encoded data removed]",
      "text/plain": [
       "<Figure size 1280x480 with 2 Axes>"
      ]
     },
     "metadata": {},
     "output_type": "display_data"
    }
   ],
   "source": [
    "result_hip4_so_ano.plot_residuals()"
   ]
  },
  {
   "cell_type": "markdown",
   "id": "91e4c1e5",
   "metadata": {},
   "source": [
    "\n",
    "## Hipóteses 5: Abertura tem relação com chegada de pessoas\n",
    "\n",
    "### H : IN: OPEN, EXT, CORE"
   ]
  },
  {
   "cell_type": "markdown",
   "id": "f0073d7f",
   "metadata": {},
   "source": [
    "#### Explicação:\n",
    "\n",
    "Essa hipótese correlaciona a abertura de um país com a entrada de pessoas. Ou seja, quanto maior for a abertura de um país, mais pessoas chegam até ele. Ou seja, quanto mais fácil for de entrar nas fronteiras de uma nação, maior será o número de pessoas capazes de buscar refúgio nesses países. Além disso, a chegada de pessoas também está relacionada com a saída de pessoas e o coreness (variáveis de controle), uma vez que quanto maior a saída de pessoas de um país, mais pessoas chegarão em outros países, além de que quanto maior a entrada de pessoas, maior é o seu coreness. \n",
    "\n",
    "\n",
    "#### Recorte: 2008 a 2012\n",
    "\n",
    "Esse recorte foi pensado pois, ao tratarmos dos anos de 2008 a 2012, pensamos na crise imobiliária dos Estados Unidos que ocorreu em 2008 e, posteriormente, resultou em uma crise econômica global. Além disso, também houve uma pandemia da gripe H1N1 no ano de 2009. Esses dois acontecimentos, juntos, poderiam resultar em uma possível mudança significativa na abertura de países que foram mais afetados geopoliticamente com essas crises, chegando a uma menor abertura desses países, já que houve uma maior restrição na entrada de pessoas por conta do aumento do risco de contaminação da H1N1 e por também não estarem em condições financeiras favoráveis a entrada de ainda mais pessoas em seu território."
   ]
  },
  {
   "cell_type": "code",
   "execution_count": 198,
   "id": "fffeb03e",
   "metadata": {
    "collapsed": true
   },
   "outputs": [
    {
     "data": {
      "text/html": [
       "<div>\n",
       "<style scoped>\n",
       "    .dataframe tbody tr th:only-of-type {\n",
       "        vertical-align: middle;\n",
       "    }\n",
       "\n",
       "    .dataframe tbody tr th {\n",
       "        vertical-align: top;\n",
       "    }\n",
       "\n",
       "    .dataframe thead th {\n",
       "        text-align: right;\n",
       "    }\n",
       "</style>\n",
       "<table border=\"1\" class=\"dataframe\">\n",
       "  <thead>\n",
       "    <tr style=\"text-align: right;\">\n",
       "      <th></th>\n",
       "      <th>country</th>\n",
       "      <th>coreness</th>\n",
       "      <th>out_degree</th>\n",
       "      <th>in_degree</th>\n",
       "      <th>rejected</th>\n",
       "      <th>open</th>\n",
       "    </tr>\n",
       "  </thead>\n",
       "  <tbody>\n",
       "    <tr>\n",
       "      <th>0</th>\n",
       "      <td>Denmark</td>\n",
       "      <td>1</td>\n",
       "      <td>0.0</td>\n",
       "      <td>3685.0</td>\n",
       "      <td>10179.0</td>\n",
       "      <td>26.579631</td>\n",
       "    </tr>\n",
       "    <tr>\n",
       "      <th>1</th>\n",
       "      <td>Ecuador</td>\n",
       "      <td>1</td>\n",
       "      <td>163.0</td>\n",
       "      <td>31987.0</td>\n",
       "      <td>38839.0</td>\n",
       "      <td>45.162793</td>\n",
       "    </tr>\n",
       "    <tr>\n",
       "      <th>2</th>\n",
       "      <td>Spain</td>\n",
       "      <td>1</td>\n",
       "      <td>16.0</td>\n",
       "      <td>1137.0</td>\n",
       "      <td>11965.0</td>\n",
       "      <td>8.678064</td>\n",
       "    </tr>\n",
       "    <tr>\n",
       "      <th>3</th>\n",
       "      <td>Sweden</td>\n",
       "      <td>1</td>\n",
       "      <td>9.0</td>\n",
       "      <td>13548.0</td>\n",
       "      <td>139848.0</td>\n",
       "      <td>8.832043</td>\n",
       "    </tr>\n",
       "    <tr>\n",
       "      <th>4</th>\n",
       "      <td>Switzerland</td>\n",
       "      <td>1</td>\n",
       "      <td>2.0</td>\n",
       "      <td>14535.0</td>\n",
       "      <td>18415.0</td>\n",
       "      <td>44.112291</td>\n",
       "    </tr>\n",
       "    <tr>\n",
       "      <th>...</th>\n",
       "      <td>...</td>\n",
       "      <td>...</td>\n",
       "      <td>...</td>\n",
       "      <td>...</td>\n",
       "      <td>...</td>\n",
       "      <td>...</td>\n",
       "    </tr>\n",
       "    <tr>\n",
       "      <th>220</th>\n",
       "      <td>United Rep. of Tanzania</td>\n",
       "      <td>0</td>\n",
       "      <td>225.0</td>\n",
       "      <td>162.0</td>\n",
       "      <td>27.0</td>\n",
       "      <td>85.714286</td>\n",
       "    </tr>\n",
       "    <tr>\n",
       "      <th>221</th>\n",
       "      <td>Svalbard and Jan Mayen</td>\n",
       "      <td>0</td>\n",
       "      <td>0.0</td>\n",
       "      <td>0.0</td>\n",
       "      <td>0.0</td>\n",
       "      <td>0.000000</td>\n",
       "    </tr>\n",
       "    <tr>\n",
       "      <th>222</th>\n",
       "      <td>Russian Federation</td>\n",
       "      <td>0</td>\n",
       "      <td>20428.0</td>\n",
       "      <td>2182.0</td>\n",
       "      <td>13537.0</td>\n",
       "      <td>13.881290</td>\n",
       "    </tr>\n",
       "    <tr>\n",
       "      <th>223</th>\n",
       "      <td>Lebanon</td>\n",
       "      <td>0</td>\n",
       "      <td>1068.0</td>\n",
       "      <td>1331.0</td>\n",
       "      <td>2119.0</td>\n",
       "      <td>38.579710</td>\n",
       "    </tr>\n",
       "    <tr>\n",
       "      <th>224</th>\n",
       "      <td>Iran (Islamic Rep. of)</td>\n",
       "      <td>0</td>\n",
       "      <td>35972.0</td>\n",
       "      <td>471.0</td>\n",
       "      <td>580.0</td>\n",
       "      <td>44.814462</td>\n",
       "    </tr>\n",
       "  </tbody>\n",
       "</table>\n",
       "<p>225 rows × 6 columns</p>\n",
       "</div>"
      ],
      "text/plain": [
       "                     country  coreness  out_degree  in_degree  rejected  \\\n",
       "0                    Denmark         1         0.0     3685.0   10179.0   \n",
       "1                    Ecuador         1       163.0    31987.0   38839.0   \n",
       "2                      Spain         1        16.0     1137.0   11965.0   \n",
       "3                     Sweden         1         9.0    13548.0  139848.0   \n",
       "4                Switzerland         1         2.0    14535.0   18415.0   \n",
       "..                       ...       ...         ...        ...       ...   \n",
       "220  United Rep. of Tanzania         0       225.0      162.0      27.0   \n",
       "221   Svalbard and Jan Mayen         0         0.0        0.0       0.0   \n",
       "222       Russian Federation         0     20428.0     2182.0   13537.0   \n",
       "223                  Lebanon         0      1068.0     1331.0    2119.0   \n",
       "224   Iran (Islamic Rep. of)         0     35972.0      471.0     580.0   \n",
       "\n",
       "          open  \n",
       "0    26.579631  \n",
       "1    45.162793  \n",
       "2     8.678064  \n",
       "3     8.832043  \n",
       "4    44.112291  \n",
       "..         ...  \n",
       "220  85.714286  \n",
       "221   0.000000  \n",
       "222  13.881290  \n",
       "223  38.579710  \n",
       "224  44.814462  \n",
       "\n",
       "[225 rows x 6 columns]"
      ]
     },
     "execution_count": 198,
     "metadata": {},
     "output_type": "execute_result"
    }
   ],
   "source": [
    "df_so_ano_inout = df_2008_2012_inout\n",
    "df_so_ano_inout"
   ]
  },
  {
   "cell_type": "markdown",
   "id": "4a6e83d0",
   "metadata": {},
   "source": [
    "#### Regressão\n",
    "\n",
    "Com os resultados obtidos no processo acima, obtivemos a tabela logo acima dessa célula, a df_so_ano_inout, correlacionando o valor do in_degree com o recorte proposto e, para podermos analisar se o recorte realmente faz sentido e faria com que a hipótese não corroborasse mais, precisamos realizar uma regressão linear, uma vez que a variável dependente (in_degree) é um valor contínuo (métrica)."
   ]
  },
  {
   "cell_type": "code",
   "execution_count": 199,
   "id": "7b14c8b8",
   "metadata": {
    "collapsed": true
   },
   "outputs": [
    {
     "data": {
      "text/html": [
       "<table class=\"simpletable\">\n",
       "<caption>OLS Regression Results</caption>\n",
       "<tr>\n",
       "  <th>Dep. Variable:</th>    <td>np.log1p(in_degree)</td> <th>  R-squared:         </th> <td>   0.722</td>\n",
       "</tr>\n",
       "<tr>\n",
       "  <th>Model:</th>                    <td>OLS</td>         <th>  Adj. R-squared:    </th> <td>   0.687</td>\n",
       "</tr>\n",
       "<tr>\n",
       "  <th>Method:</th>              <td>Least Squares</td>    <th>  F-statistic:       </th> <td>   20.74</td>\n",
       "</tr>\n",
       "<tr>\n",
       "  <th>Date:</th>              <td>Sun, 20 Nov 2022</td>   <th>  Prob (F-statistic):</th> <td>7.52e-07</td>\n",
       "</tr>\n",
       "<tr>\n",
       "  <th>Time:</th>                  <td>05:50:18</td>       <th>  Log-Likelihood:    </th> <td> -46.129</td>\n",
       "</tr>\n",
       "<tr>\n",
       "  <th>No. Observations:</th>       <td>    28</td>        <th>  AIC:               </th> <td>   100.3</td>\n",
       "</tr>\n",
       "<tr>\n",
       "  <th>Df Residuals:</th>           <td>    24</td>        <th>  BIC:               </th> <td>   105.6</td>\n",
       "</tr>\n",
       "<tr>\n",
       "  <th>Df Model:</th>               <td>     3</td>        <th>                     </th>     <td> </td>   \n",
       "</tr>\n",
       "<tr>\n",
       "  <th>Covariance Type:</th>       <td>nonrobust</td>      <th>                     </th>     <td> </td>   \n",
       "</tr>\n",
       "</table>\n",
       "<table class=\"simpletable\">\n",
       "<tr>\n",
       "       <td></td>         <th>coef</th>     <th>std err</th>      <th>t</th>      <th>P>|t|</th>  <th>[0.025</th>    <th>0.975]</th>  \n",
       "</tr>\n",
       "<tr>\n",
       "  <th>Intercept</th>  <td>    4.3242</td> <td>    0.526</td> <td>    8.226</td> <td> 0.000</td> <td>    3.239</td> <td>    5.409</td>\n",
       "</tr>\n",
       "<tr>\n",
       "  <th>open</th>       <td>    0.0483</td> <td>    0.020</td> <td>    2.402</td> <td> 0.024</td> <td>    0.007</td> <td>    0.090</td>\n",
       "</tr>\n",
       "<tr>\n",
       "  <th>coreness</th>   <td>    3.6927</td> <td>    0.596</td> <td>    6.200</td> <td> 0.000</td> <td>    2.464</td> <td>    4.922</td>\n",
       "</tr>\n",
       "<tr>\n",
       "  <th>out_degree</th> <td>    0.0019</td> <td>    0.002</td> <td>    1.001</td> <td> 0.327</td> <td>   -0.002</td> <td>    0.006</td>\n",
       "</tr>\n",
       "</table>\n",
       "<table class=\"simpletable\">\n",
       "<tr>\n",
       "  <th>Omnibus:</th>       <td> 3.944</td> <th>  Durbin-Watson:     </th> <td>   2.367</td>\n",
       "</tr>\n",
       "<tr>\n",
       "  <th>Prob(Omnibus):</th> <td> 0.139</td> <th>  Jarque-Bera (JB):  </th> <td>   1.739</td>\n",
       "</tr>\n",
       "<tr>\n",
       "  <th>Skew:</th>          <td>-0.243</td> <th>  Prob(JB):          </th> <td>   0.419</td>\n",
       "</tr>\n",
       "<tr>\n",
       "  <th>Kurtosis:</th>      <td> 1.880</td> <th>  Cond. No.          </th> <td>    468.</td>\n",
       "</tr>\n",
       "</table><br/><br/>Notes:<br/>[1] Standard Errors assume that the covariance matrix of the errors is correctly specified."
      ],
      "text/plain": [
       "<class 'statsmodels.iolib.summary.Summary'>\n",
       "\"\"\"\n",
       "                             OLS Regression Results                            \n",
       "===============================================================================\n",
       "Dep. Variable:     np.log1p(in_degree)   R-squared:                       0.722\n",
       "Model:                             OLS   Adj. R-squared:                  0.687\n",
       "Method:                  Least Squares   F-statistic:                     20.74\n",
       "Date:                 Sun, 20 Nov 2022   Prob (F-statistic):           7.52e-07\n",
       "Time:                         05:50:18   Log-Likelihood:                -46.129\n",
       "No. Observations:                   28   AIC:                             100.3\n",
       "Df Residuals:                       24   BIC:                             105.6\n",
       "Df Model:                            3                                         \n",
       "Covariance Type:             nonrobust                                         \n",
       "==============================================================================\n",
       "                 coef    std err          t      P>|t|      [0.025      0.975]\n",
       "------------------------------------------------------------------------------\n",
       "Intercept      4.3242      0.526      8.226      0.000       3.239       5.409\n",
       "open           0.0483      0.020      2.402      0.024       0.007       0.090\n",
       "coreness       3.6927      0.596      6.200      0.000       2.464       4.922\n",
       "out_degree     0.0019      0.002      1.001      0.327      -0.002       0.006\n",
       "==============================================================================\n",
       "Omnibus:                        3.944   Durbin-Watson:                   2.367\n",
       "Prob(Omnibus):                  0.139   Jarque-Bera (JB):                1.739\n",
       "Skew:                          -0.243   Prob(JB):                        0.419\n",
       "Kurtosis:                       1.880   Cond. No.                         468.\n",
       "==============================================================================\n",
       "\n",
       "Notes:\n",
       "[1] Standard Errors assume that the covariance matrix of the errors is correctly specified.\n",
       "\"\"\""
      ]
     },
     "execution_count": 199,
     "metadata": {},
     "output_type": "execute_result"
    }
   ],
   "source": [
    "result_hip5_so_ano = reg.linear(data=df_2008_2012_inout_eu_america, formula='np.log1p(in_degree) ~ open + coreness + out_degree')\n",
    "result_hip5_so_ano.summary()"
   ]
  },
  {
   "cell_type": "code",
   "execution_count": 200,
   "id": "26c3fa40",
   "metadata": {},
   "outputs": [
    {
     "data": {
      "text/html": [
       "<style type=\"text/css\">\n",
       "#T_00d86_row0_col0, #T_00d86_row1_col0, #T_00d86_row2_col0 {\n",
       "  font-family: monospace;\n",
       "  text-align: left;\n",
       "}\n",
       "</style>\n",
       "<table id=\"T_00d86\">\n",
       "  <thead>\n",
       "  </thead>\n",
       "  <tbody>\n",
       "    <tr>\n",
       "      <td id=\"T_00d86_row0_col0\" class=\"data row0 col0\" >+0.048 (0.020) **</td>\n",
       "    </tr>\n",
       "    <tr>\n",
       "      <td id=\"T_00d86_row1_col0\" class=\"data row1 col0\" >+3.693 (0.596) ***</td>\n",
       "    </tr>\n",
       "    <tr>\n",
       "      <td id=\"T_00d86_row2_col0\" class=\"data row2 col0\" >+0.002 (0.002)</td>\n",
       "    </tr>\n",
       "  </tbody>\n",
       "</table>\n"
      ],
      "text/plain": [
       "<pandas.io.formats.style.Styler at 0x7f0dac14da50>"
      ]
     },
     "execution_count": 200,
     "metadata": {},
     "output_type": "execute_result"
    }
   ],
   "source": [
    "result_hip5_so_ano.nano_summary()"
   ]
  },
  {
   "cell_type": "code",
   "execution_count": 201,
   "id": "bc9e21c6",
   "metadata": {
    "collapsed": true
   },
   "outputs": [
    {
     "data": {
      "image/png": "[encoded data removed]",
      "text/plain": [
       "<Figure size 1280x480 with 2 Axes>"
      ]
     },
     "metadata": {},
     "output_type": "display_data"
    }
   ],
   "source": [
    "result_hip5_so_ano.plot_residuals()"
   ]
  },
  {
   "cell_type": "code",
   "execution_count": null,
   "id": "3a0afd72",
   "metadata": {},
   "outputs": [],
   "source": []
  }
 ],
 "metadata": {
  "kernelspec": {
   "display_name": "Python 3 (ipykernel)",
   "language": "python",
   "name": "python3"
  },
  "language_info": {
   "codemirror_mode": {
    "name": "ipython",
    "version": 3
   },
   "file_extension": ".py",
   "mimetype": "text/x-python",
   "name": "python",
   "nbconvert_exporter": "python",
   "pygments_lexer": "ipython3",
   "version": "3.10.6"
  }
 },
 "nbformat": 4,
 "nbformat_minor": 5
}
