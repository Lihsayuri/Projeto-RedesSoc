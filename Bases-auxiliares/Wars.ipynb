{
 "cells": [
  {
   "cell_type": "markdown",
   "id": "f74b342d",
   "metadata": {},
   "source": [
    "## FONTE\n",
    "\n",
    "https://correlatesofwar.org/data-sets/cow-war/"
   ]
  },
  {
   "cell_type": "code",
   "execution_count": 5,
   "id": "b5e65f0b",
   "metadata": {},
   "outputs": [],
   "source": [
    "import pandas as pd"
   ]
  },
  {
   "cell_type": "code",
   "execution_count": 8,
   "id": "f4b16358",
   "metadata": {},
   "outputs": [],
   "source": [
    "df_wars = pd.read_csv(\"./raw-files/Wars.csv\")"
   ]
  },
  {
   "cell_type": "code",
   "execution_count": 9,
   "id": "cbcd22d2",
   "metadata": {},
   "outputs": [
    {
     "data": {
      "text/html": [
       "<div>\n",
       "<style scoped>\n",
       "    .dataframe tbody tr th:only-of-type {\n",
       "        vertical-align: middle;\n",
       "    }\n",
       "\n",
       "    .dataframe tbody tr th {\n",
       "        vertical-align: top;\n",
       "    }\n",
       "\n",
       "    .dataframe thead th {\n",
       "        text-align: right;\n",
       "    }\n",
       "</style>\n",
       "<table border=\"1\" class=\"dataframe\">\n",
       "  <thead>\n",
       "    <tr style=\"text-align: right;\">\n",
       "      <th></th>\n",
       "      <th>WarNum</th>\n",
       "      <th>WarName</th>\n",
       "      <th>V5RegionNum</th>\n",
       "      <th>WarType</th>\n",
       "      <th>CcodeA</th>\n",
       "      <th>SideA</th>\n",
       "      <th>SideB</th>\n",
       "      <th>Intnl</th>\n",
       "      <th>StartMo1</th>\n",
       "      <th>StartDy1</th>\n",
       "      <th>...</th>\n",
       "      <th>WDuratMo</th>\n",
       "      <th>TotNatMonWar</th>\n",
       "      <th>TransFrom</th>\n",
       "      <th>Initiator</th>\n",
       "      <th>Outcome</th>\n",
       "      <th>TransTo</th>\n",
       "      <th>DeathsSideA</th>\n",
       "      <th>DeathsSideB</th>\n",
       "      <th>TotalBDeaths</th>\n",
       "      <th>Version</th>\n",
       "    </tr>\n",
       "  </thead>\n",
       "  <tbody>\n",
       "    <tr>\n",
       "      <th>0</th>\n",
       "      <td>500.0</td>\n",
       "      <td>First Caucasus War of 1818-1822</td>\n",
       "      <td>3</td>\n",
       "      <td>5</td>\n",
       "      <td>365</td>\n",
       "      <td>Russia</td>\n",
       "      <td>Caucasus Rebels</td>\n",
       "      <td>0</td>\n",
       "      <td>6</td>\n",
       "      <td>10</td>\n",
       "      <td>...</td>\n",
       "      <td>53.20</td>\n",
       "      <td>53.20</td>\n",
       "      <td>-8</td>\n",
       "      <td>Chechnya</td>\n",
       "      <td>1</td>\n",
       "      <td>-8.0</td>\n",
       "      <td>5000</td>\n",
       "      <td>6000</td>\n",
       "      <td>11000</td>\n",
       "      <td>5.1</td>\n",
       "    </tr>\n",
       "    <tr>\n",
       "      <th>1</th>\n",
       "      <td>502.0</td>\n",
       "      <td>First Two Sicilies War of 1820-1821</td>\n",
       "      <td>3</td>\n",
       "      <td>4</td>\n",
       "      <td>329</td>\n",
       "      <td>Two Sicilies</td>\n",
       "      <td>Liberals</td>\n",
       "      <td>1</td>\n",
       "      <td>7</td>\n",
       "      <td>2</td>\n",
       "      <td>...</td>\n",
       "      <td>8.73</td>\n",
       "      <td>9.03</td>\n",
       "      <td>-8</td>\n",
       "      <td>Liberals</td>\n",
       "      <td>1</td>\n",
       "      <td>-8.0</td>\n",
       "      <td>-9</td>\n",
       "      <td>-9</td>\n",
       "      <td>2000</td>\n",
       "      <td>5.1</td>\n",
       "    </tr>\n",
       "    <tr>\n",
       "      <th>2</th>\n",
       "      <td>502.1</td>\n",
       "      <td>Ali Pasha Rebellion of 1820-1822</td>\n",
       "      <td>3</td>\n",
       "      <td>5</td>\n",
       "      <td>640</td>\n",
       "      <td>Ottoman Empire</td>\n",
       "      <td>Ali Pasha Loyalists</td>\n",
       "      <td>0</td>\n",
       "      <td>7</td>\n",
       "      <td>-9</td>\n",
       "      <td>...</td>\n",
       "      <td>18.33</td>\n",
       "      <td>18.33</td>\n",
       "      <td>-8</td>\n",
       "      <td>Ottoman Empire</td>\n",
       "      <td>1</td>\n",
       "      <td>-8.0</td>\n",
       "      <td>-9</td>\n",
       "      <td>-9</td>\n",
       "      <td>2000</td>\n",
       "      <td>5.1</td>\n",
       "    </tr>\n",
       "    <tr>\n",
       "      <th>3</th>\n",
       "      <td>503.0</td>\n",
       "      <td>Sardinian Revolt of 1821</td>\n",
       "      <td>3</td>\n",
       "      <td>4</td>\n",
       "      <td>325</td>\n",
       "      <td>Sardinia</td>\n",
       "      <td>Piedmont Liberals</td>\n",
       "      <td>1</td>\n",
       "      <td>3</td>\n",
       "      <td>10</td>\n",
       "      <td>...</td>\n",
       "      <td>1.97</td>\n",
       "      <td>3.03</td>\n",
       "      <td>-8</td>\n",
       "      <td>Liberals</td>\n",
       "      <td>1</td>\n",
       "      <td>-8.0</td>\n",
       "      <td>-9</td>\n",
       "      <td>-9</td>\n",
       "      <td>1000</td>\n",
       "      <td>5.1</td>\n",
       "    </tr>\n",
       "    <tr>\n",
       "      <th>4</th>\n",
       "      <td>504.0</td>\n",
       "      <td>Greek Independence War of 1821-1828</td>\n",
       "      <td>3</td>\n",
       "      <td>5</td>\n",
       "      <td>640</td>\n",
       "      <td>Ottoman Empire</td>\n",
       "      <td>Greeks</td>\n",
       "      <td>1</td>\n",
       "      <td>3</td>\n",
       "      <td>25</td>\n",
       "      <td>...</td>\n",
       "      <td>85.03</td>\n",
       "      <td>91.77</td>\n",
       "      <td>-8</td>\n",
       "      <td>Greeks</td>\n",
       "      <td>4</td>\n",
       "      <td>4.0</td>\n",
       "      <td>50000</td>\n",
       "      <td>15177</td>\n",
       "      <td>65177</td>\n",
       "      <td>5.1</td>\n",
       "    </tr>\n",
       "  </tbody>\n",
       "</table>\n",
       "<p>5 rows × 43 columns</p>\n",
       "</div>"
      ],
      "text/plain": [
       "   WarNum                              WarName  V5RegionNum  WarType  CcodeA  \\\n",
       "0   500.0      First Caucasus War of 1818-1822            3        5     365   \n",
       "1   502.0  First Two Sicilies War of 1820-1821            3        4     329   \n",
       "2   502.1     Ali Pasha Rebellion of 1820-1822            3        5     640   \n",
       "3   503.0             Sardinian Revolt of 1821            3        4     325   \n",
       "4   504.0  Greek Independence War of 1821-1828            3        5     640   \n",
       "\n",
       "            SideA                SideB  Intnl  StartMo1  StartDy1  ...  \\\n",
       "0          Russia      Caucasus Rebels      0         6        10  ...   \n",
       "1    Two Sicilies             Liberals      1         7         2  ...   \n",
       "2  Ottoman Empire  Ali Pasha Loyalists      0         7        -9  ...   \n",
       "3        Sardinia    Piedmont Liberals      1         3        10  ...   \n",
       "4  Ottoman Empire               Greeks      1         3        25  ...   \n",
       "\n",
       "   WDuratMo  TotNatMonWar TransFrom       Initiator  Outcome  TransTo  \\\n",
       "0     53.20         53.20        -8        Chechnya        1     -8.0   \n",
       "1      8.73          9.03        -8        Liberals        1     -8.0   \n",
       "2     18.33         18.33        -8  Ottoman Empire        1     -8.0   \n",
       "3      1.97          3.03        -8        Liberals        1     -8.0   \n",
       "4     85.03         91.77        -8          Greeks        4      4.0   \n",
       "\n",
       "   DeathsSideA  DeathsSideB  TotalBDeaths  Version  \n",
       "0         5000         6000         11000      5.1  \n",
       "1           -9           -9          2000      5.1  \n",
       "2           -9           -9          2000      5.1  \n",
       "3           -9           -9          1000      5.1  \n",
       "4        50000        15177         65177      5.1  \n",
       "\n",
       "[5 rows x 43 columns]"
      ]
     },
     "execution_count": 9,
     "metadata": {},
     "output_type": "execute_result"
    }
   ],
   "source": [
    "df_wars.head()"
   ]
  },
  {
   "cell_type": "code",
   "execution_count": 10,
   "id": "f7c0d74a",
   "metadata": {},
   "outputs": [
    {
     "data": {
      "text/plain": [
       "Index(['WarNum', 'WarName', 'V5RegionNum', 'WarType', 'CcodeA', 'SideA',\n",
       "       'SideB', 'Intnl', 'StartMo1', 'StartDy1', 'StartYr1', 'EndMo1',\n",
       "       'EndDy1', 'EndYr1', 'StartMo2', 'StartDy2', 'StartYr2', 'EndMo2',\n",
       "       'EndDy2', 'EndYr2', 'StartMo3', 'StartDy3', 'StartYr3', 'EndMo3',\n",
       "       'EndDy3', 'EndYr3', 'StartMo4', 'StartDy4', 'StartYr4', 'EndMo4',\n",
       "       'EndDy4', 'EndYr4', 'WDuratDays', 'WDuratMo', 'TotNatMonWar',\n",
       "       'TransFrom', 'Initiator', 'Outcome', 'TransTo', 'DeathsSideA',\n",
       "       'DeathsSideB', 'TotalBDeaths', 'Version'],\n",
       "      dtype='object')"
      ]
     },
     "execution_count": 10,
     "metadata": {},
     "output_type": "execute_result"
    }
   ],
   "source": [
    "df_wars.columns"
   ]
  },
  {
   "cell_type": "code",
   "execution_count": 11,
   "id": "14cc4161",
   "metadata": {},
   "outputs": [
    {
     "data": {
      "text/plain": [
       "0      1818\n",
       "1      1820\n",
       "2      1820\n",
       "3      1821\n",
       "4      1821\n",
       "       ... \n",
       "415    2014\n",
       "416    2014\n",
       "417    2014\n",
       "418    2014\n",
       "419    2014\n",
       "Name: StartYr1, Length: 420, dtype: int64"
      ]
     },
     "execution_count": 11,
     "metadata": {},
     "output_type": "execute_result"
    }
   ],
   "source": [
    "df_wars.StartYr1"
   ]
  },
  {
   "cell_type": "code",
   "execution_count": 19,
   "id": "b1ac5bbf",
   "metadata": {},
   "outputs": [],
   "source": [
    "filters = (df_wars.StartYr1 > 2000) | (df_wars.EndYr1 > 2000) | (df_wars.EndYr2 > 2000) | (df_wars.EndYr3 > 2000) | (df_wars.EndYr4 > 2000)\n"
   ]
  },
  {
   "cell_type": "code",
   "execution_count": 20,
   "id": "f8ce172a",
   "metadata": {},
   "outputs": [],
   "source": [
    "df_war_filtered_by_2000 = df_wars.loc[filters, :]"
   ]
  },
  {
   "cell_type": "code",
   "execution_count": 21,
   "id": "7db472c4",
   "metadata": {},
   "outputs": [],
   "source": [
    "lista_conflitos = df_war_filtered_by_2000.SideA.tolist()\n",
    "lista_paises = df_war_filtered_by_2000.SideA.unique().tolist()"
   ]
  },
  {
   "cell_type": "code",
   "execution_count": 22,
   "id": "fe8bc7e0",
   "metadata": {},
   "outputs": [],
   "source": [
    "dic_contagem_guerras = {\"country_name\": [], \"n_wars\": []}\n",
    "for pais in lista_paises:\n",
    "    dic_contagem_guerras[\"country_name\"].append(pais)\n",
    "    dic_contagem_guerras[\"n_wars\"].append(lista_conflitos.count(pais))"
   ]
  },
  {
   "cell_type": "code",
   "execution_count": 25,
   "id": "caa132c7",
   "metadata": {},
   "outputs": [
    {
     "data": {
      "text/html": [
       "<div>\n",
       "<style scoped>\n",
       "    .dataframe tbody tr th:only-of-type {\n",
       "        vertical-align: middle;\n",
       "    }\n",
       "\n",
       "    .dataframe tbody tr th {\n",
       "        vertical-align: top;\n",
       "    }\n",
       "\n",
       "    .dataframe thead th {\n",
       "        text-align: right;\n",
       "    }\n",
       "</style>\n",
       "<table border=\"1\" class=\"dataframe\">\n",
       "  <thead>\n",
       "    <tr style=\"text-align: right;\">\n",
       "      <th></th>\n",
       "      <th>country_name</th>\n",
       "      <th>n_wars</th>\n",
       "    </tr>\n",
       "  </thead>\n",
       "  <tbody>\n",
       "    <tr>\n",
       "      <th>0</th>\n",
       "      <td>Sudan</td>\n",
       "      <td>3</td>\n",
       "    </tr>\n",
       "    <tr>\n",
       "      <th>1</th>\n",
       "      <td>Sri Lanka</td>\n",
       "      <td>2</td>\n",
       "    </tr>\n",
       "    <tr>\n",
       "      <th>2</th>\n",
       "      <td>India</td>\n",
       "      <td>1</td>\n",
       "    </tr>\n",
       "    <tr>\n",
       "      <th>3</th>\n",
       "      <td>Algeria</td>\n",
       "      <td>1</td>\n",
       "    </tr>\n",
       "    <tr>\n",
       "      <th>4</th>\n",
       "      <td>Afghanistan</td>\n",
       "      <td>2</td>\n",
       "    </tr>\n",
       "  </tbody>\n",
       "</table>\n",
       "</div>"
      ],
      "text/plain": [
       "  country_name  n_wars\n",
       "0        Sudan       3\n",
       "1    Sri Lanka       2\n",
       "2        India       1\n",
       "3      Algeria       1\n",
       "4  Afghanistan       2"
      ]
     },
     "execution_count": 25,
     "metadata": {},
     "output_type": "execute_result"
    }
   ],
   "source": [
    "df_filtrado = pd.DataFrame(dic_contagem_guerras)\n",
    "df_filtrado.head()"
   ]
  },
  {
   "cell_type": "code",
   "execution_count": 27,
   "id": "4d719faf",
   "metadata": {},
   "outputs": [],
   "source": [
    "df_filtrado.to_csv(\"./output-files/Wars.csv\")"
   ]
  },
  {
   "cell_type": "code",
   "execution_count": null,
   "id": "ecebdc36",
   "metadata": {},
   "outputs": [],
   "source": []
  }
 ],
 "metadata": {
  "kernelspec": {
   "display_name": "Python 3 (ipykernel)",
   "language": "python",
   "name": "python3"
  },
  "language_info": {
   "codemirror_mode": {
    "name": "ipython",
    "version": 3
   },
   "file_extension": ".py",
   "mimetype": "text/x-python",
   "name": "python",
   "nbconvert_exporter": "python",
   "pygments_lexer": "ipython3",
   "version": "3.9.7"
  }
 },
 "nbformat": 4,
 "nbformat_minor": 5
}
